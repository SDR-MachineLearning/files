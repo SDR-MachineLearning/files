{
 "cells": [
  {
   "cell_type": "code",
   "execution_count": 1,
   "metadata": {},
   "outputs": [
    {
     "name": "stdout",
     "output_type": "stream",
     "text": [
      "Checking whether there is an H2O instance running at http://localhost:54321. connected.\n"
     ]
    },
    {
     "data": {
      "text/html": [
       "<div style=\"overflow:auto\"><table style=\"width:50%\"><tr><td>H2O cluster uptime:</td>\n",
       "<td>15 hours 35 mins</td></tr>\n",
       "<tr><td>H2O cluster version:</td>\n",
       "<td>3.12.0.1</td></tr>\n",
       "<tr><td>H2O cluster version age:</td>\n",
       "<td>22 days </td></tr>\n",
       "<tr><td>H2O cluster name:</td>\n",
       "<td>H2O_from_python_zhaorc_9ea5bz</td></tr>\n",
       "<tr><td>H2O cluster total nodes:</td>\n",
       "<td>1</td></tr>\n",
       "<tr><td>H2O cluster free memory:</td>\n",
       "<td>3.944 Gb</td></tr>\n",
       "<tr><td>H2O cluster total cores:</td>\n",
       "<td>4</td></tr>\n",
       "<tr><td>H2O cluster allowed cores:</td>\n",
       "<td>4</td></tr>\n",
       "<tr><td>H2O cluster status:</td>\n",
       "<td>locked, healthy</td></tr>\n",
       "<tr><td>H2O connection url:</td>\n",
       "<td>http://localhost:54321</td></tr>\n",
       "<tr><td>H2O connection proxy:</td>\n",
       "<td>None</td></tr>\n",
       "<tr><td>H2O internal security:</td>\n",
       "<td>False</td></tr>\n",
       "<tr><td>Python version:</td>\n",
       "<td>3.5.2 final</td></tr></table></div>"
      ],
      "text/plain": [
       "--------------------------  -----------------------------\n",
       "H2O cluster uptime:         15 hours 35 mins\n",
       "H2O cluster version:        3.12.0.1\n",
       "H2O cluster version age:    22 days\n",
       "H2O cluster name:           H2O_from_python_zhaorc_9ea5bz\n",
       "H2O cluster total nodes:    1\n",
       "H2O cluster free memory:    3.944 Gb\n",
       "H2O cluster total cores:    4\n",
       "H2O cluster allowed cores:  4\n",
       "H2O cluster status:         locked, healthy\n",
       "H2O connection url:         http://localhost:54321\n",
       "H2O connection proxy:\n",
       "H2O internal security:      False\n",
       "Python version:             3.5.2 final\n",
       "--------------------------  -----------------------------"
      ]
     },
     "metadata": {},
     "output_type": "display_data"
    },
    {
     "name": "stderr",
     "output_type": "stream",
     "text": [
      "//anaconda/lib/python3.5/site-packages/IPython/core/interactiveshell.py:2862: FutureWarning: \n",
      "mpl_style had been deprecated and will be removed in a future version.\n",
      "Use `matplotlib.pyplot.style.use` instead.\n",
      "\n",
      "  exec(code_obj, self.user_global_ns, self.user_ns)\n"
     ]
    }
   ],
   "source": [
    "import h2o\n",
    "from h2o.estimators.glrm import H2OGeneralizedLowRankEstimator\n",
    "from h2o.estimators.gbm import H2OGradientBoostingEstimator \n",
    "from h2o.estimators.random_forest import H2ORandomForestEstimator\n",
    "from h2o.grid.grid_search import H2OGridSearch \n",
    "from h2o.estimators.xgboost import H2OXGBoostEstimator\n",
    "from h2o.estimators.stackedensemble import H2OStackedEnsembleEstimator\n",
    "#import xgboost as xgb\n",
    "h2o.init(max_mem_size='6G') # give h2o as much memory as possible\n",
    "h2o.no_progress() # turn off h2o progress bars\n",
    "import numpy as np\n",
    "import pandas as pd\n",
    "import matplotlib.pyplot as plt\n",
    "from scipy.stats.mstats import winsorize\n",
    "import matplotlib.pyplot as plt\n",
    "pd.options.display.mpl_style = 'default'\n",
    "from pandas.tools.plotting import scatter_matrix\n",
    "import seaborn as sns\n",
    "sns.set()"
   ]
  },
  {
   "cell_type": "markdown",
   "metadata": {},
   "source": [
    "### Import Data & Create Sales Price Dummy Column in Test Dataset"
   ]
  },
  {
   "cell_type": "code",
   "execution_count": 29,
   "metadata": {
    "scrolled": true
   },
   "outputs": [],
   "source": [
    "target = h2o.import_file('/Users/zhaorc/Desktop/ML/train_2016_v2.csv')\n",
    "target.describe()\n",
    "print('=======================================')\n",
    "prop=h2o.import_file('/Users/zhaorc/Desktop/ML/properties_2016.csv')\n",
    "prop.describe()"
   ]
  },
  {
   "cell_type": "code",
   "execution_count": 30,
   "metadata": {
    "scrolled": true
   },
   "outputs": [],
   "source": [
    "prop=prop.as_data_frame()\n",
    "target=target.as_data_frame()"
   ]
  },
  {
   "cell_type": "code",
   "execution_count": 32,
   "metadata": {},
   "outputs": [
    {
     "data": {
      "text/html": [
       "<div>\n",
       "<table border=\"1\" class=\"dataframe\">\n",
       "  <thead>\n",
       "    <tr style=\"text-align: right;\">\n",
       "      <th></th>\n",
       "      <th>parcelid</th>\n",
       "      <th>logerror</th>\n",
       "      <th>transactiondate</th>\n",
       "      <th>airconditioningtypeid</th>\n",
       "      <th>architecturalstyletypeid</th>\n",
       "      <th>basementsqft</th>\n",
       "      <th>bathroomcnt</th>\n",
       "      <th>bedroomcnt</th>\n",
       "      <th>buildingclasstypeid</th>\n",
       "      <th>buildingqualitytypeid</th>\n",
       "      <th>...</th>\n",
       "      <th>numberofstories</th>\n",
       "      <th>fireplaceflag</th>\n",
       "      <th>structuretaxvaluedollarcnt</th>\n",
       "      <th>taxvaluedollarcnt</th>\n",
       "      <th>assessmentyear</th>\n",
       "      <th>landtaxvaluedollarcnt</th>\n",
       "      <th>taxamount</th>\n",
       "      <th>taxdelinquencyflag</th>\n",
       "      <th>taxdelinquencyyear</th>\n",
       "      <th>censustractandblock</th>\n",
       "    </tr>\n",
       "  </thead>\n",
       "  <tbody>\n",
       "    <tr>\n",
       "      <th>0</th>\n",
       "      <td>11016594</td>\n",
       "      <td>0.0276</td>\n",
       "      <td>1451606400000</td>\n",
       "      <td>1.0</td>\n",
       "      <td>NaN</td>\n",
       "      <td>NaN</td>\n",
       "      <td>2.0</td>\n",
       "      <td>3.0</td>\n",
       "      <td>NaN</td>\n",
       "      <td>4.0</td>\n",
       "      <td>...</td>\n",
       "      <td>NaN</td>\n",
       "      <td>NaN</td>\n",
       "      <td>122754.0</td>\n",
       "      <td>360170.0</td>\n",
       "      <td>2015.0</td>\n",
       "      <td>237416.0</td>\n",
       "      <td>6735.88</td>\n",
       "      <td>NaN</td>\n",
       "      <td>NaN</td>\n",
       "      <td>6.037107e+13</td>\n",
       "    </tr>\n",
       "    <tr>\n",
       "      <th>1</th>\n",
       "      <td>14366692</td>\n",
       "      <td>-0.1684</td>\n",
       "      <td>1451606400000</td>\n",
       "      <td>NaN</td>\n",
       "      <td>NaN</td>\n",
       "      <td>NaN</td>\n",
       "      <td>3.5</td>\n",
       "      <td>4.0</td>\n",
       "      <td>NaN</td>\n",
       "      <td>NaN</td>\n",
       "      <td>...</td>\n",
       "      <td>NaN</td>\n",
       "      <td>NaN</td>\n",
       "      <td>346458.0</td>\n",
       "      <td>585529.0</td>\n",
       "      <td>2015.0</td>\n",
       "      <td>239071.0</td>\n",
       "      <td>10153.02</td>\n",
       "      <td>NaN</td>\n",
       "      <td>NaN</td>\n",
       "      <td>NaN</td>\n",
       "    </tr>\n",
       "    <tr>\n",
       "      <th>2</th>\n",
       "      <td>12098116</td>\n",
       "      <td>-0.0040</td>\n",
       "      <td>1451606400000</td>\n",
       "      <td>1.0</td>\n",
       "      <td>NaN</td>\n",
       "      <td>NaN</td>\n",
       "      <td>3.0</td>\n",
       "      <td>2.0</td>\n",
       "      <td>NaN</td>\n",
       "      <td>4.0</td>\n",
       "      <td>...</td>\n",
       "      <td>NaN</td>\n",
       "      <td>NaN</td>\n",
       "      <td>61994.0</td>\n",
       "      <td>119906.0</td>\n",
       "      <td>2015.0</td>\n",
       "      <td>57912.0</td>\n",
       "      <td>11484.48</td>\n",
       "      <td>NaN</td>\n",
       "      <td>NaN</td>\n",
       "      <td>6.037464e+13</td>\n",
       "    </tr>\n",
       "    <tr>\n",
       "      <th>3</th>\n",
       "      <td>12643413</td>\n",
       "      <td>0.0218</td>\n",
       "      <td>1451692800000</td>\n",
       "      <td>1.0</td>\n",
       "      <td>NaN</td>\n",
       "      <td>NaN</td>\n",
       "      <td>2.0</td>\n",
       "      <td>2.0</td>\n",
       "      <td>NaN</td>\n",
       "      <td>4.0</td>\n",
       "      <td>...</td>\n",
       "      <td>NaN</td>\n",
       "      <td>NaN</td>\n",
       "      <td>171518.0</td>\n",
       "      <td>244880.0</td>\n",
       "      <td>2015.0</td>\n",
       "      <td>73362.0</td>\n",
       "      <td>3048.74</td>\n",
       "      <td>NaN</td>\n",
       "      <td>NaN</td>\n",
       "      <td>6.037296e+13</td>\n",
       "    </tr>\n",
       "    <tr>\n",
       "      <th>4</th>\n",
       "      <td>14432541</td>\n",
       "      <td>-0.0050</td>\n",
       "      <td>1451692800000</td>\n",
       "      <td>NaN</td>\n",
       "      <td>NaN</td>\n",
       "      <td>NaN</td>\n",
       "      <td>2.5</td>\n",
       "      <td>4.0</td>\n",
       "      <td>NaN</td>\n",
       "      <td>NaN</td>\n",
       "      <td>...</td>\n",
       "      <td>2.0</td>\n",
       "      <td>NaN</td>\n",
       "      <td>169574.0</td>\n",
       "      <td>434551.0</td>\n",
       "      <td>2015.0</td>\n",
       "      <td>264977.0</td>\n",
       "      <td>5488.96</td>\n",
       "      <td>NaN</td>\n",
       "      <td>NaN</td>\n",
       "      <td>6.059042e+13</td>\n",
       "    </tr>\n",
       "  </tbody>\n",
       "</table>\n",
       "<p>5 rows × 60 columns</p>\n",
       "</div>"
      ],
      "text/plain": [
       "   parcelid  logerror  transactiondate  airconditioningtypeid  \\\n",
       "0  11016594    0.0276    1451606400000                    1.0   \n",
       "1  14366692   -0.1684    1451606400000                    NaN   \n",
       "2  12098116   -0.0040    1451606400000                    1.0   \n",
       "3  12643413    0.0218    1451692800000                    1.0   \n",
       "4  14432541   -0.0050    1451692800000                    NaN   \n",
       "\n",
       "   architecturalstyletypeid  basementsqft  bathroomcnt  bedroomcnt  \\\n",
       "0                       NaN           NaN          2.0         3.0   \n",
       "1                       NaN           NaN          3.5         4.0   \n",
       "2                       NaN           NaN          3.0         2.0   \n",
       "3                       NaN           NaN          2.0         2.0   \n",
       "4                       NaN           NaN          2.5         4.0   \n",
       "\n",
       "   buildingclasstypeid  buildingqualitytypeid         ...           \\\n",
       "0                  NaN                    4.0         ...            \n",
       "1                  NaN                    NaN         ...            \n",
       "2                  NaN                    4.0         ...            \n",
       "3                  NaN                    4.0         ...            \n",
       "4                  NaN                    NaN         ...            \n",
       "\n",
       "   numberofstories  fireplaceflag  structuretaxvaluedollarcnt  \\\n",
       "0              NaN            NaN                    122754.0   \n",
       "1              NaN            NaN                    346458.0   \n",
       "2              NaN            NaN                     61994.0   \n",
       "3              NaN            NaN                    171518.0   \n",
       "4              2.0            NaN                    169574.0   \n",
       "\n",
       "   taxvaluedollarcnt  assessmentyear  landtaxvaluedollarcnt  taxamount  \\\n",
       "0           360170.0          2015.0               237416.0    6735.88   \n",
       "1           585529.0          2015.0               239071.0   10153.02   \n",
       "2           119906.0          2015.0                57912.0   11484.48   \n",
       "3           244880.0          2015.0                73362.0    3048.74   \n",
       "4           434551.0          2015.0               264977.0    5488.96   \n",
       "\n",
       "   taxdelinquencyflag  taxdelinquencyyear  censustractandblock  \n",
       "0                 NaN                 NaN         6.037107e+13  \n",
       "1                 NaN                 NaN                  NaN  \n",
       "2                 NaN                 NaN         6.037464e+13  \n",
       "3                 NaN                 NaN         6.037296e+13  \n",
       "4                 NaN                 NaN         6.059042e+13  \n",
       "\n",
       "[5 rows x 60 columns]"
      ]
     },
     "execution_count": 32,
     "metadata": {},
     "output_type": "execute_result"
    }
   ],
   "source": [
    "train_df = pd.merge(target, prop, on='parcelid', how='left')\n",
    "train_df.head()"
   ]
  },
  {
   "cell_type": "code",
   "execution_count": 33,
   "metadata": {},
   "outputs": [
    {
     "data": {
      "text/html": [
       "<div>\n",
       "<table border=\"1\" class=\"dataframe\">\n",
       "  <thead>\n",
       "    <tr style=\"text-align: right;\">\n",
       "      <th></th>\n",
       "      <th>column_name</th>\n",
       "      <th>missing_count</th>\n",
       "      <th>missing_ratio</th>\n",
       "    </tr>\n",
       "  </thead>\n",
       "  <tbody>\n",
       "    <tr>\n",
       "      <th>4</th>\n",
       "      <td>architecturalstyletypeid</td>\n",
       "      <td>90014</td>\n",
       "      <td>0.997109</td>\n",
       "    </tr>\n",
       "    <tr>\n",
       "      <th>5</th>\n",
       "      <td>basementsqft</td>\n",
       "      <td>90232</td>\n",
       "      <td>0.999524</td>\n",
       "    </tr>\n",
       "    <tr>\n",
       "      <th>8</th>\n",
       "      <td>buildingclasstypeid</td>\n",
       "      <td>90259</td>\n",
       "      <td>0.999823</td>\n",
       "    </tr>\n",
       "    <tr>\n",
       "      <th>11</th>\n",
       "      <td>decktypeid</td>\n",
       "      <td>89617</td>\n",
       "      <td>0.992711</td>\n",
       "    </tr>\n",
       "    <tr>\n",
       "      <th>15</th>\n",
       "      <td>finishedsquarefeet13</td>\n",
       "      <td>90242</td>\n",
       "      <td>0.999634</td>\n",
       "    </tr>\n",
       "    <tr>\n",
       "      <th>18</th>\n",
       "      <td>finishedsquarefeet6</td>\n",
       "      <td>89854</td>\n",
       "      <td>0.995336</td>\n",
       "    </tr>\n",
       "    <tr>\n",
       "      <th>43</th>\n",
       "      <td>storytypeid</td>\n",
       "      <td>90232</td>\n",
       "      <td>0.999524</td>\n",
       "    </tr>\n",
       "    <tr>\n",
       "      <th>45</th>\n",
       "      <td>typeconstructiontypeid</td>\n",
       "      <td>89976</td>\n",
       "      <td>0.996688</td>\n",
       "    </tr>\n",
       "    <tr>\n",
       "      <th>48</th>\n",
       "      <td>yardbuildingsqft26</td>\n",
       "      <td>90180</td>\n",
       "      <td>0.998948</td>\n",
       "    </tr>\n",
       "    <tr>\n",
       "      <th>51</th>\n",
       "      <td>fireplaceflag</td>\n",
       "      <td>90053</td>\n",
       "      <td>0.997541</td>\n",
       "    </tr>\n",
       "  </tbody>\n",
       "</table>\n",
       "</div>"
      ],
      "text/plain": [
       "                 column_name  missing_count  missing_ratio\n",
       "4   architecturalstyletypeid          90014       0.997109\n",
       "5               basementsqft          90232       0.999524\n",
       "8        buildingclasstypeid          90259       0.999823\n",
       "11                decktypeid          89617       0.992711\n",
       "15      finishedsquarefeet13          90242       0.999634\n",
       "18       finishedsquarefeet6          89854       0.995336\n",
       "43               storytypeid          90232       0.999524\n",
       "45    typeconstructiontypeid          89976       0.996688\n",
       "48        yardbuildingsqft26          90180       0.998948\n",
       "51             fireplaceflag          90053       0.997541"
      ]
     },
     "execution_count": 33,
     "metadata": {},
     "output_type": "execute_result"
    }
   ],
   "source": [
    "missing_df = train_df.isnull().sum(axis=0).reset_index()\n",
    "missing_df.columns = ['column_name', 'missing_count']\n",
    "missing_df['missing_ratio'] = missing_df['missing_count'] / train_df.shape[0]\n",
    "missing_df.ix[missing_df['missing_ratio']>0.99]"
   ]
  },
  {
   "cell_type": "markdown",
   "metadata": {},
   "source": [
    "#### Dropping the variables that has more than 0.99 missing values."
   ]
  },
  {
   "cell_type": "code",
   "execution_count": 115,
   "metadata": {
    "scrolled": true
   },
   "outputs": [],
   "source": [
    "train_df=train_df.drop(['architecturalstyletypeid','basementsqft','buildingclasstypeid','decktypeid','finishedsquarefeet13','finishedsquarefeet6','storytypeid','typeconstructiontypeid','yardbuildingsqft26','fireplaceflag'],axis=1)"
   ]
  },
  {
   "cell_type": "code",
   "execution_count": 116,
   "metadata": {},
   "outputs": [
    {
     "data": {
      "text/plain": [
       "(90275, 50)"
      ]
     },
     "execution_count": 116,
     "metadata": {},
     "output_type": "execute_result"
    }
   ],
   "source": [
    "train_df.shape"
   ]
  },
  {
   "cell_type": "markdown",
   "metadata": {},
   "source": [
    "#### Impute Numerical Missing values using GLMR"
   ]
  },
  {
   "cell_type": "code",
   "execution_count": 117,
   "metadata": {
    "collapsed": true
   },
   "outputs": [],
   "source": [
    "training_frame = h2o.H2OFrame(train_df)"
   ]
  },
  {
   "cell_type": "code",
   "execution_count": 118,
   "metadata": {
    "scrolled": true
   },
   "outputs": [
    {
     "name": "stdout",
     "output_type": "stream",
     "text": [
      "Rows:90275\n",
      "Cols:50\n",
      "\n",
      "\n"
     ]
    },
    {
     "data": {
      "text/html": [
       "<table>\n",
       "<thead>\n",
       "<tr><th>       </th><th>parcelid          </th><th>logerror            </th><th>transactiondate   </th><th>airconditioningtypeid  </th><th>bathroomcnt       </th><th>bedroomcnt        </th><th>buildingqualitytypeid  </th><th>calculatedbathnbr  </th><th>finishedfloor1squarefeet  </th><th>calculatedfinishedsquarefeet  </th><th>finishedsquarefeet12  </th><th>finishedsquarefeet15  </th><th>finishedsquarefeet50  </th><th>fips              </th><th>fireplacecnt  </th><th>fullbathcnt       </th><th>garagecarcnt  </th><th>garagetotalsqft  </th><th>hashottuborspa  </th><th>heatingorsystemtypeid  </th><th>latitude          </th><th>longitude          </th><th>lotsizesquarefeet  </th><th>poolcnt  </th><th>poolsizesum  </th><th>pooltypeid10  </th><th>pooltypeid2  </th><th>pooltypeid7  </th><th>propertycountylandusecode  </th><th>propertylandusetypeid  </th><th>propertyzoningdesc  </th><th>rawcensustractandblock  </th><th>regionidcity      </th><th>regionidcounty    </th><th>regionidneighborhood  </th><th>regionidzip       </th><th>roomcnt           </th><th>threequarterbathnbr  </th><th>unitcnt           </th><th>yardbuildingsqft17  </th><th>yearbuilt         </th><th>numberofstories  </th><th>structuretaxvaluedollarcnt  </th><th>taxvaluedollarcnt  </th><th>assessmentyear  </th><th>landtaxvaluedollarcnt  </th><th>taxamount         </th><th>taxdelinquencyflag  </th><th>taxdelinquencyyear  </th><th>censustractandblock  </th></tr>\n",
       "</thead>\n",
       "<tbody>\n",
       "<tr><td>type   </td><td>int               </td><td>real                </td><td>int               </td><td>enum                   </td><td>real              </td><td>int               </td><td>int                    </td><td>real               </td><td>enum                      </td><td>int                           </td><td>int                   </td><td>enum                  </td><td>enum                  </td><td>int               </td><td>enum          </td><td>int               </td><td>enum          </td><td>enum             </td><td>enum            </td><td>int                    </td><td>int               </td><td>int                </td><td>real               </td><td>enum     </td><td>enum         </td><td>enum          </td><td>enum         </td><td>enum         </td><td>int                        </td><td>int                    </td><td>enum                </td><td>real                    </td><td>int               </td><td>int               </td><td>enum                  </td><td>int               </td><td>int               </td><td>enum                 </td><td>int               </td><td>enum                </td><td>int               </td><td>enum             </td><td>int                         </td><td>int                </td><td>int             </td><td>int                    </td><td>real              </td><td>enum                </td><td>enum                </td><td>int                  </td></tr>\n",
       "<tr><td>mins   </td><td>10711738.0        </td><td>-4.605              </td><td>1451606400000.0   </td><td>                       </td><td>0.0               </td><td>0.0               </td><td>1.0                    </td><td>1.0                </td><td>                          </td><td>2.0                           </td><td>2.0                   </td><td>                      </td><td>                      </td><td>6037.0            </td><td>              </td><td>1.0               </td><td>              </td><td>                 </td><td>                </td><td>1.0                    </td><td>33339295.0        </td><td>-119447865.0       </td><td>167.0              </td><td>         </td><td>             </td><td>              </td><td>             </td><td>             </td><td>0.0                        </td><td>31.0                   </td><td>                    </td><td>60371011.101000994      </td><td>3491.0            </td><td>1286.0            </td><td>                      </td><td>95982.0           </td><td>0.0               </td><td>                     </td><td>1.0               </td><td>                    </td><td>1885.0            </td><td>                 </td><td>100.0                       </td><td>22.0               </td><td>2015.0          </td><td>22.0                   </td><td>49.08             </td><td>                    </td><td>                    </td><td>60371011101001.0     </td></tr>\n",
       "<tr><td>mean   </td><td>12984656.108712278</td><td>0.011457219606757104</td><td>1465669839260.0396</td><td>                       </td><td>2.279473829963995 </td><td>3.0318692882857894</td><td>5.565406875392228      </td><td>2.309216212272569  </td><td>                          </td><td>1773.1859865646015            </td><td>1745.4545305855427    </td><td>                      </td><td>                      </td><td>6048.870551093883 </td><td>              </td><td>2.2412310731482825</td><td>              </td><td>                 </td><td>                </td><td>3.9269793152639014     </td><td>34005410.693691485</td><td>-118198868.30685116</td><td>29110.164176623995 </td><td>         </td><td>             </td><td>              </td><td>             </td><td>             </td><td>202.69972340281996         </td><td>261.83217945167524     </td><td>                    </td><td>60491794.81150309       </td><td>33761.332851071544</td><td>2525.4207698698433</td><td>                      </td><td>96586.1311835108  </td><td>1.4785156466352825</td><td>                     </td><td>1.1104142032114896</td><td>                    </td><td>1968.5328701169587</td><td>                 </td><td>180093.39374826188          </td><td>457672.6273567143  </td><td>2015.0          </td><td>278335.3250216009      </td><td>5983.975926730106 </td><td>                    </td><td>                    </td><td>60491508546032.766   </td></tr>\n",
       "<tr><td>maxs   </td><td>162960842.0       </td><td>4.737               </td><td>1483056000000.0   </td><td>                       </td><td>20.0              </td><td>16.0              </td><td>12.0                   </td><td>20.0               </td><td>                          </td><td>22741.0                       </td><td>20013.0               </td><td>                      </td><td>                      </td><td>6111.0            </td><td>              </td><td>20.0              </td><td>              </td><td>                 </td><td>                </td><td>24.0                   </td><td>34816009.0        </td><td>-117554924.0       </td><td>6971010.0          </td><td>         </td><td>             </td><td>              </td><td>             </td><td>             </td><td>8800.0                     </td><td>275.0                  </td><td>                    </td><td>61110091.001020014      </td><td>396556.0          </td><td>3101.0            </td><td>                      </td><td>399675.0          </td><td>18.0              </td><td>                     </td><td>143.0             </td><td>                    </td><td>2015.0            </td><td>                 </td><td>9948100.0                   </td><td>27750000.0         </td><td>2015.0          </td><td>24500000.0             </td><td>321936.09         </td><td>                    </td><td>                    </td><td>61110091001020.0     </td></tr>\n",
       "<tr><td>sigma  </td><td>2504510.488301766 </td><td>0.16107883536718678 </td><td>7410679638.770855 </td><td>                       </td><td>1.0042709877071903</td><td>1.1564355198675522</td><td>1.9006016285969727     </td><td>0.9761724992343218 </td><td>                          </td><td>928.1623927208229             </td><td>909.9411657489284     </td><td>                      </td><td>                      </td><td>20.663460805186244</td><td>              </td><td>0.9631416217273231</td><td>              </td><td>                 </td><td>                </td><td>3.684382050531379      </td><td>264965.3755569022 </td><td>360603.1997035535  </td><td>121721.30865440037 </td><td>         </td><td>             </td><td>              </td><td>             </td><td>             </td><td>307.4715268295428          </td><td>5.182900523458306      </td><td>                    </td><td>205054.8672682638       </td><td>46672.393862912155</td><td>805.6948419923104 </td><td>                      </td><td>3661.3390937511494</td><td>2.8196270435222077</td><td>                     </td><td>0.7972352624935558</td><td>                    </td><td>23.76347471454325 </td><td>                 </td><td>209129.88816860036          </td><td>554884.3989425425  </td><td>0.0             </td><td>400495.4648926158      </td><td>6838.876956292303 </td><td>                    </td><td>                    </td><td>204660503527.14096   </td></tr>\n",
       "<tr><td>zeros  </td><td>0                 </td><td>847                 </td><td>0                 </td><td>                       </td><td>1165              </td><td>1421              </td><td>0                      </td><td>0                  </td><td>                          </td><td>0                             </td><td>0                     </td><td>                      </td><td>                      </td><td>0                 </td><td>              </td><td>0                 </td><td>              </td><td>                 </td><td>                </td><td>0                      </td><td>0                 </td><td>0                  </td><td>0                  </td><td>         </td><td>             </td><td>              </td><td>             </td><td>             </td><td>1                          </td><td>0                      </td><td>                    </td><td>0                       </td><td>0                 </td><td>0                 </td><td>                      </td><td>0                 </td><td>69700             </td><td>                     </td><td>0                 </td><td>                    </td><td>0                 </td><td>                 </td><td>0                           </td><td>0                  </td><td>0               </td><td>0                      </td><td>0                 </td><td>                    </td><td>                    </td><td>0                    </td></tr>\n",
       "<tr><td>missing</td><td>0                 </td><td>0                   </td><td>0                 </td><td>0                      </td><td>0                 </td><td>0                 </td><td>32911                  </td><td>1182               </td><td>0                         </td><td>661                           </td><td>4679                  </td><td>0                     </td><td>0                     </td><td>0                 </td><td>0             </td><td>1182              </td><td>0             </td><td>0                </td><td>0               </td><td>34195                  </td><td>0                 </td><td>0                  </td><td>10150              </td><td>0        </td><td>0            </td><td>0             </td><td>0            </td><td>0            </td><td>16160                      </td><td>0                      </td><td>0                   </td><td>0                       </td><td>1803              </td><td>0                 </td><td>0                     </td><td>35                </td><td>0                 </td><td>0                    </td><td>31922             </td><td>0                   </td><td>756               </td><td>0                </td><td>380                         </td><td>1                  </td><td>0               </td><td>1                      </td><td>6                 </td><td>0                   </td><td>0                   </td><td>605                  </td></tr>\n",
       "<tr><td>0      </td><td>11016594.0        </td><td>0.027600000000000006</td><td>1451606400000.0   </td><td>1.0                    </td><td>2.0               </td><td>3.0               </td><td>4.0                    </td><td>2.0                </td><td>nan                       </td><td>1684.0                        </td><td>1684.0                </td><td>nan                   </td><td>nan                   </td><td>6037.0            </td><td>nan           </td><td>2.0               </td><td>nan           </td><td>nan              </td><td>nan             </td><td>2.0                    </td><td>34280990.0        </td><td>-118488536.0       </td><td>7528.0             </td><td>nan      </td><td>nan          </td><td>nan           </td><td>nan          </td><td>nan          </td><td>100.0                      </td><td>261.0                  </td><td>LARS                </td><td>60371066.461000994      </td><td>12447.0           </td><td>3101.0            </td><td>31817.0               </td><td>96370.0           </td><td>0.0               </td><td>nan                  </td><td>1.0               </td><td>nan                 </td><td>1959.0            </td><td>nan              </td><td>122754.0                    </td><td>360170.0           </td><td>2015.0          </td><td>237416.0               </td><td>6735.88           </td><td>nan                 </td><td>nan                 </td><td>60371066461001.0     </td></tr>\n",
       "<tr><td>1      </td><td>14366692.0        </td><td>-0.16840000000000002</td><td>1451606400000.0   </td><td>nan                    </td><td>3.5               </td><td>4.0               </td><td>nan                    </td><td>3.5                </td><td>nan                       </td><td>2263.0                        </td><td>2263.0                </td><td>nan                   </td><td>nan                   </td><td>6059.0            </td><td>nan           </td><td>3.0               </td><td>2.0           </td><td>468.0            </td><td>nan             </td><td>nan                    </td><td>33668120.0        </td><td>-117677556.0       </td><td>3643.0             </td><td>nan      </td><td>nan          </td><td>nan           </td><td>nan          </td><td>nan          </td><td>1.0                        </td><td>261.0                  </td><td>nan                 </td><td>60590524.222023994      </td><td>32380.0           </td><td>1286.0            </td><td>nan                   </td><td>96962.0           </td><td>0.0               </td><td>1.0                  </td><td>nan               </td><td>nan                 </td><td>2014.0            </td><td>nan              </td><td>346458.0                    </td><td>585529.0           </td><td>2015.0          </td><td>239071.0               </td><td>10153.02          </td><td>nan                 </td><td>nan                 </td><td>nan                  </td></tr>\n",
       "<tr><td>2      </td><td>12098116.0        </td><td>-0.004              </td><td>1451606400000.0   </td><td>1.0                    </td><td>3.0               </td><td>2.0               </td><td>4.0                    </td><td>3.0                </td><td>nan                       </td><td>2217.0                        </td><td>2217.0                </td><td>nan                   </td><td>nan                   </td><td>6037.0            </td><td>nan           </td><td>3.0               </td><td>nan           </td><td>nan              </td><td>nan             </td><td>2.0                    </td><td>34136312.0        </td><td>-118175032.0       </td><td>11423.0            </td><td>nan      </td><td>nan          </td><td>nan           </td><td>nan          </td><td>nan          </td><td>100.0                      </td><td>261.0                  </td><td>PSR6                </td><td>60374638.003004014      </td><td>47019.0           </td><td>3101.0            </td><td>275411.0              </td><td>96293.0           </td><td>0.0               </td><td>nan                  </td><td>1.0               </td><td>nan                 </td><td>1940.0            </td><td>nan              </td><td>61994.0                     </td><td>119906.0           </td><td>2015.0          </td><td>57912.0                </td><td>11484.48          </td><td>nan                 </td><td>nan                 </td><td>60374638003004.0     </td></tr>\n",
       "<tr><td>3      </td><td>12643413.0        </td><td>0.0218              </td><td>1451692800000.0   </td><td>1.0                    </td><td>2.0               </td><td>2.0               </td><td>4.0                    </td><td>2.0                </td><td>nan                       </td><td>839.0                         </td><td>839.0                 </td><td>nan                   </td><td>nan                   </td><td>6037.0            </td><td>nan           </td><td>2.0               </td><td>nan           </td><td>nan              </td><td>nan             </td><td>2.0                    </td><td>33755800.0        </td><td>-118309000.0       </td><td>70859.0            </td><td>nan      </td><td>nan          </td><td>nan           </td><td>nan          </td><td>nan          </td><td>nan                        </td><td>266.0                  </td><td>LAR3                </td><td>60372963.002002         </td><td>12447.0           </td><td>3101.0            </td><td>54300.0               </td><td>96222.0           </td><td>0.0               </td><td>nan                  </td><td>1.0               </td><td>nan                 </td><td>1987.0            </td><td>nan              </td><td>171518.0                    </td><td>244880.0           </td><td>2015.0          </td><td>73362.0                </td><td>3048.7400000000002</td><td>nan                 </td><td>nan                 </td><td>60372963002002.0     </td></tr>\n",
       "<tr><td>4      </td><td>14432541.0        </td><td>-0.005              </td><td>1451692800000.0   </td><td>nan                    </td><td>2.5               </td><td>4.0               </td><td>nan                    </td><td>2.5                </td><td>nan                       </td><td>2283.0                        </td><td>2283.0                </td><td>nan                   </td><td>nan                   </td><td>6059.0            </td><td>nan           </td><td>2.0               </td><td>2.0           </td><td>598.0            </td><td>nan             </td><td>nan                    </td><td>33485643.0        </td><td>-117700234.0       </td><td>6000.0             </td><td>1.0      </td><td>nan          </td><td>nan           </td><td>nan          </td><td>1.0          </td><td>122.0                      </td><td>261.0                  </td><td>nan                 </td><td>60590423.381005995      </td><td>17686.0           </td><td>1286.0            </td><td>nan                   </td><td>96961.0           </td><td>8.0               </td><td>1.0                  </td><td>nan               </td><td>nan                 </td><td>1981.0            </td><td>2.0              </td><td>169574.0                    </td><td>434551.0           </td><td>2015.0          </td><td>264977.0               </td><td>5488.96           </td><td>nan                 </td><td>nan                 </td><td>60590423381006.0     </td></tr>\n",
       "<tr><td>5      </td><td>11509835.0        </td><td>-0.2705             </td><td>1451692800000.0   </td><td>1.0                    </td><td>4.0               </td><td>4.0               </td><td>1.0                    </td><td>4.0                </td><td>nan                       </td><td>3067.0                        </td><td>3067.0                </td><td>nan                   </td><td>nan                   </td><td>6037.0            </td><td>nan           </td><td>4.0               </td><td>nan           </td><td>nan              </td><td>nan             </td><td>2.0                    </td><td>33870089.0        </td><td>-118402768.0       </td><td>2708.0             </td><td>nan      </td><td>nan          </td><td>nan           </td><td>nan          </td><td>nan          </td><td>100.0                      </td><td>261.0                  </td><td>HBR3YY              </td><td>60376210.04400601       </td><td>29712.0           </td><td>3101.0            </td><td>nan                   </td><td>96109.0           </td><td>0.0               </td><td>nan                  </td><td>1.0               </td><td>nan                 </td><td>1982.0            </td><td>nan              </td><td>880650.0                    </td><td>2447951.0          </td><td>2015.0          </td><td>1567301.0              </td><td>27126.57          </td><td>nan                 </td><td>nan                 </td><td>60376210044006.0     </td></tr>\n",
       "<tr><td>6      </td><td>12286022.0        </td><td>0.044               </td><td>1451692800000.0   </td><td>nan                    </td><td>1.0               </td><td>2.0               </td><td>7.0                    </td><td>1.0                </td><td>nan                       </td><td>1297.0                        </td><td>1297.0                </td><td>nan                   </td><td>nan                   </td><td>6037.0            </td><td>nan           </td><td>1.0               </td><td>nan           </td><td>nan              </td><td>nan             </td><td>7.0                    </td><td>33899475.0        </td><td>-118212720.0       </td><td>6677.0             </td><td>nan      </td><td>nan          </td><td>nan           </td><td>nan          </td><td>nan          </td><td>100.0                      </td><td>261.0                  </td><td>CORH*               </td><td>60375416.05300699       </td><td>24174.0           </td><td>3101.0            </td><td>nan                   </td><td>96091.0           </td><td>0.0               </td><td>nan                  </td><td>1.0               </td><td>nan                 </td><td>1939.0            </td><td>nan              </td><td>64549.0                     </td><td>111521.0           </td><td>2015.0          </td><td>46972.0                </td><td>2304.9700000000007</td><td>nan                 </td><td>nan                 </td><td>60375416053007.0     </td></tr>\n",
       "<tr><td>7      </td><td>17177301.0        </td><td>0.1638              </td><td>1451692800000.0   </td><td>nan                    </td><td>2.5               </td><td>3.0               </td><td>nan                    </td><td>2.5                </td><td>853.0                     </td><td>1763.0                        </td><td>1763.0                </td><td>nan                   </td><td>853.0                 </td><td>6111.0            </td><td>1.0           </td><td>2.0               </td><td>2.0           </td><td>0.0              </td><td>nan             </td><td>nan                    </td><td>34207204.0        </td><td>-119165589.0       </td><td>nan                </td><td>nan      </td><td>nan          </td><td>nan           </td><td>nan          </td><td>nan          </td><td>1129.0                     </td><td>266.0                  </td><td>nan                 </td><td>61110031.002073         </td><td>13150.0           </td><td>2061.0            </td><td>nan                   </td><td>97101.0           </td><td>6.0               </td><td>1.0                  </td><td>nan               </td><td>nan                 </td><td>1994.0            </td><td>2.0              </td><td>107000.0                    </td><td>306000.0           </td><td>2015.0          </td><td>199000.0               </td><td>3745.5            </td><td>nan                 </td><td>nan                 </td><td>61110031002073.0     </td></tr>\n",
       "<tr><td>8      </td><td>14739064.0        </td><td>-0.003              </td><td>1451692800000.0   </td><td>nan                    </td><td>1.0               </td><td>2.0               </td><td>nan                    </td><td>1.0                </td><td>nan                       </td><td>796.0                         </td><td>796.0                 </td><td>nan                   </td><td>nan                   </td><td>6059.0            </td><td>nan           </td><td>1.0               </td><td>1.0           </td><td>0.0              </td><td>nan             </td><td>nan                    </td><td>33549600.0        </td><td>-117678000.0       </td><td>nan                </td><td>nan      </td><td>nan          </td><td>nan           </td><td>nan          </td><td>nan          </td><td>34.0                       </td><td>266.0                  </td><td>nan                 </td><td>60590423.15101899       </td><td>25459.0           </td><td>1286.0            </td><td>nan                   </td><td>96987.0           </td><td>0.0               </td><td>nan                  </td><td>nan               </td><td>nan                 </td><td>1984.0            </td><td>nan              </td><td>66834.0                     </td><td>210064.0           </td><td>2015.0          </td><td>143230.0               </td><td>2172.88           </td><td>nan                 </td><td>nan                 </td><td>60590423151018.0     </td></tr>\n",
       "<tr><td>9      </td><td>14677559.0        </td><td>0.0843              </td><td>1451779200000.0   </td><td>nan                    </td><td>2.0               </td><td>2.0               </td><td>nan                    </td><td>2.0                </td><td>nan                       </td><td>1260.0                        </td><td>1260.0                </td><td>nan                   </td><td>nan                   </td><td>6059.0            </td><td>nan           </td><td>2.0               </td><td>1.0           </td><td>0.0              </td><td>nan             </td><td>nan                    </td><td>33612700.0        </td><td>-117742000.0       </td><td>nan                </td><td>nan      </td><td>nan          </td><td>nan           </td><td>nan          </td><td>nan          </td><td>34.0                       </td><td>266.0                  </td><td>nan                 </td><td>60590626.483004995      </td><td>46098.0           </td><td>1286.0            </td><td>nan                   </td><td>96963.0           </td><td>5.0               </td><td>nan                  </td><td>nan               </td><td>nan                 </td><td>1977.0            </td><td>1.0              </td><td>109977.0                    </td><td>190960.0           </td><td>2015.0          </td><td>80983.0                </td><td>1940.26           </td><td>nan                 </td><td>nan                 </td><td>60590626483015.0     </td></tr>\n",
       "</tbody>\n",
       "</table>"
      ]
     },
     "metadata": {},
     "output_type": "display_data"
    }
   ],
   "source": [
    "training_frame.describe()"
   ]
  },
  {
   "cell_type": "code",
   "execution_count": 119,
   "metadata": {
    "collapsed": true
   },
   "outputs": [],
   "source": [
    "def get_type_lists(frame, rejects=['parcelid', 'logerror','transactiondate']):\n",
    "\n",
    "    \"\"\"Creates lists of numeric and categorical variables.\n",
    "    \n",
    "    :param frame: The frame from which to determine types.\n",
    "    :param rejects: Variable names not to be included in returned lists.\n",
    "    :return: Tuple of lists for numeric and categorical variables in the frame.\n",
    "    \n",
    "    \"\"\"\n",
    "    \n",
    "    nums, cats = [], []\n",
    "    for key, val in frame.types.items():\n",
    "        if key not in rejects:\n",
    "            if val == 'enum':\n",
    "                cats.append(key)\n",
    "            else: \n",
    "                nums.append(key)\n",
    "                \n",
    "    print('Numeric =', nums)                \n",
    "    print()\n",
    "    print('Categorical =', cats)\n",
    "    \n",
    "    return nums, cats"
   ]
  },
  {
   "cell_type": "code",
   "execution_count": 120,
   "metadata": {},
   "outputs": [
    {
     "name": "stdout",
     "output_type": "stream",
     "text": [
      "Numeric = ['regionidzip', 'latitude', 'rawcensustractandblock', 'regionidcity', 'propertylandusetypeid', 'taxamount', 'taxvaluedollarcnt', 'roomcnt', 'calculatedfinishedsquarefeet', 'buildingqualitytypeid', 'finishedsquarefeet12', 'bedroomcnt', 'landtaxvaluedollarcnt', 'yearbuilt', 'calculatedbathnbr', 'lotsizesquarefeet', 'assessmentyear', 'propertycountylandusecode', 'unitcnt', 'fips', 'heatingorsystemtypeid', 'fullbathcnt', 'censustractandblock', 'regionidcounty', 'longitude', 'structuretaxvaluedollarcnt', 'bathroomcnt']\n",
      "\n",
      "Categorical = ['pooltypeid2', 'taxdelinquencyyear', 'poolcnt', 'taxdelinquencyflag', 'propertyzoningdesc', 'fireplacecnt', 'yardbuildingsqft17', 'poolsizesum', 'numberofstories', 'garagetotalsqft', 'airconditioningtypeid', 'pooltypeid7', 'hashottuborspa', 'regionidneighborhood', 'garagecarcnt', 'finishedfloor1squarefeet', 'finishedsquarefeet50', 'pooltypeid10', 'threequarterbathnbr', 'finishedsquarefeet15']\n"
     ]
    }
   ],
   "source": [
    "original_nums, cats = get_type_lists(training_frame)"
   ]
  },
  {
   "cell_type": "code",
   "execution_count": 132,
   "metadata": {},
   "outputs": [
    {
     "name": "stdout",
     "output_type": "stream",
     "text": [
      "(63186, 50)\n",
      "(27089, 50)\n"
     ]
    }
   ],
   "source": [
    "train, test = training_frame.split_frame([0.7], seed=12345)\n",
    "print(train.shape)\n",
    "print(test.shape)"
   ]
  },
  {
   "cell_type": "code",
   "execution_count": 121,
   "metadata": {
    "collapsed": true
   },
   "outputs": [],
   "source": [
    "def glrm_num_impute(role, frame):\n",
    "\n",
    "    \"\"\" Helper function for imputing numeric variables using GLRM.\n",
    "    \n",
    "    :param role: Role of frame to be imputed.\n",
    "    :param frame: H2OFrame to be imputed.\n",
    "    :return: H2OFrame of imputed numeric features.\n",
    "    \n",
    "    \"\"\"\n",
    "    \n",
    "    # count missing values in training data numeric columns\n",
    "    print(role + ' missing:\\n', [cnt for cnt in frame.nacnt() if cnt != 0.0])\n",
    "\n",
    "    # initialize GLRM\n",
    "    matrix_complete_glrm = H2OGeneralizedLowRankEstimator(\n",
    "        k=10,                    # create 10 features \n",
    "        transform='STANDARDIZE', # <- seems very important\n",
    "        gamma_x=0.001,           # regularization on values in X\n",
    "        gamma_y=0.05)            # regularization on values in Y\n",
    "\n",
    "    # train GLRM\n",
    "    matrix_complete_glrm.train(training_frame=frame, x=original_nums)\n",
    "\n",
    "    # plot iteration history to ensure convergence\n",
    "    matrix_complete_glrm.score_history().plot(x='iteration', y='objective', title='GLRM Score History')\n",
    "\n",
    "    # impute numeric inputs by multiply the calculated xi and yj for the missing values in train\n",
    "    num_impute = matrix_complete_glrm.predict(frame)\n",
    "\n",
    "    # count missing values in imputed set\n",
    "    print('imputed ' + role + ' missing:\\n', [cnt for cnt in num_impute.nacnt() if cnt != 0.0])\n",
    "    \n",
    "    return num_impute"
   ]
  },
  {
   "cell_type": "code",
   "execution_count": 122,
   "metadata": {},
   "outputs": [
    {
     "name": "stdout",
     "output_type": "stream",
     "text": [
      "train missing:\n",
      " [32911.0, 1182.0, 661.0, 4679.0, 1182.0, 34195.0, 10150.0, 16160.0, 1803.0, 35.0, 31922.0, 756.0, 380.0, 1.0, 1.0, 6.0, 605.0]\n",
      "imputed train missing:\n",
      " []\n"
     ]
    },
    {
     "data": {
      "image/png": "[encoded data removed]",
      "text/plain": [
       "<matplotlib.figure.Figure at 0x120888a20>"
      ]
     },
     "metadata": {},
     "output_type": "display_data"
    }
   ],
   "source": [
    "train_new_nums = glrm_num_impute('train', training_frame)"
   ]
  },
  {
   "cell_type": "code",
   "execution_count": 133,
   "metadata": {
    "collapsed": true
   },
   "outputs": [],
   "source": [
    "def glrm_cat_embed(frame):\n",
    "    \n",
    "    \"\"\" Helper function for embedding caetgorical variables using GLRM.\n",
    "    \n",
    "    :param frame: H2OFrame to be embedded.\n",
    "    :return: H2OFrame of embedded categorical features.\n",
    "    \n",
    "    \"\"\"\n",
    "    \n",
    "    # initialize GLRM\n",
    "    cat_embed_glrm = H2OGeneralizedLowRankEstimator(\n",
    "        k=50,\n",
    "        transform='STANDARDIZE',\n",
    "        loss='Quadratic',\n",
    "        regularization_x='Quadratic',\n",
    "        regularization_y='L1',\n",
    "        gamma_x=0.25,\n",
    "        gamma_y=0.5)\n",
    "\n",
    "    # train GLRM\n",
    "    cat_embed_glrm.train(training_frame=frame, x=cats)\n",
    "\n",
    "    # plot iteration history to ensure convergence\n",
    "    cat_embed_glrm.score_history().plot(x='iteration', y='objective', title='GLRM Score History')\n",
    "\n",
    "    # extracted embedded features\n",
    "    cat_embed = h2o.get_frame(cat_embed_glrm._model_json['output']['representation_name'])\n",
    "    \n",
    "    return cat_embed"
   ]
  },
  {
   "cell_type": "code",
   "execution_count": null,
   "metadata": {
    "collapsed": true
   },
   "outputs": [],
   "source": [
    "train_cat_embed = glrm_cat_embed(training_frame)"
   ]
  },
  {
   "cell_type": "code",
   "execution_count": 123,
   "metadata": {
    "collapsed": true
   },
   "outputs": [],
   "source": [
    "from sklearn.preprocessing import Imputer"
   ]
  },
  {
   "cell_type": "code",
   "execution_count": 124,
   "metadata": {},
   "outputs": [],
   "source": [
    "imputed_embedded_train = training_frame[['parcelid', 'logerror']].cbind(train_new_nums)"
   ]
  },
  {
   "cell_type": "code",
   "execution_count": 125,
   "metadata": {},
   "outputs": [
    {
     "data": {
      "text/plain": [
       "(90275, 28)"
      ]
     },
     "execution_count": 125,
     "metadata": {},
     "output_type": "execute_result"
    }
   ],
   "source": [
    "imputed_embedded_train.shape #combined inputed and id and target"
   ]
  },
  {
   "cell_type": "code",
   "execution_count": 126,
   "metadata": {
    "collapsed": true
   },
   "outputs": [],
   "source": [
    "imp = Imputer(missing_values='NaN', strategy='mode', axis=0)"
   ]
  },
  {
   "cell_type": "code",
   "execution_count": 128,
   "metadata": {
    "collapsed": true
   },
   "outputs": [],
   "source": [
    "tr=training_frame.as_data_frame(use_pandas=True)"
   ]
  },
  {
   "cell_type": "code",
   "execution_count": 131,
   "metadata": {
    "collapsed": true
   },
   "outputs": [],
   "source": [
    "def target_encoder(training_frame, test_frame, x, y, lambda_=0.15, threshold=150, test=False):\n",
    "\n",
    "    \"\"\" Applies simple target encoding to categorical variables.\n",
    "\n",
    "    :param training_frame: Training frame which to create target means and to be encoded.\n",
    "    :param test_frame: Test frame to be encoded using information from training frame.\n",
    "    :param x: Name of input variable to be encoded.\n",
    "    :param y: Name of target variable to use for encoding.\n",
    "    :param lambda_: Balance between level mean and overall mean for small groups.\n",
    "    :param threshold: Number below which a level is considered small enough to be shrunken.\n",
    "    :param test: Whether or not to print the row_val_dict for testing purposes.\n",
    "    :return: Tuple of encoded variable from train and test set as H2OFrames.\n",
    "\n",
    "    \"\"\"\n",
    "\n",
    "    # convert to pandas\n",
    "    trdf = training_frame.as_data_frame().loc[:, [x,y]] # df\n",
    "    tss = test_frame.as_data_frame().loc[:, x]          # series\n",
    "\n",
    "\n",
    "    # create dictionary of level:encode val\n",
    "\n",
    "    encode_name = x + '_Tencode'\n",
    "    overall_mean = trdf[y].mean()\n",
    "    row_val_dict = {}\n",
    "\n",
    "    for level in trdf[x].unique():\n",
    "        level_df = trdf[trdf[x] == level][y]\n",
    "        level_n = level_df.shape[0]\n",
    "        level_mean = level_df.mean()\n",
    "        if level_n >= threshold:\n",
    "            row_val_dict[level] = level_mean\n",
    "        else:\n",
    "            row_val_dict[level] = ((1 - lambda_) * level_mean) +\\\n",
    "                                  (lambda_ * overall_mean)\n",
    "\n",
    "    row_val_dict[np.nan] = overall_mean # handle missing values\n",
    "\n",
    "    if test:\n",
    "        print(row_val_dict)\n",
    "\n",
    "    # apply the transform to training data\n",
    "    trdf[encode_name] = trdf[x].apply(lambda i: row_val_dict[i])\n",
    "\n",
    "    # apply the transform to test data\n",
    "    tsdf = pd.DataFrame(columns=[x, encode_name])\n",
    "    tsdf[x] = tss\n",
    "    tsdf.loc[:, encode_name] = overall_mean # handle previously unseen values\n",
    "    # handle values that are seen in tsdf but not row_val_dict\n",
    "    for i, col_i in enumerate(tsdf[x]):\n",
    "        try:\n",
    "            row_val_dict[col_i]\n",
    "        except:\n",
    "            # a value that appeared in tsdf isn't in the row_val_dict so just\n",
    "            # make it the overall_mean\n",
    "            row_val_dict[col_i] = overall_mean\n",
    "    tsdf[encode_name] = tsdf[x].apply(lambda i: row_val_dict[i])\n",
    "\n",
    "\n",
    "    # convert back to H2O\n",
    "\n",
    "    trdf = h2o.H2OFrame(trdf[encode_name].as_matrix())\n",
    "    trdf.columns = [encode_name]\n",
    "\n",
    "    tsdf = h2o.H2OFrame(tsdf[encode_name].as_matrix())\n",
    "    tsdf.columns = [encode_name]\n",
    "\n",
    "    return (trdf, tsdf)\n"
   ]
  },
  {
   "cell_type": "code",
   "execution_count": 129,
   "metadata": {
    "scrolled": true
   },
   "outputs": [
    {
     "ename": "KeyError",
     "evalue": "'finishedsquarefeet6'",
     "output_type": "error",
     "traceback": [
      "\u001b[0;31m---------------------------------------------------------------------------\u001b[0m",
      "\u001b[0;31mKeyError\u001b[0m                                  Traceback (most recent call last)",
      "\u001b[0;32m//anaconda/lib/python3.5/site-packages/pandas/indexes/base.py\u001b[0m in \u001b[0;36mget_loc\u001b[0;34m(self, key, method, tolerance)\u001b[0m\n\u001b[1;32m   1944\u001b[0m             \u001b[0;32mtry\u001b[0m\u001b[0;34m:\u001b[0m\u001b[0;34m\u001b[0m\u001b[0m\n\u001b[0;32m-> 1945\u001b[0;31m                 \u001b[0;32mreturn\u001b[0m \u001b[0mself\u001b[0m\u001b[0;34m.\u001b[0m\u001b[0m_engine\u001b[0m\u001b[0;34m.\u001b[0m\u001b[0mget_loc\u001b[0m\u001b[0;34m(\u001b[0m\u001b[0mkey\u001b[0m\u001b[0;34m)\u001b[0m\u001b[0;34m\u001b[0m\u001b[0m\n\u001b[0m\u001b[1;32m   1946\u001b[0m             \u001b[0;32mexcept\u001b[0m \u001b[0mKeyError\u001b[0m\u001b[0;34m:\u001b[0m\u001b[0;34m\u001b[0m\u001b[0m\n",
      "\u001b[0;32mpandas/index.pyx\u001b[0m in \u001b[0;36mpandas.index.IndexEngine.get_loc (pandas/index.c:4154)\u001b[0;34m()\u001b[0m\n",
      "\u001b[0;32mpandas/index.pyx\u001b[0m in \u001b[0;36mpandas.index.IndexEngine.get_loc (pandas/index.c:4018)\u001b[0;34m()\u001b[0m\n",
      "\u001b[0;32mpandas/hashtable.pyx\u001b[0m in \u001b[0;36mpandas.hashtable.PyObjectHashTable.get_item (pandas/hashtable.c:12368)\u001b[0;34m()\u001b[0m\n",
      "\u001b[0;32mpandas/hashtable.pyx\u001b[0m in \u001b[0;36mpandas.hashtable.PyObjectHashTable.get_item (pandas/hashtable.c:12322)\u001b[0;34m()\u001b[0m\n",
      "\u001b[0;31mKeyError\u001b[0m: 'finishedsquarefeet6'",
      "\nDuring handling of the above exception, another exception occurred:\n",
      "\u001b[0;31mKeyError\u001b[0m                                  Traceback (most recent call last)",
      "\u001b[0;32m<ipython-input-129-b63f7c5375f3>\u001b[0m in \u001b[0;36m<module>\u001b[0;34m()\u001b[0m\n\u001b[0;32m----> 1\u001b[0;31m \u001b[0mtr\u001b[0m\u001b[0;34m[\u001b[0m\u001b[0;34m'finishedsquarefeet6'\u001b[0m\u001b[0;34m]\u001b[0m\u001b[0;34m.\u001b[0m\u001b[0mfillna\u001b[0m\u001b[0;34m(\u001b[0m\u001b[0mtr\u001b[0m\u001b[0;34m[\u001b[0m\u001b[0;34m'finishedsquarefeet6'\u001b[0m\u001b[0;34m]\u001b[0m\u001b[0;34m.\u001b[0m\u001b[0mvalue_counts\u001b[0m\u001b[0;34m(\u001b[0m\u001b[0;34m)\u001b[0m\u001b[0;34m.\u001b[0m\u001b[0mindex\u001b[0m\u001b[0;34m[\u001b[0m\u001b[0;36m0\u001b[0m\u001b[0;34m]\u001b[0m\u001b[0;34m,\u001b[0m\u001b[0minplace\u001b[0m\u001b[0;34m=\u001b[0m\u001b[0;32mTrue\u001b[0m\u001b[0;34m)\u001b[0m\u001b[0;34m\u001b[0m\u001b[0m\n\u001b[0m",
      "\u001b[0;32m//anaconda/lib/python3.5/site-packages/pandas/core/frame.py\u001b[0m in \u001b[0;36m__getitem__\u001b[0;34m(self, key)\u001b[0m\n\u001b[1;32m   1995\u001b[0m             \u001b[0;32mreturn\u001b[0m \u001b[0mself\u001b[0m\u001b[0;34m.\u001b[0m\u001b[0m_getitem_multilevel\u001b[0m\u001b[0;34m(\u001b[0m\u001b[0mkey\u001b[0m\u001b[0;34m)\u001b[0m\u001b[0;34m\u001b[0m\u001b[0m\n\u001b[1;32m   1996\u001b[0m         \u001b[0;32melse\u001b[0m\u001b[0;34m:\u001b[0m\u001b[0;34m\u001b[0m\u001b[0m\n\u001b[0;32m-> 1997\u001b[0;31m             \u001b[0;32mreturn\u001b[0m \u001b[0mself\u001b[0m\u001b[0;34m.\u001b[0m\u001b[0m_getitem_column\u001b[0m\u001b[0;34m(\u001b[0m\u001b[0mkey\u001b[0m\u001b[0;34m)\u001b[0m\u001b[0;34m\u001b[0m\u001b[0m\n\u001b[0m\u001b[1;32m   1998\u001b[0m \u001b[0;34m\u001b[0m\u001b[0m\n\u001b[1;32m   1999\u001b[0m     \u001b[0;32mdef\u001b[0m \u001b[0m_getitem_column\u001b[0m\u001b[0;34m(\u001b[0m\u001b[0mself\u001b[0m\u001b[0;34m,\u001b[0m \u001b[0mkey\u001b[0m\u001b[0;34m)\u001b[0m\u001b[0;34m:\u001b[0m\u001b[0;34m\u001b[0m\u001b[0m\n",
      "\u001b[0;32m//anaconda/lib/python3.5/site-packages/pandas/core/frame.py\u001b[0m in \u001b[0;36m_getitem_column\u001b[0;34m(self, key)\u001b[0m\n\u001b[1;32m   2002\u001b[0m         \u001b[0;31m# get column\u001b[0m\u001b[0;34m\u001b[0m\u001b[0;34m\u001b[0m\u001b[0m\n\u001b[1;32m   2003\u001b[0m         \u001b[0;32mif\u001b[0m \u001b[0mself\u001b[0m\u001b[0;34m.\u001b[0m\u001b[0mcolumns\u001b[0m\u001b[0;34m.\u001b[0m\u001b[0mis_unique\u001b[0m\u001b[0;34m:\u001b[0m\u001b[0;34m\u001b[0m\u001b[0m\n\u001b[0;32m-> 2004\u001b[0;31m             \u001b[0;32mreturn\u001b[0m \u001b[0mself\u001b[0m\u001b[0;34m.\u001b[0m\u001b[0m_get_item_cache\u001b[0m\u001b[0;34m(\u001b[0m\u001b[0mkey\u001b[0m\u001b[0;34m)\u001b[0m\u001b[0;34m\u001b[0m\u001b[0m\n\u001b[0m\u001b[1;32m   2005\u001b[0m \u001b[0;34m\u001b[0m\u001b[0m\n\u001b[1;32m   2006\u001b[0m         \u001b[0;31m# duplicate columns & possible reduce dimensionality\u001b[0m\u001b[0;34m\u001b[0m\u001b[0;34m\u001b[0m\u001b[0m\n",
      "\u001b[0;32m//anaconda/lib/python3.5/site-packages/pandas/core/generic.py\u001b[0m in \u001b[0;36m_get_item_cache\u001b[0;34m(self, item)\u001b[0m\n\u001b[1;32m   1348\u001b[0m         \u001b[0mres\u001b[0m \u001b[0;34m=\u001b[0m \u001b[0mcache\u001b[0m\u001b[0;34m.\u001b[0m\u001b[0mget\u001b[0m\u001b[0;34m(\u001b[0m\u001b[0mitem\u001b[0m\u001b[0;34m)\u001b[0m\u001b[0;34m\u001b[0m\u001b[0m\n\u001b[1;32m   1349\u001b[0m         \u001b[0;32mif\u001b[0m \u001b[0mres\u001b[0m \u001b[0;32mis\u001b[0m \u001b[0;32mNone\u001b[0m\u001b[0;34m:\u001b[0m\u001b[0;34m\u001b[0m\u001b[0m\n\u001b[0;32m-> 1350\u001b[0;31m             \u001b[0mvalues\u001b[0m \u001b[0;34m=\u001b[0m \u001b[0mself\u001b[0m\u001b[0;34m.\u001b[0m\u001b[0m_data\u001b[0m\u001b[0;34m.\u001b[0m\u001b[0mget\u001b[0m\u001b[0;34m(\u001b[0m\u001b[0mitem\u001b[0m\u001b[0;34m)\u001b[0m\u001b[0;34m\u001b[0m\u001b[0m\n\u001b[0m\u001b[1;32m   1351\u001b[0m             \u001b[0mres\u001b[0m \u001b[0;34m=\u001b[0m \u001b[0mself\u001b[0m\u001b[0;34m.\u001b[0m\u001b[0m_box_item_values\u001b[0m\u001b[0;34m(\u001b[0m\u001b[0mitem\u001b[0m\u001b[0;34m,\u001b[0m \u001b[0mvalues\u001b[0m\u001b[0;34m)\u001b[0m\u001b[0;34m\u001b[0m\u001b[0m\n\u001b[1;32m   1352\u001b[0m             \u001b[0mcache\u001b[0m\u001b[0;34m[\u001b[0m\u001b[0mitem\u001b[0m\u001b[0;34m]\u001b[0m \u001b[0;34m=\u001b[0m \u001b[0mres\u001b[0m\u001b[0;34m\u001b[0m\u001b[0m\n",
      "\u001b[0;32m//anaconda/lib/python3.5/site-packages/pandas/core/internals.py\u001b[0m in \u001b[0;36mget\u001b[0;34m(self, item, fastpath)\u001b[0m\n\u001b[1;32m   3288\u001b[0m \u001b[0;34m\u001b[0m\u001b[0m\n\u001b[1;32m   3289\u001b[0m             \u001b[0;32mif\u001b[0m \u001b[0;32mnot\u001b[0m \u001b[0misnull\u001b[0m\u001b[0;34m(\u001b[0m\u001b[0mitem\u001b[0m\u001b[0;34m)\u001b[0m\u001b[0;34m:\u001b[0m\u001b[0;34m\u001b[0m\u001b[0m\n\u001b[0;32m-> 3290\u001b[0;31m                 \u001b[0mloc\u001b[0m \u001b[0;34m=\u001b[0m \u001b[0mself\u001b[0m\u001b[0;34m.\u001b[0m\u001b[0mitems\u001b[0m\u001b[0;34m.\u001b[0m\u001b[0mget_loc\u001b[0m\u001b[0;34m(\u001b[0m\u001b[0mitem\u001b[0m\u001b[0;34m)\u001b[0m\u001b[0;34m\u001b[0m\u001b[0m\n\u001b[0m\u001b[1;32m   3291\u001b[0m             \u001b[0;32melse\u001b[0m\u001b[0;34m:\u001b[0m\u001b[0;34m\u001b[0m\u001b[0m\n\u001b[1;32m   3292\u001b[0m                 \u001b[0mindexer\u001b[0m \u001b[0;34m=\u001b[0m \u001b[0mnp\u001b[0m\u001b[0;34m.\u001b[0m\u001b[0marange\u001b[0m\u001b[0;34m(\u001b[0m\u001b[0mlen\u001b[0m\u001b[0;34m(\u001b[0m\u001b[0mself\u001b[0m\u001b[0;34m.\u001b[0m\u001b[0mitems\u001b[0m\u001b[0;34m)\u001b[0m\u001b[0;34m)\u001b[0m\u001b[0;34m[\u001b[0m\u001b[0misnull\u001b[0m\u001b[0;34m(\u001b[0m\u001b[0mself\u001b[0m\u001b[0;34m.\u001b[0m\u001b[0mitems\u001b[0m\u001b[0;34m)\u001b[0m\u001b[0;34m]\u001b[0m\u001b[0;34m\u001b[0m\u001b[0m\n",
      "\u001b[0;32m//anaconda/lib/python3.5/site-packages/pandas/indexes/base.py\u001b[0m in \u001b[0;36mget_loc\u001b[0;34m(self, key, method, tolerance)\u001b[0m\n\u001b[1;32m   1945\u001b[0m                 \u001b[0;32mreturn\u001b[0m \u001b[0mself\u001b[0m\u001b[0;34m.\u001b[0m\u001b[0m_engine\u001b[0m\u001b[0;34m.\u001b[0m\u001b[0mget_loc\u001b[0m\u001b[0;34m(\u001b[0m\u001b[0mkey\u001b[0m\u001b[0;34m)\u001b[0m\u001b[0;34m\u001b[0m\u001b[0m\n\u001b[1;32m   1946\u001b[0m             \u001b[0;32mexcept\u001b[0m \u001b[0mKeyError\u001b[0m\u001b[0;34m:\u001b[0m\u001b[0;34m\u001b[0m\u001b[0m\n\u001b[0;32m-> 1947\u001b[0;31m                 \u001b[0;32mreturn\u001b[0m \u001b[0mself\u001b[0m\u001b[0;34m.\u001b[0m\u001b[0m_engine\u001b[0m\u001b[0;34m.\u001b[0m\u001b[0mget_loc\u001b[0m\u001b[0;34m(\u001b[0m\u001b[0mself\u001b[0m\u001b[0;34m.\u001b[0m\u001b[0m_maybe_cast_indexer\u001b[0m\u001b[0;34m(\u001b[0m\u001b[0mkey\u001b[0m\u001b[0;34m)\u001b[0m\u001b[0;34m)\u001b[0m\u001b[0;34m\u001b[0m\u001b[0m\n\u001b[0m\u001b[1;32m   1948\u001b[0m \u001b[0;34m\u001b[0m\u001b[0m\n\u001b[1;32m   1949\u001b[0m         \u001b[0mindexer\u001b[0m \u001b[0;34m=\u001b[0m \u001b[0mself\u001b[0m\u001b[0;34m.\u001b[0m\u001b[0mget_indexer\u001b[0m\u001b[0;34m(\u001b[0m\u001b[0;34m[\u001b[0m\u001b[0mkey\u001b[0m\u001b[0;34m]\u001b[0m\u001b[0;34m,\u001b[0m \u001b[0mmethod\u001b[0m\u001b[0;34m=\u001b[0m\u001b[0mmethod\u001b[0m\u001b[0;34m,\u001b[0m \u001b[0mtolerance\u001b[0m\u001b[0;34m=\u001b[0m\u001b[0mtolerance\u001b[0m\u001b[0;34m)\u001b[0m\u001b[0;34m\u001b[0m\u001b[0m\n",
      "\u001b[0;32mpandas/index.pyx\u001b[0m in \u001b[0;36mpandas.index.IndexEngine.get_loc (pandas/index.c:4154)\u001b[0;34m()\u001b[0m\n",
      "\u001b[0;32mpandas/index.pyx\u001b[0m in \u001b[0;36mpandas.index.IndexEngine.get_loc (pandas/index.c:4018)\u001b[0;34m()\u001b[0m\n",
      "\u001b[0;32mpandas/hashtable.pyx\u001b[0m in \u001b[0;36mpandas.hashtable.PyObjectHashTable.get_item (pandas/hashtable.c:12368)\u001b[0;34m()\u001b[0m\n",
      "\u001b[0;32mpandas/hashtable.pyx\u001b[0m in \u001b[0;36mpandas.hashtable.PyObjectHashTable.get_item (pandas/hashtable.c:12322)\u001b[0;34m()\u001b[0m\n",
      "\u001b[0;31mKeyError\u001b[0m: 'finishedsquarefeet6'"
     ]
    }
   ],
   "source": [
    "tr['finishedsquarefeet6'].fillna(tr['finishedsquarefeet6'].value_counts().index[0],inplace=True)"
   ]
  },
  {
   "cell_type": "code",
   "execution_count": 101,
   "metadata": {},
   "outputs": [],
   "source": [
    "tr['buildingclasstypeid'].fillna(tr['buildingclasstypeid'].value_counts().index[0],inplace=True)\n",
    "tr['pooltypeid2'].fillna(tr['pooltypeid2'].value_counts().index[0],inplace=True)\n",
    "tr['taxdelinquencyyear'].fillna(tr['taxdelinquencyyear'].value_counts().index[0],inplace=True)\n",
    "tr['poolcnt'].fillna(tr['poolcnt'].value_counts().index[0],inplace=True)\n",
    "tr['basementsqft'].fillna(tr['basementsqft'].value_counts().index[0],inplace=True)\n",
    "tr['taxdelinquencyflag'].fillna(tr['taxdelinquencyflag'].value_counts().index[0],inplace=True)\n",
    "tr['fireplacecnt'].fillna(tr['fireplacecnt'].value_counts().index[0],inplace=True)\n",
    "tr['typeconstructiontypeid'].fillna(tr['typeconstructiontypeid'].value_counts().index[0],inplace=True)\n",
    "tr['poolsizesum'].fillna(tr['poolsizesum'].value_counts().index[0],inplace=True)\n",
    "tr['numberofstories'].fillna(tr['numberofstories'].value_counts().index[0],inplace=True)\n",
    "tr['garagetotalsqft'].fillna(tr['garagetotalsqft'].value_counts().index[0],inplace=True)\n",
    "tr['yardbuildingsqft26'].fillna(tr['yardbuildingsqft26'].value_counts().index[0],inplace=True)\n",
    "tr['airconditioningtypeid'].fillna(tr['airconditioningtypeid'].value_counts().index[0],inplace=True)\n",
    "tr['pooltypeid7'].fillna(tr['pooltypeid7'].value_counts().index[0],inplace=True)\n",
    "tr['finishedsquarefeet13'].fillna(tr['finishedsquarefeet13'].value_counts().index[0],inplace=True)\n",
    "tr['hashottuborspa'].fillna(tr['hashottuborspa'].value_counts().index[0],inplace=True)\n",
    "tr['regionidneighborhood'].fillna(tr['regionidneighborhood'].value_counts().index[0],inplace=True)"
   ]
  },
  {
   "cell_type": "code",
   "execution_count": 102,
   "metadata": {
    "collapsed": true
   },
   "outputs": [],
   "source": [
    "tr['architecturalstyletypeid'].fillna(tr['architecturalstyletypeid'].value_counts().index[0],inplace=True)\n",
    "tr['decktypeid'].fillna(tr['decktypeid'].value_counts().index[0],inplace=True)\n",
    "tr['garagecarcnt'].fillna(tr['garagecarcnt'].value_counts().index[0],inplace=True)\n",
    "tr['propertyzoningdesc'].fillna(tr['propertyzoningdesc'].value_counts().index[0],inplace=True)\n",
    "tr['finishedfloor1squarefeet'].fillna(tr['finishedfloor1squarefeet'].value_counts().index[0],inplace=True)\n",
    "tr['finishedsquarefeet50'].fillna(tr['finishedsquarefeet50'].value_counts().index[0],inplace=True)\n",
    "tr['pooltypeid10'].fillna(tr['pooltypeid10'].value_counts().index[0],inplace=True)\n",
    "tr['threequarterbathnbr'].fillna(tr['threequarterbathnbr'].value_counts().index[0],inplace=True)\n",
    "tr['fireplaceflag'].fillna(tr['fireplaceflag'].value_counts().index[0],inplace=True)\n",
    "tr['storytypeid'].fillna(tr['storytypeid'].value_counts().index[0],inplace=True)\n",
    "tr['finishedsquarefeet15'].fillna(tr['finishedsquarefeet15'].value_counts().index[0],inplace=True)"
   ]
  },
  {
   "cell_type": "code",
   "execution_count": 104,
   "metadata": {
    "collapsed": true
   },
   "outputs": [],
   "source": [
    "tr=h2o.H2OFrame(tr)"
   ]
  },
  {
   "cell_type": "code",
   "execution_count": null,
   "metadata": {
    "collapsed": true
   },
   "outputs": [],
   "source": [
    "# one-hot encode training frame\n",
    "train_cats_df = train[cats].as_data_frame()\n",
    "train_cats_df_dummies = pd.get_dummies(train_cats_df)\n",
    "\n",
    "\n",
    "# keep only the same new columns in the encoded new frames\n",
    "# (they different b/c of different levels in variables)\n",
    "train_diff_cols = list(set(train_cats_df_dummies.columns) - set(valid_cats_df_dummies.columns))\n",
    "#valid_diff_cols = list(set(valid_cats_df_dummies.columns) - set(train_cats_df_dummies.columns))\n",
    "train_cats_df_dummies.drop(train_diff_cols, axis=1, inplace=True)\n",
    "#valid_cats_df_dummies.drop(valid_diff_cols, axis=1, inplace=True)\n",
    "\n",
    "# check that columns are actually the same in both frames\n",
    "print(train_cats_df_dummies.shape)\n",
    "\n",
    "# one-hot encode test frame\n",
    "#test_cats_df = test[cats].as_data_frame()\n",
    "#test_cats_df_dummies = pd.get_dummies(test_cats_df)\n",
    "\n",
    "# keep only the same new columns in train and valid encoded frames\n",
    "# (they different b/c of different levels in variables)\n",
    "# remove columns in train and valid encoded frames not in encoded test frame\n",
    "# remember encoded train and valid now have same columns\n",
    "# so only need to check for train OR valid, not both\n",
    "#train_diff_cols = list(set(train_cats_df_dummies.columns) - set(test_cats_df_dummies.columns))\n",
    "#train_cats_df_dummies.drop(train_diff_cols, axis=1, inplace=True)\n",
    "#valid_cats_df_dummies.drop(train_diff_cols, axis=1, inplace=True)\n",
    "\n",
    "# check that columns are actually the same in encoded train and valid frames\n",
    "print(train_cats_df_dummies.shape)\n",
    "#print(valid_cats_df_dummies.shape)\n",
    "#print(all(train_cats_df_dummies.columns == valid_cats_df_dummies.columns))\n",
    "\n",
    "# now remove columns in encoded test not in encoded train and valid\n",
    "# (they different b/c of different levels in variables)\n",
    "#train_diff_cols = list(set(test_cats_df_dummies.columns) - set(train_cats_df_dummies.columns))\n",
    "#test_cats_df_dummies.drop(train_diff_cols, axis=1, inplace=True)\n",
    "\n",
    "# check that columns are actually the same in all encoded frames\n",
    "print(train_cats_df_dummies.shape)\n",
    "#print(valid_cats_df_dummies.shape)\n",
    "#print(test_cats_df_dummies.shape)\n",
    "p#rint(all(train_cats_df_dummies.columns == valid_cats_df_dummies.columns) and all(valid_cats_df_dummies.columns == test_cats_df_dummies.columns))\n",
    "\n",
    "# convert to h2o\n",
    "train_one_hot = h2o.H2OFrame(train_cats_df_dummies.as_matrix())\n",
    "train_one_hot.columns = list(train_cats_df_dummies.columns)\n",
    "train = train.cbind(train_one_hot)\n",
    "\n",
    "#valid_one_hot = h2o.H2OFrame(valid_cats_df_dummies.as_matrix())\n",
    "#valid_one_hot.columns = list(valid_cats_df_dummies.columns)\n",
    "#valid = valid.cbind(valid_one_hot)\n",
    "\n",
    "#test_one_hot = h2o.H2OFrame(test_cats_df_dummies.as_matrix())\n",
    "#test_one_hot.columns = list(test_cats_df_dummies.columns)\n",
    "#test = test.cbind(test_one_hot)"
   ]
  },
  {
   "cell_type": "code",
   "execution_count": 3,
   "metadata": {
    "collapsed": true
   },
   "outputs": [],
   "source": [
    "excludevars = ['ID','SalePrice']\n",
    "def get_type_lists(frame, rejects=excludevars):\n",
    "\n",
    "    \"\"\"Creates lists of numeric and categorical variables.\n",
    "    :param frame: The frame from which to determine types.\n",
    "    :param rejects: Variable names not to be included in returned lists.\n",
    "    :return: Tuple of lists for numeric and categorical variables in the frame.\n",
    "    \"\"\"\n",
    "    \n",
    "    nums, cats = [], []\n",
    "    for key, val in frame.types.items():\n",
    "        if key not in rejects:\n",
    "            if val == 'enum':\n",
    "                cats.append(key)\n",
    "            else: \n",
    "                nums.append(key)\n",
    "                \n",
    "    print('Numeric =', nums)                \n",
    "    print()\n",
    "    print('Categorical =', cats)\n",
    "    \n",
    "    return nums, cats"
   ]
  },
  {
   "cell_type": "code",
   "execution_count": 4,
   "metadata": {},
   "outputs": [
    {
     "name": "stdout",
     "output_type": "stream",
     "text": [
      "Numeric = ['OverallCond', 'MasVnrArea', 'OverallQual', 'LotArea', 'FullBath', 'GarageCars', 'Id', 'PoolArea', 'EnclosedPorch', 'WoodDeckSF', 'BedroomAbvGr', '1stFlrSF', 'KitchenAbvGr', 'MiscVal', 'BsmtHalfBath', 'YrSold', 'OpenPorchSF', 'GrLivArea', '3SsnPorch', 'BsmtFinSF1', 'MoSold', 'YearRemodAdd', '2ndFlrSF', 'MSSubClass', 'Fireplaces', 'HalfBath', 'BsmtUnfSF', 'GarageYrBlt', 'ScreenPorch', 'YearBuilt', 'TotalBsmtSF', 'TotRmsAbvGrd', 'BsmtFullBath', 'GarageArea', 'LowQualFinSF', 'LotFrontage', 'BsmtFinSF2']\n",
      "\n",
      "Categorical = ['LandSlope', 'KitchenQual', 'BsmtCond', 'GarageType', 'SaleType', 'Exterior1st', 'Utilities', 'Foundation', 'LotConfig', 'Heating', 'MasVnrType', 'MSZoning', 'BsmtExposure', 'BsmtFinType1', 'SaleCondition', 'PavedDrive', 'Street', 'Exterior2nd', 'PoolQC', 'LotShape', 'ExterQual', 'BsmtFinType2', 'CentralAir', 'HeatingQC', 'Functional', 'GarageQual', 'FireplaceQu', 'GarageFinish', 'LandContour', 'Condition2', 'Neighborhood', 'Condition1', 'Electrical', 'GarageCond', 'BldgType', 'Fence', 'Alley', 'RoofMatl', 'ExterCond', 'MiscFeature', 'RoofStyle', 'BsmtQual', 'HouseStyle']\n"
     ]
    }
   ],
   "source": [
    "original_nums, cats = get_type_lists(trainori)"
   ]
  },
  {
   "cell_type": "markdown",
   "metadata": {},
   "source": [
    "## Preprocessing"
   ]
  },
  {
   "cell_type": "code",
   "execution_count": 7,
   "metadata": {
    "collapsed": true
   },
   "outputs": [],
   "source": [
    "pandas_train = train.as_data_frame(use_pandas=True) #Convert to Pandas frame\n",
    "pandas_test = test.as_data_frame(use_pandas=True) "
   ]
  },
  {
   "cell_type": "code",
   "execution_count": 8,
   "metadata": {},
   "outputs": [
    {
     "name": "stderr",
     "output_type": "stream",
     "text": [
      "//anaconda/lib/python3.5/site-packages/ipykernel/__main__.py:5: SettingWithCopyWarning: \n",
      "A value is trying to be set on a copy of a slice from a DataFrame\n",
      "\n",
      "See the caveats in the documentation: http://pandas.pydata.org/pandas-docs/stable/indexing.html#indexing-view-versus-copy\n",
      "//anaconda/lib/python3.5/site-packages/ipykernel/__main__.py:12: SettingWithCopyWarning: \n",
      "A value is trying to be set on a copy of a slice from a DataFrame\n",
      "\n",
      "See the caveats in the documentation: http://pandas.pydata.org/pandas-docs/stable/indexing.html#indexing-view-versus-copy\n"
     ]
    }
   ],
   "source": [
    "# Lotfrontage\n",
    "temp = pandas_train.groupby('Neighborhood', as_index=False)['LotFrontage'].median()\n",
    "temp = temp.rename(columns={\"LotFrontage\":\"LotFrontage2\"})\n",
    "pandas_train = pd.merge(pandas_train, temp, how='left', on='Neighborhood')\n",
    "pandas_train['LotFrontage'][pandas_train['LotFrontage'].isnull()] = pandas_train['LotFrontage2'][pandas_train['LotFrontage'].isnull()]\n",
    "pandas_train = pandas_train.drop('LotFrontage2', axis=1)\n",
    "\n",
    "\n",
    "temp = pandas_test.groupby('Neighborhood', as_index=False)['LotFrontage'].median()\n",
    "temp = temp.rename(columns={\"LotFrontage\":\"LotFrontage2\"})\n",
    "pandas_test = pd.merge(pandas_test, temp, how='left', on='Neighborhood')\n",
    "pandas_test['LotFrontage'][pandas_test['LotFrontage'].isnull()] = pandas_test['LotFrontage2'][pandas_test['LotFrontage'].isnull()]\n",
    "pandas_test = pandas_test.drop('LotFrontage2', axis=1)"
   ]
  },
  {
   "cell_type": "code",
   "execution_count": 9,
   "metadata": {
    "collapsed": true
   },
   "outputs": [],
   "source": [
    "# Alley\n",
    "pandas_train[\"Alley\"].fillna(\"None\", inplace=True)\n",
    "\n",
    "pandas_test[\"Alley\"].fillna(\"None\", inplace=True)\n"
   ]
  },
  {
   "cell_type": "code",
   "execution_count": 10,
   "metadata": {
    "collapsed": true
   },
   "outputs": [],
   "source": [
    "# MasVnrType, MasVnrArea\n",
    "pandas_train['MasVnrType'].fillna(pandas_train['MasVnrType'].value_counts().index[0],inplace=True)\n",
    "pandas_train['MasVnrArea'].fillna(pandas_train['MasVnrArea'].mode()[0],inplace=True)\n",
    "\n",
    "\n",
    "pandas_test['MasVnrType'].fillna(pandas_train['MasVnrType'].value_counts().index[0],inplace=True)\n",
    "pandas_test['MasVnrArea'].fillna(pandas_train['MasVnrArea'].mode()[0],inplace=True)"
   ]
  },
  {
   "cell_type": "code",
   "execution_count": 11,
   "metadata": {
    "collapsed": true
   },
   "outputs": [],
   "source": [
    "# Basement related\n",
    "\n",
    "basement_cols=['BsmtQual','BsmtCond','BsmtExposure','BsmtFinType1','BsmtFinType2','BsmtFinSF1','BsmtFinSF2']\n",
    "\n",
    "pandas_train[\"BsmtQual\"].fillna(\"None\", inplace=True)\n",
    "pandas_train[\"BsmtCond\"].fillna(\"None\", inplace=True)\n",
    "pandas_train[\"BsmtExposure\"].fillna(\"None\", inplace=True)\n",
    "pandas_train[\"BsmtFinType1\"].fillna(\"None\", inplace=True)\n",
    "pandas_train[\"BsmtFinSF1\"].fillna(0, inplace=True)\n",
    "pandas_train[\"BsmtFinType2\"].fillna(\"None\", inplace=True)\n",
    "pandas_train[\"BsmtFinSF2\"].fillna(0, inplace=True)\n",
    "pandas_train[\"BsmtUnfSF\"].fillna(0, inplace=True)\n",
    "\n",
    "pandas_test[\"BsmtQual\"].fillna(\"None\", inplace=True)\n",
    "pandas_test[\"BsmtCond\"].fillna(\"None\", inplace=True)\n",
    "pandas_test[\"BsmtExposure\"].fillna(\"None\", inplace=True)\n",
    "pandas_test[\"BsmtFinType1\"].fillna(\"None\", inplace=True)\n",
    "pandas_test[\"BsmtFinSF1\"].fillna(0, inplace=True)\n",
    "pandas_test[\"BsmtFinType2\"].fillna(\"None\", inplace=True)\n",
    "pandas_test[\"BsmtFinSF2\"].fillna(0, inplace=True)\n",
    "pandas_test[\"BsmtUnfSF\"].fillna(0, inplace=True)"
   ]
  },
  {
   "cell_type": "code",
   "execution_count": 12,
   "metadata": {},
   "outputs": [
    {
     "name": "stderr",
     "output_type": "stream",
     "text": [
      "//anaconda/lib/python3.5/site-packages/ipykernel/__main__.py:1: UserWarning: Boolean Series key will be reindexed to match DataFrame index.\n",
      "  if __name__ == '__main__':\n"
     ]
    },
    {
     "data": {
      "text/html": [
       "<div>\n",
       "<table border=\"1\" class=\"dataframe\">\n",
       "  <thead>\n",
       "    <tr style=\"text-align: right;\">\n",
       "      <th></th>\n",
       "      <th>BsmtQual</th>\n",
       "      <th>BsmtCond</th>\n",
       "      <th>BsmtExposure</th>\n",
       "      <th>BsmtFinType1</th>\n",
       "      <th>BsmtFinType2</th>\n",
       "      <th>BsmtFinSF1</th>\n",
       "      <th>BsmtFinSF2</th>\n",
       "    </tr>\n",
       "  </thead>\n",
       "  <tbody>\n",
       "  </tbody>\n",
       "</table>\n",
       "</div>"
      ],
      "text/plain": [
       "Empty DataFrame\n",
       "Columns: [BsmtQual, BsmtCond, BsmtExposure, BsmtFinType1, BsmtFinType2, BsmtFinSF1, BsmtFinSF2]\n",
       "Index: []"
      ]
     },
     "execution_count": 12,
     "metadata": {},
     "output_type": "execute_result"
    }
   ],
   "source": [
    "pandas_test[basement_cols][pandas_train['BsmtQual'].isnull()==True]"
   ]
  },
  {
   "cell_type": "code",
   "execution_count": 13,
   "metadata": {
    "collapsed": true
   },
   "outputs": [],
   "source": [
    "# Electrical\n",
    "pandas_train[\"Electrical\"].fillna(\"SBrkr\", inplace=True)\n",
    "\n",
    "pandas_test[\"Electrical\"].fillna(\"SBrkr\", inplace=True)"
   ]
  },
  {
   "cell_type": "code",
   "execution_count": 14,
   "metadata": {
    "collapsed": true
   },
   "outputs": [],
   "source": [
    "# FireplaceQu\n",
    "pandas_train[\"FireplaceQu\"].fillna(\"None\", inplace=True)\n",
    "\n",
    "pandas_test[\"FireplaceQu\"].fillna(\"None\", inplace=True)"
   ]
  },
  {
   "cell_type": "code",
   "execution_count": 15,
   "metadata": {
    "collapsed": true
   },
   "outputs": [],
   "source": [
    "# Garage related\n",
    "garage_cols=['GarageType','GarageQual','GarageCond','GarageYrBlt','GarageFinish','GarageCars','GarageArea']\n",
    "\n",
    "pandas_train[\"GarageType\"].fillna(\"None\", inplace=True)\n",
    "pandas_train[\"GarageQual\"].fillna(\"None\", inplace=True)\n",
    "pandas_train[\"GarageCond\"].fillna(\"None\", inplace=True)\n",
    "pandas_train[\"GarageFinish\"].fillna(\"None\", inplace=True)\n",
    "pandas_train[\"GarageCars\"].fillna(0, inplace=True)\n",
    "pandas_train[\"GarageArea\"].fillna(0, inplace=True)\n",
    "\n",
    "pandas_test[\"GarageType\"].fillna(\"None\", inplace=True)\n",
    "pandas_test[\"GarageQual\"].fillna(\"None\", inplace=True)\n",
    "pandas_test[\"GarageCond\"].fillna(\"None\", inplace=True)\n",
    "pandas_test[\"GarageFinish\"].fillna(\"None\", inplace=True)\n",
    "pandas_test[\"GarageCars\"].fillna(0, inplace=True)\n",
    "pandas_test[\"GarageArea\"].fillna(0, inplace=True)"
   ]
  },
  {
   "cell_type": "code",
   "execution_count": 16,
   "metadata": {
    "collapsed": true
   },
   "outputs": [],
   "source": [
    "# GarageYrBlt Binning\n",
    "\n",
    "minval = pandas_train['GarageYrBlt'].min()\n",
    "maxval = pandas_train['GarageYrBlt'].max()+1\n",
    "binlist=[0,minval,1920,1940,1960,1980,2000,maxval]\n",
    "pandas_train['GarageYrBlt'].fillna(0,inplace=True)\n",
    "pandas_train['GarageYrBltBins'] = pd.cut(pandas_train['GarageYrBlt'],binlist,include_lowest=True,right=False)\n",
    "\n",
    "minval = pandas_test['GarageYrBlt'].min()\n",
    "maxval = pandas_test['GarageYrBlt'].max()+1\n",
    "binlist=[0,minval,1920,1940,1960,1980,2000,maxval]\n",
    "pandas_test['GarageYrBlt'].fillna(0,inplace=True)\n",
    "pandas_test['GarageYrBltBins'] = pd.cut(pandas_test['GarageYrBlt'],binlist,include_lowest=True,right=False)"
   ]
  },
  {
   "cell_type": "code",
   "execution_count": 17,
   "metadata": {
    "collapsed": true
   },
   "outputs": [],
   "source": [
    "# PoolQC\n",
    "pandas_train[\"PoolQC\"].fillna(\"None\", inplace=True)\n",
    "\n",
    "pandas_test[\"PoolQC\"].fillna(\"None\", inplace=True)"
   ]
  },
  {
   "cell_type": "code",
   "execution_count": 18,
   "metadata": {
    "collapsed": true
   },
   "outputs": [],
   "source": [
    "# Fence, MiscFeature\n",
    "\n",
    "pandas_train[\"Fence\"].fillna(\"None\", inplace=True)\n",
    "pandas_train[\"MiscFeature\"].fillna(\"None\", inplace=True)\n",
    "\n",
    "pandas_test[\"Fence\"].fillna(\"None\", inplace=True)\n",
    "pandas_test[\"MiscFeature\"].fillna(\"None\", inplace=True)"
   ]
  },
  {
   "cell_type": "code",
   "execution_count": 19,
   "metadata": {
    "collapsed": true
   },
   "outputs": [],
   "source": [
    "def show_missing(pandas_frame):\n",
    "    missing = pandas_frame.columns[pandas_frame.isnull().any()].tolist()\n",
    "    return missing"
   ]
  },
  {
   "cell_type": "code",
   "execution_count": 20,
   "metadata": {},
   "outputs": [
    {
     "data": {
      "text/plain": [
       "[]"
      ]
     },
     "execution_count": 20,
     "metadata": {},
     "output_type": "execute_result"
    }
   ],
   "source": [
    "show_missing(pandas_train)"
   ]
  },
  {
   "cell_type": "code",
   "execution_count": 21,
   "metadata": {},
   "outputs": [
    {
     "data": {
      "text/plain": [
       "['MSZoning',\n",
       " 'Utilities',\n",
       " 'Exterior1st',\n",
       " 'Exterior2nd',\n",
       " 'TotalBsmtSF',\n",
       " 'BsmtFullBath',\n",
       " 'BsmtHalfBath',\n",
       " 'KitchenQual',\n",
       " 'Functional',\n",
       " 'SaleType']"
      ]
     },
     "execution_count": 21,
     "metadata": {},
     "output_type": "execute_result"
    }
   ],
   "source": [
    "show_missing(pandas_test) # 나중에 처리해야.."
   ]
  },
  {
   "cell_type": "code",
   "execution_count": 22,
   "metadata": {
    "collapsed": true
   },
   "outputs": [],
   "source": [
    "train_h2o = h2o.H2OFrame(pandas_train) #Convert back to H2O frame \n",
    "test_h2o = h2o.H2OFrame(pandas_test)"
   ]
  },
  {
   "cell_type": "markdown",
   "metadata": {},
   "source": [
    "### Set categorical vars"
   ]
  },
  {
   "cell_type": "code",
   "execution_count": 23,
   "metadata": {
    "collapsed": true
   },
   "outputs": [],
   "source": [
    "train_h2o['MSSubClass'] = train_h2o['MSSubClass'].asfactor()\n",
    "train_h2o['OverallQual'] = train_h2o['OverallQual'].asfactor()\n",
    "train_h2o['OverallCond'] = train_h2o['OverallCond'].asfactor()\n",
    "train_h2o['YearBuilt'] = train_h2o['YearBuilt'].asfactor()\n",
    "train_h2o['YearRemodAdd'] = train_h2o['YearRemodAdd'].asfactor()\n",
    "#train_h2o['GarageYrBlt'] = train_h2o['GarageYrBlt'].asfactor()\n",
    "train_h2o['MoSold'] = train_h2o['MoSold'].asfactor()\n",
    "train_h2o['YrSold'] = train_h2o['YrSold'].asfactor()\n",
    "\n",
    "test_h2o['MSSubClass'] = test_h2o['MSSubClass'].asfactor()\n",
    "test_h2o['OverallQual'] = test_h2o['OverallQual'].asfactor()\n",
    "test_h2o['OverallCond'] = test_h2o['OverallCond'].asfactor()\n",
    "test_h2o['YearBuilt'] = test_h2o['YearBuilt'].asfactor()\n",
    "test_h2o['YearRemodAdd'] = test_h2o['YearRemodAdd'].asfactor()\n",
    "#test_h2o['GarageYrBlt'] = test_h2o['GarageYrBlt'].asfactor()\n",
    "test_h2o['MoSold'] = test_h2o['MoSold'].asfactor()\n",
    "test_h2o['YrSold'] = test_h2o['YrSold'].asfactor()"
   ]
  },
  {
   "cell_type": "code",
   "execution_count": 24,
   "metadata": {},
   "outputs": [
    {
     "name": "stdout",
     "output_type": "stream",
     "text": [
      "Numeric = ['MasVnrArea', 'LotArea', 'FullBath', 'GarageCars', 'PoolArea', 'EnclosedPorch', 'WoodDeckSF', 'BedroomAbvGr', '1stFlrSF', 'KitchenAbvGr', 'MiscVal', 'BsmtHalfBath', 'OpenPorchSF', 'GrLivArea', '3SsnPorch', 'BsmtFinSF1', '2ndFlrSF', 'Fireplaces', 'HalfBath', 'BsmtUnfSF', 'TotalBsmtSF', 'TotRmsAbvGrd', 'BsmtFullBath', 'GarageArea', 'LowQualFinSF', 'LotFrontage', 'BsmtFinSF2', 'ScreenPorch']\n",
      "\n",
      "Categorical = ['OverallCond', 'LandSlope', 'KitchenQual', 'BsmtCond', 'OverallQual', 'GarageType', 'SaleType', 'Exterior1st', 'Utilities', 'Foundation', 'LotConfig', 'Heating', 'MasVnrType', 'MSZoning', 'BsmtExposure', 'BsmtFinType1', 'SaleCondition', 'YrSold', 'MoSold', 'YearRemodAdd', 'PavedDrive', 'MSSubClass', 'Street', 'Exterior2nd', 'PoolQC', 'LotShape', 'ExterQual', 'BsmtFinType2', 'CentralAir', 'HeatingQC', 'Functional', 'GarageQual', 'GarageYrBltBins', 'FireplaceQu', 'GarageFinish', 'YearBuilt', 'LandContour', 'Condition2', 'Neighborhood', 'Condition1', 'Electrical', 'GarageCond', 'BldgType', 'Fence', 'Alley', 'RoofMatl', 'ExterCond', 'MiscFeature', 'RoofStyle', 'BsmtQual', 'HouseStyle']\n"
     ]
    }
   ],
   "source": [
    "excludevars = ['Id','SalePrice', 'GarageYrBltBins2','GarageYrBlt']\n",
    "nums_afterpp, cats_afterpp = get_type_lists(train_h2o, excludevars)"
   ]
  },
  {
   "cell_type": "code",
   "execution_count": 25,
   "metadata": {},
   "outputs": [
    {
     "name": "stdout",
     "output_type": "stream",
     "text": [
      "(1001, 82)\n",
      "(459, 82)\n"
     ]
    }
   ],
   "source": [
    "train, valid = train_h2o.split_frame([0.7], seed=12345)\n",
    "test = test_h2o\n",
    "print(train.shape)\n",
    "print(valid.shape)"
   ]
  },
  {
   "cell_type": "code",
   "execution_count": 26,
   "metadata": {},
   "outputs": [
    {
     "name": "stdout",
     "output_type": "stream",
     "text": [
      "Rows:1001\n",
      "Cols:82\n",
      "\n",
      "\n"
     ]
    },
    {
     "data": {
      "text/html": [
       "<table>\n",
       "<thead>\n",
       "<tr><th>       </th><th>Id               </th><th>MSSubClass  </th><th>MSZoning  </th><th>LotFrontage      </th><th>LotArea           </th><th>Street  </th><th>Alley  </th><th>LotShape  </th><th>LandContour  </th><th>Utilities  </th><th>LotConfig  </th><th>LandSlope  </th><th>Neighborhood  </th><th>Condition1  </th><th>Condition2  </th><th>BldgType  </th><th>HouseStyle  </th><th>OverallQual  </th><th>OverallCond  </th><th>YearBuilt  </th><th>YearRemodAdd  </th><th>RoofStyle  </th><th>RoofMatl  </th><th>Exterior1st  </th><th>Exterior2nd  </th><th>MasVnrType  </th><th>MasVnrArea        </th><th>ExterQual  </th><th>ExterCond  </th><th>Foundation  </th><th>BsmtQual  </th><th>BsmtCond  </th><th>BsmtExposure  </th><th>BsmtFinType1  </th><th>BsmtFinSF1        </th><th>BsmtFinType2  </th><th>BsmtFinSF2        </th><th>BsmtUnfSF         </th><th>TotalBsmtSF       </th><th>Heating  </th><th>HeatingQC  </th><th>CentralAir  </th><th>Electrical  </th><th>1stFlrSF         </th><th>2ndFlrSF          </th><th>LowQualFinSF      </th><th>GrLivArea         </th><th>BsmtFullBath      </th><th>BsmtHalfBath       </th><th>FullBath          </th><th>HalfBath          </th><th>BedroomAbvGr      </th><th>KitchenAbvGr       </th><th>KitchenQual  </th><th>TotRmsAbvGrd     </th><th>Functional  </th><th>Fireplaces        </th><th>FireplaceQu  </th><th>GarageType  </th><th>GarageYrBlt       </th><th>GarageFinish  </th><th>GarageCars        </th><th>GarageArea        </th><th>GarageQual  </th><th>GarageCond  </th><th>PavedDrive  </th><th>WoodDeckSF        </th><th>OpenPorchSF      </th><th>EnclosedPorch     </th><th>3SsnPorch         </th><th>ScreenPorch       </th><th>PoolArea         </th><th>PoolQC  </th><th>Fence  </th><th>MiscFeature  </th><th>MiscVal           </th><th>MoSold  </th><th>YrSold  </th><th>SaleType  </th><th>SaleCondition  </th><th>SalePrice         </th><th>GarageYrBltBins  </th></tr>\n",
       "</thead>\n",
       "<tbody>\n",
       "<tr><td>type   </td><td>int              </td><td>enum        </td><td>enum      </td><td>real             </td><td>int               </td><td>enum    </td><td>enum   </td><td>enum      </td><td>enum         </td><td>enum       </td><td>enum       </td><td>enum       </td><td>enum          </td><td>enum        </td><td>enum        </td><td>enum      </td><td>enum        </td><td>enum         </td><td>enum         </td><td>enum       </td><td>enum          </td><td>enum       </td><td>enum      </td><td>enum         </td><td>enum         </td><td>enum        </td><td>int               </td><td>enum       </td><td>enum       </td><td>enum        </td><td>enum      </td><td>enum      </td><td>enum          </td><td>enum          </td><td>int               </td><td>enum          </td><td>int               </td><td>int               </td><td>int               </td><td>enum     </td><td>enum       </td><td>enum        </td><td>enum        </td><td>int              </td><td>int               </td><td>int               </td><td>int               </td><td>int               </td><td>int                </td><td>int               </td><td>int               </td><td>int               </td><td>int                </td><td>enum         </td><td>int              </td><td>enum        </td><td>int               </td><td>enum         </td><td>enum        </td><td>int               </td><td>enum          </td><td>int               </td><td>int               </td><td>enum        </td><td>enum        </td><td>enum        </td><td>int               </td><td>int              </td><td>int               </td><td>int               </td><td>int               </td><td>int              </td><td>enum    </td><td>enum   </td><td>enum         </td><td>int               </td><td>enum    </td><td>enum    </td><td>enum      </td><td>enum           </td><td>int               </td><td>enum             </td></tr>\n",
       "<tr><td>mins   </td><td>1.0              </td><td>            </td><td>          </td><td>21.0             </td><td>1300.0            </td><td>        </td><td>       </td><td>          </td><td>             </td><td>           </td><td>           </td><td>           </td><td>              </td><td>            </td><td>            </td><td>          </td><td>            </td><td>             </td><td>             </td><td>           </td><td>              </td><td>           </td><td>          </td><td>             </td><td>             </td><td>            </td><td>0.0               </td><td>           </td><td>           </td><td>            </td><td>          </td><td>          </td><td>              </td><td>              </td><td>0.0               </td><td>              </td><td>0.0               </td><td>0.0               </td><td>0.0               </td><td>         </td><td>           </td><td>            </td><td>            </td><td>480.0            </td><td>0.0               </td><td>0.0               </td><td>480.0             </td><td>0.0               </td><td>0.0                </td><td>0.0               </td><td>0.0               </td><td>0.0               </td><td>0.0                </td><td>             </td><td>3.0              </td><td>            </td><td>0.0               </td><td>             </td><td>            </td><td>0.0               </td><td>              </td><td>0.0               </td><td>0.0               </td><td>            </td><td>            </td><td>            </td><td>0.0               </td><td>0.0              </td><td>0.0               </td><td>0.0               </td><td>0.0               </td><td>0.0              </td><td>        </td><td>       </td><td>             </td><td>0.0               </td><td>        </td><td>        </td><td>          </td><td>               </td><td>34900.0           </td><td>                 </td></tr>\n",
       "<tr><td>mean   </td><td>724.8291708291705</td><td>            </td><td>          </td><td>70.74475524475535</td><td>10628.262737262736</td><td>        </td><td>       </td><td>          </td><td>             </td><td>           </td><td>           </td><td>           </td><td>              </td><td>            </td><td>            </td><td>          </td><td>            </td><td>             </td><td>             </td><td>           </td><td>              </td><td>           </td><td>          </td><td>             </td><td>             </td><td>            </td><td>106.16383616383624</td><td>           </td><td>           </td><td>            </td><td>          </td><td>          </td><td>              </td><td>              </td><td>445.5994005994004 </td><td>              </td><td>41.64935064935064 </td><td>575.9900099900102 </td><td>1063.2387612387604</td><td>         </td><td>           </td><td>            </td><td>            </td><td>1172.088911088912</td><td>341.78721278721247</td><td>5.9250749250749255</td><td>1519.8011988011988</td><td>0.4265734265734266</td><td>0.05994005994005996</td><td>1.5744255744255726</td><td>0.381618381618382 </td><td>2.8711288711288696</td><td>1.0469530469530457 </td><td>             </td><td>6.512487512487514</td><td>            </td><td>0.6203796203796214</td><td>             </td><td>            </td><td>1883.850149850151 </td><td>              </td><td>1.7932067932067925</td><td>477.4685314685315 </td><td>            </td><td>            </td><td>            </td><td>91.07392607392609 </td><td>44.92407592407593</td><td>21.257742257742255</td><td>3.4565434565434567</td><td>14.763236763236765</td><td>3.376623376623376</td><td>        </td><td>       </td><td>             </td><td>39.684315684315685</td><td>        </td><td>        </td><td>          </td><td>               </td><td>182171.95904095893</td><td>                 </td></tr>\n",
       "<tr><td>maxs   </td><td>1460.0           </td><td>            </td><td>          </td><td>313.0            </td><td>164660.0          </td><td>        </td><td>       </td><td>          </td><td>             </td><td>           </td><td>           </td><td>           </td><td>              </td><td>            </td><td>            </td><td>          </td><td>            </td><td>             </td><td>             </td><td>           </td><td>              </td><td>           </td><td>          </td><td>             </td><td>             </td><td>            </td><td>1378.0            </td><td>           </td><td>           </td><td>            </td><td>          </td><td>          </td><td>              </td><td>              </td><td>5644.0            </td><td>              </td><td>1127.0            </td><td>2153.0            </td><td>6110.0            </td><td>         </td><td>           </td><td>            </td><td>            </td><td>4692.0           </td><td>2065.0            </td><td>528.0             </td><td>5642.0            </td><td>3.0               </td><td>2.0                </td><td>3.0               </td><td>2.0               </td><td>8.0               </td><td>3.0                </td><td>             </td><td>14.0             </td><td>            </td><td>3.0               </td><td>             </td><td>            </td><td>2010.0            </td><td>              </td><td>4.0               </td><td>1418.0            </td><td>            </td><td>            </td><td>            </td><td>736.0             </td><td>523.0            </td><td>552.0             </td><td>508.0             </td><td>440.0             </td><td>738.0            </td><td>        </td><td>       </td><td>             </td><td>15500.0           </td><td>        </td><td>        </td><td>          </td><td>               </td><td>755000.0          </td><td>                 </td></tr>\n",
       "<tr><td>sigma  </td><td>421.4954943866087</td><td>            </td><td>          </td><td>23.15278676455676</td><td>9442.37310711137  </td><td>        </td><td>       </td><td>          </td><td>             </td><td>           </td><td>           </td><td>           </td><td>              </td><td>            </td><td>            </td><td>          </td><td>            </td><td>             </td><td>             </td><td>           </td><td>              </td><td>           </td><td>          </td><td>             </td><td>             </td><td>            </td><td>179.66239765423683</td><td>           </td><td>           </td><td>            </td><td>          </td><td>          </td><td>              </td><td>              </td><td>467.17326588712297</td><td>              </td><td>148.91838678308972</td><td>444.45750741786287</td><td>450.4683539784607 </td><td>         </td><td>           </td><td>            </td><td>            </td><td>392.4739572085174</td><td>432.9085950594231 </td><td>49.51948485817861 </td><td>520.2774292995629 </td><td>0.5204355357324734</td><td>0.2457714312193271 </td><td>0.5538098001166959</td><td>0.5002217290580031</td><td>0.8052177496650357</td><td>0.22537348289718281</td><td>             </td><td>1.587480364002624</td><td>            </td><td>0.6416730131026673</td><td>             </td><td>            </td><td>423.68187301615546</td><td>              </td><td>0.7349787794173421</td><td>209.92257920181268</td><td>            </td><td>            </td><td>            </td><td>120.05044160464608</td><td>63.01874506660877</td><td>61.04442237008644 </td><td>29.83605804459362 </td><td>54.16981527671003 </td><td>43.98791894358055</td><td>        </td><td>       </td><td>             </td><td>516.2493547150991 </td><td>        </td><td>        </td><td>          </td><td>               </td><td>80367.94618029826 </td><td>                 </td></tr>\n",
       "<tr><td>zeros  </td><td>0                </td><td>            </td><td>          </td><td>0                </td><td>0                 </td><td>        </td><td>       </td><td>          </td><td>             </td><td>           </td><td>           </td><td>           </td><td>              </td><td>            </td><td>            </td><td>          </td><td>            </td><td>             </td><td>             </td><td>           </td><td>              </td><td>           </td><td>          </td><td>             </td><td>             </td><td>            </td><td>577               </td><td>           </td><td>           </td><td>            </td><td>          </td><td>          </td><td>              </td><td>              </td><td>326               </td><td>              </td><td>894               </td><td>78                </td><td>25                </td><td>         </td><td>           </td><td>            </td><td>            </td><td>0                </td><td>572               </td><td>984               </td><td>0                 </td><td>586               </td><td>943                </td><td>6                 </td><td>626               </td><td>4                 </td><td>1                  </td><td>             </td><td>0                </td><td>            </td><td>466               </td><td>             </td><td>            </td><td>48                </td><td>              </td><td>48                </td><td>48                </td><td>            </td><td>            </td><td>            </td><td>523               </td><td>460              </td><td>867               </td><td>985               </td><td>921               </td><td>995              </td><td>        </td><td>       </td><td>             </td><td>969               </td><td>        </td><td>        </td><td>          </td><td>               </td><td>0                 </td><td>                 </td></tr>\n",
       "<tr><td>missing</td><td>0                </td><td>0           </td><td>0         </td><td>0                </td><td>0                 </td><td>0       </td><td>0      </td><td>0         </td><td>0            </td><td>0          </td><td>0          </td><td>0          </td><td>0             </td><td>0           </td><td>0           </td><td>0         </td><td>0           </td><td>0            </td><td>0            </td><td>0          </td><td>0             </td><td>0          </td><td>0         </td><td>0            </td><td>0            </td><td>0           </td><td>0                 </td><td>0          </td><td>0          </td><td>0           </td><td>0         </td><td>0         </td><td>0             </td><td>0             </td><td>0                 </td><td>0             </td><td>0                 </td><td>0                 </td><td>0                 </td><td>0        </td><td>0          </td><td>0           </td><td>0           </td><td>0                </td><td>0                 </td><td>0                 </td><td>0                 </td><td>0                 </td><td>0                  </td><td>0                 </td><td>0                 </td><td>0                 </td><td>0                  </td><td>0            </td><td>0                </td><td>0           </td><td>0                 </td><td>0            </td><td>0           </td><td>0                 </td><td>0             </td><td>0                 </td><td>0                 </td><td>0           </td><td>0           </td><td>0           </td><td>0                 </td><td>0                </td><td>0                 </td><td>0                 </td><td>0                 </td><td>0                </td><td>0       </td><td>0      </td><td>0            </td><td>0                 </td><td>0       </td><td>0       </td><td>0         </td><td>0              </td><td>0                 </td><td>0                </td></tr>\n",
       "<tr><td>0      </td><td>1.0              </td><td>60          </td><td>RL        </td><td>65.0             </td><td>8450.0            </td><td>Pave    </td><td>None   </td><td>Reg       </td><td>Lvl          </td><td>AllPub     </td><td>Inside     </td><td>Gtl        </td><td>CollgCr       </td><td>Norm        </td><td>Norm        </td><td>1Fam      </td><td>2Story      </td><td>7            </td><td>5            </td><td>2003       </td><td>2003          </td><td>Gable      </td><td>CompShg   </td><td>VinylSd      </td><td>VinylSd      </td><td>BrkFace     </td><td>196.0             </td><td>Gd         </td><td>TA         </td><td>PConc       </td><td>Gd        </td><td>TA        </td><td>No            </td><td>GLQ           </td><td>706.0             </td><td>Unf           </td><td>0.0               </td><td>150.0             </td><td>856.0             </td><td>GasA     </td><td>Ex         </td><td>Y           </td><td>SBrkr       </td><td>856.0            </td><td>854.0             </td><td>0.0               </td><td>1710.0            </td><td>1.0               </td><td>0.0                </td><td>2.0               </td><td>1.0               </td><td>3.0               </td><td>1.0                </td><td>Gd           </td><td>8.0              </td><td>Typ         </td><td>0.0               </td><td>None         </td><td>Attchd      </td><td>2003.0            </td><td>RFn           </td><td>2.0               </td><td>548.0             </td><td>TA          </td><td>TA          </td><td>Y           </td><td>0.0               </td><td>61.0             </td><td>0.0               </td><td>0.0               </td><td>0.0               </td><td>0.0              </td><td>None    </td><td>None   </td><td>None         </td><td>0.0               </td><td>2       </td><td>2008    </td><td>WD        </td><td>Normal         </td><td>208500.0          </td><td>[2000, 2011)     </td></tr>\n",
       "<tr><td>1      </td><td>2.0              </td><td>20          </td><td>RL        </td><td>80.0             </td><td>9600.0            </td><td>Pave    </td><td>None   </td><td>Reg       </td><td>Lvl          </td><td>AllPub     </td><td>FR2        </td><td>Gtl        </td><td>Veenker       </td><td>Feedr       </td><td>Norm        </td><td>1Fam      </td><td>1Story      </td><td>6            </td><td>8            </td><td>1976       </td><td>1976          </td><td>Gable      </td><td>CompShg   </td><td>MetalSd      </td><td>MetalSd      </td><td>None        </td><td>0.0               </td><td>TA         </td><td>TA         </td><td>CBlock      </td><td>Gd        </td><td>TA        </td><td>Gd            </td><td>ALQ           </td><td>978.0             </td><td>Unf           </td><td>0.0               </td><td>284.0             </td><td>1262.0            </td><td>GasA     </td><td>Ex         </td><td>Y           </td><td>SBrkr       </td><td>1262.0           </td><td>0.0               </td><td>0.0               </td><td>1262.0            </td><td>0.0               </td><td>1.0                </td><td>2.0               </td><td>0.0               </td><td>3.0               </td><td>1.0                </td><td>TA           </td><td>6.0              </td><td>Typ         </td><td>1.0               </td><td>TA           </td><td>Attchd      </td><td>1976.0            </td><td>RFn           </td><td>2.0               </td><td>460.0             </td><td>TA          </td><td>TA          </td><td>Y           </td><td>298.0             </td><td>0.0              </td><td>0.0               </td><td>0.0               </td><td>0.0               </td><td>0.0              </td><td>None    </td><td>None   </td><td>None         </td><td>0.0               </td><td>5       </td><td>2007    </td><td>WD        </td><td>Normal         </td><td>181500.0          </td><td>[1960, 1980)     </td></tr>\n",
       "<tr><td>2      </td><td>3.0              </td><td>60          </td><td>RL        </td><td>68.0             </td><td>11250.0           </td><td>Pave    </td><td>None   </td><td>IR1       </td><td>Lvl          </td><td>AllPub     </td><td>Inside     </td><td>Gtl        </td><td>CollgCr       </td><td>Norm        </td><td>Norm        </td><td>1Fam      </td><td>2Story      </td><td>7            </td><td>5            </td><td>2001       </td><td>2002          </td><td>Gable      </td><td>CompShg   </td><td>VinylSd      </td><td>VinylSd      </td><td>BrkFace     </td><td>162.0             </td><td>Gd         </td><td>TA         </td><td>PConc       </td><td>Gd        </td><td>TA        </td><td>Mn            </td><td>GLQ           </td><td>486.0             </td><td>Unf           </td><td>0.0               </td><td>434.0             </td><td>920.0             </td><td>GasA     </td><td>Ex         </td><td>Y           </td><td>SBrkr       </td><td>920.0            </td><td>866.0             </td><td>0.0               </td><td>1786.0            </td><td>1.0               </td><td>0.0                </td><td>2.0               </td><td>1.0               </td><td>3.0               </td><td>1.0                </td><td>Gd           </td><td>6.0              </td><td>Typ         </td><td>1.0               </td><td>TA           </td><td>Attchd      </td><td>2001.0            </td><td>RFn           </td><td>2.0               </td><td>608.0             </td><td>TA          </td><td>TA          </td><td>Y           </td><td>0.0               </td><td>42.0             </td><td>0.0               </td><td>0.0               </td><td>0.0               </td><td>0.0              </td><td>None    </td><td>None   </td><td>None         </td><td>0.0               </td><td>9       </td><td>2008    </td><td>WD        </td><td>Normal         </td><td>223500.0          </td><td>[2000, 2011)     </td></tr>\n",
       "<tr><td>3      </td><td>5.0              </td><td>60          </td><td>RL        </td><td>84.0             </td><td>14260.0           </td><td>Pave    </td><td>None   </td><td>IR1       </td><td>Lvl          </td><td>AllPub     </td><td>FR2        </td><td>Gtl        </td><td>NoRidge       </td><td>Norm        </td><td>Norm        </td><td>1Fam      </td><td>2Story      </td><td>8            </td><td>5            </td><td>2000       </td><td>2000          </td><td>Gable      </td><td>CompShg   </td><td>VinylSd      </td><td>VinylSd      </td><td>BrkFace     </td><td>350.0             </td><td>Gd         </td><td>TA         </td><td>PConc       </td><td>Gd        </td><td>TA        </td><td>Av            </td><td>GLQ           </td><td>655.0             </td><td>Unf           </td><td>0.0               </td><td>490.0             </td><td>1145.0            </td><td>GasA     </td><td>Ex         </td><td>Y           </td><td>SBrkr       </td><td>1145.0           </td><td>1053.0            </td><td>0.0               </td><td>2198.0            </td><td>1.0               </td><td>0.0                </td><td>2.0               </td><td>1.0               </td><td>4.0               </td><td>1.0                </td><td>Gd           </td><td>9.0              </td><td>Typ         </td><td>1.0               </td><td>TA           </td><td>Attchd      </td><td>2000.0            </td><td>RFn           </td><td>3.0               </td><td>836.0             </td><td>TA          </td><td>TA          </td><td>Y           </td><td>192.0             </td><td>84.0             </td><td>0.0               </td><td>0.0               </td><td>0.0               </td><td>0.0              </td><td>None    </td><td>None   </td><td>None         </td><td>0.0               </td><td>12      </td><td>2008    </td><td>WD        </td><td>Normal         </td><td>250000.0          </td><td>[2000, 2011)     </td></tr>\n",
       "<tr><td>4      </td><td>6.0              </td><td>50          </td><td>RL        </td><td>85.0             </td><td>14115.0           </td><td>Pave    </td><td>None   </td><td>IR1       </td><td>Lvl          </td><td>AllPub     </td><td>Inside     </td><td>Gtl        </td><td>Mitchel       </td><td>Norm        </td><td>Norm        </td><td>1Fam      </td><td>1.5Fin      </td><td>5            </td><td>5            </td><td>1993       </td><td>1995          </td><td>Gable      </td><td>CompShg   </td><td>VinylSd      </td><td>VinylSd      </td><td>None        </td><td>0.0               </td><td>TA         </td><td>TA         </td><td>Wood        </td><td>Gd        </td><td>TA        </td><td>No            </td><td>GLQ           </td><td>732.0             </td><td>Unf           </td><td>0.0               </td><td>64.0              </td><td>796.0             </td><td>GasA     </td><td>Ex         </td><td>Y           </td><td>SBrkr       </td><td>796.0            </td><td>566.0             </td><td>0.0               </td><td>1362.0            </td><td>1.0               </td><td>0.0                </td><td>1.0               </td><td>1.0               </td><td>1.0               </td><td>1.0                </td><td>TA           </td><td>5.0              </td><td>Typ         </td><td>0.0               </td><td>None         </td><td>Attchd      </td><td>1993.0            </td><td>Unf           </td><td>2.0               </td><td>480.0             </td><td>TA          </td><td>TA          </td><td>Y           </td><td>40.0              </td><td>30.0             </td><td>0.0               </td><td>320.0             </td><td>0.0               </td><td>0.0              </td><td>None    </td><td>MnPrv  </td><td>Shed         </td><td>700.0             </td><td>10      </td><td>2009    </td><td>WD        </td><td>Normal         </td><td>143000.0          </td><td>[1980, 2000)     </td></tr>\n",
       "<tr><td>5      </td><td>7.0              </td><td>20          </td><td>RL        </td><td>75.0             </td><td>10084.0           </td><td>Pave    </td><td>None   </td><td>Reg       </td><td>Lvl          </td><td>AllPub     </td><td>Inside     </td><td>Gtl        </td><td>Somerst       </td><td>Norm        </td><td>Norm        </td><td>1Fam      </td><td>1Story      </td><td>8            </td><td>5            </td><td>2004       </td><td>2005          </td><td>Gable      </td><td>CompShg   </td><td>VinylSd      </td><td>VinylSd      </td><td>Stone       </td><td>186.0             </td><td>Gd         </td><td>TA         </td><td>PConc       </td><td>Ex        </td><td>TA        </td><td>Av            </td><td>GLQ           </td><td>1369.0            </td><td>Unf           </td><td>0.0               </td><td>317.0             </td><td>1686.0            </td><td>GasA     </td><td>Ex         </td><td>Y           </td><td>SBrkr       </td><td>1694.0           </td><td>0.0               </td><td>0.0               </td><td>1694.0            </td><td>1.0               </td><td>0.0                </td><td>2.0               </td><td>0.0               </td><td>3.0               </td><td>1.0                </td><td>Gd           </td><td>7.0              </td><td>Typ         </td><td>1.0               </td><td>Gd           </td><td>Attchd      </td><td>2004.0            </td><td>RFn           </td><td>2.0               </td><td>636.0             </td><td>TA          </td><td>TA          </td><td>Y           </td><td>255.0             </td><td>57.0             </td><td>0.0               </td><td>0.0               </td><td>0.0               </td><td>0.0              </td><td>None    </td><td>None   </td><td>None         </td><td>0.0               </td><td>8       </td><td>2007    </td><td>WD        </td><td>Normal         </td><td>307000.0          </td><td>[2000, 2011)     </td></tr>\n",
       "<tr><td>6      </td><td>9.0              </td><td>50          </td><td>RM        </td><td>51.0             </td><td>6120.0            </td><td>Pave    </td><td>None   </td><td>Reg       </td><td>Lvl          </td><td>AllPub     </td><td>Inside     </td><td>Gtl        </td><td>OldTown       </td><td>Artery      </td><td>Norm        </td><td>1Fam      </td><td>1.5Fin      </td><td>7            </td><td>5            </td><td>1931       </td><td>1950          </td><td>Gable      </td><td>CompShg   </td><td>BrkFace      </td><td>Wd Shng      </td><td>None        </td><td>0.0               </td><td>TA         </td><td>TA         </td><td>BrkTil      </td><td>TA        </td><td>TA        </td><td>No            </td><td>Unf           </td><td>0.0               </td><td>Unf           </td><td>0.0               </td><td>952.0             </td><td>952.0             </td><td>GasA     </td><td>Gd         </td><td>Y           </td><td>FuseF       </td><td>1022.0           </td><td>752.0             </td><td>0.0               </td><td>1774.0            </td><td>0.0               </td><td>0.0                </td><td>2.0               </td><td>0.0               </td><td>2.0               </td><td>2.0                </td><td>TA           </td><td>8.0              </td><td>Min1        </td><td>2.0               </td><td>TA           </td><td>Detchd      </td><td>1931.0            </td><td>Unf           </td><td>2.0               </td><td>468.0             </td><td>Fa          </td><td>TA          </td><td>Y           </td><td>90.0              </td><td>0.0              </td><td>205.0             </td><td>0.0               </td><td>0.0               </td><td>0.0              </td><td>None    </td><td>None   </td><td>None         </td><td>0.0               </td><td>4       </td><td>2008    </td><td>WD        </td><td>Abnorml        </td><td>129900.0          </td><td>[1920, 1940)     </td></tr>\n",
       "<tr><td>7      </td><td>11.0             </td><td>20          </td><td>RL        </td><td>70.0             </td><td>11200.0           </td><td>Pave    </td><td>None   </td><td>Reg       </td><td>Lvl          </td><td>AllPub     </td><td>Inside     </td><td>Gtl        </td><td>Sawyer        </td><td>Norm        </td><td>Norm        </td><td>1Fam      </td><td>1Story      </td><td>5            </td><td>5            </td><td>1965       </td><td>1965          </td><td>Hip        </td><td>CompShg   </td><td>HdBoard      </td><td>HdBoard      </td><td>None        </td><td>0.0               </td><td>TA         </td><td>TA         </td><td>CBlock      </td><td>TA        </td><td>TA        </td><td>No            </td><td>Rec           </td><td>906.0             </td><td>Unf           </td><td>0.0               </td><td>134.0             </td><td>1040.0            </td><td>GasA     </td><td>Ex         </td><td>Y           </td><td>SBrkr       </td><td>1040.0           </td><td>0.0               </td><td>0.0               </td><td>1040.0            </td><td>1.0               </td><td>0.0                </td><td>1.0               </td><td>0.0               </td><td>3.0               </td><td>1.0                </td><td>TA           </td><td>5.0              </td><td>Typ         </td><td>0.0               </td><td>None         </td><td>Detchd      </td><td>1965.0            </td><td>Unf           </td><td>1.0               </td><td>384.0             </td><td>TA          </td><td>TA          </td><td>Y           </td><td>0.0               </td><td>0.0              </td><td>0.0               </td><td>0.0               </td><td>0.0               </td><td>0.0              </td><td>None    </td><td>None   </td><td>None         </td><td>0.0               </td><td>2       </td><td>2008    </td><td>WD        </td><td>Normal         </td><td>129500.0          </td><td>[1960, 1980)     </td></tr>\n",
       "<tr><td>8      </td><td>12.0             </td><td>60          </td><td>RL        </td><td>85.0             </td><td>11924.0           </td><td>Pave    </td><td>None   </td><td>IR1       </td><td>Lvl          </td><td>AllPub     </td><td>Inside     </td><td>Gtl        </td><td>NridgHt       </td><td>Norm        </td><td>Norm        </td><td>1Fam      </td><td>2Story      </td><td>9            </td><td>5            </td><td>2005       </td><td>2006          </td><td>Hip        </td><td>CompShg   </td><td>WdShing      </td><td>Wd Shng      </td><td>Stone       </td><td>286.0             </td><td>Ex         </td><td>TA         </td><td>PConc       </td><td>Ex        </td><td>TA        </td><td>No            </td><td>GLQ           </td><td>998.0             </td><td>Unf           </td><td>0.0               </td><td>177.0             </td><td>1175.0            </td><td>GasA     </td><td>Ex         </td><td>Y           </td><td>SBrkr       </td><td>1182.0           </td><td>1142.0            </td><td>0.0               </td><td>2324.0            </td><td>1.0               </td><td>0.0                </td><td>3.0               </td><td>0.0               </td><td>4.0               </td><td>1.0                </td><td>Ex           </td><td>11.0             </td><td>Typ         </td><td>2.0               </td><td>Gd           </td><td>BuiltIn     </td><td>2005.0            </td><td>Fin           </td><td>3.0               </td><td>736.0             </td><td>TA          </td><td>TA          </td><td>Y           </td><td>147.0             </td><td>21.0             </td><td>0.0               </td><td>0.0               </td><td>0.0               </td><td>0.0              </td><td>None    </td><td>None   </td><td>None         </td><td>0.0               </td><td>7       </td><td>2006    </td><td>New       </td><td>Partial        </td><td>345000.0          </td><td>[2000, 2011)     </td></tr>\n",
       "<tr><td>9      </td><td>13.0             </td><td>20          </td><td>RL        </td><td>71.0             </td><td>12968.0           </td><td>Pave    </td><td>None   </td><td>IR2       </td><td>Lvl          </td><td>AllPub     </td><td>Inside     </td><td>Gtl        </td><td>Sawyer        </td><td>Norm        </td><td>Norm        </td><td>1Fam      </td><td>1Story      </td><td>5            </td><td>6            </td><td>1962       </td><td>1962          </td><td>Hip        </td><td>CompShg   </td><td>HdBoard      </td><td>Plywood      </td><td>None        </td><td>0.0               </td><td>TA         </td><td>TA         </td><td>CBlock      </td><td>TA        </td><td>TA        </td><td>No            </td><td>ALQ           </td><td>737.0             </td><td>Unf           </td><td>0.0               </td><td>175.0             </td><td>912.0             </td><td>GasA     </td><td>TA         </td><td>Y           </td><td>SBrkr       </td><td>912.0            </td><td>0.0               </td><td>0.0               </td><td>912.0             </td><td>1.0               </td><td>0.0                </td><td>1.0               </td><td>0.0               </td><td>2.0               </td><td>1.0                </td><td>TA           </td><td>4.0              </td><td>Typ         </td><td>0.0               </td><td>None         </td><td>Detchd      </td><td>1962.0            </td><td>Unf           </td><td>1.0               </td><td>352.0             </td><td>TA          </td><td>TA          </td><td>Y           </td><td>140.0             </td><td>0.0              </td><td>0.0               </td><td>0.0               </td><td>176.0             </td><td>0.0              </td><td>None    </td><td>None   </td><td>None         </td><td>0.0               </td><td>9       </td><td>2008    </td><td>WD        </td><td>Normal         </td><td>144000.0          </td><td>[1960, 1980)     </td></tr>\n",
       "</tbody>\n",
       "</table>"
      ]
     },
     "metadata": {},
     "output_type": "display_data"
    }
   ],
   "source": [
    "train.describe()"
   ]
  },
  {
   "cell_type": "code",
   "execution_count": 27,
   "metadata": {
    "collapsed": true
   },
   "outputs": [],
   "source": [
    "def target_encoder(training_frame, test_frame, x, y, lambda_=0.15, threshold=150, test=False):\n",
    "\n",
    "    \"\"\" Applies simple target encoding to categorical variables.\n",
    "\n",
    "    :param training_frame: Training frame which to create target means and to be encoded.\n",
    "    :param test_frame: Test frame to be encoded using information from training frame.\n",
    "    :param x: Name of input variable to be encoded.\n",
    "    :param y: Name of target variable to use for encoding.\n",
    "    :param lambda_: Balance between level mean and overall mean for small groups.\n",
    "    :param threshold: Number below which a level is considered small enough to be shrunken.\n",
    "    :param test: Whether or not to print the row_val_dict for testing purposes.\n",
    "    :return: Tuple of encoded variable from train and test set as H2OFrames.\n",
    "\n",
    "    \"\"\"\n",
    "\n",
    "    # convert to pandas\n",
    "    trdf = training_frame.as_data_frame().loc[:, [x,y]] # df\n",
    "    tss = test_frame.as_data_frame().loc[:, x]          # series\n",
    "\n",
    "\n",
    "    # create dictionary of level:encode val\n",
    "\n",
    "    encode_name = x + '_Tencode'\n",
    "    overall_mean = trdf[y].mean()\n",
    "    row_val_dict = {}\n",
    "\n",
    "    for level in trdf[x].unique():\n",
    "        level_df = trdf[trdf[x] == level][y]\n",
    "        level_n = level_df.shape[0]\n",
    "        level_mean = level_df.mean()\n",
    "        if level_n >= threshold:\n",
    "            row_val_dict[level] = level_mean\n",
    "        else:\n",
    "            row_val_dict[level] = ((1 - lambda_) * level_mean) +\\\n",
    "                                  (lambda_ * overall_mean)\n",
    "\n",
    "    row_val_dict[np.nan] = overall_mean # handle missing values\n",
    "\n",
    "    if test:\n",
    "        print(row_val_dict)\n",
    "\n",
    "    # apply the transform to training data\n",
    "    trdf[encode_name] = trdf[x].apply(lambda i: row_val_dict[i])\n",
    "\n",
    "    # apply the transform to test data\n",
    "    tsdf = pd.DataFrame(columns=[x, encode_name])\n",
    "    tsdf[x] = tss\n",
    "    tsdf.loc[:, encode_name] = overall_mean # handle previously unseen values\n",
    "    # handle values that are seen in tsdf but not row_val_dict\n",
    "    for i, col_i in enumerate(tsdf[x]):\n",
    "        try:\n",
    "            row_val_dict[col_i]\n",
    "        except:\n",
    "            # a value that appeared in tsdf isn't in the row_val_dict so just\n",
    "            # make it the overall_mean\n",
    "            row_val_dict[col_i] = overall_mean\n",
    "    tsdf[encode_name] = tsdf[x].apply(lambda i: row_val_dict[i])\n",
    "\n",
    "\n",
    "    # convert back to H2O\n",
    "\n",
    "    trdf = h2o.H2OFrame(trdf[encode_name].as_matrix())\n",
    "    trdf.columns = [encode_name]\n",
    "\n",
    "    tsdf = h2o.H2OFrame(tsdf[encode_name].as_matrix())\n",
    "    tsdf.columns = [encode_name]\n",
    "\n",
    "    return (trdf, tsdf)\n"
   ]
  },
  {
   "cell_type": "code",
   "execution_count": 28,
   "metadata": {
    "scrolled": true
   },
   "outputs": [
    {
     "name": "stdout",
     "output_type": "stream",
     "text": [
      "Encoding: OverallCond (1/51) ...\n",
      "Encoding: LandSlope (2/51) ...\n",
      "Encoding: KitchenQual (3/51) ...\n",
      "Encoding: BsmtCond (4/51) ...\n",
      "Encoding: OverallQual (5/51) ...\n",
      "Encoding: GarageType (6/51) ...\n",
      "Encoding: SaleType (7/51) ...\n",
      "Encoding: Exterior1st (8/51) ...\n",
      "Encoding: Utilities (9/51) ...\n",
      "Encoding: Foundation (10/51) ...\n",
      "Encoding: LotConfig (11/51) ...\n",
      "Encoding: Heating (12/51) ...\n",
      "Encoding: MasVnrType (13/51) ...\n",
      "Encoding: MSZoning (14/51) ...\n",
      "Encoding: BsmtExposure (15/51) ...\n",
      "Encoding: BsmtFinType1 (16/51) ...\n",
      "Encoding: SaleCondition (17/51) ...\n",
      "Encoding: YrSold (18/51) ...\n",
      "Encoding: MoSold (19/51) ...\n",
      "Encoding: YearRemodAdd (20/51) ...\n",
      "Encoding: PavedDrive (21/51) ...\n",
      "Encoding: MSSubClass (22/51) ...\n",
      "Encoding: Street (23/51) ...\n",
      "Encoding: Exterior2nd (24/51) ...\n",
      "Encoding: PoolQC (25/51) ...\n",
      "Encoding: LotShape (26/51) ...\n",
      "Encoding: ExterQual (27/51) ...\n",
      "Encoding: BsmtFinType2 (28/51) ...\n",
      "Encoding: CentralAir (29/51) ...\n",
      "Encoding: HeatingQC (30/51) ...\n",
      "Encoding: Functional (31/51) ...\n",
      "Encoding: GarageQual (32/51) ...\n",
      "Encoding: GarageYrBltBins (33/51) ...\n",
      "Encoding: FireplaceQu (34/51) ...\n",
      "Encoding: GarageFinish (35/51) ...\n",
      "Encoding: YearBuilt (36/51) ...\n",
      "Encoding: LandContour (37/51) ...\n",
      "Encoding: Condition2 (38/51) ...\n",
      "Encoding: Neighborhood (39/51) ...\n",
      "Encoding: Condition1 (40/51) ...\n",
      "Encoding: Electrical (41/51) ...\n",
      "Encoding: GarageCond (42/51) ...\n",
      "Encoding: BldgType (43/51) ...\n",
      "Encoding: Fence (44/51) ...\n",
      "Encoding: Alley (45/51) ...\n",
      "Encoding: RoofMatl (46/51) ...\n",
      "Encoding: ExterCond (47/51) ...\n",
      "Encoding: MiscFeature (48/51) ...\n",
      "Encoding: RoofStyle (49/51) ...\n",
      "Encoding: BsmtQual (50/51) ...\n",
      "Encoding: HouseStyle (51/51) ...\n",
      "Done.\n"
     ]
    }
   ],
   "source": [
    "total = len(cats_afterpp)\n",
    "for i, var in enumerate(cats_afterpp):\n",
    "    \n",
    "    tr_enc, _ = target_encoder(train, test, var, 'SalePrice')\n",
    "    v_enc, ts_enc = target_encoder(valid, test, var, 'SalePrice')\n",
    "    \n",
    "    print('Encoding: ' + var + ' (' + str(i+1) + '/' + str(total) + ') ...')\n",
    "\n",
    "    train = train.cbind(tr_enc)\n",
    "    valid = valid.cbind(v_enc)\n",
    "    test = test.cbind(ts_enc)    \n",
    "    \n",
    "print('Done.')"
   ]
  },
  {
   "cell_type": "code",
   "execution_count": 29,
   "metadata": {},
   "outputs": [
    {
     "name": "stdout",
     "output_type": "stream",
     "text": [
      "Rows:1001\n",
      "Cols:133\n",
      "\n",
      "\n"
     ]
    },
    {
     "data": {
      "text/html": [
       "<table>\n",
       "<thead>\n",
       "<tr><th>       </th><th>Id               </th><th>MSSubClass  </th><th>MSZoning  </th><th>LotFrontage      </th><th>LotArea           </th><th>Street  </th><th>Alley  </th><th>LotShape  </th><th>LandContour  </th><th>Utilities  </th><th>LotConfig  </th><th>LandSlope  </th><th>Neighborhood  </th><th>Condition1  </th><th>Condition2  </th><th>BldgType  </th><th>HouseStyle  </th><th>OverallQual  </th><th>OverallCond  </th><th>YearBuilt  </th><th>YearRemodAdd  </th><th>RoofStyle  </th><th>RoofMatl  </th><th>Exterior1st  </th><th>Exterior2nd  </th><th>MasVnrType  </th><th>MasVnrArea        </th><th>ExterQual  </th><th>ExterCond  </th><th>Foundation  </th><th>BsmtQual  </th><th>BsmtCond  </th><th>BsmtExposure  </th><th>BsmtFinType1  </th><th>BsmtFinSF1        </th><th>BsmtFinType2  </th><th>BsmtFinSF2        </th><th>BsmtUnfSF         </th><th>TotalBsmtSF       </th><th>Heating  </th><th>HeatingQC  </th><th>CentralAir  </th><th>Electrical  </th><th>1stFlrSF         </th><th>2ndFlrSF          </th><th>LowQualFinSF      </th><th>GrLivArea         </th><th>BsmtFullBath      </th><th>BsmtHalfBath       </th><th>FullBath          </th><th>HalfBath          </th><th>BedroomAbvGr      </th><th>KitchenAbvGr       </th><th>KitchenQual  </th><th>TotRmsAbvGrd     </th><th>Functional  </th><th>Fireplaces        </th><th>FireplaceQu  </th><th>GarageType  </th><th>GarageYrBlt       </th><th>GarageFinish  </th><th>GarageCars        </th><th>GarageArea        </th><th>GarageQual  </th><th>GarageCond  </th><th>PavedDrive  </th><th>WoodDeckSF        </th><th>OpenPorchSF      </th><th>EnclosedPorch     </th><th>3SsnPorch         </th><th>ScreenPorch       </th><th>PoolArea         </th><th>PoolQC  </th><th>Fence  </th><th>MiscFeature  </th><th>MiscVal           </th><th>MoSold  </th><th>YrSold  </th><th>SaleType  </th><th>SaleCondition  </th><th>SalePrice         </th><th>GarageYrBltBins  </th><th>OverallCond_Tencode  </th><th>LandSlope_Tencode  </th><th>KitchenQual_Tencode  </th><th>BsmtCond_Tencode  </th><th>OverallQual_Tencode  </th><th>GarageType_Tencode  </th><th>SaleType_Tencode  </th><th>Exterior1st_Tencode  </th><th>Utilities_Tencode  </th><th>Foundation_Tencode  </th><th>LotConfig_Tencode  </th><th>Heating_Tencode   </th><th>MasVnrType_Tencode  </th><th>MSZoning_Tencode  </th><th>BsmtExposure_Tencode  </th><th>BsmtFinType1_Tencode  </th><th>SaleCondition_Tencode  </th><th>YrSold_Tencode    </th><th>MoSold_Tencode    </th><th>YearRemodAdd_Tencode  </th><th>PavedDrive_Tencode  </th><th>MSSubClass_Tencode  </th><th>Street_Tencode    </th><th>Exterior2nd_Tencode  </th><th>PoolQC_Tencode    </th><th>LotShape_Tencode  </th><th>ExterQual_Tencode  </th><th>BsmtFinType2_Tencode  </th><th>CentralAir_Tencode  </th><th>HeatingQC_Tencode  </th><th>Functional_Tencode  </th><th>GarageQual_Tencode  </th><th>GarageYrBltBins_Tencode  </th><th>FireplaceQu_Tencode  </th><th>GarageFinish_Tencode  </th><th>YearBuilt_Tencode  </th><th>LandContour_Tencode  </th><th>Condition2_Tencode  </th><th>Neighborhood_Tencode  </th><th>Condition1_Tencode  </th><th>Electrical_Tencode  </th><th>GarageCond_Tencode  </th><th>BldgType_Tencode  </th><th>Fence_Tencode     </th><th>Alley_Tencode     </th><th>RoofMatl_Tencode  </th><th>ExterCond_Tencode  </th><th>MiscFeature_Tencode  </th><th>RoofStyle_Tencode  </th><th>BsmtQual_Tencode  </th><th>HouseStyle_Tencode  </th></tr>\n",
       "</thead>\n",
       "<tbody>\n",
       "<tr><td>type   </td><td>int              </td><td>enum        </td><td>enum      </td><td>real             </td><td>int               </td><td>enum    </td><td>enum   </td><td>enum      </td><td>enum         </td><td>enum       </td><td>enum       </td><td>enum       </td><td>enum          </td><td>enum        </td><td>enum        </td><td>enum      </td><td>enum        </td><td>enum         </td><td>enum         </td><td>enum       </td><td>enum          </td><td>enum       </td><td>enum      </td><td>enum         </td><td>enum         </td><td>enum        </td><td>int               </td><td>enum       </td><td>enum       </td><td>enum        </td><td>enum      </td><td>enum      </td><td>enum          </td><td>enum          </td><td>int               </td><td>enum          </td><td>int               </td><td>int               </td><td>int               </td><td>enum     </td><td>enum       </td><td>enum        </td><td>enum        </td><td>int              </td><td>int               </td><td>int               </td><td>int               </td><td>int               </td><td>int                </td><td>int               </td><td>int               </td><td>int               </td><td>int                </td><td>enum         </td><td>int              </td><td>enum        </td><td>int               </td><td>enum         </td><td>enum        </td><td>int               </td><td>enum          </td><td>int               </td><td>int               </td><td>enum        </td><td>enum        </td><td>enum        </td><td>int               </td><td>int              </td><td>int               </td><td>int               </td><td>int               </td><td>int              </td><td>enum    </td><td>enum   </td><td>enum         </td><td>int               </td><td>enum    </td><td>enum    </td><td>enum      </td><td>enum           </td><td>int               </td><td>enum             </td><td>real                 </td><td>real               </td><td>real                 </td><td>real              </td><td>real                 </td><td>real                </td><td>real              </td><td>real                 </td><td>real               </td><td>real                </td><td>real               </td><td>real              </td><td>real                </td><td>real              </td><td>real                  </td><td>real                  </td><td>real                   </td><td>real              </td><td>real              </td><td>real                  </td><td>real                </td><td>real                </td><td>real              </td><td>real                 </td><td>real              </td><td>real              </td><td>real               </td><td>real                  </td><td>real                </td><td>real               </td><td>real                </td><td>real                </td><td>real                     </td><td>real                 </td><td>real                  </td><td>real               </td><td>real                 </td><td>real                </td><td>real                  </td><td>real                </td><td>real                </td><td>real                </td><td>real              </td><td>real              </td><td>real              </td><td>real              </td><td>real               </td><td>real                 </td><td>real               </td><td>real              </td><td>real                </td></tr>\n",
       "<tr><td>mins   </td><td>1.0              </td><td>            </td><td>          </td><td>21.0             </td><td>1300.0            </td><td>        </td><td>       </td><td>          </td><td>             </td><td>           </td><td>           </td><td>           </td><td>              </td><td>            </td><td>            </td><td>          </td><td>            </td><td>             </td><td>             </td><td>           </td><td>              </td><td>           </td><td>          </td><td>             </td><td>             </td><td>            </td><td>0.0               </td><td>           </td><td>           </td><td>            </td><td>          </td><td>          </td><td>              </td><td>              </td><td>0.0               </td><td>              </td><td>0.0               </td><td>0.0               </td><td>0.0               </td><td>         </td><td>           </td><td>            </td><td>            </td><td>480.0            </td><td>0.0               </td><td>0.0               </td><td>480.0             </td><td>0.0               </td><td>0.0                </td><td>0.0               </td><td>0.0               </td><td>0.0               </td><td>0.0                </td><td>             </td><td>3.0              </td><td>            </td><td>0.0               </td><td>             </td><td>            </td><td>0.0               </td><td>              </td><td>0.0               </td><td>0.0               </td><td>            </td><td>            </td><td>            </td><td>0.0               </td><td>0.0              </td><td>0.0               </td><td>0.0               </td><td>0.0               </td><td>0.0              </td><td>        </td><td>       </td><td>             </td><td>0.0               </td><td>        </td><td>        </td><td>          </td><td>               </td><td>34900.0           </td><td>                 </td><td>116283.85154845155   </td><td>181486.5182747485  </td><td>124936.94820396995   </td><td>84275.79385614385 </td><td>57340.143856143855   </td><td>119405.5855228105   </td><td>125968.29385614385</td><td>78325.79385614385    </td><td>144200.79385614386 </td><td>121726.89385614387  </td><td>176473.2899159664  </td><td>93469.96052281052 </td><td>156555.86183074262  </td><td>78614.79385614385 </td><td>123956.21308691308    </td><td>121276.42985614385    </td><td>115832.04385614385     </td><td>179239.41089108912</td><td>171267.6210300569 </td><td>104035.31885614386    </td><td>129253.89464979463  </td><td>110931.40933233431  </td><td>146350.10385614386</td><td>129978.23968947721   </td><td>181425.2874371859 </td><td>163944.59385614382</td><td>116078.96885614384 </td><td>126947.55924075923    </td><td>119608.23368665231  </td><td>135668.69902855766 </td><td>110059.12718947718  </td><td>96813.29385614385   </td><td>119405.5855228105        </td><td>141462.34885614386   </td><td>119405.5855228105     </td><td>103613.29385614385 </td><td>145140.16285614387   </td><td>108075.79385614385  </td><td>109690.79385614385    </td><td>134468.29385614386  </td><td>84275.79385614385   </td><td>112070.79385614385  </td><td>138273.46052281052</td><td>141306.73814185814</td><td>128075.200999001  </td><td>143775.79385614386</td><td>122047.14941169939 </td><td>140375.79385614386   </td><td>161577.2224275724  </td><td>121216.12093947716</td><td>118907.22242757239  </td></tr>\n",
       "<tr><td>mean   </td><td>724.8291708291705</td><td>            </td><td>          </td><td>70.74475524475535</td><td>10628.262737262736</td><td>        </td><td>       </td><td>          </td><td>             </td><td>           </td><td>           </td><td>           </td><td>              </td><td>            </td><td>            </td><td>          </td><td>            </td><td>             </td><td>             </td><td>           </td><td>              </td><td>           </td><td>          </td><td>             </td><td>             </td><td>            </td><td>106.16383616383624</td><td>           </td><td>           </td><td>            </td><td>          </td><td>          </td><td>              </td><td>              </td><td>445.5994005994004 </td><td>              </td><td>41.64935064935064 </td><td>575.9900099900102 </td><td>1063.2387612387604</td><td>         </td><td>           </td><td>            </td><td>            </td><td>1172.088911088912</td><td>341.78721278721247</td><td>5.9250749250749255</td><td>1519.8011988011988</td><td>0.4265734265734266</td><td>0.05994005994005996</td><td>1.5744255744255726</td><td>0.381618381618382 </td><td>2.8711288711288696</td><td>1.0469530469530457 </td><td>             </td><td>6.512487512487514</td><td>            </td><td>0.6203796203796214</td><td>             </td><td>            </td><td>1883.850149850151 </td><td>              </td><td>1.7932067932067925</td><td>477.4685314685315 </td><td>            </td><td>            </td><td>            </td><td>91.07392607392609 </td><td>44.92407592407593</td><td>21.257742257742255</td><td>3.4565434565434567</td><td>14.763236763236765</td><td>3.376623376623376</td><td>        </td><td>       </td><td>             </td><td>39.684315684315685</td><td>        </td><td>        </td><td>          </td><td>               </td><td>182171.95904095893</td><td>                 </td><td>183250.586628257     </td><td>182145.0556687068  </td><td>180810.9702399497    </td><td>182522.25164540764</td><td>180290.10698776753   </td><td>182245.84650479382  </td><td>181180.3311701287 </td><td>183565.71379414786   </td><td>182178.6531407155  </td><td>183119.90242260238  </td><td>181772.16118142588 </td><td>182323.57985955084</td><td>180953.6910454183   </td><td>183387.92640181998</td><td>181332.52799323562    </td><td>184124.927790092      </td><td>181541.3249445857      </td><td>182185.62702342597</td><td>182085.76055692547</td><td>182171.95904095907    </td><td>182908.1805595005   </td><td>184318.41699728824  </td><td>182203.5349842965 </td><td>183994.5260926888    </td><td>182060.62963350347</td><td>181993.92786324595</td><td>181095.696027499   </td><td>182622.35788112954    </td><td>182822.70708043195  </td><td>182409.70856326495 </td><td>182576.2453368812   </td><td>183008.55356277092  </td><td>184028.82781249733       </td><td>181849.37466200133   </td><td>182703.09600908577    </td><td>182171.95904095916 </td><td>182186.7329973223    </td><td>182224.44204037718  </td><td>182171.95904095893    </td><td>182645.11776425384  </td><td>182937.98398065448  </td><td>182992.97056335275  </td><td>182849.79797599994</td><td>183005.0923464647 </td><td>182525.0014360763 </td><td>182033.94005549914</td><td>182637.23505924654 </td><td>182343.8002408678    </td><td>182159.00869385348 </td><td>180724.5454251543 </td><td>183188.2563525883   </td></tr>\n",
       "<tr><td>maxs   </td><td>1460.0           </td><td>            </td><td>          </td><td>313.0            </td><td>164660.0          </td><td>        </td><td>       </td><td>          </td><td>             </td><td>           </td><td>           </td><td>           </td><td>              </td><td>            </td><td>            </td><td>          </td><td>            </td><td>             </td><td>             </td><td>           </td><td>              </td><td>           </td><td>          </td><td>             </td><td>             </td><td>            </td><td>1378.0            </td><td>           </td><td>           </td><td>            </td><td>          </td><td>          </td><td>              </td><td>              </td><td>5644.0            </td><td>              </td><td>1127.0            </td><td>2153.0            </td><td>6110.0            </td><td>         </td><td>           </td><td>            </td><td>            </td><td>4692.0           </td><td>2065.0            </td><td>528.0             </td><td>5642.0            </td><td>3.0               </td><td>2.0                </td><td>3.0               </td><td>2.0               </td><td>8.0               </td><td>3.0                </td><td>             </td><td>14.0             </td><td>            </td><td>3.0               </td><td>             </td><td>            </td><td>2010.0            </td><td>              </td><td>4.0               </td><td>1418.0            </td><td>            </td><td>            </td><td>            </td><td>736.0             </td><td>523.0            </td><td>552.0             </td><td>508.0             </td><td>440.0             </td><td>738.0            </td><td>        </td><td>       </td><td>             </td><td>15500.0           </td><td>        </td><td>        </td><td>          </td><td>               </td><td>755000.0          </td><td>                 </td><td>202661.43181818182   </td><td>200379.84385614382 </td><td>305958.08769176033   </td><td>212500.14385614384</td><td>411753.33231768233   </td><td>243875.54558028182  </td><td>263880.6876061438 </td><td>250025.79385614384   </td><td>182216.631         </td><td>226465.8274336283   </td><td>215932.78135614385 </td><td>185483.95814185814</td><td>256064.37787676242  </td><td>204495.20385614387</td><td>243510.2073978105     </td><td>236446.98648648648    </td><td>260380.61674771016     </td><td>186896.74166666667</td><td>198254.40597735601</td><td>313744.7688561438     </td><td>187523.8671023965   </td><td>243184.96534653462  </td><td>182383.5220883534 </td><td>298475.79385614384   </td><td>443825.79385614384</td><td>220137.0973044197 </td><td>348876.58744588745 </td><td>218122.46052281052    </td><td>186782.0            </td><td>216426.0           </td><td>185063.63879957132  </td><td>222252.04385614384  </td><td>239676.72027972032       </td><td>306119.08332982805   </td><td>243708.832            </td><td>362592.99385614385 </td><td>215016.8662245649    </td><td>269469.54385614384  </td><td>329868.3581418581     </td><td>219155.3393106893   </td><td>187716.3622559653   </td><td>188146.7502726281   </td><td>187595.7541966427 </td><td>189018.974137931  </td><td>184672.98832271763</td><td>669075.7938561438 </td><td>185708.33940774488 </td><td>239825.79385614384   </td><td>248325.79385614384 </td><td>312352.66653056245</td><td>210965.119205298    </td></tr>\n",
       "<tr><td>sigma  </td><td>421.4954943866087</td><td>            </td><td>          </td><td>23.15278676455676</td><td>9442.37310711137  </td><td>        </td><td>       </td><td>          </td><td>             </td><td>           </td><td>           </td><td>           </td><td>              </td><td>            </td><td>            </td><td>          </td><td>            </td><td>             </td><td>             </td><td>           </td><td>              </td><td>           </td><td>          </td><td>             </td><td>             </td><td>            </td><td>179.66239765423683</td><td>           </td><td>           </td><td>            </td><td>          </td><td>          </td><td>              </td><td>              </td><td>467.17326588712297</td><td>              </td><td>148.91838678308972</td><td>444.45750741786287</td><td>450.4683539784607 </td><td>         </td><td>           </td><td>            </td><td>            </td><td>392.4739572085174</td><td>432.9085950594231 </td><td>49.51948485817861 </td><td>520.2774292995629 </td><td>0.5204355357324734</td><td>0.2457714312193271 </td><td>0.5538098001166959</td><td>0.5002217290580031</td><td>0.8052177496650357</td><td>0.22537348289718281</td><td>             </td><td>1.587480364002624</td><td>            </td><td>0.6416730131026673</td><td>             </td><td>            </td><td>423.68187301615546</td><td>              </td><td>0.7349787794173421</td><td>209.92257920181268</td><td>            </td><td>            </td><td>            </td><td>120.05044160464608</td><td>63.01874506660877</td><td>61.04442237008644 </td><td>29.83605804459362 </td><td>54.16981527671003 </td><td>43.98791894358055</td><td>        </td><td>       </td><td>             </td><td>516.2493547150991 </td><td>        </td><td>        </td><td>          </td><td>               </td><td>80367.94618029826 </td><td>                 </td><td>23878.60607396363    </td><td>1835.4154172265153 </td><td>49556.81599252627    </td><td>14302.859526666482</td><td>58402.9609943276     </td><td>36865.89240600122   </td><td>25459.930478733866</td><td>29589.150408848287   </td><td>1201.5656926005156 </td><td>39735.240377141236  </td><td>10669.040225587902 </td><td>8588.039549532357 </td><td>32513.444047378878  </td><td>22616.419950331485</td><td>26179.291204996774    </td><td>35223.67981963558     </td><td>24904.82535576665      </td><td>2758.862801413868 </td><td>8240.20571837234  </td><td>38617.88648752911     </td><td>15415.629575665147  </td><td>36476.82137140024   </td><td>2541.57596669905  </td><td>30224.673393447127   </td><td>11901.388296801693</td><td>21926.258171174657</td><td>52277.89924581866  </td><td>11550.862509420635    </td><td>15828.294334486298  </td><td>35398.54044306139  </td><td>9673.47275081667    </td><td>18601.506242713353  </td><td>41226.63262266888        </td><td>40541.64241671104    </td><td>43904.519304777365    </td><td>46504.44964927137  </td><td>11064.930655592716   </td><td>6389.719881512636   </td><td>51529.9324408036      </td><td>13080.75973520577   </td><td>16464.287213227504  </td><td>17804.37971784183   </td><td>13615.68412825508 </td><td>13504.518364088008</td><td>9766.58876414746  </td><td>15980.206375764057</td><td>9945.861000354027  </td><td>6090.240696354947    </td><td>20695.377655471344 </td><td>49983.0128988164  </td><td>21247.331540214996  </td></tr>\n",
       "<tr><td>zeros  </td><td>0                </td><td>            </td><td>          </td><td>0                </td><td>0                 </td><td>        </td><td>       </td><td>          </td><td>             </td><td>           </td><td>           </td><td>           </td><td>              </td><td>            </td><td>            </td><td>          </td><td>            </td><td>             </td><td>             </td><td>           </td><td>              </td><td>           </td><td>          </td><td>             </td><td>             </td><td>            </td><td>577               </td><td>           </td><td>           </td><td>            </td><td>          </td><td>          </td><td>              </td><td>              </td><td>326               </td><td>              </td><td>894               </td><td>78                </td><td>25                </td><td>         </td><td>           </td><td>            </td><td>            </td><td>0                </td><td>572               </td><td>984               </td><td>0                 </td><td>586               </td><td>943                </td><td>6                 </td><td>626               </td><td>4                 </td><td>1                  </td><td>             </td><td>0                </td><td>            </td><td>466               </td><td>             </td><td>            </td><td>48                </td><td>              </td><td>48                </td><td>48                </td><td>            </td><td>            </td><td>            </td><td>523               </td><td>460              </td><td>867               </td><td>985               </td><td>921               </td><td>995              </td><td>        </td><td>       </td><td>             </td><td>969               </td><td>        </td><td>        </td><td>          </td><td>               </td><td>0                 </td><td>                 </td><td>0                    </td><td>0                  </td><td>0                    </td><td>0                 </td><td>0                    </td><td>0                   </td><td>0                 </td><td>0                    </td><td>0                  </td><td>0                   </td><td>0                  </td><td>0                 </td><td>0                   </td><td>0                 </td><td>0                     </td><td>0                     </td><td>0                      </td><td>0                 </td><td>0                 </td><td>0                     </td><td>0                   </td><td>0                   </td><td>0                 </td><td>0                    </td><td>0                 </td><td>0                 </td><td>0                  </td><td>0                     </td><td>0                   </td><td>0                  </td><td>0                   </td><td>0                   </td><td>0                        </td><td>0                    </td><td>0                     </td><td>0                  </td><td>0                    </td><td>0                   </td><td>0                     </td><td>0                   </td><td>0                   </td><td>0                   </td><td>0                 </td><td>0                 </td><td>0                 </td><td>0                 </td><td>0                  </td><td>0                    </td><td>0                  </td><td>0                 </td><td>0                   </td></tr>\n",
       "<tr><td>missing</td><td>0                </td><td>0           </td><td>0         </td><td>0                </td><td>0                 </td><td>0       </td><td>0      </td><td>0         </td><td>0            </td><td>0          </td><td>0          </td><td>0          </td><td>0             </td><td>0           </td><td>0           </td><td>0         </td><td>0           </td><td>0            </td><td>0            </td><td>0          </td><td>0             </td><td>0          </td><td>0         </td><td>0            </td><td>0            </td><td>0           </td><td>0                 </td><td>0          </td><td>0          </td><td>0           </td><td>0         </td><td>0         </td><td>0             </td><td>0             </td><td>0                 </td><td>0             </td><td>0                 </td><td>0                 </td><td>0                 </td><td>0        </td><td>0          </td><td>0           </td><td>0           </td><td>0                </td><td>0                 </td><td>0                 </td><td>0                 </td><td>0                 </td><td>0                  </td><td>0                 </td><td>0                 </td><td>0                 </td><td>0                  </td><td>0            </td><td>0                </td><td>0           </td><td>0                 </td><td>0            </td><td>0           </td><td>0                 </td><td>0             </td><td>0                 </td><td>0                 </td><td>0           </td><td>0           </td><td>0           </td><td>0                 </td><td>0                </td><td>0                 </td><td>0                 </td><td>0                 </td><td>0                </td><td>0       </td><td>0      </td><td>0            </td><td>0                 </td><td>0       </td><td>0       </td><td>0         </td><td>0              </td><td>0                 </td><td>0                </td><td>0                    </td><td>0                  </td><td>0                    </td><td>0                 </td><td>0                    </td><td>0                   </td><td>0                 </td><td>0                    </td><td>0                  </td><td>0                   </td><td>0                  </td><td>0                 </td><td>0                   </td><td>0                 </td><td>0                     </td><td>0                     </td><td>0                      </td><td>0                 </td><td>0                 </td><td>0                     </td><td>0                   </td><td>0                   </td><td>0                 </td><td>0                    </td><td>0                 </td><td>0                 </td><td>0                  </td><td>0                     </td><td>0                   </td><td>0                  </td><td>0                   </td><td>0                   </td><td>0                        </td><td>0                    </td><td>0                     </td><td>0                  </td><td>0                    </td><td>0                   </td><td>0                     </td><td>0                   </td><td>0                   </td><td>0                   </td><td>0                 </td><td>0                 </td><td>0                 </td><td>0                 </td><td>0                  </td><td>0                    </td><td>0                  </td><td>0                 </td><td>0                   </td></tr>\n",
       "<tr><td>0      </td><td>1.0              </td><td>60          </td><td>RL        </td><td>65.0             </td><td>8450.0            </td><td>Pave    </td><td>None   </td><td>Reg       </td><td>Lvl          </td><td>AllPub     </td><td>Inside     </td><td>Gtl        </td><td>CollgCr       </td><td>Norm        </td><td>Norm        </td><td>1Fam      </td><td>2Story      </td><td>7            </td><td>5            </td><td>2003       </td><td>2003          </td><td>Gable      </td><td>CompShg   </td><td>VinylSd      </td><td>VinylSd      </td><td>BrkFace     </td><td>196.0             </td><td>Gd         </td><td>TA         </td><td>PConc       </td><td>Gd        </td><td>TA        </td><td>No            </td><td>GLQ           </td><td>706.0             </td><td>Unf           </td><td>0.0               </td><td>150.0             </td><td>856.0             </td><td>GasA     </td><td>Ex         </td><td>Y           </td><td>SBrkr       </td><td>856.0            </td><td>854.0             </td><td>0.0               </td><td>1710.0            </td><td>1.0               </td><td>0.0                </td><td>2.0               </td><td>1.0               </td><td>3.0               </td><td>1.0                </td><td>Gd           </td><td>8.0              </td><td>Typ         </td><td>0.0               </td><td>None         </td><td>Attchd      </td><td>2003.0            </td><td>RFn           </td><td>2.0               </td><td>548.0             </td><td>TA          </td><td>TA          </td><td>Y           </td><td>0.0               </td><td>61.0             </td><td>0.0               </td><td>0.0               </td><td>0.0               </td><td>0.0              </td><td>None    </td><td>None   </td><td>None         </td><td>0.0               </td><td>2       </td><td>2008    </td><td>WD        </td><td>Normal         </td><td>208500.0          </td><td>[2000, 2011)     </td><td>202661.43181818182   </td><td>181982.57594936708 </td><td>212221.98514851482   </td><td>184737.95170142702</td><td>207242.98260869566   </td><td>203664.60358890702  </td><td>174574.41216991964</td><td>216859.7290502793    </td><td>182216.631         </td><td>226465.8274336283   </td><td>176473.2899159664  </td><td>183201.27365208542</td><td>203515.30891719743  </td><td>192391.8022670025 </td><td>167645.4123076923     </td><td>236446.98648648648    </td><td>177020.8800489596      </td><td>181231.93779904302</td><td>175405.8820140386 </td><td>184833.50913392162    </td><td>187523.8671023965   </td><td>243184.96534653462  </td><td>182383.5220883534 </td><td>216626.9093484419    </td><td>181425.2874371859 </td><td>165131.57073954982</td><td>229333.4454277286  </td><td>185630.71806674334    </td><td>186782.0            </td><td>216426.0           </td><td>185063.63879957132  </td><td>188334.07174392935  </td><td>239676.72027972032       </td><td>142610.06223175966   </td><td>200494.42807017543    </td><td>208416.20154845156 </td><td>182282.48766816143   </td><td>182525.73333333334  </td><td>197940.3021894772     </td><td>185776.46347031964  </td><td>187716.3622559653   </td><td>188146.7502726281   </td><td>187595.7541966427 </td><td>189018.974137931  </td><td>184672.98832271763</td><td>181235.93597560975</td><td>185708.33940774488 </td><td>183357.84694932782   </td><td>171522.79741935484 </td><td>200924.0538641686 </td><td>210965.119205298    </td></tr>\n",
       "<tr><td>1      </td><td>2.0              </td><td>20          </td><td>RL        </td><td>80.0             </td><td>9600.0            </td><td>Pave    </td><td>None   </td><td>Reg       </td><td>Lvl          </td><td>AllPub     </td><td>FR2        </td><td>Gtl        </td><td>Veenker       </td><td>Feedr       </td><td>Norm        </td><td>1Fam      </td><td>1Story      </td><td>6            </td><td>8            </td><td>1976       </td><td>1976          </td><td>Gable      </td><td>CompShg   </td><td>MetalSd      </td><td>MetalSd      </td><td>None        </td><td>0.0               </td><td>TA         </td><td>TA         </td><td>CBlock      </td><td>Gd        </td><td>TA        </td><td>Gd            </td><td>ALQ           </td><td>978.0             </td><td>Unf           </td><td>0.0               </td><td>284.0             </td><td>1262.0            </td><td>GasA     </td><td>Ex         </td><td>Y           </td><td>SBrkr       </td><td>1262.0           </td><td>0.0               </td><td>0.0               </td><td>1262.0            </td><td>0.0               </td><td>1.0                </td><td>2.0               </td><td>0.0               </td><td>3.0               </td><td>1.0                </td><td>TA           </td><td>6.0              </td><td>Typ         </td><td>1.0               </td><td>TA           </td><td>Attchd      </td><td>1976.0            </td><td>RFn           </td><td>2.0               </td><td>460.0             </td><td>TA          </td><td>TA          </td><td>Y           </td><td>298.0             </td><td>0.0              </td><td>0.0               </td><td>0.0               </td><td>0.0               </td><td>0.0              </td><td>None    </td><td>None   </td><td>None         </td><td>0.0               </td><td>5       </td><td>2007    </td><td>WD        </td><td>Normal         </td><td>181500.0          </td><td>[1960, 1980)     </td><td>157086.21052281052   </td><td>181982.57594936708 </td><td>139811.59481037923   </td><td>184737.95170142702</td><td>162035.816091954     </td><td>203664.60358890702  </td><td>174574.41216991964</td><td>155330.24861804862   </td><td>182216.631         </td><td>150397.2807424594   </td><td>178818.25814185815 </td><td>183201.27365208542</td><td>156555.86183074262  </td><td>192391.8022670025 </td><td>243510.2073978105     </td><td>161782.77448994666    </td><td>177020.8800489596      </td><td>186896.74166666667</td><td>175083.33112582783</td><td>163150.6584394772     </td><td>187523.8671023965   </td><td>187575.74864864862  </td><td>182383.5220883534 </td><td>155721.17213200592   </td><td>181425.2874371859 </td><td>165131.57073954982</td><td>144619.2755267423  </td><td>185630.71806674334    </td><td>186782.0            </td><td>216426.0           </td><td>185063.63879957132  </td><td>188334.07174392935  </td><td>152368.91505791506       </td><td>204076.0357142857    </td><td>200494.42807017543    </td><td>168284.7849275724  </td><td>182282.48766816143   </td><td>182525.73333333334  </td><td>218575.79385614384    </td><td>147024.1605228105   </td><td>187716.3622559653   </td><td>188146.7502726281   </td><td>187595.7541966427 </td><td>189018.974137931  </td><td>184672.98832271763</td><td>181235.93597560975</td><td>185708.33940774488 </td><td>183357.84694932782   </td><td>171522.79741935484 </td><td>200924.0538641686 </td><td>178321.97183098592  </td></tr>\n",
       "<tr><td>2      </td><td>3.0              </td><td>60          </td><td>RL        </td><td>68.0             </td><td>11250.0           </td><td>Pave    </td><td>None   </td><td>IR1       </td><td>Lvl          </td><td>AllPub     </td><td>Inside     </td><td>Gtl        </td><td>CollgCr       </td><td>Norm        </td><td>Norm        </td><td>1Fam      </td><td>2Story      </td><td>7            </td><td>5            </td><td>2001       </td><td>2002          </td><td>Gable      </td><td>CompShg   </td><td>VinylSd      </td><td>VinylSd      </td><td>BrkFace     </td><td>162.0             </td><td>Gd         </td><td>TA         </td><td>PConc       </td><td>Gd        </td><td>TA        </td><td>Mn            </td><td>GLQ           </td><td>486.0             </td><td>Unf           </td><td>0.0               </td><td>434.0             </td><td>920.0             </td><td>GasA     </td><td>Ex         </td><td>Y           </td><td>SBrkr       </td><td>920.0            </td><td>866.0             </td><td>0.0               </td><td>1786.0            </td><td>1.0               </td><td>0.0                </td><td>2.0               </td><td>1.0               </td><td>3.0               </td><td>1.0                </td><td>Gd           </td><td>6.0              </td><td>Typ         </td><td>1.0               </td><td>TA           </td><td>Attchd      </td><td>2001.0            </td><td>RFn           </td><td>2.0               </td><td>608.0             </td><td>TA          </td><td>TA          </td><td>Y           </td><td>0.0               </td><td>42.0             </td><td>0.0               </td><td>0.0               </td><td>0.0               </td><td>0.0              </td><td>None    </td><td>None   </td><td>None         </td><td>0.0               </td><td>9       </td><td>2008    </td><td>WD        </td><td>Normal         </td><td>223500.0          </td><td>[2000, 2011)     </td><td>202661.43181818182   </td><td>181982.57594936708 </td><td>212221.98514851482   </td><td>184737.95170142702</td><td>207242.98260869566   </td><td>203664.60358890702  </td><td>174574.41216991964</td><td>216859.7290502793    </td><td>182216.631         </td><td>226465.8274336283   </td><td>176473.2899159664  </td><td>183201.27365208542</td><td>203515.30891719743  </td><td>192391.8022670025 </td><td>187129.2701381951     </td><td>236446.98648648648    </td><td>177020.8800489596      </td><td>181231.93779904302</td><td>195815.36317432567</td><td>212217.14000999       </td><td>187523.8671023965   </td><td>243184.96534653462  </td><td>182383.5220883534 </td><td>216626.9093484419    </td><td>181425.2874371859 </td><td>209450.39420289855</td><td>229333.4454277286  </td><td>185630.71806674334    </td><td>186782.0            </td><td>216426.0           </td><td>185063.63879957132  </td><td>188334.07174392935  </td><td>239676.72027972032       </td><td>204076.0357142857    </td><td>200494.42807017543    </td><td>241163.1271894772  </td><td>182282.48766816143   </td><td>182525.73333333334  </td><td>197940.3021894772     </td><td>185776.46347031964  </td><td>187716.3622559653   </td><td>188146.7502726281   </td><td>187595.7541966427 </td><td>189018.974137931  </td><td>184672.98832271763</td><td>181235.93597560975</td><td>185708.33940774488 </td><td>183357.84694932782   </td><td>171522.79741935484 </td><td>200924.0538641686 </td><td>210965.119205298    </td></tr>\n",
       "<tr><td>3      </td><td>5.0              </td><td>60          </td><td>RL        </td><td>84.0             </td><td>14260.0           </td><td>Pave    </td><td>None   </td><td>IR1       </td><td>Lvl          </td><td>AllPub     </td><td>FR2        </td><td>Gtl        </td><td>NoRidge       </td><td>Norm        </td><td>Norm        </td><td>1Fam      </td><td>2Story      </td><td>8            </td><td>5            </td><td>2000       </td><td>2000          </td><td>Gable      </td><td>CompShg   </td><td>VinylSd      </td><td>VinylSd      </td><td>BrkFace     </td><td>350.0             </td><td>Gd         </td><td>TA         </td><td>PConc       </td><td>Gd        </td><td>TA        </td><td>Av            </td><td>GLQ           </td><td>655.0             </td><td>Unf           </td><td>0.0               </td><td>490.0             </td><td>1145.0            </td><td>GasA     </td><td>Ex         </td><td>Y           </td><td>SBrkr       </td><td>1145.0           </td><td>1053.0            </td><td>0.0               </td><td>2198.0            </td><td>1.0               </td><td>0.0                </td><td>2.0               </td><td>1.0               </td><td>4.0               </td><td>1.0                </td><td>Gd           </td><td>9.0              </td><td>Typ         </td><td>1.0               </td><td>TA           </td><td>Attchd      </td><td>2000.0            </td><td>RFn           </td><td>3.0               </td><td>836.0             </td><td>TA          </td><td>TA          </td><td>Y           </td><td>192.0             </td><td>84.0             </td><td>0.0               </td><td>0.0               </td><td>0.0               </td><td>0.0              </td><td>None    </td><td>None   </td><td>None         </td><td>0.0               </td><td>12      </td><td>2008    </td><td>WD        </td><td>Normal         </td><td>250000.0          </td><td>[2000, 2011)     </td><td>202661.43181818182   </td><td>181982.57594936708 </td><td>212221.98514851482   </td><td>184737.95170142702</td><td>255589.23529758526   </td><td>203664.60358890702  </td><td>174574.41216991964</td><td>216859.7290502793    </td><td>182216.631         </td><td>226465.8274336283   </td><td>178818.25814185815 </td><td>183201.27365208542</td><td>203515.30891719743  </td><td>192391.8022670025 </td><td>207605.41721854304    </td><td>236446.98648648648    </td><td>177020.8800489596      </td><td>181231.93779904302</td><td>187120.38069824912</td><td>187684.15196425194    </td><td>187523.8671023965   </td><td>243184.96534653462  </td><td>182383.5220883534 </td><td>216626.9093484419    </td><td>181425.2874371859 </td><td>209450.39420289855</td><td>229333.4454277286  </td><td>185630.71806674334    </td><td>186782.0            </td><td>216426.0           </td><td>185063.63879957132  </td><td>188334.07174392935  </td><td>239676.72027972032       </td><td>204076.0357142857    </td><td>200494.42807017543    </td><td>207950.79385614384 </td><td>182282.48766816143   </td><td>182525.73333333334  </td><td>329868.3581418581     </td><td>185776.46347031964  </td><td>187716.3622559653   </td><td>188146.7502726281   </td><td>187595.7541966427 </td><td>189018.974137931  </td><td>184672.98832271763</td><td>181235.93597560975</td><td>185708.33940774488 </td><td>183357.84694932782   </td><td>171522.79741935484 </td><td>200924.0538641686 </td><td>210965.119205298    </td></tr>\n",
       "<tr><td>4      </td><td>6.0              </td><td>50          </td><td>RL        </td><td>85.0             </td><td>14115.0           </td><td>Pave    </td><td>None   </td><td>IR1       </td><td>Lvl          </td><td>AllPub     </td><td>Inside     </td><td>Gtl        </td><td>Mitchel       </td><td>Norm        </td><td>Norm        </td><td>1Fam      </td><td>1.5Fin      </td><td>5            </td><td>5            </td><td>1993       </td><td>1995          </td><td>Gable      </td><td>CompShg   </td><td>VinylSd      </td><td>VinylSd      </td><td>None        </td><td>0.0               </td><td>TA         </td><td>TA         </td><td>Wood        </td><td>Gd        </td><td>TA        </td><td>No            </td><td>GLQ           </td><td>732.0             </td><td>Unf           </td><td>0.0               </td><td>64.0              </td><td>796.0             </td><td>GasA     </td><td>Ex         </td><td>Y           </td><td>SBrkr       </td><td>796.0            </td><td>566.0             </td><td>0.0               </td><td>1362.0            </td><td>1.0               </td><td>0.0                </td><td>1.0               </td><td>1.0               </td><td>1.0               </td><td>1.0                </td><td>TA           </td><td>5.0              </td><td>Typ         </td><td>0.0               </td><td>None         </td><td>Attchd      </td><td>1993.0            </td><td>Unf           </td><td>2.0               </td><td>480.0             </td><td>TA          </td><td>TA          </td><td>Y           </td><td>40.0              </td><td>30.0             </td><td>0.0               </td><td>320.0             </td><td>0.0               </td><td>0.0              </td><td>None    </td><td>MnPrv  </td><td>Shed         </td><td>700.0             </td><td>10      </td><td>2009    </td><td>WD        </td><td>Normal         </td><td>143000.0          </td><td>[1980, 2000)     </td><td>202661.43181818182   </td><td>181982.57594936708 </td><td>139811.59481037923   </td><td>184737.95170142702</td><td>132854.87169811322   </td><td>203664.60358890702  </td><td>174574.41216991964</td><td>216859.7290502793    </td><td>182216.631         </td><td>185142.46052281052  </td><td>176473.2899159664  </td><td>183201.27365208542</td><td>156555.86183074262  </td><td>192391.8022670025 </td><td>167645.4123076923     </td><td>236446.98648648648    </td><td>177020.8800489596      </td><td>181058.37280701756</td><td>174686.7521894772 </td><td>201745.79385614384    </td><td>187523.8671023965   </td><td>150591.33185614386  </td><td>182383.5220883534 </td><td>216626.9093484419    </td><td>181425.2874371859 </td><td>209450.39420289855</td><td>144619.2755267423  </td><td>185630.71806674334    </td><td>186782.0            </td><td>216426.0           </td><td>185063.63879957132  </td><td>188334.07174392935  </td><td>201059.23195876292       </td><td>142610.06223175966   </td><td>141354.57177033494    </td><td>224263.06658341654 </td><td>182282.48766816143   </td><td>182525.73333333334  </td><td>157653.3733433233     </td><td>185776.46347031964  </td><td>187716.3622559653   </td><td>188146.7502726281   </td><td>187595.7541966427 </td><td>154576.6979101979 </td><td>184672.98832271763</td><td>181235.93597560975</td><td>185708.33940774488 </td><td>151058.18256582128   </td><td>171522.79741935484 </td><td>200924.0538641686 </td><td>149995.43881027232  </td></tr>\n",
       "<tr><td>5      </td><td>7.0              </td><td>20          </td><td>RL        </td><td>75.0             </td><td>10084.0           </td><td>Pave    </td><td>None   </td><td>Reg       </td><td>Lvl          </td><td>AllPub     </td><td>Inside     </td><td>Gtl        </td><td>Somerst       </td><td>Norm        </td><td>Norm        </td><td>1Fam      </td><td>1Story      </td><td>8            </td><td>5            </td><td>2004       </td><td>2005          </td><td>Gable      </td><td>CompShg   </td><td>VinylSd      </td><td>VinylSd      </td><td>Stone       </td><td>186.0             </td><td>Gd         </td><td>TA         </td><td>PConc       </td><td>Ex        </td><td>TA        </td><td>Av            </td><td>GLQ           </td><td>1369.0            </td><td>Unf           </td><td>0.0               </td><td>317.0             </td><td>1686.0            </td><td>GasA     </td><td>Ex         </td><td>Y           </td><td>SBrkr       </td><td>1694.0           </td><td>0.0               </td><td>0.0               </td><td>1694.0            </td><td>1.0               </td><td>0.0                </td><td>2.0               </td><td>0.0               </td><td>3.0               </td><td>1.0                </td><td>Gd           </td><td>7.0              </td><td>Typ         </td><td>1.0               </td><td>Gd           </td><td>Attchd      </td><td>2004.0            </td><td>RFn           </td><td>2.0               </td><td>636.0             </td><td>TA          </td><td>TA          </td><td>Y           </td><td>255.0             </td><td>57.0             </td><td>0.0               </td><td>0.0               </td><td>0.0               </td><td>0.0              </td><td>None    </td><td>None   </td><td>None         </td><td>0.0               </td><td>8       </td><td>2007    </td><td>WD        </td><td>Normal         </td><td>307000.0          </td><td>[2000, 2011)     </td><td>202661.43181818182   </td><td>181982.57594936708 </td><td>212221.98514851482   </td><td>184737.95170142702</td><td>255589.23529758526   </td><td>203664.60358890702  </td><td>174574.41216991964</td><td>216859.7290502793    </td><td>182216.631         </td><td>226465.8274336283   </td><td>176473.2899159664  </td><td>183201.27365208542</td><td>256064.37787676242  </td><td>192391.8022670025 </td><td>207605.41721854304    </td><td>236446.98648648648    </td><td>177020.8800489596      </td><td>186896.74166666667</td><td>185447.96554289086</td><td>209843.16649765332    </td><td>187523.8671023965   </td><td>187575.74864864862  </td><td>182383.5220883534 </td><td>216626.9093484419    </td><td>181425.2874371859 </td><td>165131.57073954982</td><td>229333.4454277286  </td><td>185630.71806674334    </td><td>186782.0            </td><td>216426.0           </td><td>185063.63879957132  </td><td>188334.07174392935  </td><td>239676.72027972032       </td><td>225928.18076923073   </td><td>200494.42807017543    </td><td>204933.0865390707  </td><td>182282.48766816143   </td><td>182525.73333333334  </td><td>214617.5167374998     </td><td>185776.46347031964  </td><td>187716.3622559653   </td><td>188146.7502726281   </td><td>187595.7541966427 </td><td>189018.974137931  </td><td>184672.98832271763</td><td>181235.93597560975</td><td>185708.33940774488 </td><td>183357.84694932782   </td><td>171522.79741935484 </td><td>312352.66653056245</td><td>178321.97183098592  </td></tr>\n",
       "<tr><td>6      </td><td>9.0              </td><td>50          </td><td>RM        </td><td>51.0             </td><td>6120.0            </td><td>Pave    </td><td>None   </td><td>Reg       </td><td>Lvl          </td><td>AllPub     </td><td>Inside     </td><td>Gtl        </td><td>OldTown       </td><td>Artery      </td><td>Norm        </td><td>1Fam      </td><td>1.5Fin      </td><td>7            </td><td>5            </td><td>1931       </td><td>1950          </td><td>Gable      </td><td>CompShg   </td><td>BrkFace      </td><td>Wd Shng      </td><td>None        </td><td>0.0               </td><td>TA         </td><td>TA         </td><td>BrkTil      </td><td>TA        </td><td>TA        </td><td>No            </td><td>Unf           </td><td>0.0               </td><td>Unf           </td><td>0.0               </td><td>952.0             </td><td>952.0             </td><td>GasA     </td><td>Gd         </td><td>Y           </td><td>FuseF       </td><td>1022.0           </td><td>752.0             </td><td>0.0               </td><td>1774.0            </td><td>0.0               </td><td>0.0                </td><td>2.0               </td><td>0.0               </td><td>2.0               </td><td>2.0                </td><td>TA           </td><td>8.0              </td><td>Min1        </td><td>2.0               </td><td>TA           </td><td>Detchd      </td><td>1931.0            </td><td>Unf           </td><td>2.0               </td><td>468.0             </td><td>Fa          </td><td>TA          </td><td>Y           </td><td>90.0              </td><td>0.0              </td><td>205.0             </td><td>0.0               </td><td>0.0               </td><td>0.0              </td><td>None    </td><td>None   </td><td>None         </td><td>0.0               </td><td>4       </td><td>2008    </td><td>WD        </td><td>Abnorml        </td><td>129900.0          </td><td>[1920, 1940)     </td><td>202661.43181818182   </td><td>181982.57594936708 </td><td>139811.59481037923   </td><td>184737.95170142702</td><td>207242.98260869566   </td><td>133017.2480620155   </td><td>174574.41216991964</td><td>174764.54385614384   </td><td>182216.631         </td><td>136922.75385614386  </td><td>176473.2899159664  </td><td>183201.27365208542</td><td>156555.86183074262  </td><td>135492.29843360864</td><td>167645.4123076923     </td><td>172096.88704318934    </td><td>153108.76116383614     </td><td>181231.93779904302</td><td>171267.6210300569 </td><td>130271.86565101566    </td><td>187523.8671023965   </td><td>150591.33185614386  </td><td>182383.5220883534 </td><td>153754.05472570908   </td><td>181425.2874371859 </td><td>165131.57073954982</td><td>144619.2755267423  </td><td>185630.71806674334    </td><td>186782.0            </td><td>157465.01829268291 </td><td>153787.09385614382  </td><td>131334.20218947722  </td><td>141720.08256582127       </td><td>204076.0357142857    </td><td>141354.57177033494    </td><td>134978.29385614386 </td><td>182282.48766816143   </td><td>182525.73333333334  </td><td>133772.61742757243    </td><td>134468.29385614386  </td><td>129502.64385614383  </td><td>188146.7502726281   </td><td>187595.7541966427 </td><td>189018.974137931  </td><td>184672.98832271763</td><td>181235.93597560975</td><td>185708.33940774488 </td><td>183357.84694932782   </td><td>171522.79741935484 </td><td>141930.00455580864</td><td>149995.43881027232  </td></tr>\n",
       "<tr><td>7      </td><td>11.0             </td><td>20          </td><td>RL        </td><td>70.0             </td><td>11200.0           </td><td>Pave    </td><td>None   </td><td>Reg       </td><td>Lvl          </td><td>AllPub     </td><td>Inside     </td><td>Gtl        </td><td>Sawyer        </td><td>Norm        </td><td>Norm        </td><td>1Fam      </td><td>1Story      </td><td>5            </td><td>5            </td><td>1965       </td><td>1965          </td><td>Hip        </td><td>CompShg   </td><td>HdBoard      </td><td>HdBoard      </td><td>None        </td><td>0.0               </td><td>TA         </td><td>TA         </td><td>CBlock      </td><td>TA        </td><td>TA        </td><td>No            </td><td>Rec           </td><td>906.0             </td><td>Unf           </td><td>0.0               </td><td>134.0             </td><td>1040.0            </td><td>GasA     </td><td>Ex         </td><td>Y           </td><td>SBrkr       </td><td>1040.0           </td><td>0.0               </td><td>0.0               </td><td>1040.0            </td><td>1.0               </td><td>0.0                </td><td>1.0               </td><td>0.0               </td><td>3.0               </td><td>1.0                </td><td>TA           </td><td>5.0              </td><td>Typ         </td><td>0.0               </td><td>None         </td><td>Detchd      </td><td>1965.0            </td><td>Unf           </td><td>1.0               </td><td>384.0             </td><td>TA          </td><td>TA          </td><td>Y           </td><td>0.0               </td><td>0.0              </td><td>0.0               </td><td>0.0               </td><td>0.0               </td><td>0.0              </td><td>None    </td><td>None   </td><td>None         </td><td>0.0               </td><td>2       </td><td>2008    </td><td>WD        </td><td>Normal         </td><td>129500.0          </td><td>[1960, 1980)     </td><td>202661.43181818182   </td><td>181982.57594936708 </td><td>139811.59481037923   </td><td>184737.95170142702</td><td>132854.87169811322   </td><td>133017.2480620155   </td><td>174574.41216991964</td><td>162189.7051282051    </td><td>182216.631         </td><td>150397.2807424594   </td><td>176473.2899159664  </td><td>183201.27365208542</td><td>156555.86183074262  </td><td>192391.8022670025 </td><td>167645.4123076923     </td><td>150410.4464877228     </td><td>177020.8800489596      </td><td>181231.93779904302</td><td>175405.8820140386 </td><td>139955.20323114382    </td><td>187523.8671023965   </td><td>187575.74864864862  </td><td>182383.5220883534 </td><td>169688.48681389034   </td><td>181425.2874371859 </td><td>165131.57073954982</td><td>144619.2755267423  </td><td>185630.71806674334    </td><td>186782.0            </td><td>216426.0           </td><td>185063.63879957132  </td><td>188334.07174392935  </td><td>152368.91505791506       </td><td>142610.06223175966   </td><td>141354.57177033494    </td><td>151119.07135614386 </td><td>182282.48766816143   </td><td>182525.73333333334  </td><td>143540.98922651424    </td><td>185776.46347031964  </td><td>187716.3622559653   </td><td>188146.7502726281   </td><td>187595.7541966427 </td><td>189018.974137931  </td><td>184672.98832271763</td><td>181235.93597560975</td><td>185708.33940774488 </td><td>183357.84694932782   </td><td>222601.05940594056 </td><td>141930.00455580864</td><td>178321.97183098592  </td></tr>\n",
       "<tr><td>8      </td><td>12.0             </td><td>60          </td><td>RL        </td><td>85.0             </td><td>11924.0           </td><td>Pave    </td><td>None   </td><td>IR1       </td><td>Lvl          </td><td>AllPub     </td><td>Inside     </td><td>Gtl        </td><td>NridgHt       </td><td>Norm        </td><td>Norm        </td><td>1Fam      </td><td>2Story      </td><td>9            </td><td>5            </td><td>2005       </td><td>2006          </td><td>Hip        </td><td>CompShg   </td><td>WdShing      </td><td>Wd Shng      </td><td>Stone       </td><td>286.0             </td><td>Ex         </td><td>TA         </td><td>PConc       </td><td>Ex        </td><td>TA        </td><td>No            </td><td>GLQ           </td><td>998.0             </td><td>Unf           </td><td>0.0               </td><td>177.0             </td><td>1175.0            </td><td>GasA     </td><td>Ex         </td><td>Y           </td><td>SBrkr       </td><td>1182.0           </td><td>1142.0            </td><td>0.0               </td><td>2324.0            </td><td>1.0               </td><td>0.0                </td><td>3.0               </td><td>0.0               </td><td>4.0               </td><td>1.0                </td><td>Ex           </td><td>11.0             </td><td>Typ         </td><td>2.0               </td><td>Gd           </td><td>BuiltIn     </td><td>2005.0            </td><td>Fin           </td><td>3.0               </td><td>736.0             </td><td>TA          </td><td>TA          </td><td>Y           </td><td>147.0             </td><td>21.0             </td><td>0.0               </td><td>0.0               </td><td>0.0               </td><td>0.0              </td><td>None    </td><td>None   </td><td>None         </td><td>0.0               </td><td>7       </td><td>2006    </td><td>New       </td><td>Partial        </td><td>345000.0          </td><td>[2000, 2011)     </td><td>202661.43181818182   </td><td>181982.57594936708 </td><td>305958.08769176033   </td><td>184737.95170142702</td><td>346477.7641686438    </td><td>243875.54558028182  </td><td>263880.6876061438 </td><td>155487.09385614382   </td><td>182216.631         </td><td>226465.8274336283   </td><td>176473.2899159664  </td><td>183201.27365208542</td><td>256064.37787676242  </td><td>192391.8022670025 </td><td>167645.4123076923     </td><td>236446.98648648648    </td><td>260380.61674771016     </td><td>179239.41089108912</td><td>192174.2264150943 </td><td>224722.36680696355    </td><td>187523.8671023965   </td><td>243184.96534653462  </td><td>182383.5220883534 </td><td>153754.05472570908   </td><td>181425.2874371859 </td><td>209450.39420289855</td><td>348876.58744588745 </td><td>185630.71806674334    </td><td>186782.0            </td><td>216426.0           </td><td>185063.63879957132  </td><td>188334.07174392935  </td><td>239676.72027972032       </td><td>225928.18076923073   </td><td>243708.832            </td><td>220499.76885614387 </td><td>182282.48766816143   </td><td>182525.73333333334  </td><td>301677.8909715284     </td><td>185776.46347031964  </td><td>187716.3622559653   </td><td>188146.7502726281   </td><td>187595.7541966427 </td><td>189018.974137931  </td><td>184672.98832271763</td><td>181235.93597560975</td><td>185708.33940774488 </td><td>183357.84694932782   </td><td>222601.05940594056 </td><td>312352.66653056245</td><td>210965.119205298    </td></tr>\n",
       "<tr><td>9      </td><td>13.0             </td><td>20          </td><td>RL        </td><td>71.0             </td><td>12968.0           </td><td>Pave    </td><td>None   </td><td>IR2       </td><td>Lvl          </td><td>AllPub     </td><td>Inside     </td><td>Gtl        </td><td>Sawyer        </td><td>Norm        </td><td>Norm        </td><td>1Fam      </td><td>1Story      </td><td>5            </td><td>6            </td><td>1962       </td><td>1962          </td><td>Hip        </td><td>CompShg   </td><td>HdBoard      </td><td>Plywood      </td><td>None        </td><td>0.0               </td><td>TA         </td><td>TA         </td><td>CBlock      </td><td>TA        </td><td>TA        </td><td>No            </td><td>ALQ           </td><td>737.0             </td><td>Unf           </td><td>0.0               </td><td>175.0             </td><td>912.0             </td><td>GasA     </td><td>TA         </td><td>Y           </td><td>SBrkr       </td><td>912.0            </td><td>0.0               </td><td>0.0               </td><td>912.0             </td><td>1.0               </td><td>0.0                </td><td>1.0               </td><td>0.0               </td><td>2.0               </td><td>1.0                </td><td>TA           </td><td>4.0              </td><td>Typ         </td><td>0.0               </td><td>None         </td><td>Detchd      </td><td>1962.0            </td><td>Unf           </td><td>1.0               </td><td>352.0             </td><td>TA          </td><td>TA          </td><td>Y           </td><td>140.0             </td><td>0.0              </td><td>0.0               </td><td>0.0               </td><td>176.0             </td><td>0.0              </td><td>None    </td><td>None   </td><td>None         </td><td>0.0               </td><td>9       </td><td>2008    </td><td>WD        </td><td>Normal         </td><td>144000.0          </td><td>[1960, 1980)     </td><td>155727.88304093567   </td><td>181982.57594936708 </td><td>139811.59481037923   </td><td>184737.95170142702</td><td>132854.87169811322   </td><td>133017.2480620155   </td><td>174574.41216991964</td><td>162189.7051282051    </td><td>182216.631         </td><td>150397.2807424594   </td><td>176473.2899159664  </td><td>183201.27365208542</td><td>156555.86183074262  </td><td>192391.8022670025 </td><td>167645.4123076923     </td><td>161782.77448994666    </td><td>177020.8800489596      </td><td>181231.93779904302</td><td>195815.36317432567</td><td>158518.57163392162    </td><td>187523.8671023965   </td><td>187575.74864864862  </td><td>182383.5220883534 </td><td>172512.37104060987   </td><td>181425.2874371859 </td><td>220137.0973044197 </td><td>144619.2755267423  </td><td>185630.71806674334    </td><td>186782.0            </td><td>141464.28231292518 </td><td>185063.63879957132  </td><td>188334.07174392935  </td><td>152368.91505791506       </td><td>142610.06223175966   </td><td>141354.57177033494    </td><td>154668.87077922074 </td><td>182282.48766816143   </td><td>182525.73333333334  </td><td>143540.98922651424    </td><td>185776.46347031964  </td><td>187716.3622559653   </td><td>188146.7502726281   </td><td>187595.7541966427 </td><td>189018.974137931  </td><td>184672.98832271763</td><td>181235.93597560975</td><td>185708.33940774488 </td><td>183357.84694932782   </td><td>222601.05940594056 </td><td>141930.00455580864</td><td>178321.97183098592  </td></tr>\n",
       "</tbody>\n",
       "</table>"
      ]
     },
     "metadata": {},
     "output_type": "display_data"
    }
   ],
   "source": [
    "train.describe()"
   ]
  },
  {
   "cell_type": "code",
   "execution_count": 30,
   "metadata": {},
   "outputs": [
    {
     "name": "stdout",
     "output_type": "stream",
     "text": [
      "Numeric = ['MasVnrArea', 'YrSold_Tencode', 'LotArea', 'GarageYrBlt', 'GarageCars', 'BsmtFullBath', 'OpenPorchSF', 'PoolArea', 'CentralAir_Tencode', 'Street_Tencode', 'PavedDrive_Tencode', 'KitchenAbvGr', 'LandContour_Tencode', 'ScreenPorch', 'BsmtHalfBath', 'Fence_Tencode', 'MSZoning_Tencode', '3SsnPorch', 'MSSubClass_Tencode', 'ExterQual_Tencode', '2ndFlrSF', 'Exterior1st_Tencode', 'BldgType_Tencode', 'Condition1_Tencode', 'BsmtUnfSF', 'Condition2_Tencode', 'GarageCond_Tencode', 'OverallCond_Tencode', 'OverallQual_Tencode', 'FireplaceQu_Tencode', 'GarageFinish_Tencode', 'BsmtCond_Tencode', 'SaleCondition_Tencode', 'TotalBsmtSF', 'GarageArea', 'BsmtFinType2_Tencode', 'LowQualFinSF', 'Heating_Tencode', 'Foundation_Tencode', 'HeatingQC_Tencode', 'FullBath', 'Id', 'Utilities_Tencode', 'EnclosedPorch', 'BsmtFinType1_Tencode', 'WoodDeckSF', 'BedroomAbvGr', 'SaleType_Tencode', '1stFlrSF', 'MoSold_Tencode', 'GarageQual_Tencode', 'LotShape_Tencode', 'RoofStyle_Tencode', 'BsmtQual_Tencode', 'MiscFeature_Tencode', 'GrLivArea', 'ExterCond_Tencode', 'BsmtFinSF1', 'LandSlope_Tencode', 'Neighborhood_Tencode', 'Fireplaces', 'Electrical_Tencode', 'HalfBath', 'Alley_Tencode', 'LotConfig_Tencode', 'KitchenQual_Tencode', 'YearRemodAdd_Tencode', 'MasVnrType_Tencode', 'GarageType_Tencode', 'LotFrontage', 'HouseStyle_Tencode', 'GarageYrBltBins_Tencode', 'Exterior2nd_Tencode', 'TotRmsAbvGrd', 'RoofMatl_Tencode', 'BsmtExposure_Tencode', 'MiscVal', 'YearBuilt_Tencode', 'PoolQC_Tencode', 'BsmtFinSF2', 'Functional_Tencode']\n",
      "\n",
      "Categorical = ['KitchenQual', 'BsmtCond', 'OverallQual', 'SaleType', 'Foundation', 'Heating', 'BsmtFinType1', 'BldgType', 'PavedDrive', 'Exterior2nd', 'LotShape', 'Street', 'GarageFinish', 'Condition2', 'Neighborhood', 'GarageCond', 'HeatingQC', 'RoofStyle', 'LandContour', 'HouseStyle', 'OverallCond', 'LandSlope', 'GarageType', 'MasVnrType', 'Exterior1st', 'Utilities', 'LotConfig', 'MSZoning', 'Condition1', 'SaleCondition', 'YrSold', 'MoSold', 'YearRemodAdd', 'MSSubClass', 'PoolQC', 'ExterQual', 'BsmtFinType2', 'CentralAir', 'GarageQual', 'BsmtExposure', 'FireplaceQu', 'YearBuilt', 'Electrical', 'Fence', 'Alley', 'RoofMatl', 'Functional', 'GarageYrBltBins', 'ExterCond', 'MiscFeature', 'BsmtQual']\n"
     ]
    }
   ],
   "source": [
    "encoded_nums, cats = get_type_lists(frame=train)"
   ]
  },
  {
   "cell_type": "code",
   "execution_count": 33,
   "metadata": {},
   "outputs": [
    {
     "data": {
      "text/plain": [
       "81"
      ]
     },
     "execution_count": 33,
     "metadata": {},
     "output_type": "execute_result"
    }
   ],
   "source": [
    "len(encoded_nums)"
   ]
  },
  {
   "cell_type": "code",
   "execution_count": 34,
   "metadata": {},
   "outputs": [
    {
     "name": "stdout",
     "output_type": "stream",
     "text": [
      "(1001, 133)\n"
     ]
    }
   ],
   "source": [
    "print(train.shape)"
   ]
  },
  {
   "cell_type": "code",
   "execution_count": 35,
   "metadata": {
    "scrolled": true
   },
   "outputs": [
    {
     "name": "stdout",
     "output_type": "stream",
     "text": [
      "Imputed and encoded numeric training data:\n",
      "Rows:1001\n",
      "Cols:81\n",
      "\n",
      "\n"
     ]
    },
    {
     "data": {
      "text/html": [
       "<table>\n",
       "<thead>\n",
       "<tr><th>       </th><th>MasVnrArea        </th><th>YrSold_Tencode    </th><th>LotArea           </th><th>GarageYrBlt       </th><th>GarageCars        </th><th>BsmtFullBath      </th><th>OpenPorchSF      </th><th>PoolArea         </th><th>CentralAir_Tencode  </th><th>Street_Tencode    </th><th>PavedDrive_Tencode  </th><th>KitchenAbvGr       </th><th>LandContour_Tencode  </th><th>ScreenPorch       </th><th>BsmtHalfBath       </th><th>Fence_Tencode     </th><th>MSZoning_Tencode  </th><th>3SsnPorch         </th><th>MSSubClass_Tencode  </th><th>ExterQual_Tencode  </th><th>2ndFlrSF          </th><th>Exterior1st_Tencode  </th><th>BldgType_Tencode  </th><th>Condition1_Tencode  </th><th>BsmtUnfSF         </th><th>Condition2_Tencode  </th><th>GarageCond_Tencode  </th><th>OverallCond_Tencode  </th><th>OverallQual_Tencode  </th><th>FireplaceQu_Tencode  </th><th>GarageFinish_Tencode  </th><th>BsmtCond_Tencode  </th><th>SaleCondition_Tencode  </th><th>TotalBsmtSF       </th><th>GarageArea        </th><th>BsmtFinType2_Tencode  </th><th>LowQualFinSF      </th><th>Heating_Tencode   </th><th>Foundation_Tencode  </th><th>HeatingQC_Tencode  </th><th>FullBath          </th><th>Id               </th><th>Utilities_Tencode  </th><th>EnclosedPorch     </th><th>BsmtFinType1_Tencode  </th><th>WoodDeckSF        </th><th>BedroomAbvGr      </th><th>SaleType_Tencode  </th><th>1stFlrSF         </th><th>MoSold_Tencode    </th><th>GarageQual_Tencode  </th><th>LotShape_Tencode  </th><th>RoofStyle_Tencode  </th><th>BsmtQual_Tencode  </th><th>MiscFeature_Tencode  </th><th>GrLivArea         </th><th>ExterCond_Tencode  </th><th>BsmtFinSF1        </th><th>LandSlope_Tencode  </th><th>Neighborhood_Tencode  </th><th>Fireplaces        </th><th>Electrical_Tencode  </th><th>HalfBath          </th><th>Alley_Tencode     </th><th>LotConfig_Tencode  </th><th>KitchenQual_Tencode  </th><th>YearRemodAdd_Tencode  </th><th>MasVnrType_Tencode  </th><th>GarageType_Tencode  </th><th>LotFrontage      </th><th>HouseStyle_Tencode  </th><th>GarageYrBltBins_Tencode  </th><th>Exterior2nd_Tencode  </th><th>TotRmsAbvGrd     </th><th>RoofMatl_Tencode  </th><th>BsmtExposure_Tencode  </th><th>MiscVal           </th><th>YearBuilt_Tencode  </th><th>PoolQC_Tencode    </th><th>BsmtFinSF2        </th><th>Functional_Tencode  </th></tr>\n",
       "</thead>\n",
       "<tbody>\n",
       "<tr><td>type   </td><td>int               </td><td>real              </td><td>int               </td><td>int               </td><td>int               </td><td>int               </td><td>int              </td><td>int              </td><td>real                </td><td>real              </td><td>real                </td><td>int                </td><td>real                 </td><td>int               </td><td>int                </td><td>real              </td><td>real              </td><td>int               </td><td>real                </td><td>real               </td><td>int               </td><td>real                 </td><td>real              </td><td>real                </td><td>int               </td><td>real                </td><td>real                </td><td>real                 </td><td>real                 </td><td>real                 </td><td>real                  </td><td>real              </td><td>real                   </td><td>int               </td><td>int               </td><td>real                  </td><td>int               </td><td>real              </td><td>real                </td><td>real               </td><td>int               </td><td>int              </td><td>real               </td><td>int               </td><td>real                  </td><td>int               </td><td>int               </td><td>real              </td><td>int              </td><td>real              </td><td>real                </td><td>real              </td><td>real               </td><td>real              </td><td>real                 </td><td>int               </td><td>real               </td><td>int               </td><td>real               </td><td>real                  </td><td>int               </td><td>real                </td><td>int               </td><td>real              </td><td>real               </td><td>real                 </td><td>real                  </td><td>real                </td><td>real                </td><td>real             </td><td>real                </td><td>real                     </td><td>real                 </td><td>int              </td><td>real              </td><td>real                  </td><td>int               </td><td>real               </td><td>real              </td><td>int               </td><td>real                </td></tr>\n",
       "<tr><td>mins   </td><td>0.0               </td><td>179239.41089108912</td><td>1300.0            </td><td>0.0               </td><td>0.0               </td><td>0.0               </td><td>0.0              </td><td>0.0              </td><td>119608.23368665231  </td><td>146350.10385614386</td><td>129253.89464979463  </td><td>0.0                </td><td>145140.16285614387   </td><td>0.0               </td><td>0.0                </td><td>141306.73814185814</td><td>78614.79385614385 </td><td>0.0               </td><td>110931.40933233431  </td><td>116078.96885614384 </td><td>0.0               </td><td>78325.79385614385    </td><td>138273.46052281052</td><td>134468.29385614386  </td><td>0.0               </td><td>108075.79385614385  </td><td>112070.79385614385  </td><td>116283.85154845155   </td><td>57340.143856143855   </td><td>141462.34885614386   </td><td>119405.5855228105     </td><td>84275.79385614385 </td><td>115832.04385614385     </td><td>0.0               </td><td>0.0               </td><td>126947.55924075923    </td><td>0.0               </td><td>93469.96052281052 </td><td>121726.89385614387  </td><td>135668.69902855766 </td><td>0.0               </td><td>1.0              </td><td>144200.79385614386 </td><td>0.0               </td><td>121276.42985614385    </td><td>0.0               </td><td>0.0               </td><td>125968.29385614385</td><td>480.0            </td><td>171267.6210300569 </td><td>96813.29385614385   </td><td>163944.59385614382</td><td>161577.2224275724  </td><td>121216.12093947716</td><td>140375.79385614386   </td><td>480.0             </td><td>122047.14941169939 </td><td>0.0               </td><td>181486.5182747485  </td><td>109690.79385614385    </td><td>0.0               </td><td>84275.79385614385   </td><td>0.0               </td><td>128075.200999001  </td><td>176473.2899159664  </td><td>124936.94820396995   </td><td>104035.31885614386    </td><td>156555.86183074262  </td><td>119405.5855228105   </td><td>21.0             </td><td>118907.22242757239  </td><td>119405.5855228105        </td><td>129978.23968947721   </td><td>3.0              </td><td>143775.79385614386</td><td>123956.21308691308    </td><td>0.0               </td><td>103613.29385614385 </td><td>181425.2874371859 </td><td>0.0               </td><td>110059.12718947718  </td></tr>\n",
       "<tr><td>mean   </td><td>106.16383616383624</td><td>182185.62702342597</td><td>10628.262737262736</td><td>1883.850149850151 </td><td>1.7932067932067925</td><td>0.4265734265734266</td><td>44.92407592407593</td><td>3.376623376623376</td><td>182822.70708043195  </td><td>182203.5349842965 </td><td>182908.1805595005   </td><td>1.0469530469530457 </td><td>182186.7329973223    </td><td>14.763236763236765</td><td>0.05994005994005996</td><td>183005.0923464647 </td><td>183387.92640181998</td><td>3.4565434565434567</td><td>184318.41699728824  </td><td>181095.696027499   </td><td>341.78721278721247</td><td>183565.71379414786   </td><td>182849.79797599994</td><td>182645.11776425384  </td><td>575.9900099900102 </td><td>182224.44204037718  </td><td>182992.97056335275  </td><td>183250.586628257     </td><td>180290.10698776753   </td><td>181849.37466200133   </td><td>182703.09600908577    </td><td>182522.25164540764</td><td>181541.3249445857      </td><td>1063.2387612387604</td><td>477.4685314685315 </td><td>182622.35788112954    </td><td>5.9250749250749255</td><td>182323.57985955084</td><td>183119.90242260238  </td><td>182409.70856326495 </td><td>1.5744255744255726</td><td>724.8291708291705</td><td>182178.6531407155  </td><td>21.257742257742255</td><td>184124.927790092      </td><td>91.07392607392609 </td><td>2.8711288711288696</td><td>181180.3311701287 </td><td>1172.088911088912</td><td>182085.76055692547</td><td>183008.55356277092  </td><td>181993.92786324595</td><td>182159.00869385348 </td><td>180724.5454251543 </td><td>182343.8002408678    </td><td>1519.8011988011988</td><td>182637.23505924654 </td><td>445.5994005994004 </td><td>182145.0556687068  </td><td>182171.95904095893    </td><td>0.6203796203796214</td><td>182937.98398065448  </td><td>0.381618381618382 </td><td>182525.0014360763 </td><td>181772.16118142588 </td><td>180810.9702399497    </td><td>182171.95904095907    </td><td>180953.6910454183   </td><td>182245.84650479382  </td><td>70.74475524475535</td><td>183188.2563525883   </td><td>184028.82781249733       </td><td>183994.5260926888    </td><td>6.512487512487514</td><td>182033.94005549914</td><td>181332.52799323562    </td><td>39.684315684315685</td><td>182171.95904095916 </td><td>182060.62963350347</td><td>41.64935064935064 </td><td>182576.2453368812   </td></tr>\n",
       "<tr><td>maxs   </td><td>1378.0            </td><td>186896.74166666667</td><td>164660.0          </td><td>2010.0            </td><td>4.0               </td><td>3.0               </td><td>523.0            </td><td>738.0            </td><td>186782.0            </td><td>182383.5220883534 </td><td>187523.8671023965   </td><td>3.0                </td><td>215016.8662245649    </td><td>440.0             </td><td>2.0                </td><td>189018.974137931  </td><td>204495.20385614387</td><td>508.0             </td><td>243184.96534653462  </td><td>348876.58744588745 </td><td>2065.0            </td><td>250025.79385614384   </td><td>187595.7541966427 </td><td>219155.3393106893   </td><td>2153.0            </td><td>269469.54385614384  </td><td>188146.7502726281   </td><td>202661.43181818182   </td><td>411753.33231768233   </td><td>306119.08332982805   </td><td>243708.832            </td><td>212500.14385614384</td><td>260380.61674771016     </td><td>6110.0            </td><td>1418.0            </td><td>218122.46052281052    </td><td>528.0             </td><td>185483.95814185814</td><td>226465.8274336283   </td><td>216426.0           </td><td>3.0               </td><td>1460.0           </td><td>182216.631         </td><td>552.0             </td><td>236446.98648648648    </td><td>736.0             </td><td>8.0               </td><td>263880.6876061438 </td><td>4692.0           </td><td>198254.40597735601</td><td>222252.04385614384  </td><td>220137.0973044197 </td><td>248325.79385614384 </td><td>312352.66653056245</td><td>239825.79385614384   </td><td>5642.0            </td><td>185708.33940774488 </td><td>5644.0            </td><td>200379.84385614382 </td><td>329868.3581418581     </td><td>3.0               </td><td>187716.3622559653   </td><td>2.0               </td><td>184672.98832271763</td><td>215932.78135614385 </td><td>305958.08769176033   </td><td>313744.7688561438     </td><td>256064.37787676242  </td><td>243875.54558028182  </td><td>313.0            </td><td>210965.119205298    </td><td>239676.72027972032       </td><td>298475.79385614384   </td><td>14.0             </td><td>669075.7938561438 </td><td>243510.2073978105     </td><td>15500.0           </td><td>362592.99385614385 </td><td>443825.79385614384</td><td>1127.0            </td><td>185063.63879957132  </td></tr>\n",
       "<tr><td>sigma  </td><td>179.66239765423683</td><td>2758.862801413868 </td><td>9442.37310711137  </td><td>423.68187301615546</td><td>0.7349787794173421</td><td>0.5204355357324734</td><td>63.01874506660877</td><td>43.98791894358055</td><td>15828.294334486298  </td><td>2541.57596669905  </td><td>15415.629575665147  </td><td>0.22537348289718281</td><td>11064.930655592716   </td><td>54.16981527671003 </td><td>0.2457714312193271 </td><td>13504.518364088008</td><td>22616.419950331485</td><td>29.83605804459362 </td><td>36476.82137140024   </td><td>52277.89924581866  </td><td>432.9085950594231 </td><td>29589.150408848287   </td><td>13615.68412825508 </td><td>13080.75973520577   </td><td>444.45750741786287</td><td>6389.719881512636   </td><td>17804.37971784183   </td><td>23878.60607396363    </td><td>58402.9609943276     </td><td>40541.64241671104    </td><td>43904.519304777365    </td><td>14302.859526666482</td><td>24904.82535576665      </td><td>450.4683539784607 </td><td>209.92257920181268</td><td>11550.862509420635    </td><td>49.51948485817861 </td><td>8588.039549532357 </td><td>39735.240377141236  </td><td>35398.54044306139  </td><td>0.5538098001166959</td><td>421.4954943866087</td><td>1201.5656926005156 </td><td>61.04442237008644 </td><td>35223.67981963558     </td><td>120.05044160464608</td><td>0.8052177496650357</td><td>25459.930478733866</td><td>392.4739572085174</td><td>8240.20571837234  </td><td>18601.506242713353  </td><td>21926.258171174657</td><td>20695.377655471344 </td><td>49983.0128988164  </td><td>6090.240696354947    </td><td>520.2774292995629 </td><td>9945.861000354027  </td><td>467.17326588712297</td><td>1835.4154172265153 </td><td>51529.9324408036      </td><td>0.6416730131026673</td><td>16464.287213227504  </td><td>0.5002217290580031</td><td>9766.58876414746  </td><td>10669.040225587902 </td><td>49556.81599252627    </td><td>38617.88648752911     </td><td>32513.444047378878  </td><td>36865.89240600122   </td><td>23.15278676455676</td><td>21247.331540214996  </td><td>41226.63262266888        </td><td>30224.673393447127   </td><td>1.587480364002624</td><td>15980.206375764057</td><td>26179.291204996774    </td><td>516.2493547150991 </td><td>46504.44964927137  </td><td>11901.388296801693</td><td>148.91838678308972</td><td>9673.47275081667    </td></tr>\n",
       "<tr><td>zeros  </td><td>577               </td><td>0                 </td><td>0                 </td><td>48                </td><td>48                </td><td>586               </td><td>460              </td><td>995              </td><td>0                   </td><td>0                 </td><td>0                   </td><td>1                  </td><td>0                    </td><td>921               </td><td>943                </td><td>0                 </td><td>0                 </td><td>985               </td><td>0                   </td><td>0                  </td><td>572               </td><td>0                    </td><td>0                 </td><td>0                   </td><td>78                </td><td>0                   </td><td>0                   </td><td>0                    </td><td>0                    </td><td>0                    </td><td>0                     </td><td>0                 </td><td>0                      </td><td>25                </td><td>48                </td><td>0                     </td><td>984               </td><td>0                 </td><td>0                   </td><td>0                  </td><td>6                 </td><td>0                </td><td>0                  </td><td>867               </td><td>0                     </td><td>523               </td><td>4                 </td><td>0                 </td><td>0                </td><td>0                 </td><td>0                   </td><td>0                 </td><td>0                  </td><td>0                 </td><td>0                    </td><td>0                 </td><td>0                  </td><td>326               </td><td>0                  </td><td>0                     </td><td>466               </td><td>0                   </td><td>626               </td><td>0                 </td><td>0                  </td><td>0                    </td><td>0                     </td><td>0                   </td><td>0                   </td><td>0                </td><td>0                   </td><td>0                        </td><td>0                    </td><td>0                </td><td>0                 </td><td>0                     </td><td>969               </td><td>0                  </td><td>0                 </td><td>894               </td><td>0                   </td></tr>\n",
       "<tr><td>missing</td><td>0                 </td><td>0                 </td><td>0                 </td><td>0                 </td><td>0                 </td><td>0                 </td><td>0                </td><td>0                </td><td>0                   </td><td>0                 </td><td>0                   </td><td>0                  </td><td>0                    </td><td>0                 </td><td>0                  </td><td>0                 </td><td>0                 </td><td>0                 </td><td>0                   </td><td>0                  </td><td>0                 </td><td>0                    </td><td>0                 </td><td>0                   </td><td>0                 </td><td>0                   </td><td>0                   </td><td>0                    </td><td>0                    </td><td>0                    </td><td>0                     </td><td>0                 </td><td>0                      </td><td>0                 </td><td>0                 </td><td>0                     </td><td>0                 </td><td>0                 </td><td>0                   </td><td>0                  </td><td>0                 </td><td>0                </td><td>0                  </td><td>0                 </td><td>0                     </td><td>0                 </td><td>0                 </td><td>0                 </td><td>0                </td><td>0                 </td><td>0                   </td><td>0                 </td><td>0                  </td><td>0                 </td><td>0                    </td><td>0                 </td><td>0                  </td><td>0                 </td><td>0                  </td><td>0                     </td><td>0                 </td><td>0                   </td><td>0                 </td><td>0                 </td><td>0                  </td><td>0                    </td><td>0                     </td><td>0                   </td><td>0                   </td><td>0                </td><td>0                   </td><td>0                        </td><td>0                    </td><td>0                </td><td>0                 </td><td>0                     </td><td>0                 </td><td>0                  </td><td>0                 </td><td>0                 </td><td>0                   </td></tr>\n",
       "<tr><td>0      </td><td>196.0             </td><td>181231.93779904302</td><td>8450.0            </td><td>2003.0            </td><td>2.0               </td><td>1.0               </td><td>61.0             </td><td>0.0              </td><td>186782.0            </td><td>182383.5220883534 </td><td>187523.8671023965   </td><td>1.0                </td><td>182282.48766816143   </td><td>0.0               </td><td>0.0                </td><td>189018.974137931  </td><td>192391.8022670025 </td><td>0.0               </td><td>243184.96534653462  </td><td>229333.4454277286  </td><td>854.0             </td><td>216859.7290502793    </td><td>187595.7541966427 </td><td>185776.46347031964  </td><td>150.0             </td><td>182525.73333333334  </td><td>188146.7502726281   </td><td>202661.43181818182   </td><td>207242.98260869566   </td><td>142610.06223175966   </td><td>200494.42807017543    </td><td>184737.95170142702</td><td>177020.8800489596      </td><td>856.0             </td><td>548.0             </td><td>185630.71806674334    </td><td>0.0               </td><td>183201.27365208542</td><td>226465.8274336283   </td><td>216426.0           </td><td>2.0               </td><td>1.0              </td><td>182216.631         </td><td>0.0               </td><td>236446.98648648648    </td><td>0.0               </td><td>3.0               </td><td>174574.41216991964</td><td>856.0            </td><td>175405.8820140386 </td><td>188334.07174392935  </td><td>165131.57073954982</td><td>171522.79741935484 </td><td>200924.0538641686 </td><td>183357.84694932782   </td><td>1710.0            </td><td>185708.33940774488 </td><td>706.0             </td><td>181982.57594936708 </td><td>197940.3021894772     </td><td>0.0               </td><td>187716.3622559653   </td><td>1.0               </td><td>184672.98832271763</td><td>176473.2899159664  </td><td>212221.98514851482   </td><td>184833.50913392162    </td><td>203515.30891719743  </td><td>203664.60358890702  </td><td>65.0             </td><td>210965.119205298    </td><td>239676.72027972032       </td><td>216626.9093484419    </td><td>8.0              </td><td>181235.93597560975</td><td>167645.4123076923     </td><td>0.0               </td><td>208416.20154845156 </td><td>181425.2874371859 </td><td>0.0               </td><td>185063.63879957132  </td></tr>\n",
       "<tr><td>1      </td><td>0.0               </td><td>186896.74166666667</td><td>9600.0            </td><td>1976.0            </td><td>2.0               </td><td>0.0               </td><td>0.0              </td><td>0.0              </td><td>186782.0            </td><td>182383.5220883534 </td><td>187523.8671023965   </td><td>1.0                </td><td>182282.48766816143   </td><td>0.0               </td><td>1.0                </td><td>189018.974137931  </td><td>192391.8022670025 </td><td>0.0               </td><td>187575.74864864862  </td><td>144619.2755267423  </td><td>0.0               </td><td>155330.24861804862   </td><td>187595.7541966427 </td><td>147024.1605228105   </td><td>284.0             </td><td>182525.73333333334  </td><td>188146.7502726281   </td><td>157086.21052281052   </td><td>162035.816091954     </td><td>204076.0357142857    </td><td>200494.42807017543    </td><td>184737.95170142702</td><td>177020.8800489596      </td><td>1262.0            </td><td>460.0             </td><td>185630.71806674334    </td><td>0.0               </td><td>183201.27365208542</td><td>150397.2807424594   </td><td>216426.0           </td><td>2.0               </td><td>2.0              </td><td>182216.631         </td><td>0.0               </td><td>161782.77448994666    </td><td>298.0             </td><td>3.0               </td><td>174574.41216991964</td><td>1262.0           </td><td>175083.33112582783</td><td>188334.07174392935  </td><td>165131.57073954982</td><td>171522.79741935484 </td><td>200924.0538641686 </td><td>183357.84694932782   </td><td>1262.0            </td><td>185708.33940774488 </td><td>978.0             </td><td>181982.57594936708 </td><td>218575.79385614384    </td><td>1.0               </td><td>187716.3622559653   </td><td>0.0               </td><td>184672.98832271763</td><td>178818.25814185815 </td><td>139811.59481037923   </td><td>163150.6584394772     </td><td>156555.86183074262  </td><td>203664.60358890702  </td><td>80.0             </td><td>178321.97183098592  </td><td>152368.91505791506       </td><td>155721.17213200592   </td><td>6.0              </td><td>181235.93597560975</td><td>243510.2073978105     </td><td>0.0               </td><td>168284.7849275724  </td><td>181425.2874371859 </td><td>0.0               </td><td>185063.63879957132  </td></tr>\n",
       "<tr><td>2      </td><td>162.0             </td><td>181231.93779904302</td><td>11250.0           </td><td>2001.0            </td><td>2.0               </td><td>1.0               </td><td>42.0             </td><td>0.0              </td><td>186782.0            </td><td>182383.5220883534 </td><td>187523.8671023965   </td><td>1.0                </td><td>182282.48766816143   </td><td>0.0               </td><td>0.0                </td><td>189018.974137931  </td><td>192391.8022670025 </td><td>0.0               </td><td>243184.96534653462  </td><td>229333.4454277286  </td><td>866.0             </td><td>216859.7290502793    </td><td>187595.7541966427 </td><td>185776.46347031964  </td><td>434.0             </td><td>182525.73333333334  </td><td>188146.7502726281   </td><td>202661.43181818182   </td><td>207242.98260869566   </td><td>204076.0357142857    </td><td>200494.42807017543    </td><td>184737.95170142702</td><td>177020.8800489596      </td><td>920.0             </td><td>608.0             </td><td>185630.71806674334    </td><td>0.0               </td><td>183201.27365208542</td><td>226465.8274336283   </td><td>216426.0           </td><td>2.0               </td><td>3.0              </td><td>182216.631         </td><td>0.0               </td><td>236446.98648648648    </td><td>0.0               </td><td>3.0               </td><td>174574.41216991964</td><td>920.0            </td><td>195815.36317432567</td><td>188334.07174392935  </td><td>209450.39420289855</td><td>171522.79741935484 </td><td>200924.0538641686 </td><td>183357.84694932782   </td><td>1786.0            </td><td>185708.33940774488 </td><td>486.0             </td><td>181982.57594936708 </td><td>197940.3021894772     </td><td>1.0               </td><td>187716.3622559653   </td><td>1.0               </td><td>184672.98832271763</td><td>176473.2899159664  </td><td>212221.98514851482   </td><td>212217.14000999       </td><td>203515.30891719743  </td><td>203664.60358890702  </td><td>68.0             </td><td>210965.119205298    </td><td>239676.72027972032       </td><td>216626.9093484419    </td><td>6.0              </td><td>181235.93597560975</td><td>187129.2701381951     </td><td>0.0               </td><td>241163.1271894772  </td><td>181425.2874371859 </td><td>0.0               </td><td>185063.63879957132  </td></tr>\n",
       "<tr><td>3      </td><td>350.0             </td><td>181231.93779904302</td><td>14260.0           </td><td>2000.0            </td><td>3.0               </td><td>1.0               </td><td>84.0             </td><td>0.0              </td><td>186782.0            </td><td>182383.5220883534 </td><td>187523.8671023965   </td><td>1.0                </td><td>182282.48766816143   </td><td>0.0               </td><td>0.0                </td><td>189018.974137931  </td><td>192391.8022670025 </td><td>0.0               </td><td>243184.96534653462  </td><td>229333.4454277286  </td><td>1053.0            </td><td>216859.7290502793    </td><td>187595.7541966427 </td><td>185776.46347031964  </td><td>490.0             </td><td>182525.73333333334  </td><td>188146.7502726281   </td><td>202661.43181818182   </td><td>255589.23529758526   </td><td>204076.0357142857    </td><td>200494.42807017543    </td><td>184737.95170142702</td><td>177020.8800489596      </td><td>1145.0            </td><td>836.0             </td><td>185630.71806674334    </td><td>0.0               </td><td>183201.27365208542</td><td>226465.8274336283   </td><td>216426.0           </td><td>2.0               </td><td>5.0              </td><td>182216.631         </td><td>0.0               </td><td>236446.98648648648    </td><td>192.0             </td><td>4.0               </td><td>174574.41216991964</td><td>1145.0           </td><td>187120.38069824912</td><td>188334.07174392935  </td><td>209450.39420289855</td><td>171522.79741935484 </td><td>200924.0538641686 </td><td>183357.84694932782   </td><td>2198.0            </td><td>185708.33940774488 </td><td>655.0             </td><td>181982.57594936708 </td><td>329868.3581418581     </td><td>1.0               </td><td>187716.3622559653   </td><td>1.0               </td><td>184672.98832271763</td><td>178818.25814185815 </td><td>212221.98514851482   </td><td>187684.15196425194    </td><td>203515.30891719743  </td><td>203664.60358890702  </td><td>84.0             </td><td>210965.119205298    </td><td>239676.72027972032       </td><td>216626.9093484419    </td><td>9.0              </td><td>181235.93597560975</td><td>207605.41721854304    </td><td>0.0               </td><td>207950.79385614384 </td><td>181425.2874371859 </td><td>0.0               </td><td>185063.63879957132  </td></tr>\n",
       "<tr><td>4      </td><td>0.0               </td><td>181058.37280701756</td><td>14115.0           </td><td>1993.0            </td><td>2.0               </td><td>1.0               </td><td>30.0             </td><td>0.0              </td><td>186782.0            </td><td>182383.5220883534 </td><td>187523.8671023965   </td><td>1.0                </td><td>182282.48766816143   </td><td>0.0               </td><td>0.0                </td><td>154576.6979101979 </td><td>192391.8022670025 </td><td>320.0             </td><td>150591.33185614386  </td><td>144619.2755267423  </td><td>566.0             </td><td>216859.7290502793    </td><td>187595.7541966427 </td><td>185776.46347031964  </td><td>64.0              </td><td>182525.73333333334  </td><td>188146.7502726281   </td><td>202661.43181818182   </td><td>132854.87169811322   </td><td>142610.06223175966   </td><td>141354.57177033494    </td><td>184737.95170142702</td><td>177020.8800489596      </td><td>796.0             </td><td>480.0             </td><td>185630.71806674334    </td><td>0.0               </td><td>183201.27365208542</td><td>185142.46052281052  </td><td>216426.0           </td><td>1.0               </td><td>6.0              </td><td>182216.631         </td><td>0.0               </td><td>236446.98648648648    </td><td>40.0              </td><td>1.0               </td><td>174574.41216991964</td><td>796.0            </td><td>174686.7521894772 </td><td>188334.07174392935  </td><td>209450.39420289855</td><td>171522.79741935484 </td><td>200924.0538641686 </td><td>151058.18256582128   </td><td>1362.0            </td><td>185708.33940774488 </td><td>732.0             </td><td>181982.57594936708 </td><td>157653.3733433233     </td><td>0.0               </td><td>187716.3622559653   </td><td>1.0               </td><td>184672.98832271763</td><td>176473.2899159664  </td><td>139811.59481037923   </td><td>201745.79385614384    </td><td>156555.86183074262  </td><td>203664.60358890702  </td><td>85.0             </td><td>149995.43881027232  </td><td>201059.23195876292       </td><td>216626.9093484419    </td><td>5.0              </td><td>181235.93597560975</td><td>167645.4123076923     </td><td>700.0             </td><td>224263.06658341654 </td><td>181425.2874371859 </td><td>0.0               </td><td>185063.63879957132  </td></tr>\n",
       "<tr><td>5      </td><td>186.0             </td><td>186896.74166666667</td><td>10084.0           </td><td>2004.0            </td><td>2.0               </td><td>1.0               </td><td>57.0             </td><td>0.0              </td><td>186782.0            </td><td>182383.5220883534 </td><td>187523.8671023965   </td><td>1.0                </td><td>182282.48766816143   </td><td>0.0               </td><td>0.0                </td><td>189018.974137931  </td><td>192391.8022670025 </td><td>0.0               </td><td>187575.74864864862  </td><td>229333.4454277286  </td><td>0.0               </td><td>216859.7290502793    </td><td>187595.7541966427 </td><td>185776.46347031964  </td><td>317.0             </td><td>182525.73333333334  </td><td>188146.7502726281   </td><td>202661.43181818182   </td><td>255589.23529758526   </td><td>225928.18076923073   </td><td>200494.42807017543    </td><td>184737.95170142702</td><td>177020.8800489596      </td><td>1686.0            </td><td>636.0             </td><td>185630.71806674334    </td><td>0.0               </td><td>183201.27365208542</td><td>226465.8274336283   </td><td>216426.0           </td><td>2.0               </td><td>7.0              </td><td>182216.631         </td><td>0.0               </td><td>236446.98648648648    </td><td>255.0             </td><td>3.0               </td><td>174574.41216991964</td><td>1694.0           </td><td>185447.96554289086</td><td>188334.07174392935  </td><td>165131.57073954982</td><td>171522.79741935484 </td><td>312352.66653056245</td><td>183357.84694932782   </td><td>1694.0            </td><td>185708.33940774488 </td><td>1369.0            </td><td>181982.57594936708 </td><td>214617.5167374998     </td><td>1.0               </td><td>187716.3622559653   </td><td>0.0               </td><td>184672.98832271763</td><td>176473.2899159664  </td><td>212221.98514851482   </td><td>209843.16649765332    </td><td>256064.37787676242  </td><td>203664.60358890702  </td><td>75.0             </td><td>178321.97183098592  </td><td>239676.72027972032       </td><td>216626.9093484419    </td><td>7.0              </td><td>181235.93597560975</td><td>207605.41721854304    </td><td>0.0               </td><td>204933.0865390707  </td><td>181425.2874371859 </td><td>0.0               </td><td>185063.63879957132  </td></tr>\n",
       "<tr><td>6      </td><td>0.0               </td><td>181231.93779904302</td><td>6120.0            </td><td>1931.0            </td><td>2.0               </td><td>0.0               </td><td>0.0              </td><td>0.0              </td><td>186782.0            </td><td>182383.5220883534 </td><td>187523.8671023965   </td><td>2.0                </td><td>182282.48766816143   </td><td>0.0               </td><td>0.0                </td><td>189018.974137931  </td><td>135492.29843360864</td><td>0.0               </td><td>150591.33185614386  </td><td>144619.2755267423  </td><td>752.0             </td><td>174764.54385614384   </td><td>187595.7541966427 </td><td>134468.29385614386  </td><td>952.0             </td><td>182525.73333333334  </td><td>188146.7502726281   </td><td>202661.43181818182   </td><td>207242.98260869566   </td><td>204076.0357142857    </td><td>141354.57177033494    </td><td>184737.95170142702</td><td>153108.76116383614     </td><td>952.0             </td><td>468.0             </td><td>185630.71806674334    </td><td>0.0               </td><td>183201.27365208542</td><td>136922.75385614386  </td><td>157465.01829268291 </td><td>2.0               </td><td>9.0              </td><td>182216.631         </td><td>205.0             </td><td>172096.88704318934    </td><td>90.0              </td><td>2.0               </td><td>174574.41216991964</td><td>1022.0           </td><td>171267.6210300569 </td><td>131334.20218947722  </td><td>165131.57073954982</td><td>171522.79741935484 </td><td>141930.00455580864</td><td>183357.84694932782   </td><td>1774.0            </td><td>185708.33940774488 </td><td>0.0               </td><td>181982.57594936708 </td><td>133772.61742757243    </td><td>2.0               </td><td>129502.64385614383  </td><td>0.0               </td><td>184672.98832271763</td><td>176473.2899159664  </td><td>139811.59481037923   </td><td>130271.86565101566    </td><td>156555.86183074262  </td><td>133017.2480620155   </td><td>51.0             </td><td>149995.43881027232  </td><td>141720.08256582127       </td><td>153754.05472570908   </td><td>8.0              </td><td>181235.93597560975</td><td>167645.4123076923     </td><td>0.0               </td><td>134978.29385614386 </td><td>181425.2874371859 </td><td>0.0               </td><td>153787.09385614382  </td></tr>\n",
       "<tr><td>7      </td><td>0.0               </td><td>181231.93779904302</td><td>11200.0           </td><td>1965.0            </td><td>1.0               </td><td>1.0               </td><td>0.0              </td><td>0.0              </td><td>186782.0            </td><td>182383.5220883534 </td><td>187523.8671023965   </td><td>1.0                </td><td>182282.48766816143   </td><td>0.0               </td><td>0.0                </td><td>189018.974137931  </td><td>192391.8022670025 </td><td>0.0               </td><td>187575.74864864862  </td><td>144619.2755267423  </td><td>0.0               </td><td>162189.7051282051    </td><td>187595.7541966427 </td><td>185776.46347031964  </td><td>134.0             </td><td>182525.73333333334  </td><td>188146.7502726281   </td><td>202661.43181818182   </td><td>132854.87169811322   </td><td>142610.06223175966   </td><td>141354.57177033494    </td><td>184737.95170142702</td><td>177020.8800489596      </td><td>1040.0            </td><td>384.0             </td><td>185630.71806674334    </td><td>0.0               </td><td>183201.27365208542</td><td>150397.2807424594   </td><td>216426.0           </td><td>1.0               </td><td>11.0             </td><td>182216.631         </td><td>0.0               </td><td>150410.4464877228     </td><td>0.0               </td><td>3.0               </td><td>174574.41216991964</td><td>1040.0           </td><td>175405.8820140386 </td><td>188334.07174392935  </td><td>165131.57073954982</td><td>222601.05940594056 </td><td>141930.00455580864</td><td>183357.84694932782   </td><td>1040.0            </td><td>185708.33940774488 </td><td>906.0             </td><td>181982.57594936708 </td><td>143540.98922651424    </td><td>0.0               </td><td>187716.3622559653   </td><td>0.0               </td><td>184672.98832271763</td><td>176473.2899159664  </td><td>139811.59481037923   </td><td>139955.20323114382    </td><td>156555.86183074262  </td><td>133017.2480620155   </td><td>70.0             </td><td>178321.97183098592  </td><td>152368.91505791506       </td><td>169688.48681389034   </td><td>5.0              </td><td>181235.93597560975</td><td>167645.4123076923     </td><td>0.0               </td><td>151119.07135614386 </td><td>181425.2874371859 </td><td>0.0               </td><td>185063.63879957132  </td></tr>\n",
       "<tr><td>8      </td><td>286.0             </td><td>179239.41089108912</td><td>11924.0           </td><td>2005.0            </td><td>3.0               </td><td>1.0               </td><td>21.0             </td><td>0.0              </td><td>186782.0            </td><td>182383.5220883534 </td><td>187523.8671023965   </td><td>1.0                </td><td>182282.48766816143   </td><td>0.0               </td><td>0.0                </td><td>189018.974137931  </td><td>192391.8022670025 </td><td>0.0               </td><td>243184.96534653462  </td><td>348876.58744588745 </td><td>1142.0            </td><td>155487.09385614382   </td><td>187595.7541966427 </td><td>185776.46347031964  </td><td>177.0             </td><td>182525.73333333334  </td><td>188146.7502726281   </td><td>202661.43181818182   </td><td>346477.7641686438    </td><td>225928.18076923073   </td><td>243708.832            </td><td>184737.95170142702</td><td>260380.61674771016     </td><td>1175.0            </td><td>736.0             </td><td>185630.71806674334    </td><td>0.0               </td><td>183201.27365208542</td><td>226465.8274336283   </td><td>216426.0           </td><td>3.0               </td><td>12.0             </td><td>182216.631         </td><td>0.0               </td><td>236446.98648648648    </td><td>147.0             </td><td>4.0               </td><td>263880.6876061438 </td><td>1182.0           </td><td>192174.2264150943 </td><td>188334.07174392935  </td><td>209450.39420289855</td><td>222601.05940594056 </td><td>312352.66653056245</td><td>183357.84694932782   </td><td>2324.0            </td><td>185708.33940774488 </td><td>998.0             </td><td>181982.57594936708 </td><td>301677.8909715284     </td><td>2.0               </td><td>187716.3622559653   </td><td>0.0               </td><td>184672.98832271763</td><td>176473.2899159664  </td><td>305958.08769176033   </td><td>224722.36680696355    </td><td>256064.37787676242  </td><td>243875.54558028182  </td><td>85.0             </td><td>210965.119205298    </td><td>239676.72027972032       </td><td>153754.05472570908   </td><td>11.0             </td><td>181235.93597560975</td><td>167645.4123076923     </td><td>0.0               </td><td>220499.76885614387 </td><td>181425.2874371859 </td><td>0.0               </td><td>185063.63879957132  </td></tr>\n",
       "<tr><td>9      </td><td>0.0               </td><td>181231.93779904302</td><td>12968.0           </td><td>1962.0            </td><td>1.0               </td><td>1.0               </td><td>0.0              </td><td>0.0              </td><td>186782.0            </td><td>182383.5220883534 </td><td>187523.8671023965   </td><td>1.0                </td><td>182282.48766816143   </td><td>176.0             </td><td>0.0                </td><td>189018.974137931  </td><td>192391.8022670025 </td><td>0.0               </td><td>187575.74864864862  </td><td>144619.2755267423  </td><td>0.0               </td><td>162189.7051282051    </td><td>187595.7541966427 </td><td>185776.46347031964  </td><td>175.0             </td><td>182525.73333333334  </td><td>188146.7502726281   </td><td>155727.88304093567   </td><td>132854.87169811322   </td><td>142610.06223175966   </td><td>141354.57177033494    </td><td>184737.95170142702</td><td>177020.8800489596      </td><td>912.0             </td><td>352.0             </td><td>185630.71806674334    </td><td>0.0               </td><td>183201.27365208542</td><td>150397.2807424594   </td><td>141464.28231292518 </td><td>1.0               </td><td>13.0             </td><td>182216.631         </td><td>0.0               </td><td>161782.77448994666    </td><td>140.0             </td><td>2.0               </td><td>174574.41216991964</td><td>912.0            </td><td>195815.36317432567</td><td>188334.07174392935  </td><td>220137.0973044197 </td><td>222601.05940594056 </td><td>141930.00455580864</td><td>183357.84694932782   </td><td>912.0             </td><td>185708.33940774488 </td><td>737.0             </td><td>181982.57594936708 </td><td>143540.98922651424    </td><td>0.0               </td><td>187716.3622559653   </td><td>0.0               </td><td>184672.98832271763</td><td>176473.2899159664  </td><td>139811.59481037923   </td><td>158518.57163392162    </td><td>156555.86183074262  </td><td>133017.2480620155   </td><td>71.0             </td><td>178321.97183098592  </td><td>152368.91505791506       </td><td>172512.37104060987   </td><td>4.0              </td><td>181235.93597560975</td><td>167645.4123076923     </td><td>0.0               </td><td>154668.87077922074 </td><td>181425.2874371859 </td><td>0.0               </td><td>185063.63879957132  </td></tr>\n",
       "</tbody>\n",
       "</table>"
      ]
     },
     "metadata": {},
     "output_type": "display_data"
    },
    {
     "name": "stdout",
     "output_type": "stream",
     "text": [
      "--------------------------------------------------------------------------------\n",
      "Imputed and encoded numeric validation data:\n",
      "Rows:459\n",
      "Cols:81\n",
      "\n",
      "\n"
     ]
    },
    {
     "data": {
      "text/html": [
       "<table>\n",
       "<thead>\n",
       "<tr><th>       </th><th>MasVnrArea        </th><th>YrSold_Tencode    </th><th>LotArea           </th><th>GarageYrBlt       </th><th>GarageCars        </th><th>BsmtFullBath       </th><th>OpenPorchSF      </th><th>PoolArea          </th><th>CentralAir_Tencode  </th><th>Street_Tencode    </th><th>PavedDrive_Tencode  </th><th>KitchenAbvGr       </th><th>LandContour_Tencode  </th><th>ScreenPorch       </th><th>BsmtHalfBath       </th><th>Fence_Tencode     </th><th>MSZoning_Tencode  </th><th>3SsnPorch        </th><th>MSSubClass_Tencode  </th><th>ExterQual_Tencode  </th><th>2ndFlrSF          </th><th>Exterior1st_Tencode  </th><th>BldgType_Tencode  </th><th>Condition1_Tencode  </th><th>BsmtUnfSF        </th><th>Condition2_Tencode  </th><th>GarageCond_Tencode  </th><th>OverallCond_Tencode  </th><th>OverallQual_Tencode  </th><th>FireplaceQu_Tencode  </th><th>GarageFinish_Tencode  </th><th>BsmtCond_Tencode  </th><th>SaleCondition_Tencode  </th><th>TotalBsmtSF      </th><th>GarageArea        </th><th>BsmtFinType2_Tencode  </th><th>LowQualFinSF     </th><th>Heating_Tencode   </th><th>Foundation_Tencode  </th><th>HeatingQC_Tencode  </th><th>FullBath          </th><th>Id                </th><th>Utilities_Tencode  </th><th>EnclosedPorch    </th><th>BsmtFinType1_Tencode  </th><th>WoodDeckSF        </th><th>BedroomAbvGr      </th><th>SaleType_Tencode  </th><th>1stFlrSF          </th><th>MoSold_Tencode    </th><th>GarageQual_Tencode  </th><th>LotShape_Tencode  </th><th>RoofStyle_Tencode  </th><th>BsmtQual_Tencode  </th><th>MiscFeature_Tencode  </th><th>GrLivArea         </th><th>ExterCond_Tencode  </th><th>BsmtFinSF1        </th><th>LandSlope_Tencode  </th><th>Neighborhood_Tencode  </th><th>Fireplaces        </th><th>Electrical_Tencode  </th><th>HalfBath          </th><th>Alley_Tencode     </th><th>LotConfig_Tencode  </th><th>KitchenQual_Tencode  </th><th>YearRemodAdd_Tencode  </th><th>MasVnrType_Tencode  </th><th>GarageType_Tencode  </th><th>LotFrontage       </th><th>HouseStyle_Tencode  </th><th>GarageYrBltBins_Tencode  </th><th>Exterior2nd_Tencode  </th><th>TotRmsAbvGrd      </th><th>RoofMatl_Tencode  </th><th>BsmtExposure_Tencode  </th><th>MiscVal           </th><th>YearBuilt_Tencode  </th><th>PoolQC_Tencode    </th><th>BsmtFinSF2        </th><th>Functional_Tencode  </th></tr>\n",
       "</thead>\n",
       "<tbody>\n",
       "<tr><td>type   </td><td>int               </td><td>real              </td><td>int               </td><td>int               </td><td>int               </td><td>int                </td><td>int              </td><td>int               </td><td>real                </td><td>real              </td><td>real                </td><td>int                </td><td>real                 </td><td>int               </td><td>int                </td><td>real              </td><td>real              </td><td>int              </td><td>real                </td><td>real               </td><td>int               </td><td>real                 </td><td>real              </td><td>real                </td><td>int              </td><td>real                </td><td>real                </td><td>real                 </td><td>real                 </td><td>real                 </td><td>real                  </td><td>real              </td><td>real                   </td><td>int              </td><td>int               </td><td>real                  </td><td>int              </td><td>real              </td><td>real                </td><td>real               </td><td>int               </td><td>int               </td><td>real               </td><td>int              </td><td>real                  </td><td>int               </td><td>int               </td><td>real              </td><td>int               </td><td>real              </td><td>real                </td><td>real              </td><td>real               </td><td>real              </td><td>real                 </td><td>int               </td><td>real               </td><td>int               </td><td>real               </td><td>real                  </td><td>int               </td><td>real                </td><td>int               </td><td>real              </td><td>real               </td><td>real                 </td><td>real                  </td><td>real                </td><td>real                </td><td>real              </td><td>real                </td><td>real                     </td><td>real                 </td><td>int               </td><td>real              </td><td>real                  </td><td>int               </td><td>real               </td><td>real              </td><td>int               </td><td>real                </td></tr>\n",
       "<tr><td>mins   </td><td>0.0               </td><td>169627.25564187934</td><td>1491.0            </td><td>0.0               </td><td>0.0               </td><td>0.0                </td><td>0.0              </td><td>0.0               </td><td>111601.52450980392  </td><td>95579.02450980392 </td><td>114840.96895424835  </td><td>1.0                </td><td>163075.56297134238   </td><td>0.0               </td><td>0.0                </td><td>133419.96200980392</td><td>118217.35784313723</td><td>0.0              </td><td>95012.35784313723   </td><td>91042.14950980392  </td><td>0.0               </td><td>96429.02450980392    </td><td>128987.56617647059</td><td>150223.0311764706   </td><td>0.0              </td><td>84954.02450980392   </td><td>108352.20632798571  </td><td>78579.02450980392    </td><td>69356.52450980392    </td><td>133191.52450980392   </td><td>108352.20632798571    </td><td>78579.02450980392 </td><td>143816.52450980392     </td><td>0.0              </td><td>0.0               </td><td>107897.15367647057    </td><td>0.0              </td><td>77729.02450980392 </td><td>110363.31736694675  </td><td>100679.02450980392 </td><td>0.0               </td><td>4.0               </td><td>178193.4967320261  </td><td>0.0              </td><td>107897.15367647057    </td><td>0.0               </td><td>0.0               </td><td>107734.02450980392</td><td>334.0             </td><td>162484.5985098039 </td><td>108352.20632798571  </td><td>163981.4191419142 </td><td>139864.02450980392 </td><td>107897.15367647057</td><td>73479.02450980392    </td><td>334.0             </td><td>91754.02450980392  </td><td>0.0               </td><td>175531.83179723503 </td><td>112866.7168174962     </td><td>0.0               </td><td>100143.52450980392  </td><td>0.0               </td><td>134607.54723707662</td><td>165751.57330498463 </td><td>105130.89950980392   </td><td>120621.97532947603    </td><td>131576.52450980392  </td><td>108352.20632798571  </td><td>21.0              </td><td>122402.59593837534  </td><td>108352.20632798571       </td><td>106204.02450980392   </td><td>2.0               </td><td>175904.02450980392</td><td>107897.15367647057    </td><td>0.0               </td><td>79514.02450980392  </td><td>178187.36899563318</td><td>0.0               </td><td>84954.02450980392   </td></tr>\n",
       "<tr><td>mean   </td><td>96.47276688453148 </td><td>178193.496732026  </td><td>10273.808278867102</td><td>1835.7864923747268</td><td>1.7102396514161213</td><td>0.42265795206971674</td><td>50.44662309368192</td><td>1.411764705882353 </td><td>179115.18492887347  </td><td>178225.25931265744</td><td>179002.96058140023  </td><td>1.0457516339869268 </td><td>177854.22806185653   </td><td>15.710239651416122</td><td>0.05228758169934641</td><td>178943.90578410032</td><td>179328.32668845326</td><td>3.30718954248366 </td><td>178290.67043872018  </td><td>174940.29949164853 </td><td>358.34422657952064</td><td>179651.10523303007   </td><td>178649.14910504507</td><td>178617.62590029478  </td><td>548.159041394335 </td><td>178197.18104147993  </td><td>179410.743410654    </td><td>180314.7703639625    </td><td>178193.49673202616   </td><td>175300.38912811334   </td><td>176100.76506899047    </td><td>178575.42264940837</td><td>177335.48292323473     </td><td>1044.760348583878</td><td>463.19172113289744</td><td>178749.88685121093    </td><td>5.668845315904139</td><td>178371.04867785898</td><td>179041.90369302416  </td><td>180663.66151693798 </td><td>1.544662309368193 </td><td>742.8671023965148 </td><td>178193.4967320261  </td><td>23.4727668845316 </td><td>178193.49673202584    </td><td>101.15904139433547</td><td>2.856209150326796 </td><td>177239.63702422142</td><td>1141.9912854030508</td><td>178193.49673202605</td><td>179173.93458285267  </td><td>176786.22238241715</td><td>177381.14581571185 </td><td>177231.78653936516</td><td>178331.82024007873   </td><td>1506.0043572984757</td><td>178484.55631381104 </td><td>439.36601307189557</td><td>177815.9926203596  </td><td>178193.49673202608    </td><td>0.5969498910675383</td><td>179083.62772865142  </td><td>0.3856209150326796</td><td>178551.46728608664</td><td>178163.2663740442  </td><td>177298.28443120178   </td><td>178193.49673202634    </td><td>176236.3233521294   </td><td>180113.26154897668  </td><td>69.0108932461874  </td><td>177648.76674783212  </td><td>178193.49673202634       </td><td>179728.6088213935    </td><td>6.52941176470589  </td><td>177969.71943483278</td><td>176528.2975458157     </td><td>51.78649237472768 </td><td>178193.49673202625 </td><td>178192.57957409543</td><td>57.235294117647065</td><td>178425.7326455637   </td></tr>\n",
       "<tr><td>maxs   </td><td>1600.0            </td><td>186970.48567051822</td><td>215245.0          </td><td>2009.0            </td><td>4.0               </td><td>2.0                </td><td>547.0            </td><td>648.0             </td><td>184861.0283687943   </td><td>178405.7096069869 </td><td>184063.06872037915  </td><td>2.0                </td><td>252389.9995098039    </td><td>480.0             </td><td>1.0                </td><td>184450.31335149863</td><td>219311.6970098039 </td><td>407.0            </td><td>224956.37657165958  </td><td>311103.9129713424  </td><td>1611.0            </td><td>230256.21200980392   </td><td>183943.1995098039 </td><td>311479.0245098039   </td><td>2336.0           </td><td>302979.0245098039   </td><td>187300.52567237162  </td><td>236726.2467320261    </td><td>369297.8945098039    </td><td>345181.5245098039    </td><td>223156.8495098039     </td><td>204324.73418722322</td><td>255001.6042717087      </td><td>3200.0           </td><td>1248.0            </td><td>194068.52450980392    </td><td>572.0            </td><td>179414.41573033712</td><td>222366.88205128204  </td><td>211491.75330396474 </td><td>3.0               </td><td>1459.0            </td><td>178193.4967320261  </td><td>301.0            </td><td>224699.7863950498     </td><td>857.0             </td><td>6.0               </td><td>255001.6042717087 </td><td>3228.0            </td><td>200082.05082559335</td><td>282791.5245098039   </td><td>257372.27450980392</td><td>205162.1274859944  </td><td>287410.74022408965</td><td>188229.02450980392   </td><td>3608.0            </td><td>197862.35784313726 </td><td>1880.0            </td><td>219485.84269162212 </td><td>288359.0245098039     </td><td>3.0               </td><td>184788.65617433414  </td><td>2.0               </td><td>180974.4445098039 </td><td>221371.6687405731  </td><td>307728.63562091504   </td><td>273645.3828431372     </td><td>243111.468058191    </td><td>243247.17284313726  </td><td>182.0             </td><td>221634.02450980392  </td><td>228607.89347532115       </td><td>237481.8022875817    </td><td>12.0              </td><td>296434.0245098039 </td><td>252970.21398348815    </td><td>8300.0            </td><td>430479.0245098039  </td><td>180579.02450980392</td><td>1474.0            </td><td>181312.14950980392  </td></tr>\n",
       "<tr><td>sigma  </td><td>183.06222490418148</td><td>6756.846117385383 </td><td>11072.988785723228</td><td>512.057765479955  </td><td>0.7712943151662268</td><td>0.5161250426046549 </td><td>72.74780631554769</td><td>30.246049815005012</td><td>19717.249202290554  </td><td>3866.0185855881646</td><td>17370.731330504437  </td><td>0.20917396118996429</td><td>12704.546441754976   </td><td>59.12791370210353 </td><td>0.2228492452574714 </td><td>12656.577864073239</td><td>22954.507567875306</td><td>28.18457901138756</td><td>34491.169018196844  </td><td>46704.676972640176 </td><td>444.5856999141145 </td><td>27697.042657464837   </td><td>11313.686291071555</td><td>12058.531723299979  </td><td>436.0358278966984</td><td>7675.716724689661   </td><td>22986.979310392446  </td><td>30660.56351655315    </td><td>55383.22892736045    </td><td>41407.53486285178    </td><td>37887.20742632184     </td><td>17674.722900752706</td><td>25636.5564484805       </td><td>412.0811851328445</td><td>221.95498544637042</td><td>13507.295148882748    </td><td>46.66085163497713</td><td>7482.9638209952   </td><td>37636.63649998418   </td><td>31183.876623648637 </td><td>0.5445931590280559</td><td>422.05491502326714</td><td>0.0                </td><td>61.32101817353125</td><td>30235.126490265342    </td><td>136.0428056028114 </td><td>0.8391483048651234</td><td>25705.648619049694</td><td>373.01668824001615</td><td>8376.309432540083 </td><td>22413.52398643429   </td><td>21170.422649021333</td><td>13516.296484902437 </td><td>46388.72372416759 </td><td>5792.9151130758355   </td><td>537.1049436609105 </td><td>12461.390436783036 </td><td>431.42414339733244</td><td>9612.485004032442  </td><td>47446.35307377432     </td><td>0.6515613257699318</td><td>17731.970597652493  </td><td>0.5091844194507408</td><td>9870.638176773426 </td><td>11574.4525615196   </td><td>48579.93227209306    </td><td>38509.35013979468     </td><td>27300.308004292383  </td><td>36364.50360655458   </td><td>20.747859653582008</td><td>21371.85806025564   </td><td>38096.993571949526       </td><td>26639.054892573462   </td><td>1.7068785455857547</td><td>12445.872412899758</td><td>29831.690627197433    </td><td>449.54109321577573</td><td>48282.59548084681  </td><td>111.63291947830336</td><td>185.24001065203282</td><td>8139.874204543354   </td></tr>\n",
       "<tr><td>zeros  </td><td>292               </td><td>0                 </td><td>0                 </td><td>33                </td><td>33                </td><td>270                </td><td>196              </td><td>458               </td><td>0                   </td><td>0                 </td><td>0                   </td><td>0                  </td><td>0                    </td><td>423               </td><td>435                </td><td>0                 </td><td>0                 </td><td>451              </td><td>0                   </td><td>0                  </td><td>257               </td><td>0                    </td><td>0                 </td><td>0                   </td><td>40               </td><td>0                   </td><td>0                   </td><td>0                    </td><td>0                    </td><td>0                    </td><td>0                     </td><td>0                 </td><td>0                      </td><td>12               </td><td>33                </td><td>0                     </td><td>450              </td><td>0                 </td><td>0                   </td><td>0                  </td><td>3                 </td><td>0                 </td><td>0                  </td><td>385              </td><td>0                     </td><td>238               </td><td>2                 </td><td>0                 </td><td>0                 </td><td>0                 </td><td>0                   </td><td>0                 </td><td>0                  </td><td>0                 </td><td>0                    </td><td>0                 </td><td>0                  </td><td>141               </td><td>0                  </td><td>0                     </td><td>224               </td><td>0                   </td><td>287               </td><td>0                 </td><td>0                  </td><td>0                    </td><td>0                     </td><td>0                   </td><td>0                   </td><td>0                 </td><td>0                   </td><td>0                        </td><td>0                    </td><td>0                 </td><td>0                 </td><td>0                     </td><td>439               </td><td>0                  </td><td>0                 </td><td>399               </td><td>0                   </td></tr>\n",
       "<tr><td>missing</td><td>0                 </td><td>0                 </td><td>0                 </td><td>0                 </td><td>0                 </td><td>0                  </td><td>0                </td><td>0                 </td><td>0                   </td><td>0                 </td><td>0                   </td><td>0                  </td><td>0                    </td><td>0                 </td><td>0                  </td><td>0                 </td><td>0                 </td><td>0                </td><td>0                   </td><td>0                  </td><td>0                 </td><td>0                    </td><td>0                 </td><td>0                   </td><td>0                </td><td>0                   </td><td>0                   </td><td>0                    </td><td>0                    </td><td>0                    </td><td>0                     </td><td>0                 </td><td>0                      </td><td>0                </td><td>0                 </td><td>0                     </td><td>0                </td><td>0                 </td><td>0                   </td><td>0                  </td><td>0                 </td><td>0                 </td><td>0                  </td><td>0                </td><td>0                     </td><td>0                 </td><td>0                 </td><td>0                 </td><td>0                 </td><td>0                 </td><td>0                   </td><td>0                 </td><td>0                  </td><td>0                 </td><td>0                    </td><td>0                 </td><td>0                  </td><td>0                 </td><td>0                  </td><td>0                     </td><td>0                 </td><td>0                   </td><td>0                 </td><td>0                 </td><td>0                  </td><td>0                    </td><td>0                     </td><td>0                   </td><td>0                   </td><td>0                 </td><td>0                   </td><td>0                        </td><td>0                    </td><td>0                 </td><td>0                 </td><td>0                     </td><td>0                 </td><td>0                  </td><td>0                 </td><td>0                 </td><td>0                   </td></tr>\n",
       "<tr><td>0      </td><td>0.0               </td><td>186970.48567051822</td><td>9550.0            </td><td>1998.0            </td><td>3.0               </td><td>1.0                </td><td>35.0             </td><td>0.0               </td><td>184861.0283687943   </td><td>178405.7096069869 </td><td>184063.06872037915  </td><td>1.0                </td><td>175715.7828162291    </td><td>0.0               </td><td>0.0                </td><td>184450.31335149863</td><td>187920.61064425771</td><td>0.0              </td><td>182715.71200980392  </td><td>143747.87889273354 </td><td>756.0             </td><td>154595.81798806478   </td><td>181805.66321243523</td><td>181573.27604166663  </td><td>540.0            </td><td>178218.27472527474  </td><td>187300.52567237162  </td><td>204262.16064257032   </td><td>204327.95765587135   </td><td>219907.18575980392   </td><td>143948.79679144386    </td><td>204324.73418722322</td><td>147087.25059676042     </td><td>756.0            </td><td>642.0             </td><td>182592.86046511628    </td><td>0.0              </td><td>179414.41573033712</td><td>144486.10784313726  </td><td>158961.70308123247 </td><td>1.0               </td><td>4.0               </td><td>178193.4967320261  </td><td>272.0            </td><td>169309.44117647054    </td><td>0.0               </td><td>3.0               </td><td>170822.7626262626 </td><td>961.0             </td><td>186396.24236694674</td><td>185601.24938271602  </td><td>194850.58566088302</td><td>171401.71038251367 </td><td>138313.57142857142</td><td>179157.6651480638    </td><td>1717.0            </td><td>180398.05693069307 </td><td>216.0             </td><td>175531.83179723503 </td><td>216008.84593837534    </td><td>1.0               </td><td>184788.65617433414  </td><td>0.0               </td><td>180758.81264637003</td><td>165751.57330498463 </td><td>211880.81318681315   </td><td>155036.52450980392    </td><td>157753.39249146762  </td><td>142532.16792065662  </td><td>60.0              </td><td>203633.455628685    </td><td>199424.48842732972       </td><td>180267.35784313726   </td><td>7.0               </td><td>176671.8111111111 </td><td>161376.63366336632    </td><td>0.0               </td><td>134248.71200980392 </td><td>178187.36899563318</td><td>0.0               </td><td>179857.76346604215  </td></tr>\n",
       "<tr><td>1      </td><td>240.0             </td><td>176381.1217825312 </td><td>10382.0           </td><td>1973.0            </td><td>2.0               </td><td>1.0                </td><td>204.0            </td><td>0.0               </td><td>184861.0283687943   </td><td>178405.7096069869 </td><td>184063.06872037915  </td><td>1.0                </td><td>175715.7828162291    </td><td>0.0               </td><td>0.0                </td><td>184450.31335149863</td><td>187920.61064425771</td><td>0.0              </td><td>224956.37657165958  </td><td>143747.87889273354 </td><td>983.0             </td><td>167128.41844919784   </td><td>181805.66321243523</td><td>197366.52450980392  </td><td>216.0            </td><td>178218.27472527474  </td><td>187300.52567237162  </td><td>154426.8646332607    </td><td>204327.95765587135   </td><td>205118.42900418595   </td><td>201271.56721053383    </td><td>181115.23         </td><td>171302.3622047244      </td><td>1107.0           </td><td>484.0             </td><td>156634.52450980392    </td><td>0.0              </td><td>179414.41573033712</td><td>148549.72906403942  </td><td>211491.75330396474 </td><td>2.0               </td><td>8.0               </td><td>178193.4967320261  </td><td>228.0            </td><td>169309.44117647054    </td><td>235.0             </td><td>3.0               </td><td>170822.7626262626 </td><td>1107.0            </td><td>200082.05082559335</td><td>185601.24938271602  </td><td>194850.58566088302</td><td>171401.71038251367 </td><td>206633.03141361254</td><td>163465.69117647054   </td><td>2090.0            </td><td>180398.05693069307 </td><td>859.0             </td><td>175531.83179723503 </td><td>184610.14950980392    </td><td>2.0               </td><td>184788.65617433414  </td><td>1.0               </td><td>180758.81264637003</td><td>165751.57330498463 </td><td>140285.62820512822   </td><td>161352.02450980392    </td><td>243111.468058191    </td><td>201051.3968871595   </td><td>80.0              </td><td>203633.455628685    </td><td>158794.07093837534       </td><td>169568.25527903467   </td><td>7.0               </td><td>176671.8111111111 </td><td>199413.65506535943    </td><td>350.0             </td><td>161156.52450980392 </td><td>178187.36899563318</td><td>32.0              </td><td>179857.76346604215  </td></tr>\n",
       "<tr><td>2      </td><td>0.0               </td><td>170246.78240454075</td><td>7420.0            </td><td>1939.0            </td><td>1.0               </td><td>1.0                </td><td>4.0              </td><td>0.0               </td><td>184861.0283687943   </td><td>178405.7096069869 </td><td>184063.06872037915  </td><td>2.0                </td><td>175715.7828162291    </td><td>0.0               </td><td>0.0                </td><td>184450.31335149863</td><td>187920.61064425771</td><td>0.0              </td><td>128987.56617647059  </td><td>143747.87889273354 </td><td>0.0               </td><td>151733.02861939298   </td><td>128987.56617647059</td><td>152316.52450980392  </td><td>140.0            </td><td>127029.02450980392  </td><td>187300.52567237162  </td><td>154426.8646332607    </td><td>141364.58360071303   </td><td>205118.42900418595   </td><td>201271.56721053383    </td><td>181115.23         </td><td>171302.3622047244      </td><td>991.0            </td><td>205.0             </td><td>182592.86046511628    </td><td>0.0              </td><td>179414.41573033712</td><td>144486.10784313726  </td><td>211491.75330396474 </td><td>1.0               </td><td>10.0              </td><td>178193.4967320261  </td><td>0.0              </td><td>224699.7863950498     </td><td>0.0               </td><td>2.0               </td><td>170822.7626262626 </td><td>1077.0            </td><td>162484.5985098039 </td><td>194951.10784313726  </td><td>163981.4191419142 </td><td>171401.71038251367 </td><td>138313.57142857142</td><td>179157.6651480638    </td><td>1077.0            </td><td>180398.05693069307 </td><td>851.0             </td><td>175531.83179723503 </td><td>129965.77450980392    </td><td>2.0               </td><td>184788.65617433414  </td><td>0.0               </td><td>180758.81264637003</td><td>165751.57330498463 </td><td>140285.62820512822   </td><td>120621.97532947603    </td><td>157753.39249146762  </td><td>201051.3968871595   </td><td>50.0              </td><td>122402.59593837534  </td><td>156634.52450980392       </td><td>151828.55059676044   </td><td>5.0               </td><td>176671.8111111111 </td><td>161376.63366336632    </td><td>0.0               </td><td>139354.02450980392 </td><td>178187.36899563318</td><td>0.0               </td><td>179857.76346604215  </td></tr>\n",
       "<tr><td>3      </td><td>0.0               </td><td>182972.00372328702</td><td>6120.0            </td><td>1991.0            </td><td>2.0               </td><td>0.0                </td><td>112.0            </td><td>0.0               </td><td>184861.0283687943   </td><td>178405.7096069869 </td><td>184063.06872037915  </td><td>1.0                </td><td>175715.7828162291    </td><td>0.0               </td><td>0.0                </td><td>181956.919246646  </td><td>132608.82714138282</td><td>0.0              </td><td>121631.52450980392  </td><td>143747.87889273354 </td><td>0.0               </td><td>154595.81798806478   </td><td>181805.66321243523</td><td>181573.27604166663  </td><td>832.0            </td><td>178218.27472527474  </td><td>187300.52567237162  </td><td>165210.21498599442   </td><td>204327.95765587135   </td><td>138671.58035714287   </td><td>143948.79679144386    </td><td>181115.23         </td><td>171302.3622047244      </td><td>832.0            </td><td>576.0             </td><td>182592.86046511628    </td><td>0.0              </td><td>179414.41573033712</td><td>144486.10784313726  </td><td>211491.75330396474 </td><td>1.0               </td><td>16.0              </td><td>178193.4967320261  </td><td>0.0              </td><td>168970.1659826721     </td><td>48.0              </td><td>2.0               </td><td>170822.7626262626 </td><td>854.0             </td><td>174581.3905098039 </td><td>185601.24938271602  </td><td>163981.4191419142 </td><td>171401.71038251367 </td><td>138313.57142857142</td><td>179157.6651480638    </td><td>854.0             </td><td>180398.05693069307 </td><td>0.0               </td><td>175531.83179723503 </td><td>129965.77450980392    </td><td>0.0               </td><td>135344.4530812325   </td><td>0.0               </td><td>180758.81264637003</td><td>165751.57330498463 </td><td>140285.62820512822   </td><td>182279.02450980392    </td><td>157753.39249146762  </td><td>142532.16792065662  </td><td>51.0              </td><td>122402.59593837534  </td><td>199424.48842732972       </td><td>163767.73719637108   </td><td>5.0               </td><td>176671.8111111111 </td><td>161376.63366336632    </td><td>0.0               </td><td>138929.02450980392 </td><td>178187.36899563318</td><td>0.0               </td><td>179857.76346604215  </td></tr>\n",
       "<tr><td>4      </td><td>180.0             </td><td>169627.25564187934</td><td>11241.0           </td><td>1970.0            </td><td>2.0               </td><td>1.0                </td><td>0.0              </td><td>0.0               </td><td>184861.0283687943   </td><td>178405.7096069869 </td><td>184063.06872037915  </td><td>1.0                </td><td>175715.7828162291    </td><td>0.0               </td><td>0.0                </td><td>184450.31335149863</td><td>187920.61064425771</td><td>0.0              </td><td>179984.77108433735  </td><td>143747.87889273354 </td><td>0.0               </td><td>154595.81798806478   </td><td>181805.66321243523</td><td>181573.27604166663  </td><td>426.0            </td><td>178218.27472527474  </td><td>187300.52567237162  </td><td>152433.73154105392   </td><td>163241.9355717508    </td><td>205118.42900418595   </td><td>223156.8495098039     </td><td>181115.23         </td><td>171302.3622047244      </td><td>1004.0           </td><td>480.0             </td><td>182592.86046511628    </td><td>0.0              </td><td>179414.41573033712</td><td>148549.72906403942  </td><td>211491.75330396474 </td><td>1.0               </td><td>17.0              </td><td>178193.4967320261  </td><td>0.0              </td><td>169309.44117647054    </td><td>0.0               </td><td>2.0               </td><td>170822.7626262626 </td><td>1004.0            </td><td>176369.09256535946</td><td>185601.24938271602  </td><td>194850.58566088302</td><td>171401.71038251367 </td><td>138313.57142857142</td><td>163465.69117647054   </td><td>1004.0            </td><td>180398.05693069307 </td><td>578.0             </td><td>175531.83179723503 </td><td>152080.32258672698    </td><td>1.0               </td><td>184788.65617433414  </td><td>0.0               </td><td>180758.81264637003</td><td>221371.6687405731  </td><td>140285.62820512822   </td><td>155036.52450980392    </td><td>203114.2504640024   </td><td>201051.3968871595   </td><td>73.0              </td><td>170914.57205240175  </td><td>158794.07093837534       </td><td>163767.73719637108   </td><td>5.0               </td><td>176671.8111111111 </td><td>161376.63366336632    </td><td>700.0             </td><td>151307.14950980392 </td><td>178187.36899563318</td><td>0.0               </td><td>179857.76346604215  </td></tr>\n",
       "<tr><td>5      </td><td>0.0               </td><td>170246.78240454075</td><td>13695.0           </td><td>2004.0            </td><td>2.0               </td><td>1.0                </td><td>102.0            </td><td>0.0               </td><td>184861.0283687943   </td><td>178405.7096069869 </td><td>184063.06872037915  </td><td>1.0                </td><td>175715.7828162291    </td><td>0.0               </td><td>0.0                </td><td>184450.31335149863</td><td>187920.61064425771</td><td>0.0              </td><td>179984.77108433735  </td><td>143747.87889273354 </td><td>0.0               </td><td>206602.9363057325    </td><td>181805.66321243523</td><td>150829.02450980392  </td><td>468.0            </td><td>178218.27472527474  </td><td>187300.52567237162  </td><td>204262.16064257032   </td><td>141364.58360071303   </td><td>138671.58035714287   </td><td>143948.79679144386    </td><td>181115.23         </td><td>171302.3622047244      </td><td>1114.0           </td><td>576.0             </td><td>182592.86046511628    </td><td>0.0              </td><td>179414.41573033712</td><td>222366.88205128204  </td><td>211491.75330396474 </td><td>1.0               </td><td>19.0              </td><td>178193.4967320261  </td><td>0.0              </td><td>224699.7863950498     </td><td>0.0               </td><td>3.0               </td><td>170822.7626262626 </td><td>1114.0            </td><td>180372.69763480392</td><td>185601.24938271602  </td><td>163981.4191419142 </td><td>171401.71038251367 </td><td>138313.57142857142</td><td>179157.6651480638    </td><td>1114.0            </td><td>180398.05693069307 </td><td>646.0             </td><td>175531.83179723503 </td><td>189097.7776348039     </td><td>0.0               </td><td>184788.65617433414  </td><td>1.0               </td><td>180758.81264637003</td><td>177919.81360946747 </td><td>211880.81318681315   </td><td>205207.77450980392    </td><td>157753.39249146762  </td><td>142532.16792065662  </td><td>66.0              </td><td>170914.57205240175  </td><td>228607.89347532115       </td><td>209302.39072847684   </td><td>6.0               </td><td>176671.8111111111 </td><td>161376.63366336632    </td><td>0.0               </td><td>209272.21297134238 </td><td>178187.36899563318</td><td>0.0               </td><td>179857.76346604215  </td></tr>\n",
       "<tr><td>6      </td><td>0.0               </td><td>182972.00372328702</td><td>7449.0            </td><td>1930.0            </td><td>1.0               </td><td>0.0                </td><td>0.0              </td><td>0.0               </td><td>184861.0283687943   </td><td>178405.7096069869 </td><td>114840.96895424835  </td><td>1.0                </td><td>163075.56297134238   </td><td>0.0               </td><td>0.0                </td><td>181956.919246646  </td><td>132608.82714138282</td><td>0.0              </td><td>121631.52450980392  </td><td>143747.87889273354 </td><td>0.0               </td><td>154595.81798806478   </td><td>181805.66321243523</td><td>181573.27604166663  </td><td>637.0            </td><td>178218.27472527474  </td><td>187300.52567237162  </td><td>152433.73154105392   </td><td>204327.95765587135   </td><td>219907.18575980392   </td><td>143948.79679144386    </td><td>181115.23         </td><td>171302.3622047244      </td><td>637.0            </td><td>280.0             </td><td>182592.86046511628    </td><td>0.0              </td><td>179414.41573033712</td><td>222366.88205128204  </td><td>211491.75330396474 </td><td>1.0               </td><td>22.0              </td><td>178193.4967320261  </td><td>205.0            </td><td>168970.1659826721     </td><td>0.0               </td><td>3.0               </td><td>170822.7626262626 </td><td>1108.0            </td><td>180372.69763480392</td><td>185601.24938271602  </td><td>163981.4191419142 </td><td>171401.71038251367 </td><td>138313.57142857142</td><td>179157.6651480638    </td><td>1108.0            </td><td>180398.05693069307 </td><td>0.0               </td><td>175531.83179723503 </td><td>112866.7168174962     </td><td>1.0               </td><td>100143.52450980392  </td><td>0.0               </td><td>134607.54723707662</td><td>177919.81360946747 </td><td>211880.81318681315   </td><td>120621.97532947603    </td><td>157753.39249146762  </td><td>201051.3968871595   </td><td>57.0              </td><td>122402.59593837534  </td><td>156634.52450980392       </td><td>163767.73719637108   </td><td>6.0               </td><td>176671.8111111111 </td><td>161376.63366336632    </td><td>0.0               </td><td>113752.02450980392 </td><td>178187.36899563318</td><td>0.0               </td><td>179857.76346604215  </td></tr>\n",
       "<tr><td>7      </td><td>0.0               </td><td>170246.78240454075</td><td>6324.0            </td><td>1920.0            </td><td>1.0               </td><td>0.0                </td><td>0.0              </td><td>0.0               </td><td>111601.52450980392  </td><td>178405.7096069869 </td><td>184063.06872037915  </td><td>1.0                </td><td>175715.7828162291    </td><td>0.0               </td><td>0.0                </td><td>184450.31335149863</td><td>132608.82714138282</td><td>0.0              </td><td>104839.30228758167  </td><td>143747.87889273354 </td><td>0.0               </td><td>151733.02861939298   </td><td>181805.66321243523</td><td>150223.0311764706   </td><td>520.0            </td><td>84954.02450980392   </td><td>187300.52567237162  </td><td>154426.8646332607    </td><td>117968.89687822496   </td><td>138671.58035714287   </td><td>143948.79679144386    </td><td>181115.23         </td><td>171302.3622047244      </td><td>520.0            </td><td>240.0             </td><td>182592.86046511628    </td><td>0.0              </td><td>179414.41573033712</td><td>144486.10784313726  </td><td>127694.14950980392 </td><td>1.0               </td><td>30.0              </td><td>178193.4967320261  </td><td>87.0             </td><td>168970.1659826721     </td><td>49.0              </td><td>1.0               </td><td>170822.7626262626 </td><td>520.0             </td><td>166467.420736219  </td><td>134853.20367647058  </td><td>194850.58566088302</td><td>171401.71038251367 </td><td>138313.57142857142</td><td>179157.6651480638    </td><td>520.0             </td><td>180398.05693069307 </td><td>0.0               </td><td>175531.83179723503 </td><td>129965.77450980392    </td><td>0.0               </td><td>184788.65617433414  </td><td>0.0               </td><td>180758.81264637003</td><td>177919.81360946747 </td><td>105130.89950980392   </td><td>120621.97532947603    </td><td>157753.39249146762  </td><td>142532.16792065662  </td><td>60.0              </td><td>170914.57205240175  </td><td>156634.52450980392       </td><td>151828.55059676044   </td><td>4.0               </td><td>176671.8111111111 </td><td>161376.63366336632    </td><td>0.0               </td><td>84954.02450980392  </td><td>178187.36899563318</td><td>0.0               </td><td>179857.76346604215  </td></tr>\n",
       "<tr><td>8      </td><td>0.0               </td><td>170246.78240454075</td><td>8544.0            </td><td>1966.0            </td><td>1.0               </td><td>0.0                </td><td>65.0             </td><td>0.0               </td><td>184861.0283687943   </td><td>178405.7096069869 </td><td>184063.06872037915  </td><td>1.0                </td><td>175715.7828162291    </td><td>0.0               </td><td>0.0                </td><td>151206.9049445865 </td><td>187920.61064425771</td><td>0.0              </td><td>179984.77108433735  </td><td>143747.87889273354 </td><td>0.0               </td><td>167128.41844919784   </td><td>181805.66321243523</td><td>181573.27604166663  </td><td>1228.0           </td><td>178218.27472527474  </td><td>187300.52567237162  </td><td>154426.8646332607    </td><td>141364.58360071303   </td><td>138671.58035714287   </td><td>143948.79679144386    </td><td>181115.23         </td><td>171302.3622047244      </td><td>1228.0           </td><td>271.0             </td><td>182592.86046511628    </td><td>0.0              </td><td>179414.41573033712</td><td>148549.72906403942  </td><td>158961.70308123247 </td><td>1.0               </td><td>32.0              </td><td>178193.4967320261  </td><td>0.0              </td><td>168970.1659826721     </td><td>0.0               </td><td>3.0               </td><td>170822.7626262626 </td><td>1228.0            </td><td>180372.69763480392</td><td>185601.24938271602  </td><td>194850.58566088302</td><td>171401.71038251367 </td><td>138313.57142857142</td><td>179157.6651480638    </td><td>1228.0            </td><td>180398.05693069307 </td><td>0.0               </td><td>175531.83179723503 </td><td>143162.40700980392    </td><td>0.0               </td><td>184788.65617433414  </td><td>1.0               </td><td>180758.81264637003</td><td>221371.6687405731  </td><td>211880.81318681315   </td><td>217804.1370098039     </td><td>157753.39249146762  </td><td>201051.3968871595   </td><td>71.0              </td><td>170914.57205240175  </td><td>158794.07093837534       </td><td>169568.25527903467   </td><td>6.0               </td><td>176671.8111111111 </td><td>161376.63366336632    </td><td>0.0               </td><td>143043.02450980392 </td><td>178187.36899563318</td><td>0.0               </td><td>179857.76346604215  </td></tr>\n",
       "<tr><td>9      </td><td>0.0               </td><td>176381.1217825312 </td><td>10859.0           </td><td>1995.0            </td><td>2.0               </td><td>0.0                </td><td>64.0             </td><td>0.0               </td><td>184861.0283687943   </td><td>178405.7096069869 </td><td>184063.06872037915  </td><td>1.0                </td><td>175715.7828162291    </td><td>0.0               </td><td>0.0                </td><td>184450.31335149863</td><td>187920.61064425771</td><td>0.0              </td><td>179984.77108433735  </td><td>143747.87889273354 </td><td>0.0               </td><td>206602.9363057325    </td><td>181805.66321243523</td><td>181573.27604166663  </td><td>1097.0           </td><td>178218.27472527474  </td><td>187300.52567237162  </td><td>204262.16064257032   </td><td>141364.58360071303   </td><td>138671.58035714287   </td><td>143948.79679144386    </td><td>181115.23         </td><td>171302.3622047244      </td><td>1097.0           </td><td>672.0             </td><td>182592.86046511628    </td><td>0.0              </td><td>179414.41573033712</td><td>222366.88205128204  </td><td>211491.75330396474 </td><td>1.0               </td><td>37.0              </td><td>178193.4967320261  </td><td>0.0              </td><td>168970.1659826721     </td><td>392.0             </td><td>3.0               </td><td>170822.7626262626 </td><td>1097.0            </td><td>180372.69763480392</td><td>185601.24938271602  </td><td>163981.4191419142 </td><td>171401.71038251367 </td><td>206633.03141361254</td><td>179157.6651480638    </td><td>1097.0            </td><td>180398.05693069307 </td><td>0.0               </td><td>175531.83179723503 </td><td>190019.77971813726    </td><td>0.0               </td><td>184788.65617433414  </td><td>1.0               </td><td>180758.81264637003</td><td>165751.57330498463 </td><td>140285.62820512822   </td><td>204733.19117647054    </td><td>157753.39249146762  </td><td>201051.3968871595   </td><td>112.0             </td><td>170914.57205240175  </td><td>199424.48842732972       </td><td>209302.39072847684   </td><td>6.0               </td><td>176671.8111111111 </td><td>161376.63366336632    </td><td>0.0               </td><td>194604.02450980392 </td><td>178187.36899563318</td><td>0.0               </td><td>179857.76346604215  </td></tr>\n",
       "</tbody>\n",
       "</table>"
      ]
     },
     "metadata": {},
     "output_type": "display_data"
    },
    {
     "name": "stdout",
     "output_type": "stream",
     "text": [
      "--------------------------------------------------------------------------------\n",
      "Imputed and encoded numeric test data:\n",
      "Rows:1459\n",
      "Cols:81\n",
      "\n",
      "\n"
     ]
    },
    {
     "data": {
      "text/html": [
       "<table>\n",
       "<thead>\n",
       "<tr><th>       </th><th>MasVnrArea        </th><th>YrSold_Tencode    </th><th>LotArea          </th><th>GarageYrBlt       </th><th>GarageCars        </th><th>BsmtFullBath      </th><th>OpenPorchSF      </th><th>PoolArea          </th><th>CentralAir_Tencode  </th><th>Street_Tencode   </th><th>PavedDrive_Tencode  </th><th>KitchenAbvGr      </th><th>LandContour_Tencode  </th><th>ScreenPorch       </th><th>BsmtHalfBath      </th><th>Fence_Tencode     </th><th>MSZoning_Tencode  </th><th>3SsnPorch         </th><th>MSSubClass_Tencode  </th><th>ExterQual_Tencode  </th><th>2ndFlrSF          </th><th>Exterior1st_Tencode  </th><th>BldgType_Tencode  </th><th>Condition1_Tencode  </th><th>BsmtUnfSF        </th><th>Condition2_Tencode  </th><th>GarageCond_Tencode  </th><th>OverallCond_Tencode  </th><th>OverallQual_Tencode  </th><th>FireplaceQu_Tencode  </th><th>GarageFinish_Tencode  </th><th>BsmtCond_Tencode  </th><th>SaleCondition_Tencode  </th><th>TotalBsmtSF       </th><th>GarageArea        </th><th>BsmtFinType2_Tencode  </th><th>LowQualFinSF     </th><th>Heating_Tencode   </th><th>Foundation_Tencode  </th><th>HeatingQC_Tencode  </th><th>FullBath          </th><th>Id                </th><th>Utilities_Tencode  </th><th>EnclosedPorch     </th><th>BsmtFinType1_Tencode  </th><th>WoodDeckSF       </th><th>BedroomAbvGr      </th><th>SaleType_Tencode  </th><th>1stFlrSF          </th><th>MoSold_Tencode    </th><th>GarageQual_Tencode  </th><th>LotShape_Tencode  </th><th>RoofStyle_Tencode  </th><th>BsmtQual_Tencode  </th><th>MiscFeature_Tencode  </th><th>GrLivArea         </th><th>ExterCond_Tencode  </th><th>BsmtFinSF1        </th><th>LandSlope_Tencode  </th><th>Neighborhood_Tencode  </th><th>Fireplaces        </th><th>Electrical_Tencode  </th><th>HalfBath          </th><th>Alley_Tencode     </th><th>LotConfig_Tencode  </th><th>KitchenQual_Tencode  </th><th>YearRemodAdd_Tencode  </th><th>MasVnrType_Tencode  </th><th>GarageType_Tencode  </th><th>LotFrontage      </th><th>HouseStyle_Tencode  </th><th>GarageYrBltBins_Tencode  </th><th>Exterior2nd_Tencode  </th><th>TotRmsAbvGrd      </th><th>RoofMatl_Tencode  </th><th>BsmtExposure_Tencode  </th><th>MiscVal          </th><th>YearBuilt_Tencode  </th><th>PoolQC_Tencode    </th><th>BsmtFinSF2        </th><th>Functional_Tencode  </th></tr>\n",
       "</thead>\n",
       "<tbody>\n",
       "<tr><td>type   </td><td>int               </td><td>real              </td><td>int              </td><td>int               </td><td>int               </td><td>int               </td><td>int              </td><td>int               </td><td>real                </td><td>real             </td><td>real                </td><td>int               </td><td>real                 </td><td>int               </td><td>int               </td><td>real              </td><td>real              </td><td>int               </td><td>real                </td><td>real               </td><td>int               </td><td>real                 </td><td>real              </td><td>real                </td><td>int              </td><td>real                </td><td>real                </td><td>real                 </td><td>real                 </td><td>real                 </td><td>real                  </td><td>real              </td><td>real                   </td><td>int               </td><td>int               </td><td>real                  </td><td>int              </td><td>real              </td><td>real                </td><td>real               </td><td>int               </td><td>int               </td><td>real               </td><td>int               </td><td>real                  </td><td>int              </td><td>int               </td><td>real              </td><td>int               </td><td>real              </td><td>real                </td><td>real              </td><td>real               </td><td>real              </td><td>real                 </td><td>int               </td><td>real               </td><td>int               </td><td>real               </td><td>real                  </td><td>int               </td><td>real                </td><td>int               </td><td>real              </td><td>real               </td><td>real                 </td><td>real                  </td><td>real                </td><td>real                </td><td>real             </td><td>real                </td><td>real                     </td><td>real                 </td><td>int               </td><td>real              </td><td>real                  </td><td>int              </td><td>real               </td><td>real              </td><td>int               </td><td>real                </td></tr>\n",
       "<tr><td>mins   </td><td>0.0               </td><td>169627.25564187934</td><td>1470.0           </td><td>0.0               </td><td>0.0               </td><td>0.0               </td><td>0.0              </td><td>0.0               </td><td>111601.52450980392  </td><td>95579.02450980392</td><td>114840.96895424835  </td><td>0.0               </td><td>163075.56297134238   </td><td>0.0               </td><td>0.0               </td><td>133419.96200980392</td><td>118217.35784313723</td><td>0.0               </td><td>95012.35784313723   </td><td>91042.14950980392  </td><td>0.0               </td><td>96429.02450980392    </td><td>128987.56617647059</td><td>150223.0311764706   </td><td>0.0              </td><td>127029.02450980392  </td><td>108352.20632798571  </td><td>78579.02450980392    </td><td>69356.52450980392    </td><td>133191.52450980392   </td><td>108352.20632798571    </td><td>78579.02450980392 </td><td>143816.52450980392     </td><td>0.0               </td><td>0.0               </td><td>107897.15367647057    </td><td>0.0              </td><td>77729.02450980392 </td><td>110363.31736694675  </td><td>100679.02450980392 </td><td>0.0               </td><td>1461.0            </td><td>178193.4967320261  </td><td>0.0               </td><td>107897.15367647057    </td><td>0.0              </td><td>0.0               </td><td>107734.02450980392</td><td>407.0             </td><td>162484.5985098039 </td><td>108352.20632798571  </td><td>163981.4191419142 </td><td>139864.02450980392 </td><td>107897.15367647057</td><td>73479.02450980392    </td><td>407.0             </td><td>91754.02450980392  </td><td>0.0               </td><td>175531.83179723503 </td><td>112866.7168174962     </td><td>0.0               </td><td>100143.52450980392  </td><td>0.0               </td><td>134607.54723707662</td><td>165751.57330498463 </td><td>105130.89950980392   </td><td>120621.97532947603    </td><td>131576.52450980392  </td><td>108352.20632798571  </td><td>21.0             </td><td>122402.59593837534  </td><td>139136.05102495544       </td><td>106204.02450980392   </td><td>3.0               </td><td>175904.02450980392</td><td>107897.15367647057    </td><td>0.0              </td><td>79514.02450980392  </td><td>178187.36899563318</td><td>0.0               </td><td>84954.02450980392   </td></tr>\n",
       "<tr><td>mean   </td><td>99.67374914324867 </td><td>178138.41592993547</td><td>9819.161069225516</td><td>1871.9897189856056</td><td>1.7649074708704602</td><td>0.4344543582704184</td><td>48.31391363947919</td><td>1.7443454420836189</td><td>179789.60281035848  </td><td>178065.0926703297</td><td>177090.1544055946   </td><td>1.0424948594928027</td><td>179174.2263375262    </td><td>17.064427690198773</td><td>0.0652024708304736</td><td>179260.15082329372</td><td>179232.0904301915 </td><td>1.794379712131597 </td><td>177704.83404990312  </td><td>177673.68837649445 </td><td>325.9677861549004 </td><td>179810.686881209     </td><td>178370.3696551594 </td><td>179939.77372747503  </td><td>553.9150102810141</td><td>178369.39980873468  </td><td>180887.13312920654  </td><td>181638.3138716565    </td><td>181143.66379652923   </td><td>174678.31798555847   </td><td>177253.37457383898    </td><td>177115.4641081019 </td><td>176492.09637795304     </td><td>1046.1179698216752</td><td>472.4448252227548 </td><td>178665.96855634326    </td><td>3.543522960932145</td><td>179140.34833949347</td><td>181006.29018575946  </td><td>182227.81273899996 </td><td>1.570938999314599 </td><td>2190.0            </td><td>178193.4967320261  </td><td>24.243317340644285</td><td>180068.38187120648    </td><td>93.17477724468819</td><td>2.8540095956134333</td><td>175933.1071534588 </td><td>1156.5346127484572</td><td>178570.99134392996</td><td>178833.85891178728  </td><td>176844.08363718318</td><td>177370.70371664243 </td><td>178942.1349335839 </td><td>178536.70969509304   </td><td>1486.0459218642889</td><td>178138.292477274   </td><td>438.9026730637427 </td><td>177395.21920765375 </td><td>179660.9318538107     </td><td>0.5812200137080195</td><td>180126.11931528134  </td><td>0.3776559287183003</td><td>178550.03252320114</td><td>178278.00897433673 </td><td>179340.39624644505   </td><td>176730.68322763144    </td><td>178146.24432411807  </td><td>182701.64309087777  </td><td>68.9551062371488 </td><td>176296.0327526845   </td><td>170002.81029859162       </td><td>180995.2353182519    </td><td>6.3851953392734755</td><td>176751.7532061534 </td><td>177234.88905514343    </td><td>58.16792323509254</td><td>178184.3114298014  </td><td>178187.38159550258</td><td>52.583276216586704</td><td>178383.03720943822  </td></tr>\n",
       "<tr><td>maxs   </td><td>1290.0            </td><td>186970.48567051822</td><td>56600.0          </td><td>2207.0            </td><td>5.0               </td><td>3.0               </td><td>742.0            </td><td>800.0             </td><td>184861.0283687943   </td><td>178405.7096069869</td><td>184063.06872037915  </td><td>2.0               </td><td>252389.9995098039    </td><td>576.0             </td><td>2.0               </td><td>184450.31335149863</td><td>219311.6970098039 </td><td>360.0             </td><td>224956.37657165958  </td><td>311103.9129713424  </td><td>1862.0            </td><td>230256.21200980392   </td><td>183943.1995098039 </td><td>311479.0245098039   </td><td>2140.0           </td><td>302979.0245098039   </td><td>187300.52567237162  </td><td>236726.2467320261    </td><td>369297.8945098039    </td><td>345181.5245098039    </td><td>223156.8495098039     </td><td>204324.73418722322</td><td>255001.6042717087      </td><td>5095.0            </td><td>1488.0            </td><td>194068.52450980392    </td><td>1064.0           </td><td>179414.41573033712</td><td>222366.88205128204  </td><td>211491.75330396474 </td><td>4.0               </td><td>2919.0            </td><td>178193.4967320261  </td><td>1012.0            </td><td>224699.7863950498     </td><td>1424.0           </td><td>6.0               </td><td>255001.6042717087 </td><td>5095.0            </td><td>200082.05082559335</td><td>194951.10784313726  </td><td>257372.27450980392</td><td>205162.1274859944  </td><td>287410.74022408965</td><td>188229.02450980392   </td><td>5095.0            </td><td>197862.35784313726 </td><td>4010.0            </td><td>219485.84269162212 </td><td>288359.0245098039     </td><td>4.0               </td><td>184788.65617433414  </td><td>2.0               </td><td>180974.4445098039 </td><td>221371.6687405731  </td><td>307728.63562091504   </td><td>273645.3828431372     </td><td>243111.468058191    </td><td>243247.17284313726  </td><td>200.0            </td><td>203633.455628685    </td><td>199424.48842732972       </td><td>237481.8022875817    </td><td>15.0              </td><td>296434.0245098039 </td><td>252970.21398348815    </td><td>17000.0          </td><td>331964.0245098039  </td><td>178193.4967320261 </td><td>1526.0            </td><td>181312.14950980392  </td></tr>\n",
       "<tr><td>sigma  </td><td>177.00179159577831</td><td>6672.392547342386 </td><td>4955.517326926451</td><td>445.78611753041713</td><td>0.7770557771054145</td><td>0.5306475357080623</td><td>68.88336411315396</td><td>30.491646305342066</td><td>18602.363953739627  </td><td>5302.397777524543</td><td>20263.25653257761   </td><td>0.2084716721132495</td><td>16731.149524355016   </td><td>56.609762906910575</td><td>0.2524682621647407</td><td>11743.043122261108</td><td>23489.406573197444</td><td>20.207841751496495</td><td>32301.2058169479    </td><td>48363.33170083524  </td><td>420.61022646910345</td><td>27215.585184717413   </td><td>11421.92229037309 </td><td>15269.946772589565  </td><td>437.3513241096486</td><td>6115.230699170744   </td><td>20818.988716246073  </td><td>29339.674195109288   </td><td>57004.8706645638     </td><td>41931.78957638678    </td><td>37599.99853102868     </td><td>18416.204155714877</td><td>24614.448808109875     </td><td>442.89862416784206</td><td>217.32690210578195</td><td>14021.1874493847      </td><td>44.04325086437556</td><td>4120.712522628474 </td><td>38032.67490944731   </td><td>30689.890057024273 </td><td>0.5551898880356613</td><td>421.32133421732476</td><td>0.0                </td><td>67.22776541956965 </td><td>31074.332692622134    </td><td>127.744881519076 </td><td>0.8297883627354514</td><td>24826.258639866202</td><td>398.16581959237874</td><td>8523.644517243943 </td><td>20266.41566502196   </td><td>19890.637189969897</td><td>13409.55977987675  </td><td>48552.82922823181 </td><td>4782.455327633695    </td><td>485.5660986532532 </td><td>13372.261749177289 </td><td>455.25711858126164</td><td>8806.02800442614   </td><td>48658.8290868911      </td><td>0.6474204530720105</td><td>15963.223969023644  </td><td>0.5030166769415861</td><td>9868.109461036458 </td><td>11456.730191238732 </td><td>50064.36965926008    </td><td>38062.468024576185    </td><td>28384.824139871405  </td><td>34696.99414034791   </td><td>20.99909053910434</td><td>20533.377591439952  </td><td>19244.744163326824       </td><td>25951.286853243673   </td><td>1.5088945751925396</td><td>3137.235960973218 </td><td>31365.106075644642    </td><td>630.806977589708 </td><td>46552.401284272695 </td><td>0.2776738495325187</td><td>176.6986705850261 </td><td>7764.753398575101   </td></tr>\n",
       "<tr><td>zeros  </td><td>892               </td><td>0                 </td><td>0                </td><td>78                </td><td>77                </td><td>849               </td><td>642              </td><td>1453              </td><td>0                   </td><td>0                </td><td>0                   </td><td>2                 </td><td>0                    </td><td>1319              </td><td>1364              </td><td>0                 </td><td>0                 </td><td>1446              </td><td>0                   </td><td>0                  </td><td>839               </td><td>0                    </td><td>0                 </td><td>0                   </td><td>124              </td><td>0                   </td><td>0                   </td><td>0                    </td><td>0                    </td><td>0                    </td><td>0                     </td><td>0                 </td><td>0                      </td><td>41                </td><td>77                </td><td>0                     </td><td>1445             </td><td>0                 </td><td>0                   </td><td>0                  </td><td>3                 </td><td>0                 </td><td>0                  </td><td>1208              </td><td>0                     </td><td>762              </td><td>2                 </td><td>0                 </td><td>0                 </td><td>0                 </td><td>0                   </td><td>0                 </td><td>0                  </td><td>0                 </td><td>0                    </td><td>0                 </td><td>0                  </td><td>463               </td><td>0                  </td><td>0                     </td><td>730               </td><td>0                   </td><td>921               </td><td>0                 </td><td>0                  </td><td>0                    </td><td>0                     </td><td>0                   </td><td>0                   </td><td>0                </td><td>0                   </td><td>0                        </td><td>0                    </td><td>0                 </td><td>0                 </td><td>0                     </td><td>1408             </td><td>0                  </td><td>0                 </td><td>1279              </td><td>0                   </td></tr>\n",
       "<tr><td>missing</td><td>0                 </td><td>0                 </td><td>0                </td><td>0                 </td><td>0                 </td><td>2                 </td><td>0                </td><td>0                 </td><td>0                   </td><td>0                </td><td>0                   </td><td>0                 </td><td>0                    </td><td>0                 </td><td>2                 </td><td>0                 </td><td>0                 </td><td>0                 </td><td>0                   </td><td>0                  </td><td>0                 </td><td>0                    </td><td>0                 </td><td>0                   </td><td>0                </td><td>0                   </td><td>0                   </td><td>0                    </td><td>0                    </td><td>0                    </td><td>0                     </td><td>0                 </td><td>0                      </td><td>1                 </td><td>0                 </td><td>0                     </td><td>0                </td><td>0                 </td><td>0                   </td><td>0                  </td><td>0                 </td><td>0                 </td><td>0                  </td><td>0                 </td><td>0                     </td><td>0                </td><td>0                 </td><td>0                 </td><td>0                 </td><td>0                 </td><td>0                   </td><td>0                 </td><td>0                  </td><td>0                 </td><td>0                    </td><td>0                 </td><td>0                  </td><td>0                 </td><td>0                  </td><td>0                     </td><td>0                 </td><td>0                   </td><td>0                 </td><td>0                 </td><td>0                  </td><td>0                    </td><td>0                     </td><td>0                   </td><td>0                   </td><td>0                </td><td>0                   </td><td>0                        </td><td>0                    </td><td>0                 </td><td>0                 </td><td>0                     </td><td>0                </td><td>0                  </td><td>0                 </td><td>0                 </td><td>0                   </td></tr>\n",
       "<tr><td>0      </td><td>0.0               </td><td>169627.25564187934</td><td>11622.0          </td><td>1961.0            </td><td>1.0               </td><td>0.0               </td><td>0.0              </td><td>0.0               </td><td>184861.0283687943   </td><td>178405.7096069869</td><td>184063.06872037915  </td><td>1.0               </td><td>175715.7828162291    </td><td>120.0             </td><td>0.0               </td><td>151206.9049445865 </td><td>134962.35784313726</td><td>0.0               </td><td>179984.77108433735  </td><td>143747.87889273354 </td><td>0.0               </td><td>206602.9363057325    </td><td>181805.66321243523</td><td>150223.0311764706   </td><td>270.0            </td><td>178218.27472527474  </td><td>187300.52567237162  </td><td>154426.8646332607    </td><td>141364.58360071303   </td><td>138671.58035714287   </td><td>143948.79679144386    </td><td>181115.23         </td><td>171302.3622047244      </td><td>882.0             </td><td>730.0             </td><td>168862.10143288082    </td><td>0.0              </td><td>179414.41573033712</td><td>148549.72906403942  </td><td>149413.2797336845  </td><td>1.0               </td><td>1461.0            </td><td>178193.4967320261  </td><td>0.0               </td><td>156012.9060887513     </td><td>140.0            </td><td>2.0               </td><td>170822.7626262626 </td><td>896.0             </td><td>180372.69763480392</td><td>185601.24938271602  </td><td>163981.4191419142 </td><td>171401.71038251367 </td><td>138313.57142857142</td><td>179157.6651480638    </td><td>896.0             </td><td>180398.05693069307 </td><td>468.0             </td><td>175531.83179723503 </td><td>152080.32258672698    </td><td>0.0               </td><td>184788.65617433414  </td><td>0.0               </td><td>180758.81264637003</td><td>177919.81360946747 </td><td>140285.62820512822   </td><td>135104.02450980392    </td><td>157753.39249146762  </td><td>201051.3968871595   </td><td>80.0             </td><td>170914.57205240175  </td><td>158794.07093837534       </td><td>209302.39072847684   </td><td>5.0               </td><td>176671.8111111111 </td><td>161376.63366336632    </td><td>0.0              </td><td>136209.02450980392 </td><td>178187.36899563318</td><td>144.0             </td><td>179857.76346604215  </td></tr>\n",
       "<tr><td>1      </td><td>108.0             </td><td>169627.25564187934</td><td>14267.0          </td><td>1958.0            </td><td>1.0               </td><td>0.0               </td><td>36.0             </td><td>0.0               </td><td>184861.0283687943   </td><td>178405.7096069869</td><td>184063.06872037915  </td><td>1.0               </td><td>175715.7828162291    </td><td>0.0               </td><td>0.0               </td><td>184450.31335149863</td><td>187920.61064425771</td><td>0.0               </td><td>179984.77108433735  </td><td>143747.87889273354 </td><td>0.0               </td><td>154595.81798806478   </td><td>181805.66321243523</td><td>181573.27604166663  </td><td>406.0            </td><td>178218.27472527474  </td><td>187300.52567237162  </td><td>154426.8646332607    </td><td>163241.9355717508    </td><td>138671.58035714287   </td><td>143948.79679144386    </td><td>181115.23         </td><td>171302.3622047244      </td><td>1329.0            </td><td>312.0             </td><td>182592.86046511628    </td><td>0.0              </td><td>179414.41573033712</td><td>148549.72906403942  </td><td>149413.2797336845  </td><td>1.0               </td><td>1462.0            </td><td>178193.4967320261  </td><td>0.0               </td><td>169309.44117647054    </td><td>393.0            </td><td>3.0               </td><td>170822.7626262626 </td><td>1329.0            </td><td>180372.69763480392</td><td>185601.24938271602  </td><td>194850.58566088302</td><td>205162.1274859944  </td><td>138313.57142857142</td><td>188229.02450980392   </td><td>1329.0            </td><td>180398.05693069307 </td><td>923.0             </td><td>175531.83179723503 </td><td>152080.32258672698    </td><td>0.0               </td><td>184788.65617433414  </td><td>1.0               </td><td>180758.81264637003</td><td>165751.57330498463 </td><td>211880.81318681315   </td><td>127029.02450980392    </td><td>203114.2504640024   </td><td>201051.3968871595   </td><td>81.0             </td><td>170914.57205240175  </td><td>139136.05102495544       </td><td>163767.73719637108   </td><td>6.0               </td><td>176671.8111111111 </td><td>161376.63366336632    </td><td>12500.0          </td><td>140204.02450980392 </td><td>178187.36899563318</td><td>0.0               </td><td>179857.76346604215  </td></tr>\n",
       "<tr><td>2      </td><td>0.0               </td><td>169627.25564187934</td><td>13830.0          </td><td>1997.0            </td><td>2.0               </td><td>0.0               </td><td>34.0             </td><td>0.0               </td><td>184861.0283687943   </td><td>178405.7096069869</td><td>184063.06872037915  </td><td>1.0               </td><td>175715.7828162291    </td><td>0.0               </td><td>0.0               </td><td>151206.9049445865 </td><td>187920.61064425771</td><td>0.0               </td><td>224956.37657165958  </td><td>143747.87889273354 </td><td>701.0             </td><td>206602.9363057325    </td><td>181805.66321243523</td><td>181573.27604166663  </td><td>137.0            </td><td>178218.27472527474  </td><td>187300.52567237162  </td><td>204262.16064257032   </td><td>141364.58360071303   </td><td>205118.42900418595   </td><td>223156.8495098039     </td><td>181115.23         </td><td>171302.3622047244      </td><td>928.0             </td><td>482.0             </td><td>182592.86046511628    </td><td>0.0              </td><td>179414.41573033712</td><td>222366.88205128204  </td><td>158961.70308123247 </td><td>2.0               </td><td>1463.0            </td><td>178193.4967320261  </td><td>0.0               </td><td>224699.7863950498     </td><td>212.0            </td><td>3.0               </td><td>170822.7626262626 </td><td>928.0             </td><td>176369.09256535946</td><td>185601.24938271602  </td><td>194850.58566088302</td><td>171401.71038251367 </td><td>206633.03141361254</td><td>179157.6651480638    </td><td>1629.0            </td><td>180398.05693069307 </td><td>791.0             </td><td>175531.83179723503 </td><td>191808.05969498912    </td><td>1.0               </td><td>184788.65617433414  </td><td>1.0               </td><td>180758.81264637003</td><td>177919.81360946747 </td><td>140285.62820512822   </td><td>214984.4091251885     </td><td>157753.39249146762  </td><td>201051.3968871595   </td><td>74.0             </td><td>203633.455628685    </td><td>199424.48842732972       </td><td>209302.39072847684   </td><td>6.0               </td><td>176671.8111111111 </td><td>161376.63366336632    </td><td>0.0              </td><td>229709.02450980392 </td><td>178187.36899563318</td><td>0.0               </td><td>179857.76346604215  </td></tr>\n",
       "<tr><td>3      </td><td>20.0              </td><td>169627.25564187934</td><td>9978.0           </td><td>1998.0            </td><td>2.0               </td><td>0.0               </td><td>36.0             </td><td>0.0               </td><td>184861.0283687943   </td><td>178405.7096069869</td><td>184063.06872037915  </td><td>1.0               </td><td>175715.7828162291    </td><td>0.0               </td><td>0.0               </td><td>184450.31335149863</td><td>187920.61064425771</td><td>0.0               </td><td>224956.37657165958  </td><td>143747.87889273354 </td><td>678.0             </td><td>206602.9363057325    </td><td>181805.66321243523</td><td>181573.27604166663  </td><td>324.0            </td><td>178218.27472527474  </td><td>187300.52567237162  </td><td>154426.8646332607    </td><td>163241.9355717508    </td><td>219907.18575980392   </td><td>223156.8495098039     </td><td>181115.23         </td><td>171302.3622047244      </td><td>926.0             </td><td>470.0             </td><td>182592.86046511628    </td><td>0.0              </td><td>179414.41573033712</td><td>222366.88205128204  </td><td>211491.75330396474 </td><td>2.0               </td><td>1464.0            </td><td>178193.4967320261  </td><td>0.0               </td><td>224699.7863950498     </td><td>360.0            </td><td>3.0               </td><td>170822.7626262626 </td><td>926.0             </td><td>180372.69763480392</td><td>185601.24938271602  </td><td>194850.58566088302</td><td>171401.71038251367 </td><td>138313.57142857142</td><td>179157.6651480638    </td><td>1604.0            </td><td>180398.05693069307 </td><td>602.0             </td><td>175531.83179723503 </td><td>191808.05969498912    </td><td>1.0               </td><td>184788.65617433414  </td><td>1.0               </td><td>180758.81264637003</td><td>177919.81360946747 </td><td>211880.81318681315   </td><td>214984.4091251885     </td><td>203114.2504640024   </td><td>201051.3968871595   </td><td>78.0             </td><td>203633.455628685    </td><td>199424.48842732972       </td><td>209302.39072847684   </td><td>7.0               </td><td>176671.8111111111 </td><td>161376.63366336632    </td><td>0.0              </td><td>225483.31022408963 </td><td>178187.36899563318</td><td>0.0               </td><td>179857.76346604215  </td></tr>\n",
       "<tr><td>4      </td><td>0.0               </td><td>169627.25564187934</td><td>5005.0           </td><td>1992.0            </td><td>2.0               </td><td>0.0               </td><td>82.0             </td><td>0.0               </td><td>184861.0283687943   </td><td>178405.7096069869</td><td>184063.06872037915  </td><td>1.0               </td><td>252389.9995098039    </td><td>144.0             </td><td>0.0               </td><td>184450.31335149863</td><td>187920.61064425771</td><td>0.0               </td><td>203696.34858387802  </td><td>228065.58659034083 </td><td>0.0               </td><td>167128.41844919784   </td><td>183943.1995098039 </td><td>181573.27604166663  </td><td>1017.0           </td><td>178218.27472527474  </td><td>187300.52567237162  </td><td>204262.16064257032   </td><td>270500.82275541796   </td><td>138671.58035714287   </td><td>201271.56721053383    </td><td>181115.23         </td><td>171302.3622047244      </td><td>1280.0            </td><td>506.0             </td><td>182592.86046511628    </td><td>0.0              </td><td>179414.41573033712</td><td>222366.88205128204  </td><td>211491.75330396474 </td><td>2.0               </td><td>1465.0            </td><td>178193.4967320261  </td><td>0.0               </td><td>169309.44117647054    </td><td>0.0              </td><td>2.0               </td><td>170822.7626262626 </td><td>1280.0            </td><td>162484.5985098039 </td><td>185601.24938271602  </td><td>194850.58566088302</td><td>171401.71038251367 </td><td>206633.03141361254</td><td>179157.6651480638    </td><td>1280.0            </td><td>180398.05693069307 </td><td>263.0             </td><td>175531.83179723503 </td><td>288359.0245098039     </td><td>0.0               </td><td>184788.65617433414  </td><td>0.0               </td><td>180758.81264637003</td><td>177919.81360946747 </td><td>211880.81318681315   </td><td>173815.45308123247    </td><td>157753.39249146762  </td><td>201051.3968871595   </td><td>43.0             </td><td>170914.57205240175  </td><td>199424.48842732972       </td><td>169568.25527903467   </td><td>5.0               </td><td>176671.8111111111 </td><td>161376.63366336632    </td><td>0.0              </td><td>220383.31022408963 </td><td>178187.36899563318</td><td>0.0               </td><td>179857.76346604215  </td></tr>\n",
       "<tr><td>5      </td><td>0.0               </td><td>169627.25564187934</td><td>10000.0          </td><td>1993.0            </td><td>2.0               </td><td>0.0               </td><td>84.0             </td><td>0.0               </td><td>184861.0283687943   </td><td>178405.7096069869</td><td>184063.06872037915  </td><td>1.0               </td><td>175715.7828162291    </td><td>0.0               </td><td>0.0               </td><td>184450.31335149863</td><td>187920.61064425771</td><td>0.0               </td><td>224956.37657165958  </td><td>143747.87889273354 </td><td>892.0             </td><td>167128.41844919784   </td><td>181805.66321243523</td><td>181573.27604166663  </td><td>763.0            </td><td>178218.27472527474  </td><td>187300.52567237162  </td><td>204262.16064257032   </td><td>163241.9355717508    </td><td>205118.42900418595   </td><td>223156.8495098039     </td><td>181115.23         </td><td>171302.3622047244      </td><td>763.0             </td><td>440.0             </td><td>182592.86046511628    </td><td>0.0              </td><td>179414.41573033712</td><td>222366.88205128204  </td><td>158961.70308123247 </td><td>2.0               </td><td>1466.0            </td><td>178193.4967320261  </td><td>0.0               </td><td>168970.1659826721     </td><td>157.0            </td><td>3.0               </td><td>170822.7626262626 </td><td>763.0             </td><td>175953.87961184472</td><td>185601.24938271602  </td><td>194850.58566088302</td><td>171401.71038251367 </td><td>206633.03141361254</td><td>179157.6651480638    </td><td>1655.0            </td><td>180398.05693069307 </td><td>0.0               </td><td>175531.83179723503 </td><td>191808.05969498912    </td><td>1.0               </td><td>184788.65617433414  </td><td>1.0               </td><td>180758.81264637003</td><td>165751.57330498463 </td><td>140285.62820512822   </td><td>191575.89950980392    </td><td>157753.39249146762  </td><td>201051.3968871595   </td><td>75.0             </td><td>203633.455628685    </td><td>199424.48842732972       </td><td>169568.25527903467   </td><td>7.0               </td><td>176671.8111111111 </td><td>161376.63366336632    </td><td>0.0              </td><td>190835.69117647054 </td><td>178187.36899563318</td><td>0.0               </td><td>179857.76346604215  </td></tr>\n",
       "<tr><td>6      </td><td>0.0               </td><td>169627.25564187934</td><td>7980.0           </td><td>1992.0            </td><td>2.0               </td><td>1.0               </td><td>21.0             </td><td>0.0               </td><td>184861.0283687943   </td><td>178405.7096069869</td><td>184063.06872037915  </td><td>1.0               </td><td>175715.7828162291    </td><td>0.0               </td><td>0.0               </td><td>181956.919246646  </td><td>187920.61064425771</td><td>0.0               </td><td>179984.77108433735  </td><td>143747.87889273354 </td><td>0.0               </td><td>167128.41844919784   </td><td>181805.66321243523</td><td>181573.27604166663  </td><td>233.0            </td><td>178218.27472527474  </td><td>187300.52567237162  </td><td>152433.73154105392   </td><td>163241.9355717508    </td><td>138671.58035714287   </td><td>223156.8495098039     </td><td>181115.23         </td><td>171302.3622047244      </td><td>1168.0            </td><td>420.0             </td><td>182592.86046511628    </td><td>0.0              </td><td>179414.41573033712</td><td>222366.88205128204  </td><td>211491.75330396474 </td><td>2.0               </td><td>1467.0            </td><td>178193.4967320261  </td><td>0.0               </td><td>169309.44117647054    </td><td>483.0            </td><td>3.0               </td><td>170822.7626262626 </td><td>1187.0            </td><td>176369.09256535946</td><td>185601.24938271602  </td><td>194850.58566088302</td><td>171401.71038251367 </td><td>206633.03141361254</td><td>163465.69117647054   </td><td>1187.0            </td><td>179370.36597321855 </td><td>935.0             </td><td>175531.83179723503 </td><td>191808.05969498912    </td><td>0.0               </td><td>184788.65617433414  </td><td>0.0               </td><td>180758.81264637003</td><td>177919.81360946747 </td><td>140285.62820512822   </td><td>212804.46062091502    </td><td>157753.39249146762  </td><td>201051.3968871595   </td><td>63.0             </td><td>170914.57205240175  </td><td>199424.48842732972       </td><td>169568.25527903467   </td><td>6.0               </td><td>176671.8111111111 </td><td>161376.63366336632    </td><td>500.0            </td><td>220383.31022408963 </td><td>178187.36899563318</td><td>0.0               </td><td>179857.76346604215  </td></tr>\n",
       "<tr><td>7      </td><td>0.0               </td><td>169627.25564187934</td><td>8402.0           </td><td>1998.0            </td><td>2.0               </td><td>0.0               </td><td>75.0             </td><td>0.0               </td><td>184861.0283687943   </td><td>178405.7096069869</td><td>184063.06872037915  </td><td>1.0               </td><td>175715.7828162291    </td><td>0.0               </td><td>0.0               </td><td>184450.31335149863</td><td>187920.61064425771</td><td>0.0               </td><td>224956.37657165958  </td><td>143747.87889273354 </td><td>676.0             </td><td>206602.9363057325    </td><td>181805.66321243523</td><td>181573.27604166663  </td><td>789.0            </td><td>178218.27472527474  </td><td>187300.52567237162  </td><td>204262.16064257032   </td><td>163241.9355717508    </td><td>219907.18575980392   </td><td>223156.8495098039     </td><td>181115.23         </td><td>171302.3622047244      </td><td>789.0             </td><td>393.0             </td><td>182592.86046511628    </td><td>0.0              </td><td>179414.41573033712</td><td>222366.88205128204  </td><td>158961.70308123247 </td><td>2.0               </td><td>1468.0            </td><td>178193.4967320261  </td><td>0.0               </td><td>168970.1659826721     </td><td>0.0              </td><td>3.0               </td><td>170822.7626262626 </td><td>789.0             </td><td>166467.420736219  </td><td>185601.24938271602  </td><td>194850.58566088302</td><td>171401.71038251367 </td><td>206633.03141361254</td><td>179157.6651480638    </td><td>1465.0            </td><td>180398.05693069307 </td><td>0.0               </td><td>175531.83179723503 </td><td>191808.05969498912    </td><td>1.0               </td><td>184788.65617433414  </td><td>1.0               </td><td>180758.81264637003</td><td>177919.81360946747 </td><td>140285.62820512822   </td><td>214984.4091251885     </td><td>157753.39249146762  </td><td>201051.3968871595   </td><td>63.0             </td><td>203633.455628685    </td><td>199424.48842732972       </td><td>209302.39072847684   </td><td>7.0               </td><td>176671.8111111111 </td><td>161376.63366336632    </td><td>0.0              </td><td>225483.31022408963 </td><td>178187.36899563318</td><td>0.0               </td><td>179857.76346604215  </td></tr>\n",
       "<tr><td>8      </td><td>0.0               </td><td>169627.25564187934</td><td>10176.0          </td><td>1990.0            </td><td>2.0               </td><td>1.0               </td><td>0.0              </td><td>0.0               </td><td>184861.0283687943   </td><td>178405.7096069869</td><td>184063.06872037915  </td><td>1.0               </td><td>175715.7828162291    </td><td>0.0               </td><td>0.0               </td><td>184450.31335149863</td><td>187920.61064425771</td><td>0.0               </td><td>179984.77108433735  </td><td>143747.87889273354 </td><td>0.0               </td><td>167128.41844919784   </td><td>181805.66321243523</td><td>181573.27604166663  </td><td>663.0            </td><td>178218.27472527474  </td><td>187300.52567237162  </td><td>204262.16064257032   </td><td>204327.95765587135   </td><td>133191.52450980392   </td><td>143948.79679144386    </td><td>181115.23         </td><td>171302.3622047244      </td><td>1300.0            </td><td>506.0             </td><td>182592.86046511628    </td><td>0.0              </td><td>179414.41573033712</td><td>222366.88205128204  </td><td>158961.70308123247 </td><td>1.0               </td><td>1469.0            </td><td>178193.4967320261  </td><td>0.0               </td><td>224699.7863950498     </td><td>192.0            </td><td>2.0               </td><td>170822.7626262626 </td><td>1341.0            </td><td>186396.24236694674</td><td>185601.24938271602  </td><td>163981.4191419142 </td><td>171401.71038251367 </td><td>206633.03141361254</td><td>179157.6651480638    </td><td>1341.0            </td><td>180398.05693069307 </td><td>637.0             </td><td>175531.83179723503 </td><td>191808.05969498912    </td><td>1.0               </td><td>184788.65617433414  </td><td>1.0               </td><td>180758.81264637003</td><td>177919.81360946747 </td><td>211880.81318681315   </td><td>204591.52450980392    </td><td>157753.39249146762  </td><td>201051.3968871595   </td><td>85.0             </td><td>170914.57205240175  </td><td>199424.48842732972       </td><td>169568.25527903467   </td><td>5.0               </td><td>176671.8111111111 </td><td>252970.21398348815    </td><td>0.0              </td><td>179729.02450980392 </td><td>178187.36899563318</td><td>0.0               </td><td>179857.76346604215  </td></tr>\n",
       "<tr><td>9      </td><td>0.0               </td><td>169627.25564187934</td><td>8400.0           </td><td>1970.0            </td><td>2.0               </td><td>1.0               </td><td>0.0              </td><td>0.0               </td><td>184861.0283687943   </td><td>178405.7096069869</td><td>184063.06872037915  </td><td>1.0               </td><td>175715.7828162291    </td><td>0.0               </td><td>0.0               </td><td>151206.9049445865 </td><td>187920.61064425771</td><td>0.0               </td><td>179984.77108433735  </td><td>143747.87889273354 </td><td>0.0               </td><td>173812.54638480392   </td><td>181805.66321243523</td><td>181573.27604166663  </td><td>0.0              </td><td>178218.27472527474  </td><td>187300.52567237162  </td><td>204262.16064257032   </td><td>117968.89687822496   </td><td>138671.58035714287   </td><td>223156.8495098039     </td><td>181115.23         </td><td>171302.3622047244      </td><td>882.0             </td><td>525.0             </td><td>167901.0383986928     </td><td>0.0              </td><td>179414.41573033712</td><td>148549.72906403942  </td><td>149413.2797336845  </td><td>1.0               </td><td>1470.0            </td><td>178193.4967320261  </td><td>0.0               </td><td>169309.44117647054    </td><td>240.0            </td><td>2.0               </td><td>170822.7626262626 </td><td>882.0             </td><td>175953.87961184472</td><td>185601.24938271602  </td><td>163981.4191419142 </td><td>171401.71038251367 </td><td>138313.57142857142</td><td>179157.6651480638    </td><td>882.0             </td><td>180398.05693069307 </td><td>804.0             </td><td>175531.83179723503 </td><td>152080.32258672698    </td><td>0.0               </td><td>184788.65617433414  </td><td>0.0               </td><td>180758.81264637003</td><td>165751.57330498463 </td><td>140285.62820512822   </td><td>155036.52450980392    </td><td>157753.39249146762  </td><td>201051.3968871595   </td><td>70.0             </td><td>170914.57205240175  </td><td>158794.07093837534       </td><td>163573.83733031675   </td><td>4.0               </td><td>176671.8111111111 </td><td>161376.63366336632    </td><td>0.0              </td><td>151307.14950980392 </td><td>178187.36899563318</td><td>78.0              </td><td>179857.76346604215  </td></tr>\n",
       "</tbody>\n",
       "</table>"
      ]
     },
     "metadata": {},
     "output_type": "display_data"
    }
   ],
   "source": [
    "print('Imputed and encoded numeric training data:')\n",
    "train[encoded_nums].describe() #79 numeric columns w/ no missing\n",
    "print('--------------------------------------------------------------------------------')\n",
    "print('Imputed and encoded numeric validation data:')\n",
    "valid[encoded_nums].describe() #79 numeric columns w/ no missing\n",
    "print('--------------------------------------------------------------------------------')\n",
    "print('Imputed and encoded numeric test data:')\n",
    "test[encoded_nums].describe() #79 numeric columns w/ no missing"
   ]
  },
  {
   "cell_type": "code",
   "execution_count": 35,
   "metadata": {},
   "outputs": [
    {
     "data": {
      "text/html": [
       "<table>\n",
       "<thead>\n",
       "<tr><th>Neighborhood  </th><th style=\"text-align: right;\">  Neighborhood_Tencode</th></tr>\n",
       "</thead>\n",
       "<tbody>\n",
       "<tr><td>NAmes         </td><td style=\"text-align: right;\">                152080</td></tr>\n",
       "<tr><td>NAmes         </td><td style=\"text-align: right;\">                152080</td></tr>\n",
       "<tr><td>Gilbert       </td><td style=\"text-align: right;\">                191808</td></tr>\n",
       "<tr><td>Gilbert       </td><td style=\"text-align: right;\">                191808</td></tr>\n",
       "<tr><td>StoneBr       </td><td style=\"text-align: right;\">                288359</td></tr>\n",
       "</tbody>\n",
       "</table>"
      ]
     },
     "metadata": {},
     "output_type": "display_data"
    },
    {
     "name": "stdout",
     "output_type": "stream",
     "text": [
      "\n",
      "{nan: 178193.49673202613, 'ClearCr': 207949.02450980392, 'NridgHt': 284073.1545098039, 'Veenker': 243734.02450980392, 'Gilbert': 191808.0596949891, 'CollgCr': 190019.77971813726, 'MeadowV': 113131.52450980392, 'SWISU': 156269.02450980392, 'NAmes': 152080.32258672698, 'Edwards': 126241.13989441929, 'OldTown': 139863.03613771088, 'BrkSide': 129965.77450980392, 'Blmngtn': 210845.6545098039, 'SawyerW': 189097.7776348039, 'Timber': 260109.74673202613, 'NoRidge': 273948.2552790347, 'Mitchel': 169316.52450980392, 'IDOTRR': 112866.71681749621, 'BrDale': 116064.02450980392, 'NPkVill': 147641.52450980392, 'NWAmes': 184610.14950980392, 'StoneBr': 288359.0245098039, 'Sawyer': 143162.40700980392, 'Crawfor': 216008.84593837534, 'Somerst': 227656.9671023965}\n"
     ]
    }
   ],
   "source": [
    "# Check Neighborhood_Tencode\n",
    "\n",
    "print(test[0:5, ['Neighborhood', 'Neighborhood_Tencode']])\n",
    "_, _ = target_encoder(valid, test, 'Neighborhood', 'SalePrice', test=True)\n",
    "del _\n",
    "\n",
    "# NAmes   152080\n",
    "# NAmes   152080\n",
    "# Gilbert 191808\n",
    "# Gilbert 191808\n",
    "# StoneBr 288359"
   ]
  },
  {
   "cell_type": "code",
   "execution_count": 36,
   "metadata": {
    "collapsed": true
   },
   "outputs": [],
   "source": [
    "def feature_combiner(training_frame, test_frame, nums):\n",
    "    \n",
    "    \"\"\" Combines numeric features using simple arithmatic operations.\n",
    "    \n",
    "    :param training_frame: Training frame from which to generate features and onto which generated \n",
    "                           feeatures will be cbound.\n",
    "    :param test_frame: Test frame from which to generate features and onto which generated \n",
    "                       feeatures will be cbound.\n",
    "    :param nums: List of original numeric features from which to generate combined features.\n",
    "    \n",
    "    \"\"\"\n",
    "\n",
    "    total = len(nums)\n",
    "    \n",
    "    # convert to pandas\n",
    "    train_df = training_frame.as_data_frame()\n",
    "    test_df = test_frame.as_data_frame()\n",
    "    \n",
    "    for i, col_i in enumerate(nums):\n",
    "        \n",
    "        print('Combining: ' + col_i + ' (' + str(i+1) + '/' + str(total) + ') ...')        \n",
    "        \n",
    "        for j, col_j in enumerate(nums):\n",
    "            \n",
    "            # don't repeat (i*j = j*i)\n",
    "            if i < j:\n",
    "                \n",
    "                # convert to pandas\n",
    "                col_i_train_df = train_df[col_i]\n",
    "                col_j_train_df = train_df[col_j]\n",
    "                col_i_test_df = test_df[col_i]\n",
    "                col_j_test_df = test_df[col_j] \n",
    "\n",
    "                # multiply, convert back to h2o\n",
    "                train_df[str(col_i + '|' + col_j)] = col_i_train_df.values*col_j_train_df.values\n",
    "                test_df[str(col_i + '|' + col_j)] = col_i_test_df.values*col_j_test_df.values\n",
    "                \n",
    "    print('Done.')\n",
    "    \n",
    "    # convert back to h2o\n",
    "    \n",
    "    print('Converting to H2OFrame ...')\n",
    "    \n",
    "    training_frame = h2o.H2OFrame(train_df)\n",
    "    training_frame.columns = list(train_df)\n",
    "    test_frame = h2o.H2OFrame(test_df)\n",
    "    test_frame.columns = list(test_df)\n",
    "    \n",
    "    print('Done.')\n",
    "    print()\n",
    "    \n",
    "    # conserve memory \n",
    "    del train_df\n",
    "    del test_df \n",
    "    \n",
    "    return training_frame, test_frame\n"
   ]
  },
  {
   "cell_type": "code",
   "execution_count": 37,
   "metadata": {},
   "outputs": [
    {
     "data": {
      "text/plain": [
       "81"
      ]
     },
     "execution_count": 37,
     "metadata": {},
     "output_type": "execute_result"
    }
   ],
   "source": [
    "len(encoded_nums)"
   ]
  },
  {
   "cell_type": "code",
   "execution_count": 38,
   "metadata": {},
   "outputs": [
    {
     "data": {
      "text/plain": [
       "(1001, 133)"
      ]
     },
     "execution_count": 38,
     "metadata": {},
     "output_type": "execute_result"
    }
   ],
   "source": [
    "train.shape"
   ]
  },
  {
   "cell_type": "code",
   "execution_count": 39,
   "metadata": {
    "scrolled": true
   },
   "outputs": [
    {
     "name": "stdout",
     "output_type": "stream",
     "text": [
      "Combining: MasVnrArea (1/81) ...\n",
      "Combining: YrSold_Tencode (2/81) ...\n",
      "Combining: LotArea (3/81) ...\n",
      "Combining: GarageYrBlt (4/81) ...\n",
      "Combining: GarageCars (5/81) ...\n",
      "Combining: BsmtFullBath (6/81) ...\n",
      "Combining: OpenPorchSF (7/81) ...\n",
      "Combining: PoolArea (8/81) ...\n",
      "Combining: CentralAir_Tencode (9/81) ...\n",
      "Combining: Street_Tencode (10/81) ...\n",
      "Combining: PavedDrive_Tencode (11/81) ...\n",
      "Combining: KitchenAbvGr (12/81) ...\n",
      "Combining: LandContour_Tencode (13/81) ...\n",
      "Combining: ScreenPorch (14/81) ...\n",
      "Combining: BsmtHalfBath (15/81) ...\n",
      "Combining: Fence_Tencode (16/81) ...\n",
      "Combining: MSZoning_Tencode (17/81) ...\n",
      "Combining: 3SsnPorch (18/81) ...\n",
      "Combining: MSSubClass_Tencode (19/81) ...\n",
      "Combining: ExterQual_Tencode (20/81) ...\n",
      "Combining: 2ndFlrSF (21/81) ...\n",
      "Combining: Exterior1st_Tencode (22/81) ...\n",
      "Combining: BldgType_Tencode (23/81) ...\n",
      "Combining: Condition1_Tencode (24/81) ...\n",
      "Combining: BsmtUnfSF (25/81) ...\n",
      "Combining: Condition2_Tencode (26/81) ...\n",
      "Combining: GarageCond_Tencode (27/81) ...\n",
      "Combining: OverallCond_Tencode (28/81) ...\n",
      "Combining: OverallQual_Tencode (29/81) ...\n",
      "Combining: FireplaceQu_Tencode (30/81) ...\n",
      "Combining: GarageFinish_Tencode (31/81) ...\n",
      "Combining: BsmtCond_Tencode (32/81) ...\n",
      "Combining: SaleCondition_Tencode (33/81) ...\n",
      "Combining: TotalBsmtSF (34/81) ...\n",
      "Combining: GarageArea (35/81) ...\n",
      "Combining: BsmtFinType2_Tencode (36/81) ...\n",
      "Combining: LowQualFinSF (37/81) ...\n",
      "Combining: Heating_Tencode (38/81) ...\n",
      "Combining: Foundation_Tencode (39/81) ...\n",
      "Combining: HeatingQC_Tencode (40/81) ...\n",
      "Combining: FullBath (41/81) ...\n",
      "Combining: Id (42/81) ...\n",
      "Combining: Utilities_Tencode (43/81) ...\n",
      "Combining: EnclosedPorch (44/81) ...\n",
      "Combining: BsmtFinType1_Tencode (45/81) ...\n",
      "Combining: WoodDeckSF (46/81) ...\n",
      "Combining: BedroomAbvGr (47/81) ...\n",
      "Combining: SaleType_Tencode (48/81) ...\n",
      "Combining: 1stFlrSF (49/81) ...\n",
      "Combining: MoSold_Tencode (50/81) ...\n",
      "Combining: GarageQual_Tencode (51/81) ...\n",
      "Combining: LotShape_Tencode (52/81) ...\n",
      "Combining: RoofStyle_Tencode (53/81) ...\n",
      "Combining: BsmtQual_Tencode (54/81) ...\n",
      "Combining: MiscFeature_Tencode (55/81) ...\n",
      "Combining: GrLivArea (56/81) ...\n",
      "Combining: ExterCond_Tencode (57/81) ...\n",
      "Combining: BsmtFinSF1 (58/81) ...\n",
      "Combining: LandSlope_Tencode (59/81) ...\n",
      "Combining: Neighborhood_Tencode (60/81) ...\n",
      "Combining: Fireplaces (61/81) ...\n",
      "Combining: Electrical_Tencode (62/81) ...\n",
      "Combining: HalfBath (63/81) ...\n",
      "Combining: Alley_Tencode (64/81) ...\n",
      "Combining: LotConfig_Tencode (65/81) ...\n",
      "Combining: KitchenQual_Tencode (66/81) ...\n",
      "Combining: YearRemodAdd_Tencode (67/81) ...\n",
      "Combining: MasVnrType_Tencode (68/81) ...\n",
      "Combining: GarageType_Tencode (69/81) ...\n",
      "Combining: LotFrontage (70/81) ...\n",
      "Combining: HouseStyle_Tencode (71/81) ...\n",
      "Combining: GarageYrBltBins_Tencode (72/81) ...\n",
      "Combining: Exterior2nd_Tencode (73/81) ...\n",
      "Combining: TotRmsAbvGrd (74/81) ...\n",
      "Combining: RoofMatl_Tencode (75/81) ...\n",
      "Combining: BsmtExposure_Tencode (76/81) ...\n",
      "Combining: MiscVal (77/81) ...\n",
      "Combining: YearBuilt_Tencode (78/81) ...\n",
      "Combining: PoolQC_Tencode (79/81) ...\n",
      "Combining: BsmtFinSF2 (80/81) ...\n",
      "Combining: Functional_Tencode (81/81) ...\n",
      "Done.\n",
      "Converting to H2OFrame ...\n",
      "Done.\n",
      "\n",
      "Combining: MasVnrArea (1/81) ...\n",
      "Combining: YrSold_Tencode (2/81) ...\n",
      "Combining: LotArea (3/81) ...\n",
      "Combining: GarageYrBlt (4/81) ...\n",
      "Combining: GarageCars (5/81) ...\n",
      "Combining: BsmtFullBath (6/81) ...\n",
      "Combining: OpenPorchSF (7/81) ...\n",
      "Combining: PoolArea (8/81) ...\n",
      "Combining: CentralAir_Tencode (9/81) ...\n",
      "Combining: Street_Tencode (10/81) ...\n",
      "Combining: PavedDrive_Tencode (11/81) ...\n",
      "Combining: KitchenAbvGr (12/81) ...\n",
      "Combining: LandContour_Tencode (13/81) ...\n",
      "Combining: ScreenPorch (14/81) ...\n",
      "Combining: BsmtHalfBath (15/81) ...\n",
      "Combining: Fence_Tencode (16/81) ...\n",
      "Combining: MSZoning_Tencode (17/81) ...\n",
      "Combining: 3SsnPorch (18/81) ...\n",
      "Combining: MSSubClass_Tencode (19/81) ...\n",
      "Combining: ExterQual_Tencode (20/81) ...\n",
      "Combining: 2ndFlrSF (21/81) ...\n",
      "Combining: Exterior1st_Tencode (22/81) ...\n",
      "Combining: BldgType_Tencode (23/81) ...\n",
      "Combining: Condition1_Tencode (24/81) ...\n",
      "Combining: BsmtUnfSF (25/81) ...\n",
      "Combining: Condition2_Tencode (26/81) ...\n",
      "Combining: GarageCond_Tencode (27/81) ...\n",
      "Combining: OverallCond_Tencode (28/81) ...\n",
      "Combining: OverallQual_Tencode (29/81) ...\n",
      "Combining: FireplaceQu_Tencode (30/81) ...\n",
      "Combining: GarageFinish_Tencode (31/81) ...\n",
      "Combining: BsmtCond_Tencode (32/81) ...\n",
      "Combining: SaleCondition_Tencode (33/81) ...\n",
      "Combining: TotalBsmtSF (34/81) ...\n",
      "Combining: GarageArea (35/81) ...\n",
      "Combining: BsmtFinType2_Tencode (36/81) ...\n",
      "Combining: LowQualFinSF (37/81) ...\n",
      "Combining: Heating_Tencode (38/81) ...\n",
      "Combining: Foundation_Tencode (39/81) ...\n",
      "Combining: HeatingQC_Tencode (40/81) ...\n",
      "Combining: FullBath (41/81) ...\n",
      "Combining: Id (42/81) ...\n",
      "Combining: Utilities_Tencode (43/81) ...\n",
      "Combining: EnclosedPorch (44/81) ...\n",
      "Combining: BsmtFinType1_Tencode (45/81) ...\n",
      "Combining: WoodDeckSF (46/81) ...\n",
      "Combining: BedroomAbvGr (47/81) ...\n",
      "Combining: SaleType_Tencode (48/81) ...\n",
      "Combining: 1stFlrSF (49/81) ...\n",
      "Combining: MoSold_Tencode (50/81) ...\n",
      "Combining: GarageQual_Tencode (51/81) ...\n",
      "Combining: LotShape_Tencode (52/81) ...\n",
      "Combining: RoofStyle_Tencode (53/81) ...\n",
      "Combining: BsmtQual_Tencode (54/81) ...\n",
      "Combining: MiscFeature_Tencode (55/81) ...\n",
      "Combining: GrLivArea (56/81) ...\n",
      "Combining: ExterCond_Tencode (57/81) ...\n",
      "Combining: BsmtFinSF1 (58/81) ...\n",
      "Combining: LandSlope_Tencode (59/81) ...\n",
      "Combining: Neighborhood_Tencode (60/81) ...\n",
      "Combining: Fireplaces (61/81) ...\n",
      "Combining: Electrical_Tencode (62/81) ...\n",
      "Combining: HalfBath (63/81) ...\n",
      "Combining: Alley_Tencode (64/81) ...\n",
      "Combining: LotConfig_Tencode (65/81) ...\n",
      "Combining: KitchenQual_Tencode (66/81) ...\n",
      "Combining: YearRemodAdd_Tencode (67/81) ...\n",
      "Combining: MasVnrType_Tencode (68/81) ...\n",
      "Combining: GarageType_Tencode (69/81) ...\n",
      "Combining: LotFrontage (70/81) ...\n",
      "Combining: HouseStyle_Tencode (71/81) ...\n",
      "Combining: GarageYrBltBins_Tencode (72/81) ...\n",
      "Combining: Exterior2nd_Tencode (73/81) ...\n",
      "Combining: TotRmsAbvGrd (74/81) ...\n",
      "Combining: RoofMatl_Tencode (75/81) ...\n",
      "Combining: BsmtExposure_Tencode (76/81) ...\n",
      "Combining: MiscVal (77/81) ...\n",
      "Combining: YearBuilt_Tencode (78/81) ...\n",
      "Combining: PoolQC_Tencode (79/81) ...\n",
      "Combining: BsmtFinSF2 (80/81) ...\n",
      "Combining: Functional_Tencode (81/81) ...\n",
      "Done.\n",
      "Converting to H2OFrame ...\n",
      "Done.\n",
      "\n"
     ]
    }
   ],
   "source": [
    "train2, _ = feature_combiner(train, test, encoded_nums)\n",
    "valid2, test2 = feature_combiner(valid, test, encoded_nums)"
   ]
  },
  {
   "cell_type": "code",
   "execution_count": null,
   "metadata": {
    "collapsed": true
   },
   "outputs": [],
   "source": [
    "train[\"OverallQual-s2\"] = train[\"OverallQual\"] ** 2\n",
    "train[\"OverallQual-s3\"] = train[\"OverallQual\"] ** 3\n",
    "train[\"OverallQual-Sq\"] = np.sqrt(train[\"OverallQual\"])\n",
    "train[\"AllSF-2\"] = train[\"AllSF\"] ** 2\n",
    "train[\"AllSF-3\"] = train[\"AllSF\"] ** 3\n",
    "train[\"AllSF-Sq\"] = np.sqrt(train[\"AllSF\"])\n",
    "train[\"AllFlrsSF-2\"] = train[\"AllFlrsSF\"] ** 2\n",
    "train[\"AllFlrsSF-3\"] = train[\"AllFlrsSF\"] ** 3\n",
    "train[\"AllFlrsSF-Sq\"] = np.sqrt(train[\"AllFlrsSF\"])\n",
    "train[\"GrLivArea-2\"] = train[\"GrLivArea\"] ** 2\n",
    "train[\"GrLivArea-3\"] = train[\"GrLivArea\"] ** 3\n",
    "train[\"GrLivArea-Sq\"] = np.sqrt(train[\"GrLivArea\"])\n",
    "train[\"SimplOverallQual-s2\"] = train[\"SimplOverallQual\"] ** 2\n",
    "train[\"SimplOverallQual-s3\"] = train[\"SimplOverallQual\"] ** 3\n",
    "train[\"SimplOverallQual-Sq\"] = np.sqrt(train[\"SimplOverallQual\"])\n",
    "train[\"ExterQual-2\"] = train[\"ExterQual\"] ** 2\n",
    "train[\"ExterQual-3\"] = train[\"ExterQual\"] ** 3\n",
    "train[\"ExterQual-Sq\"] = np.sqrt(train[\"ExterQual\"])\n",
    "train[\"GarageCars-2\"] = train[\"GarageCars\"] ** 2\n",
    "train[\"GarageCars-3\"] = train[\"GarageCars\"] ** 3\n",
    "train[\"GarageCars-Sq\"] = np.sqrt(train[\"GarageCars\"])\n",
    "train[\"TotalBath-2\"] = train[\"TotalBath\"] ** 2\n",
    "train[\"TotalBath-3\"] = train[\"TotalBath\"] ** 3\n",
    "train[\"TotalBath-Sq\"] = np.sqrt(train[\"TotalBath\"])\n",
    "train[\"KitchenQual-2\"] = train[\"KitchenQual\"] ** 2\n",
    "train[\"KitchenQual-3\"] = train[\"KitchenQual\"] ** 3\n",
    "train[\"KitchenQual-Sq\"] = np.sqrt(train[\"KitchenQual\"])\n",
    "train[\"GarageScore-2\"] = train[\"GarageScore\"] ** 2\n",
    "train[\"GarageScore-3\"] = train[\"GarageScore\"] ** 3\n",
    "train[\"GarageScore-Sq\"] = np.sqrt(train[\"GarageScore\"])"
   ]
  },
  {
   "cell_type": "code",
   "execution_count": 40,
   "metadata": {},
   "outputs": [
    {
     "name": "stdout",
     "output_type": "stream",
     "text": [
      "Numeric = ['MiscFeature_Tencode|HouseStyle_Tencode', 'Heating_Tencode|Alley_Tencode', 'BsmtFinSF1|LotFrontage', 'YrSold_Tencode|CentralAir_Tencode', 'Exterior1st_Tencode|Alley_Tencode', 'YrSold_Tencode|ScreenPorch', 'EnclosedPorch|MoSold_Tencode', 'ScreenPorch|LowQualFinSF', 'Foundation_Tencode|FullBath', 'FireplaceQu_Tencode|YearRemodAdd_Tencode', 'HeatingQC_Tencode|MiscFeature_Tencode', 'Exterior2nd_Tencode|TotRmsAbvGrd', 'OpenPorchSF|SaleCondition_Tencode', 'PoolArea|Street_Tencode', 'YrSold_Tencode|KitchenQual_Tencode', 'BsmtCond_Tencode|HouseStyle_Tencode', 'Utilities_Tencode|RoofStyle_Tencode', 'BsmtFullBath|GarageCond_Tencode', 'OverallCond_Tencode|Exterior2nd_Tencode', 'LandContour_Tencode|2ndFlrSF', 'GarageArea|LandSlope_Tencode', 'BsmtFinType2_Tencode|LotShape_Tencode', 'OverallCond_Tencode|Utilities_Tencode', 'BsmtCond_Tencode|Electrical_Tencode', 'BsmtFullBath|FullBath', 'Fence_Tencode|1stFlrSF', 'BldgType_Tencode|Electrical_Tencode', 'PoolArea|GarageArea', 'KitchenAbvGr|BedroomAbvGr', 'GarageCond_Tencode', '3SsnPorch|Condition1_Tencode', 'ExterQual_Tencode|YearRemodAdd_Tencode', 'PoolArea|GarageYrBltBins_Tencode', 'Electrical_Tencode|Exterior2nd_Tencode', 'PavedDrive_Tencode|OverallQual_Tencode', 'KitchenAbvGr|MiscFeature_Tencode', 'CentralAir_Tencode|WoodDeckSF', 'KitchenAbvGr|GrLivArea', 'BsmtFinSF1|YearRemodAdd_Tencode', 'MiscFeature_Tencode|TotRmsAbvGrd', 'LotArea|Exterior2nd_Tencode', 'PoolArea|BsmtHalfBath', 'GarageCond_Tencode|LotShape_Tencode', 'BldgType_Tencode|GarageType_Tencode', 'SaleType_Tencode|MasVnrType_Tencode', 'MSSubClass_Tencode|2ndFlrSF', 'OverallQual_Tencode|LotConfig_Tencode', 'Condition1_Tencode|MasVnrType_Tencode', 'MSZoning_Tencode|BsmtFinType2_Tencode', 'FullBath|MasVnrType_Tencode', 'CentralAir_Tencode|Condition1_Tencode', 'BsmtFinType2_Tencode|BsmtFinSF1', 'OverallQual_Tencode|TotalBsmtSF', 'MoSold_Tencode|BsmtFinSF1', 'BsmtFullBath|RoofMatl_Tencode', 'Street_Tencode|BsmtFinSF1', 'OpenPorchSF|BsmtCond_Tencode', 'TotRmsAbvGrd|PoolQC_Tencode', 'OverallCond_Tencode|GarageQual_Tencode', 'GarageCond_Tencode|GarageYrBltBins_Tencode', 'KitchenAbvGr|GarageType_Tencode', 'MasVnrArea|GarageType_Tencode', 'LandContour_Tencode|SaleType_Tencode', 'YearRemodAdd_Tencode|MasVnrType_Tencode', 'MiscFeature_Tencode|Neighborhood_Tencode', 'Id|Alley_Tencode', 'ScreenPorch|Fence_Tencode', 'Fence_Tencode|LowQualFinSF', 'KitchenAbvGr|1stFlrSF', 'OpenPorchSF|BsmtUnfSF', 'Exterior1st_Tencode|GarageFinish_Tencode', 'Alley_Tencode|GarageType_Tencode', 'FullBath|GarageQual_Tencode', 'BsmtFinSF1|LotConfig_Tencode', 'EnclosedPorch|Electrical_Tencode', 'OverallCond_Tencode|GarageArea', 'SaleType_Tencode|LandSlope_Tencode', 'OverallCond_Tencode|GarageYrBltBins_Tencode', 'YearRemodAdd_Tencode|LotFrontage', 'BsmtFinType1_Tencode|1stFlrSF', 'GarageCars|BsmtHalfBath', 'YrSold_Tencode|SaleCondition_Tencode', 'LowQualFinSF|EnclosedPorch', 'OpenPorchSF|PavedDrive_Tencode', 'OverallQual_Tencode|SaleCondition_Tencode', 'BsmtHalfBath|TotRmsAbvGrd', 'PoolArea|YearRemodAdd_Tencode', 'OverallCond_Tencode|MiscFeature_Tencode', 'HouseStyle_Tencode|YearBuilt_Tencode', 'GarageCars|PoolArea', 'YrSold_Tencode|Condition2_Tencode', 'LotArea|MoSold_Tencode', 'GrLivArea|BsmtFinSF2', 'WoodDeckSF|Exterior2nd_Tencode', 'LotArea|Heating_Tencode', 'CentralAir_Tencode|MiscVal', 'Condition1_Tencode|SaleType_Tencode', 'CentralAir_Tencode|LandContour_Tencode', 'GarageArea', 'Id|LotConfig_Tencode', 'ScreenPorch|FullBath', 'Condition2_Tencode|BsmtFinType2_Tencode', 'GarageArea|BsmtFinType1_Tencode', 'YrSold_Tencode|Foundation_Tencode', 'KitchenAbvGr|BsmtFinType2_Tencode', 'GarageArea|BsmtExposure_Tencode', 'OverallQual_Tencode|HouseStyle_Tencode', 'BsmtHalfBath|YearRemodAdd_Tencode', '2ndFlrSF|BldgType_Tencode', 'MSZoning_Tencode|2ndFlrSF', 'EnclosedPorch|HouseStyle_Tencode', 'BsmtFinType1_Tencode|BsmtFinSF2', 'Condition2_Tencode|GarageFinish_Tencode', '2ndFlrSF|BsmtFinType1_Tencode', 'MoSold_Tencode|BsmtQual_Tencode', '3SsnPorch|BsmtFinSF1', 'SaleCondition_Tencode|PoolQC_Tencode', 'Street_Tencode|HouseStyle_Tencode', 'MSZoning_Tencode|MoSold_Tencode', 'HalfBath|BsmtExposure_Tencode', 'SaleCondition_Tencode|RoofStyle_Tencode', 'GarageCars|FireplaceQu_Tencode', 'OverallCond_Tencode|TotalBsmtSF', 'GrLivArea|TotRmsAbvGrd', 'FireplaceQu_Tencode|Exterior2nd_Tencode', 'HeatingQC_Tencode|GarageQual_Tencode', 'BsmtFullBath|LotShape_Tencode', 'SaleCondition_Tencode|Neighborhood_Tencode', 'Neighborhood_Tencode|MasVnrType_Tencode', '2ndFlrSF|Id', 'LandContour_Tencode|BsmtFinType2_Tencode', 'Heating_Tencode|GarageType_Tencode', 'MasVnrArea|BsmtFinType2_Tencode', 'Electrical_Tencode|LotConfig_Tencode', 'LotArea|GarageYrBlt', 'MSZoning_Tencode|LandSlope_Tencode', '2ndFlrSF|SaleType_Tencode', '2ndFlrSF|BsmtCond_Tencode', 'GarageYrBlt|BsmtExposure_Tencode', 'TotalBsmtSF|BsmtQual_Tencode', 'LowQualFinSF|LotShape_Tencode', 'Condition2_Tencode|BsmtFinType1_Tencode', 'SaleType_Tencode|HalfBath', 'BsmtFinSF2|Functional_Tencode', 'Condition2_Tencode|HeatingQC_Tencode', 'LotArea|MasVnrType_Tencode', 'RoofStyle_Tencode', 'GarageYrBlt|MiscVal', 'YearRemodAdd_Tencode|Exterior2nd_Tencode', '3SsnPorch|LotFrontage', 'CentralAir_Tencode|MSSubClass_Tencode', 'MoSold_Tencode|KitchenQual_Tencode', 'GarageArea|EnclosedPorch', 'YrSold_Tencode|BsmtUnfSF', 'HalfBath|PoolQC_Tencode', 'GarageCars|CentralAir_Tencode', 'PavedDrive_Tencode|LowQualFinSF', 'PoolArea|BsmtFinSF1', 'HouseStyle_Tencode|MiscVal', 'Electrical_Tencode', 'GarageYrBlt|KitchenAbvGr', 'OverallQual_Tencode|ExterCond_Tencode', 'LotArea|LandContour_Tencode', 'LandContour_Tencode|BsmtUnfSF', 'GarageCars|GrLivArea', 'Condition1_Tencode|Fireplaces', 'LandContour_Tencode|MSZoning_Tencode', 'YrSold_Tencode|2ndFlrSF', 'Condition1_Tencode|YearRemodAdd_Tencode', 'BsmtFullBath|BsmtQual_Tencode', 'GarageYrBlt|RoofStyle_Tencode', 'ExterQual_Tencode|Neighborhood_Tencode', '2ndFlrSF|Foundation_Tencode', 'BsmtUnfSF|LowQualFinSF', 'OverallQual_Tencode|FireplaceQu_Tencode', 'MasVnrArea|LotArea', 'OpenPorchSF|MasVnrType_Tencode', 'KitchenAbvGr|LotFrontage', '3SsnPorch|EnclosedPorch', '3SsnPorch|BsmtFinType2_Tencode', 'SaleCondition_Tencode|Foundation_Tencode', 'YrSold_Tencode|Functional_Tencode', 'LotShape_Tencode|Electrical_Tencode', 'GarageYrBlt|PoolArea', 'BsmtFullBath|BsmtUnfSF', 'GarageYrBlt|GarageFinish_Tencode', 'GarageYrBlt|OverallCond_Tencode', 'Exterior2nd_Tencode', 'Condition2_Tencode|KitchenQual_Tencode', 'LowQualFinSF|YearRemodAdd_Tencode', 'MSSubClass_Tencode|SaleType_Tencode', 'KitchenAbvGr|BsmtExposure_Tencode', 'ExterQual_Tencode|MasVnrType_Tencode', '3SsnPorch|LandSlope_Tencode', 'YearRemodAdd_Tencode|BsmtExposure_Tencode', 'LotArea|SaleType_Tencode', 'HalfBath|Alley_Tencode', 'BsmtQual_Tencode|Neighborhood_Tencode', 'EnclosedPorch|1stFlrSF', '2ndFlrSF|MoSold_Tencode', 'LandContour_Tencode|BsmtFinType1_Tencode', 'OverallQual_Tencode|HeatingQC_Tencode', 'PoolArea|LowQualFinSF', 'BsmtFullBath|LandContour_Tencode', 'TotRmsAbvGrd|RoofMatl_Tencode', 'WoodDeckSF|BedroomAbvGr', 'BldgType_Tencode|Condition1_Tencode', 'PoolArea|ScreenPorch', 'GarageCond_Tencode|Functional_Tencode', 'YrSold_Tencode|YearRemodAdd_Tencode', 'Utilities_Tencode|Functional_Tencode', '3SsnPorch|BsmtFinSF2', 'BsmtHalfBath|BsmtCond_Tencode', 'MSZoning_Tencode|HalfBath', '3SsnPorch|BldgType_Tencode', 'Condition1_Tencode|BsmtExposure_Tencode', 'BsmtFullBath|YearRemodAdd_Tencode', 'MasVnrType_Tencode|YearBuilt_Tencode', 'FullBath|HouseStyle_Tencode', 'Utilities_Tencode|WoodDeckSF', 'BldgType_Tencode|GarageQual_Tencode', 'LandContour_Tencode|3SsnPorch', 'LandContour_Tencode|ExterQual_Tencode', 'Exterior1st_Tencode|EnclosedPorch', 'Exterior1st_Tencode|OverallCond_Tencode', 'GarageArea|Neighborhood_Tencode', 'LowQualFinSF|BedroomAbvGr', '2ndFlrSF|Exterior2nd_Tencode', '3SsnPorch|GrLivArea', 'Fence_Tencode|GarageCond_Tencode', 'FullBath|TotRmsAbvGrd', 'GarageArea|HalfBath', 'Street_Tencode', 'MasVnrArea|Heating_Tencode', 'Fence_Tencode|ExterCond_Tencode', 'GarageCars|LandSlope_Tencode', 'PoolArea|Heating_Tencode', 'FullBath|BedroomAbvGr', 'BsmtFinSF1|LandSlope_Tencode', 'YearRemodAdd_Tencode|TotRmsAbvGrd', 'GarageCars|Utilities_Tencode', 'MSSubClass_Tencode|Condition1_Tencode', 'MoSold_Tencode|YearBuilt_Tencode', 'BsmtCond_Tencode|MasVnrType_Tencode', 'SaleType_Tencode|BsmtFinSF1', 'ExterQual_Tencode|GarageCond_Tencode', 'BldgType_Tencode|TotRmsAbvGrd', 'ExterCond_Tencode|KitchenQual_Tencode', 'SaleType_Tencode|YearBuilt_Tencode', 'SaleType_Tencode|KitchenQual_Tencode', '1stFlrSF|LandSlope_Tencode', 'YrSold_Tencode|SaleType_Tencode', 'GarageYrBlt|HouseStyle_Tencode', 'BsmtFinType1_Tencode|Neighborhood_Tencode', 'LotConfig_Tencode|BsmtFinSF2', 'FireplaceQu_Tencode|RoofStyle_Tencode', 'Condition1_Tencode', 'OpenPorchSF|OverallCond_Tencode', 'BsmtFullBath|BsmtFinType1_Tencode', 'GarageFinish_Tencode|YearRemodAdd_Tencode', 'Condition1_Tencode|KitchenQual_Tencode', 'OverallQual_Tencode|LotShape_Tencode', 'MSZoning_Tencode|MiscFeature_Tencode', 'BsmtFinType2_Tencode|LotFrontage', 'YrSold_Tencode|Heating_Tencode', 'OverallCond_Tencode|MoSold_Tencode', 'GarageYrBlt|Foundation_Tencode', 'MSZoning_Tencode|Neighborhood_Tencode', 'CentralAir_Tencode|GarageFinish_Tencode', '3SsnPorch|RoofMatl_Tencode', 'Exterior1st_Tencode|BsmtExposure_Tencode', 'GarageCars|BsmtFinSF2', 'GarageQual_Tencode|LotShape_Tencode', 'CentralAir_Tencode|OverallQual_Tencode', 'LandContour_Tencode|LotConfig_Tencode', 'Utilities_Tencode|MiscFeature_Tencode', 'OverallCond_Tencode|TotRmsAbvGrd', 'GarageYrBlt|GarageType_Tencode', 'GarageCars|LotShape_Tencode', '3SsnPorch|RoofStyle_Tencode', 'MasVnrArea|FullBath', 'Fence_Tencode|2ndFlrSF', 'BsmtFullBath|BsmtFinSF2', 'MoSold_Tencode|GarageYrBltBins_Tencode', 'ExterQual_Tencode|SaleCondition_Tencode', 'Condition1_Tencode|MiscVal', 'Utilities_Tencode|BsmtFinSF1', 'BldgType_Tencode|GrLivArea', 'BsmtCond_Tencode|BsmtFinType2_Tencode', 'MiscFeature_Tencode|BsmtExposure_Tencode', 'ExterQual_Tencode|Exterior2nd_Tencode', 'MSSubClass_Tencode|GarageFinish_Tencode', 'FireplaceQu_Tencode|GarageQual_Tencode', 'Condition2_Tencode|ExterCond_Tencode', 'Heating_Tencode|FullBath', 'BsmtFullBath|LotFrontage', 'OpenPorchSF|PoolQC_Tencode', 'GarageQual_Tencode|Electrical_Tencode', '1stFlrSF|GrLivArea', 'GarageCars|Foundation_Tencode', 'GarageYrBlt|Electrical_Tencode', 'MSSubClass_Tencode|MoSold_Tencode', 'BsmtFinType1_Tencode|RoofMatl_Tencode', 'HeatingQC_Tencode|BsmtFinType1_Tencode', 'CentralAir_Tencode|Heating_Tencode', 'GarageCond_Tencode|ExterCond_Tencode', 'BldgType_Tencode|MiscFeature_Tencode', 'Fence_Tencode|RoofMatl_Tencode', 'MasVnrArea|PavedDrive_Tencode', 'Utilities_Tencode|PoolQC_Tencode', 'LotArea|GarageFinish_Tencode', 'CentralAir_Tencode|YearRemodAdd_Tencode', 'BsmtFinType1_Tencode|BedroomAbvGr', 'Exterior1st_Tencode|GarageQual_Tencode', 'PavedDrive_Tencode|HalfBath', 'SaleCondition_Tencode|BsmtQual_Tencode', 'Fence_Tencode|GarageType_Tencode', 'MSSubClass_Tencode|BsmtFinType1_Tencode', 'LowQualFinSF|Neighborhood_Tencode', 'BsmtFinType2_Tencode|LandSlope_Tencode', 'BsmtFullBath|1stFlrSF', 'MasVnrArea|Condition1_Tencode', 'ExterQual_Tencode|GarageArea', 'GarageYrBlt|Condition2_Tencode', 'FireplaceQu_Tencode|Alley_Tencode', 'Fence_Tencode|BsmtUnfSF', 'GarageArea|Fireplaces', 'Foundation_Tencode|GrLivArea', '2ndFlrSF|EnclosedPorch', 'LandSlope_Tencode|MasVnrType_Tencode', 'Utilities_Tencode|GarageQual_Tencode', 'BsmtUnfSF|TotalBsmtSF', 'Heating_Tencode|LotShape_Tencode', 'GarageCars|GarageCond_Tencode', 'PavedDrive_Tencode|RoofStyle_Tencode', 'FullBath|Neighborhood_Tencode', 'YrSold_Tencode|MiscFeature_Tencode', 'Fireplaces|Functional_Tencode', 'KitchenAbvGr|LandContour_Tencode', 'LotArea|OpenPorchSF', 'MasVnrArea|BsmtCond_Tencode', 'SaleCondition_Tencode|EnclosedPorch', '3SsnPorch|FireplaceQu_Tencode', 'Id|GrLivArea', 'BedroomAbvGr|Electrical_Tencode', 'ExterQual_Tencode|Heating_Tencode', '1stFlrSF', 'BsmtHalfBath|EnclosedPorch', 'Exterior1st_Tencode|YearRemodAdd_Tencode', 'BsmtUnfSF|PoolQC_Tencode', 'PavedDrive_Tencode|HeatingQC_Tencode', 'Street_Tencode|PoolQC_Tencode', 'EnclosedPorch|BsmtFinSF2', 'BedroomAbvGr|Alley_Tencode', 'Fence_Tencode|Id', 'MSSubClass_Tencode|BsmtUnfSF', 'Condition1_Tencode|OverallQual_Tencode', 'GarageCars|MiscFeature_Tencode', 'OpenPorchSF|GarageArea', 'BsmtFinType2_Tencode|Id', 'ExterCond_Tencode|TotRmsAbvGrd', 'ExterCond_Tencode|BsmtFinSF2', 'BsmtHalfBath|BsmtExposure_Tencode', 'Exterior1st_Tencode|KitchenQual_Tencode', 'PavedDrive_Tencode|MoSold_Tencode', 'BsmtFullBath|HouseStyle_Tencode', 'WoodDeckSF|LotShape_Tencode', 'TotRmsAbvGrd', 'Neighborhood_Tencode|Functional_Tencode', 'HouseStyle_Tencode|Exterior2nd_Tencode', 'ScreenPorch|EnclosedPorch', 'ScreenPorch|LandSlope_Tencode', 'GarageCars|BsmtUnfSF', 'BsmtHalfBath|BldgType_Tencode', 'TotalBsmtSF|MasVnrType_Tencode', 'Street_Tencode|SaleType_Tencode', 'BedroomAbvGr|1stFlrSF', 'LotArea|HeatingQC_Tencode', 'FireplaceQu_Tencode|EnclosedPorch', 'BsmtFullBath|BsmtCond_Tencode', 'Id|BsmtFinSF2', 'BsmtUnfSF|LotShape_Tencode', 'MoSold_Tencode|MasVnrType_Tencode', 'Neighborhood_Tencode|HouseStyle_Tencode', 'OverallQual_Tencode|MoSold_Tencode', 'BsmtFinType2_Tencode|Functional_Tencode', 'RoofStyle_Tencode|BsmtFinSF1', 'BsmtFullBath|BsmtExposure_Tencode', 'LowQualFinSF|MiscVal', 'OpenPorchSF|WoodDeckSF', 'ScreenPorch|YearBuilt_Tencode', 'MasVnrArea|ExterQual_Tencode', 'OpenPorchSF|RoofMatl_Tencode', 'Street_Tencode|BsmtHalfBath', 'GarageCars|GarageQual_Tencode', 'Fireplaces|BsmtExposure_Tencode', 'BsmtFullBath|3SsnPorch', 'TotalBsmtSF|MiscVal', 'OpenPorchSF|MoSold_Tencode', 'YrSold_Tencode|GarageType_Tencode', 'MasVnrArea|Fence_Tencode', 'Fireplaces|GarageType_Tencode', 'PavedDrive_Tencode|HouseStyle_Tencode', 'OverallCond_Tencode|OverallQual_Tencode', 'LotShape_Tencode|ExterCond_Tencode', 'PavedDrive_Tencode|BsmtFinSF1', 'YrSold_Tencode|GarageFinish_Tencode', 'TotalBsmtSF|YearRemodAdd_Tencode', 'BsmtFinType2_Tencode|ExterCond_Tencode', 'OverallCond_Tencode|Foundation_Tencode', 'GarageArea|GarageQual_Tencode', 'Heating_Tencode|MiscFeature_Tencode', 'BsmtFinType2_Tencode|LotConfig_Tencode', 'EnclosedPorch|RoofStyle_Tencode', '2ndFlrSF|HouseStyle_Tencode', 'Street_Tencode|BsmtQual_Tencode', 'BedroomAbvGr|HalfBath', 'GarageArea|PoolQC_Tencode', 'LandContour_Tencode|BsmtHalfBath', 'Neighborhood_Tencode|GarageYrBltBins_Tencode', 'GarageFinish_Tencode|YearBuilt_Tencode', 'KitchenAbvGr|SaleType_Tencode', 'KitchenAbvGr', 'KitchenAbvGr|Heating_Tencode', 'MiscVal|PoolQC_Tencode', 'KitchenAbvGr|OverallCond_Tencode', 'GarageYrBlt|2ndFlrSF', 'Condition1_Tencode|MoSold_Tencode', 'YrSold_Tencode|Condition1_Tencode', 'BsmtHalfBath|KitchenQual_Tencode', 'Heating_Tencode|MiscVal', 'LotShape_Tencode|LandSlope_Tencode', 'BsmtFinType2_Tencode|YearBuilt_Tencode', 'FullBath|YearRemodAdd_Tencode', 'LandContour_Tencode|YearBuilt_Tencode', 'CentralAir_Tencode|BedroomAbvGr', 'EnclosedPorch|MiscVal', 'MasVnrArea|Fireplaces', '1stFlrSF|GarageQual_Tencode', 'FullBath|LotConfig_Tencode', 'BsmtFinType2_Tencode|BsmtQual_Tencode', 'KitchenAbvGr|RoofMatl_Tencode', 'MasVnrType_Tencode|PoolQC_Tencode', 'TotRmsAbvGrd|Functional_Tencode', 'Exterior1st_Tencode', 'FireplaceQu_Tencode|TotRmsAbvGrd', 'Utilities_Tencode|ExterCond_Tencode', 'Condition2_Tencode|Foundation_Tencode', 'LotArea|LowQualFinSF', 'KitchenAbvGr|3SsnPorch', 'BsmtQual_Tencode|GarageType_Tencode', 'GarageYrBlt|Neighborhood_Tencode', 'Fence_Tencode|Neighborhood_Tencode', 'ScreenPorch|SaleCondition_Tencode', 'Electrical_Tencode|YearBuilt_Tencode', 'MSSubClass_Tencode|Foundation_Tencode', 'YrSold_Tencode|BsmtHalfBath', 'BldgType_Tencode|LandSlope_Tencode', 'WoodDeckSF|BsmtExposure_Tencode', 'OverallCond_Tencode', 'GarageCars|LotFrontage', 'MasVnrArea|PoolArea', 'OverallQual_Tencode|YearBuilt_Tencode', 'GarageCars|BedroomAbvGr', '3SsnPorch|Functional_Tencode', 'TotalBsmtSF|FullBath', 'Exterior1st_Tencode|Exterior2nd_Tencode', 'GarageFinish_Tencode|Exterior2nd_Tencode', 'EnclosedPorch|YearBuilt_Tencode', 'Id|HouseStyle_Tencode', 'BsmtFullBath|LowQualFinSF', 'GarageCond_Tencode|GarageType_Tencode', 'Exterior1st_Tencode|BldgType_Tencode', '3SsnPorch|SaleCondition_Tencode', 'OverallQual_Tencode|Utilities_Tencode', 'ScreenPorch|Id', 'BsmtFullBath|MoSold_Tencode', 'LandContour_Tencode|MiscVal', 'GarageYrBlt|PavedDrive_Tencode', 'LotArea|TotalBsmtSF', 'MSZoning_Tencode|BsmtFinSF1', 'SaleCondition_Tencode|Functional_Tencode', '2ndFlrSF|MiscVal', 'Alley_Tencode|Functional_Tencode', 'EnclosedPorch|GarageQual_Tencode', 'EnclosedPorch|RoofMatl_Tencode', 'BsmtFinSF1|BsmtFinSF2', 'ExterQual_Tencode|Fireplaces', 'MSSubClass_Tencode|LotFrontage', 'BsmtFinType1_Tencode|LotShape_Tencode', 'MasVnrArea|RoofStyle_Tencode', 'ExterQual_Tencode|MiscVal', 'BsmtQual_Tencode|RoofMatl_Tencode', 'MSZoning_Tencode|YearBuilt_Tencode', 'YrSold_Tencode|KitchenAbvGr', 'Street_Tencode|FireplaceQu_Tencode', 'MasVnrArea|Id', 'GarageCond_Tencode|YearRemodAdd_Tencode', 'GarageArea|Id', 'Exterior1st_Tencode|Condition2_Tencode', 'Fence_Tencode|YearBuilt_Tencode', 'PavedDrive_Tencode|LotShape_Tencode', 'Exterior1st_Tencode|Neighborhood_Tencode', 'Utilities_Tencode|Exterior2nd_Tencode', 'Heating_Tencode|1stFlrSF', 'HeatingQC_Tencode|Id', 'CentralAir_Tencode|PavedDrive_Tencode', 'LotConfig_Tencode|YearRemodAdd_Tencode', 'MSSubClass_Tencode|HeatingQC_Tencode', 'Utilities_Tencode|YearRemodAdd_Tencode', 'YrSold_Tencode|Neighborhood_Tencode', 'BsmtFullBath|MasVnrType_Tencode', 'MasVnrArea|BsmtFullBath', 'LotArea|TotRmsAbvGrd', 'CentralAir_Tencode|Condition2_Tencode', 'PoolArea|RoofMatl_Tencode', 'FireplaceQu_Tencode|GarageYrBltBins_Tencode', 'RoofStyle_Tencode|MiscVal', 'TotalBsmtSF|MiscFeature_Tencode', 'KitchenQual_Tencode|YearRemodAdd_Tencode', 'FireplaceQu_Tencode|MiscVal', 'BedroomAbvGr|MoSold_Tencode', 'LowQualFinSF|Fireplaces', 'MSSubClass_Tencode|Electrical_Tencode', 'GrLivArea|MiscVal', 'MoSold_Tencode|Electrical_Tencode', 'GarageArea|MasVnrType_Tencode', 'BsmtFinType2_Tencode|MasVnrType_Tencode', 'BsmtFullBath|GarageQual_Tencode', 'BsmtFinType1_Tencode|RoofStyle_Tencode', 'GarageYrBlt|MiscFeature_Tencode', 'Street_Tencode|LowQualFinSF', 'BsmtFullBath|Condition1_Tencode', 'GarageFinish_Tencode|HalfBath', 'PavedDrive_Tencode|BsmtExposure_Tencode', 'FireplaceQu_Tencode|ExterCond_Tencode', 'ExterQual_Tencode|Condition1_Tencode', 'Condition1_Tencode|Heating_Tencode', 'Fence_Tencode|GarageYrBltBins_Tencode', 'GarageYrBltBins_Tencode|Exterior2nd_Tencode', 'RoofStyle_Tencode|Electrical_Tencode', 'GrLivArea', 'Heating_Tencode|BsmtQual_Tencode', 'BsmtFinType2_Tencode|Electrical_Tencode', 'HalfBath|TotRmsAbvGrd', 'HalfBath|Functional_Tencode', 'MSSubClass_Tencode|GarageCond_Tencode', 'GarageQual_Tencode|BsmtQual_Tencode', 'GarageYrBlt|BldgType_Tencode', 'MasVnrArea|GarageYrBltBins_Tencode', 'Street_Tencode|RoofMatl_Tencode', 'ScreenPorch|LotConfig_Tencode', '3SsnPorch|MiscFeature_Tencode', 'OpenPorchSF|BsmtExposure_Tencode', 'OverallCond_Tencode|GarageFinish_Tencode', 'Alley_Tencode', 'BsmtFullBath|MiscFeature_Tencode', '3SsnPorch|Utilities_Tencode', 'LotFrontage|RoofMatl_Tencode', 'LotConfig_Tencode', 'FullBath|RoofMatl_Tencode', 'LotArea|Electrical_Tencode', 'ExterCond_Tencode|LotFrontage', 'SaleCondition_Tencode|BedroomAbvGr', 'MasVnrArea|MiscFeature_Tencode', 'GarageArea|BsmtQual_Tencode', 'ScreenPorch|ExterQual_Tencode', '3SsnPorch|TotalBsmtSF', 'LotConfig_Tencode|TotRmsAbvGrd', 'PoolArea|Condition2_Tencode', 'FullBath|LotShape_Tencode', 'ExterQual_Tencode|GrLivArea', 'Fireplaces|RoofMatl_Tencode', 'ScreenPorch|WoodDeckSF', 'Fence_Tencode|PoolQC_Tencode', 'MasVnrArea|RoofMatl_Tencode', 'GarageCond_Tencode|LotFrontage', 'RoofMatl_Tencode', 'BsmtUnfSF|Exterior2nd_Tencode', 'BsmtFullBath|ExterQual_Tencode', 'GarageCond_Tencode|BsmtFinType2_Tencode', 'YrSold_Tencode|OverallQual_Tencode', 'ExterQual_Tencode|RoofMatl_Tencode', 'GarageCond_Tencode|YearBuilt_Tencode', 'LandContour_Tencode|TotRmsAbvGrd', 'PoolArea|LotFrontage', 'BsmtUnfSF|EnclosedPorch', 'GarageYrBlt|RoofMatl_Tencode', 'GarageFinish_Tencode|ExterCond_Tencode', 'OpenPorchSF|Neighborhood_Tencode', 'OpenPorchSF|HouseStyle_Tencode', 'RoofStyle_Tencode|YearBuilt_Tencode', '1stFlrSF|YearRemodAdd_Tencode', 'OpenPorchSF|TotalBsmtSF', 'LandContour_Tencode|MasVnrType_Tencode', 'LandContour_Tencode|RoofStyle_Tencode', 'MSZoning_Tencode|LotConfig_Tencode', 'Street_Tencode|OverallQual_Tencode', 'Street_Tencode|MSSubClass_Tencode', 'BsmtHalfBath|Condition1_Tencode', 'MiscFeature_Tencode|Electrical_Tencode', 'YrSold_Tencode|ExterCond_Tencode', '2ndFlrSF|WoodDeckSF', 'BsmtCond_Tencode|Neighborhood_Tencode', 'GarageCars|GarageFinish_Tencode', 'GarageYrBlt|Utilities_Tencode', 'BsmtFinType2_Tencode|Utilities_Tencode', 'Exterior1st_Tencode|BedroomAbvGr', 'MasVnrArea', 'LowQualFinSF|Heating_Tencode', 'BsmtFinSF1|TotRmsAbvGrd', 'ScreenPorch|RoofStyle_Tencode', 'WoodDeckSF|Alley_Tencode', 'LandSlope_Tencode|PoolQC_Tencode', 'MSZoning_Tencode|BldgType_Tencode', 'Heating_Tencode|KitchenQual_Tencode', 'TotalBsmtSF|Neighborhood_Tencode', 'WoodDeckSF|Fireplaces', 'GarageCars|ExterQual_Tencode', 'Fence_Tencode|BsmtFinType1_Tencode', 'BldgType_Tencode|BsmtFinType1_Tencode', 'BsmtFinType1_Tencode|MasVnrType_Tencode', 'TotalBsmtSF|Fireplaces', 'FireplaceQu_Tencode|TotalBsmtSF', 'BsmtCond_Tencode|GarageArea', 'WoodDeckSF|GarageQual_Tencode', 'YrSold_Tencode|BedroomAbvGr', 'Fence_Tencode|FullBath', 'GrLivArea|YearBuilt_Tencode', 'ExterQual_Tencode|BsmtQual_Tencode', 'Street_Tencode|ScreenPorch', 'LandContour_Tencode', 'Street_Tencode|BsmtExposure_Tencode', 'LotFrontage|MiscVal', 'BsmtFinSF1|MasVnrType_Tencode', 'EnclosedPorch|LotShape_Tencode', 'PoolArea|TotalBsmtSF', 'MoSold_Tencode|MiscFeature_Tencode', 'Id|WoodDeckSF', 'Condition2_Tencode|BsmtExposure_Tencode', 'Condition2_Tencode|GrLivArea', 'BsmtQual_Tencode|Electrical_Tencode', 'MasVnrArea|OverallQual_Tencode', 'TotalBsmtSF|BedroomAbvGr', 'Condition1_Tencode|GarageQual_Tencode', 'Foundation_Tencode|HalfBath', 'OverallQual_Tencode|LandSlope_Tencode', 'Street_Tencode|Heating_Tencode', 'BsmtUnfSF|BsmtFinSF2', 'Heating_Tencode|GarageQual_Tencode', 'YrSold_Tencode|RoofStyle_Tencode', 'BedroomAbvGr|KitchenQual_Tencode', 'PavedDrive_Tencode|GarageCond_Tencode', 'Fence_Tencode|BldgType_Tencode', 'Alley_Tencode|KitchenQual_Tencode', 'KitchenAbvGr|BsmtHalfBath', 'Foundation_Tencode|LotConfig_Tencode', 'KitchenAbvGr|MiscVal', 'GarageCond_Tencode|FireplaceQu_Tencode', 'WoodDeckSF|Functional_Tencode', 'MSSubClass_Tencode|YearBuilt_Tencode', 'KitchenAbvGr|BsmtUnfSF', 'OverallCond_Tencode|Heating_Tencode', 'WoodDeckSF|KitchenQual_Tencode', 'OpenPorchSF|HalfBath', 'MasVnrArea|YrSold_Tencode', 'BsmtFullBath|PoolArea', 'CentralAir_Tencode|Electrical_Tencode', 'LotConfig_Tencode|PoolQC_Tencode', 'Electrical_Tencode|HouseStyle_Tencode', 'SaleCondition_Tencode|HalfBath', 'Foundation_Tencode|YearBuilt_Tencode', 'OpenPorchSF|Electrical_Tencode', 'LotArea|FireplaceQu_Tencode', 'PoolArea|FullBath', 'OpenPorchSF|GarageFinish_Tencode', 'BsmtUnfSF|GarageYrBltBins_Tencode', 'Street_Tencode|Condition1_Tencode', 'BedroomAbvGr|GarageYrBltBins_Tencode', 'Fireplaces|LotConfig_Tencode', 'Exterior1st_Tencode|BsmtCond_Tencode', 'RoofStyle_Tencode|GarageYrBltBins_Tencode', 'LandSlope_Tencode|GarageType_Tencode', 'BsmtFullBath|KitchenQual_Tencode', 'CentralAir_Tencode|GarageArea', 'FullBath|Exterior2nd_Tencode', 'MasVnrArea|KitchenAbvGr', 'LandSlope_Tencode|LotConfig_Tencode', 'BedroomAbvGr', 'BsmtFullBath|RoofStyle_Tencode', 'ExterCond_Tencode|BsmtFinSF1', 'PoolQC_Tencode|Functional_Tencode', 'ExterQual_Tencode|2ndFlrSF', 'YearBuilt_Tencode|PoolQC_Tencode', 'KitchenAbvGr|Fireplaces', 'Neighborhood_Tencode|LotFrontage', 'Exterior1st_Tencode|OverallQual_Tencode', 'FullBath|EnclosedPorch', 'CentralAir_Tencode|FireplaceQu_Tencode', 'BsmtFinType1_Tencode|Alley_Tencode', 'OverallCond_Tencode|LowQualFinSF', 'Heating_Tencode', 'TotalBsmtSF|TotRmsAbvGrd', 'BsmtFullBath|GarageFinish_Tencode', 'TotalBsmtSF|LotConfig_Tencode', '2ndFlrSF|GarageCond_Tencode', 'YrSold_Tencode|Electrical_Tencode', 'GarageYrBlt', '3SsnPorch|Id', 'LotShape_Tencode|Alley_Tencode', 'KitchenAbvGr|YearBuilt_Tencode', 'GarageYrBlt|YearRemodAdd_Tencode', 'MSZoning_Tencode|SaleType_Tencode', 'Fence_Tencode|BsmtCond_Tencode', 'BsmtFinType2_Tencode|HalfBath', 'Condition1_Tencode|GrLivArea', 'ScreenPorch|MSSubClass_Tencode', 'Fence_Tencode|Alley_Tencode', 'Utilities_Tencode|TotRmsAbvGrd', 'PoolArea|Fireplaces', 'BsmtQual_Tencode|BsmtFinSF1', 'GarageArea|BsmtFinSF1', 'GarageFinish_Tencode|LowQualFinSF', 'LotArea|GarageYrBltBins_Tencode', 'EnclosedPorch|BsmtFinType1_Tencode', 'CentralAir_Tencode|LotConfig_Tencode', 'CentralAir_Tencode|ExterCond_Tencode', 'LandSlope_Tencode|BsmtFinSF2', 'BsmtCond_Tencode|HalfBath', 'GrLivArea|BsmtFinSF1', 'ScreenPorch|Neighborhood_Tencode', 'LowQualFinSF|SaleType_Tencode', 'BsmtUnfSF|FullBath', 'OpenPorchSF|Alley_Tencode', 'ScreenPorch|OverallCond_Tencode', 'MSZoning_Tencode|HouseStyle_Tencode', 'Condition2_Tencode|Neighborhood_Tencode', 'Street_Tencode|Foundation_Tencode', 'Heating_Tencode|HalfBath', 'MSSubClass_Tencode|BsmtExposure_Tencode', 'FireplaceQu_Tencode|SaleCondition_Tencode', 'BldgType_Tencode|EnclosedPorch', 'GarageArea|ExterCond_Tencode', 'LotConfig_Tencode|GarageYrBltBins_Tencode', 'Foundation_Tencode|ExterCond_Tencode', 'LandSlope_Tencode|Fireplaces', 'YrSold_Tencode|ExterQual_Tencode', 'KitchenAbvGr|GarageFinish_Tencode', 'Id|BedroomAbvGr', 'OverallCond_Tencode|Electrical_Tencode', 'OpenPorchSF|MSZoning_Tencode', 'MasVnrArea|Alley_Tencode', 'TotalBsmtSF|KitchenQual_Tencode', 'SaleType_Tencode|BsmtFinSF2', '3SsnPorch|HouseStyle_Tencode', 'BsmtUnfSF|TotRmsAbvGrd', 'TotalBsmtSF|Id', 'HeatingQC_Tencode|SaleType_Tencode', 'MasVnrArea|BsmtExposure_Tencode', 'PoolArea|BsmtQual_Tencode', '3SsnPorch|GarageFinish_Tencode', 'MiscFeature_Tencode|Exterior2nd_Tencode', 'MasVnrArea|LotConfig_Tencode', 'PavedDrive_Tencode|Utilities_Tencode', 'CentralAir_Tencode|LandSlope_Tencode', 'GarageFinish_Tencode|LotFrontage', 'BldgType_Tencode|FireplaceQu_Tencode', 'BsmtUnfSF|Electrical_Tencode', '1stFlrSF|HouseStyle_Tencode', 'LotArea|1stFlrSF', 'GarageCond_Tencode|MasVnrType_Tencode', 'LandContour_Tencode|MSSubClass_Tencode', 'MSSubClass_Tencode|FullBath', 'PavedDrive_Tencode|TotalBsmtSF', 'Exterior1st_Tencode|GarageType_Tencode', 'Condition2_Tencode|Utilities_Tencode', 'Condition2_Tencode|HouseStyle_Tencode', 'BldgType_Tencode|TotalBsmtSF', 'MasVnrArea|BedroomAbvGr', 'PoolArea|HouseStyle_Tencode', 'BsmtFullBath|ScreenPorch', 'FullBath|LotFrontage', 'MSZoning_Tencode|GarageQual_Tencode', 'BldgType_Tencode|RoofMatl_Tencode', 'GarageType_Tencode', 'MSZoning_Tencode|TotRmsAbvGrd', 'GarageCars|PavedDrive_Tencode', 'OverallCond_Tencode|BsmtFinType2_Tencode', 'Fireplaces|MasVnrType_Tencode', '2ndFlrSF|MasVnrType_Tencode', 'KitchenAbvGr|HouseStyle_Tencode', 'YearRemodAdd_Tencode|MiscVal', 'BsmtFinSF1|GarageYrBltBins_Tencode', 'HeatingQC_Tencode|1stFlrSF', 'ScreenPorch|LotShape_Tencode', 'Heating_Tencode|YearBuilt_Tencode', 'OverallCond_Tencode|Neighborhood_Tencode', 'HeatingQC_Tencode|GarageType_Tencode', 'FireplaceQu_Tencode|FullBath', 'GarageCond_Tencode|MiscFeature_Tencode', 'GarageFinish_Tencode|Heating_Tencode', 'BsmtCond_Tencode|MiscFeature_Tencode', 'SaleType_Tencode|GarageYrBltBins_Tencode', 'MSZoning_Tencode|RoofStyle_Tencode', 'PavedDrive_Tencode|YearRemodAdd_Tencode', 'Condition1_Tencode|RoofStyle_Tencode', 'GrLivArea|KitchenQual_Tencode', 'GarageFinish_Tencode|BsmtFinSF1', 'OverallQual_Tencode|GarageQual_Tencode', 'GarageQual_Tencode|Functional_Tencode', 'Alley_Tencode|GarageYrBltBins_Tencode', 'BsmtCond_Tencode|Heating_Tencode', 'MSZoning_Tencode|BsmtExposure_Tencode', 'PavedDrive_Tencode|KitchenAbvGr', 'SaleCondition_Tencode|YearBuilt_Tencode', 'BsmtHalfBath|SaleType_Tencode', 'GarageCars|HalfBath', 'GarageYrBlt|MoSold_Tencode', 'ExterQual_Tencode|TotRmsAbvGrd', 'ExterQual_Tencode|BsmtFinSF2', '2ndFlrSF|Condition2_Tencode', 'OpenPorchSF|LotShape_Tencode', 'BsmtFinType1_Tencode|TotRmsAbvGrd', 'BsmtFinType1_Tencode|SaleType_Tencode', 'MiscFeature_Tencode|YearRemodAdd_Tencode', 'ExterQual_Tencode|GarageQual_Tencode', 'CentralAir_Tencode|ExterQual_Tencode', 'BsmtFullBath|BsmtFinType2_Tencode', 'GarageArea|GarageYrBltBins_Tencode', 'MSSubClass_Tencode|BsmtFinType2_Tencode', 'HeatingQC_Tencode|WoodDeckSF', 'CentralAir_Tencode|MoSold_Tencode', 'ScreenPorch|SaleType_Tencode', 'LowQualFinSF|RoofStyle_Tencode', 'Fence_Tencode|MiscFeature_Tencode', 'OpenPorchSF|2ndFlrSF', 'RoofStyle_Tencode|GrLivArea', 'MSZoning_Tencode|BsmtCond_Tencode', 'GarageCars|GarageArea', 'HeatingQC_Tencode|YearBuilt_Tencode', 'LotArea|Neighborhood_Tencode', 'LotShape_Tencode|Functional_Tencode', 'PavedDrive_Tencode|LandSlope_Tencode', 'BsmtHalfBath|LotConfig_Tencode', 'YrSold_Tencode|FireplaceQu_Tencode', 'YrSold_Tencode|Alley_Tencode', 'FullBath|Utilities_Tencode', 'Condition2_Tencode|PoolQC_Tencode', 'BldgType_Tencode|GarageYrBltBins_Tencode', 'LotArea|MSZoning_Tencode', 'ScreenPorch|MiscVal', '2ndFlrSF|YearBuilt_Tencode', 'LotFrontage|TotRmsAbvGrd', 'MSSubClass_Tencode|BsmtFinSF2', 'CentralAir_Tencode|HeatingQC_Tencode', 'OverallCond_Tencode|RoofStyle_Tencode', 'MoSold_Tencode|RoofMatl_Tencode', 'Utilities_Tencode|MasVnrType_Tencode', 'MSZoning_Tencode|BsmtQual_Tencode', 'Exterior1st_Tencode|LotConfig_Tencode', 'BsmtUnfSF|GarageQual_Tencode', 'MSSubClass_Tencode|OverallCond_Tencode', 'GarageCars|PoolQC_Tencode', 'BsmtHalfBath|LotFrontage', 'BsmtCond_Tencode|LotFrontage', 'Exterior1st_Tencode|HalfBath', 'BsmtHalfBath|Neighborhood_Tencode', 'GarageArea|Foundation_Tencode', 'FireplaceQu_Tencode|GarageFinish_Tencode', 'MasVnrType_Tencode|GarageYrBltBins_Tencode', 'PoolArea|GarageType_Tencode', 'GarageFinish_Tencode|TotRmsAbvGrd', 'ExterQual_Tencode|BsmtFinSF1', '3SsnPorch|Alley_Tencode', 'CentralAir_Tencode|PoolQC_Tencode', 'BsmtExposure_Tencode|BsmtFinSF2', 'GarageCars|Exterior2nd_Tencode', '2ndFlrSF', 'GarageYrBlt|Exterior1st_Tencode', 'KitchenAbvGr|WoodDeckSF', 'Exterior1st_Tencode|PoolQC_Tencode', 'Exterior1st_Tencode|BsmtQual_Tencode', 'GrLivArea|Fireplaces', 'MSZoning_Tencode|PoolQC_Tencode', 'Street_Tencode|Fence_Tencode', 'GarageArea|Alley_Tencode', 'ExterQual_Tencode|GarageYrBltBins_Tencode', 'PavedDrive_Tencode|BldgType_Tencode', 'TotalBsmtSF|PoolQC_Tencode', '2ndFlrSF|GrLivArea', 'Utilities_Tencode|MiscVal', 'BsmtCond_Tencode|Utilities_Tencode', 'HeatingQC_Tencode|BedroomAbvGr', 'BsmtHalfBath|HouseStyle_Tencode', 'BsmtHalfBath|LandSlope_Tencode', 'Fence_Tencode|YearRemodAdd_Tencode', 'BsmtFullBath|MiscVal', 'GarageYrBlt|LandContour_Tencode', 'GarageCond_Tencode|HouseStyle_Tencode', 'BldgType_Tencode|PoolQC_Tencode', 'EnclosedPorch|BsmtQual_Tencode', 'CentralAir_Tencode|Utilities_Tencode', 'MSSubClass_Tencode|Id', 'GarageYrBlt|FullBath', 'GarageCars|YearRemodAdd_Tencode', 'MSSubClass_Tencode|OverallQual_Tencode', 'LotArea|ExterQual_Tencode', 'GarageCars|RoofStyle_Tencode', 'BsmtFullBath|GarageArea', 'PoolArea|PavedDrive_Tencode', 'OverallCond_Tencode|PoolQC_Tencode', 'Condition1_Tencode|Functional_Tencode', 'LotArea|BsmtUnfSF', 'Fence_Tencode|MiscVal', 'BsmtHalfBath|MoSold_Tencode', 'MiscFeature_Tencode|BsmtFinSF2', 'BsmtFinType2_Tencode|FullBath', 'Exterior1st_Tencode|Functional_Tencode', 'BsmtUnfSF|GarageType_Tencode', 'LowQualFinSF|MasVnrType_Tencode', 'Neighborhood_Tencode|HalfBath', 'MiscFeature_Tencode|PoolQC_Tencode', '1stFlrSF|Alley_Tencode', 'SaleCondition_Tencode|Fireplaces', 'Foundation_Tencode|SaleType_Tencode', 'Id|Functional_Tencode', 'BsmtFinType2_Tencode|GarageQual_Tencode', 'Foundation_Tencode|EnclosedPorch', 'Fireplaces|KitchenQual_Tencode', 'BsmtFinType1_Tencode|HalfBath', '2ndFlrSF|TotalBsmtSF', 'BsmtCond_Tencode|LotConfig_Tencode', 'Exterior1st_Tencode|TotalBsmtSF', 'RoofStyle_Tencode|RoofMatl_Tencode', 'GarageArea|MiscVal', 'LotArea|BsmtFinType2_Tencode', 'PavedDrive_Tencode|BsmtFinType2_Tencode', 'Condition2_Tencode|BedroomAbvGr', 'ExterQual_Tencode|BedroomAbvGr', 'OverallQual_Tencode|Exterior2nd_Tencode', 'ScreenPorch|YearRemodAdd_Tencode', 'GarageCond_Tencode|Alley_Tencode', 'Id', 'MasVnrArea|SaleCondition_Tencode', 'SaleType_Tencode|GrLivArea', 'BedroomAbvGr|BsmtFinSF1', 'BsmtFinType1_Tencode|MoSold_Tencode', 'EnclosedPorch|LotFrontage', 'YrSold_Tencode|Exterior1st_Tencode', 'EnclosedPorch|KitchenQual_Tencode', 'SaleCondition_Tencode|TotalBsmtSF', 'GarageFinish_Tencode|LotConfig_Tencode', 'TotalBsmtSF|BsmtFinType2_Tencode', 'Condition1_Tencode|Condition2_Tencode', 'TotalBsmtSF|EnclosedPorch', 'MasVnrArea|BsmtFinSF2', 'Condition1_Tencode|Alley_Tencode', 'FullBath|GrLivArea', 'Fence_Tencode|LotShape_Tencode', 'PavedDrive_Tencode|MSZoning_Tencode', 'ScreenPorch|BsmtFinType1_Tencode', 'Street_Tencode|GarageArea', 'KitchenQual_Tencode|GarageYrBltBins_Tencode', 'FullBath|BsmtFinSF1', 'RoofStyle_Tencode|MasVnrType_Tencode', '2ndFlrSF|TotRmsAbvGrd', 'BsmtCond_Tencode|Fireplaces', 'RoofStyle_Tencode|Alley_Tencode', 'MSSubClass_Tencode|GarageYrBltBins_Tencode', 'OverallQual_Tencode|MasVnrType_Tencode', 'GarageCars|Id', 'Condition1_Tencode|LotShape_Tencode', 'GarageCars|GarageYrBltBins_Tencode', 'Fireplaces|MiscVal', 'BsmtUnfSF|Alley_Tencode', 'LotFrontage|PoolQC_Tencode', 'CentralAir_Tencode|GarageType_Tencode', 'OverallCond_Tencode|1stFlrSF', 'LandSlope_Tencode', 'LandContour_Tencode|BsmtQual_Tencode', 'BedroomAbvGr|Functional_Tencode', 'OpenPorchSF|Exterior2nd_Tencode', '3SsnPorch|KitchenQual_Tencode', 'Street_Tencode|GarageType_Tencode', 'MasVnrArea|MSZoning_Tencode', 'ExterQual_Tencode|HouseStyle_Tencode', 'LotArea|RoofStyle_Tencode', 'BsmtFullBath|Heating_Tencode', 'FullBath|RoofStyle_Tencode', 'BldgType_Tencode|GarageCond_Tencode', 'Neighborhood_Tencode|Electrical_Tencode', 'Condition1_Tencode|ExterCond_Tencode', 'TotalBsmtSF|BsmtFinSF1', 'Street_Tencode|3SsnPorch', 'FireplaceQu_Tencode|BsmtFinType2_Tencode', '2ndFlrSF|FireplaceQu_Tencode', 'OverallQual_Tencode|YearRemodAdd_Tencode', 'Fence_Tencode|BsmtFinSF2', 'GarageCars|RoofMatl_Tencode', 'LotArea|BsmtFinSF1', 'SaleCondition_Tencode|WoodDeckSF', 'GarageArea|RoofStyle_Tencode', 'Utilities_Tencode|GarageType_Tencode', 'Utilities_Tencode|BsmtFinSF2', 'SaleType_Tencode|TotRmsAbvGrd', 'YrSold_Tencode|LandContour_Tencode', 'GarageCond_Tencode|BsmtFinSF1', 'Foundation_Tencode|BsmtFinSF2', 'BsmtFullBath|OverallQual_Tencode', 'BsmtFinType2_Tencode|Foundation_Tencode', 'BsmtHalfBath|Exterior2nd_Tencode', 'GarageFinish_Tencode|HouseStyle_Tencode', 'LotConfig_Tencode|MasVnrType_Tencode', 'BsmtFullBath|GarageType_Tencode', 'WoodDeckSF|BsmtQual_Tencode', 'MasVnrArea|WoodDeckSF', 'MSSubClass_Tencode|HalfBath', 'FireplaceQu_Tencode|HeatingQC_Tencode', 'Condition2_Tencode|HalfBath', 'MasVnrArea|MiscVal', 'OverallQual_Tencode|BsmtCond_Tencode', 'KitchenAbvGr|KitchenQual_Tencode', '2ndFlrSF|Heating_Tencode', 'PoolQC_Tencode|BsmtFinSF2', 'LotConfig_Tencode|KitchenQual_Tencode', 'PavedDrive_Tencode|YearBuilt_Tencode', 'GarageQual_Tencode|BsmtExposure_Tencode', 'MasVnrType_Tencode|TotRmsAbvGrd', 'PavedDrive_Tencode|WoodDeckSF', 'Street_Tencode|KitchenQual_Tencode', 'WoodDeckSF|ExterCond_Tencode', 'GarageType_Tencode|Exterior2nd_Tencode', 'BldgType_Tencode|Neighborhood_Tencode', 'BedroomAbvGr|LandSlope_Tencode', 'CentralAir_Tencode|MasVnrType_Tencode', 'BsmtCond_Tencode|LotShape_Tencode', 'BsmtFinSF1|Exterior2nd_Tencode', 'Condition2_Tencode|YearBuilt_Tencode', 'HeatingQC_Tencode|Electrical_Tencode', 'YrSold_Tencode|OverallCond_Tencode', 'Condition1_Tencode|BsmtUnfSF', 'GarageFinish_Tencode|TotalBsmtSF', 'HalfBath|YearBuilt_Tencode', 'MSSubClass_Tencode|FireplaceQu_Tencode', 'MasVnrArea|LandSlope_Tencode', 'BsmtHalfBath|YearBuilt_Tencode', 'GarageArea|SaleType_Tencode', 'Heating_Tencode|Functional_Tencode', 'OpenPorchSF|GarageCond_Tencode', 'LandContour_Tencode|GarageCond_Tencode', '1stFlrSF|BsmtQual_Tencode', '2ndFlrSF|LandSlope_Tencode', 'HeatingQC_Tencode|BsmtQual_Tencode', 'LotArea|Exterior1st_Tencode', 'Fence_Tencode', 'BsmtUnfSF|BsmtCond_Tencode', 'Fence_Tencode|GarageQual_Tencode', 'LotShape_Tencode|Neighborhood_Tencode', 'GarageFinish_Tencode|PoolQC_Tencode', 'Condition1_Tencode|EnclosedPorch', 'LotArea|GarageCars', 'GarageCars|BldgType_Tencode', 'MiscFeature_Tencode|LotConfig_Tencode', 'MasVnrArea|Foundation_Tencode', 'LandContour_Tencode|Foundation_Tencode', 'ExterCond_Tencode|HouseStyle_Tencode', 'BldgType_Tencode|LotFrontage', 'Heating_Tencode|EnclosedPorch', 'GarageCond_Tencode|Utilities_Tencode', 'HeatingQC_Tencode|GrLivArea', 'Utilities_Tencode|MoSold_Tencode', 'ScreenPorch|Exterior2nd_Tencode', 'Heating_Tencode|Neighborhood_Tencode', 'OverallCond_Tencode|WoodDeckSF', 'YearBuilt_Tencode|BsmtFinSF2', 'ExterQual_Tencode', 'CentralAir_Tencode|BldgType_Tencode', 'FullBath|Fireplaces', 'GarageYrBltBins_Tencode|RoofMatl_Tencode', 'Street_Tencode|Exterior2nd_Tencode', 'LandContour_Tencode|WoodDeckSF', 'OverallQual_Tencode|BsmtQual_Tencode', 'LotArea|Fence_Tencode', 'GarageFinish_Tencode|Alley_Tencode', 'GarageYrBlt|1stFlrSF', 'Foundation_Tencode|MoSold_Tencode', 'BsmtCond_Tencode|YearRemodAdd_Tencode', 'BsmtUnfSF', 'CentralAir_Tencode|Alley_Tencode', 'OpenPorchSF|SaleType_Tencode', 'GarageYrBlt|GarageArea', 'MasVnrArea|Electrical_Tencode', 'OpenPorchSF|Condition1_Tencode', 'Street_Tencode|GarageYrBltBins_Tencode', 'Exterior1st_Tencode|GarageArea', 'LotShape_Tencode|GarageType_Tencode', 'YearRemodAdd_Tencode|PoolQC_Tencode', 'Id|BsmtExposure_Tencode', 'BsmtCond_Tencode', 'BsmtFinType1_Tencode|GrLivArea', 'FullBath|BsmtFinType1_Tencode', 'BsmtFullBath', 'BedroomAbvGr|BsmtExposure_Tencode', 'LotShape_Tencode|MasVnrType_Tencode', 'MasVnrArea|FireplaceQu_Tencode', 'Fence_Tencode|ExterQual_Tencode', 'Id|PoolQC_Tencode', 'MiscFeature_Tencode|Alley_Tencode', 'HalfBath|YearRemodAdd_Tencode', 'WoodDeckSF|SaleType_Tencode', 'BsmtUnfSF|BsmtFinSF1', 'GarageQual_Tencode|YearBuilt_Tencode', 'ExterQual_Tencode|GarageType_Tencode', 'GarageYrBlt|GarageQual_Tencode', '1stFlrSF|MasVnrType_Tencode', 'Street_Tencode|Exterior1st_Tencode', 'BsmtFinType2_Tencode', 'Neighborhood_Tencode|GarageType_Tencode', 'MSSubClass_Tencode|BsmtFinSF1', 'BsmtQual_Tencode|BsmtExposure_Tencode', 'BsmtHalfBath|ExterQual_Tencode', 'Foundation_Tencode|KitchenQual_Tencode', 'SaleType_Tencode|BsmtQual_Tencode', 'Condition2_Tencode|BsmtQual_Tencode', 'OverallQual_Tencode|Fireplaces', 'OverallCond_Tencode|LotFrontage', 'GarageQual_Tencode|MasVnrType_Tencode', 'GarageQual_Tencode|KitchenQual_Tencode', 'LotArea|Functional_Tencode', 'GarageArea|MiscFeature_Tencode', 'BsmtCond_Tencode|PoolQC_Tencode', 'OverallQual_Tencode|Neighborhood_Tencode', 'Exterior2nd_Tencode|PoolQC_Tencode', 'MoSold_Tencode|LotFrontage', 'GrLivArea|GarageType_Tencode', 'CentralAir_Tencode|Id', 'GarageCars|BsmtCond_Tencode', 'PavedDrive_Tencode|Fireplaces', 'BedroomAbvGr|TotRmsAbvGrd', 'ScreenPorch|2ndFlrSF', 'Street_Tencode|MiscFeature_Tencode', 'LowQualFinSF|LotFrontage', 'GarageArea|Electrical_Tencode', 'BsmtHalfBath|GarageArea', 'GarageCars|HouseStyle_Tencode', 'EnclosedPorch|ExterCond_Tencode', 'SaleType_Tencode|Alley_Tencode', 'LotArea|YearRemodAdd_Tencode', 'ScreenPorch|Electrical_Tencode', 'GrLivArea|Alley_Tencode', 'LowQualFinSF|GrLivArea', 'YrSold_Tencode|GarageCars', 'Condition1_Tencode|WoodDeckSF', 'ExterQual_Tencode|ExterCond_Tencode', 'BsmtFullBath|BsmtFinSF1', 'BldgType_Tencode|Functional_Tencode', 'HeatingQC_Tencode|FullBath', 'Neighborhood_Tencode|BsmtExposure_Tencode', 'MSZoning_Tencode|BsmtFinType1_Tencode', 'LotShape_Tencode|BsmtExposure_Tencode', 'MSZoning_Tencode|BsmtFinSF2', 'OpenPorchSF', 'KitchenAbvGr|Foundation_Tencode', 'MasVnrType_Tencode|BsmtExposure_Tencode', 'YrSold_Tencode|3SsnPorch', 'Fence_Tencode|Electrical_Tencode', 'Exterior1st_Tencode|GarageCond_Tencode', 'BsmtCond_Tencode|SaleCondition_Tencode', 'Utilities_Tencode|EnclosedPorch', 'MasVnrArea|MasVnrType_Tencode', 'KitchenQual_Tencode|HouseStyle_Tencode', 'BsmtFinType2_Tencode|BsmtExposure_Tencode', 'BsmtHalfBath|2ndFlrSF', 'Fireplaces|HalfBath', 'FireplaceQu_Tencode|YearBuilt_Tencode', 'OverallCond_Tencode|BsmtQual_Tencode', 'Street_Tencode|MasVnrType_Tencode', 'ScreenPorch|BsmtFinType2_Tencode', 'GarageFinish_Tencode|FullBath', 'GarageCars|TotRmsAbvGrd', 'LowQualFinSF|Id', 'LotArea|Condition2_Tencode', 'FireplaceQu_Tencode|BsmtFinType1_Tencode', 'BsmtFinType1_Tencode|LotFrontage', 'Fence_Tencode|RoofStyle_Tencode', 'MSSubClass_Tencode|GrLivArea', 'TotalBsmtSF|LandSlope_Tencode', 'BldgType_Tencode|HeatingQC_Tencode', 'Id|Utilities_Tencode', 'GarageFinish_Tencode|BedroomAbvGr', 'Condition1_Tencode|GarageFinish_Tencode', 'MSZoning_Tencode|Functional_Tencode', 'Condition1_Tencode|Foundation_Tencode', 'BsmtHalfBath|MasVnrType_Tencode', 'LowQualFinSF|BsmtQual_Tencode', 'KitchenAbvGr|ExterCond_Tencode', 'HouseStyle_Tencode|PoolQC_Tencode', 'GarageYrBlt|KitchenQual_Tencode', 'GarageYrBltBins_Tencode', 'Foundation_Tencode|LotShape_Tencode', 'GarageCond_Tencode|SaleType_Tencode', 'GarageCond_Tencode|Neighborhood_Tencode', 'KitchenAbvGr|BsmtFinSF1', 'BsmtHalfBath|LowQualFinSF', 'GarageFinish_Tencode|BsmtFinType1_Tencode', 'Utilities_Tencode|1stFlrSF', 'RoofMatl_Tencode|BsmtFinSF2', 'BsmtFullBath|OverallCond_Tencode', 'GarageYrBlt|HeatingQC_Tencode', '2ndFlrSF|BsmtExposure_Tencode', 'EnclosedPorch|BsmtFinSF1', 'OverallQual_Tencode|RoofStyle_Tencode', 'ExterQual_Tencode|MiscFeature_Tencode', 'GarageCond_Tencode|BsmtFinType1_Tencode', 'Fence_Tencode|Fireplaces', 'GarageYrBlt|EnclosedPorch', 'GrLivArea|LotFrontage', 'BsmtQual_Tencode|Functional_Tencode', 'BsmtHalfBath|SaleCondition_Tencode', 'GarageCars|BsmtExposure_Tencode', 'BsmtUnfSF|HouseStyle_Tencode', 'BsmtCond_Tencode|KitchenQual_Tencode', 'MasVnrArea|HalfBath', 'Fence_Tencode|LotFrontage', 'Functional_Tencode', 'MSZoning_Tencode|GarageFinish_Tencode', 'YrSold_Tencode|LotFrontage', '3SsnPorch|WoodDeckSF', 'OpenPorchSF|BsmtFinSF1', 'GarageFinish_Tencode|BsmtFinSF2', 'OverallQual_Tencode|EnclosedPorch', 'YrSold_Tencode', 'SaleType_Tencode|1stFlrSF', 'LotArea', 'OverallCond_Tencode|ExterCond_Tencode', '3SsnPorch|BsmtUnfSF', 'YrSold_Tencode|BsmtFullBath', 'Exterior1st_Tencode|BsmtFinSF1', 'LotArea|MiscFeature_Tencode', 'OpenPorchSF|BldgType_Tencode', '1stFlrSF|Functional_Tencode', 'LandContour_Tencode|GarageYrBltBins_Tencode', '1stFlrSF|LotFrontage', 'GarageCars|Heating_Tencode', 'ExterQual_Tencode|PoolQC_Tencode', 'GarageCars|SaleCondition_Tencode', 'MasVnrArea|GarageCond_Tencode', 'Exterior1st_Tencode|LotFrontage', 'GarageYrBlt|GrLivArea', 'FireplaceQu_Tencode|MasVnrType_Tencode', 'WoodDeckSF|BsmtFinSF2', 'MSZoning_Tencode|FireplaceQu_Tencode', 'ScreenPorch|BedroomAbvGr', 'Street_Tencode|Functional_Tencode', 'OpenPorchSF|YearRemodAdd_Tencode', 'BsmtUnfSF|BsmtFinType2_Tencode', 'LotArea|ExterCond_Tencode', 'Alley_Tencode|RoofMatl_Tencode', 'WoodDeckSF|HouseStyle_Tencode', 'Exterior1st_Tencode|FullBath', 'BsmtCond_Tencode|LowQualFinSF', 'BsmtQual_Tencode|YearBuilt_Tencode', 'Fence_Tencode|HeatingQC_Tencode', 'GarageFinish_Tencode|Electrical_Tencode', 'GarageArea|1stFlrSF', 'LandSlope_Tencode|Neighborhood_Tencode', 'TotalBsmtSF|LotShape_Tencode', 'HeatingQC_Tencode|BsmtFinSF1', 'GarageCond_Tencode|GarageFinish_Tencode', 'LandSlope_Tencode|YearRemodAdd_Tencode', 'BsmtHalfBath|Functional_Tencode', 'YrSold_Tencode|PoolQC_Tencode', 'OverallCond_Tencode|FireplaceQu_Tencode', 'RoofMatl_Tencode|YearBuilt_Tencode', '3SsnPorch|Electrical_Tencode', 'MasVnrArea|GarageArea', 'BsmtHalfBath|WoodDeckSF', 'GarageCars|BsmtFullBath', 'HeatingQC_Tencode|KitchenQual_Tencode', 'BsmtFinType1_Tencode|Fireplaces', 'GarageCond_Tencode|OverallQual_Tencode', 'Exterior1st_Tencode|GarageYrBltBins_Tencode', 'GarageYrBltBins_Tencode|PoolQC_Tencode', 'FullBath|Functional_Tencode', 'BsmtQual_Tencode|TotRmsAbvGrd', 'BsmtFullBath|GrLivArea', 'LandContour_Tencode|LotShape_Tencode', 'BsmtFullBath|Fence_Tencode', 'GarageArea|BsmtFinType2_Tencode', 'WoodDeckSF|TotRmsAbvGrd', 'SaleCondition_Tencode|GarageYrBltBins_Tencode', 'Foundation_Tencode|Neighborhood_Tencode', 'OverallQual_Tencode|GrLivArea', 'ExterCond_Tencode|GarageYrBltBins_Tencode', 'FireplaceQu_Tencode', 'GarageArea|Functional_Tencode', 'LotArea|BsmtFinSF2', 'LotArea|GarageArea', 'WoodDeckSF|MiscVal', 'KitchenAbvGr|ExterQual_Tencode', 'Utilities_Tencode|Fireplaces', 'WoodDeckSF|MoSold_Tencode', 'YearRemodAdd_Tencode|GarageType_Tencode', 'Id|HalfBath', 'ExterQual_Tencode|KitchenQual_Tencode', 'MSSubClass_Tencode|KitchenQual_Tencode', 'Condition2_Tencode|LotFrontage', '3SsnPorch|GarageCond_Tencode', 'RoofStyle_Tencode|HouseStyle_Tencode', 'Fence_Tencode|GrLivArea', 'WoodDeckSF|1stFlrSF', 'PoolArea|TotRmsAbvGrd', 'TotalBsmtSF|GarageQual_Tencode', 'MoSold_Tencode|Functional_Tencode', 'TotalBsmtSF|RoofStyle_Tencode', 'Street_Tencode|PavedDrive_Tencode', 'TotalBsmtSF|Electrical_Tencode', '2ndFlrSF|GarageQual_Tencode', 'OverallCond_Tencode|EnclosedPorch', 'Street_Tencode|RoofStyle_Tencode', 'MSSubClass_Tencode|EnclosedPorch', 'BsmtFinType2_Tencode|BedroomAbvGr', 'BsmtHalfBath|Fireplaces', 'FireplaceQu_Tencode|BsmtCond_Tencode', 'TotalBsmtSF|LotFrontage', 'GarageYrBlt|ScreenPorch', 'BsmtUnfSF|RoofMatl_Tencode', 'BsmtFinType2_Tencode|YearRemodAdd_Tencode', 'ExterQual_Tencode|BsmtExposure_Tencode', 'FireplaceQu_Tencode|LowQualFinSF', 'MSSubClass_Tencode|BsmtCond_Tencode', 'Exterior1st_Tencode|RoofMatl_Tencode', 'LotArea|CentralAir_Tencode', 'RoofStyle_Tencode|BsmtQual_Tencode', 'Street_Tencode|BsmtFinType2_Tencode', 'BsmtFullBath|LandSlope_Tencode', 'FireplaceQu_Tencode|LotFrontage', 'FireplaceQu_Tencode|Heating_Tencode', 'Id|MiscVal', 'FullBath', '2ndFlrSF|BsmtFinSF1', 'Alley_Tencode|BsmtExposure_Tencode', 'OverallQual_Tencode|BsmtFinSF1', 'OverallQual_Tencode|MiscVal', '2ndFlrSF|1stFlrSF', 'FireplaceQu_Tencode|LotConfig_Tencode', 'BsmtCond_Tencode|BedroomAbvGr', 'YrSold_Tencode|BsmtCond_Tencode', 'SaleCondition_Tencode|BsmtFinSF1', 'EnclosedPorch|WoodDeckSF', 'Id|EnclosedPorch', 'GarageArea|Utilities_Tencode', 'PavedDrive_Tencode|Electrical_Tencode', 'GarageCond_Tencode|MiscVal', 'Foundation_Tencode|HeatingQC_Tencode', 'PavedDrive_Tencode|TotRmsAbvGrd', 'MiscFeature_Tencode|KitchenQual_Tencode', 'MSZoning_Tencode|EnclosedPorch', 'LandContour_Tencode|Alley_Tencode', 'LotArea|HouseStyle_Tencode', 'PavedDrive_Tencode|BsmtQual_Tencode', 'MSZoning_Tencode|ExterQual_Tencode', 'PavedDrive_Tencode|EnclosedPorch', 'OpenPorchSF|ExterQual_Tencode', 'GarageYrBlt|ExterCond_Tencode', 'KitchenAbvGr|SaleCondition_Tencode', 'SaleCondition_Tencode|BsmtFinSF2', 'Street_Tencode|1stFlrSF', 'GarageFinish_Tencode|WoodDeckSF', 'LandContour_Tencode|GarageArea', 'GrLivArea|Exterior2nd_Tencode', 'MSSubClass_Tencode|Exterior1st_Tencode', 'HeatingQC_Tencode|MasVnrType_Tencode', 'OpenPorchSF|RoofStyle_Tencode', 'MasVnrArea|BsmtFinType1_Tencode', 'TotalBsmtSF', 'BsmtUnfSF|Neighborhood_Tencode', 'YearRemodAdd', 'Street_Tencode|2ndFlrSF', 'GarageQual_Tencode|RoofStyle_Tencode', 'Exterior1st_Tencode|LotShape_Tencode', 'Heating_Tencode|BsmtExposure_Tencode', 'MasVnrArea|KitchenQual_Tencode', 'MSSubClass_Tencode|TotRmsAbvGrd', 'GarageCond_Tencode|LotConfig_Tencode', 'BsmtCond_Tencode|BsmtFinSF2', 'BedroomAbvGr|YearRemodAdd_Tencode', 'LowQualFinSF|LandSlope_Tencode', 'BldgType_Tencode|Condition2_Tencode', 'GarageYrBlt|LotShape_Tencode', 'BsmtFinType2_Tencode|GarageType_Tencode', 'MoSold_Tencode|HouseStyle_Tencode', 'Utilities_Tencode|GrLivArea', 'ExterQual_Tencode|LowQualFinSF', 'SaleCondition_Tencode|LotConfig_Tencode', 'HeatingQC_Tencode|MiscVal', 'ExterQual_Tencode|LandSlope_Tencode', 'Foundation_Tencode|GarageQual_Tencode', 'BsmtUnfSF|1stFlrSF', 'LowQualFinSF|BsmtFinType1_Tencode', 'SaleCondition_Tencode|LotFrontage', 'OpenPorchSF|BsmtFinSF2', 'Utilities_Tencode|HouseStyle_Tencode', 'ExterQual_Tencode|RoofStyle_Tencode', 'SaleCondition_Tencode|BsmtFinType1_Tencode', 'MasVnrArea|3SsnPorch', 'MoSold_Tencode|ExterCond_Tencode', 'PoolArea|HalfBath', 'LandContour_Tencode|ScreenPorch', 'Foundation_Tencode|TotRmsAbvGrd', 'ExterQual_Tencode|SaleType_Tencode', 'MSSubClass_Tencode|GarageType_Tencode', 'GarageCars|LowQualFinSF', 'Condition1_Tencode|YearBuilt_Tencode', 'MSSubClass_Tencode|LotConfig_Tencode', 'BsmtHalfBath|BsmtFinSF2', 'Foundation_Tencode|BedroomAbvGr', 'LotShape_Tencode|LotConfig_Tencode', 'SaleCondition_Tencode|Exterior2nd_Tencode', 'BsmtExposure_Tencode', 'OpenPorchSF|1stFlrSF', 'TotalBsmtSF|HouseStyle_Tencode', 'BldgType_Tencode|BsmtFinSF2', 'Foundation_Tencode|Electrical_Tencode', 'BedroomAbvGr|GarageQual_Tencode', 'GarageCond_Tencode|RoofStyle_Tencode', 'BsmtFullBath|BedroomAbvGr', 'Id|BsmtFinSF1', 'BsmtHalfBath|GarageCond_Tencode', 'LandContour_Tencode|Electrical_Tencode', 'PoolArea|FireplaceQu_Tencode', 'GarageYrBlt|Condition1_Tencode', 'MSZoning_Tencode|GarageArea', 'ScreenPorch|MoSold_Tencode', 'ScreenPorch|MSZoning_Tencode', 'LandContour_Tencode|BedroomAbvGr', 'GarageYrBlt|LandSlope_Tencode', 'KitchenAbvGr|Neighborhood_Tencode', 'OverallCond_Tencode|YearRemodAdd_Tencode', '2ndFlrSF|LotShape_Tencode', 'Fence_Tencode|WoodDeckSF', 'GarageCond_Tencode|OverallCond_Tencode', 'GarageFinish_Tencode|HeatingQC_Tencode', 'TotalBsmtSF|GarageType_Tencode', 'OverallQual_Tencode|KitchenQual_Tencode', 'GarageQual_Tencode|ExterCond_Tencode', 'YearBuilt_Tencode|Functional_Tencode', 'Fence_Tencode|HalfBath', 'Condition2_Tencode|TotRmsAbvGrd', 'Fence_Tencode|MoSold_Tencode', 'Alley_Tencode|LotConfig_Tencode', 'PoolArea', 'GarageArea|BedroomAbvGr', 'CentralAir_Tencode|1stFlrSF', 'GarageCars|Functional_Tencode', 'Condition2_Tencode|MiscVal', 'Condition2_Tencode|GarageArea', 'ExterQual_Tencode|Functional_Tencode', 'GarageQual_Tencode|GarageType_Tencode', 'BsmtHalfBath|MiscFeature_Tencode', 'Id|MoSold_Tencode', 'MSSubClass_Tencode|ExterQual_Tencode', 'BldgType_Tencode|HouseStyle_Tencode', 'SaleCondition_Tencode|LotShape_Tencode', 'GarageQual_Tencode|Neighborhood_Tencode', 'LowQualFinSF|Functional_Tencode', 'BsmtCond_Tencode|GarageQual_Tencode', 'MSZoning_Tencode|GarageType_Tencode', 'GarageCond_Tencode|BsmtFinSF2', 'Condition1_Tencode|BsmtFinType2_Tencode', 'MSZoning_Tencode|OverallQual_Tencode', 'BsmtHalfBath|Utilities_Tencode', 'LotShape_Tencode|TotRmsAbvGrd', 'PoolArea|GarageFinish_Tencode', 'MasVnrArea|HeatingQC_Tencode', 'YrSold_Tencode|Id', 'ScreenPorch|FireplaceQu_Tencode', 'MSSubClass_Tencode|BedroomAbvGr', 'BsmtFinType2_Tencode|GrLivArea', 'CentralAir_Tencode|RoofStyle_Tencode', 'MSSubClass_Tencode|BldgType_Tencode', 'YrSold_Tencode|EnclosedPorch', '1stFlrSF|LotShape_Tencode', 'LowQualFinSF|ExterCond_Tencode', 'KitchenQual_Tencode|MiscVal', 'PavedDrive_Tencode|SaleCondition_Tencode', 'BsmtFullBath|SaleType_Tencode', 'BsmtFullBath|Exterior2nd_Tencode', 'KitchenQual_Tencode|BsmtExposure_Tencode', 'CentralAir_Tencode|Functional_Tencode', 'BsmtCond_Tencode|ExterCond_Tencode', 'Foundation_Tencode|WoodDeckSF', 'GarageYrBlt|MSSubClass_Tencode', 'BsmtFinType1_Tencode|YearBuilt_Tencode', 'Electrical_Tencode|KitchenQual_Tencode', 'PavedDrive_Tencode|Alley_Tencode', 'BsmtFullBath|OpenPorchSF', 'PoolArea|Id', '3SsnPorch|YearBuilt_Tencode', 'BsmtCond_Tencode|Exterior2nd_Tencode', 'HouseStyle_Tencode|Functional_Tencode', 'HeatingQC_Tencode|LotFrontage', 'Foundation_Tencode|GarageType_Tencode', 'GarageQual_Tencode|BsmtFinSF2', 'Fence_Tencode|3SsnPorch', 'Foundation_Tencode|Exterior2nd_Tencode', 'OverallCond_Tencode|BsmtFinSF2', 'CentralAir_Tencode|KitchenAbvGr', 'CentralAir_Tencode|BsmtFinType1_Tencode', 'ScreenPorch|BsmtCond_Tencode', 'PoolArea|GarageQual_Tencode', 'PavedDrive_Tencode|3SsnPorch', 'GrLivArea|LandSlope_Tencode', 'OpenPorchSF|BsmtFinType1_Tencode', 'LotArea|Street_Tencode', 'LandContour_Tencode|GrLivArea', 'CentralAir_Tencode|Street_Tencode', 'MasVnrArea|BldgType_Tencode', 'GarageYrBlt|GarageYrBltBins_Tencode', 'Condition2_Tencode|YearRemodAdd_Tencode', 'FireplaceQu_Tencode|LotShape_Tencode', 'LotArea|GarageQual_Tencode', 'Utilities_Tencode|LotConfig_Tencode', 'SaleCondition_Tencode|GrLivArea', 'BsmtFinType2_Tencode|Fireplaces', 'MoSold_Tencode|BsmtExposure_Tencode', 'KitchenAbvGr|Utilities_Tencode', 'BldgType_Tencode|BedroomAbvGr', '2ndFlrSF|BsmtFinSF2', 'Condition2_Tencode|LotShape_Tencode', 'GarageCond_Tencode|GarageArea', 'Street_Tencode|ExterQual_Tencode', 'RoofStyle_Tencode|Functional_Tencode', 'ExterQual_Tencode|Alley_Tencode', 'Condition2_Tencode|WoodDeckSF', 'LowQualFinSF|PoolQC_Tencode', 'RoofStyle_Tencode|LandSlope_Tencode', 'BsmtFinType1_Tencode|GarageQual_Tencode', 'BsmtUnfSF|GarageFinish_Tencode', '3SsnPorch|BsmtQual_Tencode', 'EnclosedPorch|TotRmsAbvGrd', 'BldgType_Tencode|Utilities_Tencode', 'BsmtUnfSF|SaleType_Tencode', 'MiscFeature_Tencode|GrLivArea', 'KitchenAbvGr|BsmtCond_Tencode', 'BsmtHalfBath|RoofStyle_Tencode', 'BldgType_Tencode|Id', 'PavedDrive_Tencode|KitchenQual_Tencode', 'Condition2_Tencode|Fireplaces', 'EnclosedPorch|SaleType_Tencode', 'OverallQual_Tencode|PoolQC_Tencode', 'MasVnrType_Tencode|BsmtFinSF2', 'Fence_Tencode|EnclosedPorch', 'LandContour_Tencode|GarageQual_Tencode', 'Exterior2nd_Tencode|MiscVal', 'BldgType_Tencode|BsmtUnfSF', 'MSSubClass_Tencode|YearRemodAdd_Tencode', 'Electrical_Tencode|GarageYrBltBins_Tencode', 'GarageType_Tencode|PoolQC_Tencode', '1stFlrSF|GarageType_Tencode', 'SaleType_Tencode|GarageType_Tencode', 'OpenPorchSF|FireplaceQu_Tencode', 'ExterCond_Tencode|LandSlope_Tencode', 'MSSubClass_Tencode|Condition2_Tencode', 'OverallCond_Tencode|LotShape_Tencode', 'PoolArea|MasVnrType_Tencode', 'SaleCondition_Tencode|HouseStyle_Tencode', 'MoSold_Tencode|MiscVal', 'OpenPorchSF|FullBath', 'ScreenPorch|BsmtHalfBath', '2ndFlrSF|Exterior1st_Tencode', 'YrSold_Tencode|GrLivArea', 'BsmtHalfBath|Condition2_Tencode', 'GarageCars|OverallQual_Tencode', 'KitchenAbvGr|Functional_Tencode', 'LotShape_Tencode|BsmtQual_Tencode', 'BsmtCond_Tencode|YearBuilt_Tencode', 'MSSubClass_Tencode|1stFlrSF', 'FireplaceQu_Tencode|Neighborhood_Tencode', 'LandContour_Tencode|BldgType_Tencode', 'BsmtFullBath|FireplaceQu_Tencode', 'KitchenAbvGr|GarageYrBltBins_Tencode', 'LotArea|BldgType_Tencode', 'Condition2_Tencode|GarageQual_Tencode', 'GarageFinish_Tencode|LandSlope_Tencode', 'BsmtHalfBath|GarageYrBltBins_Tencode', 'Fireplaces|GarageYrBltBins_Tencode', 'Neighborhood_Tencode|TotRmsAbvGrd', 'YrSold_Tencode|YearBuilt_Tencode', 'RoofStyle_Tencode|BsmtFinSF2', 'GarageYrBlt|Heating_Tencode', 'Condition1_Tencode|BsmtFinType1_Tencode', 'SaleCondition_Tencode|MoSold_Tencode', 'GarageFinish_Tencode|KitchenQual_Tencode', 'BldgType_Tencode|GarageFinish_Tencode', 'WoodDeckSF|GarageYrBltBins_Tencode', 'LowQualFinSF|MiscFeature_Tencode', 'MSSubClass_Tencode|ExterCond_Tencode', 'MoSold_Tencode|LotConfig_Tencode', 'Condition2_Tencode|FullBath', 'TotalBsmtSF|1stFlrSF', 'HouseStyle_Tencode|BsmtExposure_Tencode', 'HeatingQC_Tencode|EnclosedPorch', 'MSZoning_Tencode|Fireplaces', 'GarageCond_Tencode|GarageQual_Tencode', 'FireplaceQu_Tencode|1stFlrSF', 'Neighborhood_Tencode|YearBuilt_Tencode', 'ScreenPorch|LotFrontage', 'PavedDrive_Tencode|MiscFeature_Tencode', 'SaleType_Tencode|RoofStyle_Tencode', 'ExterCond_Tencode|MasVnrType_Tencode', 'KitchenAbvGr|MSSubClass_Tencode', 'OverallCond_Tencode|Alley_Tencode', 'CentralAir_Tencode|Neighborhood_Tencode', 'BsmtFinSF2', 'OverallCond_Tencode|LotConfig_Tencode', 'GarageQual_Tencode|LandSlope_Tencode', 'MSSubClass_Tencode|GarageArea', 'GarageCars|BsmtFinType2_Tencode', 'GarageCars|ScreenPorch', 'GarageCars|LotConfig_Tencode', 'ExterQual_Tencode|TotalBsmtSF', 'OverallQual_Tencode|FullBath', 'EnclosedPorch|BsmtExposure_Tencode', 'MasVnrArea|TotRmsAbvGrd', 'FireplaceQu_Tencode|RoofMatl_Tencode', 'ExterCond_Tencode|PoolQC_Tencode', 'EnclosedPorch|PoolQC_Tencode', 'BedroomAbvGr|MiscVal', 'Utilities_Tencode|Alley_Tencode', 'KitchenAbvGr|MSZoning_Tencode', 'BsmtQual_Tencode|GarageYrBltBins_Tencode', 'Exterior1st_Tencode|LowQualFinSF', 'Id|MasVnrType_Tencode', 'BsmtFullBath|BldgType_Tencode', 'FireplaceQu_Tencode|Functional_Tencode', 'KitchenAbvGr|LotShape_Tencode', 'Fireplaces|YearRemodAdd_Tencode', 'MasVnrArea|Utilities_Tencode', 'OverallQual_Tencode', 'Foundation_Tencode|Alley_Tencode', '2ndFlrSF|BsmtUnfSF', 'BedroomAbvGr|Fireplaces', 'LotShape_Tencode|HouseStyle_Tencode', 'KitchenQual_Tencode|MasVnrType_Tencode', 'WoodDeckSF|LotFrontage', 'MSZoning_Tencode|MSSubClass_Tencode', 'Condition1_Tencode|HalfBath', 'FireplaceQu_Tencode|BedroomAbvGr', 'Condition1_Tencode|OverallCond_Tencode', 'BldgType_Tencode|OverallQual_Tencode', 'OpenPorchSF|TotRmsAbvGrd', 'BsmtHalfBath|OverallQual_Tencode', 'BsmtCond_Tencode|TotalBsmtSF', 'MiscFeature_Tencode|MiscVal', 'LandContour_Tencode|GarageType_Tencode', '2ndFlrSF|LowQualFinSF', 'BsmtFullBath|Id', 'LotArea|MiscVal', 'FullBath|ExterCond_Tencode', 'LotArea|Fireplaces', 'PoolArea|Functional_Tencode', 'MasVnrArea|PoolQC_Tencode', 'LotArea|FullBath', 'Fence_Tencode|MasVnrType_Tencode', 'GrLivArea|YearRemodAdd_Tencode', 'LowQualFinSF|Exterior2nd_Tencode', '1stFlrSF|Neighborhood_Tencode', 'LotShape_Tencode|HalfBath', 'Utilities_Tencode|Electrical_Tencode', 'ExterQual_Tencode|LotShape_Tencode', 'MSSubClass_Tencode', 'ExterQual_Tencode|HeatingQC_Tencode', '1stFlrSF|RoofMatl_Tencode', 'GarageYrBltBins_Tencode|TotRmsAbvGrd', 'ExterQual_Tencode|Id', 'BldgType_Tencode', 'BsmtUnfSF|Condition2_Tencode', 'LandContour_Tencode|FullBath', 'GarageCars|ExterCond_Tencode', 'TotalBsmtSF|BsmtExposure_Tencode', 'BsmtCond_Tencode|BsmtFinSF1', 'GarageYrBltBins_Tencode|Functional_Tencode', 'BsmtFullBath|EnclosedPorch', 'BsmtHalfBath|BsmtFinType2_Tencode', 'HeatingQC_Tencode|GarageYrBltBins_Tencode', 'Heating_Tencode|BsmtFinSF2', 'ExterCond_Tencode', '2ndFlrSF|PoolQC_Tencode', 'Condition2_Tencode', 'CentralAir_Tencode|Fence_Tencode', 'KitchenAbvGr|YearRemodAdd_Tencode', 'BsmtFullBath|PoolQC_Tencode', 'BedroomAbvGr|BsmtQual_Tencode', 'Electrical_Tencode|BsmtFinSF2', 'MiscFeature_Tencode|BsmtFinSF1', 'FullBath|Id', 'LotArea|LandSlope_Tencode', 'GarageCars|Neighborhood_Tencode', 'BsmtCond_Tencode|FullBath', 'GarageYrBlt|OpenPorchSF', 'LowQualFinSF|1stFlrSF', 'KitchenAbvGr|HeatingQC_Tencode', 'BsmtHalfBath|GarageQual_Tencode', 'Condition1_Tencode|RoofMatl_Tencode', 'MSZoning_Tencode|GrLivArea', 'YearRemodAdd_Tencode|Functional_Tencode', 'OverallCond_Tencode|KitchenQual_Tencode', 'Foundation_Tencode|GarageYrBltBins_Tencode', 'BsmtUnfSF|Functional_Tencode', 'GarageArea|LotShape_Tencode', 'LotShape_Tencode|BsmtFinSF1', 'Street_Tencode|EnclosedPorch', 'GarageCars|OverallCond_Tencode', 'TotalBsmtSF|MoSold_Tencode', 'BldgType_Tencode|MoSold_Tencode', 'CentralAir_Tencode|SaleType_Tencode', 'FullBath|MiscFeature_Tencode', 'BsmtUnfSF|ExterCond_Tencode', 'Id|ExterCond_Tencode', 'Condition1_Tencode|BsmtFinSF1', 'YrSold_Tencode|MasVnrType_Tencode', 'HeatingQC_Tencode|Neighborhood_Tencode', 'SaleCondition_Tencode|Alley_Tencode', 'BsmtUnfSF|MiscVal', '1stFlrSF|LotConfig_Tencode', 'ScreenPorch|MiscFeature_Tencode', 'Alley_Tencode|HouseStyle_Tencode', 'KitchenAbvGr|FireplaceQu_Tencode', 'MiscFeature_Tencode|YearBuilt_Tencode', 'SaleCondition_Tencode|GarageType_Tencode', 'Street_Tencode|GrLivArea', 'MasVnrArea|BsmtFinSF1', 'PoolArea|OverallQual_Tencode', 'Exterior1st_Tencode|Condition1_Tencode', 'SaleCondition_Tencode|MiscFeature_Tencode', 'HalfBath|GarageType_Tencode', 'BsmtFinType2_Tencode|SaleType_Tencode', 'GarageCars|Electrical_Tencode', 'Condition1_Tencode|GarageCond_Tencode', 'CentralAir_Tencode|MiscFeature_Tencode', 'PoolArea|SaleType_Tencode', 'BsmtFullBath|LotConfig_Tencode', 'ExterQual_Tencode|GarageFinish_Tencode', 'LandContour_Tencode|Id', '2ndFlrSF|LotConfig_Tencode', 'MasVnrArea|EnclosedPorch', 'GarageCars|MoSold_Tencode', 'ExterQual_Tencode|FullBath', 'HeatingQC_Tencode|YearRemodAdd_Tencode', 'MasVnrArea|OverallCond_Tencode', 'HeatingQC_Tencode|RoofMatl_Tencode', 'GarageCond_Tencode|BsmtCond_Tencode', 'PoolArea|KitchenQual_Tencode', 'Neighborhood_Tencode|PoolQC_Tencode', 'Neighborhood_Tencode|YearRemodAdd_Tencode', 'YrSold_Tencode|Street_Tencode', 'Condition1_Tencode|Id', 'LandContour_Tencode|PoolQC_Tencode', 'WoodDeckSF|GrLivArea', 'BsmtFinType2_Tencode|Alley_Tencode', 'MasVnrArea|Condition2_Tencode', 'ScreenPorch|Foundation_Tencode', 'SaleType_Tencode|Electrical_Tencode', 'GarageQual_Tencode|RoofMatl_Tencode', 'MasVnrType_Tencode|MiscVal', 'Foundation_Tencode|Id', 'BsmtFullBath|TotRmsAbvGrd', 'MSSubClass_Tencode|Fireplaces', 'LandSlope_Tencode|Alley_Tencode', 'Fireplaces|LotFrontage', 'MSSubClass_Tencode|Exterior2nd_Tencode', 'Condition2_Tencode|GarageType_Tencode', 'LotArea|BedroomAbvGr', 'BsmtFinType1_Tencode|Functional_Tencode', 'ExterCond_Tencode|Functional_Tencode', 'HeatingQC_Tencode|ExterCond_Tencode', 'CentralAir_Tencode|GarageQual_Tencode', 'BsmtFullBath|PavedDrive_Tencode', 'OpenPorchSF|Foundation_Tencode', 'BsmtFinType2_Tencode|HouseStyle_Tencode', 'Condition2_Tencode|RoofMatl_Tencode', '3SsnPorch|LotConfig_Tencode', 'BsmtUnfSF|KitchenQual_Tencode', 'GarageYrBlt|MasVnrType_Tencode', 'OpenPorchSF|Street_Tencode', 'MSZoning_Tencode|HeatingQC_Tencode', 'LandContour_Tencode|MoSold_Tencode', 'BsmtCond_Tencode|BsmtFinType1_Tencode', '3SsnPorch|SaleType_Tencode', 'Fireplaces|Exterior2nd_Tencode', 'KitchenQual_Tencode|BsmtFinSF2', 'LotConfig_Tencode|MiscVal', 'Id|YearBuilt_Tencode', 'GarageCond_Tencode|LandSlope_Tencode', 'ScreenPorch|GarageArea', 'BedroomAbvGr|LotConfig_Tencode', 'Alley_Tencode|YearBuilt_Tencode', 'BldgType_Tencode|SaleCondition_Tencode', 'LotArea|Condition1_Tencode', 'BsmtHalfBath|Exterior1st_Tencode', 'MasVnrType_Tencode|Functional_Tencode', 'BldgType_Tencode|RoofStyle_Tencode', 'Fence_Tencode|Exterior2nd_Tencode', 'ExterQual_Tencode|Foundation_Tencode', '3SsnPorch|Exterior1st_Tencode', 'OverallQual_Tencode|Electrical_Tencode', 'FireplaceQu_Tencode|SaleType_Tencode', 'PavedDrive_Tencode|ExterCond_Tencode', 'KitchenAbvGr|Id', 'TotalBsmtSF|BsmtFinType1_Tencode', 'Street_Tencode|GarageFinish_Tencode', 'PavedDrive_Tencode|FullBath', 'Condition2_Tencode|BsmtFinSF1', 'Exterior1st_Tencode|ExterCond_Tencode', 'GarageYrBlt|Exterior2nd_Tencode', 'GarageCars|SaleType_Tencode', 'ExterCond_Tencode|HalfBath', 'GarageCars|3SsnPorch', 'ScreenPorch|ExterCond_Tencode', 'ExterCond_Tencode|YearBuilt_Tencode', 'EnclosedPorch|LandSlope_Tencode', 'GarageCars|Fence_Tencode', 'GarageArea|GarageType_Tencode', 'BsmtFullBath|SaleCondition_Tencode', 'KitchenAbvGr|Condition1_Tencode', 'GarageCars|HeatingQC_Tencode', 'Street_Tencode|LandSlope_Tencode', 'PoolQC_Tencode', 'Street_Tencode|SaleCondition_Tencode', 'Condition1_Tencode|TotRmsAbvGrd', 'ExterQual_Tencode|Electrical_Tencode', 'RoofStyle_Tencode|Exterior2nd_Tencode', 'GarageCars|BsmtQual_Tencode', 'YrSold_Tencode|Fireplaces', 'OpenPorchSF|Fence_Tencode', 'Street_Tencode|YearBuilt_Tencode', 'SaleCondition_Tencode|KitchenQual_Tencode', 'YrSold_Tencode|GarageQual_Tencode', '3SsnPorch|GarageArea', 'BsmtUnfSF|RoofStyle_Tencode', 'SaleCondition_Tencode|Electrical_Tencode', 'OpenPorchSF|MSSubClass_Tencode', 'BldgType_Tencode|MasVnrType_Tencode', '2ndFlrSF|Functional_Tencode', 'FireplaceQu_Tencode|LandSlope_Tencode', 'BsmtCond_Tencode|LandSlope_Tencode', 'BldgType_Tencode|Exterior2nd_Tencode', 'LotShape_Tencode|GrLivArea', 'LandContour_Tencode|MiscFeature_Tencode', 'GarageFinish_Tencode|LotShape_Tencode', 'MasVnrType_Tencode', 'ScreenPorch|BsmtFinSF2', 'ExterCond_Tencode|Fireplaces', 'GarageFinish_Tencode|Fireplaces', 'YrSold_Tencode|GarageYrBltBins_Tencode', 'Id|TotRmsAbvGrd', 'LandContour_Tencode|ExterCond_Tencode', 'LotFrontage|BsmtFinSF2', 'Condition1_Tencode|GarageType_Tencode', 'Id|BsmtQual_Tencode', 'Neighborhood_Tencode', 'SaleCondition_Tencode|TotRmsAbvGrd', 'PoolArea|EnclosedPorch', 'LandContour_Tencode|LandSlope_Tencode', 'BsmtFinType1_Tencode|GarageYrBltBins_Tencode', 'OverallQual_Tencode|Heating_Tencode', 'LowQualFinSF|HalfBath', 'RoofStyle_Tencode|LotConfig_Tencode', 'GarageYrBlt|3SsnPorch', 'Fireplaces|HouseStyle_Tencode', '2ndFlrSF|FullBath', 'BldgType_Tencode|LotShape_Tencode', 'ExterQual_Tencode|Exterior1st_Tencode', 'FireplaceQu_Tencode|GrLivArea', 'Street_Tencode|BsmtUnfSF', 'Condition2_Tencode|EnclosedPorch', 'MasVnrArea|MoSold_Tencode', 'LotShape_Tencode|RoofStyle_Tencode', 'Neighborhood_Tencode|Fireplaces', 'LandContour_Tencode|BsmtExposure_Tencode', 'PoolArea|3SsnPorch', 'HeatingQC_Tencode|HalfBath', 'Exterior2nd_Tencode|YearBuilt_Tencode', 'OverallCond_Tencode|BsmtFinSF1', 'Foundation_Tencode|BsmtExposure_Tencode', 'BsmtHalfBath|MSSubClass_Tencode', 'Id|KitchenQual_Tencode', 'ExterQual_Tencode|LotFrontage', 'BsmtFinType2_Tencode|Heating_Tencode', 'HalfBath|MiscVal', 'Condition1_Tencode|LandSlope_Tencode', 'PavedDrive_Tencode|LandContour_Tencode', 'GarageCars|WoodDeckSF', 'BsmtHalfBath|Id', 'Condition1_Tencode|1stFlrSF', 'Heating_Tencode|Utilities_Tencode', 'Condition2_Tencode|Alley_Tencode', 'BsmtFinType2_Tencode|1stFlrSF', '1stFlrSF|PoolQC_Tencode', 'MSSubClass_Tencode|HouseStyle_Tencode', 'Alley_Tencode|YearRemodAdd_Tencode', 'Street_Tencode|BedroomAbvGr', 'PavedDrive_Tencode|MasVnrType_Tencode', 'CentralAir_Tencode|LotShape_Tencode', '2ndFlrSF|BsmtFinType2_Tencode', 'ScreenPorch|Alley_Tencode', 'EnclosedPorch|HalfBath', 'Fence_Tencode|OverallCond_Tencode', 'MasVnrArea|GarageQual_Tencode', 'BsmtCond_Tencode|Functional_Tencode', 'BldgType_Tencode|ExterCond_Tencode', 'Id|YearRemodAdd_Tencode', 'Street_Tencode|HalfBath', 'LotArea|EnclosedPorch', 'GarageCond_Tencode|BsmtExposure_Tencode', 'PoolArea|Electrical_Tencode', 'Utilities_Tencode|Neighborhood_Tencode', 'PoolArea|LotShape_Tencode', 'PavedDrive_Tencode|GarageFinish_Tencode', 'MSZoning_Tencode|Condition1_Tencode', 'PoolArea|Neighborhood_Tencode', '3SsnPorch|MasVnrType_Tencode', 'CentralAir_Tencode|BsmtCond_Tencode', 'MSZoning_Tencode|1stFlrSF', 'LandContour_Tencode|SaleCondition_Tencode', 'BsmtCond_Tencode|RoofStyle_Tencode', 'YrSold_Tencode|BsmtFinSF1', 'MSZoning_Tencode|TotalBsmtSF', 'CentralAir_Tencode|GarageCond_Tencode', 'Street_Tencode|MoSold_Tencode', 'Exterior1st_Tencode|HeatingQC_Tencode', 'BsmtFinType1_Tencode|Electrical_Tencode', 'Exterior1st_Tencode|SaleType_Tencode', 'BedroomAbvGr|HouseStyle_Tencode', 'BsmtQual_Tencode|Fireplaces', 'Fence_Tencode|GarageArea', 'ExterQual_Tencode|BsmtUnfSF', 'MiscFeature_Tencode|Functional_Tencode', 'Electrical_Tencode|LotFrontage', 'OpenPorchSF|HeatingQC_Tencode', 'GrLivArea|Functional_Tencode', 'BsmtFinType2_Tencode|RoofMatl_Tencode', 'PoolArea|RoofStyle_Tencode', 'BedroomAbvGr|Neighborhood_Tencode', 'Fence_Tencode|SaleType_Tencode', 'MasVnrArea|LotFrontage', 'LotArea|SaleCondition_Tencode', 'BsmtUnfSF|MasVnrType_Tencode', 'LotShape_Tencode|YearBuilt_Tencode', 'TotalBsmtSF|GarageArea', 'OpenPorchSF|KitchenAbvGr', 'MSSubClass_Tencode|SaleCondition_Tencode', 'WoodDeckSF', 'ScreenPorch|HalfBath', 'OverallCond_Tencode|HouseStyle_Tencode', 'RoofStyle_Tencode|GarageType_Tencode', 'BedroomAbvGr|PoolQC_Tencode', 'BsmtHalfBath|MSZoning_Tencode', '3SsnPorch|MoSold_Tencode', 'MoSold_Tencode|GrLivArea', 'GarageCars|OpenPorchSF', 'KitchenAbvGr|RoofStyle_Tencode', 'TotalBsmtSF|WoodDeckSF', 'LotArea|HalfBath', 'MasVnrArea|ExterCond_Tencode', 'LotArea|WoodDeckSF', '3SsnPorch|GarageYrBltBins_Tencode', 'BsmtHalfBath|FireplaceQu_Tencode', 'YrSold_Tencode|WoodDeckSF', 'Street_Tencode|BsmtFinType1_Tencode', 'LotArea|OverallCond_Tencode', '3SsnPorch|Neighborhood_Tencode', 'LotArea|RoofMatl_Tencode', 'FireplaceQu_Tencode|Id', 'Exterior2nd_Tencode|BsmtExposure_Tencode', 'BsmtUnfSF|LotConfig_Tencode', 'Condition1_Tencode|GarageYrBltBins_Tencode', 'GarageCond_Tencode|RoofMatl_Tencode', 'Condition2_Tencode|MiscFeature_Tencode', 'LandContour_Tencode|Functional_Tencode', 'MoSold', 'Street_Tencode|GarageCond_Tencode', 'PoolArea|KitchenAbvGr', 'SaleCondition_Tencode|FullBath', 'GarageYrBlt|BsmtFinType1_Tencode', 'MasVnrArea|BsmtUnfSF', 'GarageCars|BsmtFinType1_Tencode', 'GarageCond_Tencode|Id', '1stFlrSF|BsmtFinSF2', 'BsmtFullBath|MSZoning_Tencode', 'TotalBsmtSF|Functional_Tencode', 'PavedDrive_Tencode|GarageQual_Tencode', 'LandContour_Tencode|Utilities_Tencode', 'HalfBath|RoofMatl_Tencode', 'MasVnrArea|LotShape_Tencode', 'Fireplaces|TotRmsAbvGrd', 'Fence_Tencode|BsmtFinSF1', 'GarageYrBltBins_Tencode|BsmtExposure_Tencode', 'CentralAir_Tencode|BsmtUnfSF', 'MasVnrArea|LowQualFinSF', 'TotalBsmtSF|SaleType_Tencode', 'BsmtUnfSF|Fireplaces', 'BsmtFinSF1|Functional_Tencode', 'GarageFinish_Tencode|MasVnrType_Tencode', 'Alley_Tencode|MiscVal', 'Fence_Tencode|Condition2_Tencode', 'HeatingQC_Tencode|PoolQC_Tencode', 'SaleCondition_Tencode|MasVnrType_Tencode', 'TotalBsmtSF|GarageYrBltBins_Tencode', 'BsmtHalfBath|RoofMatl_Tencode', 'Condition1_Tencode|SaleCondition_Tencode', 'GarageCars|MiscVal', 'BsmtFinType1_Tencode|LotConfig_Tencode', 'GarageQual_Tencode|MiscVal', 'Condition1_Tencode|LotFrontage', 'KitchenAbvGr|Exterior2nd_Tencode', 'SaleCondition_Tencode|GarageQual_Tencode', 'FullBath|LandSlope_Tencode', 'BldgType_Tencode|BsmtCond_Tencode', 'SaleCondition_Tencode|LandSlope_Tencode', 'Foundation_Tencode|MiscVal', 'Foundation_Tencode|PoolQC_Tencode', 'Heating_Tencode|Id', '2ndFlrSF|BsmtQual_Tencode', 'LotFrontage|BsmtExposure_Tencode', '2ndFlrSF|Utilities_Tencode', 'GarageYrBltBins_Tencode|YearBuilt_Tencode', 'KitchenAbvGr|MasVnrType_Tencode', 'YrSold_Tencode|BsmtExposure_Tencode', 'YrSold_Tencode|BsmtQual_Tencode', 'SaleCondition_Tencode|HeatingQC_Tencode', 'BsmtUnfSF|BsmtFinType1_Tencode', 'BedroomAbvGr|BsmtFinSF2', 'Fence_Tencode|Foundation_Tencode', 'PoolArea|Condition1_Tencode', 'MasVnrArea|GrLivArea', 'PavedDrive_Tencode|Id', 'YrSold_Tencode|HeatingQC_Tencode', 'MasVnrType_Tencode|RoofMatl_Tencode', 'BsmtFinSF1|Fireplaces', 'GarageFinish_Tencode|BsmtExposure_Tencode', 'OverallCond_Tencode|GarageType_Tencode', 'YrSold_Tencode|Exterior2nd_Tencode', '2ndFlrSF|BedroomAbvGr', 'Fence_Tencode|Condition1_Tencode', 'YrSold', 'GarageCars|Alley_Tencode', 'Heating_Tencode|PoolQC_Tencode', 'MasVnrType_Tencode|HouseStyle_Tencode', 'GarageYrBlt|Fireplaces', 'PavedDrive_Tencode|Neighborhood_Tencode', 'TotalBsmtSF|Exterior2nd_Tencode', 'HeatingQC_Tencode|LotShape_Tencode', 'Exterior1st_Tencode|HouseStyle_Tencode', 'KitchenAbvGr|FullBath', 'BsmtUnfSF|LotFrontage', 'GarageType_Tencode|MiscVal', 'KitchenAbvGr|PoolQC_Tencode', 'GarageCond_Tencode|KitchenQual_Tencode', 'MSZoning_Tencode|BedroomAbvGr', '1stFlrSF|MoSold_Tencode', 'GarageCars|LandContour_Tencode', 'LotShape_Tencode|RoofMatl_Tencode', 'BedroomAbvGr|GarageType_Tencode', 'BedroomAbvGr|ExterCond_Tencode', 'GarageQual_Tencode|PoolQC_Tencode', 'GrLivArea|GarageYrBltBins_Tencode', 'MiscVal|BsmtFinSF2', 'HalfBath|Exterior2nd_Tencode', 'LandSlope_Tencode|Electrical_Tencode', 'Heating_Tencode|YearRemodAdd_Tencode', '1stFlrSF|HalfBath', 'LandContour_Tencode|BsmtFinSF2', 'Fence_Tencode|BsmtQual_Tencode', 'HeatingQC_Tencode|LandSlope_Tencode', 'BsmtFinType2_Tencode|LowQualFinSF', 'CentralAir_Tencode|YearBuilt_Tencode', 'LotArea|Foundation_Tencode', 'SaleType_Tencode|Functional_Tencode', 'LandContour_Tencode|Neighborhood_Tencode', 'BsmtFinSF1|BsmtExposure_Tencode', 'PoolArea|WoodDeckSF', 'OverallCond_Tencode|LandSlope_Tencode', 'Exterior1st_Tencode|MasVnrType_Tencode', 'SaleType_Tencode|Exterior2nd_Tencode', 'LandSlope_Tencode|Functional_Tencode', 'GarageFinish_Tencode|GrLivArea', 'OpenPorchSF|GrLivArea', 'LandContour_Tencode|1stFlrSF', 'SaleType_Tencode|Neighborhood_Tencode', 'GarageCars|KitchenAbvGr', 'Foundation_Tencode|HouseStyle_Tencode', 'GarageCars|Condition2_Tencode', 'GarageYrBlt|LotFrontage', 'BsmtFullBath|ExterCond_Tencode', 'BldgType_Tencode|LotConfig_Tencode', 'MSSubClass_Tencode|RoofStyle_Tencode', 'FireplaceQu_Tencode|GarageArea', 'GarageFinish_Tencode|BsmtQual_Tencode', 'PoolArea|BldgType_Tencode', 'LotFrontage|YearBuilt_Tencode', 'HalfBath|LotFrontage', 'GarageYrBlt|LowQualFinSF', '3SsnPorch|GarageType_Tencode', 'BsmtFullBath|Foundation_Tencode', 'ExterCond_Tencode|Electrical_Tencode', 'MSZoning_Tencode|RoofMatl_Tencode', 'MasVnrType_Tencode|Exterior2nd_Tencode', 'BsmtQual_Tencode|KitchenQual_Tencode', 'ScreenPorch|GarageType_Tencode', 'GarageFinish_Tencode|MoSold_Tencode', 'HalfBath|KitchenQual_Tencode', 'CentralAir_Tencode|2ndFlrSF', 'CentralAir_Tencode|BsmtExposure_Tencode', 'MasVnrArea|GarageFinish_Tencode', 'BsmtQual_Tencode|BsmtFinSF2', 'Condition2_Tencode|Heating_Tencode', 'BsmtFinType2_Tencode|PoolQC_Tencode', 'TotalBsmtSF|BsmtFinSF2', '2ndFlrSF|KitchenQual_Tencode', 'BsmtFullBath|Neighborhood_Tencode', 'LowQualFinSF|Utilities_Tencode', 'MasVnrArea|Street_Tencode', 'Fence_Tencode|FireplaceQu_Tencode', 'GarageArea|HouseStyle_Tencode', 'GarageCars|BsmtFinSF1', 'MSZoning_Tencode|Foundation_Tencode', 'GarageFinish_Tencode|Functional_Tencode', 'MiscFeature_Tencode|LandSlope_Tencode', 'GarageCars|TotalBsmtSF', 'GarageCars|YearBuilt_Tencode', 'LotArea|BsmtHalfBath', 'YrSold_Tencode|LotShape_Tencode', 'OverallQual_Tencode|GarageYrBltBins_Tencode', 'MSZoning_Tencode|MasVnrType_Tencode', 'OverallQual_Tencode|GarageFinish_Tencode', 'GarageQual_Tencode|Exterior2nd_Tencode', 'BsmtFinType2_Tencode|Neighborhood_Tencode', 'LotShape_Tencode|YearRemodAdd_Tencode', 'LotArea|PoolQC_Tencode', 'WoodDeckSF|YearRemodAdd_Tencode', 'LandContour_Tencode|OverallQual_Tencode', '3SsnPorch|Heating_Tencode', 'HeatingQC_Tencode|Utilities_Tencode', 'Exterior1st_Tencode|MiscFeature_Tencode', 'OpenPorchSF|BedroomAbvGr', 'Fence_Tencode|SaleCondition_Tencode', 'LandContour_Tencode|RoofMatl_Tencode', 'PavedDrive_Tencode|PoolQC_Tencode', 'PoolArea|1stFlrSF', 'OpenPorchSF|LotConfig_Tencode', 'BsmtFinType1_Tencode|HouseStyle_Tencode', '2ndFlrSF|RoofMatl_Tencode', 'BedroomAbvGr|Exterior2nd_Tencode', 'PavedDrive_Tencode|Functional_Tencode', 'Exterior1st_Tencode|BsmtUnfSF', 'GarageYrBlt|Id', 'LandContour_Tencode|TotalBsmtSF', 'KitchenAbvGr|Electrical_Tencode', 'ScreenPorch|BsmtFinSF1', 'Condition1_Tencode|BsmtQual_Tencode', 'MSZoning_Tencode|Heating_Tencode', '2ndFlrSF|YearRemodAdd_Tencode', 'OverallQual_Tencode|LowQualFinSF', 'Condition2_Tencode|OverallCond_Tencode', 'OverallCond_Tencode|BedroomAbvGr', 'GrLivArea|HalfBath', 'GarageCond_Tencode|Electrical_Tencode', 'MasVnrArea|Functional_Tencode', 'PavedDrive_Tencode|MiscVal', 'BsmtFinType2_Tencode|KitchenQual_Tencode', 'TotalBsmtSF|YearBuilt_Tencode', 'MSZoning_Tencode|KitchenQual_Tencode', 'ExterQual_Tencode|Utilities_Tencode', 'LowQualFinSF|WoodDeckSF', 'MoSold_Tencode|GarageType_Tencode', '3SsnPorch|2ndFlrSF', 'KitchenQual_Tencode|RoofMatl_Tencode', 'GarageCars|MSZoning_Tencode', 'PoolArea|2ndFlrSF', 'BldgType_Tencode|WoodDeckSF', 'ExterCond_Tencode|Alley_Tencode', 'Condition2_Tencode|LowQualFinSF', 'BldgType_Tencode|FullBath', 'Foundation_Tencode|Functional_Tencode', 'GarageQual_Tencode|TotRmsAbvGrd', 'Condition1_Tencode|BsmtFinSF2', 'PoolArea|BsmtUnfSF', 'BsmtCond_Tencode|GrLivArea', 'MSZoning_Tencode|ExterCond_Tencode', 'BsmtUnfSF|Foundation_Tencode', 'MasVnrArea|OpenPorchSF', 'BsmtFinSF1|HalfBath', 'YearRemodAdd_Tencode|BsmtFinSF2', 'Foundation_Tencode|LotFrontage', 'BsmtFinType1_Tencode|MiscVal', 'Fireplaces', 'Utilities_Tencode|YearBuilt_Tencode', 'BsmtCond_Tencode|RoofMatl_Tencode', 'TotalBsmtSF|RoofMatl_Tencode', 'Id|LotShape_Tencode', 'WoodDeckSF|MiscFeature_Tencode', 'MasVnrArea|Exterior2nd_Tencode', 'MiscVal|YearBuilt_Tencode', 'OverallCond_Tencode|BsmtExposure_Tencode', 'FullBath|PoolQC_Tencode', 'FireplaceQu_Tencode|MiscFeature_Tencode', 'SaleCondition_Tencode|Id', 'BsmtFinType1_Tencode|PoolQC_Tencode', 'GarageYrBlt|HalfBath', '1stFlrSF|YearBuilt_Tencode', 'MoSold_Tencode|Exterior2nd_Tencode', 'PavedDrive_Tencode|BsmtHalfBath', 'Electrical_Tencode|RoofMatl_Tencode', 'GrLivArea|HouseStyle_Tencode', 'MSSubClass_Tencode|MiscFeature_Tencode', 'MSSubClass_Tencode|LandSlope_Tencode', 'MSZoning_Tencode|GarageYrBltBins_Tencode', 'PoolArea|MiscFeature_Tencode', 'TotalBsmtSF|Alley_Tencode', '3SsnPorch|TotRmsAbvGrd', 'SaleType_Tencode|ExterCond_Tencode', 'OpenPorchSF|LandSlope_Tencode', '2ndFlrSF|Alley_Tencode', 'MiscFeature_Tencode|LotFrontage', '2ndFlrSF|MiscFeature_Tencode', 'Utilities_Tencode|KitchenQual_Tencode', 'YrSold_Tencode|FullBath', 'OverallCond_Tencode|GrLivArea', 'TotalBsmtSF|GrLivArea', 'LandContour_Tencode|FireplaceQu_Tencode', 'Neighborhood_Tencode|Exterior2nd_Tencode', 'OpenPorchSF|GarageQual_Tencode', 'BsmtUnfSF|LandSlope_Tencode', 'Condition1_Tencode|HouseStyle_Tencode', 'FullBath|Alley_Tencode', 'MSZoning_Tencode|Condition2_Tencode', 'MiscFeature_Tencode|HalfBath', 'Id|MiscFeature_Tencode', 'GarageType_Tencode|Functional_Tencode', 'BsmtHalfBath|HeatingQC_Tencode', 'TotalBsmtSF|Utilities_Tencode', 'HalfBath|LotConfig_Tencode', 'PavedDrive_Tencode|ScreenPorch', 'OverallQual_Tencode|WoodDeckSF', 'CentralAir_Tencode|RoofMatl_Tencode', 'GarageCond_Tencode|LowQualFinSF', 'CentralAir_Tencode|FullBath', 'GarageFinish_Tencode|GarageYrBltBins_Tencode', 'RoofStyle_Tencode|ExterCond_Tencode', 'Street_Tencode|TotalBsmtSF', 'GarageCond_Tencode|MoSold_Tencode', 'BsmtCond_Tencode|SaleType_Tencode', 'OverallCond_Tencode|Functional_Tencode', 'BsmtCond_Tencode|GarageYrBltBins_Tencode', 'MasVnrArea|ScreenPorch', 'OpenPorchSF|BsmtQual_Tencode', 'ExterCond_Tencode|BsmtExposure_Tencode', 'MiscFeature_Tencode', 'Heating_Tencode|ExterCond_Tencode', 'Id|BsmtFinType1_Tencode', 'BldgType_Tencode|LowQualFinSF', 'BsmtFinType2_Tencode|MiscFeature_Tencode', 'BldgType_Tencode|BsmtQual_Tencode', 'ScreenPorch|3SsnPorch', '2ndFlrSF|OverallCond_Tencode', 'BldgType_Tencode|BsmtExposure_Tencode', 'Fence_Tencode|KitchenQual_Tencode', 'HeatingQC_Tencode|Exterior2nd_Tencode', 'ExterQual_Tencode|YearBuilt_Tencode', 'Street_Tencode|Id', 'PavedDrive_Tencode|Foundation_Tencode', 'OverallQual_Tencode|LotFrontage', '2ndFlrSF|LotFrontage', 'BldgType_Tencode|BsmtFinType2_Tencode', 'LotArea|BsmtExposure_Tencode', 'Electrical_Tencode|HalfBath', 'Condition2_Tencode|GarageYrBltBins_Tencode', 'SaleCondition_Tencode|BsmtFinType2_Tencode', 'TotRmsAbvGrd|BsmtFinSF2', 'CentralAir_Tencode|Fireplaces', 'BsmtFinType1_Tencode|GarageType_Tencode', 'GarageCond_Tencode|Foundation_Tencode', 'Street_Tencode|HeatingQC_Tencode', 'Street_Tencode|BsmtFinSF2', 'MSZoning_Tencode|LotShape_Tencode', 'Condition2_Tencode|SaleCondition_Tencode', 'OverallQual_Tencode|RoofMatl_Tencode', 'ScreenPorch|GrLivArea', 'BsmtUnfSF|HalfBath', 'OverallQual_Tencode|HalfBath', 'BldgType_Tencode|YearRemodAdd_Tencode', 'Fence_Tencode|OverallQual_Tencode', 'GarageArea|KitchenQual_Tencode', 'BsmtHalfBath|GarageType_Tencode', 'GarageFinish_Tencode|BsmtFinType2_Tencode', 'GarageType_Tencode|HouseStyle_Tencode', 'Condition1_Tencode|Utilities_Tencode', 'WoodDeckSF|PoolQC_Tencode', 'GarageCond_Tencode|WoodDeckSF', 'GarageYrBlt|WoodDeckSF', 'ScreenPorch|Functional_Tencode', 'OverallCond_Tencode|SaleType_Tencode', 'GarageCond_Tencode|SaleCondition_Tencode', 'GarageCond_Tencode|PoolQC_Tencode', 'GarageQual_Tencode|HalfBath', '2ndFlrSF|ExterCond_Tencode', 'YrSold_Tencode|PoolArea', 'RoofStyle_Tencode|MiscFeature_Tencode', 'Heating_Tencode|WoodDeckSF', 'TotRmsAbvGrd|MiscVal', 'LowQualFinSF|GarageQual_Tencode', 'PavedDrive_Tencode|GrLivArea', 'MoSold_Tencode|RoofStyle_Tencode', 'Heating_Tencode|Fireplaces', 'Condition1_Tencode|HeatingQC_Tencode', '3SsnPorch|HeatingQC_Tencode', '3SsnPorch|LowQualFinSF', 'GarageArea|YearBuilt_Tencode', 'PoolArea|PoolQC_Tencode', 'Heating_Tencode|GrLivArea', 'BsmtFullBath|WoodDeckSF', 'KitchenAbvGr|ScreenPorch', 'LowQualFinSF|HeatingQC_Tencode', 'LandContour_Tencode|Condition2_Tencode', 'YrSold_Tencode|LandSlope_Tencode', 'HouseStyle_Tencode|GarageYrBltBins_Tencode', 'OpenPorchSF|BsmtHalfBath', 'ScreenPorch|1stFlrSF', 'BedroomAbvGr|MasVnrType_Tencode', 'BsmtQual_Tencode|LotFrontage', 'MasVnrArea|BsmtQual_Tencode', 'PoolArea|MiscVal', 'EnclosedPorch|Exterior2nd_Tencode', 'LandSlope_Tencode|TotRmsAbvGrd', 'Fence_Tencode|MSSubClass_Tencode', 'Id|GarageType_Tencode', 'OpenPorchSF|LowQualFinSF', 'ExterCond_Tencode|Exterior2nd_Tencode', 'Alley_Tencode|TotRmsAbvGrd', 'GarageYrBltBins_Tencode|BsmtFinSF2', 'EnclosedPorch|YearRemodAdd_Tencode', 'RoofStyle_Tencode|TotRmsAbvGrd', 'Foundation_Tencode|YearRemodAdd_Tencode', 'BsmtFullBath|Fireplaces', 'Condition1_Tencode|BedroomAbvGr', 'Condition2_Tencode|Exterior2nd_Tencode', 'Condition2_Tencode|TotalBsmtSF', 'GarageQual_Tencode|GrLivArea', 'HalfBath|MasVnrType_Tencode', 'Foundation_Tencode', 'LandContour_Tencode|BsmtFinSF1', 'KitchenAbvGr|Alley_Tencode', 'LandContour_Tencode|Condition1_Tencode', '2ndFlrSF|GarageType_Tencode', 'GarageYrBlt|BsmtQual_Tencode', 'FullBath|KitchenQual_Tencode', 'GarageQual_Tencode|BsmtFinSF1', 'FullBath|Electrical_Tencode', 'Neighborhood_Tencode|MiscVal', 'FireplaceQu_Tencode|PoolQC_Tencode', 'GarageCars|Fireplaces', 'ScreenPorch|PoolQC_Tencode', 'OverallCond_Tencode|BsmtFinType1_Tencode', 'GarageFinish_Tencode|Foundation_Tencode', '2ndFlrSF|GarageArea', 'GarageYrBlt|Alley_Tencode', 'Exterior1st_Tencode|TotRmsAbvGrd', 'BsmtUnfSF|OverallCond_Tencode', 'ScreenPorch|Fireplaces', 'Exterior1st_Tencode|GrLivArea', 'KitchenAbvGr|LowQualFinSF', 'EnclosedPorch', 'CentralAir_Tencode|MSZoning_Tencode', 'Condition2_Tencode|BsmtCond_Tencode', 'ScreenPorch|HeatingQC_Tencode', '3SsnPorch|ExterQual_Tencode', 'LotShape_Tencode|Exterior2nd_Tencode', 'PoolArea|BsmtCond_Tencode', 'Street_Tencode|GarageQual_Tencode', 'EnclosedPorch|MasVnrType_Tencode', 'MSZoning_Tencode|LowQualFinSF', 'OverallCond_Tencode|FullBath', 'GarageFinish_Tencode|BsmtCond_Tencode', '1stFlrSF|RoofStyle_Tencode', 'MSZoning_Tencode|Exterior2nd_Tencode', 'LotShape_Tencode', 'ExterCond_Tencode|MiscVal', 'PoolArea|LotConfig_Tencode', 'RoofStyle_Tencode|BsmtExposure_Tencode', 'CentralAir_Tencode|BsmtFinSF1', 'Heating_Tencode|HouseStyle_Tencode', 'OverallQual_Tencode|BedroomAbvGr', 'Condition2_Tencode|LotConfig_Tencode', 'YrSold_Tencode|GarageArea', 'LotArea|GarageType_Tencode', 'Utilities_Tencode|LotShape_Tencode', 'GarageCond_Tencode|GrLivArea', 'Exterior1st_Tencode|RoofStyle_Tencode', 'FullBath|BsmtFinSF2', 'CentralAir_Tencode|TotRmsAbvGrd', 'BsmtFinSF1|PoolQC_Tencode', 'KitchenQual_Tencode|Functional_Tencode', 'GarageFinish_Tencode|Id', 'OpenPorchSF|YearBuilt_Tencode', 'BsmtHalfBath|BsmtFinType1_Tencode', 'PavedDrive_Tencode|Condition1_Tencode', 'Id|LotFrontage', 'BsmtQual_Tencode|MiscVal', 'GarageCond_Tencode|BedroomAbvGr', 'OpenPorchSF|Condition2_Tencode', '2ndFlrSF|HeatingQC_Tencode', 'Street_Tencode|Neighborhood_Tencode', 'MSZoning_Tencode|FullBath', 'SaleType_Tencode|PoolQC_Tencode', 'Street_Tencode|LotConfig_Tencode', 'Electrical_Tencode|Functional_Tencode', 'EnclosedPorch|GrLivArea', 'OverallQual_Tencode|TotRmsAbvGrd', 'HalfBath|GarageYrBltBins_Tencode', 'OpenPorchSF|Heating_Tencode', 'SaleCondition_Tencode|GarageArea', 'MasVnrArea|BsmtHalfBath', 'MoSold_Tencode', 'Foundation_Tencode|MasVnrType_Tencode', 'WoodDeckSF|LotConfig_Tencode', 'GarageFinish_Tencode|EnclosedPorch', 'MSSubClass_Tencode|TotalBsmtSF', 'PavedDrive_Tencode|Condition2_Tencode', 'Exterior1st_Tencode|BsmtFinSF2', 'YrSold_Tencode|Utilities_Tencode', 'EnclosedPorch|MiscFeature_Tencode', 'YrSold_Tencode|MiscVal', 'TotRmsAbvGrd|BsmtExposure_Tencode', 'Electrical_Tencode|YearRemodAdd_Tencode', 'HalfBath|HouseStyle_Tencode', 'BsmtFinType2_Tencode|TotRmsAbvGrd', 'SaleCondition_Tencode|Utilities_Tencode', '2ndFlrSF|Neighborhood_Tencode', 'MoSold_Tencode|YearRemodAdd_Tencode', 'Heating_Tencode|RoofMatl_Tencode', 'LandContour_Tencode|LowQualFinSF', 'TotalBsmtSF|HeatingQC_Tencode', 'PoolArea|BedroomAbvGr', 'BsmtUnfSF|SaleCondition_Tencode', 'BsmtFinSF1|Neighborhood_Tencode', 'KitchenAbvGr|GarageQual_Tencode', 'HeatingQC_Tencode|Fireplaces', 'LotArea|BsmtCond_Tencode', 'KitchenAbvGr|BsmtFinType1_Tencode', 'Condition2_Tencode|LandSlope_Tencode', 'Exterior1st_Tencode|MiscVal', 'TotalBsmtSF|Foundation_Tencode', 'LowQualFinSF|KitchenQual_Tencode', 'BsmtCond_Tencode|BsmtExposure_Tencode', 'LotShape_Tencode|KitchenQual_Tencode', '3SsnPorch|Exterior2nd_Tencode', 'Heating_Tencode|Foundation_Tencode', 'OverallQual_Tencode|Foundation_Tencode', 'BedroomAbvGr|GrLivArea', 'RoofStyle_Tencode|Fireplaces', 'BsmtUnfSF|Id', 'MasVnrArea|LandContour_Tencode', 'BsmtHalfBath|BsmtQual_Tencode', 'GarageFinish_Tencode|1stFlrSF', 'BldgType_Tencode|Foundation_Tencode', '3SsnPorch|LotShape_Tencode', 'Street_Tencode|Fireplaces', 'OverallQual', 'BldgType_Tencode|Heating_Tencode', 'MSZoning_Tencode|BsmtUnfSF', 'GarageCars', 'PoolArea|Utilities_Tencode', 'BsmtHalfBath|BsmtUnfSF', 'Id|Electrical_Tencode', 'Heating_Tencode|BedroomAbvGr', 'KitchenAbvGr|MoSold_Tencode', 'Id|SaleType_Tencode', 'GarageType_Tencode|YearBuilt_Tencode', 'Heating_Tencode|HeatingQC_Tencode', 'MasVnrArea|YearRemodAdd_Tencode', 'FullBath|BsmtQual_Tencode', 'LotConfig_Tencode|YearBuilt_Tencode', 'BsmtUnfSF|BsmtQual_Tencode', 'BsmtQual_Tencode|Exterior2nd_Tencode', 'ExterCond_Tencode|RoofMatl_Tencode', 'YrSold_Tencode|Fence_Tencode', 'PoolArea|Foundation_Tencode', 'Condition1_Tencode|PoolQC_Tencode', 'SaleType_Tencode|HouseStyle_Tencode', 'FullBath|YearBuilt_Tencode', 'RoofStyle_Tencode|KitchenQual_Tencode', 'Exterior1st_Tencode|FireplaceQu_Tencode', 'BsmtHalfBath|Alley_Tencode', 'Id|RoofMatl_Tencode', 'PavedDrive_Tencode', 'Condition2_Tencode|RoofStyle_Tencode', 'ExterQual_Tencode|EnclosedPorch', 'ScreenPorch', 'SaleCondition_Tencode|Heating_Tencode', 'RoofMatl_Tencode|BsmtExposure_Tencode', 'OpenPorchSF|GarageType_Tencode', 'BsmtHalfBath', 'ExterQual_Tencode|1stFlrSF', 'FireplaceQu_Tencode|BsmtFinSF1', 'MasVnrArea|TotalBsmtSF', '1stFlrSF|MiscFeature_Tencode', 'LotArea|ScreenPorch', '1stFlrSF|TotRmsAbvGrd', 'LotConfig_Tencode|Exterior2nd_Tencode', '3SsnPorch|BedroomAbvGr', 'HeatingQC_Tencode|MoSold_Tencode', 'GarageCars|EnclosedPorch', 'ScreenPorch|RoofMatl_Tencode', 'OverallCond_Tencode|MasVnrType_Tencode', 'BsmtHalfBath|Fence_Tencode', 'KitchenQual_Tencode|PoolQC_Tencode', 'BsmtFullBath|HeatingQC_Tencode', 'FullBath|GarageType_Tencode', 'PoolArea|BsmtFinType1_Tencode', '1stFlrSF|BsmtFinSF1', 'EnclosedPorch|GarageType_Tencode', 'GarageCars|MSSubClass_Tencode', 'GarageCars|Condition1_Tencode', 'BsmtHalfBath|TotalBsmtSF', 'BsmtUnfSF|FireplaceQu_Tencode', 'LowQualFinSF|BsmtExposure_Tencode', 'BsmtFinType1_Tencode|LandSlope_Tencode', 'BsmtFinSF1|Alley_Tencode', 'FireplaceQu_Tencode|BsmtFinSF2', 'FullBath|BsmtExposure_Tencode', 'Neighborhood_Tencode|KitchenQual_Tencode', 'Utilities_Tencode|LandSlope_Tencode', 'ScreenPorch|Heating_Tencode', 'OverallCond_Tencode|BsmtCond_Tencode', 'BsmtQual_Tencode|HouseStyle_Tencode', 'Street_Tencode|TotRmsAbvGrd', 'BldgType_Tencode|Fireplaces', 'LotArea|PoolArea', 'TotalBsmtSF|Heating_Tencode', 'SaleCondition_Tencode|YearRemodAdd_Tencode', 'MoSold_Tencode|PoolQC_Tencode', 'PoolArea|HeatingQC_Tencode', 'Street_Tencode|LotFrontage', 'Id|GarageYrBltBins_Tencode', 'CentralAir_Tencode|BsmtQual_Tencode', 'KitchenAbvGr|HalfBath', 'BsmtFullBath|GarageYrBltBins_Tencode', 'OverallQual_Tencode|BsmtFinType1_Tencode', 'PoolArea|MoSold_Tencode', 'GrLivArea|BsmtExposure_Tencode', 'Exterior1st_Tencode|YearBuilt_Tencode', 'OverallCond_Tencode|HeatingQC_Tencode', 'GarageType_Tencode|TotRmsAbvGrd', 'CentralAir_Tencode|TotalBsmtSF', 'KitchenAbvGr|TotalBsmtSF', 'SaleType_Tencode|LotShape_Tencode', 'LotArea|LotConfig_Tencode', 'EnclosedPorch|BedroomAbvGr', 'OverallQual_Tencode|Functional_Tencode', 'BsmtFinType1_Tencode|MiscFeature_Tencode', 'GarageArea|Heating_Tencode', 'WoodDeckSF|MasVnrType_Tencode', 'TotalBsmtSF|ExterCond_Tencode', 'LotArea|LotShape_Tencode', 'GarageCond_Tencode|TotRmsAbvGrd', 'GarageYrBlt|TotalBsmtSF', 'LotFrontage|Exterior2nd_Tencode', 'MasVnrArea|MSSubClass_Tencode', 'BsmtCond_Tencode|Alley_Tencode', 'BsmtCond_Tencode|WoodDeckSF', 'HeatingQC_Tencode|RoofStyle_Tencode', 'BsmtUnfSF|GrLivArea', 'ExterQual_Tencode|BsmtCond_Tencode', 'GrLivArea|MasVnrType_Tencode', 'Exterior1st_Tencode|SaleCondition_Tencode', '1stFlrSF|ExterCond_Tencode', 'GarageQual_Tencode|LotFrontage', 'LowQualFinSF|Foundation_Tencode', 'FireplaceQu_Tencode|KitchenQual_Tencode', '3SsnPorch|OverallCond_Tencode', 'CentralAir_Tencode|Exterior1st_Tencode', 'MSSubClass_Tencode|GarageQual_Tencode', 'ScreenPorch|TotRmsAbvGrd', 'GarageYrBlt|BsmtFinSF1', 'Utilities_Tencode|BsmtFinType1_Tencode', 'BsmtFullBath|CentralAir_Tencode', 'LotArea|Utilities_Tencode', 'MoSold_Tencode|BsmtFinSF2', 'GarageArea|LowQualFinSF', 'BsmtUnfSF|YearRemodAdd_Tencode', 'BsmtFinSF1|GarageType_Tencode', 'PavedDrive_Tencode|RoofMatl_Tencode', 'LandContour_Tencode|HalfBath', 'GarageYrBlt|BsmtFullBath', 'BsmtCond_Tencode|TotRmsAbvGrd', 'MoSold_Tencode|GarageQual_Tencode', 'OverallQual_Tencode|GarageType_Tencode', 'BsmtFinSF1|HouseStyle_Tencode', 'BsmtFinSF1|YearBuilt_Tencode', 'GarageQual_Tencode', 'MSSubClass_Tencode|MiscVal', 'BsmtCond_Tencode|HeatingQC_Tencode', '3SsnPorch|1stFlrSF', '3SsnPorch|HalfBath', 'BsmtQual_Tencode|Alley_Tencode', 'GarageYrBlt|Fence_Tencode', 'ExterCond_Tencode|Neighborhood_Tencode', 'SaleType_Tencode|MiscVal', 'OpenPorchSF|Fireplaces', 'PavedDrive_Tencode|BedroomAbvGr', 'LotArea|PavedDrive_Tencode', 'FullBath|1stFlrSF', 'LandContour_Tencode|GarageFinish_Tencode', 'PoolArea|MSSubClass_Tencode', 'BsmtFinSF1', 'LowQualFinSF|BsmtFinSF1', 'HouseStyle_Tencode|RoofMatl_Tencode', 'Fence_Tencode|BsmtExposure_Tencode', 'GarageArea|BsmtFinSF2', 'Id|Fireplaces', 'Id|Neighborhood_Tencode', 'SaleType_Tencode|LotConfig_Tencode', 'BsmtFinType2_Tencode|Exterior2nd_Tencode', 'MSSubClass', 'Id|Exterior2nd_Tencode', 'GarageYrBlt|BsmtCond_Tencode', 'MSSubClass_Tencode|PoolQC_Tencode', 'Heating_Tencode|Exterior2nd_Tencode', 'Foundation_Tencode|Fireplaces', 'OpenPorchSF|OverallQual_Tencode', 'Neighborhood_Tencode|Alley_Tencode', 'OverallQual_Tencode|SaleType_Tencode', 'PoolArea|GrLivArea', 'ExterQual_Tencode|WoodDeckSF', 'MiscVal|Functional_Tencode', 'YrSold_Tencode|GarageCond_Tencode', 'BsmtFullBath|Electrical_Tencode', 'ScreenPorch|GarageFinish_Tencode', 'Condition1_Tencode|Exterior2nd_Tencode', 'KitchenAbvGr|GarageArea', 'Electrical_Tencode|GarageType_Tencode', 'YrSold_Tencode|HalfBath', 'OpenPorchSF|BsmtFinType2_Tencode', 'Street_Tencode|FullBath', 'YearBuilt', 'BldgType_Tencode|YearBuilt_Tencode', 'CentralAir_Tencode|3SsnPorch', 'Exterior1st_Tencode|BsmtFinType2_Tencode', 'Heating_Tencode|BsmtFinType1_Tencode', 'PoolArea|CentralAir_Tencode', 'PavedDrive_Tencode|2ndFlrSF', 'LotArea|3SsnPorch', 'LotShape_Tencode|MiscVal', 'CentralAir_Tencode|LowQualFinSF', 'PoolArea|Exterior2nd_Tencode', '3SsnPorch|ExterCond_Tencode', 'OverallCond_Tencode|YearBuilt_Tencode', 'SaleCondition_Tencode|ExterCond_Tencode', 'BedroomAbvGr|SaleType_Tencode', 'LandContour_Tencode|Heating_Tencode', 'LandSlope_Tencode|HouseStyle_Tencode', 'BsmtHalfBath|Foundation_Tencode', '3SsnPorch|MiscVal', 'CentralAir_Tencode|EnclosedPorch', 'Fireplaces|Electrical_Tencode', 'GarageCars|Exterior1st_Tencode', 'Exterior1st_Tencode|Heating_Tencode', 'MoSold_Tencode|TotRmsAbvGrd', 'LowQualFinSF|GarageYrBltBins_Tencode', 'Foundation_Tencode|LandSlope_Tencode', 'BldgType_Tencode|1stFlrSF', 'GarageCars|Street_Tencode', 'LotShape_Tencode|PoolQC_Tencode', 'SaleCondition_Tencode|LowQualFinSF', 'WoodDeckSF|YearBuilt_Tencode', 'GarageFinish_Tencode|Utilities_Tencode', 'Fence_Tencode|TotalBsmtSF', 'MasVnrArea|GarageCars', 'BsmtQual_Tencode|LotConfig_Tencode', 'WoodDeckSF|Neighborhood_Tencode', 'HeatingQC_Tencode|Functional_Tencode', '2ndFlrSF|Condition1_Tencode', 'PavedDrive_Tencode|SaleType_Tencode', 'Fence_Tencode|HouseStyle_Tencode', 'BsmtHalfBath|GrLivArea', 'BsmtFullBath|YearBuilt_Tencode', 'FireplaceQu_Tencode|BsmtQual_Tencode', 'MiscFeature_Tencode|Fireplaces', 'Exterior1st_Tencode|Fireplaces', 'OverallQual_Tencode|GarageArea', 'Foundation_Tencode|BsmtFinType1_Tencode', 'LandContour_Tencode|YearRemodAdd_Tencode', 'Heating_Tencode|LandSlope_Tencode', 'LandSlope_Tencode|MiscVal', 'EnclosedPorch|Functional_Tencode', 'BsmtFinType1_Tencode|KitchenQual_Tencode', 'OpenPorchSF|EnclosedPorch', 'BldgType_Tencode|MiscVal', 'BsmtUnfSF|YearBuilt_Tencode', 'FullBath|HalfBath', 'YrSold_Tencode|LowQualFinSF', 'PoolArea|Fence_Tencode', 'LowQualFinSF|GarageType_Tencode', 'Utilities_Tencode|LotFrontage', 'CentralAir_Tencode|Foundation_Tencode', 'LandContour_Tencode|LotFrontage', 'GarageCond_Tencode|Heating_Tencode', 'Condition2_Tencode|1stFlrSF', 'Electrical_Tencode|Alley_Tencode', 'ScreenPorch|MasVnrType_Tencode', 'SaleCondition_Tencode|1stFlrSF', 'GarageFinish_Tencode|GarageQual_Tencode', 'OverallCond_Tencode|Fireplaces', 'OverallCond_Tencode|SaleCondition_Tencode', '3SsnPorch', 'SaleType_Tencode|BsmtExposure_Tencode', 'GarageYrBlt|GarageCond_Tencode', 'GarageFinish_Tencode|MiscVal', 'BsmtExposure_Tencode|YearBuilt_Tencode', 'FullBath|SaleType_Tencode', 'OpenPorchSF|3SsnPorch', 'PoolArea|LandContour_Tencode', 'MSZoning_Tencode|Exterior1st_Tencode', 'ScreenPorch|Condition2_Tencode', 'SaleCondition_Tencode|MiscVal', 'GrLivArea|PoolQC_Tencode', 'WoodDeckSF|RoofMatl_Tencode', 'RoofStyle_Tencode|YearRemodAdd_Tencode', 'Utilities_Tencode|BsmtExposure_Tencode', 'GarageFinish_Tencode|GarageType_Tencode', '2ndFlrSF|OverallQual_Tencode', '3SsnPorch|PoolQC_Tencode', 'BsmtCond_Tencode|GarageType_Tencode', 'ExterQual_Tencode|OverallQual_Tencode', 'MoSold_Tencode|Alley_Tencode', 'Fence_Tencode|GarageFinish_Tencode', 'OverallQual_Tencode|MiscFeature_Tencode', 'MasVnrType_Tencode|LotFrontage', 'LotFrontage|HouseStyle_Tencode', 'BsmtUnfSF|MiscFeature_Tencode', 'PavedDrive_Tencode|Fence_Tencode', 'Fence_Tencode|Exterior1st_Tencode', 'MSZoning_Tencode|MiscVal', 'BsmtHalfBath|LotShape_Tencode', 'Utilities_Tencode', 'KitchenQual_Tencode', 'MSSubClass_Tencode|Neighborhood_Tencode', 'SaleCondition_Tencode', 'ExterQual_Tencode|Condition2_Tencode', 'GarageYrBlt|Street_Tencode', 'PoolArea|BsmtExposure_Tencode', 'CentralAir_Tencode|HalfBath', 'Id|LandSlope_Tencode', 'GarageCond_Tencode|Fireplaces', 'KitchenQual_Tencode|LotFrontage', 'ExterQual_Tencode|HalfBath', 'GarageYrBlt|MSZoning_Tencode', 'YrSold_Tencode|GarageYrBlt', 'RoofMatl_Tencode|PoolQC_Tencode', '2ndFlrSF|GarageFinish_Tencode', 'ScreenPorch|BldgType_Tencode', 'LowQualFinSF', 'Condition1_Tencode|FullBath', 'MiscFeature_Tencode|MasVnrType_Tencode', 'OpenPorchSF|ExterCond_Tencode', 'PavedDrive_Tencode|OverallCond_Tencode', 'LandContour_Tencode|HouseStyle_Tencode', 'GarageYrBlt|BsmtHalfBath', 'GarageYrBlt|SaleCondition_Tencode', 'Exterior2nd_Tencode|RoofMatl_Tencode', 'BsmtQual_Tencode|LandSlope_Tencode', 'Street_Tencode|BldgType_Tencode', 'BsmtFinType1_Tencode|BsmtExposure_Tencode', 'MSZoning_Tencode|Electrical_Tencode', 'LowQualFinSF|TotRmsAbvGrd', '3SsnPorch|Fireplaces', 'YrSold_Tencode|OpenPorchSF', 'ExterQual_Tencode|FireplaceQu_Tencode', 'ScreenPorch|GarageCond_Tencode', 'FireplaceQu_Tencode|Foundation_Tencode', 'PoolArea|OverallCond_Tencode', 'BsmtFinType1_Tencode|BsmtQual_Tencode', 'LotFrontage|GarageYrBltBins_Tencode', 'BsmtHalfBath|PoolQC_Tencode', 'CentralAir_Tencode|GarageYrBltBins_Tencode', 'GarageType_Tencode|RoofMatl_Tencode', 'SaleType_Tencode|MiscFeature_Tencode', 'MasVnrArea|HouseStyle_Tencode', 'OverallQual_Tencode|BsmtFinType2_Tencode', 'Fence_Tencode|BsmtFinType2_Tencode', 'OverallCond_Tencode|MiscVal', 'OpenPorchSF|GarageYrBltBins_Tencode', 'LotConfig_Tencode|BsmtExposure_Tencode', '1stFlrSF|KitchenQual_Tencode', 'LotShape_Tencode|MiscFeature_Tencode', 'YrSold_Tencode|MSSubClass_Tencode', 'GarageFinish_Tencode|GarageArea', 'BsmtFinType2_Tencode|GarageYrBltBins_Tencode', 'OpenPorchSF|Id', 'BsmtFinType1_Tencode', 'Fireplaces|BsmtFinSF2', 'Alley_Tencode|LotFrontage', 'BsmtUnfSF|BsmtExposure_Tencode', 'MoSold_Tencode|LandSlope_Tencode', 'Street_Tencode|Utilities_Tencode', 'Heating_Tencode|BsmtFinSF1', 'BsmtFinSF1|Electrical_Tencode', '3SsnPorch|OverallQual_Tencode', 'Electrical_Tencode|PoolQC_Tencode', 'BsmtExposure_Tencode|MiscVal', 'WoodDeckSF|Electrical_Tencode', 'LandSlope_Tencode|HalfBath', 'BsmtFinType2_Tencode|MoSold_Tencode', 'GarageYrBlt|TotRmsAbvGrd', 'MSZoning_Tencode|Utilities_Tencode', 'PavedDrive_Tencode|LotConfig_Tencode', 'GarageFinish_Tencode', 'LowQualFinSF|HouseStyle_Tencode', 'YrSold_Tencode|LotArea', 'FullBath|MiscVal', 'Condition2_Tencode|Electrical_Tencode', 'Neighborhood_Tencode|BsmtFinSF2', 'Street_Tencode|OverallCond_Tencode', 'Street_Tencode|BsmtCond_Tencode', 'FireplaceQu_Tencode|MoSold_Tencode', 'BsmtFullBath|Street_Tencode', 'Foundation_Tencode|BsmtFinSF1', 'FullBath|MoSold_Tencode', 'MasVnrArea|Exterior1st_Tencode', 'GrLivArea|Electrical_Tencode', 'MSSubClass_Tencode|RoofMatl_Tencode', 'GarageCond_Tencode|HeatingQC_Tencode', 'BsmtFullBath|KitchenAbvGr', 'BsmtHalfBath|1stFlrSF', 'Fence_Tencode|Heating_Tencode', 'Electrical_Tencode|MasVnrType_Tencode', 'FullBath|WoodDeckSF', 'ExterQual_Tencode|LotConfig_Tencode', 'BsmtFullBath|HalfBath', 'OverallCond_Tencode|Id', 'CentralAir_Tencode|GrLivArea', 'Condition2_Tencode|FireplaceQu_Tencode', 'BsmtFinType2_Tencode|RoofStyle_Tencode', 'Heating_Tencode|LotFrontage', 'LandContour_Tencode|Exterior1st_Tencode', 'FireplaceQu_Tencode|BsmtExposure_Tencode', 'ScreenPorch|BsmtQual_Tencode', '3SsnPorch|Condition2_Tencode', 'YearRemodAdd_Tencode', 'MSZoning_Tencode|WoodDeckSF', 'BsmtFullBath|Functional_Tencode', 'Utilities_Tencode|GarageYrBltBins_Tencode', 'SaleCondition_Tencode|RoofMatl_Tencode', 'Condition1_Tencode|TotalBsmtSF', '1stFlrSF|MiscVal', 'BsmtExposure_Tencode|PoolQC_Tencode', 'OverallQual_Tencode|BsmtExposure_Tencode', 'RoofMatl_Tencode|Functional_Tencode', 'YrSold_Tencode|MSZoning_Tencode', 'GarageType_Tencode|LotFrontage', 'BsmtCond_Tencode|Foundation_Tencode', 'GarageArea|WoodDeckSF', 'MSZoning_Tencode|GarageCond_Tencode', 'GarageCars|KitchenQual_Tencode', 'GarageYrBlt|Functional_Tencode', 'Utilities_Tencode|SaleType_Tencode', 'YearRemodAdd_Tencode|HouseStyle_Tencode', 'BsmtFinType2_Tencode|WoodDeckSF', 'FireplaceQu_Tencode|HalfBath', 'YrSold_Tencode|MoSold_Tencode', 'Heating_Tencode|MasVnrType_Tencode', 'LowQualFinSF|Alley_Tencode', 'BsmtFinSF1|MiscVal', 'BsmtCond_Tencode|Id', 'Fence_Tencode|TotRmsAbvGrd', 'KitchenAbvGr|BsmtQual_Tencode', 'YearBuilt_Tencode', 'LotShape_Tencode|GarageYrBltBins_Tencode', 'Fence_Tencode|LotConfig_Tencode', 'PoolArea|ExterQual_Tencode', 'MSSubClass_Tencode|Functional_Tencode', 'GarageArea|MoSold_Tencode', 'OverallQual_Tencode|Alley_Tencode', 'LotConfig_Tencode|Functional_Tencode', 'Fence_Tencode|LandSlope_Tencode', 'Heating_Tencode|RoofStyle_Tencode', 'Electrical_Tencode|BsmtExposure_Tencode', 'PavedDrive_Tencode|BsmtCond_Tencode', 'Street_Tencode|YearRemodAdd_Tencode', 'MasVnrArea|1stFlrSF', '2ndFlrSF|SaleCondition_Tencode', 'Condition1_Tencode|LowQualFinSF', 'LowQualFinSF|FullBath', 'GarageQual_Tencode|HouseStyle_Tencode', '3SsnPorch|Foundation_Tencode', 'BldgType_Tencode|HalfBath', 'BsmtFinType1_Tencode|BsmtFinSF1', 'LowQualFinSF|BsmtFinSF2', 'KitchenAbvGr|BsmtFinSF2', 'Electrical_Tencode|TotRmsAbvGrd', 'Exterior1st_Tencode|BsmtFinType1_Tencode', 'Fence_Tencode|Utilities_Tencode', 'CentralAir_Tencode|LotFrontage', 'PavedDrive_Tencode|GarageYrBltBins_Tencode', 'Heating_Tencode|GarageYrBltBins_Tencode', 'FireplaceQu_Tencode|WoodDeckSF', 'SaleType_Tencode|RoofMatl_Tencode', 'HeatingQC_Tencode|HouseStyle_Tencode', 'GrLivArea|RoofMatl_Tencode', 'BsmtUnfSF|MoSold_Tencode', 'BsmtFinType2_Tencode|HeatingQC_Tencode', 'CentralAir_Tencode', 'BldgType_Tencode|SaleType_Tencode', 'LandSlope_Tencode|BsmtExposure_Tencode', 'SaleType_Tencode|GarageQual_Tencode', 'OpenPorchSF|Exterior1st_Tencode', 'BsmtUnfSF|GarageArea', 'SaleType_Tencode|LotFrontage', 'BldgType_Tencode|OverallCond_Tencode', 'GarageQual_Tencode|Alley_Tencode', 'LotFrontage|Functional_Tencode', 'Foundation_Tencode|1stFlrSF', 'TotalBsmtSF|HalfBath', '3SsnPorch|GarageQual_Tencode', 'GarageYrBlt|FireplaceQu_Tencode', 'YearRemodAdd_Tencode|YearBuilt_Tencode', 'LandSlope_Tencode|YearBuilt_Tencode', 'WoodDeckSF|RoofStyle_Tencode', 'GarageYrBlt|CentralAir_Tencode', '1stFlrSF|Fireplaces', 'GarageFinish_Tencode|RoofStyle_Tencode', 'BsmtFinType2_Tencode|BsmtFinSF2', 'YrSold_Tencode|TotalBsmtSF', 'LandSlope_Tencode|LotFrontage', 'Foundation_Tencode|RoofMatl_Tencode', 'GarageYrBlt|OverallQual_Tencode', 'ExterQual_Tencode|MoSold_Tencode', 'PoolArea|SaleCondition_Tencode', 'Heating_Tencode|MoSold_Tencode', 'Street_Tencode|ExterCond_Tencode', 'MasVnrArea|YearBuilt_Tencode', 'Exterior1st_Tencode|WoodDeckSF', 'CentralAir_Tencode|OverallCond_Tencode', '3SsnPorch|BsmtFinType1_Tencode', 'GarageCond_Tencode|BsmtQual_Tencode', 'BldgType_Tencode|BsmtFinSF1', 'BsmtHalfBath|ExterCond_Tencode', 'Condition1_Tencode|Neighborhood_Tencode', 'GarageCond_Tencode|Exterior2nd_Tencode', 'Condition1_Tencode|FireplaceQu_Tencode', 'Street_Tencode|LotShape_Tencode', 'KitchenQual_Tencode|TotRmsAbvGrd', 'CentralAir_Tencode|BsmtFinSF2', 'YrSold_Tencode|BsmtFinType2_Tencode', 'BsmtCond_Tencode|1stFlrSF', 'Fence_Tencode|MSZoning_Tencode', 'BsmtFullBath|Utilities_Tencode', 'MSSubClass_Tencode|Heating_Tencode', 'BedroomAbvGr|YearBuilt_Tencode', 'GarageFinish_Tencode|RoofMatl_Tencode', 'LandContour_Tencode|KitchenQual_Tencode', 'PavedDrive_Tencode|1stFlrSF', 'CentralAir_Tencode|ScreenPorch', 'MSSubClass_Tencode|LotShape_Tencode', 'BsmtHalfBath|Electrical_Tencode', 'GarageArea|LotFrontage', 'PavedDrive_Tencode|GarageArea', 'CentralAir_Tencode|HouseStyle_Tencode', '1stFlrSF|BsmtExposure_Tencode', '2ndFlrSF|RoofStyle_Tencode', 'GarageCars|1stFlrSF', 'Street_Tencode|MiscVal', 'GarageArea|RoofMatl_Tencode', 'Street_Tencode|Electrical_Tencode', 'BsmtFinType1_Tencode|ExterCond_Tencode', 'HeatingQC_Tencode|LotConfig_Tencode', 'Utilities_Tencode|BsmtQual_Tencode', 'GarageYrBlt|BedroomAbvGr', 'GarageQual_Tencode|Fireplaces', 'BsmtQual_Tencode|PoolQC_Tencode', 'Street_Tencode|LandContour_Tencode', 'GarageYrBlt|BsmtFinType2_Tencode', 'BsmtHalfBath|Heating_Tencode', 'LotFrontage', 'YearRemodAdd_Tencode|GarageYrBltBins_Tencode', 'LotArea|LotFrontage', 'Foundation_Tencode|RoofStyle_Tencode', 'LandContour_Tencode|Fireplaces', 'KitchenAbvGr|2ndFlrSF', 'GarageFinish_Tencode|SaleCondition_Tencode', 'OpenPorchSF|MiscVal', 'Alley_Tencode|PoolQC_Tencode', 'HeatingQC_Tencode|TotRmsAbvGrd', 'BsmtFullBath|Condition2_Tencode', 'Fence_Tencode|BedroomAbvGr', 'BsmtHalfBath|GarageFinish_Tencode', 'BsmtCond_Tencode|EnclosedPorch', 'Foundation_Tencode|BsmtQual_Tencode', 'EnclosedPorch|LotConfig_Tencode', 'YrSold_Tencode|HouseStyle_Tencode', 'TotRmsAbvGrd|YearBuilt_Tencode', 'OpenPorchSF|Utilities_Tencode', 'BedroomAbvGr|MiscFeature_Tencode', 'PavedDrive_Tencode|MSSubClass_Tencode', 'YrSold_Tencode|TotRmsAbvGrd', 'BsmtUnfSF|Utilities_Tencode', '2ndFlrSF|Fireplaces', 'BsmtHalfBath|3SsnPorch', 'PoolArea|LandSlope_Tencode', 'ScreenPorch|Utilities_Tencode', 'Neighborhood_Tencode|RoofMatl_Tencode', 'BsmtCond_Tencode|BsmtQual_Tencode', 'Condition1_Tencode|MiscFeature_Tencode', 'BsmtQual_Tencode|MiscFeature_Tencode', 'FireplaceQu_Tencode|GarageType_Tencode', 'LotArea|KitchenQual_Tencode', 'LotArea|BsmtQual_Tencode', 'SaleType_Tencode', 'MiscFeature_Tencode|ExterCond_Tencode', 'BsmtFullBath|2ndFlrSF', 'BedroomAbvGr|LotShape_Tencode', 'HalfBath|BsmtFinSF2', 'KitchenAbvGr|GarageCond_Tencode', 'GarageFinish_Tencode|Neighborhood_Tencode', 'MSSubClass_Tencode|MasVnrType_Tencode', 'SaleType_Tencode|MoSold_Tencode', 'BsmtUnfSF|BedroomAbvGr', 'WoodDeckSF|BsmtFinSF1', 'WoodDeckSF|HalfBath', 'CentralAir_Tencode|BsmtHalfBath', 'MSZoning_Tencode|OverallCond_Tencode', 'MiscFeature_Tencode|RoofMatl_Tencode', 'Street_Tencode|Alley_Tencode', 'ExterQual_Tencode|BsmtFinType2_Tencode', 'ScreenPorch|GarageYrBltBins_Tencode', 'BsmtUnfSF|OverallQual_Tencode', 'PoolArea|YearBuilt_Tencode', 'BsmtHalfBath|FullBath', 'MSSubClass_Tencode|WoodDeckSF', '1stFlrSF|Exterior2nd_Tencode', 'ExterQual_Tencode|BldgType_Tencode', 'OpenPorchSF|CentralAir_Tencode', 'ScreenPorch|KitchenQual_Tencode', 'GrLivArea|LotConfig_Tencode', 'GarageType_Tencode|GarageYrBltBins_Tencode', 'KitchenAbvGr|LandSlope_Tencode', 'Alley_Tencode|MasVnrType_Tencode', 'MSZoning_Tencode|Alley_Tencode', 'KitchenAbvGr|LotConfig_Tencode', 'EnclosedPorch|GarageYrBltBins_Tencode', 'OverallQual_Tencode|1stFlrSF', 'RoofStyle_Tencode|PoolQC_Tencode', 'HeatingQC_Tencode|BsmtFinSF2', 'BsmtQual_Tencode|MasVnrType_Tencode', 'MSSubClass_Tencode|LowQualFinSF', 'GarageCars|FullBath', 'LotShape_Tencode|BsmtFinSF2', 'MSZoning_Tencode|LotFrontage', 'LandContour_Tencode|Fence_Tencode', 'Exterior1st_Tencode|LandSlope_Tencode', 'Condition2_Tencode|GarageCond_Tencode', 'LotConfig_Tencode|HouseStyle_Tencode', 'Condition1_Tencode|GarageArea', 'KitchenQual_Tencode|YearBuilt_Tencode', 'GarageArea|HeatingQC_Tencode', 'KitchenAbvGr|OverallQual_Tencode', 'LotShape_Tencode|LotFrontage', 'LotConfig_Tencode|LotFrontage', 'BsmtHalfBath|HalfBath', 'Condition2_Tencode|SaleType_Tencode', 'HeatingQC_Tencode|BsmtExposure_Tencode', 'BsmtHalfBath|OverallCond_Tencode', 'Fireplaces|Alley_Tencode', 'LotArea|BsmtFullBath', 'Exterior1st_Tencode|Electrical_Tencode', 'Alley_Tencode|Exterior2nd_Tencode', 'GarageFinish_Tencode|SaleType_Tencode', 'KitchenAbvGr|Condition2_Tencode', 'OverallQual_Tencode|Id', 'MoSold_Tencode|LotShape_Tencode', 'Heating_Tencode|Electrical_Tencode', 'PavedDrive_Tencode|FireplaceQu_Tencode', 'ScreenPorch|TotalBsmtSF', 'BsmtQual_Tencode|GrLivArea', 'ScreenPorch|BsmtUnfSF', 'LandContour_Tencode|Exterior2nd_Tencode', 'LowQualFinSF|YearBuilt_Tencode', 'OpenPorchSF|KitchenQual_Tencode', 'BsmtExposure_Tencode|Functional_Tencode', 'MSZoning_Tencode|Id', 'GarageYrBlt|LotConfig_Tencode', 'PavedDrive_Tencode|Heating_Tencode', 'OverallQual_Tencode|BsmtFinSF2', '3SsnPorch|FullBath', 'LotArea|GrLivArea', 'Street_Tencode|Condition2_Tencode', 'LotArea|OverallQual_Tencode', 'LotArea|BsmtFinType1_Tencode', 'MiscFeature_Tencode|GarageYrBltBins_Tencode', 'HouseStyle_Tencode|BsmtFinSF2', 'RoofStyle_Tencode|HalfBath', 'KitchenAbvGr|TotRmsAbvGrd', 'GarageYrBlt|ExterQual_Tencode', 'GarageYrBlt|BsmtFinSF2', 'FireplaceQu_Tencode|Utilities_Tencode', 'GarageYrBltBins_Tencode|MiscVal', 'SaleCondition_Tencode|BsmtExposure_Tencode', 'OverallCond_Tencode|RoofMatl_Tencode', 'LandSlope_Tencode|KitchenQual_Tencode', 'Alley_Tencode|BsmtFinSF2', '2ndFlrSF|GarageYrBltBins_Tencode', 'Fence_Tencode|Functional_Tencode', 'CentralAir_Tencode|KitchenQual_Tencode', 'Id|RoofStyle_Tencode', 'PoolArea|ExterCond_Tencode', 'BldgType_Tencode|Alley_Tencode', '3SsnPorch|YearRemodAdd_Tencode', 'BsmtFinType2_Tencode|BsmtFinType1_Tencode', 'YrSold_Tencode|BldgType_Tencode', 'BsmtCond_Tencode|MoSold_Tencode', 'ScreenPorch|Exterior1st_Tencode', 'LandSlope_Tencode|Exterior2nd_Tencode', 'GarageType_Tencode|BsmtExposure_Tencode', 'GarageCars|2ndFlrSF', 'OpenPorchSF|PoolArea', 'YrSold_Tencode|1stFlrSF', 'GarageYrBlt|GarageCars', 'PavedDrive_Tencode|ExterQual_Tencode', 'MSSubClass_Tencode|Alley_Tencode', 'Exterior2nd_Tencode|Functional_Tencode', 'BsmtFinType1_Tencode|WoodDeckSF', 'Condition1_Tencode|LotConfig_Tencode', 'Condition2_Tencode|OverallQual_Tencode', 'ScreenPorch|HouseStyle_Tencode', 'KitchenQual_Tencode|Exterior2nd_Tencode', 'Utilities_Tencode|BedroomAbvGr', 'LotArea|2ndFlrSF', 'GarageCond_Tencode|FullBath', 'MSZoning_Tencode', 'ScreenPorch|Condition1_Tencode', 'BsmtQual_Tencode|ExterCond_Tencode', 'BsmtFullBath|BsmtHalfBath', 'Condition1_Tencode|BsmtCond_Tencode', 'PavedDrive_Tencode|BsmtFinSF2', 'MSSubClass_Tencode|Utilities_Tencode', 'BedroomAbvGr|RoofMatl_Tencode', 'ExterCond_Tencode|GarageType_Tencode', 'EnclosedPorch|Neighborhood_Tencode', 'GarageArea|Exterior2nd_Tencode', 'HouseStyle_Tencode|TotRmsAbvGrd', 'Neighborhood_Tencode|LotConfig_Tencode', 'Condition2_Tencode|MasVnrType_Tencode', 'Fireplaces|PoolQC_Tencode', 'MasVnrArea|GarageYrBlt', '3SsnPorch|BsmtCond_Tencode', 'PoolArea|GarageCond_Tencode', 'FireplaceQu_Tencode|HouseStyle_Tencode', 'PoolArea|Exterior1st_Tencode', 'GarageCond_Tencode|TotalBsmtSF', 'BsmtCond_Tencode|MiscVal', 'MoSold_Tencode|Fireplaces', 'Condition2_Tencode|BsmtFinSF2', 'BldgType_Tencode|GarageArea', 'WoodDeckSF|LandSlope_Tencode', '3SsnPorch|MSSubClass_Tencode', 'HeatingQC_Tencode|Alley_Tencode', 'LandContour_Tencode|OverallCond_Tencode', 'Utilities_Tencode|HalfBath', 'ScreenPorch|GarageQual_Tencode', 'MSZoning_Tencode|3SsnPorch', 'CentralAir_Tencode|BsmtFinType2_Tencode', 'GarageCars|GarageType_Tencode', 'CentralAir_Tencode|SaleCondition_Tencode', 'GarageQual_Tencode|MiscFeature_Tencode', 'Exterior1st_Tencode|Utilities_Tencode', 'LotArea|Id', 'LotArea|YearBuilt_Tencode', '2ndFlrSF|HalfBath', 'GarageQual_Tencode|GarageYrBltBins_Tencode', 'GarageArea|LotConfig_Tencode', 'BsmtHalfBath|BsmtFinSF1', 'Exterior2nd_Tencode|BsmtFinSF2', 'FullBath|GarageYrBltBins_Tencode', 'OpenPorchSF|ScreenPorch', 'BsmtFinType1_Tencode|YearRemodAdd_Tencode', 'Id|1stFlrSF', 'GarageArea|YearRemodAdd_Tencode', '1stFlrSF|GarageYrBltBins_Tencode', 'PoolArea|BsmtFinType2_Tencode', '3SsnPorch|BsmtExposure_Tencode', 'GarageQual_Tencode|YearRemodAdd_Tencode', 'WoodDeckSF|GarageType_Tencode', 'Heating_Tencode|TotRmsAbvGrd', 'Foundation_Tencode|MiscFeature_Tencode', 'Street_Tencode|KitchenAbvGr', 'BsmtUnfSF|GarageCond_Tencode', 'KitchenAbvGr|Exterior1st_Tencode', 'FireplaceQu_Tencode|Electrical_Tencode', 'GarageFinish_Tencode|MiscFeature_Tencode', 'LandContour_Tencode|EnclosedPorch', 'OverallCond_Tencode|HalfBath', 'GarageArea|GrLivArea', 'Exterior1st_Tencode|Foundation_Tencode', 'Street_Tencode|WoodDeckSF', 'LowQualFinSF|MoSold_Tencode', 'EnclosedPorch|Fireplaces', 'YrSold_Tencode|BsmtFinType1_Tencode', 'MasVnrArea|CentralAir_Tencode', '1stFlrSF|Electrical_Tencode', 'OverallCond', 'YrSold_Tencode|RoofMatl_Tencode', 'SaleCondition_Tencode|SaleType_Tencode', 'RoofStyle_Tencode|LotFrontage', 'Fireplaces|YearBuilt_Tencode', 'LowQualFinSF|LotConfig_Tencode', 'HeatingQC_Tencode', 'BsmtFinType2_Tencode|MiscVal', 'KitchenAbvGr|BldgType_Tencode', 'GarageCars|MasVnrType_Tencode', 'ExterCond_Tencode|YearRemodAdd_Tencode', 'LandContour_Tencode|BsmtCond_Tencode', 'SaleType_Tencode|Fireplaces', 'LotShape_Tencode|Fireplaces', 'GarageType_Tencode|BsmtFinSF2', 'MoSold_Tencode|HalfBath', 'PavedDrive_Tencode|BsmtUnfSF', 'Foundation_Tencode|Utilities_Tencode', 'OpenPorchSF|LotFrontage', 'GarageYrBlt|SaleType_Tencode', 'PavedDrive_Tencode|GarageType_Tencode', 'LowQualFinSF|Electrical_Tencode', 'YrSold_Tencode|PavedDrive_Tencode', 'GarageArea|FullBath', 'LotArea|Alley_Tencode', 'OpenPorchSF|LandContour_Tencode', 'BsmtFinType2_Tencode|EnclosedPorch', 'Condition2_Tencode|MoSold_Tencode', 'MasVnrType_Tencode|GarageType_Tencode', 'MiscVal', 'PoolArea|BsmtFinSF2', 'Exterior1st_Tencode|MoSold_Tencode', 'MiscFeature_Tencode|GarageType_Tencode', 'LowQualFinSF|RoofMatl_Tencode', 'BsmtUnfSF|Heating_Tencode', 'YrSold_Tencode|LotConfig_Tencode', 'BsmtQual_Tencode', 'BsmtUnfSF|HeatingQC_Tencode', 'LotConfig_Tencode|GarageType_Tencode', 'TotalBsmtSF|LowQualFinSF', 'Condition1_Tencode|Electrical_Tencode', 'MasVnrArea|Neighborhood_Tencode', 'BsmtUnfSF|WoodDeckSF', 'MSZoning_Tencode|YearRemodAdd_Tencode', 'BsmtFullBath|MSSubClass_Tencode', 'GarageYrBlt|BsmtUnfSF', 'Heating_Tencode|SaleType_Tencode', 'LotArea|KitchenAbvGr', 'BedroomAbvGr|LotFrontage', 'GarageCond_Tencode|1stFlrSF', 'Utilities_Tencode|RoofMatl_Tencode', 'Id|GarageQual_Tencode', 'RoofStyle_Tencode|Neighborhood_Tencode', 'PoolArea|MSZoning_Tencode', 'Electrical_Tencode|MiscVal', 'PavedDrive_Tencode|Exterior1st_Tencode', 'GrLivArea|ExterCond_Tencode', 'LotArea|GarageCond_Tencode', 'LandSlope_Tencode|RoofMatl_Tencode', 'OpenPorchSF|MiscFeature_Tencode', 'Street_Tencode|MSZoning_Tencode', 'GarageCond_Tencode|HalfBath', 'ExterCond_Tencode|LotConfig_Tencode', 'HalfBath', 'BsmtFullBath|Exterior1st_Tencode', 'FireplaceQu_Tencode|Fireplaces', 'PavedDrive_Tencode|Exterior2nd_Tencode', 'BedroomAbvGr|RoofStyle_Tencode', 'MSZoning_Tencode|SaleCondition_Tencode', 'Condition2_Tencode|Id', 'KitchenAbvGr|EnclosedPorch', 'LotArea|MSSubClass_Tencode', 'MSSubClass_Tencode|BsmtQual_Tencode', 'EnclosedPorch|Alley_Tencode', 'PoolArea|Alley_Tencode', 'BsmtQual_Tencode|HalfBath', 'Heating_Tencode|LotConfig_Tencode', 'MasVnrArea|SaleType_Tencode', 'PavedDrive_Tencode|BsmtFinType1_Tencode', 'BsmtFinType1_Tencode|Exterior2nd_Tencode', 'BsmtFullBath|TotalBsmtSF', 'MasVnrArea|2ndFlrSF', 'SaleType_Tencode|YearRemodAdd_Tencode', 'Exterior1st_Tencode|Id', 'LandContour_Tencode|HeatingQC_Tencode', 'CentralAir_Tencode|Exterior2nd_Tencode', 'BsmtFinSF1|RoofMatl_Tencode', 'BsmtHalfBath|MiscVal', 'BsmtQual_Tencode|YearRemodAdd_Tencode', 'LotConfig_Tencode|RoofMatl_Tencode', 'HouseStyle_Tencode', 'Condition2_Tencode|Functional_Tencode', 'GarageYrBlt|PoolQC_Tencode', 'KitchenQual_Tencode|GarageType_Tencode', '2ndFlrSF|Electrical_Tencode', 'GarageCond_Tencode|EnclosedPorch', 'BldgType_Tencode|KitchenQual_Tencode', 'ScreenPorch|BsmtExposure_Tencode', 'GarageYrBlt|YearBuilt_Tencode', 'ExterQual_Tencode|BsmtFinType1_Tencode', 'YrSold_Tencode|BsmtFinSF2', 'MoSold_Tencode|Neighborhood_Tencode', 'OpenPorchSF|Functional_Tencode', 'YearRemodAdd_Tencode|RoofMatl_Tencode', 'LandSlope_Tencode|GarageYrBltBins_Tencode', 'BsmtFullBath|Alley_Tencode', 'KitchenAbvGr|Fence_Tencode', 'RoofMatl_Tencode|MiscVal', 'BsmtFinSF1|KitchenQual_Tencode', 'GrLivArea|Neighborhood_Tencode', 'GarageArea|TotRmsAbvGrd', 'Exterior1st_Tencode|1stFlrSF', 'PavedDrive_Tencode|LotFrontage', 'ExterQual_Tencode|OverallCond_Tencode', 'ScreenPorch|OverallQual_Tencode', 'BsmtHalfBath|BedroomAbvGr', 'GarageQual_Tencode|LotConfig_Tencode']"
     ]
    },
    {
     "name": "stdout",
     "output_type": "stream",
     "text": [
      "\n",
      "\n",
      "Categorical = ['Heating', 'BsmtFinType1', 'Condition2', 'ExterQual', 'Functional', 'HouseStyle', 'MasVnrType', 'LotShape', 'Utilities', 'BsmtExposure', 'MiscFeature', 'Foundation', 'Street', 'PoolQC', 'FireplaceQu', 'LandContour', 'KitchenQual', 'SaleCondition', 'BsmtCond', 'GarageCond', 'ExterCond', 'RoofMatl', 'CentralAir', 'LandSlope', 'GarageFinish', 'BsmtFinType2', 'Electrical', 'Fence', 'SaleType', 'Exterior2nd', 'RoofStyle', 'GarageType', 'BsmtQual', 'PavedDrive', 'MSZoning', 'Neighborhood', 'Condition1', 'Exterior1st', 'LotConfig', 'Alley', 'BldgType', 'HeatingQC', 'GarageQual', 'GarageYrBltBins']\n"
     ]
    }
   ],
   "source": [
    "encoded_combined_nums, cats = get_type_lists(frame=train2)"
   ]
  },
  {
   "cell_type": "code",
   "execution_count": 41,
   "metadata": {},
   "outputs": [
    {
     "data": {
      "text/plain": [
       "(1001, 3373)"
      ]
     },
     "execution_count": 41,
     "metadata": {},
     "output_type": "execute_result"
    }
   ],
   "source": [
    "train2.shape"
   ]
  },
  {
   "cell_type": "code",
   "execution_count": 42,
   "metadata": {},
   "outputs": [
    {
     "name": "stdout",
     "output_type": "stream",
     "text": [
      "False\n",
      "(1001, 133)\n",
      "False\n",
      "(1459, 133)\n"
     ]
    }
   ],
   "source": [
    "# check number of created variables is correct\n",
    "# 1 id column, 290)) combined variables\n",
    "print(train.shape == (1001, sum(range(1, 290), (290 + 43 + 1 + 1))))\n",
    "print(train.shape)\n",
    "print(test.shape == (1459, sum(range(1, 290), (290 + 43 + 1 + 1))))\n",
    "print(test.shape)"
   ]
  },
  {
   "cell_type": "code",
   "execution_count": 43,
   "metadata": {
    "collapsed": true
   },
   "outputs": [],
   "source": [
    "train=train2\n",
    "valid=valid2\n",
    "test=test2"
   ]
  },
  {
   "cell_type": "code",
   "execution_count": 44,
   "metadata": {
    "collapsed": true
   },
   "outputs": [],
   "source": [
    "h2o.show_progress() # turn on progress bars"
   ]
  },
  {
   "cell_type": "code",
   "execution_count": 45,
   "metadata": {},
   "outputs": [
    {
     "data": {
      "text/html": [
       "<table>\n",
       "<thead>\n",
       "<tr><th style=\"text-align: right;\">  SalePrice</th></tr>\n",
       "</thead>\n",
       "<tbody>\n",
       "<tr><td style=\"text-align: right;\">    12.2477</td></tr>\n",
       "<tr><td style=\"text-align: right;\">    12.109 </td></tr>\n",
       "<tr><td style=\"text-align: right;\">    12.3172</td></tr>\n",
       "</tbody>\n",
       "</table>"
      ]
     },
     "metadata": {},
     "output_type": "display_data"
    },
    {
     "name": "stdout",
     "output_type": "stream",
     "text": [
      "\n"
     ]
    },
    {
     "data": {
      "image/png": "[encoded data removed]",
      "text/plain": [
       "<matplotlib.figure.Figure at 0x12fc1d470>"
      ]
     },
     "metadata": {},
     "output_type": "display_data"
    }
   ],
   "source": [
    "# Check log transform - looks good\n",
    "%matplotlib inline\n",
    "train['SalePrice'].log().as_data_frame().hist()\n",
    "\n",
    "# Execute log transform\n",
    "train['SalePrice'] = train['SalePrice'].log()\n",
    "valid['SalePrice'] = valid['SalePrice'].log()\n",
    "print(train[0:3, 'SalePrice'])"
   ]
  },
  {
   "cell_type": "code",
   "execution_count": 64,
   "metadata": {},
   "outputs": [
    {
     "ename": "ImportError",
     "evalue": "cannot import name '_safe_split'",
     "output_type": "error",
     "traceback": [
      "\u001b[0;31m---------------------------------------------------------------------------\u001b[0m",
      "\u001b[0;31mImportError\u001b[0m                               Traceback (most recent call last)",
      "\u001b[0;32m<ipython-input-64-858dc8db5f0a>\u001b[0m in \u001b[0;36m<module>\u001b[0;34m()\u001b[0m\n\u001b[1;32m      1\u001b[0m \u001b[0;32mfrom\u001b[0m \u001b[0msklearn\u001b[0m\u001b[0;34m.\u001b[0m\u001b[0mlinear_model\u001b[0m \u001b[0;32mimport\u001b[0m \u001b[0mRidge\u001b[0m\u001b[0;34m,\u001b[0m \u001b[0mRidgeCV\u001b[0m\u001b[0;34m,\u001b[0m \u001b[0mElasticNet\u001b[0m\u001b[0;34m,\u001b[0m \u001b[0mLassoCV\u001b[0m\u001b[0;34m,\u001b[0m \u001b[0mLassoLarsCV\u001b[0m\u001b[0;34m\u001b[0m\u001b[0m\n\u001b[0;32m----> 2\u001b[0;31m \u001b[0;32mfrom\u001b[0m \u001b[0msklearn\u001b[0m\u001b[0;34m.\u001b[0m\u001b[0mmodel_selection\u001b[0m \u001b[0;32mimport\u001b[0m \u001b[0mcross_val_score\u001b[0m\u001b[0;34m\u001b[0m\u001b[0m\n\u001b[0m",
      "\u001b[0;32m//anaconda/lib/python3.5/site-packages/sklearn/model_selection/__init__.py\u001b[0m in \u001b[0;36m<module>\u001b[0;34m()\u001b[0m\n\u001b[1;32m     15\u001b[0m \u001b[0;32mfrom\u001b[0m \u001b[0;34m.\u001b[0m\u001b[0m_split\u001b[0m \u001b[0;32mimport\u001b[0m \u001b[0mcheck_cv\u001b[0m\u001b[0;34m\u001b[0m\u001b[0m\n\u001b[1;32m     16\u001b[0m \u001b[0;34m\u001b[0m\u001b[0m\n\u001b[0;32m---> 17\u001b[0;31m \u001b[0;32mfrom\u001b[0m \u001b[0;34m.\u001b[0m\u001b[0m_validation\u001b[0m \u001b[0;32mimport\u001b[0m \u001b[0mcross_val_score\u001b[0m\u001b[0;34m\u001b[0m\u001b[0m\n\u001b[0m\u001b[1;32m     18\u001b[0m \u001b[0;32mfrom\u001b[0m \u001b[0;34m.\u001b[0m\u001b[0m_validation\u001b[0m \u001b[0;32mimport\u001b[0m \u001b[0mcross_val_predict\u001b[0m\u001b[0;34m\u001b[0m\u001b[0m\n\u001b[1;32m     19\u001b[0m \u001b[0;32mfrom\u001b[0m \u001b[0;34m.\u001b[0m\u001b[0m_validation\u001b[0m \u001b[0;32mimport\u001b[0m \u001b[0mlearning_curve\u001b[0m\u001b[0;34m\u001b[0m\u001b[0m\n",
      "\u001b[0;32m//anaconda/lib/python3.5/site-packages/sklearn/model_selection/_validation.py\u001b[0m in \u001b[0;36m<module>\u001b[0;34m()\u001b[0m\n\u001b[1;32m     24\u001b[0m \u001b[0;32mfrom\u001b[0m \u001b[0;34m.\u001b[0m\u001b[0;34m.\u001b[0m\u001b[0mutils\u001b[0m\u001b[0;34m.\u001b[0m\u001b[0mfixes\u001b[0m \u001b[0;32mimport\u001b[0m \u001b[0mastype\u001b[0m\u001b[0;34m\u001b[0m\u001b[0m\n\u001b[1;32m     25\u001b[0m \u001b[0;32mfrom\u001b[0m \u001b[0;34m.\u001b[0m\u001b[0;34m.\u001b[0m\u001b[0mutils\u001b[0m\u001b[0;34m.\u001b[0m\u001b[0mvalidation\u001b[0m \u001b[0;32mimport\u001b[0m \u001b[0m_is_arraylike\u001b[0m\u001b[0;34m,\u001b[0m \u001b[0m_num_samples\u001b[0m\u001b[0;34m\u001b[0m\u001b[0m\n\u001b[0;32m---> 26\u001b[0;31m \u001b[0;32mfrom\u001b[0m \u001b[0;34m.\u001b[0m\u001b[0;34m.\u001b[0m\u001b[0mutils\u001b[0m\u001b[0;34m.\u001b[0m\u001b[0mmetaestimators\u001b[0m \u001b[0;32mimport\u001b[0m \u001b[0m_safe_split\u001b[0m\u001b[0;34m\u001b[0m\u001b[0m\n\u001b[0m\u001b[1;32m     27\u001b[0m \u001b[0;32mfrom\u001b[0m \u001b[0;34m.\u001b[0m\u001b[0;34m.\u001b[0m\u001b[0mexternals\u001b[0m\u001b[0;34m.\u001b[0m\u001b[0mjoblib\u001b[0m \u001b[0;32mimport\u001b[0m \u001b[0mParallel\u001b[0m\u001b[0;34m,\u001b[0m \u001b[0mdelayed\u001b[0m\u001b[0;34m,\u001b[0m \u001b[0mlogger\u001b[0m\u001b[0;34m\u001b[0m\u001b[0m\n\u001b[1;32m     28\u001b[0m \u001b[0;32mfrom\u001b[0m \u001b[0;34m.\u001b[0m\u001b[0;34m.\u001b[0m\u001b[0mmetrics\u001b[0m\u001b[0;34m.\u001b[0m\u001b[0mscorer\u001b[0m \u001b[0;32mimport\u001b[0m \u001b[0mcheck_scoring\u001b[0m\u001b[0;34m\u001b[0m\u001b[0m\n",
      "\u001b[0;31mImportError\u001b[0m: cannot import name '_safe_split'"
     ]
    }
   ],
   "source": [
    "from sklearn.linear_model import Ridge, RidgeCV, ElasticNet, LassoCV, LassoLarsCV\n",
    "from sklearn.model_selection import cross_val_score"
   ]
  },
  {
   "cell_type": "code",
   "execution_count": null,
   "metadata": {
    "collapsed": true
   },
   "outputs": [],
   "source": [
    "model_lasso = LassoCV(alphas = [1, 0.1, 0.001, 0.0005]).fit(encoded_combined_nums, y)"
   ]
  },
  {
   "cell_type": "code",
   "execution_count": 45,
   "metadata": {
    "collapsed": true
   },
   "outputs": [],
   "source": [
    "h2o.show_progress()                                          # turn on progress bars\n",
    "from h2o.estimators.glm import H2OGeneralizedLinearEstimator # import GLM models\n",
    "from h2o.grid.grid_search import H2OGridSearch               "
   ]
  },
  {
   "cell_type": "code",
   "execution_count": 46,
   "metadata": {},
   "outputs": [
    {
     "name": "stdout",
     "output_type": "stream",
     "text": [
      "(504, 3373)\n",
      "(230, 3373)\n",
      "(497, 3373)\n",
      "(229, 3373)\n"
     ]
    }
   ],
   "source": [
    "half_train, other_half_train = train.split_frame([0.5], seed=12345)\n",
    "half_valid, other_half_valid = valid.split_frame([0.5], seed=12345)\n",
    "print(half_train.shape)\n",
    "print(half_valid.shape)\n",
    "print(other_half_train.shape)\n",
    "print(other_half_valid.shape)\n",
    "# no idea why this works better, but it does ... \n",
    "# could be a lucky split that happens to be more representative of test data\n",
    "# could be that it just prevents overfitting"
   ]
  },
  {
   "cell_type": "code",
   "execution_count": 49,
   "metadata": {
    "collapsed": true
   },
   "outputs": [],
   "source": [
    "import re\n",
    "import time\n",
    "\n",
    "def gen_submission(preds, test):\n",
    "\n",
    "    \"\"\" Generates submission file for Kaggle House Prices contest.\n",
    "    \n",
    "    :param preds: Column vector of predictions.\n",
    "    :param test: Test data.\n",
    "    \n",
    "    \"\"\"\n",
    "    \n",
    "    # create time stamp\n",
    "    time_stamp = re.sub('[: ]', '_', time.asctime())\n",
    "\n",
    "    # create predictions column\n",
    "    sub = test['Id'].cbind(preds.exp())\n",
    "    sub.columns = ['Id', 'SalePrice']\n",
    "    \n",
    "    # save file for submission\n",
    "    sub_fname = str(time_stamp) + '.csv'\n",
    "    h2o.download_csv(sub, sub_fname)"
   ]
  },
  {
   "cell_type": "code",
   "execution_count": 48,
   "metadata": {
    "collapsed": true
   },
   "outputs": [],
   "source": [
    "import re\n",
    "import time\n",
    "\n",
    "def gen_submission_glm(model, test):\n",
    "\n",
    "    \"\"\" Generates submission file for Kaggle House Prices contest.\n",
    "    \n",
    "    :param model: Model with which to score test data.\n",
    "    :param test: Test data.\n",
    "    \n",
    "    \"\"\"\n",
    "    \n",
    "    # create time stamp\n",
    "    time_stamp = re.sub('[: ]', '_', time.asctime())\n",
    "\n",
    "    # create predictions column\n",
    "    sub = test['Id'].cbind(model.predict(test).exp())\n",
    "    sub.columns = ['Id', 'SalePrice']\n",
    "    \n",
    "    # save file for submission\n",
    "    sub_fname = str(time_stamp) + '.csv'\n",
    "    h2o.download_csv(sub, sub_fname)\n"
   ]
  },
  {
   "cell_type": "code",
   "execution_count": 56,
   "metadata": {
    "collapsed": true
   },
   "outputs": [],
   "source": [
    "import os\n",
    "\n",
    "def pred_blender(dir_, files):\n",
    "    \n",
    "    \"\"\" Performs simple blending of prediction files. \n",
    "    \n",
    "    :param dir_: Directory in which files to be read are stored.\n",
    "    :param files: List of prediction files to be blended.\n",
    "    \n",
    "    \"\"\"\n",
    "    \n",
    "    # read predictions in files list and cbind\n",
    "    for i, file in enumerate(files):\n",
    "        if i == 0:\n",
    "            df = pd.read_csv(dir_ + os.sep + file).drop('SalePrice', axis=1)\n",
    "        col = pd.read_csv(dir_ + os.sep + file).drop('Id', axis=1)\n",
    "        col.columns = ['SalePrice' + str(i)]\n",
    "        df = pd.concat([df, col], axis=1)\n",
    "        \n",
    "    # create mean prediction    \n",
    "    df['mean'] = df.iloc[:, 1:].mean(axis=1)\n",
    "    print(df.head())\n",
    "        \n",
    "    # create time stamp\n",
    "    time_stamp = re.sub('[: ]', '_', time.asctime())        \n",
    "        \n",
    "    # write new submission file    \n",
    "    df = df[['Id', 'mean']]\n",
    "    df.columns = ['Id', 'SalePrice']\n",
    "    \n",
    "    # save file for submission\n",
    "    sub_fname = str(time_stamp) + '.csv'\n",
    "    df.to_csv(sub_fname, index=False)"
   ]
  },
  {
   "cell_type": "code",
   "execution_count": 50,
   "metadata": {
    "collapsed": true
   },
   "outputs": [],
   "source": [
    "def glm_grid(X, y, train, valid):\n",
    "    \n",
    "    \"\"\" Wrapper function for penalized GLM with alpha and lambda search.\n",
    "    \n",
    "    :param X: List of inputs.\n",
    "    :param y: Name of target variable.\n",
    "    :param train: Name of training H2OFrame.\n",
    "    :param valid: Name of validation H2OFrame.\n",
    "    :return: Best H2Omodel from H2OGeneralizedLinearEstimator\n",
    "\n",
    "    \"\"\"\n",
    "    \n",
    "    alpha_opts = [0.01, 0.25, 0.5, 0.99] # always keep some L2\n",
    "    hyper_parameters = {'alpha': alpha_opts}\n",
    "\n",
    "    # initialize grid search\n",
    "    grid = H2OGridSearch(\n",
    "        H2OGeneralizedLinearEstimator(\n",
    "            family=\"gaussian\",\n",
    "            lambda_search=True,\n",
    "            seed=12345),\n",
    "        hyper_params=hyper_parameters)\n",
    "    \n",
    "    # train grid\n",
    "    grid.train(y=y,\n",
    "               x=X, \n",
    "               training_frame=train,\n",
    "               validation_frame=valid)\n",
    "\n",
    "    # show grid search results\n",
    "    print(grid.show())\n",
    "\n",
    "    best = grid.get_grid()[0]\n",
    "    print(best)\n",
    "    \n",
    "    # plot top frame values\n",
    "    yhat_frame = valid.cbind(best.predict(valid))\n",
    "    print(yhat_frame[0:10, [y, 'predict']])\n",
    "\n",
    "    # plot sorted predictions\n",
    "    yhat_frame_df = yhat_frame[[y, 'predict']].as_data_frame()\n",
    "    yhat_frame_df.sort_values(by='predict', inplace=True)\n",
    "    yhat_frame_df.reset_index(inplace=True, drop=True)\n",
    "    _ = yhat_frame_df.plot(title='Ranked Predictions Plot')\n",
    "    \n",
    "    # select best model\n",
    "    return best"
   ]
  },
  {
   "cell_type": "code",
   "execution_count": 51,
   "metadata": {},
   "outputs": [
    {
     "name": "stdout",
     "output_type": "stream",
     "text": [
      "glm Grid Build progress: |████████████████████████████████████████████████| 100%\n",
      "      alpha                                                       model_ids  \\\n",
      "0    [0.25]  Grid_GLM_py_340_sid_88a6_model_python_1498680313620_15_model_1   \n",
      "1     [0.5]  Grid_GLM_py_340_sid_88a6_model_python_1498680313620_15_model_2   \n",
      "2    [0.99]  Grid_GLM_py_340_sid_88a6_model_python_1498680313620_15_model_3   \n",
      "3    [0.01]  Grid_GLM_py_340_sid_88a6_model_python_1498680313620_15_model_0   \n",
      "\n",
      "    residual_deviance  \n",
      "0  3.4056149704726546  \n",
      "1  3.4432799816367816  \n",
      "2  3.4997037522117393  \n",
      "3  3.7551576194833487  \n",
      "None\n",
      "Model Details\n",
      "=============\n",
      "H2OGeneralizedLinearEstimator :  Generalized Linear Modeling\n",
      "Model Key:  Grid_GLM_py_340_sid_88a6_model_python_1498680313620_15_model_1\n",
      "\n",
      "\n",
      "ModelMetricsRegressionGLM: glm\n",
      "** Reported on train data. **\n",
      "\n",
      "MSE: 0.013012961718910504\n",
      "RMSE: 0.11407436924616547\n",
      "MAE: 0.0804187668027057\n",
      "RMSLE: 0.00892713691702441\n",
      "R^2: 0.9169172448836034\n",
      "Mean Residual Deviance: 0.013012961718910504\n",
      "Null degrees of freedom: 503\n",
      "Residual degrees of freedom: 381\n",
      "Null deviance: 78.93975948609084\n",
      "Residual deviance: 6.558532706330894\n",
      "AIC: -509.9818774561262\n",
      "\n",
      "ModelMetricsRegressionGLM: glm\n",
      "** Reported on validation data. **\n",
      "\n",
      "MSE: 0.014807021610750672\n",
      "RMSE: 0.12168410582631847\n",
      "MAE: 0.09024554869246991\n",
      "RMSLE: 0.009388147986571045\n",
      "R^2: 0.9002234257806391\n",
      "Mean Residual Deviance: 0.014807021610750672\n",
      "Null degrees of freedom: 229\n",
      "Residual degrees of freedom: 107\n",
      "Null deviance: 34.66875782373328\n",
      "Residual deviance: 3.4056149704726546\n",
      "AIC: -68.1986435648958\n",
      "Scoring History: \n"
     ]
    },
    {
     "data": {
      "text/html": [
       "<div style=\"overflow:auto\"><table style=\"width:50%\"><tr><td><b></b></td>\n",
       "<td><b>timestamp</b></td>\n",
       "<td><b>duration</b></td>\n",
       "<td><b>iteration</b></td>\n",
       "<td><b>lambda</b></td>\n",
       "<td><b>predictors</b></td>\n",
       "<td><b>deviance_train</b></td>\n",
       "<td><b>deviance_test</b></td></tr>\n",
       "<tr><td></td>\n",
       "<td>2017-06-28 18:19:13</td>\n",
       "<td> 0.000 sec</td>\n",
       "<td>0</td>\n",
       "<td>.12E1</td>\n",
       "<td>5</td>\n",
       "<td>0.1494544</td>\n",
       "<td>0.1443685</td></tr>\n",
       "<tr><td></td>\n",
       "<td>2017-06-28 18:19:13</td>\n",
       "<td> 0.064 sec</td>\n",
       "<td>0</td>\n",
       "<td>.12E1</td>\n",
       "<td>9</td>\n",
       "<td>0.1408230</td>\n",
       "<td>0.1363925</td></tr>\n",
       "<tr><td></td>\n",
       "<td>2017-06-28 18:19:13</td>\n",
       "<td> 0.147 sec</td>\n",
       "<td>0</td>\n",
       "<td>.11E1</td>\n",
       "<td>13</td>\n",
       "<td>0.1325019</td>\n",
       "<td>0.1287985</td></tr>\n",
       "<tr><td></td>\n",
       "<td>2017-06-28 18:19:13</td>\n",
       "<td> 0.201 sec</td>\n",
       "<td>0</td>\n",
       "<td>.11E1</td>\n",
       "<td>14</td>\n",
       "<td>0.1245454</td>\n",
       "<td>0.1215788</td></tr>\n",
       "<tr><td></td>\n",
       "<td>2017-06-28 18:19:14</td>\n",
       "<td> 0.255 sec</td>\n",
       "<td>0</td>\n",
       "<td>.1E1</td>\n",
       "<td>18</td>\n",
       "<td>0.1170253</td>\n",
       "<td>0.1147682</td></tr>\n",
       "<tr><td>---</td>\n",
       "<td>---</td>\n",
       "<td>---</td>\n",
       "<td>---</td>\n",
       "<td>---</td>\n",
       "<td>---</td>\n",
       "<td>---</td>\n",
       "<td>---</td></tr>\n",
       "<tr><td></td>\n",
       "<td>2017-06-28 18:19:32</td>\n",
       "<td>18.379 sec</td>\n",
       "<td>0</td>\n",
       "<td>.16E-1</td>\n",
       "<td>140</td>\n",
       "<td>0.0109210</td>\n",
       "<td>0.0171281</td></tr>\n",
       "<tr><td></td>\n",
       "<td>2017-06-28 18:19:32</td>\n",
       "<td>18.715 sec</td>\n",
       "<td>0</td>\n",
       "<td>.15E-1</td>\n",
       "<td>141</td>\n",
       "<td>0.0108272</td>\n",
       "<td>0.0173807</td></tr>\n",
       "<tr><td></td>\n",
       "<td>2017-06-28 18:19:32</td>\n",
       "<td>19.062 sec</td>\n",
       "<td>0</td>\n",
       "<td>.14E-1</td>\n",
       "<td>142</td>\n",
       "<td>0.0107194</td>\n",
       "<td>0.0176685</td></tr>\n",
       "<tr><td></td>\n",
       "<td>2017-06-28 18:19:33</td>\n",
       "<td>19.400 sec</td>\n",
       "<td>0</td>\n",
       "<td>.14E-1</td>\n",
       "<td>148</td>\n",
       "<td>0.0106092</td>\n",
       "<td>0.0180386</td></tr>\n",
       "<tr><td></td>\n",
       "<td>2017-06-28 18:19:33</td>\n",
       "<td>19.750 sec</td>\n",
       "<td>0</td>\n",
       "<td>.13E-1</td>\n",
       "<td>145</td>\n",
       "<td>0.0105064</td>\n",
       "<td>0.0184944</td></tr></table></div>"
      ],
      "text/plain": [
       "     timestamp            duration    iteration    lambda    predictors    deviance_train        deviance_test\n",
       "---  -------------------  ----------  -----------  --------  ------------  --------------------  --------------------\n",
       "     2017-06-28 18:19:13  0.000 sec   0            .12E1     5             0.14945435605696974   0.14436845024707495\n",
       "     2017-06-28 18:19:13  0.064 sec   0            .12E1     9             0.1408229944432923    0.1363924545314126\n",
       "     2017-06-28 18:19:13  0.147 sec   0            .11E1     13            0.13250190653808305   0.12879853948599915\n",
       "     2017-06-28 18:19:13  0.201 sec   0            .11E1     14            0.12454536925909611   0.12157876386924162\n",
       "     2017-06-28 18:19:14  0.255 sec   0            .1E1      18            0.11702525208584987   0.1147681948577734\n",
       "---  ---                  ---         ---          ---       ---           ---                   ---\n",
       "     2017-06-28 18:19:32  18.379 sec  0            .16E-1    140           0.010921046547053496  0.017128131942684748\n",
       "     2017-06-28 18:19:32  18.715 sec  0            .15E-1    141           0.01082717846443374   0.017380724887247675\n",
       "     2017-06-28 18:19:32  19.062 sec  0            .14E-1    142           0.01071938094442192   0.017668462243324246\n",
       "     2017-06-28 18:19:33  19.400 sec  0            .14E-1    148           0.0106092212455902    0.018038553482199165\n",
       "     2017-06-28 18:19:33  19.750 sec  0            .13E-1    145           0.010506353377480529  0.018494367224874655"
      ]
     },
     "metadata": {},
     "output_type": "display_data"
    },
    {
     "name": "stdout",
     "output_type": "stream",
     "text": [
      "\n",
      "See the whole table with table.as_data_frame()\n",
      "\n",
      "glm prediction progress: |████████████████████████████████████████████████| 100%\n"
     ]
    },
    {
     "data": {
      "text/html": [
       "<table>\n",
       "<thead>\n",
       "<tr><th style=\"text-align: right;\">  SalePrice</th><th style=\"text-align: right;\">  predict</th></tr>\n",
       "</thead>\n",
       "<tbody>\n",
       "<tr><td style=\"text-align: right;\">    11.8494</td><td style=\"text-align: right;\">  12.0584</td></tr>\n",
       "<tr><td style=\"text-align: right;\">    12.2061</td><td style=\"text-align: right;\">  12.1591</td></tr>\n",
       "<tr><td style=\"text-align: right;\">    11.6784</td><td style=\"text-align: right;\">  11.7536</td></tr>\n",
       "<tr><td style=\"text-align: right;\">    11.914 </td><td style=\"text-align: right;\">  11.7733</td></tr>\n",
       "<tr><td style=\"text-align: right;\">    12.6758</td><td style=\"text-align: right;\">  12.4255</td></tr>\n",
       "<tr><td style=\"text-align: right;\">    12.861 </td><td style=\"text-align: right;\">  12.7446</td></tr>\n",
       "<tr><td style=\"text-align: right;\">    12.1035</td><td style=\"text-align: right;\">  11.9404</td></tr>\n",
       "<tr><td style=\"text-align: right;\">    11.2898</td><td style=\"text-align: right;\">  11.3687</td></tr>\n",
       "<tr><td style=\"text-align: right;\">    11.7714</td><td style=\"text-align: right;\">  11.6492</td></tr>\n",
       "<tr><td style=\"text-align: right;\">    11.5843</td><td style=\"text-align: right;\">  11.5342</td></tr>\n",
       "</tbody>\n",
       "</table>"
      ]
     },
     "metadata": {},
     "output_type": "display_data"
    },
    {
     "name": "stdout",
     "output_type": "stream",
     "text": [
      "\n",
      "glm prediction progress: |████████████████████████████████████████████████| 100%\n"
     ]
    },
    {
     "data": {
      "image/png": "[encoded data removed]",
      "text/plain": [
       "<matplotlib.figure.Figure at 0x1043577f0>"
      ]
     },
     "metadata": {},
     "output_type": "display_data"
    }
   ],
   "source": [
    "glm0_0 = glm_grid(encoded_combined_nums, 'SalePrice',  half_train, half_valid)\n",
    "gen_submission_glm(glm0_0,test) # Valid RMSE: 0.1325 #0.1216"
   ]
  },
  {
   "cell_type": "code",
   "execution_count": 56,
   "metadata": {},
   "outputs": [
    {
     "name": "stdout",
     "output_type": "stream",
     "text": [
      "glm prediction progress: |████████████████████████████████████████████████| 100%\n"
     ]
    }
   ],
   "source": [
    "#glm0_1 = glm_grid(encoded_combined_nums, 'SalePrice', other_half_train, other_half_valid)\n",
    "gen_submission_glm(glm0_1,test) # Valid RMSE: 0.11931 0.116"
   ]
  },
  {
   "cell_type": "code",
   "execution_count": 57,
   "metadata": {},
   "outputs": [
    {
     "name": "stdout",
     "output_type": "stream",
     "text": [
      "     Id     SalePrice0     SalePrice1           mean\n",
      "0  1461  111616.590094  102381.940726  106999.265410\n",
      "1  1462  142175.020593  142154.134369  142164.577481\n",
      "2  1463  173016.519084  167166.252038  170091.385561\n",
      "3  1464  190380.120019  183069.989015  186725.054517\n",
      "4  1465  211946.803098  202118.377125  207032.590112\n"
     ]
    }
   ],
   "source": [
    "pred_blender('/Users/zhaorc/Desktop/ML/files', \n",
    "             ['Wed_Jun_28_18_20_10_2017.csv',\n",
    "              'Wed_Jun_28_18_24_29_2017.csv'])\n",
    "# 0.13337 on public leaderboard, better than single model!"
   ]
  },
  {
   "cell_type": "code",
   "execution_count": 61,
   "metadata": {},
   "outputs": [
    {
     "name": "stdout",
     "output_type": "stream",
     "text": [
      "xgboost Model Build progress: |███████████████████████████████████████████| 100%\n",
      "Model Details\n",
      "=============\n",
      "H2OXGBoostEstimator :  XGBoost\n",
      "Model Key:  XGBoost_model_python_1498689887404_6\n",
      "\n",
      "\n",
      "ModelMetricsRegression: xgboost\n",
      "** Reported on train data. **\n",
      "\n",
      "MSE: 0.007853003651943\n",
      "RMSE: 0.08861717470074862\n",
      "MAE: 0.05100827498154921\n",
      "RMSLE: 0.006893808013459485\n",
      "Mean Residual Deviance: 0.007853003651943\n",
      "\n",
      "ModelMetricsRegression: xgboost\n",
      "** Reported on validation data. **\n",
      "\n",
      "MSE: 0.016968616551748156\n",
      "RMSE: 0.1302636424784297\n",
      "MAE: 0.09777677240974243\n",
      "RMSLE: 0.010149475940399387\n",
      "Mean Residual Deviance: 0.016968616551748156\n",
      "\n",
      "ModelMetricsRegression: xgboost\n",
      "** Reported on cross-validation data. **\n",
      "\n",
      "MSE: 0.01737877027724037\n",
      "RMSE: 0.13182856396563064\n",
      "MAE: 0.08803862458342439\n",
      "RMSLE: 0.010211667601823064\n",
      "Mean Residual Deviance: 0.01737877027724037\n",
      "Cross-Validation Metrics Summary: \n"
     ]
    },
    {
     "data": {
      "text/html": [
       "<div style=\"overflow:auto\"><table style=\"width:50%\"><tr><td><b></b></td>\n",
       "<td><b>mean</b></td>\n",
       "<td><b>sd</b></td>\n",
       "<td><b>cv_1_valid</b></td>\n",
       "<td><b>cv_2_valid</b></td>\n",
       "<td><b>cv_3_valid</b></td></tr>\n",
       "<tr><td>mae</td>\n",
       "<td>0.0880090</td>\n",
       "<td>0.0005377</td>\n",
       "<td>0.0870396</td>\n",
       "<td>0.0888969</td>\n",
       "<td>0.0880903</td></tr>\n",
       "<tr><td>mean_residual_deviance</td>\n",
       "<td>0.0173193</td>\n",
       "<td>0.0017439</td>\n",
       "<td>0.0184114</td>\n",
       "<td>0.0196417</td>\n",
       "<td>0.0139046</td></tr>\n",
       "<tr><td>mse</td>\n",
       "<td>0.0173193</td>\n",
       "<td>0.0017439</td>\n",
       "<td>0.0184114</td>\n",
       "<td>0.0196417</td>\n",
       "<td>0.0139046</td></tr>\n",
       "<tr><td>r2</td>\n",
       "<td>0.8880365</td>\n",
       "<td>0.0024635</td>\n",
       "<td>0.883395</td>\n",
       "<td>0.8889255</td>\n",
       "<td>0.8917889</td></tr>\n",
       "<tr><td>residual_deviance</td>\n",
       "<td>0.0173193</td>\n",
       "<td>0.0017439</td>\n",
       "<td>0.0184114</td>\n",
       "<td>0.0196417</td>\n",
       "<td>0.0139046</td></tr>\n",
       "<tr><td>rmse</td>\n",
       "<td>0.1312519</td>\n",
       "<td>0.0067902</td>\n",
       "<td>0.1356886</td>\n",
       "<td>0.1401490</td>\n",
       "<td>0.1179179</td></tr>\n",
       "<tr><td>rmsle</td>\n",
       "<td>0.0101616</td>\n",
       "<td>0.0005652</td>\n",
       "<td>0.0105334</td>\n",
       "<td>0.0109000</td>\n",
       "<td>0.0090512</td></tr></table></div>"
      ],
      "text/plain": [
       "                        mean       sd           cv_1_valid    cv_2_valid    cv_3_valid\n",
       "----------------------  ---------  -----------  ------------  ------------  ------------\n",
       "mae                     0.088009   0.000537685  0.0870396     0.0888969     0.0880903\n",
       "mean_residual_deviance  0.0173193  0.00174386   0.0184114     0.0196417     0.0139046\n",
       "mse                     0.0173193  0.00174386   0.0184114     0.0196417     0.0139046\n",
       "r2                      0.888037   0.00246354   0.883395      0.888926      0.891789\n",
       "residual_deviance       0.0173193  0.00174386   0.0184114     0.0196417     0.0139046\n",
       "rmse                    0.131252   0.00679016   0.135689      0.140149      0.117918\n",
       "rmsle                   0.0101616  0.000565179  0.0105334     0.0109        0.0090512"
      ]
     },
     "metadata": {},
     "output_type": "display_data"
    },
    {
     "name": "stdout",
     "output_type": "stream",
     "text": [
      "Scoring History: \n"
     ]
    },
    {
     "data": {
      "text/html": [
       "<div style=\"overflow:auto\"><table style=\"width:50%\"><tr><td><b></b></td>\n",
       "<td><b>timestamp</b></td>\n",
       "<td><b>duration</b></td>\n",
       "<td><b>number_of_trees</b></td>\n",
       "<td><b>training_rmse</b></td>\n",
       "<td><b>training_mae</b></td>\n",
       "<td><b>training_deviance</b></td>\n",
       "<td><b>validation_rmse</b></td>\n",
       "<td><b>validation_mae</b></td>\n",
       "<td><b>validation_deviance</b></td></tr>\n",
       "<tr><td></td>\n",
       "<td>2017-06-28 19:28:53</td>\n",
       "<td> 7 min 36.977 sec</td>\n",
       "<td>0.0</td>\n",
       "<td>11.5392208</td>\n",
       "<td>11.5324996</td>\n",
       "<td>133.1536163</td>\n",
       "<td>11.5129466</td>\n",
       "<td>11.5056257</td>\n",
       "<td>132.5479390</td></tr>\n",
       "<tr><td></td>\n",
       "<td>2017-06-28 19:28:54</td>\n",
       "<td> 7 min 38.003 sec</td>\n",
       "<td>1.0</td>\n",
       "<td>11.4819725</td>\n",
       "<td>11.4752177</td>\n",
       "<td>131.8356917</td>\n",
       "<td>11.4557013</td>\n",
       "<td>11.4483439</td>\n",
       "<td>131.2330931</td></tr>\n",
       "<tr><td></td>\n",
       "<td>2017-06-28 19:28:54</td>\n",
       "<td> 7 min 38.026 sec</td>\n",
       "<td>2.0</td>\n",
       "<td>11.4251113</td>\n",
       "<td>11.4183229</td>\n",
       "<td>130.5331687</td>\n",
       "<td>11.3988433</td>\n",
       "<td>11.3914491</td>\n",
       "<td>129.9336282</td></tr>\n",
       "<tr><td></td>\n",
       "<td>2017-06-28 19:28:54</td>\n",
       "<td> 7 min 38.051 sec</td>\n",
       "<td>3.0</td>\n",
       "<td>11.3687604</td>\n",
       "<td>11.3619384</td>\n",
       "<td>129.2487136</td>\n",
       "<td>11.3424955</td>\n",
       "<td>11.3350646</td>\n",
       "<td>128.6522036</td></tr>\n",
       "<tr><td></td>\n",
       "<td>2017-06-28 19:28:54</td>\n",
       "<td> 7 min 38.076 sec</td>\n",
       "<td>4.0</td>\n",
       "<td>11.3123131</td>\n",
       "<td>11.3054570</td>\n",
       "<td>127.9684283</td>\n",
       "<td>11.2860513</td>\n",
       "<td>11.2785832</td>\n",
       "<td>127.3749540</td></tr>\n",
       "<tr><td>---</td>\n",
       "<td>---</td>\n",
       "<td>---</td>\n",
       "<td>---</td>\n",
       "<td>---</td>\n",
       "<td>---</td>\n",
       "<td>---</td>\n",
       "<td>---</td>\n",
       "<td>---</td>\n",
       "<td>---</td></tr>\n",
       "<tr><td></td>\n",
       "<td>2017-06-28 19:32:03</td>\n",
       "<td>10 min 47.413 sec</td>\n",
       "<td>3400.0</td>\n",
       "<td>0.0905691</td>\n",
       "<td>0.0525809</td>\n",
       "<td>0.0082028</td>\n",
       "<td>0.1294761</td>\n",
       "<td>0.0968786</td>\n",
       "<td>0.0167641</td></tr>\n",
       "<tr><td></td>\n",
       "<td>2017-06-28 19:32:07</td>\n",
       "<td>10 min 51.461 sec</td>\n",
       "<td>3466.0</td>\n",
       "<td>0.0899783</td>\n",
       "<td>0.0522799</td>\n",
       "<td>0.0080961</td>\n",
       "<td>0.1306100</td>\n",
       "<td>0.0982302</td>\n",
       "<td>0.0170590</td></tr>\n",
       "<tr><td></td>\n",
       "<td>2017-06-28 19:32:11</td>\n",
       "<td>10 min 55.478 sec</td>\n",
       "<td>3530.0</td>\n",
       "<td>0.0895484</td>\n",
       "<td>0.0516972</td>\n",
       "<td>0.0080189</td>\n",
       "<td>0.1297358</td>\n",
       "<td>0.0973302</td>\n",
       "<td>0.0168314</td></tr>\n",
       "<tr><td></td>\n",
       "<td>2017-06-28 19:32:15</td>\n",
       "<td>10 min 59.482 sec</td>\n",
       "<td>3594.0</td>\n",
       "<td>0.0890483</td>\n",
       "<td>0.0513653</td>\n",
       "<td>0.0079296</td>\n",
       "<td>0.1303714</td>\n",
       "<td>0.0979503</td>\n",
       "<td>0.0169967</td></tr>\n",
       "<tr><td></td>\n",
       "<td>2017-06-28 19:32:19</td>\n",
       "<td>11 min  3.517 sec</td>\n",
       "<td>3650.0</td>\n",
       "<td>0.0886172</td>\n",
       "<td>0.0510083</td>\n",
       "<td>0.0078530</td>\n",
       "<td>0.1302636</td>\n",
       "<td>0.0977768</td>\n",
       "<td>0.0169686</td></tr></table></div>"
      ],
      "text/plain": [
       "     timestamp            duration           number_of_trees    training_rmse        training_mae          training_deviance     validation_rmse      validation_mae       validation_deviance\n",
       "---  -------------------  -----------------  -----------------  -------------------  --------------------  --------------------  -------------------  -------------------  ---------------------\n",
       "     2017-06-28 19:28:53  7 min 36.977 sec   0.0                11.53922078459229    11.532499576305652    133.1536163155667     11.512946582875738   11.505625745569699   132.54793902015015\n",
       "     2017-06-28 19:28:54  7 min 38.003 sec   1.0                11.481972463980574   11.475217724537158    131.83569166360815    11.455701337489975   11.448343893801205   131.23309313376961\n",
       "     2017-06-28 19:28:54  7 min 38.026 sec   2.0                11.425111322082083   11.418322945331836    130.5331687219682     11.398843281379989   11.391449114595883   129.9336281534617\n",
       "     2017-06-28 19:28:54  7 min 38.051 sec   3.0                11.368760426354592   11.36193838188579     129.24871363184624    11.3424954750605     11.335064551149838   128.65220360176795\n",
       "     2017-06-28 19:28:54  7 min 38.076 sec   4.0                11.312313126870784   11.30545702049663     127.96842828037303    11.28605130200047    11.278583189760678   127.37495399138648\n",
       "---  ---                  ---                ---                ---                  ---                   ---                   ---                  ---                  ---\n",
       "     2017-06-28 19:32:03  10 min 47.413 sec  3400.0             0.09056914395210075  0.05258087916569514   0.008202769836216348  0.12947612237540937  0.09687859819865174  0.016764066265371982\n",
       "     2017-06-28 19:32:07  10 min 51.461 sec  3466.0             0.08997834834024215  0.05227990393395667   0.008096103170037958  0.1306100126027378   0.0982301977984526   0.017058975392087325\n",
       "     2017-06-28 19:32:11  10 min 55.478 sec  3530.0             0.08954840258581293  0.05169723750828029   0.008018916405670826  0.1297357850497654   0.09733019726988018  0.016831373922478934\n",
       "     2017-06-28 19:32:15  10 min 59.482 sec  3594.0             0.08904832367020908  0.051365322642750316  0.007929603948474319  0.13037141320255333  0.09795028295911735  0.016996705380430892\n",
       "     2017-06-28 19:32:19  11 min  3.517 sec  3650.0             0.08861717470074862  0.05100827498154921   0.007853003651943     0.1302636424784297   0.09777677240974243  0.016968616551748156"
      ]
     },
     "metadata": {},
     "output_type": "display_data"
    },
    {
     "name": "stdout",
     "output_type": "stream",
     "text": [
      "\n",
      "See the whole table with table.as_data_frame()\n",
      "Variable Importances: \n"
     ]
    },
    {
     "data": {
      "text/html": [
       "<div style=\"overflow:auto\"><table style=\"width:50%\"><tr><td><b>variable</b></td>\n",
       "<td><b>relative_importance</b></td>\n",
       "<td><b>scaled_importance</b></td>\n",
       "<td><b>percentage</b></td></tr>\n",
       "<tr><td>BsmtUnfSF|Id</td>\n",
       "<td>105.0</td>\n",
       "<td>1.0</td>\n",
       "<td>0.0057673</td></tr>\n",
       "<tr><td>Id|BsmtFinSF1</td>\n",
       "<td>63.0</td>\n",
       "<td>0.6</td>\n",
       "<td>0.0034604</td></tr>\n",
       "<tr><td>YrSold_Tencode|GarageYrBlt</td>\n",
       "<td>56.0</td>\n",
       "<td>0.5333333</td>\n",
       "<td>0.0030759</td></tr>\n",
       "<tr><td>BsmtUnfSF|BsmtFinSF1</td>\n",
       "<td>56.0</td>\n",
       "<td>0.5333333</td>\n",
       "<td>0.0030759</td></tr>\n",
       "<tr><td>GarageCars|Id</td>\n",
       "<td>55.0</td>\n",
       "<td>0.5238095</td>\n",
       "<td>0.0030210</td></tr>\n",
       "<tr><td>---</td>\n",
       "<td>---</td>\n",
       "<td>---</td>\n",
       "<td>---</td></tr>\n",
       "<tr><td>BsmtUnfSF|ScreenPorch</td>\n",
       "<td>1.0</td>\n",
       "<td>0.0095238</td>\n",
       "<td>0.0000549</td></tr>\n",
       "<tr><td>Foundation_Tencode|LotConfig_Tencode</td>\n",
       "<td>1.0</td>\n",
       "<td>0.0095238</td>\n",
       "<td>0.0000549</td></tr>\n",
       "<tr><td>BsmtFullBath|HalfBath</td>\n",
       "<td>1.0</td>\n",
       "<td>0.0095238</td>\n",
       "<td>0.0000549</td></tr>\n",
       "<tr><td>HouseStyle_Tencode|Heating_Tencode</td>\n",
       "<td>1.0</td>\n",
       "<td>0.0095238</td>\n",
       "<td>0.0000549</td></tr>\n",
       "<tr><td>KitchenQual_Tencode|GarageCond_Tencode</td>\n",
       "<td>1.0</td>\n",
       "<td>0.0095238</td>\n",
       "<td>0.0000549</td></tr></table></div>"
      ],
      "text/plain": [
       "variable                                relative_importance    scaled_importance     percentage\n",
       "--------------------------------------  ---------------------  --------------------  ----------------------\n",
       "BsmtUnfSF|Id                            105.0                  1.0                   0.005767329451829067\n",
       "Id|BsmtFinSF1                           63.0                   0.6                   0.0034603976710974402\n",
       "YrSold_Tencode|GarageYrBlt              56.0                   0.5333333333333333    0.0030759090409755024\n",
       "BsmtUnfSF|BsmtFinSF1                    56.0                   0.5333333333333333    0.0030759090409755024\n",
       "GarageCars|Id                           55.0                   0.5238095238095238    0.0030209820938152257\n",
       "---                                     ---                    ---                   ---\n",
       "BsmtUnfSF|ScreenPorch                   1.0                    0.009523809523809525  5.4926947160276834e-05\n",
       "Foundation_Tencode|LotConfig_Tencode    1.0                    0.009523809523809525  5.4926947160276834e-05\n",
       "BsmtFullBath|HalfBath                   1.0                    0.009523809523809525  5.4926947160276834e-05\n",
       "HouseStyle_Tencode|Heating_Tencode      1.0                    0.009523809523809525  5.4926947160276834e-05\n",
       "KitchenQual_Tencode|GarageCond_Tencode  1.0                    0.009523809523809525  5.4926947160276834e-05"
      ]
     },
     "metadata": {},
     "output_type": "display_data"
    },
    {
     "name": "stdout",
     "output_type": "stream",
     "text": [
      "\n",
      "See the whole table with table.as_data_frame()\n",
      "\n",
      "xgboost prediction progress: |████████████████████████████████████████████| 100%\n",
      "xgboost prediction progress: |████████████████████████████████████████████| 100%\n"
     ]
    }
   ],
   "source": [
    "# initialize XGB GBM\n",
    "h2o_xgb_model = H2OXGBoostEstimator(\n",
    "    ntrees = 10000,\n",
    "    learn_rate = 0.005,\n",
    "    sample_rate = 0.1, \n",
    "    col_sample_rate = 0.8,\n",
    "    max_depth = 5,\n",
    "    nfolds = 3,\n",
    "    keep_cross_validation_predictions=True,\n",
    "    stopping_rounds = 10,\n",
    "    seed = 12345)\n",
    "\n",
    "# execute training \n",
    "h2o_xgb_model.train(x=encoded_combined_nums,\n",
    "                    y='SalePrice',\n",
    "                    training_frame=train,\n",
    "                    validation_frame=valid)\n",
    "\n",
    "# print model information/create submission\n",
    "print(h2o_xgb_model)\n",
    "h2o_xgb_preds1_val = h2o_xgb_model.predict(valid)\n",
    "#ranked_preds_plot('SalePrice', valid, h2o_xgb_preds1_val) \n",
    "h2o_xgb_preds1_test = h2o_xgb_model.predict(test)\n",
    "gen_submission(h2o_xgb_preds1_test,test) # 0.16494 on public leaderboard"
   ]
  },
  {
   "cell_type": "code",
   "execution_count": 59,
   "metadata": {
    "collapsed": true
   },
   "outputs": [],
   "source": [
    "gen_submission(h2o_xgb_preds1_test)"
   ]
  },
  {
   "cell_type": "code",
   "execution_count": 46,
   "metadata": {},
   "outputs": [
    {
     "name": "stdout",
     "output_type": "stream",
     "text": [
      "drf Model Build progress: |███████████████████████████████████████████████| 100%\n",
      "Model Details\n",
      "=============\n",
      "H2ORandomForestEstimator :  Distributed Random Forest\n",
      "Model Key:  DRF_model_python_1498689887404_1\n",
      "\n",
      "\n",
      "ModelMetricsRegression: drf\n",
      "** Reported on train data. **\n",
      "\n",
      "MSE: 0.017465047624399446\n",
      "RMSE: 0.13215539196112827\n",
      "MAE: 0.08985047747144462\n",
      "RMSLE: 0.010274034427532316\n",
      "Mean Residual Deviance: 0.017465047624399446\n",
      "\n",
      "ModelMetricsRegression: drf\n",
      "** Reported on validation data. **\n",
      "\n",
      "MSE: 0.016856437588690557\n",
      "RMSE: 0.12983234415464645\n",
      "MAE: 0.09266319949920339\n",
      "RMSLE: 0.010043923523736568\n",
      "Mean Residual Deviance: 0.016856437588690557\n",
      "\n",
      "ModelMetricsRegression: drf\n",
      "** Reported on cross-validation data. **\n",
      "\n",
      "MSE: 0.01857373183889105\n",
      "RMSE: 0.13628547919309325\n",
      "MAE: 0.08988988575395503\n",
      "RMSLE: 0.01060257046671778\n",
      "Mean Residual Deviance: 0.01857373183889105\n",
      "Cross-Validation Metrics Summary: \n"
     ]
    },
    {
     "data": {
      "text/html": [
       "<div style=\"overflow:auto\"><table style=\"width:50%\"><tr><td><b></b></td>\n",
       "<td><b>mean</b></td>\n",
       "<td><b>sd</b></td>\n",
       "<td><b>cv_1_valid</b></td>\n",
       "<td><b>cv_2_valid</b></td>\n",
       "<td><b>cv_3_valid</b></td></tr>\n",
       "<tr><td>mae</td>\n",
       "<td>0.0898669</td>\n",
       "<td>0.0003805</td>\n",
       "<td>0.0892916</td>\n",
       "<td>0.0905859</td>\n",
       "<td>0.0897232</td></tr>\n",
       "<tr><td>mean_residual_deviance</td>\n",
       "<td>0.0185476</td>\n",
       "<td>0.0015630</td>\n",
       "<td>0.0203919</td>\n",
       "<td>0.0198113</td>\n",
       "<td>0.0154396</td></tr>\n",
       "<tr><td>mse</td>\n",
       "<td>0.0185476</td>\n",
       "<td>0.0015630</td>\n",
       "<td>0.0203919</td>\n",
       "<td>0.0198113</td>\n",
       "<td>0.0154396</td></tr>\n",
       "<tr><td>r2</td>\n",
       "<td>0.879554</td>\n",
       "<td>0.0049428</td>\n",
       "<td>0.8708518</td>\n",
       "<td>0.8879668</td>\n",
       "<td>0.8798433</td></tr>\n",
       "<tr><td>residual_deviance</td>\n",
       "<td>0.0185476</td>\n",
       "<td>0.0015630</td>\n",
       "<td>0.0203919</td>\n",
       "<td>0.0198113</td>\n",
       "<td>0.0154396</td></tr>\n",
       "<tr><td>rmse</td>\n",
       "<td>0.1359363</td>\n",
       "<td>0.0058699</td>\n",
       "<td>0.1428003</td>\n",
       "<td>0.1407526</td>\n",
       "<td>0.1242561</td></tr>\n",
       "<tr><td>rmsle</td>\n",
       "<td>0.0105669</td>\n",
       "<td>0.0005157</td>\n",
       "<td>0.0111116</td>\n",
       "<td>0.0110530</td>\n",
       "<td>0.0095361</td></tr></table></div>"
      ],
      "text/plain": [
       "                        mean       sd           cv_1_valid    cv_2_valid    cv_3_valid\n",
       "----------------------  ---------  -----------  ------------  ------------  ------------\n",
       "mae                     0.0898669  0.000380489  0.0892916     0.0905859     0.0897232\n",
       "mean_residual_deviance  0.0185476  0.00156302   0.0203919     0.0198113     0.0154396\n",
       "mse                     0.0185476  0.00156302   0.0203919     0.0198113     0.0154396\n",
       "r2                      0.879554   0.00494277   0.870852      0.887967      0.879843\n",
       "residual_deviance       0.0185476  0.00156302   0.0203919     0.0198113     0.0154396\n",
       "rmse                    0.135936   0.00586993   0.1428        0.140753      0.124256\n",
       "rmsle                   0.0105669  0.000515667  0.0111116     0.011053      0.00953614"
      ]
     },
     "metadata": {},
     "output_type": "display_data"
    },
    {
     "name": "stdout",
     "output_type": "stream",
     "text": [
      "Scoring History: \n"
     ]
    },
    {
     "data": {
      "text/html": [
       "<div style=\"overflow:auto\"><table style=\"width:50%\"><tr><td><b></b></td>\n",
       "<td><b>timestamp</b></td>\n",
       "<td><b>duration</b></td>\n",
       "<td><b>number_of_trees</b></td>\n",
       "<td><b>training_rmse</b></td>\n",
       "<td><b>training_mae</b></td>\n",
       "<td><b>training_deviance</b></td>\n",
       "<td><b>validation_rmse</b></td>\n",
       "<td><b>validation_mae</b></td>\n",
       "<td><b>validation_deviance</b></td></tr>\n",
       "<tr><td></td>\n",
       "<td>2017-06-28 18:54:03</td>\n",
       "<td> 4 min  4.625 sec</td>\n",
       "<td>0.0</td>\n",
       "<td>nan</td>\n",
       "<td>nan</td>\n",
       "<td>nan</td>\n",
       "<td>nan</td>\n",
       "<td>nan</td>\n",
       "<td>nan</td></tr>\n",
       "<tr><td></td>\n",
       "<td>2017-06-28 18:54:03</td>\n",
       "<td> 4 min  5.087 sec</td>\n",
       "<td>1.0</td>\n",
       "<td>0.2053192</td>\n",
       "<td>0.1442051</td>\n",
       "<td>0.0421560</td>\n",
       "<td>0.1914737</td>\n",
       "<td>0.1385821</td>\n",
       "<td>0.0366622</td></tr>\n",
       "<tr><td></td>\n",
       "<td>2017-06-28 18:54:04</td>\n",
       "<td> 4 min  5.588 sec</td>\n",
       "<td>2.0</td>\n",
       "<td>0.2021184</td>\n",
       "<td>0.1451268</td>\n",
       "<td>0.0408518</td>\n",
       "<td>0.1678469</td>\n",
       "<td>0.1206358</td>\n",
       "<td>0.0281726</td></tr>\n",
       "<tr><td></td>\n",
       "<td>2017-06-28 18:54:04</td>\n",
       "<td> 4 min  6.077 sec</td>\n",
       "<td>3.0</td>\n",
       "<td>0.2059234</td>\n",
       "<td>0.1444103</td>\n",
       "<td>0.0424045</td>\n",
       "<td>0.1531739</td>\n",
       "<td>0.1111464</td>\n",
       "<td>0.0234622</td></tr>\n",
       "<tr><td></td>\n",
       "<td>2017-06-28 18:54:05</td>\n",
       "<td> 4 min  6.571 sec</td>\n",
       "<td>4.0</td>\n",
       "<td>0.1917852</td>\n",
       "<td>0.1371583</td>\n",
       "<td>0.0367816</td>\n",
       "<td>0.1456185</td>\n",
       "<td>0.1055259</td>\n",
       "<td>0.0212048</td></tr>\n",
       "<tr><td>---</td>\n",
       "<td>---</td>\n",
       "<td>---</td>\n",
       "<td>---</td>\n",
       "<td>---</td>\n",
       "<td>---</td>\n",
       "<td>---</td>\n",
       "<td>---</td>\n",
       "<td>---</td>\n",
       "<td>---</td></tr>\n",
       "<tr><td></td>\n",
       "<td>2017-06-28 18:55:33</td>\n",
       "<td> 5 min 35.108 sec</td>\n",
       "<td>168.0</td>\n",
       "<td>0.1324222</td>\n",
       "<td>0.0899862</td>\n",
       "<td>0.0175356</td>\n",
       "<td>0.1298885</td>\n",
       "<td>0.0927521</td>\n",
       "<td>0.0168710</td></tr>\n",
       "<tr><td></td>\n",
       "<td>2017-06-28 18:55:34</td>\n",
       "<td> 5 min 35.663 sec</td>\n",
       "<td>169.0</td>\n",
       "<td>0.1322458</td>\n",
       "<td>0.0898968</td>\n",
       "<td>0.0174889</td>\n",
       "<td>0.1299202</td>\n",
       "<td>0.0927988</td>\n",
       "<td>0.0168793</td></tr>\n",
       "<tr><td></td>\n",
       "<td>2017-06-28 18:55:34</td>\n",
       "<td> 5 min 36.217 sec</td>\n",
       "<td>170.0</td>\n",
       "<td>0.1322448</td>\n",
       "<td>0.0898847</td>\n",
       "<td>0.0174887</td>\n",
       "<td>0.1297955</td>\n",
       "<td>0.0927027</td>\n",
       "<td>0.0168469</td></tr>\n",
       "<tr><td></td>\n",
       "<td>2017-06-28 18:55:35</td>\n",
       "<td> 5 min 36.696 sec</td>\n",
       "<td>171.0</td>\n",
       "<td>0.1322186</td>\n",
       "<td>0.0898393</td>\n",
       "<td>0.0174818</td>\n",
       "<td>0.1298279</td>\n",
       "<td>0.0926693</td>\n",
       "<td>0.0168553</td></tr>\n",
       "<tr><td></td>\n",
       "<td>2017-06-28 18:55:35</td>\n",
       "<td> 5 min 37.165 sec</td>\n",
       "<td>172.0</td>\n",
       "<td>0.1321554</td>\n",
       "<td>0.0898505</td>\n",
       "<td>0.0174650</td>\n",
       "<td>0.1298323</td>\n",
       "<td>0.0926632</td>\n",
       "<td>0.0168564</td></tr></table></div>"
      ],
      "text/plain": [
       "     timestamp            duration          number_of_trees    training_rmse        training_mae         training_deviance     validation_rmse      validation_mae       validation_deviance\n",
       "---  -------------------  ----------------  -----------------  -------------------  -------------------  --------------------  -------------------  -------------------  ---------------------\n",
       "     2017-06-28 18:54:03  4 min  4.625 sec  0.0                nan                  nan                  nan                   nan                  nan                  nan\n",
       "     2017-06-28 18:54:03  4 min  5.087 sec  1.0                0.20531924532635465  0.14420513566491638  0.042155992501383806  0.19147374430452313  0.1385820779405648   0.036662194757993906\n",
       "     2017-06-28 18:54:04  4 min  5.588 sec  2.0                0.20211839908987528  0.14512679887854535  0.04085184725065409   0.16784690779236827  0.12063579621657826  0.028172584455459775\n",
       "     2017-06-28 18:54:04  4 min  6.077 sec  3.0                0.20592340971720444  0.14441028996517782  0.04240445066955965   0.15317389048703237  0.11114641506774063  0.02346224072693338\n",
       "     2017-06-28 18:54:05  4 min  6.571 sec  4.0                0.1917851996926499   0.1371583349708832   0.0367815628211496    0.14561852774914696  0.10552592942397838  0.021204755623829088\n",
       "---  ---                  ---               ---                ---                  ---                  ---                   ---                  ---                  ---\n",
       "     2017-06-28 18:55:33  5 min 35.108 sec  168.0              0.13242221165762647  0.08998616167073986  0.01753564214029722   0.12988854199784367  0.09275207813627828  0.0168710333423256\n",
       "     2017-06-28 18:55:34  5 min 35.663 sec  169.0              0.13224576941078842  0.08989680321136938  0.017488943527051423  0.12992018494563606  0.09279879974622136  0.016879254456308283\n",
       "     2017-06-28 18:55:34  5 min 36.217 sec  170.0              0.13224477979157886  0.08988473267039475  0.017488681782123185  0.12979547872020114  0.09270270065391707  0.016846866296206187\n",
       "     2017-06-28 18:55:35  5 min 36.696 sec  171.0              0.13221864034156616  0.08983930994931917  0.017481768853772426  0.12982791683119474  0.0926692839052412   0.01685528798872762\n",
       "     2017-06-28 18:55:35  5 min 37.165 sec  172.0              0.13215539196112827  0.08985047747144462  0.017465047624399446  0.12983234415464645  0.09266319949920339  0.016856437588690557"
      ]
     },
     "metadata": {},
     "output_type": "display_data"
    },
    {
     "name": "stdout",
     "output_type": "stream",
     "text": [
      "\n",
      "See the whole table with table.as_data_frame()\n",
      "Variable Importances: \n"
     ]
    },
    {
     "data": {
      "text/html": [
       "<div style=\"overflow:auto\"><table style=\"width:50%\"><tr><td><b>variable</b></td>\n",
       "<td><b>relative_importance</b></td>\n",
       "<td><b>scaled_importance</b></td>\n",
       "<td><b>percentage</b></td></tr>\n",
       "<tr><td>YearBuilt_Tencode|GrLivArea</td>\n",
       "<td>2081.1440430</td>\n",
       "<td>1.0</td>\n",
       "<td>0.0877169</td></tr>\n",
       "<tr><td>Neighborhood_Tencode|OverallQual_Tencode</td>\n",
       "<td>1428.1538086</td>\n",
       "<td>0.6862350</td>\n",
       "<td>0.0601944</td></tr>\n",
       "<tr><td>BsmtQual_Tencode|GrLivArea</td>\n",
       "<td>1332.3436279</td>\n",
       "<td>0.6401977</td>\n",
       "<td>0.0561561</td></tr>\n",
       "<tr><td>Neighborhood_Tencode|GrLivArea</td>\n",
       "<td>1069.4122314</td>\n",
       "<td>0.5138579</td>\n",
       "<td>0.0450740</td></tr>\n",
       "<tr><td>LotShape_Tencode|OverallQual_Tencode</td>\n",
       "<td>898.1904907</td>\n",
       "<td>0.4315850</td>\n",
       "<td>0.0378573</td></tr>\n",
       "<tr><td>---</td>\n",
       "<td>---</td>\n",
       "<td>---</td>\n",
       "<td>---</td></tr>\n",
       "<tr><td>Street_Tencode|BsmtHalfBath</td>\n",
       "<td>0.0</td>\n",
       "<td>0.0</td>\n",
       "<td>0.0</td></tr>\n",
       "<tr><td>KitchenAbvGr|GarageCond_Tencode</td>\n",
       "<td>0.0</td>\n",
       "<td>0.0</td>\n",
       "<td>0.0</td></tr>\n",
       "<tr><td>BsmtHalfBath|WoodDeckSF</td>\n",
       "<td>0.0</td>\n",
       "<td>0.0</td>\n",
       "<td>0.0</td></tr>\n",
       "<tr><td>BsmtHalfBath|OverallQual_Tencode</td>\n",
       "<td>0.0</td>\n",
       "<td>0.0</td>\n",
       "<td>0.0</td></tr>\n",
       "<tr><td>BsmtHalfBath|GarageCond_Tencode</td>\n",
       "<td>0.0</td>\n",
       "<td>0.0</td>\n",
       "<td>0.0</td></tr></table></div>"
      ],
      "text/plain": [
       "variable                                  relative_importance    scaled_importance    percentage\n",
       "----------------------------------------  ---------------------  -------------------  --------------------\n",
       "YearBuilt_Tencode|GrLivArea               2081.14404296875       1.0                  0.08771686439843063\n",
       "Neighborhood_Tencode|OverallQual_Tencode  1428.15380859375       0.6862349645709722   0.06019437933273382\n",
       "BsmtQual_Tencode|GrLivArea                1332.3436279296875     0.640197699160266    0.05615613476542834\n",
       "Neighborhood_Tencode|GrLivArea            1069.4122314453125     0.5138578634469707   0.045074000528045215\n",
       "LotShape_Tencode|OverallQual_Tencode      898.1904907226562      0.43158497065940155  0.037857280347731385\n",
       "---                                       ---                    ---                  ---\n",
       "Street_Tencode|BsmtHalfBath               0.0                    0.0                  0.0\n",
       "KitchenAbvGr|GarageCond_Tencode           0.0                    0.0                  0.0\n",
       "BsmtHalfBath|WoodDeckSF                   0.0                    0.0                  0.0\n",
       "BsmtHalfBath|OverallQual_Tencode          0.0                    0.0                  0.0\n",
       "BsmtHalfBath|GarageCond_Tencode           0.0                    0.0                  0.0"
      ]
     },
     "metadata": {},
     "output_type": "display_data"
    },
    {
     "name": "stdout",
     "output_type": "stream",
     "text": [
      "\n",
      "See the whole table with table.as_data_frame()\n",
      "\n",
      "drf prediction progress: |████████████████████████████████████████████████| 100%\n"
     ]
    },
    {
     "ename": "NameError",
     "evalue": "name 'ranked_preds_plot' is not defined",
     "output_type": "error",
     "traceback": [
      "\u001b[0;31m---------------------------------------------------------------------------\u001b[0m",
      "\u001b[0;31mNameError\u001b[0m                                 Traceback (most recent call last)",
      "\u001b[0;32m<ipython-input-46-952749482452>\u001b[0m in \u001b[0;36m<module>\u001b[0;34m()\u001b[0m\n\u001b[1;32m     22\u001b[0m \u001b[0;34m\u001b[0m\u001b[0m\n\u001b[1;32m     23\u001b[0m \u001b[0mrf_preds1_val\u001b[0m \u001b[0;34m=\u001b[0m \u001b[0mrf_model1\u001b[0m\u001b[0;34m.\u001b[0m\u001b[0mpredict\u001b[0m\u001b[0;34m(\u001b[0m\u001b[0mvalid\u001b[0m\u001b[0;34m)\u001b[0m\u001b[0;34m\u001b[0m\u001b[0m\n\u001b[0;32m---> 24\u001b[0;31m \u001b[0mranked_preds_plot\u001b[0m\u001b[0;34m(\u001b[0m\u001b[0;34m'SalePrice'\u001b[0m\u001b[0;34m,\u001b[0m \u001b[0mvalid\u001b[0m\u001b[0;34m,\u001b[0m \u001b[0mrf_preds1_val\u001b[0m\u001b[0;34m)\u001b[0m \u001b[0;31m# valid RMSE not so hot ...\u001b[0m\u001b[0;34m\u001b[0m\u001b[0m\n\u001b[0m\u001b[1;32m     25\u001b[0m \u001b[0mrf_preds1_test\u001b[0m \u001b[0;34m=\u001b[0m \u001b[0mrf_model1\u001b[0m\u001b[0;34m.\u001b[0m\u001b[0mpredict\u001b[0m\u001b[0;34m(\u001b[0m\u001b[0mtest\u001b[0m\u001b[0;34m)\u001b[0m\u001b[0;34m\u001b[0m\u001b[0m\n\u001b[1;32m     26\u001b[0m \u001b[0mgen_submission\u001b[0m\u001b[0;34m(\u001b[0m\u001b[0mrf_preds1_test\u001b[0m\u001b[0;34m)\u001b[0m \u001b[0;31m# 0.14574 public leaderboard\u001b[0m\u001b[0;34m\u001b[0m\u001b[0m\n",
      "\u001b[0;31mNameError\u001b[0m: name 'ranked_preds_plot' is not defined"
     ]
    }
   ],
   "source": [
    "# initialize rf model\n",
    "rf_model1 = H2ORandomForestEstimator(\n",
    "    ntrees=10000,                    \n",
    "    max_depth=10, \n",
    "    col_sample_rate_per_tree=0.1,\n",
    "    sample_rate=0.8,\n",
    "    stopping_rounds=50,\n",
    "    score_each_iteration=True,\n",
    "    nfolds=3,\n",
    "    keep_cross_validation_predictions=True,\n",
    "    seed=12345)           \n",
    "\n",
    "# train rf model\n",
    "rf_model1.train(\n",
    "    x=encoded_combined_nums,\n",
    "    y='SalePrice',\n",
    "    training_frame=train,\n",
    "    validation_frame=valid)\n",
    "\n",
    "# print model information\n",
    "print(rf_model1)\n",
    "\n",
    "rf_preds1_val = rf_model1.predict(valid)\n",
    "#ranked_preds_plot('SalePrice', valid, rf_preds1_val) # valid RMSE not so hot ...\n",
    "rf_preds1_test = rf_model1.predict(test)\n",
    "gen_submission(rf_preds1_test,tesdt) # 0.14574 public leaderboard"
   ]
  },
  {
   "cell_type": "code",
   "execution_count": 51,
   "metadata": {},
   "outputs": [
    {
     "name": "stdout",
     "output_type": "stream",
     "text": [
      "drf Model Build progress: |███████████████████████████████████████████████| 100%\n",
      "Model Details\n",
      "=============\n",
      "H2ORandomForestEstimator :  Distributed Random Forest\n",
      "Model Key:  DRF_model_python_1498689887404_2\n",
      "\n",
      "\n",
      "ModelMetricsRegression: drf\n",
      "** Reported on train data. **\n",
      "\n",
      "MSE: 0.017323453985374403\n",
      "RMSE: 0.13161859285592747\n",
      "MAE: 0.08971813495800218\n",
      "RMSLE: 0.010215616951008255\n",
      "Mean Residual Deviance: 0.017323453985374403\n",
      "\n",
      "ModelMetricsRegression: drf\n",
      "** Reported on validation data. **\n",
      "\n",
      "MSE: 0.01674616362065662\n",
      "RMSE: 0.12940696898025478\n",
      "MAE: 0.09253415775086733\n",
      "RMSLE: 0.010005705432735396\n",
      "Mean Residual Deviance: 0.01674616362065662\n",
      "\n",
      "ModelMetricsRegression: drf\n",
      "** Reported on cross-validation data. **\n",
      "\n",
      "MSE: 0.018302625034448353\n",
      "RMSE: 0.13528719464327862\n",
      "MAE: 0.089679622835509\n",
      "RMSLE: 0.010531151070757647\n",
      "Mean Residual Deviance: 0.018302625034448353\n",
      "Cross-Validation Metrics Summary: \n"
     ]
    },
    {
     "data": {
      "text/html": [
       "<div style=\"overflow:auto\"><table style=\"width:50%\"><tr><td><b></b></td>\n",
       "<td><b>mean</b></td>\n",
       "<td><b>sd</b></td>\n",
       "<td><b>cv_1_valid</b></td>\n",
       "<td><b>cv_2_valid</b></td>\n",
       "<td><b>cv_3_valid</b></td></tr>\n",
       "<tr><td>mae</td>\n",
       "<td>0.0896436</td>\n",
       "<td>0.0005868</td>\n",
       "<td>0.0889772</td>\n",
       "<td>0.0908133</td>\n",
       "<td>0.0891402</td></tr>\n",
       "<tr><td>mean_residual_deviance</td>\n",
       "<td>0.0182710</td>\n",
       "<td>0.0015450</td>\n",
       "<td>0.0199324</td>\n",
       "<td>0.0196966</td>\n",
       "<td>0.0151841</td></tr>\n",
       "<tr><td>mse</td>\n",
       "<td>0.0182710</td>\n",
       "<td>0.0015450</td>\n",
       "<td>0.0199324</td>\n",
       "<td>0.0196966</td>\n",
       "<td>0.0151841</td></tr>\n",
       "<tr><td>r2</td>\n",
       "<td>0.8814029</td>\n",
       "<td>0.0042932</td>\n",
       "<td>0.8737618</td>\n",
       "<td>0.8886153</td>\n",
       "<td>0.8818315</td></tr>\n",
       "<tr><td>residual_deviance</td>\n",
       "<td>0.0182710</td>\n",
       "<td>0.0015450</td>\n",
       "<td>0.0199324</td>\n",
       "<td>0.0196966</td>\n",
       "<td>0.0151841</td></tr>\n",
       "<tr><td>rmse</td>\n",
       "<td>0.1349169</td>\n",
       "<td>0.0058515</td>\n",
       "<td>0.1411823</td>\n",
       "<td>0.1403446</td>\n",
       "<td>0.1232238</td></tr>\n",
       "<tr><td>rmsle</td>\n",
       "<td>0.0104935</td>\n",
       "<td>0.0005173</td>\n",
       "<td>0.0109919</td>\n",
       "<td>0.0110294</td>\n",
       "<td>0.0094591</td></tr></table></div>"
      ],
      "text/plain": [
       "                        mean       sd           cv_1_valid    cv_2_valid    cv_3_valid\n",
       "----------------------  ---------  -----------  ------------  ------------  ------------\n",
       "mae                     0.0896436  0.000586767  0.0889772     0.0908133     0.0891402\n",
       "mean_residual_deviance  0.018271   0.00154497   0.0199324     0.0196966     0.0151841\n",
       "mse                     0.018271   0.00154497   0.0199324     0.0196966     0.0151841\n",
       "r2                      0.881403   0.00429317   0.873762      0.888615      0.881831\n",
       "residual_deviance       0.018271   0.00154497   0.0199324     0.0196966     0.0151841\n",
       "rmse                    0.134917   0.00585153   0.141182      0.140345      0.123224\n",
       "rmsle                   0.0104935  0.00051729   0.0109919     0.0110294     0.00945913"
      ]
     },
     "metadata": {},
     "output_type": "display_data"
    },
    {
     "name": "stdout",
     "output_type": "stream",
     "text": [
      "Scoring History: \n"
     ]
    },
    {
     "data": {
      "text/html": [
       "<div style=\"overflow:auto\"><table style=\"width:50%\"><tr><td><b></b></td>\n",
       "<td><b>timestamp</b></td>\n",
       "<td><b>duration</b></td>\n",
       "<td><b>number_of_trees</b></td>\n",
       "<td><b>training_rmse</b></td>\n",
       "<td><b>training_mae</b></td>\n",
       "<td><b>training_deviance</b></td>\n",
       "<td><b>validation_rmse</b></td>\n",
       "<td><b>validation_mae</b></td>\n",
       "<td><b>validation_deviance</b></td></tr>\n",
       "<tr><td></td>\n",
       "<td>2017-06-28 19:01:37</td>\n",
       "<td> 4 min 44.728 sec</td>\n",
       "<td>0.0</td>\n",
       "<td>nan</td>\n",
       "<td>nan</td>\n",
       "<td>nan</td>\n",
       "<td>nan</td>\n",
       "<td>nan</td>\n",
       "<td>nan</td></tr>\n",
       "<tr><td></td>\n",
       "<td>2017-06-28 19:01:37</td>\n",
       "<td> 4 min 45.252 sec</td>\n",
       "<td>1.0</td>\n",
       "<td>0.1884594</td>\n",
       "<td>0.1315495</td>\n",
       "<td>0.0355170</td>\n",
       "<td>0.1964560</td>\n",
       "<td>0.1408567</td>\n",
       "<td>0.0385950</td></tr>\n",
       "<tr><td></td>\n",
       "<td>2017-06-28 19:01:38</td>\n",
       "<td> 4 min 45.813 sec</td>\n",
       "<td>2.0</td>\n",
       "<td>0.1811277</td>\n",
       "<td>0.1280890</td>\n",
       "<td>0.0328072</td>\n",
       "<td>0.1657293</td>\n",
       "<td>0.1196089</td>\n",
       "<td>0.0274662</td></tr>\n",
       "<tr><td></td>\n",
       "<td>2017-06-28 19:01:38</td>\n",
       "<td> 4 min 46.302 sec</td>\n",
       "<td>3.0</td>\n",
       "<td>0.1842635</td>\n",
       "<td>0.1298851</td>\n",
       "<td>0.0339530</td>\n",
       "<td>0.1537470</td>\n",
       "<td>0.1102584</td>\n",
       "<td>0.0236382</td></tr>\n",
       "<tr><td></td>\n",
       "<td>2017-06-28 19:01:39</td>\n",
       "<td> 4 min 46.848 sec</td>\n",
       "<td>4.0</td>\n",
       "<td>0.1866581</td>\n",
       "<td>0.1319614</td>\n",
       "<td>0.0348412</td>\n",
       "<td>0.1465753</td>\n",
       "<td>0.1067205</td>\n",
       "<td>0.0214843</td></tr>\n",
       "<tr><td>---</td>\n",
       "<td>---</td>\n",
       "<td>---</td>\n",
       "<td>---</td>\n",
       "<td>---</td>\n",
       "<td>---</td>\n",
       "<td>---</td>\n",
       "<td>---</td>\n",
       "<td>---</td>\n",
       "<td>---</td></tr>\n",
       "<tr><td></td>\n",
       "<td>2017-06-28 19:03:18</td>\n",
       "<td> 6 min 26.028 sec</td>\n",
       "<td>178.0</td>\n",
       "<td>0.1314189</td>\n",
       "<td>0.0896361</td>\n",
       "<td>0.0172709</td>\n",
       "<td>0.1296600</td>\n",
       "<td>0.0927328</td>\n",
       "<td>0.0168117</td></tr>\n",
       "<tr><td></td>\n",
       "<td>2017-06-28 19:03:19</td>\n",
       "<td> 6 min 26.641 sec</td>\n",
       "<td>179.0</td>\n",
       "<td>0.1316618</td>\n",
       "<td>0.0897088</td>\n",
       "<td>0.0173348</td>\n",
       "<td>0.1294732</td>\n",
       "<td>0.0925901</td>\n",
       "<td>0.0167633</td></tr>\n",
       "<tr><td></td>\n",
       "<td>2017-06-28 19:03:19</td>\n",
       "<td> 6 min 27.204 sec</td>\n",
       "<td>180.0</td>\n",
       "<td>0.1315648</td>\n",
       "<td>0.0897687</td>\n",
       "<td>0.0173093</td>\n",
       "<td>0.1294300</td>\n",
       "<td>0.0925637</td>\n",
       "<td>0.0167521</td></tr>\n",
       "<tr><td></td>\n",
       "<td>2017-06-28 19:03:20</td>\n",
       "<td> 6 min 27.763 sec</td>\n",
       "<td>181.0</td>\n",
       "<td>0.1315993</td>\n",
       "<td>0.0897156</td>\n",
       "<td>0.0173184</td>\n",
       "<td>0.1293843</td>\n",
       "<td>0.0925078</td>\n",
       "<td>0.0167403</td></tr>\n",
       "<tr><td></td>\n",
       "<td>2017-06-28 19:03:20</td>\n",
       "<td> 6 min 28.346 sec</td>\n",
       "<td>182.0</td>\n",
       "<td>0.1316186</td>\n",
       "<td>0.0897181</td>\n",
       "<td>0.0173235</td>\n",
       "<td>0.1294070</td>\n",
       "<td>0.0925342</td>\n",
       "<td>0.0167462</td></tr></table></div>"
      ],
      "text/plain": [
       "     timestamp            duration          number_of_trees    training_rmse        training_mae         training_deviance     validation_rmse      validation_mae       validation_deviance\n",
       "---  -------------------  ----------------  -----------------  -------------------  -------------------  --------------------  -------------------  -------------------  ---------------------\n",
       "     2017-06-28 19:01:37  4 min 44.728 sec  0.0                nan                  nan                  nan                   nan                  nan                  nan\n",
       "     2017-06-28 19:01:37  4 min 45.252 sec  1.0                0.18845942005682595  0.1315495204455747   0.035516953008155175  0.1964559798121147   0.14085666182773565  0.038594952003938025\n",
       "     2017-06-28 19:01:38  4 min 45.813 sec  2.0                0.1811276639899829   0.1280890008677607   0.03280723066246814   0.16572927940788268  0.1196089019442955   0.02746619405305605\n",
       "     2017-06-28 19:01:38  4 min 46.302 sec  3.0                0.18426352228443196  0.1298851180494877   0.03395304564466536   0.15374703759843894  0.11025839953121279  0.023638151570295796\n",
       "     2017-06-28 19:01:39  4 min 46.848 sec  4.0                0.18665805188775472  0.13196140265314835  0.03484122833453173   0.1465753462767216   0.10672054623206977  0.02148433213614085\n",
       "---  ---                  ---               ---                ---                  ---                  ---                   ---                  ---                  ---\n",
       "     2017-06-28 19:03:18  6 min 26.028 sec  178.0              0.1314188992930915   0.08963608429673127  0.017270927091407724  0.12966003652515207  0.09273282848534739  0.016811725071703768\n",
       "     2017-06-28 19:03:19  6 min 26.641 sec  179.0              0.13166177118831002  0.08970880256514085  0.017334821992442902  0.12947319396819915  0.09259010950608212  0.01676330795632692\n",
       "     2017-06-28 19:03:19  6 min 27.204 sec  180.0              0.1315647937603088   0.08976873032054888  0.017309294957192592  0.12942997761236416  0.09256365333276409  0.01675211910473709\n",
       "     2017-06-28 19:03:20  6 min 27.763 sec  181.0              0.13159933135258872  0.08971560873352832  0.01731838401244844   0.12938426753259305  0.09250778703599233  0.01674028868494561\n",
       "     2017-06-28 19:03:20  6 min 28.346 sec  182.0              0.13161859285592747  0.08971813495800218  0.017323453985374403  0.12940696898025478  0.09253415775086733  0.01674616362065662"
      ]
     },
     "metadata": {},
     "output_type": "display_data"
    },
    {
     "name": "stdout",
     "output_type": "stream",
     "text": [
      "\n",
      "See the whole table with table.as_data_frame()\n",
      "Variable Importances: \n"
     ]
    },
    {
     "data": {
      "text/html": [
       "<div style=\"overflow:auto\"><table style=\"width:50%\"><tr><td><b>variable</b></td>\n",
       "<td><b>relative_importance</b></td>\n",
       "<td><b>scaled_importance</b></td>\n",
       "<td><b>percentage</b></td></tr>\n",
       "<tr><td>YearBuilt_Tencode|GrLivArea</td>\n",
       "<td>1915.9385986</td>\n",
       "<td>1.0</td>\n",
       "<td>0.0763218</td></tr>\n",
       "<tr><td>Neighborhood_Tencode|OverallQual_Tencode</td>\n",
       "<td>1629.6738281</td>\n",
       "<td>0.8505877</td>\n",
       "<td>0.0649184</td></tr>\n",
       "<tr><td>Neighborhood_Tencode|GrLivArea</td>\n",
       "<td>1325.6748047</td>\n",
       "<td>0.6919193</td>\n",
       "<td>0.0528085</td></tr>\n",
       "<tr><td>BsmtQual_Tencode|GrLivArea</td>\n",
       "<td>1322.3671875</td>\n",
       "<td>0.6901929</td>\n",
       "<td>0.0526767</td></tr>\n",
       "<tr><td>LotShape_Tencode|OverallQual_Tencode</td>\n",
       "<td>1045.6014404</td>\n",
       "<td>0.5457385</td>\n",
       "<td>0.0416517</td></tr>\n",
       "<tr><td>---</td>\n",
       "<td>---</td>\n",
       "<td>---</td>\n",
       "<td>---</td></tr>\n",
       "<tr><td>3SsnPorch|OverallQual_Tencode</td>\n",
       "<td>0.0</td>\n",
       "<td>0.0</td>\n",
       "<td>0.0</td></tr>\n",
       "<tr><td>EnclosedPorch|BsmtHalfBath</td>\n",
       "<td>0.0</td>\n",
       "<td>0.0</td>\n",
       "<td>0.0</td></tr>\n",
       "<tr><td>Condition2_Tencode|BsmtHalfBath</td>\n",
       "<td>0.0</td>\n",
       "<td>0.0</td>\n",
       "<td>0.0</td></tr>\n",
       "<tr><td>BsmtHalfBath|OverallQual_Tencode</td>\n",
       "<td>0.0</td>\n",
       "<td>0.0</td>\n",
       "<td>0.0</td></tr>\n",
       "<tr><td>BsmtHalfBath|GarageCond_Tencode</td>\n",
       "<td>0.0</td>\n",
       "<td>0.0</td>\n",
       "<td>0.0</td></tr></table></div>"
      ],
      "text/plain": [
       "variable                                  relative_importance    scaled_importance    percentage\n",
       "----------------------------------------  ---------------------  -------------------  --------------------\n",
       "YearBuilt_Tencode|GrLivArea               1915.9385986328125     1.0                  0.07632177412340553\n",
       "Neighborhood_Tencode|OverallQual_Tencode  1629.673828125         0.8505877115727576   0.06491836319480042\n",
       "Neighborhood_Tencode|GrLivArea            1325.6748046875        0.6919192533797708   0.05280850496808626\n",
       "BsmtQual_Tencode|GrLivArea                1322.3671875           0.6901928842832558   0.052676745415848415\n",
       "LotShape_Tencode|OverallQual_Tencode      1045.6014404296875     0.5457384913983226   0.04165172987095087\n",
       "---                                       ---                    ---                  ---\n",
       "3SsnPorch|OverallQual_Tencode             0.0                    0.0                  0.0\n",
       "EnclosedPorch|BsmtHalfBath                0.0                    0.0                  0.0\n",
       "Condition2_Tencode|BsmtHalfBath           0.0                    0.0                  0.0\n",
       "BsmtHalfBath|OverallQual_Tencode          0.0                    0.0                  0.0\n",
       "BsmtHalfBath|GarageCond_Tencode           0.0                    0.0                  0.0"
      ]
     },
     "metadata": {},
     "output_type": "display_data"
    },
    {
     "name": "stdout",
     "output_type": "stream",
     "text": [
      "\n",
      "See the whole table with table.as_data_frame()\n",
      "\n",
      "drf prediction progress: |████████████████████████████████████████████████| 100%\n"
     ]
    },
    {
     "ename": "NameError",
     "evalue": "name 'ranked_preds_plot' is not defined",
     "output_type": "error",
     "traceback": [
      "\u001b[0;31m---------------------------------------------------------------------------\u001b[0m",
      "\u001b[0;31mNameError\u001b[0m                                 Traceback (most recent call last)",
      "\u001b[0;32m<ipython-input-51-99820a98029b>\u001b[0m in \u001b[0;36m<module>\u001b[0;34m()\u001b[0m\n\u001b[1;32m     22\u001b[0m \u001b[0mprint\u001b[0m\u001b[0;34m(\u001b[0m\u001b[0mert_model1\u001b[0m\u001b[0;34m)\u001b[0m\u001b[0;34m\u001b[0m\u001b[0m\n\u001b[1;32m     23\u001b[0m \u001b[0mert_preds1_val\u001b[0m \u001b[0;34m=\u001b[0m \u001b[0mert_model1\u001b[0m\u001b[0;34m.\u001b[0m\u001b[0mpredict\u001b[0m\u001b[0;34m(\u001b[0m\u001b[0mvalid\u001b[0m\u001b[0;34m)\u001b[0m\u001b[0;34m\u001b[0m\u001b[0m\n\u001b[0;32m---> 24\u001b[0;31m \u001b[0mranked_preds_plot\u001b[0m\u001b[0;34m(\u001b[0m\u001b[0;34m'SalePrice'\u001b[0m\u001b[0;34m,\u001b[0m \u001b[0mvalid\u001b[0m\u001b[0;34m,\u001b[0m \u001b[0mert_preds1_val\u001b[0m\u001b[0;34m)\u001b[0m \u001b[0;31m# valid RMSE not so hot ...\u001b[0m\u001b[0;34m\u001b[0m\u001b[0m\n\u001b[0m\u001b[1;32m     25\u001b[0m \u001b[0mert_preds1_test\u001b[0m \u001b[0;34m=\u001b[0m \u001b[0mert_model1\u001b[0m\u001b[0;34m.\u001b[0m\u001b[0mpredict\u001b[0m\u001b[0;34m(\u001b[0m\u001b[0mtest\u001b[0m\u001b[0;34m)\u001b[0m\u001b[0;34m\u001b[0m\u001b[0m\n\u001b[1;32m     26\u001b[0m \u001b[0mgen_submission\u001b[0m\u001b[0;34m(\u001b[0m\u001b[0mert_preds1_test\u001b[0m\u001b[0;34m)\u001b[0m \u001b[0;31m# 0.14855 public leaderboard\u001b[0m\u001b[0;34m\u001b[0m\u001b[0m\n",
      "\u001b[0;31mNameError\u001b[0m: name 'ranked_preds_plot' is not defined"
     ]
    }
   ],
   "source": [
    "# initialize extra trees model\n",
    "ert_model1 = H2ORandomForestEstimator(\n",
    "    ntrees=10000,                    \n",
    "    max_depth=10, \n",
    "    col_sample_rate_per_tree=0.1,\n",
    "    sample_rate=0.8,\n",
    "    stopping_rounds=50,\n",
    "    score_each_iteration=True,\n",
    "    nfolds=3,\n",
    "    keep_cross_validation_predictions=True,\n",
    "    seed=12345,\n",
    "    histogram_type='random') # <- this is what makes it ERT instead of RF\n",
    "\n",
    "# train ert model\n",
    "ert_model1.train(\n",
    "    x=encoded_combined_nums,\n",
    "    y='SalePrice',\n",
    "    training_frame=train,\n",
    "    validation_frame=valid)\n",
    "\n",
    "# print model information/create submission\n",
    "print(ert_model1)\n",
    "ert_preds1_val = ert_model1.predict(valid)\n",
    "#ranked_preds_plot('SalePrice', valid, ert_preds1_val) # valid RMSE not so hot ...\n",
    "ert_preds1_test = ert_model1.predict(test)\n",
    "gen_submission(ert_preds1_test) # 0.14855 public leaderboard"
   ]
  },
  {
   "cell_type": "code",
   "execution_count": 53,
   "metadata": {},
   "outputs": [
    {
     "name": "stdout",
     "output_type": "stream",
     "text": [
      "drf prediction progress: |████████████████████████████████████████████████| 100%\n"
     ]
    }
   ],
   "source": [
    "ert_preds1_test = ert_model1.predict(test)\n",
    "gen_submission(ert_preds1_test,test) "
   ]
  },
  {
   "cell_type": "code",
   "execution_count": 52,
   "metadata": {},
   "outputs": [
    {
     "name": "stdout",
     "output_type": "stream",
     "text": [
      "gbm Model Build progress: |██ (cancelled)\n"
     ]
    },
    {
     "ename": "H2OJobCancelled",
     "evalue": "Job<$03017f00000132d4ffffffff$_86e4177fb430f7c8e717e18bfbe647c4> was cancelled by the user.",
     "output_type": "error",
     "traceback": [
      "\u001b[0;31m---------------------------------------------------------------------------\u001b[0m",
      "\u001b[0;31mH2OJobCancelled\u001b[0m                           Traceback (most recent call last)",
      "\u001b[0;32m<ipython-input-52-775ee4f403fc>\u001b[0m in \u001b[0;36m<module>\u001b[0;34m()\u001b[0m\n\u001b[1;32m     15\u001b[0m                     \u001b[0my\u001b[0m\u001b[0;34m=\u001b[0m\u001b[0;34m'SalePrice'\u001b[0m\u001b[0;34m,\u001b[0m\u001b[0;34m\u001b[0m\u001b[0m\n\u001b[1;32m     16\u001b[0m                     \u001b[0mtraining_frame\u001b[0m\u001b[0;34m=\u001b[0m\u001b[0mtrain\u001b[0m\u001b[0;34m,\u001b[0m\u001b[0;34m\u001b[0m\u001b[0m\n\u001b[0;32m---> 17\u001b[0;31m                     validation_frame=valid)\n\u001b[0m\u001b[1;32m     18\u001b[0m \u001b[0;34m\u001b[0m\u001b[0m\n\u001b[1;32m     19\u001b[0m \u001b[0;31m# print model information/create submission\u001b[0m\u001b[0;34m\u001b[0m\u001b[0;34m\u001b[0m\u001b[0m\n",
      "\u001b[0;32m//anaconda/lib/python3.5/site-packages/h2o/estimators/estimator_base.py\u001b[0m in \u001b[0;36mtrain\u001b[0;34m(self, x, y, training_frame, offset_column, fold_column, weights_column, validation_frame, max_runtime_secs, ignored_columns, model_id)\u001b[0m\n\u001b[1;32m    202\u001b[0m             \u001b[0;32mreturn\u001b[0m\u001b[0;34m\u001b[0m\u001b[0m\n\u001b[1;32m    203\u001b[0m \u001b[0;34m\u001b[0m\u001b[0m\n\u001b[0;32m--> 204\u001b[0;31m         \u001b[0mmodel\u001b[0m\u001b[0;34m.\u001b[0m\u001b[0mpoll\u001b[0m\u001b[0;34m(\u001b[0m\u001b[0;34m)\u001b[0m\u001b[0;34m\u001b[0m\u001b[0m\n\u001b[0m\u001b[1;32m    205\u001b[0m         \u001b[0mmodel_json\u001b[0m \u001b[0;34m=\u001b[0m \u001b[0mh2o\u001b[0m\u001b[0;34m.\u001b[0m\u001b[0mapi\u001b[0m\u001b[0;34m(\u001b[0m\u001b[0;34m\"GET /%d/Models/%s\"\u001b[0m \u001b[0;34m%\u001b[0m \u001b[0;34m(\u001b[0m\u001b[0mrest_ver\u001b[0m\u001b[0;34m,\u001b[0m \u001b[0mmodel\u001b[0m\u001b[0;34m.\u001b[0m\u001b[0mdest_key\u001b[0m\u001b[0;34m)\u001b[0m\u001b[0;34m)\u001b[0m\u001b[0;34m[\u001b[0m\u001b[0;34m\"models\"\u001b[0m\u001b[0;34m]\u001b[0m\u001b[0;34m[\u001b[0m\u001b[0;36m0\u001b[0m\u001b[0;34m]\u001b[0m\u001b[0;34m\u001b[0m\u001b[0m\n\u001b[1;32m    206\u001b[0m         \u001b[0mself\u001b[0m\u001b[0;34m.\u001b[0m\u001b[0m_resolve_model\u001b[0m\u001b[0;34m(\u001b[0m\u001b[0mmodel\u001b[0m\u001b[0;34m.\u001b[0m\u001b[0mdest_key\u001b[0m\u001b[0;34m,\u001b[0m \u001b[0mmodel_json\u001b[0m\u001b[0;34m)\u001b[0m\u001b[0;34m\u001b[0m\u001b[0m\n",
      "\u001b[0;32m//anaconda/lib/python3.5/site-packages/h2o/job.py\u001b[0m in \u001b[0;36mpoll\u001b[0;34m(self)\u001b[0m\n\u001b[1;32m     67\u001b[0m         \u001b[0;31m# check if failed... and politely print relevant message\u001b[0m\u001b[0;34m\u001b[0m\u001b[0;34m\u001b[0m\u001b[0m\n\u001b[1;32m     68\u001b[0m         \u001b[0;32mif\u001b[0m \u001b[0mself\u001b[0m\u001b[0;34m.\u001b[0m\u001b[0mstatus\u001b[0m \u001b[0;34m==\u001b[0m \u001b[0;34m\"CANCELLED\"\u001b[0m\u001b[0;34m:\u001b[0m\u001b[0;34m\u001b[0m\u001b[0m\n\u001b[0;32m---> 69\u001b[0;31m             \u001b[0;32mraise\u001b[0m \u001b[0mH2OJobCancelled\u001b[0m\u001b[0;34m(\u001b[0m\u001b[0;34m\"Job<%s> was cancelled by the user.\"\u001b[0m \u001b[0;34m%\u001b[0m \u001b[0mself\u001b[0m\u001b[0;34m.\u001b[0m\u001b[0mjob_key\u001b[0m\u001b[0;34m)\u001b[0m\u001b[0;34m\u001b[0m\u001b[0m\n\u001b[0m\u001b[1;32m     70\u001b[0m         \u001b[0;32mif\u001b[0m \u001b[0mself\u001b[0m\u001b[0;34m.\u001b[0m\u001b[0mstatus\u001b[0m \u001b[0;34m==\u001b[0m \u001b[0;34m\"FAILED\"\u001b[0m\u001b[0;34m:\u001b[0m\u001b[0;34m\u001b[0m\u001b[0m\n\u001b[1;32m     71\u001b[0m             \u001b[0;32mif\u001b[0m \u001b[0;34m(\u001b[0m\u001b[0misinstance\u001b[0m\u001b[0;34m(\u001b[0m\u001b[0mself\u001b[0m\u001b[0;34m.\u001b[0m\u001b[0mjob\u001b[0m\u001b[0;34m,\u001b[0m \u001b[0mdict\u001b[0m\u001b[0;34m)\u001b[0m\u001b[0;34m)\u001b[0m \u001b[0;32mand\u001b[0m \u001b[0;34m(\u001b[0m\u001b[0;34m\"stacktrace\"\u001b[0m \u001b[0;32min\u001b[0m \u001b[0mlist\u001b[0m\u001b[0;34m(\u001b[0m\u001b[0mself\u001b[0m\u001b[0;34m.\u001b[0m\u001b[0mjob\u001b[0m\u001b[0;34m)\u001b[0m\u001b[0;34m)\u001b[0m\u001b[0;34m:\u001b[0m\u001b[0;34m\u001b[0m\u001b[0m\n",
      "\u001b[0;31mH2OJobCancelled\u001b[0m: Job<$03017f00000132d4ffffffff$_86e4177fb430f7c8e717e18bfbe647c4> was cancelled by the user."
     ]
    }
   ],
   "source": [
    "# initialize H2O GBM\n",
    "h2o_gbm_model = H2OGradientBoostingEstimator(\n",
    "    ntrees = 10000,\n",
    "    learn_rate = 0.005,\n",
    "    sample_rate = 0.1, \n",
    "    col_sample_rate = 0.8,\n",
    "    max_depth = 5,\n",
    "    nfolds = 3,\n",
    "    keep_cross_validation_predictions=True,\n",
    "    stopping_rounds = 10,\n",
    "    seed = 12345)\n",
    "\n",
    "# execute training\n",
    "h2o_gbm_model.train(x=encoded_combined_nums,\n",
    "                    y='SalePrice',\n",
    "                    training_frame=train,\n",
    "                    validation_frame=valid)\n",
    "\n",
    "# print model information/create submission\n",
    "print(h2o_gbm_model)\n",
    "h2o_gbm_preds1_val = h2o_gbm_model.predict(valid)\n",
    "#ranked_preds_plot('SalePrice', valid, h2o_gbm_preds1_val) # better validation error\n",
    "h2o_gbm_preds1_test = h2o_gbm_model.predict(test)\n",
    "gen_submission(h2o_gbm_preds1_test,test) # 0.15062 public leaderboard"
   ]
  },
  {
   "cell_type": "code",
   "execution_count": 62,
   "metadata": {},
   "outputs": [
    {
     "name": "stdout",
     "output_type": "stream",
     "text": [
      "stackedensemble Model Build progress: |███████████████████████████████████| 100%\n",
      "Model Details\n",
      "=============\n",
      "H2OStackedEnsembleEstimator :  Stacked Ensemble\n",
      "Model Key:  StackedEnsemble_model_python_1498689887404_7\n",
      "No model summary for this model\n",
      "\n",
      "\n",
      "ModelMetricsRegressionGLM: stackedensemble\n",
      "** Reported on train data. **\n",
      "\n",
      "MSE: 0.0034407737204677482\n",
      "RMSE: 0.05865810873585806\n",
      "MAE: 0.038323727129800055\n",
      "RMSLE: 0.004567249541024737\n",
      "R^2: 0.9778114573204629\n",
      "Mean Residual Deviance: 0.0034407737204677482\n",
      "Null degrees of freedom: 1000\n",
      "Residual degrees of freedom: 998\n",
      "Null deviance: 155.22490791465145\n",
      "Residual deviance: 3.444214494188216\n",
      "AIC: -2829.016029585025\n",
      "\n",
      "ModelMetricsRegressionGLM: stackedensemble\n",
      "** Reported on validation data. **\n",
      "\n",
      "MSE: 0.015806196337453733\n",
      "RMSE: 0.12572269619067886\n",
      "MAE: 0.09338725977567938\n",
      "RMSLE: 0.009779977163840879\n",
      "R^2: 0.9062031545111939\n",
      "Mean Residual Deviance: 0.015806196337453733\n",
      "Null degrees of freedom: 458\n",
      "Residual degrees of freedom: 456\n",
      "Null deviance: 77.67997881888834\n",
      "Residual deviance: 7.255044118891264\n",
      "AIC: -593.0495648588799\n",
      "\n",
      "stackedensemble prediction progress: |████████████████████████████████████| 100%\n",
      "stackedensemble prediction progress: |████████████████████████████████████| 100%\n"
     ]
    }
   ],
   "source": [
    "stack = H2OStackedEnsembleEstimator(training_frame=train, \n",
    "                                    validation_frame=valid, \n",
    "                                    base_models=[rf_model1, ert_model1, \n",
    "                                                h2o_xgb_model ])\n",
    "\n",
    "stack.train(x=encoded_combined_nums,\n",
    "            y='SalePrice',\n",
    "            training_frame=train,\n",
    "            validation_frame=valid)\n",
    "\n",
    "# print model information/create submission\n",
    "print(stack)\n",
    "stack_preds1_val = stack.predict(valid)\n",
    "#ranked_preds_plot('SalePrice', valid, stack_preds1_val) \n",
    "stack_preds1_test = stack.predict(test)\n",
    "gen_submission(stack_preds1_test,test)\n",
    "# 0.14630 on public leaderboard\n"
   ]
  },
  {
   "cell_type": "code",
   "execution_count": 54,
   "metadata": {},
   "outputs": [
    {
     "data": {
      "text/plain": [
       "'/Users/zhaorc/Desktop/ML/files'"
      ]
     },
     "execution_count": 54,
     "metadata": {},
     "output_type": "execute_result"
    }
   ],
   "source": [
    "pwd"
   ]
  },
  {
   "cell_type": "code",
   "execution_count": 57,
   "metadata": {},
   "outputs": [
    {
     "name": "stdout",
     "output_type": "stream",
     "text": [
      "     Id     SalePrice0     SalePrice1           mean\n",
      "0  1461  115618.585364  115372.946635  115495.766000\n",
      "1  1462  145790.952075  144456.925647  145123.938861\n",
      "2  1463  182612.710025  183921.055115  183266.882570\n",
      "3  1464  187103.373944  188835.291566  187969.332755\n",
      "4  1465  189100.822295  193122.915893  191111.869094\n"
     ]
    }
   ],
   "source": [
    "pred_blender('/Users/zhaorc/Desktop/ML/files',\n",
    "            ['Wed_Jun_28_18_56_40_2017.csv',\n",
    "             'Wed_Jun_28_19_08_51_2017.csv',\n",
    "             \n",
    "             ])"
   ]
  },
  {
   "cell_type": "code",
   "execution_count": null,
   "metadata": {
    "collapsed": true
   },
   "outputs": [],
   "source": []
  }
 ],
 "metadata": {
  "anaconda-cloud": {},
  "kernelspec": {
   "display_name": "Python [Root]",
   "language": "python",
   "name": "Python [Root]"
  },
  "language_info": {
   "codemirror_mode": {
    "name": "ipython",
    "version": 3
   },
   "file_extension": ".py",
   "mimetype": "text/x-python",
   "name": "python",
   "nbconvert_exporter": "python",
   "pygments_lexer": "ipython3",
   "version": "3.5.2"
  }
 },
 "nbformat": 4,
 "nbformat_minor": 1
}
