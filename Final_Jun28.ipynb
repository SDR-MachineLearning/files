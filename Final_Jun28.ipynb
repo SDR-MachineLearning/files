{
 "cells": [
  {
   "cell_type": "code",
   "execution_count": 2,
   "metadata": {},
   "outputs": [
    {
     "name": "stdout",
     "output_type": "stream",
     "text": [
      "Checking whether there is an H2O instance running at http://localhost:54321. connected.\n"
     ]
    },
    {
     "data": {
      "text/html": [
       "<div style=\"overflow:auto\"><table style=\"width:50%\"><tr><td>H2O cluster uptime:</td>\n",
       "<td>08 secs</td></tr>\n",
       "<tr><td>H2O cluster version:</td>\n",
       "<td>3.12.0.1</td></tr>\n",
       "<tr><td>H2O cluster version age:</td>\n",
       "<td>21 days, 19 hours and 18 minutes </td></tr>\n",
       "<tr><td>H2O cluster name:</td>\n",
       "<td>H2O_from_python_zhaorc_9ea5bz</td></tr>\n",
       "<tr><td>H2O cluster total nodes:</td>\n",
       "<td>1</td></tr>\n",
       "<tr><td>H2O cluster free memory:</td>\n",
       "<td>4.445 Gb</td></tr>\n",
       "<tr><td>H2O cluster total cores:</td>\n",
       "<td>0</td></tr>\n",
       "<tr><td>H2O cluster allowed cores:</td>\n",
       "<td>0</td></tr>\n",
       "<tr><td>H2O cluster status:</td>\n",
       "<td>accepting new members, healthy</td></tr>\n",
       "<tr><td>H2O connection url:</td>\n",
       "<td>http://localhost:54321</td></tr>\n",
       "<tr><td>H2O connection proxy:</td>\n",
       "<td>None</td></tr>\n",
       "<tr><td>H2O internal security:</td>\n",
       "<td>False</td></tr>\n",
       "<tr><td>Python version:</td>\n",
       "<td>3.5.2 final</td></tr></table></div>"
      ],
      "text/plain": [
       "--------------------------  --------------------------------\n",
       "H2O cluster uptime:         08 secs\n",
       "H2O cluster version:        3.12.0.1\n",
       "H2O cluster version age:    21 days, 19 hours and 18 minutes\n",
       "H2O cluster name:           H2O_from_python_zhaorc_9ea5bz\n",
       "H2O cluster total nodes:    1\n",
       "H2O cluster free memory:    4.445 Gb\n",
       "H2O cluster total cores:    0\n",
       "H2O cluster allowed cores:  0\n",
       "H2O cluster status:         accepting new members, healthy\n",
       "H2O connection url:         http://localhost:54321\n",
       "H2O connection proxy:\n",
       "H2O internal security:      False\n",
       "Python version:             3.5.2 final\n",
       "--------------------------  --------------------------------"
      ]
     },
     "metadata": {},
     "output_type": "display_data"
    },
    {
     "name": "stderr",
     "output_type": "stream",
     "text": [
      "//anaconda/lib/python3.5/site-packages/IPython/core/interactiveshell.py:2862: FutureWarning: \n",
      "mpl_style had been deprecated and will be removed in a future version.\n",
      "Use `matplotlib.pyplot.style.use` instead.\n",
      "\n",
      "  exec(code_obj, self.user_global_ns, self.user_ns)\n"
     ]
    }
   ],
   "source": [
    "import h2o\n",
    "from h2o.estimators.glrm import H2OGeneralizedLowRankEstimator\n",
    "from h2o.estimators.gbm import H2OGradientBoostingEstimator \n",
    "from h2o.estimators.random_forest import H2ORandomForestEstimator\n",
    "from h2o.grid.grid_search import H2OGridSearch \n",
    "from h2o.estimators.xgboost import H2OXGBoostEstimator\n",
    "from h2o.estimators.stackedensemble import H2OStackedEnsembleEstimator\n",
    "#import xgboost as xgb\n",
    "h2o.init(max_mem_size='6G') # give h2o as much memory as possible\n",
    "h2o.no_progress() # turn off h2o progress bars\n",
    "import numpy as np\n",
    "import pandas as pd\n",
    "import matplotlib.pyplot as plt\n",
    "from scipy.stats.mstats import winsorize\n",
    "import matplotlib.pyplot as plt\n",
    "pd.options.display.mpl_style = 'default'\n",
    "from pandas.tools.plotting import scatter_matrix\n",
    "import seaborn as sns\n",
    "sns.set()"
   ]
  },
  {
   "cell_type": "markdown",
   "metadata": {},
   "source": [
    "### Import Data & Create Sales Price Dummy Column in Test Dataset"
   ]
  },
  {
   "cell_type": "code",
   "execution_count": 3,
   "metadata": {},
   "outputs": [
    {
     "name": "stdout",
     "output_type": "stream",
     "text": [
      "(1460, 81)\n",
      "(1459, 81)\n"
     ]
    }
   ],
   "source": [
    "trainori = h2o.import_file('train.csv')\n",
    "testori = h2o.import_file('test.csv')\n",
    "dummy_col = np.random.rand(testori.shape[0])\n",
    "testori = testori.cbind(h2o.H2OFrame(dummy_col))\n",
    "cols = testori.columns\n",
    "cols[-1] = 'SalePrice'\n",
    "testori.columns = cols\n",
    "print(trainori.shape)\n",
    "print(testori.shape)"
   ]
  },
  {
   "cell_type": "code",
   "execution_count": 5,
   "metadata": {
    "collapsed": true
   },
   "outputs": [],
   "source": [
    "excludevars = ['ID','SalePrice']\n",
    "def get_type_lists(frame, rejects=excludevars):\n",
    "\n",
    "    \"\"\"Creates lists of numeric and categorical variables.\n",
    "    :param frame: The frame from which to determine types.\n",
    "    :param rejects: Variable names not to be included in returned lists.\n",
    "    :return: Tuple of lists for numeric and categorical variables in the frame.\n",
    "    \"\"\"\n",
    "    \n",
    "    nums, cats = [], []\n",
    "    for key, val in frame.types.items():\n",
    "        if key not in rejects:\n",
    "            if val == 'enum':\n",
    "                cats.append(key)\n",
    "            else: \n",
    "                nums.append(key)\n",
    "                \n",
    "    print('Numeric =', nums)                \n",
    "    print()\n",
    "    print('Categorical =', cats)\n",
    "    \n",
    "    return nums, cats"
   ]
  },
  {
   "cell_type": "code",
   "execution_count": 6,
   "metadata": {},
   "outputs": [
    {
     "name": "stdout",
     "output_type": "stream",
     "text": [
      "Numeric = ['BsmtUnfSF', 'BsmtFinSF2', 'OpenPorchSF', 'BsmtFullBath', 'MSSubClass', 'TotalBsmtSF', 'YearRemodAdd', 'ScreenPorch', 'BsmtFinSF1', 'LowQualFinSF', 'YrSold', 'GarageCars', 'LotArea', 'MiscVal', 'MasVnrArea', 'GarageYrBlt', 'FullBath', 'LotFrontage', '1stFlrSF', 'TotRmsAbvGrd', 'GarageArea', 'BedroomAbvGr', '3SsnPorch', 'PoolArea', 'EnclosedPorch', 'KitchenAbvGr', 'YearBuilt', 'OverallQual', 'WoodDeckSF', 'GrLivArea', 'BsmtHalfBath', '2ndFlrSF', 'HalfBath', 'Id', 'Fireplaces', 'MoSold', 'OverallCond']\n",
      "\n",
      "Categorical = ['Electrical', 'LotConfig', 'Condition1', 'LotShape', 'SaleCondition', 'Functional', 'GarageType', 'Utilities', 'Condition2', 'Fence', 'SaleType', 'ExterCond', 'MiscFeature', 'MSZoning', 'KitchenQual', 'Exterior1st', 'BldgType', 'RoofMatl', 'HouseStyle', 'PavedDrive', 'LandContour', 'HeatingQC', 'BsmtFinType1', 'RoofStyle', 'ExterQual', 'MasVnrType', 'BsmtFinType2', 'PoolQC', 'Foundation', 'FireplaceQu', 'BsmtExposure', 'LandSlope', 'CentralAir', 'Alley', 'BsmtCond', 'BsmtQual', 'Neighborhood', 'Street', 'Exterior2nd', 'GarageCond', 'Heating', 'GarageFinish', 'GarageQual']\n"
     ]
    }
   ],
   "source": [
    "original_nums, cats = get_type_lists(trainori)"
   ]
  },
  {
   "cell_type": "markdown",
   "metadata": {},
   "source": [
    "## Split into train and validation (before doing prep)"
   ]
  },
  {
   "cell_type": "code",
   "execution_count": 83,
   "metadata": {},
   "outputs": [
    {
     "name": "stdout",
     "output_type": "stream",
     "text": [
      "(1001, 81)\n",
      "(459, 81)\n"
     ]
    }
   ],
   "source": [
    "#train, valid = trainori.split_frame([0.7], seed=12345)\n",
    "#print(train.shape)\n",
    "#print(valid.shape)"
   ]
  },
  {
   "cell_type": "code",
   "execution_count": 7,
   "metadata": {},
   "outputs": [
    {
     "name": "stdout",
     "output_type": "stream",
     "text": [
      "(1460, 81)\n"
     ]
    }
   ],
   "source": [
    "# do this first\n",
    "train = trainori\n",
    "test = testori\n",
    "print(train.shape)"
   ]
  },
  {
   "cell_type": "markdown",
   "metadata": {},
   "source": [
    "## Preprocessing"
   ]
  },
  {
   "cell_type": "code",
   "execution_count": 8,
   "metadata": {
    "collapsed": true
   },
   "outputs": [],
   "source": [
    "pandas_train = train.as_data_frame(use_pandas=True) #Convert to Pandas frame\n",
    "pandas_test = test.as_data_frame(use_pandas=True) \n"
   ]
  },
  {
   "cell_type": "code",
   "execution_count": 9,
   "metadata": {},
   "outputs": [
    {
     "name": "stderr",
     "output_type": "stream",
     "text": [
      "//anaconda/lib/python3.5/site-packages/ipykernel/__main__.py:5: SettingWithCopyWarning: \n",
      "A value is trying to be set on a copy of a slice from a DataFrame\n",
      "\n",
      "See the caveats in the documentation: http://pandas.pydata.org/pandas-docs/stable/indexing.html#indexing-view-versus-copy\n",
      "//anaconda/lib/python3.5/site-packages/ipykernel/__main__.py:12: SettingWithCopyWarning: \n",
      "A value is trying to be set on a copy of a slice from a DataFrame\n",
      "\n",
      "See the caveats in the documentation: http://pandas.pydata.org/pandas-docs/stable/indexing.html#indexing-view-versus-copy\n"
     ]
    }
   ],
   "source": [
    "# Lotfrontage\n",
    "temp = pandas_train.groupby('Neighborhood', as_index=False)['LotFrontage'].median()\n",
    "temp = temp.rename(columns={\"LotFrontage\":\"LotFrontage2\"})\n",
    "pandas_train = pd.merge(pandas_train, temp, how='left', on='Neighborhood')\n",
    "pandas_train['LotFrontage'][pandas_train['LotFrontage'].isnull()] = pandas_train['LotFrontage2'][pandas_train['LotFrontage'].isnull()]\n",
    "pandas_train = pandas_train.drop('LotFrontage2', axis=1)\n",
    "\n",
    "\n",
    "temp = pandas_test.groupby('Neighborhood', as_index=False)['LotFrontage'].median()\n",
    "temp = temp.rename(columns={\"LotFrontage\":\"LotFrontage2\"})\n",
    "pandas_test = pd.merge(pandas_test, temp, how='left', on='Neighborhood')\n",
    "pandas_test['LotFrontage'][pandas_test['LotFrontage'].isnull()] = pandas_test['LotFrontage2'][pandas_test['LotFrontage'].isnull()]\n",
    "pandas_test = pandas_test.drop('LotFrontage2', axis=1)"
   ]
  },
  {
   "cell_type": "code",
   "execution_count": 10,
   "metadata": {
    "collapsed": true
   },
   "outputs": [],
   "source": [
    "# Alley\n",
    "pandas_train[\"Alley\"].fillna(\"None\", inplace=True)\n",
    "\n",
    "pandas_test[\"Alley\"].fillna(\"None\", inplace=True)\n"
   ]
  },
  {
   "cell_type": "code",
   "execution_count": 11,
   "metadata": {
    "collapsed": true
   },
   "outputs": [],
   "source": [
    "# MasVnrType, MasVnrArea\n",
    "pandas_train['MasVnrType'].fillna(pandas_train['MasVnrType'].value_counts().index[0],inplace=True)\n",
    "pandas_train['MasVnrArea'].fillna(pandas_train['MasVnrArea'].mode()[0],inplace=True)\n",
    "\n",
    "\n",
    "pandas_test['MasVnrType'].fillna(pandas_train['MasVnrType'].value_counts().index[0],inplace=True)\n",
    "pandas_test['MasVnrArea'].fillna(pandas_train['MasVnrArea'].mode()[0],inplace=True)"
   ]
  },
  {
   "cell_type": "code",
   "execution_count": 12,
   "metadata": {
    "collapsed": true
   },
   "outputs": [],
   "source": [
    "# Basement related\n",
    "\n",
    "basement_cols=['BsmtQual','BsmtCond','BsmtExposure','BsmtFinType1','BsmtFinType2','BsmtFinSF1','BsmtFinSF2']\n",
    "\n",
    "pandas_train[\"BsmtQual\"].fillna(\"None\", inplace=True)\n",
    "pandas_train[\"BsmtCond\"].fillna(\"None\", inplace=True)\n",
    "pandas_train[\"BsmtExposure\"].fillna(\"None\", inplace=True)\n",
    "pandas_train[\"BsmtFinType1\"].fillna(\"None\", inplace=True)\n",
    "pandas_train[\"BsmtFinSF1\"].fillna(0, inplace=True)\n",
    "pandas_train[\"BsmtFinType2\"].fillna(\"None\", inplace=True)\n",
    "pandas_train[\"BsmtFinSF2\"].fillna(0, inplace=True)\n",
    "pandas_train[\"BsmtUnfSF\"].fillna(0, inplace=True)\n",
    "\n",
    "pandas_test[\"BsmtQual\"].fillna(\"None\", inplace=True)\n",
    "pandas_test[\"BsmtCond\"].fillna(\"None\", inplace=True)\n",
    "pandas_test[\"BsmtExposure\"].fillna(\"None\", inplace=True)\n",
    "pandas_test[\"BsmtFinType1\"].fillna(\"None\", inplace=True)\n",
    "pandas_test[\"BsmtFinSF1\"].fillna(0, inplace=True)\n",
    "pandas_test[\"BsmtFinType2\"].fillna(\"None\", inplace=True)\n",
    "pandas_test[\"BsmtFinSF2\"].fillna(0, inplace=True)\n",
    "pandas_test[\"BsmtUnfSF\"].fillna(0, inplace=True)"
   ]
  },
  {
   "cell_type": "code",
   "execution_count": 13,
   "metadata": {},
   "outputs": [
    {
     "name": "stderr",
     "output_type": "stream",
     "text": [
      "//anaconda/lib/python3.5/site-packages/ipykernel/__main__.py:1: UserWarning: Boolean Series key will be reindexed to match DataFrame index.\n",
      "  if __name__ == '__main__':\n"
     ]
    },
    {
     "data": {
      "text/html": [
       "<div>\n",
       "<table border=\"1\" class=\"dataframe\">\n",
       "  <thead>\n",
       "    <tr style=\"text-align: right;\">\n",
       "      <th></th>\n",
       "      <th>BsmtQual</th>\n",
       "      <th>BsmtCond</th>\n",
       "      <th>BsmtExposure</th>\n",
       "      <th>BsmtFinType1</th>\n",
       "      <th>BsmtFinType2</th>\n",
       "      <th>BsmtFinSF1</th>\n",
       "      <th>BsmtFinSF2</th>\n",
       "    </tr>\n",
       "  </thead>\n",
       "  <tbody>\n",
       "  </tbody>\n",
       "</table>\n",
       "</div>"
      ],
      "text/plain": [
       "Empty DataFrame\n",
       "Columns: [BsmtQual, BsmtCond, BsmtExposure, BsmtFinType1, BsmtFinType2, BsmtFinSF1, BsmtFinSF2]\n",
       "Index: []"
      ]
     },
     "execution_count": 13,
     "metadata": {},
     "output_type": "execute_result"
    }
   ],
   "source": [
    "pandas_test[basement_cols][pandas_train['BsmtQual'].isnull()==True]"
   ]
  },
  {
   "cell_type": "code",
   "execution_count": 14,
   "metadata": {
    "collapsed": true
   },
   "outputs": [],
   "source": [
    "# Electrical\n",
    "pandas_train[\"Electrical\"].fillna(\"SBrkr\", inplace=True)\n",
    "\n",
    "pandas_test[\"Electrical\"].fillna(\"SBrkr\", inplace=True)"
   ]
  },
  {
   "cell_type": "code",
   "execution_count": 15,
   "metadata": {
    "collapsed": true
   },
   "outputs": [],
   "source": [
    "# FireplaceQu\n",
    "pandas_train[\"FireplaceQu\"].fillna(\"None\", inplace=True)\n",
    "\n",
    "pandas_test[\"FireplaceQu\"].fillna(\"None\", inplace=True)"
   ]
  },
  {
   "cell_type": "code",
   "execution_count": 16,
   "metadata": {
    "collapsed": true
   },
   "outputs": [],
   "source": [
    "# Garage related\n",
    "garage_cols=['GarageType','GarageQual','GarageCond','GarageYrBlt','GarageFinish','GarageCars','GarageArea']\n",
    "\n",
    "pandas_train[\"GarageType\"].fillna(\"None\", inplace=True)\n",
    "pandas_train[\"GarageQual\"].fillna(\"None\", inplace=True)\n",
    "pandas_train[\"GarageCond\"].fillna(\"None\", inplace=True)\n",
    "pandas_train[\"GarageFinish\"].fillna(\"None\", inplace=True)\n",
    "pandas_train[\"GarageCars\"].fillna(0, inplace=True)\n",
    "pandas_train[\"GarageArea\"].fillna(0, inplace=True)\n",
    "\n",
    "pandas_test[\"GarageType\"].fillna(\"None\", inplace=True)\n",
    "pandas_test[\"GarageQual\"].fillna(\"None\", inplace=True)\n",
    "pandas_test[\"GarageCond\"].fillna(\"None\", inplace=True)\n",
    "pandas_test[\"GarageFinish\"].fillna(\"None\", inplace=True)\n",
    "pandas_test[\"GarageCars\"].fillna(0, inplace=True)\n",
    "pandas_test[\"GarageArea\"].fillna(0, inplace=True)"
   ]
  },
  {
   "cell_type": "code",
   "execution_count": 17,
   "metadata": {
    "collapsed": true
   },
   "outputs": [],
   "source": [
    "# GarageYrBlt Binning\n",
    "\n",
    "minval = pandas_train['GarageYrBlt'].min()\n",
    "maxval = pandas_train['GarageYrBlt'].max()+1\n",
    "binlist=[0,minval,1920,1940,1960,1980,2000,maxval]\n",
    "pandas_train['GarageYrBlt'].fillna(0,inplace=True)\n",
    "pandas_train['GarageYrBltBins'] = pd.cut(pandas_train['GarageYrBlt'],binlist,include_lowest=True,right=False)\n",
    "\n",
    "minval = pandas_test['GarageYrBlt'].min()\n",
    "maxval = pandas_test['GarageYrBlt'].max()+1\n",
    "binlist=[0,minval,1920,1940,1960,1980,2000,maxval]\n",
    "pandas_test['GarageYrBlt'].fillna(0,inplace=True)\n",
    "pandas_test['GarageYrBltBins'] = pd.cut(pandas_test['GarageYrBlt'],binlist,include_lowest=True,right=False)"
   ]
  },
  {
   "cell_type": "code",
   "execution_count": 18,
   "metadata": {
    "collapsed": true
   },
   "outputs": [],
   "source": [
    "# PoolQC\n",
    "pandas_train[\"PoolQC\"].fillna(\"None\", inplace=True)\n",
    "\n",
    "pandas_test[\"PoolQC\"].fillna(\"None\", inplace=True)"
   ]
  },
  {
   "cell_type": "code",
   "execution_count": 19,
   "metadata": {
    "collapsed": true
   },
   "outputs": [],
   "source": [
    "# Fence, MiscFeature\n",
    "\n",
    "pandas_train[\"Fence\"].fillna(\"None\", inplace=True)\n",
    "pandas_train[\"MiscFeature\"].fillna(\"None\", inplace=True)\n",
    "\n",
    "pandas_test[\"Fence\"].fillna(\"None\", inplace=True)\n",
    "pandas_test[\"MiscFeature\"].fillna(\"None\", inplace=True)"
   ]
  },
  {
   "cell_type": "code",
   "execution_count": 20,
   "metadata": {
    "collapsed": true
   },
   "outputs": [],
   "source": [
    "def show_missing(pandas_frame):\n",
    "    missing = pandas_frame.columns[pandas_frame.isnull().any()].tolist()\n",
    "    return missing"
   ]
  },
  {
   "cell_type": "code",
   "execution_count": 21,
   "metadata": {},
   "outputs": [
    {
     "data": {
      "text/plain": [
       "[]"
      ]
     },
     "execution_count": 21,
     "metadata": {},
     "output_type": "execute_result"
    }
   ],
   "source": [
    "show_missing(pandas_train)"
   ]
  },
  {
   "cell_type": "code",
   "execution_count": 22,
   "metadata": {},
   "outputs": [
    {
     "data": {
      "text/plain": [
       "['MSZoning',\n",
       " 'Utilities',\n",
       " 'Exterior1st',\n",
       " 'Exterior2nd',\n",
       " 'TotalBsmtSF',\n",
       " 'BsmtFullBath',\n",
       " 'BsmtHalfBath',\n",
       " 'KitchenQual',\n",
       " 'Functional',\n",
       " 'SaleType']"
      ]
     },
     "execution_count": 22,
     "metadata": {},
     "output_type": "execute_result"
    }
   ],
   "source": [
    "show_missing(pandas_test) # 나중에 처리해야.."
   ]
  },
  {
   "cell_type": "code",
   "execution_count": 23,
   "metadata": {
    "collapsed": true
   },
   "outputs": [],
   "source": [
    "train_h2o = h2o.H2OFrame(pandas_train) #Convert back to H2O frame \n",
    "test_h2o = h2o.H2OFrame(pandas_test)"
   ]
  },
  {
   "cell_type": "markdown",
   "metadata": {},
   "source": [
    "### Set categorical vars"
   ]
  },
  {
   "cell_type": "code",
   "execution_count": 24,
   "metadata": {
    "collapsed": true
   },
   "outputs": [],
   "source": [
    "train_h2o['MSSubClass'] = train_h2o['MSSubClass'].asfactor()\n",
    "train_h2o['OverallQual'] = train_h2o['OverallQual'].asfactor()\n",
    "train_h2o['OverallCond'] = train_h2o['OverallCond'].asfactor()\n",
    "train_h2o['YearBuilt'] = train_h2o['YearBuilt'].asfactor()\n",
    "train_h2o['YearRemodAdd'] = train_h2o['YearRemodAdd'].asfactor()\n",
    "#train_h2o['GarageYrBlt'] = train_h2o['GarageYrBlt'].asfactor()\n",
    "train_h2o['MoSold'] = train_h2o['MoSold'].asfactor()\n",
    "train_h2o['YrSold'] = train_h2o['YrSold'].asfactor()\n",
    "\n",
    "test_h2o['MSSubClass'] = test_h2o['MSSubClass'].asfactor()\n",
    "test_h2o['OverallQual'] = test_h2o['OverallQual'].asfactor()\n",
    "test_h2o['OverallCond'] = test_h2o['OverallCond'].asfactor()\n",
    "test_h2o['YearBuilt'] = test_h2o['YearBuilt'].asfactor()\n",
    "test_h2o['YearRemodAdd'] = test_h2o['YearRemodAdd'].asfactor()\n",
    "#test_h2o['GarageYrBlt'] = test_h2o['GarageYrBlt'].asfactor()\n",
    "test_h2o['MoSold'] = test_h2o['MoSold'].asfactor()\n",
    "test_h2o['YrSold'] = test_h2o['YrSold'].asfactor()"
   ]
  },
  {
   "cell_type": "code",
   "execution_count": 25,
   "metadata": {},
   "outputs": [
    {
     "name": "stdout",
     "output_type": "stream",
     "text": [
      "Numeric = ['BsmtUnfSF', 'BsmtFinSF2', 'OpenPorchSF', 'BsmtFullBath', 'TotalBsmtSF', 'ScreenPorch', 'BsmtFinSF1', 'LowQualFinSF', 'GarageCars', 'LotArea', 'MiscVal', 'MasVnrArea', 'FullBath', 'LotFrontage', '1stFlrSF', 'TotRmsAbvGrd', 'GarageArea', 'BedroomAbvGr', '3SsnPorch', 'PoolArea', 'EnclosedPorch', 'KitchenAbvGr', 'WoodDeckSF', 'GrLivArea', 'BsmtHalfBath', '2ndFlrSF', 'HalfBath', 'Fireplaces']\n",
      "\n",
      "Categorical = ['Electrical', 'LotConfig', 'Condition1', 'LotShape', 'MSSubClass', 'YearRemodAdd', 'SaleCondition', 'Functional', 'GarageType', 'Utilities', 'Condition2', 'Fence', 'SaleType', 'ExterCond', 'YrSold', 'MiscFeature', 'MSZoning', 'KitchenQual', 'Exterior1st', 'BldgType', 'RoofMatl', 'HouseStyle', 'PavedDrive', 'LandContour', 'HeatingQC', 'BsmtFinType1', 'RoofStyle', 'ExterQual', 'YearBuilt', 'OverallQual', 'MasVnrType', 'BsmtFinType2', 'PoolQC', 'Foundation', 'FireplaceQu', 'BsmtExposure', 'LandSlope', 'CentralAir', 'Alley', 'GarageYrBltBins', 'BsmtCond', 'BsmtQual', 'Neighborhood', 'MoSold', 'Street', 'Exterior2nd', 'GarageCond', 'Heating', 'GarageFinish', 'OverallCond', 'GarageQual']\n"
     ]
    }
   ],
   "source": [
    "excludevars = ['Id','SalePrice', 'GarageYrBltBins2','GarageYrBlt']\n",
    "nums_afterpp, cats_afterpp = get_type_lists(train_h2o, excludevars)"
   ]
  },
  {
   "cell_type": "code",
   "execution_count": 26,
   "metadata": {},
   "outputs": [
    {
     "name": "stdout",
     "output_type": "stream",
     "text": [
      "(1001, 82)\n",
      "(459, 82)\n"
     ]
    }
   ],
   "source": [
    "train, valid = train_h2o.split_frame([0.7], seed=12345)\n",
    "test = test_h2o\n",
    "print(train.shape)\n",
    "print(valid.shape)"
   ]
  },
  {
   "cell_type": "code",
   "execution_count": 27,
   "metadata": {},
   "outputs": [
    {
     "name": "stdout",
     "output_type": "stream",
     "text": [
      "Rows:1001\n",
      "Cols:82\n",
      "\n",
      "\n"
     ]
    },
    {
     "data": {
      "text/html": [
       "<table>\n",
       "<thead>\n",
       "<tr><th>       </th><th>Id               </th><th>MSSubClass  </th><th>MSZoning  </th><th>LotFrontage      </th><th>LotArea           </th><th>Street  </th><th>Alley  </th><th>LotShape  </th><th>LandContour  </th><th>Utilities  </th><th>LotConfig  </th><th>LandSlope  </th><th>Neighborhood  </th><th>Condition1  </th><th>Condition2  </th><th>BldgType  </th><th>HouseStyle  </th><th>OverallQual  </th><th>OverallCond  </th><th>YearBuilt  </th><th>YearRemodAdd  </th><th>RoofStyle  </th><th>RoofMatl  </th><th>Exterior1st  </th><th>Exterior2nd  </th><th>MasVnrType  </th><th>MasVnrArea        </th><th>ExterQual  </th><th>ExterCond  </th><th>Foundation  </th><th>BsmtQual  </th><th>BsmtCond  </th><th>BsmtExposure  </th><th>BsmtFinType1  </th><th>BsmtFinSF1        </th><th>BsmtFinType2  </th><th>BsmtFinSF2        </th><th>BsmtUnfSF         </th><th>TotalBsmtSF       </th><th>Heating  </th><th>HeatingQC  </th><th>CentralAir  </th><th>Electrical  </th><th>1stFlrSF         </th><th>2ndFlrSF          </th><th>LowQualFinSF      </th><th>GrLivArea         </th><th>BsmtFullBath      </th><th>BsmtHalfBath       </th><th>FullBath          </th><th>HalfBath          </th><th>BedroomAbvGr      </th><th>KitchenAbvGr       </th><th>KitchenQual  </th><th>TotRmsAbvGrd     </th><th>Functional  </th><th>Fireplaces        </th><th>FireplaceQu  </th><th>GarageType  </th><th>GarageYrBlt       </th><th>GarageFinish  </th><th>GarageCars        </th><th>GarageArea        </th><th>GarageQual  </th><th>GarageCond  </th><th>PavedDrive  </th><th>WoodDeckSF        </th><th>OpenPorchSF      </th><th>EnclosedPorch     </th><th>3SsnPorch         </th><th>ScreenPorch       </th><th>PoolArea         </th><th>PoolQC  </th><th>Fence  </th><th>MiscFeature  </th><th>MiscVal           </th><th>MoSold  </th><th>YrSold  </th><th>SaleType  </th><th>SaleCondition  </th><th>SalePrice         </th><th>GarageYrBltBins  </th></tr>\n",
       "</thead>\n",
       "<tbody>\n",
       "<tr><td>type   </td><td>int              </td><td>enum        </td><td>enum      </td><td>real             </td><td>int               </td><td>enum    </td><td>enum   </td><td>enum      </td><td>enum         </td><td>enum       </td><td>enum       </td><td>enum       </td><td>enum          </td><td>enum        </td><td>enum        </td><td>enum      </td><td>enum        </td><td>enum         </td><td>enum         </td><td>enum       </td><td>enum          </td><td>enum       </td><td>enum      </td><td>enum         </td><td>enum         </td><td>enum        </td><td>int               </td><td>enum       </td><td>enum       </td><td>enum        </td><td>enum      </td><td>enum      </td><td>enum          </td><td>enum          </td><td>int               </td><td>enum          </td><td>int               </td><td>int               </td><td>int               </td><td>enum     </td><td>enum       </td><td>enum        </td><td>enum        </td><td>int              </td><td>int               </td><td>int               </td><td>int               </td><td>int               </td><td>int                </td><td>int               </td><td>int               </td><td>int               </td><td>int                </td><td>enum         </td><td>int              </td><td>enum        </td><td>int               </td><td>enum         </td><td>enum        </td><td>int               </td><td>enum          </td><td>int               </td><td>int               </td><td>enum        </td><td>enum        </td><td>enum        </td><td>int               </td><td>int              </td><td>int               </td><td>int               </td><td>int               </td><td>int              </td><td>enum    </td><td>enum   </td><td>enum         </td><td>int               </td><td>enum    </td><td>enum    </td><td>enum      </td><td>enum           </td><td>int               </td><td>enum             </td></tr>\n",
       "<tr><td>mins   </td><td>1.0              </td><td>            </td><td>          </td><td>21.0             </td><td>1300.0            </td><td>        </td><td>       </td><td>          </td><td>             </td><td>           </td><td>           </td><td>           </td><td>              </td><td>            </td><td>            </td><td>          </td><td>            </td><td>             </td><td>             </td><td>           </td><td>              </td><td>           </td><td>          </td><td>             </td><td>             </td><td>            </td><td>0.0               </td><td>           </td><td>           </td><td>            </td><td>          </td><td>          </td><td>              </td><td>              </td><td>0.0               </td><td>              </td><td>0.0               </td><td>0.0               </td><td>0.0               </td><td>         </td><td>           </td><td>            </td><td>            </td><td>480.0            </td><td>0.0               </td><td>0.0               </td><td>480.0             </td><td>0.0               </td><td>0.0                </td><td>0.0               </td><td>0.0               </td><td>0.0               </td><td>0.0                </td><td>             </td><td>3.0              </td><td>            </td><td>0.0               </td><td>             </td><td>            </td><td>0.0               </td><td>              </td><td>0.0               </td><td>0.0               </td><td>            </td><td>            </td><td>            </td><td>0.0               </td><td>0.0              </td><td>0.0               </td><td>0.0               </td><td>0.0               </td><td>0.0              </td><td>        </td><td>       </td><td>             </td><td>0.0               </td><td>        </td><td>        </td><td>          </td><td>               </td><td>34900.0           </td><td>                 </td></tr>\n",
       "<tr><td>mean   </td><td>724.8291708291705</td><td>            </td><td>          </td><td>70.74475524475535</td><td>10628.262737262736</td><td>        </td><td>       </td><td>          </td><td>             </td><td>           </td><td>           </td><td>           </td><td>              </td><td>            </td><td>            </td><td>          </td><td>            </td><td>             </td><td>             </td><td>           </td><td>              </td><td>           </td><td>          </td><td>             </td><td>             </td><td>            </td><td>106.16383616383624</td><td>           </td><td>           </td><td>            </td><td>          </td><td>          </td><td>              </td><td>              </td><td>445.5994005994004 </td><td>              </td><td>41.64935064935064 </td><td>575.9900099900102 </td><td>1063.2387612387604</td><td>         </td><td>           </td><td>            </td><td>            </td><td>1172.088911088912</td><td>341.78721278721247</td><td>5.9250749250749255</td><td>1519.8011988011988</td><td>0.4265734265734266</td><td>0.05994005994005996</td><td>1.5744255744255726</td><td>0.381618381618382 </td><td>2.8711288711288696</td><td>1.0469530469530457 </td><td>             </td><td>6.512487512487514</td><td>            </td><td>0.6203796203796214</td><td>             </td><td>            </td><td>1883.850149850151 </td><td>              </td><td>1.7932067932067925</td><td>477.4685314685315 </td><td>            </td><td>            </td><td>            </td><td>91.07392607392609 </td><td>44.92407592407593</td><td>21.257742257742255</td><td>3.4565434565434567</td><td>14.763236763236765</td><td>3.376623376623376</td><td>        </td><td>       </td><td>             </td><td>39.684315684315685</td><td>        </td><td>        </td><td>          </td><td>               </td><td>182171.95904095893</td><td>                 </td></tr>\n",
       "<tr><td>maxs   </td><td>1460.0           </td><td>            </td><td>          </td><td>313.0            </td><td>164660.0          </td><td>        </td><td>       </td><td>          </td><td>             </td><td>           </td><td>           </td><td>           </td><td>              </td><td>            </td><td>            </td><td>          </td><td>            </td><td>             </td><td>             </td><td>           </td><td>              </td><td>           </td><td>          </td><td>             </td><td>             </td><td>            </td><td>1378.0            </td><td>           </td><td>           </td><td>            </td><td>          </td><td>          </td><td>              </td><td>              </td><td>5644.0            </td><td>              </td><td>1127.0            </td><td>2153.0            </td><td>6110.0            </td><td>         </td><td>           </td><td>            </td><td>            </td><td>4692.0           </td><td>2065.0            </td><td>528.0             </td><td>5642.0            </td><td>3.0               </td><td>2.0                </td><td>3.0               </td><td>2.0               </td><td>8.0               </td><td>3.0                </td><td>             </td><td>14.0             </td><td>            </td><td>3.0               </td><td>             </td><td>            </td><td>2010.0            </td><td>              </td><td>4.0               </td><td>1418.0            </td><td>            </td><td>            </td><td>            </td><td>736.0             </td><td>523.0            </td><td>552.0             </td><td>508.0             </td><td>440.0             </td><td>738.0            </td><td>        </td><td>       </td><td>             </td><td>15500.0           </td><td>        </td><td>        </td><td>          </td><td>               </td><td>755000.0          </td><td>                 </td></tr>\n",
       "<tr><td>sigma  </td><td>421.4954943866087</td><td>            </td><td>          </td><td>23.15278676455676</td><td>9442.37310711137  </td><td>        </td><td>       </td><td>          </td><td>             </td><td>           </td><td>           </td><td>           </td><td>              </td><td>            </td><td>            </td><td>          </td><td>            </td><td>             </td><td>             </td><td>           </td><td>              </td><td>           </td><td>          </td><td>             </td><td>             </td><td>            </td><td>179.66239765423683</td><td>           </td><td>           </td><td>            </td><td>          </td><td>          </td><td>              </td><td>              </td><td>467.17326588712297</td><td>              </td><td>148.91838678308972</td><td>444.45750741786287</td><td>450.4683539784607 </td><td>         </td><td>           </td><td>            </td><td>            </td><td>392.4739572085174</td><td>432.9085950594231 </td><td>49.51948485817861 </td><td>520.2774292995629 </td><td>0.5204355357324734</td><td>0.2457714312193271 </td><td>0.5538098001166959</td><td>0.5002217290580031</td><td>0.8052177496650357</td><td>0.22537348289718281</td><td>             </td><td>1.587480364002624</td><td>            </td><td>0.6416730131026673</td><td>             </td><td>            </td><td>423.68187301615546</td><td>              </td><td>0.7349787794173421</td><td>209.92257920181268</td><td>            </td><td>            </td><td>            </td><td>120.05044160464608</td><td>63.01874506660877</td><td>61.04442237008644 </td><td>29.83605804459362 </td><td>54.16981527671003 </td><td>43.98791894358055</td><td>        </td><td>       </td><td>             </td><td>516.2493547150991 </td><td>        </td><td>        </td><td>          </td><td>               </td><td>80367.94618029826 </td><td>                 </td></tr>\n",
       "<tr><td>zeros  </td><td>0                </td><td>            </td><td>          </td><td>0                </td><td>0                 </td><td>        </td><td>       </td><td>          </td><td>             </td><td>           </td><td>           </td><td>           </td><td>              </td><td>            </td><td>            </td><td>          </td><td>            </td><td>             </td><td>             </td><td>           </td><td>              </td><td>           </td><td>          </td><td>             </td><td>             </td><td>            </td><td>577               </td><td>           </td><td>           </td><td>            </td><td>          </td><td>          </td><td>              </td><td>              </td><td>326               </td><td>              </td><td>894               </td><td>78                </td><td>25                </td><td>         </td><td>           </td><td>            </td><td>            </td><td>0                </td><td>572               </td><td>984               </td><td>0                 </td><td>586               </td><td>943                </td><td>6                 </td><td>626               </td><td>4                 </td><td>1                  </td><td>             </td><td>0                </td><td>            </td><td>466               </td><td>             </td><td>            </td><td>48                </td><td>              </td><td>48                </td><td>48                </td><td>            </td><td>            </td><td>            </td><td>523               </td><td>460              </td><td>867               </td><td>985               </td><td>921               </td><td>995              </td><td>        </td><td>       </td><td>             </td><td>969               </td><td>        </td><td>        </td><td>          </td><td>               </td><td>0                 </td><td>                 </td></tr>\n",
       "<tr><td>missing</td><td>0                </td><td>0           </td><td>0         </td><td>0                </td><td>0                 </td><td>0       </td><td>0      </td><td>0         </td><td>0            </td><td>0          </td><td>0          </td><td>0          </td><td>0             </td><td>0           </td><td>0           </td><td>0         </td><td>0           </td><td>0            </td><td>0            </td><td>0          </td><td>0             </td><td>0          </td><td>0         </td><td>0            </td><td>0            </td><td>0           </td><td>0                 </td><td>0          </td><td>0          </td><td>0           </td><td>0         </td><td>0         </td><td>0             </td><td>0             </td><td>0                 </td><td>0             </td><td>0                 </td><td>0                 </td><td>0                 </td><td>0        </td><td>0          </td><td>0           </td><td>0           </td><td>0                </td><td>0                 </td><td>0                 </td><td>0                 </td><td>0                 </td><td>0                  </td><td>0                 </td><td>0                 </td><td>0                 </td><td>0                  </td><td>0            </td><td>0                </td><td>0           </td><td>0                 </td><td>0            </td><td>0           </td><td>0                 </td><td>0             </td><td>0                 </td><td>0                 </td><td>0           </td><td>0           </td><td>0           </td><td>0                 </td><td>0                </td><td>0                 </td><td>0                 </td><td>0                 </td><td>0                </td><td>0       </td><td>0      </td><td>0            </td><td>0                 </td><td>0       </td><td>0       </td><td>0         </td><td>0              </td><td>0                 </td><td>0                </td></tr>\n",
       "<tr><td>0      </td><td>1.0              </td><td>60          </td><td>RL        </td><td>65.0             </td><td>8450.0            </td><td>Pave    </td><td>None   </td><td>Reg       </td><td>Lvl          </td><td>AllPub     </td><td>Inside     </td><td>Gtl        </td><td>CollgCr       </td><td>Norm        </td><td>Norm        </td><td>1Fam      </td><td>2Story      </td><td>7            </td><td>5            </td><td>2003       </td><td>2003          </td><td>Gable      </td><td>CompShg   </td><td>VinylSd      </td><td>VinylSd      </td><td>BrkFace     </td><td>196.0             </td><td>Gd         </td><td>TA         </td><td>PConc       </td><td>Gd        </td><td>TA        </td><td>No            </td><td>GLQ           </td><td>706.0             </td><td>Unf           </td><td>0.0               </td><td>150.0             </td><td>856.0             </td><td>GasA     </td><td>Ex         </td><td>Y           </td><td>SBrkr       </td><td>856.0            </td><td>854.0             </td><td>0.0               </td><td>1710.0            </td><td>1.0               </td><td>0.0                </td><td>2.0               </td><td>1.0               </td><td>3.0               </td><td>1.0                </td><td>Gd           </td><td>8.0              </td><td>Typ         </td><td>0.0               </td><td>None         </td><td>Attchd      </td><td>2003.0            </td><td>RFn           </td><td>2.0               </td><td>548.0             </td><td>TA          </td><td>TA          </td><td>Y           </td><td>0.0               </td><td>61.0             </td><td>0.0               </td><td>0.0               </td><td>0.0               </td><td>0.0              </td><td>None    </td><td>None   </td><td>None         </td><td>0.0               </td><td>2       </td><td>2008    </td><td>WD        </td><td>Normal         </td><td>208500.0          </td><td>[2000, 2011)     </td></tr>\n",
       "<tr><td>1      </td><td>2.0              </td><td>20          </td><td>RL        </td><td>80.0             </td><td>9600.0            </td><td>Pave    </td><td>None   </td><td>Reg       </td><td>Lvl          </td><td>AllPub     </td><td>FR2        </td><td>Gtl        </td><td>Veenker       </td><td>Feedr       </td><td>Norm        </td><td>1Fam      </td><td>1Story      </td><td>6            </td><td>8            </td><td>1976       </td><td>1976          </td><td>Gable      </td><td>CompShg   </td><td>MetalSd      </td><td>MetalSd      </td><td>None        </td><td>0.0               </td><td>TA         </td><td>TA         </td><td>CBlock      </td><td>Gd        </td><td>TA        </td><td>Gd            </td><td>ALQ           </td><td>978.0             </td><td>Unf           </td><td>0.0               </td><td>284.0             </td><td>1262.0            </td><td>GasA     </td><td>Ex         </td><td>Y           </td><td>SBrkr       </td><td>1262.0           </td><td>0.0               </td><td>0.0               </td><td>1262.0            </td><td>0.0               </td><td>1.0                </td><td>2.0               </td><td>0.0               </td><td>3.0               </td><td>1.0                </td><td>TA           </td><td>6.0              </td><td>Typ         </td><td>1.0               </td><td>TA           </td><td>Attchd      </td><td>1976.0            </td><td>RFn           </td><td>2.0               </td><td>460.0             </td><td>TA          </td><td>TA          </td><td>Y           </td><td>298.0             </td><td>0.0              </td><td>0.0               </td><td>0.0               </td><td>0.0               </td><td>0.0              </td><td>None    </td><td>None   </td><td>None         </td><td>0.0               </td><td>5       </td><td>2007    </td><td>WD        </td><td>Normal         </td><td>181500.0          </td><td>[1960, 1980)     </td></tr>\n",
       "<tr><td>2      </td><td>3.0              </td><td>60          </td><td>RL        </td><td>68.0             </td><td>11250.0           </td><td>Pave    </td><td>None   </td><td>IR1       </td><td>Lvl          </td><td>AllPub     </td><td>Inside     </td><td>Gtl        </td><td>CollgCr       </td><td>Norm        </td><td>Norm        </td><td>1Fam      </td><td>2Story      </td><td>7            </td><td>5            </td><td>2001       </td><td>2002          </td><td>Gable      </td><td>CompShg   </td><td>VinylSd      </td><td>VinylSd      </td><td>BrkFace     </td><td>162.0             </td><td>Gd         </td><td>TA         </td><td>PConc       </td><td>Gd        </td><td>TA        </td><td>Mn            </td><td>GLQ           </td><td>486.0             </td><td>Unf           </td><td>0.0               </td><td>434.0             </td><td>920.0             </td><td>GasA     </td><td>Ex         </td><td>Y           </td><td>SBrkr       </td><td>920.0            </td><td>866.0             </td><td>0.0               </td><td>1786.0            </td><td>1.0               </td><td>0.0                </td><td>2.0               </td><td>1.0               </td><td>3.0               </td><td>1.0                </td><td>Gd           </td><td>6.0              </td><td>Typ         </td><td>1.0               </td><td>TA           </td><td>Attchd      </td><td>2001.0            </td><td>RFn           </td><td>2.0               </td><td>608.0             </td><td>TA          </td><td>TA          </td><td>Y           </td><td>0.0               </td><td>42.0             </td><td>0.0               </td><td>0.0               </td><td>0.0               </td><td>0.0              </td><td>None    </td><td>None   </td><td>None         </td><td>0.0               </td><td>9       </td><td>2008    </td><td>WD        </td><td>Normal         </td><td>223500.0          </td><td>[2000, 2011)     </td></tr>\n",
       "<tr><td>3      </td><td>5.0              </td><td>60          </td><td>RL        </td><td>84.0             </td><td>14260.0           </td><td>Pave    </td><td>None   </td><td>IR1       </td><td>Lvl          </td><td>AllPub     </td><td>FR2        </td><td>Gtl        </td><td>NoRidge       </td><td>Norm        </td><td>Norm        </td><td>1Fam      </td><td>2Story      </td><td>8            </td><td>5            </td><td>2000       </td><td>2000          </td><td>Gable      </td><td>CompShg   </td><td>VinylSd      </td><td>VinylSd      </td><td>BrkFace     </td><td>350.0             </td><td>Gd         </td><td>TA         </td><td>PConc       </td><td>Gd        </td><td>TA        </td><td>Av            </td><td>GLQ           </td><td>655.0             </td><td>Unf           </td><td>0.0               </td><td>490.0             </td><td>1145.0            </td><td>GasA     </td><td>Ex         </td><td>Y           </td><td>SBrkr       </td><td>1145.0           </td><td>1053.0            </td><td>0.0               </td><td>2198.0            </td><td>1.0               </td><td>0.0                </td><td>2.0               </td><td>1.0               </td><td>4.0               </td><td>1.0                </td><td>Gd           </td><td>9.0              </td><td>Typ         </td><td>1.0               </td><td>TA           </td><td>Attchd      </td><td>2000.0            </td><td>RFn           </td><td>3.0               </td><td>836.0             </td><td>TA          </td><td>TA          </td><td>Y           </td><td>192.0             </td><td>84.0             </td><td>0.0               </td><td>0.0               </td><td>0.0               </td><td>0.0              </td><td>None    </td><td>None   </td><td>None         </td><td>0.0               </td><td>12      </td><td>2008    </td><td>WD        </td><td>Normal         </td><td>250000.0          </td><td>[2000, 2011)     </td></tr>\n",
       "<tr><td>4      </td><td>6.0              </td><td>50          </td><td>RL        </td><td>85.0             </td><td>14115.0           </td><td>Pave    </td><td>None   </td><td>IR1       </td><td>Lvl          </td><td>AllPub     </td><td>Inside     </td><td>Gtl        </td><td>Mitchel       </td><td>Norm        </td><td>Norm        </td><td>1Fam      </td><td>1.5Fin      </td><td>5            </td><td>5            </td><td>1993       </td><td>1995          </td><td>Gable      </td><td>CompShg   </td><td>VinylSd      </td><td>VinylSd      </td><td>None        </td><td>0.0               </td><td>TA         </td><td>TA         </td><td>Wood        </td><td>Gd        </td><td>TA        </td><td>No            </td><td>GLQ           </td><td>732.0             </td><td>Unf           </td><td>0.0               </td><td>64.0              </td><td>796.0             </td><td>GasA     </td><td>Ex         </td><td>Y           </td><td>SBrkr       </td><td>796.0            </td><td>566.0             </td><td>0.0               </td><td>1362.0            </td><td>1.0               </td><td>0.0                </td><td>1.0               </td><td>1.0               </td><td>1.0               </td><td>1.0                </td><td>TA           </td><td>5.0              </td><td>Typ         </td><td>0.0               </td><td>None         </td><td>Attchd      </td><td>1993.0            </td><td>Unf           </td><td>2.0               </td><td>480.0             </td><td>TA          </td><td>TA          </td><td>Y           </td><td>40.0              </td><td>30.0             </td><td>0.0               </td><td>320.0             </td><td>0.0               </td><td>0.0              </td><td>None    </td><td>MnPrv  </td><td>Shed         </td><td>700.0             </td><td>10      </td><td>2009    </td><td>WD        </td><td>Normal         </td><td>143000.0          </td><td>[1980, 2000)     </td></tr>\n",
       "<tr><td>5      </td><td>7.0              </td><td>20          </td><td>RL        </td><td>75.0             </td><td>10084.0           </td><td>Pave    </td><td>None   </td><td>Reg       </td><td>Lvl          </td><td>AllPub     </td><td>Inside     </td><td>Gtl        </td><td>Somerst       </td><td>Norm        </td><td>Norm        </td><td>1Fam      </td><td>1Story      </td><td>8            </td><td>5            </td><td>2004       </td><td>2005          </td><td>Gable      </td><td>CompShg   </td><td>VinylSd      </td><td>VinylSd      </td><td>Stone       </td><td>186.0             </td><td>Gd         </td><td>TA         </td><td>PConc       </td><td>Ex        </td><td>TA        </td><td>Av            </td><td>GLQ           </td><td>1369.0            </td><td>Unf           </td><td>0.0               </td><td>317.0             </td><td>1686.0            </td><td>GasA     </td><td>Ex         </td><td>Y           </td><td>SBrkr       </td><td>1694.0           </td><td>0.0               </td><td>0.0               </td><td>1694.0            </td><td>1.0               </td><td>0.0                </td><td>2.0               </td><td>0.0               </td><td>3.0               </td><td>1.0                </td><td>Gd           </td><td>7.0              </td><td>Typ         </td><td>1.0               </td><td>Gd           </td><td>Attchd      </td><td>2004.0            </td><td>RFn           </td><td>2.0               </td><td>636.0             </td><td>TA          </td><td>TA          </td><td>Y           </td><td>255.0             </td><td>57.0             </td><td>0.0               </td><td>0.0               </td><td>0.0               </td><td>0.0              </td><td>None    </td><td>None   </td><td>None         </td><td>0.0               </td><td>8       </td><td>2007    </td><td>WD        </td><td>Normal         </td><td>307000.0          </td><td>[2000, 2011)     </td></tr>\n",
       "<tr><td>6      </td><td>9.0              </td><td>50          </td><td>RM        </td><td>51.0             </td><td>6120.0            </td><td>Pave    </td><td>None   </td><td>Reg       </td><td>Lvl          </td><td>AllPub     </td><td>Inside     </td><td>Gtl        </td><td>OldTown       </td><td>Artery      </td><td>Norm        </td><td>1Fam      </td><td>1.5Fin      </td><td>7            </td><td>5            </td><td>1931       </td><td>1950          </td><td>Gable      </td><td>CompShg   </td><td>BrkFace      </td><td>Wd Shng      </td><td>None        </td><td>0.0               </td><td>TA         </td><td>TA         </td><td>BrkTil      </td><td>TA        </td><td>TA        </td><td>No            </td><td>Unf           </td><td>0.0               </td><td>Unf           </td><td>0.0               </td><td>952.0             </td><td>952.0             </td><td>GasA     </td><td>Gd         </td><td>Y           </td><td>FuseF       </td><td>1022.0           </td><td>752.0             </td><td>0.0               </td><td>1774.0            </td><td>0.0               </td><td>0.0                </td><td>2.0               </td><td>0.0               </td><td>2.0               </td><td>2.0                </td><td>TA           </td><td>8.0              </td><td>Min1        </td><td>2.0               </td><td>TA           </td><td>Detchd      </td><td>1931.0            </td><td>Unf           </td><td>2.0               </td><td>468.0             </td><td>Fa          </td><td>TA          </td><td>Y           </td><td>90.0              </td><td>0.0              </td><td>205.0             </td><td>0.0               </td><td>0.0               </td><td>0.0              </td><td>None    </td><td>None   </td><td>None         </td><td>0.0               </td><td>4       </td><td>2008    </td><td>WD        </td><td>Abnorml        </td><td>129900.0          </td><td>[1920, 1940)     </td></tr>\n",
       "<tr><td>7      </td><td>11.0             </td><td>20          </td><td>RL        </td><td>70.0             </td><td>11200.0           </td><td>Pave    </td><td>None   </td><td>Reg       </td><td>Lvl          </td><td>AllPub     </td><td>Inside     </td><td>Gtl        </td><td>Sawyer        </td><td>Norm        </td><td>Norm        </td><td>1Fam      </td><td>1Story      </td><td>5            </td><td>5            </td><td>1965       </td><td>1965          </td><td>Hip        </td><td>CompShg   </td><td>HdBoard      </td><td>HdBoard      </td><td>None        </td><td>0.0               </td><td>TA         </td><td>TA         </td><td>CBlock      </td><td>TA        </td><td>TA        </td><td>No            </td><td>Rec           </td><td>906.0             </td><td>Unf           </td><td>0.0               </td><td>134.0             </td><td>1040.0            </td><td>GasA     </td><td>Ex         </td><td>Y           </td><td>SBrkr       </td><td>1040.0           </td><td>0.0               </td><td>0.0               </td><td>1040.0            </td><td>1.0               </td><td>0.0                </td><td>1.0               </td><td>0.0               </td><td>3.0               </td><td>1.0                </td><td>TA           </td><td>5.0              </td><td>Typ         </td><td>0.0               </td><td>None         </td><td>Detchd      </td><td>1965.0            </td><td>Unf           </td><td>1.0               </td><td>384.0             </td><td>TA          </td><td>TA          </td><td>Y           </td><td>0.0               </td><td>0.0              </td><td>0.0               </td><td>0.0               </td><td>0.0               </td><td>0.0              </td><td>None    </td><td>None   </td><td>None         </td><td>0.0               </td><td>2       </td><td>2008    </td><td>WD        </td><td>Normal         </td><td>129500.0          </td><td>[1960, 1980)     </td></tr>\n",
       "<tr><td>8      </td><td>12.0             </td><td>60          </td><td>RL        </td><td>85.0             </td><td>11924.0           </td><td>Pave    </td><td>None   </td><td>IR1       </td><td>Lvl          </td><td>AllPub     </td><td>Inside     </td><td>Gtl        </td><td>NridgHt       </td><td>Norm        </td><td>Norm        </td><td>1Fam      </td><td>2Story      </td><td>9            </td><td>5            </td><td>2005       </td><td>2006          </td><td>Hip        </td><td>CompShg   </td><td>WdShing      </td><td>Wd Shng      </td><td>Stone       </td><td>286.0             </td><td>Ex         </td><td>TA         </td><td>PConc       </td><td>Ex        </td><td>TA        </td><td>No            </td><td>GLQ           </td><td>998.0             </td><td>Unf           </td><td>0.0               </td><td>177.0             </td><td>1175.0            </td><td>GasA     </td><td>Ex         </td><td>Y           </td><td>SBrkr       </td><td>1182.0           </td><td>1142.0            </td><td>0.0               </td><td>2324.0            </td><td>1.0               </td><td>0.0                </td><td>3.0               </td><td>0.0               </td><td>4.0               </td><td>1.0                </td><td>Ex           </td><td>11.0             </td><td>Typ         </td><td>2.0               </td><td>Gd           </td><td>BuiltIn     </td><td>2005.0            </td><td>Fin           </td><td>3.0               </td><td>736.0             </td><td>TA          </td><td>TA          </td><td>Y           </td><td>147.0             </td><td>21.0             </td><td>0.0               </td><td>0.0               </td><td>0.0               </td><td>0.0              </td><td>None    </td><td>None   </td><td>None         </td><td>0.0               </td><td>7       </td><td>2006    </td><td>New       </td><td>Partial        </td><td>345000.0          </td><td>[2000, 2011)     </td></tr>\n",
       "<tr><td>9      </td><td>13.0             </td><td>20          </td><td>RL        </td><td>71.0             </td><td>12968.0           </td><td>Pave    </td><td>None   </td><td>IR2       </td><td>Lvl          </td><td>AllPub     </td><td>Inside     </td><td>Gtl        </td><td>Sawyer        </td><td>Norm        </td><td>Norm        </td><td>1Fam      </td><td>1Story      </td><td>5            </td><td>6            </td><td>1962       </td><td>1962          </td><td>Hip        </td><td>CompShg   </td><td>HdBoard      </td><td>Plywood      </td><td>None        </td><td>0.0               </td><td>TA         </td><td>TA         </td><td>CBlock      </td><td>TA        </td><td>TA        </td><td>No            </td><td>ALQ           </td><td>737.0             </td><td>Unf           </td><td>0.0               </td><td>175.0             </td><td>912.0             </td><td>GasA     </td><td>TA         </td><td>Y           </td><td>SBrkr       </td><td>912.0            </td><td>0.0               </td><td>0.0               </td><td>912.0             </td><td>1.0               </td><td>0.0                </td><td>1.0               </td><td>0.0               </td><td>2.0               </td><td>1.0                </td><td>TA           </td><td>4.0              </td><td>Typ         </td><td>0.0               </td><td>None         </td><td>Detchd      </td><td>1962.0            </td><td>Unf           </td><td>1.0               </td><td>352.0             </td><td>TA          </td><td>TA          </td><td>Y           </td><td>140.0             </td><td>0.0              </td><td>0.0               </td><td>0.0               </td><td>176.0             </td><td>0.0              </td><td>None    </td><td>None   </td><td>None         </td><td>0.0               </td><td>9       </td><td>2008    </td><td>WD        </td><td>Normal         </td><td>144000.0          </td><td>[1960, 1980)     </td></tr>\n",
       "</tbody>\n",
       "</table>"
      ]
     },
     "metadata": {},
     "output_type": "display_data"
    }
   ],
   "source": [
    "train.describe()"
   ]
  },
  {
   "cell_type": "code",
   "execution_count": 28,
   "metadata": {
    "collapsed": true
   },
   "outputs": [],
   "source": [
    "def target_encoder(training_frame, test_frame, x, y, lambda_=0.15, threshold=150, test=False):\n",
    "\n",
    "    \"\"\" Applies simple target encoding to categorical variables.\n",
    "\n",
    "    :param training_frame: Training frame which to create target means and to be encoded.\n",
    "    :param test_frame: Test frame to be encoded using information from training frame.\n",
    "    :param x: Name of input variable to be encoded.\n",
    "    :param y: Name of target variable to use for encoding.\n",
    "    :param lambda_: Balance between level mean and overall mean for small groups.\n",
    "    :param threshold: Number below which a level is considered small enough to be shrunken.\n",
    "    :param test: Whether or not to print the row_val_dict for testing purposes.\n",
    "    :return: Tuple of encoded variable from train and test set as H2OFrames.\n",
    "\n",
    "    \"\"\"\n",
    "\n",
    "    # convert to pandas\n",
    "    trdf = training_frame.as_data_frame().loc[:, [x,y]] # df\n",
    "    tss = test_frame.as_data_frame().loc[:, x]          # series\n",
    "\n",
    "\n",
    "    # create dictionary of level:encode val\n",
    "\n",
    "    encode_name = x + '_Tencode'\n",
    "    overall_mean = trdf[y].mean()\n",
    "    row_val_dict = {}\n",
    "\n",
    "    for level in trdf[x].unique():\n",
    "        level_df = trdf[trdf[x] == level][y]\n",
    "        level_n = level_df.shape[0]\n",
    "        level_mean = level_df.mean()\n",
    "        if level_n >= threshold:\n",
    "            row_val_dict[level] = level_mean\n",
    "        else:\n",
    "            row_val_dict[level] = ((1 - lambda_) * level_mean) +\\\n",
    "                                  (lambda_ * overall_mean)\n",
    "\n",
    "    row_val_dict[np.nan] = overall_mean # handle missing values\n",
    "\n",
    "    if test:\n",
    "        print(row_val_dict)\n",
    "\n",
    "    # apply the transform to training data\n",
    "    trdf[encode_name] = trdf[x].apply(lambda i: row_val_dict[i])\n",
    "\n",
    "    # apply the transform to test data\n",
    "    tsdf = pd.DataFrame(columns=[x, encode_name])\n",
    "    tsdf[x] = tss\n",
    "    tsdf.loc[:, encode_name] = overall_mean # handle previously unseen values\n",
    "    # handle values that are seen in tsdf but not row_val_dict\n",
    "    for i, col_i in enumerate(tsdf[x]):\n",
    "        try:\n",
    "            row_val_dict[col_i]\n",
    "        except:\n",
    "            # a value that appeared in tsdf isn't in the row_val_dict so just\n",
    "            # make it the overall_mean\n",
    "            row_val_dict[col_i] = overall_mean\n",
    "    tsdf[encode_name] = tsdf[x].apply(lambda i: row_val_dict[i])\n",
    "\n",
    "\n",
    "    # convert back to H2O\n",
    "\n",
    "    trdf = h2o.H2OFrame(trdf[encode_name].as_matrix())\n",
    "    trdf.columns = [encode_name]\n",
    "\n",
    "    tsdf = h2o.H2OFrame(tsdf[encode_name].as_matrix())\n",
    "    tsdf.columns = [encode_name]\n",
    "\n",
    "    return (trdf, tsdf)\n"
   ]
  },
  {
   "cell_type": "code",
   "execution_count": 29,
   "metadata": {
    "scrolled": true
   },
   "outputs": [
    {
     "name": "stdout",
     "output_type": "stream",
     "text": [
      "Encoding: Electrical (1/51) ...\n",
      "Encoding: LotConfig (2/51) ...\n",
      "Encoding: Condition1 (3/51) ...\n",
      "Encoding: LotShape (4/51) ...\n",
      "Encoding: MSSubClass (5/51) ...\n",
      "Encoding: YearRemodAdd (6/51) ...\n",
      "Encoding: SaleCondition (7/51) ...\n",
      "Encoding: Functional (8/51) ...\n",
      "Encoding: GarageType (9/51) ...\n",
      "Encoding: Utilities (10/51) ...\n",
      "Encoding: Condition2 (11/51) ...\n",
      "Encoding: Fence (12/51) ...\n",
      "Encoding: SaleType (13/51) ...\n",
      "Encoding: ExterCond (14/51) ...\n",
      "Encoding: YrSold (15/51) ...\n",
      "Encoding: MiscFeature (16/51) ...\n",
      "Encoding: MSZoning (17/51) ...\n",
      "Encoding: KitchenQual (18/51) ...\n",
      "Encoding: Exterior1st (19/51) ...\n",
      "Encoding: BldgType (20/51) ...\n",
      "Encoding: RoofMatl (21/51) ...\n",
      "Encoding: HouseStyle (22/51) ...\n",
      "Encoding: PavedDrive (23/51) ...\n",
      "Encoding: LandContour (24/51) ...\n",
      "Encoding: HeatingQC (25/51) ...\n",
      "Encoding: BsmtFinType1 (26/51) ...\n",
      "Encoding: RoofStyle (27/51) ...\n",
      "Encoding: ExterQual (28/51) ...\n",
      "Encoding: YearBuilt (29/51) ...\n",
      "Encoding: OverallQual (30/51) ...\n",
      "Encoding: MasVnrType (31/51) ...\n",
      "Encoding: BsmtFinType2 (32/51) ...\n",
      "Encoding: PoolQC (33/51) ...\n",
      "Encoding: Foundation (34/51) ...\n",
      "Encoding: FireplaceQu (35/51) ...\n",
      "Encoding: BsmtExposure (36/51) ...\n",
      "Encoding: LandSlope (37/51) ...\n",
      "Encoding: CentralAir (38/51) ...\n",
      "Encoding: Alley (39/51) ...\n",
      "Encoding: GarageYrBltBins (40/51) ...\n",
      "Encoding: BsmtCond (41/51) ...\n",
      "Encoding: BsmtQual (42/51) ...\n",
      "Encoding: Neighborhood (43/51) ...\n",
      "Encoding: MoSold (44/51) ...\n",
      "Encoding: Street (45/51) ...\n",
      "Encoding: Exterior2nd (46/51) ...\n",
      "Encoding: GarageCond (47/51) ...\n",
      "Encoding: Heating (48/51) ...\n",
      "Encoding: GarageFinish (49/51) ...\n",
      "Encoding: OverallCond (50/51) ...\n",
      "Encoding: GarageQual (51/51) ...\n",
      "Done.\n"
     ]
    }
   ],
   "source": [
    "total = len(cats_afterpp)\n",
    "for i, var in enumerate(cats_afterpp):\n",
    "    \n",
    "    tr_enc, _ = target_encoder(train, test, var, 'SalePrice')\n",
    "    v_enc, ts_enc = target_encoder(valid, test, var, 'SalePrice')\n",
    "    \n",
    "    print('Encoding: ' + var + ' (' + str(i+1) + '/' + str(total) + ') ...')\n",
    "\n",
    "    train = train.cbind(tr_enc)\n",
    "    valid = valid.cbind(v_enc)\n",
    "    test = test.cbind(ts_enc)    \n",
    "    \n",
    "print('Done.')"
   ]
  },
  {
   "cell_type": "code",
   "execution_count": 30,
   "metadata": {},
   "outputs": [
    {
     "name": "stdout",
     "output_type": "stream",
     "text": [
      "Rows:1001\n",
      "Cols:133\n",
      "\n",
      "\n"
     ]
    },
    {
     "data": {
      "text/html": [
       "<table>\n",
       "<thead>\n",
       "<tr><th>       </th><th>Id               </th><th>MSSubClass  </th><th>MSZoning  </th><th>LotFrontage      </th><th>LotArea           </th><th>Street  </th><th>Alley  </th><th>LotShape  </th><th>LandContour  </th><th>Utilities  </th><th>LotConfig  </th><th>LandSlope  </th><th>Neighborhood  </th><th>Condition1  </th><th>Condition2  </th><th>BldgType  </th><th>HouseStyle  </th><th>OverallQual  </th><th>OverallCond  </th><th>YearBuilt  </th><th>YearRemodAdd  </th><th>RoofStyle  </th><th>RoofMatl  </th><th>Exterior1st  </th><th>Exterior2nd  </th><th>MasVnrType  </th><th>MasVnrArea        </th><th>ExterQual  </th><th>ExterCond  </th><th>Foundation  </th><th>BsmtQual  </th><th>BsmtCond  </th><th>BsmtExposure  </th><th>BsmtFinType1  </th><th>BsmtFinSF1        </th><th>BsmtFinType2  </th><th>BsmtFinSF2        </th><th>BsmtUnfSF         </th><th>TotalBsmtSF       </th><th>Heating  </th><th>HeatingQC  </th><th>CentralAir  </th><th>Electrical  </th><th>1stFlrSF         </th><th>2ndFlrSF          </th><th>LowQualFinSF      </th><th>GrLivArea         </th><th>BsmtFullBath      </th><th>BsmtHalfBath       </th><th>FullBath          </th><th>HalfBath          </th><th>BedroomAbvGr      </th><th>KitchenAbvGr       </th><th>KitchenQual  </th><th>TotRmsAbvGrd     </th><th>Functional  </th><th>Fireplaces        </th><th>FireplaceQu  </th><th>GarageType  </th><th>GarageYrBlt       </th><th>GarageFinish  </th><th>GarageCars        </th><th>GarageArea        </th><th>GarageQual  </th><th>GarageCond  </th><th>PavedDrive  </th><th>WoodDeckSF        </th><th>OpenPorchSF      </th><th>EnclosedPorch     </th><th>3SsnPorch         </th><th>ScreenPorch       </th><th>PoolArea         </th><th>PoolQC  </th><th>Fence  </th><th>MiscFeature  </th><th>MiscVal           </th><th>MoSold  </th><th>YrSold  </th><th>SaleType  </th><th>SaleCondition  </th><th>SalePrice         </th><th>GarageYrBltBins  </th><th>Electrical_Tencode  </th><th>LotConfig_Tencode  </th><th>Condition1_Tencode  </th><th>LotShape_Tencode  </th><th>MSSubClass_Tencode  </th><th>YearRemodAdd_Tencode  </th><th>SaleCondition_Tencode  </th><th>Functional_Tencode  </th><th>GarageType_Tencode  </th><th>Utilities_Tencode  </th><th>Condition2_Tencode  </th><th>Fence_Tencode     </th><th>SaleType_Tencode  </th><th>ExterCond_Tencode  </th><th>YrSold_Tencode    </th><th>MiscFeature_Tencode  </th><th>MSZoning_Tencode  </th><th>KitchenQual_Tencode  </th><th>Exterior1st_Tencode  </th><th>BldgType_Tencode  </th><th>RoofMatl_Tencode  </th><th>HouseStyle_Tencode  </th><th>PavedDrive_Tencode  </th><th>LandContour_Tencode  </th><th>HeatingQC_Tencode  </th><th>BsmtFinType1_Tencode  </th><th>RoofStyle_Tencode  </th><th>ExterQual_Tencode  </th><th>YearBuilt_Tencode  </th><th>OverallQual_Tencode  </th><th>MasVnrType_Tencode  </th><th>BsmtFinType2_Tencode  </th><th>PoolQC_Tencode    </th><th>Foundation_Tencode  </th><th>FireplaceQu_Tencode  </th><th>BsmtExposure_Tencode  </th><th>LandSlope_Tencode  </th><th>CentralAir_Tencode  </th><th>Alley_Tencode     </th><th>GarageYrBltBins_Tencode  </th><th>BsmtCond_Tencode  </th><th>BsmtQual_Tencode  </th><th>Neighborhood_Tencode  </th><th>MoSold_Tencode    </th><th>Street_Tencode    </th><th>Exterior2nd_Tencode  </th><th>GarageCond_Tencode  </th><th>Heating_Tencode   </th><th>GarageFinish_Tencode  </th><th>OverallCond_Tencode  </th><th>GarageQual_Tencode  </th></tr>\n",
       "</thead>\n",
       "<tbody>\n",
       "<tr><td>type   </td><td>int              </td><td>enum        </td><td>enum      </td><td>real             </td><td>int               </td><td>enum    </td><td>enum   </td><td>enum      </td><td>enum         </td><td>enum       </td><td>enum       </td><td>enum       </td><td>enum          </td><td>enum        </td><td>enum        </td><td>enum      </td><td>enum        </td><td>enum         </td><td>enum         </td><td>enum       </td><td>enum          </td><td>enum       </td><td>enum      </td><td>enum         </td><td>enum         </td><td>enum        </td><td>int               </td><td>enum       </td><td>enum       </td><td>enum        </td><td>enum      </td><td>enum      </td><td>enum          </td><td>enum          </td><td>int               </td><td>enum          </td><td>int               </td><td>int               </td><td>int               </td><td>enum     </td><td>enum       </td><td>enum        </td><td>enum        </td><td>int              </td><td>int               </td><td>int               </td><td>int               </td><td>int               </td><td>int                </td><td>int               </td><td>int               </td><td>int               </td><td>int                </td><td>enum         </td><td>int              </td><td>enum        </td><td>int               </td><td>enum         </td><td>enum        </td><td>int               </td><td>enum          </td><td>int               </td><td>int               </td><td>enum        </td><td>enum        </td><td>enum        </td><td>int               </td><td>int              </td><td>int               </td><td>int               </td><td>int               </td><td>int              </td><td>enum    </td><td>enum   </td><td>enum         </td><td>int               </td><td>enum    </td><td>enum    </td><td>enum      </td><td>enum           </td><td>int               </td><td>enum             </td><td>real                </td><td>real               </td><td>real                </td><td>real              </td><td>real                </td><td>real                  </td><td>real                   </td><td>real                </td><td>real                </td><td>real               </td><td>real                </td><td>real              </td><td>real              </td><td>real               </td><td>real              </td><td>real                 </td><td>real              </td><td>real                 </td><td>real                 </td><td>real              </td><td>real              </td><td>real                </td><td>real                </td><td>real                 </td><td>real               </td><td>real                  </td><td>real               </td><td>real               </td><td>real               </td><td>real                 </td><td>real                </td><td>real                  </td><td>real              </td><td>real                </td><td>real                 </td><td>real                  </td><td>real               </td><td>real                </td><td>real              </td><td>real                     </td><td>real              </td><td>real              </td><td>real                  </td><td>real              </td><td>real              </td><td>real                 </td><td>real                </td><td>real              </td><td>real                  </td><td>real                 </td><td>real                </td></tr>\n",
       "<tr><td>mins   </td><td>1.0              </td><td>            </td><td>          </td><td>21.0             </td><td>1300.0            </td><td>        </td><td>       </td><td>          </td><td>             </td><td>           </td><td>           </td><td>           </td><td>              </td><td>            </td><td>            </td><td>          </td><td>            </td><td>             </td><td>             </td><td>           </td><td>              </td><td>           </td><td>          </td><td>             </td><td>             </td><td>            </td><td>0.0               </td><td>           </td><td>           </td><td>            </td><td>          </td><td>          </td><td>              </td><td>              </td><td>0.0               </td><td>              </td><td>0.0               </td><td>0.0               </td><td>0.0               </td><td>         </td><td>           </td><td>            </td><td>            </td><td>480.0            </td><td>0.0               </td><td>0.0               </td><td>480.0             </td><td>0.0               </td><td>0.0                </td><td>0.0               </td><td>0.0               </td><td>0.0               </td><td>0.0                </td><td>             </td><td>3.0              </td><td>            </td><td>0.0               </td><td>             </td><td>            </td><td>0.0               </td><td>              </td><td>0.0               </td><td>0.0               </td><td>            </td><td>            </td><td>            </td><td>0.0               </td><td>0.0              </td><td>0.0               </td><td>0.0               </td><td>0.0               </td><td>0.0              </td><td>        </td><td>       </td><td>             </td><td>0.0               </td><td>        </td><td>        </td><td>          </td><td>               </td><td>34900.0           </td><td>                 </td><td>84275.79385614385   </td><td>176473.2899159664  </td><td>134468.29385614386  </td><td>163944.59385614382</td><td>110931.40933233431  </td><td>104035.31885614386    </td><td>115832.04385614385     </td><td>110059.12718947718  </td><td>119405.5855228105   </td><td>144200.79385614386 </td><td>108075.79385614385  </td><td>141306.73814185814</td><td>125968.29385614385</td><td>122047.14941169939 </td><td>179239.41089108912</td><td>140375.79385614386   </td><td>78614.79385614385 </td><td>124936.94820396995   </td><td>78325.79385614385    </td><td>138273.46052281052</td><td>143775.79385614386</td><td>118907.22242757239  </td><td>129253.89464979463  </td><td>145140.16285614387   </td><td>135668.69902855766 </td><td>121276.42985614385    </td><td>161577.2224275724  </td><td>116078.96885614384 </td><td>103613.29385614385 </td><td>57340.143856143855   </td><td>156555.86183074262  </td><td>126947.55924075923    </td><td>181425.2874371859 </td><td>121726.89385614387  </td><td>141462.34885614386   </td><td>123956.21308691308    </td><td>181486.5182747485  </td><td>119608.23368665231  </td><td>128075.200999001  </td><td>119405.5855228105        </td><td>84275.79385614385 </td><td>121216.12093947716</td><td>109690.79385614385    </td><td>171267.6210300569 </td><td>146350.10385614386</td><td>129978.23968947721   </td><td>112070.79385614385  </td><td>93469.96052281052 </td><td>119405.5855228105     </td><td>116283.85154845155   </td><td>96813.29385614385   </td></tr>\n",
       "<tr><td>mean   </td><td>724.8291708291705</td><td>            </td><td>          </td><td>70.74475524475535</td><td>10628.262737262736</td><td>        </td><td>       </td><td>          </td><td>             </td><td>           </td><td>           </td><td>           </td><td>              </td><td>            </td><td>            </td><td>          </td><td>            </td><td>             </td><td>             </td><td>           </td><td>              </td><td>           </td><td>          </td><td>             </td><td>             </td><td>            </td><td>106.16383616383624</td><td>           </td><td>           </td><td>            </td><td>          </td><td>          </td><td>              </td><td>              </td><td>445.5994005994004 </td><td>              </td><td>41.64935064935064 </td><td>575.9900099900102 </td><td>1063.2387612387604</td><td>         </td><td>           </td><td>            </td><td>            </td><td>1172.088911088912</td><td>341.78721278721247</td><td>5.9250749250749255</td><td>1519.8011988011988</td><td>0.4265734265734266</td><td>0.05994005994005996</td><td>1.5744255744255726</td><td>0.381618381618382 </td><td>2.8711288711288696</td><td>1.0469530469530457 </td><td>             </td><td>6.512487512487514</td><td>            </td><td>0.6203796203796214</td><td>             </td><td>            </td><td>1883.850149850151 </td><td>              </td><td>1.7932067932067925</td><td>477.4685314685315 </td><td>            </td><td>            </td><td>            </td><td>91.07392607392609 </td><td>44.92407592407593</td><td>21.257742257742255</td><td>3.4565434565434567</td><td>14.763236763236765</td><td>3.376623376623376</td><td>        </td><td>       </td><td>             </td><td>39.684315684315685</td><td>        </td><td>        </td><td>          </td><td>               </td><td>182171.95904095893</td><td>                 </td><td>182937.98398065448  </td><td>181772.16118142588 </td><td>182645.11776425384  </td><td>181993.92786324595</td><td>184318.41699728824  </td><td>182171.95904095907    </td><td>181541.3249445857      </td><td>182576.2453368812   </td><td>182245.84650479382  </td><td>182178.6531407155  </td><td>182224.44204037718  </td><td>183005.0923464647 </td><td>181180.3311701287 </td><td>182637.23505924654 </td><td>182185.62702342597</td><td>182343.8002408678    </td><td>183387.92640181998</td><td>180810.9702399497    </td><td>183565.71379414786   </td><td>182849.79797599994</td><td>182033.94005549914</td><td>183188.2563525883   </td><td>182908.1805595005   </td><td>182186.7329973223    </td><td>182409.70856326495 </td><td>184124.927790092      </td><td>182159.00869385348 </td><td>181095.696027499   </td><td>182171.95904095916 </td><td>180290.10698776753   </td><td>180953.6910454183   </td><td>182622.35788112954    </td><td>182060.62963350347</td><td>183119.90242260238  </td><td>181849.37466200133   </td><td>181332.52799323562    </td><td>182145.0556687068  </td><td>182822.70708043195  </td><td>182525.0014360763 </td><td>184028.82781249733       </td><td>182522.25164540764</td><td>180724.5454251543 </td><td>182171.95904095893    </td><td>182085.76055692547</td><td>182203.5349842965 </td><td>183994.5260926888    </td><td>182992.97056335275  </td><td>182323.57985955084</td><td>182703.09600908577    </td><td>183250.586628257     </td><td>183008.55356277092  </td></tr>\n",
       "<tr><td>maxs   </td><td>1460.0           </td><td>            </td><td>          </td><td>313.0            </td><td>164660.0          </td><td>        </td><td>       </td><td>          </td><td>             </td><td>           </td><td>           </td><td>           </td><td>              </td><td>            </td><td>            </td><td>          </td><td>            </td><td>             </td><td>             </td><td>           </td><td>              </td><td>           </td><td>          </td><td>             </td><td>             </td><td>            </td><td>1378.0            </td><td>           </td><td>           </td><td>            </td><td>          </td><td>          </td><td>              </td><td>              </td><td>5644.0            </td><td>              </td><td>1127.0            </td><td>2153.0            </td><td>6110.0            </td><td>         </td><td>           </td><td>            </td><td>            </td><td>4692.0           </td><td>2065.0            </td><td>528.0             </td><td>5642.0            </td><td>3.0               </td><td>2.0                </td><td>3.0               </td><td>2.0               </td><td>8.0               </td><td>3.0                </td><td>             </td><td>14.0             </td><td>            </td><td>3.0               </td><td>             </td><td>            </td><td>2010.0            </td><td>              </td><td>4.0               </td><td>1418.0            </td><td>            </td><td>            </td><td>            </td><td>736.0             </td><td>523.0            </td><td>552.0             </td><td>508.0             </td><td>440.0             </td><td>738.0            </td><td>        </td><td>       </td><td>             </td><td>15500.0           </td><td>        </td><td>        </td><td>          </td><td>               </td><td>755000.0          </td><td>                 </td><td>187716.3622559653   </td><td>215932.78135614385 </td><td>219155.3393106893   </td><td>220137.0973044197 </td><td>243184.96534653462  </td><td>313744.7688561438     </td><td>260380.61674771016     </td><td>185063.63879957132  </td><td>243875.54558028182  </td><td>182216.631         </td><td>269469.54385614384  </td><td>189018.974137931  </td><td>263880.6876061438 </td><td>185708.33940774488 </td><td>186896.74166666667</td><td>239825.79385614384   </td><td>204495.20385614387</td><td>305958.08769176033   </td><td>250025.79385614384   </td><td>187595.7541966427 </td><td>669075.7938561438 </td><td>210965.119205298    </td><td>187523.8671023965   </td><td>215016.8662245649    </td><td>216426.0           </td><td>236446.98648648648    </td><td>248325.79385614384 </td><td>348876.58744588745 </td><td>362592.99385614385 </td><td>411753.33231768233   </td><td>256064.37787676242  </td><td>218122.46052281052    </td><td>443825.79385614384</td><td>226465.8274336283   </td><td>306119.08332982805   </td><td>243510.2073978105     </td><td>200379.84385614382 </td><td>186782.0            </td><td>184672.98832271763</td><td>239676.72027972032       </td><td>212500.14385614384</td><td>312352.66653056245</td><td>329868.3581418581     </td><td>198254.40597735601</td><td>182383.5220883534 </td><td>298475.79385614384   </td><td>188146.7502726281   </td><td>185483.95814185814</td><td>243708.832            </td><td>202661.43181818182   </td><td>222252.04385614384  </td></tr>\n",
       "<tr><td>sigma  </td><td>421.4954943866087</td><td>            </td><td>          </td><td>23.15278676455676</td><td>9442.37310711137  </td><td>        </td><td>       </td><td>          </td><td>             </td><td>           </td><td>           </td><td>           </td><td>              </td><td>            </td><td>            </td><td>          </td><td>            </td><td>             </td><td>             </td><td>           </td><td>              </td><td>           </td><td>          </td><td>             </td><td>             </td><td>            </td><td>179.66239765423683</td><td>           </td><td>           </td><td>            </td><td>          </td><td>          </td><td>              </td><td>              </td><td>467.17326588712297</td><td>              </td><td>148.91838678308972</td><td>444.45750741786287</td><td>450.4683539784607 </td><td>         </td><td>           </td><td>            </td><td>            </td><td>392.4739572085174</td><td>432.9085950594231 </td><td>49.51948485817861 </td><td>520.2774292995629 </td><td>0.5204355357324734</td><td>0.2457714312193271 </td><td>0.5538098001166959</td><td>0.5002217290580031</td><td>0.8052177496650357</td><td>0.22537348289718281</td><td>             </td><td>1.587480364002624</td><td>            </td><td>0.6416730131026673</td><td>             </td><td>            </td><td>423.68187301615546</td><td>              </td><td>0.7349787794173421</td><td>209.92257920181268</td><td>            </td><td>            </td><td>            </td><td>120.05044160464608</td><td>63.01874506660877</td><td>61.04442237008644 </td><td>29.83605804459362 </td><td>54.16981527671003 </td><td>43.98791894358055</td><td>        </td><td>       </td><td>             </td><td>516.2493547150991 </td><td>        </td><td>        </td><td>          </td><td>               </td><td>80367.94618029826 </td><td>                 </td><td>16464.287213227504  </td><td>10669.040225587902 </td><td>13080.75973520577   </td><td>21926.258171174657</td><td>36476.82137140024   </td><td>38617.88648752911     </td><td>24904.82535576665      </td><td>9673.47275081667    </td><td>36865.89240600122   </td><td>1201.5656926005156 </td><td>6389.719881512636   </td><td>13504.518364088008</td><td>25459.930478733866</td><td>9945.861000354027  </td><td>2758.862801413868 </td><td>6090.240696354947    </td><td>22616.419950331485</td><td>49556.81599252627    </td><td>29589.150408848287   </td><td>13615.68412825508 </td><td>15980.206375764057</td><td>21247.331540214996  </td><td>15415.629575665147  </td><td>11064.930655592716   </td><td>35398.54044306139  </td><td>35223.67981963558     </td><td>20695.377655471344 </td><td>52277.89924581866  </td><td>46504.44964927137  </td><td>58402.9609943276     </td><td>32513.444047378878  </td><td>11550.862509420635    </td><td>11901.388296801693</td><td>39735.240377141236  </td><td>40541.64241671104    </td><td>26179.291204996774    </td><td>1835.4154172265153 </td><td>15828.294334486298  </td><td>9766.58876414746  </td><td>41226.63262266888        </td><td>14302.859526666482</td><td>49983.0128988164  </td><td>51529.9324408036      </td><td>8240.20571837234  </td><td>2541.57596669905  </td><td>30224.673393447127   </td><td>17804.37971784183   </td><td>8588.039549532357 </td><td>43904.519304777365    </td><td>23878.60607396363    </td><td>18601.506242713353  </td></tr>\n",
       "<tr><td>zeros  </td><td>0                </td><td>            </td><td>          </td><td>0                </td><td>0                 </td><td>        </td><td>       </td><td>          </td><td>             </td><td>           </td><td>           </td><td>           </td><td>              </td><td>            </td><td>            </td><td>          </td><td>            </td><td>             </td><td>             </td><td>           </td><td>              </td><td>           </td><td>          </td><td>             </td><td>             </td><td>            </td><td>577               </td><td>           </td><td>           </td><td>            </td><td>          </td><td>          </td><td>              </td><td>              </td><td>326               </td><td>              </td><td>894               </td><td>78                </td><td>25                </td><td>         </td><td>           </td><td>            </td><td>            </td><td>0                </td><td>572               </td><td>984               </td><td>0                 </td><td>586               </td><td>943                </td><td>6                 </td><td>626               </td><td>4                 </td><td>1                  </td><td>             </td><td>0                </td><td>            </td><td>466               </td><td>             </td><td>            </td><td>48                </td><td>              </td><td>48                </td><td>48                </td><td>            </td><td>            </td><td>            </td><td>523               </td><td>460              </td><td>867               </td><td>985               </td><td>921               </td><td>995              </td><td>        </td><td>       </td><td>             </td><td>969               </td><td>        </td><td>        </td><td>          </td><td>               </td><td>0                 </td><td>                 </td><td>0                   </td><td>0                  </td><td>0                   </td><td>0                 </td><td>0                   </td><td>0                     </td><td>0                      </td><td>0                   </td><td>0                   </td><td>0                  </td><td>0                   </td><td>0                 </td><td>0                 </td><td>0                  </td><td>0                 </td><td>0                    </td><td>0                 </td><td>0                    </td><td>0                    </td><td>0                 </td><td>0                 </td><td>0                   </td><td>0                   </td><td>0                    </td><td>0                  </td><td>0                     </td><td>0                  </td><td>0                  </td><td>0                  </td><td>0                    </td><td>0                   </td><td>0                     </td><td>0                 </td><td>0                   </td><td>0                    </td><td>0                     </td><td>0                  </td><td>0                   </td><td>0                 </td><td>0                        </td><td>0                 </td><td>0                 </td><td>0                     </td><td>0                 </td><td>0                 </td><td>0                    </td><td>0                   </td><td>0                 </td><td>0                     </td><td>0                    </td><td>0                   </td></tr>\n",
       "<tr><td>missing</td><td>0                </td><td>0           </td><td>0         </td><td>0                </td><td>0                 </td><td>0       </td><td>0      </td><td>0         </td><td>0            </td><td>0          </td><td>0          </td><td>0          </td><td>0             </td><td>0           </td><td>0           </td><td>0         </td><td>0           </td><td>0            </td><td>0            </td><td>0          </td><td>0             </td><td>0          </td><td>0         </td><td>0            </td><td>0            </td><td>0           </td><td>0                 </td><td>0          </td><td>0          </td><td>0           </td><td>0         </td><td>0         </td><td>0             </td><td>0             </td><td>0                 </td><td>0             </td><td>0                 </td><td>0                 </td><td>0                 </td><td>0        </td><td>0          </td><td>0           </td><td>0           </td><td>0                </td><td>0                 </td><td>0                 </td><td>0                 </td><td>0                 </td><td>0                  </td><td>0                 </td><td>0                 </td><td>0                 </td><td>0                  </td><td>0            </td><td>0                </td><td>0           </td><td>0                 </td><td>0            </td><td>0           </td><td>0                 </td><td>0             </td><td>0                 </td><td>0                 </td><td>0           </td><td>0           </td><td>0           </td><td>0                 </td><td>0                </td><td>0                 </td><td>0                 </td><td>0                 </td><td>0                </td><td>0       </td><td>0      </td><td>0            </td><td>0                 </td><td>0       </td><td>0       </td><td>0         </td><td>0              </td><td>0                 </td><td>0                </td><td>0                   </td><td>0                  </td><td>0                   </td><td>0                 </td><td>0                   </td><td>0                     </td><td>0                      </td><td>0                   </td><td>0                   </td><td>0                  </td><td>0                   </td><td>0                 </td><td>0                 </td><td>0                  </td><td>0                 </td><td>0                    </td><td>0                 </td><td>0                    </td><td>0                    </td><td>0                 </td><td>0                 </td><td>0                   </td><td>0                   </td><td>0                    </td><td>0                  </td><td>0                     </td><td>0                  </td><td>0                  </td><td>0                  </td><td>0                    </td><td>0                   </td><td>0                     </td><td>0                 </td><td>0                   </td><td>0                    </td><td>0                     </td><td>0                  </td><td>0                   </td><td>0                 </td><td>0                        </td><td>0                 </td><td>0                 </td><td>0                     </td><td>0                 </td><td>0                 </td><td>0                    </td><td>0                   </td><td>0                 </td><td>0                     </td><td>0                    </td><td>0                   </td></tr>\n",
       "<tr><td>0      </td><td>1.0              </td><td>60          </td><td>RL        </td><td>65.0             </td><td>8450.0            </td><td>Pave    </td><td>None   </td><td>Reg       </td><td>Lvl          </td><td>AllPub     </td><td>Inside     </td><td>Gtl        </td><td>CollgCr       </td><td>Norm        </td><td>Norm        </td><td>1Fam      </td><td>2Story      </td><td>7            </td><td>5            </td><td>2003       </td><td>2003          </td><td>Gable      </td><td>CompShg   </td><td>VinylSd      </td><td>VinylSd      </td><td>BrkFace     </td><td>196.0             </td><td>Gd         </td><td>TA         </td><td>PConc       </td><td>Gd        </td><td>TA        </td><td>No            </td><td>GLQ           </td><td>706.0             </td><td>Unf           </td><td>0.0               </td><td>150.0             </td><td>856.0             </td><td>GasA     </td><td>Ex         </td><td>Y           </td><td>SBrkr       </td><td>856.0            </td><td>854.0             </td><td>0.0               </td><td>1710.0            </td><td>1.0               </td><td>0.0                </td><td>2.0               </td><td>1.0               </td><td>3.0               </td><td>1.0                </td><td>Gd           </td><td>8.0              </td><td>Typ         </td><td>0.0               </td><td>None         </td><td>Attchd      </td><td>2003.0            </td><td>RFn           </td><td>2.0               </td><td>548.0             </td><td>TA          </td><td>TA          </td><td>Y           </td><td>0.0               </td><td>61.0             </td><td>0.0               </td><td>0.0               </td><td>0.0               </td><td>0.0              </td><td>None    </td><td>None   </td><td>None         </td><td>0.0               </td><td>2       </td><td>2008    </td><td>WD        </td><td>Normal         </td><td>208500.0          </td><td>[2000, 2011)     </td><td>187716.3622559653   </td><td>176473.2899159664  </td><td>185776.46347031964  </td><td>165131.57073954982</td><td>243184.96534653462  </td><td>184833.50913392162    </td><td>177020.8800489596      </td><td>185063.63879957132  </td><td>203664.60358890702  </td><td>182216.631         </td><td>182525.73333333334  </td><td>189018.974137931  </td><td>174574.41216991964</td><td>185708.33940774488 </td><td>181231.93779904302</td><td>183357.84694932782   </td><td>192391.8022670025 </td><td>212221.98514851482   </td><td>216859.7290502793    </td><td>187595.7541966427 </td><td>181235.93597560975</td><td>210965.119205298    </td><td>187523.8671023965   </td><td>182282.48766816143   </td><td>216426.0           </td><td>236446.98648648648    </td><td>171522.79741935484 </td><td>229333.4454277286  </td><td>208416.20154845156 </td><td>207242.98260869566   </td><td>203515.30891719743  </td><td>185630.71806674334    </td><td>181425.2874371859 </td><td>226465.8274336283   </td><td>142610.06223175966   </td><td>167645.4123076923     </td><td>181982.57594936708 </td><td>186782.0            </td><td>184672.98832271763</td><td>239676.72027972032       </td><td>184737.95170142702</td><td>200924.0538641686 </td><td>197940.3021894772     </td><td>175405.8820140386 </td><td>182383.5220883534 </td><td>216626.9093484419    </td><td>188146.7502726281   </td><td>183201.27365208542</td><td>200494.42807017543    </td><td>202661.43181818182   </td><td>188334.07174392935  </td></tr>\n",
       "<tr><td>1      </td><td>2.0              </td><td>20          </td><td>RL        </td><td>80.0             </td><td>9600.0            </td><td>Pave    </td><td>None   </td><td>Reg       </td><td>Lvl          </td><td>AllPub     </td><td>FR2        </td><td>Gtl        </td><td>Veenker       </td><td>Feedr       </td><td>Norm        </td><td>1Fam      </td><td>1Story      </td><td>6            </td><td>8            </td><td>1976       </td><td>1976          </td><td>Gable      </td><td>CompShg   </td><td>MetalSd      </td><td>MetalSd      </td><td>None        </td><td>0.0               </td><td>TA         </td><td>TA         </td><td>CBlock      </td><td>Gd        </td><td>TA        </td><td>Gd            </td><td>ALQ           </td><td>978.0             </td><td>Unf           </td><td>0.0               </td><td>284.0             </td><td>1262.0            </td><td>GasA     </td><td>Ex         </td><td>Y           </td><td>SBrkr       </td><td>1262.0           </td><td>0.0               </td><td>0.0               </td><td>1262.0            </td><td>0.0               </td><td>1.0                </td><td>2.0               </td><td>0.0               </td><td>3.0               </td><td>1.0                </td><td>TA           </td><td>6.0              </td><td>Typ         </td><td>1.0               </td><td>TA           </td><td>Attchd      </td><td>1976.0            </td><td>RFn           </td><td>2.0               </td><td>460.0             </td><td>TA          </td><td>TA          </td><td>Y           </td><td>298.0             </td><td>0.0              </td><td>0.0               </td><td>0.0               </td><td>0.0               </td><td>0.0              </td><td>None    </td><td>None   </td><td>None         </td><td>0.0               </td><td>5       </td><td>2007    </td><td>WD        </td><td>Normal         </td><td>181500.0          </td><td>[1960, 1980)     </td><td>187716.3622559653   </td><td>178818.25814185815 </td><td>147024.1605228105   </td><td>165131.57073954982</td><td>187575.74864864862  </td><td>163150.6584394772     </td><td>177020.8800489596      </td><td>185063.63879957132  </td><td>203664.60358890702  </td><td>182216.631         </td><td>182525.73333333334  </td><td>189018.974137931  </td><td>174574.41216991964</td><td>185708.33940774488 </td><td>186896.74166666667</td><td>183357.84694932782   </td><td>192391.8022670025 </td><td>139811.59481037923   </td><td>155330.24861804862   </td><td>187595.7541966427 </td><td>181235.93597560975</td><td>178321.97183098592  </td><td>187523.8671023965   </td><td>182282.48766816143   </td><td>216426.0           </td><td>161782.77448994666    </td><td>171522.79741935484 </td><td>144619.2755267423  </td><td>168284.7849275724  </td><td>162035.816091954     </td><td>156555.86183074262  </td><td>185630.71806674334    </td><td>181425.2874371859 </td><td>150397.2807424594   </td><td>204076.0357142857    </td><td>243510.2073978105     </td><td>181982.57594936708 </td><td>186782.0            </td><td>184672.98832271763</td><td>152368.91505791506       </td><td>184737.95170142702</td><td>200924.0538641686 </td><td>218575.79385614384    </td><td>175083.33112582783</td><td>182383.5220883534 </td><td>155721.17213200592   </td><td>188146.7502726281   </td><td>183201.27365208542</td><td>200494.42807017543    </td><td>157086.21052281052   </td><td>188334.07174392935  </td></tr>\n",
       "<tr><td>2      </td><td>3.0              </td><td>60          </td><td>RL        </td><td>68.0             </td><td>11250.0           </td><td>Pave    </td><td>None   </td><td>IR1       </td><td>Lvl          </td><td>AllPub     </td><td>Inside     </td><td>Gtl        </td><td>CollgCr       </td><td>Norm        </td><td>Norm        </td><td>1Fam      </td><td>2Story      </td><td>7            </td><td>5            </td><td>2001       </td><td>2002          </td><td>Gable      </td><td>CompShg   </td><td>VinylSd      </td><td>VinylSd      </td><td>BrkFace     </td><td>162.0             </td><td>Gd         </td><td>TA         </td><td>PConc       </td><td>Gd        </td><td>TA        </td><td>Mn            </td><td>GLQ           </td><td>486.0             </td><td>Unf           </td><td>0.0               </td><td>434.0             </td><td>920.0             </td><td>GasA     </td><td>Ex         </td><td>Y           </td><td>SBrkr       </td><td>920.0            </td><td>866.0             </td><td>0.0               </td><td>1786.0            </td><td>1.0               </td><td>0.0                </td><td>2.0               </td><td>1.0               </td><td>3.0               </td><td>1.0                </td><td>Gd           </td><td>6.0              </td><td>Typ         </td><td>1.0               </td><td>TA           </td><td>Attchd      </td><td>2001.0            </td><td>RFn           </td><td>2.0               </td><td>608.0             </td><td>TA          </td><td>TA          </td><td>Y           </td><td>0.0               </td><td>42.0             </td><td>0.0               </td><td>0.0               </td><td>0.0               </td><td>0.0              </td><td>None    </td><td>None   </td><td>None         </td><td>0.0               </td><td>9       </td><td>2008    </td><td>WD        </td><td>Normal         </td><td>223500.0          </td><td>[2000, 2011)     </td><td>187716.3622559653   </td><td>176473.2899159664  </td><td>185776.46347031964  </td><td>209450.39420289855</td><td>243184.96534653462  </td><td>212217.14000999       </td><td>177020.8800489596      </td><td>185063.63879957132  </td><td>203664.60358890702  </td><td>182216.631         </td><td>182525.73333333334  </td><td>189018.974137931  </td><td>174574.41216991964</td><td>185708.33940774488 </td><td>181231.93779904302</td><td>183357.84694932782   </td><td>192391.8022670025 </td><td>212221.98514851482   </td><td>216859.7290502793    </td><td>187595.7541966427 </td><td>181235.93597560975</td><td>210965.119205298    </td><td>187523.8671023965   </td><td>182282.48766816143   </td><td>216426.0           </td><td>236446.98648648648    </td><td>171522.79741935484 </td><td>229333.4454277286  </td><td>241163.1271894772  </td><td>207242.98260869566   </td><td>203515.30891719743  </td><td>185630.71806674334    </td><td>181425.2874371859 </td><td>226465.8274336283   </td><td>204076.0357142857    </td><td>187129.2701381951     </td><td>181982.57594936708 </td><td>186782.0            </td><td>184672.98832271763</td><td>239676.72027972032       </td><td>184737.95170142702</td><td>200924.0538641686 </td><td>197940.3021894772     </td><td>195815.36317432567</td><td>182383.5220883534 </td><td>216626.9093484419    </td><td>188146.7502726281   </td><td>183201.27365208542</td><td>200494.42807017543    </td><td>202661.43181818182   </td><td>188334.07174392935  </td></tr>\n",
       "<tr><td>3      </td><td>5.0              </td><td>60          </td><td>RL        </td><td>84.0             </td><td>14260.0           </td><td>Pave    </td><td>None   </td><td>IR1       </td><td>Lvl          </td><td>AllPub     </td><td>FR2        </td><td>Gtl        </td><td>NoRidge       </td><td>Norm        </td><td>Norm        </td><td>1Fam      </td><td>2Story      </td><td>8            </td><td>5            </td><td>2000       </td><td>2000          </td><td>Gable      </td><td>CompShg   </td><td>VinylSd      </td><td>VinylSd      </td><td>BrkFace     </td><td>350.0             </td><td>Gd         </td><td>TA         </td><td>PConc       </td><td>Gd        </td><td>TA        </td><td>Av            </td><td>GLQ           </td><td>655.0             </td><td>Unf           </td><td>0.0               </td><td>490.0             </td><td>1145.0            </td><td>GasA     </td><td>Ex         </td><td>Y           </td><td>SBrkr       </td><td>1145.0           </td><td>1053.0            </td><td>0.0               </td><td>2198.0            </td><td>1.0               </td><td>0.0                </td><td>2.0               </td><td>1.0               </td><td>4.0               </td><td>1.0                </td><td>Gd           </td><td>9.0              </td><td>Typ         </td><td>1.0               </td><td>TA           </td><td>Attchd      </td><td>2000.0            </td><td>RFn           </td><td>3.0               </td><td>836.0             </td><td>TA          </td><td>TA          </td><td>Y           </td><td>192.0             </td><td>84.0             </td><td>0.0               </td><td>0.0               </td><td>0.0               </td><td>0.0              </td><td>None    </td><td>None   </td><td>None         </td><td>0.0               </td><td>12      </td><td>2008    </td><td>WD        </td><td>Normal         </td><td>250000.0          </td><td>[2000, 2011)     </td><td>187716.3622559653   </td><td>178818.25814185815 </td><td>185776.46347031964  </td><td>209450.39420289855</td><td>243184.96534653462  </td><td>187684.15196425194    </td><td>177020.8800489596      </td><td>185063.63879957132  </td><td>203664.60358890702  </td><td>182216.631         </td><td>182525.73333333334  </td><td>189018.974137931  </td><td>174574.41216991964</td><td>185708.33940774488 </td><td>181231.93779904302</td><td>183357.84694932782   </td><td>192391.8022670025 </td><td>212221.98514851482   </td><td>216859.7290502793    </td><td>187595.7541966427 </td><td>181235.93597560975</td><td>210965.119205298    </td><td>187523.8671023965   </td><td>182282.48766816143   </td><td>216426.0           </td><td>236446.98648648648    </td><td>171522.79741935484 </td><td>229333.4454277286  </td><td>207950.79385614384 </td><td>255589.23529758526   </td><td>203515.30891719743  </td><td>185630.71806674334    </td><td>181425.2874371859 </td><td>226465.8274336283   </td><td>204076.0357142857    </td><td>207605.41721854304    </td><td>181982.57594936708 </td><td>186782.0            </td><td>184672.98832271763</td><td>239676.72027972032       </td><td>184737.95170142702</td><td>200924.0538641686 </td><td>329868.3581418581     </td><td>187120.38069824912</td><td>182383.5220883534 </td><td>216626.9093484419    </td><td>188146.7502726281   </td><td>183201.27365208542</td><td>200494.42807017543    </td><td>202661.43181818182   </td><td>188334.07174392935  </td></tr>\n",
       "<tr><td>4      </td><td>6.0              </td><td>50          </td><td>RL        </td><td>85.0             </td><td>14115.0           </td><td>Pave    </td><td>None   </td><td>IR1       </td><td>Lvl          </td><td>AllPub     </td><td>Inside     </td><td>Gtl        </td><td>Mitchel       </td><td>Norm        </td><td>Norm        </td><td>1Fam      </td><td>1.5Fin      </td><td>5            </td><td>5            </td><td>1993       </td><td>1995          </td><td>Gable      </td><td>CompShg   </td><td>VinylSd      </td><td>VinylSd      </td><td>None        </td><td>0.0               </td><td>TA         </td><td>TA         </td><td>Wood        </td><td>Gd        </td><td>TA        </td><td>No            </td><td>GLQ           </td><td>732.0             </td><td>Unf           </td><td>0.0               </td><td>64.0              </td><td>796.0             </td><td>GasA     </td><td>Ex         </td><td>Y           </td><td>SBrkr       </td><td>796.0            </td><td>566.0             </td><td>0.0               </td><td>1362.0            </td><td>1.0               </td><td>0.0                </td><td>1.0               </td><td>1.0               </td><td>1.0               </td><td>1.0                </td><td>TA           </td><td>5.0              </td><td>Typ         </td><td>0.0               </td><td>None         </td><td>Attchd      </td><td>1993.0            </td><td>Unf           </td><td>2.0               </td><td>480.0             </td><td>TA          </td><td>TA          </td><td>Y           </td><td>40.0              </td><td>30.0             </td><td>0.0               </td><td>320.0             </td><td>0.0               </td><td>0.0              </td><td>None    </td><td>MnPrv  </td><td>Shed         </td><td>700.0             </td><td>10      </td><td>2009    </td><td>WD        </td><td>Normal         </td><td>143000.0          </td><td>[1980, 2000)     </td><td>187716.3622559653   </td><td>176473.2899159664  </td><td>185776.46347031964  </td><td>209450.39420289855</td><td>150591.33185614386  </td><td>201745.79385614384    </td><td>177020.8800489596      </td><td>185063.63879957132  </td><td>203664.60358890702  </td><td>182216.631         </td><td>182525.73333333334  </td><td>154576.6979101979 </td><td>174574.41216991964</td><td>185708.33940774488 </td><td>181058.37280701756</td><td>151058.18256582128   </td><td>192391.8022670025 </td><td>139811.59481037923   </td><td>216859.7290502793    </td><td>187595.7541966427 </td><td>181235.93597560975</td><td>149995.43881027232  </td><td>187523.8671023965   </td><td>182282.48766816143   </td><td>216426.0           </td><td>236446.98648648648    </td><td>171522.79741935484 </td><td>144619.2755267423  </td><td>224263.06658341654 </td><td>132854.87169811322   </td><td>156555.86183074262  </td><td>185630.71806674334    </td><td>181425.2874371859 </td><td>185142.46052281052  </td><td>142610.06223175966   </td><td>167645.4123076923     </td><td>181982.57594936708 </td><td>186782.0            </td><td>184672.98832271763</td><td>201059.23195876292       </td><td>184737.95170142702</td><td>200924.0538641686 </td><td>157653.3733433233     </td><td>174686.7521894772 </td><td>182383.5220883534 </td><td>216626.9093484419    </td><td>188146.7502726281   </td><td>183201.27365208542</td><td>141354.57177033494    </td><td>202661.43181818182   </td><td>188334.07174392935  </td></tr>\n",
       "<tr><td>5      </td><td>7.0              </td><td>20          </td><td>RL        </td><td>75.0             </td><td>10084.0           </td><td>Pave    </td><td>None   </td><td>Reg       </td><td>Lvl          </td><td>AllPub     </td><td>Inside     </td><td>Gtl        </td><td>Somerst       </td><td>Norm        </td><td>Norm        </td><td>1Fam      </td><td>1Story      </td><td>8            </td><td>5            </td><td>2004       </td><td>2005          </td><td>Gable      </td><td>CompShg   </td><td>VinylSd      </td><td>VinylSd      </td><td>Stone       </td><td>186.0             </td><td>Gd         </td><td>TA         </td><td>PConc       </td><td>Ex        </td><td>TA        </td><td>Av            </td><td>GLQ           </td><td>1369.0            </td><td>Unf           </td><td>0.0               </td><td>317.0             </td><td>1686.0            </td><td>GasA     </td><td>Ex         </td><td>Y           </td><td>SBrkr       </td><td>1694.0           </td><td>0.0               </td><td>0.0               </td><td>1694.0            </td><td>1.0               </td><td>0.0                </td><td>2.0               </td><td>0.0               </td><td>3.0               </td><td>1.0                </td><td>Gd           </td><td>7.0              </td><td>Typ         </td><td>1.0               </td><td>Gd           </td><td>Attchd      </td><td>2004.0            </td><td>RFn           </td><td>2.0               </td><td>636.0             </td><td>TA          </td><td>TA          </td><td>Y           </td><td>255.0             </td><td>57.0             </td><td>0.0               </td><td>0.0               </td><td>0.0               </td><td>0.0              </td><td>None    </td><td>None   </td><td>None         </td><td>0.0               </td><td>8       </td><td>2007    </td><td>WD        </td><td>Normal         </td><td>307000.0          </td><td>[2000, 2011)     </td><td>187716.3622559653   </td><td>176473.2899159664  </td><td>185776.46347031964  </td><td>165131.57073954982</td><td>187575.74864864862  </td><td>209843.16649765332    </td><td>177020.8800489596      </td><td>185063.63879957132  </td><td>203664.60358890702  </td><td>182216.631         </td><td>182525.73333333334  </td><td>189018.974137931  </td><td>174574.41216991964</td><td>185708.33940774488 </td><td>186896.74166666667</td><td>183357.84694932782   </td><td>192391.8022670025 </td><td>212221.98514851482   </td><td>216859.7290502793    </td><td>187595.7541966427 </td><td>181235.93597560975</td><td>178321.97183098592  </td><td>187523.8671023965   </td><td>182282.48766816143   </td><td>216426.0           </td><td>236446.98648648648    </td><td>171522.79741935484 </td><td>229333.4454277286  </td><td>204933.0865390707  </td><td>255589.23529758526   </td><td>256064.37787676242  </td><td>185630.71806674334    </td><td>181425.2874371859 </td><td>226465.8274336283   </td><td>225928.18076923073   </td><td>207605.41721854304    </td><td>181982.57594936708 </td><td>186782.0            </td><td>184672.98832271763</td><td>239676.72027972032       </td><td>184737.95170142702</td><td>312352.66653056245</td><td>214617.5167374998     </td><td>185447.96554289086</td><td>182383.5220883534 </td><td>216626.9093484419    </td><td>188146.7502726281   </td><td>183201.27365208542</td><td>200494.42807017543    </td><td>202661.43181818182   </td><td>188334.07174392935  </td></tr>\n",
       "<tr><td>6      </td><td>9.0              </td><td>50          </td><td>RM        </td><td>51.0             </td><td>6120.0            </td><td>Pave    </td><td>None   </td><td>Reg       </td><td>Lvl          </td><td>AllPub     </td><td>Inside     </td><td>Gtl        </td><td>OldTown       </td><td>Artery      </td><td>Norm        </td><td>1Fam      </td><td>1.5Fin      </td><td>7            </td><td>5            </td><td>1931       </td><td>1950          </td><td>Gable      </td><td>CompShg   </td><td>BrkFace      </td><td>Wd Shng      </td><td>None        </td><td>0.0               </td><td>TA         </td><td>TA         </td><td>BrkTil      </td><td>TA        </td><td>TA        </td><td>No            </td><td>Unf           </td><td>0.0               </td><td>Unf           </td><td>0.0               </td><td>952.0             </td><td>952.0             </td><td>GasA     </td><td>Gd         </td><td>Y           </td><td>FuseF       </td><td>1022.0           </td><td>752.0             </td><td>0.0               </td><td>1774.0            </td><td>0.0               </td><td>0.0                </td><td>2.0               </td><td>0.0               </td><td>2.0               </td><td>2.0                </td><td>TA           </td><td>8.0              </td><td>Min1        </td><td>2.0               </td><td>TA           </td><td>Detchd      </td><td>1931.0            </td><td>Unf           </td><td>2.0               </td><td>468.0             </td><td>Fa          </td><td>TA          </td><td>Y           </td><td>90.0              </td><td>0.0              </td><td>205.0             </td><td>0.0               </td><td>0.0               </td><td>0.0              </td><td>None    </td><td>None   </td><td>None         </td><td>0.0               </td><td>4       </td><td>2008    </td><td>WD        </td><td>Abnorml        </td><td>129900.0          </td><td>[1920, 1940)     </td><td>129502.64385614383  </td><td>176473.2899159664  </td><td>134468.29385614386  </td><td>165131.57073954982</td><td>150591.33185614386  </td><td>130271.86565101566    </td><td>153108.76116383614     </td><td>153787.09385614382  </td><td>133017.2480620155   </td><td>182216.631         </td><td>182525.73333333334  </td><td>189018.974137931  </td><td>174574.41216991964</td><td>185708.33940774488 </td><td>181231.93779904302</td><td>183357.84694932782   </td><td>135492.29843360864</td><td>139811.59481037923   </td><td>174764.54385614384   </td><td>187595.7541966427 </td><td>181235.93597560975</td><td>149995.43881027232  </td><td>187523.8671023965   </td><td>182282.48766816143   </td><td>157465.01829268291 </td><td>172096.88704318934    </td><td>171522.79741935484 </td><td>144619.2755267423  </td><td>134978.29385614386 </td><td>207242.98260869566   </td><td>156555.86183074262  </td><td>185630.71806674334    </td><td>181425.2874371859 </td><td>136922.75385614386  </td><td>204076.0357142857    </td><td>167645.4123076923     </td><td>181982.57594936708 </td><td>186782.0            </td><td>184672.98832271763</td><td>141720.08256582127       </td><td>184737.95170142702</td><td>141930.00455580864</td><td>133772.61742757243    </td><td>171267.6210300569 </td><td>182383.5220883534 </td><td>153754.05472570908   </td><td>188146.7502726281   </td><td>183201.27365208542</td><td>141354.57177033494    </td><td>202661.43181818182   </td><td>131334.20218947722  </td></tr>\n",
       "<tr><td>7      </td><td>11.0             </td><td>20          </td><td>RL        </td><td>70.0             </td><td>11200.0           </td><td>Pave    </td><td>None   </td><td>Reg       </td><td>Lvl          </td><td>AllPub     </td><td>Inside     </td><td>Gtl        </td><td>Sawyer        </td><td>Norm        </td><td>Norm        </td><td>1Fam      </td><td>1Story      </td><td>5            </td><td>5            </td><td>1965       </td><td>1965          </td><td>Hip        </td><td>CompShg   </td><td>HdBoard      </td><td>HdBoard      </td><td>None        </td><td>0.0               </td><td>TA         </td><td>TA         </td><td>CBlock      </td><td>TA        </td><td>TA        </td><td>No            </td><td>Rec           </td><td>906.0             </td><td>Unf           </td><td>0.0               </td><td>134.0             </td><td>1040.0            </td><td>GasA     </td><td>Ex         </td><td>Y           </td><td>SBrkr       </td><td>1040.0           </td><td>0.0               </td><td>0.0               </td><td>1040.0            </td><td>1.0               </td><td>0.0                </td><td>1.0               </td><td>0.0               </td><td>3.0               </td><td>1.0                </td><td>TA           </td><td>5.0              </td><td>Typ         </td><td>0.0               </td><td>None         </td><td>Detchd      </td><td>1965.0            </td><td>Unf           </td><td>1.0               </td><td>384.0             </td><td>TA          </td><td>TA          </td><td>Y           </td><td>0.0               </td><td>0.0              </td><td>0.0               </td><td>0.0               </td><td>0.0               </td><td>0.0              </td><td>None    </td><td>None   </td><td>None         </td><td>0.0               </td><td>2       </td><td>2008    </td><td>WD        </td><td>Normal         </td><td>129500.0          </td><td>[1960, 1980)     </td><td>187716.3622559653   </td><td>176473.2899159664  </td><td>185776.46347031964  </td><td>165131.57073954982</td><td>187575.74864864862  </td><td>139955.20323114382    </td><td>177020.8800489596      </td><td>185063.63879957132  </td><td>133017.2480620155   </td><td>182216.631         </td><td>182525.73333333334  </td><td>189018.974137931  </td><td>174574.41216991964</td><td>185708.33940774488 </td><td>181231.93779904302</td><td>183357.84694932782   </td><td>192391.8022670025 </td><td>139811.59481037923   </td><td>162189.7051282051    </td><td>187595.7541966427 </td><td>181235.93597560975</td><td>178321.97183098592  </td><td>187523.8671023965   </td><td>182282.48766816143   </td><td>216426.0           </td><td>150410.4464877228     </td><td>222601.05940594056 </td><td>144619.2755267423  </td><td>151119.07135614386 </td><td>132854.87169811322   </td><td>156555.86183074262  </td><td>185630.71806674334    </td><td>181425.2874371859 </td><td>150397.2807424594   </td><td>142610.06223175966   </td><td>167645.4123076923     </td><td>181982.57594936708 </td><td>186782.0            </td><td>184672.98832271763</td><td>152368.91505791506       </td><td>184737.95170142702</td><td>141930.00455580864</td><td>143540.98922651424    </td><td>175405.8820140386 </td><td>182383.5220883534 </td><td>169688.48681389034   </td><td>188146.7502726281   </td><td>183201.27365208542</td><td>141354.57177033494    </td><td>202661.43181818182   </td><td>188334.07174392935  </td></tr>\n",
       "<tr><td>8      </td><td>12.0             </td><td>60          </td><td>RL        </td><td>85.0             </td><td>11924.0           </td><td>Pave    </td><td>None   </td><td>IR1       </td><td>Lvl          </td><td>AllPub     </td><td>Inside     </td><td>Gtl        </td><td>NridgHt       </td><td>Norm        </td><td>Norm        </td><td>1Fam      </td><td>2Story      </td><td>9            </td><td>5            </td><td>2005       </td><td>2006          </td><td>Hip        </td><td>CompShg   </td><td>WdShing      </td><td>Wd Shng      </td><td>Stone       </td><td>286.0             </td><td>Ex         </td><td>TA         </td><td>PConc       </td><td>Ex        </td><td>TA        </td><td>No            </td><td>GLQ           </td><td>998.0             </td><td>Unf           </td><td>0.0               </td><td>177.0             </td><td>1175.0            </td><td>GasA     </td><td>Ex         </td><td>Y           </td><td>SBrkr       </td><td>1182.0           </td><td>1142.0            </td><td>0.0               </td><td>2324.0            </td><td>1.0               </td><td>0.0                </td><td>3.0               </td><td>0.0               </td><td>4.0               </td><td>1.0                </td><td>Ex           </td><td>11.0             </td><td>Typ         </td><td>2.0               </td><td>Gd           </td><td>BuiltIn     </td><td>2005.0            </td><td>Fin           </td><td>3.0               </td><td>736.0             </td><td>TA          </td><td>TA          </td><td>Y           </td><td>147.0             </td><td>21.0             </td><td>0.0               </td><td>0.0               </td><td>0.0               </td><td>0.0              </td><td>None    </td><td>None   </td><td>None         </td><td>0.0               </td><td>7       </td><td>2006    </td><td>New       </td><td>Partial        </td><td>345000.0          </td><td>[2000, 2011)     </td><td>187716.3622559653   </td><td>176473.2899159664  </td><td>185776.46347031964  </td><td>209450.39420289855</td><td>243184.96534653462  </td><td>224722.36680696355    </td><td>260380.61674771016     </td><td>185063.63879957132  </td><td>243875.54558028182  </td><td>182216.631         </td><td>182525.73333333334  </td><td>189018.974137931  </td><td>263880.6876061438 </td><td>185708.33940774488 </td><td>179239.41089108912</td><td>183357.84694932782   </td><td>192391.8022670025 </td><td>305958.08769176033   </td><td>155487.09385614382   </td><td>187595.7541966427 </td><td>181235.93597560975</td><td>210965.119205298    </td><td>187523.8671023965   </td><td>182282.48766816143   </td><td>216426.0           </td><td>236446.98648648648    </td><td>222601.05940594056 </td><td>348876.58744588745 </td><td>220499.76885614387 </td><td>346477.7641686438    </td><td>256064.37787676242  </td><td>185630.71806674334    </td><td>181425.2874371859 </td><td>226465.8274336283   </td><td>225928.18076923073   </td><td>167645.4123076923     </td><td>181982.57594936708 </td><td>186782.0            </td><td>184672.98832271763</td><td>239676.72027972032       </td><td>184737.95170142702</td><td>312352.66653056245</td><td>301677.8909715284     </td><td>192174.2264150943 </td><td>182383.5220883534 </td><td>153754.05472570908   </td><td>188146.7502726281   </td><td>183201.27365208542</td><td>243708.832            </td><td>202661.43181818182   </td><td>188334.07174392935  </td></tr>\n",
       "<tr><td>9      </td><td>13.0             </td><td>20          </td><td>RL        </td><td>71.0             </td><td>12968.0           </td><td>Pave    </td><td>None   </td><td>IR2       </td><td>Lvl          </td><td>AllPub     </td><td>Inside     </td><td>Gtl        </td><td>Sawyer        </td><td>Norm        </td><td>Norm        </td><td>1Fam      </td><td>1Story      </td><td>5            </td><td>6            </td><td>1962       </td><td>1962          </td><td>Hip        </td><td>CompShg   </td><td>HdBoard      </td><td>Plywood      </td><td>None        </td><td>0.0               </td><td>TA         </td><td>TA         </td><td>CBlock      </td><td>TA        </td><td>TA        </td><td>No            </td><td>ALQ           </td><td>737.0             </td><td>Unf           </td><td>0.0               </td><td>175.0             </td><td>912.0             </td><td>GasA     </td><td>TA         </td><td>Y           </td><td>SBrkr       </td><td>912.0            </td><td>0.0               </td><td>0.0               </td><td>912.0             </td><td>1.0               </td><td>0.0                </td><td>1.0               </td><td>0.0               </td><td>2.0               </td><td>1.0                </td><td>TA           </td><td>4.0              </td><td>Typ         </td><td>0.0               </td><td>None         </td><td>Detchd      </td><td>1962.0            </td><td>Unf           </td><td>1.0               </td><td>352.0             </td><td>TA          </td><td>TA          </td><td>Y           </td><td>140.0             </td><td>0.0              </td><td>0.0               </td><td>0.0               </td><td>176.0             </td><td>0.0              </td><td>None    </td><td>None   </td><td>None         </td><td>0.0               </td><td>9       </td><td>2008    </td><td>WD        </td><td>Normal         </td><td>144000.0          </td><td>[1960, 1980)     </td><td>187716.3622559653   </td><td>176473.2899159664  </td><td>185776.46347031964  </td><td>220137.0973044197 </td><td>187575.74864864862  </td><td>158518.57163392162    </td><td>177020.8800489596      </td><td>185063.63879957132  </td><td>133017.2480620155   </td><td>182216.631         </td><td>182525.73333333334  </td><td>189018.974137931  </td><td>174574.41216991964</td><td>185708.33940774488 </td><td>181231.93779904302</td><td>183357.84694932782   </td><td>192391.8022670025 </td><td>139811.59481037923   </td><td>162189.7051282051    </td><td>187595.7541966427 </td><td>181235.93597560975</td><td>178321.97183098592  </td><td>187523.8671023965   </td><td>182282.48766816143   </td><td>141464.28231292518 </td><td>161782.77448994666    </td><td>222601.05940594056 </td><td>144619.2755267423  </td><td>154668.87077922074 </td><td>132854.87169811322   </td><td>156555.86183074262  </td><td>185630.71806674334    </td><td>181425.2874371859 </td><td>150397.2807424594   </td><td>142610.06223175966   </td><td>167645.4123076923     </td><td>181982.57594936708 </td><td>186782.0            </td><td>184672.98832271763</td><td>152368.91505791506       </td><td>184737.95170142702</td><td>141930.00455580864</td><td>143540.98922651424    </td><td>195815.36317432567</td><td>182383.5220883534 </td><td>172512.37104060987   </td><td>188146.7502726281   </td><td>183201.27365208542</td><td>141354.57177033494    </td><td>155727.88304093567   </td><td>188334.07174392935  </td></tr>\n",
       "</tbody>\n",
       "</table>"
      ]
     },
     "metadata": {},
     "output_type": "display_data"
    }
   ],
   "source": [
    "train.describe()"
   ]
  },
  {
   "cell_type": "code",
   "execution_count": 31,
   "metadata": {},
   "outputs": [
    {
     "name": "stdout",
     "output_type": "stream",
     "text": [
      "Numeric = ['BsmtUnfSF', 'BsmtFinSF2', 'GarageYrBltBins_Tencode', 'Exterior2nd_Tencode', 'BsmtFullBath', 'Foundation_Tencode', 'GarageCars', 'HalfBath', 'OpenPorchSF', 'PoolQC_Tencode', 'CentralAir_Tencode', 'YearBuilt_Tencode', 'LowQualFinSF', 'LotArea', 'ExterCond_Tencode', 'MasVnrArea', 'FullBath', 'BsmtQual_Tencode', 'Functional_Tencode', '1stFlrSF', 'GarageType_Tencode', 'BsmtFinType1_Tencode', 'YrSold_Tencode', 'PoolArea', 'Neighborhood_Tencode', 'GrLivArea', 'SaleType_Tencode', 'Fireplaces', 'Id', 'TotRmsAbvGrd', 'BldgType_Tencode', 'HouseStyle_Tencode', 'LotConfig_Tencode', 'Exterior1st_Tencode', 'BsmtCond_Tencode', 'RoofMatl_Tencode', 'RoofStyle_Tencode', 'Heating_Tencode', 'ExterQual_Tencode', 'PavedDrive_Tencode', 'LandContour_Tencode', 'MasVnrType_Tencode', 'Fence_Tencode', 'TotalBsmtSF', 'OverallCond_Tencode', 'FireplaceQu_Tencode', 'Alley_Tencode', 'Utilities_Tencode', 'Electrical_Tencode', 'ScreenPorch', 'LotShape_Tencode', 'BsmtFinSF1', 'KitchenQual_Tencode', 'MiscVal', 'GarageYrBlt', 'MoSold_Tencode', 'MSSubClass_Tencode', 'Condition1_Tencode', 'LotFrontage', 'HeatingQC_Tencode', 'GarageArea', 'BedroomAbvGr', '3SsnPorch', 'Street_Tencode', 'BsmtFinType2_Tencode', 'EnclosedPorch', 'KitchenAbvGr', '2ndFlrSF', 'Condition2_Tencode', 'YearRemodAdd_Tencode', 'MiscFeature_Tencode', 'MSZoning_Tencode', 'BsmtHalfBath', 'SaleCondition_Tencode', 'WoodDeckSF', 'GarageQual_Tencode', 'LandSlope_Tencode', 'GarageFinish_Tencode', 'BsmtExposure_Tencode', 'OverallQual_Tencode', 'GarageCond_Tencode']\n",
      "\n",
      "Categorical = ['MSSubClass', 'YearRemodAdd', 'Electrical', 'MiscFeature', 'KitchenQual', 'CentralAir', 'Exterior1st', 'BldgType', 'RoofMatl', 'LotConfig', 'LandContour', 'BsmtFinType1', 'ExterQual', 'YearBuilt', 'OverallQual', 'BsmtFinType2', 'Foundation', 'FireplaceQu', 'LandSlope', 'Alley', 'GarageYrBltBins', 'BsmtQual', 'Neighborhood', 'MoSold', 'Exterior2nd', 'OverallCond', 'Condition1', 'LotShape', 'SaleCondition', 'Functional', 'GarageType', 'Condition2', 'Fence', 'BsmtCond', 'SaleType', 'ExterCond', 'YrSold', 'MSZoning', 'Utilities', 'Street', 'PavedDrive', 'RoofStyle', 'MasVnrType', 'PoolQC', 'BsmtExposure', 'Heating', 'HeatingQC', 'HouseStyle', 'GarageCond', 'GarageFinish', 'GarageQual']\n"
     ]
    }
   ],
   "source": [
    "encoded_nums, cats = get_type_lists(frame=train)"
   ]
  },
  {
   "cell_type": "code",
   "execution_count": 32,
   "metadata": {},
   "outputs": [
    {
     "data": {
      "text/plain": [
       "81"
      ]
     },
     "execution_count": 32,
     "metadata": {},
     "output_type": "execute_result"
    }
   ],
   "source": [
    "len(encoded_nums)"
   ]
  },
  {
   "cell_type": "code",
   "execution_count": 33,
   "metadata": {},
   "outputs": [
    {
     "name": "stdout",
     "output_type": "stream",
     "text": [
      "(1001, 133)\n"
     ]
    }
   ],
   "source": [
    "print(train.shape)"
   ]
  },
  {
   "cell_type": "code",
   "execution_count": 34,
   "metadata": {
    "scrolled": true
   },
   "outputs": [
    {
     "name": "stdout",
     "output_type": "stream",
     "text": [
      "Imputed and encoded numeric training data:\n",
      "Rows:1001\n",
      "Cols:81\n",
      "\n",
      "\n"
     ]
    },
    {
     "data": {
      "text/html": [
       "<table>\n",
       "<thead>\n",
       "<tr><th>       </th><th>BsmtUnfSF         </th><th>BsmtFinSF2        </th><th>GarageYrBltBins_Tencode  </th><th>Exterior2nd_Tencode  </th><th>BsmtFullBath      </th><th>Foundation_Tencode  </th><th>GarageCars        </th><th>HalfBath          </th><th>OpenPorchSF      </th><th>PoolQC_Tencode    </th><th>CentralAir_Tencode  </th><th>YearBuilt_Tencode  </th><th>LowQualFinSF      </th><th>LotArea           </th><th>ExterCond_Tencode  </th><th>MasVnrArea        </th><th>FullBath          </th><th>BsmtQual_Tencode  </th><th>Functional_Tencode  </th><th>1stFlrSF         </th><th>GarageType_Tencode  </th><th>BsmtFinType1_Tencode  </th><th>YrSold_Tencode    </th><th>PoolArea         </th><th>Neighborhood_Tencode  </th><th>GrLivArea         </th><th>SaleType_Tencode  </th><th>Fireplaces        </th><th>Id               </th><th>TotRmsAbvGrd     </th><th>BldgType_Tencode  </th><th>HouseStyle_Tencode  </th><th>LotConfig_Tencode  </th><th>Exterior1st_Tencode  </th><th>BsmtCond_Tencode  </th><th>RoofMatl_Tencode  </th><th>RoofStyle_Tencode  </th><th>Heating_Tencode   </th><th>ExterQual_Tencode  </th><th>PavedDrive_Tencode  </th><th>LandContour_Tencode  </th><th>MasVnrType_Tencode  </th><th>Fence_Tencode     </th><th>TotalBsmtSF       </th><th>OverallCond_Tencode  </th><th>FireplaceQu_Tencode  </th><th>Alley_Tencode     </th><th>Utilities_Tencode  </th><th>Electrical_Tencode  </th><th>ScreenPorch       </th><th>LotShape_Tencode  </th><th>BsmtFinSF1        </th><th>KitchenQual_Tencode  </th><th>MiscVal           </th><th>GarageYrBlt       </th><th>MoSold_Tencode    </th><th>MSSubClass_Tencode  </th><th>Condition1_Tencode  </th><th>LotFrontage      </th><th>HeatingQC_Tencode  </th><th>GarageArea        </th><th>BedroomAbvGr      </th><th>3SsnPorch         </th><th>Street_Tencode    </th><th>BsmtFinType2_Tencode  </th><th>EnclosedPorch     </th><th>KitchenAbvGr       </th><th>2ndFlrSF          </th><th>Condition2_Tencode  </th><th>YearRemodAdd_Tencode  </th><th>MiscFeature_Tencode  </th><th>MSZoning_Tencode  </th><th>BsmtHalfBath       </th><th>SaleCondition_Tencode  </th><th>WoodDeckSF        </th><th>GarageQual_Tencode  </th><th>LandSlope_Tencode  </th><th>GarageFinish_Tencode  </th><th>BsmtExposure_Tencode  </th><th>OverallQual_Tencode  </th><th>GarageCond_Tencode  </th></tr>\n",
       "</thead>\n",
       "<tbody>\n",
       "<tr><td>type   </td><td>int               </td><td>int               </td><td>real                     </td><td>real                 </td><td>int               </td><td>real                </td><td>int               </td><td>int               </td><td>int              </td><td>real              </td><td>real                </td><td>real               </td><td>int               </td><td>int               </td><td>real               </td><td>int               </td><td>int               </td><td>real              </td><td>real                </td><td>int              </td><td>real                </td><td>real                  </td><td>real              </td><td>int              </td><td>real                  </td><td>int               </td><td>real              </td><td>int               </td><td>int              </td><td>int              </td><td>real              </td><td>real                </td><td>real               </td><td>real                 </td><td>real              </td><td>real              </td><td>real               </td><td>real              </td><td>real               </td><td>real                </td><td>real                 </td><td>real                </td><td>real              </td><td>int               </td><td>real                 </td><td>real                 </td><td>real              </td><td>real               </td><td>real                </td><td>int               </td><td>real              </td><td>int               </td><td>real                 </td><td>int               </td><td>int               </td><td>real              </td><td>real                </td><td>real                </td><td>real             </td><td>real               </td><td>int               </td><td>int               </td><td>int               </td><td>real              </td><td>real                  </td><td>int               </td><td>int                </td><td>int               </td><td>real                </td><td>real                  </td><td>real                 </td><td>real              </td><td>int                </td><td>real                   </td><td>int               </td><td>real                </td><td>real               </td><td>real                  </td><td>real                  </td><td>real                 </td><td>real                </td></tr>\n",
       "<tr><td>mins   </td><td>0.0               </td><td>0.0               </td><td>119405.5855228105        </td><td>129978.23968947721   </td><td>0.0               </td><td>121726.89385614387  </td><td>0.0               </td><td>0.0               </td><td>0.0              </td><td>181425.2874371859 </td><td>119608.23368665231  </td><td>103613.29385614385 </td><td>0.0               </td><td>1300.0            </td><td>122047.14941169939 </td><td>0.0               </td><td>0.0               </td><td>121216.12093947716</td><td>110059.12718947718  </td><td>480.0            </td><td>119405.5855228105   </td><td>121276.42985614385    </td><td>179239.41089108912</td><td>0.0              </td><td>109690.79385614385    </td><td>480.0             </td><td>125968.29385614385</td><td>0.0               </td><td>1.0              </td><td>3.0              </td><td>138273.46052281052</td><td>118907.22242757239  </td><td>176473.2899159664  </td><td>78325.79385614385    </td><td>84275.79385614385 </td><td>143775.79385614386</td><td>161577.2224275724  </td><td>93469.96052281052 </td><td>116078.96885614384 </td><td>129253.89464979463  </td><td>145140.16285614387   </td><td>156555.86183074262  </td><td>141306.73814185814</td><td>0.0               </td><td>116283.85154845155   </td><td>141462.34885614386   </td><td>128075.200999001  </td><td>144200.79385614386 </td><td>84275.79385614385   </td><td>0.0               </td><td>163944.59385614382</td><td>0.0               </td><td>124936.94820396995   </td><td>0.0               </td><td>0.0               </td><td>171267.6210300569 </td><td>110931.40933233431  </td><td>134468.29385614386  </td><td>21.0             </td><td>135668.69902855766 </td><td>0.0               </td><td>0.0               </td><td>0.0               </td><td>146350.10385614386</td><td>126947.55924075923    </td><td>0.0               </td><td>0.0                </td><td>0.0               </td><td>108075.79385614385  </td><td>104035.31885614386    </td><td>140375.79385614386   </td><td>78614.79385614385 </td><td>0.0                </td><td>115832.04385614385     </td><td>0.0               </td><td>96813.29385614385   </td><td>181486.5182747485  </td><td>119405.5855228105     </td><td>123956.21308691308    </td><td>57340.143856143855   </td><td>112070.79385614385  </td></tr>\n",
       "<tr><td>mean   </td><td>575.9900099900102 </td><td>41.64935064935064 </td><td>184028.82781249733       </td><td>183994.5260926888    </td><td>0.4265734265734266</td><td>183119.90242260238  </td><td>1.7932067932067925</td><td>0.381618381618382 </td><td>44.92407592407593</td><td>182060.62963350347</td><td>182822.70708043195  </td><td>182171.95904095916 </td><td>5.9250749250749255</td><td>10628.262737262736</td><td>182637.23505924654 </td><td>106.16383616383624</td><td>1.5744255744255726</td><td>180724.5454251543 </td><td>182576.2453368812   </td><td>1172.088911088912</td><td>182245.84650479382  </td><td>184124.927790092      </td><td>182185.62702342597</td><td>3.376623376623376</td><td>182171.95904095893    </td><td>1519.8011988011988</td><td>181180.3311701287 </td><td>0.6203796203796214</td><td>724.8291708291705</td><td>6.512487512487514</td><td>182849.79797599994</td><td>183188.2563525883   </td><td>181772.16118142588 </td><td>183565.71379414786   </td><td>182522.25164540764</td><td>182033.94005549914</td><td>182159.00869385348 </td><td>182323.57985955084</td><td>181095.696027499   </td><td>182908.1805595005   </td><td>182186.7329973223    </td><td>180953.6910454183   </td><td>183005.0923464647 </td><td>1063.2387612387604</td><td>183250.586628257     </td><td>181849.37466200133   </td><td>182525.0014360763 </td><td>182178.6531407155  </td><td>182937.98398065448  </td><td>14.763236763236765</td><td>181993.92786324595</td><td>445.5994005994004 </td><td>180810.9702399497    </td><td>39.684315684315685</td><td>1883.850149850151 </td><td>182085.76055692547</td><td>184318.41699728824  </td><td>182645.11776425384  </td><td>70.74475524475535</td><td>182409.70856326495 </td><td>477.4685314685315 </td><td>2.8711288711288696</td><td>3.4565434565434567</td><td>182203.5349842965 </td><td>182622.35788112954    </td><td>21.257742257742255</td><td>1.0469530469530457 </td><td>341.78721278721247</td><td>182224.44204037718  </td><td>182171.95904095907    </td><td>182343.8002408678    </td><td>183387.92640181998</td><td>0.05994005994005996</td><td>181541.3249445857      </td><td>91.07392607392609 </td><td>183008.55356277092  </td><td>182145.0556687068  </td><td>182703.09600908577    </td><td>181332.52799323562    </td><td>180290.10698776753   </td><td>182992.97056335275  </td></tr>\n",
       "<tr><td>maxs   </td><td>2153.0            </td><td>1127.0            </td><td>239676.72027972032       </td><td>298475.79385614384   </td><td>3.0               </td><td>226465.8274336283   </td><td>4.0               </td><td>2.0               </td><td>523.0            </td><td>443825.79385614384</td><td>186782.0            </td><td>362592.99385614385 </td><td>528.0             </td><td>164660.0          </td><td>185708.33940774488 </td><td>1378.0            </td><td>3.0               </td><td>312352.66653056245</td><td>185063.63879957132  </td><td>4692.0           </td><td>243875.54558028182  </td><td>236446.98648648648    </td><td>186896.74166666667</td><td>738.0            </td><td>329868.3581418581     </td><td>5642.0            </td><td>263880.6876061438 </td><td>3.0               </td><td>1460.0           </td><td>14.0             </td><td>187595.7541966427 </td><td>210965.119205298    </td><td>215932.78135614385 </td><td>250025.79385614384   </td><td>212500.14385614384</td><td>669075.7938561438 </td><td>248325.79385614384 </td><td>185483.95814185814</td><td>348876.58744588745 </td><td>187523.8671023965   </td><td>215016.8662245649    </td><td>256064.37787676242  </td><td>189018.974137931  </td><td>6110.0            </td><td>202661.43181818182   </td><td>306119.08332982805   </td><td>184672.98832271763</td><td>182216.631         </td><td>187716.3622559653   </td><td>440.0             </td><td>220137.0973044197 </td><td>5644.0            </td><td>305958.08769176033   </td><td>15500.0           </td><td>2010.0            </td><td>198254.40597735601</td><td>243184.96534653462  </td><td>219155.3393106893   </td><td>313.0            </td><td>216426.0           </td><td>1418.0            </td><td>8.0               </td><td>508.0             </td><td>182383.5220883534 </td><td>218122.46052281052    </td><td>552.0             </td><td>3.0                </td><td>2065.0            </td><td>269469.54385614384  </td><td>313744.7688561438     </td><td>239825.79385614384   </td><td>204495.20385614387</td><td>2.0                </td><td>260380.61674771016     </td><td>736.0             </td><td>222252.04385614384  </td><td>200379.84385614382 </td><td>243708.832            </td><td>243510.2073978105     </td><td>411753.33231768233   </td><td>188146.7502726281   </td></tr>\n",
       "<tr><td>sigma  </td><td>444.45750741786287</td><td>148.91838678308972</td><td>41226.63262266888        </td><td>30224.673393447127   </td><td>0.5204355357324734</td><td>39735.240377141236  </td><td>0.7349787794173421</td><td>0.5002217290580031</td><td>63.01874506660877</td><td>11901.388296801693</td><td>15828.294334486298  </td><td>46504.44964927137  </td><td>49.51948485817861 </td><td>9442.37310711137  </td><td>9945.861000354027  </td><td>179.66239765423683</td><td>0.5538098001166959</td><td>49983.0128988164  </td><td>9673.47275081667    </td><td>392.4739572085174</td><td>36865.89240600122   </td><td>35223.67981963558     </td><td>2758.862801413868 </td><td>43.98791894358055</td><td>51529.9324408036      </td><td>520.2774292995629 </td><td>25459.930478733866</td><td>0.6416730131026673</td><td>421.4954943866087</td><td>1.587480364002624</td><td>13615.68412825508 </td><td>21247.331540214996  </td><td>10669.040225587902 </td><td>29589.150408848287   </td><td>14302.859526666482</td><td>15980.206375764057</td><td>20695.377655471344 </td><td>8588.039549532357 </td><td>52277.89924581866  </td><td>15415.629575665147  </td><td>11064.930655592716   </td><td>32513.444047378878  </td><td>13504.518364088008</td><td>450.4683539784607 </td><td>23878.60607396363    </td><td>40541.64241671104    </td><td>9766.58876414746  </td><td>1201.5656926005156 </td><td>16464.287213227504  </td><td>54.16981527671003 </td><td>21926.258171174657</td><td>467.17326588712297</td><td>49556.81599252627    </td><td>516.2493547150991 </td><td>423.68187301615546</td><td>8240.20571837234  </td><td>36476.82137140024   </td><td>13080.75973520577   </td><td>23.15278676455676</td><td>35398.54044306139  </td><td>209.92257920181268</td><td>0.8052177496650357</td><td>29.83605804459362 </td><td>2541.57596669905  </td><td>11550.862509420635    </td><td>61.04442237008644 </td><td>0.22537348289718281</td><td>432.9085950594231 </td><td>6389.719881512636   </td><td>38617.88648752911     </td><td>6090.240696354947    </td><td>22616.419950331485</td><td>0.2457714312193271 </td><td>24904.82535576665      </td><td>120.05044160464608</td><td>18601.506242713353  </td><td>1835.4154172265153 </td><td>43904.519304777365    </td><td>26179.291204996774    </td><td>58402.9609943276     </td><td>17804.37971784183   </td></tr>\n",
       "<tr><td>zeros  </td><td>78                </td><td>894               </td><td>0                        </td><td>0                    </td><td>586               </td><td>0                   </td><td>48                </td><td>626               </td><td>460              </td><td>0                 </td><td>0                   </td><td>0                  </td><td>984               </td><td>0                 </td><td>0                  </td><td>577               </td><td>6                 </td><td>0                 </td><td>0                   </td><td>0                </td><td>0                   </td><td>0                     </td><td>0                 </td><td>995              </td><td>0                     </td><td>0                 </td><td>0                 </td><td>466               </td><td>0                </td><td>0                </td><td>0                 </td><td>0                   </td><td>0                  </td><td>0                    </td><td>0                 </td><td>0                 </td><td>0                  </td><td>0                 </td><td>0                  </td><td>0                   </td><td>0                    </td><td>0                   </td><td>0                 </td><td>25                </td><td>0                    </td><td>0                    </td><td>0                 </td><td>0                  </td><td>0                   </td><td>921               </td><td>0                 </td><td>326               </td><td>0                    </td><td>969               </td><td>48                </td><td>0                 </td><td>0                   </td><td>0                   </td><td>0                </td><td>0                  </td><td>48                </td><td>4                 </td><td>985               </td><td>0                 </td><td>0                     </td><td>867               </td><td>1                  </td><td>572               </td><td>0                   </td><td>0                     </td><td>0                    </td><td>0                 </td><td>943                </td><td>0                      </td><td>523               </td><td>0                   </td><td>0                  </td><td>0                     </td><td>0                     </td><td>0                    </td><td>0                   </td></tr>\n",
       "<tr><td>missing</td><td>0                 </td><td>0                 </td><td>0                        </td><td>0                    </td><td>0                 </td><td>0                   </td><td>0                 </td><td>0                 </td><td>0                </td><td>0                 </td><td>0                   </td><td>0                  </td><td>0                 </td><td>0                 </td><td>0                  </td><td>0                 </td><td>0                 </td><td>0                 </td><td>0                   </td><td>0                </td><td>0                   </td><td>0                     </td><td>0                 </td><td>0                </td><td>0                     </td><td>0                 </td><td>0                 </td><td>0                 </td><td>0                </td><td>0                </td><td>0                 </td><td>0                   </td><td>0                  </td><td>0                    </td><td>0                 </td><td>0                 </td><td>0                  </td><td>0                 </td><td>0                  </td><td>0                   </td><td>0                    </td><td>0                   </td><td>0                 </td><td>0                 </td><td>0                    </td><td>0                    </td><td>0                 </td><td>0                  </td><td>0                   </td><td>0                 </td><td>0                 </td><td>0                 </td><td>0                    </td><td>0                 </td><td>0                 </td><td>0                 </td><td>0                   </td><td>0                   </td><td>0                </td><td>0                  </td><td>0                 </td><td>0                 </td><td>0                 </td><td>0                 </td><td>0                     </td><td>0                 </td><td>0                  </td><td>0                 </td><td>0                   </td><td>0                     </td><td>0                    </td><td>0                 </td><td>0                  </td><td>0                      </td><td>0                 </td><td>0                   </td><td>0                  </td><td>0                     </td><td>0                     </td><td>0                    </td><td>0                   </td></tr>\n",
       "<tr><td>0      </td><td>150.0             </td><td>0.0               </td><td>239676.72027972032       </td><td>216626.9093484419    </td><td>1.0               </td><td>226465.8274336283   </td><td>2.0               </td><td>1.0               </td><td>61.0             </td><td>181425.2874371859 </td><td>186782.0            </td><td>208416.20154845156 </td><td>0.0               </td><td>8450.0            </td><td>185708.33940774488 </td><td>196.0             </td><td>2.0               </td><td>200924.0538641686 </td><td>185063.63879957132  </td><td>856.0            </td><td>203664.60358890702  </td><td>236446.98648648648    </td><td>181231.93779904302</td><td>0.0              </td><td>197940.3021894772     </td><td>1710.0            </td><td>174574.41216991964</td><td>0.0               </td><td>1.0              </td><td>8.0              </td><td>187595.7541966427 </td><td>210965.119205298    </td><td>176473.2899159664  </td><td>216859.7290502793    </td><td>184737.95170142702</td><td>181235.93597560975</td><td>171522.79741935484 </td><td>183201.27365208542</td><td>229333.4454277286  </td><td>187523.8671023965   </td><td>182282.48766816143   </td><td>203515.30891719743  </td><td>189018.974137931  </td><td>856.0             </td><td>202661.43181818182   </td><td>142610.06223175966   </td><td>184672.98832271763</td><td>182216.631         </td><td>187716.3622559653   </td><td>0.0               </td><td>165131.57073954982</td><td>706.0             </td><td>212221.98514851482   </td><td>0.0               </td><td>2003.0            </td><td>175405.8820140386 </td><td>243184.96534653462  </td><td>185776.46347031964  </td><td>65.0             </td><td>216426.0           </td><td>548.0             </td><td>3.0               </td><td>0.0               </td><td>182383.5220883534 </td><td>185630.71806674334    </td><td>0.0               </td><td>1.0                </td><td>854.0             </td><td>182525.73333333334  </td><td>184833.50913392162    </td><td>183357.84694932782   </td><td>192391.8022670025 </td><td>0.0                </td><td>177020.8800489596      </td><td>0.0               </td><td>188334.07174392935  </td><td>181982.57594936708 </td><td>200494.42807017543    </td><td>167645.4123076923     </td><td>207242.98260869566   </td><td>188146.7502726281   </td></tr>\n",
       "<tr><td>1      </td><td>284.0             </td><td>0.0               </td><td>152368.91505791506       </td><td>155721.17213200592   </td><td>0.0               </td><td>150397.2807424594   </td><td>2.0               </td><td>0.0               </td><td>0.0              </td><td>181425.2874371859 </td><td>186782.0            </td><td>168284.7849275724  </td><td>0.0               </td><td>9600.0            </td><td>185708.33940774488 </td><td>0.0               </td><td>2.0               </td><td>200924.0538641686 </td><td>185063.63879957132  </td><td>1262.0           </td><td>203664.60358890702  </td><td>161782.77448994666    </td><td>186896.74166666667</td><td>0.0              </td><td>218575.79385614384    </td><td>1262.0            </td><td>174574.41216991964</td><td>1.0               </td><td>2.0              </td><td>6.0              </td><td>187595.7541966427 </td><td>178321.97183098592  </td><td>178818.25814185815 </td><td>155330.24861804862   </td><td>184737.95170142702</td><td>181235.93597560975</td><td>171522.79741935484 </td><td>183201.27365208542</td><td>144619.2755267423  </td><td>187523.8671023965   </td><td>182282.48766816143   </td><td>156555.86183074262  </td><td>189018.974137931  </td><td>1262.0            </td><td>157086.21052281052   </td><td>204076.0357142857    </td><td>184672.98832271763</td><td>182216.631         </td><td>187716.3622559653   </td><td>0.0               </td><td>165131.57073954982</td><td>978.0             </td><td>139811.59481037923   </td><td>0.0               </td><td>1976.0            </td><td>175083.33112582783</td><td>187575.74864864862  </td><td>147024.1605228105   </td><td>80.0             </td><td>216426.0           </td><td>460.0             </td><td>3.0               </td><td>0.0               </td><td>182383.5220883534 </td><td>185630.71806674334    </td><td>0.0               </td><td>1.0                </td><td>0.0               </td><td>182525.73333333334  </td><td>163150.6584394772     </td><td>183357.84694932782   </td><td>192391.8022670025 </td><td>1.0                </td><td>177020.8800489596      </td><td>298.0             </td><td>188334.07174392935  </td><td>181982.57594936708 </td><td>200494.42807017543    </td><td>243510.2073978105     </td><td>162035.816091954     </td><td>188146.7502726281   </td></tr>\n",
       "<tr><td>2      </td><td>434.0             </td><td>0.0               </td><td>239676.72027972032       </td><td>216626.9093484419    </td><td>1.0               </td><td>226465.8274336283   </td><td>2.0               </td><td>1.0               </td><td>42.0             </td><td>181425.2874371859 </td><td>186782.0            </td><td>241163.1271894772  </td><td>0.0               </td><td>11250.0           </td><td>185708.33940774488 </td><td>162.0             </td><td>2.0               </td><td>200924.0538641686 </td><td>185063.63879957132  </td><td>920.0            </td><td>203664.60358890702  </td><td>236446.98648648648    </td><td>181231.93779904302</td><td>0.0              </td><td>197940.3021894772     </td><td>1786.0            </td><td>174574.41216991964</td><td>1.0               </td><td>3.0              </td><td>6.0              </td><td>187595.7541966427 </td><td>210965.119205298    </td><td>176473.2899159664  </td><td>216859.7290502793    </td><td>184737.95170142702</td><td>181235.93597560975</td><td>171522.79741935484 </td><td>183201.27365208542</td><td>229333.4454277286  </td><td>187523.8671023965   </td><td>182282.48766816143   </td><td>203515.30891719743  </td><td>189018.974137931  </td><td>920.0             </td><td>202661.43181818182   </td><td>204076.0357142857    </td><td>184672.98832271763</td><td>182216.631         </td><td>187716.3622559653   </td><td>0.0               </td><td>209450.39420289855</td><td>486.0             </td><td>212221.98514851482   </td><td>0.0               </td><td>2001.0            </td><td>195815.36317432567</td><td>243184.96534653462  </td><td>185776.46347031964  </td><td>68.0             </td><td>216426.0           </td><td>608.0             </td><td>3.0               </td><td>0.0               </td><td>182383.5220883534 </td><td>185630.71806674334    </td><td>0.0               </td><td>1.0                </td><td>866.0             </td><td>182525.73333333334  </td><td>212217.14000999       </td><td>183357.84694932782   </td><td>192391.8022670025 </td><td>0.0                </td><td>177020.8800489596      </td><td>0.0               </td><td>188334.07174392935  </td><td>181982.57594936708 </td><td>200494.42807017543    </td><td>187129.2701381951     </td><td>207242.98260869566   </td><td>188146.7502726281   </td></tr>\n",
       "<tr><td>3      </td><td>490.0             </td><td>0.0               </td><td>239676.72027972032       </td><td>216626.9093484419    </td><td>1.0               </td><td>226465.8274336283   </td><td>3.0               </td><td>1.0               </td><td>84.0             </td><td>181425.2874371859 </td><td>186782.0            </td><td>207950.79385614384 </td><td>0.0               </td><td>14260.0           </td><td>185708.33940774488 </td><td>350.0             </td><td>2.0               </td><td>200924.0538641686 </td><td>185063.63879957132  </td><td>1145.0           </td><td>203664.60358890702  </td><td>236446.98648648648    </td><td>181231.93779904302</td><td>0.0              </td><td>329868.3581418581     </td><td>2198.0            </td><td>174574.41216991964</td><td>1.0               </td><td>5.0              </td><td>9.0              </td><td>187595.7541966427 </td><td>210965.119205298    </td><td>178818.25814185815 </td><td>216859.7290502793    </td><td>184737.95170142702</td><td>181235.93597560975</td><td>171522.79741935484 </td><td>183201.27365208542</td><td>229333.4454277286  </td><td>187523.8671023965   </td><td>182282.48766816143   </td><td>203515.30891719743  </td><td>189018.974137931  </td><td>1145.0            </td><td>202661.43181818182   </td><td>204076.0357142857    </td><td>184672.98832271763</td><td>182216.631         </td><td>187716.3622559653   </td><td>0.0               </td><td>209450.39420289855</td><td>655.0             </td><td>212221.98514851482   </td><td>0.0               </td><td>2000.0            </td><td>187120.38069824912</td><td>243184.96534653462  </td><td>185776.46347031964  </td><td>84.0             </td><td>216426.0           </td><td>836.0             </td><td>4.0               </td><td>0.0               </td><td>182383.5220883534 </td><td>185630.71806674334    </td><td>0.0               </td><td>1.0                </td><td>1053.0            </td><td>182525.73333333334  </td><td>187684.15196425194    </td><td>183357.84694932782   </td><td>192391.8022670025 </td><td>0.0                </td><td>177020.8800489596      </td><td>192.0             </td><td>188334.07174392935  </td><td>181982.57594936708 </td><td>200494.42807017543    </td><td>207605.41721854304    </td><td>255589.23529758526   </td><td>188146.7502726281   </td></tr>\n",
       "<tr><td>4      </td><td>64.0              </td><td>0.0               </td><td>201059.23195876292       </td><td>216626.9093484419    </td><td>1.0               </td><td>185142.46052281052  </td><td>2.0               </td><td>1.0               </td><td>30.0             </td><td>181425.2874371859 </td><td>186782.0            </td><td>224263.06658341654 </td><td>0.0               </td><td>14115.0           </td><td>185708.33940774488 </td><td>0.0               </td><td>1.0               </td><td>200924.0538641686 </td><td>185063.63879957132  </td><td>796.0            </td><td>203664.60358890702  </td><td>236446.98648648648    </td><td>181058.37280701756</td><td>0.0              </td><td>157653.3733433233     </td><td>1362.0            </td><td>174574.41216991964</td><td>0.0               </td><td>6.0              </td><td>5.0              </td><td>187595.7541966427 </td><td>149995.43881027232  </td><td>176473.2899159664  </td><td>216859.7290502793    </td><td>184737.95170142702</td><td>181235.93597560975</td><td>171522.79741935484 </td><td>183201.27365208542</td><td>144619.2755267423  </td><td>187523.8671023965   </td><td>182282.48766816143   </td><td>156555.86183074262  </td><td>154576.6979101979 </td><td>796.0             </td><td>202661.43181818182   </td><td>142610.06223175966   </td><td>184672.98832271763</td><td>182216.631         </td><td>187716.3622559653   </td><td>0.0               </td><td>209450.39420289855</td><td>732.0             </td><td>139811.59481037923   </td><td>700.0             </td><td>1993.0            </td><td>174686.7521894772 </td><td>150591.33185614386  </td><td>185776.46347031964  </td><td>85.0             </td><td>216426.0           </td><td>480.0             </td><td>1.0               </td><td>320.0             </td><td>182383.5220883534 </td><td>185630.71806674334    </td><td>0.0               </td><td>1.0                </td><td>566.0             </td><td>182525.73333333334  </td><td>201745.79385614384    </td><td>151058.18256582128   </td><td>192391.8022670025 </td><td>0.0                </td><td>177020.8800489596      </td><td>40.0              </td><td>188334.07174392935  </td><td>181982.57594936708 </td><td>141354.57177033494    </td><td>167645.4123076923     </td><td>132854.87169811322   </td><td>188146.7502726281   </td></tr>\n",
       "<tr><td>5      </td><td>317.0             </td><td>0.0               </td><td>239676.72027972032       </td><td>216626.9093484419    </td><td>1.0               </td><td>226465.8274336283   </td><td>2.0               </td><td>0.0               </td><td>57.0             </td><td>181425.2874371859 </td><td>186782.0            </td><td>204933.0865390707  </td><td>0.0               </td><td>10084.0           </td><td>185708.33940774488 </td><td>186.0             </td><td>2.0               </td><td>312352.66653056245</td><td>185063.63879957132  </td><td>1694.0           </td><td>203664.60358890702  </td><td>236446.98648648648    </td><td>186896.74166666667</td><td>0.0              </td><td>214617.5167374998     </td><td>1694.0            </td><td>174574.41216991964</td><td>1.0               </td><td>7.0              </td><td>7.0              </td><td>187595.7541966427 </td><td>178321.97183098592  </td><td>176473.2899159664  </td><td>216859.7290502793    </td><td>184737.95170142702</td><td>181235.93597560975</td><td>171522.79741935484 </td><td>183201.27365208542</td><td>229333.4454277286  </td><td>187523.8671023965   </td><td>182282.48766816143   </td><td>256064.37787676242  </td><td>189018.974137931  </td><td>1686.0            </td><td>202661.43181818182   </td><td>225928.18076923073   </td><td>184672.98832271763</td><td>182216.631         </td><td>187716.3622559653   </td><td>0.0               </td><td>165131.57073954982</td><td>1369.0            </td><td>212221.98514851482   </td><td>0.0               </td><td>2004.0            </td><td>185447.96554289086</td><td>187575.74864864862  </td><td>185776.46347031964  </td><td>75.0             </td><td>216426.0           </td><td>636.0             </td><td>3.0               </td><td>0.0               </td><td>182383.5220883534 </td><td>185630.71806674334    </td><td>0.0               </td><td>1.0                </td><td>0.0               </td><td>182525.73333333334  </td><td>209843.16649765332    </td><td>183357.84694932782   </td><td>192391.8022670025 </td><td>0.0                </td><td>177020.8800489596      </td><td>255.0             </td><td>188334.07174392935  </td><td>181982.57594936708 </td><td>200494.42807017543    </td><td>207605.41721854304    </td><td>255589.23529758526   </td><td>188146.7502726281   </td></tr>\n",
       "<tr><td>6      </td><td>952.0             </td><td>0.0               </td><td>141720.08256582127       </td><td>153754.05472570908   </td><td>0.0               </td><td>136922.75385614386  </td><td>2.0               </td><td>0.0               </td><td>0.0              </td><td>181425.2874371859 </td><td>186782.0            </td><td>134978.29385614386 </td><td>0.0               </td><td>6120.0            </td><td>185708.33940774488 </td><td>0.0               </td><td>2.0               </td><td>141930.00455580864</td><td>153787.09385614382  </td><td>1022.0           </td><td>133017.2480620155   </td><td>172096.88704318934    </td><td>181231.93779904302</td><td>0.0              </td><td>133772.61742757243    </td><td>1774.0            </td><td>174574.41216991964</td><td>2.0               </td><td>9.0              </td><td>8.0              </td><td>187595.7541966427 </td><td>149995.43881027232  </td><td>176473.2899159664  </td><td>174764.54385614384   </td><td>184737.95170142702</td><td>181235.93597560975</td><td>171522.79741935484 </td><td>183201.27365208542</td><td>144619.2755267423  </td><td>187523.8671023965   </td><td>182282.48766816143   </td><td>156555.86183074262  </td><td>189018.974137931  </td><td>952.0             </td><td>202661.43181818182   </td><td>204076.0357142857    </td><td>184672.98832271763</td><td>182216.631         </td><td>129502.64385614383  </td><td>0.0               </td><td>165131.57073954982</td><td>0.0               </td><td>139811.59481037923   </td><td>0.0               </td><td>1931.0            </td><td>171267.6210300569 </td><td>150591.33185614386  </td><td>134468.29385614386  </td><td>51.0             </td><td>157465.01829268291 </td><td>468.0             </td><td>2.0               </td><td>0.0               </td><td>182383.5220883534 </td><td>185630.71806674334    </td><td>205.0             </td><td>2.0                </td><td>752.0             </td><td>182525.73333333334  </td><td>130271.86565101566    </td><td>183357.84694932782   </td><td>135492.29843360864</td><td>0.0                </td><td>153108.76116383614     </td><td>90.0              </td><td>131334.20218947722  </td><td>181982.57594936708 </td><td>141354.57177033494    </td><td>167645.4123076923     </td><td>207242.98260869566   </td><td>188146.7502726281   </td></tr>\n",
       "<tr><td>7      </td><td>134.0             </td><td>0.0               </td><td>152368.91505791506       </td><td>169688.48681389034   </td><td>1.0               </td><td>150397.2807424594   </td><td>1.0               </td><td>0.0               </td><td>0.0              </td><td>181425.2874371859 </td><td>186782.0            </td><td>151119.07135614386 </td><td>0.0               </td><td>11200.0           </td><td>185708.33940774488 </td><td>0.0               </td><td>1.0               </td><td>141930.00455580864</td><td>185063.63879957132  </td><td>1040.0           </td><td>133017.2480620155   </td><td>150410.4464877228     </td><td>181231.93779904302</td><td>0.0              </td><td>143540.98922651424    </td><td>1040.0            </td><td>174574.41216991964</td><td>0.0               </td><td>11.0             </td><td>5.0              </td><td>187595.7541966427 </td><td>178321.97183098592  </td><td>176473.2899159664  </td><td>162189.7051282051    </td><td>184737.95170142702</td><td>181235.93597560975</td><td>222601.05940594056 </td><td>183201.27365208542</td><td>144619.2755267423  </td><td>187523.8671023965   </td><td>182282.48766816143   </td><td>156555.86183074262  </td><td>189018.974137931  </td><td>1040.0            </td><td>202661.43181818182   </td><td>142610.06223175966   </td><td>184672.98832271763</td><td>182216.631         </td><td>187716.3622559653   </td><td>0.0               </td><td>165131.57073954982</td><td>906.0             </td><td>139811.59481037923   </td><td>0.0               </td><td>1965.0            </td><td>175405.8820140386 </td><td>187575.74864864862  </td><td>185776.46347031964  </td><td>70.0             </td><td>216426.0           </td><td>384.0             </td><td>3.0               </td><td>0.0               </td><td>182383.5220883534 </td><td>185630.71806674334    </td><td>0.0               </td><td>1.0                </td><td>0.0               </td><td>182525.73333333334  </td><td>139955.20323114382    </td><td>183357.84694932782   </td><td>192391.8022670025 </td><td>0.0                </td><td>177020.8800489596      </td><td>0.0               </td><td>188334.07174392935  </td><td>181982.57594936708 </td><td>141354.57177033494    </td><td>167645.4123076923     </td><td>132854.87169811322   </td><td>188146.7502726281   </td></tr>\n",
       "<tr><td>8      </td><td>177.0             </td><td>0.0               </td><td>239676.72027972032       </td><td>153754.05472570908   </td><td>1.0               </td><td>226465.8274336283   </td><td>3.0               </td><td>0.0               </td><td>21.0             </td><td>181425.2874371859 </td><td>186782.0            </td><td>220499.76885614387 </td><td>0.0               </td><td>11924.0           </td><td>185708.33940774488 </td><td>286.0             </td><td>3.0               </td><td>312352.66653056245</td><td>185063.63879957132  </td><td>1182.0           </td><td>243875.54558028182  </td><td>236446.98648648648    </td><td>179239.41089108912</td><td>0.0              </td><td>301677.8909715284     </td><td>2324.0            </td><td>263880.6876061438 </td><td>2.0               </td><td>12.0             </td><td>11.0             </td><td>187595.7541966427 </td><td>210965.119205298    </td><td>176473.2899159664  </td><td>155487.09385614382   </td><td>184737.95170142702</td><td>181235.93597560975</td><td>222601.05940594056 </td><td>183201.27365208542</td><td>348876.58744588745 </td><td>187523.8671023965   </td><td>182282.48766816143   </td><td>256064.37787676242  </td><td>189018.974137931  </td><td>1175.0            </td><td>202661.43181818182   </td><td>225928.18076923073   </td><td>184672.98832271763</td><td>182216.631         </td><td>187716.3622559653   </td><td>0.0               </td><td>209450.39420289855</td><td>998.0             </td><td>305958.08769176033   </td><td>0.0               </td><td>2005.0            </td><td>192174.2264150943 </td><td>243184.96534653462  </td><td>185776.46347031964  </td><td>85.0             </td><td>216426.0           </td><td>736.0             </td><td>4.0               </td><td>0.0               </td><td>182383.5220883534 </td><td>185630.71806674334    </td><td>0.0               </td><td>1.0                </td><td>1142.0            </td><td>182525.73333333334  </td><td>224722.36680696355    </td><td>183357.84694932782   </td><td>192391.8022670025 </td><td>0.0                </td><td>260380.61674771016     </td><td>147.0             </td><td>188334.07174392935  </td><td>181982.57594936708 </td><td>243708.832            </td><td>167645.4123076923     </td><td>346477.7641686438    </td><td>188146.7502726281   </td></tr>\n",
       "<tr><td>9      </td><td>175.0             </td><td>0.0               </td><td>152368.91505791506       </td><td>172512.37104060987   </td><td>1.0               </td><td>150397.2807424594   </td><td>1.0               </td><td>0.0               </td><td>0.0              </td><td>181425.2874371859 </td><td>186782.0            </td><td>154668.87077922074 </td><td>0.0               </td><td>12968.0           </td><td>185708.33940774488 </td><td>0.0               </td><td>1.0               </td><td>141930.00455580864</td><td>185063.63879957132  </td><td>912.0            </td><td>133017.2480620155   </td><td>161782.77448994666    </td><td>181231.93779904302</td><td>0.0              </td><td>143540.98922651424    </td><td>912.0             </td><td>174574.41216991964</td><td>0.0               </td><td>13.0             </td><td>4.0              </td><td>187595.7541966427 </td><td>178321.97183098592  </td><td>176473.2899159664  </td><td>162189.7051282051    </td><td>184737.95170142702</td><td>181235.93597560975</td><td>222601.05940594056 </td><td>183201.27365208542</td><td>144619.2755267423  </td><td>187523.8671023965   </td><td>182282.48766816143   </td><td>156555.86183074262  </td><td>189018.974137931  </td><td>912.0             </td><td>155727.88304093567   </td><td>142610.06223175966   </td><td>184672.98832271763</td><td>182216.631         </td><td>187716.3622559653   </td><td>176.0             </td><td>220137.0973044197 </td><td>737.0             </td><td>139811.59481037923   </td><td>0.0               </td><td>1962.0            </td><td>195815.36317432567</td><td>187575.74864864862  </td><td>185776.46347031964  </td><td>71.0             </td><td>141464.28231292518 </td><td>352.0             </td><td>2.0               </td><td>0.0               </td><td>182383.5220883534 </td><td>185630.71806674334    </td><td>0.0               </td><td>1.0                </td><td>0.0               </td><td>182525.73333333334  </td><td>158518.57163392162    </td><td>183357.84694932782   </td><td>192391.8022670025 </td><td>0.0                </td><td>177020.8800489596      </td><td>140.0             </td><td>188334.07174392935  </td><td>181982.57594936708 </td><td>141354.57177033494    </td><td>167645.4123076923     </td><td>132854.87169811322   </td><td>188146.7502726281   </td></tr>\n",
       "</tbody>\n",
       "</table>"
      ]
     },
     "metadata": {},
     "output_type": "display_data"
    },
    {
     "name": "stdout",
     "output_type": "stream",
     "text": [
      "--------------------------------------------------------------------------------\n",
      "Imputed and encoded numeric validation data:\n",
      "Rows:459\n",
      "Cols:81\n",
      "\n",
      "\n"
     ]
    },
    {
     "data": {
      "text/html": [
       "<table>\n",
       "<thead>\n",
       "<tr><th>       </th><th>BsmtUnfSF        </th><th>BsmtFinSF2        </th><th>GarageYrBltBins_Tencode  </th><th>Exterior2nd_Tencode  </th><th>BsmtFullBath       </th><th>Foundation_Tencode  </th><th>GarageCars        </th><th>HalfBath          </th><th>OpenPorchSF      </th><th>PoolQC_Tencode    </th><th>CentralAir_Tencode  </th><th>YearBuilt_Tencode  </th><th>LowQualFinSF     </th><th>LotArea           </th><th>ExterCond_Tencode  </th><th>MasVnrArea        </th><th>FullBath          </th><th>BsmtQual_Tencode  </th><th>Functional_Tencode  </th><th>1stFlrSF          </th><th>GarageType_Tencode  </th><th>BsmtFinType1_Tencode  </th><th>YrSold_Tencode    </th><th>PoolArea          </th><th>Neighborhood_Tencode  </th><th>GrLivArea         </th><th>SaleType_Tencode  </th><th>Fireplaces        </th><th>Id                </th><th>TotRmsAbvGrd      </th><th>BldgType_Tencode  </th><th>HouseStyle_Tencode  </th><th>LotConfig_Tencode  </th><th>Exterior1st_Tencode  </th><th>BsmtCond_Tencode  </th><th>RoofMatl_Tencode  </th><th>RoofStyle_Tencode  </th><th>Heating_Tencode   </th><th>ExterQual_Tencode  </th><th>PavedDrive_Tencode  </th><th>LandContour_Tencode  </th><th>MasVnrType_Tencode  </th><th>Fence_Tencode     </th><th>TotalBsmtSF      </th><th>OverallCond_Tencode  </th><th>FireplaceQu_Tencode  </th><th>Alley_Tencode     </th><th>Utilities_Tencode  </th><th>Electrical_Tencode  </th><th>ScreenPorch       </th><th>LotShape_Tencode  </th><th>BsmtFinSF1        </th><th>KitchenQual_Tencode  </th><th>MiscVal           </th><th>GarageYrBlt       </th><th>MoSold_Tencode    </th><th>MSSubClass_Tencode  </th><th>Condition1_Tencode  </th><th>LotFrontage       </th><th>HeatingQC_Tencode  </th><th>GarageArea        </th><th>BedroomAbvGr      </th><th>3SsnPorch        </th><th>Street_Tencode    </th><th>BsmtFinType2_Tencode  </th><th>EnclosedPorch    </th><th>KitchenAbvGr       </th><th>2ndFlrSF          </th><th>Condition2_Tencode  </th><th>YearRemodAdd_Tencode  </th><th>MiscFeature_Tencode  </th><th>MSZoning_Tencode  </th><th>BsmtHalfBath       </th><th>SaleCondition_Tencode  </th><th>WoodDeckSF        </th><th>GarageQual_Tencode  </th><th>LandSlope_Tencode  </th><th>GarageFinish_Tencode  </th><th>BsmtExposure_Tencode  </th><th>OverallQual_Tencode  </th><th>GarageCond_Tencode  </th></tr>\n",
       "</thead>\n",
       "<tbody>\n",
       "<tr><td>type   </td><td>int              </td><td>int               </td><td>real                     </td><td>real                 </td><td>int                </td><td>real                </td><td>int               </td><td>int               </td><td>int              </td><td>real              </td><td>real                </td><td>real               </td><td>int              </td><td>int               </td><td>real               </td><td>int               </td><td>int               </td><td>real              </td><td>real                </td><td>int               </td><td>real                </td><td>real                  </td><td>real              </td><td>int               </td><td>real                  </td><td>int               </td><td>real              </td><td>int               </td><td>int               </td><td>int               </td><td>real              </td><td>real                </td><td>real               </td><td>real                 </td><td>real              </td><td>real              </td><td>real               </td><td>real              </td><td>real               </td><td>real                </td><td>real                 </td><td>real                </td><td>real              </td><td>int              </td><td>real                 </td><td>real                 </td><td>real              </td><td>real               </td><td>real                </td><td>int               </td><td>real              </td><td>int               </td><td>real                 </td><td>int               </td><td>int               </td><td>real              </td><td>real                </td><td>real                </td><td>real              </td><td>real               </td><td>int               </td><td>int               </td><td>int              </td><td>real              </td><td>real                  </td><td>int              </td><td>int                </td><td>int               </td><td>real                </td><td>real                  </td><td>real                 </td><td>real              </td><td>int                </td><td>real                   </td><td>int               </td><td>real                </td><td>real               </td><td>real                  </td><td>real                  </td><td>real                 </td><td>real                </td></tr>\n",
       "<tr><td>mins   </td><td>0.0              </td><td>0.0               </td><td>108352.20632798571       </td><td>106204.02450980392   </td><td>0.0                </td><td>110363.31736694675  </td><td>0.0               </td><td>0.0               </td><td>0.0              </td><td>178187.36899563318</td><td>111601.52450980392  </td><td>79514.02450980392  </td><td>0.0              </td><td>1491.0            </td><td>91754.02450980392  </td><td>0.0               </td><td>0.0               </td><td>107897.15367647057</td><td>84954.02450980392   </td><td>334.0             </td><td>108352.20632798571  </td><td>107897.15367647057    </td><td>169627.25564187934</td><td>0.0               </td><td>112866.7168174962     </td><td>334.0             </td><td>107734.02450980392</td><td>0.0               </td><td>4.0               </td><td>2.0               </td><td>128987.56617647059</td><td>122402.59593837534  </td><td>165751.57330498463 </td><td>96429.02450980392    </td><td>78579.02450980392 </td><td>175904.02450980392</td><td>139864.02450980392 </td><td>77729.02450980392 </td><td>91042.14950980392  </td><td>114840.96895424835  </td><td>163075.56297134238   </td><td>131576.52450980392  </td><td>133419.96200980392</td><td>0.0              </td><td>78579.02450980392    </td><td>133191.52450980392   </td><td>134607.54723707662</td><td>178193.4967320261  </td><td>100143.52450980392  </td><td>0.0               </td><td>163981.4191419142 </td><td>0.0               </td><td>105130.89950980392   </td><td>0.0               </td><td>0.0               </td><td>162484.5985098039 </td><td>95012.35784313723   </td><td>150223.0311764706   </td><td>21.0              </td><td>100679.02450980392 </td><td>0.0               </td><td>0.0               </td><td>0.0              </td><td>95579.02450980392 </td><td>107897.15367647057    </td><td>0.0              </td><td>1.0                </td><td>0.0               </td><td>84954.02450980392   </td><td>120621.97532947603    </td><td>73479.02450980392    </td><td>118217.35784313723</td><td>0.0                </td><td>143816.52450980392     </td><td>0.0               </td><td>108352.20632798571  </td><td>175531.83179723503 </td><td>108352.20632798571    </td><td>107897.15367647057    </td><td>69356.52450980392    </td><td>108352.20632798571  </td></tr>\n",
       "<tr><td>mean   </td><td>548.159041394335 </td><td>57.235294117647065</td><td>178193.49673202634       </td><td>179728.6088213935    </td><td>0.42265795206971674</td><td>179041.90369302416  </td><td>1.7102396514161213</td><td>0.3856209150326796</td><td>50.44662309368192</td><td>178192.57957409543</td><td>179115.18492887347  </td><td>178193.49673202625 </td><td>5.668845315904139</td><td>10273.808278867102</td><td>178484.55631381104 </td><td>96.47276688453148 </td><td>1.544662309368193 </td><td>177231.78653936516</td><td>178425.7326455637   </td><td>1141.9912854030508</td><td>180113.26154897668  </td><td>178193.49673202584    </td><td>178193.496732026  </td><td>1.411764705882353 </td><td>178193.49673202608    </td><td>1506.0043572984757</td><td>177239.63702422142</td><td>0.5969498910675383</td><td>742.8671023965148 </td><td>6.52941176470589  </td><td>178649.14910504507</td><td>177648.76674783212  </td><td>178163.2663740442  </td><td>179651.10523303007   </td><td>178575.42264940837</td><td>177969.71943483278</td><td>177381.14581571185 </td><td>178371.04867785898</td><td>174940.29949164853 </td><td>179002.96058140023  </td><td>177854.22806185653   </td><td>176236.3233521294   </td><td>178943.90578410032</td><td>1044.760348583878</td><td>180314.7703639625    </td><td>175300.38912811334   </td><td>178551.46728608664</td><td>178193.4967320261  </td><td>179083.62772865142  </td><td>15.710239651416122</td><td>176786.22238241715</td><td>439.36601307189557</td><td>177298.28443120178   </td><td>51.78649237472768 </td><td>1835.7864923747268</td><td>178193.49673202605</td><td>178290.67043872018  </td><td>178617.62590029478  </td><td>69.0108932461874  </td><td>180663.66151693798 </td><td>463.19172113289744</td><td>2.856209150326796 </td><td>3.30718954248366 </td><td>178225.25931265744</td><td>178749.88685121093    </td><td>23.4727668845316 </td><td>1.0457516339869268 </td><td>358.34422657952064</td><td>178197.18104147993  </td><td>178193.49673202634    </td><td>178331.82024007873   </td><td>179328.32668845326</td><td>0.05228758169934641</td><td>177335.48292323473     </td><td>101.15904139433547</td><td>179173.93458285267  </td><td>177815.9926203596  </td><td>176100.76506899047    </td><td>176528.2975458157     </td><td>178193.49673202616   </td><td>179410.743410654    </td></tr>\n",
       "<tr><td>maxs   </td><td>2336.0           </td><td>1474.0            </td><td>228607.89347532115       </td><td>237481.8022875817    </td><td>2.0                </td><td>222366.88205128204  </td><td>4.0               </td><td>2.0               </td><td>547.0            </td><td>180579.02450980392</td><td>184861.0283687943   </td><td>430479.0245098039  </td><td>572.0            </td><td>215245.0          </td><td>197862.35784313726 </td><td>1600.0            </td><td>3.0               </td><td>287410.74022408965</td><td>181312.14950980392  </td><td>3228.0            </td><td>243247.17284313726  </td><td>224699.7863950498     </td><td>186970.48567051822</td><td>648.0             </td><td>288359.0245098039     </td><td>3608.0            </td><td>255001.6042717087 </td><td>3.0               </td><td>1459.0            </td><td>12.0              </td><td>183943.1995098039 </td><td>221634.02450980392  </td><td>221371.6687405731  </td><td>230256.21200980392   </td><td>204324.73418722322</td><td>296434.0245098039 </td><td>205162.1274859944  </td><td>179414.41573033712</td><td>311103.9129713424  </td><td>184063.06872037915  </td><td>252389.9995098039    </td><td>243111.468058191    </td><td>184450.31335149863</td><td>3200.0           </td><td>236726.2467320261    </td><td>345181.5245098039    </td><td>180974.4445098039 </td><td>178193.4967320261  </td><td>184788.65617433414  </td><td>480.0             </td><td>257372.27450980392</td><td>1880.0            </td><td>307728.63562091504   </td><td>8300.0            </td><td>2009.0            </td><td>200082.05082559335</td><td>224956.37657165958  </td><td>311479.0245098039   </td><td>182.0             </td><td>211491.75330396474 </td><td>1248.0            </td><td>6.0               </td><td>407.0            </td><td>178405.7096069869 </td><td>194068.52450980392    </td><td>301.0            </td><td>2.0                </td><td>1611.0            </td><td>302979.0245098039   </td><td>273645.3828431372     </td><td>188229.02450980392   </td><td>219311.6970098039 </td><td>1.0                </td><td>255001.6042717087      </td><td>857.0             </td><td>282791.5245098039   </td><td>219485.84269162212 </td><td>223156.8495098039     </td><td>252970.21398348815    </td><td>369297.8945098039    </td><td>187300.52567237162  </td></tr>\n",
       "<tr><td>sigma  </td><td>436.0358278966984</td><td>185.24001065203282</td><td>38096.993571949526       </td><td>26639.054892573462   </td><td>0.5161250426046549 </td><td>37636.63649998418   </td><td>0.7712943151662268</td><td>0.5091844194507408</td><td>72.74780631554769</td><td>111.63291947830336</td><td>19717.249202290554  </td><td>48282.59548084681  </td><td>46.66085163497713</td><td>11072.988785723228</td><td>12461.390436783036 </td><td>183.06222490418148</td><td>0.5445931590280559</td><td>46388.72372416759 </td><td>8139.874204543354   </td><td>373.01668824001615</td><td>36364.50360655458   </td><td>30235.126490265342    </td><td>6756.846117385383 </td><td>30.246049815005012</td><td>47446.35307377432     </td><td>537.1049436609105 </td><td>25705.648619049694</td><td>0.6515613257699318</td><td>422.05491502326714</td><td>1.7068785455857547</td><td>11313.686291071555</td><td>21371.85806025564   </td><td>11574.4525615196   </td><td>27697.042657464837   </td><td>17674.722900752706</td><td>12445.872412899758</td><td>13516.296484902437 </td><td>7482.9638209952   </td><td>46704.676972640176 </td><td>17370.731330504437  </td><td>12704.546441754976   </td><td>27300.308004292383  </td><td>12656.577864073239</td><td>412.0811851328445</td><td>30660.56351655315    </td><td>41407.53486285178    </td><td>9870.638176773426 </td><td>0.0                </td><td>17731.970597652493  </td><td>59.12791370210353 </td><td>21170.422649021333</td><td>431.42414339733244</td><td>48579.93227209306    </td><td>449.54109321577573</td><td>512.057765479955  </td><td>8376.309432540083 </td><td>34491.169018196844  </td><td>12058.531723299979  </td><td>20.747859653582008</td><td>31183.876623648637 </td><td>221.95498544637042</td><td>0.8391483048651234</td><td>28.18457901138756</td><td>3866.0185855881646</td><td>13507.295148882748    </td><td>61.32101817353125</td><td>0.20917396118996429</td><td>444.5856999141145 </td><td>7675.716724689661   </td><td>38509.35013979468     </td><td>5792.9151130758355   </td><td>22954.507567875306</td><td>0.2228492452574714 </td><td>25636.5564484805       </td><td>136.0428056028114 </td><td>22413.52398643429   </td><td>9612.485004032442  </td><td>37887.20742632184     </td><td>29831.690627197433    </td><td>55383.22892736045    </td><td>22986.979310392446  </td></tr>\n",
       "<tr><td>zeros  </td><td>40               </td><td>399               </td><td>0                        </td><td>0                    </td><td>270                </td><td>0                   </td><td>33                </td><td>287               </td><td>196              </td><td>0                 </td><td>0                   </td><td>0                  </td><td>450              </td><td>0                 </td><td>0                  </td><td>292               </td><td>3                 </td><td>0                 </td><td>0                   </td><td>0                 </td><td>0                   </td><td>0                     </td><td>0                 </td><td>458               </td><td>0                     </td><td>0                 </td><td>0                 </td><td>224               </td><td>0                 </td><td>0                 </td><td>0                 </td><td>0                   </td><td>0                  </td><td>0                    </td><td>0                 </td><td>0                 </td><td>0                  </td><td>0                 </td><td>0                  </td><td>0                   </td><td>0                    </td><td>0                   </td><td>0                 </td><td>12               </td><td>0                    </td><td>0                    </td><td>0                 </td><td>0                  </td><td>0                   </td><td>423               </td><td>0                 </td><td>141               </td><td>0                    </td><td>439               </td><td>33                </td><td>0                 </td><td>0                   </td><td>0                   </td><td>0                 </td><td>0                  </td><td>33                </td><td>2                 </td><td>451              </td><td>0                 </td><td>0                     </td><td>385              </td><td>0                  </td><td>257               </td><td>0                   </td><td>0                     </td><td>0                    </td><td>0                 </td><td>435                </td><td>0                      </td><td>238               </td><td>0                   </td><td>0                  </td><td>0                     </td><td>0                     </td><td>0                    </td><td>0                   </td></tr>\n",
       "<tr><td>missing</td><td>0                </td><td>0                 </td><td>0                        </td><td>0                    </td><td>0                  </td><td>0                   </td><td>0                 </td><td>0                 </td><td>0                </td><td>0                 </td><td>0                   </td><td>0                  </td><td>0                </td><td>0                 </td><td>0                  </td><td>0                 </td><td>0                 </td><td>0                 </td><td>0                   </td><td>0                 </td><td>0                   </td><td>0                     </td><td>0                 </td><td>0                 </td><td>0                     </td><td>0                 </td><td>0                 </td><td>0                 </td><td>0                 </td><td>0                 </td><td>0                 </td><td>0                   </td><td>0                  </td><td>0                    </td><td>0                 </td><td>0                 </td><td>0                  </td><td>0                 </td><td>0                  </td><td>0                   </td><td>0                    </td><td>0                   </td><td>0                 </td><td>0                </td><td>0                    </td><td>0                    </td><td>0                 </td><td>0                  </td><td>0                   </td><td>0                 </td><td>0                 </td><td>0                 </td><td>0                    </td><td>0                 </td><td>0                 </td><td>0                 </td><td>0                   </td><td>0                   </td><td>0                 </td><td>0                  </td><td>0                 </td><td>0                 </td><td>0                </td><td>0                 </td><td>0                     </td><td>0                </td><td>0                  </td><td>0                 </td><td>0                   </td><td>0                     </td><td>0                    </td><td>0                 </td><td>0                  </td><td>0                      </td><td>0                 </td><td>0                   </td><td>0                  </td><td>0                     </td><td>0                     </td><td>0                    </td><td>0                   </td></tr>\n",
       "<tr><td>0      </td><td>540.0            </td><td>0.0               </td><td>199424.48842732972       </td><td>180267.35784313726   </td><td>1.0                </td><td>144486.10784313726  </td><td>3.0               </td><td>0.0               </td><td>35.0             </td><td>178187.36899563318</td><td>184861.0283687943   </td><td>134248.71200980392 </td><td>0.0              </td><td>9550.0            </td><td>180398.05693069307 </td><td>0.0               </td><td>1.0               </td><td>138313.57142857142</td><td>179857.76346604215  </td><td>961.0             </td><td>142532.16792065662  </td><td>169309.44117647054    </td><td>186970.48567051822</td><td>0.0               </td><td>216008.84593837534    </td><td>1717.0            </td><td>170822.7626262626 </td><td>1.0               </td><td>4.0               </td><td>7.0               </td><td>181805.66321243523</td><td>203633.455628685    </td><td>165751.57330498463 </td><td>154595.81798806478   </td><td>204324.73418722322</td><td>176671.8111111111 </td><td>171401.71038251367 </td><td>179414.41573033712</td><td>143747.87889273354 </td><td>184063.06872037915  </td><td>175715.7828162291    </td><td>157753.39249146762  </td><td>184450.31335149863</td><td>756.0            </td><td>204262.16064257032   </td><td>219907.18575980392   </td><td>180758.81264637003</td><td>178193.4967320261  </td><td>184788.65617433414  </td><td>0.0               </td><td>194850.58566088302</td><td>216.0             </td><td>211880.81318681315   </td><td>0.0               </td><td>1998.0            </td><td>186396.24236694674</td><td>182715.71200980392  </td><td>181573.27604166663  </td><td>60.0              </td><td>158961.70308123247 </td><td>642.0             </td><td>3.0               </td><td>0.0              </td><td>178405.7096069869 </td><td>182592.86046511628    </td><td>272.0            </td><td>1.0                </td><td>756.0             </td><td>178218.27472527474  </td><td>155036.52450980392    </td><td>179157.6651480638    </td><td>187920.61064425771</td><td>0.0                </td><td>147087.25059676042     </td><td>0.0               </td><td>185601.24938271602  </td><td>175531.83179723503 </td><td>143948.79679144386    </td><td>161376.63366336632    </td><td>204327.95765587135   </td><td>187300.52567237162  </td></tr>\n",
       "<tr><td>1      </td><td>216.0            </td><td>32.0              </td><td>158794.07093837534       </td><td>169568.25527903467   </td><td>1.0                </td><td>148549.72906403942  </td><td>2.0               </td><td>1.0               </td><td>204.0            </td><td>178187.36899563318</td><td>184861.0283687943   </td><td>161156.52450980392 </td><td>0.0              </td><td>10382.0           </td><td>180398.05693069307 </td><td>240.0             </td><td>2.0               </td><td>206633.03141361254</td><td>179857.76346604215  </td><td>1107.0            </td><td>201051.3968871595   </td><td>169309.44117647054    </td><td>176381.1217825312 </td><td>0.0               </td><td>184610.14950980392    </td><td>2090.0            </td><td>170822.7626262626 </td><td>2.0               </td><td>8.0               </td><td>7.0               </td><td>181805.66321243523</td><td>203633.455628685    </td><td>165751.57330498463 </td><td>167128.41844919784   </td><td>181115.23         </td><td>176671.8111111111 </td><td>171401.71038251367 </td><td>179414.41573033712</td><td>143747.87889273354 </td><td>184063.06872037915  </td><td>175715.7828162291    </td><td>243111.468058191    </td><td>184450.31335149863</td><td>1107.0           </td><td>154426.8646332607    </td><td>205118.42900418595   </td><td>180758.81264637003</td><td>178193.4967320261  </td><td>184788.65617433414  </td><td>0.0               </td><td>194850.58566088302</td><td>859.0             </td><td>140285.62820512822   </td><td>350.0             </td><td>1973.0            </td><td>200082.05082559335</td><td>224956.37657165958  </td><td>197366.52450980392  </td><td>80.0              </td><td>211491.75330396474 </td><td>484.0             </td><td>3.0               </td><td>0.0              </td><td>178405.7096069869 </td><td>156634.52450980392    </td><td>228.0            </td><td>1.0                </td><td>983.0             </td><td>178218.27472527474  </td><td>161352.02450980392    </td><td>163465.69117647054   </td><td>187920.61064425771</td><td>0.0                </td><td>171302.3622047244      </td><td>235.0             </td><td>185601.24938271602  </td><td>175531.83179723503 </td><td>201271.56721053383    </td><td>199413.65506535943    </td><td>204327.95765587135   </td><td>187300.52567237162  </td></tr>\n",
       "<tr><td>2      </td><td>140.0            </td><td>0.0               </td><td>156634.52450980392       </td><td>151828.55059676044   </td><td>1.0                </td><td>144486.10784313726  </td><td>1.0               </td><td>0.0               </td><td>4.0              </td><td>178187.36899563318</td><td>184861.0283687943   </td><td>139354.02450980392 </td><td>0.0              </td><td>7420.0            </td><td>180398.05693069307 </td><td>0.0               </td><td>1.0               </td><td>138313.57142857142</td><td>179857.76346604215  </td><td>1077.0            </td><td>201051.3968871595   </td><td>224699.7863950498     </td><td>170246.78240454075</td><td>0.0               </td><td>129965.77450980392    </td><td>1077.0            </td><td>170822.7626262626 </td><td>2.0               </td><td>10.0              </td><td>5.0               </td><td>128987.56617647059</td><td>122402.59593837534  </td><td>165751.57330498463 </td><td>151733.02861939298   </td><td>181115.23         </td><td>176671.8111111111 </td><td>171401.71038251367 </td><td>179414.41573033712</td><td>143747.87889273354 </td><td>184063.06872037915  </td><td>175715.7828162291    </td><td>157753.39249146762  </td><td>184450.31335149863</td><td>991.0            </td><td>154426.8646332607    </td><td>205118.42900418595   </td><td>180758.81264637003</td><td>178193.4967320261  </td><td>184788.65617433414  </td><td>0.0               </td><td>163981.4191419142 </td><td>851.0             </td><td>140285.62820512822   </td><td>0.0               </td><td>1939.0            </td><td>162484.5985098039 </td><td>128987.56617647059  </td><td>152316.52450980392  </td><td>50.0              </td><td>211491.75330396474 </td><td>205.0             </td><td>2.0               </td><td>0.0              </td><td>178405.7096069869 </td><td>182592.86046511628    </td><td>0.0              </td><td>2.0                </td><td>0.0               </td><td>127029.02450980392  </td><td>120621.97532947603    </td><td>179157.6651480638    </td><td>187920.61064425771</td><td>0.0                </td><td>171302.3622047244      </td><td>0.0               </td><td>194951.10784313726  </td><td>175531.83179723503 </td><td>201271.56721053383    </td><td>161376.63366336632    </td><td>141364.58360071303   </td><td>187300.52567237162  </td></tr>\n",
       "<tr><td>3      </td><td>832.0            </td><td>0.0               </td><td>199424.48842732972       </td><td>163767.73719637108   </td><td>0.0                </td><td>144486.10784313726  </td><td>2.0               </td><td>0.0               </td><td>112.0            </td><td>178187.36899563318</td><td>184861.0283687943   </td><td>138929.02450980392 </td><td>0.0              </td><td>6120.0            </td><td>180398.05693069307 </td><td>0.0               </td><td>1.0               </td><td>138313.57142857142</td><td>179857.76346604215  </td><td>854.0             </td><td>142532.16792065662  </td><td>168970.1659826721     </td><td>182972.00372328702</td><td>0.0               </td><td>129965.77450980392    </td><td>854.0             </td><td>170822.7626262626 </td><td>0.0               </td><td>16.0              </td><td>5.0               </td><td>181805.66321243523</td><td>122402.59593837534  </td><td>165751.57330498463 </td><td>154595.81798806478   </td><td>181115.23         </td><td>176671.8111111111 </td><td>171401.71038251367 </td><td>179414.41573033712</td><td>143747.87889273354 </td><td>184063.06872037915  </td><td>175715.7828162291    </td><td>157753.39249146762  </td><td>181956.919246646  </td><td>832.0            </td><td>165210.21498599442   </td><td>138671.58035714287   </td><td>180758.81264637003</td><td>178193.4967320261  </td><td>135344.4530812325   </td><td>0.0               </td><td>163981.4191419142 </td><td>0.0               </td><td>140285.62820512822   </td><td>0.0               </td><td>1991.0            </td><td>174581.3905098039 </td><td>121631.52450980392  </td><td>181573.27604166663  </td><td>51.0              </td><td>211491.75330396474 </td><td>576.0             </td><td>2.0               </td><td>0.0              </td><td>178405.7096069869 </td><td>182592.86046511628    </td><td>0.0              </td><td>1.0                </td><td>0.0               </td><td>178218.27472527474  </td><td>182279.02450980392    </td><td>179157.6651480638    </td><td>132608.82714138282</td><td>0.0                </td><td>171302.3622047244      </td><td>48.0              </td><td>185601.24938271602  </td><td>175531.83179723503 </td><td>143948.79679144386    </td><td>161376.63366336632    </td><td>204327.95765587135   </td><td>187300.52567237162  </td></tr>\n",
       "<tr><td>4      </td><td>426.0            </td><td>0.0               </td><td>158794.07093837534       </td><td>163767.73719637108   </td><td>1.0                </td><td>148549.72906403942  </td><td>2.0               </td><td>0.0               </td><td>0.0              </td><td>178187.36899563318</td><td>184861.0283687943   </td><td>151307.14950980392 </td><td>0.0              </td><td>11241.0           </td><td>180398.05693069307 </td><td>180.0             </td><td>1.0               </td><td>138313.57142857142</td><td>179857.76346604215  </td><td>1004.0            </td><td>201051.3968871595   </td><td>169309.44117647054    </td><td>169627.25564187934</td><td>0.0               </td><td>152080.32258672698    </td><td>1004.0            </td><td>170822.7626262626 </td><td>1.0               </td><td>17.0              </td><td>5.0               </td><td>181805.66321243523</td><td>170914.57205240175  </td><td>221371.6687405731  </td><td>154595.81798806478   </td><td>181115.23         </td><td>176671.8111111111 </td><td>171401.71038251367 </td><td>179414.41573033712</td><td>143747.87889273354 </td><td>184063.06872037915  </td><td>175715.7828162291    </td><td>203114.2504640024   </td><td>184450.31335149863</td><td>1004.0           </td><td>152433.73154105392   </td><td>205118.42900418595   </td><td>180758.81264637003</td><td>178193.4967320261  </td><td>184788.65617433414  </td><td>0.0               </td><td>194850.58566088302</td><td>578.0             </td><td>140285.62820512822   </td><td>700.0             </td><td>1970.0            </td><td>176369.09256535946</td><td>179984.77108433735  </td><td>181573.27604166663  </td><td>73.0              </td><td>211491.75330396474 </td><td>480.0             </td><td>2.0               </td><td>0.0              </td><td>178405.7096069869 </td><td>182592.86046511628    </td><td>0.0              </td><td>1.0                </td><td>0.0               </td><td>178218.27472527474  </td><td>155036.52450980392    </td><td>163465.69117647054   </td><td>187920.61064425771</td><td>0.0                </td><td>171302.3622047244      </td><td>0.0               </td><td>185601.24938271602  </td><td>175531.83179723503 </td><td>223156.8495098039     </td><td>161376.63366336632    </td><td>163241.9355717508    </td><td>187300.52567237162  </td></tr>\n",
       "<tr><td>5      </td><td>468.0            </td><td>0.0               </td><td>228607.89347532115       </td><td>209302.39072847684   </td><td>1.0                </td><td>222366.88205128204  </td><td>2.0               </td><td>1.0               </td><td>102.0            </td><td>178187.36899563318</td><td>184861.0283687943   </td><td>209272.21297134238 </td><td>0.0              </td><td>13695.0           </td><td>180398.05693069307 </td><td>0.0               </td><td>1.0               </td><td>138313.57142857142</td><td>179857.76346604215  </td><td>1114.0            </td><td>142532.16792065662  </td><td>224699.7863950498     </td><td>170246.78240454075</td><td>0.0               </td><td>189097.7776348039     </td><td>1114.0            </td><td>170822.7626262626 </td><td>0.0               </td><td>19.0              </td><td>6.0               </td><td>181805.66321243523</td><td>170914.57205240175  </td><td>177919.81360946747 </td><td>206602.9363057325    </td><td>181115.23         </td><td>176671.8111111111 </td><td>171401.71038251367 </td><td>179414.41573033712</td><td>143747.87889273354 </td><td>184063.06872037915  </td><td>175715.7828162291    </td><td>157753.39249146762  </td><td>184450.31335149863</td><td>1114.0           </td><td>204262.16064257032   </td><td>138671.58035714287   </td><td>180758.81264637003</td><td>178193.4967320261  </td><td>184788.65617433414  </td><td>0.0               </td><td>163981.4191419142 </td><td>646.0             </td><td>211880.81318681315   </td><td>0.0               </td><td>2004.0            </td><td>180372.69763480392</td><td>179984.77108433735  </td><td>150829.02450980392  </td><td>66.0              </td><td>211491.75330396474 </td><td>576.0             </td><td>3.0               </td><td>0.0              </td><td>178405.7096069869 </td><td>182592.86046511628    </td><td>0.0              </td><td>1.0                </td><td>0.0               </td><td>178218.27472527474  </td><td>205207.77450980392    </td><td>179157.6651480638    </td><td>187920.61064425771</td><td>0.0                </td><td>171302.3622047244      </td><td>0.0               </td><td>185601.24938271602  </td><td>175531.83179723503 </td><td>143948.79679144386    </td><td>161376.63366336632    </td><td>141364.58360071303   </td><td>187300.52567237162  </td></tr>\n",
       "<tr><td>6      </td><td>637.0            </td><td>0.0               </td><td>156634.52450980392       </td><td>163767.73719637108   </td><td>0.0                </td><td>222366.88205128204  </td><td>1.0               </td><td>0.0               </td><td>0.0              </td><td>178187.36899563318</td><td>184861.0283687943   </td><td>113752.02450980392 </td><td>0.0              </td><td>7449.0            </td><td>180398.05693069307 </td><td>0.0               </td><td>1.0               </td><td>138313.57142857142</td><td>179857.76346604215  </td><td>1108.0            </td><td>201051.3968871595   </td><td>168970.1659826721     </td><td>182972.00372328702</td><td>0.0               </td><td>112866.7168174962     </td><td>1108.0            </td><td>170822.7626262626 </td><td>1.0               </td><td>22.0              </td><td>6.0               </td><td>181805.66321243523</td><td>122402.59593837534  </td><td>177919.81360946747 </td><td>154595.81798806478   </td><td>181115.23         </td><td>176671.8111111111 </td><td>171401.71038251367 </td><td>179414.41573033712</td><td>143747.87889273354 </td><td>114840.96895424835  </td><td>163075.56297134238   </td><td>157753.39249146762  </td><td>181956.919246646  </td><td>637.0            </td><td>152433.73154105392   </td><td>219907.18575980392   </td><td>134607.54723707662</td><td>178193.4967320261  </td><td>100143.52450980392  </td><td>0.0               </td><td>163981.4191419142 </td><td>0.0               </td><td>211880.81318681315   </td><td>0.0               </td><td>1930.0            </td><td>180372.69763480392</td><td>121631.52450980392  </td><td>181573.27604166663  </td><td>57.0              </td><td>211491.75330396474 </td><td>280.0             </td><td>3.0               </td><td>0.0              </td><td>178405.7096069869 </td><td>182592.86046511628    </td><td>205.0            </td><td>1.0                </td><td>0.0               </td><td>178218.27472527474  </td><td>120621.97532947603    </td><td>179157.6651480638    </td><td>132608.82714138282</td><td>0.0                </td><td>171302.3622047244      </td><td>0.0               </td><td>185601.24938271602  </td><td>175531.83179723503 </td><td>143948.79679144386    </td><td>161376.63366336632    </td><td>204327.95765587135   </td><td>187300.52567237162  </td></tr>\n",
       "<tr><td>7      </td><td>520.0            </td><td>0.0               </td><td>156634.52450980392       </td><td>151828.55059676044   </td><td>0.0                </td><td>144486.10784313726  </td><td>1.0               </td><td>0.0               </td><td>0.0              </td><td>178187.36899563318</td><td>111601.52450980392  </td><td>84954.02450980392  </td><td>0.0              </td><td>6324.0            </td><td>180398.05693069307 </td><td>0.0               </td><td>1.0               </td><td>138313.57142857142</td><td>179857.76346604215  </td><td>520.0             </td><td>142532.16792065662  </td><td>168970.1659826721     </td><td>170246.78240454075</td><td>0.0               </td><td>129965.77450980392    </td><td>520.0             </td><td>170822.7626262626 </td><td>0.0               </td><td>30.0              </td><td>4.0               </td><td>181805.66321243523</td><td>170914.57205240175  </td><td>177919.81360946747 </td><td>151733.02861939298   </td><td>181115.23         </td><td>176671.8111111111 </td><td>171401.71038251367 </td><td>179414.41573033712</td><td>143747.87889273354 </td><td>184063.06872037915  </td><td>175715.7828162291    </td><td>157753.39249146762  </td><td>184450.31335149863</td><td>520.0            </td><td>154426.8646332607    </td><td>138671.58035714287   </td><td>180758.81264637003</td><td>178193.4967320261  </td><td>184788.65617433414  </td><td>0.0               </td><td>194850.58566088302</td><td>0.0               </td><td>105130.89950980392   </td><td>0.0               </td><td>1920.0            </td><td>166467.420736219  </td><td>104839.30228758167  </td><td>150223.0311764706   </td><td>60.0              </td><td>127694.14950980392 </td><td>240.0             </td><td>1.0               </td><td>0.0              </td><td>178405.7096069869 </td><td>182592.86046511628    </td><td>87.0             </td><td>1.0                </td><td>0.0               </td><td>84954.02450980392   </td><td>120621.97532947603    </td><td>179157.6651480638    </td><td>132608.82714138282</td><td>0.0                </td><td>171302.3622047244      </td><td>49.0              </td><td>134853.20367647058  </td><td>175531.83179723503 </td><td>143948.79679144386    </td><td>161376.63366336632    </td><td>117968.89687822496   </td><td>187300.52567237162  </td></tr>\n",
       "<tr><td>8      </td><td>1228.0           </td><td>0.0               </td><td>158794.07093837534       </td><td>169568.25527903467   </td><td>0.0                </td><td>148549.72906403942  </td><td>1.0               </td><td>1.0               </td><td>65.0             </td><td>178187.36899563318</td><td>184861.0283687943   </td><td>143043.02450980392 </td><td>0.0              </td><td>8544.0            </td><td>180398.05693069307 </td><td>0.0               </td><td>1.0               </td><td>138313.57142857142</td><td>179857.76346604215  </td><td>1228.0            </td><td>201051.3968871595   </td><td>168970.1659826721     </td><td>170246.78240454075</td><td>0.0               </td><td>143162.40700980392    </td><td>1228.0            </td><td>170822.7626262626 </td><td>0.0               </td><td>32.0              </td><td>6.0               </td><td>181805.66321243523</td><td>170914.57205240175  </td><td>221371.6687405731  </td><td>167128.41844919784   </td><td>181115.23         </td><td>176671.8111111111 </td><td>171401.71038251367 </td><td>179414.41573033712</td><td>143747.87889273354 </td><td>184063.06872037915  </td><td>175715.7828162291    </td><td>157753.39249146762  </td><td>151206.9049445865 </td><td>1228.0           </td><td>154426.8646332607    </td><td>138671.58035714287   </td><td>180758.81264637003</td><td>178193.4967320261  </td><td>184788.65617433414  </td><td>0.0               </td><td>194850.58566088302</td><td>0.0               </td><td>211880.81318681315   </td><td>0.0               </td><td>1966.0            </td><td>180372.69763480392</td><td>179984.77108433735  </td><td>181573.27604166663  </td><td>71.0              </td><td>158961.70308123247 </td><td>271.0             </td><td>3.0               </td><td>0.0              </td><td>178405.7096069869 </td><td>182592.86046511628    </td><td>0.0              </td><td>1.0                </td><td>0.0               </td><td>178218.27472527474  </td><td>217804.1370098039     </td><td>179157.6651480638    </td><td>187920.61064425771</td><td>0.0                </td><td>171302.3622047244      </td><td>0.0               </td><td>185601.24938271602  </td><td>175531.83179723503 </td><td>143948.79679144386    </td><td>161376.63366336632    </td><td>141364.58360071303   </td><td>187300.52567237162  </td></tr>\n",
       "<tr><td>9      </td><td>1097.0           </td><td>0.0               </td><td>199424.48842732972       </td><td>209302.39072847684   </td><td>0.0                </td><td>222366.88205128204  </td><td>2.0               </td><td>1.0               </td><td>64.0             </td><td>178187.36899563318</td><td>184861.0283687943   </td><td>194604.02450980392 </td><td>0.0              </td><td>10859.0           </td><td>180398.05693069307 </td><td>0.0               </td><td>1.0               </td><td>206633.03141361254</td><td>179857.76346604215  </td><td>1097.0            </td><td>201051.3968871595   </td><td>168970.1659826721     </td><td>176381.1217825312 </td><td>0.0               </td><td>190019.77971813726    </td><td>1097.0            </td><td>170822.7626262626 </td><td>0.0               </td><td>37.0              </td><td>6.0               </td><td>181805.66321243523</td><td>170914.57205240175  </td><td>165751.57330498463 </td><td>206602.9363057325    </td><td>181115.23         </td><td>176671.8111111111 </td><td>171401.71038251367 </td><td>179414.41573033712</td><td>143747.87889273354 </td><td>184063.06872037915  </td><td>175715.7828162291    </td><td>157753.39249146762  </td><td>184450.31335149863</td><td>1097.0           </td><td>204262.16064257032   </td><td>138671.58035714287   </td><td>180758.81264637003</td><td>178193.4967320261  </td><td>184788.65617433414  </td><td>0.0               </td><td>163981.4191419142 </td><td>0.0               </td><td>140285.62820512822   </td><td>0.0               </td><td>1995.0            </td><td>180372.69763480392</td><td>179984.77108433735  </td><td>181573.27604166663  </td><td>112.0             </td><td>211491.75330396474 </td><td>672.0             </td><td>3.0               </td><td>0.0              </td><td>178405.7096069869 </td><td>182592.86046511628    </td><td>0.0              </td><td>1.0                </td><td>0.0               </td><td>178218.27472527474  </td><td>204733.19117647054    </td><td>179157.6651480638    </td><td>187920.61064425771</td><td>0.0                </td><td>171302.3622047244      </td><td>392.0             </td><td>185601.24938271602  </td><td>175531.83179723503 </td><td>143948.79679144386    </td><td>161376.63366336632    </td><td>141364.58360071303   </td><td>187300.52567237162  </td></tr>\n",
       "</tbody>\n",
       "</table>"
      ]
     },
     "metadata": {},
     "output_type": "display_data"
    },
    {
     "name": "stdout",
     "output_type": "stream",
     "text": [
      "--------------------------------------------------------------------------------\n",
      "Imputed and encoded numeric test data:\n",
      "Rows:1459\n",
      "Cols:81\n",
      "\n",
      "\n"
     ]
    },
    {
     "data": {
      "text/html": [
       "<table>\n",
       "<thead>\n",
       "<tr><th>       </th><th>BsmtUnfSF        </th><th>BsmtFinSF2        </th><th>GarageYrBltBins_Tencode  </th><th>Exterior2nd_Tencode  </th><th>BsmtFullBath      </th><th>Foundation_Tencode  </th><th>GarageCars        </th><th>HalfBath          </th><th>OpenPorchSF      </th><th>PoolQC_Tencode    </th><th>CentralAir_Tencode  </th><th>YearBuilt_Tencode  </th><th>LowQualFinSF     </th><th>LotArea          </th><th>ExterCond_Tencode  </th><th>MasVnrArea        </th><th>FullBath          </th><th>BsmtQual_Tencode  </th><th>Functional_Tencode  </th><th>1stFlrSF          </th><th>GarageType_Tencode  </th><th>BsmtFinType1_Tencode  </th><th>YrSold_Tencode    </th><th>PoolArea          </th><th>Neighborhood_Tencode  </th><th>GrLivArea         </th><th>SaleType_Tencode  </th><th>Fireplaces        </th><th>Id                </th><th>TotRmsAbvGrd      </th><th>BldgType_Tencode  </th><th>HouseStyle_Tencode  </th><th>LotConfig_Tencode  </th><th>Exterior1st_Tencode  </th><th>BsmtCond_Tencode  </th><th>RoofMatl_Tencode  </th><th>RoofStyle_Tencode  </th><th>Heating_Tencode   </th><th>ExterQual_Tencode  </th><th>PavedDrive_Tencode  </th><th>LandContour_Tencode  </th><th>MasVnrType_Tencode  </th><th>Fence_Tencode     </th><th>TotalBsmtSF       </th><th>OverallCond_Tencode  </th><th>FireplaceQu_Tencode  </th><th>Alley_Tencode     </th><th>Utilities_Tencode  </th><th>Electrical_Tencode  </th><th>ScreenPorch       </th><th>LotShape_Tencode  </th><th>BsmtFinSF1        </th><th>KitchenQual_Tencode  </th><th>MiscVal          </th><th>GarageYrBlt       </th><th>MoSold_Tencode    </th><th>MSSubClass_Tencode  </th><th>Condition1_Tencode  </th><th>LotFrontage      </th><th>HeatingQC_Tencode  </th><th>GarageArea        </th><th>BedroomAbvGr      </th><th>3SsnPorch         </th><th>Street_Tencode   </th><th>BsmtFinType2_Tencode  </th><th>EnclosedPorch     </th><th>KitchenAbvGr      </th><th>2ndFlrSF          </th><th>Condition2_Tencode  </th><th>YearRemodAdd_Tencode  </th><th>MiscFeature_Tencode  </th><th>MSZoning_Tencode  </th><th>BsmtHalfBath      </th><th>SaleCondition_Tencode  </th><th>WoodDeckSF       </th><th>GarageQual_Tencode  </th><th>LandSlope_Tencode  </th><th>GarageFinish_Tencode  </th><th>BsmtExposure_Tencode  </th><th>OverallQual_Tencode  </th><th>GarageCond_Tencode  </th></tr>\n",
       "</thead>\n",
       "<tbody>\n",
       "<tr><td>type   </td><td>int              </td><td>int               </td><td>real                     </td><td>real                 </td><td>int               </td><td>real                </td><td>int               </td><td>int               </td><td>int              </td><td>real              </td><td>real                </td><td>real               </td><td>int              </td><td>int              </td><td>real               </td><td>int               </td><td>int               </td><td>real              </td><td>real                </td><td>int               </td><td>real                </td><td>real                  </td><td>real              </td><td>int               </td><td>real                  </td><td>int               </td><td>real              </td><td>int               </td><td>int               </td><td>int               </td><td>real              </td><td>real                </td><td>real               </td><td>real                 </td><td>real              </td><td>real              </td><td>real               </td><td>real              </td><td>real               </td><td>real                </td><td>real                 </td><td>real                </td><td>real              </td><td>int               </td><td>real                 </td><td>real                 </td><td>real              </td><td>real               </td><td>real                </td><td>int               </td><td>real              </td><td>int               </td><td>real                 </td><td>int              </td><td>int               </td><td>real              </td><td>real                </td><td>real                </td><td>real             </td><td>real               </td><td>int               </td><td>int               </td><td>int               </td><td>real             </td><td>real                  </td><td>int               </td><td>int               </td><td>int               </td><td>real                </td><td>real                  </td><td>real                 </td><td>real              </td><td>int               </td><td>real                   </td><td>int              </td><td>real                </td><td>real               </td><td>real                  </td><td>real                  </td><td>real                 </td><td>real                </td></tr>\n",
       "<tr><td>mins   </td><td>0.0              </td><td>0.0               </td><td>139136.05102495544       </td><td>106204.02450980392   </td><td>0.0               </td><td>110363.31736694675  </td><td>0.0               </td><td>0.0               </td><td>0.0              </td><td>178187.36899563318</td><td>111601.52450980392  </td><td>79514.02450980392  </td><td>0.0              </td><td>1470.0           </td><td>91754.02450980392  </td><td>0.0               </td><td>0.0               </td><td>107897.15367647057</td><td>84954.02450980392   </td><td>407.0             </td><td>108352.20632798571  </td><td>107897.15367647057    </td><td>169627.25564187934</td><td>0.0               </td><td>112866.7168174962     </td><td>407.0             </td><td>107734.02450980392</td><td>0.0               </td><td>1461.0            </td><td>3.0               </td><td>128987.56617647059</td><td>122402.59593837534  </td><td>165751.57330498463 </td><td>96429.02450980392    </td><td>78579.02450980392 </td><td>175904.02450980392</td><td>139864.02450980392 </td><td>77729.02450980392 </td><td>91042.14950980392  </td><td>114840.96895424835  </td><td>163075.56297134238   </td><td>131576.52450980392  </td><td>133419.96200980392</td><td>0.0               </td><td>78579.02450980392    </td><td>133191.52450980392   </td><td>134607.54723707662</td><td>178193.4967320261  </td><td>100143.52450980392  </td><td>0.0               </td><td>163981.4191419142 </td><td>0.0               </td><td>105130.89950980392   </td><td>0.0              </td><td>0.0               </td><td>162484.5985098039 </td><td>95012.35784313723   </td><td>150223.0311764706   </td><td>21.0             </td><td>100679.02450980392 </td><td>0.0               </td><td>0.0               </td><td>0.0               </td><td>95579.02450980392</td><td>107897.15367647057    </td><td>0.0               </td><td>0.0               </td><td>0.0               </td><td>127029.02450980392  </td><td>120621.97532947603    </td><td>73479.02450980392    </td><td>118217.35784313723</td><td>0.0               </td><td>143816.52450980392     </td><td>0.0              </td><td>108352.20632798571  </td><td>175531.83179723503 </td><td>108352.20632798571    </td><td>107897.15367647057    </td><td>69356.52450980392    </td><td>108352.20632798571  </td></tr>\n",
       "<tr><td>mean   </td><td>553.9150102810141</td><td>52.583276216586704</td><td>170002.81029859162       </td><td>180995.2353182519    </td><td>0.4344543582704184</td><td>181006.29018575946  </td><td>1.7649074708704602</td><td>0.3776559287183003</td><td>48.31391363947919</td><td>178187.38159550258</td><td>179789.60281035848  </td><td>178184.3114298014  </td><td>3.543522960932145</td><td>9819.161069225516</td><td>178138.292477274   </td><td>99.67374914324867 </td><td>1.570938999314599 </td><td>178942.1349335839 </td><td>178383.03720943822  </td><td>1156.5346127484572</td><td>182701.64309087777  </td><td>180068.38187120648    </td><td>178138.41592993547</td><td>1.7443454420836189</td><td>179660.9318538107     </td><td>1486.0459218642889</td><td>175933.1071534588 </td><td>0.5812200137080195</td><td>2190.0            </td><td>6.3851953392734755</td><td>178370.3696551594 </td><td>176296.0327526845   </td><td>178278.00897433673 </td><td>179810.686881209     </td><td>177115.4641081019 </td><td>176751.7532061534 </td><td>177370.70371664243 </td><td>179140.34833949347</td><td>177673.68837649445 </td><td>177090.1544055946   </td><td>179174.2263375262    </td><td>178146.24432411807  </td><td>179260.15082329372</td><td>1046.1179698216752</td><td>181638.3138716565    </td><td>174678.31798555847   </td><td>178550.03252320114</td><td>178193.4967320261  </td><td>180126.11931528134  </td><td>17.064427690198773</td><td>176844.08363718318</td><td>438.9026730637427 </td><td>179340.39624644505   </td><td>58.16792323509254</td><td>1871.9897189856056</td><td>178570.99134392996</td><td>177704.83404990312  </td><td>179939.77372747503  </td><td>68.9551062371488 </td><td>182227.81273899996 </td><td>472.4448252227548 </td><td>2.8540095956134333</td><td>1.794379712131597 </td><td>178065.0926703297</td><td>178665.96855634326    </td><td>24.243317340644285</td><td>1.0424948594928027</td><td>325.9677861549004 </td><td>178369.39980873468  </td><td>176730.68322763144    </td><td>178536.70969509304   </td><td>179232.0904301915 </td><td>0.0652024708304736</td><td>176492.09637795304     </td><td>93.17477724468819</td><td>178833.85891178728  </td><td>177395.21920765375 </td><td>177253.37457383898    </td><td>177234.88905514343    </td><td>181143.66379652923   </td><td>180887.13312920654  </td></tr>\n",
       "<tr><td>maxs   </td><td>2140.0           </td><td>1526.0            </td><td>199424.48842732972       </td><td>237481.8022875817    </td><td>3.0               </td><td>222366.88205128204  </td><td>5.0               </td><td>2.0               </td><td>742.0            </td><td>178193.4967320261 </td><td>184861.0283687943   </td><td>331964.0245098039  </td><td>1064.0           </td><td>56600.0          </td><td>197862.35784313726 </td><td>1290.0            </td><td>4.0               </td><td>287410.74022408965</td><td>181312.14950980392  </td><td>5095.0            </td><td>243247.17284313726  </td><td>224699.7863950498     </td><td>186970.48567051822</td><td>800.0             </td><td>288359.0245098039     </td><td>5095.0            </td><td>255001.6042717087 </td><td>4.0               </td><td>2919.0            </td><td>15.0              </td><td>183943.1995098039 </td><td>203633.455628685    </td><td>221371.6687405731  </td><td>230256.21200980392   </td><td>204324.73418722322</td><td>296434.0245098039 </td><td>205162.1274859944  </td><td>179414.41573033712</td><td>311103.9129713424  </td><td>184063.06872037915  </td><td>252389.9995098039    </td><td>243111.468058191    </td><td>184450.31335149863</td><td>5095.0            </td><td>236726.2467320261    </td><td>345181.5245098039    </td><td>180974.4445098039 </td><td>178193.4967320261  </td><td>184788.65617433414  </td><td>576.0             </td><td>257372.27450980392</td><td>4010.0            </td><td>307728.63562091504   </td><td>17000.0          </td><td>2207.0            </td><td>200082.05082559335</td><td>224956.37657165958  </td><td>311479.0245098039   </td><td>200.0            </td><td>211491.75330396474 </td><td>1488.0            </td><td>6.0               </td><td>360.0             </td><td>178405.7096069869</td><td>194068.52450980392    </td><td>1012.0            </td><td>2.0               </td><td>1862.0            </td><td>302979.0245098039   </td><td>273645.3828431372     </td><td>188229.02450980392   </td><td>219311.6970098039 </td><td>2.0               </td><td>255001.6042717087      </td><td>1424.0           </td><td>194951.10784313726  </td><td>219485.84269162212 </td><td>223156.8495098039     </td><td>252970.21398348815    </td><td>369297.8945098039    </td><td>187300.52567237162  </td></tr>\n",
       "<tr><td>sigma  </td><td>437.3513241096486</td><td>176.6986705850261 </td><td>19244.744163326824       </td><td>25951.286853243673   </td><td>0.5306475357080623</td><td>38032.67490944731   </td><td>0.7770557771054145</td><td>0.5030166769415861</td><td>68.88336411315396</td><td>0.2776738495325187</td><td>18602.363953739627  </td><td>46552.401284272695 </td><td>44.04325086437556</td><td>4955.517326926451</td><td>13372.261749177289 </td><td>177.00179159577831</td><td>0.5551898880356613</td><td>48552.82922823181 </td><td>7764.753398575101   </td><td>398.16581959237874</td><td>34696.99414034791   </td><td>31074.332692622134    </td><td>6672.392547342386 </td><td>30.491646305342066</td><td>48658.8290868911      </td><td>485.5660986532532 </td><td>24826.258639866202</td><td>0.6474204530720105</td><td>421.32133421732476</td><td>1.5088945751925396</td><td>11421.92229037309 </td><td>20533.377591439952  </td><td>11456.730191238732 </td><td>27215.585184717413   </td><td>18416.204155714877</td><td>3137.235960973218 </td><td>13409.55977987675  </td><td>4120.712522628474 </td><td>48363.33170083524  </td><td>20263.25653257761   </td><td>16731.149524355016   </td><td>28384.824139871405  </td><td>11743.043122261108</td><td>442.89862416784206</td><td>29339.674195109288   </td><td>41931.78957638678    </td><td>9868.109461036458 </td><td>0.0                </td><td>15963.223969023644  </td><td>56.609762906910575</td><td>19890.637189969897</td><td>455.25711858126164</td><td>50064.36965926008    </td><td>630.806977589708 </td><td>445.78611753041713</td><td>8523.644517243943 </td><td>32301.2058169479    </td><td>15269.946772589565  </td><td>20.99909053910434</td><td>30689.890057024273 </td><td>217.32690210578195</td><td>0.8297883627354514</td><td>20.207841751496495</td><td>5302.397777524543</td><td>14021.1874493847      </td><td>67.22776541956965 </td><td>0.2084716721132495</td><td>420.61022646910345</td><td>6115.230699170744   </td><td>38062.468024576185    </td><td>4782.455327633695    </td><td>23489.406573197444</td><td>0.2524682621647407</td><td>24614.448808109875     </td><td>127.744881519076 </td><td>20266.41566502196   </td><td>8806.02800442614   </td><td>37599.99853102868     </td><td>31365.106075644642    </td><td>57004.8706645638     </td><td>20818.988716246073  </td></tr>\n",
       "<tr><td>zeros  </td><td>124              </td><td>1279              </td><td>0                        </td><td>0                    </td><td>849               </td><td>0                   </td><td>77                </td><td>921               </td><td>642              </td><td>0                 </td><td>0                   </td><td>0                  </td><td>1445             </td><td>0                </td><td>0                  </td><td>892               </td><td>3                 </td><td>0                 </td><td>0                   </td><td>0                 </td><td>0                   </td><td>0                     </td><td>0                 </td><td>1453              </td><td>0                     </td><td>0                 </td><td>0                 </td><td>730               </td><td>0                 </td><td>0                 </td><td>0                 </td><td>0                   </td><td>0                  </td><td>0                    </td><td>0                 </td><td>0                 </td><td>0                  </td><td>0                 </td><td>0                  </td><td>0                   </td><td>0                    </td><td>0                   </td><td>0                 </td><td>41                </td><td>0                    </td><td>0                    </td><td>0                 </td><td>0                  </td><td>0                   </td><td>1319              </td><td>0                 </td><td>463               </td><td>0                    </td><td>1408             </td><td>78                </td><td>0                 </td><td>0                   </td><td>0                   </td><td>0                </td><td>0                  </td><td>77                </td><td>2                 </td><td>1446              </td><td>0                </td><td>0                     </td><td>1208              </td><td>2                 </td><td>839               </td><td>0                   </td><td>0                     </td><td>0                    </td><td>0                 </td><td>1364              </td><td>0                      </td><td>762              </td><td>0                   </td><td>0                  </td><td>0                     </td><td>0                     </td><td>0                    </td><td>0                   </td></tr>\n",
       "<tr><td>missing</td><td>0                </td><td>0                 </td><td>0                        </td><td>0                    </td><td>2                 </td><td>0                   </td><td>0                 </td><td>0                 </td><td>0                </td><td>0                 </td><td>0                   </td><td>0                  </td><td>0                </td><td>0                </td><td>0                  </td><td>0                 </td><td>0                 </td><td>0                 </td><td>0                   </td><td>0                 </td><td>0                   </td><td>0                     </td><td>0                 </td><td>0                 </td><td>0                     </td><td>0                 </td><td>0                 </td><td>0                 </td><td>0                 </td><td>0                 </td><td>0                 </td><td>0                   </td><td>0                  </td><td>0                    </td><td>0                 </td><td>0                 </td><td>0                  </td><td>0                 </td><td>0                  </td><td>0                   </td><td>0                    </td><td>0                   </td><td>0                 </td><td>1                 </td><td>0                    </td><td>0                    </td><td>0                 </td><td>0                  </td><td>0                   </td><td>0                 </td><td>0                 </td><td>0                 </td><td>0                    </td><td>0                </td><td>0                 </td><td>0                 </td><td>0                   </td><td>0                   </td><td>0                </td><td>0                  </td><td>0                 </td><td>0                 </td><td>0                 </td><td>0                </td><td>0                     </td><td>0                 </td><td>0                 </td><td>0                 </td><td>0                   </td><td>0                     </td><td>0                    </td><td>0                 </td><td>2                 </td><td>0                      </td><td>0                </td><td>0                   </td><td>0                  </td><td>0                     </td><td>0                     </td><td>0                    </td><td>0                   </td></tr>\n",
       "<tr><td>0      </td><td>270.0            </td><td>144.0             </td><td>158794.07093837534       </td><td>209302.39072847684   </td><td>0.0               </td><td>148549.72906403942  </td><td>1.0               </td><td>0.0               </td><td>0.0              </td><td>178187.36899563318</td><td>184861.0283687943   </td><td>136209.02450980392 </td><td>0.0              </td><td>11622.0          </td><td>180398.05693069307 </td><td>0.0               </td><td>1.0               </td><td>138313.57142857142</td><td>179857.76346604215  </td><td>896.0             </td><td>201051.3968871595   </td><td>156012.9060887513     </td><td>169627.25564187934</td><td>0.0               </td><td>152080.32258672698    </td><td>896.0             </td><td>170822.7626262626 </td><td>0.0               </td><td>1461.0            </td><td>5.0               </td><td>181805.66321243523</td><td>170914.57205240175  </td><td>177919.81360946747 </td><td>206602.9363057325    </td><td>181115.23         </td><td>176671.8111111111 </td><td>171401.71038251367 </td><td>179414.41573033712</td><td>143747.87889273354 </td><td>184063.06872037915  </td><td>175715.7828162291    </td><td>157753.39249146762  </td><td>151206.9049445865 </td><td>882.0             </td><td>154426.8646332607    </td><td>138671.58035714287   </td><td>180758.81264637003</td><td>178193.4967320261  </td><td>184788.65617433414  </td><td>120.0             </td><td>163981.4191419142 </td><td>468.0             </td><td>140285.62820512822   </td><td>0.0              </td><td>1961.0            </td><td>180372.69763480392</td><td>179984.77108433735  </td><td>150223.0311764706   </td><td>80.0             </td><td>149413.2797336845  </td><td>730.0             </td><td>2.0               </td><td>0.0               </td><td>178405.7096069869</td><td>168862.10143288082    </td><td>0.0               </td><td>1.0               </td><td>0.0               </td><td>178218.27472527474  </td><td>135104.02450980392    </td><td>179157.6651480638    </td><td>134962.35784313726</td><td>0.0               </td><td>171302.3622047244      </td><td>140.0            </td><td>185601.24938271602  </td><td>175531.83179723503 </td><td>143948.79679144386    </td><td>161376.63366336632    </td><td>141364.58360071303   </td><td>187300.52567237162  </td></tr>\n",
       "<tr><td>1      </td><td>406.0            </td><td>0.0               </td><td>139136.05102495544       </td><td>163767.73719637108   </td><td>0.0               </td><td>148549.72906403942  </td><td>1.0               </td><td>1.0               </td><td>36.0             </td><td>178187.36899563318</td><td>184861.0283687943   </td><td>140204.02450980392 </td><td>0.0              </td><td>14267.0          </td><td>180398.05693069307 </td><td>108.0             </td><td>1.0               </td><td>138313.57142857142</td><td>179857.76346604215  </td><td>1329.0            </td><td>201051.3968871595   </td><td>169309.44117647054    </td><td>169627.25564187934</td><td>0.0               </td><td>152080.32258672698    </td><td>1329.0            </td><td>170822.7626262626 </td><td>0.0               </td><td>1462.0            </td><td>6.0               </td><td>181805.66321243523</td><td>170914.57205240175  </td><td>165751.57330498463 </td><td>154595.81798806478   </td><td>181115.23         </td><td>176671.8111111111 </td><td>205162.1274859944  </td><td>179414.41573033712</td><td>143747.87889273354 </td><td>184063.06872037915  </td><td>175715.7828162291    </td><td>203114.2504640024   </td><td>184450.31335149863</td><td>1329.0            </td><td>154426.8646332607    </td><td>138671.58035714287   </td><td>180758.81264637003</td><td>178193.4967320261  </td><td>184788.65617433414  </td><td>0.0               </td><td>194850.58566088302</td><td>923.0             </td><td>211880.81318681315   </td><td>12500.0          </td><td>1958.0            </td><td>180372.69763480392</td><td>179984.77108433735  </td><td>181573.27604166663  </td><td>81.0             </td><td>149413.2797336845  </td><td>312.0             </td><td>3.0               </td><td>0.0               </td><td>178405.7096069869</td><td>182592.86046511628    </td><td>0.0               </td><td>1.0               </td><td>0.0               </td><td>178218.27472527474  </td><td>127029.02450980392    </td><td>188229.02450980392   </td><td>187920.61064425771</td><td>0.0               </td><td>171302.3622047244      </td><td>393.0            </td><td>185601.24938271602  </td><td>175531.83179723503 </td><td>143948.79679144386    </td><td>161376.63366336632    </td><td>163241.9355717508    </td><td>187300.52567237162  </td></tr>\n",
       "<tr><td>2      </td><td>137.0            </td><td>0.0               </td><td>199424.48842732972       </td><td>209302.39072847684   </td><td>0.0               </td><td>222366.88205128204  </td><td>2.0               </td><td>1.0               </td><td>34.0             </td><td>178187.36899563318</td><td>184861.0283687943   </td><td>229709.02450980392 </td><td>0.0              </td><td>13830.0          </td><td>180398.05693069307 </td><td>0.0               </td><td>2.0               </td><td>206633.03141361254</td><td>179857.76346604215  </td><td>928.0             </td><td>201051.3968871595   </td><td>224699.7863950498     </td><td>169627.25564187934</td><td>0.0               </td><td>191808.05969498912    </td><td>1629.0            </td><td>170822.7626262626 </td><td>1.0               </td><td>1463.0            </td><td>6.0               </td><td>181805.66321243523</td><td>203633.455628685    </td><td>177919.81360946747 </td><td>206602.9363057325    </td><td>181115.23         </td><td>176671.8111111111 </td><td>171401.71038251367 </td><td>179414.41573033712</td><td>143747.87889273354 </td><td>184063.06872037915  </td><td>175715.7828162291    </td><td>157753.39249146762  </td><td>151206.9049445865 </td><td>928.0             </td><td>204262.16064257032   </td><td>205118.42900418595   </td><td>180758.81264637003</td><td>178193.4967320261  </td><td>184788.65617433414  </td><td>0.0               </td><td>194850.58566088302</td><td>791.0             </td><td>140285.62820512822   </td><td>0.0              </td><td>1997.0            </td><td>176369.09256535946</td><td>224956.37657165958  </td><td>181573.27604166663  </td><td>74.0             </td><td>158961.70308123247 </td><td>482.0             </td><td>3.0               </td><td>0.0               </td><td>178405.7096069869</td><td>182592.86046511628    </td><td>0.0               </td><td>1.0               </td><td>701.0             </td><td>178218.27472527474  </td><td>214984.4091251885     </td><td>179157.6651480638    </td><td>187920.61064425771</td><td>0.0               </td><td>171302.3622047244      </td><td>212.0            </td><td>185601.24938271602  </td><td>175531.83179723503 </td><td>223156.8495098039     </td><td>161376.63366336632    </td><td>141364.58360071303   </td><td>187300.52567237162  </td></tr>\n",
       "<tr><td>3      </td><td>324.0            </td><td>0.0               </td><td>199424.48842732972       </td><td>209302.39072847684   </td><td>0.0               </td><td>222366.88205128204  </td><td>2.0               </td><td>1.0               </td><td>36.0             </td><td>178187.36899563318</td><td>184861.0283687943   </td><td>225483.31022408963 </td><td>0.0              </td><td>9978.0           </td><td>180398.05693069307 </td><td>20.0              </td><td>2.0               </td><td>138313.57142857142</td><td>179857.76346604215  </td><td>926.0             </td><td>201051.3968871595   </td><td>224699.7863950498     </td><td>169627.25564187934</td><td>0.0               </td><td>191808.05969498912    </td><td>1604.0            </td><td>170822.7626262626 </td><td>1.0               </td><td>1464.0            </td><td>7.0               </td><td>181805.66321243523</td><td>203633.455628685    </td><td>177919.81360946747 </td><td>206602.9363057325    </td><td>181115.23         </td><td>176671.8111111111 </td><td>171401.71038251367 </td><td>179414.41573033712</td><td>143747.87889273354 </td><td>184063.06872037915  </td><td>175715.7828162291    </td><td>203114.2504640024   </td><td>184450.31335149863</td><td>926.0             </td><td>154426.8646332607    </td><td>219907.18575980392   </td><td>180758.81264637003</td><td>178193.4967320261  </td><td>184788.65617433414  </td><td>0.0               </td><td>194850.58566088302</td><td>602.0             </td><td>211880.81318681315   </td><td>0.0              </td><td>1998.0            </td><td>180372.69763480392</td><td>224956.37657165958  </td><td>181573.27604166663  </td><td>78.0             </td><td>211491.75330396474 </td><td>470.0             </td><td>3.0               </td><td>0.0               </td><td>178405.7096069869</td><td>182592.86046511628    </td><td>0.0               </td><td>1.0               </td><td>678.0             </td><td>178218.27472527474  </td><td>214984.4091251885     </td><td>179157.6651480638    </td><td>187920.61064425771</td><td>0.0               </td><td>171302.3622047244      </td><td>360.0            </td><td>185601.24938271602  </td><td>175531.83179723503 </td><td>223156.8495098039     </td><td>161376.63366336632    </td><td>163241.9355717508    </td><td>187300.52567237162  </td></tr>\n",
       "<tr><td>4      </td><td>1017.0           </td><td>0.0               </td><td>199424.48842732972       </td><td>169568.25527903467   </td><td>0.0               </td><td>222366.88205128204  </td><td>2.0               </td><td>0.0               </td><td>82.0             </td><td>178187.36899563318</td><td>184861.0283687943   </td><td>220383.31022408963 </td><td>0.0              </td><td>5005.0           </td><td>180398.05693069307 </td><td>0.0               </td><td>2.0               </td><td>206633.03141361254</td><td>179857.76346604215  </td><td>1280.0            </td><td>201051.3968871595   </td><td>169309.44117647054    </td><td>169627.25564187934</td><td>0.0               </td><td>288359.0245098039     </td><td>1280.0            </td><td>170822.7626262626 </td><td>0.0               </td><td>1465.0            </td><td>5.0               </td><td>183943.1995098039 </td><td>170914.57205240175  </td><td>177919.81360946747 </td><td>167128.41844919784   </td><td>181115.23         </td><td>176671.8111111111 </td><td>171401.71038251367 </td><td>179414.41573033712</td><td>228065.58659034083 </td><td>184063.06872037915  </td><td>252389.9995098039    </td><td>157753.39249146762  </td><td>184450.31335149863</td><td>1280.0            </td><td>204262.16064257032   </td><td>138671.58035714287   </td><td>180758.81264637003</td><td>178193.4967320261  </td><td>184788.65617433414  </td><td>144.0             </td><td>194850.58566088302</td><td>263.0             </td><td>211880.81318681315   </td><td>0.0              </td><td>1992.0            </td><td>162484.5985098039 </td><td>203696.34858387802  </td><td>181573.27604166663  </td><td>43.0             </td><td>211491.75330396474 </td><td>506.0             </td><td>2.0               </td><td>0.0               </td><td>178405.7096069869</td><td>182592.86046511628    </td><td>0.0               </td><td>1.0               </td><td>0.0               </td><td>178218.27472527474  </td><td>173815.45308123247    </td><td>179157.6651480638    </td><td>187920.61064425771</td><td>0.0               </td><td>171302.3622047244      </td><td>0.0              </td><td>185601.24938271602  </td><td>175531.83179723503 </td><td>201271.56721053383    </td><td>161376.63366336632    </td><td>270500.82275541796   </td><td>187300.52567237162  </td></tr>\n",
       "<tr><td>5      </td><td>763.0            </td><td>0.0               </td><td>199424.48842732972       </td><td>169568.25527903467   </td><td>0.0               </td><td>222366.88205128204  </td><td>2.0               </td><td>1.0               </td><td>84.0             </td><td>178187.36899563318</td><td>184861.0283687943   </td><td>190835.69117647054 </td><td>0.0              </td><td>10000.0          </td><td>180398.05693069307 </td><td>0.0               </td><td>2.0               </td><td>206633.03141361254</td><td>179857.76346604215  </td><td>763.0             </td><td>201051.3968871595   </td><td>168970.1659826721     </td><td>169627.25564187934</td><td>0.0               </td><td>191808.05969498912    </td><td>1655.0            </td><td>170822.7626262626 </td><td>1.0               </td><td>1466.0            </td><td>7.0               </td><td>181805.66321243523</td><td>203633.455628685    </td><td>165751.57330498463 </td><td>167128.41844919784   </td><td>181115.23         </td><td>176671.8111111111 </td><td>171401.71038251367 </td><td>179414.41573033712</td><td>143747.87889273354 </td><td>184063.06872037915  </td><td>175715.7828162291    </td><td>157753.39249146762  </td><td>184450.31335149863</td><td>763.0             </td><td>204262.16064257032   </td><td>205118.42900418595   </td><td>180758.81264637003</td><td>178193.4967320261  </td><td>184788.65617433414  </td><td>0.0               </td><td>194850.58566088302</td><td>0.0               </td><td>140285.62820512822   </td><td>0.0              </td><td>1993.0            </td><td>175953.87961184472</td><td>224956.37657165958  </td><td>181573.27604166663  </td><td>75.0             </td><td>158961.70308123247 </td><td>440.0             </td><td>3.0               </td><td>0.0               </td><td>178405.7096069869</td><td>182592.86046511628    </td><td>0.0               </td><td>1.0               </td><td>892.0             </td><td>178218.27472527474  </td><td>191575.89950980392    </td><td>179157.6651480638    </td><td>187920.61064425771</td><td>0.0               </td><td>171302.3622047244      </td><td>157.0            </td><td>185601.24938271602  </td><td>175531.83179723503 </td><td>223156.8495098039     </td><td>161376.63366336632    </td><td>163241.9355717508    </td><td>187300.52567237162  </td></tr>\n",
       "<tr><td>6      </td><td>233.0            </td><td>0.0               </td><td>199424.48842732972       </td><td>169568.25527903467   </td><td>1.0               </td><td>222366.88205128204  </td><td>2.0               </td><td>0.0               </td><td>21.0             </td><td>178187.36899563318</td><td>184861.0283687943   </td><td>220383.31022408963 </td><td>0.0              </td><td>7980.0           </td><td>179370.36597321855 </td><td>0.0               </td><td>2.0               </td><td>206633.03141361254</td><td>179857.76346604215  </td><td>1187.0            </td><td>201051.3968871595   </td><td>169309.44117647054    </td><td>169627.25564187934</td><td>0.0               </td><td>191808.05969498912    </td><td>1187.0            </td><td>170822.7626262626 </td><td>0.0               </td><td>1467.0            </td><td>6.0               </td><td>181805.66321243523</td><td>170914.57205240175  </td><td>177919.81360946747 </td><td>167128.41844919784   </td><td>181115.23         </td><td>176671.8111111111 </td><td>171401.71038251367 </td><td>179414.41573033712</td><td>143747.87889273354 </td><td>184063.06872037915  </td><td>175715.7828162291    </td><td>157753.39249146762  </td><td>181956.919246646  </td><td>1168.0            </td><td>152433.73154105392   </td><td>138671.58035714287   </td><td>180758.81264637003</td><td>178193.4967320261  </td><td>184788.65617433414  </td><td>0.0               </td><td>194850.58566088302</td><td>935.0             </td><td>140285.62820512822   </td><td>500.0            </td><td>1992.0            </td><td>176369.09256535946</td><td>179984.77108433735  </td><td>181573.27604166663  </td><td>63.0             </td><td>211491.75330396474 </td><td>420.0             </td><td>3.0               </td><td>0.0               </td><td>178405.7096069869</td><td>182592.86046511628    </td><td>0.0               </td><td>1.0               </td><td>0.0               </td><td>178218.27472527474  </td><td>212804.46062091502    </td><td>163465.69117647054   </td><td>187920.61064425771</td><td>0.0               </td><td>171302.3622047244      </td><td>483.0            </td><td>185601.24938271602  </td><td>175531.83179723503 </td><td>223156.8495098039     </td><td>161376.63366336632    </td><td>163241.9355717508    </td><td>187300.52567237162  </td></tr>\n",
       "<tr><td>7      </td><td>789.0            </td><td>0.0               </td><td>199424.48842732972       </td><td>209302.39072847684   </td><td>0.0               </td><td>222366.88205128204  </td><td>2.0               </td><td>1.0               </td><td>75.0             </td><td>178187.36899563318</td><td>184861.0283687943   </td><td>225483.31022408963 </td><td>0.0              </td><td>8402.0           </td><td>180398.05693069307 </td><td>0.0               </td><td>2.0               </td><td>206633.03141361254</td><td>179857.76346604215  </td><td>789.0             </td><td>201051.3968871595   </td><td>168970.1659826721     </td><td>169627.25564187934</td><td>0.0               </td><td>191808.05969498912    </td><td>1465.0            </td><td>170822.7626262626 </td><td>1.0               </td><td>1468.0            </td><td>7.0               </td><td>181805.66321243523</td><td>203633.455628685    </td><td>177919.81360946747 </td><td>206602.9363057325    </td><td>181115.23         </td><td>176671.8111111111 </td><td>171401.71038251367 </td><td>179414.41573033712</td><td>143747.87889273354 </td><td>184063.06872037915  </td><td>175715.7828162291    </td><td>157753.39249146762  </td><td>184450.31335149863</td><td>789.0             </td><td>204262.16064257032   </td><td>219907.18575980392   </td><td>180758.81264637003</td><td>178193.4967320261  </td><td>184788.65617433414  </td><td>0.0               </td><td>194850.58566088302</td><td>0.0               </td><td>140285.62820512822   </td><td>0.0              </td><td>1998.0            </td><td>166467.420736219  </td><td>224956.37657165958  </td><td>181573.27604166663  </td><td>63.0             </td><td>158961.70308123247 </td><td>393.0             </td><td>3.0               </td><td>0.0               </td><td>178405.7096069869</td><td>182592.86046511628    </td><td>0.0               </td><td>1.0               </td><td>676.0             </td><td>178218.27472527474  </td><td>214984.4091251885     </td><td>179157.6651480638    </td><td>187920.61064425771</td><td>0.0               </td><td>171302.3622047244      </td><td>0.0              </td><td>185601.24938271602  </td><td>175531.83179723503 </td><td>223156.8495098039     </td><td>161376.63366336632    </td><td>163241.9355717508    </td><td>187300.52567237162  </td></tr>\n",
       "<tr><td>8      </td><td>663.0            </td><td>0.0               </td><td>199424.48842732972       </td><td>169568.25527903467   </td><td>1.0               </td><td>222366.88205128204  </td><td>2.0               </td><td>1.0               </td><td>0.0              </td><td>178187.36899563318</td><td>184861.0283687943   </td><td>179729.02450980392 </td><td>0.0              </td><td>10176.0          </td><td>180398.05693069307 </td><td>0.0               </td><td>1.0               </td><td>206633.03141361254</td><td>179857.76346604215  </td><td>1341.0            </td><td>201051.3968871595   </td><td>224699.7863950498     </td><td>169627.25564187934</td><td>0.0               </td><td>191808.05969498912    </td><td>1341.0            </td><td>170822.7626262626 </td><td>1.0               </td><td>1469.0            </td><td>5.0               </td><td>181805.66321243523</td><td>170914.57205240175  </td><td>177919.81360946747 </td><td>167128.41844919784   </td><td>181115.23         </td><td>176671.8111111111 </td><td>171401.71038251367 </td><td>179414.41573033712</td><td>143747.87889273354 </td><td>184063.06872037915  </td><td>175715.7828162291    </td><td>157753.39249146762  </td><td>184450.31335149863</td><td>1300.0            </td><td>204262.16064257032   </td><td>133191.52450980392   </td><td>180758.81264637003</td><td>178193.4967320261  </td><td>184788.65617433414  </td><td>0.0               </td><td>163981.4191419142 </td><td>637.0             </td><td>211880.81318681315   </td><td>0.0              </td><td>1990.0            </td><td>186396.24236694674</td><td>179984.77108433735  </td><td>181573.27604166663  </td><td>85.0             </td><td>158961.70308123247 </td><td>506.0             </td><td>2.0               </td><td>0.0               </td><td>178405.7096069869</td><td>182592.86046511628    </td><td>0.0               </td><td>1.0               </td><td>0.0               </td><td>178218.27472527474  </td><td>204591.52450980392    </td><td>179157.6651480638    </td><td>187920.61064425771</td><td>0.0               </td><td>171302.3622047244      </td><td>192.0            </td><td>185601.24938271602  </td><td>175531.83179723503 </td><td>143948.79679144386    </td><td>252970.21398348815    </td><td>204327.95765587135   </td><td>187300.52567237162  </td></tr>\n",
       "<tr><td>9      </td><td>0.0              </td><td>78.0              </td><td>158794.07093837534       </td><td>163573.83733031675   </td><td>1.0               </td><td>148549.72906403942  </td><td>2.0               </td><td>0.0               </td><td>0.0              </td><td>178187.36899563318</td><td>184861.0283687943   </td><td>151307.14950980392 </td><td>0.0              </td><td>8400.0           </td><td>180398.05693069307 </td><td>0.0               </td><td>1.0               </td><td>138313.57142857142</td><td>179857.76346604215  </td><td>882.0             </td><td>201051.3968871595   </td><td>169309.44117647054    </td><td>169627.25564187934</td><td>0.0               </td><td>152080.32258672698    </td><td>882.0             </td><td>170822.7626262626 </td><td>0.0               </td><td>1470.0            </td><td>4.0               </td><td>181805.66321243523</td><td>170914.57205240175  </td><td>165751.57330498463 </td><td>173812.54638480392   </td><td>181115.23         </td><td>176671.8111111111 </td><td>171401.71038251367 </td><td>179414.41573033712</td><td>143747.87889273354 </td><td>184063.06872037915  </td><td>175715.7828162291    </td><td>157753.39249146762  </td><td>151206.9049445865 </td><td>882.0             </td><td>204262.16064257032   </td><td>138671.58035714287   </td><td>180758.81264637003</td><td>178193.4967320261  </td><td>184788.65617433414  </td><td>0.0               </td><td>163981.4191419142 </td><td>804.0             </td><td>140285.62820512822   </td><td>0.0              </td><td>1970.0            </td><td>175953.87961184472</td><td>179984.77108433735  </td><td>181573.27604166663  </td><td>70.0             </td><td>149413.2797336845  </td><td>525.0             </td><td>2.0               </td><td>0.0               </td><td>178405.7096069869</td><td>167901.0383986928     </td><td>0.0               </td><td>1.0               </td><td>0.0               </td><td>178218.27472527474  </td><td>155036.52450980392    </td><td>179157.6651480638    </td><td>187920.61064425771</td><td>0.0               </td><td>171302.3622047244      </td><td>240.0            </td><td>185601.24938271602  </td><td>175531.83179723503 </td><td>223156.8495098039     </td><td>161376.63366336632    </td><td>117968.89687822496   </td><td>187300.52567237162  </td></tr>\n",
       "</tbody>\n",
       "</table>"
      ]
     },
     "metadata": {},
     "output_type": "display_data"
    }
   ],
   "source": [
    "print('Imputed and encoded numeric training data:')\n",
    "train[encoded_nums].describe() #79 numeric columns w/ no missing\n",
    "print('--------------------------------------------------------------------------------')\n",
    "print('Imputed and encoded numeric validation data:')\n",
    "valid[encoded_nums].describe() #79 numeric columns w/ no missing\n",
    "print('--------------------------------------------------------------------------------')\n",
    "print('Imputed and encoded numeric test data:')\n",
    "test[encoded_nums].describe() #79 numeric columns w/ no missing"
   ]
  },
  {
   "cell_type": "code",
   "execution_count": 35,
   "metadata": {},
   "outputs": [
    {
     "data": {
      "text/html": [
       "<table>\n",
       "<thead>\n",
       "<tr><th>Neighborhood  </th><th style=\"text-align: right;\">  Neighborhood_Tencode</th></tr>\n",
       "</thead>\n",
       "<tbody>\n",
       "<tr><td>NAmes         </td><td style=\"text-align: right;\">                152080</td></tr>\n",
       "<tr><td>NAmes         </td><td style=\"text-align: right;\">                152080</td></tr>\n",
       "<tr><td>Gilbert       </td><td style=\"text-align: right;\">                191808</td></tr>\n",
       "<tr><td>Gilbert       </td><td style=\"text-align: right;\">                191808</td></tr>\n",
       "<tr><td>StoneBr       </td><td style=\"text-align: right;\">                288359</td></tr>\n",
       "</tbody>\n",
       "</table>"
      ]
     },
     "metadata": {},
     "output_type": "display_data"
    },
    {
     "name": "stdout",
     "output_type": "stream",
     "text": [
      "\n",
      "{nan: 178193.49673202613, 'ClearCr': 207949.02450980392, 'NridgHt': 284073.1545098039, 'Veenker': 243734.02450980392, 'Gilbert': 191808.0596949891, 'CollgCr': 190019.77971813726, 'MeadowV': 113131.52450980392, 'SWISU': 156269.02450980392, 'NAmes': 152080.32258672698, 'Edwards': 126241.13989441929, 'OldTown': 139863.03613771088, 'BrkSide': 129965.77450980392, 'Blmngtn': 210845.6545098039, 'SawyerW': 189097.7776348039, 'Timber': 260109.74673202613, 'NoRidge': 273948.2552790347, 'Mitchel': 169316.52450980392, 'IDOTRR': 112866.71681749621, 'BrDale': 116064.02450980392, 'NPkVill': 147641.52450980392, 'NWAmes': 184610.14950980392, 'StoneBr': 288359.0245098039, 'Sawyer': 143162.40700980392, 'Crawfor': 216008.84593837534, 'Somerst': 227656.9671023965}\n"
     ]
    }
   ],
   "source": [
    "# Check Neighborhood_Tencode\n",
    "\n",
    "print(test[0:5, ['Neighborhood', 'Neighborhood_Tencode']])\n",
    "_, _ = target_encoder(valid, test, 'Neighborhood', 'SalePrice', test=True)\n",
    "del _\n",
    "\n",
    "# NAmes   152080\n",
    "# NAmes   152080\n",
    "# Gilbert 191808\n",
    "# Gilbert 191808\n",
    "# StoneBr 288359"
   ]
  },
  {
   "cell_type": "code",
   "execution_count": 36,
   "metadata": {
    "collapsed": true
   },
   "outputs": [],
   "source": [
    "def feature_combiner(training_frame, test_frame, nums):\n",
    "    \n",
    "    \"\"\" Combines numeric features using simple arithmatic operations.\n",
    "    \n",
    "    :param training_frame: Training frame from which to generate features and onto which generated \n",
    "                           feeatures will be cbound.\n",
    "    :param test_frame: Test frame from which to generate features and onto which generated \n",
    "                       feeatures will be cbound.\n",
    "    :param nums: List of original numeric features from which to generate combined features.\n",
    "    \n",
    "    \"\"\"\n",
    "\n",
    "    total = len(nums)\n",
    "    \n",
    "    # convert to pandas\n",
    "    train_df = training_frame.as_data_frame()\n",
    "    test_df = test_frame.as_data_frame()\n",
    "    \n",
    "    for i, col_i in enumerate(nums):\n",
    "        \n",
    "        print('Combining: ' + col_i + ' (' + str(i+1) + '/' + str(total) + ') ...')        \n",
    "        \n",
    "        for j, col_j in enumerate(nums):\n",
    "            \n",
    "            # don't repeat (i*j = j*i)\n",
    "            if i < j:\n",
    "                \n",
    "                # convert to pandas\n",
    "                col_i_train_df = train_df[col_i]\n",
    "                col_j_train_df = train_df[col_j]\n",
    "                col_i_test_df = test_df[col_i]\n",
    "                col_j_test_df = test_df[col_j] \n",
    "\n",
    "                # multiply, convert back to h2o\n",
    "                train_df[str(col_i + '|' + col_j)] = col_i_train_df.values*col_j_train_df.values\n",
    "                test_df[str(col_i + '|' + col_j)] = col_i_test_df.values*col_j_test_df.values\n",
    "                \n",
    "    print('Done.')\n",
    "    \n",
    "    # convert back to h2o\n",
    "    \n",
    "    print('Converting to H2OFrame ...')\n",
    "    \n",
    "    training_frame = h2o.H2OFrame(train_df)\n",
    "    training_frame.columns = list(train_df)\n",
    "    test_frame = h2o.H2OFrame(test_df)\n",
    "    test_frame.columns = list(test_df)\n",
    "    \n",
    "    print('Done.')\n",
    "    print()\n",
    "    \n",
    "    # conserve memory \n",
    "    del train_df\n",
    "    del test_df \n",
    "    \n",
    "    return training_frame, test_frame\n"
   ]
  },
  {
   "cell_type": "code",
   "execution_count": 37,
   "metadata": {},
   "outputs": [
    {
     "data": {
      "text/plain": [
       "81"
      ]
     },
     "execution_count": 37,
     "metadata": {},
     "output_type": "execute_result"
    }
   ],
   "source": [
    "len(encoded_nums)"
   ]
  },
  {
   "cell_type": "code",
   "execution_count": 38,
   "metadata": {},
   "outputs": [
    {
     "data": {
      "text/plain": [
       "(1001, 133)"
      ]
     },
     "execution_count": 38,
     "metadata": {},
     "output_type": "execute_result"
    }
   ],
   "source": [
    "train.shape"
   ]
  },
  {
   "cell_type": "code",
   "execution_count": 39,
   "metadata": {
    "scrolled": true
   },
   "outputs": [
    {
     "name": "stdout",
     "output_type": "stream",
     "text": [
      "Combining: BsmtUnfSF (1/81) ...\n",
      "Combining: BsmtFinSF2 (2/81) ...\n",
      "Combining: GarageYrBltBins_Tencode (3/81) ...\n",
      "Combining: Exterior2nd_Tencode (4/81) ...\n",
      "Combining: BsmtFullBath (5/81) ...\n",
      "Combining: Foundation_Tencode (6/81) ...\n",
      "Combining: GarageCars (7/81) ...\n",
      "Combining: HalfBath (8/81) ...\n",
      "Combining: OpenPorchSF (9/81) ...\n",
      "Combining: PoolQC_Tencode (10/81) ...\n",
      "Combining: CentralAir_Tencode (11/81) ...\n",
      "Combining: YearBuilt_Tencode (12/81) ...\n",
      "Combining: LowQualFinSF (13/81) ...\n",
      "Combining: LotArea (14/81) ...\n",
      "Combining: ExterCond_Tencode (15/81) ...\n",
      "Combining: MasVnrArea (16/81) ...\n",
      "Combining: FullBath (17/81) ...\n",
      "Combining: BsmtQual_Tencode (18/81) ...\n",
      "Combining: Functional_Tencode (19/81) ...\n",
      "Combining: 1stFlrSF (20/81) ...\n",
      "Combining: GarageType_Tencode (21/81) ...\n",
      "Combining: BsmtFinType1_Tencode (22/81) ...\n",
      "Combining: YrSold_Tencode (23/81) ...\n",
      "Combining: PoolArea (24/81) ...\n",
      "Combining: Neighborhood_Tencode (25/81) ...\n",
      "Combining: GrLivArea (26/81) ...\n",
      "Combining: SaleType_Tencode (27/81) ...\n",
      "Combining: Fireplaces (28/81) ...\n",
      "Combining: Id (29/81) ...\n",
      "Combining: TotRmsAbvGrd (30/81) ...\n",
      "Combining: BldgType_Tencode (31/81) ...\n",
      "Combining: HouseStyle_Tencode (32/81) ...\n",
      "Combining: LotConfig_Tencode (33/81) ...\n",
      "Combining: Exterior1st_Tencode (34/81) ...\n",
      "Combining: BsmtCond_Tencode (35/81) ...\n",
      "Combining: RoofMatl_Tencode (36/81) ...\n",
      "Combining: RoofStyle_Tencode (37/81) ...\n",
      "Combining: Heating_Tencode (38/81) ...\n",
      "Combining: ExterQual_Tencode (39/81) ...\n",
      "Combining: PavedDrive_Tencode (40/81) ...\n",
      "Combining: LandContour_Tencode (41/81) ...\n",
      "Combining: MasVnrType_Tencode (42/81) ...\n",
      "Combining: Fence_Tencode (43/81) ...\n",
      "Combining: TotalBsmtSF (44/81) ...\n",
      "Combining: OverallCond_Tencode (45/81) ...\n",
      "Combining: FireplaceQu_Tencode (46/81) ...\n",
      "Combining: Alley_Tencode (47/81) ...\n",
      "Combining: Utilities_Tencode (48/81) ...\n",
      "Combining: Electrical_Tencode (49/81) ...\n",
      "Combining: ScreenPorch (50/81) ...\n",
      "Combining: LotShape_Tencode (51/81) ...\n",
      "Combining: BsmtFinSF1 (52/81) ...\n",
      "Combining: KitchenQual_Tencode (53/81) ...\n",
      "Combining: MiscVal (54/81) ...\n",
      "Combining: GarageYrBlt (55/81) ...\n",
      "Combining: MoSold_Tencode (56/81) ...\n",
      "Combining: MSSubClass_Tencode (57/81) ...\n",
      "Combining: Condition1_Tencode (58/81) ...\n",
      "Combining: LotFrontage (59/81) ...\n",
      "Combining: HeatingQC_Tencode (60/81) ...\n",
      "Combining: GarageArea (61/81) ...\n",
      "Combining: BedroomAbvGr (62/81) ...\n",
      "Combining: 3SsnPorch (63/81) ...\n",
      "Combining: Street_Tencode (64/81) ...\n",
      "Combining: BsmtFinType2_Tencode (65/81) ...\n",
      "Combining: EnclosedPorch (66/81) ...\n",
      "Combining: KitchenAbvGr (67/81) ...\n",
      "Combining: 2ndFlrSF (68/81) ...\n",
      "Combining: Condition2_Tencode (69/81) ...\n",
      "Combining: YearRemodAdd_Tencode (70/81) ...\n",
      "Combining: MiscFeature_Tencode (71/81) ...\n",
      "Combining: MSZoning_Tencode (72/81) ...\n",
      "Combining: BsmtHalfBath (73/81) ...\n",
      "Combining: SaleCondition_Tencode (74/81) ...\n",
      "Combining: WoodDeckSF (75/81) ...\n",
      "Combining: GarageQual_Tencode (76/81) ...\n",
      "Combining: LandSlope_Tencode (77/81) ...\n",
      "Combining: GarageFinish_Tencode (78/81) ...\n",
      "Combining: BsmtExposure_Tencode (79/81) ...\n",
      "Combining: OverallQual_Tencode (80/81) ...\n",
      "Combining: GarageCond_Tencode (81/81) ...\n",
      "Done.\n",
      "Converting to H2OFrame ...\n",
      "Done.\n",
      "\n",
      "Combining: BsmtUnfSF (1/81) ...\n",
      "Combining: BsmtFinSF2 (2/81) ...\n",
      "Combining: GarageYrBltBins_Tencode (3/81) ...\n",
      "Combining: Exterior2nd_Tencode (4/81) ...\n",
      "Combining: BsmtFullBath (5/81) ...\n",
      "Combining: Foundation_Tencode (6/81) ...\n",
      "Combining: GarageCars (7/81) ...\n",
      "Combining: HalfBath (8/81) ...\n",
      "Combining: OpenPorchSF (9/81) ...\n",
      "Combining: PoolQC_Tencode (10/81) ...\n",
      "Combining: CentralAir_Tencode (11/81) ...\n",
      "Combining: YearBuilt_Tencode (12/81) ...\n",
      "Combining: LowQualFinSF (13/81) ...\n",
      "Combining: LotArea (14/81) ...\n",
      "Combining: ExterCond_Tencode (15/81) ...\n",
      "Combining: MasVnrArea (16/81) ...\n",
      "Combining: FullBath (17/81) ...\n",
      "Combining: BsmtQual_Tencode (18/81) ...\n",
      "Combining: Functional_Tencode (19/81) ...\n",
      "Combining: 1stFlrSF (20/81) ...\n",
      "Combining: GarageType_Tencode (21/81) ...\n",
      "Combining: BsmtFinType1_Tencode (22/81) ...\n",
      "Combining: YrSold_Tencode (23/81) ...\n",
      "Combining: PoolArea (24/81) ...\n",
      "Combining: Neighborhood_Tencode (25/81) ...\n",
      "Combining: GrLivArea (26/81) ...\n",
      "Combining: SaleType_Tencode (27/81) ...\n",
      "Combining: Fireplaces (28/81) ...\n",
      "Combining: Id (29/81) ...\n",
      "Combining: TotRmsAbvGrd (30/81) ...\n",
      "Combining: BldgType_Tencode (31/81) ...\n",
      "Combining: HouseStyle_Tencode (32/81) ...\n",
      "Combining: LotConfig_Tencode (33/81) ...\n",
      "Combining: Exterior1st_Tencode (34/81) ...\n",
      "Combining: BsmtCond_Tencode (35/81) ...\n",
      "Combining: RoofMatl_Tencode (36/81) ...\n",
      "Combining: RoofStyle_Tencode (37/81) ...\n",
      "Combining: Heating_Tencode (38/81) ...\n",
      "Combining: ExterQual_Tencode (39/81) ...\n",
      "Combining: PavedDrive_Tencode (40/81) ...\n",
      "Combining: LandContour_Tencode (41/81) ...\n",
      "Combining: MasVnrType_Tencode (42/81) ...\n",
      "Combining: Fence_Tencode (43/81) ...\n",
      "Combining: TotalBsmtSF (44/81) ...\n",
      "Combining: OverallCond_Tencode (45/81) ...\n",
      "Combining: FireplaceQu_Tencode (46/81) ...\n",
      "Combining: Alley_Tencode (47/81) ...\n",
      "Combining: Utilities_Tencode (48/81) ...\n",
      "Combining: Electrical_Tencode (49/81) ...\n",
      "Combining: ScreenPorch (50/81) ...\n",
      "Combining: LotShape_Tencode (51/81) ...\n",
      "Combining: BsmtFinSF1 (52/81) ...\n",
      "Combining: KitchenQual_Tencode (53/81) ...\n",
      "Combining: MiscVal (54/81) ...\n",
      "Combining: GarageYrBlt (55/81) ...\n",
      "Combining: MoSold_Tencode (56/81) ...\n",
      "Combining: MSSubClass_Tencode (57/81) ...\n",
      "Combining: Condition1_Tencode (58/81) ...\n",
      "Combining: LotFrontage (59/81) ...\n",
      "Combining: HeatingQC_Tencode (60/81) ...\n",
      "Combining: GarageArea (61/81) ...\n",
      "Combining: BedroomAbvGr (62/81) ...\n",
      "Combining: 3SsnPorch (63/81) ...\n",
      "Combining: Street_Tencode (64/81) ...\n",
      "Combining: BsmtFinType2_Tencode (65/81) ...\n",
      "Combining: EnclosedPorch (66/81) ...\n",
      "Combining: KitchenAbvGr (67/81) ...\n",
      "Combining: 2ndFlrSF (68/81) ...\n",
      "Combining: Condition2_Tencode (69/81) ...\n",
      "Combining: YearRemodAdd_Tencode (70/81) ...\n",
      "Combining: MiscFeature_Tencode (71/81) ...\n",
      "Combining: MSZoning_Tencode (72/81) ...\n",
      "Combining: BsmtHalfBath (73/81) ...\n",
      "Combining: SaleCondition_Tencode (74/81) ...\n",
      "Combining: WoodDeckSF (75/81) ...\n",
      "Combining: GarageQual_Tencode (76/81) ...\n",
      "Combining: LandSlope_Tencode (77/81) ...\n",
      "Combining: GarageFinish_Tencode (78/81) ...\n",
      "Combining: BsmtExposure_Tencode (79/81) ...\n",
      "Combining: OverallQual_Tencode (80/81) ...\n",
      "Combining: GarageCond_Tencode (81/81) ...\n",
      "Done.\n",
      "Converting to H2OFrame ...\n",
      "Done.\n",
      "\n"
     ]
    }
   ],
   "source": [
    "train2, _ = feature_combiner(train, test, encoded_nums)\n",
    "valid2, test2 = feature_combiner(valid, test, encoded_nums)"
   ]
  },
  {
   "cell_type": "code",
   "execution_count": 40,
   "metadata": {},
   "outputs": [
    {
     "name": "stdout",
     "output_type": "stream",
     "text": [
      "Numeric = ['Condition1_Tencode|BsmtHalfBath', 'MasVnrArea|LotShape_Tencode', 'BsmtFinSF2|YearRemodAdd_Tencode', 'LowQualFinSF|MiscFeature_Tencode', 'HalfBath|LowQualFinSF', 'YearRemodAdd_Tencode|BsmtExposure_Tencode', 'BsmtFinSF2|GarageArea', 'GrLivArea|GarageCond_Tencode', 'YearBuilt_Tencode|MoSold_Tencode', 'LotConfig_Tencode|Utilities_Tencode', 'ExterCond_Tencode|TotalBsmtSF', 'GrLivArea|LotConfig_Tencode', 'BsmtQual_Tencode|ExterQual_Tencode', 'MiscFeature_Tencode|WoodDeckSF', 'BsmtUnfSF|MasVnrType_Tencode', 'ExterQual_Tencode|OverallCond_Tencode', 'Neighborhood_Tencode', 'Functional_Tencode|HeatingQC_Tencode', 'MiscVal|3SsnPorch', 'Exterior1st_Tencode|3SsnPorch', 'ExterCond_Tencode|MSZoning_Tencode', 'CentralAir_Tencode|GarageCond_Tencode', 'ExterCond_Tencode|GarageCond_Tencode', 'BsmtFinSF1|3SsnPorch', 'BsmtFinSF2|KitchenQual_Tencode', 'YearBuilt_Tencode|Id', 'Exterior2nd_Tencode|Id', 'TotRmsAbvGrd|Alley_Tencode', 'ExterCond_Tencode|YrSold_Tencode', 'SaleType_Tencode|BsmtHalfBath', 'BsmtCond_Tencode|KitchenAbvGr', 'FireplaceQu_Tencode|BedroomAbvGr', 'GarageYrBlt|BsmtHalfBath', 'Id|BsmtFinType2_Tencode', 'Exterior2nd_Tencode|WoodDeckSF', 'PavedDrive_Tencode|BsmtHalfBath', 'BsmtUnfSF|Exterior1st_Tencode', 'Neighborhood_Tencode|BsmtCond_Tencode', 'Foundation_Tencode|Neighborhood_Tencode', 'RoofMatl_Tencode|KitchenAbvGr', 'Exterior2nd_Tencode|Fence_Tencode', 'MoSold_Tencode|GarageCond_Tencode', 'KitchenQual_Tencode|GarageQual_Tencode', 'OverallCond_Tencode|MiscFeature_Tencode', 'HalfBath|MSSubClass_Tencode', 'LotArea|RoofMatl_Tencode', 'BsmtFullBath|MSZoning_Tencode', 'OpenPorchSF|Neighborhood_Tencode', 'Exterior1st_Tencode|Electrical_Tencode', 'LowQualFinSF|BldgType_Tencode', 'Functional_Tencode|GrLivArea', 'GarageYrBlt|MiscFeature_Tencode', 'BsmtCond_Tencode|TotalBsmtSF', 'BldgType_Tencode|Condition2_Tencode', 'OpenPorchSF|BedroomAbvGr', 'BsmtUnfSF|1stFlrSF', 'BsmtFinSF2|Utilities_Tencode', 'Condition1_Tencode|LotFrontage', 'PoolArea|RoofStyle_Tencode', 'LotArea|Utilities_Tencode', 'Functional_Tencode|Alley_Tencode', 'FullBath|MSZoning_Tencode', 'Utilities_Tencode|MSSubClass_Tencode', 'Alley_Tencode|ScreenPorch', 'Fireplaces|MiscVal', 'Functional_Tencode|GarageType_Tencode', 'Neighborhood_Tencode|GarageYrBlt', 'Utilities_Tencode|3SsnPorch', 'GarageType_Tencode|Alley_Tencode', 'GarageYrBltBins_Tencode|LotArea', 'CentralAir_Tencode|ExterQual_Tencode', 'ExterCond_Tencode|WoodDeckSF', 'TotalBsmtSF|LotFrontage', '1stFlrSF|BsmtFinType1_Tencode', 'ExterQual_Tencode|LotShape_Tencode', 'Alley_Tencode|HeatingQC_Tencode', 'Fireplaces|OverallQual_Tencode', 'LandContour_Tencode|MSZoning_Tencode', 'GarageArea|Condition2_Tencode', 'BedroomAbvGr|LandSlope_Tencode', '1stFlrSF|MoSold_Tencode', 'ExterQual_Tencode|YearRemodAdd_Tencode', 'LandContour_Tencode|MiscFeature_Tencode', 'BsmtFinType1_Tencode|MiscFeature_Tencode', 'BsmtFinSF2|LotArea', 'SaleType_Tencode|3SsnPorch', 'OpenPorchSF|MasVnrArea', 'Exterior2nd_Tencode|TotRmsAbvGrd', 'LotConfig_Tencode', 'Alley_Tencode|LotFrontage', 'LowQualFinSF|2ndFlrSF', 'Heating_Tencode|LotFrontage', 'YearBuilt_Tencode|PoolArea', 'Foundation_Tencode|FireplaceQu_Tencode', 'BsmtFinSF2|LotFrontage', 'RoofStyle_Tencode|3SsnPorch', 'SaleType_Tencode|BsmtFinType2_Tencode', 'GrLivArea|Condition2_Tencode', 'GarageType_Tencode|GarageCond_Tencode', 'GarageArea|GarageFinish_Tencode', 'BldgType_Tencode|OverallCond_Tencode', 'PoolQC_Tencode|PavedDrive_Tencode', 'LowQualFinSF|ExterCond_Tencode', 'FullBath|RoofStyle_Tencode', 'LotConfig_Tencode|MSSubClass_Tencode', 'MiscVal|Condition2_Tencode', 'ExterQual_Tencode', 'PoolArea|BsmtFinType2_Tencode', 'BsmtUnfSF|Street_Tencode', 'HouseStyle_Tencode|GarageFinish_Tencode', 'HeatingQC_Tencode|BsmtExposure_Tencode', 'YrSold_Tencode|PavedDrive_Tencode', 'Foundation_Tencode|BsmtFinType2_Tencode', 'BsmtFinType1_Tencode|WoodDeckSF', 'GarageYrBltBins_Tencode|3SsnPorch', 'Foundation_Tencode|TotRmsAbvGrd', 'Fireplaces|BsmtExposure_Tencode', 'Heating_Tencode|Street_Tencode', 'Neighborhood_Tencode|RoofStyle_Tencode', 'Foundation_Tencode|Id', 'PoolArea|HeatingQC_Tencode', 'Alley_Tencode|LandSlope_Tencode', 'MiscVal|HeatingQC_Tencode', 'BsmtFinType2_Tencode|BsmtHalfBath', 'Electrical_Tencode|3SsnPorch', 'Exterior2nd_Tencode|GarageArea', 'GarageType_Tencode|OverallCond_Tencode', 'LowQualFinSF|BsmtQual_Tencode', 'LowQualFinSF|HeatingQC_Tencode', 'BsmtQual_Tencode|LotConfig_Tencode', 'MasVnrType_Tencode|MiscFeature_Tencode', 'LotConfig_Tencode|3SsnPorch', 'ScreenPorch', 'LowQualFinSF|3SsnPorch', 'LotConfig_Tencode|WoodDeckSF', 'Functional_Tencode|GarageArea', 'YearBuilt_Tencode|MSSubClass_Tencode', 'SaleType_Tencode|MiscVal', '1stFlrSF|SaleCondition_Tencode', 'RoofMatl_Tencode|YearRemodAdd_Tencode', 'FullBath|ScreenPorch', 'BsmtFinSF2|OpenPorchSF', 'MasVnrArea|Utilities_Tencode', 'BsmtFullBath|HouseStyle_Tencode', '1stFlrSF|Fence_Tencode', 'BsmtUnfSF|Exterior2nd_Tencode', 'Exterior2nd_Tencode|ExterQual_Tencode', 'TotalBsmtSF|GarageCond_Tencode', 'Utilities_Tencode|WoodDeckSF', 'BsmtFinSF2|OverallQual_Tencode', 'ExterCond_Tencode|KitchenAbvGr', 'BldgType_Tencode|MoSold_Tencode', 'HalfBath|BsmtFinType2_Tencode', 'Fence_Tencode|BedroomAbvGr', 'Condition1_Tencode', 'HalfBath|LotArea', 'LotArea|Electrical_Tencode', 'MoSold', 'Id|RoofMatl_Tencode', 'LotFrontage|OverallQual_Tencode', 'RoofStyle_Tencode|MSSubClass_Tencode', 'BsmtHalfBath|OverallQual_Tencode', 'BsmtFinType2_Tencode|Condition2_Tencode', 'FullBath|GarageQual_Tencode', 'PoolArea|Utilities_Tencode', 'Foundation_Tencode|PoolQC_Tencode', 'HouseStyle_Tencode|TotalBsmtSF', 'LotConfig_Tencode|FireplaceQu_Tencode', 'LowQualFinSF|YrSold_Tencode', 'Exterior2nd_Tencode|KitchenQual_Tencode', 'BsmtFinSF2|BsmtHalfBath', 'OpenPorchSF|LowQualFinSF', 'Id|MiscVal', 'GarageCars|MasVnrType_Tencode', 'PoolArea|TotalBsmtSF', 'BsmtFullBath|FireplaceQu_Tencode', 'FireplaceQu_Tencode|BsmtHalfBath', 'FireplaceQu_Tencode|ScreenPorch', 'Exterior2nd_Tencode|BsmtFinType1_Tencode', 'GrLivArea|Fence_Tencode', 'BsmtFinSF1|MiscFeature_Tencode', 'Exterior2nd_Tencode|ExterCond_Tencode', 'LowQualFinSF|Utilities_Tencode', 'OverallCond_Tencode|BsmtExposure_Tencode', 'PoolQC_Tencode|MasVnrType_Tencode', 'CentralAir_Tencode|RoofMatl_Tencode', 'BsmtFinType1_Tencode|BsmtExposure_Tencode', 'LotArea|BsmtFinType2_Tencode', 'SaleType_Tencode|MiscFeature_Tencode', 'YearBuilt_Tencode|BsmtCond_Tencode', 'SaleType_Tencode|BsmtCond_Tencode', 'BsmtFinSF1|BedroomAbvGr', 'BsmtFullBath|Heating_Tencode', 'YrSold_Tencode|TotalBsmtSF', 'Id|Exterior1st_Tencode', 'HouseStyle_Tencode|GarageCond_Tencode', 'PoolArea|MiscVal', 'MiscVal|2ndFlrSF', 'BsmtUnfSF|SaleCondition_Tencode', 'BsmtQual_Tencode|HouseStyle_Tencode', 'LotConfig_Tencode|ScreenPorch', 'GrLivArea|HeatingQC_Tencode', 'BsmtCond_Tencode|KitchenQual_Tencode', 'HalfBath|WoodDeckSF', 'Fence_Tencode|MSSubClass_Tencode', 'Neighborhood_Tencode|WoodDeckSF', 'YearBuilt_Tencode|SaleType_Tencode', 'FullBath|3SsnPorch', 'PoolQC_Tencode|BsmtFinType2_Tencode', 'TotRmsAbvGrd|Utilities_Tencode', 'YearBuilt_Tencode|TotalBsmtSF', '1stFlrSF|MiscVal', 'BsmtFinType1_Tencode|RoofMatl_Tencode', 'Foundation_Tencode|GarageArea', 'GrLivArea|MiscVal', 'YrSold_Tencode|BsmtFinType2_Tencode', 'FullBath|1stFlrSF', 'YearBuilt_Tencode|GarageQual_Tencode', 'FullBath|LandSlope_Tencode', 'MoSold_Tencode|GarageQual_Tencode', 'GrLivArea|LotShape_Tencode', 'Id|PavedDrive_Tencode', 'PoolQC_Tencode', 'ExterCond_Tencode|Neighborhood_Tencode', 'ExterCond_Tencode|BsmtFinSF1', 'MoSold_Tencode|OverallQual_Tencode', 'TotRmsAbvGrd|ExterQual_Tencode', 'Exterior1st_Tencode|Street_Tencode', 'Functional_Tencode|GarageQual_Tencode', 'OpenPorchSF|FullBath', 'BsmtFullBath|MiscVal', 'PoolQC_Tencode|BsmtExposure_Tencode', 'BsmtFullBath|2ndFlrSF', 'MasVnrType_Tencode|KitchenQual_Tencode', 'FireplaceQu_Tencode|MiscVal', 'BedroomAbvGr|MiscFeature_Tencode', 'BsmtQual_Tencode|Electrical_Tencode', 'MasVnrArea', 'MasVnrArea|GrLivArea', 'Exterior1st_Tencode|BedroomAbvGr', 'HalfBath|GrLivArea', 'GarageCars|LandSlope_Tencode', 'LotArea|MasVnrType_Tencode', 'Heating_Tencode|BsmtExposure_Tencode', 'Exterior2nd_Tencode|Condition2_Tencode', 'ExterCond_Tencode|LandContour_Tencode', 'ExterCond_Tencode|Street_Tencode', 'OpenPorchSF|KitchenQual_Tencode', 'GarageArea|OverallQual_Tencode', 'BsmtFullBath|Alley_Tencode', 'HouseStyle_Tencode|OverallQual_Tencode', 'BsmtCond_Tencode|BsmtFinType2_Tencode', 'Exterior2nd_Tencode|MasVnrType_Tencode', 'BsmtFinType1_Tencode|Alley_Tencode', 'TotRmsAbvGrd|OverallCond_Tencode', 'BedroomAbvGr|WoodDeckSF', 'OverallCond_Tencode|ScreenPorch', 'LotArea|OverallQual_Tencode', 'SaleType_Tencode|GarageCond_Tencode', 'BsmtFinSF1|KitchenQual_Tencode', 'MasVnrArea|YrSold_Tencode', 'Id|GarageYrBlt', 'Exterior2nd_Tencode|YearRemodAdd_Tencode', 'Alley_Tencode|Condition2_Tencode', 'BsmtFinSF2|LotShape_Tencode', 'Functional_Tencode', 'GarageYrBlt|2ndFlrSF', 'BsmtFullBath|Street_Tencode', 'SaleType_Tencode', 'SaleType_Tencode|PavedDrive_Tencode', 'Foundation_Tencode|GarageCond_Tencode', 'TotRmsAbvGrd|KitchenQual_Tencode', 'Condition1_Tencode|BsmtFinType2_Tencode', 'OpenPorchSF|BldgType_Tencode', 'BsmtQual_Tencode|GarageCond_Tencode', 'SaleType_Tencode|KitchenQual_Tencode', 'BldgType_Tencode|LotFrontage', 'Id|Heating_Tencode', 'LotArea|LandSlope_Tencode', 'GrLivArea|Utilities_Tencode', 'CentralAir_Tencode|BedroomAbvGr', '1stFlrSF', 'TotalBsmtSF|BedroomAbvGr', 'KitchenAbvGr|MiscFeature_Tencode', 'BsmtFinType1_Tencode|3SsnPorch', 'LowQualFinSF|EnclosedPorch', 'BsmtFullBath|PavedDrive_Tencode', 'TotalBsmtSF|GarageYrBlt', 'BsmtQual_Tencode|TotalBsmtSF', 'PavedDrive_Tencode|Alley_Tencode', 'Exterior1st_Tencode|LotFrontage', 'Exterior1st_Tencode|Condition1_Tencode', 'BsmtFinType1_Tencode|FireplaceQu_Tencode', 'PoolQC_Tencode|SaleCondition_Tencode', 'RoofMatl_Tencode|BsmtFinSF1', 'Exterior1st_Tencode|WoodDeckSF', '3SsnPorch|2ndFlrSF', 'MSSubClass_Tencode|GarageArea', '1stFlrSF|BsmtHalfBath', 'EnclosedPorch|2ndFlrSF', 'LowQualFinSF|MSZoning_Tencode', 'Exterior2nd_Tencode|BsmtFinType2_Tencode', 'MiscFeature_Tencode|GarageFinish_Tencode', 'OpenPorchSF|PoolArea', 'Exterior1st_Tencode|BsmtFinType2_Tencode', 'YrSold_Tencode|LandSlope_Tencode', 'GarageCars|LandContour_Tencode', 'Exterior2nd_Tencode|GarageCond_Tencode', 'GarageArea|LandSlope_Tencode', 'BsmtQual_Tencode|Exterior1st_Tencode', 'PoolQC_Tencode|BsmtCond_Tencode', 'YrSold_Tencode|Alley_Tencode', 'CentralAir_Tencode|BsmtFinType1_Tencode', 'GarageCars|Condition1_Tencode', 'RoofMatl_Tencode|OverallQual_Tencode', 'MiscVal|MSSubClass_Tencode', '1stFlrSF|3SsnPorch', 'TotRmsAbvGrd|MoSold_Tencode', 'OverallCond_Tencode|LotFrontage', 'BsmtUnfSF|MSSubClass_Tencode', 'KitchenAbvGr|GarageFinish_Tencode', 'YearBuilt_Tencode|Electrical_Tencode', 'LotConfig_Tencode|BsmtFinType2_Tencode', 'BsmtCond_Tencode|Street_Tencode', 'ExterCond_Tencode|BsmtFinType2_Tencode', 'TotalBsmtSF|Electrical_Tencode', 'BsmtFullBath|YrSold_Tencode', 'Functional_Tencode|RoofMatl_Tencode', 'FireplaceQu_Tencode|BsmtExposure_Tencode', 'RoofStyle_Tencode|Electrical_Tencode', 'Alley_Tencode|MiscFeature_Tencode', 'YearBuilt_Tencode|FireplaceQu_Tencode', 'GarageCars', 'Exterior2nd_Tencode|Neighborhood_Tencode', 'LotArea|BsmtFinSF1', 'BsmtFinType1_Tencode|LotFrontage', 'BsmtFullBath|OverallQual_Tencode', 'Utilities_Tencode|HeatingQC_Tencode', 'Foundation_Tencode|SaleType_Tencode', 'GarageYrBltBins_Tencode|Street_Tencode', 'Utilities_Tencode', 'Exterior2nd_Tencode|BsmtFinSF1', 'BsmtUnfSF|Foundation_Tencode', 'BsmtQual_Tencode|BedroomAbvGr', 'BsmtFullBath|BsmtFinSF1', 'BsmtUnfSF|OpenPorchSF', 'Foundation_Tencode|BedroomAbvGr', 'SaleType_Tencode|OverallQual_Tencode', 'GarageCars|ExterQual_Tencode', 'MasVnrArea|OverallCond_Tencode', '3SsnPorch|BsmtFinType2_Tencode', 'MasVnrType_Tencode|KitchenAbvGr', 'OpenPorchSF|ScreenPorch', 'Foundation_Tencode|KitchenAbvGr', 'OpenPorchSF|LotArea', 'MiscVal|SaleCondition_Tencode', 'GarageYrBltBins_Tencode|Fence_Tencode', 'BsmtFinSF1|EnclosedPorch', 'CentralAir_Tencode|GarageType_Tencode', 'BsmtFullBath|GarageType_Tencode', 'GrLivArea|Electrical_Tencode', 'SaleCondition_Tencode|GarageQual_Tencode', 'BsmtUnfSF|BsmtFinSF2', 'GrLivArea|MoSold_Tencode', 'BsmtFullBath|LowQualFinSF', 'BsmtFinSF1|SaleCondition_Tencode', 'SaleType_Tencode|WoodDeckSF', 'Functional_Tencode|SaleCondition_Tencode', 'GarageArea|SaleCondition_Tencode', 'TotRmsAbvGrd|GarageCond_Tencode', 'BsmtCond_Tencode|LandContour_Tencode', 'LotShape_Tencode|MSSubClass_Tencode', 'HalfBath|LotConfig_Tencode', 'LotArea|HouseStyle_Tencode', 'Id|MasVnrType_Tencode', 'Foundation_Tencode|3SsnPorch', 'HalfBath|GarageCond_Tencode', 'OpenPorchSF|RoofStyle_Tencode', 'Alley_Tencode|MSZoning_Tencode', 'MSSubClass_Tencode|2ndFlrSF', 'PoolQC_Tencode|Fence_Tencode', 'BsmtQual_Tencode|WoodDeckSF', 'HouseStyle_Tencode|GarageArea', 'Heating_Tencode|SaleCondition_Tencode', 'CentralAir_Tencode|Heating_Tencode', 'MasVnrArea|Condition1_Tencode', 'OpenPorchSF|MiscFeature_Tencode', 'BldgType_Tencode|HeatingQC_Tencode', 'RoofStyle_Tencode|TotalBsmtSF', 'ExterQual_Tencode|ScreenPorch', 'LotShape_Tencode|BsmtFinSF1', 'SaleType_Tencode|BldgType_Tencode', '1stFlrSF|OverallQual_Tencode', 'Electrical_Tencode|LotShape_Tencode', 'GrLivArea|MasVnrType_Tencode', 'GarageCars|LotShape_Tencode', 'BsmtQual_Tencode|GarageYrBlt', 'BsmtFinSF2|GarageQual_Tencode', 'OpenPorchSF|LandSlope_Tencode', 'Neighborhood_Tencode|GarageArea', 'BsmtFinType1_Tencode|PavedDrive_Tencode', 'YrSold_Tencode|BsmtCond_Tencode', 'BsmtFinType1_Tencode|YearRemodAdd_Tencode', 'GrLivArea|MiscFeature_Tencode', 'GarageCars|Street_Tencode', 'BsmtFinSF2|Alley_Tencode', 'KitchenAbvGr|GarageQual_Tencode', '1stFlrSF|OverallCond_Tencode', 'BldgType_Tencode|Exterior1st_Tencode', 'Heating_Tencode|OverallQual_Tencode', 'Exterior1st_Tencode|LandSlope_Tencode', 'HalfBath|CentralAir_Tencode', 'Street_Tencode|BsmtFinType2_Tencode', 'PoolQC_Tencode|BsmtQual_Tencode', 'LotArea|SaleCondition_Tencode', '1stFlrSF|ExterQual_Tencode', 'Exterior2nd_Tencode|FireplaceQu_Tencode', 'Id|MiscFeature_Tencode', '1stFlrSF|ScreenPorch', 'Functional_Tencode|BedroomAbvGr', 'ScreenPorch|KitchenQual_Tencode', 'MasVnrArea|KitchenQual_Tencode', 'LowQualFinSF|BsmtFinType2_Tencode', 'TotalBsmtSF|MSSubClass_Tencode', 'KitchenQual_Tencode|GarageFinish_Tencode', '1stFlrSF|LotConfig_Tencode', 'PoolQC_Tencode|GarageQual_Tencode', 'TotRmsAbvGrd|MiscVal', 'MasVnrArea|SaleType_Tencode', 'MasVnrArea|RoofStyle_Tencode', '1stFlrSF|HeatingQC_Tencode', 'GarageYrBltBins_Tencode|Electrical_Tencode', 'HeatingQC_Tencode|MSZoning_Tencode', 'ScreenPorch|SaleCondition_Tencode', 'HalfBath|PoolArea', 'BsmtFinSF2|MSSubClass_Tencode', 'GrLivArea|TotalBsmtSF', 'BsmtFullBath|GrLivArea', 'BsmtUnfSF|Functional_Tencode', 'OverallCond_Tencode|Condition2_Tencode', 'Foundation_Tencode|BsmtExposure_Tencode', 'Id|LandContour_Tencode', 'Foundation_Tencode|Electrical_Tencode', 'Exterior2nd_Tencode|PoolArea', 'CentralAir_Tencode|EnclosedPorch', 'RoofStyle_Tencode|EnclosedPorch', 'Fence_Tencode|LotFrontage', 'Heating_Tencode|Fence_Tencode', 'LotArea|MiscVal', 'HalfBath|MiscVal', 'BsmtQual_Tencode|MoSold_Tencode', 'GarageYrBltBins_Tencode|LotConfig_Tencode', 'OpenPorchSF|BsmtFinType2_Tencode', 'Alley_Tencode|YearRemodAdd_Tencode', 'PoolArea|SaleType_Tencode', 'HouseStyle_Tencode|WoodDeckSF', 'LowQualFinSF|OverallQual_Tencode', 'Fireplaces|HeatingQC_Tencode', 'OpenPorchSF|SaleType_Tencode', 'EnclosedPorch|Condition2_Tencode', 'PoolArea', 'SaleType_Tencode|GarageFinish_Tencode', 'GarageCars|Exterior1st_Tencode', 'Functional_Tencode|MasVnrType_Tencode', 'LotArea|KitchenQual_Tencode', 'GarageType_Tencode|TotalBsmtSF', 'Id|WoodDeckSF', 'BsmtFinSF2|LandSlope_Tencode', 'SaleType_Tencode|BsmtExposure_Tencode', 'Neighborhood_Tencode|LotConfig_Tencode', 'PoolArea|ExterQual_Tencode', 'PavedDrive_Tencode|GarageYrBlt', 'Foundation_Tencode|ExterQual_Tencode', 'HalfBath|LotFrontage', 'CentralAir_Tencode|BsmtHalfBath', 'PoolQC_Tencode|RoofStyle_Tencode', 'Foundation_Tencode|MSSubClass_Tencode', 'ExterCond_Tencode|GarageType_Tencode', 'BsmtFinType2_Tencode|KitchenAbvGr', 'Exterior1st_Tencode|MasVnrType_Tencode', 'YearBuilt_Tencode|3SsnPorch', 'BsmtQual_Tencode|LandSlope_Tencode', 'OverallCond_Tencode|LotShape_Tencode', 'PoolQC_Tencode|Street_Tencode', 'HouseStyle_Tencode|RoofMatl_Tencode', 'GarageYrBltBins_Tencode|Foundation_Tencode', 'HeatingQC_Tencode|OverallQual_Tencode', 'FullBath|GarageArea', 'PavedDrive_Tencode|MSSubClass_Tencode', 'FireplaceQu_Tencode|GarageArea', 'GarageType_Tencode|KitchenQual_Tencode', 'BsmtFinSF2|Fence_Tencode', 'LotArea|Condition2_Tencode', 'Neighborhood_Tencode|2ndFlrSF', 'Utilities_Tencode|SaleCondition_Tencode', 'PoolQC_Tencode|YearRemodAdd_Tencode', 'ExterCond_Tencode|BsmtCond_Tencode', 'LotArea|PavedDrive_Tencode', 'RoofMatl_Tencode', 'LandContour_Tencode|MiscVal', 'BsmtFinType1_Tencode|BedroomAbvGr', 'PoolQC_Tencode|LowQualFinSF', 'BsmtFinType1_Tencode|OverallQual_Tencode', 'Exterior2nd_Tencode|BsmtCond_Tencode', 'HouseStyle_Tencode|RoofStyle_Tencode', 'Alley_Tencode|3SsnPorch', 'BsmtFullBath|Exterior1st_Tencode', 'LotArea|GarageQual_Tencode', 'EnclosedPorch|MiscFeature_Tencode', 'GarageType_Tencode|BsmtCond_Tencode', 'TotalBsmtSF|LotShape_Tencode', 'GarageYrBltBins_Tencode|Id', 'HouseStyle_Tencode|LotConfig_Tencode', 'BsmtFullBath|ScreenPorch', 'Exterior2nd_Tencode|LotShape_Tencode', 'MSZoning_Tencode|BsmtHalfBath', 'GarageType_Tencode|3SsnPorch', 'Neighborhood_Tencode|BldgType_Tencode', 'BsmtFinType1_Tencode|BsmtFinType2_Tencode', 'HouseStyle_Tencode|MSSubClass_Tencode', 'ExterCond_Tencode|LandSlope_Tencode', 'ScreenPorch|MoSold_Tencode', 'PavedDrive_Tencode|LotFrontage', '3SsnPorch|BsmtHalfBath', 'EnclosedPorch|OverallQual_Tencode', 'TotalBsmtSF|MiscFeature_Tencode', 'TotalBsmtSF|HeatingQC_Tencode', 'OpenPorchSF|Exterior1st_Tencode', 'GarageCars|MSZoning_Tencode', 'BsmtFinSF2|Id', 'CentralAir_Tencode|LandSlope_Tencode', 'HalfBath|ExterQual_Tencode', 'PoolQC_Tencode|KitchenQual_Tencode', 'ExterCond_Tencode|BsmtQual_Tencode', 'GarageCars|PoolArea', 'PavedDrive_Tencode|LandSlope_Tencode', 'RoofStyle_Tencode|BsmtExposure_Tencode', 'LotConfig_Tencode|OverallCond_Tencode', 'Exterior1st_Tencode|ExterQual_Tencode', 'FullBath|GarageYrBlt', 'BsmtUnfSF|BsmtFullBath', 'MoSold_Tencode|YearRemodAdd_Tencode', 'FullBath|MSSubClass_Tencode', 'BedroomAbvGr|YearRemodAdd_Tencode', 'MasVnrArea|FullBath', 'MiscVal|EnclosedPorch', 'Electrical_Tencode|EnclosedPorch', 'TotRmsAbvGrd|BsmtExposure_Tencode', 'CentralAir_Tencode|BsmtCond_Tencode', 'BsmtUnfSF|LowQualFinSF', 'LotShape_Tencode|KitchenAbvGr', 'CentralAir_Tencode|YearBuilt_Tencode', 'HouseStyle_Tencode|Electrical_Tencode', 'OpenPorchSF|KitchenAbvGr', 'Foundation_Tencode|LotArea', 'Id|Electrical_Tencode', 'CentralAir_Tencode|BldgType_Tencode', 'LowQualFinSF|GarageFinish_Tencode', 'YrSold_Tencode|BsmtExposure_Tencode', '1stFlrSF|WoodDeckSF', 'GarageType_Tencode|TotRmsAbvGrd', 'Electrical_Tencode|SaleCondition_Tencode', 'CentralAir_Tencode|Condition1_Tencode', 'HalfBath|Street_Tencode', 'BsmtFinType1_Tencode|TotRmsAbvGrd', 'BsmtFinSF2|MoSold_Tencode', 'MiscVal|MoSold_Tencode', 'BsmtUnfSF|MiscVal', 'HalfBath|ScreenPorch', 'GarageCars|BsmtFinSF1', 'Exterior2nd_Tencode|EnclosedPorch', 'BsmtFinType2_Tencode|EnclosedPorch', 'Fireplaces|Exterior1st_Tencode', 'BsmtUnfSF|RoofStyle_Tencode', 'BsmtFinType1_Tencode|YrSold_Tencode', '1stFlrSF|BedroomAbvGr', 'GarageYrBltBins_Tencode|PoolQC_Tencode', 'BsmtFinType1_Tencode|MSZoning_Tencode', 'RoofStyle_Tencode|MasVnrType_Tencode', 'TotRmsAbvGrd|MasVnrType_Tencode', '1stFlrSF|MasVnrType_Tencode', 'BsmtCond_Tencode|BsmtFinSF1', 'CentralAir_Tencode|TotRmsAbvGrd', 'PoolArea|Alley_Tencode', 'YearBuilt_Tencode|Neighborhood_Tencode', 'BsmtFinType1_Tencode|BldgType_Tencode', 'BsmtFinType1_Tencode|Neighborhood_Tencode', 'GarageType_Tencode|KitchenAbvGr', 'Electrical_Tencode|BsmtExposure_Tencode', 'GarageCars|Functional_Tencode', 'Fireplaces|BsmtFinSF1', 'ExterQual_Tencode|HeatingQC_Tencode', '1stFlrSF|Heating_Tencode', 'RoofMatl_Tencode|HeatingQC_Tencode', 'YearBuilt_Tencode|GarageCond_Tencode', 'LowQualFinSF|BsmtHalfBath', 'MoSold_Tencode|EnclosedPorch', 'Condition1_Tencode|GarageFinish_Tencode', 'PoolQC_Tencode|ScreenPorch', 'GarageCars|LowQualFinSF', 'GarageYrBltBins_Tencode|GarageQual_Tencode', 'MasVnrArea|LotFrontage', 'YearBuilt_Tencode', 'BsmtQual_Tencode|Condition1_Tencode', 'KitchenQual_Tencode|EnclosedPorch', 'Functional_Tencode|PavedDrive_Tencode', 'ExterCond_Tencode|YearRemodAdd_Tencode', 'YearBuilt_Tencode|RoofMatl_Tencode', 'Exterior2nd_Tencode|BldgType_Tencode', 'RoofStyle_Tencode|Alley_Tencode', 'Utilities_Tencode|MiscVal', 'HalfBath|Condition1_Tencode', 'Exterior2nd_Tencode|BsmtExposure_Tencode', 'BldgType_Tencode|KitchenAbvGr', 'FireplaceQu_Tencode|LotShape_Tencode', 'BsmtFullBath|LotShape_Tencode', 'YearBuilt_Tencode|Alley_Tencode', 'YearRemodAdd', 'BldgType_Tencode|Heating_Tencode', 'FullBath|HouseStyle_Tencode', 'HalfBath|3SsnPorch', 'PoolQC_Tencode|3SsnPorch', 'BsmtFinType1_Tencode|BsmtHalfBath', 'Electrical_Tencode|ScreenPorch', 'HalfBath|LandSlope_Tencode', 'Electrical_Tencode|OverallQual_Tencode', 'Exterior2nd_Tencode|YrSold_Tencode', 'ExterCond_Tencode|Alley_Tencode', 'ExterQual_Tencode|LandSlope_Tencode', 'ExterCond_Tencode', 'FullBath|BldgType_Tencode', 'GrLivArea|GarageQual_Tencode', '1stFlrSF|GarageFinish_Tencode', 'GarageCars|SaleCondition_Tencode', 'GarageYrBlt|GarageArea', 'TotRmsAbvGrd|PavedDrive_Tencode', 'Foundation_Tencode|BldgType_Tencode', 'HouseStyle_Tencode|Exterior1st_Tencode', 'GarageYrBltBins_Tencode|MiscVal', 'Neighborhood_Tencode|ScreenPorch', 'PoolArea|BedroomAbvGr', 'ExterCond_Tencode|OverallQual_Tencode', 'BsmtFinType1_Tencode|GarageCond_Tencode', 'Fence_Tencode|TotalBsmtSF', 'LotConfig_Tencode|MiscFeature_Tencode', 'LotArea|Id', 'RoofStyle_Tencode|FireplaceQu_Tencode', 'LotArea|BsmtFinType1_Tencode', 'BsmtUnfSF|MSZoning_Tencode', 'OpenPorchSF|YrSold_Tencode', 'WoodDeckSF|LandSlope_Tencode', 'ScreenPorch|BsmtFinType2_Tencode', 'MiscVal|LandSlope_Tencode', 'BsmtFinType1_Tencode|ScreenPorch', 'FullBath|GarageFinish_Tencode', 'ExterQual_Tencode|TotalBsmtSF', 'BsmtFullBath|Condition1_Tencode', 'GrLivArea|LandContour_Tencode', 'Exterior2nd_Tencode|CentralAir_Tencode', 'LotArea|BsmtHalfBath', 'FullBath|BsmtFinType2_Tencode', 'RoofStyle_Tencode|GarageYrBlt', 'PoolQC_Tencode|1stFlrSF', 'Electrical_Tencode|Condition2_Tencode', 'RoofStyle_Tencode|Condition2_Tencode', 'GarageType_Tencode|SaleCondition_Tencode', 'MasVnrArea|Electrical_Tencode', 'Functional_Tencode|TotalBsmtSF', 'BsmtFullBath|BsmtQual_Tencode', 'MasVnrType_Tencode|GarageFinish_Tencode', 'ExterQual_Tencode|MSSubClass_Tencode', '1stFlrSF|LotShape_Tencode', 'LotArea|3SsnPorch', 'HalfBath|Condition2_Tencode', 'Foundation_Tencode|OpenPorchSF', 'Fence_Tencode|GarageYrBlt', 'BsmtUnfSF|MasVnrArea', 'ScreenPorch|MSZoning_Tencode', 'Foundation_Tencode|RoofStyle_Tencode', 'Fence_Tencode|BsmtExposure_Tencode', 'LotArea|BldgType_Tencode', 'GarageYrBlt|GarageFinish_Tencode', 'FireplaceQu_Tencode|MoSold_Tencode', 'LotShape_Tencode|BsmtHalfBath', 'OverallCond_Tencode|BsmtFinSF1', 'Id|HouseStyle_Tencode', 'Exterior1st_Tencode', 'YearBuilt_Tencode|YearRemodAdd_Tencode', 'LotFrontage|MiscFeature_Tencode', '1stFlrSF|PavedDrive_Tencode', 'YearBuilt_Tencode|GarageFinish_Tencode', 'Electrical_Tencode|MiscVal', 'GrLivArea|OverallQual_Tencode', 'LowQualFinSF|Fireplaces', 'RoofStyle_Tencode|ScreenPorch', 'Utilities_Tencode|ScreenPorch', '1stFlrSF|Fireplaces', 'CentralAir_Tencode|Functional_Tencode', 'Id|3SsnPorch', 'MasVnrArea|BsmtFinType2_Tencode', 'GarageArea|GarageQual_Tencode', 'LowQualFinSF|BedroomAbvGr', 'LowQualFinSF|Id', 'OpenPorchSF|HeatingQC_Tencode', 'PavedDrive_Tencode|MiscFeature_Tencode', 'BsmtCond_Tencode|BsmtHalfBath', 'LotFrontage|HeatingQC_Tencode', '2ndFlrSF|OverallQual_Tencode', 'Utilities_Tencode|GarageArea', '2ndFlrSF|MiscFeature_Tencode', 'GarageYrBlt|Condition1_Tencode', 'RoofStyle_Tencode|Condition1_Tencode', 'LotShape_Tencode|GarageQual_Tencode', 'GarageYrBltBins_Tencode|ScreenPorch', 'Fireplaces|Alley_Tencode', 'ScreenPorch|WoodDeckSF', 'Foundation_Tencode|MSZoning_Tencode', 'Fireplaces|TotalBsmtSF', 'OverallCond_Tencode|Street_Tencode', 'Exterior2nd_Tencode|BsmtHalfBath', 'ExterQual_Tencode|GarageArea', 'Exterior1st_Tencode|BsmtFinSF1', 'RoofMatl_Tencode|FireplaceQu_Tencode', 'Fence_Tencode|Street_Tencode', 'MasVnrType_Tencode|Utilities_Tencode', 'KitchenQual_Tencode|OverallQual_Tencode', 'Fireplaces|YearRemodAdd_Tencode', 'BsmtFinSF1|MoSold_Tencode', 'MasVnrArea|LandSlope_Tencode', 'OpenPorchSF|LotFrontage', 'BsmtFinType1_Tencode|BsmtFinSF1', 'Heating_Tencode|Utilities_Tencode', 'Id|EnclosedPorch', 'MasVnrType_Tencode|TotalBsmtSF', 'GarageType_Tencode|BsmtFinSF1', 'PavedDrive_Tencode|Condition2_Tencode', 'Id|RoofStyle_Tencode', 'TotRmsAbvGrd|YearRemodAdd_Tencode', 'GarageYrBltBins_Tencode|PoolArea', 'YearBuilt_Tencode|Heating_Tencode', 'Fence_Tencode|GarageFinish_Tencode', 'ExterCond_Tencode|FireplaceQu_Tencode', 'Heating_Tencode|LandSlope_Tencode', 'SaleType_Tencode|Fence_Tencode', 'PavedDrive_Tencode|MSZoning_Tencode', 'Exterior2nd_Tencode|3SsnPorch', 'BsmtUnfSF|2ndFlrSF', 'BsmtFullBath|CentralAir_Tencode', 'BsmtFinSF2|Electrical_Tencode', 'GarageYrBltBins_Tencode|SaleCondition_Tencode', 'FullBath|Id', 'ExterQual_Tencode|GarageCond_Tencode', 'GarageYrBltBins_Tencode|GarageFinish_Tencode', 'Heating_Tencode|OverallCond_Tencode', 'LowQualFinSF|TotalBsmtSF', 'LowQualFinSF|Functional_Tencode', 'BsmtQual_Tencode|BsmtExposure_Tencode', 'LandContour_Tencode|EnclosedPorch', 'GarageCars|Fence_Tencode', '1stFlrSF|2ndFlrSF', 'MasVnrType_Tencode|Condition1_Tencode', 'LotArea|Functional_Tencode', 'PoolArea|ScreenPorch', 'LowQualFinSF|Street_Tencode', 'YrSold_Tencode|MiscVal', 'MSSubClass_Tencode|EnclosedPorch', 'GarageArea|BsmtExposure_Tencode', 'GrLivArea|Fireplaces', 'GarageType_Tencode|LotConfig_Tencode', 'Exterior2nd_Tencode|Electrical_Tencode', 'SaleType_Tencode|LandSlope_Tencode', 'PoolArea|2ndFlrSF', 'HeatingQC_Tencode|LandSlope_Tencode', 'HalfBath|LandContour_Tencode', 'LotFrontage|Condition2_Tencode', 'BsmtFinSF1|OverallQual_Tencode', 'SaleCondition_Tencode', 'GarageCars|BsmtFinType1_Tencode', 'Electrical_Tencode|Condition1_Tencode', 'Foundation_Tencode|LotFrontage', 'Fence_Tencode|Condition1_Tencode', 'Foundation_Tencode|OverallCond_Tencode', 'Heating_Tencode|Alley_Tencode', 'MasVnrArea|Fireplaces', '3SsnPorch|Street_Tencode', 'LotArea|ExterQual_Tencode', 'BldgType_Tencode|Fence_Tencode', 'MSSubClass_Tencode|LandSlope_Tencode', 'BsmtFullBath|GarageYrBlt', 'TotRmsAbvGrd|LotShape_Tencode', 'TotRmsAbvGrd|Exterior1st_Tencode', 'BsmtUnfSF|HouseStyle_Tencode', 'Neighborhood_Tencode|TotRmsAbvGrd', 'OpenPorchSF|PavedDrive_Tencode', 'BsmtUnfSF|Condition2_Tencode', 'ScreenPorch|GarageYrBlt', 'BsmtUnfSF|GarageYrBlt', 'KitchenQual_Tencode|WoodDeckSF', 'PoolArea|PavedDrive_Tencode', 'OpenPorchSF|ExterCond_Tencode', 'ScreenPorch|YearRemodAdd_Tencode', 'BsmtFullBath|BsmtHalfBath', 'GarageYrBltBins_Tencode|ExterQual_Tencode', 'GarageCars|ExterCond_Tencode', 'TotRmsAbvGrd|MiscFeature_Tencode', 'PavedDrive_Tencode|YearRemodAdd_Tencode', 'FullBath|BsmtCond_Tencode', 'YrSold_Tencode|YearRemodAdd_Tencode', 'LandContour_Tencode|KitchenAbvGr', 'Foundation_Tencode|YearRemodAdd_Tencode', 'LowQualFinSF|LandContour_Tencode', 'Heating_Tencode|BsmtFinType2_Tencode', 'BsmtCond_Tencode|MSZoning_Tencode', 'LotArea|MSZoning_Tencode', 'HalfBath|OverallCond_Tencode', 'FullBath|WoodDeckSF', 'Street_Tencode|EnclosedPorch', 'GrLivArea|BldgType_Tencode', 'GarageCars|RoofMatl_Tencode', 'Fence_Tencode|OverallCond_Tencode', 'BsmtFullBath|Neighborhood_Tencode', 'ExterQual_Tencode|BsmtFinType2_Tencode', '1stFlrSF|Condition1_Tencode', 'BedroomAbvGr|GarageCond_Tencode', 'BldgType_Tencode|Street_Tencode', 'LowQualFinSF', 'CentralAir_Tencode|MiscFeature_Tencode', 'SaleType_Tencode|MSSubClass_Tencode', 'CentralAir_Tencode|HouseStyle_Tencode', 'BsmtCond_Tencode|HeatingQC_Tencode', 'SaleType_Tencode|Street_Tencode', 'BldgType_Tencode|MSSubClass_Tencode', 'MSSubClass_Tencode|BsmtHalfBath', 'YearBuilt_Tencode|SaleCondition_Tencode', 'Fireplaces|BsmtFinType2_Tencode', 'GrLivArea|OverallCond_Tencode', 'ExterQual_Tencode|MiscVal', 'TotRmsAbvGrd|LotConfig_Tencode', 'Fence_Tencode|GarageQual_Tencode', 'BsmtFinSF2|GarageCond_Tencode', 'WoodDeckSF|BsmtExposure_Tencode', 'OpenPorchSF|GarageFinish_Tencode', 'CentralAir_Tencode|Street_Tencode', 'Functional_Tencode|GarageYrBlt', 'SaleType_Tencode|Id', 'Fireplaces|Condition2_Tencode', 'Exterior1st_Tencode|MiscVal', 'Electrical_Tencode|BsmtFinSF1', 'MasVnrType_Tencode|LotFrontage', 'Exterior2nd_Tencode|OpenPorchSF', 'Functional_Tencode|PoolArea', 'PoolArea|LotShape_Tencode', 'SaleType_Tencode|RoofStyle_Tencode', 'Exterior2nd_Tencode|YearBuilt_Tencode', 'LotConfig_Tencode|OverallQual_Tencode', 'HouseStyle_Tencode|Condition2_Tencode', 'MSSubClass_Tencode|3SsnPorch', '3SsnPorch|EnclosedPorch', 'BldgType_Tencode|HouseStyle_Tencode', 'BsmtUnfSF|HalfBath', 'BsmtFinSF2|BsmtFullBath', 'BldgType_Tencode|MasVnrType_Tencode', 'LotArea|Fireplaces', 'Fireplaces|SaleCondition_Tencode', 'BsmtFinSF2|Exterior2nd_Tencode', 'MasVnrArea|LandContour_Tencode', 'MiscFeature_Tencode|OverallQual_Tencode', 'Foundation_Tencode|SaleCondition_Tencode', 'BsmtFinSF1|Condition2_Tencode', 'ScreenPorch|MiscVal', 'PoolQC_Tencode|LotConfig_Tencode', 'GarageCars|OpenPorchSF', 'PoolArea|3SsnPorch', 'YearBuilt_Tencode|Fence_Tencode', 'MasVnrArea|Fence_Tencode', '1stFlrSF|KitchenQual_Tencode', 'BsmtFinSF2|OverallCond_Tencode', 'TotalBsmtSF|GarageFinish_Tencode', 'Fireplaces|LandSlope_Tencode', 'LotArea|LandContour_Tencode', 'OverallCond_Tencode|GarageArea', 'Neighborhood_Tencode|Condition2_Tencode', 'Fireplaces|GarageYrBlt', 'Fireplaces|MSSubClass_Tencode', 'Functional_Tencode|Fence_Tencode', 'Fireplaces|Utilities_Tencode', 'Fireplaces', 'ScreenPorch|GarageArea', 'Electrical_Tencode|2ndFlrSF', 'BsmtFullBath|LotArea', 'LowQualFinSF|LotFrontage', 'Neighborhood_Tencode|BsmtExposure_Tencode', 'LotArea|KitchenAbvGr', 'FireplaceQu_Tencode|BsmtFinType2_Tencode', 'RoofMatl_Tencode|MiscVal', 'YearBuilt_Tencode|BsmtExposure_Tencode', 'CentralAir_Tencode|BsmtFinSF1', 'BsmtUnfSF|KitchenAbvGr', 'LandContour_Tencode|Condition2_Tencode', 'ExterCond_Tencode|BsmtHalfBath', 'Fireplaces|Fence_Tencode', 'TotalBsmtSF|OverallQual_Tencode', 'CentralAir_Tencode|YrSold_Tencode', 'Neighborhood_Tencode|Fireplaces', 'TotRmsAbvGrd|LandSlope_Tencode', 'MasVnrType_Tencode|GarageQual_Tencode', 'TotRmsAbvGrd|BsmtFinSF1', 'GrLivArea|RoofMatl_Tencode', 'PavedDrive_Tencode|KitchenQual_Tencode', 'PavedDrive_Tencode|WoodDeckSF', 'MoSold_Tencode|Street_Tencode', 'GarageYrBltBins_Tencode|GarageType_Tencode', 'HalfBath|TotalBsmtSF', 'GarageType_Tencode|Exterior1st_Tencode', 'Fence_Tencode|FireplaceQu_Tencode', 'ScreenPorch|BsmtHalfBath', 'ExterCond_Tencode|EnclosedPorch', 'PoolArea|Condition2_Tencode', 'GarageYrBltBins_Tencode|BsmtFinSF1', 'MSZoning_Tencode|LandSlope_Tencode', 'TotalBsmtSF|EnclosedPorch', 'BsmtUnfSF|TotalBsmtSF', 'Id|ExterQual_Tencode', 'ExterQual_Tencode|BsmtHalfBath', 'SaleType_Tencode|Utilities_Tencode', 'LotFrontage|GarageCond_Tencode', 'Id|Utilities_Tencode', 'BedroomAbvGr|SaleCondition_Tencode', 'TotRmsAbvGrd|SaleCondition_Tencode', 'BsmtFinSF2|BsmtFinType2_Tencode', 'OpenPorchSF|OverallCond_Tencode', 'Alley_Tencode|BedroomAbvGr', 'MasVnrArea|BsmtFinType1_Tencode', 'BsmtFinSF1', 'Fireplaces|MasVnrType_Tencode', 'PoolArea|Exterior1st_Tencode', 'YrSold_Tencode|HouseStyle_Tencode', 'Exterior2nd_Tencode|Foundation_Tencode', 'BsmtCond_Tencode|OverallQual_Tencode', 'ExterCond_Tencode|Functional_Tencode', 'GarageYrBlt', 'BsmtFinSF2|KitchenAbvGr', 'GarageYrBltBins_Tencode|LotShape_Tencode', 'Functional_Tencode|SaleType_Tencode', 'LotConfig_Tencode|LandContour_Tencode', 'BsmtFinSF2|GarageCars', 'Id|LandSlope_Tencode', 'LotArea|GarageType_Tencode', 'BsmtFinSF2|PoolQC_Tencode', 'RoofStyle_Tencode|LandContour_Tencode', 'LotShape_Tencode|YearRemodAdd_Tencode', 'PoolArea|LotConfig_Tencode', 'YrSold_Tencode|LotConfig_Tencode', 'BsmtFullBath|BsmtFinType1_Tencode', 'OpenPorchSF|YearRemodAdd_Tencode', 'BsmtCond_Tencode|PavedDrive_Tencode', 'CentralAir_Tencode|Alley_Tencode', 'Condition1_Tencode|EnclosedPorch', 'FullBath|KitchenAbvGr', 'Neighborhood_Tencode|LotShape_Tencode', 'Exterior1st_Tencode|GarageFinish_Tencode', 'PoolArea|Electrical_Tencode', 'MoSold_Tencode|BsmtFinType2_Tencode', 'FullBath|OverallCond_Tencode', 'PavedDrive_Tencode|GarageArea', 'MasVnrArea|BsmtExposure_Tencode', 'GarageType_Tencode|GarageQual_Tencode', 'FireplaceQu_Tencode|BsmtFinSF1', 'BsmtFinSF2|FireplaceQu_Tencode', 'MSSubClass_Tencode|OverallQual_Tencode', 'Neighborhood_Tencode|MSZoning_Tencode', 'GrLivArea|WoodDeckSF', 'BsmtUnfSF|LotArea', 'FullBath|GarageType_Tencode', 'RoofMatl_Tencode|ScreenPorch', 'MiscFeature_Tencode', 'BsmtFinSF2|TotalBsmtSF', 'CentralAir_Tencode|KitchenAbvGr', 'Neighborhood_Tencode|Exterior1st_Tencode', 'BsmtFullBath|RoofStyle_Tencode', 'GarageType_Tencode|GarageArea', 'Street_Tencode|MSZoning_Tencode', 'MiscFeature_Tencode|LandSlope_Tencode', 'OpenPorchSF|YearBuilt_Tencode', 'MasVnrArea|Neighborhood_Tencode', 'ExterQual_Tencode|KitchenQual_Tencode', 'Street_Tencode|OverallQual_Tencode', 'BsmtFinSF2|WoodDeckSF', 'RoofMatl_Tencode|Utilities_Tencode', 'HalfBath|RoofMatl_Tencode', 'FullBath|BsmtFinSF1', 'TotalBsmtSF|BsmtFinType2_Tencode', 'MasVnrArea|3SsnPorch', 'Neighborhood_Tencode|BsmtFinSF1', 'LowQualFinSF|Condition2_Tencode', 'BsmtFinType1_Tencode|Fence_Tencode', 'Functional_Tencode|FireplaceQu_Tencode', 'MasVnrArea|Street_Tencode', 'BsmtFinType1_Tencode|MiscVal', 'OpenPorchSF|WoodDeckSF', 'HalfBath|SaleType_Tencode', 'Exterior1st_Tencode|PavedDrive_Tencode', 'Foundation_Tencode|2ndFlrSF', '1stFlrSF|PoolArea', '1stFlrSF|HouseStyle_Tencode', 'LotConfig_Tencode|MoSold_Tencode', 'MSZoning_Tencode|GarageFinish_Tencode', 'OpenPorchSF|CentralAir_Tencode', 'Heating_Tencode', 'Neighborhood_Tencode|Alley_Tencode', 'PoolQC_Tencode|MasVnrArea', 'RoofStyle_Tencode|WoodDeckSF', 'FireplaceQu_Tencode|GarageCond_Tencode', 'BldgType_Tencode|2ndFlrSF', 'Exterior2nd_Tencode|Heating_Tencode', 'BedroomAbvGr|Street_Tencode', 'Exterior1st_Tencode|ScreenPorch', 'Condition1_Tencode|MSZoning_Tencode', 'Condition2_Tencode|YearRemodAdd_Tencode', 'BldgType_Tencode|ScreenPorch', 'LowQualFinSF|LotArea', 'Utilities_Tencode|MiscFeature_Tencode', 'LotShape_Tencode|Condition2_Tencode', 'Functional_Tencode|RoofStyle_Tencode', 'PoolQC_Tencode|CentralAir_Tencode', 'GarageYrBltBins_Tencode|YrSold_Tencode', 'LandContour_Tencode|BedroomAbvGr', 'GarageCars|Utilities_Tencode', 'GarageYrBltBins_Tencode|LotFrontage', 'BsmtUnfSF|BldgType_Tencode', '2ndFlrSF|LandSlope_Tencode', 'YearBuilt_Tencode|ExterCond_Tencode', 'Neighborhood_Tencode|EnclosedPorch', 'GrLivArea|EnclosedPorch', 'LandContour_Tencode|KitchenQual_Tencode', 'BsmtUnfSF|BsmtQual_Tencode', 'RoofStyle_Tencode|MoSold_Tencode', 'BsmtFullBath|HalfBath', 'LandContour_Tencode', 'Electrical_Tencode|KitchenQual_Tencode', 'Foundation_Tencode|GarageYrBlt', 'LowQualFinSF|Fence_Tencode', 'Exterior1st_Tencode|YearRemodAdd_Tencode', 'BldgType_Tencode|RoofStyle_Tencode', 'RoofStyle_Tencode|BsmtFinType2_Tencode', 'SaleCondition_Tencode|BsmtExposure_Tencode', 'Utilities_Tencode|LandSlope_Tencode', 'PoolQC_Tencode|RoofMatl_Tencode', 'BldgType_Tencode|BsmtFinSF1', 'FullBath|PavedDrive_Tencode', 'RoofMatl_Tencode|TotalBsmtSF', 'YrSold_Tencode|3SsnPorch', 'YrSold_Tencode|GarageYrBlt', 'PoolQC_Tencode|Exterior1st_Tencode', 'HalfBath|YearRemodAdd_Tencode', 'HalfBath|OpenPorchSF', 'YrSold_Tencode|SaleCondition_Tencode', 'GrLivArea|GarageYrBlt', 'OverallCond_Tencode|GarageFinish_Tencode', 'ExterQual_Tencode|GarageQual_Tencode', 'Exterior2nd_Tencode|FullBath', 'Exterior2nd_Tencode|MiscVal', 'BldgType_Tencode|RoofMatl_Tencode', 'GarageType_Tencode|RoofStyle_Tencode', 'MasVnrArea|PoolArea', 'ExterQual_Tencode|2ndFlrSF', 'LotShape_Tencode|LotFrontage', 'YearBuilt_Tencode|MasVnrArea', 'Electrical_Tencode|BsmtFinType2_Tencode', 'ExterCond_Tencode|GarageFinish_Tencode', 'BsmtUnfSF|BedroomAbvGr', 'GarageCars|GrLivArea', 'Fence_Tencode', 'BsmtUnfSF|Alley_Tencode', 'GarageCars|MasVnrArea', 'GarageYrBltBins_Tencode|BedroomAbvGr', 'BsmtUnfSF|GarageQual_Tencode', 'HalfBath|ExterCond_Tencode', 'GarageYrBltBins_Tencode|1stFlrSF', 'BsmtQual_Tencode|MiscVal', 'HalfBath|Electrical_Tencode', 'TotRmsAbvGrd|LandContour_Tencode', 'MoSold_Tencode|HeatingQC_Tencode', 'BsmtFinSF2|Condition2_Tencode', 'GarageType_Tencode|GrLivArea', 'LotArea|Street_Tencode', 'KitchenQual_Tencode|2ndFlrSF', 'PoolArea|Fence_Tencode', 'BsmtFinSF2|PavedDrive_Tencode', 'Functional_Tencode|ExterQual_Tencode', 'FullBath|BsmtFinType1_Tencode', 'MasVnrArea|BsmtQual_Tencode', 'LotArea|1stFlrSF', 'CentralAir_Tencode|SaleType_Tencode', 'Utilities_Tencode|YearRemodAdd_Tencode', 'Fence_Tencode|BsmtHalfBath', 'BsmtCond_Tencode|BsmtExposure_Tencode', 'BsmtCond_Tencode|ExterQual_Tencode', 'BsmtFinSF2|BsmtExposure_Tencode', 'BsmtUnfSF|BsmtFinSF1', 'TotalBsmtSF|MSZoning_Tencode', 'PavedDrive_Tencode|Street_Tencode', 'HalfBath|MSZoning_Tencode', 'Exterior1st_Tencode|Condition2_Tencode', 'TotRmsAbvGrd|MSSubClass_Tencode', 'LowQualFinSF|GarageYrBlt', 'YearRemodAdd_Tencode|OverallQual_Tencode', 'Exterior2nd_Tencode|LotArea', 'PoolQC_Tencode|Electrical_Tencode', 'Foundation_Tencode|LotConfig_Tencode', 'BsmtUnfSF|BsmtHalfBath', '1stFlrSF|YearRemodAdd_Tencode', 'HalfBath|MasVnrArea', 'LandSlope_Tencode', 'EnclosedPorch|WoodDeckSF', 'LowQualFinSF|Alley_Tencode', 'RoofStyle_Tencode|BsmtFinSF1', 'BsmtQual_Tencode|BsmtHalfBath', 'PoolArea|GarageFinish_Tencode', 'Utilities_Tencode|LotShape_Tencode', 'BsmtQual_Tencode|BsmtFinType2_Tencode', 'BsmtFinSF2|Fireplaces', 'Heating_Tencode|GarageQual_Tencode', 'Utilities_Tencode|OverallQual_Tencode', 'GrLivArea|BsmtExposure_Tencode', 'SaleType_Tencode|Exterior1st_Tencode', 'LotArea|Neighborhood_Tencode', 'GarageYrBltBins_Tencode|Utilities_Tencode', 'FullBath|PoolArea', 'Utilities_Tencode|Condition1_Tencode', 'LotShape_Tencode|WoodDeckSF', 'CentralAir_Tencode|GarageYrBlt', 'GarageCars|MSSubClass_Tencode', 'Id|OverallCond_Tencode', 'Functional_Tencode|2ndFlrSF', 'GarageYrBltBins_Tencode|GarageCars', 'BsmtQual_Tencode|Neighborhood_Tencode', 'LotShape_Tencode|GarageFinish_Tencode', 'PoolQC_Tencode|MoSold_Tencode', 'GarageCars|LotFrontage', 'HalfBath|TotRmsAbvGrd', 'RoofStyle_Tencode|HeatingQC_Tencode', 'BsmtCond_Tencode|3SsnPorch', 'OpenPorchSF|1stFlrSF', 'BsmtFinSF2|Heating_Tencode', 'ExterCond_Tencode|PoolArea', 'Condition2_Tencode|LandSlope_Tencode', 'GarageType_Tencode|BsmtExposure_Tencode', 'FullBath|ExterQual_Tencode', 'MiscVal|Street_Tencode', 'Exterior2nd_Tencode|BsmtQual_Tencode', 'BsmtFullBath|OpenPorchSF', 'Utilities_Tencode|BsmtFinType2_Tencode', 'Alley_Tencode|MSSubClass_Tencode', 'BsmtFullBath|TotRmsAbvGrd', 'BsmtQual_Tencode|RoofMatl_Tencode', 'BsmtFinSF2|TotRmsAbvGrd', 'MiscVal|GarageQual_Tencode', 'BsmtFullBath|YearBuilt_Tencode', 'TotalBsmtSF|FireplaceQu_Tencode', 'LotArea|LotConfig_Tencode', 'Fence_Tencode|2ndFlrSF', 'BsmtFinSF1|Street_Tencode', 'SaleType_Tencode|TotRmsAbvGrd', 'TotalBsmtSF|Street_Tencode', 'PavedDrive_Tencode|EnclosedPorch', 'MSZoning_Tencode|WoodDeckSF', 'Functional_Tencode|Condition2_Tencode', 'OpenPorchSF|BsmtQual_Tencode', 'MSSubClass_Tencode|Street_Tencode', 'ExterCond_Tencode|Utilities_Tencode', 'BsmtUnfSF', 'MiscVal|GarageFinish_Tencode', 'YrSold_Tencode|MasVnrType_Tencode', 'SaleCondition_Tencode|OverallQual_Tencode', 'PavedDrive_Tencode|Condition1_Tencode', 'BsmtUnfSF|GarageCond_Tencode', '1stFlrSF|LandContour_Tencode', 'ExterCond_Tencode|Condition1_Tencode', 'PavedDrive_Tencode|GarageCond_Tencode', 'Fence_Tencode|BsmtFinType2_Tencode', 'LowQualFinSF|PavedDrive_Tencode', 'BldgType_Tencode|EnclosedPorch', 'BsmtUnfSF|Condition1_Tencode', 'Foundation_Tencode|MasVnrArea', '1stFlrSF|GrLivArea', 'YrSold_Tencode|BsmtFinSF1', 'RoofStyle_Tencode|LotFrontage', 'BsmtFinSF2|GarageYrBlt', 'LotArea|BsmtQual_Tencode', 'LotArea|BsmtExposure_Tencode', 'YrSold_Tencode|Fence_Tencode', 'Foundation_Tencode|Condition2_Tencode', 'LotConfig_Tencode|GarageQual_Tencode', 'LotConfig_Tencode|Street_Tencode', 'Condition1_Tencode|OverallQual_Tencode', 'GarageFinish_Tencode', 'Fence_Tencode|Condition2_Tencode', 'BsmtExposure_Tencode', 'KitchenQual_Tencode|MoSold_Tencode', 'BsmtFullBath|LotConfig_Tencode', 'BsmtFullBath|KitchenAbvGr', 'Electrical_Tencode|Street_Tencode', 'GarageCars|KitchenAbvGr', 'LotConfig_Tencode|BsmtHalfBath', 'GarageCond_Tencode', 'CentralAir_Tencode|MSSubClass_Tencode', 'CentralAir_Tencode|MasVnrType_Tencode', 'PoolQC_Tencode|Utilities_Tencode', 'Electrical_Tencode|BsmtHalfBath', 'CentralAir_Tencode|OverallQual_Tencode', 'LandContour_Tencode|3SsnPorch', '3SsnPorch|KitchenAbvGr', 'BsmtFinType1_Tencode|LandContour_Tencode', 'BsmtFinSF2', 'BsmtUnfSF|GarageFinish_Tencode', 'Foundation_Tencode|GrLivArea', 'EnclosedPorch|MSZoning_Tencode', 'PavedDrive_Tencode|Fence_Tencode', 'LandContour_Tencode|GarageCond_Tencode', 'YrSold_Tencode|Street_Tencode', 'LandContour_Tencode|WoodDeckSF', 'OpenPorchSF|Fireplaces', 'HalfBath|GarageArea', 'BsmtQual_Tencode|Street_Tencode', 'LotArea|Heating_Tencode', 'Foundation_Tencode|RoofMatl_Tencode', 'BsmtFinType1_Tencode|LotShape_Tencode', 'SaleType_Tencode|MasVnrType_Tencode', 'GrLivArea|TotRmsAbvGrd', 'GarageYrBltBins_Tencode|GarageCond_Tencode', 'Utilities_Tencode|MSZoning_Tencode', 'GarageYrBltBins_Tencode|LandSlope_Tencode', 'HouseStyle_Tencode|GarageYrBlt', 'BsmtFullBath|BsmtExposure_Tencode', 'MSSubClass_Tencode|MSZoning_Tencode', 'CentralAir_Tencode|Utilities_Tencode', 'YrSold_Tencode|BedroomAbvGr', 'OpenPorchSF', 'FireplaceQu_Tencode|GarageFinish_Tencode', 'Neighborhood_Tencode|OverallCond_Tencode', 'BsmtFinType2_Tencode|GarageFinish_Tencode', 'FireplaceQu_Tencode|GarageQual_Tencode', 'BsmtFullBath|SaleCondition_Tencode', 'BsmtQual_Tencode|KitchenAbvGr', 'FireplaceQu_Tencode|Street_Tencode', 'RoofMatl_Tencode|Electrical_Tencode', 'ExterQual_Tencode|MasVnrType_Tencode', 'Exterior2nd_Tencode|Exterior1st_Tencode', 'MasVnrType_Tencode|LotShape_Tencode', 'BsmtQual_Tencode|Functional_Tencode', 'Exterior2nd_Tencode|LandSlope_Tencode', 'OpenPorchSF|MoSold_Tencode', 'Heating_Tencode|KitchenAbvGr', 'PoolQC_Tencode|HouseStyle_Tencode', 'BsmtCond_Tencode|RoofStyle_Tencode', 'BsmtUnfSF|BsmtFinType2_Tencode', 'BsmtUnfSF|YearRemodAdd_Tencode', 'OpenPorchSF|GrLivArea', 'BsmtFullBath|BsmtCond_Tencode', 'Alley_Tencode|MoSold_Tencode', 'BsmtUnfSF|ExterQual_Tencode', 'Exterior2nd_Tencode|TotalBsmtSF', 'Functional_Tencode|Street_Tencode', 'MoSold_Tencode|Condition2_Tencode', 'YearBuilt_Tencode|LotArea', 'PoolQC_Tencode|MiscFeature_Tencode', 'MasVnrArea|Exterior1st_Tencode', 'PavedDrive_Tencode|FireplaceQu_Tencode', 'Heating_Tencode|MiscFeature_Tencode', 'Heating_Tencode|GarageCond_Tencode', 'Alley_Tencode|BsmtFinSF1', 'Foundation_Tencode|Heating_Tencode', '1stFlrSF|BldgType_Tencode', 'GarageType_Tencode|BsmtHalfBath', 'Functional_Tencode|MiscVal', 'YearBuilt', 'GarageCars|BsmtHalfBath', 'MiscFeature_Tencode|GarageQual_Tencode', 'Condition1_Tencode|YearRemodAdd_Tencode', 'SaleType_Tencode|LotShape_Tencode', 'Heating_Tencode|GarageFinish_Tencode', 'LotFrontage|BsmtHalfBath', 'Functional_Tencode|KitchenQual_Tencode', 'LotShape_Tencode|GarageArea', 'BldgType_Tencode|BsmtHalfBath', 'HeatingQC_Tencode|WoodDeckSF', 'BsmtUnfSF|SaleType_Tencode', 'Neighborhood_Tencode|MasVnrType_Tencode', 'GarageCars|FireplaceQu_Tencode', 'Foundation_Tencode|GarageQual_Tencode', 'OpenPorchSF|Functional_Tencode', 'Heating_Tencode|HeatingQC_Tencode', 'RoofMatl_Tencode|LandSlope_Tencode', 'MasVnrType_Tencode|MSZoning_Tencode', 'RoofMatl_Tencode|OverallCond_Tencode', 'BldgType_Tencode|GarageYrBlt', 'Fireplaces|OverallCond_Tencode', 'BldgType_Tencode|TotalBsmtSF', 'CentralAir_Tencode|Neighborhood_Tencode', 'BsmtFinSF1|MSSubClass_Tencode', 'GarageArea|Street_Tencode', 'FullBath|SaleCondition_Tencode', 'Street_Tencode|Condition2_Tencode', 'MasVnrArea|MasVnrType_Tencode', 'Exterior2nd_Tencode|LowQualFinSF', 'YearBuilt_Tencode|2ndFlrSF', 'FireplaceQu_Tencode|MSSubClass_Tencode', 'LandContour_Tencode|HeatingQC_Tencode', 'OpenPorchSF|PoolQC_Tencode', 'Functional_Tencode|1stFlrSF', 'ExterQual_Tencode|BsmtFinSF1', 'GarageCars|BsmtQual_Tencode', 'ScreenPorch|LotShape_Tencode', 'BsmtQual_Tencode|GarageFinish_Tencode', '1stFlrSF|Exterior1st_Tencode', 'GarageCars|2ndFlrSF', 'Exterior1st_Tencode|LotShape_Tencode', 'RoofMatl_Tencode|MSZoning_Tencode', 'HalfBath|2ndFlrSF', 'RoofMatl_Tencode|Heating_Tencode', 'RoofStyle_Tencode|BsmtHalfBath', 'MSZoning_Tencode|SaleCondition_Tencode', 'GarageYrBltBins_Tencode|Exterior2nd_Tencode', 'PoolArea|Condition1_Tencode', 'GrLivArea|LotFrontage', 'GarageYrBltBins_Tencode|HalfBath', 'MasVnrArea|TotRmsAbvGrd', 'GarageCars|Electrical_Tencode', '1stFlrSF|Street_Tencode', 'RoofStyle_Tencode|OverallCond_Tencode', 'PavedDrive_Tencode|GarageFinish_Tencode', 'KitchenAbvGr|Condition2_Tencode', 'YearRemodAdd_Tencode|GarageFinish_Tencode', 'CentralAir_Tencode|TotalBsmtSF', 'HalfBath|Functional_Tencode', 'BsmtUnfSF|HeatingQC_Tencode', '3SsnPorch|BsmtExposure_Tencode', 'LotArea|2ndFlrSF', 'Electrical_Tencode', 'ExterCond_Tencode|1stFlrSF', 'HalfBath|RoofStyle_Tencode', 'EnclosedPorch|BsmtHalfBath', 'LotConfig_Tencode|TotalBsmtSF', 'BsmtFinType2_Tencode|2ndFlrSF', 'BsmtQual_Tencode|MasVnrType_Tencode', 'Fence_Tencode|Alley_Tencode', 'ExterCond_Tencode|MoSold_Tencode', 'Foundation_Tencode|YrSold_Tencode', 'BsmtFinSF2|YearBuilt_Tencode', 'PoolQC_Tencode|FullBath', 'ExterCond_Tencode|LotFrontage', 'GarageCars|GarageYrBlt', 'BsmtFinType1_Tencode|LotConfig_Tencode', 'YearBuilt_Tencode|KitchenQual_Tencode', 'BsmtFinSF2|LotConfig_Tencode', 'KitchenQual_Tencode', 'TotalBsmtSF|Condition2_Tencode', '2ndFlrSF|Condition2_Tencode', 'RoofStyle_Tencode|Heating_Tencode', 'Fireplaces|FireplaceQu_Tencode', 'Functional_Tencode|GarageCond_Tencode', 'BsmtCond_Tencode|LotFrontage', 'OverallCond_Tencode|Electrical_Tencode', 'YearBuilt_Tencode|Utilities_Tencode', 'GarageYrBltBins_Tencode|LowQualFinSF', 'Neighborhood_Tencode|HeatingQC_Tencode', 'BsmtFinSF1|GarageQual_Tencode', 'PoolArea|GarageCond_Tencode', 'Fireplaces|Condition1_Tencode', 'PoolQC_Tencode|Functional_Tencode', 'SaleType_Tencode|GarageArea', 'LotConfig_Tencode|GarageCond_Tencode', 'Id|BsmtHalfBath', 'Street_Tencode', 'MasVnrType_Tencode|GarageArea', 'GarageYrBltBins_Tencode|WoodDeckSF', 'BsmtFinType1_Tencode|SaleType_Tencode', 'LandContour_Tencode|LandSlope_Tencode', 'WoodDeckSF', 'BsmtCond_Tencode|MiscVal', 'Condition2_Tencode', 'MasVnrArea|RoofMatl_Tencode', 'Condition2_Tencode|GarageCond_Tencode', 'Fireplaces|Electrical_Tencode', 'GarageYrBlt|HeatingQC_Tencode', 'ExterQual_Tencode|OverallQual_Tencode', 'YearBuilt_Tencode|OverallQual_Tencode', 'Fence_Tencode|YearRemodAdd_Tencode', 'CentralAir_Tencode|LotFrontage', 'YearBuilt_Tencode|PavedDrive_Tencode', 'GarageType_Tencode|Electrical_Tencode', 'Id|Condition1_Tencode', '1stFlrSF|KitchenAbvGr', 'BsmtFullBath|BsmtFinType2_Tencode', 'ExterQual_Tencode|GarageYrBlt', 'HouseStyle_Tencode|ExterQual_Tencode', 'Fireplaces|BldgType_Tencode', 'MoSold_Tencode|WoodDeckSF', 'BsmtFinSF2|ExterQual_Tencode', 'GarageCars|LotArea', 'HouseStyle_Tencode|MasVnrType_Tencode', 'ExterCond_Tencode|OverallCond_Tencode', 'BsmtCond_Tencode|Condition1_Tencode', 'Functional_Tencode|Electrical_Tencode', 'ExterQual_Tencode|Condition1_Tencode', 'Heating_Tencode|MSSubClass_Tencode', 'Exterior2nd_Tencode|ScreenPorch', 'HalfBath|BsmtFinSF1', 'Heating_Tencode|FireplaceQu_Tencode', 'ExterQual_Tencode|PavedDrive_Tencode', 'BsmtUnfSF|MoSold_Tencode', 'BsmtCond_Tencode|Condition2_Tencode', 'Id|OverallQual_Tencode', 'GrLivArea|Alley_Tencode', 'TotRmsAbvGrd|TotalBsmtSF', 'BsmtCond_Tencode|2ndFlrSF', '2ndFlrSF|YearRemodAdd_Tencode', 'BsmtFinSF1|BsmtHalfBath', 'BsmtUnfSF|LotFrontage', 'Neighborhood_Tencode|YearRemodAdd_Tencode', 'GarageQual_Tencode|BsmtExposure_Tencode', 'Foundation_Tencode', 'Electrical_Tencode|MSSubClass_Tencode', 'Exterior1st_Tencode|KitchenAbvGr', 'EnclosedPorch|BsmtExposure_Tencode', 'TotalBsmtSF|BsmtHalfBath', 'GarageYrBltBins_Tencode|Condition2_Tencode', 'BsmtFinType1_Tencode|GarageArea', 'BsmtCond_Tencode|GarageArea', 'ExterQual_Tencode|MiscFeature_Tencode', 'GarageYrBltBins_Tencode|MiscFeature_Tencode', 'LotArea|MiscFeature_Tencode', 'LowQualFinSF|KitchenQual_Tencode', 'MasVnrType_Tencode|Electrical_Tencode', 'Exterior1st_Tencode|MSSubClass_Tencode', 'PavedDrive_Tencode|MasVnrType_Tencode', 'MasVnrType_Tencode|3SsnPorch', 'BsmtFinType1_Tencode|TotalBsmtSF', 'GarageCars|Alley_Tencode', 'BldgType_Tencode|Utilities_Tencode', 'Alley_Tencode|GarageArea', 'OpenPorchSF|ExterQual_Tencode', 'BsmtUnfSF|PavedDrive_Tencode', 'PoolArea|Neighborhood_Tencode', 'BsmtFinSF2|SaleType_Tencode', 'GarageYrBltBins_Tencode|GarageYrBlt', 'GarageYrBlt|MSZoning_Tencode', 'BldgType_Tencode|BedroomAbvGr', 'ExterQual_Tencode|Alley_Tencode', 'Fireplaces|LotShape_Tencode', 'CentralAir_Tencode|WoodDeckSF', 'KitchenQual_Tencode|MSZoning_Tencode', 'GrLivArea|2ndFlrSF', 'Exterior1st_Tencode|GarageCond_Tencode', 'OverallCond_Tencode|Alley_Tencode', 'HouseStyle_Tencode|LotFrontage', 'TotRmsAbvGrd|GarageYrBlt', 'BldgType_Tencode|LotConfig_Tencode', 'FullBath|RoofMatl_Tencode', 'LotConfig_Tencode|Heating_Tencode', 'Neighborhood_Tencode|KitchenAbvGr', 'YrSold_Tencode|LotShape_Tencode', 'Utilities_Tencode|GarageYrBlt', 'MasVnrType_Tencode|WoodDeckSF', 'HalfBath|MiscFeature_Tencode', 'BsmtQual_Tencode|2ndFlrSF', 'BsmtCond_Tencode|RoofMatl_Tencode', 'OverallQual', 'GarageYrBlt|MoSold_Tencode', 'YrSold_Tencode|RoofStyle_Tencode', 'GarageType_Tencode|HouseStyle_Tencode', 'LotFrontage|EnclosedPorch', 'GarageCars|FullBath', 'Neighborhood_Tencode|GrLivArea', 'BsmtFinSF2|HouseStyle_Tencode', 'BsmtFullBath|Fence_Tencode', 'TotRmsAbvGrd|HeatingQC_Tencode', 'Street_Tencode|YearRemodAdd_Tencode', 'CentralAir_Tencode|LowQualFinSF', 'LotArea|Condition1_Tencode', 'HouseStyle_Tencode|Condition1_Tencode', 'GarageType_Tencode|GarageYrBlt', 'LotFrontage|KitchenAbvGr', 'GarageType_Tencode|MSSubClass_Tencode', 'BsmtFinType1_Tencode|OverallCond_Tencode', 'MSZoning_Tencode|GarageQual_Tencode', 'GrLivArea|Heating_Tencode', 'Foundation_Tencode|Exterior1st_Tencode', 'LowQualFinSF|FireplaceQu_Tencode', 'KitchenQual_Tencode|GarageCond_Tencode', 'LandContour_Tencode|Condition1_Tencode', 'Foundation_Tencode|PoolArea', 'BsmtFinType1_Tencode|Street_Tencode', 'Fireplaces|KitchenAbvGr', 'Fireplaces|RoofMatl_Tencode', 'MiscFeature_Tencode|GarageCond_Tencode', 'Id|SaleCondition_Tencode', 'ExterCond_Tencode|Fence_Tencode', 'KitchenAbvGr|GarageCond_Tencode', 'Heating_Tencode|ScreenPorch', 'ScreenPorch|OverallQual_Tencode', 'MiscVal|YearRemodAdd_Tencode', 'HeatingQC_Tencode|3SsnPorch', 'HouseStyle_Tencode|MiscFeature_Tencode', 'BsmtFinType1_Tencode|KitchenAbvGr', 'BsmtUnfSF|PoolQC_Tencode', 'Fence_Tencode|ScreenPorch', 'MoSold_Tencode|MiscFeature_Tencode', '2ndFlrSF|GarageQual_Tencode', 'BsmtFinType1_Tencode|Condition1_Tencode', 'Exterior2nd_Tencode|LotFrontage', 'BsmtQual_Tencode|FireplaceQu_Tencode', 'Foundation_Tencode|ExterCond_Tencode', 'ScreenPorch|EnclosedPorch', 'MasVnrArea|MoSold_Tencode', 'BsmtQual_Tencode|BldgType_Tencode', 'Functional_Tencode|Fireplaces', 'Condition1_Tencode|Condition2_Tencode', 'Electrical_Tencode|GarageYrBlt', 'YrSold_Tencode|Condition2_Tencode', 'LowQualFinSF|GarageCond_Tencode', 'FullBath|MasVnrType_Tencode', 'TotRmsAbvGrd|2ndFlrSF', 'ExterCond_Tencode|Fireplaces', 'BsmtUnfSF|LandContour_Tencode', 'BsmtQual_Tencode|BsmtCond_Tencode', 'CentralAir_Tencode|FullBath', 'YearBuilt_Tencode|EnclosedPorch', 'GarageType_Tencode|LotFrontage', 'GarageCars|RoofStyle_Tencode', 'Utilities_Tencode|BedroomAbvGr', 'YrSold_Tencode|GarageFinish_Tencode', 'BsmtFullBath|Functional_Tencode', 'Exterior2nd_Tencode|Condition1_Tencode', 'LotShape_Tencode|BedroomAbvGr', 'LowQualFinSF|PoolArea', 'BsmtQual_Tencode|GrLivArea', 'GarageYrBltBins_Tencode|OverallCond_Tencode', 'MasVnrType_Tencode|YearRemodAdd_Tencode', 'ExterQual_Tencode|LandContour_Tencode', 'GarageArea|MSZoning_Tencode', 'LotArea|WoodDeckSF', 'Heating_Tencode|MasVnrType_Tencode', 'MSSubClass_Tencode|KitchenAbvGr', 'HouseStyle_Tencode|KitchenQual_Tencode', 'BsmtFinType1_Tencode|Id', 'MasVnrArea|SaleCondition_Tencode', 'MasVnrType_Tencode|Alley_Tencode', 'Exterior2nd_Tencode|Utilities_Tencode', 'LowQualFinSF|Heating_Tencode', 'MasVnrArea|MSZoning_Tencode', 'BsmtFinSF2|ExterCond_Tencode', 'KitchenAbvGr|BsmtHalfBath', 'YrSold_Tencode|OverallQual_Tencode', 'Foundation_Tencode|CentralAir_Tencode', 'PoolArea|BldgType_Tencode', 'LotFrontage|3SsnPorch', 'LotFrontage|GarageQual_Tencode', 'OpenPorchSF|LotShape_Tencode', 'RoofMatl_Tencode|MasVnrType_Tencode', 'Neighborhood_Tencode|MSSubClass_Tencode', 'HouseStyle_Tencode|GarageQual_Tencode', 'BldgType_Tencode|3SsnPorch', '1stFlrSF|GarageCond_Tencode', 'Fireplaces|PavedDrive_Tencode', 'GrLivArea|KitchenAbvGr', 'Foundation_Tencode|KitchenQual_Tencode', 'GarageYrBlt|BedroomAbvGr', 'OverallCond_Tencode|MoSold_Tencode', 'GarageQual_Tencode|LandSlope_Tencode', 'YearBuilt_Tencode|LotFrontage', 'PoolQC_Tencode|TotalBsmtSF', 'ExterCond_Tencode|ExterQual_Tencode', 'ScreenPorch|BsmtExposure_Tencode', 'GarageYrBltBins_Tencode|CentralAir_Tencode', 'RoofMatl_Tencode|Condition1_Tencode', 'BsmtFullBath|ExterCond_Tencode', 'Exterior2nd_Tencode|HalfBath', 'ExterQual_Tencode|Electrical_Tencode', 'EnclosedPorch', '3SsnPorch|GarageFinish_Tencode', 'CentralAir_Tencode|ScreenPorch', 'RoofStyle_Tencode|LotShape_Tencode', 'GarageType_Tencode|Id', 'GarageCars|CentralAir_Tencode', 'HalfBath|BedroomAbvGr', 'Id|BsmtCond_Tencode', 'ExterCond_Tencode|Electrical_Tencode', 'MSSubClass_Tencode|BedroomAbvGr', 'Functional_Tencode|BsmtFinType2_Tencode', 'Heating_Tencode|EnclosedPorch', 'TotalBsmtSF|LandSlope_Tencode', 'YrSold_Tencode|Utilities_Tencode', 'YearBuilt_Tencode|LandSlope_Tencode', 'MasVnrType_Tencode|FireplaceQu_Tencode', 'LowQualFinSF|HouseStyle_Tencode', 'GarageCars|Condition2_Tencode', 'FireplaceQu_Tencode|EnclosedPorch', 'GarageYrBlt|GarageQual_Tencode', 'BsmtHalfBath', 'GarageYrBltBins_Tencode|RoofStyle_Tencode', 'SaleType_Tencode|Heating_Tencode', 'LotShape_Tencode|EnclosedPorch', 'GarageQual_Tencode', 'FireplaceQu_Tencode|Alley_Tencode', 'YearRemodAdd_Tencode|MSZoning_Tencode', 'Fireplaces|WoodDeckSF', 'BsmtCond_Tencode|WoodDeckSF', 'BsmtQual_Tencode|MSSubClass_Tencode', 'SaleType_Tencode|OverallCond_Tencode', 'BedroomAbvGr|3SsnPorch', 'YrSold', 'BldgType_Tencode|GarageArea', 'Exterior2nd_Tencode|HouseStyle_Tencode', 'Heating_Tencode|BedroomAbvGr', 'Foundation_Tencode|Fence_Tencode', '2ndFlrSF|GarageFinish_Tencode', 'PoolQC_Tencode|LotArea', 'HouseStyle_Tencode|Heating_Tencode', 'ExterCond_Tencode|GarageQual_Tencode', 'Alley_Tencode|GarageFinish_Tencode', 'LowQualFinSF|LandSlope_Tencode', 'RoofMatl_Tencode|BsmtExposure_Tencode', 'LowQualFinSF|MasVnrArea', 'OpenPorchSF|BsmtFinType1_Tencode', 'YearRemodAdd_Tencode|BsmtHalfBath', '3SsnPorch|SaleCondition_Tencode', 'PoolArea|MoSold_Tencode', 'RoofMatl_Tencode|Alley_Tencode', 'GarageArea|BsmtFinType2_Tencode', 'Exterior2nd_Tencode|GarageYrBlt', 'GarageYrBltBins_Tencode|OpenPorchSF', 'LotConfig_Tencode|GarageYrBlt', 'LotArea|BsmtCond_Tencode', 'CentralAir_Tencode|Condition2_Tencode', 'BsmtFinSF2|EnclosedPorch', 'BldgType_Tencode', 'GarageCars|BsmtFinType2_Tencode', 'GarageCars|GarageArea', 'HouseStyle_Tencode|HeatingQC_Tencode', 'TotRmsAbvGrd|BedroomAbvGr', 'MiscVal|BedroomAbvGr', 'BsmtFinSF2|2ndFlrSF', 'PoolArea|WoodDeckSF', 'Heating_Tencode|TotalBsmtSF', 'HouseStyle_Tencode|3SsnPorch', 'PavedDrive_Tencode|TotalBsmtSF', 'YrSold_Tencode|WoodDeckSF', 'KitchenQual_Tencode|Condition2_Tencode', 'CentralAir_Tencode', 'FireplaceQu_Tencode|Condition2_Tencode', 'KitchenQual_Tencode|GarageArea', 'BsmtFullBath|Foundation_Tencode', 'LowQualFinSF|GarageArea', 'BsmtFinType1_Tencode|MasVnrType_Tencode', 'FullBath|BsmtQual_Tencode', 'FireplaceQu_Tencode|HeatingQC_Tencode', 'LotArea|YearRemodAdd_Tencode', 'LowQualFinSF|BsmtExposure_Tencode', 'OverallCond_Tencode|KitchenQual_Tencode', 'FullBath|BsmtExposure_Tencode', '1stFlrSF|Id', 'Fence_Tencode|MiscVal', 'LotConfig_Tencode|PavedDrive_Tencode', 'Fence_Tencode|KitchenQual_Tencode', 'FullBath|Utilities_Tencode', 'BsmtQual_Tencode|RoofStyle_Tencode', 'BsmtHalfBath|GarageFinish_Tencode', 'YearBuilt_Tencode|HeatingQC_Tencode', 'Heating_Tencode|LotShape_Tencode', 'GarageYrBltBins_Tencode|TotalBsmtSF', 'GrLivArea|LandSlope_Tencode', 'BsmtFinType2_Tencode|OverallQual_Tencode', 'Electrical_Tencode|MiscFeature_Tencode', 'Functional_Tencode|HouseStyle_Tencode', 'MiscVal|GarageCond_Tencode', 'BsmtFinSF2|MasVnrArea', 'FullBath|Electrical_Tencode', 'BldgType_Tencode|ExterQual_Tencode', 'OverallCond_Tencode|BsmtHalfBath', 'MiscVal|LotFrontage', 'RoofStyle_Tencode|2ndFlrSF', 'CentralAir_Tencode|LotConfig_Tencode', 'YrSold_Tencode|KitchenAbvGr', 'Foundation_Tencode|GarageFinish_Tencode', 'LotArea|PoolArea', 'BsmtCond_Tencode|EnclosedPorch', 'CentralAir_Tencode|KitchenQual_Tencode', 'BldgType_Tencode|FireplaceQu_Tencode', 'BsmtUnfSF|Fireplaces', 'Fence_Tencode|SaleCondition_Tencode', 'Condition1_Tencode|Street_Tencode', 'BedroomAbvGr|BsmtExposure_Tencode', 'GarageYrBltBins_Tencode|OverallQual_Tencode', 'MasVnrType_Tencode|Condition2_Tencode', 'Utilities_Tencode|KitchenAbvGr', 'BsmtQual_Tencode|Condition2_Tencode', 'YearBuilt_Tencode|BsmtHalfBath', 'MasVnrArea|GarageYrBlt', 'ExterQual_Tencode|Utilities_Tencode', 'Exterior1st_Tencode|Utilities_Tencode', 'MasVnrArea|2ndFlrSF', 'MSSubClass_Tencode|WoodDeckSF', 'Id', 'HalfBath|MasVnrType_Tencode', 'OpenPorchSF|MiscVal', 'YearBuilt_Tencode|ExterQual_Tencode', 'BldgType_Tencode|MiscVal', 'YrSold_Tencode|EnclosedPorch', 'PoolArea|KitchenAbvGr', 'BsmtFullBath|SaleType_Tencode', 'Id|BsmtFinSF1', 'HouseStyle_Tencode|EnclosedPorch', 'RoofMatl_Tencode|LotFrontage', 'PavedDrive_Tencode|HeatingQC_Tencode', 'GarageCars|OverallQual_Tencode', 'KitchenQual_Tencode|BsmtExposure_Tencode', 'Foundation_Tencode|LandSlope_Tencode', 'Heating_Tencode|LandContour_Tencode', 'Utilities_Tencode|BsmtExposure_Tencode', 'TotRmsAbvGrd|Condition2_Tencode', 'PoolArea|GarageYrBlt', 'LotShape_Tencode|MoSold_Tencode', 'HouseStyle_Tencode|LandContour_Tencode', 'ScreenPorch|BsmtFinSF1', 'Heating_Tencode|MoSold_Tencode', 'MiscVal|MiscFeature_Tencode', 'MasVnrArea|HeatingQC_Tencode', 'Electrical_Tencode|LotFrontage', 'PoolQC_Tencode|Condition1_Tencode', 'LandContour_Tencode|FireplaceQu_Tencode', 'OpenPorchSF|Fence_Tencode', 'Foundation_Tencode|ScreenPorch', 'YearBuilt_Tencode|BsmtQual_Tencode', 'Exterior1st_Tencode|OverallQual_Tencode', 'ExterCond_Tencode|SaleCondition_Tencode', 'ExterCond_Tencode|MiscVal', 'PoolArea|YearRemodAdd_Tencode', 'RoofStyle_Tencode|LandSlope_Tencode', 'FullBath|YearRemodAdd_Tencode', 'YearBuilt_Tencode|YrSold_Tencode', 'Id|MSZoning_Tencode', 'GarageYrBltBins_Tencode|Neighborhood_Tencode', 'GarageYrBltBins_Tencode|Condition1_Tencode', 'Fireplaces|ScreenPorch', 'BsmtFullBath|RoofMatl_Tencode', 'BldgType_Tencode|Electrical_Tencode', 'LotFrontage|MSZoning_Tencode', 'BsmtFinType1_Tencode|MoSold_Tencode', 'BsmtFinSF2|MasVnrType_Tencode', 'GrLivArea|BsmtFinSF1', 'KitchenAbvGr|LandSlope_Tencode', 'LandContour_Tencode|Utilities_Tencode', 'BsmtFinSF2|Neighborhood_Tencode', 'TotalBsmtSF|GarageArea', 'MSSubClass_Tencode', 'Exterior1st_Tencode|HeatingQC_Tencode', 'BsmtQual_Tencode|BsmtFinSF1', 'CentralAir_Tencode|Fireplaces', 'LowQualFinSF|KitchenAbvGr', 'Heating_Tencode|MiscVal', 'Functional_Tencode|OverallQual_Tencode', 'GarageCars|YearRemodAdd_Tencode', 'OverallCond_Tencode|BsmtFinType2_Tencode', 'YrSold_Tencode|HeatingQC_Tencode', 'Id|ScreenPorch', 'BldgType_Tencode|PavedDrive_Tencode', 'Foundation_Tencode|OverallQual_Tencode', 'GarageCars|EnclosedPorch', 'Neighborhood_Tencode|LotFrontage', 'HalfBath|MoSold_Tencode', 'GarageYrBltBins_Tencode|BsmtHalfBath', 'BsmtExposure_Tencode|GarageCond_Tencode', '1stFlrSF|GarageYrBlt', 'PoolArea|BsmtExposure_Tencode', 'BsmtCond_Tencode|GarageQual_Tencode', 'ExterCond_Tencode|BsmtFinType1_Tencode', 'HalfBath|Exterior1st_Tencode', 'GarageYrBlt|LotFrontage', 'KitchenQual_Tencode|3SsnPorch', 'BsmtFullBath|OverallCond_Tencode', 'LowQualFinSF|YearRemodAdd_Tencode', 'HalfBath|KitchenQual_Tencode', 'MoSold_Tencode|3SsnPorch', 'BsmtUnfSF|Neighborhood_Tencode', 'Street_Tencode|2ndFlrSF', 'TotRmsAbvGrd|EnclosedPorch', 'Alley_Tencode|BsmtExposure_Tencode', 'Street_Tencode|MiscFeature_Tencode', 'GarageType_Tencode|Condition2_Tencode', 'Street_Tencode|BsmtHalfBath', 'HeatingQC_Tencode|KitchenAbvGr', 'TotRmsAbvGrd|Heating_Tencode', 'BsmtQual_Tencode|ScreenPorch', 'HouseStyle_Tencode|Fence_Tencode', 'LotConfig_Tencode|HeatingQC_Tencode', '1stFlrSF|GarageQual_Tencode', 'MSZoning_Tencode', 'YearBuilt_Tencode|BsmtFinType1_Tencode', 'CentralAir_Tencode|Exterior1st_Tencode', 'BldgType_Tencode|Alley_Tencode', 'PoolQC_Tencode|GrLivArea', 'YearBuilt_Tencode|MSZoning_Tencode', 'HeatingQC_Tencode|YearRemodAdd_Tencode', 'BsmtQual_Tencode|TotRmsAbvGrd', 'BldgType_Tencode|KitchenQual_Tencode', 'MSZoning_Tencode|BsmtExposure_Tencode', 'BsmtFullBath|LotFrontage', 'HouseStyle_Tencode|BsmtHalfBath', 'BsmtUnfSF|YearBuilt_Tencode', 'LotShape_Tencode|MSZoning_Tencode', 'Exterior1st_Tencode|2ndFlrSF', 'CentralAir_Tencode|GarageArea', 'YrSold_Tencode|GrLivArea', 'GrLivArea|ExterQual_Tencode', 'LowQualFinSF|GarageType_Tencode', 'Functional_Tencode|BsmtCond_Tencode', 'Foundation_Tencode|HeatingQC_Tencode', 'LotFrontage|YearRemodAdd_Tencode', 'KitchenAbvGr|2ndFlrSF', 'LotArea|GarageFinish_Tencode', 'BsmtQual_Tencode|LotFrontage', 'RoofMatl_Tencode|ExterQual_Tencode', 'BsmtFinSF1|WoodDeckSF', 'LotArea|LotFrontage', 'MasVnrType_Tencode|BedroomAbvGr', 'Heating_Tencode|BsmtHalfBath', 'MasVnrArea|ExterQual_Tencode', 'OpenPorchSF|3SsnPorch', 'BsmtFinSF1|GarageFinish_Tencode', 'BsmtFinType1_Tencode|Exterior1st_Tencode', 'LowQualFinSF|SaleCondition_Tencode', 'BsmtUnfSF|Electrical_Tencode', 'RoofMatl_Tencode|LotShape_Tencode', 'LotConfig_Tencode|MiscVal', 'Heating_Tencode|YearRemodAdd_Tencode', 'SaleType_Tencode|BsmtFinSF1', 'Exterior2nd_Tencode|OverallQual_Tencode', 'MasVnrArea|PavedDrive_Tencode', 'BsmtFinType1_Tencode|PoolArea', 'Exterior2nd_Tencode|Functional_Tencode', 'RoofStyle_Tencode|BedroomAbvGr', 'HalfBath|Utilities_Tencode', 'GrLivArea|MSZoning_Tencode', 'PoolArea|TotRmsAbvGrd', 'Condition1_Tencode|KitchenAbvGr', 'RoofStyle_Tencode|MiscFeature_Tencode', 'GarageCars|GarageFinish_Tencode', 'Fireplaces|Heating_Tencode', 'Fence_Tencode|LandSlope_Tencode', 'GarageCars|Neighborhood_Tencode', 'GarageType_Tencode|OverallQual_Tencode', 'Fireplaces|RoofStyle_Tencode', 'Exterior1st_Tencode|RoofStyle_Tencode', 'YrSold_Tencode|2ndFlrSF', 'GrLivArea|Exterior1st_Tencode', 'CentralAir_Tencode|OverallCond_Tencode', 'Fireplaces|BsmtHalfBath', 'Exterior2nd_Tencode|KitchenAbvGr', '3SsnPorch|GarageQual_Tencode', 'Fence_Tencode|Electrical_Tencode', 'MasVnrArea|HouseStyle_Tencode', 'BsmtFinSF2|MiscFeature_Tencode', 'Functional_Tencode|Heating_Tencode', 'EnclosedPorch|GarageCond_Tencode', 'KitchenAbvGr|WoodDeckSF', 'GarageCars|GarageCond_Tencode', 'PavedDrive_Tencode|ScreenPorch', 'TotalBsmtSF|BsmtExposure_Tencode', 'MoSold_Tencode|KitchenAbvGr', 'BsmtQual_Tencode', 'Exterior2nd_Tencode|2ndFlrSF', 'OpenPorchSF|2ndFlrSF', 'MasVnrType_Tencode|OverallQual_Tencode', 'PoolQC_Tencode|GarageYrBlt', 'GrLivArea|3SsnPorch', 'CentralAir_Tencode|GrLivArea', 'MiscFeature_Tencode|SaleCondition_Tencode', 'MasVnrArea|GarageQual_Tencode', 'GarageType_Tencode', 'PoolArea|Street_Tencode', 'KitchenQual_Tencode|LandSlope_Tencode', 'Fence_Tencode|BsmtFinSF1', 'BsmtFinSF1|Condition1_Tencode', 'PoolQC_Tencode|LandContour_Tencode', 'PavedDrive_Tencode|3SsnPorch', 'CentralAir_Tencode|Fence_Tencode', 'Fireplaces|MiscFeature_Tencode', 'BsmtFullBath|GarageFinish_Tencode', 'OpenPorchSF|LandContour_Tencode', 'BsmtFullBath|KitchenQual_Tencode', 'BsmtFinSF2|RoofMatl_Tencode', 'GarageYrBlt|OverallQual_Tencode', 'Alley_Tencode|2ndFlrSF', 'ExterQual_Tencode|BedroomAbvGr', 'OverallCond_Tencode|WoodDeckSF', 'GarageType_Tencode|PavedDrive_Tencode', 'Functional_Tencode|MiscFeature_Tencode', '1stFlrSF|YrSold_Tencode', 'YearBuilt_Tencode|KitchenAbvGr', 'HalfBath|KitchenAbvGr', 'KitchenQual_Tencode|MiscVal', 'PavedDrive_Tencode|BsmtFinType2_Tencode', 'HalfBath|PoolQC_Tencode', 'YrSold_Tencode|RoofMatl_Tencode', 'ExterCond_Tencode|Exterior1st_Tencode', 'BsmtFinType2_Tencode|GarageCond_Tencode', 'GrLivArea|PavedDrive_Tencode', 'FireplaceQu_Tencode|MiscFeature_Tencode', 'RoofStyle_Tencode|PavedDrive_Tencode', 'MasVnrType_Tencode|MoSold_Tencode', 'RoofMatl_Tencode|BedroomAbvGr', 'BsmtFinSF1|MSZoning_Tencode', 'Exterior2nd_Tencode|PavedDrive_Tencode', 'Foundation_Tencode|PavedDrive_Tencode', 'GarageCars|LotConfig_Tencode', 'Condition2_Tencode|WoodDeckSF', 'ExterCond_Tencode|TotRmsAbvGrd', 'Fence_Tencode|MiscFeature_Tencode', 'BsmtUnfSF|GarageCars', 'SaleType_Tencode|BedroomAbvGr', 'OverallCond_Tencode|Condition1_Tencode', 'GarageYrBlt|KitchenAbvGr', 'HalfBath|GarageFinish_Tencode', 'GarageType_Tencode|GarageFinish_Tencode', 'Alley_Tencode|WoodDeckSF', 'PavedDrive_Tencode|GarageQual_Tencode', 'Exterior2nd_Tencode|GarageCars', 'YrSold_Tencode|OverallCond_Tencode', 'Foundation_Tencode|Condition1_Tencode', 'GarageYrBltBins_Tencode|EnclosedPorch', 'BsmtFinSF1|MiscVal', 'YrSold_Tencode|LandContour_Tencode', 'MasVnrArea|BsmtCond_Tencode', 'CentralAir_Tencode|LandContour_Tencode', '2ndFlrSF', 'PavedDrive_Tencode|OverallQual_Tencode', 'LowQualFinSF|BsmtCond_Tencode', 'Foundation_Tencode|MoSold_Tencode', 'BsmtUnfSF|MiscFeature_Tencode', 'BsmtFinType1_Tencode|GarageFinish_Tencode', 'BsmtQual_Tencode|GarageType_Tencode', 'CentralAir_Tencode|ExterCond_Tencode', 'GarageType_Tencode|BsmtFinType2_Tencode', 'Functional_Tencode|Neighborhood_Tencode', 'BsmtFinType2_Tencode|SaleCondition_Tencode', 'PoolQC_Tencode|LotShape_Tencode', 'KitchenQual_Tencode|YearRemodAdd_Tencode', 'YearBuilt_Tencode|Functional_Tencode', 'LandContour_Tencode|BsmtExposure_Tencode', 'WoodDeckSF|GarageFinish_Tencode', 'Exterior1st_Tencode|MSZoning_Tencode', 'BsmtFullBath|FullBath', 'FullBath|LotFrontage', 'BsmtFinType1_Tencode|GrLivArea', 'Exterior1st_Tencode|BsmtExposure_Tencode', 'Exterior2nd_Tencode|Street_Tencode', 'LowQualFinSF|FullBath', 'HeatingQC_Tencode|MiscFeature_Tencode', 'OverallCond_Tencode|YearRemodAdd_Tencode', 'FullBath|BsmtHalfBath', 'GrLivArea|SaleType_Tencode', 'Electrical_Tencode|MSZoning_Tencode', 'PoolQC_Tencode|OverallQual_Tencode', 'MasVnrArea|GarageCond_Tencode', '2ndFlrSF|WoodDeckSF', 'YrSold_Tencode|GarageCond_Tencode', 'Exterior1st_Tencode|Alley_Tencode', 'CentralAir_Tencode|HeatingQC_Tencode', 'Foundation_Tencode|MiscVal', 'LotConfig_Tencode|RoofMatl_Tencode', 'BsmtFinSF1|LandSlope_Tencode', 'Id|GarageQual_Tencode', 'Street_Tencode|BsmtExposure_Tencode', 'BsmtFinSF2|GrLivArea', 'PoolArea|SaleCondition_Tencode', 'FireplaceQu_Tencode|OverallQual_Tencode', 'GarageCars|TotalBsmtSF', 'TotRmsAbvGrd|GarageQual_Tencode', 'Id|Fence_Tencode', 'LotFrontage', 'HouseStyle_Tencode|Street_Tencode', 'FireplaceQu_Tencode|GarageYrBlt', 'Functional_Tencode|MoSold_Tencode', 'GarageYrBltBins_Tencode|Functional_Tencode', 'ExterCond_Tencode|BedroomAbvGr', '1stFlrSF|LotFrontage', 'BsmtFinSF2|PoolArea', 'GarageCars|HalfBath', 'FireplaceQu_Tencode|SaleCondition_Tencode', 'GarageCars|Fireplaces', 'BedroomAbvGr|OverallQual_Tencode', 'GarageFinish_Tencode|OverallQual_Tencode', 'SaleType_Tencode|LotFrontage', 'LotShape_Tencode|SaleCondition_Tencode', 'LotArea|OverallCond_Tencode', 'Fireplaces|3SsnPorch', 'GarageType_Tencode|EnclosedPorch', 'OpenPorchSF|FireplaceQu_Tencode', 'LandContour_Tencode|GarageFinish_Tencode', 'MasVnrArea|Condition2_Tencode', 'BsmtFullBath|Fireplaces', 'HouseStyle_Tencode|Alley_Tencode', 'Functional_Tencode|LotConfig_Tencode', 'BsmtFinSF1|GarageYrBlt', 'BldgType_Tencode|GarageCond_Tencode', 'Exterior1st_Tencode|FireplaceQu_Tencode', 'LandContour_Tencode|OverallCond_Tencode', 'HalfBath', 'GarageCars|1stFlrSF', 'GarageYrBltBins_Tencode|KitchenQual_Tencode', 'BsmtFinSF1|YearRemodAdd_Tencode', 'BsmtQual_Tencode|MiscFeature_Tencode', 'BsmtUnfSF|Id', 'ScreenPorch|MiscFeature_Tencode', 'LotShape_Tencode|BsmtExposure_Tencode', 'ExterCond_Tencode|Condition2_Tencode', 'MasVnrArea|OverallQual_Tencode', 'Alley_Tencode|MiscVal', 'BldgType_Tencode|LandSlope_Tencode', 'BsmtCond_Tencode|Alley_Tencode', 'Id|MSSubClass_Tencode', 'BsmtHalfBath|WoodDeckSF', 'GarageType_Tencode|ScreenPorch', 'PavedDrive_Tencode|KitchenAbvGr', 'BsmtFinSF2|Exterior1st_Tencode', 'RoofMatl_Tencode|GarageCond_Tencode', 'BsmtFinSF2|BedroomAbvGr', 'ExterQual_Tencode|Street_Tencode', 'Fireplaces|Street_Tencode', 'GrLivArea|GarageArea', 'PavedDrive_Tencode|LotShape_Tencode', 'RoofMatl_Tencode|MSSubClass_Tencode', 'MasVnrArea|EnclosedPorch', 'GrLivArea|Street_Tencode', 'TotRmsAbvGrd|BsmtCond_Tencode', 'HalfBath|Fence_Tencode', 'TotalBsmtSF|Condition1_Tencode', 'MoSold_Tencode|BsmtExposure_Tencode', 'BsmtFinSF2|LandContour_Tencode', 'PoolQC_Tencode|GarageArea', 'LandContour_Tencode|Fence_Tencode', 'BldgType_Tencode|MSZoning_Tencode', 'CentralAir_Tencode|PavedDrive_Tencode', 'BsmtCond_Tencode|YearRemodAdd_Tencode', 'YearBuilt_Tencode|FullBath', 'FullBath|Street_Tencode', 'GarageYrBlt|WoodDeckSF', 'PavedDrive_Tencode|2ndFlrSF', 'LandContour_Tencode|Street_Tencode', 'ScreenPorch|MSSubClass_Tencode', 'YearRemodAdd_Tencode|MiscFeature_Tencode', 'OpenPorchSF|SaleCondition_Tencode', 'FireplaceQu_Tencode|LandSlope_Tencode', '1stFlrSF|TotRmsAbvGrd', 'OverallCond_Tencode|BedroomAbvGr', 'BsmtUnfSF|Heating_Tencode', 'RoofStyle_Tencode|GarageFinish_Tencode', 'YearRemodAdd_Tencode|GarageQual_Tencode', 'Condition1_Tencode|3SsnPorch', 'LowQualFinSF|Condition1_Tencode', 'Neighborhood_Tencode|SaleCondition_Tencode', 'YearBuilt_Tencode|Condition2_Tencode', 'BsmtFinSF1|KitchenAbvGr', 'FireplaceQu_Tencode|Condition1_Tencode', 'LotArea|GrLivArea', 'TotRmsAbvGrd|RoofStyle_Tencode', 'PoolArea|GarageArea', 'PoolArea|MasVnrType_Tencode', 'Exterior2nd_Tencode|MoSold_Tencode', 'KitchenAbvGr|OverallQual_Tencode', 'OpenPorchSF|Condition2_Tencode', 'BsmtFullBath|WoodDeckSF', 'LotArea', 'HalfBath|Id', 'BedroomAbvGr|GarageQual_Tencode', 'BsmtUnfSF|BsmtCond_Tencode', 'BldgType_Tencode|LotShape_Tencode', 'Exterior2nd_Tencode|LandContour_Tencode', 'HeatingQC_Tencode|BsmtFinType2_Tencode', 'MasVnrType_Tencode|MSSubClass_Tencode', 'MiscFeature_Tencode|BsmtHalfBath', '1stFlrSF|SaleType_Tencode', 'YearBuilt_Tencode|LotShape_Tencode', 'MasVnrType_Tencode|GarageYrBlt', 'GarageCars|OverallCond_Tencode', 'PoolArea|KitchenQual_Tencode', 'GarageCars|3SsnPorch', 'MasVnrType_Tencode|2ndFlrSF', 'BsmtFinType1_Tencode', 'LotArea|MasVnrArea', 'Fireplaces|Id', 'LotArea|HeatingQC_Tencode', 'BsmtFullBath|HeatingQC_Tencode', 'GarageYrBlt|SaleCondition_Tencode', 'Exterior2nd_Tencode|SaleType_Tencode', 'BedroomAbvGr|KitchenAbvGr', 'Functional_Tencode|EnclosedPorch', 'LotArea|GarageYrBlt', 'YearBuilt_Tencode|RoofStyle_Tencode', 'Id|GarageCond_Tencode', 'Exterior2nd_Tencode|GrLivArea', 'FullBath|HeatingQC_Tencode', 'GrLivArea|Condition1_Tencode', 'Alley_Tencode|GarageCond_Tencode', 'BsmtFullBath|Id', 'BsmtCond_Tencode|FireplaceQu_Tencode', 'GarageYrBlt|BsmtExposure_Tencode', 'Fireplaces|GarageArea', 'GarageYrBltBins_Tencode|BsmtCond_Tencode', 'TotRmsAbvGrd|BsmtHalfBath', 'SaleCondition_Tencode|GarageFinish_Tencode', 'Exterior1st_Tencode|RoofMatl_Tencode', 'Foundation_Tencode|Street_Tencode', 'ExterQual_Tencode|KitchenAbvGr', 'PoolQC_Tencode|GarageType_Tencode', 'GarageType_Tencode|MiscVal', 'YearRemodAdd_Tencode|GarageCond_Tencode', 'EnclosedPorch|KitchenAbvGr', 'FullBath|MoSold_Tencode', 'LandContour_Tencode|MasVnrType_Tencode', 'GarageType_Tencode|Neighborhood_Tencode', 'BsmtFinType1_Tencode|Condition2_Tencode', 'BsmtQual_Tencode|PavedDrive_Tencode', '1stFlrSF|MSSubClass_Tencode', 'ExterCond_Tencode|GarageYrBlt', 'TotRmsAbvGrd|OverallQual_Tencode', 'BsmtFullBath|PoolArea', 'OpenPorchSF|EnclosedPorch', 'Exterior1st_Tencode|GarageYrBlt', 'PoolQC_Tencode|LotFrontage', 'MasVnrArea|1stFlrSF', 'ExterQual_Tencode|MSZoning_Tencode', 'FullBath|Neighborhood_Tencode', 'BsmtCond_Tencode|ScreenPorch', 'EnclosedPorch|YearRemodAdd_Tencode', 'PoolArea|MSZoning_Tencode', '2ndFlrSF|BsmtExposure_Tencode', 'LotFrontage|BsmtExposure_Tencode', 'CentralAir_Tencode|BsmtQual_Tencode', 'LotConfig_Tencode|Fence_Tencode', 'SaleType_Tencode|HeatingQC_Tencode', 'PavedDrive_Tencode|MiscVal', 'BsmtUnfSF|Utilities_Tencode', 'GrLivArea|BsmtFinType2_Tencode', 'HalfBath|Alley_Tencode', 'OpenPorchSF|TotRmsAbvGrd', 'BsmtQual_Tencode|GarageArea', 'BsmtFinType1_Tencode|BsmtCond_Tencode', 'OverallCond_Tencode|GarageYrBlt', 'GarageArea|MiscFeature_Tencode', 'HeatingQC_Tencode|2ndFlrSF', 'BsmtQual_Tencode|Id', 'Fireplaces|KitchenQual_Tencode', 'TotalBsmtSF', 'SaleCondition_Tencode|WoodDeckSF', 'PavedDrive_Tencode', 'FullBath|2ndFlrSF', 'Foundation_Tencode|GarageType_Tencode', 'CentralAir_Tencode|YearRemodAdd_Tencode', 'LotArea|FullBath', 'BsmtFinType1_Tencode|Fireplaces', 'LowQualFinSF|LotShape_Tencode', 'RoofMatl_Tencode|BsmtFinType2_Tencode', 'TotRmsAbvGrd|HouseStyle_Tencode', 'BsmtUnfSF|GarageType_Tencode', 'Electrical_Tencode|GarageArea', 'TotRmsAbvGrd|Fence_Tencode', 'GarageYrBltBins_Tencode|MSZoning_Tencode', 'FireplaceQu_Tencode|YearRemodAdd_Tencode', 'Exterior1st_Tencode|TotalBsmtSF', '3SsnPorch|MSZoning_Tencode', 'LotConfig_Tencode|SaleCondition_Tencode', 'TotRmsAbvGrd|Condition1_Tencode', 'GarageCars|SaleType_Tencode', 'Neighborhood_Tencode|KitchenQual_Tencode', 'Fireplaces|HouseStyle_Tencode', 'TotalBsmtSF|YearRemodAdd_Tencode', 'YrSold_Tencode|LotFrontage', 'Fireplaces|ExterQual_Tencode', 'Street_Tencode|LandSlope_Tencode', 'CentralAir_Tencode|RoofStyle_Tencode', 'Condition1_Tencode|2ndFlrSF', 'MasVnrArea|BsmtHalfBath', 'GarageYrBltBins_Tencode|FireplaceQu_Tencode', 'GarageCars|TotRmsAbvGrd', 'GarageCars|GarageType_Tencode', 'Id|HeatingQC_Tencode', 'Condition2_Tencode|GarageFinish_Tencode', 'OverallCond_Tencode|GarageQual_Tencode', '1stFlrSF|BsmtFinType2_Tencode', 'GrLivArea|BsmtHalfBath', 'PoolQC_Tencode|BsmtFinSF1', 'BedroomAbvGr|BsmtFinType2_Tencode', 'BsmtQual_Tencode|EnclosedPorch', 'Condition1_Tencode|MiscFeature_Tencode', 'PoolQC_Tencode|Condition2_Tencode', '1stFlrSF|Utilities_Tencode', 'YearBuilt_Tencode|1stFlrSF', 'MasVnrArea|GarageArea', '3SsnPorch', 'OverallCond_Tencode|OverallQual_Tencode', 'MiscVal|WoodDeckSF', 'PoolQC_Tencode|BsmtHalfBath', 'TotalBsmtSF|ScreenPorch', 'BsmtFinType2_Tencode', 'BsmtQual_Tencode|KitchenQual_Tencode', 'LotArea|ExterCond_Tencode', 'Neighborhood_Tencode|Fence_Tencode', 'ExterCond_Tencode|3SsnPorch', 'BsmtQual_Tencode|Fireplaces', 'PoolArea|OverallCond_Tencode', 'Utilities_Tencode|Condition2_Tencode', 'PoolQC_Tencode|PoolArea', 'MiscVal|Condition1_Tencode', 'CentralAir_Tencode|MoSold_Tencode', 'BsmtUnfSF|GarageYrBltBins_Tencode', 'HalfBath|YearBuilt_Tencode', 'CentralAir_Tencode|Id', 'HalfBath|EnclosedPorch', 'Exterior1st_Tencode|SaleCondition_Tencode', 'TotRmsAbvGrd|LotFrontage', 'HeatingQC_Tencode|Condition2_Tencode', 'FullBath|LotConfig_Tencode', 'Exterior2nd_Tencode|Fireplaces', 'BsmtFinSF2|BsmtQual_Tencode', 'MoSold_Tencode|GarageFinish_Tencode', 'PoolQC_Tencode|Fireplaces', 'BsmtFullBath|BedroomAbvGr', 'OpenPorchSF|Heating_Tencode', 'MasVnrType_Tencode|Street_Tencode', 'BsmtQual_Tencode|LandContour_Tencode', 'GarageType_Tencode|BsmtFinType1_Tencode', 'BsmtFullBath|Electrical_Tencode', 'GarageYrBltBins_Tencode|BsmtExposure_Tencode', 'LotArea|GarageCond_Tencode', 'YrSold_Tencode|TotRmsAbvGrd', 'LotShape_Tencode|HeatingQC_Tencode', 'LotArea|BedroomAbvGr', 'LowQualFinSF|ScreenPorch', 'OpenPorchSF|BsmtFinSF1', 'Foundation_Tencode|YearBuilt_Tencode', 'LotArea|GarageArea', 'TotRmsAbvGrd|BsmtFinType2_Tencode', 'OverallCond_Tencode|KitchenAbvGr', 'BsmtCond_Tencode|MoSold_Tencode', 'SaleType_Tencode|SaleCondition_Tencode', 'RoofMatl_Tencode|GarageFinish_Tencode', 'BldgType_Tencode|BsmtCond_Tencode', 'Id|TotalBsmtSF', 'Alley_Tencode|Utilities_Tencode', 'TotalBsmtSF|Alley_Tencode', 'RoofStyle_Tencode|YearRemodAdd_Tencode', 'BsmtFinSF1|BsmtFinType2_Tencode', 'BsmtFinType2_Tencode|MSZoning_Tencode', 'TotRmsAbvGrd|GarageFinish_Tencode', 'BsmtFullBath', 'MiscVal|KitchenAbvGr', 'GarageYrBltBins_Tencode|MSSubClass_Tencode', 'GarageType_Tencode|YrSold_Tencode', 'YrSold_Tencode|ExterQual_Tencode', 'OpenPorchSF|Condition1_Tencode', 'Fence_Tencode|Utilities_Tencode', 'HalfBath|YrSold_Tencode', 'ExterQual_Tencode|SaleCondition_Tencode', 'HouseStyle_Tencode|2ndFlrSF', 'Heating_Tencode|WoodDeckSF', 'LotConfig_Tencode|Condition2_Tencode', 'TotRmsAbvGrd|ScreenPorch', '1stFlrSF|Condition2_Tencode', 'GarageYrBltBins_Tencode|LandContour_Tencode', 'ScreenPorch|2ndFlrSF', 'KitchenQual_Tencode|MSSubClass_Tencode', 'Fence_Tencode|LotShape_Tencode', 'Electrical_Tencode|GarageCond_Tencode', 'Alley_Tencode|BsmtHalfBath', 'FullBath|GrLivArea', 'HalfBath|OverallQual_Tencode', 'Id|YearRemodAdd_Tencode', '1stFlrSF|BsmtCond_Tencode', 'PoolQC_Tencode|LandSlope_Tencode', 'BsmtFinType1_Tencode|SaleCondition_Tencode', 'Condition2_Tencode|SaleCondition_Tencode', 'HouseStyle_Tencode|MoSold_Tencode', 'MiscVal|BsmtFinType2_Tencode', 'LandContour_Tencode|GarageYrBlt', 'Foundation_Tencode|LowQualFinSF', 'Foundation_Tencode|FullBath', 'LotConfig_Tencode|RoofStyle_Tencode', 'Electrical_Tencode|MoSold_Tencode', 'GarageCars|BsmtCond_Tencode', 'OpenPorchSF|RoofMatl_Tencode', 'PoolQC_Tencode|ExterCond_Tencode', 'OverallCond_Tencode|HeatingQC_Tencode', 'FullBath', 'BsmtUnfSF|YrSold_Tencode', 'BsmtFullBath|MoSold_Tencode', 'BsmtFinType1_Tencode|KitchenQual_Tencode', 'BsmtCond_Tencode|LotShape_Tencode', 'TotRmsAbvGrd', 'Fireplaces|MoSold_Tencode', 'YrSold_Tencode', 'Alley_Tencode|BsmtFinType2_Tencode', 'MSSubClass_Tencode|LotFrontage', 'GarageType_Tencode|WoodDeckSF', 'CentralAir_Tencode|MSZoning_Tencode', 'LotConfig_Tencode|KitchenQual_Tencode', 'GrLivArea|BsmtCond_Tencode', 'PoolQC_Tencode|Alley_Tencode', 'Foundation_Tencode|Alley_Tencode', 'BsmtQual_Tencode|GarageQual_Tencode', 'Exterior2nd_Tencode|MSSubClass_Tencode', 'Fireplaces|2ndFlrSF', 'HalfBath|GarageYrBlt', 'GarageFinish_Tencode|BsmtExposure_Tencode', 'Heating_Tencode|2ndFlrSF', 'MiscFeature_Tencode|MSZoning_Tencode', 'LotShape_Tencode|LandSlope_Tencode', 'CentralAir_Tencode|PoolArea', '1stFlrSF|Electrical_Tencode', 'Electrical_Tencode|BedroomAbvGr', 'Fireplaces|MSZoning_Tencode', 'Fireplaces|LotConfig_Tencode', 'LandContour_Tencode|LotFrontage', 'HeatingQC_Tencode|EnclosedPorch', 'MasVnrArea|KitchenAbvGr', 'LotShape_Tencode|3SsnPorch', 'RoofStyle_Tencode|GarageArea', 'LotShape_Tencode|MiscFeature_Tencode', 'BsmtFinSF2|BldgType_Tencode', '1stFlrSF|GarageArea', 'Alley_Tencode|KitchenQual_Tencode', 'YearBuilt_Tencode|BsmtFinType2_Tencode', 'BldgType_Tencode|LandContour_Tencode', 'LandContour_Tencode|SaleCondition_Tencode', 'GarageYrBltBins_Tencode|MasVnrArea', 'Foundation_Tencode|LotShape_Tencode', 'Exterior1st_Tencode|EnclosedPorch', 'HalfBath|BsmtQual_Tencode', 'GarageYrBltBins_Tencode|BldgType_Tencode', 'HouseStyle_Tencode', 'YearBuilt_Tencode|MasVnrType_Tencode', 'MasVnrType_Tencode|BsmtExposure_Tencode', '1stFlrSF|Neighborhood_Tencode', '1stFlrSF|BsmtExposure_Tencode', 'BsmtFinType2_Tencode|YearRemodAdd_Tencode', 'Functional_Tencode|LotShape_Tencode', 'PoolArea|HouseStyle_Tencode', 'Neighborhood_Tencode|BedroomAbvGr', 'Id|KitchenAbvGr', 'LandContour_Tencode|MoSold_Tencode', 'OpenPorchSF|Electrical_Tencode', 'Functional_Tencode|WoodDeckSF', 'MasVnrArea|BedroomAbvGr', 'Heating_Tencode|3SsnPorch', 'TotRmsAbvGrd|KitchenAbvGr', 'HalfBath|PavedDrive_Tencode', 'Condition2_Tencode|OverallQual_Tencode', 'Alley_Tencode|Condition1_Tencode', 'Foundation_Tencode|Utilities_Tencode', 'TotalBsmtSF|Utilities_Tencode', 'YrSold_Tencode|Heating_Tencode', 'Functional_Tencode|TotRmsAbvGrd', 'LotConfig_Tencode|ExterQual_Tencode', 'LotConfig_Tencode|Alley_Tencode', 'MasVnrType_Tencode|BsmtFinType2_Tencode', 'Alley_Tencode', 'LowQualFinSF|OverallCond_Tencode', 'Fireplaces|GarageQual_Tencode', 'HalfBath|Heating_Tencode', 'BedroomAbvGr|EnclosedPorch', 'LotArea|Alley_Tencode', 'BsmtUnfSF|ScreenPorch', 'Exterior1st_Tencode|LandContour_Tencode', 'HouseStyle_Tencode|ScreenPorch', 'Functional_Tencode|YearRemodAdd_Tencode', 'YrSold_Tencode|BldgType_Tencode', 'MSSubClass_Tencode|SaleCondition_Tencode', 'PavedDrive_Tencode|OverallCond_Tencode', 'FullBath|OverallQual_Tencode', 'Utilities_Tencode|Electrical_Tencode', 'GarageCars|BedroomAbvGr', 'BsmtQual_Tencode|YearRemodAdd_Tencode', 'GarageType_Tencode|SaleType_Tencode', 'CentralAir_Tencode|LotShape_Tencode', 'Fence_Tencode|KitchenAbvGr', 'BsmtQual_Tencode|MSZoning_Tencode', 'LotConfig_Tencode|GarageArea', 'Id|LotConfig_Tencode', 'BldgType_Tencode|SaleCondition_Tencode', 'BsmtUnfSF|3SsnPorch', 'FireplaceQu_Tencode|Electrical_Tencode', 'YrSold_Tencode|PoolArea', 'MoSold_Tencode|SaleCondition_Tencode', 'GarageArea|2ndFlrSF', 'OpenPorchSF|Id', 'Foundation_Tencode|BsmtQual_Tencode', 'PoolQC_Tencode|FireplaceQu_Tencode', 'Neighborhood_Tencode|Street_Tencode', 'MiscVal|BsmtExposure_Tencode', 'MasVnrType_Tencode|BsmtHalfBath', 'BsmtUnfSF|Fence_Tencode', 'HalfBath|BldgType_Tencode', 'HouseStyle_Tencode|LotShape_Tencode', 'BsmtHalfBath|BsmtExposure_Tencode', 'PoolArea|GarageQual_Tencode', 'BsmtUnfSF|WoodDeckSF', 'BldgType_Tencode|GarageQual_Tencode', 'MSZoning_Tencode|OverallQual_Tencode', 'ExterCond_Tencode|Id', 'SaleType_Tencode|LandContour_Tencode', 'Neighborhood_Tencode|Condition1_Tencode', 'GarageYrBltBins_Tencode|SaleType_Tencode', 'HeatingQC_Tencode|Street_Tencode', 'LotArea|MoSold_Tencode', 'LandContour_Tencode|ScreenPorch', 'OverallCond_Tencode|Utilities_Tencode', 'Id|MoSold_Tencode', 'FullBath|FireplaceQu_Tencode', 'Functional_Tencode|BsmtHalfBath', 'MiscVal|MSZoning_Tencode', 'Id|Street_Tencode', 'YearBuilt_Tencode|LowQualFinSF', 'LandContour_Tencode|BsmtHalfBath', 'BsmtFinSF2|CentralAir_Tencode', 'OpenPorchSF|LotConfig_Tencode', 'Exterior2nd_Tencode|HeatingQC_Tencode', 'Fireplaces|GarageCond_Tencode', 'PoolArea|MSSubClass_Tencode', 'Functional_Tencode|Condition1_Tencode', 'Condition1_Tencode|HeatingQC_Tencode', '3SsnPorch|OverallQual_Tencode', 'GarageYrBltBins_Tencode|2ndFlrSF', 'BsmtFullBath|LandContour_Tencode', 'GarageYrBltBins_Tencode|YearBuilt_Tencode', 'LandContour_Tencode|GarageQual_Tencode', 'BsmtCond_Tencode|Utilities_Tencode', 'OpenPorchSF|Alley_Tencode', 'GarageCars|KitchenQual_Tencode', 'TotalBsmtSF|3SsnPorch', 'PavedDrive_Tencode|SaleCondition_Tencode', 'FullBath|Functional_Tencode', 'FullBath|Alley_Tencode', 'BldgType_Tencode|WoodDeckSF', 'Heating_Tencode|GarageArea', 'ExterQual_Tencode|EnclosedPorch', 'SaleType_Tencode|Alley_Tencode', 'Alley_Tencode|Street_Tencode', 'ExterQual_Tencode|Condition2_Tencode', 'PoolArea|OverallQual_Tencode', 'MSSubClass_Tencode|BsmtFinType2_Tencode', 'PoolQC_Tencode|EnclosedPorch', 'GarageType_Tencode|MSZoning_Tencode', 'Neighborhood_Tencode|BsmtHalfBath', 'MSSubClass_Tencode|MiscFeature_Tencode', 'ScreenPorch|Condition2_Tencode', 'Utilities_Tencode|BsmtFinSF1', 'TotalBsmtSF|SaleCondition_Tencode', 'GarageType_Tencode|Condition1_Tencode', 'Functional_Tencode|MSZoning_Tencode', '1stFlrSF|TotalBsmtSF', 'BsmtQual_Tencode|SaleCondition_Tencode', 'PoolQC_Tencode|MSZoning_Tencode', 'GarageYrBlt|Street_Tencode', 'Functional_Tencode|BsmtFinType1_Tencode', '2ndFlrSF|GarageCond_Tencode', 'GarageType_Tencode|Street_Tencode', 'OpenPorchSF|GarageCond_Tencode', 'HalfBath|LotShape_Tencode', '1stFlrSF|RoofStyle_Tencode', 'BsmtQual_Tencode|3SsnPorch', 'Id|GarageFinish_Tencode', 'GarageYrBlt|GarageCond_Tencode', 'Street_Tencode|WoodDeckSF', 'GarageCars|MiscVal', 'LotConfig_Tencode|YearRemodAdd_Tencode', 'BsmtFinSF2|LowQualFinSF', 'Exterior1st_Tencode|MoSold_Tencode', 'BsmtUnfSF|TotRmsAbvGrd', 'MoSold_Tencode|MSSubClass_Tencode', 'GarageYrBltBins_Tencode|TotRmsAbvGrd', 'FireplaceQu_Tencode|WoodDeckSF', 'PoolArea|GrLivArea', 'GarageArea|3SsnPorch', 'BsmtCond_Tencode|MasVnrType_Tencode', 'MasVnrArea|Alley_Tencode', 'EnclosedPorch|LandSlope_Tencode', 'CentralAir_Tencode|MasVnrArea', 'GarageArea|BedroomAbvGr', 'TotRmsAbvGrd|3SsnPorch', 'PoolQC_Tencode|Id', 'BsmtFinSF2|RoofStyle_Tencode', 'RoofStyle_Tencode|OverallQual_Tencode', 'HalfBath|1stFlrSF', 'Functional_Tencode|LandContour_Tencode', '3SsnPorch|Condition2_Tencode', 'LandContour_Tencode|LotShape_Tencode', 'ScreenPorch|KitchenAbvGr', 'SaleType_Tencode|ExterQual_Tencode', 'LowQualFinSF|WoodDeckSF', 'MasVnrType_Tencode|LandSlope_Tencode', 'Neighborhood_Tencode|PavedDrive_Tencode', 'YrSold_Tencode|Id', 'RoofMatl_Tencode|GarageQual_Tencode', 'LotArea|TotRmsAbvGrd', 'BsmtCond_Tencode|LandSlope_Tencode', 'Foundation_Tencode|BsmtFinSF1', 'GrLivArea|HouseStyle_Tencode', 'PavedDrive_Tencode|BsmtFinSF1', 'LotArea|Exterior1st_Tencode', 'PoolArea|LotFrontage', 'RoofStyle_Tencode|GarageQual_Tencode', 'PoolArea|RoofMatl_Tencode', 'MasVnrArea|TotalBsmtSF', 'YearBuilt_Tencode|BedroomAbvGr', 'RoofStyle_Tencode|Utilities_Tencode', 'BedroomAbvGr|MSZoning_Tencode', 'Heating_Tencode|MSZoning_Tencode', 'YrSold_Tencode|MiscFeature_Tencode', 'PoolArea|Id', 'GarageQual_Tencode|GarageFinish_Tencode', 'GrLivArea|FireplaceQu_Tencode', 'PavedDrive_Tencode|BsmtExposure_Tencode', 'BsmtFullBath|3SsnPorch', 'FullBath|EnclosedPorch', 'HouseStyle_Tencode|MSZoning_Tencode', 'BldgType_Tencode|YearRemodAdd_Tencode', 'Condition1_Tencode|LandSlope_Tencode', 'OpenPorchSF|GarageType_Tencode', '2ndFlrSF|SaleCondition_Tencode', 'ExterQual_Tencode|MoSold_Tencode', 'TotalBsmtSF|MoSold_Tencode', 'RoofStyle_Tencode|MiscVal', 'YrSold_Tencode|SaleType_Tencode', 'BsmtFinSF1|LotFrontage', 'ExterCond_Tencode|HouseStyle_Tencode', 'LotFrontage|GarageArea', 'YearBuilt_Tencode|HouseStyle_Tencode', 'Exterior1st_Tencode|OverallCond_Tencode', 'MasVnrArea|GarageType_Tencode', 'BsmtFinType1_Tencode|RoofStyle_Tencode', 'Alley_Tencode|Electrical_Tencode', 'LotConfig_Tencode|BsmtFinSF1', 'OpenPorchSF|MSSubClass_Tencode', 'YearBuilt_Tencode|GarageType_Tencode', 'Utilities_Tencode|EnclosedPorch', 'BsmtFinSF2|FullBath', 'Electrical_Tencode|GarageFinish_Tencode', 'PoolQC_Tencode|ExterQual_Tencode', 'Fireplaces|TotRmsAbvGrd', 'LotArea|TotalBsmtSF', 'TotalBsmtSF|OverallCond_Tencode', 'GarageYrBltBins_Tencode|HeatingQC_Tencode', 'Heating_Tencode|GarageYrBlt', 'SaleType_Tencode|HouseStyle_Tencode', 'GarageArea|WoodDeckSF', 'MasVnrType_Tencode', 'LotArea|FireplaceQu_Tencode', 'BsmtHalfBath|SaleCondition_Tencode', 'FireplaceQu_Tencode', 'LotArea|Fence_Tencode', 'GarageCars|BsmtExposure_Tencode', 'PoolQC_Tencode|HeatingQC_Tencode', 'ExterCond_Tencode|RoofMatl_Tencode', 'GarageYrBlt|LandSlope_Tencode', 'HouseStyle_Tencode|PavedDrive_Tencode', 'LotConfig_Tencode|LotShape_Tencode', 'LotConfig_Tencode|Electrical_Tencode', 'HalfBath|SaleCondition_Tencode', 'LotFrontage|GarageFinish_Tencode', 'HouseStyle_Tencode|LandSlope_Tencode', 'OverallCond_Tencode|2ndFlrSF', 'Fireplaces|LandContour_Tencode', 'CentralAir_Tencode|1stFlrSF', 'Utilities_Tencode|GarageQual_Tencode', 'OpenPorchSF|GarageQual_Tencode', 'YearBuilt_Tencode|GarageYrBlt', 'BsmtFullBath|1stFlrSF', 'BsmtFullBath|GarageQual_Tencode', 'BsmtFinSF1|2ndFlrSF', 'ExterCond_Tencode|PavedDrive_Tencode', 'Foundation_Tencode|LandContour_Tencode', 'RoofMatl_Tencode|LandContour_Tencode', 'GarageYrBltBins_Tencode|Heating_Tencode', 'Heating_Tencode|ExterQual_Tencode', 'BedroomAbvGr|Condition2_Tencode', 'GarageType_Tencode|BldgType_Tencode', 'MiscVal', 'GarageYrBltBins_Tencode|BsmtFinType2_Tencode', 'EnclosedPorch|SaleCondition_Tencode', 'Condition2_Tencode|BsmtExposure_Tencode', 'PoolArea|LandSlope_Tencode', 'BsmtFullBath|TotalBsmtSF', 'ExterQual_Tencode|3SsnPorch', 'OpenPorchSF|GarageArea', 'Exterior2nd_Tencode|Alley_Tencode', 'PoolArea|BsmtHalfBath', 'LotShape_Tencode|Condition1_Tencode', 'BsmtQual_Tencode|SaleType_Tencode', 'LandContour_Tencode|YearRemodAdd_Tencode', '1stFlrSF|EnclosedPorch', 'RoofMatl_Tencode|GarageYrBlt', 'MoSold_Tencode|LandSlope_Tencode', 'SaleType_Tencode|Electrical_Tencode', 'FullBath|TotRmsAbvGrd', 'Foundation_Tencode|EnclosedPorch', 'MasVnrArea|GarageFinish_Tencode', 'LotConfig_Tencode|BsmtExposure_Tencode', 'Foundation_Tencode|1stFlrSF', 'Electrical_Tencode|HeatingQC_Tencode', 'CentralAir_Tencode|BsmtExposure_Tencode', 'Fence_Tencode|HeatingQC_Tencode', 'BldgType_Tencode|OverallQual_Tencode', 'Foundation_Tencode|WoodDeckSF', 'MasVnrArea|WoodDeckSF', 'MasVnrType_Tencode|SaleCondition_Tencode', 'PoolArea|Heating_Tencode', 'GarageType_Tencode|ExterQual_Tencode', 'Fence_Tencode|MSZoning_Tencode', 'LotConfig_Tencode|MasVnrType_Tencode', 'BedroomAbvGr|GarageFinish_Tencode', 'LandSlope_Tencode|BsmtExposure_Tencode', 'SaleType_Tencode|MoSold_Tencode', 'Functional_Tencode|LandSlope_Tencode', 'KitchenQual_Tencode|LotFrontage', 'CentralAir_Tencode|Electrical_Tencode', 'BedroomAbvGr|2ndFlrSF', 'BsmtCond_Tencode|MiscFeature_Tencode', 'BsmtFinSF2|1stFlrSF', 'GarageCars|YrSold_Tencode', 'HalfBath|FullBath', 'CentralAir_Tencode|BsmtFinType2_Tencode', 'Exterior1st_Tencode|GarageArea', 'PoolArea|BsmtCond_Tencode', 'PoolQC_Tencode|Heating_Tencode', 'Exterior1st_Tencode|Heating_Tencode', 'BsmtFinSF2|3SsnPorch', 'Neighborhood_Tencode|LandSlope_Tencode', 'BsmtUnfSF|PoolArea', 'GarageType_Tencode|Fireplaces', 'SaleType_Tencode|GarageQual_Tencode', 'LotShape_Tencode|GarageCond_Tencode', 'LotArea|LotShape_Tencode', 'BldgType_Tencode|Condition1_Tencode', 'Exterior2nd_Tencode|GarageFinish_Tencode', 'BsmtQual_Tencode|Alley_Tencode', 'ExterCond_Tencode|Heating_Tencode', 'LotConfig_Tencode|BsmtCond_Tencode', 'RoofMatl_Tencode|Condition2_Tencode', 'BsmtFinSF2|BsmtFinType1_Tencode', 'Condition1_Tencode|GarageCond_Tencode', 'HeatingQC_Tencode|SaleCondition_Tencode', 'GarageCars|MoSold_Tencode', 'MiscFeature_Tencode|BsmtExposure_Tencode', 'Foundation_Tencode|BsmtFinType1_Tencode', 'SaleType_Tencode|LotConfig_Tencode', 'Functional_Tencode|GarageFinish_Tencode', 'YrSold_Tencode|Condition1_Tencode', 'ExterQual_Tencode|WoodDeckSF', 'BsmtFinType1_Tencode|2ndFlrSF', 'LotFrontage|BsmtFinType2_Tencode', 'BsmtCond_Tencode|GarageYrBlt', 'ExterCond_Tencode|HeatingQC_Tencode', 'LotArea|RoofStyle_Tencode', 'HeatingQC_Tencode|BsmtHalfBath', 'Exterior2nd_Tencode', 'HouseStyle_Tencode|BsmtFinType2_Tencode', 'YrSold_Tencode|Electrical_Tencode', 'ScreenPorch|3SsnPorch', 'KitchenAbvGr|MSZoning_Tencode', 'BsmtFinSF1|GarageArea', 'LandContour_Tencode|OverallQual_Tencode', 'Foundation_Tencode|HouseStyle_Tencode', 'Functional_Tencode|MSSubClass_Tencode', 'Id|2ndFlrSF', 'BsmtCond_Tencode|OverallCond_Tencode', 'Condition1_Tencode|BedroomAbvGr', 'Functional_Tencode|BsmtFinSF1', 'EnclosedPorch|GarageQual_Tencode', 'GarageYrBlt|MSSubClass_Tencode', 'LowQualFinSF|MasVnrType_Tencode', 'PoolQC_Tencode|GarageCond_Tencode', 'BsmtUnfSF|FullBath', 'Neighborhood_Tencode|FireplaceQu_Tencode', 'BsmtCond_Tencode|Heating_Tencode', 'YrSold_Tencode|GarageArea', 'Heating_Tencode|Electrical_Tencode', 'Alley_Tencode|GarageYrBlt', 'GarageArea|KitchenAbvGr', 'GarageYrBlt|3SsnPorch', 'RoofStyle_Tencode|MSZoning_Tencode', '2ndFlrSF|MSZoning_Tencode', 'MasVnrArea|Functional_Tencode', 'RoofMatl_Tencode|3SsnPorch', 'LotConfig_Tencode|LotFrontage', 'BsmtUnfSF|LandSlope_Tencode', 'Neighborhood_Tencode|MiscVal', 'MasVnrArea|YearRemodAdd_Tencode', 'PoolQC_Tencode|OverallCond_Tencode', 'GarageYrBltBins_Tencode|Alley_Tencode', 'KitchenQual_Tencode|Condition1_Tencode', 'LotShape_Tencode|Street_Tencode', 'Neighborhood_Tencode|Utilities_Tencode', 'LotShape_Tencode|OverallQual_Tencode', 'Exterior2nd_Tencode|GarageQual_Tencode', 'MasVnrType_Tencode|MiscVal', 'PoolArea|BsmtFinSF1', 'Exterior2nd_Tencode|OverallCond_Tencode', 'GarageCars|PavedDrive_Tencode', 'Electrical_Tencode|YearRemodAdd_Tencode', 'HouseStyle_Tencode|BsmtExposure_Tencode', 'LotShape_Tencode|KitchenQual_Tencode', 'PavedDrive_Tencode|Utilities_Tencode', 'GrLivArea|GarageFinish_Tencode', 'HalfBath|BsmtHalfBath', 'GarageYrBlt|BsmtFinType2_Tencode', 'Exterior1st_Tencode|GarageQual_Tencode', 'HeatingQC_Tencode|GarageQual_Tencode', 'BsmtFullBath|Utilities_Tencode', 'GarageYrBltBins_Tencode|Fireplaces', 'MoSold_Tencode|2ndFlrSF', 'Id|BsmtExposure_Tencode', 'BsmtQual_Tencode|Utilities_Tencode', 'Heating_Tencode|BsmtFinSF1', 'FullBath|Heating_Tencode', 'CentralAir_Tencode|FireplaceQu_Tencode', 'RoofMatl_Tencode|WoodDeckSF', 'LandContour_Tencode|2ndFlrSF', 'FullBath|KitchenQual_Tencode', 'RoofStyle_Tencode|ExterQual_Tencode', 'Neighborhood_Tencode|GarageQual_Tencode', 'ExterQual_Tencode|GarageFinish_Tencode', 'BsmtUnfSF|RoofMatl_Tencode', 'LotShape_Tencode|GarageYrBlt', 'ExterCond_Tencode|2ndFlrSF', 'GarageType_Tencode|BedroomAbvGr', 'BsmtQual_Tencode|OverallQual_Tencode', 'Utilities_Tencode|LotFrontage', 'OverallCond_Tencode|GarageCond_Tencode', 'RoofStyle_Tencode|Fence_Tencode', 'Neighborhood_Tencode|TotalBsmtSF', '1stFlrSF|BsmtFinSF1', 'Exterior1st_Tencode|KitchenQual_Tencode', 'BldgType_Tencode|BsmtExposure_Tencode', 'MasVnrType_Tencode|EnclosedPorch', 'YearBuilt_Tencode|GrLivArea', '3SsnPorch|LandSlope_Tencode', 'BsmtFinSF1|HeatingQC_Tencode', 'Heating_Tencode|Condition1_Tencode', 'RoofMatl_Tencode|GarageArea', 'BsmtFinSF2|Functional_Tencode', 'BsmtFinSF2|BsmtCond_Tencode', 'BldgType_Tencode|MiscFeature_Tencode', 'PoolQC_Tencode|YearBuilt_Tencode', 'BsmtCond_Tencode', 'RoofStyle_Tencode|GarageCond_Tencode', 'MoSold_Tencode|LotFrontage', 'Neighborhood_Tencode|3SsnPorch', 'LotFrontage|LandSlope_Tencode', 'MSSubClass_Tencode|YearRemodAdd_Tencode', 'Foundation_Tencode|HalfBath', 'YrSold_Tencode|BsmtHalfBath', 'YearBuilt_Tencode|BsmtFinSF1', 'Fireplaces|BedroomAbvGr', 'Condition1_Tencode|SaleCondition_Tencode', 'SaleType_Tencode|YearRemodAdd_Tencode', 'Neighborhood_Tencode|HouseStyle_Tencode', 'GarageCars|PoolQC_Tencode', 'BsmtUnfSF|KitchenQual_Tencode', 'MasVnrArea|MSSubClass_Tencode', 'GarageType_Tencode|PoolArea', 'GrLivArea|BedroomAbvGr', 'Id|Condition2_Tencode', 'HalfBath|FireplaceQu_Tencode', 'GarageType_Tencode|RoofMatl_Tencode', 'GarageType_Tencode|LandContour_Tencode', 'KitchenQual_Tencode|GarageYrBlt', 'ExterCond_Tencode|BldgType_Tencode', 'FullBath|TotalBsmtSF', 'GrLivArea|ScreenPorch', 'Exterior2nd_Tencode|PoolQC_Tencode', 'MoSold_Tencode|BsmtHalfBath', 'FullBath|LotShape_Tencode', 'Id|TotRmsAbvGrd', 'KitchenQual_Tencode|KitchenAbvGr', 'LotShape_Tencode', 'KitchenQual_Tencode|BedroomAbvGr', 'BsmtQual_Tencode|Heating_Tencode', 'BsmtCond_Tencode|GarageCond_Tencode', 'SaleType_Tencode|MSZoning_Tencode', 'LotArea|ScreenPorch', 'YearRemodAdd_Tencode', 'Exterior2nd_Tencode|SaleCondition_Tencode', 'FullBath|Fireplaces', 'PavedDrive_Tencode|Electrical_Tencode', 'ExterCond_Tencode|LotConfig_Tencode', 'YrSold_Tencode|GarageQual_Tencode', 'LowQualFinSF|RoofMatl_Tencode', 'GarageQual_Tencode|OverallQual_Tencode', 'FullBath|Exterior1st_Tencode', 'YrSold_Tencode|MSSubClass_Tencode', 'LandSlope_Tencode|GarageFinish_Tencode', 'BsmtFinSF2|ScreenPorch', 'PoolQC_Tencode|BedroomAbvGr', 'Exterior1st_Tencode|BsmtCond_Tencode', 'LandContour_Tencode|Alley_Tencode', 'Functional_Tencode|BsmtExposure_Tencode', 'LowQualFinSF|GrLivArea', 'FireplaceQu_Tencode|2ndFlrSF', 'ExterQual_Tencode|LotFrontage', 'HouseStyle_Tencode|OverallCond_Tencode', 'ExterCond_Tencode|BsmtExposure_Tencode', 'YrSold_Tencode|MSZoning_Tencode', 'HouseStyle_Tencode|BsmtFinSF1', 'YrSold_Tencode|MoSold_Tencode', 'Foundation_Tencode|MiscFeature_Tencode', 'MoSold_Tencode|MSZoning_Tencode', 'YearRemodAdd_Tencode|SaleCondition_Tencode', 'GarageType_Tencode|MoSold_Tencode', 'BsmtFullBath|MiscFeature_Tencode', 'BsmtQual_Tencode|PoolArea', 'BsmtFullBath|MSSubClass_Tencode', 'OpenPorchSF|Utilities_Tencode', 'RoofMatl_Tencode|SaleCondition_Tencode', 'MasVnrType_Tencode|OverallCond_Tencode', 'BsmtFullBath|Condition2_Tencode', 'OpenPorchSF|HouseStyle_Tencode', 'YearBuilt_Tencode|Condition1_Tencode', 'GarageCars|WoodDeckSF', 'LowQualFinSF|ExterQual_Tencode', 'LowQualFinSF|MSSubClass_Tencode', 'BsmtQual_Tencode|LotShape_Tencode', 'GarageCars|GarageQual_Tencode', 'Utilities_Tencode|GarageFinish_Tencode', '1stFlrSF|MiscFeature_Tencode', 'PoolArea|EnclosedPorch', 'PoolQC_Tencode|KitchenAbvGr', 'LotConfig_Tencode|Exterior1st_Tencode', 'GarageYrBltBins_Tencode|GarageArea', 'LotArea|SaleType_Tencode', 'HalfBath|Neighborhood_Tencode', 'SaleType_Tencode|EnclosedPorch', 'TotRmsAbvGrd|Electrical_Tencode', 'MoSold_Tencode|BedroomAbvGr', 'Condition1_Tencode|GarageArea', 'Heating_Tencode|PavedDrive_Tencode', 'Alley_Tencode|OverallQual_Tencode', 'YearBuilt_Tencode|TotRmsAbvGrd', 'ExterQual_Tencode|Fence_Tencode', 'BsmtCond_Tencode|BedroomAbvGr', 'PoolArea|LandContour_Tencode', 'HalfBath|Fireplaces', 'BsmtFinType1_Tencode|HouseStyle_Tencode', 'YearBuilt_Tencode|LotConfig_Tencode', 'RoofMatl_Tencode|Fence_Tencode', 'OverallQual_Tencode|GarageCond_Tencode', 'LotShape_Tencode|MiscVal', 'BsmtUnfSF|GrLivArea', 'OpenPorchSF|GarageYrBlt', 'FireplaceQu_Tencode|Utilities_Tencode', 'ExterCond_Tencode|MasVnrType_Tencode', 'BsmtUnfSF|BsmtExposure_Tencode', 'GarageCars|YearBuilt_Tencode', 'PoolQC_Tencode|MSSubClass_Tencode', 'BsmtQual_Tencode|BsmtFinType1_Tencode', 'TotalBsmtSF|GarageQual_Tencode', 'PoolArea|FireplaceQu_Tencode', 'CentralAir_Tencode|GarageQual_Tencode', 'Electrical_Tencode|WoodDeckSF', 'BsmtFullBath|PoolQC_Tencode', 'BsmtUnfSF|GarageArea', 'BsmtFullBath|GarageCond_Tencode', 'BsmtCond_Tencode|GarageFinish_Tencode', 'BsmtFullBath|MasVnrArea', 'BsmtQual_Tencode|HeatingQC_Tencode', 'BsmtQual_Tencode|YrSold_Tencode', 'WoodDeckSF|OverallQual_Tencode', 'ScreenPorch|Condition1_Tencode', 'KitchenQual_Tencode|BsmtFinType2_Tencode', 'LowQualFinSF|TotRmsAbvGrd', 'Exterior1st_Tencode|Fence_Tencode', 'Alley_Tencode|GarageQual_Tencode', 'BsmtFullBath|ExterQual_Tencode', 'HalfBath|HouseStyle_Tencode', 'BsmtFinSF2|GarageFinish_Tencode', 'GarageYrBltBins_Tencode|BsmtFullBath', 'MoSold_Tencode|GarageArea', 'MasVnrType_Tencode|HeatingQC_Tencode', 'LotFrontage|2ndFlrSF', 'Id|LotShape_Tencode', 'BsmtFinSF2|GarageYrBltBins_Tencode', 'LotShape_Tencode|BsmtFinType2_Tencode', 'GarageArea|BsmtHalfBath', 'Exterior2nd_Tencode|BedroomAbvGr', '3SsnPorch|YearRemodAdd_Tencode', 'RoofStyle_Tencode|KitchenQual_Tencode', 'FullBath|GarageCond_Tencode', 'MSSubClass_Tencode|Condition1_Tencode', 'ScreenPorch|GarageQual_Tencode', 'Exterior2nd_Tencode|LotConfig_Tencode', 'LowQualFinSF|BsmtFinSF1', 'BsmtFinType2_Tencode|LandSlope_Tencode', 'KitchenQual_Tencode|Street_Tencode', 'OpenPorchSF|BsmtExposure_Tencode', 'Neighborhood_Tencode|ExterQual_Tencode', 'Exterior2nd_Tencode|MSZoning_Tencode', 'Street_Tencode|GarageFinish_Tencode', 'MiscVal|BsmtHalfBath', 'MSSubClass', 'OverallCond_Tencode|MSZoning_Tencode', 'BsmtCond_Tencode|Fence_Tencode', 'BsmtFinType1_Tencode|Heating_Tencode', 'BsmtUnfSF|OverallQual_Tencode', 'GarageYrBlt|YearRemodAdd_Tencode', 'TotRmsAbvGrd|BldgType_Tencode', 'GarageYrBltBins_Tencode|BsmtFinType1_Tencode', 'CentralAir_Tencode|GarageFinish_Tencode', 'RoofMatl_Tencode|Street_Tencode', 'BsmtFinSF2|HeatingQC_Tencode', 'Neighborhood_Tencode|BsmtFinType2_Tencode', '1stFlrSF|Alley_Tencode', 'OpenPorchSF|MasVnrType_Tencode', 'Functional_Tencode|LotFrontage', 'RoofMatl_Tencode|RoofStyle_Tencode', 'ScreenPorch|GarageCond_Tencode', 'KitchenQual_Tencode|BsmtHalfBath', 'BsmtFinType2_Tencode|BsmtExposure_Tencode', 'Electrical_Tencode|KitchenAbvGr', 'BsmtFinType1_Tencode|Utilities_Tencode', 'HeatingQC_Tencode|BedroomAbvGr', 'Foundation_Tencode|BsmtHalfBath', 'SaleType_Tencode|ScreenPorch', 'GarageYrBltBins_Tencode|MasVnrType_Tencode', 'FireplaceQu_Tencode|LotFrontage', 'BsmtUnfSF|CentralAir_Tencode', 'YearBuilt_Tencode|Fireplaces', 'GarageCars|Heating_Tencode', 'Exterior2nd_Tencode|MasVnrArea', 'HouseStyle_Tencode|YearRemodAdd_Tencode', 'PavedDrive_Tencode|LandContour_Tencode', 'BsmtFullBath|GarageArea', 'GarageYrBltBins_Tencode|GrLivArea', 'BsmtFullBath|BldgType_Tencode', 'OpenPorchSF|OverallQual_Tencode', 'Alley_Tencode|SaleCondition_Tencode', 'HalfBath|HeatingQC_Tencode', 'BsmtCond_Tencode|SaleCondition_Tencode', 'FireplaceQu_Tencode|MSZoning_Tencode', 'Alley_Tencode|EnclosedPorch', 'GrLivArea|RoofStyle_Tencode', 'MasVnrArea|BsmtFinSF1', 'ScreenPorch|HeatingQC_Tencode', 'RoofStyle_Tencode|Street_Tencode', 'Exterior2nd_Tencode|1stFlrSF', 'BsmtCond_Tencode|MSSubClass_Tencode', 'Exterior2nd_Tencode|RoofStyle_Tencode', 'GarageType_Tencode|HeatingQC_Tencode', 'PoolQC_Tencode|YrSold_Tencode', 'RoofMatl_Tencode|PavedDrive_Tencode', 'ExterCond_Tencode|SaleType_Tencode', 'TotalBsmtSF|KitchenAbvGr', 'Functional_Tencode|BldgType_Tencode', 'OverallCond_Tencode|MiscVal', 'HalfBath|BsmtFinType1_Tencode', 'MSSubClass_Tencode|GarageFinish_Tencode', 'BsmtFullBath|LandSlope_Tencode', 'YrSold_Tencode|KitchenQual_Tencode', 'GarageArea', 'ScreenPorch|GarageFinish_Tencode', 'BsmtFinType1_Tencode|GarageYrBlt', 'HeatingQC_Tencode|GarageCond_Tencode', 'TotalBsmtSF|WoodDeckSF', 'HeatingQC_Tencode|GarageFinish_Tencode', 'PoolQC_Tencode|SaleType_Tencode', 'BsmtFinType1_Tencode|GarageQual_Tencode', 'KitchenAbvGr|SaleCondition_Tencode', 'FullBath|MiscVal', 'Foundation_Tencode|Functional_Tencode', 'FullBath|YrSold_Tencode', 'TotRmsAbvGrd|GarageArea', 'Condition2_Tencode|MiscFeature_Tencode', 'Fence_Tencode|WoodDeckSF', 'BsmtUnfSF|ExterCond_Tencode', 'TotalBsmtSF|BsmtFinSF1', 'GarageCars|MiscFeature_Tencode', 'BsmtUnfSF|LotShape_Tencode', 'LotConfig_Tencode|LandSlope_Tencode', 'Condition1_Tencode|GarageQual_Tencode', 'LandSlope_Tencode|OverallQual_Tencode', 'BsmtCond_Tencode|Electrical_Tencode', 'LandContour_Tencode|BsmtFinSF1', 'Fence_Tencode|GarageCond_Tencode', 'YearRemodAdd_Tencode|WoodDeckSF', 'PoolQC_Tencode|GarageFinish_Tencode', 'MiscVal|OverallQual_Tencode', 'OverallCond', 'SaleType_Tencode|FireplaceQu_Tencode', 'BsmtFinSF2|HalfBath', 'YrSold_Tencode|Exterior1st_Tencode', 'LotConfig_Tencode|2ndFlrSF', 'PavedDrive_Tencode|BedroomAbvGr', 'HouseStyle_Tencode|SaleCondition_Tencode', 'LandContour_Tencode|BsmtFinType2_Tencode', 'PoolQC_Tencode|Neighborhood_Tencode', 'LowQualFinSF|RoofStyle_Tencode', 'GarageType_Tencode|YearRemodAdd_Tencode', 'LotConfig_Tencode|Condition1_Tencode', 'Neighborhood_Tencode|GarageCond_Tencode', 'LandSlope_Tencode|GarageCond_Tencode', 'Foundation_Tencode|Fireplaces', '1stFlrSF|RoofMatl_Tencode', 'MasVnrArea|FireplaceQu_Tencode', 'LandContour_Tencode|TotalBsmtSF', 'KitchenQual_Tencode|HeatingQC_Tencode', '3SsnPorch|GarageCond_Tencode', 'Condition2_Tencode|BsmtHalfBath', 'YearBuilt_Tencode|ScreenPorch', 'OpenPorchSF|Street_Tencode', 'MasVnrArea|Id', 'YrSold_Tencode|FireplaceQu_Tencode', 'FullBath|MiscFeature_Tencode', 'PoolQC_Tencode|TotRmsAbvGrd', 'MSSubClass_Tencode|GarageQual_Tencode', 'Foundation_Tencode|TotalBsmtSF', 'BsmtQual_Tencode|Fence_Tencode', 'Fence_Tencode|OverallQual_Tencode', 'MoSold_Tencode', 'LotArea|MSSubClass_Tencode', 'HouseStyle_Tencode|KitchenAbvGr', 'GarageCars|HeatingQC_Tencode', 'LotConfig_Tencode|EnclosedPorch', 'BsmtFinSF1|BsmtExposure_Tencode', 'LotArea|YrSold_Tencode', 'YearBuilt_Tencode|MiscVal', 'Id|KitchenQual_Tencode', 'CentralAir_Tencode|2ndFlrSF', 'Functional_Tencode|3SsnPorch', 'OpenPorchSF|BsmtHalfBath', 'HalfBath|BsmtCond_Tencode', 'OverallCond_Tencode|LandSlope_Tencode', 'ExterCond_Tencode|GarageArea', 'BsmtFullBath|YearRemodAdd_Tencode', 'OpenPorchSF|MSZoning_Tencode', 'KitchenAbvGr', 'PoolQC_Tencode|2ndFlrSF', 'Exterior2nd_Tencode|RoofMatl_Tencode', 'YearBuilt_Tencode|LandContour_Tencode', 'LotConfig_Tencode|BedroomAbvGr', 'RoofMatl_Tencode|BsmtHalfBath', 'SaleType_Tencode|TotalBsmtSF', 'FireplaceQu_Tencode|KitchenQual_Tencode', 'LotFrontage|SaleCondition_Tencode', 'BsmtHalfBath|LandSlope_Tencode', 'GarageYrBltBins_Tencode|FullBath', 'BsmtExposure_Tencode|OverallQual_Tencode', 'Heating_Tencode|KitchenQual_Tencode', 'Neighborhood_Tencode|MoSold_Tencode', 'Condition2_Tencode|GarageQual_Tencode', 'Foundation_Tencode|BsmtCond_Tencode', 'Id|BldgType_Tencode', 'BsmtFinType2_Tencode|MiscFeature_Tencode', 'BsmtUnfSF|BsmtFinType1_Tencode', 'BldgType_Tencode|GarageFinish_Tencode', 'KitchenAbvGr|BsmtExposure_Tencode', 'Fence_Tencode|3SsnPorch', 'MSZoning_Tencode|GarageCond_Tencode', 'Street_Tencode|KitchenAbvGr', 'Exterior1st_Tencode|BsmtHalfBath', 'BsmtFinSF2|BsmtFinSF1', 'Functional_Tencode|ScreenPorch', 'Neighborhood_Tencode|SaleType_Tencode', 'GarageArea|YearRemodAdd_Tencode', 'BsmtFinSF2|MSZoning_Tencode', 'LotFrontage|BedroomAbvGr', 'GrLivArea|KitchenQual_Tencode', 'CentralAir_Tencode|SaleCondition_Tencode', 'MasVnrArea|ScreenPorch', 'RoofMatl_Tencode|MoSold_Tencode', 'FireplaceQu_Tencode|3SsnPorch', '3SsnPorch|WoodDeckSF', 'GarageYrBltBins_Tencode|MoSold_Tencode', 'Fireplaces|LotFrontage', 'Heating_Tencode|Condition2_Tencode', 'BsmtUnfSF|OverallCond_Tencode', 'Id|LotFrontage', 'GarageYrBlt|EnclosedPorch', 'GarageYrBltBins_Tencode|HouseStyle_Tencode', 'OverallQual_Tencode', 'HalfBath|GarageType_Tencode', 'OverallCond_Tencode|3SsnPorch', 'ExterQual_Tencode|BsmtExposure_Tencode', 'Utilities_Tencode|BsmtHalfBath', 'MasVnrArea|LotConfig_Tencode', 'PoolArea|MiscFeature_Tencode', 'GarageYrBltBins_Tencode', 'CentralAir_Tencode|3SsnPorch', 'HouseStyle_Tencode|Utilities_Tencode', 'BsmtUnfSF|EnclosedPorch', 'TotalBsmtSF|2ndFlrSF', 'Neighborhood_Tencode|Heating_Tencode', 'KitchenQual_Tencode|MiscFeature_Tencode', 'GarageYrBltBins_Tencode|RoofMatl_Tencode', 'YearBuilt_Tencode|OverallCond_Tencode', 'LowQualFinSF|SaleType_Tencode', 'MasVnrType_Tencode|Fence_Tencode', 'ScreenPorch|LotFrontage', 'OpenPorchSF|TotalBsmtSF', 'BedroomAbvGr', 'LandContour_Tencode|GarageArea', 'BsmtHalfBath|GarageCond_Tencode', 'EnclosedPorch|GarageFinish_Tencode', 'Alley_Tencode|KitchenAbvGr', 'Functional_Tencode|Exterior1st_Tencode', 'TotRmsAbvGrd|RoofMatl_Tencode', 'SaleCondition_Tencode|GarageCond_Tencode', 'BsmtFinSF2|SaleCondition_Tencode', 'RoofStyle_Tencode|SaleCondition_Tencode', 'LowQualFinSF|LotConfig_Tencode', 'Street_Tencode|GarageQual_Tencode', 'BsmtQual_Tencode|1stFlrSF', 'ExterCond_Tencode|KitchenQual_Tencode', 'Utilities_Tencode|KitchenQual_Tencode', 'MasVnrArea|MiscFeature_Tencode', 'Foundation_Tencode|MasVnrType_Tencode', 'MSSubClass_Tencode|GarageCond_Tencode', 'LowQualFinSF|BsmtFinType1_Tencode', 'Id|FireplaceQu_Tencode', 'YearBuilt_Tencode|WoodDeckSF', 'LowQualFinSF|MiscVal', 'PoolQC_Tencode|WoodDeckSF', 'CentralAir_Tencode|MiscVal', 'Neighborhood_Tencode|Id', 'SaleType_Tencode|GarageYrBlt', 'YearBuilt_Tencode|Exterior1st_Tencode', 'BedroomAbvGr|BsmtHalfBath', 'GrLivArea|YearRemodAdd_Tencode', 'OverallCond_Tencode', 'GarageYrBltBins_Tencode|BsmtQual_Tencode', 'YrSold_Tencode|Neighborhood_Tencode', 'Fireplaces|BsmtCond_Tencode', 'YearBuilt_Tencode|GarageArea', 'SaleCondition_Tencode|LandSlope_Tencode', 'BsmtFinType1_Tencode|Electrical_Tencode', 'HouseStyle_Tencode|FireplaceQu_Tencode', 'MasVnrType_Tencode|ScreenPorch', 'LowQualFinSF|Neighborhood_Tencode', 'MasVnrArea|MiscVal', 'MiscVal|GarageArea', 'BsmtFinType1_Tencode|ExterQual_Tencode', 'ExterCond_Tencode|MiscFeature_Tencode', '1stFlrSF|MSZoning_Tencode', 'GarageType_Tencode|LotShape_Tencode', 'Neighborhood_Tencode|MiscFeature_Tencode', 'TotRmsAbvGrd|Street_Tencode', 'Exterior2nd_Tencode|MiscFeature_Tencode', 'BsmtFinSF2|Condition1_Tencode', 'Alley_Tencode|LotShape_Tencode', 'FullBath|SaleType_Tencode', 'BsmtFinSF2|GarageType_Tencode', 'BsmtFinSF2|MiscVal', 'ExterCond_Tencode|ScreenPorch', 'LowQualFinSF|Exterior1st_Tencode', 'GrLivArea|SaleCondition_Tencode', '1stFlrSF|LandSlope_Tencode', 'Neighborhood_Tencode|GarageFinish_Tencode', 'SaleType_Tencode|RoofMatl_Tencode', 'HouseStyle_Tencode|BsmtCond_Tencode', 'Neighborhood_Tencode|RoofMatl_Tencode', 'Street_Tencode|SaleCondition_Tencode', 'FullBath|Condition1_Tencode', 'RoofStyle_Tencode|KitchenAbvGr', 'ExterCond_Tencode|RoofStyle_Tencode', 'BsmtFinSF2|YrSold_Tencode', 'GarageType_Tencode|LandSlope_Tencode', 'SaleType_Tencode|Condition1_Tencode', 'LowQualFinSF|1stFlrSF', 'Street_Tencode|GarageCond_Tencode', 'GarageQual_Tencode|GarageCond_Tencode', 'GarageCars|Id', 'LotConfig_Tencode|MSZoning_Tencode', 'MasVnrArea|Heating_Tencode', 'LowQualFinSF|MoSold_Tencode', 'BsmtFullBath|EnclosedPorch', 'MasVnrType_Tencode|GarageCond_Tencode', 'Neighborhood_Tencode|LandContour_Tencode', 'GarageType_Tencode|Utilities_Tencode', 'Fence_Tencode|MoSold_Tencode', 'MSSubClass_Tencode|BsmtExposure_Tencode', 'YrSold_Tencode|Fireplaces', 'BsmtUnfSF|FireplaceQu_Tencode', 'OverallCond_Tencode|SaleCondition_Tencode', 'YearBuilt_Tencode|BldgType_Tencode', 'LotFrontage|Street_Tencode', 'ScreenPorch|BedroomAbvGr', 'GarageType_Tencode|2ndFlrSF', 'GarageCars|ScreenPorch', 'ExterCond_Tencode|LotShape_Tencode', 'FireplaceQu_Tencode|KitchenAbvGr', 'MasVnrType_Tencode|BsmtFinSF1', 'Id|BedroomAbvGr', 'SaleType_Tencode|Fireplaces', 'Utilities_Tencode|Street_Tencode', 'BsmtFinSF1|GarageCond_Tencode', 'LotArea|EnclosedPorch', 'HouseStyle_Tencode|MiscVal', 'Fence_Tencode|EnclosedPorch', 'RoofStyle_Tencode', 'Id|Alley_Tencode', 'PoolQC_Tencode|BsmtFinType1_Tencode', 'Condition2_Tencode|MSZoning_Tencode', 'GarageYrBltBins_Tencode|Exterior1st_Tencode', 'TotRmsAbvGrd|WoodDeckSF', 'WoodDeckSF|GarageCond_Tencode', 'BsmtFullBath|GarageCars', 'MSSubClass_Tencode|Condition2_Tencode', 'GarageType_Tencode|MasVnrType_Tencode', 'GarageType_Tencode|Fence_Tencode', 'ExterCond_Tencode|FullBath', 'GarageFinish_Tencode|GarageCond_Tencode', 'GarageCars|BldgType_Tencode', 'GarageArea|GarageCond_Tencode', 'GarageType_Tencode|Heating_Tencode', 'PoolArea|Fireplaces', 'GarageArea|EnclosedPorch', 'TotalBsmtSF|KitchenQual_Tencode', 'BsmtFullBath|MasVnrType_Tencode', 'RoofMatl_Tencode|2ndFlrSF', 'BldgType_Tencode|BsmtFinType2_Tencode', 'GarageYrBlt|Condition2_Tencode', 'GarageType_Tencode|MiscFeature_Tencode', 'GarageYrBltBins_Tencode|ExterCond_Tencode', 'Electrical_Tencode|LandSlope_Tencode', 'Neighborhood_Tencode|Electrical_Tencode', 'Fireplaces|GarageFinish_Tencode', 'MoSold_Tencode|Condition1_Tencode', 'BsmtFinType1_Tencode|LandSlope_Tencode', 'OverallCond_Tencode|MSSubClass_Tencode', 'BsmtFinType2_Tencode|WoodDeckSF', 'PoolQC_Tencode|MiscVal', 'LotShape_Tencode|2ndFlrSF', 'GarageYrBltBins_Tencode|KitchenAbvGr', 'KitchenAbvGr|YearRemodAdd_Tencode', 'GarageYrBltBins_Tencode|PavedDrive_Tencode', 'BsmtQual_Tencode|OverallCond_Tencode', 'FullBath|BedroomAbvGr', 'RoofMatl_Tencode|KitchenQual_Tencode', 'FullBath|LandContour_Tencode', 'ExterCond_Tencode|MasVnrArea', 'ScreenPorch|Street_Tencode', 'Utilities_Tencode|MoSold_Tencode', 'OverallCond_Tencode|EnclosedPorch', 'PoolQC_Tencode|BldgType_Tencode', 'Functional_Tencode|Utilities_Tencode', 'YearRemodAdd_Tencode|LandSlope_Tencode', 'BsmtFinType1_Tencode|MSSubClass_Tencode', 'GarageCars|HouseStyle_Tencode', 'HeatingQC_Tencode', 'Condition1_Tencode|BsmtExposure_Tencode', 'BsmtFinType2_Tencode|GarageQual_Tencode', 'Utilities_Tencode|2ndFlrSF', 'BsmtUnfSF|LotConfig_Tencode', 'HalfBath|BsmtExposure_Tencode', 'HeatingQC_Tencode|GarageArea', 'SaleType_Tencode|KitchenAbvGr', 'LandContour_Tencode|Electrical_Tencode', 'GrLivArea|MSSubClass_Tencode', 'HalfBath|GarageQual_Tencode', 'LotFrontage|WoodDeckSF', 'TotalBsmtSF|MiscVal', 'MasVnrArea|BldgType_Tencode', 'Fence_Tencode|GarageArea', 'CentralAir_Tencode|LotArea', 'ExterQual_Tencode|FireplaceQu_Tencode', 'Neighborhood_Tencode|OverallQual_Tencode', '2ndFlrSF|BsmtHalfBath', 'BsmtFinSF2|Street_Tencode', 'Exterior2nd_Tencode|BsmtFullBath', 'HouseStyle_Tencode|BedroomAbvGr', 'Foundation_Tencode|GarageCars', 'MiscVal|GarageYrBlt', 'BsmtFinSF2|Foundation_Tencode', 'BsmtFinType1_Tencode|HeatingQC_Tencode', 'ScreenPorch|LandSlope_Tencode', 'Id|GarageArea', 'FullBath|Condition2_Tencode', 'WoodDeckSF|GarageQual_Tencode', 'GrLivArea|Id', 'GarageType_Tencode|FireplaceQu_Tencode', 'LotConfig_Tencode|GarageFinish_Tencode', 'TotRmsAbvGrd|MSZoning_Tencode', '3SsnPorch|MiscFeature_Tencode', 'Functional_Tencode|OverallCond_Tencode', 'ExterCond_Tencode|MSSubClass_Tencode', 'YrSold_Tencode|ScreenPorch', 'Exterior1st_Tencode|MiscFeature_Tencode', 'Exterior2nd_Tencode|GarageType_Tencode', 'ExterCond_Tencode|GrLivArea', 'RoofMatl_Tencode|MiscFeature_Tencode', 'LandContour_Tencode|MSSubClass_Tencode', 'KitchenQual_Tencode|SaleCondition_Tencode', 'SaleType_Tencode|Condition2_Tencode', 'BsmtHalfBath|GarageQual_Tencode', 'PavedDrive_Tencode|MoSold_Tencode', '1stFlrSF|FireplaceQu_Tencode', 'BsmtFinType1_Tencode|EnclosedPorch', 'LotConfig_Tencode|KitchenAbvGr', 'RoofMatl_Tencode|EnclosedPorch', 'Electrical_Tencode|GarageQual_Tencode', 'YearBuilt_Tencode|Street_Tencode', 'Functional_Tencode|YrSold_Tencode', 'Condition1_Tencode|WoodDeckSF', 'Fireplaces|EnclosedPorch', 'GrLivArea', 'FullBath|Fence_Tencode', 'OverallCond_Tencode|FireplaceQu_Tencode', 'LowQualFinSF|GarageQual_Tencode', 'Functional_Tencode|Id', 'TotRmsAbvGrd|FireplaceQu_Tencode', 'GarageYrBltBins_Tencode|YearRemodAdd_Tencode', 'YearBuilt_Tencode|MiscFeature_Tencode', 'MSSubClass_Tencode|HeatingQC_Tencode', 'Utilities_Tencode|GarageCond_Tencode', 'SaleType_Tencode|2ndFlrSF', 'OpenPorchSF|BsmtCond_Tencode', 'LowQualFinSF|Electrical_Tencode', '1stFlrSF|GarageType_Tencode', 'Functional_Tencode|KitchenAbvGr']"
     ]
    },
    {
     "name": "stdout",
     "output_type": "stream",
     "text": [
      "\n",
      "\n",
      "Categorical = ['Fence', 'Heating', 'Electrical', 'HeatingQC', 'Functional', 'ExterQual', 'BsmtCond', 'BsmtQual', 'LotShape', 'CentralAir', 'HouseStyle', 'RoofMatl', 'LandSlope', 'Exterior2nd', 'Condition2', 'LandContour', 'Neighborhood', 'ExterCond', 'KitchenQual', 'Street', 'PoolQC', 'BsmtExposure', 'Alley', 'LotConfig', 'MasVnrType', 'GarageQual', 'SaleType', 'MiscFeature', 'BldgType', 'Condition1', 'SaleCondition', 'Utilities', 'GarageCond', 'BsmtFinType2', 'GarageType', 'PavedDrive', 'RoofStyle', 'Foundation', 'GarageFinish', 'BsmtFinType1', 'Exterior1st', 'FireplaceQu', 'MSZoning', 'GarageYrBltBins']\n"
     ]
    }
   ],
   "source": [
    "encoded_combined_nums, cats = get_type_lists(frame=train2)"
   ]
  },
  {
   "cell_type": "code",
   "execution_count": 41,
   "metadata": {},
   "outputs": [
    {
     "data": {
      "text/plain": [
       "(1001, 3373)"
      ]
     },
     "execution_count": 41,
     "metadata": {},
     "output_type": "execute_result"
    }
   ],
   "source": [
    "train2.shape"
   ]
  },
  {
   "cell_type": "code",
   "execution_count": 42,
   "metadata": {},
   "outputs": [
    {
     "name": "stdout",
     "output_type": "stream",
     "text": [
      "False\n",
      "(1001, 133)\n",
      "False\n",
      "(1459, 133)\n"
     ]
    }
   ],
   "source": [
    "# check number of created variables is correct\n",
    "# 1 id column, 290)) combined variables\n",
    "print(train.shape == (1001, sum(range(1, 290), (290 + 43 + 1 + 1))))\n",
    "print(train.shape)\n",
    "print(test.shape == (1459, sum(range(1, 290), (290 + 43 + 1 + 1))))\n",
    "print(test.shape)"
   ]
  },
  {
   "cell_type": "code",
   "execution_count": 43,
   "metadata": {
    "collapsed": true
   },
   "outputs": [],
   "source": [
    "train=train2\n",
    "valid=valid2\n",
    "test=test2"
   ]
  },
  {
   "cell_type": "code",
   "execution_count": 44,
   "metadata": {
    "collapsed": true
   },
   "outputs": [],
   "source": [
    "h2o.show_progress() # turn on progress bars"
   ]
  },
  {
   "cell_type": "code",
   "execution_count": 45,
   "metadata": {},
   "outputs": [
    {
     "data": {
      "text/html": [
       "<table>\n",
       "<thead>\n",
       "<tr><th style=\"text-align: right;\">  SalePrice</th></tr>\n",
       "</thead>\n",
       "<tbody>\n",
       "<tr><td style=\"text-align: right;\">    12.2477</td></tr>\n",
       "<tr><td style=\"text-align: right;\">    12.109 </td></tr>\n",
       "<tr><td style=\"text-align: right;\">    12.3172</td></tr>\n",
       "</tbody>\n",
       "</table>"
      ]
     },
     "metadata": {},
     "output_type": "display_data"
    },
    {
     "name": "stdout",
     "output_type": "stream",
     "text": [
      "\n"
     ]
    },
    {
     "data": {
      "image/png": "[encoded data removed]",
      "text/plain": [
       "<matplotlib.figure.Figure at 0x12fc1d470>"
      ]
     },
     "metadata": {},
     "output_type": "display_data"
    }
   ],
   "source": [
    "# Check log transform - looks good\n",
    "%matplotlib inline\n",
    "train['SalePrice'].log().as_data_frame().hist()\n",
    "\n",
    "# Execute log transform\n",
    "train['SalePrice'] = train['SalePrice'].log()\n",
    "valid['SalePrice'] = valid['SalePrice'].log()\n",
    "print(train[0:3, 'SalePrice'])"
   ]
  },
  {
   "cell_type": "code",
   "execution_count": 45,
   "metadata": {
    "collapsed": true
   },
   "outputs": [],
   "source": [
    "h2o.show_progress()                                          # turn on progress bars\n",
    "from h2o.estimators.glm import H2OGeneralizedLinearEstimator # import GLM models\n",
    "from h2o.grid.grid_search import H2OGridSearch               "
   ]
  },
  {
   "cell_type": "code",
   "execution_count": 46,
   "metadata": {},
   "outputs": [
    {
     "name": "stdout",
     "output_type": "stream",
     "text": [
      "(504, 3373)\n",
      "(230, 3373)\n",
      "(497, 3373)\n",
      "(229, 3373)\n"
     ]
    }
   ],
   "source": [
    "half_train, other_half_train = train.split_frame([0.5], seed=12345)\n",
    "half_valid, other_half_valid = valid.split_frame([0.5], seed=12345)\n",
    "print(half_train.shape)\n",
    "print(half_valid.shape)\n",
    "print(other_half_train.shape)\n",
    "print(other_half_valid.shape)\n",
    "# no idea why this works better, but it does ... \n",
    "# could be a lucky split that happens to be more representative of test data\n",
    "# could be that it just prevents overfitting"
   ]
  },
  {
   "cell_type": "code",
   "execution_count": 49,
   "metadata": {
    "collapsed": true
   },
   "outputs": [],
   "source": [
    "import re\n",
    "import time\n",
    "\n",
    "def gen_submission(preds, test):\n",
    "\n",
    "    \"\"\" Generates submission file for Kaggle House Prices contest.\n",
    "    \n",
    "    :param preds: Column vector of predictions.\n",
    "    :param test: Test data.\n",
    "    \n",
    "    \"\"\"\n",
    "    \n",
    "    # create time stamp\n",
    "    time_stamp = re.sub('[: ]', '_', time.asctime())\n",
    "\n",
    "    # create predictions column\n",
    "    sub = test['Id'].cbind(preds.exp())\n",
    "    sub.columns = ['Id', 'SalePrice']\n",
    "    \n",
    "    # save file for submission\n",
    "    sub_fname = str(time_stamp) + '.csv'\n",
    "    h2o.download_csv(sub, sub_fname)"
   ]
  },
  {
   "cell_type": "code",
   "execution_count": 48,
   "metadata": {
    "collapsed": true
   },
   "outputs": [],
   "source": [
    "import re\n",
    "import time\n",
    "\n",
    "def gen_submission_glm(model, test):\n",
    "\n",
    "    \"\"\" Generates submission file for Kaggle House Prices contest.\n",
    "    \n",
    "    :param model: Model with which to score test data.\n",
    "    :param test: Test data.\n",
    "    \n",
    "    \"\"\"\n",
    "    \n",
    "    # create time stamp\n",
    "    time_stamp = re.sub('[: ]', '_', time.asctime())\n",
    "\n",
    "    # create predictions column\n",
    "    sub = test['Id'].cbind(model.predict(test).exp())\n",
    "    sub.columns = ['Id', 'SalePrice']\n",
    "    \n",
    "    # save file for submission\n",
    "    sub_fname = str(time_stamp) + '.csv'\n",
    "    h2o.download_csv(sub, sub_fname)\n"
   ]
  },
  {
   "cell_type": "code",
   "execution_count": 49,
   "metadata": {
    "collapsed": true
   },
   "outputs": [],
   "source": [
    "import os\n",
    "\n",
    "def pred_blender(dir_, files):\n",
    "    \n",
    "    \"\"\" Performs simple blending of prediction files. \n",
    "    \n",
    "    :param dir_: Directory in which files to be read are stored.\n",
    "    :param files: List of prediction files to be blended.\n",
    "    \n",
    "    \"\"\"\n",
    "    \n",
    "    # read predictions in files list and cbind\n",
    "    for i, file in enumerate(files):\n",
    "        if i == 0:\n",
    "            df = pd.read_csv(dir_ + os.sep + file).drop('SalePrice', axis=1)\n",
    "        col = pd.read_csv(dir_ + os.sep + file).drop('Id', axis=1)\n",
    "        col.columns = ['SalePrice' + str(i)]\n",
    "        df = pd.concat([df, col], axis=1)\n",
    "        \n",
    "    # create mean prediction    \n",
    "    df['mean'] = df.iloc[:, 1:].mean(axis=1)\n",
    "    print(df.head())\n",
    "        \n",
    "    # create time stamp\n",
    "    time_stamp = re.sub('[: ]', '_', time.asctime())        \n",
    "        \n",
    "    # write new submission file    \n",
    "    df = df[['Id', 'mean']]\n",
    "    df.columns = ['Id', 'SalePrice']\n",
    "    \n",
    "    # save file for submission\n",
    "    sub_fname = str(time_stamp) + '.csv'\n",
    "    df.to_csv(sub_fname, index=False)"
   ]
  },
  {
   "cell_type": "code",
   "execution_count": 50,
   "metadata": {
    "collapsed": true
   },
   "outputs": [],
   "source": [
    "def glm_grid(X, y, train, valid):\n",
    "    \n",
    "    \"\"\" Wrapper function for penalized GLM with alpha and lambda search.\n",
    "    \n",
    "    :param X: List of inputs.\n",
    "    :param y: Name of target variable.\n",
    "    :param train: Name of training H2OFrame.\n",
    "    :param valid: Name of validation H2OFrame.\n",
    "    :return: Best H2Omodel from H2OGeneralizedLinearEstimator\n",
    "\n",
    "    \"\"\"\n",
    "    \n",
    "    alpha_opts = [0.01, 0.25, 0.5, 0.99] # always keep some L2\n",
    "    hyper_parameters = {'alpha': alpha_opts}\n",
    "\n",
    "    # initialize grid search\n",
    "    grid = H2OGridSearch(\n",
    "        H2OGeneralizedLinearEstimator(\n",
    "            family=\"gaussian\",\n",
    "            lambda_search=True,\n",
    "            seed=12345),\n",
    "        hyper_params=hyper_parameters)\n",
    "    \n",
    "    # train grid\n",
    "    grid.train(y=y,\n",
    "               x=X, \n",
    "               training_frame=train,\n",
    "               validation_frame=valid)\n",
    "\n",
    "    # show grid search results\n",
    "    print(grid.show())\n",
    "\n",
    "    best = grid.get_grid()[0]\n",
    "    print(best)\n",
    "    \n",
    "    # plot top frame values\n",
    "    yhat_frame = valid.cbind(best.predict(valid))\n",
    "    print(yhat_frame[0:10, [y, 'predict']])\n",
    "\n",
    "    # plot sorted predictions\n",
    "    yhat_frame_df = yhat_frame[[y, 'predict']].as_data_frame()\n",
    "    yhat_frame_df.sort_values(by='predict', inplace=True)\n",
    "    yhat_frame_df.reset_index(inplace=True, drop=True)\n",
    "    _ = yhat_frame_df.plot(title='Ranked Predictions Plot')\n",
    "    \n",
    "    # select best model\n",
    "    return best"
   ]
  },
  {
   "cell_type": "code",
   "execution_count": 51,
   "metadata": {},
   "outputs": [
    {
     "name": "stdout",
     "output_type": "stream",
     "text": [
      "glm Grid Build progress: |████████████████████████████████████████████████| 100%\n",
      "      alpha                                                       model_ids  \\\n",
      "0    [0.25]  Grid_GLM_py_340_sid_88a6_model_python_1498680313620_15_model_1   \n",
      "1     [0.5]  Grid_GLM_py_340_sid_88a6_model_python_1498680313620_15_model_2   \n",
      "2    [0.99]  Grid_GLM_py_340_sid_88a6_model_python_1498680313620_15_model_3   \n",
      "3    [0.01]  Grid_GLM_py_340_sid_88a6_model_python_1498680313620_15_model_0   \n",
      "\n",
      "    residual_deviance  \n",
      "0  3.4056149704726546  \n",
      "1  3.4432799816367816  \n",
      "2  3.4997037522117393  \n",
      "3  3.7551576194833487  \n",
      "None\n",
      "Model Details\n",
      "=============\n",
      "H2OGeneralizedLinearEstimator :  Generalized Linear Modeling\n",
      "Model Key:  Grid_GLM_py_340_sid_88a6_model_python_1498680313620_15_model_1\n",
      "\n",
      "\n",
      "ModelMetricsRegressionGLM: glm\n",
      "** Reported on train data. **\n",
      "\n",
      "MSE: 0.013012961718910504\n",
      "RMSE: 0.11407436924616547\n",
      "MAE: 0.0804187668027057\n",
      "RMSLE: 0.00892713691702441\n",
      "R^2: 0.9169172448836034\n",
      "Mean Residual Deviance: 0.013012961718910504\n",
      "Null degrees of freedom: 503\n",
      "Residual degrees of freedom: 381\n",
      "Null deviance: 78.93975948609084\n",
      "Residual deviance: 6.558532706330894\n",
      "AIC: -509.9818774561262\n",
      "\n",
      "ModelMetricsRegressionGLM: glm\n",
      "** Reported on validation data. **\n",
      "\n",
      "MSE: 0.014807021610750672\n",
      "RMSE: 0.12168410582631847\n",
      "MAE: 0.09024554869246991\n",
      "RMSLE: 0.009388147986571045\n",
      "R^2: 0.9002234257806391\n",
      "Mean Residual Deviance: 0.014807021610750672\n",
      "Null degrees of freedom: 229\n",
      "Residual degrees of freedom: 107\n",
      "Null deviance: 34.66875782373328\n",
      "Residual deviance: 3.4056149704726546\n",
      "AIC: -68.1986435648958\n",
      "Scoring History: \n"
     ]
    },
    {
     "data": {
      "text/html": [
       "<div style=\"overflow:auto\"><table style=\"width:50%\"><tr><td><b></b></td>\n",
       "<td><b>timestamp</b></td>\n",
       "<td><b>duration</b></td>\n",
       "<td><b>iteration</b></td>\n",
       "<td><b>lambda</b></td>\n",
       "<td><b>predictors</b></td>\n",
       "<td><b>deviance_train</b></td>\n",
       "<td><b>deviance_test</b></td></tr>\n",
       "<tr><td></td>\n",
       "<td>2017-06-28 18:19:13</td>\n",
       "<td> 0.000 sec</td>\n",
       "<td>0</td>\n",
       "<td>.12E1</td>\n",
       "<td>5</td>\n",
       "<td>0.1494544</td>\n",
       "<td>0.1443685</td></tr>\n",
       "<tr><td></td>\n",
       "<td>2017-06-28 18:19:13</td>\n",
       "<td> 0.064 sec</td>\n",
       "<td>0</td>\n",
       "<td>.12E1</td>\n",
       "<td>9</td>\n",
       "<td>0.1408230</td>\n",
       "<td>0.1363925</td></tr>\n",
       "<tr><td></td>\n",
       "<td>2017-06-28 18:19:13</td>\n",
       "<td> 0.147 sec</td>\n",
       "<td>0</td>\n",
       "<td>.11E1</td>\n",
       "<td>13</td>\n",
       "<td>0.1325019</td>\n",
       "<td>0.1287985</td></tr>\n",
       "<tr><td></td>\n",
       "<td>2017-06-28 18:19:13</td>\n",
       "<td> 0.201 sec</td>\n",
       "<td>0</td>\n",
       "<td>.11E1</td>\n",
       "<td>14</td>\n",
       "<td>0.1245454</td>\n",
       "<td>0.1215788</td></tr>\n",
       "<tr><td></td>\n",
       "<td>2017-06-28 18:19:14</td>\n",
       "<td> 0.255 sec</td>\n",
       "<td>0</td>\n",
       "<td>.1E1</td>\n",
       "<td>18</td>\n",
       "<td>0.1170253</td>\n",
       "<td>0.1147682</td></tr>\n",
       "<tr><td>---</td>\n",
       "<td>---</td>\n",
       "<td>---</td>\n",
       "<td>---</td>\n",
       "<td>---</td>\n",
       "<td>---</td>\n",
       "<td>---</td>\n",
       "<td>---</td></tr>\n",
       "<tr><td></td>\n",
       "<td>2017-06-28 18:19:32</td>\n",
       "<td>18.379 sec</td>\n",
       "<td>0</td>\n",
       "<td>.16E-1</td>\n",
       "<td>140</td>\n",
       "<td>0.0109210</td>\n",
       "<td>0.0171281</td></tr>\n",
       "<tr><td></td>\n",
       "<td>2017-06-28 18:19:32</td>\n",
       "<td>18.715 sec</td>\n",
       "<td>0</td>\n",
       "<td>.15E-1</td>\n",
       "<td>141</td>\n",
       "<td>0.0108272</td>\n",
       "<td>0.0173807</td></tr>\n",
       "<tr><td></td>\n",
       "<td>2017-06-28 18:19:32</td>\n",
       "<td>19.062 sec</td>\n",
       "<td>0</td>\n",
       "<td>.14E-1</td>\n",
       "<td>142</td>\n",
       "<td>0.0107194</td>\n",
       "<td>0.0176685</td></tr>\n",
       "<tr><td></td>\n",
       "<td>2017-06-28 18:19:33</td>\n",
       "<td>19.400 sec</td>\n",
       "<td>0</td>\n",
       "<td>.14E-1</td>\n",
       "<td>148</td>\n",
       "<td>0.0106092</td>\n",
       "<td>0.0180386</td></tr>\n",
       "<tr><td></td>\n",
       "<td>2017-06-28 18:19:33</td>\n",
       "<td>19.750 sec</td>\n",
       "<td>0</td>\n",
       "<td>.13E-1</td>\n",
       "<td>145</td>\n",
       "<td>0.0105064</td>\n",
       "<td>0.0184944</td></tr></table></div>"
      ],
      "text/plain": [
       "     timestamp            duration    iteration    lambda    predictors    deviance_train        deviance_test\n",
       "---  -------------------  ----------  -----------  --------  ------------  --------------------  --------------------\n",
       "     2017-06-28 18:19:13  0.000 sec   0            .12E1     5             0.14945435605696974   0.14436845024707495\n",
       "     2017-06-28 18:19:13  0.064 sec   0            .12E1     9             0.1408229944432923    0.1363924545314126\n",
       "     2017-06-28 18:19:13  0.147 sec   0            .11E1     13            0.13250190653808305   0.12879853948599915\n",
       "     2017-06-28 18:19:13  0.201 sec   0            .11E1     14            0.12454536925909611   0.12157876386924162\n",
       "     2017-06-28 18:19:14  0.255 sec   0            .1E1      18            0.11702525208584987   0.1147681948577734\n",
       "---  ---                  ---         ---          ---       ---           ---                   ---\n",
       "     2017-06-28 18:19:32  18.379 sec  0            .16E-1    140           0.010921046547053496  0.017128131942684748\n",
       "     2017-06-28 18:19:32  18.715 sec  0            .15E-1    141           0.01082717846443374   0.017380724887247675\n",
       "     2017-06-28 18:19:32  19.062 sec  0            .14E-1    142           0.01071938094442192   0.017668462243324246\n",
       "     2017-06-28 18:19:33  19.400 sec  0            .14E-1    148           0.0106092212455902    0.018038553482199165\n",
       "     2017-06-28 18:19:33  19.750 sec  0            .13E-1    145           0.010506353377480529  0.018494367224874655"
      ]
     },
     "metadata": {},
     "output_type": "display_data"
    },
    {
     "name": "stdout",
     "output_type": "stream",
     "text": [
      "\n",
      "See the whole table with table.as_data_frame()\n",
      "\n",
      "glm prediction progress: |████████████████████████████████████████████████| 100%\n"
     ]
    },
    {
     "data": {
      "text/html": [
       "<table>\n",
       "<thead>\n",
       "<tr><th style=\"text-align: right;\">  SalePrice</th><th style=\"text-align: right;\">  predict</th></tr>\n",
       "</thead>\n",
       "<tbody>\n",
       "<tr><td style=\"text-align: right;\">    11.8494</td><td style=\"text-align: right;\">  12.0584</td></tr>\n",
       "<tr><td style=\"text-align: right;\">    12.2061</td><td style=\"text-align: right;\">  12.1591</td></tr>\n",
       "<tr><td style=\"text-align: right;\">    11.6784</td><td style=\"text-align: right;\">  11.7536</td></tr>\n",
       "<tr><td style=\"text-align: right;\">    11.914 </td><td style=\"text-align: right;\">  11.7733</td></tr>\n",
       "<tr><td style=\"text-align: right;\">    12.6758</td><td style=\"text-align: right;\">  12.4255</td></tr>\n",
       "<tr><td style=\"text-align: right;\">    12.861 </td><td style=\"text-align: right;\">  12.7446</td></tr>\n",
       "<tr><td style=\"text-align: right;\">    12.1035</td><td style=\"text-align: right;\">  11.9404</td></tr>\n",
       "<tr><td style=\"text-align: right;\">    11.2898</td><td style=\"text-align: right;\">  11.3687</td></tr>\n",
       "<tr><td style=\"text-align: right;\">    11.7714</td><td style=\"text-align: right;\">  11.6492</td></tr>\n",
       "<tr><td style=\"text-align: right;\">    11.5843</td><td style=\"text-align: right;\">  11.5342</td></tr>\n",
       "</tbody>\n",
       "</table>"
      ]
     },
     "metadata": {},
     "output_type": "display_data"
    },
    {
     "name": "stdout",
     "output_type": "stream",
     "text": [
      "\n",
      "glm prediction progress: |████████████████████████████████████████████████| 100%\n"
     ]
    },
    {
     "data": {
      "image/png": "[encoded data removed]",
      "text/plain": [
       "<matplotlib.figure.Figure at 0x1043577f0>"
      ]
     },
     "metadata": {},
     "output_type": "display_data"
    }
   ],
   "source": [
    "glm0_0 = glm_grid(encoded_combined_nums, 'SalePrice',  half_train, half_valid)\n",
    "gen_submission_glm(glm0_0,test) # Valid RMSE: 0.1325 #0.1216"
   ]
  },
  {
   "cell_type": "code",
   "execution_count": 56,
   "metadata": {},
   "outputs": [
    {
     "name": "stdout",
     "output_type": "stream",
     "text": [
      "glm prediction progress: |████████████████████████████████████████████████| 100%\n"
     ]
    }
   ],
   "source": [
    "#glm0_1 = glm_grid(encoded_combined_nums, 'SalePrice', other_half_train, other_half_valid)\n",
    "gen_submission_glm(glm0_1,test) # Valid RMSE: 0.11931 0.116"
   ]
  },
  {
   "cell_type": "code",
   "execution_count": 57,
   "metadata": {},
   "outputs": [
    {
     "name": "stdout",
     "output_type": "stream",
     "text": [
      "     Id     SalePrice0     SalePrice1           mean\n",
      "0  1461  111616.590094  102381.940726  106999.265410\n",
      "1  1462  142175.020593  142154.134369  142164.577481\n",
      "2  1463  173016.519084  167166.252038  170091.385561\n",
      "3  1464  190380.120019  183069.989015  186725.054517\n",
      "4  1465  211946.803098  202118.377125  207032.590112\n"
     ]
    }
   ],
   "source": [
    "pred_blender('/Users/zhaorc/Desktop/ML/files', \n",
    "             ['Wed_Jun_28_18_20_10_2017.csv',\n",
    "              'Wed_Jun_28_18_24_29_2017.csv'])\n",
    "# 0.13337 on public leaderboard, better than single model!"
   ]
  },
  {
   "cell_type": "code",
   "execution_count": 58,
   "metadata": {},
   "outputs": [
    {
     "name": "stdout",
     "output_type": "stream",
     "text": [
      "xgboost Model Build progress: |███████████████████████████████████████████| 100%\n",
      "Model Details\n",
      "=============\n",
      "H2OXGBoostEstimator :  XGBoost\n",
      "Model Key:  XGBoost_model_python_1498680313620_18\n",
      "\n",
      "\n",
      "ModelMetricsRegression: xgboost\n",
      "** Reported on train data. **\n",
      "\n",
      "MSE: 0.005951338975738817\n",
      "RMSE: 0.07714492190506655\n",
      "MAE: 0.04475082145942436\n",
      "RMSLE: 0.005984590186400224\n",
      "Mean Residual Deviance: 0.005951338975738817\n",
      "\n",
      "ModelMetricsRegression: xgboost\n",
      "** Reported on validation data. **\n",
      "\n",
      "MSE: 0.01726121707486444\n",
      "RMSE: 0.13138195110008238\n",
      "MAE: 0.09628202193183318\n",
      "RMSLE: 0.010218852608867847\n",
      "Mean Residual Deviance: 0.01726121707486444\n",
      "\n",
      "ModelMetricsRegression: xgboost\n",
      "** Reported on cross-validation data. **\n",
      "\n",
      "MSE: 0.019265849631246473\n",
      "RMSE: 0.13880147560903838\n",
      "MAE: 0.09351138897113628\n",
      "RMSLE: 0.010747689924979183\n",
      "Mean Residual Deviance: 0.019265849631246473\n",
      "Cross-Validation Metrics Summary: \n"
     ]
    },
    {
     "data": {
      "text/html": [
       "<div style=\"overflow:auto\"><table style=\"width:50%\"><tr><td><b></b></td>\n",
       "<td><b>mean</b></td>\n",
       "<td><b>sd</b></td>\n",
       "<td><b>cv_1_valid</b></td>\n",
       "<td><b>cv_2_valid</b></td>\n",
       "<td><b>cv_3_valid</b></td></tr>\n",
       "<tr><td>mae</td>\n",
       "<td>0.0935678</td>\n",
       "<td>0.0012082</td>\n",
       "<td>0.0934574</td>\n",
       "<td>0.0915325</td>\n",
       "<td>0.0957134</td></tr>\n",
       "<tr><td>mean_residual_deviance</td>\n",
       "<td>0.0192219</td>\n",
       "<td>0.0015446</td>\n",
       "<td>0.0204971</td>\n",
       "<td>0.0210210</td>\n",
       "<td>0.0161476</td></tr>\n",
       "<tr><td>mse</td>\n",
       "<td>0.0192219</td>\n",
       "<td>0.0015446</td>\n",
       "<td>0.0204971</td>\n",
       "<td>0.0210210</td>\n",
       "<td>0.0161476</td></tr>\n",
       "<tr><td>r2</td>\n",
       "<td>0.8752149</td>\n",
       "<td>0.0031889</td>\n",
       "<td>0.8701856</td>\n",
       "<td>0.8811260</td>\n",
       "<td>0.8743331</td></tr>\n",
       "<tr><td>residual_deviance</td>\n",
       "<td>0.0192219</td>\n",
       "<td>0.0015446</td>\n",
       "<td>0.0204971</td>\n",
       "<td>0.0210210</td>\n",
       "<td>0.0161476</td></tr>\n",
       "<tr><td>rmse</td>\n",
       "<td>0.1384092</td>\n",
       "<td>0.0056922</td>\n",
       "<td>0.1431681</td>\n",
       "<td>0.1449861</td>\n",
       "<td>0.1270733</td></tr>\n",
       "<tr><td>rmsle</td>\n",
       "<td>0.0107126</td>\n",
       "<td>0.0004767</td>\n",
       "<td>0.0110911</td>\n",
       "<td>0.0112812</td>\n",
       "<td>0.0097655</td></tr></table></div>"
      ],
      "text/plain": [
       "                        mean       sd           cv_1_valid    cv_2_valid    cv_3_valid\n",
       "----------------------  ---------  -----------  ------------  ------------  ------------\n",
       "mae                     0.0935678  0.00120819   0.0934574     0.0915325     0.0957134\n",
       "mean_residual_deviance  0.0192219  0.00154456   0.0204971     0.021021      0.0161476\n",
       "mse                     0.0192219  0.00154456   0.0204971     0.021021      0.0161476\n",
       "r2                      0.875215   0.00318885   0.870186      0.881126      0.874333\n",
       "residual_deviance       0.0192219  0.00154456   0.0204971     0.021021      0.0161476\n",
       "rmse                    0.138409   0.00569217   0.143168      0.144986      0.127073\n",
       "rmsle                   0.0107126  0.000476738  0.0110911     0.0112812     0.00976548"
      ]
     },
     "metadata": {},
     "output_type": "display_data"
    },
    {
     "name": "stdout",
     "output_type": "stream",
     "text": [
      "Scoring History: \n"
     ]
    },
    {
     "data": {
      "text/html": [
       "<div style=\"overflow:auto\"><table style=\"width:50%\"><tr><td><b></b></td>\n",
       "<td><b>timestamp</b></td>\n",
       "<td><b>duration</b></td>\n",
       "<td><b>number_of_trees</b></td>\n",
       "<td><b>training_rmse</b></td>\n",
       "<td><b>training_mae</b></td>\n",
       "<td><b>training_deviance</b></td>\n",
       "<td><b>validation_rmse</b></td>\n",
       "<td><b>validation_mae</b></td>\n",
       "<td><b>validation_deviance</b></td></tr>\n",
       "<tr><td></td>\n",
       "<td>2017-06-28 18:30:02</td>\n",
       "<td>40.669 sec</td>\n",
       "<td>0.0</td>\n",
       "<td>11.5392208</td>\n",
       "<td>11.5324996</td>\n",
       "<td>133.1536163</td>\n",
       "<td>11.5129466</td>\n",
       "<td>11.5056257</td>\n",
       "<td>132.5479390</td></tr>\n",
       "<tr><td></td>\n",
       "<td>2017-06-28 18:30:02</td>\n",
       "<td>40.714 sec</td>\n",
       "<td>1.0</td>\n",
       "<td>11.4819725</td>\n",
       "<td>11.4752177</td>\n",
       "<td>131.8356917</td>\n",
       "<td>11.4557013</td>\n",
       "<td>11.4483439</td>\n",
       "<td>131.2330931</td></tr>\n",
       "<tr><td></td>\n",
       "<td>2017-06-28 18:30:02</td>\n",
       "<td>40.719 sec</td>\n",
       "<td>2.0</td>\n",
       "<td>11.4253924</td>\n",
       "<td>11.4186042</td>\n",
       "<td>130.5395908</td>\n",
       "<td>11.3991243</td>\n",
       "<td>11.3917303</td>\n",
       "<td>129.9400351</td></tr>\n",
       "<tr><td></td>\n",
       "<td>2017-06-28 18:30:02</td>\n",
       "<td>40.728 sec</td>\n",
       "<td>3.0</td>\n",
       "<td>11.3685161</td>\n",
       "<td>11.3616939</td>\n",
       "<td>129.2431577</td>\n",
       "<td>11.3422512</td>\n",
       "<td>11.3348201</td>\n",
       "<td>128.6466622</td></tr>\n",
       "<tr><td></td>\n",
       "<td>2017-06-28 18:30:02</td>\n",
       "<td>40.733 sec</td>\n",
       "<td>4.0</td>\n",
       "<td>11.3123396</td>\n",
       "<td>11.3054835</td>\n",
       "<td>127.9690267</td>\n",
       "<td>11.2860778</td>\n",
       "<td>11.2786097</td>\n",
       "<td>127.3755523</td></tr>\n",
       "<tr><td>---</td>\n",
       "<td>---</td>\n",
       "<td>---</td>\n",
       "<td>---</td>\n",
       "<td>---</td>\n",
       "<td>---</td>\n",
       "<td>---</td>\n",
       "<td>---</td>\n",
       "<td>---</td>\n",
       "<td>---</td></tr>\n",
       "<tr><td></td>\n",
       "<td>2017-06-28 18:30:10</td>\n",
       "<td>48.703 sec</td>\n",
       "<td>2821.0</td>\n",
       "<td>0.1085613</td>\n",
       "<td>0.0694647</td>\n",
       "<td>0.0117856</td>\n",
       "<td>0.1288138</td>\n",
       "<td>0.0924454</td>\n",
       "<td>0.0165930</td></tr>\n",
       "<tr><td></td>\n",
       "<td>2017-06-28 18:30:14</td>\n",
       "<td>52.705 sec</td>\n",
       "<td>4589.0</td>\n",
       "<td>0.0971335</td>\n",
       "<td>0.0600609</td>\n",
       "<td>0.0094349</td>\n",
       "<td>0.1282752</td>\n",
       "<td>0.0937001</td>\n",
       "<td>0.0164545</td></tr>\n",
       "<tr><td></td>\n",
       "<td>2017-06-28 18:30:18</td>\n",
       "<td>56.706 sec</td>\n",
       "<td>6605.0</td>\n",
       "<td>0.0880463</td>\n",
       "<td>0.0529085</td>\n",
       "<td>0.0077522</td>\n",
       "<td>0.1295897</td>\n",
       "<td>0.0951104</td>\n",
       "<td>0.0167935</td></tr>\n",
       "<tr><td></td>\n",
       "<td>2017-06-28 18:30:24</td>\n",
       "<td> 1 min  2.377 sec</td>\n",
       "<td>9822.0</td>\n",
       "<td>0.0776082</td>\n",
       "<td>0.0451581</td>\n",
       "<td>0.0060230</td>\n",
       "<td>0.1316268</td>\n",
       "<td>0.0964537</td>\n",
       "<td>0.0173256</td></tr>\n",
       "<tr><td></td>\n",
       "<td>2017-06-28 18:30:25</td>\n",
       "<td> 1 min  3.226 sec</td>\n",
       "<td>10000.0</td>\n",
       "<td>0.0771449</td>\n",
       "<td>0.0447508</td>\n",
       "<td>0.0059513</td>\n",
       "<td>0.1313820</td>\n",
       "<td>0.0962820</td>\n",
       "<td>0.0172612</td></tr></table></div>"
      ],
      "text/plain": [
       "     timestamp            duration          number_of_trees    training_rmse        training_mae         training_deviance     validation_rmse      validation_mae       validation_deviance\n",
       "---  -------------------  ----------------  -----------------  -------------------  -------------------  --------------------  -------------------  -------------------  ---------------------\n",
       "     2017-06-28 18:30:02  40.669 sec        0.0                11.53922078459229    11.532499576305652   133.1536163155667     11.512946582875738   11.505625745569699   132.54793902015015\n",
       "     2017-06-28 18:30:02  40.714 sec        1.0                11.481972463980574   11.475217724537158   131.83569166360815    11.455701337489975   11.448343893801205   131.23309313376961\n",
       "     2017-06-28 18:30:02  40.719 sec        2.0                11.425392369712892   11.418604160045886   130.53959080189358    11.399124313681012   11.391730329309933   129.94003511875363\n",
       "     2017-06-28 18:30:02  40.728 sec        3.0                11.368516074820775   11.361693883632922   129.24315774345834    11.342251196557287   11.334820112501614   128.64666220580523\n",
       "     2017-06-28 18:30:02  40.733 sec        4.0                11.312339575293667   11.305483484958911   127.96902666675531    11.286077808516156   11.278609713827603   127.37555229988082\n",
       "---  ---                  ---               ---                ---                  ---                  ---                   ---                  ---                  ---\n",
       "     2017-06-28 18:30:10  48.703 sec        2821.0             0.10856131098702651  0.06946471306708428  0.011785558243221882  0.12881380118252017  0.09244535691338167  0.016592995375089833\n",
       "     2017-06-28 18:30:14  52.705 sec        4589.0             0.09713348142195047  0.06006089076176509  0.009434913213148398  0.12827517197578336  0.09370010974360447  0.0164545197454168\n",
       "     2017-06-28 18:30:18  56.706 sec        6605.0             0.08804629733762392  0.05290853536569631  0.007752150474865281  0.12958965884637985  0.09511038836310892  0.016793479679921116\n",
       "     2017-06-28 18:30:24  1 min  2.377 sec  9822.0             0.0776082383485956   0.04515807659595043  0.006023038659572427  0.1316267968590251   0.09645373732955367  0.017325613651367058\n",
       "     2017-06-28 18:30:25  1 min  3.226 sec  10000.0            0.07714492190506655  0.04475082145942436  0.005951338975738817  0.13138195110008238  0.09628202193183318  0.01726121707486444"
      ]
     },
     "metadata": {},
     "output_type": "display_data"
    },
    {
     "name": "stdout",
     "output_type": "stream",
     "text": [
      "\n",
      "See the whole table with table.as_data_frame()\n",
      "Variable Importances: \n"
     ]
    },
    {
     "data": {
      "text/html": [
       "<div style=\"overflow:auto\"><table style=\"width:50%\"><tr><td><b>variable</b></td>\n",
       "<td><b>relative_importance</b></td>\n",
       "<td><b>scaled_importance</b></td>\n",
       "<td><b>percentage</b></td></tr>\n",
       "<tr><td>Id</td>\n",
       "<td>3441.0</td>\n",
       "<td>1.0</td>\n",
       "<td>0.0583339</td></tr>\n",
       "<tr><td>LotArea</td>\n",
       "<td>3274.0</td>\n",
       "<td>0.9514676</td>\n",
       "<td>0.0555028</td></tr>\n",
       "<tr><td>GrLivArea</td>\n",
       "<td>3137.0</td>\n",
       "<td>0.9116536</td>\n",
       "<td>0.0531803</td></tr>\n",
       "<tr><td>BsmtUnfSF</td>\n",
       "<td>3107.0</td>\n",
       "<td>0.9029352</td>\n",
       "<td>0.0526717</td></tr>\n",
       "<tr><td>1stFlrSF</td>\n",
       "<td>2693.0</td>\n",
       "<td>0.7826213</td>\n",
       "<td>0.0456534</td></tr>\n",
       "<tr><td>---</td>\n",
       "<td>---</td>\n",
       "<td>---</td>\n",
       "<td>---</td></tr>\n",
       "<tr><td>GarageQual_Tencode</td>\n",
       "<td>34.0</td>\n",
       "<td>0.0098808</td>\n",
       "<td>0.0005764</td></tr>\n",
       "<tr><td>LandContour_Tencode</td>\n",
       "<td>18.0</td>\n",
       "<td>0.0052310</td>\n",
       "<td>0.0003051</td></tr>\n",
       "<tr><td>Alley_Tencode</td>\n",
       "<td>8.0</td>\n",
       "<td>0.0023249</td>\n",
       "<td>0.0001356</td></tr>\n",
       "<tr><td>BsmtCond_Tencode</td>\n",
       "<td>7.0</td>\n",
       "<td>0.0020343</td>\n",
       "<td>0.0001187</td></tr>\n",
       "<tr><td>BsmtHalfBath</td>\n",
       "<td>4.0</td>\n",
       "<td>0.0011625</td>\n",
       "<td>0.0000678</td></tr></table></div>"
      ],
      "text/plain": [
       "variable             relative_importance    scaled_importance      percentage\n",
       "-------------------  ---------------------  ---------------------  ----------------------\n",
       "Id                   3441.0                 1.0                    0.058333898420017634\n",
       "LotArea              3274.0                 0.9514675966288869     0.055502814131687804\n",
       "GrLivArea            3137.0                 0.9116535890729439     0.0531803078592256\n",
       "BsmtUnfSF            3107.0                 0.9029351932577739     0.052671729843357974\n",
       "1stFlrSF             2693.0                 0.7826213310084278     0.04565335322438462\n",
       "---                  ---                    ---                    ---\n",
       "GarageQual_Tencode   34.0                   0.00988084859052601    0.0005763884179833187\n",
       "LandContour_Tencode  18.0                   0.0052310374891020054  0.00030514680952058046\n",
       "Alley_Tencode        8.0                    0.0023249055507120024  0.0001356208042313691\n",
       "BsmtCond_Tencode     7.0                    0.002034292356873002   0.00011866820370244796\n",
       "BsmtHalfBath         4.0                    0.0011624527753560012  6.781040211568454e-05"
      ]
     },
     "metadata": {},
     "output_type": "display_data"
    },
    {
     "name": "stdout",
     "output_type": "stream",
     "text": [
      "\n",
      "See the whole table with table.as_data_frame()\n",
      "\n",
      "xgboost prediction progress: |████████████████████████████████████████████| 100%\n",
      "xgboost prediction progress: |████████████████████████████████████████████| 100%\n"
     ]
    }
   ],
   "source": [
    "# initialize XGB GBM\n",
    "h2o_xgb_model = H2OXGBoostEstimator(\n",
    "    ntrees = 10000,\n",
    "    learn_rate = 0.005,\n",
    "    sample_rate = 0.1, \n",
    "    col_sample_rate = 0.8,\n",
    "    max_depth = 5,\n",
    "    nfolds = 3,\n",
    "    keep_cross_validation_predictions=True,\n",
    "    stopping_rounds = 10,\n",
    "    seed = 12345)\n",
    "\n",
    "# execute training \n",
    "h2o_xgb_model.train(x=encoded_nums,\n",
    "                    y='SalePrice',\n",
    "                    training_frame=train,\n",
    "                    validation_frame=valid)\n",
    "\n",
    "# print model information/create submission\n",
    "print(h2o_xgb_model)\n",
    "h2o_xgb_preds1_val = h2o_xgb_model.predict(valid)\n",
    "#ranked_preds_plot('SalePrice', valid, h2o_xgb_preds1_val) \n",
    "h2o_xgb_preds1_test = h2o_xgb_model.predict(test)\n",
    "gen_submission(h2o_xgb_preds1_test) # 0.16494 on public leaderboard"
   ]
  },
  {
   "cell_type": "code",
   "execution_count": 59,
   "metadata": {
    "collapsed": true
   },
   "outputs": [],
   "source": [
    "gen_submission(h2o_xgb_preds1_test)"
   ]
  },
  {
   "cell_type": "code",
   "execution_count": 46,
   "metadata": {},
   "outputs": [
    {
     "name": "stdout",
     "output_type": "stream",
     "text": [
      "drf Model Build progress: |███████████████████████████████████████████████| 100%\n",
      "Model Details\n",
      "=============\n",
      "H2ORandomForestEstimator :  Distributed Random Forest\n",
      "Model Key:  DRF_model_python_1498689887404_1\n",
      "\n",
      "\n",
      "ModelMetricsRegression: drf\n",
      "** Reported on train data. **\n",
      "\n",
      "MSE: 0.017465047624399446\n",
      "RMSE: 0.13215539196112827\n",
      "MAE: 0.08985047747144462\n",
      "RMSLE: 0.010274034427532316\n",
      "Mean Residual Deviance: 0.017465047624399446\n",
      "\n",
      "ModelMetricsRegression: drf\n",
      "** Reported on validation data. **\n",
      "\n",
      "MSE: 0.016856437588690557\n",
      "RMSE: 0.12983234415464645\n",
      "MAE: 0.09266319949920339\n",
      "RMSLE: 0.010043923523736568\n",
      "Mean Residual Deviance: 0.016856437588690557\n",
      "\n",
      "ModelMetricsRegression: drf\n",
      "** Reported on cross-validation data. **\n",
      "\n",
      "MSE: 0.01857373183889105\n",
      "RMSE: 0.13628547919309325\n",
      "MAE: 0.08988988575395503\n",
      "RMSLE: 0.01060257046671778\n",
      "Mean Residual Deviance: 0.01857373183889105\n",
      "Cross-Validation Metrics Summary: \n"
     ]
    },
    {
     "data": {
      "text/html": [
       "<div style=\"overflow:auto\"><table style=\"width:50%\"><tr><td><b></b></td>\n",
       "<td><b>mean</b></td>\n",
       "<td><b>sd</b></td>\n",
       "<td><b>cv_1_valid</b></td>\n",
       "<td><b>cv_2_valid</b></td>\n",
       "<td><b>cv_3_valid</b></td></tr>\n",
       "<tr><td>mae</td>\n",
       "<td>0.0898669</td>\n",
       "<td>0.0003805</td>\n",
       "<td>0.0892916</td>\n",
       "<td>0.0905859</td>\n",
       "<td>0.0897232</td></tr>\n",
       "<tr><td>mean_residual_deviance</td>\n",
       "<td>0.0185476</td>\n",
       "<td>0.0015630</td>\n",
       "<td>0.0203919</td>\n",
       "<td>0.0198113</td>\n",
       "<td>0.0154396</td></tr>\n",
       "<tr><td>mse</td>\n",
       "<td>0.0185476</td>\n",
       "<td>0.0015630</td>\n",
       "<td>0.0203919</td>\n",
       "<td>0.0198113</td>\n",
       "<td>0.0154396</td></tr>\n",
       "<tr><td>r2</td>\n",
       "<td>0.879554</td>\n",
       "<td>0.0049428</td>\n",
       "<td>0.8708518</td>\n",
       "<td>0.8879668</td>\n",
       "<td>0.8798433</td></tr>\n",
       "<tr><td>residual_deviance</td>\n",
       "<td>0.0185476</td>\n",
       "<td>0.0015630</td>\n",
       "<td>0.0203919</td>\n",
       "<td>0.0198113</td>\n",
       "<td>0.0154396</td></tr>\n",
       "<tr><td>rmse</td>\n",
       "<td>0.1359363</td>\n",
       "<td>0.0058699</td>\n",
       "<td>0.1428003</td>\n",
       "<td>0.1407526</td>\n",
       "<td>0.1242561</td></tr>\n",
       "<tr><td>rmsle</td>\n",
       "<td>0.0105669</td>\n",
       "<td>0.0005157</td>\n",
       "<td>0.0111116</td>\n",
       "<td>0.0110530</td>\n",
       "<td>0.0095361</td></tr></table></div>"
      ],
      "text/plain": [
       "                        mean       sd           cv_1_valid    cv_2_valid    cv_3_valid\n",
       "----------------------  ---------  -----------  ------------  ------------  ------------\n",
       "mae                     0.0898669  0.000380489  0.0892916     0.0905859     0.0897232\n",
       "mean_residual_deviance  0.0185476  0.00156302   0.0203919     0.0198113     0.0154396\n",
       "mse                     0.0185476  0.00156302   0.0203919     0.0198113     0.0154396\n",
       "r2                      0.879554   0.00494277   0.870852      0.887967      0.879843\n",
       "residual_deviance       0.0185476  0.00156302   0.0203919     0.0198113     0.0154396\n",
       "rmse                    0.135936   0.00586993   0.1428        0.140753      0.124256\n",
       "rmsle                   0.0105669  0.000515667  0.0111116     0.011053      0.00953614"
      ]
     },
     "metadata": {},
     "output_type": "display_data"
    },
    {
     "name": "stdout",
     "output_type": "stream",
     "text": [
      "Scoring History: \n"
     ]
    },
    {
     "data": {
      "text/html": [
       "<div style=\"overflow:auto\"><table style=\"width:50%\"><tr><td><b></b></td>\n",
       "<td><b>timestamp</b></td>\n",
       "<td><b>duration</b></td>\n",
       "<td><b>number_of_trees</b></td>\n",
       "<td><b>training_rmse</b></td>\n",
       "<td><b>training_mae</b></td>\n",
       "<td><b>training_deviance</b></td>\n",
       "<td><b>validation_rmse</b></td>\n",
       "<td><b>validation_mae</b></td>\n",
       "<td><b>validation_deviance</b></td></tr>\n",
       "<tr><td></td>\n",
       "<td>2017-06-28 18:54:03</td>\n",
       "<td> 4 min  4.625 sec</td>\n",
       "<td>0.0</td>\n",
       "<td>nan</td>\n",
       "<td>nan</td>\n",
       "<td>nan</td>\n",
       "<td>nan</td>\n",
       "<td>nan</td>\n",
       "<td>nan</td></tr>\n",
       "<tr><td></td>\n",
       "<td>2017-06-28 18:54:03</td>\n",
       "<td> 4 min  5.087 sec</td>\n",
       "<td>1.0</td>\n",
       "<td>0.2053192</td>\n",
       "<td>0.1442051</td>\n",
       "<td>0.0421560</td>\n",
       "<td>0.1914737</td>\n",
       "<td>0.1385821</td>\n",
       "<td>0.0366622</td></tr>\n",
       "<tr><td></td>\n",
       "<td>2017-06-28 18:54:04</td>\n",
       "<td> 4 min  5.588 sec</td>\n",
       "<td>2.0</td>\n",
       "<td>0.2021184</td>\n",
       "<td>0.1451268</td>\n",
       "<td>0.0408518</td>\n",
       "<td>0.1678469</td>\n",
       "<td>0.1206358</td>\n",
       "<td>0.0281726</td></tr>\n",
       "<tr><td></td>\n",
       "<td>2017-06-28 18:54:04</td>\n",
       "<td> 4 min  6.077 sec</td>\n",
       "<td>3.0</td>\n",
       "<td>0.2059234</td>\n",
       "<td>0.1444103</td>\n",
       "<td>0.0424045</td>\n",
       "<td>0.1531739</td>\n",
       "<td>0.1111464</td>\n",
       "<td>0.0234622</td></tr>\n",
       "<tr><td></td>\n",
       "<td>2017-06-28 18:54:05</td>\n",
       "<td> 4 min  6.571 sec</td>\n",
       "<td>4.0</td>\n",
       "<td>0.1917852</td>\n",
       "<td>0.1371583</td>\n",
       "<td>0.0367816</td>\n",
       "<td>0.1456185</td>\n",
       "<td>0.1055259</td>\n",
       "<td>0.0212048</td></tr>\n",
       "<tr><td>---</td>\n",
       "<td>---</td>\n",
       "<td>---</td>\n",
       "<td>---</td>\n",
       "<td>---</td>\n",
       "<td>---</td>\n",
       "<td>---</td>\n",
       "<td>---</td>\n",
       "<td>---</td>\n",
       "<td>---</td></tr>\n",
       "<tr><td></td>\n",
       "<td>2017-06-28 18:55:33</td>\n",
       "<td> 5 min 35.108 sec</td>\n",
       "<td>168.0</td>\n",
       "<td>0.1324222</td>\n",
       "<td>0.0899862</td>\n",
       "<td>0.0175356</td>\n",
       "<td>0.1298885</td>\n",
       "<td>0.0927521</td>\n",
       "<td>0.0168710</td></tr>\n",
       "<tr><td></td>\n",
       "<td>2017-06-28 18:55:34</td>\n",
       "<td> 5 min 35.663 sec</td>\n",
       "<td>169.0</td>\n",
       "<td>0.1322458</td>\n",
       "<td>0.0898968</td>\n",
       "<td>0.0174889</td>\n",
       "<td>0.1299202</td>\n",
       "<td>0.0927988</td>\n",
       "<td>0.0168793</td></tr>\n",
       "<tr><td></td>\n",
       "<td>2017-06-28 18:55:34</td>\n",
       "<td> 5 min 36.217 sec</td>\n",
       "<td>170.0</td>\n",
       "<td>0.1322448</td>\n",
       "<td>0.0898847</td>\n",
       "<td>0.0174887</td>\n",
       "<td>0.1297955</td>\n",
       "<td>0.0927027</td>\n",
       "<td>0.0168469</td></tr>\n",
       "<tr><td></td>\n",
       "<td>2017-06-28 18:55:35</td>\n",
       "<td> 5 min 36.696 sec</td>\n",
       "<td>171.0</td>\n",
       "<td>0.1322186</td>\n",
       "<td>0.0898393</td>\n",
       "<td>0.0174818</td>\n",
       "<td>0.1298279</td>\n",
       "<td>0.0926693</td>\n",
       "<td>0.0168553</td></tr>\n",
       "<tr><td></td>\n",
       "<td>2017-06-28 18:55:35</td>\n",
       "<td> 5 min 37.165 sec</td>\n",
       "<td>172.0</td>\n",
       "<td>0.1321554</td>\n",
       "<td>0.0898505</td>\n",
       "<td>0.0174650</td>\n",
       "<td>0.1298323</td>\n",
       "<td>0.0926632</td>\n",
       "<td>0.0168564</td></tr></table></div>"
      ],
      "text/plain": [
       "     timestamp            duration          number_of_trees    training_rmse        training_mae         training_deviance     validation_rmse      validation_mae       validation_deviance\n",
       "---  -------------------  ----------------  -----------------  -------------------  -------------------  --------------------  -------------------  -------------------  ---------------------\n",
       "     2017-06-28 18:54:03  4 min  4.625 sec  0.0                nan                  nan                  nan                   nan                  nan                  nan\n",
       "     2017-06-28 18:54:03  4 min  5.087 sec  1.0                0.20531924532635465  0.14420513566491638  0.042155992501383806  0.19147374430452313  0.1385820779405648   0.036662194757993906\n",
       "     2017-06-28 18:54:04  4 min  5.588 sec  2.0                0.20211839908987528  0.14512679887854535  0.04085184725065409   0.16784690779236827  0.12063579621657826  0.028172584455459775\n",
       "     2017-06-28 18:54:04  4 min  6.077 sec  3.0                0.20592340971720444  0.14441028996517782  0.04240445066955965   0.15317389048703237  0.11114641506774063  0.02346224072693338\n",
       "     2017-06-28 18:54:05  4 min  6.571 sec  4.0                0.1917851996926499   0.1371583349708832   0.0367815628211496    0.14561852774914696  0.10552592942397838  0.021204755623829088\n",
       "---  ---                  ---               ---                ---                  ---                  ---                   ---                  ---                  ---\n",
       "     2017-06-28 18:55:33  5 min 35.108 sec  168.0              0.13242221165762647  0.08998616167073986  0.01753564214029722   0.12988854199784367  0.09275207813627828  0.0168710333423256\n",
       "     2017-06-28 18:55:34  5 min 35.663 sec  169.0              0.13224576941078842  0.08989680321136938  0.017488943527051423  0.12992018494563606  0.09279879974622136  0.016879254456308283\n",
       "     2017-06-28 18:55:34  5 min 36.217 sec  170.0              0.13224477979157886  0.08988473267039475  0.017488681782123185  0.12979547872020114  0.09270270065391707  0.016846866296206187\n",
       "     2017-06-28 18:55:35  5 min 36.696 sec  171.0              0.13221864034156616  0.08983930994931917  0.017481768853772426  0.12982791683119474  0.0926692839052412   0.01685528798872762\n",
       "     2017-06-28 18:55:35  5 min 37.165 sec  172.0              0.13215539196112827  0.08985047747144462  0.017465047624399446  0.12983234415464645  0.09266319949920339  0.016856437588690557"
      ]
     },
     "metadata": {},
     "output_type": "display_data"
    },
    {
     "name": "stdout",
     "output_type": "stream",
     "text": [
      "\n",
      "See the whole table with table.as_data_frame()\n",
      "Variable Importances: \n"
     ]
    },
    {
     "data": {
      "text/html": [
       "<div style=\"overflow:auto\"><table style=\"width:50%\"><tr><td><b>variable</b></td>\n",
       "<td><b>relative_importance</b></td>\n",
       "<td><b>scaled_importance</b></td>\n",
       "<td><b>percentage</b></td></tr>\n",
       "<tr><td>YearBuilt_Tencode|GrLivArea</td>\n",
       "<td>2081.1440430</td>\n",
       "<td>1.0</td>\n",
       "<td>0.0877169</td></tr>\n",
       "<tr><td>Neighborhood_Tencode|OverallQual_Tencode</td>\n",
       "<td>1428.1538086</td>\n",
       "<td>0.6862350</td>\n",
       "<td>0.0601944</td></tr>\n",
       "<tr><td>BsmtQual_Tencode|GrLivArea</td>\n",
       "<td>1332.3436279</td>\n",
       "<td>0.6401977</td>\n",
       "<td>0.0561561</td></tr>\n",
       "<tr><td>Neighborhood_Tencode|GrLivArea</td>\n",
       "<td>1069.4122314</td>\n",
       "<td>0.5138579</td>\n",
       "<td>0.0450740</td></tr>\n",
       "<tr><td>LotShape_Tencode|OverallQual_Tencode</td>\n",
       "<td>898.1904907</td>\n",
       "<td>0.4315850</td>\n",
       "<td>0.0378573</td></tr>\n",
       "<tr><td>---</td>\n",
       "<td>---</td>\n",
       "<td>---</td>\n",
       "<td>---</td></tr>\n",
       "<tr><td>Street_Tencode|BsmtHalfBath</td>\n",
       "<td>0.0</td>\n",
       "<td>0.0</td>\n",
       "<td>0.0</td></tr>\n",
       "<tr><td>KitchenAbvGr|GarageCond_Tencode</td>\n",
       "<td>0.0</td>\n",
       "<td>0.0</td>\n",
       "<td>0.0</td></tr>\n",
       "<tr><td>BsmtHalfBath|WoodDeckSF</td>\n",
       "<td>0.0</td>\n",
       "<td>0.0</td>\n",
       "<td>0.0</td></tr>\n",
       "<tr><td>BsmtHalfBath|OverallQual_Tencode</td>\n",
       "<td>0.0</td>\n",
       "<td>0.0</td>\n",
       "<td>0.0</td></tr>\n",
       "<tr><td>BsmtHalfBath|GarageCond_Tencode</td>\n",
       "<td>0.0</td>\n",
       "<td>0.0</td>\n",
       "<td>0.0</td></tr></table></div>"
      ],
      "text/plain": [
       "variable                                  relative_importance    scaled_importance    percentage\n",
       "----------------------------------------  ---------------------  -------------------  --------------------\n",
       "YearBuilt_Tencode|GrLivArea               2081.14404296875       1.0                  0.08771686439843063\n",
       "Neighborhood_Tencode|OverallQual_Tencode  1428.15380859375       0.6862349645709722   0.06019437933273382\n",
       "BsmtQual_Tencode|GrLivArea                1332.3436279296875     0.640197699160266    0.05615613476542834\n",
       "Neighborhood_Tencode|GrLivArea            1069.4122314453125     0.5138578634469707   0.045074000528045215\n",
       "LotShape_Tencode|OverallQual_Tencode      898.1904907226562      0.43158497065940155  0.037857280347731385\n",
       "---                                       ---                    ---                  ---\n",
       "Street_Tencode|BsmtHalfBath               0.0                    0.0                  0.0\n",
       "KitchenAbvGr|GarageCond_Tencode           0.0                    0.0                  0.0\n",
       "BsmtHalfBath|WoodDeckSF                   0.0                    0.0                  0.0\n",
       "BsmtHalfBath|OverallQual_Tencode          0.0                    0.0                  0.0\n",
       "BsmtHalfBath|GarageCond_Tencode           0.0                    0.0                  0.0"
      ]
     },
     "metadata": {},
     "output_type": "display_data"
    },
    {
     "name": "stdout",
     "output_type": "stream",
     "text": [
      "\n",
      "See the whole table with table.as_data_frame()\n",
      "\n",
      "drf prediction progress: |████████████████████████████████████████████████| 100%\n"
     ]
    },
    {
     "ename": "NameError",
     "evalue": "name 'ranked_preds_plot' is not defined",
     "output_type": "error",
     "traceback": [
      "\u001b[0;31m---------------------------------------------------------------------------\u001b[0m",
      "\u001b[0;31mNameError\u001b[0m                                 Traceback (most recent call last)",
      "\u001b[0;32m<ipython-input-46-952749482452>\u001b[0m in \u001b[0;36m<module>\u001b[0;34m()\u001b[0m\n\u001b[1;32m     22\u001b[0m \u001b[0;34m\u001b[0m\u001b[0m\n\u001b[1;32m     23\u001b[0m \u001b[0mrf_preds1_val\u001b[0m \u001b[0;34m=\u001b[0m \u001b[0mrf_model1\u001b[0m\u001b[0;34m.\u001b[0m\u001b[0mpredict\u001b[0m\u001b[0;34m(\u001b[0m\u001b[0mvalid\u001b[0m\u001b[0;34m)\u001b[0m\u001b[0;34m\u001b[0m\u001b[0m\n\u001b[0;32m---> 24\u001b[0;31m \u001b[0mranked_preds_plot\u001b[0m\u001b[0;34m(\u001b[0m\u001b[0;34m'SalePrice'\u001b[0m\u001b[0;34m,\u001b[0m \u001b[0mvalid\u001b[0m\u001b[0;34m,\u001b[0m \u001b[0mrf_preds1_val\u001b[0m\u001b[0;34m)\u001b[0m \u001b[0;31m# valid RMSE not so hot ...\u001b[0m\u001b[0;34m\u001b[0m\u001b[0m\n\u001b[0m\u001b[1;32m     25\u001b[0m \u001b[0mrf_preds1_test\u001b[0m \u001b[0;34m=\u001b[0m \u001b[0mrf_model1\u001b[0m\u001b[0;34m.\u001b[0m\u001b[0mpredict\u001b[0m\u001b[0;34m(\u001b[0m\u001b[0mtest\u001b[0m\u001b[0;34m)\u001b[0m\u001b[0;34m\u001b[0m\u001b[0m\n\u001b[1;32m     26\u001b[0m \u001b[0mgen_submission\u001b[0m\u001b[0;34m(\u001b[0m\u001b[0mrf_preds1_test\u001b[0m\u001b[0;34m)\u001b[0m \u001b[0;31m# 0.14574 public leaderboard\u001b[0m\u001b[0;34m\u001b[0m\u001b[0m\n",
      "\u001b[0;31mNameError\u001b[0m: name 'ranked_preds_plot' is not defined"
     ]
    }
   ],
   "source": [
    "# initialize rf model\n",
    "rf_model1 = H2ORandomForestEstimator(\n",
    "    ntrees=10000,                    \n",
    "    max_depth=10, \n",
    "    col_sample_rate_per_tree=0.1,\n",
    "    sample_rate=0.8,\n",
    "    stopping_rounds=50,\n",
    "    score_each_iteration=True,\n",
    "    nfolds=3,\n",
    "    keep_cross_validation_predictions=True,\n",
    "    seed=12345)           \n",
    "\n",
    "# train rf model\n",
    "rf_model1.train(\n",
    "    x=encoded_combined_nums,\n",
    "    y='SalePrice',\n",
    "    training_frame=train,\n",
    "    validation_frame=valid)\n",
    "\n",
    "# print model information\n",
    "print(rf_model1)\n",
    "\n",
    "rf_preds1_val = rf_model1.predict(valid)\n",
    "#ranked_preds_plot('SalePrice', valid, rf_preds1_val) # valid RMSE not so hot ...\n",
    "rf_preds1_test = rf_model1.predict(test)\n",
    "gen_submission(rf_preds1_test,tesdt) # 0.14574 public leaderboard"
   ]
  },
  {
   "cell_type": "code",
   "execution_count": null,
   "metadata": {},
   "outputs": [
    {
     "name": "stdout",
     "output_type": "stream",
     "text": [
      "drf Model Build progress: |█"
     ]
    }
   ],
   "source": [
    "# initialize extra trees model\n",
    "ert_model1 = H2ORandomForestEstimator(\n",
    "    ntrees=10000,                    \n",
    "    max_depth=10, \n",
    "    col_sample_rate_per_tree=0.1,\n",
    "    sample_rate=0.8,\n",
    "    stopping_rounds=50,\n",
    "    score_each_iteration=True,\n",
    "    nfolds=3,\n",
    "    keep_cross_validation_predictions=True,\n",
    "    seed=12345,\n",
    "    histogram_type='random') # <- this is what makes it ERT instead of RF\n",
    "\n",
    "# train ert model\n",
    "ert_model1.train(\n",
    "    x=encoded_combined_nums,\n",
    "    y='SalePrice',\n",
    "    training_frame=train,\n",
    "    validation_frame=valid)\n",
    "\n",
    "# print model information/create submission\n",
    "print(ert_model1)\n",
    "ert_preds1_val = ert_model1.predict(valid)\n",
    "ranked_preds_plot('SalePrice', valid, ert_preds1_val) # valid RMSE not so hot ...\n",
    "ert_preds1_test = ert_model1.predict(test)\n",
    "gen_submission(ert_preds1_test) # 0.14855 public leaderboard"
   ]
  },
  {
   "cell_type": "code",
   "execution_count": 65,
   "metadata": {},
   "outputs": [
    {
     "ename": "H2OJobCancelled",
     "evalue": "Job<$03017f00000132d4ffffffff$_a359123b8bb75754a89265b3b884ec6> was cancelled by the user.",
     "output_type": "error",
     "traceback": [
      "\u001b[0;31m---------------------------------------------------------------------------\u001b[0m",
      "\u001b[0;31mH2OJobCancelled\u001b[0m                           Traceback (most recent call last)",
      "\u001b[0;32m<ipython-input-65-9aefdbecbd5d>\u001b[0m in \u001b[0;36m<module>\u001b[0;34m()\u001b[0m\n\u001b[1;32m     15\u001b[0m                     \u001b[0my\u001b[0m\u001b[0;34m=\u001b[0m\u001b[0;34m'SalePrice'\u001b[0m\u001b[0;34m,\u001b[0m\u001b[0;34m\u001b[0m\u001b[0m\n\u001b[1;32m     16\u001b[0m                     \u001b[0mtraining_frame\u001b[0m\u001b[0;34m=\u001b[0m\u001b[0mtrain\u001b[0m\u001b[0;34m,\u001b[0m\u001b[0;34m\u001b[0m\u001b[0m\n\u001b[0;32m---> 17\u001b[0;31m                     validation_frame=valid)\n\u001b[0m\u001b[1;32m     18\u001b[0m \u001b[0;34m\u001b[0m\u001b[0m\n\u001b[1;32m     19\u001b[0m \u001b[0;31m# print model information/create submission\u001b[0m\u001b[0;34m\u001b[0m\u001b[0;34m\u001b[0m\u001b[0m\n",
      "\u001b[0;32m//anaconda/lib/python3.5/site-packages/h2o/estimators/estimator_base.py\u001b[0m in \u001b[0;36mtrain\u001b[0;34m(self, x, y, training_frame, offset_column, fold_column, weights_column, validation_frame, max_runtime_secs, ignored_columns, model_id)\u001b[0m\n\u001b[1;32m    202\u001b[0m             \u001b[0;32mreturn\u001b[0m\u001b[0;34m\u001b[0m\u001b[0m\n\u001b[1;32m    203\u001b[0m \u001b[0;34m\u001b[0m\u001b[0m\n\u001b[0;32m--> 204\u001b[0;31m         \u001b[0mmodel\u001b[0m\u001b[0;34m.\u001b[0m\u001b[0mpoll\u001b[0m\u001b[0;34m(\u001b[0m\u001b[0;34m)\u001b[0m\u001b[0;34m\u001b[0m\u001b[0m\n\u001b[0m\u001b[1;32m    205\u001b[0m         \u001b[0mmodel_json\u001b[0m \u001b[0;34m=\u001b[0m \u001b[0mh2o\u001b[0m\u001b[0;34m.\u001b[0m\u001b[0mapi\u001b[0m\u001b[0;34m(\u001b[0m\u001b[0;34m\"GET /%d/Models/%s\"\u001b[0m \u001b[0;34m%\u001b[0m \u001b[0;34m(\u001b[0m\u001b[0mrest_ver\u001b[0m\u001b[0;34m,\u001b[0m \u001b[0mmodel\u001b[0m\u001b[0;34m.\u001b[0m\u001b[0mdest_key\u001b[0m\u001b[0;34m)\u001b[0m\u001b[0;34m)\u001b[0m\u001b[0;34m[\u001b[0m\u001b[0;34m\"models\"\u001b[0m\u001b[0;34m]\u001b[0m\u001b[0;34m[\u001b[0m\u001b[0;36m0\u001b[0m\u001b[0;34m]\u001b[0m\u001b[0;34m\u001b[0m\u001b[0m\n\u001b[1;32m    206\u001b[0m         \u001b[0mself\u001b[0m\u001b[0;34m.\u001b[0m\u001b[0m_resolve_model\u001b[0m\u001b[0;34m(\u001b[0m\u001b[0mmodel\u001b[0m\u001b[0;34m.\u001b[0m\u001b[0mdest_key\u001b[0m\u001b[0;34m,\u001b[0m \u001b[0mmodel_json\u001b[0m\u001b[0;34m)\u001b[0m\u001b[0;34m\u001b[0m\u001b[0m\n",
      "\u001b[0;32m//anaconda/lib/python3.5/site-packages/h2o/job.py\u001b[0m in \u001b[0;36mpoll\u001b[0;34m(self)\u001b[0m\n\u001b[1;32m     67\u001b[0m         \u001b[0;31m# check if failed... and politely print relevant message\u001b[0m\u001b[0;34m\u001b[0m\u001b[0;34m\u001b[0m\u001b[0m\n\u001b[1;32m     68\u001b[0m         \u001b[0;32mif\u001b[0m \u001b[0mself\u001b[0m\u001b[0;34m.\u001b[0m\u001b[0mstatus\u001b[0m \u001b[0;34m==\u001b[0m \u001b[0;34m\"CANCELLED\"\u001b[0m\u001b[0;34m:\u001b[0m\u001b[0;34m\u001b[0m\u001b[0m\n\u001b[0;32m---> 69\u001b[0;31m             \u001b[0;32mraise\u001b[0m \u001b[0mH2OJobCancelled\u001b[0m\u001b[0;34m(\u001b[0m\u001b[0;34m\"Job<%s> was cancelled by the user.\"\u001b[0m \u001b[0;34m%\u001b[0m \u001b[0mself\u001b[0m\u001b[0;34m.\u001b[0m\u001b[0mjob_key\u001b[0m\u001b[0;34m)\u001b[0m\u001b[0;34m\u001b[0m\u001b[0m\n\u001b[0m\u001b[1;32m     70\u001b[0m         \u001b[0;32mif\u001b[0m \u001b[0mself\u001b[0m\u001b[0;34m.\u001b[0m\u001b[0mstatus\u001b[0m \u001b[0;34m==\u001b[0m \u001b[0;34m\"FAILED\"\u001b[0m\u001b[0;34m:\u001b[0m\u001b[0;34m\u001b[0m\u001b[0m\n\u001b[1;32m     71\u001b[0m             \u001b[0;32mif\u001b[0m \u001b[0;34m(\u001b[0m\u001b[0misinstance\u001b[0m\u001b[0;34m(\u001b[0m\u001b[0mself\u001b[0m\u001b[0;34m.\u001b[0m\u001b[0mjob\u001b[0m\u001b[0;34m,\u001b[0m \u001b[0mdict\u001b[0m\u001b[0;34m)\u001b[0m\u001b[0;34m)\u001b[0m \u001b[0;32mand\u001b[0m \u001b[0;34m(\u001b[0m\u001b[0;34m\"stacktrace\"\u001b[0m \u001b[0;32min\u001b[0m \u001b[0mlist\u001b[0m\u001b[0;34m(\u001b[0m\u001b[0mself\u001b[0m\u001b[0;34m.\u001b[0m\u001b[0mjob\u001b[0m\u001b[0;34m)\u001b[0m\u001b[0;34m)\u001b[0m\u001b[0;34m:\u001b[0m\u001b[0;34m\u001b[0m\u001b[0m\n",
      "\u001b[0;31mH2OJobCancelled\u001b[0m: Job<$03017f00000132d4ffffffff$_a359123b8bb75754a89265b3b884ec6> was cancelled by the user."
     ]
    }
   ],
   "source": [
    "# initialize H2O GBM\n",
    "h2o_gbm_model = H2OGradientBoostingEstimator(\n",
    "    ntrees = 10000,\n",
    "    learn_rate = 0.005,\n",
    "    sample_rate = 0.1, \n",
    "    col_sample_rate = 0.8,\n",
    "    max_depth = 5,\n",
    "    nfolds = 3,\n",
    "    keep_cross_validation_predictions=True,\n",
    "    stopping_rounds = 10,\n",
    "    seed = 12345)\n",
    "\n",
    "# execute training\n",
    "h2o_gbm_model.train(x=encoded_combined_nums,\n",
    "                    y='SalePrice',\n",
    "                    training_frame=train,\n",
    "                    validation_frame=valid)\n",
    "\n",
    "# print model information/create submission\n",
    "print(h2o_gbm_model)\n",
    "h2o_gbm_preds1_val = h2o_gbm_model.predict(valid)\n",
    "ranked_preds_plot('SalePrice', valid, h2o_gbm_preds1_val) # better validation error\n",
    "h2o_gbm_preds1_test = h2o_gbm_model.predict(test)\n",
    "gen_submission(h2o_gbm_preds1_test) # 0.15062 public leaderboard"
   ]
  },
  {
   "cell_type": "code",
   "execution_count": null,
   "metadata": {
    "collapsed": true
   },
   "outputs": [],
   "source": []
  }
 ],
 "metadata": {
  "anaconda-cloud": {},
  "kernelspec": {
   "display_name": "Python [Root]",
   "language": "python",
   "name": "Python [Root]"
  },
  "language_info": {
   "codemirror_mode": {
    "name": "ipython",
    "version": 3
   },
   "file_extension": ".py",
   "mimetype": "text/x-python",
   "name": "python",
   "nbconvert_exporter": "python",
   "pygments_lexer": "ipython3",
   "version": "3.5.2"
  }
 },
 "nbformat": 4,
 "nbformat_minor": 1
}
