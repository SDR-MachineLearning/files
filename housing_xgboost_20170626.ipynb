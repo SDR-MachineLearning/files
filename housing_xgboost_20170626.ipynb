{
 "cells": [
  {
   "cell_type": "markdown",
   "metadata": {},
   "source": [
    "### Import Modules"
   ]
  },
  {
   "cell_type": "code",
   "execution_count": 1,
   "metadata": {
    "collapsed": false
   },
   "outputs": [
    {
     "name": "stdout",
     "output_type": "stream",
     "text": [
      "Checking whether there is an H2O instance running at http://localhost:54321. connected.\n"
     ]
    },
    {
     "data": {
      "text/html": [
       "<div style=\"overflow:auto\"><table style=\"width:50%\"><tr><td>H2O cluster uptime:</td>\n",
       "<td>20 hours 29 mins</td></tr>\n",
       "<tr><td>H2O cluster version:</td>\n",
       "<td>3.12.0.1</td></tr>\n",
       "<tr><td>H2O cluster version age:</td>\n",
       "<td>19 days </td></tr>\n",
       "<tr><td>H2O cluster name:</td>\n",
       "<td>H2O_from_python_zhaorc_uwm3xe</td></tr>\n",
       "<tr><td>H2O cluster total nodes:</td>\n",
       "<td>1</td></tr>\n",
       "<tr><td>H2O cluster free memory:</td>\n",
       "<td>5.244 Gb</td></tr>\n",
       "<tr><td>H2O cluster total cores:</td>\n",
       "<td>4</td></tr>\n",
       "<tr><td>H2O cluster allowed cores:</td>\n",
       "<td>4</td></tr>\n",
       "<tr><td>H2O cluster status:</td>\n",
       "<td>locked, healthy</td></tr>\n",
       "<tr><td>H2O connection url:</td>\n",
       "<td>http://localhost:54321</td></tr>\n",
       "<tr><td>H2O connection proxy:</td>\n",
       "<td>None</td></tr>\n",
       "<tr><td>H2O internal security:</td>\n",
       "<td>False</td></tr>\n",
       "<tr><td>Python version:</td>\n",
       "<td>3.5.2 final</td></tr></table></div>"
      ],
      "text/plain": [
       "--------------------------  -----------------------------\n",
       "H2O cluster uptime:         20 hours 29 mins\n",
       "H2O cluster version:        3.12.0.1\n",
       "H2O cluster version age:    19 days\n",
       "H2O cluster name:           H2O_from_python_zhaorc_uwm3xe\n",
       "H2O cluster total nodes:    1\n",
       "H2O cluster free memory:    5.244 Gb\n",
       "H2O cluster total cores:    4\n",
       "H2O cluster allowed cores:  4\n",
       "H2O cluster status:         locked, healthy\n",
       "H2O connection url:         http://localhost:54321\n",
       "H2O connection proxy:\n",
       "H2O internal security:      False\n",
       "Python version:             3.5.2 final\n",
       "--------------------------  -----------------------------"
      ]
     },
     "metadata": {},
     "output_type": "display_data"
    },
    {
     "name": "stderr",
     "output_type": "stream",
     "text": [
      "//anaconda/lib/python3.5/site-packages/IPython/core/interactiveshell.py:2885: FutureWarning: \n",
      "mpl_style had been deprecated and will be removed in a future version.\n",
      "Use `matplotlib.pyplot.style.use` instead.\n",
      "\n",
      "  exec(code_obj, self.user_global_ns, self.user_ns)\n"
     ]
    }
   ],
   "source": [
    "import h2o\n",
    "from h2o.estimators.glrm import H2OGeneralizedLowRankEstimator\n",
    "from h2o.estimators.gbm import H2OGradientBoostingEstimator \n",
    "from h2o.estimators.random_forest import H2ORandomForestEstimator\n",
    "from h2o.grid.grid_search import H2OGridSearch \n",
    "from h2o.estimators.xgboost import H2OXGBoostEstimator\n",
    "from h2o.estimators.stackedensemble import H2OStackedEnsembleEstimator\n",
    "#import xgboost as xgb\n",
    "h2o.init() # give h2o as much memory as possible\n",
    "h2o.no_progress() # turn off h2o progress bars\n",
    "\n",
    "import numpy as np\n",
    "import pandas as pd\n",
    "import matplotlib.pyplot as plt\n",
    "from scipy.stats.mstats import winsorize\n",
    "import matplotlib.pyplot as plt\n",
    "pd.options.display.mpl_style = 'default'\n",
    "from pandas.tools.plotting import scatter_matrix"
   ]
  },
  {
   "cell_type": "code",
   "execution_count": 2,
   "metadata": {
    "collapsed": false
   },
   "outputs": [],
   "source": [
    "%matplotlib inline"
   ]
  },
  {
   "cell_type": "markdown",
   "metadata": {
    "collapsed": true
   },
   "source": [
    "### Import Data & Create Sales Price Dummy Column in Test Dataset"
   ]
  },
  {
   "cell_type": "code",
   "execution_count": 5,
   "metadata": {
    "collapsed": false
   },
   "outputs": [
    {
     "name": "stdout",
     "output_type": "stream",
     "text": [
      "(1460, 81)\n",
      "(1459, 81)\n"
     ]
    }
   ],
   "source": [
    "trainori = h2o.import_file('train.csv')\n",
    "testori = h2o.import_file('test.csv')\n",
    "\n",
    "dummy_col = np.random.rand(testori.shape[0])\n",
    "testori = testori.cbind(h2o.H2OFrame(dummy_col))\n",
    "cols = testori.columns\n",
    "cols[-1] = 'SalePrice'\n",
    "testori.columns = cols\n",
    "print(trainori.shape)\n",
    "print(testori.shape)"
   ]
  },
  {
   "cell_type": "markdown",
   "metadata": {},
   "source": [
    "### Impute variables"
   ]
  },
  {
   "cell_type": "code",
   "execution_count": 6,
   "metadata": {
    "collapsed": false,
    "scrolled": true
   },
   "outputs": [
    {
     "data": {
      "text/plain": [
       "Id               False\n",
       "MSSubClass       False\n",
       "MSZoning         False\n",
       "LotFrontage       True\n",
       "LotArea          False\n",
       "Street           False\n",
       "Alley             True\n",
       "LotShape         False\n",
       "LandContour      False\n",
       "Utilities        False\n",
       "LotConfig        False\n",
       "LandSlope        False\n",
       "Neighborhood     False\n",
       "Condition1       False\n",
       "Condition2       False\n",
       "BldgType         False\n",
       "HouseStyle       False\n",
       "OverallQual      False\n",
       "OverallCond      False\n",
       "YearBuilt        False\n",
       "YearRemodAdd     False\n",
       "RoofStyle        False\n",
       "RoofMatl         False\n",
       "Exterior1st      False\n",
       "Exterior2nd      False\n",
       "MasVnrType        True\n",
       "MasVnrArea        True\n",
       "ExterQual        False\n",
       "ExterCond        False\n",
       "Foundation       False\n",
       "                 ...  \n",
       "BedroomAbvGr     False\n",
       "KitchenAbvGr     False\n",
       "KitchenQual      False\n",
       "TotRmsAbvGrd     False\n",
       "Functional       False\n",
       "Fireplaces       False\n",
       "FireplaceQu       True\n",
       "GarageType        True\n",
       "GarageYrBlt       True\n",
       "GarageFinish      True\n",
       "GarageCars       False\n",
       "GarageArea       False\n",
       "GarageQual        True\n",
       "GarageCond        True\n",
       "PavedDrive       False\n",
       "WoodDeckSF       False\n",
       "OpenPorchSF      False\n",
       "EnclosedPorch    False\n",
       "3SsnPorch        False\n",
       "ScreenPorch      False\n",
       "PoolArea         False\n",
       "PoolQC            True\n",
       "Fence             True\n",
       "MiscFeature       True\n",
       "MiscVal          False\n",
       "MoSold           False\n",
       "YrSold           False\n",
       "SaleType         False\n",
       "SaleCondition    False\n",
       "SalePrice        False\n",
       "dtype: bool"
      ]
     },
     "execution_count": 6,
     "metadata": {},
     "output_type": "execute_result"
    }
   ],
   "source": [
    "pandas_train = trainori.as_data_frame(use_pandas=True) #Convert to Pandas frame\n",
    "pandas_train.isnull().any() #Check for missing values (TRUE = missing)"
   ]
  },
  {
   "cell_type": "markdown",
   "metadata": {},
   "source": [
    "Same steps applied to test data"
   ]
  },
  {
   "cell_type": "code",
   "execution_count": 23,
   "metadata": {
    "collapsed": false,
    "scrolled": true
   },
   "outputs": [
    {
     "data": {
      "text/plain": [
       "Id               False\n",
       "MSSubClass       False\n",
       "MSZoning          True\n",
       "LotFrontage       True\n",
       "LotArea          False\n",
       "Street           False\n",
       "Alley             True\n",
       "LotShape         False\n",
       "LandContour      False\n",
       "Utilities         True\n",
       "LotConfig        False\n",
       "LandSlope        False\n",
       "Neighborhood     False\n",
       "Condition1       False\n",
       "Condition2       False\n",
       "BldgType         False\n",
       "HouseStyle       False\n",
       "OverallQual      False\n",
       "OverallCond      False\n",
       "YearBuilt        False\n",
       "YearRemodAdd     False\n",
       "RoofStyle        False\n",
       "RoofMatl         False\n",
       "Exterior1st       True\n",
       "Exterior2nd       True\n",
       "MasVnrType        True\n",
       "MasVnrArea        True\n",
       "ExterQual        False\n",
       "ExterCond        False\n",
       "Foundation       False\n",
       "                 ...  \n",
       "BedroomAbvGr     False\n",
       "KitchenAbvGr     False\n",
       "KitchenQual       True\n",
       "TotRmsAbvGrd     False\n",
       "Functional        True\n",
       "Fireplaces       False\n",
       "FireplaceQu       True\n",
       "GarageType        True\n",
       "GarageYrBlt       True\n",
       "GarageFinish      True\n",
       "GarageCars        True\n",
       "GarageArea        True\n",
       "GarageQual        True\n",
       "GarageCond        True\n",
       "PavedDrive       False\n",
       "WoodDeckSF       False\n",
       "OpenPorchSF      False\n",
       "EnclosedPorch    False\n",
       "3SsnPorch        False\n",
       "ScreenPorch      False\n",
       "PoolArea         False\n",
       "PoolQC            True\n",
       "Fence             True\n",
       "MiscFeature       True\n",
       "MiscVal          False\n",
       "MoSold           False\n",
       "YrSold           False\n",
       "SaleType          True\n",
       "SaleCondition    False\n",
       "SalePrice        False\n",
       "dtype: bool"
      ]
     },
     "execution_count": 23,
     "metadata": {},
     "output_type": "execute_result"
    }
   ],
   "source": [
    "pandas_test = testori.as_data_frame(use_pandas=True) \n",
    "pandas_test.isnull().any() "
   ]
  },
  {
   "cell_type": "code",
   "execution_count": 7,
   "metadata": {
    "collapsed": false,
    "scrolled": true
   },
   "outputs": [
    {
     "data": {
      "text/plain": [
       "0        NaN\n",
       "1        NaN\n",
       "2        NaN\n",
       "3        NaN\n",
       "4        NaN\n",
       "5        NaN\n",
       "6        NaN\n",
       "7        NaN\n",
       "8        NaN\n",
       "9        NaN\n",
       "10       NaN\n",
       "11       NaN\n",
       "12       NaN\n",
       "13       NaN\n",
       "14       NaN\n",
       "15       NaN\n",
       "16       NaN\n",
       "17       NaN\n",
       "18       NaN\n",
       "19       NaN\n",
       "20       NaN\n",
       "21      Grvl\n",
       "22       NaN\n",
       "23       NaN\n",
       "24       NaN\n",
       "25       NaN\n",
       "26       NaN\n",
       "27       NaN\n",
       "28       NaN\n",
       "29       NaN\n",
       "        ... \n",
       "1430     NaN\n",
       "1431     NaN\n",
       "1432    Grvl\n",
       "1433     NaN\n",
       "1434     NaN\n",
       "1435     NaN\n",
       "1436     NaN\n",
       "1437     NaN\n",
       "1438     NaN\n",
       "1439     NaN\n",
       "1440     NaN\n",
       "1441     NaN\n",
       "1442     NaN\n",
       "1443     NaN\n",
       "1444     NaN\n",
       "1445     NaN\n",
       "1446     NaN\n",
       "1447     NaN\n",
       "1448     NaN\n",
       "1449     NaN\n",
       "1450     NaN\n",
       "1451     NaN\n",
       "1452     NaN\n",
       "1453     NaN\n",
       "1454    Pave\n",
       "1455     NaN\n",
       "1456     NaN\n",
       "1457     NaN\n",
       "1458     NaN\n",
       "1459     NaN\n",
       "Name: Alley, dtype: object"
      ]
     },
     "execution_count": 7,
     "metadata": {},
     "output_type": "execute_result"
    }
   ],
   "source": [
    "pandas_train[\"Alley\"]"
   ]
  },
  {
   "cell_type": "code",
   "execution_count": 8,
   "metadata": {
    "collapsed": true
   },
   "outputs": [],
   "source": [
    "train_df= pd.DataFrame()\n",
    "\n",
    "quality_dict = {None: 0, \"Grvl\": 1, \"Pave\": 2}\n",
    "\n",
    "train_df[\"Alley\"] = pandas_train[\"Alley\"].map(quality_dict).astype(int)\n",
    "test_df= pd.DataFrame()\n",
    "\n",
    "quality_dict = {None: 0, \"Grvl\": 1, \"Pave\": 2}\n",
    "\n",
    "test_df[\"Alley\"] = pandas_test[\"Alley\"].map(quality_dict).astype(int)"
   ]
  },
  {
   "cell_type": "code",
   "execution_count": 9,
   "metadata": {
    "collapsed": true
   },
   "outputs": [],
   "source": [
    "quality_dict = {None: 0, \"Fa\": 1, \"Gd\": 2, \"Ex\": 3}\n",
    "\n",
    "train_df[\"PoolQC\"] = pandas_train[\"PoolQC\"].map(quality_dict).astype(int)\n",
    "quality_dict = {None: 0, \"Fa\": 1, \"Gd\": 2, \"Ex\": 3}\n",
    "\n",
    "test_df[\"PoolQC\"] = pandas_test[\"PoolQC\"].map(quality_dict).astype(int)"
   ]
  },
  {
   "cell_type": "code",
   "execution_count": 10,
   "metadata": {
    "collapsed": true
   },
   "outputs": [],
   "source": [
    "quality_dict = {None: 0, \"Po\": 1, \"Fa\": 2, \"TA\": 3, \"Gd\": 4, \"Ex\": 5}\n",
    "\n",
    "train_df[\"ExterQual\"] = pandas_train[\"ExterQual\"].map(quality_dict).astype(int)\n",
    "train_df[\"ExterCond\"] = pandas_train[\"ExterCond\"].map(quality_dict).astype(int)\n",
    "train_df[\"BsmtQual\"] = pandas_train[\"BsmtQual\"].map(quality_dict).astype(int)\n",
    "train_df[\"BsmtCond\"] = pandas_train[\"BsmtCond\"].map(quality_dict).astype(int)\n",
    "train_df[\"HeatingQC\"] = pandas_train[\"HeatingQC\"].map(quality_dict).astype(int)\n",
    "train_df[\"KitchenQual\"] = pandas_train[\"KitchenQual\"].map(quality_dict).astype(int)\n",
    "train_df[\"FireplaceQu\"] = pandas_train[\"FireplaceQu\"].map(quality_dict).astype(int)\n",
    "train_df[\"GarageQual\"] = pandas_train[\"GarageQual\"].map(quality_dict).astype(int)\n",
    "train_df[\"GarageCond\"] = pandas_train[\"GarageCond\"].map(quality_dict).astype(int)"
   ]
  },
  {
   "cell_type": "code",
   "execution_count": 26,
   "metadata": {
    "collapsed": true
   },
   "outputs": [],
   "source": [
    "quality_dict = {None: 0, \"Po\": 1, \"Fa\": 2, \"TA\": 3, \"Gd\": 4, \"Ex\": 5}\n",
    "\n",
    "test_df[\"ExterQual\"] = pandas_test[\"ExterQual\"].map(quality_dict).astype(int)\n",
    "test_df[\"ExterCond\"] = pandas_test[\"ExterCond\"].map(quality_dict).astype(int)\n",
    "test_df[\"BsmtQual\"] = pandas_test[\"BsmtQual\"].map(quality_dict).astype(int)\n",
    "test_df[\"BsmtCond\"] = pandas_test[\"BsmtCond\"].map(quality_dict).astype(int)\n",
    "test_df[\"HeatingQC\"] = pandas_test[\"HeatingQC\"].map(quality_dict).astype(int)\n",
    "test_df[\"KitchenQual\"] = pandas_test[\"KitchenQual\"].map(quality_dict).astype(int)\n",
    "test_df[\"FireplaceQu\"] = pandas_test[\"FireplaceQu\"].map(quality_dict).astype(int)\n",
    "test_df[\"GarageQual\"] = pandas_test[\"GarageQual\"].map(quality_dict).astype(int)\n",
    "test_df[\"GarageCond\"] = pandas_test[\"GarageCond\"].map(quality_dict).astype(int)\n"
   ]
  },
  {
   "cell_type": "code",
   "execution_count": 11,
   "metadata": {
    "collapsed": true
   },
   "outputs": [],
   "source": [
    "train_df[\"LotFrontage\"] = pandas_train[\"LotFrontage\"].fillna(0, inplace=True)\n",
    "train_df[\"Alley\"] = pandas_train[\"Alley\"].fillna(0, inplace=True)\n",
    "train_df[\"FireplaceQu\"] = pandas_train[\"FireplaceQu\"].fillna(0, inplace=True)\n",
    "train_df[\"BsmtExposure\"] = pandas_train[\"BsmtExposure\"].fillna(0, inplace=True)\n",
    "train_df[\"BsmtFinType1\"] = pandas_train[\"BsmtFinType1\"].fillna(0, inplace=True)\n",
    "train_df[\"BsmtFinType2\"] = pandas_train[\"BsmtFinType2\"].fillna(0, inplace=True)\n",
    "train_df[\"Electrical\"] = pandas_train[\"Electrical\"].fillna(0, inplace=True)\n",
    "train_df[\"Fence\"] = pandas_train[\"Fence\"].fillna(0, inplace=True)\n",
    "train_df[\"GarageQual\"] = pandas_train[\"GarageQual\"].fillna(0, inplace=True)\n",
    "train_df[\"GarageCond\"] = pandas_train[\"GarageCond\"].fillna(0, inplace=True)\n",
    "train_df[\"GarageType\"] = pandas_train[\"GarageType\"].fillna(0, inplace=True)\n",
    "train_df[\"GarageFinish\"] = pandas_train[\"GarageFinish\"].fillna(0, inplace=True)\n",
    "train_df[\"GarageYrBlt\"] = pandas_train[\"GarageYrBlt\"].fillna(0, inplace=True)\n",
    "train_df[\"MasVnrType\"] = pandas_train[\"MasVnrType\"].fillna(0, inplace=True)\n",
    "train_df[\"MasVnrArea\"] = pandas_train[\"MasVnrArea\"].fillna(0, inplace=True)\n",
    "train_df[\"MiscFeature\"] = pandas_train[\"MiscFeature\"].fillna(0, inplace=True)\n",
    "train_df[\"PoolQC\"] = pandas_train[\"PoolQC\"].fillna(0, inplace=True)"
   ]
  },
  {
   "cell_type": "code",
   "execution_count": 27,
   "metadata": {
    "collapsed": true
   },
   "outputs": [],
   "source": [
    "test_df[\"LotFrontage\"] = pandas_test[\"LotFrontage\"].fillna(0, inplace=True)\n",
    "test_df[\"Alley\"] = pandas_test[\"Alley\"].fillna(0, inplace=True)\n",
    "test_df[\"FireplaceQu\"] = pandas_test[\"FireplaceQu\"].fillna(0, inplace=True)\n",
    "test_df[\"BsmtExposure\"] = pandas_test[\"BsmtExposure\"].fillna(0, inplace=True)\n",
    "test_df[\"BsmtFinType1\"] = pandas_test[\"BsmtFinType1\"].fillna(0, inplace=True)\n",
    "test_df[\"BsmtFinType2\"] = pandas_test[\"BsmtFinType2\"].fillna(0, inplace=True)\n",
    "test_df[\"Electrical\"] = pandas_test[\"Electrical\"].fillna(0, inplace=True)\n",
    "test_df[\"Fence\"] = pandas_test[\"Fence\"].fillna(0, inplace=True)\n",
    "test_df[\"GarageQual\"] = pandas_test[\"GarageQual\"].fillna(0, inplace=True)\n",
    "test_df[\"GarageCond\"] = pandas_test[\"GarageCond\"].fillna(0, inplace=True)\n",
    "test_df[\"GarageType\"] = pandas_test[\"GarageType\"].fillna(0, inplace=True)\n",
    "test_df[\"GarageFinish\"] = pandas_test[\"GarageFinish\"].fillna(0, inplace=True)\n",
    "test_df[\"GarageYrBlt\"] = pandas_test[\"GarageYrBlt\"].fillna(0, inplace=True)\n",
    "test_df[\"MasVnrType\"] = pandas_test[\"MasVnrType\"].fillna(0, inplace=True)\n",
    "test_df[\"MasVnrArea\"] = pandas_test[\"MasVnrArea\"].fillna(0, inplace=True)\n",
    "test_df[\"MiscFeature\"] = pandas_test[\"MiscFeature\"].fillna(0, inplace=True)\n",
    "test_df[\"PoolQC\"] = pandas_test[\"PoolQC\"].fillna(0, inplace=True)\n"
   ]
  },
  {
   "cell_type": "code",
   "execution_count": 12,
   "metadata": {
    "collapsed": true
   },
   "outputs": [],
   "source": [
    "train_df[\"CentralAir\"] = (pandas_train[\"CentralAir\"] == \"Y\") * 1.0\n",
    "test_df[\"CentralAir\"] = (pandas_test[\"CentralAir\"] == \"Y\") * 1.0"
   ]
  },
  {
   "cell_type": "code",
   "execution_count": 13,
   "metadata": {
    "collapsed": false,
    "scrolled": true
   },
   "outputs": [
    {
     "data": {
      "text/plain": [
       "Id               False\n",
       "MSSubClass       False\n",
       "MSZoning         False\n",
       "LotFrontage      False\n",
       "LotArea          False\n",
       "Street           False\n",
       "Alley            False\n",
       "LotShape         False\n",
       "LandContour      False\n",
       "Utilities        False\n",
       "LotConfig        False\n",
       "LandSlope        False\n",
       "Neighborhood     False\n",
       "Condition1       False\n",
       "Condition2       False\n",
       "BldgType         False\n",
       "HouseStyle       False\n",
       "OverallQual      False\n",
       "OverallCond      False\n",
       "YearBuilt        False\n",
       "YearRemodAdd     False\n",
       "RoofStyle        False\n",
       "RoofMatl         False\n",
       "Exterior1st      False\n",
       "Exterior2nd      False\n",
       "MasVnrType       False\n",
       "MasVnrArea       False\n",
       "ExterQual        False\n",
       "ExterCond        False\n",
       "Foundation       False\n",
       "                 ...  \n",
       "BedroomAbvGr     False\n",
       "KitchenAbvGr     False\n",
       "KitchenQual      False\n",
       "TotRmsAbvGrd     False\n",
       "Functional       False\n",
       "Fireplaces       False\n",
       "FireplaceQu      False\n",
       "GarageType       False\n",
       "GarageYrBlt      False\n",
       "GarageFinish     False\n",
       "GarageCars       False\n",
       "GarageArea       False\n",
       "GarageQual       False\n",
       "GarageCond       False\n",
       "PavedDrive       False\n",
       "WoodDeckSF       False\n",
       "OpenPorchSF      False\n",
       "EnclosedPorch    False\n",
       "3SsnPorch        False\n",
       "ScreenPorch      False\n",
       "PoolArea         False\n",
       "PoolQC           False\n",
       "Fence            False\n",
       "MiscFeature      False\n",
       "MiscVal          False\n",
       "MoSold           False\n",
       "YrSold           False\n",
       "SaleType         False\n",
       "SaleCondition    False\n",
       "SalePrice        False\n",
       "dtype: bool"
      ]
     },
     "execution_count": 13,
     "metadata": {},
     "output_type": "execute_result"
    }
   ],
   "source": [
    "pandas_train.isnull().any() #Check for missing value"
   ]
  },
  {
   "cell_type": "code",
   "execution_count": 14,
   "metadata": {
    "collapsed": true
   },
   "outputs": [],
   "source": [
    "train= h2o.H2OFrame(pandas_train)\n",
    "test= h2o.H2OFrame(pandas_test)"
   ]
  },
  {
   "cell_type": "code",
   "execution_count": 16,
   "metadata": {
    "collapsed": true
   },
   "outputs": [],
   "source": [
    "def get_type_lists(frame=train, rejects=['Id', 'SalePrice']):\n",
    "\n",
    "    \"\"\"Creates lists of numeric and categorical variables.\n",
    "    :param frame: The frame from which to determine types.\n",
    "    :param rejects: Variable names not to be included in returned lists.\n",
    "    :return: Tuple of lists for numeric and categorical variables in the frame.\n",
    "    \"\"\"\n",
    "    \n",
    "    nums, cats = [], []\n",
    "    for key, val in frame.types.items():\n",
    "        if key not in rejects:\n",
    "            if val == 'enum':\n",
    "                cats.append(key)\n",
    "            else: \n",
    "                nums.append(key)\n",
    "                \n",
    "    print('Numeric =', nums)                \n",
    "    print()\n",
    "    print('Categorical =', cats)\n",
    "    \n",
    "    return nums, cats"
   ]
  },
  {
   "cell_type": "code",
   "execution_count": 17,
   "metadata": {
    "collapsed": false
   },
   "outputs": [
    {
     "name": "stdout",
     "output_type": "stream",
     "text": [
      "Numeric = ['BsmtFullBath', 'GarageYrBlt', 'LowQualFinSF', 'YearRemodAdd', 'MSSubClass', 'GarageCars', 'LotFrontage', 'BsmtUnfSF', 'Fireplaces', 'BsmtFinSF2', 'FullBath', 'YrSold', 'MoSold', 'GarageArea', 'BsmtFinSF1', 'OpenPorchSF', 'OverallQual', 'YearBuilt', 'EnclosedPorch', 'WoodDeckSF', 'BsmtHalfBath', '3SsnPorch', 'KitchenAbvGr', 'MasVnrArea', 'PoolArea', 'LotArea', 'HalfBath', 'ScreenPorch', 'GrLivArea', 'OverallCond', 'TotalBsmtSF', '1stFlrSF', 'BedroomAbvGr', 'TotRmsAbvGrd', 'MiscVal', '2ndFlrSF']\n",
      "\n",
      "Categorical = ['Utilities', 'LandContour', 'Exterior1st', 'LandSlope', 'Neighborhood', 'HeatingQC', 'Condition2', 'Electrical', 'Fence', 'MasVnrType', 'LotConfig', 'LotShape', 'FireplaceQu', 'RoofMatl', 'SaleType', 'GarageCond', 'SaleCondition', 'ExterCond', 'PoolQC', 'BsmtExposure', 'Exterior2nd', 'BsmtFinType1', 'HouseStyle', 'GarageQual', 'GarageType', 'Heating', 'RoofStyle', 'KitchenQual', 'BldgType', 'Functional', 'Foundation', 'Street', 'ExterQual', 'CentralAir', 'BsmtCond', 'MSZoning', 'BsmtQual', 'MiscFeature', 'BsmtFinType2', 'GarageFinish', 'Alley', 'Condition1', 'PavedDrive']\n"
     ]
    }
   ],
   "source": [
    "original_nums, cats = get_type_lists()"
   ]
  },
  {
   "cell_type": "markdown",
   "metadata": {},
   "source": [
    "### Impute Missing Values for Numeric Variables via Generalized Low Rank Model"
   ]
  },
  {
   "cell_type": "code",
   "execution_count": 18,
   "metadata": {
    "collapsed": true
   },
   "outputs": [],
   "source": [
    "def glrm_num_impute(role, frame):\n",
    "\n",
    "    \"\"\" Helper function for imputing numeric variables using GLRM.\n",
    "    \n",
    "    :param role: Role of frame to be imputed.\n",
    "    :param frame: H2OFrame to be imputed.\n",
    "    :return: H2OFrame of imputed numeric features.\n",
    "    \n",
    "    \"\"\"\n",
    "    \n",
    "    # count missing values in training data numeric columns\n",
    "    print(role + ' missing:\\n', [cnt for cnt in frame.nacnt() if cnt != 0.0])\n",
    "\n",
    "    # initialize GLRM\n",
    "    matrix_complete_glrm = H2OGeneralizedLowRankEstimator(\n",
    "        k=10,                    # create 10 features \n",
    "        transform='STANDARDIZE', # <- seems very important\n",
    "        gamma_x=0.001,           # regularization on values in X\n",
    "        gamma_y=0.05)            # regularization on values in Y\n",
    "\n",
    "    # train GLRM\n",
    "    matrix_complete_glrm.train(training_frame=frame, x=original_nums)\n",
    "\n",
    "    # plot iteration history to ensure convergence\n",
    "    matrix_complete_glrm.score_history().plot(x='iteration', y='objective', title='GLRM Score History')\n",
    "\n",
    "    # impute numeric inputs by multiply the calculated xi and yj for the missing values in train\n",
    "    num_impute = matrix_complete_glrm.predict(frame)\n",
    "\n",
    "    # count missing values in imputed set\n",
    "    print('imputed ' + role + ' missing:\\n', [cnt for cnt in num_impute.nacnt() if cnt != 0.0])\n",
    "    \n",
    "    return num_impute"
   ]
  },
  {
   "cell_type": "code",
   "execution_count": 19,
   "metadata": {
    "collapsed": false
   },
   "outputs": [
    {
     "name": "stdout",
     "output_type": "stream",
     "text": [
      "train missing:\n",
      " [1369.0, 8.0, 38.0, 37.0, 38.0, 1.0, 690.0, 81.0, 81.0, 81.0, 81.0, 1453.0, 1179.0, 1406.0]\n",
      "imputed train missing:\n",
      " []\n"
     ]
    },
    {
     "data": {
      "image/png": "[encoded data removed]",
      "text/plain": [
       "<matplotlib.figure.Figure at 0x10454b5f8>"
      ]
     },
     "metadata": {},
     "output_type": "display_data"
    }
   ],
   "source": [
    "train_new_nums = glrm_num_impute('train', train)"
   ]
  },
  {
   "cell_type": "code",
   "execution_count": 30,
   "metadata": {
    "collapsed": false
   },
   "outputs": [
    {
     "name": "stdout",
     "output_type": "stream",
     "text": [
      "test missing:\n",
      " [1352.0, 16.0, 44.0, 42.0, 1.0, 42.0, 1.0, 1.0, 1.0, 2.0, 2.0, 730.0, 76.0, 78.0, 1.0, 1.0, 78.0, 78.0, 1456.0, 1169.0, 1408.0]\n",
      "imputed test missing:\n",
      " []\n"
     ]
    },
    {
     "data": {
      "image/png": "[encoded data removed]",
      "text/plain": [
       "<matplotlib.figure.Figure at 0x118520f60>"
      ]
     },
     "metadata": {},
     "output_type": "display_data"
    }
   ],
   "source": [
    "test_nums_new = glrm_num_impute('test', test)"
   ]
  },
  {
   "cell_type": "code",
   "execution_count": 31,
   "metadata": {
    "collapsed": false,
    "scrolled": true
   },
   "outputs": [
    {
     "name": "stdout",
     "output_type": "stream",
     "text": [
      "(1460, 36)\n",
      "(1459, 36)\n"
     ]
    }
   ],
   "source": [
    "print(train_new_nums.shape)\n",
    "print(test_nums_new.shape)"
   ]
  },
  {
   "cell_type": "markdown",
   "metadata": {},
   "source": [
    "Checking the result of imputation"
   ]
  },
  {
   "cell_type": "code",
   "execution_count": 21,
   "metadata": {
    "collapsed": false,
    "scrolled": true
   },
   "outputs": [
    {
     "data": {
      "text/plain": [
       "reconstr_MSSubClass       False\n",
       "reconstr_LotFrontage      False\n",
       "reconstr_LotArea          False\n",
       "reconstr_OverallQual      False\n",
       "reconstr_OverallCond      False\n",
       "reconstr_YearBuilt        False\n",
       "reconstr_YearRemodAdd     False\n",
       "reconstr_MasVnrArea       False\n",
       "reconstr_BsmtFinSF1       False\n",
       "reconstr_BsmtFinSF2       False\n",
       "reconstr_BsmtUnfSF        False\n",
       "reconstr_TotalBsmtSF      False\n",
       "reconstr_1stFlrSF         False\n",
       "reconstr_2ndFlrSF         False\n",
       "reconstr_LowQualFinSF     False\n",
       "reconstr_GrLivArea        False\n",
       "reconstr_BsmtFullBath     False\n",
       "reconstr_BsmtHalfBath     False\n",
       "reconstr_FullBath         False\n",
       "reconstr_HalfBath         False\n",
       "reconstr_BedroomAbvGr     False\n",
       "reconstr_KitchenAbvGr     False\n",
       "reconstr_TotRmsAbvGrd     False\n",
       "reconstr_Fireplaces       False\n",
       "reconstr_GarageYrBlt      False\n",
       "reconstr_GarageCars       False\n",
       "reconstr_GarageArea       False\n",
       "reconstr_WoodDeckSF       False\n",
       "reconstr_OpenPorchSF      False\n",
       "reconstr_EnclosedPorch    False\n",
       "reconstr_3SsnPorch        False\n",
       "reconstr_ScreenPorch      False\n",
       "reconstr_PoolArea         False\n",
       "reconstr_MiscVal          False\n",
       "reconstr_MoSold           False\n",
       "reconstr_YrSold           False\n",
       "dtype: bool"
      ]
     },
     "execution_count": 21,
     "metadata": {},
     "output_type": "execute_result"
    }
   ],
   "source": [
    "pandas_train_new_nums = train_new_nums.as_data_frame(use_pandas=True)\n",
    "pandas_train_new_nums.isnull().any()"
   ]
  },
  {
   "cell_type": "markdown",
   "metadata": {},
   "source": [
    "### Explore the input variables"
   ]
  },
  {
   "cell_type": "code",
   "execution_count": 32,
   "metadata": {
    "collapsed": false
   },
   "outputs": [],
   "source": [
    "plotdata=train.as_data_frame(use_pandas=True)\n",
    "plotdatatest=test.as_data_frame(use_pandas=True)"
   ]
  },
  {
   "cell_type": "code",
   "execution_count": 33,
   "metadata": {
    "collapsed": false,
    "scrolled": true
   },
   "outputs": [
    {
     "data": {
      "text/plain": [
       "array([[<matplotlib.axes._subplots.AxesSubplot object at 0x117717d68>,\n",
       "        <matplotlib.axes._subplots.AxesSubplot object at 0x117701470>],\n",
       "       [<matplotlib.axes._subplots.AxesSubplot object at 0x117d6e9e8>,\n",
       "        <matplotlib.axes._subplots.AxesSubplot object at 0x11b1a04e0>],\n",
       "       [<matplotlib.axes._subplots.AxesSubplot object at 0x117ddff98>,\n",
       "        <matplotlib.axes._subplots.AxesSubplot object at 0x117ee6208>]], dtype=object)"
      ]
     },
     "execution_count": 33,
     "metadata": {},
     "output_type": "execute_result"
    },
    {
     "data": {
      "image/png": "[encoded data removed]",
      "text/plain": [
       "<matplotlib.figure.Figure at 0x117d824a8>"
      ]
     },
     "metadata": {},
     "output_type": "display_data"
    }
   ],
   "source": [
    "plotdata.iloc[:,1:20].hist(figsize=(10,10))"
   ]
  },
  {
   "cell_type": "code",
   "execution_count": 34,
   "metadata": {
    "collapsed": false,
    "scrolled": true
   },
   "outputs": [
    {
     "data": {
      "text/plain": [
       "array([[<matplotlib.axes._subplots.AxesSubplot object at 0x118401048>,\n",
       "        <matplotlib.axes._subplots.AxesSubplot object at 0x11847fac8>],\n",
       "       [<matplotlib.axes._subplots.AxesSubplot object at 0x1184c95c0>,\n",
       "        <matplotlib.axes._subplots.AxesSubplot object at 0x11b30c8d0>],\n",
       "       [<matplotlib.axes._subplots.AxesSubplot object at 0x11b35a3c8>,\n",
       "        <matplotlib.axes._subplots.AxesSubplot object at 0x11b3965f8>]], dtype=object)"
      ]
     },
     "execution_count": 34,
     "metadata": {},
     "output_type": "execute_result"
    },
    {
     "data": {
      "image/png": "[encoded data removed]",
      "text/plain": [
       "<matplotlib.figure.Figure at 0x1183ab080>"
      ]
     },
     "metadata": {},
     "output_type": "display_data"
    }
   ],
   "source": [
    "plotdata.iloc[:,20:40].hist(figsize=(10,10))"
   ]
  },
  {
   "cell_type": "code",
   "execution_count": 35,
   "metadata": {
    "collapsed": false,
    "scrolled": true
   },
   "outputs": [
    {
     "data": {
      "text/plain": [
       "array([[<matplotlib.axes._subplots.AxesSubplot object at 0x11b3a9978>,\n",
       "        <matplotlib.axes._subplots.AxesSubplot object at 0x11b4f0f28>,\n",
       "        <matplotlib.axes._subplots.AxesSubplot object at 0x11b63ca20>,\n",
       "        <matplotlib.axes._subplots.AxesSubplot object at 0x11b837c18>],\n",
       "       [<matplotlib.axes._subplots.AxesSubplot object at 0x11bf07710>,\n",
       "        <matplotlib.axes._subplots.AxesSubplot object at 0x11bf41940>,\n",
       "        <matplotlib.axes._subplots.AxesSubplot object at 0x11bf8f630>,\n",
       "        <matplotlib.axes._subplots.AxesSubplot object at 0x11bfcc668>],\n",
       "       [<matplotlib.axes._subplots.AxesSubplot object at 0x11c019438>,\n",
       "        <matplotlib.axes._subplots.AxesSubplot object at 0x11c054668>,\n",
       "        <matplotlib.axes._subplots.AxesSubplot object at 0x11c09e860>,\n",
       "        <matplotlib.axes._subplots.AxesSubplot object at 0x11c0be710>],\n",
       "       [<matplotlib.axes._subplots.AxesSubplot object at 0x11c126978>,\n",
       "        <matplotlib.axes._subplots.AxesSubplot object at 0x11c16ff28>,\n",
       "        <matplotlib.axes._subplots.AxesSubplot object at 0x11c1b05c0>,\n",
       "        <matplotlib.axes._subplots.AxesSubplot object at 0x11c1fada0>]], dtype=object)"
      ]
     },
     "execution_count": 35,
     "metadata": {},
     "output_type": "execute_result"
    },
    {
     "data": {
      "image/png": "[encoded data removed]",
      "text/plain": [
       "<matplotlib.figure.Figure at 0x11b4b1b00>"
      ]
     },
     "metadata": {},
     "output_type": "display_data"
    }
   ],
   "source": [
    "plotdata.iloc[:,40:60].hist(figsize=(10,10))"
   ]
  },
  {
   "cell_type": "markdown",
   "metadata": {},
   "source": [
    "#### As we can see from the distributions of numerical variables, some are having outliers issue and majority is not normal distributed, which indicates standardization"
   ]
  },
  {
   "cell_type": "code",
   "execution_count": 36,
   "metadata": {
    "collapsed": false,
    "scrolled": true
   },
   "outputs": [
    {
     "name": "stderr",
     "output_type": "stream",
     "text": [
      "//anaconda/lib/python3.5/site-packages/IPython/core/interactiveshell.py:2885: FutureWarning: \n",
      "mpl_style had been deprecated and will be removed in a future version.\n",
      "Use `matplotlib.pyplot.style.use` instead.\n",
      "\n",
      "  exec(code_obj, self.user_global_ns, self.user_ns)\n"
     ]
    },
    {
     "data": {
      "text/plain": [
       "<matplotlib.axes._subplots.AxesSubplot at 0x11c890b70>"
      ]
     },
     "execution_count": 36,
     "metadata": {},
     "output_type": "execute_result"
    },
    {
     "data": {
      "image/png": "[encoded data removed]",
      "text/plain": [
       "<matplotlib.figure.Figure at 0x11b9344a8>"
      ]
     },
     "metadata": {},
     "output_type": "display_data"
    }
   ],
   "source": [
    "pd.options.display.mpl_style = 'default'\n",
    "plotdata.iloc[:,40:50].plot(kind='box',figsize=(10,10))"
   ]
  },
  {
   "cell_type": "code",
   "execution_count": 37,
   "metadata": {
    "collapsed": false,
    "scrolled": true
   },
   "outputs": [
    {
     "name": "stderr",
     "output_type": "stream",
     "text": [
      "//anaconda/lib/python3.5/site-packages/IPython/core/interactiveshell.py:2885: FutureWarning: \n",
      "mpl_style had been deprecated and will be removed in a future version.\n",
      "Use `matplotlib.pyplot.style.use` instead.\n",
      "\n",
      "  exec(code_obj, self.user_global_ns, self.user_ns)\n"
     ]
    },
    {
     "data": {
      "text/plain": [
       "<matplotlib.axes._subplots.AxesSubplot at 0x11c564630>"
      ]
     },
     "execution_count": 37,
     "metadata": {},
     "output_type": "execute_result"
    },
    {
     "data": {
      "image/png": "[encoded data removed]",
      "text/plain": [
       "<matplotlib.figure.Figure at 0x11cafb518>"
      ]
     },
     "metadata": {},
     "output_type": "display_data"
    }
   ],
   "source": [
    "pd.options.display.mpl_style = 'default'\n",
    "plotdata.iloc[:,50:70].plot(kind='box',figsize=(20,20))"
   ]
  },
  {
   "cell_type": "code",
   "execution_count": 38,
   "metadata": {
    "collapsed": false,
    "scrolled": true
   },
   "outputs": [
    {
     "name": "stderr",
     "output_type": "stream",
     "text": [
      "//anaconda/lib/python3.5/site-packages/IPython/core/interactiveshell.py:2885: FutureWarning: \n",
      "mpl_style had been deprecated and will be removed in a future version.\n",
      "Use `matplotlib.pyplot.style.use` instead.\n",
      "\n",
      "  exec(code_obj, self.user_global_ns, self.user_ns)\n"
     ]
    },
    {
     "data": {
      "text/plain": [
       "<matplotlib.axes._subplots.AxesSubplot at 0x11d11fac8>"
      ]
     },
     "execution_count": 38,
     "metadata": {},
     "output_type": "execute_result"
    },
    {
     "data": {
      "image/png": "[encoded data removed]",
      "text/plain": [
       "<matplotlib.figure.Figure at 0x11d11f438>"
      ]
     },
     "metadata": {},
     "output_type": "display_data"
    }
   ],
   "source": [
    "pd.options.display.mpl_style = 'default'\n",
    "plotdata.iloc[:,70:81].plot(kind='box',figsize=(10,10))"
   ]
  },
  {
   "cell_type": "markdown",
   "metadata": {},
   "source": [
    "Using box plot to identify thoes variables that have outlier issue."
   ]
  },
  {
   "cell_type": "markdown",
   "metadata": {},
   "source": [
    "### Winsorize Varaiables that have outliers issue."
   ]
  },
  {
   "cell_type": "code",
   "execution_count": 39,
   "metadata": {
    "collapsed": false
   },
   "outputs": [
    {
     "data": {
      "text/plain": [
       "<matplotlib.axes._subplots.AxesSubplot at 0x11e3c6588>"
      ]
     },
     "execution_count": 39,
     "metadata": {},
     "output_type": "execute_result"
    },
    {
     "data": {
      "image/png": "[encoded data removed]",
      "text/plain": [
       "<matplotlib.figure.Figure at 0x11e386be0>"
      ]
     },
     "metadata": {},
     "output_type": "display_data"
    }
   ],
   "source": [
    "plotdata['WinLotArea']=winsorize(plotdata['LotArea'],limits=[0.1,0.1])\n",
    "plotdata['WinLotArea'].plot(kind='box',figsize=(5,5))\n",
    "plotdata['Win1stFlrSF']=winsorize(plotdata['1stFlrSF'],limits=[0.1,0.1])\n",
    "plotdata['Win1stFlrSF'].plot(kind='box',figsize=(5,5))\n",
    "plotdata['WinGarageArea']=winsorize(plotdata['GarageArea'],limits=[0.1,0.1])\n",
    "plotdata['WinGarageArea'].plot(kind='box',figsize=(5,5))\n",
    "plotdata['WinGrLivArea']=winsorize(plotdata['GrLivArea'],limits=[0.1,0.1])\n",
    "plotdata['WinGrLivArea'].plot(kind='box',figsize=(5,5))\n",
    "plotdata['WinOpenPorchSF']=winsorize(plotdata['OpenPorchSF'],limits=[0.1,0.1])\n",
    "plotdata['WinOpenPorchSF'].plot(kind='box',figsize=(5,5))\n",
    "plotdata['WinWoodDeckSF']=winsorize(plotdata['WoodDeckSF'],limits=[0.1,0.1])\n",
    "plotdata['WinWoodDeckSF'].plot(kind='box',figsize=(5,5))"
   ]
  },
  {
   "cell_type": "code",
   "execution_count": 40,
   "metadata": {
    "collapsed": false
   },
   "outputs": [
    {
     "data": {
      "text/plain": [
       "<matplotlib.axes._subplots.AxesSubplot at 0x11e5e5da0>"
      ]
     },
     "execution_count": 40,
     "metadata": {},
     "output_type": "execute_result"
    },
    {
     "data": {
      "image/png": "[encoded data removed]",
      "text/plain": [
       "<matplotlib.figure.Figure at 0x11e5ee828>"
      ]
     },
     "metadata": {},
     "output_type": "display_data"
    }
   ],
   "source": [
    "plotdatatest['WinLotArea']=winsorize(plotdatatest['LotArea'],limits=[0.1,0.1])\n",
    "plotdatatest['WinLotArea'].plot(kind='box',figsize=(5,5))\n",
    "plotdatatest['Win1stFlrSF']=winsorize(plotdatatest['1stFlrSF'],limits=[0.1,0.1])\n",
    "plotdatatest['Win1stFlrSF'].plot(kind='box',figsize=(5,5))\n",
    "plotdatatest['WinGarageArea']=winsorize(plotdatatest['GarageArea'],limits=[0.1,0.1])\n",
    "plotdatatest['WinGarageArea'].plot(kind='box',figsize=(5,5))\n",
    "plotdatatest['WinGrLivArea']=winsorize(plotdatatest['GrLivArea'],limits=[0.1,0.1])\n",
    "plotdatatest['WinGrLivArea'].plot(kind='box',figsize=(5,5))\n",
    "plotdatatest['WinOpenPorchSF']=winsorize(plotdatatest['OpenPorchSF'],limits=[0.1,0.1])\n",
    "plotdatatest['WinOpenPorchSF'].plot(kind='box',figsize=(5,5))\n",
    "plotdatatest['WinWoodDeckSF']=winsorize(plotdatatest['WoodDeckSF'],limits=[0.1,0.1])\n",
    "plotdatatest['WinWoodDeckSF'].plot(kind='box',figsize=(5,5))"
   ]
  },
  {
   "cell_type": "code",
   "execution_count": 41,
   "metadata": {
    "collapsed": true
   },
   "outputs": [],
   "source": [
    "plotdata.drop(['WoodDeckSF','OpenPorchSF','GrLivArea','GarageArea','1stFlrSF','LotArea'],axis=1,inplace=True)\n",
    "plotdatatest.drop(['WoodDeckSF','OpenPorchSF','GrLivArea','GarageArea','1stFlrSF','LotArea'],axis=1,inplace=True)"
   ]
  },
  {
   "cell_type": "markdown",
   "metadata": {},
   "source": [
    "Get the list of numerical variables as well as categorical variables."
   ]
  },
  {
   "cell_type": "code",
   "execution_count": 42,
   "metadata": {
    "collapsed": true
   },
   "outputs": [],
   "source": [
    "plttr=h2o.H2OFrame(plotdata)"
   ]
  },
  {
   "cell_type": "code",
   "execution_count": 43,
   "metadata": {
    "collapsed": true
   },
   "outputs": [],
   "source": [
    "def get_type_lists(frame=plttr, rejects=['Id', 'SalePrice']):\n",
    "\n",
    "    \"\"\"Creates lists of numeric and categorical variables.\n",
    "    :param frame: The frame from which to determine types.\n",
    "    :param rejects: Variable names not to be included in returned lists.\n",
    "    :return: Tuple of lists for numeric and categorical variables in the frame.\n",
    "    \"\"\"\n",
    "    \n",
    "    nums, cats = [], []\n",
    "    for key, val in frame.types.items():\n",
    "        if key not in rejects:\n",
    "            if val == 'enum':\n",
    "                cats.append(key)\n",
    "            else: \n",
    "                nums.append(key)\n",
    "                \n",
    "    print('Numeric =', nums)                \n",
    "    print()\n",
    "    print('Categorical =', cats)\n",
    "    \n",
    "    return nums, cats"
   ]
  },
  {
   "cell_type": "code",
   "execution_count": 44,
   "metadata": {
    "collapsed": false
   },
   "outputs": [
    {
     "name": "stdout",
     "output_type": "stream",
     "text": [
      "Numeric = ['BsmtFullBath', 'GarageYrBlt', 'LowQualFinSF', 'MSSubClass', 'GarageCars', 'LotFrontage', 'YearRemodAdd', 'BsmtUnfSF', 'WinGarageArea', 'Fireplaces', 'BsmtFinSF2', 'FullBath', 'YrSold', 'MoSold', 'BsmtFinSF1', 'WinLotArea', 'OverallQual', 'YearBuilt', 'EnclosedPorch', 'WinGrLivArea', 'BsmtHalfBath', '3SsnPorch', 'WinWoodDeckSF', 'KitchenAbvGr', 'MasVnrArea', 'HalfBath', 'ScreenPorch', 'PoolArea', 'Win1stFlrSF', 'OverallCond', 'TotalBsmtSF', 'WinOpenPorchSF', 'BedroomAbvGr', 'TotRmsAbvGrd', 'MiscVal', '2ndFlrSF']\n",
      "\n",
      "Categorical = ['Utilities', 'LandContour', 'HeatingQC', 'Exterior1st', 'LandSlope', 'Neighborhood', 'Condition2', 'Electrical', 'Fence', 'MasVnrType', 'LotConfig', 'LotShape', 'FireplaceQu', 'RoofMatl', 'SaleType', 'GarageCond', 'SaleCondition', 'ExterCond', 'PoolQC', 'BsmtExposure', 'Exterior2nd', 'BsmtFinType1', 'HouseStyle', 'GarageQual', 'GarageType', 'BsmtFinType2', 'Heating', 'RoofStyle', 'KitchenQual', 'BldgType', 'Functional', 'Foundation', 'Street', 'ExterQual', 'CentralAir', 'BsmtCond', 'MSZoning', 'BsmtQual', 'MiscFeature', 'GarageFinish', 'Alley', 'Condition1', 'PavedDrive']\n"
     ]
    }
   ],
   "source": [
    "original_nums, cats = get_type_lists()"
   ]
  },
  {
   "cell_type": "markdown",
   "metadata": {},
   "source": [
    "### Standardize numerical input variables "
   ]
  },
  {
   "cell_type": "code",
   "execution_count": 45,
   "metadata": {
    "collapsed": true
   },
   "outputs": [],
   "source": [
    "_tr = plotdata.copy()\n",
    "_ts = plotdatatest.copy()"
   ]
  },
  {
   "cell_type": "code",
   "execution_count": 46,
   "metadata": {
    "collapsed": true
   },
   "outputs": [],
   "source": [
    "for col_name in original_nums:\n",
    "    new_col_name = col_name + '_std'\n",
    "    _tr[new_col_name] = (plotdata[col_name] - plotdata[col_name].mean())/plotdata[col_name].std()\n",
    "    _ts[new_col_name] = (plotdatatest[col_name] - plotdatatest[col_name].mean())/plotdatatest[col_name].std()"
   ]
  },
  {
   "cell_type": "markdown",
   "metadata": {},
   "source": [
    "Delete the original numerical variables."
   ]
  },
  {
   "cell_type": "code",
   "execution_count": 47,
   "metadata": {
    "collapsed": true
   },
   "outputs": [],
   "source": [
    "for col_name in original_nums:\n",
    "    del _tr[col_name]\n",
    "    del _ts[col_name]"
   ]
  },
  {
   "cell_type": "markdown",
   "metadata": {},
   "source": [
    "### Convert back to h2o"
   ]
  },
  {
   "cell_type": "code",
   "execution_count": 48,
   "metadata": {
    "collapsed": true
   },
   "outputs": [],
   "source": [
    "train=h2o.H2OFrame(_tr)\n",
    "test=h2o.H2OFrame(_ts)"
   ]
  },
  {
   "cell_type": "markdown",
   "metadata": {},
   "source": [
    "Checking the train and test data frame before next data preparation step."
   ]
  },
  {
   "cell_type": "code",
   "execution_count": 49,
   "metadata": {
    "collapsed": false,
    "scrolled": true
   },
   "outputs": [
    {
     "name": "stdout",
     "output_type": "stream",
     "text": [
      "Rows:1460\n",
      "Cols:81\n",
      "\n",
      "\n"
     ]
    },
    {
     "data": {
      "text/html": [
       "<table>\n",
       "<thead>\n",
       "<tr><th>       </th><th>Id               </th><th>MSZoning  </th><th>Street  </th><th>Alley  </th><th>LotShape  </th><th>LandContour  </th><th>Utilities  </th><th>LotConfig  </th><th>LandSlope  </th><th>Neighborhood  </th><th>Condition1  </th><th>Condition2  </th><th>BldgType  </th><th>HouseStyle  </th><th>RoofStyle  </th><th>RoofMatl  </th><th>Exterior1st  </th><th>Exterior2nd  </th><th>MasVnrType  </th><th>ExterQual  </th><th>ExterCond  </th><th>Foundation  </th><th>BsmtQual  </th><th>BsmtCond  </th><th>BsmtExposure  </th><th>BsmtFinType1  </th><th>BsmtFinType2  </th><th>Heating  </th><th>HeatingQC  </th><th>CentralAir  </th><th>Electrical  </th><th>KitchenQual  </th><th>Functional  </th><th>FireplaceQu  </th><th>GarageType  </th><th>GarageFinish  </th><th>GarageQual  </th><th>GarageCond  </th><th>PavedDrive  </th><th>PoolQC  </th><th>Fence  </th><th>MiscFeature  </th><th>SaleType  </th><th>SaleCondition  </th><th>SalePrice        </th><th>BsmtFullBath_std      </th><th>GarageYrBlt_std       </th><th>LowQualFinSF_std       </th><th>MSSubClass_std        </th><th>GarageCars_std      </th><th>LotFrontage_std       </th><th>YearRemodAdd_std     </th><th>BsmtUnfSF_std         </th><th>WinGarageArea_std     </th><th>Fireplaces_std        </th><th>BsmtFinSF2_std       </th><th>FullBath_std          </th><th>YrSold_std           </th><th>MoSold_std            </th><th>BsmtFinSF1_std        </th><th>WinLotArea_std        </th><th>OverallQual_std       </th><th>YearBuilt_std         </th><th>EnclosedPorch_std     </th><th>WinGrLivArea_std       </th><th>BsmtHalfBath_std      </th><th>3SsnPorch_std         </th><th>WinWoodDeckSF_std      </th><th>KitchenAbvGr_std     </th><th>MasVnrArea_std        </th><th>HalfBath_std         </th><th>ScreenPorch_std      </th><th>PoolArea_std         </th><th>Win1stFlrSF_std       </th><th>OverallCond_std      </th><th>TotalBsmtSF_std      </th><th>WinOpenPorchSF_std    </th><th>BedroomAbvGr_std      </th><th>TotRmsAbvGrd_std     </th><th>MiscVal_std            </th><th>2ndFlrSF_std          </th></tr>\n",
       "</thead>\n",
       "<tbody>\n",
       "<tr><td>type   </td><td>int              </td><td>enum      </td><td>enum    </td><td>enum   </td><td>enum      </td><td>enum         </td><td>enum       </td><td>enum       </td><td>enum       </td><td>enum          </td><td>enum        </td><td>enum        </td><td>enum      </td><td>enum        </td><td>enum       </td><td>enum      </td><td>enum         </td><td>enum         </td><td>enum        </td><td>enum       </td><td>enum       </td><td>enum        </td><td>enum      </td><td>enum      </td><td>enum          </td><td>enum          </td><td>enum          </td><td>enum     </td><td>enum       </td><td>enum        </td><td>enum        </td><td>enum         </td><td>enum        </td><td>enum         </td><td>enum        </td><td>enum          </td><td>enum        </td><td>enum        </td><td>enum        </td><td>enum    </td><td>enum   </td><td>enum         </td><td>enum      </td><td>enum           </td><td>int              </td><td>real                  </td><td>real                  </td><td>real                   </td><td>real                  </td><td>real                </td><td>real                  </td><td>real                 </td><td>real                  </td><td>real                  </td><td>real                  </td><td>real                 </td><td>real                  </td><td>real                 </td><td>real                  </td><td>real                  </td><td>real                  </td><td>real                  </td><td>real                  </td><td>real                  </td><td>real                   </td><td>real                  </td><td>real                  </td><td>real                   </td><td>real                 </td><td>real                  </td><td>real                 </td><td>real                 </td><td>real                 </td><td>real                  </td><td>real                 </td><td>real                 </td><td>real                  </td><td>real                  </td><td>real                 </td><td>real                   </td><td>real                  </td></tr>\n",
       "<tr><td>mins   </td><td>1.0              </td><td>          </td><td>        </td><td>       </td><td>          </td><td>             </td><td>           </td><td>           </td><td>           </td><td>              </td><td>            </td><td>            </td><td>          </td><td>            </td><td>           </td><td>          </td><td>             </td><td>             </td><td>            </td><td>           </td><td>           </td><td>            </td><td>          </td><td>          </td><td>              </td><td>              </td><td>              </td><td>         </td><td>           </td><td>            </td><td>            </td><td>             </td><td>            </td><td>             </td><td>            </td><td>              </td><td>            </td><td>            </td><td>            </td><td>        </td><td>       </td><td>             </td><td>          </td><td>               </td><td>34900.0          </td><td>-0.8196835076441235   </td><td>-4.118913083719189    </td><td>-0.12020053800860489   </td><td>-0.8722638821913684   </td><td>-2.364629726102377  </td><td>-1.6623235039534479   </td><td>-1.6887898479984367  </td><td>-1.2837357583879423   </td><td>-1.4573645983861474   </td><td>-0.9509006699369512   </td><td>-0.2885539604701581  </td><td>-2.8408488002532493   </td><td>-1.367186277969802   </td><td>-1.9684369798472843   </td><td>-0.9726849003236182   </td><td>-1.6137835102781273   </td><td>-3.6871495308555806   </td><td>-3.2866974672174027   </td><td>-0.3592018228542554   </td><td>-1.4198442469135284    </td><td>-0.24097846650905574  </td><td>-0.11629943710230208  </td><td>-0.8460582455525355    </td><td>-4.7498588539862086  </td><td>-0.5705546379230072   </td><td>-0.7613597983235844  </td><td>-0.27011580124313217 </td><td>-0.06866821893757184 </td><td>-1.2767993865689162   </td><td>-4.111561100736463   </td><td>-2.4103410492171595  </td><td>-0.8615456849657631   </td><td>-3.5137478591635483   </td><td>-2.7795169608179364  </td><td>-0.08765777630136591   </td><td>-0.7948908644380643   </td></tr>\n",
       "<tr><td>mean   </td><td>730.5            </td><td>          </td><td>        </td><td>       </td><td>          </td><td>             </td><td>           </td><td>           </td><td>           </td><td>              </td><td>            </td><td>            </td><td>          </td><td>            </td><td>           </td><td>          </td><td>             </td><td>             </td><td>            </td><td>           </td><td>           </td><td>            </td><td>          </td><td>          </td><td>              </td><td>              </td><td>              </td><td>         </td><td>           </td><td>            </td><td>            </td><td>             </td><td>            </td><td>             </td><td>            </td><td>              </td><td>            </td><td>            </td><td>            </td><td>        </td><td>       </td><td>             </td><td>          </td><td>               </td><td>180921.1958904111</td><td>1.1145598333150986e-16</td><td>1.5287250632045613e-16</td><td>-1.3227266504323154e-17</td><td>-4.824699667560495e-17</td><td>9.69276742202041e-17</td><td>1.0245710529988017e-16</td><td>4.529146155340946e-15</td><td>-4.846383711010205e-17</td><td>-3.924811864397526e-17</td><td>-7.296680620827445e-17</td><td>2.168404344971009e-18</td><td>1.4864411784776266e-16</td><td>3.565478804128802e-14</td><td>1.2727178252264215e-16</td><td>-2.862293735361732e-17</td><td>1.3308581667259567e-17</td><td>1.2110538266663085e-16</td><td>1.0333530905959343e-15</td><td>2.5261910618912253e-17</td><td>-1.4127154307486123e-16</td><td>5.7462715141731735e-18</td><td>1.9353008778866254e-17</td><td>-1.1427490897997217e-16</td><td>3.638582490861353e-16</td><td>-3.800128614561693e-17</td><td>7.426784881525705e-17</td><td>5.827586677109586e-18</td><td>8.461520329891559e-17</td><td>2.3979841549948144e-16</td><td>3.688997891881929e-16</td><td>2.470354650008222e-16</td><td>-8.950088933867839e-17</td><td>2.0086200498009577e-16</td><td>-8.17217387510949e-17</td><td>-1.0232158002831948e-18</td><td>1.7780915628762273e-17</td></tr>\n",
       "<tr><td>maxs   </td><td>1460.0           </td><td>          </td><td>        </td><td>       </td><td>          </td><td>             </td><td>           </td><td>           </td><td>           </td><td>              </td><td>            </td><td>            </td><td>          </td><td>            </td><td>           </td><td>          </td><td>             </td><td>             </td><td>            </td><td>           </td><td>           </td><td>            </td><td>          </td><td>          </td><td>              </td><td>              </td><td>              </td><td>         </td><td>           </td><td>            </td><td>            </td><td>             </td><td>            </td><td>             </td><td>            </td><td>              </td><td>            </td><td>            </td><td>            </td><td>        </td><td>       </td><td>             </td><td>          </td><td>               </td><td>755000.0         </td><td>4.961659106657423     </td><td>0.31135357298386057   </td><td>11.643759769239269     </td><td>3.1465943981111675    </td><td>2.9878654678657943  </td><td>7.3671379822779395    </td><td>1.2174255905655946   </td><td>4.0029234317160105    </td><td>1.7413976687797907    </td><td>3.7026690890841056    </td><td>8.848605997891852    </td><td>2.604629425177486     </td><td>1.6446461865129791   </td><td>2.1001727880223924    </td><td>11.40184617827387     </td><td>1.6836882246810223    </td><td>2.820458909096378     </td><td>1.2823995906581556    </td><td>8.672337598563447     </td><td>1.6885992954629354     </td><td>8.135892035948595     </td><td>17.211335458445188    </td><td>1.8052685073148371     </td><td>8.865574248408814    </td><td>8.282363205121175     </td><td>3.2156895954239406   </td><td>8.338604627661638    </td><td>18.299909869656002   </td><td>1.7396033780210731    </td><td>3.077515793964418    </td><td>11.51700302286161    </td><td>1.9677395771025776    </td><td>6.292841148012138     </td><td>4.603311594902235    </td><td>31.15459310882023      </td><td>3.9356142533042577    </td></tr>\n",
       "<tr><td>sigma  </td><td>421.6100093688479</td><td>          </td><td>        </td><td>       </td><td>          </td><td>             </td><td>           </td><td>           </td><td>           </td><td>              </td><td>            </td><td>            </td><td>          </td><td>            </td><td>           </td><td>          </td><td>             </td><td>             </td><td>            </td><td>           </td><td>           </td><td>            </td><td>          </td><td>          </td><td>              </td><td>              </td><td>              </td><td>         </td><td>           </td><td>            </td><td>            </td><td>             </td><td>            </td><td>             </td><td>            </td><td>              </td><td>            </td><td>            </td><td>            </td><td>        </td><td>       </td><td>             </td><td>          </td><td>               </td><td>79442.50288288663</td><td>1.0000000000000149    </td><td>0.9999999999999998    </td><td>1.0000000000000229     </td><td>1.000000000000003     </td><td>0.9999999999999973  </td><td>0.9999999999999977    </td><td>1.0000000000000002   </td><td>1.0                   </td><td>1.0000000000000016    </td><td>0.9999999999999922    </td><td>1.0000000000000078   </td><td>1.0000000000000004    </td><td>1.0000000000000038   </td><td>0.9999999999999968    </td><td>1.0000000000000064    </td><td>0.9999999999999986    </td><td>0.9999999999999999    </td><td>1.0                   </td><td>0.9999999999999967    </td><td>1.000000000000002      </td><td>1.000000000000018     </td><td>0.99999999999999      </td><td>0.9999999999999917     </td><td>1.000000000000004    </td><td>1.0000000000000084    </td><td>0.9999999999999899   </td><td>0.9999999999999944   </td><td>0.9999999999999938   </td><td>1.0000000000000022    </td><td>0.9999999999999954   </td><td>1.0                  </td><td>1.0000000000000044    </td><td>1.0000000000000082    </td><td>0.9999999999999919   </td><td>1.0000000000000258     </td><td>0.9999999999999938    </td></tr>\n",
       "<tr><td>zeros  </td><td>0                </td><td>          </td><td>        </td><td>       </td><td>          </td><td>             </td><td>           </td><td>           </td><td>           </td><td>              </td><td>            </td><td>            </td><td>          </td><td>            </td><td>           </td><td>          </td><td>             </td><td>             </td><td>            </td><td>           </td><td>           </td><td>            </td><td>          </td><td>          </td><td>              </td><td>              </td><td>              </td><td>         </td><td>           </td><td>            </td><td>            </td><td>             </td><td>            </td><td>             </td><td>            </td><td>              </td><td>            </td><td>            </td><td>            </td><td>        </td><td>       </td><td>             </td><td>          </td><td>               </td><td>0                </td><td>0                     </td><td>0                     </td><td>0                      </td><td>0                     </td><td>0                   </td><td>0                     </td><td>0                    </td><td>0                     </td><td>0                     </td><td>0                     </td><td>0                    </td><td>0                     </td><td>0                    </td><td>0                     </td><td>0                     </td><td>0                     </td><td>0                     </td><td>0                     </td><td>0                     </td><td>0                      </td><td>0                     </td><td>0                     </td><td>0                      </td><td>0                    </td><td>0                     </td><td>0                    </td><td>0                    </td><td>0                    </td><td>0                     </td><td>0                    </td><td>0                    </td><td>0                     </td><td>0                     </td><td>0                    </td><td>0                      </td><td>0                     </td></tr>\n",
       "<tr><td>missing</td><td>0                </td><td>0         </td><td>0       </td><td>0      </td><td>0         </td><td>0            </td><td>0          </td><td>0          </td><td>0          </td><td>0             </td><td>0           </td><td>0           </td><td>0         </td><td>0           </td><td>0          </td><td>0         </td><td>0            </td><td>0            </td><td>0           </td><td>0          </td><td>0          </td><td>0           </td><td>0         </td><td>0         </td><td>0             </td><td>0             </td><td>0             </td><td>0        </td><td>0          </td><td>0           </td><td>0           </td><td>0            </td><td>0           </td><td>0            </td><td>0           </td><td>0             </td><td>0           </td><td>0           </td><td>0           </td><td>0       </td><td>0      </td><td>0            </td><td>0         </td><td>0              </td><td>0                </td><td>0                     </td><td>0                     </td><td>0                      </td><td>0                     </td><td>0                   </td><td>0                     </td><td>0                    </td><td>0                     </td><td>0                     </td><td>0                     </td><td>0                    </td><td>0                     </td><td>0                    </td><td>0                     </td><td>0                     </td><td>0                     </td><td>0                     </td><td>0                     </td><td>0                     </td><td>0                      </td><td>0                     </td><td>0                     </td><td>0                      </td><td>0                    </td><td>0                     </td><td>0                    </td><td>0                    </td><td>0                    </td><td>0                     </td><td>0                    </td><td>0                    </td><td>0                     </td><td>0                     </td><td>0                    </td><td>0                      </td><td>0                     </td></tr>\n",
       "<tr><td>0      </td><td>1.0              </td><td>RL        </td><td>Pave    </td><td>nan    </td><td>Reg       </td><td>Lvl          </td><td>AllPub     </td><td>Inside     </td><td>Gtl        </td><td>CollgCr       </td><td>Norm        </td><td>Norm        </td><td>1Fam      </td><td>2Story      </td><td>Gable      </td><td>CompShg   </td><td>VinylSd      </td><td>VinylSd      </td><td>BrkFace     </td><td>Gd         </td><td>TA         </td><td>PConc       </td><td>Gd        </td><td>TA        </td><td>No            </td><td>GLQ           </td><td>Unf           </td><td>GasA     </td><td>Ex         </td><td>Y           </td><td>SBrkr       </td><td>Gd           </td><td>Typ         </td><td>nan          </td><td>Attchd      </td><td>RFn           </td><td>TA          </td><td>TA          </td><td>Y           </td><td>nan     </td><td>nan    </td><td>nan          </td><td>WD        </td><td>Normal         </td><td>208500.0         </td><td>1.1074306971230592    </td><td>0.2959247836321585    </td><td>-0.12020053800860489   </td><td>0.07334983082099304   </td><td>0.3116178708817087  </td><td>0.21280428072719176   </td><td>0.8783671227331242   </td><td>-0.9442670603932536   </td><td>0.4482810075850498    </td><td>-0.9509006699369512   </td><td>-0.2885539604701581  </td><td>0.7894700167005748    </td><td>0.1387299542715884   </td><td>-1.5985633645864046   </td><td>0.5752277399119992    </td><td>-0.4003139118131602   </td><td>0.6512560957790584    </td><td>1.0506337978673663    </td><td>-0.3592018228542554   </td><td>0.570956673484881      </td><td>-0.24097846650905574  </td><td>-0.11629943710230208  </td><td>-0.8460582455525355    </td><td>-0.21138115318786754 </td><td>0.5139277978499053    </td><td>1.2271648985501782   </td><td>-0.27011580124313217 </td><td>-0.06866821893757184 </td><td>-0.9532632287201523   </td><td>-0.5170226533860218  </td><td>-0.4591452184971221  </td><td>0.46604201492784286   </td><td>0.16372301852733406   </td><td>0.9118973170421488   </td><td>-0.08765777630136591   </td><td>1.1614536249333367    </td></tr>\n",
       "<tr><td>1      </td><td>2.0              </td><td>RL        </td><td>Pave    </td><td>nan    </td><td>Reg       </td><td>Lvl          </td><td>AllPub     </td><td>FR2        </td><td>Gtl        </td><td>Veenker       </td><td>Feedr       </td><td>Norm        </td><td>1Fam      </td><td>1Story      </td><td>Gable      </td><td>CompShg   </td><td>MetalSd      </td><td>MetalSd      </td><td>None        </td><td>TA         </td><td>TA         </td><td>CBlock      </td><td>Gd        </td><td>TA        </td><td>Gd            </td><td>ALQ           </td><td>Unf           </td><td>GasA     </td><td>Ex         </td><td>Y           </td><td>SBrkr       </td><td>TA           </td><td>Typ         </td><td>TA           </td><td>Attchd      </td><td>RFn           </td><td>TA          </td><td>TA          </td><td>Y           </td><td>nan     </td><td>nan    </td><td>nan          </td><td>WD        </td><td>Normal         </td><td>181500.0         </td><td>-0.8196835076441235   </td><td>0.2364137389898787    </td><td>-0.12020053800860489   </td><td>-0.8722638821913684   </td><td>0.3116178708817087  </td><td>0.6455260771919548    </td><td>-0.4294298246206898  </td><td>-0.6410083568513317   </td><td>-0.09618916554957804  </td><td>0.6002892497367345    </td><td>-0.2885539604701581  </td><td>0.7894700167005748    </td><td>-0.6142281618491069  </td><td>-0.48894251880376555  </td><td>1.171590683458866     </td><td>0.0041759543418288265 </td><td>-0.07181150866004815  </td><td>0.15668002567432224   </td><td>-0.3592018228542554   </td><td>-0.5466859484931734    </td><td>3.94745678471977      </td><td>-0.11629943710230208  </td><td>1.8052685073148371     </td><td>-0.21138115318786754 </td><td>-0.5705546379230072   </td><td>-0.7613597983235844  </td><td>-0.27011580124313217 </td><td>-0.06866821893757184 </td><td>0.3735618226596262    </td><td>2.1788811821268084   </td><td>0.46630514046588617  </td><td>-0.8615456849657631   </td><td>0.16372301852733406   </td><td>-0.31857410891121296 </td><td>-0.08765777630136591   </td><td>-0.7948908644380643   </td></tr>\n",
       "<tr><td>2      </td><td>3.0              </td><td>RL        </td><td>Pave    </td><td>nan    </td><td>IR1       </td><td>Lvl          </td><td>AllPub     </td><td>Inside     </td><td>Gtl        </td><td>CollgCr       </td><td>Norm        </td><td>Norm        </td><td>1Fam      </td><td>2Story      </td><td>Gable      </td><td>CompShg   </td><td>VinylSd      </td><td>VinylSd      </td><td>BrkFace     </td><td>Gd         </td><td>TA         </td><td>PConc       </td><td>Gd        </td><td>TA        </td><td>Mn            </td><td>GLQ           </td><td>Unf           </td><td>GasA     </td><td>Ex         </td><td>Y           </td><td>SBrkr       </td><td>Gd           </td><td>Typ         </td><td>TA           </td><td>Attchd      </td><td>RFn           </td><td>TA          </td><td>TA          </td><td>Y           </td><td>nan     </td><td>nan    </td><td>nan          </td><td>WD        </td><td>Normal         </td><td>223500.0         </td><td>1.1074306971230592    </td><td>0.2915165581031007    </td><td>-0.12020053800860489   </td><td>0.07334983082099304   </td><td>0.3116178708817087  </td><td>0.29934864002014433   </td><td>0.8299301987570571   </td><td>-0.30153965885664297  </td><td>0.8195106710859322    </td><td>0.6002892497367345    </td><td>-0.2885539604701581  </td><td>0.7894700167005748    </td><td>0.1387299542715884   </td><td>0.9905519422397532    </td><td>0.0928753591020334    </td><td>0.5845309796946392    </td><td>0.6512560957790584    </td><td>0.9844149999271408    </td><td>-0.3592018228542554   </td><td>0.7605567611418723     </td><td>-0.24097846650905574  </td><td>-0.11629943710230208  </td><td>-0.8460582455525355    </td><td>-0.21138115318786754 </td><td>0.3258032936852164    </td><td>1.2271648985501782   </td><td>-0.27011580124313217 </td><td>-0.06866821893757184 </td><td>-0.7441085408179213   </td><td>-0.5170226533860218  </td><td>-0.31326141806945573 </td><td>0.052531092010162414  </td><td>0.16372301852733406   </td><td>-0.31857410891121296 </td><td>-0.08765777630136591   </td><td>1.1889432430509677    </td></tr>\n",
       "<tr><td>3      </td><td>4.0              </td><td>RL        </td><td>Pave    </td><td>nan    </td><td>IR1       </td><td>Lvl          </td><td>AllPub     </td><td>Corner     </td><td>Gtl        </td><td>Crawfor       </td><td>Norm        </td><td>Norm        </td><td>1Fam      </td><td>2Story      </td><td>Gable      </td><td>CompShg   </td><td>Wd Sdng      </td><td>Wd Shng      </td><td>None        </td><td>TA         </td><td>TA         </td><td>BrkTil      </td><td>TA        </td><td>Gd        </td><td>No            </td><td>ALQ           </td><td>Unf           </td><td>GasA     </td><td>Gd         </td><td>Y           </td><td>SBrkr       </td><td>Gd           </td><td>Typ         </td><td>Gd           </td><td>Detchd      </td><td>Unf           </td><td>TA          </td><td>TA          </td><td>Y           </td><td>nan     </td><td>nan    </td><td>nan          </td><td>WD        </td><td>Abnorml        </td><td>140000.0         </td><td>1.1074306971230592    </td><td>0.2849042198095141    </td><td>-0.12020053800860489   </td><td>0.3097532590740834    </td><td>1.6497416693737514  </td><td>0.06856368190560409   </td><td>-0.7200513684770931  </td><td>-0.06164844560706293  </td><td>1.0298741470697659    </td><td>0.6002892497367345    </td><td>-0.2885539604701581  </td><td>-1.025689391776337    </td><td>-1.367186277969802   </td><td>-1.5985633645864046   </td><td>-0.4991025628011064   </td><td>-0.013410561577953305 </td><td>0.6512560957790584    </td><td>-1.8629933115025552   </td><td>4.091121950018234     </td><td>0.588419839453288      </td><td>-0.24097846650905574  </td><td>-0.11629943710230208  </td><td>-0.8460582455525355    </td><td>-0.21138115318786754 </td><td>-0.5705546379230072   </td><td>-0.7613597983235844  </td><td>-0.27011580124313217 </td><td>-0.06866821893757184 </td><td>-0.6101188188805545   </td><td>-0.5170226533860218  </td><td>-0.6870886566653507  </td><td>-0.09981503748582517  </td><td>0.16372301852733406   </td><td>0.2966616040654679   </td><td>-0.08765777630136591   </td><td>0.9369550769726842    </td></tr>\n",
       "<tr><td>4      </td><td>5.0              </td><td>RL        </td><td>Pave    </td><td>nan    </td><td>IR1       </td><td>Lvl          </td><td>AllPub     </td><td>FR2        </td><td>Gtl        </td><td>NoRidge       </td><td>Norm        </td><td>Norm        </td><td>1Fam      </td><td>2Story      </td><td>Gable      </td><td>CompShg   </td><td>VinylSd      </td><td>VinylSd      </td><td>BrkFace     </td><td>Gd         </td><td>TA         </td><td>PConc       </td><td>Gd        </td><td>TA        </td><td>Av            </td><td>GLQ           </td><td>Unf           </td><td>GasA     </td><td>Ex         </td><td>Y           </td><td>SBrkr       </td><td>Gd           </td><td>Typ         </td><td>TA           </td><td>Attchd      </td><td>RFn           </td><td>TA          </td><td>TA          </td><td>Y           </td><td>nan     </td><td>nan    </td><td>nan          </td><td>WD        </td><td>Normal         </td><td>250000.0         </td><td>1.1074306971230592    </td><td>0.2893124453385718    </td><td>-0.12020053800860489   </td><td>0.07334983082099304   </td><td>1.6497416693737514  </td><td>0.7609185562492249    </td><td>0.7330563508049227   </td><td>-0.17480467827195917  </td><td>1.7413976687797907    </td><td>0.6002892497367345    </td><td>-0.2885539604701581  </td><td>0.7894700167005748    </td><td>0.1387299542715884   </td><td>2.1001727880223924    </td><td>0.46340968799696164   </td><td>1.6432392380655234    </td><td>1.3743237002181652    </td><td>0.951305600957028     </td><td>-0.3592018228542554   </td><td>1.6885992954629354     </td><td>-0.24097846650905574  </td><td>-0.11629943710230208  </td><td>1.0968987641823331     </td><td>-0.21138115318786754 </td><td>1.3660211402429079    </td><td>1.2271648985501782   </td><td>-0.27011580124313217 </td><td>-0.06866821893757184 </td><td>-0.008799091161640073 </td><td>-0.5170226533860218  </td><td>0.19961131780905875  </td><td>0.9666078689860875    </td><td>1.3895466444242943    </td><td>1.5271330300188295   </td><td>-0.08765777630136591   </td><td>1.6173231253840497    </td></tr>\n",
       "<tr><td>5      </td><td>6.0              </td><td>RL        </td><td>Pave    </td><td>nan    </td><td>IR1       </td><td>Lvl          </td><td>AllPub     </td><td>Inside     </td><td>Gtl        </td><td>Mitchel       </td><td>Norm        </td><td>Norm        </td><td>1Fam      </td><td>1.5Fin      </td><td>Gable      </td><td>CompShg   </td><td>VinylSd      </td><td>VinylSd      </td><td>None        </td><td>TA         </td><td>TA         </td><td>Wood        </td><td>Gd        </td><td>TA        </td><td>No            </td><td>GLQ           </td><td>Unf           </td><td>GasA     </td><td>Ex         </td><td>Y           </td><td>SBrkr       </td><td>TA           </td><td>Typ         </td><td>nan          </td><td>Attchd      </td><td>Unf           </td><td>TA          </td><td>TA          </td><td>Y           </td><td>nan     </td><td>MnPrv  </td><td>Shed         </td><td>WD        </td><td>Normal         </td><td>143000.0         </td><td>1.1074306971230592    </td><td>0.27388365598686965   </td><td>-0.12020053800860489   </td><td>-0.16305359743209732  </td><td>0.3116178708817087  </td><td>0.7897666760135423    </td><td>0.4908717309245868   </td><td>-1.1388957805768751   </td><td>0.027554055617382833  </td><td>-0.9509006699369512   </td><td>-0.2885539604701581  </td><td>-1.025689391776337    </td><td>0.8916880703922837   </td><td>1.3604255575006332    </td><td>0.6322330212804497    </td><td>1.5922383418981554    </td><td>-0.7948791130991547   </td><td>0.7195398081662389    </td><td>-0.3592018228542554   </td><td>-0.2972121489445006    </td><td>-0.24097846650905574  </td><td>10.79874616639218     </td><td>-0.4412755351911045    </td><td>-0.21138115318786754 </td><td>-0.5705546379230072   </td><td>1.2271648985501782   </td><td>-0.27011580124313217 </td><td>-0.06866821893757184 </td><td>-1.149345748628494    </td><td>-0.5170226533860218  </td><td>-0.5959112813980593  </td><td>-0.20863370141153056  </td><td>-2.2879242332665872   </td><td>-0.9338098218878936  </td><td>1.3232825862525124     </td><td>0.5017027901101945    </td></tr>\n",
       "<tr><td>6      </td><td>7.0              </td><td>RL        </td><td>Pave    </td><td>nan    </td><td>Reg       </td><td>Lvl          </td><td>AllPub     </td><td>Inside     </td><td>Gtl        </td><td>Somerst       </td><td>Norm        </td><td>Norm        </td><td>1Fam      </td><td>1Story      </td><td>Gable      </td><td>CompShg   </td><td>VinylSd      </td><td>VinylSd      </td><td>Stone       </td><td>Gd         </td><td>TA         </td><td>PConc       </td><td>Ex        </td><td>TA        </td><td>Av            </td><td>GLQ           </td><td>Unf           </td><td>GasA     </td><td>Ex         </td><td>Y           </td><td>SBrkr       </td><td>Gd           </td><td>Typ         </td><td>Gd           </td><td>Attchd      </td><td>RFn           </td><td>TA          </td><td>TA          </td><td>Y           </td><td>nan     </td><td>nan    </td><td>nan          </td><td>WD        </td><td>Normal         </td><td>307000.0         </td><td>1.1074306971230592    </td><td>0.29812889639668727   </td><td>-0.12020053800860489   </td><td>-0.8722638821913684   </td><td>0.3116178708817087  </td><td>0.5012854783703671    </td><td>0.9752409706852588   </td><td>-0.5663252432925002   </td><td>0.9927511807196776    </td><td>0.6002892497367345    </td><td>-0.2885539604701581  </td><td>0.7894700167005748    </td><td>-0.6142281618491069  </td><td>0.6206783269788736    </td><td>2.0288624148074867    </td><td>0.17441342844531985   </td><td>1.3743237002181652    </td><td>1.083743196837479     </td><td>-0.3592018228542554   </td><td>0.5310408655570933     </td><td>-0.24097846650905574  </td><td>-0.11629943710230208  </td><td>1.7344315330015871     </td><td>-0.21138115318786754 </td><td>0.45859706133087913   </td><td>-0.7613597983235844  </td><td>-0.27011580124313217 </td><td>-0.06866821893757184 </td><td>1.7396033780210731    </td><td>-0.5170226533860218  </td><td>1.4327853182991757   </td><td>0.3789870837872787    </td><td>0.16372301852733406   </td><td>0.2966616040654679   </td><td>-0.08765777630136591   </td><td>-0.7948908644380643   </td></tr>\n",
       "<tr><td>7      </td><td>8.0              </td><td>RL        </td><td>Pave    </td><td>nan    </td><td>IR1       </td><td>Lvl          </td><td>AllPub     </td><td>Corner     </td><td>Gtl        </td><td>NWAmes        </td><td>PosN        </td><td>Norm        </td><td>1Fam      </td><td>2Story      </td><td>Gable      </td><td>CompShg   </td><td>HdBoard      </td><td>HdBoard      </td><td>Stone       </td><td>TA         </td><td>TA         </td><td>CBlock      </td><td>Gd        </td><td>TA        </td><td>Mn            </td><td>ALQ           </td><td>BLQ           </td><td>GasA     </td><td>Ex         </td><td>Y           </td><td>SBrkr       </td><td>TA           </td><td>Typ         </td><td>TA           </td><td>Attchd      </td><td>RFn           </td><td>TA          </td><td>TA          </td><td>Y           </td><td>nan     </td><td>nan    </td><td>Shed         </td><td>WD        </td><td>Normal         </td><td>200000.0         </td><td>1.1074306971230592    </td><td>0.2298014006962921    </td><td>-0.12020053800860489   </td><td>0.07334983082099304   </td><td>0.3116178708817087  </td><td>-1.6623235039534479   </td><td>-0.5747405965488914  </td><td>-0.7949008332755907   </td><td>0.052302699850775014  </td><td>2.15147916941042      </td><td>-0.09018956517328945 </td><td>0.7894700167005748    </td><td>0.8916880703922837   </td><td>1.7302991727615127    </td><td>0.9106818956571118    </td><td>0.27922906332722136   </td><td>0.6512560957790584    </td><td>0.05735182876398402   </td><td>3.3712166338182734    </td><td>1.5189571117698382     </td><td>-0.24097846650905574  </td><td>-0.11629943710230208  </td><td>1.5320401778208714     </td><td>-0.21138115318786754 </td><td>0.7573830385336203    </td><td>1.2271648985501782   </td><td>-0.27011580124313217 </td><td>-0.06866821893757184 </td><td>-0.1329846871035898   </td><td>0.3816119584515882   </td><td>0.11299281130513185  </td><td>1.9677395771025776    </td><td>0.16372301852733406   </td><td>0.2966616040654679   </td><td>0.6178124049755733     </td><td>1.4569670196978692    </td></tr>\n",
       "<tr><td>8      </td><td>9.0              </td><td>RM        </td><td>Pave    </td><td>nan    </td><td>Reg       </td><td>Lvl          </td><td>AllPub     </td><td>Inside     </td><td>Gtl        </td><td>OldTown       </td><td>Artery      </td><td>Norm        </td><td>1Fam      </td><td>1.5Fin      </td><td>Gable      </td><td>CompShg   </td><td>BrkFace      </td><td>Wd Shng      </td><td>None        </td><td>TA         </td><td>TA         </td><td>BrkTil      </td><td>TA        </td><td>TA        </td><td>No            </td><td>Unf           </td><td>Unf           </td><td>GasA     </td><td>Gd         </td><td>Y           </td><td>FuseF       </td><td>TA           </td><td>Min1        </td><td>TA           </td><td>Detchd      </td><td>Unf           </td><td>Fa          </td><td>TA          </td><td>Y           </td><td>nan     </td><td>nan    </td><td>nan          </td><td>WD        </td><td>Abnorml        </td><td>129900.0         </td><td>-0.8196835076441235   </td><td>0.1372286645860791    </td><td>-0.12020053800860489   </td><td>-0.16305359743209732  </td><td>0.3116178708817087  </td><td>-0.1910693959732537   </td><td>-1.6887898479984367  </td><td>0.8707589115516823    </td><td>-0.04669187708279368  </td><td>2.15147916941042      </td><td>-0.2885539604701581  </td><td>0.7894700167005748    </td><td>0.1387299542715884   </td><td>-0.8588161340646453   </td><td>-0.9726849003236182   </td><td>-1.2198455536750075   </td><td>0.6512560957790584    </td><td>-1.3332429279807512   </td><td>2.9949024912592024    </td><td>0.7306199051960316     </td><td>-0.24097846650905574  </td><td>-0.11629943710230208  </td><td>0.06470285276068417    </td><td>4.3270965476104735   </td><td>-0.5705546379230072   </td><td>-0.7613597983235844  </td><td>-0.27011580124313217 </td><td>-0.06866821893757184 </td><td>-0.4107682569737405   </td><td>-0.5170226533860218  </td><td>-0.24031951785562258 </td><td>-0.8615456849657631   </td><td>-1.0621006073696266   </td><td>0.9118973170421488   </td><td>-0.08765777630136591   </td><td>0.9277918709334739    </td></tr>\n",
       "<tr><td>9      </td><td>10.0             </td><td>RL        </td><td>Pave    </td><td>nan    </td><td>Reg       </td><td>Lvl          </td><td>AllPub     </td><td>Corner     </td><td>Gtl        </td><td>BrkSide       </td><td>Artery      </td><td>Artery      </td><td>2fmCon    </td><td>1.5Unf      </td><td>Gable      </td><td>CompShg   </td><td>MetalSd      </td><td>MetalSd      </td><td>None        </td><td>TA         </td><td>TA         </td><td>BrkTil      </td><td>TA        </td><td>TA        </td><td>No            </td><td>GLQ           </td><td>Unf           </td><td>GasA     </td><td>Ex         </td><td>Y           </td><td>SBrkr       </td><td>TA           </td><td>Typ         </td><td>TA           </td><td>Attchd      </td><td>RFn           </td><td>Gd          </td><td>TA          </td><td>Y           </td><td>nan     </td><td>nan    </td><td>nan          </td><td>WD        </td><td>Normal         </td><td>118000.0         </td><td>1.1074306971230592    </td><td>0.15486156670231013   </td><td>-0.12020053800860489   </td><td>3.1465943981111675    </td><td>-1.026505927610334  </td><td>-0.2199175157375712   </td><td>-1.6887898479984367  </td><td>-0.966898306926233    </td><td>-1.4573645983861474   </td><td>2.15147916941042      </td><td>-0.2885539604701581  </td><td>-1.025689391776337    </td><td>0.1387299542715884   </td><td>-1.9684369798472843   </td><td>0.8931418090822039    </td><td>-0.7625961397606721   </td><td>-0.7948791130991547   </td><td>-1.0683677362198492   </td><td>-0.3592018228542554   </td><td>-1.0082124776582182    </td><td>-0.24097846650905574  </td><td>-0.11629943710230208  </td><td>-0.8460582455525355    </td><td>4.3270965476104735   </td><td>-0.5705546379230072   </td><td>-0.7613597983235844  </td><td>-0.27011580124313217 </td><td>-0.06866821893757184 </td><td>-0.23102594705776058  </td><td>0.3816119584515882   </td><td>-0.1514215769700134  </td><td>-0.7744907538251986   </td><td>-1.0621006073696266   </td><td>-0.9338098218878936  </td><td>-0.08765777630136591   </td><td>-0.7948908644380643   </td></tr>\n",
       "</tbody>\n",
       "</table>"
      ]
     },
     "metadata": {},
     "output_type": "display_data"
    },
    {
     "name": "stdout",
     "output_type": "stream",
     "text": [
      "--------------------------------------------------------------\n",
      "Rows:1459\n",
      "Cols:81\n",
      "\n",
      "\n"
     ]
    },
    {
     "data": {
      "text/html": [
       "<table>\n",
       "<thead>\n",
       "<tr><th>       </th><th>Id                </th><th>MSZoning  </th><th>Street  </th><th>Alley  </th><th>LotShape  </th><th>LandContour  </th><th>Utilities  </th><th>LotConfig  </th><th>LandSlope  </th><th>Neighborhood  </th><th>Condition1  </th><th>Condition2  </th><th>BldgType  </th><th>HouseStyle  </th><th>RoofStyle  </th><th>RoofMatl  </th><th>Exterior1st  </th><th>Exterior2nd  </th><th>MasVnrType  </th><th>ExterQual  </th><th>ExterCond  </th><th>Foundation  </th><th>BsmtQual  </th><th>BsmtCond  </th><th>BsmtExposure  </th><th>BsmtFinType1  </th><th>BsmtFinType2  </th><th>Heating  </th><th>HeatingQC  </th><th>CentralAir  </th><th>Electrical  </th><th>KitchenQual  </th><th>Functional  </th><th>FireplaceQu  </th><th>GarageType  </th><th>GarageFinish  </th><th>GarageQual  </th><th>GarageCond  </th><th>PavedDrive  </th><th>PoolQC  </th><th>Fence  </th><th>MiscFeature  </th><th>SaleType  </th><th>SaleCondition  </th><th>SalePrice           </th><th>BsmtFullBath_std     </th><th>GarageYrBlt_std       </th><th>LowQualFinSF_std     </th><th>MSSubClass_std       </th><th>GarageCars_std        </th><th>LotFrontage_std        </th><th>YearRemodAdd_std      </th><th>BsmtUnfSF_std         </th><th>WinGarageArea_std    </th><th>Fireplaces_std       </th><th>BsmtFinSF2_std       </th><th>FullBath_std         </th><th>YrSold_std            </th><th>MoSold_std           </th><th>BsmtFinSF1_std       </th><th>WinLotArea_std        </th><th>OverallQual_std      </th><th>YearBuilt_std          </th><th>EnclosedPorch_std     </th><th>WinGrLivArea_std       </th><th>BsmtHalfBath_std      </th><th>3SsnPorch_std          </th><th>WinWoodDeckSF_std    </th><th>KitchenAbvGr_std     </th><th>MasVnrArea_std         </th><th>HalfBath_std          </th><th>ScreenPorch_std       </th><th>PoolArea_std          </th><th>Win1stFlrSF_std        </th><th>OverallCond_std       </th><th>TotalBsmtSF_std       </th><th>WinOpenPorchSF_std    </th><th>BedroomAbvGr_std     </th><th>TotRmsAbvGrd_std     </th><th>MiscVal_std          </th><th>2ndFlrSF_std          </th></tr>\n",
       "</thead>\n",
       "<tbody>\n",
       "<tr><td>type   </td><td>int               </td><td>enum      </td><td>enum    </td><td>enum   </td><td>enum      </td><td>enum         </td><td>enum       </td><td>enum       </td><td>enum       </td><td>enum          </td><td>enum        </td><td>enum        </td><td>enum      </td><td>enum        </td><td>enum       </td><td>enum      </td><td>enum         </td><td>enum         </td><td>enum        </td><td>enum       </td><td>enum       </td><td>enum        </td><td>enum      </td><td>enum      </td><td>enum          </td><td>enum          </td><td>enum          </td><td>enum     </td><td>enum       </td><td>enum        </td><td>enum        </td><td>enum         </td><td>enum        </td><td>enum         </td><td>enum        </td><td>enum          </td><td>enum        </td><td>enum        </td><td>enum        </td><td>enum    </td><td>enum   </td><td>enum         </td><td>enum      </td><td>enum           </td><td>real                </td><td>real                 </td><td>real                  </td><td>real                 </td><td>real                 </td><td>real                  </td><td>real                   </td><td>real                  </td><td>real                  </td><td>real                 </td><td>real                 </td><td>real                 </td><td>real                 </td><td>real                  </td><td>real                 </td><td>real                 </td><td>real                  </td><td>real                 </td><td>real                   </td><td>real                  </td><td>real                   </td><td>real                  </td><td>real                   </td><td>real                 </td><td>real                 </td><td>real                   </td><td>real                  </td><td>real                  </td><td>real                  </td><td>real                   </td><td>real                  </td><td>real                  </td><td>real                  </td><td>real                 </td><td>real                 </td><td>real                 </td><td>real                  </td></tr>\n",
       "<tr><td>mins   </td><td>1461.0            </td><td>          </td><td>        </td><td>       </td><td>          </td><td>             </td><td>           </td><td>           </td><td>           </td><td>              </td><td>            </td><td>            </td><td>          </td><td>            </td><td>           </td><td>          </td><td>             </td><td>             </td><td>            </td><td>           </td><td>           </td><td>            </td><td>          </td><td>          </td><td>              </td><td>              </td><td>              </td><td>         </td><td>           </td><td>            </td><td>            </td><td>             </td><td>            </td><td>             </td><td>            </td><td>              </td><td>            </td><td>            </td><td>            </td><td>        </td><td>       </td><td>             </td><td>          </td><td>               </td><td>0.004435016315083029</td><td>-0.8187249144400626  </td><td>-4.1993001696780725   </td><td>-0.08045552704190534 </td><td>-0.8744109900669876  </td><td>-2.2760863307763786   </td><td>-1.7947720666419749    </td><td>-1.5930922337962812   </td><td>-1.2676538185831319   </td><td>-1.4276706002600457  </td><td>-0.8977473772262465  </td><td>-0.2976982900287009  </td><td>-2.829552614642909   </td><td>-1.3594919680629625   </td><td>-1.8748608343548452  </td><td>-0.9647145488047963  </td><td>-1.6283229027361972   </td><td>-3.534785609530218   </td><td>-3.039077460386211     </td><td>-0.36061465362326717  </td><td>-1.3734213933017212    </td><td>-0.2582600690930742   </td><td>-0.08879620764046937   </td><td>-0.8450603977266182  </td><td>-5.000654760069599   </td><td>-0.5631228262981368    </td><td>-0.750782123198182    </td><td>-0.30143966012116136  </td><td>-0.057207322445492294 </td><td>-1.3041679409200522    </td><td>-4.0887510526488935   </td><td>-2.3619806265761483   </td><td>-0.8757833998810277   </td><td>-3.4394427829826593  </td><td>-2.2434936111036943  </td><td>-0.0922119210813902  </td><td>-0.7749877811847421   </td></tr>\n",
       "<tr><td>mean   </td><td>2190.0            </td><td>          </td><td>        </td><td>       </td><td>          </td><td>             </td><td>           </td><td>           </td><td>           </td><td>              </td><td>            </td><td>            </td><td>          </td><td>            </td><td>           </td><td>          </td><td>             </td><td>             </td><td>            </td><td>           </td><td>           </td><td>            </td><td>          </td><td>          </td><td>              </td><td>              </td><td>              </td><td>         </td><td>           </td><td>            </td><td>            </td><td>             </td><td>            </td><td>             </td><td>            </td><td>              </td><td>            </td><td>            </td><td>            </td><td>        </td><td>       </td><td>             </td><td>          </td><td>               </td><td>0.5009634110273208  </td><td>2.710505431213761e-17</td><td>2.0583578244637302e-16</td><td>4.126744519022951e-18</td><td>9.280770596475918e-17</td><td>-7.806255641895632e-18</td><td>-1.0148132334464322e-16</td><td>2.1507860596681194e-15</td><td>-3.903127820947816e-18</td><td>4.694595406862234e-17</td><td>4.212125440106185e-17</td><td>4.472333961502706e-18</td><td>9.009720053354542e-17</td><td>-7.889760893220465e-14</td><td>1.227316859253591e-16</td><td>3.117081245895825e-17</td><td>1.4372455049010968e-17</td><td>-3.10623922417097e-16</td><td>-1.9873425821659296e-16</td><td>-5.854691731421724e-18</td><td>-1.7054500173196985e-16</td><td>-6.177241877736162e-17</td><td>-1.1431556656144037e-17</td><td>5.095750210681871e-18</td><td>5.600175271430752e-16</td><td>-1.0994487655360818e-17</td><td>-1.745565497701662e-17</td><td>1.9217483507305566e-17</td><td>-4.628188023797497e-18</td><td>-1.2305694657710475e-16</td><td>-4.672911363412524e-17</td><td>-8.749511531958021e-17</td><td>-5.907546587330392e-17</td><td>2.791414018335492e-16</td><td>2.669305748659312e-16</td><td>8.538092108323347e-19</td><td>-7.003946034256359e-17</td></tr>\n",
       "<tr><td>maxs   </td><td>2919.0            </td><td>          </td><td>        </td><td>       </td><td>          </td><td>             </td><td>           </td><td>           </td><td>           </td><td>              </td><td>            </td><td>            </td><td>          </td><td>            </td><td>           </td><td>          </td><td>             </td><td>             </td><td>            </td><td>           </td><td>           </td><td>            </td><td>          </td><td>          </td><td>              </td><td>              </td><td>              </td><td>         </td><td>           </td><td>            </td><td>            </td><td>             </td><td>            </td><td>             </td><td>            </td><td>              </td><td>            </td><td>            </td><td>            </td><td>        </td><td>       </td><td>             </td><td>          </td><td>               </td><td>0.9996212523435838  </td><td>4.8347452293474795   </td><td>0.7515045171668799    </td><td>24.07761589408089    </td><td>3.102487476354851    </td><td>4.16766875713034      </td><td>4.40369272897091       </td><td>1.2464096220193035    </td><td>3.62645408606668      </td><td>1.7478513439816588   </td><td>5.28061782736382     </td><td>8.335773302030331    </td><td>4.375189557720101    </td><td>1.713317917922704     </td><td>2.1656442724748732   </td><td>7.843283444119717    </td><td>1.6734203597420987    </td><td>2.7290834645239372   </td><td>1.271540988045374      </td><td>14.692689493615518    </td><td>1.789691979246837      </td><td>7.66352773445659      </td><td>17.726070141129636     </td><td>1.793750413834787    </td><td>4.5929748190777335   </td><td>6.72493899708718       </td><td>3.2252291934847492    </td><td>9.873483717444893     </td><td>26.17948688516889     </td><td>1.721560451847353      </td><td>3.0942565160624076    </td><td>9.141780554829518     </td><td>1.9815563909037222    </td><td>3.791316612365612    </td><td>5.7093482887147875   </td><td>26.85739485872373    </td><td>3.6519136178395772    </td></tr>\n",
       "<tr><td>sigma  </td><td>421.32133421732476</td><td>          </td><td>        </td><td>       </td><td>          </td><td>             </td><td>           </td><td>           </td><td>           </td><td>              </td><td>            </td><td>            </td><td>          </td><td>            </td><td>           </td><td>          </td><td>             </td><td>             </td><td>            </td><td>           </td><td>           </td><td>            </td><td>          </td><td>          </td><td>              </td><td>              </td><td>              </td><td>         </td><td>           </td><td>            </td><td>            </td><td>             </td><td>            </td><td>             </td><td>            </td><td>              </td><td>            </td><td>            </td><td>            </td><td>        </td><td>       </td><td>             </td><td>          </td><td>               </td><td>0.28069232036192    </td><td>0.9999999999999882   </td><td>1.0000000000000022    </td><td>1.000000000000013    </td><td>0.9999999999999967   </td><td>1.0000000000000036    </td><td>0.9999999999999974     </td><td>0.9999999999999981    </td><td>0.9999999999999996    </td><td>1.0000000000000002   </td><td>1.0000000000000107   </td><td>1.0000000000000135   </td><td>1.0000000000000058   </td><td>1.0000000000000118    </td><td>1.0000000000000022   </td><td>1.0000000000000009   </td><td>1.0000000000000004    </td><td>0.9999999999999942   </td><td>0.9999999999999976     </td><td>1.0000000000000036    </td><td>1.0                    </td><td>1.0000000000000109    </td><td>1.000000000000017      </td><td>1.0000000000000115   </td><td>0.999999999999988    </td><td>0.9999999999999962     </td><td>0.9999999999999934    </td><td>0.9999999999999934    </td><td>0.9999999999999932    </td><td>1.000000000000003      </td><td>0.9999999999999887    </td><td>0.9999999999999988    </td><td>1.000000000000005     </td><td>1.0000000000000049   </td><td>1.0000000000000038   </td><td>0.9999999999999996   </td><td>1.0000000000000047    </td></tr>\n",
       "<tr><td>zeros  </td><td>0                 </td><td>          </td><td>        </td><td>       </td><td>          </td><td>             </td><td>           </td><td>           </td><td>           </td><td>              </td><td>            </td><td>            </td><td>          </td><td>            </td><td>           </td><td>          </td><td>             </td><td>             </td><td>            </td><td>           </td><td>           </td><td>            </td><td>          </td><td>          </td><td>              </td><td>              </td><td>              </td><td>         </td><td>           </td><td>            </td><td>            </td><td>             </td><td>            </td><td>             </td><td>            </td><td>              </td><td>            </td><td>            </td><td>            </td><td>        </td><td>       </td><td>             </td><td>          </td><td>               </td><td>0                   </td><td>0                    </td><td>0                     </td><td>0                    </td><td>0                    </td><td>0                     </td><td>0                      </td><td>0                     </td><td>0                     </td><td>0                    </td><td>0                    </td><td>0                    </td><td>0                    </td><td>0                     </td><td>0                    </td><td>0                    </td><td>0                     </td><td>0                    </td><td>0                      </td><td>0                     </td><td>0                      </td><td>0                     </td><td>0                      </td><td>0                    </td><td>0                    </td><td>0                      </td><td>0                     </td><td>0                     </td><td>0                     </td><td>0                      </td><td>0                     </td><td>0                     </td><td>0                     </td><td>0                    </td><td>0                    </td><td>0                    </td><td>0                     </td></tr>\n",
       "<tr><td>missing</td><td>0                 </td><td>0         </td><td>0       </td><td>0      </td><td>0         </td><td>0            </td><td>0          </td><td>0          </td><td>0          </td><td>0             </td><td>0           </td><td>0           </td><td>0         </td><td>0           </td><td>0          </td><td>0         </td><td>0            </td><td>0            </td><td>0           </td><td>0          </td><td>0          </td><td>0           </td><td>0         </td><td>0         </td><td>0             </td><td>0             </td><td>0             </td><td>0        </td><td>0          </td><td>0           </td><td>0           </td><td>0            </td><td>0           </td><td>0            </td><td>0           </td><td>0             </td><td>0           </td><td>0           </td><td>0           </td><td>0       </td><td>0      </td><td>0            </td><td>0         </td><td>0              </td><td>0                   </td><td>2                    </td><td>0                     </td><td>0                    </td><td>0                    </td><td>1                     </td><td>0                      </td><td>0                     </td><td>1                     </td><td>0                    </td><td>0                    </td><td>1                    </td><td>0                    </td><td>0                     </td><td>0                    </td><td>1                    </td><td>0                     </td><td>0                    </td><td>0                      </td><td>0                     </td><td>0                      </td><td>2                     </td><td>0                      </td><td>0                    </td><td>0                    </td><td>0                      </td><td>0                     </td><td>0                     </td><td>0                     </td><td>0                      </td><td>0                     </td><td>1                     </td><td>0                     </td><td>0                    </td><td>0                    </td><td>0                    </td><td>0                     </td></tr>\n",
       "<tr><td>0      </td><td>1461.0            </td><td>RH        </td><td>Pave    </td><td>nan    </td><td>Reg       </td><td>Lvl          </td><td>AllPub     </td><td>Inside     </td><td>Gtl        </td><td>NAmes         </td><td>Feedr       </td><td>Norm        </td><td>1Fam      </td><td>1Story      </td><td>Gable      </td><td>CompShg   </td><td>VinylSd      </td><td>VinylSd      </td><td>None        </td><td>TA         </td><td>TA         </td><td>CBlock      </td><td>TA        </td><td>TA        </td><td>No            </td><td>Rec           </td><td>LwQ           </td><td>GasA     </td><td>TA         </td><td>Y           </td><td>SBrkr       </td><td>TA           </td><td>Typ         </td><td>nan          </td><td>Attchd      </td><td>Unf           </td><td>TA          </td><td>TA          </td><td>Y           </td><td>nan     </td><td>MnPrv  </td><td>nan          </td><td>WD        </td><td>Normal         </td><td>0.02339796677115824 </td><td>-0.8187249144400626  </td><td>0.19967037445557126   </td><td>-0.08045552704190534 </td><td>-0.8744109900669876  </td><td>-0.9873353131950348   </td><td>0.684613851603179      </td><td>-1.0725168935634242   </td><td>-0.6501729147254453   </td><td>1.5646481548907911   </td><td>-0.8977473772262465  </td><td>0.5169936557488224   </td><td>-1.0283670715521567  </td><td>1.713317917922704     </td><td>-0.038267603977700564</td><td>0.06325130174100685  </td><td>0.7543390158928993    </td><td>-0.7508437988394825  </td><td>-0.34082774457407367   </td><td>-0.36061465362326717  </td><td>-1.3734213933017212    </td><td>-0.2582600690930742   </td><td>-0.08879620764046937   </td><td>0.5980392648460253   </td><td>-0.2038399704959332  </td><td>-0.5631228262981368    </td><td>-0.750782123198182    </td><td>1.8183360435384333    </td><td>-0.057207322445492294 </td><td>-0.7917723502906309    </td><td>0.4006286777956698    </td><td>-0.3705542552317321   </td><td>-0.8757833998810277   </td><td>-1.029189651199902   </td><td>-0.9180199611339471  </td><td>-0.0922119210813902  </td><td>-0.7749877811847421   </td></tr>\n",
       "<tr><td>1      </td><td>1462.0            </td><td>RL        </td><td>Pave    </td><td>nan    </td><td>IR1       </td><td>Lvl          </td><td>AllPub     </td><td>Corner     </td><td>Gtl        </td><td>NAmes         </td><td>Norm        </td><td>Norm        </td><td>1Fam      </td><td>1Story      </td><td>Hip        </td><td>CompShg   </td><td>Wd Sdng      </td><td>Wd Sdng      </td><td>BrkFace     </td><td>TA         </td><td>TA         </td><td>CBlock      </td><td>TA        </td><td>TA        </td><td>No            </td><td>ALQ           </td><td>Unf           </td><td>GasA     </td><td>TA         </td><td>Y           </td><td>SBrkr       </td><td>Gd           </td><td>Typ         </td><td>nan          </td><td>Attchd      </td><td>Unf           </td><td>TA          </td><td>TA          </td><td>Y           </td><td>nan     </td><td>nan    </td><td>Gar2         </td><td>WD        </td><td>Normal         </td><td>0.15366123997619568 </td><td>-0.8187249144400626  </td><td>0.19294068978836018   </td><td>-0.08045552704190534 </td><td>-0.8744109900669876  </td><td>-0.9873353131950348   </td><td>0.7156061755812434     </td><td>-1.2144919863542032   </td><td>-0.33914549648601794  </td><td>-0.9879829464419636  </td><td>-0.8977473772262465  </td><td>-0.2976982900287009  </td><td>-1.0283670715521567  </td><td>1.713317917922704     </td><td>-0.038267603977700564</td><td>1.0626625453272043   </td><td>1.6734203597420987    </td><td>-0.054858346166798515</td><td>-0.43954419759159097   </td><td>-0.36061465362326717  </td><td>-0.3409433572455888    </td><td>-0.2582600690930742   </td><td>-0.08879620764046937   </td><td>1.793750413834787    </td><td>-0.2038399704959332  </td><td>0.047040489148075744   </td><td>1.2372235351432836    </td><td>-0.30143966012116136  </td><td>-0.057207322445492294 </td><td>0.6124510088393653     </td><td>0.4006286777956698    </td><td>0.6387060486128867    </td><td>-0.10236811816485487  </td><td>0.17593691469147626  </td><td>-0.2552831361490737  </td><td>19.72367541701061    </td><td>-0.7749877811847421   </td></tr>\n",
       "<tr><td>2      </td><td>1463.0            </td><td>RL        </td><td>Pave    </td><td>nan    </td><td>IR1       </td><td>Lvl          </td><td>AllPub     </td><td>Inside     </td><td>Gtl        </td><td>Gilbert       </td><td>Norm        </td><td>Norm        </td><td>1Fam      </td><td>2Story      </td><td>Gable      </td><td>CompShg   </td><td>VinylSd      </td><td>VinylSd      </td><td>None        </td><td>TA         </td><td>TA         </td><td>PConc       </td><td>Gd        </td><td>TA        </td><td>No            </td><td>GLQ           </td><td>Unf           </td><td>GasA     </td><td>Gd         </td><td>Y           </td><td>SBrkr       </td><td>TA           </td><td>Typ         </td><td>TA           </td><td>Attchd      </td><td>Fin           </td><td>TA          </td><td>TA          </td><td>Y           </td><td>nan     </td><td>MnPrv  </td><td>nan          </td><td>WD        </td><td>Normal         </td><td>0.5217905407741891  </td><td>-0.8187249144400626  </td><td>0.2804265904621042    </td><td>-0.08045552704190534 </td><td>0.061329825561680235 </td><td>0.3014157043863087    </td><td>0.4986599077347925     </td><td>0.6785092508561867    </td><td>-0.9543394340331204   </td><td>0.050168458406286    </td><td>0.6468439239212697   </td><td>-0.2976982900287009  </td><td>0.7728184715385957   </td><td>1.713317917922704     </td><td>-1.140223542203987   </td><td>0.7727234592758241   </td><td>1.5215721377148397    </td><td>-0.7508437988394825  </td><td>0.8437696916361329     </td><td>-0.36061465362326717  </td><td>0.4472078153163445     </td><td>-0.2582600690930742   </td><td>-0.08879620764046937   </td><td>1.3402048055976703   </td><td>-0.2038399704959332  </td><td>-0.5631228262981368    </td><td>1.2372235351432836    </td><td>-0.30143966012116136  </td><td>-0.057207322445492294 </td><td>-0.6879960281378367    </td><td>-0.497247268293243    </td><td>-0.2666930159099145   </td><td>-0.14533563381575337  </td><td>0.17593691469147626  </td><td>-0.2552831361490737  </td><td>-0.0922119210813902  </td><td>0.891638363131073     </td></tr>\n",
       "<tr><td>3      </td><td>1464.0            </td><td>RL        </td><td>Pave    </td><td>nan    </td><td>IR1       </td><td>Lvl          </td><td>AllPub     </td><td>Inside     </td><td>Gtl        </td><td>Gilbert       </td><td>Norm        </td><td>Norm        </td><td>1Fam      </td><td>2Story      </td><td>Gable      </td><td>CompShg   </td><td>VinylSd      </td><td>VinylSd      </td><td>BrkFace     </td><td>TA         </td><td>TA         </td><td>PConc       </td><td>TA        </td><td>TA        </td><td>No            </td><td>GLQ           </td><td>Unf           </td><td>GasA     </td><td>Ex         </td><td>Y           </td><td>SBrkr       </td><td>Gd           </td><td>Typ         </td><td>Gd           </td><td>Attchd      </td><td>Fin           </td><td>TA          </td><td>TA          </td><td>Y           </td><td>nan     </td><td>nan    </td><td>nan          </td><td>WD        </td><td>Normal         </td><td>0.6294597998902918  </td><td>-0.8187249144400626  </td><td>0.2826698186845079    </td><td>-0.08045552704190534 </td><td>0.061329825561680235 </td><td>0.3014157043863087    </td><td>0.6226292036470501     </td><td>0.6785092508561867    </td><td>-0.5266767339539079   </td><td>-0.02311281723006104 </td><td>0.6468439239212697   </td><td>-0.2976982900287009  </td><td>0.7728184715385957   </td><td>1.713317917922704     </td><td>-0.038267603977700564</td><td>0.3575834042477112   </td><td>0.1830839197537372    </td><td>-0.054858346166798515</td><td>0.8766751759753053     </td><td>-0.36061465362326717  </td><td>0.3815285509361834     </td><td>-0.2582600690930742   </td><td>-0.08879620764046937   </td><td>1.793750413834787    </td><td>-0.2038399704959332  </td><td>-0.45012961973402327   </td><td>1.2372235351432836    </td><td>-0.30143966012116136  </td><td>-0.057207322445492294 </td><td>-0.6944820482723861    </td><td>0.4006286777956698    </td><td>-0.27120872196738477  </td><td>-0.10236811816485487  </td><td>0.17593691469147626  </td><td>0.4074536888357998   </td><td>-0.0922119210813902  </td><td>0.8369559076114386    </td></tr>\n",
       "<tr><td>4      </td><td>1465.0            </td><td>RL        </td><td>Pave    </td><td>nan    </td><td>IR1       </td><td>HLS          </td><td>AllPub     </td><td>Inside     </td><td>Gtl        </td><td>StoneBr       </td><td>Norm        </td><td>Norm        </td><td>TwnhsE    </td><td>1Story      </td><td>Gable      </td><td>CompShg   </td><td>HdBoard      </td><td>HdBoard      </td><td>None        </td><td>Gd         </td><td>TA         </td><td>PConc       </td><td>Gd        </td><td>TA        </td><td>No            </td><td>ALQ           </td><td>Unf           </td><td>GasA     </td><td>Ex         </td><td>Y           </td><td>SBrkr       </td><td>Gd           </td><td>Typ         </td><td>nan          </td><td>Attchd      </td><td>RFn           </td><td>TA          </td><td>TA          </td><td>Y           </td><td>nan     </td><td>nan    </td><td>nan          </td><td>WD        </td><td>Normal         </td><td>0.5870843303183942  </td><td>-0.8187249144400626  </td><td>0.26921044935008576   </td><td>-0.08045552704190534 </td><td>1.464941049004682    </td><td>0.3014157043863087    </td><td>-0.4621021355852047    </td><td>0.3945590652746283    </td><td>1.0581909192808208    </td><td>0.19673100967898005  </td><td>-0.8977473772262465  </td><td>-0.2976982900287009  </td><td>0.7728184715385957   </td><td>1.713317917922704     </td><td>-1.8748608343548452  </td><td>-0.3870328849296976  </td><td>-1.544927998190334    </td><td>1.337112559178569    </td><td>0.6792422699402708     </td><td>-0.36061465362326717  </td><td>-0.4696747154307046    </td><td>-0.2582600690930742   </td><td>-0.08879620764046937   </td><td>-0.8450603977266182  </td><td>-0.2038399704959332  </td><td>-0.5631228262981368    </td><td>-0.750782123198182    </td><td>2.242291184270352     </td><td>-0.057207322445492294 </td><td>0.45354351554289923    </td><td>-0.497247268293243    </td><td>0.5280712502048636    </td><td>0.8858847418058103    </td><td>-1.029189651199902   </td><td>-0.9180199611339471  </td><td>-0.0922119210813902  </td><td>-0.7749877811847421   </td></tr>\n",
       "<tr><td>5      </td><td>1466.0            </td><td>RL        </td><td>Pave    </td><td>nan    </td><td>IR1       </td><td>Lvl          </td><td>AllPub     </td><td>Corner     </td><td>Gtl        </td><td>Gilbert       </td><td>Norm        </td><td>Norm        </td><td>1Fam      </td><td>2Story      </td><td>Gable      </td><td>CompShg   </td><td>HdBoard      </td><td>HdBoard      </td><td>None        </td><td>TA         </td><td>TA         </td><td>PConc       </td><td>Gd        </td><td>TA        </td><td>No            </td><td>Unf           </td><td>Unf           </td><td>GasA     </td><td>Gd         </td><td>Y           </td><td>SBrkr       </td><td>TA           </td><td>Typ         </td><td>TA           </td><td>Attchd      </td><td>Fin           </td><td>TA          </td><td>TA          </td><td>Y           </td><td>nan     </td><td>nan    </td><td>nan          </td><td>WD        </td><td>Normal         </td><td>0.5527988049690279  </td><td>-0.8187249144400626  </td><td>0.27145367757248945   </td><td>-0.08045552704190534 </td><td>0.061329825561680235 </td><td>0.3014157043863087    </td><td>0.5296522317128569     </td><td>0.4892091271351478    </td><td>0.47730147639247866   </td><td>-0.20631600632092859 </td><td>0.6468439239212697   </td><td>-0.2976982900287009  </td><td>0.7728184715385957   </td><td>1.713317917922704     </td><td>-0.7729048961285583  </td><td>-0.9647145488047963  </td><td>0.1907284526704413    </td><td>-0.054858346166798515</td><td>0.7121477542794432     </td><td>-0.36061465362326717  </td><td>0.515514250271712      </td><td>-0.2582600690930742   </td><td>-0.08879620764046937   </td><td>0.7732727953012749   </td><td>-0.2038399704959332  </td><td>-0.5631228262981368    </td><td>1.2372235351432836    </td><td>-0.30143966012116136  </td><td>-0.057207322445492294 </td><td>-1.2230926892381815    </td><td>-0.497247268293243    </td><td>-0.6392387656512167   </td><td>0.9288522574567091    </td><td>0.17593691469147626  </td><td>0.4074536888357998   </td><td>-0.0922119210813902  </td><td>1.345740493750646     </td></tr>\n",
       "<tr><td>6      </td><td>1467.0            </td><td>RL        </td><td>Pave    </td><td>nan    </td><td>IR1       </td><td>Lvl          </td><td>AllPub     </td><td>Inside     </td><td>Gtl        </td><td>Gilbert       </td><td>Norm        </td><td>Norm        </td><td>1Fam      </td><td>1Story      </td><td>Gable      </td><td>CompShg   </td><td>HdBoard      </td><td>HdBoard      </td><td>None        </td><td>TA         </td><td>Gd         </td><td>PConc       </td><td>Gd        </td><td>TA        </td><td>No            </td><td>ALQ           </td><td>Unf           </td><td>GasA     </td><td>Ex         </td><td>Y           </td><td>SBrkr       </td><td>TA           </td><td>Typ         </td><td>nan          </td><td>Attchd      </td><td>Fin           </td><td>TA          </td><td>TA          </td><td>Y           </td><td>nan     </td><td>GdPrv  </td><td>Shed         </td><td>WD        </td><td>Normal         </td><td>0.3477045645752534  </td><td>1.0657651334891178   </td><td>0.26921044935008576   </td><td>-0.08045552704190534 </td><td>-0.8744109900669876  </td><td>0.3014157043863087    </td><td>-1.7947720666419749    </td><td>1.1044345292285245    </td><td>-0.7347906682170542   </td><td>-0.3284514657148404  </td><td>-0.8977473772262465  </td><td>-0.2976982900287009  </td><td>0.7728184715385957   </td><td>1.713317917922704     </td><td>-1.140223542203987   </td><td>1.089020644059148    </td><td>-0.511178660590573    </td><td>-0.054858346166798515</td><td>0.6792422699402708     </td><td>-0.36061465362326717  </td><td>-0.7140015789249038    </td><td>-0.2582600690930742   </td><td>-0.08879620764046937   </td><td>1.793750413834787    </td><td>-0.2038399704959332  </td><td>-0.5631228262981368    </td><td>-0.750782123198182    </td><td>-0.30143966012116136  </td><td>-0.057207322445492294 </td><td>0.1519435792863412     </td><td>1.2985046238845823    </td><td>0.2751917109865251    </td><td>-0.42462448554659354  </td><td>0.17593691469147626  </td><td>-0.2552831361490737  </td><td>0.7004235724422898   </td><td>-0.7749877811847421   </td></tr>\n",
       "<tr><td>7      </td><td>1468.0            </td><td>RL        </td><td>Pave    </td><td>nan    </td><td>IR1       </td><td>Lvl          </td><td>AllPub     </td><td>Inside     </td><td>Gtl        </td><td>Gilbert       </td><td>Norm        </td><td>Norm        </td><td>1Fam      </td><td>2Story      </td><td>Gable      </td><td>CompShg   </td><td>VinylSd      </td><td>VinylSd      </td><td>None        </td><td>TA         </td><td>TA         </td><td>PConc       </td><td>Gd        </td><td>TA        </td><td>No            </td><td>Unf           </td><td>Unf           </td><td>GasA     </td><td>Gd         </td><td>Y           </td><td>SBrkr       </td><td>TA           </td><td>Typ         </td><td>Gd           </td><td>Attchd      </td><td>Fin           </td><td>TA          </td><td>TA          </td><td>Y           </td><td>nan     </td><td>nan    </td><td>nan          </td><td>WD        </td><td>Normal         </td><td>0.9784079051585344  </td><td>-0.8187249144400626  </td><td>0.2826698186845079    </td><td>-0.08045552704190534 </td><td>0.061329825561680235 </td><td>0.3014157043863087    </td><td>0.1577443439760838     </td><td>0.6785092508561867    </td><td>0.5367626004676633    </td><td>-0.49333433589662107 </td><td>0.6468439239212697   </td><td>-0.2976982900287009  </td><td>0.7728184715385957   </td><td>1.713317917922704     </td><td>-0.40558625005312937 </td><td>-0.9647145488047963  </td><td>-0.36454262009743044  </td><td>-0.054858346166798515</td><td>0.8766751759753053     </td><td>-0.36061465362326717  </td><td>0.016351840982487636   </td><td>-0.2582600690930742   </td><td>-0.08879620764046937   </td><td>-0.8450603977266182  </td><td>-0.2038399704959332  </td><td>-0.5631228262981368    </td><td>1.2372235351432836    </td><td>-0.30143966012116136  </td><td>-0.057207322445492294 </td><td>-1.1387744274890363    </td><td>-0.497247268293243    </td><td>-0.5805345869041024   </td><td>0.7354984370276657    </td><td>0.17593691469147626  </td><td>0.4074536888357998   </td><td>-0.0922119210813902  </td><td>0.8322009114792965    </td></tr>\n",
       "<tr><td>8      </td><td>1469.0            </td><td>RL        </td><td>Pave    </td><td>nan    </td><td>Reg       </td><td>Lvl          </td><td>AllPub     </td><td>Inside     </td><td>Gtl        </td><td>Gilbert       </td><td>Norm        </td><td>Norm        </td><td>1Fam      </td><td>1Story      </td><td>Gable      </td><td>CompShg   </td><td>HdBoard      </td><td>HdBoard      </td><td>None        </td><td>TA         </td><td>TA         </td><td>PConc       </td><td>Gd        </td><td>TA        </td><td>Gd            </td><td>GLQ           </td><td>Unf           </td><td>GasA     </td><td>Gd         </td><td>Y           </td><td>SBrkr       </td><td>Gd           </td><td>Typ         </td><td>Po           </td><td>Attchd      </td><td>Unf           </td><td>TA          </td><td>TA          </td><td>Y           </td><td>nan     </td><td>nan    </td><td>nan          </td><td>WD        </td><td>Normal         </td><td>0.7506228742237744  </td><td>1.0657651334891178   </td><td>0.26472399290527837   </td><td>-0.08045552704190534 </td><td>-0.8744109900669876  </td><td>0.3014157043863087    </td><td>0.8395754714935011     </td><td>0.2999090034141088    </td><td>0.24860484533407626   </td><td>0.19673100967898005  </td><td>0.6468439239212697   </td><td>-0.2976982900287009  </td><td>-1.0283670715521567  </td><td>1.713317917922704     </td><td>-1.5075421882794162  </td><td>0.43446119221588025  </td><td>0.25188471600407425   </td><td>0.6411271065058853   </td><td>0.613431301261926      </td><td>-0.36061465362326717  </td><td>-0.3094173103431115    </td><td>-0.2582600690930742   </td><td>-0.08879620764046937   </td><td>1.1340477109444358   </td><td>-0.2038399704959332  </td><td>-0.5631228262981368    </td><td>1.2372235351432836    </td><td>-0.30143966012116136  </td><td>-0.057207322445492294 </td><td>0.6513671296466631     </td><td>-0.497247268293243    </td><td>0.5732283107795669    </td><td>-0.8757833998810277   </td><td>-1.029189651199902   </td><td>-0.9180199611339471  </td><td>-0.0922119210813902  </td><td>-0.7749877811847421   </td></tr>\n",
       "<tr><td>9      </td><td>1470.0            </td><td>RL        </td><td>Pave    </td><td>nan    </td><td>Reg       </td><td>Lvl          </td><td>AllPub     </td><td>Corner     </td><td>Gtl        </td><td>NAmes         </td><td>Norm        </td><td>Norm        </td><td>1Fam      </td><td>1Story      </td><td>Gable      </td><td>CompShg   </td><td>Plywood      </td><td>Plywood      </td><td>None        </td><td>TA         </td><td>TA         </td><td>CBlock      </td><td>TA        </td><td>TA        </td><td>No            </td><td>ALQ           </td><td>Rec           </td><td>GasA     </td><td>TA         </td><td>Y           </td><td>SBrkr       </td><td>TA           </td><td>Typ         </td><td>nan          </td><td>Attchd      </td><td>Fin           </td><td>TA          </td><td>TA          </td><td>Y           </td><td>nan     </td><td>MnPrv  </td><td>nan          </td><td>WD        </td><td>Normal         </td><td>0.3214584014814224  </td><td>1.0657651334891178   </td><td>0.2198594284572045    </td><td>-0.08045552704190534 </td><td>-0.8744109900669876  </td><td>0.3014157043863087    </td><td>0.3746906118225348     </td><td>-0.6465916151910861   </td><td>-1.2676538185831319   </td><td>0.3127596961031962   </td><td>-0.8977473772262465  </td><td>0.1435931806007909   </td><td>-1.0283670715521567  </td><td>1.713317917922704     </td><td>-0.7729048961285583  </td><td>0.8012780662354296   </td><td>-0.3652375776353126   </td><td>-1.4468292515121663  </td><td>-0.044678385521522083  </td><td>-0.36061465362326717  </td><td>-1.3734213933017212    </td><td>-0.2582600690930742   </td><td>-0.08879620764046937   </td><td>1.6288247381121992   </td><td>-0.2038399704959332  </td><td>-0.5631228262981368    </td><td>-0.750782123198182    </td><td>-0.30143966012116136  </td><td>-0.057207322445492294 </td><td>-0.8371744912324782    </td><td>-0.497247268293243    </td><td>-0.3705542552317321   </td><td>-0.8757833998810277   </td><td>-1.029189651199902   </td><td>-1.5807567861188203  </td><td>-0.0922119210813902  </td><td>-0.7749877811847421   </td></tr>\n",
       "</tbody>\n",
       "</table>"
      ]
     },
     "metadata": {},
     "output_type": "display_data"
    }
   ],
   "source": [
    "train.describe()\n",
    "print('--------------------------------------------------------------')\n",
    "test.describe()"
   ]
  },
  {
   "cell_type": "markdown",
   "metadata": {},
   "source": [
    "Drop additional dataframe, saving the space"
   ]
  },
  {
   "cell_type": "code",
   "execution_count": 50,
   "metadata": {
    "collapsed": true
   },
   "outputs": [],
   "source": [
    "ls=[_tr,_ts]\n",
    "del _tr,_ts\n",
    "del ls"
   ]
  },
  {
   "cell_type": "code",
   "execution_count": 51,
   "metadata": {
    "collapsed": false
   },
   "outputs": [
    {
     "name": "stdout",
     "output_type": "stream",
     "text": [
      "(1001, 81)\n",
      "(459, 81)\n"
     ]
    }
   ],
   "source": [
    "train, valid = train.split_frame([0.7], seed=12345)\n",
    "print(train.shape)\n",
    "print(valid.shape)"
   ]
  },
  {
   "cell_type": "markdown",
   "metadata": {},
   "source": [
    "### Feature Combining and extraction"
   ]
  },
  {
   "cell_type": "code",
   "execution_count": null,
   "metadata": {
    "collapsed": true
   },
   "outputs": [],
   "source": [
    "# def glrm_cat_embed(frame):\n",
    "    \n",
    "    \"\"\" Helper function for embedding caetgorical variables using GLRM.\n",
    "    \n",
    "    :param frame: H2OFrame to be embedded.\n",
    "    :return: H2OFrame of embedded categorical features.\n",
    "    \n",
    "    \"\"\"\n",
    "    \n",
    "    # initialize GLRM\n",
    "    #cat_embed_glrm = H2OGeneralizedLowRankEstimator(\n",
    "        #k=50,\n",
    "        #transform='STANDARDIZE',\n",
    "        #loss='Quadratic',\n",
    "        #regularization_x='Quadratic',\n",
    "        #regularization_y='L1',\n",
    "        #gamma_x=0.25,\n",
    "        #gamma_y=0.5)\n",
    "\n",
    "    # train GLRM\n",
    "    #cat_embed_glrm.train(training_frame=frame, x=cats)\n",
    "\n",
    "    # plot iteration history to ensure convergence\n",
    "    #cat_embed_glrm.score_history().plot(x='iteration', y='objective', title='GLRM Score History')\n",
    "\n",
    "    # extracted embedded features\n",
    "    #cat_embed = h2o.get_frame(cat_embed_glrm._model_json['output']['representation_name'])\n",
    "    \n",
    "    #return cat_embed"
   ]
  },
  {
   "cell_type": "code",
   "execution_count": null,
   "metadata": {
    "collapsed": true
   },
   "outputs": [],
   "source": [
    "#train_cat_embed = glrm_cat_embed(train)"
   ]
  },
  {
   "cell_type": "code",
   "execution_count": null,
   "metadata": {
    "collapsed": true
   },
   "outputs": [],
   "source": [
    "#valid_cat_embed = glrm_cat_embed(valid)"
   ]
  },
  {
   "cell_type": "code",
   "execution_count": null,
   "metadata": {
    "collapsed": true
   },
   "outputs": [],
   "source": [
    "#test_cat_embed = glrm_cat_embed(test)"
   ]
  },
  {
   "cell_type": "markdown",
   "metadata": {},
   "source": [
    "F. Combine Feature-Engineered Categorical Variables and Imputed Numeric Variables"
   ]
  },
  {
   "cell_type": "code",
   "execution_count": null,
   "metadata": {
    "collapsed": true
   },
   "outputs": [],
   "source": [
    "#def get_type_lists(frame=train_new, rejects=['Id', 'SalePrice']):\n",
    "\n",
    "    \"\"\"Creates lists of numeric and categorical variables.\n",
    "    :param frame: The frame from which to determine types.\n",
    "    :param rejects: Variable names not to be included in returned lists.\n",
    "    :return: Tuple of lists for numeric and categorical variables in the frame.\n",
    "    \"\"\"\n",
    "    \n",
    "    #nums, cats = [], []\n",
    "    #for key, val in frame.types.items():\n",
    "        #if key not in rejects:\n",
    "            #if val == 'enum':\n",
    "                #cats.append(key)\n",
    "            #else: \n",
    "                #nums.append(key)\n",
    "                \n",
    "    #print('Numeric =', nums)                \n",
    "    #print()\n",
    "    #print('Categorical =', cats)\n",
    "    \n",
    "    #return nums, cats"
   ]
  },
  {
   "cell_type": "code",
   "execution_count": null,
   "metadata": {
    "collapsed": true
   },
   "outputs": [],
   "source": [
    "train_newer = train[['Id', 'SalePrice']].cbind(train_new)\n",
    "#imputed_embedded_valid = valid[['Id', 'SalePrice']].cbind(valid_num_impute).cbind(valid_cat_embed)\n",
    "#imputed_embedded_test = test[['Id', 'SalePrice']].cbind(test_num_impute).cbind(test_cat_embed)"
   ]
  },
  {
   "cell_type": "code",
   "execution_count": null,
   "metadata": {
    "collapsed": false
   },
   "outputs": [],
   "source": [
    "print(train_new.shape)\n",
    "#print(imputed_embedded_valid.shape)\n",
    "#print(imputed_embedded_test.shape)"
   ]
  },
  {
   "cell_type": "code",
   "execution_count": null,
   "metadata": {
    "collapsed": true
   },
   "outputs": [],
   "source": [
    "#def target_encoder(training_frame, test_frame, x, y, lambda_=0.15, threshold=150, test=False):\n",
    "\n",
    "    \"\"\" Applies simple target encoding to categorical variables.\n",
    "\n",
    "    :param training_frame: Training frame which to create target means and to be encoded.\n",
    "    :param test_frame: Test frame to be encoded using information from training frame.\n",
    "    :param x: Name of input variable to be encoded.\n",
    "    :param y: Name of target variable to use for encoding.\n",
    "    :param lambda_: Balance between level mean and overall mean for small groups.\n",
    "    :param threshold: Number below which a level is considered small enough to be shrunken.\n",
    "    :param test: Whether or not to print the row_val_dict for testing purposes.\n",
    "    :return: Tuple of encoded variable from train and test set as H2OFrames.\n",
    "\n",
    "    \"\"\"\n",
    "\n",
    "    # convert to pandas\n",
    "    #trdf = training_frame.as_data_frame().loc[:, [x,y]] # df\n",
    "    #tss = test_frame.as_data_frame().loc[:, x]          # series\n",
    "\n",
    "\n",
    "    # create dictionary of level:encode val\n",
    "\n",
    "    #encode_name = x + '_Tencode'\n",
    "    #overall_mean = trdf[y].mean()\n",
    "    #row_val_dict = {}\n",
    "\n",
    "    #for level in trdf[x].unique():\n",
    "        #level_df = trdf[trdf[x] == level][y]\n",
    "        #level_n = level_df.shape[0]\n",
    "        #level_mean = level_df.mean()\n",
    "        #if level_n >= threshold:\n",
    "            #row_val_dict[level] = level_mean\n",
    "        #else:\n",
    "            #row_val_dict[level] = ((1 - lambda_) * level_mean) +\\\n",
    "                                  #(lambda_ * overall_mean)\n",
    "\n",
    "    #row_val_dict[np.nan] = overall_mean # handle missing values\n",
    "\n",
    "    #if test:\n",
    "        #print(row_val_dict)\n",
    "\n",
    "    # apply the transform to training data\n",
    "    #trdf[encode_name] = trdf[x].apply(lambda i: row_val_dict[i])\n",
    "\n",
    "    # apply the transform to test data\n",
    "    #tsdf = pd.DataFrame(columns=[x, encode_name])\n",
    "    #tsdf[x] = tss\n",
    "    #tsdf.loc[:, encode_name] = overall_mean # handle previously unseen values\n",
    "    # handle values that are seen in tsdf but not row_val_dict\n",
    "    #for i, col_i in enumerate(tsdf[x]):\n",
    "        #try:\n",
    "            #row_val_dict[col_i]\n",
    "        #except:\n",
    "            # a value that appeared in tsdf isn't in the row_val_dict so just\n",
    "            # make it the overall_mean\n",
    "            #row_val_dict[col_i] = overall_mean\n",
    "    #tsdf[encode_name] = tsdf[x].apply(lambda i: row_val_dict[i])\n",
    "\n",
    "\n",
    "    # convert back to H2O\n",
    "\n",
    "    #trdf = h2o.H2OFrame(trdf[encode_name].as_matrix())\n",
    "    #trdf.columns = [encode_name]\n",
    "\n",
    "    #tsdf = h2o.H2OFrame(tsdf[encode_name].as_matrix())\n",
    "    #tsdf.columns = [encode_name]\n",
    "\n",
    "    #return (trdf, tsdf)"
   ]
  },
  {
   "cell_type": "code",
   "execution_count": null,
   "metadata": {
    "collapsed": false
   },
   "outputs": [],
   "source": [
    "#total = len(cats)\n",
    "#for i, var in enumerate(cats):\n",
    "    \n",
    "    #tr_enc, _ = target_encoder(train, test, var, 'SalePrice')\n",
    "    #v_enc, ts_enc = target_encoder(valid, test, var, 'SalePrice')\n",
    "    \n",
    "    #print('Encoding: ' + var + ' (' + str(i+1) + '/' + str(total) + ') ...')\n",
    "\n",
    "    #train = train.cbind(tr_enc)\n",
    "    #valid = valid.cbind(v_enc)\n",
    "    #test = test.cbind(ts_enc)    \n",
    "    \n",
    "#print('Done.')"
   ]
  },
  {
   "cell_type": "code",
   "execution_count": null,
   "metadata": {
    "collapsed": false
   },
   "outputs": [],
   "source": [
    "#encoded_nums, cats = get_type_lists(frame=train)"
   ]
  },
  {
   "cell_type": "code",
   "execution_count": null,
   "metadata": {
    "collapsed": false
   },
   "outputs": [],
   "source": [
    "#print('Imputed and encoded numeric training data:')\n",
    "#train[encoded_nums].describe() #79 numeric columns w/ no missing\n",
    "#print('--------------------------------------------------------------------------------')\n",
    "#print('Imputed and encoded numeric validation data:')\n",
    "#valid[encoded_nums].describe() #79 numeric columns w/ no missing\n",
    "#print('--------------------------------------------------------------------------------')\n",
    "#print('Imputed and encoded numeric test data:')\n",
    "#test[encoded_nums].describe() #79 numeric columns w/ no missing"
   ]
  },
  {
   "cell_type": "markdown",
   "metadata": {
    "collapsed": true
   },
   "source": [
    "G. Create Combination Features and Validate Newly-Created Variables"
   ]
  },
  {
   "cell_type": "code",
   "execution_count": null,
   "metadata": {
    "collapsed": true
   },
   "outputs": [],
   "source": [
    "def feature_combiner(training_frame, test_frame, nums):\n",
    "    \n",
    "    \"\"\" Combines numeric features using simple arithmatic operations.\n",
    "    \n",
    "    :param training_frame: Training frame from which to generate features and onto which generated \n",
    "                           feeatures will be cbound.\n",
    "    :param test_frame: Test frame from which to generate features and onto which generated \n",
    "                       feeatures will be cbound.\n",
    "    :param nums: List of original numeric features from which to generate combined features.\n",
    "    \n",
    "    \"\"\"\n",
    "\n",
    "    total = len(nums)\n",
    "    \n",
    "    # convert to pandas\n",
    "    train_df = training_frame.as_data_frame()\n",
    "    test_df = test_frame.as_data_frame()\n",
    "    \n",
    "    for i, col_i in enumerate(nums):\n",
    "        \n",
    "        print('Combining: ' + col_i + ' (' + str(i+1) + '/' + str(total) + ') ...')        \n",
    "        \n",
    "        for j, col_j in enumerate(nums):\n",
    "            \n",
    "            # don't repeat (i*j = j*i)\n",
    "            if i < j:\n",
    "                \n",
    "                # convert to pandas\n",
    "                col_i_train_df = train_df[col_i]\n",
    "                col_j_train_df = train_df[col_j]\n",
    "                col_i_test_df = test_df[col_i]\n",
    "                col_j_test_df = test_df[col_j] \n",
    "\n",
    "                # multiply, convert back to h2o\n",
    "                train_df[str(col_i + '|' + col_j)] = col_i_train_df.values*col_j_train_df.values\n",
    "                test_df[str(col_i + '|' + col_j)] = col_i_test_df.values*col_j_test_df.values\n",
    "                \n",
    "    print('Done.')\n",
    "    \n",
    "    # convert back to h2o\n",
    "    \n",
    "    print('Converting to H2OFrame ...')\n",
    "    \n",
    "    training_frame = h2o.H2OFrame(train_df)\n",
    "    training_frame.columns = list(train_df)\n",
    "    test_frame = h2o.H2OFrame(test_df)\n",
    "    test_frame.columns = list(test_df)\n",
    "    \n",
    "    print('Done.')\n",
    "    print()\n",
    "    \n",
    "    # conserve memory \n",
    "    del train_df\n",
    "    del test_df \n",
    "    \n",
    "    return training_frame, test_frame"
   ]
  },
  {
   "cell_type": "code",
   "execution_count": null,
   "metadata": {
    "collapsed": false
   },
   "outputs": [],
   "source": [
    "train, _ = feature_combiner(train, test, train_new)\n",
    "valid, test = feature_combiner(valid, test, train_new)"
   ]
  },
  {
   "cell_type": "code",
   "execution_count": null,
   "metadata": {
    "collapsed": false
   },
   "outputs": [],
   "source": [
    "encoded_combined_nums, cats = get_type_lists(frame=train)"
   ]
  },
  {
   "cell_type": "code",
   "execution_count": null,
   "metadata": {
    "collapsed": false
   },
   "outputs": [],
   "source": [
    "# check number of created variables is correct\n",
    "# 1 id column, 1 target column, 79 original + encoded numeric columns, 43 original categorical variables\n",
    "# sum(range(1, 79)) combined variables\n",
    "print(train.shape == (1001, sum(range(1, 79), (79 + 43 + 1 + 1))))\n",
    "print(test.shape == (1459, sum(range(1, 79), (79 + 43 + 1 + 1))))"
   ]
  },
  {
   "cell_type": "code",
   "execution_count": null,
   "metadata": {
    "collapsed": false
   },
   "outputs": [],
   "source": [
    "# check multiplication for a random column\n",
    "ridx = np.random.choice(sum(range(1, 79)))\n",
    "combined_only = [name for name in encoded_combined_nums if name not in encoded_nums]\n",
    "combined_check_vars = combined_only[ridx].split('|')\n",
    "combined_check_vars.append(combined_only[ridx])\n",
    "\n",
    "print(train[736, combined_check_vars])\n",
    "print(test[637, combined_check_vars])\n",
    "\n",
    "print(train[736, combined_check_vars[0]]*train[736, combined_check_vars[1]])\n",
    "print(test[637, combined_check_vars[0]]*test[637, combined_check_vars[1]])"
   ]
  },
  {
   "cell_type": "markdown",
   "metadata": {},
   "source": [
    "H. Log-transform Sales Price"
   ]
  },
  {
   "cell_type": "code",
   "execution_count": null,
   "metadata": {
    "collapsed": true
   },
   "outputs": [],
   "source": [
    "h2o.show_progress() # turn on progress bars"
   ]
  },
  {
   "cell_type": "code",
   "execution_count": null,
   "metadata": {
    "collapsed": false
   },
   "outputs": [],
   "source": [
    "# Check log transform - looks good\n",
    "%matplotlib inline\n",
    "train['SalePrice'].log().as_data_frame().hist()\n",
    "\n",
    "# Execute log transform\n",
    "train['SalePrice'] = train['SalePrice'].log()\n",
    "valid['SalePrice'] = valid['SalePrice'].log()\n",
    "print(train[0:3, 'SalePrice'])"
   ]
  },
  {
   "cell_type": "markdown",
   "metadata": {},
   "source": [
    "### GLM"
   ]
  },
  {
   "cell_type": "code",
   "execution_count": null,
   "metadata": {
    "collapsed": true
   },
   "outputs": [],
   "source": [
    "h2o.show_progress()                                          # turn on progress bars\n",
    "from h2o.estimators.glm import H2OGeneralizedLinearEstimator # import GLM models\n",
    "from h2o.grid.grid_search import H2OGridSearch               "
   ]
  },
  {
   "cell_type": "code",
   "execution_count": null,
   "metadata": {
    "collapsed": true
   },
   "outputs": [],
   "source": [
    "half_train, other_half_train = train.split_frame([0.5], seed=12345)\n",
    "half_valid, other_half_valid = valid.split_frame([0.5], seed=12345)\n",
    "print(half_train.shape)\n",
    "print(half_valid.shape)\n",
    "print(other_half_train.shape)\n",
    "print(other_half_valid.shape)\n",
    "# no idea why this works better, but it does ... \n",
    "# could be a lucky split that happens to be more representative of test data\n",
    "# could be that it just prevents overfitting"
   ]
  },
  {
   "cell_type": "code",
   "execution_count": null,
   "metadata": {
    "collapsed": true
   },
   "outputs": [],
   "source": [
    "def glm_grid(X, y, train, valid):\n",
    "    \n",
    "    \"\"\" Wrapper function for penalized GLM with alpha and lambda search.\n",
    "    \n",
    "    :param X: List of inputs.\n",
    "    :param y: Name of target variable.\n",
    "    :param train: Name of training H2OFrame.\n",
    "    :param valid: Name of validation H2OFrame.\n",
    "    :return: Best H2Omodel from H2OGeneralizedLinearEstimator\n",
    "\n",
    "    \"\"\"\n",
    "    \n",
    "    alpha_opts = [0.01, 0.25, 0.5, 0.99] # always keep some L2\n",
    "    hyper_parameters = {\"alpha\":alpha_opts}\n",
    "\n",
    "    # initialize grid search\n",
    "    grid = H2OGridSearch(\n",
    "        H2OGeneralizedLinearEstimator(\n",
    "            family=\"gaussian\",\n",
    "            lambda_search=True,\n",
    "            seed=12345),\n",
    "        hyper_params=hyper_parameters)\n",
    "    \n",
    "    # train grid\n",
    "    grid.train(y=y,\n",
    "               x=X, \n",
    "               training_frame=train,\n",
    "               validation_frame=valid)\n",
    "\n",
    "    # show grid search results\n",
    "    print(grid.show())\n",
    "\n",
    "    best = grid.get_grid()[0]\n",
    "    print(best)\n",
    "    \n",
    "    # plot top frame values\n",
    "    yhat_frame = valid.cbind(best.predict(valid))\n",
    "    print(yhat_frame[0:10, [y, 'predict']])\n",
    "\n",
    "    # plot sorted predictions\n",
    "    yhat_frame_df = yhat_frame[[y, 'predict']].as_data_frame()\n",
    "    yhat_frame_df.sort_values(by='predict', inplace=True)\n",
    "    yhat_frame_df.reset_index(inplace=True, drop=True)\n",
    "    _ = yhat_frame_df.plot(title='Ranked Predictions Plot')\n",
    "    \n",
    "    # select best model\n",
    "    return best\n"
   ]
  },
  {
   "cell_type": "code",
   "execution_count": null,
   "metadata": {
    "collapsed": true
   },
   "outputs": [],
   "source": [
    "glm0_0 = glm_grid(original_nums, 'SalePrice', half_train, half_valid)\n",
    "#gen_submission(glm0_0) # Valid RMSE: 0.1325"
   ]
  },
  {
   "cell_type": "code",
   "execution_count": null,
   "metadata": {
    "collapsed": true
   },
   "outputs": [],
   "source": [
    "glm0_1 = glm_grid(original_nums, 'SalePrice', other_half_train, other_half_valid)\n",
    "gen_submission(glm0_1) # Valid RMSE: 0.11931"
   ]
  },
  {
   "cell_type": "code",
   "execution_count": null,
   "metadata": {
    "collapsed": true
   },
   "outputs": [],
   "source": [
    "glm1_0 = glm_grid(encoded_nums, 'SalePrice', half_train, half_valid)\n",
    "#gen_submission(glm1_0) # Valid RMSE: ~0.1231, ~0.1411 on public leaderb"
   ]
  },
  {
   "cell_type": "code",
   "execution_count": null,
   "metadata": {
    "collapsed": true
   },
   "outputs": [],
   "source": [
    "glm1_1 = glm_grid(encoded_nums, 'SalePrice', other_half_train, other_half_valid)\n",
    "#gen_submission(glm1_1) # Valid RMSE: ~0.11931"
   ]
  },
  {
   "cell_type": "markdown",
   "metadata": {},
   "source": [
    "I. Define Ranked Predictions Plot Function"
   ]
  },
  {
   "cell_type": "code",
   "execution_count": null,
   "metadata": {
    "collapsed": true
   },
   "outputs": [],
   "source": [
    "def ranked_preds_plot(y, valid, preds):\n",
    "    \n",
    "    \"\"\" Generates ranked prediction plot.\n",
    "    \n",
    "    :param y: Name of target variable.\n",
    "    :param valid: Name of validation H2OFrame.\n",
    "    :param preds: Column vector of predictions to plot.\n",
    "\n",
    "    \"\"\"\n",
    "    \n",
    "    # plot top frame values\n",
    "    preds.columns = ['predict']\n",
    "    yhat_frame = valid.cbind(preds)\n",
    "    print(yhat_frame[0:10, [y, 'predict']])\n",
    "\n",
    "    # plot sorted predictions\n",
    "    yhat_frame_df = yhat_frame[[y, 'predict']].as_data_frame()\n",
    "    yhat_frame_df.sort_values(by='predict', inplace=True)\n",
    "    yhat_frame_df.reset_index(inplace=True, drop=True)\n",
    "    _ = yhat_frame_df.plot(title='Ranked Predictions Plot')"
   ]
  },
  {
   "cell_type": "markdown",
   "metadata": {},
   "source": [
    "J. Define Function to Generate Submission File"
   ]
  },
  {
   "cell_type": "code",
   "execution_count": null,
   "metadata": {
    "collapsed": true
   },
   "outputs": [],
   "source": [
    "import re\n",
    "import time\n",
    "\n",
    "def gen_submission(preds, test=test):\n",
    "\n",
    "    \"\"\" Generates submission file for Kaggle House Prices contest.\n",
    "    \n",
    "    :param preds: Column vector of predictions.\n",
    "    :param test: Test data.\n",
    "    \n",
    "    \"\"\"\n",
    "    \n",
    "    # create time stamp\n",
    "    time_stamp = re.sub('[: ]', '_', time.asctime())\n",
    "\n",
    "    # create predictions column\n",
    "    sub = test['Id'].cbind(preds.exp())\n",
    "    sub.columns = ['Id', 'SalePrice']\n",
    "    \n",
    "    # save file for submission\n",
    "    sub_fname = '../data/submission_' + str(time_stamp) + '.csv'\n",
    "    h2o.download_csv(sub, sub_fname)"
   ]
  },
  {
   "cell_type": "markdown",
   "metadata": {},
   "source": [
    "K. Define Prediction Blending Function"
   ]
  },
  {
   "cell_type": "code",
   "execution_count": null,
   "metadata": {
    "collapsed": true
   },
   "outputs": [],
   "source": [
    "import os\n",
    "\n",
    "def pred_blender(dir_, files):\n",
    "    \n",
    "    \"\"\" Performs simple blending of prediction files. \n",
    "    \n",
    "    :param dir_: Directory in which files to be read are stored.\n",
    "    :param files: List of prediction files to be blended.\n",
    "    \n",
    "    \"\"\"\n",
    "    \n",
    "    # read predictions in files list and cbind\n",
    "    for i, file in enumerate(files):\n",
    "        if i == 0:\n",
    "            df = pd.read_csv(dir_ + os.sep + file).drop('SalePrice', axis=1)\n",
    "        col = pd.read_csv(dir_ + os.sep + file).drop('Id', axis=1)\n",
    "        col.columns = ['SalePrice' + str(i)]\n",
    "        df = pd.concat([df, col], axis=1)\n",
    "        \n",
    "    # create mean prediction    \n",
    "    df['mean'] = df.iloc[:, 1:].mean(axis=1)\n",
    "    print(df.head())\n",
    "        \n",
    "    # create time stamp\n",
    "    time_stamp = re.sub('[: ]', '_', time.asctime())        \n",
    "        \n",
    "    # write new submission file    \n",
    "    df = df[['Id', 'mean']]\n",
    "    df.columns = ['Id', 'SalePrice']\n",
    "    \n",
    "    # save file for submission\n",
    "    sub_fname = '../data/submission_' + str(time_stamp) + '.csv'\n",
    "    df.to_csv(sub_fname, index=False)"
   ]
  },
  {
   "cell_type": "markdown",
   "metadata": {},
   "source": [
    "N. H2O XGBoost"
   ]
  },
  {
   "cell_type": "code",
   "execution_count": null,
   "metadata": {
    "collapsed": false
   },
   "outputs": [],
   "source": [
    "# initialize XGB GBM\n",
    "h2o_xgb_model = H2OXGBoostEstimator(\n",
    "    ntrees = 10000,\n",
    "    learn_rate = 0.005,\n",
    "    sample_rate = 0.1, \n",
    "    col_sample_rate = 0.8,\n",
    "    max_depth = 5,\n",
    "    nfolds = 3,\n",
    "    keep_cross_validation_predictions=True,\n",
    "    stopping_rounds = 10,\n",
    "    seed = 12345)\n",
    "\n",
    "# execute training \n",
    "h2o_xgb_model.train(x=encoded_combined_nums,\n",
    "                    y='SalePrice',\n",
    "                    training_frame=train,\n",
    "                    validation_frame=valid)\n",
    "\n",
    "# print model information/create submission\n",
    "print(h2o_xgb_model)\n",
    "h2o_xgb_preds1_val = h2o_xgb_model.predict(valid)\n",
    "ranked_preds_plot('SalePrice', valid, h2o_xgb_preds1_val) \n",
    "h2o_xgb_preds1_test = h2o_xgb_model.predict(test)\n",
    "gen_submission(h2o_xgb_preds1_test) # 0.16494 on public leaderboard"
   ]
  },
  {
   "cell_type": "code",
   "execution_count": null,
   "metadata": {
    "collapsed": true
   },
   "outputs": [],
   "source": []
  }
 ],
 "metadata": {
  "anaconda-cloud": {},
  "kernelspec": {
   "display_name": "Python [Root]",
   "language": "python",
   "name": "Python [Root]"
  },
  "language_info": {
   "codemirror_mode": {
    "name": "ipython",
    "version": 3
   },
   "file_extension": ".py",
   "mimetype": "text/x-python",
   "name": "python",
   "nbconvert_exporter": "python",
   "pygments_lexer": "ipython3",
   "version": "3.5.2"
  }
 },
 "nbformat": 4,
 "nbformat_minor": 2
}
