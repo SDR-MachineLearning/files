{
 "cells": [
  {
   "cell_type": "code",
   "execution_count": 1,
   "metadata": {
    "collapsed": false
   },
   "outputs": [
    {
     "name": "stdout",
     "output_type": "stream",
     "text": [
      "Checking whether there is an H2O instance running at http://localhost:54321..... not found.\n",
      "Attempting to start a local H2O server...\n",
      "; Java HotSpot(TM) 64-Bit Server VM (build 25.131-b11, mixed mode)\n",
      "  Starting server from C:\\Users\\Soomin\\Anaconda3\\lib\\site-packages\\h2o\\backend\\bin\\h2o.jar\n",
      "  Ice root: C:\\Users\\Soomin\\AppData\\Local\\Temp\\tmpxbhryiuw\n",
      "  JVM stdout: C:\\Users\\Soomin\\AppData\\Local\\Temp\\tmpxbhryiuw\\h2o_Soomin_started_from_python.out\n",
      "  JVM stderr: C:\\Users\\Soomin\\AppData\\Local\\Temp\\tmpxbhryiuw\\h2o_Soomin_started_from_python.err\n",
      "  Server is running at http://127.0.0.1:54327\n",
      "Connecting to H2O server at http://127.0.0.1:54327... successful.\n"
     ]
    },
    {
     "data": {
      "text/html": [
       "<div style=\"overflow:auto\"><table style=\"width:50%\"><tr><td>H2O cluster uptime:</td>\n",
       "<td>08 secs</td></tr>\n",
       "<tr><td>H2O cluster version:</td>\n",
       "<td>3.10.5.2</td></tr>\n",
       "<tr><td>H2O cluster version age:</td>\n",
       "<td>8 days </td></tr>\n",
       "<tr><td>H2O cluster name:</td>\n",
       "<td>H2O_from_python_Soomin_wvgw3j</td></tr>\n",
       "<tr><td>H2O cluster total nodes:</td>\n",
       "<td>1</td></tr>\n",
       "<tr><td>H2O cluster free memory:</td>\n",
       "<td>3.539 Gb</td></tr>\n",
       "<tr><td>H2O cluster total cores:</td>\n",
       "<td>8</td></tr>\n",
       "<tr><td>H2O cluster allowed cores:</td>\n",
       "<td>8</td></tr>\n",
       "<tr><td>H2O cluster status:</td>\n",
       "<td>accepting new members, healthy</td></tr>\n",
       "<tr><td>H2O connection url:</td>\n",
       "<td>http://127.0.0.1:54327</td></tr>\n",
       "<tr><td>H2O connection proxy:</td>\n",
       "<td>None</td></tr>\n",
       "<tr><td>H2O internal security:</td>\n",
       "<td>False</td></tr>\n",
       "<tr><td>Python version:</td>\n",
       "<td>3.5.2 final</td></tr></table></div>"
      ],
      "text/plain": [
       "--------------------------  ------------------------------\n",
       "H2O cluster uptime:         08 secs\n",
       "H2O cluster version:        3.10.5.2\n",
       "H2O cluster version age:    8 days\n",
       "H2O cluster name:           H2O_from_python_Soomin_wvgw3j\n",
       "H2O cluster total nodes:    1\n",
       "H2O cluster free memory:    3.539 Gb\n",
       "H2O cluster total cores:    8\n",
       "H2O cluster allowed cores:  8\n",
       "H2O cluster status:         accepting new members, healthy\n",
       "H2O connection url:         http://127.0.0.1:54327\n",
       "H2O connection proxy:\n",
       "H2O internal security:      False\n",
       "Python version:             3.5.2 final\n",
       "--------------------------  ------------------------------"
      ]
     },
     "metadata": {},
     "output_type": "display_data"
    },
    {
     "name": "stderr",
     "output_type": "stream",
     "text": [
      "C:\\Users\\Soomin\\Anaconda3\\lib\\site-packages\\IPython\\core\\interactiveshell.py:2881: FutureWarning: \n",
      "mpl_style had been deprecated and will be removed in a future version.\n",
      "Use `matplotlib.pyplot.style.use` instead.\n",
      "\n",
      "  exec(code_obj, self.user_global_ns, self.user_ns)\n"
     ]
    }
   ],
   "source": [
    "import h2o\n",
    "from h2o.estimators.glrm import H2OGeneralizedLowRankEstimator\n",
    "from h2o.estimators.gbm import H2OGradientBoostingEstimator \n",
    "from h2o.estimators.random_forest import H2ORandomForestEstimator\n",
    "from h2o.grid.grid_search import H2OGridSearch \n",
    "from h2o.estimators.xgboost import H2OXGBoostEstimator\n",
    "from h2o.estimators.stackedensemble import H2OStackedEnsembleEstimator\n",
    "#import xgboost as xgb\n",
    "h2o.init() # give h2o as much memory as possible\n",
    "h2o.no_progress() # turn off h2o progress bars\n",
    "\n",
    "import numpy as np\n",
    "import pandas as pd\n",
    "import matplotlib.pyplot as plt\n",
    "from scipy.stats.mstats import winsorize\n",
    "import matplotlib.pyplot as plt\n",
    "pd.options.display.mpl_style = 'default'\n",
    "from pandas.tools.plotting import scatter_matrix\n",
    "import seaborn as sns\n",
    "sns.set()"
   ]
  },
  {
   "cell_type": "markdown",
   "metadata": {},
   "source": [
    "### Import Data & Create Sales Price Dummy Column in Test Dataset"
   ]
  },
  {
   "cell_type": "code",
   "execution_count": 2,
   "metadata": {
    "collapsed": false
   },
   "outputs": [
    {
     "name": "stdout",
     "output_type": "stream",
     "text": [
      "(1460, 81)\n",
      "(1459, 81)\n"
     ]
    }
   ],
   "source": [
    "trainori = h2o.import_file('train.csv')\n",
    "testori = h2o.import_file('test.csv')\n",
    "dummy_col = np.random.rand(testori.shape[0])\n",
    "testori = testori.cbind(h2o.H2OFrame(dummy_col))\n",
    "cols = testori.columns\n",
    "cols[-1] = 'SalePrice'\n",
    "testori.columns = cols\n",
    "print(trainori.shape)\n",
    "print(testori.shape)"
   ]
  },
  {
   "cell_type": "code",
   "execution_count": 3,
   "metadata": {
    "collapsed": false
   },
   "outputs": [],
   "source": [
    "excludevars = ['ID','SalePrice']\n",
    "def get_type_lists(frame, rejects=excludevars):\n",
    "\n",
    "    \"\"\"Creates lists of numeric and categorical variables.\n",
    "    :param frame: The frame from which to determine types.\n",
    "    :param rejects: Variable names not to be included in returned lists.\n",
    "    :return: Tuple of lists for numeric and categorical variables in the frame.\n",
    "    \"\"\"\n",
    "    \n",
    "    nums, cats = [], []\n",
    "    for key, val in frame.types.items():\n",
    "        if key not in rejects:\n",
    "            if val == 'enum':\n",
    "                cats.append(key)\n",
    "            else: \n",
    "                nums.append(key)\n",
    "                \n",
    "    print('Numeric =', nums)                \n",
    "    print()\n",
    "    print('Categorical =', cats)\n",
    "    \n",
    "    return nums, cats"
   ]
  },
  {
   "cell_type": "code",
   "execution_count": 4,
   "metadata": {
    "collapsed": false
   },
   "outputs": [
    {
     "name": "stdout",
     "output_type": "stream",
     "text": [
      "Numeric = ['OverallQual', 'TotRmsAbvGrd', 'GrLivArea', 'PoolArea', 'OpenPorchSF', 'EnclosedPorch', '3SsnPorch', 'LowQualFinSF', 'TotalBsmtSF', 'Fireplaces', 'YearRemodAdd', 'BedroomAbvGr', 'Id', 'OverallCond', 'MoSold', 'YearBuilt', 'BsmtFinSF1', 'GarageArea', 'FullBath', 'WoodDeckSF', 'GarageCars', 'BsmtFinSF2', 'MasVnrArea', 'BsmtFullBath', 'KitchenAbvGr', 'MiscVal', 'GarageYrBlt', 'LotArea', 'ScreenPorch', 'BsmtUnfSF', 'BsmtHalfBath', '2ndFlrSF', '1stFlrSF', 'LotFrontage', 'MSSubClass', 'HalfBath', 'YrSold']\n",
      "\n",
      "Categorical = ['Neighborhood', 'Alley', 'Exterior2nd', 'BsmtFinType2', 'GarageCond', 'SaleCondition', 'Heating', 'GarageQual', 'HeatingQC', 'HouseStyle', 'FireplaceQu', 'Fence', 'LotShape', 'BldgType', 'CentralAir', 'RoofMatl', 'MSZoning', 'PoolQC', 'BsmtExposure', 'Electrical', 'ExterCond', 'Utilities', 'BsmtFinType1', 'LandSlope', 'Functional', 'Exterior1st', 'BsmtCond', 'LotConfig', 'ExterQual', 'GarageFinish', 'LandContour', 'Condition2', 'Condition1', 'BsmtQual', 'SaleType', 'RoofStyle', 'Foundation', 'KitchenQual', 'Street', 'MasVnrType', 'GarageType', 'MiscFeature', 'PavedDrive']\n"
     ]
    }
   ],
   "source": [
    "original_nums, cats = get_type_lists(trainori)"
   ]
  },
  {
   "cell_type": "markdown",
   "metadata": {},
   "source": [
    "## Split into train and validation (before doing prep)"
   ]
  },
  {
   "cell_type": "code",
   "execution_count": 10,
   "metadata": {
    "collapsed": false
   },
   "outputs": [
    {
     "name": "stdout",
     "output_type": "stream",
     "text": [
      "(1001, 81)\n",
      "(459, 81)\n"
     ]
    }
   ],
   "source": [
    "train, valid = trainori.split_frame([0.7], seed=12345)\n",
    "print(train.shape)\n",
    "print(valid.shape)"
   ]
  },
  {
   "cell_type": "code",
   "execution_count": 5,
   "metadata": {
    "collapsed": false
   },
   "outputs": [
    {
     "name": "stdout",
     "output_type": "stream",
     "text": [
      "(1460, 81)\n"
     ]
    }
   ],
   "source": [
    "# do this first\n",
    "train = trainori\n",
    "test = testori\n",
    "print(train.shape)"
   ]
  },
  {
   "cell_type": "markdown",
   "metadata": {},
   "source": [
    "## Preprocessing"
   ]
  },
  {
   "cell_type": "code",
   "execution_count": 6,
   "metadata": {
    "collapsed": false
   },
   "outputs": [],
   "source": [
    "pandas_train = train.as_data_frame(use_pandas=True) #Convert to Pandas frame\n",
    "pandas_test = test.as_data_frame(use_pandas=True) \n"
   ]
  },
  {
   "cell_type": "code",
   "execution_count": 7,
   "metadata": {
    "collapsed": false
   },
   "outputs": [
    {
     "name": "stderr",
     "output_type": "stream",
     "text": [
      "C:\\Users\\Soomin\\Anaconda3\\lib\\site-packages\\ipykernel\\__main__.py:5: SettingWithCopyWarning: \n",
      "A value is trying to be set on a copy of a slice from a DataFrame\n",
      "\n",
      "See the caveats in the documentation: http://pandas.pydata.org/pandas-docs/stable/indexing.html#indexing-view-versus-copy\n",
      "C:\\Users\\Soomin\\Anaconda3\\lib\\site-packages\\ipykernel\\__main__.py:12: SettingWithCopyWarning: \n",
      "A value is trying to be set on a copy of a slice from a DataFrame\n",
      "\n",
      "See the caveats in the documentation: http://pandas.pydata.org/pandas-docs/stable/indexing.html#indexing-view-versus-copy\n"
     ]
    }
   ],
   "source": [
    "# Lotfrontage\n",
    "temp = pandas_train.groupby('Neighborhood', as_index=False)['LotFrontage'].median()\n",
    "temp = temp.rename(columns={\"LotFrontage\":\"LotFrontage2\"})\n",
    "pandas_train = pd.merge(pandas_train, temp, how='left', on='Neighborhood')\n",
    "pandas_train['LotFrontage'][pandas_train['LotFrontage'].isnull()] = pandas_train['LotFrontage2'][pandas_train['LotFrontage'].isnull()]\n",
    "pandas_train = pandas_train.drop('LotFrontage2', axis=1)\n",
    "\n",
    "\n",
    "temp = pandas_test.groupby('Neighborhood', as_index=False)['LotFrontage'].median()\n",
    "temp = temp.rename(columns={\"LotFrontage\":\"LotFrontage2\"})\n",
    "pandas_test = pd.merge(pandas_test, temp, how='left', on='Neighborhood')\n",
    "pandas_test['LotFrontage'][pandas_test['LotFrontage'].isnull()] = pandas_test['LotFrontage2'][pandas_test['LotFrontage'].isnull()]\n",
    "pandas_test = pandas_test.drop('LotFrontage2', axis=1)"
   ]
  },
  {
   "cell_type": "code",
   "execution_count": 8,
   "metadata": {
    "collapsed": true
   },
   "outputs": [],
   "source": [
    "# Alley\n",
    "pandas_train[\"Alley\"].fillna(\"None\", inplace=True)\n",
    "\n",
    "pandas_test[\"Alley\"].fillna(\"None\", inplace=True)\n"
   ]
  },
  {
   "cell_type": "code",
   "execution_count": 9,
   "metadata": {
    "collapsed": true
   },
   "outputs": [],
   "source": [
    "# MasVnrType, MasVnrArea\n",
    "pandas_train['MasVnrType'].fillna(pandas_train['MasVnrType'].value_counts().index[0],inplace=True)\n",
    "pandas_train['MasVnrArea'].fillna(pandas_train['MasVnrArea'].mode()[0],inplace=True)\n",
    "\n",
    "\n",
    "pandas_test['MasVnrType'].fillna(pandas_train['MasVnrType'].value_counts().index[0],inplace=True)\n",
    "pandas_test['MasVnrArea'].fillna(pandas_train['MasVnrArea'].mode()[0],inplace=True)"
   ]
  },
  {
   "cell_type": "code",
   "execution_count": 10,
   "metadata": {
    "collapsed": true
   },
   "outputs": [],
   "source": [
    "# Basement related\n",
    "\n",
    "basement_cols=['BsmtQual','BsmtCond','BsmtExposure','BsmtFinType1','BsmtFinType2','BsmtFinSF1','BsmtFinSF2']\n",
    "\n",
    "pandas_train[\"BsmtQual\"].fillna(\"None\", inplace=True)\n",
    "pandas_train[\"BsmtCond\"].fillna(\"None\", inplace=True)\n",
    "pandas_train[\"BsmtExposure\"].fillna(\"None\", inplace=True)\n",
    "pandas_train[\"BsmtFinType1\"].fillna(\"None\", inplace=True)\n",
    "pandas_train[\"BsmtFinSF1\"].fillna(0, inplace=True)\n",
    "pandas_train[\"BsmtFinType2\"].fillna(\"None\", inplace=True)\n",
    "pandas_train[\"BsmtFinSF2\"].fillna(0, inplace=True)\n",
    "pandas_train[\"BsmtUnfSF\"].fillna(0, inplace=True)\n",
    "\n",
    "pandas_test[\"BsmtQual\"].fillna(\"None\", inplace=True)\n",
    "pandas_test[\"BsmtCond\"].fillna(\"None\", inplace=True)\n",
    "pandas_test[\"BsmtExposure\"].fillna(\"None\", inplace=True)\n",
    "pandas_test[\"BsmtFinType1\"].fillna(\"None\", inplace=True)\n",
    "pandas_test[\"BsmtFinSF1\"].fillna(0, inplace=True)\n",
    "pandas_test[\"BsmtFinType2\"].fillna(\"None\", inplace=True)\n",
    "pandas_test[\"BsmtFinSF2\"].fillna(0, inplace=True)\n",
    "pandas_test[\"BsmtUnfSF\"].fillna(0, inplace=True)"
   ]
  },
  {
   "cell_type": "code",
   "execution_count": 11,
   "metadata": {
    "collapsed": false
   },
   "outputs": [
    {
     "name": "stderr",
     "output_type": "stream",
     "text": [
      "C:\\Users\\Soomin\\Anaconda3\\lib\\site-packages\\ipykernel\\__main__.py:1: UserWarning: Boolean Series key will be reindexed to match DataFrame index.\n",
      "  if __name__ == '__main__':\n"
     ]
    },
    {
     "data": {
      "text/html": [
       "<div>\n",
       "<table border=\"1\" class=\"dataframe\">\n",
       "  <thead>\n",
       "    <tr style=\"text-align: right;\">\n",
       "      <th></th>\n",
       "      <th>BsmtQual</th>\n",
       "      <th>BsmtCond</th>\n",
       "      <th>BsmtExposure</th>\n",
       "      <th>BsmtFinType1</th>\n",
       "      <th>BsmtFinType2</th>\n",
       "      <th>BsmtFinSF1</th>\n",
       "      <th>BsmtFinSF2</th>\n",
       "    </tr>\n",
       "  </thead>\n",
       "  <tbody>\n",
       "  </tbody>\n",
       "</table>\n",
       "</div>"
      ],
      "text/plain": [
       "Empty DataFrame\n",
       "Columns: [BsmtQual, BsmtCond, BsmtExposure, BsmtFinType1, BsmtFinType2, BsmtFinSF1, BsmtFinSF2]\n",
       "Index: []"
      ]
     },
     "execution_count": 11,
     "metadata": {},
     "output_type": "execute_result"
    }
   ],
   "source": [
    "pandas_test[basement_cols][pandas_train['BsmtQual'].isnull()==True]"
   ]
  },
  {
   "cell_type": "code",
   "execution_count": 12,
   "metadata": {
    "collapsed": true
   },
   "outputs": [],
   "source": [
    "# Electrical\n",
    "pandas_train[\"Electrical\"].fillna(\"SBrkr\", inplace=True)\n",
    "\n",
    "pandas_test[\"Electrical\"].fillna(\"SBrkr\", inplace=True)"
   ]
  },
  {
   "cell_type": "code",
   "execution_count": 13,
   "metadata": {
    "collapsed": true
   },
   "outputs": [],
   "source": [
    "# FireplaceQu\n",
    "pandas_train[\"FireplaceQu\"].fillna(\"None\", inplace=True)\n",
    "\n",
    "pandas_test[\"FireplaceQu\"].fillna(\"None\", inplace=True)"
   ]
  },
  {
   "cell_type": "code",
   "execution_count": 14,
   "metadata": {
    "collapsed": true
   },
   "outputs": [],
   "source": [
    "# Garage related\n",
    "garage_cols=['GarageType','GarageQual','GarageCond','GarageYrBlt','GarageFinish','GarageCars','GarageArea']\n",
    "\n",
    "pandas_train[\"GarageType\"].fillna(\"None\", inplace=True)\n",
    "pandas_train[\"GarageQual\"].fillna(\"None\", inplace=True)\n",
    "pandas_train[\"GarageCond\"].fillna(\"None\", inplace=True)\n",
    "pandas_train[\"GarageFinish\"].fillna(\"None\", inplace=True)\n",
    "pandas_train[\"GarageCars\"].fillna(0, inplace=True)\n",
    "pandas_train[\"GarageArea\"].fillna(0, inplace=True)\n",
    "\n",
    "pandas_test[\"GarageType\"].fillna(\"None\", inplace=True)\n",
    "pandas_test[\"GarageQual\"].fillna(\"None\", inplace=True)\n",
    "pandas_test[\"GarageCond\"].fillna(\"None\", inplace=True)\n",
    "pandas_test[\"GarageFinish\"].fillna(\"None\", inplace=True)\n",
    "pandas_test[\"GarageCars\"].fillna(0, inplace=True)\n",
    "pandas_test[\"GarageArea\"].fillna(0, inplace=True)"
   ]
  },
  {
   "cell_type": "code",
   "execution_count": 15,
   "metadata": {
    "collapsed": true
   },
   "outputs": [],
   "source": [
    "# GarageYrBlt Binning\n",
    "\n",
    "minval = pandas_train['GarageYrBlt'].min()\n",
    "maxval = pandas_train['GarageYrBlt'].max()+1\n",
    "binlist=[0,minval,1920,1940,1960,1980,2000,maxval]\n",
    "pandas_train['GarageYrBlt'].fillna(0,inplace=True)\n",
    "pandas_train['GarageYrBltBins'] = pd.cut(pandas_train['GarageYrBlt'],binlist,include_lowest=True,right=False)\n",
    "\n",
    "minval = pandas_test['GarageYrBlt'].min()\n",
    "maxval = pandas_test['GarageYrBlt'].max()+1\n",
    "binlist=[0,minval,1920,1940,1960,1980,2000,maxval]\n",
    "pandas_test['GarageYrBlt'].fillna(0,inplace=True)\n",
    "pandas_test['GarageYrBltBins'] = pd.cut(pandas_test['GarageYrBlt'],binlist,include_lowest=True,right=False)"
   ]
  },
  {
   "cell_type": "code",
   "execution_count": 16,
   "metadata": {
    "collapsed": true
   },
   "outputs": [],
   "source": [
    "# PoolQC\n",
    "pandas_train[\"PoolQC\"].fillna(\"None\", inplace=True)\n",
    "\n",
    "pandas_test[\"PoolQC\"].fillna(\"None\", inplace=True)"
   ]
  },
  {
   "cell_type": "code",
   "execution_count": 17,
   "metadata": {
    "collapsed": true
   },
   "outputs": [],
   "source": [
    "# Fence, MiscFeature\n",
    "\n",
    "pandas_train[\"Fence\"].fillna(\"None\", inplace=True)\n",
    "pandas_train[\"MiscFeature\"].fillna(\"None\", inplace=True)\n",
    "\n",
    "pandas_test[\"Fence\"].fillna(\"None\", inplace=True)\n",
    "pandas_test[\"MiscFeature\"].fillna(\"None\", inplace=True)"
   ]
  },
  {
   "cell_type": "code",
   "execution_count": 18,
   "metadata": {
    "collapsed": true
   },
   "outputs": [],
   "source": [
    "def show_missing(pandas_frame):\n",
    "    missing = pandas_frame.columns[pandas_frame.isnull().any()].tolist()\n",
    "    return missing"
   ]
  },
  {
   "cell_type": "code",
   "execution_count": 19,
   "metadata": {
    "collapsed": false
   },
   "outputs": [
    {
     "data": {
      "text/plain": [
       "[]"
      ]
     },
     "execution_count": 19,
     "metadata": {},
     "output_type": "execute_result"
    }
   ],
   "source": [
    "show_missing(pandas_train)"
   ]
  },
  {
   "cell_type": "code",
   "execution_count": 20,
   "metadata": {
    "collapsed": false
   },
   "outputs": [
    {
     "data": {
      "text/plain": [
       "['MSZoning',\n",
       " 'Utilities',\n",
       " 'Exterior1st',\n",
       " 'Exterior2nd',\n",
       " 'TotalBsmtSF',\n",
       " 'BsmtFullBath',\n",
       " 'BsmtHalfBath',\n",
       " 'KitchenQual',\n",
       " 'Functional',\n",
       " 'SaleType']"
      ]
     },
     "execution_count": 20,
     "metadata": {},
     "output_type": "execute_result"
    }
   ],
   "source": [
    "show_missing(pandas_test) # 나중에 처리해야.."
   ]
  },
  {
   "cell_type": "code",
   "execution_count": 21,
   "metadata": {
    "collapsed": false
   },
   "outputs": [],
   "source": [
    "train_h2o = h2o.H2OFrame(pandas_train) #Convert back to H2O frame \n",
    "test_h2o = h2o.H2OFrame(pandas_test)"
   ]
  },
  {
   "cell_type": "markdown",
   "metadata": {},
   "source": [
    "### Set categorical vars"
   ]
  },
  {
   "cell_type": "code",
   "execution_count": 22,
   "metadata": {
    "collapsed": false
   },
   "outputs": [],
   "source": [
    "train_h2o['MSSubClass'] = train_h2o['MSSubClass'].asfactor()\n",
    "train_h2o['OverallQual'] = train_h2o['OverallQual'].asfactor()\n",
    "train_h2o['OverallCond'] = train_h2o['OverallCond'].asfactor()\n",
    "train_h2o['YearBuilt'] = train_h2o['YearBuilt'].asfactor()\n",
    "train_h2o['YearRemodAdd'] = train_h2o['YearRemodAdd'].asfactor()\n",
    "#train_h2o['GarageYrBlt'] = train_h2o['GarageYrBlt'].asfactor()\n",
    "train_h2o['MoSold'] = train_h2o['MoSold'].asfactor()\n",
    "train_h2o['YrSold'] = train_h2o['YrSold'].asfactor()\n",
    "\n",
    "test_h2o['MSSubClass'] = test_h2o['MSSubClass'].asfactor()\n",
    "test_h2o['OverallQual'] = test_h2o['OverallQual'].asfactor()\n",
    "test_h2o['OverallCond'] = test_h2o['OverallCond'].asfactor()\n",
    "test_h2o['YearBuilt'] = test_h2o['YearBuilt'].asfactor()\n",
    "test_h2o['YearRemodAdd'] = test_h2o['YearRemodAdd'].asfactor()\n",
    "#test_h2o['GarageYrBlt'] = test_h2o['GarageYrBlt'].asfactor()\n",
    "test_h2o['MoSold'] = test_h2o['MoSold'].asfactor()\n",
    "test_h2o['YrSold'] = test_h2o['YrSold'].asfactor()"
   ]
  },
  {
   "cell_type": "code",
   "execution_count": 23,
   "metadata": {
    "collapsed": false
   },
   "outputs": [
    {
     "name": "stdout",
     "output_type": "stream",
     "text": [
      "Numeric = ['TotRmsAbvGrd', 'GrLivArea', 'PoolArea', 'OpenPorchSF', 'EnclosedPorch', '3SsnPorch', 'LowQualFinSF', 'TotalBsmtSF', 'Fireplaces', 'BedroomAbvGr', 'BsmtFinSF1', 'GarageArea', 'FullBath', 'WoodDeckSF', 'GarageCars', 'BsmtFinSF2', 'MasVnrArea', 'BsmtFullBath', 'KitchenAbvGr', 'MiscVal', 'LotArea', 'ScreenPorch', 'BsmtUnfSF', 'BsmtHalfBath', '2ndFlrSF', '1stFlrSF', 'LotFrontage', 'HalfBath']\n",
      "\n",
      "Categorical = ['OverallQual', 'Neighborhood', 'Alley', 'Exterior2nd', 'BsmtFinType2', 'GarageCond', 'SaleCondition', 'Heating', 'GarageQual', 'HeatingQC', 'YearRemodAdd', 'HouseStyle', 'FireplaceQu', 'Fence', 'LotShape', 'GarageYrBltBins', 'BldgType', 'OverallCond', 'MoSold', 'YearBuilt', 'CentralAir', 'RoofMatl', 'MSZoning', 'PoolQC', 'BsmtExposure', 'Electrical', 'ExterCond', 'Utilities', 'BsmtFinType1', 'LandSlope', 'Functional', 'Exterior1st', 'BsmtCond', 'LotConfig', 'ExterQual', 'GarageFinish', 'LandContour', 'Condition2', 'Condition1', 'BsmtQual', 'SaleType', 'RoofStyle', 'Foundation', 'KitchenQual', 'Street', 'MasVnrType', 'MSSubClass', 'GarageType', 'MiscFeature', 'PavedDrive', 'YrSold']\n"
     ]
    }
   ],
   "source": [
    "excludevars = ['Id','SalePrice', 'GarageYrBltBins2','GarageYrBlt']\n",
    "nums_afterpp, cats_afterpp = get_type_lists(train_h2o, excludevars)"
   ]
  },
  {
   "cell_type": "code",
   "execution_count": 40,
   "metadata": {
    "collapsed": false
   },
   "outputs": [
    {
     "name": "stdout",
     "output_type": "stream",
     "text": [
      "(1001, 82)\n",
      "(459, 82)\n"
     ]
    }
   ],
   "source": [
    "train, valid = train_h2o.split_frame([0.7], seed=12345)\n",
    "test = test_h2o\n",
    "print(train.shape)\n",
    "print(valid.shape)"
   ]
  },
  {
   "cell_type": "code",
   "execution_count": 28,
   "metadata": {
    "collapsed": true
   },
   "outputs": [],
   "source": [
    "def target_encoder(training_frame, test_frame, x, y, lambda_=0.15, threshold=150, test=False):\n",
    "\n",
    "    \"\"\" Applies simple target encoding to categorical variables.\n",
    "\n",
    "    :param training_frame: Training frame which to create target means and to be encoded.\n",
    "    :param test_frame: Test frame to be encoded using information from training frame.\n",
    "    :param x: Name of input variable to be encoded.\n",
    "    :param y: Name of target variable to use for encoding.\n",
    "    :param lambda_: Balance between level mean and overall mean for small groups.\n",
    "    :param threshold: Number below which a level is considered small enough to be shrunken.\n",
    "    :param test: Whether or not to print the row_val_dict for testing purposes.\n",
    "    :return: Tuple of encoded variable from train and test set as H2OFrames.\n",
    "\n",
    "    \"\"\"\n",
    "\n",
    "    # convert to pandas\n",
    "    trdf = training_frame.as_data_frame().loc[:, [x,y]] # df\n",
    "    tss = test_frame.as_data_frame().loc[:, x]          # series\n",
    "\n",
    "\n",
    "    # create dictionary of level:encode val\n",
    "\n",
    "    encode_name = x + '_Tencode'\n",
    "    overall_mean = trdf[y].mean()\n",
    "    row_val_dict = {}\n",
    "\n",
    "    for level in trdf[x].unique():\n",
    "        level_df = trdf[trdf[x] == level][y]\n",
    "        level_n = level_df.shape[0]\n",
    "        level_mean = level_df.mean()\n",
    "        if level_n >= threshold:\n",
    "            row_val_dict[level] = level_mean\n",
    "        else:\n",
    "            row_val_dict[level] = ((1 - lambda_) * level_mean) +\\\n",
    "                                  (lambda_ * overall_mean)\n",
    "\n",
    "    row_val_dict[np.nan] = overall_mean # handle missing values\n",
    "\n",
    "    if test:\n",
    "        print(row_val_dict)\n",
    "\n",
    "    # apply the transform to training data\n",
    "    trdf[encode_name] = trdf[x].apply(lambda i: row_val_dict[i])\n",
    "\n",
    "    # apply the transform to test data\n",
    "    tsdf = pd.DataFrame(columns=[x, encode_name])\n",
    "    tsdf[x] = tss\n",
    "    tsdf.loc[:, encode_name] = overall_mean # handle previously unseen values\n",
    "    # handle values that are seen in tsdf but not row_val_dict\n",
    "    for i, col_i in enumerate(tsdf[x]):\n",
    "        try:\n",
    "            row_val_dict[col_i]\n",
    "        except:\n",
    "            # a value that appeared in tsdf isn't in the row_val_dict so just\n",
    "            # make it the overall_mean\n",
    "            row_val_dict[col_i] = overall_mean\n",
    "    tsdf[encode_name] = tsdf[x].apply(lambda i: row_val_dict[i])\n",
    "\n",
    "\n",
    "    # convert back to H2O\n",
    "\n",
    "    trdf = h2o.H2OFrame(trdf[encode_name].as_matrix())\n",
    "    trdf.columns = [encode_name]\n",
    "\n",
    "    tsdf = h2o.H2OFrame(tsdf[encode_name].as_matrix())\n",
    "    tsdf.columns = [encode_name]\n",
    "\n",
    "    return (trdf, tsdf)\n"
   ]
  },
  {
   "cell_type": "code",
   "execution_count": 41,
   "metadata": {
    "collapsed": false
   },
   "outputs": [
    {
     "name": "stdout",
     "output_type": "stream",
     "text": [
      "Encoding: OverallQual (1/51) ...\n",
      "Encoding: BsmtFinType2 (2/51) ...\n",
      "Encoding: LotConfig (3/51) ...\n",
      "Encoding: HeatingQC (4/51) ...\n",
      "Encoding: YearRemodAdd (5/51) ...\n",
      "Encoding: OverallCond (6/51) ...\n",
      "Encoding: FireplaceQu (7/51) ...\n",
      "Encoding: LotShape (8/51) ...\n",
      "Encoding: Fence (9/51) ...\n",
      "Encoding: BldgType (10/51) ...\n",
      "Encoding: MoSold (11/51) ...\n",
      "Encoding: YearBuilt (12/51) ...\n",
      "Encoding: RoofMatl (13/51) ...\n",
      "Encoding: MSZoning (14/51) ...\n",
      "Encoding: LandContour (15/51) ...\n",
      "Encoding: SaleCondition (16/51) ...\n",
      "Encoding: BsmtFinType1 (17/51) ...\n",
      "Encoding: LandSlope (18/51) ...\n",
      "Encoding: Exterior1st (19/51) ...\n",
      "Encoding: GarageFinish (20/51) ...\n",
      "Encoding: Condition1 (21/51) ...\n",
      "Encoding: BsmtQual (22/51) ...\n",
      "Encoding: RoofStyle (23/51) ...\n",
      "Encoding: Foundation (24/51) ...\n",
      "Encoding: Street (25/51) ...\n",
      "Encoding: GarageType (26/51) ...\n",
      "Encoding: YrSold (27/51) ...\n",
      "Encoding: Neighborhood (28/51) ...\n",
      "Encoding: Alley (29/51) ...\n",
      "Encoding: GarageCond (30/51) ...\n",
      "Encoding: Heating (31/51) ...\n",
      "Encoding: GarageQual (32/51) ...\n",
      "Encoding: HouseStyle (33/51) ...\n",
      "Encoding: GarageYrBltBins (34/51) ...\n",
      "Encoding: CentralAir (35/51) ...\n",
      "Encoding: BsmtExposure (36/51) ...\n",
      "Encoding: Electrical (37/51) ...\n",
      "Encoding: ExterCond (38/51) ...\n",
      "Encoding: Utilities (39/51) ...\n",
      "Encoding: BsmtCond (40/51) ...\n",
      "Encoding: Exterior2nd (41/51) ...\n",
      "Encoding: Functional (42/51) ...\n",
      "Encoding: MasVnrType (43/51) ...\n",
      "Encoding: Condition2 (44/51) ...\n",
      "Encoding: ExterQual (45/51) ...\n",
      "Encoding: SaleType (46/51) ...\n",
      "Encoding: KitchenQual (47/51) ...\n",
      "Encoding: PoolQC (48/51) ...\n",
      "Encoding: PavedDrive (49/51) ...\n",
      "Encoding: MSSubClass (50/51) ...\n",
      "Encoding: MiscFeature (51/51) ...\n",
      "Done.\n"
     ]
    }
   ],
   "source": [
    "total = len(cats_afterpp)\n",
    "for i, var in enumerate(cats_afterpp):\n",
    "    \n",
    "    tr_enc, _ = target_encoder(train, test, var, 'SalePrice')\n",
    "    v_enc, ts_enc = target_encoder(valid, test, var, 'SalePrice')\n",
    "    \n",
    "    print('Encoding: ' + var + ' (' + str(i+1) + '/' + str(total) + ') ...')\n",
    "\n",
    "    train = train.cbind(tr_enc)\n",
    "    valid = valid.cbind(v_enc)\n",
    "    test = test.cbind(ts_enc)    \n",
    "    \n",
    "print('Done.')"
   ]
  },
  {
   "cell_type": "code",
   "execution_count": 42,
   "metadata": {
    "collapsed": false
   },
   "outputs": [
    {
     "name": "stdout",
     "output_type": "stream",
     "text": [
      "Numeric = ['MasVnrType_Tencode', 'Id', 'TotRmsAbvGrd', 'BsmtCond_Tencode', 'PoolArea', 'TotalBsmtSF', 'KitchenQual_Tencode', 'ExterQual_Tencode', 'Alley_Tencode', 'BsmtExposure_Tencode', 'Functional_Tencode', 'Condition2_Tencode', 'SaleCondition_Tencode', 'YearBuilt_Tencode', 'LandContour_Tencode', 'HeatingQC_Tencode', 'BsmtQual_Tencode', 'Neighborhood_Tencode', 'LotShape_Tencode', 'Fence_Tencode', 'BsmtFullBath', 'ExterCond_Tencode', 'GarageYrBlt', 'LowQualFinSF', 'Heating_Tencode', 'MoSold_Tencode', 'ScreenPorch', 'BsmtHalfBath', '1stFlrSF', 'OverallQual_Tencode', 'LandSlope_Tencode', 'Foundation_Tencode', 'BsmtFinType1_Tencode', 'GarageYrBltBins_Tencode', 'PoolQC_Tencode', 'GrLivArea', 'OpenPorchSF', 'SaleType_Tencode', 'GarageFinish_Tencode', 'Exterior1st_Tencode', 'YearRemodAdd_Tencode', 'Fireplaces', 'Exterior2nd_Tencode', 'MiscFeature_Tencode', 'BedroomAbvGr', 'HouseStyle_Tencode', 'Utilities_Tencode', 'LotConfig_Tencode', 'Street_Tencode', 'MSZoning_Tencode', 'BsmtFinSF1', 'BldgType_Tencode', 'RoofMatl_Tencode', '2ndFlrSF', 'PavedDrive_Tencode', 'FullBath', 'GarageCond_Tencode', 'WoodDeckSF', 'GarageCars', 'GarageQual_Tencode', 'LotArea', 'Condition1_Tencode', 'MasVnrArea', 'MSSubClass_Tencode', 'KitchenAbvGr', 'MiscVal', 'FireplaceQu_Tencode', 'CentralAir_Tencode', '3SsnPorch', 'RoofStyle_Tencode', 'BsmtFinType2_Tencode', 'Electrical_Tencode', 'EnclosedPorch', 'GarageArea', 'BsmtUnfSF', 'BsmtFinSF2', 'LotFrontage', 'GarageType_Tencode', 'HalfBath', 'OverallCond_Tencode', 'YrSold_Tencode']\n",
      "\n",
      "Categorical = ['OverallQual', 'Exterior1st', 'BsmtFinType2', 'LotConfig', 'HeatingQC', 'YearRemodAdd', 'OverallCond', 'FireplaceQu', 'LotShape', 'Fence', 'BldgType', 'MoSold', 'YearBuilt', 'RoofMatl', 'MSZoning', 'LandContour', 'SaleCondition', 'BsmtFinType1', 'LandSlope', 'GarageFinish', 'Condition1', 'BsmtQual', 'RoofStyle', 'Foundation', 'Street', 'GarageType', 'YrSold', 'Neighborhood', 'Alley', 'GarageCond', 'Heating', 'GarageQual', 'HouseStyle', 'GarageYrBltBins', 'CentralAir', 'BsmtExposure', 'Electrical', 'ExterCond', 'Utilities', 'BsmtCond', 'Exterior2nd', 'Functional', 'MasVnrType', 'Condition2', 'ExterQual', 'SaleType', 'KitchenQual', 'PoolQC', 'PavedDrive', 'MSSubClass', 'MiscFeature']\n"
     ]
    }
   ],
   "source": [
    "encoded_nums, cats = get_type_lists(frame=train)"
   ]
  },
  {
   "cell_type": "code",
   "execution_count": 44,
   "metadata": {
    "collapsed": false
   },
   "outputs": [
    {
     "data": {
      "text/plain": [
       "81"
      ]
     },
     "execution_count": 44,
     "metadata": {},
     "output_type": "execute_result"
    }
   ],
   "source": [
    "len(encoded_nums)"
   ]
  },
  {
   "cell_type": "code",
   "execution_count": 45,
   "metadata": {
    "collapsed": false
   },
   "outputs": [
    {
     "name": "stdout",
     "output_type": "stream",
     "text": [
      "(1001, 133)\n"
     ]
    }
   ],
   "source": [
    "print(train.shape)"
   ]
  },
  {
   "cell_type": "code",
   "execution_count": 46,
   "metadata": {
    "collapsed": false,
    "scrolled": true
   },
   "outputs": [
    {
     "name": "stdout",
     "output_type": "stream",
     "text": [
      "Imputed and encoded numeric training data:\n",
      "Rows:1001\n",
      "Cols:81\n",
      "\n",
      "\n"
     ]
    },
    {
     "data": {
      "text/html": [
       "<table>\n",
       "<thead>\n",
       "<tr><th>       </th><th>MasVnrType_Tencode  </th><th>Id               </th><th>TotRmsAbvGrd     </th><th>BsmtCond_Tencode  </th><th>PoolArea         </th><th>TotalBsmtSF       </th><th>KitchenQual_Tencode  </th><th>ExterQual_Tencode  </th><th>Alley_Tencode     </th><th>BsmtExposure_Tencode  </th><th>Functional_Tencode  </th><th>Condition2_Tencode  </th><th>SaleCondition_Tencode  </th><th>YearBuilt_Tencode  </th><th>LandContour_Tencode  </th><th>HeatingQC_Tencode  </th><th>BsmtQual_Tencode  </th><th>Neighborhood_Tencode  </th><th>LotShape_Tencode  </th><th>Fence_Tencode     </th><th>BsmtFullBath      </th><th>ExterCond_Tencode  </th><th>GarageYrBlt       </th><th>LowQualFinSF      </th><th>Heating_Tencode   </th><th>MoSold_Tencode    </th><th>ScreenPorch       </th><th>BsmtHalfBath       </th><th>1stFlrSF         </th><th>OverallQual_Tencode  </th><th>LandSlope_Tencode  </th><th>Foundation_Tencode  </th><th>BsmtFinType1_Tencode  </th><th>GarageYrBltBins_Tencode  </th><th>PoolQC_Tencode    </th><th>GrLivArea         </th><th>OpenPorchSF      </th><th>SaleType_Tencode  </th><th>GarageFinish_Tencode  </th><th>Exterior1st_Tencode  </th><th>YearRemodAdd_Tencode  </th><th>Fireplaces        </th><th>Exterior2nd_Tencode  </th><th>MiscFeature_Tencode  </th><th>BedroomAbvGr      </th><th>HouseStyle_Tencode  </th><th>Utilities_Tencode  </th><th>LotConfig_Tencode  </th><th>Street_Tencode    </th><th>MSZoning_Tencode  </th><th>BsmtFinSF1        </th><th>BldgType_Tencode  </th><th>RoofMatl_Tencode  </th><th>2ndFlrSF          </th><th>PavedDrive_Tencode  </th><th>FullBath          </th><th>GarageCond_Tencode  </th><th>WoodDeckSF        </th><th>GarageCars        </th><th>GarageQual_Tencode  </th><th>LotArea           </th><th>Condition1_Tencode  </th><th>MasVnrArea        </th><th>MSSubClass_Tencode  </th><th>KitchenAbvGr       </th><th>MiscVal           </th><th>FireplaceQu_Tencode  </th><th>CentralAir_Tencode  </th><th>3SsnPorch         </th><th>RoofStyle_Tencode  </th><th>BsmtFinType2_Tencode  </th><th>Electrical_Tencode  </th><th>EnclosedPorch     </th><th>GarageArea        </th><th>BsmtUnfSF         </th><th>BsmtFinSF2        </th><th>LotFrontage      </th><th>GarageType_Tencode  </th><th>HalfBath          </th><th>OverallCond_Tencode  </th><th>YrSold_Tencode    </th></tr>\n",
       "</thead>\n",
       "<tbody>\n",
       "<tr><td>type   </td><td>real                </td><td>int              </td><td>int              </td><td>real              </td><td>int              </td><td>int               </td><td>real                 </td><td>real               </td><td>real              </td><td>real                  </td><td>real                </td><td>real                </td><td>real                   </td><td>real               </td><td>real                 </td><td>real               </td><td>real              </td><td>real                  </td><td>real              </td><td>real              </td><td>int               </td><td>real               </td><td>int               </td><td>int               </td><td>real              </td><td>real              </td><td>int               </td><td>int                </td><td>int              </td><td>real                 </td><td>real               </td><td>real                </td><td>real                  </td><td>real                     </td><td>real              </td><td>int               </td><td>int              </td><td>real              </td><td>real                  </td><td>real                 </td><td>real                  </td><td>int               </td><td>real                 </td><td>real                 </td><td>int               </td><td>real                </td><td>real               </td><td>real               </td><td>real              </td><td>real              </td><td>int               </td><td>real              </td><td>real              </td><td>int               </td><td>real                </td><td>int               </td><td>real                </td><td>int               </td><td>int               </td><td>real                </td><td>int               </td><td>real                </td><td>int               </td><td>real                </td><td>int                </td><td>int               </td><td>real                 </td><td>real                </td><td>int               </td><td>real               </td><td>real                  </td><td>real                </td><td>int               </td><td>int               </td><td>int               </td><td>int               </td><td>real             </td><td>real                </td><td>int               </td><td>real                 </td><td>real              </td></tr>\n",
       "<tr><td>mins   </td><td>156555.86183074262  </td><td>1.0              </td><td>3.0              </td><td>84275.79385614385 </td><td>0.0              </td><td>0.0               </td><td>124936.94820396995   </td><td>116078.96885614384 </td><td>128075.200999001  </td><td>123956.21308691308    </td><td>110059.12718947718  </td><td>108075.79385614385  </td><td>115832.04385614385     </td><td>103613.29385614385 </td><td>145140.16285614387   </td><td>135668.69902855766 </td><td>121216.12093947716</td><td>109690.79385614385    </td><td>163944.59385614382</td><td>141306.73814185814</td><td>0.0               </td><td>122047.14941169939 </td><td>0.0               </td><td>0.0               </td><td>93469.96052281052 </td><td>171267.6210300569 </td><td>0.0               </td><td>0.0                </td><td>480.0            </td><td>57340.143856143855   </td><td>181486.5182747485  </td><td>121726.89385614387  </td><td>121276.42985614385    </td><td>119405.5855228105        </td><td>181425.2874371859 </td><td>480.0             </td><td>0.0              </td><td>125968.29385614385</td><td>119405.5855228105     </td><td>78325.79385614385    </td><td>104035.31885614386    </td><td>0.0               </td><td>129978.23968947721   </td><td>140375.79385614386   </td><td>0.0               </td><td>118907.22242757239  </td><td>144200.79385614386 </td><td>176473.2899159664  </td><td>146350.10385614386</td><td>78614.79385614385 </td><td>0.0               </td><td>138273.46052281052</td><td>143775.79385614386</td><td>0.0               </td><td>129253.89464979463  </td><td>0.0               </td><td>112070.79385614385  </td><td>0.0               </td><td>0.0               </td><td>96813.29385614385   </td><td>1300.0            </td><td>134468.29385614386  </td><td>0.0               </td><td>110931.40933233431  </td><td>0.0                </td><td>0.0               </td><td>141462.34885614386   </td><td>119608.23368665231  </td><td>0.0               </td><td>161577.2224275724  </td><td>126947.55924075923    </td><td>84275.79385614385   </td><td>0.0               </td><td>0.0               </td><td>0.0               </td><td>0.0               </td><td>21.0             </td><td>119405.5855228105   </td><td>0.0               </td><td>116283.85154845155   </td><td>179239.41089108912</td></tr>\n",
       "<tr><td>mean   </td><td>180953.6910454183   </td><td>724.8291708291705</td><td>6.512487512487514</td><td>182522.25164540764</td><td>3.376623376623376</td><td>1063.2387612387604</td><td>180810.9702399497    </td><td>181095.696027499   </td><td>182525.0014360763 </td><td>181332.52799323562    </td><td>182576.2453368812   </td><td>182224.44204037718  </td><td>181541.3249445857      </td><td>182171.95904095916 </td><td>182186.7329973223    </td><td>182409.70856326495 </td><td>180724.5454251543 </td><td>182171.95904095893    </td><td>181993.92786324595</td><td>183005.0923464647 </td><td>0.4265734265734266</td><td>182637.23505924654 </td><td>1883.850149850151 </td><td>5.9250749250749255</td><td>182323.57985955084</td><td>182085.76055692547</td><td>14.763236763236765</td><td>0.05994005994005996</td><td>1172.088911088912</td><td>180290.10698776753   </td><td>182145.0556687068  </td><td>183119.90242260238  </td><td>184124.927790092      </td><td>184028.82781249733       </td><td>182060.62963350347</td><td>1519.8011988011988</td><td>44.92407592407593</td><td>181180.3311701287 </td><td>182703.09600908577    </td><td>183565.71379414786   </td><td>182171.95904095907    </td><td>0.6203796203796214</td><td>183994.5260926888    </td><td>182343.8002408678    </td><td>2.8711288711288696</td><td>183188.2563525883   </td><td>182178.6531407155  </td><td>181772.16118142588 </td><td>182203.5349842965 </td><td>183387.92640181998</td><td>445.5994005994004 </td><td>182849.79797599994</td><td>182033.94005549914</td><td>341.78721278721247</td><td>182908.1805595005   </td><td>1.5744255744255726</td><td>182992.97056335275  </td><td>91.07392607392609 </td><td>1.7932067932067925</td><td>183008.55356277092  </td><td>10628.262737262736</td><td>182645.11776425384  </td><td>106.16383616383624</td><td>184318.41699728824  </td><td>1.0469530469530457 </td><td>39.684315684315685</td><td>181849.37466200133   </td><td>182822.70708043195  </td><td>3.4565434565434567</td><td>182159.00869385348 </td><td>182622.35788112954    </td><td>182937.98398065448  </td><td>21.257742257742255</td><td>477.4685314685315 </td><td>575.9900099900102 </td><td>41.64935064935064 </td><td>70.74475524475535</td><td>182245.84650479382  </td><td>0.381618381618382 </td><td>183250.586628257     </td><td>182185.62702342597</td></tr>\n",
       "<tr><td>maxs   </td><td>256064.37787676242  </td><td>1460.0           </td><td>14.0             </td><td>212500.14385614384</td><td>738.0            </td><td>6110.0            </td><td>305958.08769176033   </td><td>348876.58744588745 </td><td>184672.98832271763</td><td>243510.2073978105     </td><td>185063.63879957132  </td><td>269469.54385614384  </td><td>260380.61674771016     </td><td>362592.99385614385 </td><td>215016.8662245649    </td><td>216426.0           </td><td>312352.66653056245</td><td>329868.3581418581     </td><td>220137.0973044197 </td><td>189018.974137931  </td><td>3.0               </td><td>185708.33940774488 </td><td>2010.0            </td><td>528.0             </td><td>185483.95814185814</td><td>198254.40597735601</td><td>440.0             </td><td>2.0                </td><td>4692.0           </td><td>411753.33231768233   </td><td>200379.84385614382 </td><td>226465.8274336283   </td><td>236446.98648648648    </td><td>239676.72027972032       </td><td>443825.79385614384</td><td>5642.0            </td><td>523.0            </td><td>263880.6876061438 </td><td>243708.832            </td><td>250025.79385614384   </td><td>313744.7688561438     </td><td>3.0               </td><td>298475.79385614384   </td><td>239825.79385614384   </td><td>8.0               </td><td>210965.119205298    </td><td>182216.631         </td><td>215932.78135614385 </td><td>182383.5220883534 </td><td>204495.20385614387</td><td>5644.0            </td><td>187595.7541966427 </td><td>669075.7938561438 </td><td>2065.0            </td><td>187523.8671023965   </td><td>3.0               </td><td>188146.7502726281   </td><td>736.0             </td><td>4.0               </td><td>222252.04385614384  </td><td>164660.0          </td><td>219155.3393106893   </td><td>1378.0            </td><td>243184.96534653462  </td><td>3.0                </td><td>15500.0           </td><td>306119.08332982805   </td><td>186782.0            </td><td>508.0             </td><td>248325.79385614384 </td><td>218122.46052281052    </td><td>187716.3622559653   </td><td>552.0             </td><td>1418.0            </td><td>2153.0            </td><td>1127.0            </td><td>313.0            </td><td>243875.54558028182  </td><td>2.0               </td><td>202661.43181818182   </td><td>186896.74166666667</td></tr>\n",
       "<tr><td>sigma  </td><td>32513.444047378878  </td><td>421.4954943866087</td><td>1.587480364002624</td><td>14302.859526666482</td><td>43.98791894358055</td><td>450.4683539784607 </td><td>49556.81599252627    </td><td>52277.89924581866  </td><td>9766.58876414746  </td><td>26179.291204996774    </td><td>9673.47275081667    </td><td>6389.719881512636   </td><td>24904.82535576665      </td><td>46504.44964927137  </td><td>11064.930655592716   </td><td>35398.54044306139  </td><td>49983.0128988164  </td><td>51529.9324408036      </td><td>21926.258171174657</td><td>13504.518364088008</td><td>0.5204355357324734</td><td>9945.861000354027  </td><td>423.68187301615546</td><td>49.51948485817861 </td><td>8588.039549532357 </td><td>8240.20571837234  </td><td>54.16981527671003 </td><td>0.2457714312193271 </td><td>392.4739572085174</td><td>58402.9609943276     </td><td>1835.4154172265153 </td><td>39735.240377141236  </td><td>35223.67981963558     </td><td>41226.63262266888        </td><td>11901.388296801693</td><td>520.2774292995629 </td><td>63.01874506660877</td><td>25459.930478733866</td><td>43904.519304777365    </td><td>29589.150408848287   </td><td>38617.88648752911     </td><td>0.6416730131026673</td><td>30224.673393447127   </td><td>6090.240696354947    </td><td>0.8052177496650357</td><td>21247.331540214996  </td><td>1201.5656926005156 </td><td>10669.040225587902 </td><td>2541.57596669905  </td><td>22616.419950331485</td><td>467.17326588712297</td><td>13615.68412825508 </td><td>15980.206375764057</td><td>432.9085950594231 </td><td>15415.629575665147  </td><td>0.5538098001166959</td><td>17804.37971784183   </td><td>120.05044160464608</td><td>0.7349787794173421</td><td>18601.506242713353  </td><td>9442.37310711137  </td><td>13080.75973520577   </td><td>179.66239765423683</td><td>36476.82137140024   </td><td>0.22537348289718281</td><td>516.2493547150991 </td><td>40541.64241671104    </td><td>15828.294334486298  </td><td>29.83605804459362 </td><td>20695.377655471344 </td><td>11550.862509420635    </td><td>16464.287213227504  </td><td>61.04442237008644 </td><td>209.92257920181268</td><td>444.45750741786287</td><td>148.91838678308972</td><td>23.15278676455676</td><td>36865.89240600122   </td><td>0.5002217290580031</td><td>23878.60607396363    </td><td>2758.862801413868 </td></tr>\n",
       "<tr><td>zeros  </td><td>0                   </td><td>0                </td><td>0                </td><td>0                 </td><td>995              </td><td>25                </td><td>0                    </td><td>0                  </td><td>0                 </td><td>0                     </td><td>0                   </td><td>0                   </td><td>0                      </td><td>0                  </td><td>0                    </td><td>0                  </td><td>0                 </td><td>0                     </td><td>0                 </td><td>0                 </td><td>586               </td><td>0                  </td><td>48                </td><td>984               </td><td>0                 </td><td>0                 </td><td>921               </td><td>943                </td><td>0                </td><td>0                    </td><td>0                  </td><td>0                   </td><td>0                     </td><td>0                        </td><td>0                 </td><td>0                 </td><td>460              </td><td>0                 </td><td>0                     </td><td>0                    </td><td>0                     </td><td>466               </td><td>0                    </td><td>0                    </td><td>4                 </td><td>0                   </td><td>0                  </td><td>0                  </td><td>0                 </td><td>0                 </td><td>326               </td><td>0                 </td><td>0                 </td><td>572               </td><td>0                   </td><td>6                 </td><td>0                   </td><td>523               </td><td>48                </td><td>0                   </td><td>0                 </td><td>0                   </td><td>577               </td><td>0                   </td><td>1                  </td><td>969               </td><td>0                    </td><td>0                   </td><td>985               </td><td>0                  </td><td>0                     </td><td>0                   </td><td>867               </td><td>48                </td><td>78                </td><td>894               </td><td>0                </td><td>0                   </td><td>626               </td><td>0                    </td><td>0                 </td></tr>\n",
       "<tr><td>missing</td><td>0                   </td><td>0                </td><td>0                </td><td>0                 </td><td>0                </td><td>0                 </td><td>0                    </td><td>0                  </td><td>0                 </td><td>0                     </td><td>0                   </td><td>0                   </td><td>0                      </td><td>0                  </td><td>0                    </td><td>0                  </td><td>0                 </td><td>0                     </td><td>0                 </td><td>0                 </td><td>0                 </td><td>0                  </td><td>0                 </td><td>0                 </td><td>0                 </td><td>0                 </td><td>0                 </td><td>0                  </td><td>0                </td><td>0                    </td><td>0                  </td><td>0                   </td><td>0                     </td><td>0                        </td><td>0                 </td><td>0                 </td><td>0                </td><td>0                 </td><td>0                     </td><td>0                    </td><td>0                     </td><td>0                 </td><td>0                    </td><td>0                    </td><td>0                 </td><td>0                   </td><td>0                  </td><td>0                  </td><td>0                 </td><td>0                 </td><td>0                 </td><td>0                 </td><td>0                 </td><td>0                 </td><td>0                   </td><td>0                 </td><td>0                   </td><td>0                 </td><td>0                 </td><td>0                   </td><td>0                 </td><td>0                   </td><td>0                 </td><td>0                   </td><td>0                  </td><td>0                 </td><td>0                    </td><td>0                   </td><td>0                 </td><td>0                  </td><td>0                     </td><td>0                   </td><td>0                 </td><td>0                 </td><td>0                 </td><td>0                 </td><td>0                </td><td>0                   </td><td>0                 </td><td>0                    </td><td>0                 </td></tr>\n",
       "<tr><td>0      </td><td>203515.30891719743  </td><td>1.0              </td><td>8.0              </td><td>184737.95170142702</td><td>0.0              </td><td>856.0             </td><td>212221.98514851482   </td><td>229333.4454277286  </td><td>184672.98832271763</td><td>167645.4123076923     </td><td>185063.63879957132  </td><td>182525.73333333334  </td><td>177020.8800489596      </td><td>208416.20154845156 </td><td>182282.48766816143   </td><td>216426.0           </td><td>200924.0538641686 </td><td>197940.3021894772     </td><td>165131.57073954982</td><td>189018.974137931  </td><td>1.0               </td><td>185708.33940774488 </td><td>2003.0            </td><td>0.0               </td><td>183201.27365208542</td><td>175405.8820140386 </td><td>0.0               </td><td>0.0                </td><td>856.0            </td><td>207242.98260869566   </td><td>181982.57594936708 </td><td>226465.8274336283   </td><td>236446.98648648648    </td><td>239676.72027972032       </td><td>181425.2874371859 </td><td>1710.0            </td><td>61.0             </td><td>174574.41216991964</td><td>200494.42807017543    </td><td>216859.7290502793    </td><td>184833.50913392162    </td><td>0.0               </td><td>216626.9093484419    </td><td>183357.84694932782   </td><td>3.0               </td><td>210965.119205298    </td><td>182216.631         </td><td>176473.2899159664  </td><td>182383.5220883534 </td><td>192391.8022670025 </td><td>706.0             </td><td>187595.7541966427 </td><td>181235.93597560975</td><td>854.0             </td><td>187523.8671023965   </td><td>2.0               </td><td>188146.7502726281   </td><td>0.0               </td><td>2.0               </td><td>188334.07174392935  </td><td>8450.0            </td><td>185776.46347031964  </td><td>196.0             </td><td>243184.96534653462  </td><td>1.0                </td><td>0.0               </td><td>142610.06223175966   </td><td>186782.0            </td><td>0.0               </td><td>171522.79741935484 </td><td>185630.71806674334    </td><td>187716.3622559653   </td><td>0.0               </td><td>548.0             </td><td>150.0             </td><td>0.0               </td><td>65.0             </td><td>203664.60358890702  </td><td>1.0               </td><td>202661.43181818182   </td><td>181231.93779904302</td></tr>\n",
       "<tr><td>1      </td><td>156555.86183074262  </td><td>2.0              </td><td>6.0              </td><td>184737.95170142702</td><td>0.0              </td><td>1262.0            </td><td>139811.59481037923   </td><td>144619.2755267423  </td><td>184672.98832271763</td><td>243510.2073978105     </td><td>185063.63879957132  </td><td>182525.73333333334  </td><td>177020.8800489596      </td><td>168284.7849275724  </td><td>182282.48766816143   </td><td>216426.0           </td><td>200924.0538641686 </td><td>218575.79385614384    </td><td>165131.57073954982</td><td>189018.974137931  </td><td>0.0               </td><td>185708.33940774488 </td><td>1976.0            </td><td>0.0               </td><td>183201.27365208542</td><td>175083.33112582783</td><td>0.0               </td><td>1.0                </td><td>1262.0           </td><td>162035.816091954     </td><td>181982.57594936708 </td><td>150397.2807424594   </td><td>161782.77448994666    </td><td>152368.91505791506       </td><td>181425.2874371859 </td><td>1262.0            </td><td>0.0              </td><td>174574.41216991964</td><td>200494.42807017543    </td><td>155330.24861804862   </td><td>163150.6584394772     </td><td>1.0               </td><td>155721.17213200592   </td><td>183357.84694932782   </td><td>3.0               </td><td>178321.97183098592  </td><td>182216.631         </td><td>178818.25814185815 </td><td>182383.5220883534 </td><td>192391.8022670025 </td><td>978.0             </td><td>187595.7541966427 </td><td>181235.93597560975</td><td>0.0               </td><td>187523.8671023965   </td><td>2.0               </td><td>188146.7502726281   </td><td>298.0             </td><td>2.0               </td><td>188334.07174392935  </td><td>9600.0            </td><td>147024.1605228105   </td><td>0.0               </td><td>187575.74864864862  </td><td>1.0                </td><td>0.0               </td><td>204076.0357142857    </td><td>186782.0            </td><td>0.0               </td><td>171522.79741935484 </td><td>185630.71806674334    </td><td>187716.3622559653   </td><td>0.0               </td><td>460.0             </td><td>284.0             </td><td>0.0               </td><td>80.0             </td><td>203664.60358890702  </td><td>0.0               </td><td>157086.21052281052   </td><td>186896.74166666667</td></tr>\n",
       "<tr><td>2      </td><td>203515.30891719743  </td><td>3.0              </td><td>6.0              </td><td>184737.95170142702</td><td>0.0              </td><td>920.0             </td><td>212221.98514851482   </td><td>229333.4454277286  </td><td>184672.98832271763</td><td>187129.2701381951     </td><td>185063.63879957132  </td><td>182525.73333333334  </td><td>177020.8800489596      </td><td>241163.1271894772  </td><td>182282.48766816143   </td><td>216426.0           </td><td>200924.0538641686 </td><td>197940.3021894772     </td><td>209450.39420289855</td><td>189018.974137931  </td><td>1.0               </td><td>185708.33940774488 </td><td>2001.0            </td><td>0.0               </td><td>183201.27365208542</td><td>195815.36317432567</td><td>0.0               </td><td>0.0                </td><td>920.0            </td><td>207242.98260869566   </td><td>181982.57594936708 </td><td>226465.8274336283   </td><td>236446.98648648648    </td><td>239676.72027972032       </td><td>181425.2874371859 </td><td>1786.0            </td><td>42.0             </td><td>174574.41216991964</td><td>200494.42807017543    </td><td>216859.7290502793    </td><td>212217.14000999       </td><td>1.0               </td><td>216626.9093484419    </td><td>183357.84694932782   </td><td>3.0               </td><td>210965.119205298    </td><td>182216.631         </td><td>176473.2899159664  </td><td>182383.5220883534 </td><td>192391.8022670025 </td><td>486.0             </td><td>187595.7541966427 </td><td>181235.93597560975</td><td>866.0             </td><td>187523.8671023965   </td><td>2.0               </td><td>188146.7502726281   </td><td>0.0               </td><td>2.0               </td><td>188334.07174392935  </td><td>11250.0           </td><td>185776.46347031964  </td><td>162.0             </td><td>243184.96534653462  </td><td>1.0                </td><td>0.0               </td><td>204076.0357142857    </td><td>186782.0            </td><td>0.0               </td><td>171522.79741935484 </td><td>185630.71806674334    </td><td>187716.3622559653   </td><td>0.0               </td><td>608.0             </td><td>434.0             </td><td>0.0               </td><td>68.0             </td><td>203664.60358890702  </td><td>1.0               </td><td>202661.43181818182   </td><td>181231.93779904302</td></tr>\n",
       "<tr><td>3      </td><td>203515.30891719743  </td><td>5.0              </td><td>9.0              </td><td>184737.95170142702</td><td>0.0              </td><td>1145.0            </td><td>212221.98514851482   </td><td>229333.4454277286  </td><td>184672.98832271763</td><td>207605.41721854304    </td><td>185063.63879957132  </td><td>182525.73333333334  </td><td>177020.8800489596      </td><td>207950.79385614384 </td><td>182282.48766816143   </td><td>216426.0           </td><td>200924.0538641686 </td><td>329868.3581418581     </td><td>209450.39420289855</td><td>189018.974137931  </td><td>1.0               </td><td>185708.33940774488 </td><td>2000.0            </td><td>0.0               </td><td>183201.27365208542</td><td>187120.38069824912</td><td>0.0               </td><td>0.0                </td><td>1145.0           </td><td>255589.23529758526   </td><td>181982.57594936708 </td><td>226465.8274336283   </td><td>236446.98648648648    </td><td>239676.72027972032       </td><td>181425.2874371859 </td><td>2198.0            </td><td>84.0             </td><td>174574.41216991964</td><td>200494.42807017543    </td><td>216859.7290502793    </td><td>187684.15196425194    </td><td>1.0               </td><td>216626.9093484419    </td><td>183357.84694932782   </td><td>4.0               </td><td>210965.119205298    </td><td>182216.631         </td><td>178818.25814185815 </td><td>182383.5220883534 </td><td>192391.8022670025 </td><td>655.0             </td><td>187595.7541966427 </td><td>181235.93597560975</td><td>1053.0            </td><td>187523.8671023965   </td><td>2.0               </td><td>188146.7502726281   </td><td>192.0             </td><td>3.0               </td><td>188334.07174392935  </td><td>14260.0           </td><td>185776.46347031964  </td><td>350.0             </td><td>243184.96534653462  </td><td>1.0                </td><td>0.0               </td><td>204076.0357142857    </td><td>186782.0            </td><td>0.0               </td><td>171522.79741935484 </td><td>185630.71806674334    </td><td>187716.3622559653   </td><td>0.0               </td><td>836.0             </td><td>490.0             </td><td>0.0               </td><td>84.0             </td><td>203664.60358890702  </td><td>1.0               </td><td>202661.43181818182   </td><td>181231.93779904302</td></tr>\n",
       "<tr><td>4      </td><td>156555.86183074262  </td><td>6.0              </td><td>5.0              </td><td>184737.95170142702</td><td>0.0              </td><td>796.0             </td><td>139811.59481037923   </td><td>144619.2755267423  </td><td>184672.98832271763</td><td>167645.4123076923     </td><td>185063.63879957132  </td><td>182525.73333333334  </td><td>177020.8800489596      </td><td>224263.06658341654 </td><td>182282.48766816143   </td><td>216426.0           </td><td>200924.0538641686 </td><td>157653.3733433233     </td><td>209450.39420289855</td><td>154576.6979101979 </td><td>1.0               </td><td>185708.33940774488 </td><td>1993.0            </td><td>0.0               </td><td>183201.27365208542</td><td>174686.7521894772 </td><td>0.0               </td><td>0.0                </td><td>796.0            </td><td>132854.87169811322   </td><td>181982.57594936708 </td><td>185142.46052281052  </td><td>236446.98648648648    </td><td>201059.23195876292       </td><td>181425.2874371859 </td><td>1362.0            </td><td>30.0             </td><td>174574.41216991964</td><td>141354.57177033494    </td><td>216859.7290502793    </td><td>201745.79385614384    </td><td>0.0               </td><td>216626.9093484419    </td><td>151058.18256582128   </td><td>1.0               </td><td>149995.43881027232  </td><td>182216.631         </td><td>176473.2899159664  </td><td>182383.5220883534 </td><td>192391.8022670025 </td><td>732.0             </td><td>187595.7541966427 </td><td>181235.93597560975</td><td>566.0             </td><td>187523.8671023965   </td><td>1.0               </td><td>188146.7502726281   </td><td>40.0              </td><td>2.0               </td><td>188334.07174392935  </td><td>14115.0           </td><td>185776.46347031964  </td><td>0.0               </td><td>150591.33185614386  </td><td>1.0                </td><td>700.0             </td><td>142610.06223175966   </td><td>186782.0            </td><td>320.0             </td><td>171522.79741935484 </td><td>185630.71806674334    </td><td>187716.3622559653   </td><td>0.0               </td><td>480.0             </td><td>64.0              </td><td>0.0               </td><td>85.0             </td><td>203664.60358890702  </td><td>1.0               </td><td>202661.43181818182   </td><td>181058.37280701756</td></tr>\n",
       "<tr><td>5      </td><td>256064.37787676242  </td><td>7.0              </td><td>7.0              </td><td>184737.95170142702</td><td>0.0              </td><td>1686.0            </td><td>212221.98514851482   </td><td>229333.4454277286  </td><td>184672.98832271763</td><td>207605.41721854304    </td><td>185063.63879957132  </td><td>182525.73333333334  </td><td>177020.8800489596      </td><td>204933.0865390707  </td><td>182282.48766816143   </td><td>216426.0           </td><td>312352.66653056245</td><td>214617.5167374998     </td><td>165131.57073954982</td><td>189018.974137931  </td><td>1.0               </td><td>185708.33940774488 </td><td>2004.0            </td><td>0.0               </td><td>183201.27365208542</td><td>185447.96554289086</td><td>0.0               </td><td>0.0                </td><td>1694.0           </td><td>255589.23529758526   </td><td>181982.57594936708 </td><td>226465.8274336283   </td><td>236446.98648648648    </td><td>239676.72027972032       </td><td>181425.2874371859 </td><td>1694.0            </td><td>57.0             </td><td>174574.41216991964</td><td>200494.42807017543    </td><td>216859.7290502793    </td><td>209843.16649765332    </td><td>1.0               </td><td>216626.9093484419    </td><td>183357.84694932782   </td><td>3.0               </td><td>178321.97183098592  </td><td>182216.631         </td><td>176473.2899159664  </td><td>182383.5220883534 </td><td>192391.8022670025 </td><td>1369.0            </td><td>187595.7541966427 </td><td>181235.93597560975</td><td>0.0               </td><td>187523.8671023965   </td><td>2.0               </td><td>188146.7502726281   </td><td>255.0             </td><td>2.0               </td><td>188334.07174392935  </td><td>10084.0           </td><td>185776.46347031964  </td><td>186.0             </td><td>187575.74864864862  </td><td>1.0                </td><td>0.0               </td><td>225928.18076923073   </td><td>186782.0            </td><td>0.0               </td><td>171522.79741935484 </td><td>185630.71806674334    </td><td>187716.3622559653   </td><td>0.0               </td><td>636.0             </td><td>317.0             </td><td>0.0               </td><td>75.0             </td><td>203664.60358890702  </td><td>0.0               </td><td>202661.43181818182   </td><td>186896.74166666667</td></tr>\n",
       "<tr><td>6      </td><td>156555.86183074262  </td><td>9.0              </td><td>8.0              </td><td>184737.95170142702</td><td>0.0              </td><td>952.0             </td><td>139811.59481037923   </td><td>144619.2755267423  </td><td>184672.98832271763</td><td>167645.4123076923     </td><td>153787.09385614382  </td><td>182525.73333333334  </td><td>153108.76116383614     </td><td>134978.29385614386 </td><td>182282.48766816143   </td><td>157465.01829268291 </td><td>141930.00455580864</td><td>133772.61742757243    </td><td>165131.57073954982</td><td>189018.974137931  </td><td>0.0               </td><td>185708.33940774488 </td><td>1931.0            </td><td>0.0               </td><td>183201.27365208542</td><td>171267.6210300569 </td><td>0.0               </td><td>0.0                </td><td>1022.0           </td><td>207242.98260869566   </td><td>181982.57594936708 </td><td>136922.75385614386  </td><td>172096.88704318934    </td><td>141720.08256582127       </td><td>181425.2874371859 </td><td>1774.0            </td><td>0.0              </td><td>174574.41216991964</td><td>141354.57177033494    </td><td>174764.54385614384   </td><td>130271.86565101566    </td><td>2.0               </td><td>153754.05472570908   </td><td>183357.84694932782   </td><td>2.0               </td><td>149995.43881027232  </td><td>182216.631         </td><td>176473.2899159664  </td><td>182383.5220883534 </td><td>135492.29843360864</td><td>0.0               </td><td>187595.7541966427 </td><td>181235.93597560975</td><td>752.0             </td><td>187523.8671023965   </td><td>2.0               </td><td>188146.7502726281   </td><td>90.0              </td><td>2.0               </td><td>131334.20218947722  </td><td>6120.0            </td><td>134468.29385614386  </td><td>0.0               </td><td>150591.33185614386  </td><td>2.0                </td><td>0.0               </td><td>204076.0357142857    </td><td>186782.0            </td><td>0.0               </td><td>171522.79741935484 </td><td>185630.71806674334    </td><td>129502.64385614383  </td><td>205.0             </td><td>468.0             </td><td>952.0             </td><td>0.0               </td><td>51.0             </td><td>133017.2480620155   </td><td>0.0               </td><td>202661.43181818182   </td><td>181231.93779904302</td></tr>\n",
       "<tr><td>7      </td><td>156555.86183074262  </td><td>11.0             </td><td>5.0              </td><td>184737.95170142702</td><td>0.0              </td><td>1040.0            </td><td>139811.59481037923   </td><td>144619.2755267423  </td><td>184672.98832271763</td><td>167645.4123076923     </td><td>185063.63879957132  </td><td>182525.73333333334  </td><td>177020.8800489596      </td><td>151119.07135614386 </td><td>182282.48766816143   </td><td>216426.0           </td><td>141930.00455580864</td><td>143540.98922651424    </td><td>165131.57073954982</td><td>189018.974137931  </td><td>1.0               </td><td>185708.33940774488 </td><td>1965.0            </td><td>0.0               </td><td>183201.27365208542</td><td>175405.8820140386 </td><td>0.0               </td><td>0.0                </td><td>1040.0           </td><td>132854.87169811322   </td><td>181982.57594936708 </td><td>150397.2807424594   </td><td>150410.4464877228     </td><td>152368.91505791506       </td><td>181425.2874371859 </td><td>1040.0            </td><td>0.0              </td><td>174574.41216991964</td><td>141354.57177033494    </td><td>162189.7051282051    </td><td>139955.20323114382    </td><td>0.0               </td><td>169688.48681389034   </td><td>183357.84694932782   </td><td>3.0               </td><td>178321.97183098592  </td><td>182216.631         </td><td>176473.2899159664  </td><td>182383.5220883534 </td><td>192391.8022670025 </td><td>906.0             </td><td>187595.7541966427 </td><td>181235.93597560975</td><td>0.0               </td><td>187523.8671023965   </td><td>1.0               </td><td>188146.7502726281   </td><td>0.0               </td><td>1.0               </td><td>188334.07174392935  </td><td>11200.0           </td><td>185776.46347031964  </td><td>0.0               </td><td>187575.74864864862  </td><td>1.0                </td><td>0.0               </td><td>142610.06223175966   </td><td>186782.0            </td><td>0.0               </td><td>222601.05940594056 </td><td>185630.71806674334    </td><td>187716.3622559653   </td><td>0.0               </td><td>384.0             </td><td>134.0             </td><td>0.0               </td><td>70.0             </td><td>133017.2480620155   </td><td>0.0               </td><td>202661.43181818182   </td><td>181231.93779904302</td></tr>\n",
       "<tr><td>8      </td><td>256064.37787676242  </td><td>12.0             </td><td>11.0             </td><td>184737.95170142702</td><td>0.0              </td><td>1175.0            </td><td>305958.08769176033   </td><td>348876.58744588745 </td><td>184672.98832271763</td><td>167645.4123076923     </td><td>185063.63879957132  </td><td>182525.73333333334  </td><td>260380.61674771016     </td><td>220499.76885614387 </td><td>182282.48766816143   </td><td>216426.0           </td><td>312352.66653056245</td><td>301677.8909715284     </td><td>209450.39420289855</td><td>189018.974137931  </td><td>1.0               </td><td>185708.33940774488 </td><td>2005.0            </td><td>0.0               </td><td>183201.27365208542</td><td>192174.2264150943 </td><td>0.0               </td><td>0.0                </td><td>1182.0           </td><td>346477.7641686438    </td><td>181982.57594936708 </td><td>226465.8274336283   </td><td>236446.98648648648    </td><td>239676.72027972032       </td><td>181425.2874371859 </td><td>2324.0            </td><td>21.0             </td><td>263880.6876061438 </td><td>243708.832            </td><td>155487.09385614382   </td><td>224722.36680696355    </td><td>2.0               </td><td>153754.05472570908   </td><td>183357.84694932782   </td><td>4.0               </td><td>210965.119205298    </td><td>182216.631         </td><td>176473.2899159664  </td><td>182383.5220883534 </td><td>192391.8022670025 </td><td>998.0             </td><td>187595.7541966427 </td><td>181235.93597560975</td><td>1142.0            </td><td>187523.8671023965   </td><td>3.0               </td><td>188146.7502726281   </td><td>147.0             </td><td>3.0               </td><td>188334.07174392935  </td><td>11924.0           </td><td>185776.46347031964  </td><td>286.0             </td><td>243184.96534653462  </td><td>1.0                </td><td>0.0               </td><td>225928.18076923073   </td><td>186782.0            </td><td>0.0               </td><td>222601.05940594056 </td><td>185630.71806674334    </td><td>187716.3622559653   </td><td>0.0               </td><td>736.0             </td><td>177.0             </td><td>0.0               </td><td>85.0             </td><td>243875.54558028182  </td><td>0.0               </td><td>202661.43181818182   </td><td>179239.41089108912</td></tr>\n",
       "<tr><td>9      </td><td>156555.86183074262  </td><td>13.0             </td><td>4.0              </td><td>184737.95170142702</td><td>0.0              </td><td>912.0             </td><td>139811.59481037923   </td><td>144619.2755267423  </td><td>184672.98832271763</td><td>167645.4123076923     </td><td>185063.63879957132  </td><td>182525.73333333334  </td><td>177020.8800489596      </td><td>154668.87077922074 </td><td>182282.48766816143   </td><td>141464.28231292518 </td><td>141930.00455580864</td><td>143540.98922651424    </td><td>220137.0973044197 </td><td>189018.974137931  </td><td>1.0               </td><td>185708.33940774488 </td><td>1962.0            </td><td>0.0               </td><td>183201.27365208542</td><td>195815.36317432567</td><td>176.0             </td><td>0.0                </td><td>912.0            </td><td>132854.87169811322   </td><td>181982.57594936708 </td><td>150397.2807424594   </td><td>161782.77448994666    </td><td>152368.91505791506       </td><td>181425.2874371859 </td><td>912.0             </td><td>0.0              </td><td>174574.41216991964</td><td>141354.57177033494    </td><td>162189.7051282051    </td><td>158518.57163392162    </td><td>0.0               </td><td>172512.37104060987   </td><td>183357.84694932782   </td><td>2.0               </td><td>178321.97183098592  </td><td>182216.631         </td><td>176473.2899159664  </td><td>182383.5220883534 </td><td>192391.8022670025 </td><td>737.0             </td><td>187595.7541966427 </td><td>181235.93597560975</td><td>0.0               </td><td>187523.8671023965   </td><td>1.0               </td><td>188146.7502726281   </td><td>140.0             </td><td>1.0               </td><td>188334.07174392935  </td><td>12968.0           </td><td>185776.46347031964  </td><td>0.0               </td><td>187575.74864864862  </td><td>1.0                </td><td>0.0               </td><td>142610.06223175966   </td><td>186782.0            </td><td>0.0               </td><td>222601.05940594056 </td><td>185630.71806674334    </td><td>187716.3622559653   </td><td>0.0               </td><td>352.0             </td><td>175.0             </td><td>0.0               </td><td>71.0             </td><td>133017.2480620155   </td><td>0.0               </td><td>155727.88304093567   </td><td>181231.93779904302</td></tr>\n",
       "</tbody>\n",
       "</table>"
      ]
     },
     "metadata": {},
     "output_type": "display_data"
    },
    {
     "name": "stdout",
     "output_type": "stream",
     "text": [
      "--------------------------------------------------------------------------------\n",
      "Imputed and encoded numeric validation data:\n",
      "Rows:459\n",
      "Cols:81\n",
      "\n",
      "\n"
     ]
    },
    {
     "data": {
      "text/html": [
       "<table>\n",
       "<thead>\n",
       "<tr><th>       </th><th>MasVnrType_Tencode  </th><th>Id                </th><th>TotRmsAbvGrd      </th><th>BsmtCond_Tencode  </th><th>PoolArea          </th><th>TotalBsmtSF      </th><th>KitchenQual_Tencode  </th><th>ExterQual_Tencode  </th><th>Alley_Tencode     </th><th>BsmtExposure_Tencode  </th><th>Functional_Tencode  </th><th>Condition2_Tencode  </th><th>SaleCondition_Tencode  </th><th>YearBuilt_Tencode  </th><th>LandContour_Tencode  </th><th>HeatingQC_Tencode  </th><th>BsmtQual_Tencode  </th><th>Neighborhood_Tencode  </th><th>LotShape_Tencode  </th><th>Fence_Tencode     </th><th>BsmtFullBath       </th><th>ExterCond_Tencode  </th><th>GarageYrBlt       </th><th>LowQualFinSF     </th><th>Heating_Tencode   </th><th>MoSold_Tencode    </th><th>ScreenPorch       </th><th>BsmtHalfBath       </th><th>1stFlrSF          </th><th>OverallQual_Tencode  </th><th>LandSlope_Tencode  </th><th>Foundation_Tencode  </th><th>BsmtFinType1_Tencode  </th><th>GarageYrBltBins_Tencode  </th><th>PoolQC_Tencode    </th><th>GrLivArea         </th><th>OpenPorchSF      </th><th>SaleType_Tencode  </th><th>GarageFinish_Tencode  </th><th>Exterior1st_Tencode  </th><th>YearRemodAdd_Tencode  </th><th>Fireplaces        </th><th>Exterior2nd_Tencode  </th><th>MiscFeature_Tencode  </th><th>BedroomAbvGr      </th><th>HouseStyle_Tencode  </th><th>Utilities_Tencode  </th><th>LotConfig_Tencode  </th><th>Street_Tencode    </th><th>MSZoning_Tencode  </th><th>BsmtFinSF1        </th><th>BldgType_Tencode  </th><th>RoofMatl_Tencode  </th><th>2ndFlrSF          </th><th>PavedDrive_Tencode  </th><th>FullBath          </th><th>GarageCond_Tencode  </th><th>WoodDeckSF        </th><th>GarageCars        </th><th>GarageQual_Tencode  </th><th>LotArea           </th><th>Condition1_Tencode  </th><th>MasVnrArea        </th><th>MSSubClass_Tencode  </th><th>KitchenAbvGr       </th><th>MiscVal           </th><th>FireplaceQu_Tencode  </th><th>CentralAir_Tencode  </th><th>3SsnPorch        </th><th>RoofStyle_Tencode  </th><th>BsmtFinType2_Tencode  </th><th>Electrical_Tencode  </th><th>EnclosedPorch    </th><th>GarageArea        </th><th>BsmtUnfSF        </th><th>BsmtFinSF2        </th><th>LotFrontage       </th><th>GarageType_Tencode  </th><th>HalfBath          </th><th>OverallCond_Tencode  </th><th>YrSold_Tencode    </th></tr>\n",
       "</thead>\n",
       "<tbody>\n",
       "<tr><td>type   </td><td>real                </td><td>int               </td><td>int               </td><td>real              </td><td>int               </td><td>int              </td><td>real                 </td><td>real               </td><td>real              </td><td>real                  </td><td>real                </td><td>real                </td><td>real                   </td><td>real               </td><td>real                 </td><td>real               </td><td>real              </td><td>real                  </td><td>real              </td><td>real              </td><td>int                </td><td>real               </td><td>int               </td><td>int              </td><td>real              </td><td>real              </td><td>int               </td><td>int                </td><td>int               </td><td>real                 </td><td>real               </td><td>real                </td><td>real                  </td><td>real                     </td><td>real              </td><td>int               </td><td>int              </td><td>real              </td><td>real                  </td><td>real                 </td><td>real                  </td><td>int               </td><td>real                 </td><td>real                 </td><td>int               </td><td>real                </td><td>real               </td><td>real               </td><td>real              </td><td>real              </td><td>int               </td><td>real              </td><td>real              </td><td>int               </td><td>real                </td><td>int               </td><td>real                </td><td>int               </td><td>int               </td><td>real                </td><td>int               </td><td>real                </td><td>int               </td><td>real                </td><td>int                </td><td>int               </td><td>real                 </td><td>real                </td><td>int              </td><td>real               </td><td>real                  </td><td>real                </td><td>int              </td><td>int               </td><td>int              </td><td>int               </td><td>real              </td><td>real                </td><td>int               </td><td>real                 </td><td>real              </td></tr>\n",
       "<tr><td>mins   </td><td>131576.52450980392  </td><td>4.0               </td><td>2.0               </td><td>78579.02450980392 </td><td>0.0               </td><td>0.0              </td><td>105130.89950980392   </td><td>91042.14950980392  </td><td>134607.54723707662</td><td>107897.15367647057    </td><td>84954.02450980392   </td><td>84954.02450980392   </td><td>143816.52450980392     </td><td>79514.02450980392  </td><td>163075.56297134238   </td><td>100679.02450980392 </td><td>107897.15367647057</td><td>112866.7168174962     </td><td>163981.4191419142 </td><td>133419.96200980392</td><td>0.0                </td><td>91754.02450980392  </td><td>0.0               </td><td>0.0              </td><td>77729.02450980392 </td><td>162484.5985098039 </td><td>0.0               </td><td>0.0                </td><td>334.0             </td><td>69356.52450980392    </td><td>175531.83179723503 </td><td>110363.31736694675  </td><td>107897.15367647057    </td><td>108352.20632798571       </td><td>178187.36899563318</td><td>334.0             </td><td>0.0              </td><td>107734.02450980392</td><td>108352.20632798571    </td><td>96429.02450980392    </td><td>120621.97532947603    </td><td>0.0               </td><td>106204.02450980392   </td><td>73479.02450980392    </td><td>0.0               </td><td>122402.59593837534  </td><td>178193.4967320261  </td><td>165751.57330498463 </td><td>95579.02450980392 </td><td>118217.35784313723</td><td>0.0               </td><td>128987.56617647059</td><td>175904.02450980392</td><td>0.0               </td><td>114840.96895424835  </td><td>0.0               </td><td>108352.20632798571  </td><td>0.0               </td><td>0.0               </td><td>108352.20632798571  </td><td>1491.0            </td><td>150223.0311764706   </td><td>0.0               </td><td>95012.35784313723   </td><td>1.0                </td><td>0.0               </td><td>133191.52450980392   </td><td>111601.52450980392  </td><td>0.0              </td><td>139864.02450980392 </td><td>107897.15367647057    </td><td>100143.52450980392  </td><td>0.0              </td><td>0.0               </td><td>0.0              </td><td>0.0               </td><td>21.0              </td><td>108352.20632798571  </td><td>0.0               </td><td>78579.02450980392    </td><td>169627.25564187934</td></tr>\n",
       "<tr><td>mean   </td><td>176236.3233521294   </td><td>742.8671023965148 </td><td>6.52941176470589  </td><td>178575.42264940837</td><td>1.411764705882353 </td><td>1044.760348583878</td><td>177298.28443120178   </td><td>174940.29949164853 </td><td>178551.46728608664</td><td>176528.2975458157     </td><td>178425.7326455637   </td><td>178197.18104147993  </td><td>177335.48292323473     </td><td>178193.49673202625 </td><td>177854.22806185653   </td><td>180663.66151693798 </td><td>177231.78653936516</td><td>178193.49673202608    </td><td>176786.22238241715</td><td>178943.90578410032</td><td>0.42265795206971674</td><td>178484.55631381104 </td><td>1835.7864923747268</td><td>5.668845315904139</td><td>178371.04867785898</td><td>178193.49673202605</td><td>15.710239651416122</td><td>0.05228758169934641</td><td>1141.9912854030508</td><td>178193.49673202616   </td><td>177815.9926203596  </td><td>179041.90369302416  </td><td>178193.49673202584    </td><td>178193.49673202634       </td><td>178192.57957409543</td><td>1506.0043572984757</td><td>50.44662309368192</td><td>177239.63702422142</td><td>176100.76506899047    </td><td>179651.10523303007   </td><td>178193.49673202634    </td><td>0.5969498910675383</td><td>179728.6088213935    </td><td>178331.82024007873   </td><td>2.856209150326796 </td><td>177648.76674783212  </td><td>178193.4967320261  </td><td>178163.2663740442  </td><td>178225.25931265744</td><td>179328.32668845326</td><td>439.36601307189557</td><td>178649.14910504507</td><td>177969.71943483278</td><td>358.34422657952064</td><td>179002.96058140023  </td><td>1.544662309368193 </td><td>179410.743410654    </td><td>101.15904139433547</td><td>1.7102396514161213</td><td>179173.93458285267  </td><td>10273.808278867102</td><td>178617.62590029478  </td><td>96.47276688453148 </td><td>178290.67043872018  </td><td>1.0457516339869268 </td><td>51.78649237472768 </td><td>175300.38912811334   </td><td>179115.18492887347  </td><td>3.30718954248366 </td><td>177381.14581571185 </td><td>178749.88685121093    </td><td>179083.62772865142  </td><td>23.4727668845316 </td><td>463.19172113289744</td><td>548.159041394335 </td><td>57.235294117647065</td><td>69.0108932461874  </td><td>180113.26154897668  </td><td>0.3856209150326796</td><td>180314.7703639625    </td><td>178193.496732026  </td></tr>\n",
       "<tr><td>maxs   </td><td>243111.468058191    </td><td>1459.0            </td><td>12.0              </td><td>204324.73418722322</td><td>648.0             </td><td>3200.0           </td><td>307728.63562091504   </td><td>311103.9129713424  </td><td>180974.4445098039 </td><td>252970.21398348815    </td><td>181312.14950980392  </td><td>302979.0245098039   </td><td>255001.6042717087      </td><td>430479.0245098039  </td><td>252389.9995098039    </td><td>211491.75330396474 </td><td>287410.74022408965</td><td>288359.0245098039     </td><td>257372.27450980392</td><td>184450.31335149863</td><td>2.0                </td><td>197862.35784313726 </td><td>2009.0            </td><td>572.0            </td><td>179414.41573033712</td><td>200082.05082559335</td><td>480.0             </td><td>1.0                </td><td>3228.0            </td><td>369297.8945098039    </td><td>219485.84269162212 </td><td>222366.88205128204  </td><td>224699.7863950498     </td><td>228607.89347532115       </td><td>180579.02450980392</td><td>3608.0            </td><td>547.0            </td><td>255001.6042717087 </td><td>223156.8495098039     </td><td>230256.21200980392   </td><td>273645.3828431372     </td><td>3.0               </td><td>237481.8022875817    </td><td>188229.02450980392   </td><td>6.0               </td><td>221634.02450980392  </td><td>178193.4967320261  </td><td>221371.6687405731  </td><td>178405.7096069869 </td><td>219311.6970098039 </td><td>1880.0            </td><td>183943.1995098039 </td><td>296434.0245098039 </td><td>1611.0            </td><td>184063.06872037915  </td><td>3.0               </td><td>187300.52567237162  </td><td>857.0             </td><td>4.0               </td><td>282791.5245098039   </td><td>215245.0          </td><td>311479.0245098039   </td><td>1600.0            </td><td>224956.37657165958  </td><td>2.0                </td><td>8300.0            </td><td>345181.5245098039    </td><td>184861.0283687943   </td><td>407.0            </td><td>205162.1274859944  </td><td>194068.52450980392    </td><td>184788.65617433414  </td><td>301.0            </td><td>1248.0            </td><td>2336.0           </td><td>1474.0            </td><td>182.0             </td><td>243247.17284313726  </td><td>2.0               </td><td>236726.2467320261    </td><td>186970.48567051822</td></tr>\n",
       "<tr><td>sigma  </td><td>27300.308004292383  </td><td>422.05491502326714</td><td>1.7068785455857547</td><td>17674.722900752706</td><td>30.246049815005012</td><td>412.0811851328445</td><td>48579.93227209306    </td><td>46704.676972640176 </td><td>9870.638176773426 </td><td>29831.690627197433    </td><td>8139.874204543354   </td><td>7675.716724689661   </td><td>25636.5564484805       </td><td>48282.59548084681  </td><td>12704.546441754976   </td><td>31183.876623648637 </td><td>46388.72372416759 </td><td>47446.35307377432     </td><td>21170.422649021333</td><td>12656.577864073239</td><td>0.5161250426046549 </td><td>12461.390436783036 </td><td>512.057765479955  </td><td>46.66085163497713</td><td>7482.9638209952   </td><td>8376.309432540083 </td><td>59.12791370210353 </td><td>0.2228492452574714 </td><td>373.01668824001615</td><td>55383.22892736045    </td><td>9612.485004032442  </td><td>37636.63649998418   </td><td>30235.126490265342    </td><td>38096.993571949526       </td><td>111.63291947830336</td><td>537.1049436609105 </td><td>72.74780631554769</td><td>25705.648619049694</td><td>37887.20742632184     </td><td>27697.042657464837   </td><td>38509.35013979468     </td><td>0.6515613257699318</td><td>26639.054892573462   </td><td>5792.9151130758355   </td><td>0.8391483048651234</td><td>21371.85806025564   </td><td>0.0                </td><td>11574.4525615196   </td><td>3866.0185855881646</td><td>22954.507567875306</td><td>431.42414339733244</td><td>11313.686291071555</td><td>12445.872412899758</td><td>444.5856999141145 </td><td>17370.731330504437  </td><td>0.5445931590280559</td><td>22986.979310392446  </td><td>136.0428056028114 </td><td>0.7712943151662268</td><td>22413.52398643429   </td><td>11072.988785723228</td><td>12058.531723299979  </td><td>183.06222490418148</td><td>34491.169018196844  </td><td>0.20917396118996429</td><td>449.54109321577573</td><td>41407.53486285178    </td><td>19717.249202290554  </td><td>28.18457901138756</td><td>13516.296484902437 </td><td>13507.295148882748    </td><td>17731.970597652493  </td><td>61.32101817353125</td><td>221.95498544637042</td><td>436.0358278966984</td><td>185.24001065203282</td><td>20.747859653582008</td><td>36364.50360655458   </td><td>0.5091844194507408</td><td>30660.56351655315    </td><td>6756.846117385383 </td></tr>\n",
       "<tr><td>zeros  </td><td>0                   </td><td>0                 </td><td>0                 </td><td>0                 </td><td>458               </td><td>12               </td><td>0                    </td><td>0                  </td><td>0                 </td><td>0                     </td><td>0                   </td><td>0                   </td><td>0                      </td><td>0                  </td><td>0                    </td><td>0                  </td><td>0                 </td><td>0                     </td><td>0                 </td><td>0                 </td><td>270                </td><td>0                  </td><td>33                </td><td>450              </td><td>0                 </td><td>0                 </td><td>423               </td><td>435                </td><td>0                 </td><td>0                    </td><td>0                  </td><td>0                   </td><td>0                     </td><td>0                        </td><td>0                 </td><td>0                 </td><td>196              </td><td>0                 </td><td>0                     </td><td>0                    </td><td>0                     </td><td>224               </td><td>0                    </td><td>0                    </td><td>2                 </td><td>0                   </td><td>0                  </td><td>0                  </td><td>0                 </td><td>0                 </td><td>141               </td><td>0                 </td><td>0                 </td><td>257               </td><td>0                   </td><td>3                 </td><td>0                   </td><td>238               </td><td>33                </td><td>0                   </td><td>0                 </td><td>0                   </td><td>292               </td><td>0                   </td><td>0                  </td><td>439               </td><td>0                    </td><td>0                   </td><td>451              </td><td>0                  </td><td>0                     </td><td>0                   </td><td>385              </td><td>33                </td><td>40               </td><td>399               </td><td>0                 </td><td>0                   </td><td>287               </td><td>0                    </td><td>0                 </td></tr>\n",
       "<tr><td>missing</td><td>0                   </td><td>0                 </td><td>0                 </td><td>0                 </td><td>0                 </td><td>0                </td><td>0                    </td><td>0                  </td><td>0                 </td><td>0                     </td><td>0                   </td><td>0                   </td><td>0                      </td><td>0                  </td><td>0                    </td><td>0                  </td><td>0                 </td><td>0                     </td><td>0                 </td><td>0                 </td><td>0                  </td><td>0                  </td><td>0                 </td><td>0                </td><td>0                 </td><td>0                 </td><td>0                 </td><td>0                  </td><td>0                 </td><td>0                    </td><td>0                  </td><td>0                   </td><td>0                     </td><td>0                        </td><td>0                 </td><td>0                 </td><td>0                </td><td>0                 </td><td>0                     </td><td>0                    </td><td>0                     </td><td>0                 </td><td>0                    </td><td>0                    </td><td>0                 </td><td>0                   </td><td>0                  </td><td>0                  </td><td>0                 </td><td>0                 </td><td>0                 </td><td>0                 </td><td>0                 </td><td>0                 </td><td>0                   </td><td>0                 </td><td>0                   </td><td>0                 </td><td>0                 </td><td>0                   </td><td>0                 </td><td>0                   </td><td>0                 </td><td>0                   </td><td>0                  </td><td>0                 </td><td>0                    </td><td>0                   </td><td>0                </td><td>0                  </td><td>0                     </td><td>0                   </td><td>0                </td><td>0                 </td><td>0                </td><td>0                 </td><td>0                 </td><td>0                   </td><td>0                 </td><td>0                    </td><td>0                 </td></tr>\n",
       "<tr><td>0      </td><td>157753.39249146762  </td><td>4.0               </td><td>7.0               </td><td>204324.73418722322</td><td>0.0               </td><td>756.0            </td><td>211880.81318681315   </td><td>143747.87889273354 </td><td>180758.81264637003</td><td>161376.63366336632    </td><td>179857.76346604215  </td><td>178218.27472527474  </td><td>147087.25059676042     </td><td>134248.71200980392 </td><td>175715.7828162291    </td><td>158961.70308123247 </td><td>138313.57142857142</td><td>216008.84593837534    </td><td>194850.58566088302</td><td>184450.31335149863</td><td>1.0                </td><td>180398.05693069307 </td><td>1998.0            </td><td>0.0              </td><td>179414.41573033712</td><td>186396.24236694674</td><td>0.0               </td><td>0.0                </td><td>961.0             </td><td>204327.95765587135   </td><td>175531.83179723503 </td><td>144486.10784313726  </td><td>169309.44117647054    </td><td>199424.48842732972       </td><td>178187.36899563318</td><td>1717.0            </td><td>35.0             </td><td>170822.7626262626 </td><td>143948.79679144386    </td><td>154595.81798806478   </td><td>155036.52450980392    </td><td>1.0               </td><td>180267.35784313726   </td><td>179157.6651480638    </td><td>3.0               </td><td>203633.455628685    </td><td>178193.4967320261  </td><td>165751.57330498463 </td><td>178405.7096069869 </td><td>187920.61064425771</td><td>216.0             </td><td>181805.66321243523</td><td>176671.8111111111 </td><td>756.0             </td><td>184063.06872037915  </td><td>1.0               </td><td>187300.52567237162  </td><td>0.0               </td><td>3.0               </td><td>185601.24938271602  </td><td>9550.0            </td><td>181573.27604166663  </td><td>0.0               </td><td>182715.71200980392  </td><td>1.0                </td><td>0.0               </td><td>219907.18575980392   </td><td>184861.0283687943   </td><td>0.0              </td><td>171401.71038251367 </td><td>182592.86046511628    </td><td>184788.65617433414  </td><td>272.0            </td><td>642.0             </td><td>540.0            </td><td>0.0               </td><td>60.0              </td><td>142532.16792065662  </td><td>0.0               </td><td>204262.16064257032   </td><td>186970.48567051822</td></tr>\n",
       "<tr><td>1      </td><td>243111.468058191    </td><td>8.0               </td><td>7.0               </td><td>181115.23         </td><td>0.0               </td><td>1107.0           </td><td>140285.62820512822   </td><td>143747.87889273354 </td><td>180758.81264637003</td><td>199413.65506535943    </td><td>179857.76346604215  </td><td>178218.27472527474  </td><td>171302.3622047244      </td><td>161156.52450980392 </td><td>175715.7828162291    </td><td>211491.75330396474 </td><td>206633.03141361254</td><td>184610.14950980392    </td><td>194850.58566088302</td><td>184450.31335149863</td><td>1.0                </td><td>180398.05693069307 </td><td>1973.0            </td><td>0.0              </td><td>179414.41573033712</td><td>200082.05082559335</td><td>0.0               </td><td>0.0                </td><td>1107.0            </td><td>204327.95765587135   </td><td>175531.83179723503 </td><td>148549.72906403942  </td><td>169309.44117647054    </td><td>158794.07093837534       </td><td>178187.36899563318</td><td>2090.0            </td><td>204.0            </td><td>170822.7626262626 </td><td>201271.56721053383    </td><td>167128.41844919784   </td><td>161352.02450980392    </td><td>2.0               </td><td>169568.25527903467   </td><td>163465.69117647054   </td><td>3.0               </td><td>203633.455628685    </td><td>178193.4967320261  </td><td>165751.57330498463 </td><td>178405.7096069869 </td><td>187920.61064425771</td><td>859.0             </td><td>181805.66321243523</td><td>176671.8111111111 </td><td>983.0             </td><td>184063.06872037915  </td><td>2.0               </td><td>187300.52567237162  </td><td>235.0             </td><td>2.0               </td><td>185601.24938271602  </td><td>10382.0           </td><td>197366.52450980392  </td><td>240.0             </td><td>224956.37657165958  </td><td>1.0                </td><td>350.0             </td><td>205118.42900418595   </td><td>184861.0283687943   </td><td>0.0              </td><td>171401.71038251367 </td><td>156634.52450980392    </td><td>184788.65617433414  </td><td>228.0            </td><td>484.0             </td><td>216.0            </td><td>32.0              </td><td>80.0              </td><td>201051.3968871595   </td><td>1.0               </td><td>154426.8646332607    </td><td>176381.1217825312 </td></tr>\n",
       "<tr><td>2      </td><td>157753.39249146762  </td><td>10.0              </td><td>5.0               </td><td>181115.23         </td><td>0.0               </td><td>991.0            </td><td>140285.62820512822   </td><td>143747.87889273354 </td><td>180758.81264637003</td><td>161376.63366336632    </td><td>179857.76346604215  </td><td>127029.02450980392  </td><td>171302.3622047244      </td><td>139354.02450980392 </td><td>175715.7828162291    </td><td>211491.75330396474 </td><td>138313.57142857142</td><td>129965.77450980392    </td><td>163981.4191419142 </td><td>184450.31335149863</td><td>1.0                </td><td>180398.05693069307 </td><td>1939.0            </td><td>0.0              </td><td>179414.41573033712</td><td>162484.5985098039 </td><td>0.0               </td><td>0.0                </td><td>1077.0            </td><td>141364.58360071303   </td><td>175531.83179723503 </td><td>144486.10784313726  </td><td>224699.7863950498     </td><td>156634.52450980392       </td><td>178187.36899563318</td><td>1077.0            </td><td>4.0              </td><td>170822.7626262626 </td><td>201271.56721053383    </td><td>151733.02861939298   </td><td>120621.97532947603    </td><td>2.0               </td><td>151828.55059676044   </td><td>179157.6651480638    </td><td>2.0               </td><td>122402.59593837534  </td><td>178193.4967320261  </td><td>165751.57330498463 </td><td>178405.7096069869 </td><td>187920.61064425771</td><td>851.0             </td><td>128987.56617647059</td><td>176671.8111111111 </td><td>0.0               </td><td>184063.06872037915  </td><td>1.0               </td><td>187300.52567237162  </td><td>0.0               </td><td>1.0               </td><td>194951.10784313726  </td><td>7420.0            </td><td>152316.52450980392  </td><td>0.0               </td><td>128987.56617647059  </td><td>2.0                </td><td>0.0               </td><td>205118.42900418595   </td><td>184861.0283687943   </td><td>0.0              </td><td>171401.71038251367 </td><td>182592.86046511628    </td><td>184788.65617433414  </td><td>0.0              </td><td>205.0             </td><td>140.0            </td><td>0.0               </td><td>50.0              </td><td>201051.3968871595   </td><td>0.0               </td><td>154426.8646332607    </td><td>170246.78240454075</td></tr>\n",
       "<tr><td>3      </td><td>157753.39249146762  </td><td>16.0              </td><td>5.0               </td><td>181115.23         </td><td>0.0               </td><td>832.0            </td><td>140285.62820512822   </td><td>143747.87889273354 </td><td>180758.81264637003</td><td>161376.63366336632    </td><td>179857.76346604215  </td><td>178218.27472527474  </td><td>171302.3622047244      </td><td>138929.02450980392 </td><td>175715.7828162291    </td><td>211491.75330396474 </td><td>138313.57142857142</td><td>129965.77450980392    </td><td>163981.4191419142 </td><td>181956.919246646  </td><td>0.0                </td><td>180398.05693069307 </td><td>1991.0            </td><td>0.0              </td><td>179414.41573033712</td><td>174581.3905098039 </td><td>0.0               </td><td>0.0                </td><td>854.0             </td><td>204327.95765587135   </td><td>175531.83179723503 </td><td>144486.10784313726  </td><td>168970.1659826721     </td><td>199424.48842732972       </td><td>178187.36899563318</td><td>854.0             </td><td>112.0            </td><td>170822.7626262626 </td><td>143948.79679144386    </td><td>154595.81798806478   </td><td>182279.02450980392    </td><td>0.0               </td><td>163767.73719637108   </td><td>179157.6651480638    </td><td>2.0               </td><td>122402.59593837534  </td><td>178193.4967320261  </td><td>165751.57330498463 </td><td>178405.7096069869 </td><td>132608.82714138282</td><td>0.0               </td><td>181805.66321243523</td><td>176671.8111111111 </td><td>0.0               </td><td>184063.06872037915  </td><td>1.0               </td><td>187300.52567237162  </td><td>48.0              </td><td>2.0               </td><td>185601.24938271602  </td><td>6120.0            </td><td>181573.27604166663  </td><td>0.0               </td><td>121631.52450980392  </td><td>1.0                </td><td>0.0               </td><td>138671.58035714287   </td><td>184861.0283687943   </td><td>0.0              </td><td>171401.71038251367 </td><td>182592.86046511628    </td><td>135344.4530812325   </td><td>0.0              </td><td>576.0             </td><td>832.0            </td><td>0.0               </td><td>51.0              </td><td>142532.16792065662  </td><td>0.0               </td><td>165210.21498599442   </td><td>182972.00372328702</td></tr>\n",
       "<tr><td>4      </td><td>203114.2504640024   </td><td>17.0              </td><td>5.0               </td><td>181115.23         </td><td>0.0               </td><td>1004.0           </td><td>140285.62820512822   </td><td>143747.87889273354 </td><td>180758.81264637003</td><td>161376.63366336632    </td><td>179857.76346604215  </td><td>178218.27472527474  </td><td>171302.3622047244      </td><td>151307.14950980392 </td><td>175715.7828162291    </td><td>211491.75330396474 </td><td>138313.57142857142</td><td>152080.32258672698    </td><td>194850.58566088302</td><td>184450.31335149863</td><td>1.0                </td><td>180398.05693069307 </td><td>1970.0            </td><td>0.0              </td><td>179414.41573033712</td><td>176369.09256535946</td><td>0.0               </td><td>0.0                </td><td>1004.0            </td><td>163241.9355717508    </td><td>175531.83179723503 </td><td>148549.72906403942  </td><td>169309.44117647054    </td><td>158794.07093837534       </td><td>178187.36899563318</td><td>1004.0            </td><td>0.0              </td><td>170822.7626262626 </td><td>223156.8495098039     </td><td>154595.81798806478   </td><td>155036.52450980392    </td><td>1.0               </td><td>163767.73719637108   </td><td>163465.69117647054   </td><td>2.0               </td><td>170914.57205240175  </td><td>178193.4967320261  </td><td>221371.6687405731  </td><td>178405.7096069869 </td><td>187920.61064425771</td><td>578.0             </td><td>181805.66321243523</td><td>176671.8111111111 </td><td>0.0               </td><td>184063.06872037915  </td><td>1.0               </td><td>187300.52567237162  </td><td>0.0               </td><td>2.0               </td><td>185601.24938271602  </td><td>11241.0           </td><td>181573.27604166663  </td><td>180.0             </td><td>179984.77108433735  </td><td>1.0                </td><td>700.0             </td><td>205118.42900418595   </td><td>184861.0283687943   </td><td>0.0              </td><td>171401.71038251367 </td><td>182592.86046511628    </td><td>184788.65617433414  </td><td>0.0              </td><td>480.0             </td><td>426.0            </td><td>0.0               </td><td>73.0              </td><td>201051.3968871595   </td><td>0.0               </td><td>152433.73154105392   </td><td>169627.25564187934</td></tr>\n",
       "<tr><td>5      </td><td>157753.39249146762  </td><td>19.0              </td><td>6.0               </td><td>181115.23         </td><td>0.0               </td><td>1114.0           </td><td>211880.81318681315   </td><td>143747.87889273354 </td><td>180758.81264637003</td><td>161376.63366336632    </td><td>179857.76346604215  </td><td>178218.27472527474  </td><td>171302.3622047244      </td><td>209272.21297134238 </td><td>175715.7828162291    </td><td>211491.75330396474 </td><td>138313.57142857142</td><td>189097.7776348039     </td><td>163981.4191419142 </td><td>184450.31335149863</td><td>1.0                </td><td>180398.05693069307 </td><td>2004.0            </td><td>0.0              </td><td>179414.41573033712</td><td>180372.69763480392</td><td>0.0               </td><td>0.0                </td><td>1114.0            </td><td>141364.58360071303   </td><td>175531.83179723503 </td><td>222366.88205128204  </td><td>224699.7863950498     </td><td>228607.89347532115       </td><td>178187.36899563318</td><td>1114.0            </td><td>102.0            </td><td>170822.7626262626 </td><td>143948.79679144386    </td><td>206602.9363057325    </td><td>205207.77450980392    </td><td>0.0               </td><td>209302.39072847684   </td><td>179157.6651480638    </td><td>3.0               </td><td>170914.57205240175  </td><td>178193.4967320261  </td><td>177919.81360946747 </td><td>178405.7096069869 </td><td>187920.61064425771</td><td>646.0             </td><td>181805.66321243523</td><td>176671.8111111111 </td><td>0.0               </td><td>184063.06872037915  </td><td>1.0               </td><td>187300.52567237162  </td><td>0.0               </td><td>2.0               </td><td>185601.24938271602  </td><td>13695.0           </td><td>150829.02450980392  </td><td>0.0               </td><td>179984.77108433735  </td><td>1.0                </td><td>0.0               </td><td>138671.58035714287   </td><td>184861.0283687943   </td><td>0.0              </td><td>171401.71038251367 </td><td>182592.86046511628    </td><td>184788.65617433414  </td><td>0.0              </td><td>576.0             </td><td>468.0            </td><td>0.0               </td><td>66.0              </td><td>142532.16792065662  </td><td>1.0               </td><td>204262.16064257032   </td><td>170246.78240454075</td></tr>\n",
       "<tr><td>6      </td><td>157753.39249146762  </td><td>22.0              </td><td>6.0               </td><td>181115.23         </td><td>0.0               </td><td>637.0            </td><td>211880.81318681315   </td><td>143747.87889273354 </td><td>134607.54723707662</td><td>161376.63366336632    </td><td>179857.76346604215  </td><td>178218.27472527474  </td><td>171302.3622047244      </td><td>113752.02450980392 </td><td>163075.56297134238   </td><td>211491.75330396474 </td><td>138313.57142857142</td><td>112866.7168174962     </td><td>163981.4191419142 </td><td>181956.919246646  </td><td>0.0                </td><td>180398.05693069307 </td><td>1930.0            </td><td>0.0              </td><td>179414.41573033712</td><td>180372.69763480392</td><td>0.0               </td><td>0.0                </td><td>1108.0            </td><td>204327.95765587135   </td><td>175531.83179723503 </td><td>222366.88205128204  </td><td>168970.1659826721     </td><td>156634.52450980392       </td><td>178187.36899563318</td><td>1108.0            </td><td>0.0              </td><td>170822.7626262626 </td><td>143948.79679144386    </td><td>154595.81798806478   </td><td>120621.97532947603    </td><td>1.0               </td><td>163767.73719637108   </td><td>179157.6651480638    </td><td>3.0               </td><td>122402.59593837534  </td><td>178193.4967320261  </td><td>177919.81360946747 </td><td>178405.7096069869 </td><td>132608.82714138282</td><td>0.0               </td><td>181805.66321243523</td><td>176671.8111111111 </td><td>0.0               </td><td>114840.96895424835  </td><td>1.0               </td><td>187300.52567237162  </td><td>0.0               </td><td>1.0               </td><td>185601.24938271602  </td><td>7449.0            </td><td>181573.27604166663  </td><td>0.0               </td><td>121631.52450980392  </td><td>1.0                </td><td>0.0               </td><td>219907.18575980392   </td><td>184861.0283687943   </td><td>0.0              </td><td>171401.71038251367 </td><td>182592.86046511628    </td><td>100143.52450980392  </td><td>205.0            </td><td>280.0             </td><td>637.0            </td><td>0.0               </td><td>57.0              </td><td>201051.3968871595   </td><td>0.0               </td><td>152433.73154105392   </td><td>182972.00372328702</td></tr>\n",
       "<tr><td>7      </td><td>157753.39249146762  </td><td>30.0              </td><td>4.0               </td><td>181115.23         </td><td>0.0               </td><td>520.0            </td><td>105130.89950980392   </td><td>143747.87889273354 </td><td>180758.81264637003</td><td>161376.63366336632    </td><td>179857.76346604215  </td><td>84954.02450980392   </td><td>171302.3622047244      </td><td>84954.02450980392  </td><td>175715.7828162291    </td><td>127694.14950980392 </td><td>138313.57142857142</td><td>129965.77450980392    </td><td>194850.58566088302</td><td>184450.31335149863</td><td>0.0                </td><td>180398.05693069307 </td><td>1920.0            </td><td>0.0              </td><td>179414.41573033712</td><td>166467.420736219  </td><td>0.0               </td><td>0.0                </td><td>520.0             </td><td>117968.89687822496   </td><td>175531.83179723503 </td><td>144486.10784313726  </td><td>168970.1659826721     </td><td>156634.52450980392       </td><td>178187.36899563318</td><td>520.0             </td><td>0.0              </td><td>170822.7626262626 </td><td>143948.79679144386    </td><td>151733.02861939298   </td><td>120621.97532947603    </td><td>0.0               </td><td>151828.55059676044   </td><td>179157.6651480638    </td><td>1.0               </td><td>170914.57205240175  </td><td>178193.4967320261  </td><td>177919.81360946747 </td><td>178405.7096069869 </td><td>132608.82714138282</td><td>0.0               </td><td>181805.66321243523</td><td>176671.8111111111 </td><td>0.0               </td><td>184063.06872037915  </td><td>1.0               </td><td>187300.52567237162  </td><td>49.0              </td><td>1.0               </td><td>134853.20367647058  </td><td>6324.0            </td><td>150223.0311764706   </td><td>0.0               </td><td>104839.30228758167  </td><td>1.0                </td><td>0.0               </td><td>138671.58035714287   </td><td>111601.52450980392  </td><td>0.0              </td><td>171401.71038251367 </td><td>182592.86046511628    </td><td>184788.65617433414  </td><td>87.0             </td><td>240.0             </td><td>520.0            </td><td>0.0               </td><td>60.0              </td><td>142532.16792065662  </td><td>0.0               </td><td>154426.8646332607    </td><td>170246.78240454075</td></tr>\n",
       "<tr><td>8      </td><td>157753.39249146762  </td><td>32.0              </td><td>6.0               </td><td>181115.23         </td><td>0.0               </td><td>1228.0           </td><td>211880.81318681315   </td><td>143747.87889273354 </td><td>180758.81264637003</td><td>161376.63366336632    </td><td>179857.76346604215  </td><td>178218.27472527474  </td><td>171302.3622047244      </td><td>143043.02450980392 </td><td>175715.7828162291    </td><td>158961.70308123247 </td><td>138313.57142857142</td><td>143162.40700980392    </td><td>194850.58566088302</td><td>151206.9049445865 </td><td>0.0                </td><td>180398.05693069307 </td><td>1966.0            </td><td>0.0              </td><td>179414.41573033712</td><td>180372.69763480392</td><td>0.0               </td><td>0.0                </td><td>1228.0            </td><td>141364.58360071303   </td><td>175531.83179723503 </td><td>148549.72906403942  </td><td>168970.1659826721     </td><td>158794.07093837534       </td><td>178187.36899563318</td><td>1228.0            </td><td>65.0             </td><td>170822.7626262626 </td><td>143948.79679144386    </td><td>167128.41844919784   </td><td>217804.1370098039     </td><td>0.0               </td><td>169568.25527903467   </td><td>179157.6651480638    </td><td>3.0               </td><td>170914.57205240175  </td><td>178193.4967320261  </td><td>221371.6687405731  </td><td>178405.7096069869 </td><td>187920.61064425771</td><td>0.0               </td><td>181805.66321243523</td><td>176671.8111111111 </td><td>0.0               </td><td>184063.06872037915  </td><td>1.0               </td><td>187300.52567237162  </td><td>0.0               </td><td>1.0               </td><td>185601.24938271602  </td><td>8544.0            </td><td>181573.27604166663  </td><td>0.0               </td><td>179984.77108433735  </td><td>1.0                </td><td>0.0               </td><td>138671.58035714287   </td><td>184861.0283687943   </td><td>0.0              </td><td>171401.71038251367 </td><td>182592.86046511628    </td><td>184788.65617433414  </td><td>0.0              </td><td>271.0             </td><td>1228.0           </td><td>0.0               </td><td>71.0              </td><td>201051.3968871595   </td><td>1.0               </td><td>154426.8646332607    </td><td>170246.78240454075</td></tr>\n",
       "<tr><td>9      </td><td>157753.39249146762  </td><td>37.0              </td><td>6.0               </td><td>181115.23         </td><td>0.0               </td><td>1097.0           </td><td>140285.62820512822   </td><td>143747.87889273354 </td><td>180758.81264637003</td><td>161376.63366336632    </td><td>179857.76346604215  </td><td>178218.27472527474  </td><td>171302.3622047244      </td><td>194604.02450980392 </td><td>175715.7828162291    </td><td>211491.75330396474 </td><td>206633.03141361254</td><td>190019.77971813726    </td><td>163981.4191419142 </td><td>184450.31335149863</td><td>0.0                </td><td>180398.05693069307 </td><td>1995.0            </td><td>0.0              </td><td>179414.41573033712</td><td>180372.69763480392</td><td>0.0               </td><td>0.0                </td><td>1097.0            </td><td>141364.58360071303   </td><td>175531.83179723503 </td><td>222366.88205128204  </td><td>168970.1659826721     </td><td>199424.48842732972       </td><td>178187.36899563318</td><td>1097.0            </td><td>64.0             </td><td>170822.7626262626 </td><td>143948.79679144386    </td><td>206602.9363057325    </td><td>204733.19117647054    </td><td>0.0               </td><td>209302.39072847684   </td><td>179157.6651480638    </td><td>3.0               </td><td>170914.57205240175  </td><td>178193.4967320261  </td><td>165751.57330498463 </td><td>178405.7096069869 </td><td>187920.61064425771</td><td>0.0               </td><td>181805.66321243523</td><td>176671.8111111111 </td><td>0.0               </td><td>184063.06872037915  </td><td>1.0               </td><td>187300.52567237162  </td><td>392.0             </td><td>2.0               </td><td>185601.24938271602  </td><td>10859.0           </td><td>181573.27604166663  </td><td>0.0               </td><td>179984.77108433735  </td><td>1.0                </td><td>0.0               </td><td>138671.58035714287   </td><td>184861.0283687943   </td><td>0.0              </td><td>171401.71038251367 </td><td>182592.86046511628    </td><td>184788.65617433414  </td><td>0.0              </td><td>672.0             </td><td>1097.0           </td><td>0.0               </td><td>112.0             </td><td>201051.3968871595   </td><td>1.0               </td><td>204262.16064257032   </td><td>176381.1217825312 </td></tr>\n",
       "</tbody>\n",
       "</table>"
      ]
     },
     "metadata": {},
     "output_type": "display_data"
    },
    {
     "name": "stdout",
     "output_type": "stream",
     "text": [
      "--------------------------------------------------------------------------------\n",
      "Imputed and encoded numeric test data:\n",
      "Rows:1459\n",
      "Cols:81\n",
      "\n",
      "\n"
     ]
    },
    {
     "data": {
      "text/html": [
       "<table>\n",
       "<thead>\n",
       "<tr><th>       </th><th>MasVnrType_Tencode  </th><th>Id                </th><th>TotRmsAbvGrd      </th><th>BsmtCond_Tencode  </th><th>PoolArea          </th><th>TotalBsmtSF       </th><th>KitchenQual_Tencode  </th><th>ExterQual_Tencode  </th><th>Alley_Tencode     </th><th>BsmtExposure_Tencode  </th><th>Functional_Tencode  </th><th>Condition2_Tencode  </th><th>SaleCondition_Tencode  </th><th>YearBuilt_Tencode  </th><th>LandContour_Tencode  </th><th>HeatingQC_Tencode  </th><th>BsmtQual_Tencode  </th><th>Neighborhood_Tencode  </th><th>LotShape_Tencode  </th><th>Fence_Tencode     </th><th>BsmtFullBath      </th><th>ExterCond_Tencode  </th><th>GarageYrBlt       </th><th>LowQualFinSF     </th><th>Heating_Tencode   </th><th>MoSold_Tencode    </th><th>ScreenPorch       </th><th>BsmtHalfBath      </th><th>1stFlrSF          </th><th>OverallQual_Tencode  </th><th>LandSlope_Tencode  </th><th>Foundation_Tencode  </th><th>BsmtFinType1_Tencode  </th><th>GarageYrBltBins_Tencode  </th><th>PoolQC_Tencode    </th><th>GrLivArea         </th><th>OpenPorchSF      </th><th>SaleType_Tencode  </th><th>GarageFinish_Tencode  </th><th>Exterior1st_Tencode  </th><th>YearRemodAdd_Tencode  </th><th>Fireplaces        </th><th>Exterior2nd_Tencode  </th><th>MiscFeature_Tencode  </th><th>BedroomAbvGr      </th><th>HouseStyle_Tencode  </th><th>Utilities_Tencode  </th><th>LotConfig_Tencode  </th><th>Street_Tencode   </th><th>MSZoning_Tencode  </th><th>BsmtFinSF1        </th><th>BldgType_Tencode  </th><th>RoofMatl_Tencode  </th><th>2ndFlrSF          </th><th>PavedDrive_Tencode  </th><th>FullBath          </th><th>GarageCond_Tencode  </th><th>WoodDeckSF       </th><th>GarageCars        </th><th>GarageQual_Tencode  </th><th>LotArea          </th><th>Condition1_Tencode  </th><th>MasVnrArea        </th><th>MSSubClass_Tencode  </th><th>KitchenAbvGr      </th><th>MiscVal          </th><th>FireplaceQu_Tencode  </th><th>CentralAir_Tencode  </th><th>3SsnPorch         </th><th>RoofStyle_Tencode  </th><th>BsmtFinType2_Tencode  </th><th>Electrical_Tencode  </th><th>EnclosedPorch     </th><th>GarageArea        </th><th>BsmtUnfSF        </th><th>BsmtFinSF2        </th><th>LotFrontage      </th><th>GarageType_Tencode  </th><th>HalfBath          </th><th>OverallCond_Tencode  </th><th>YrSold_Tencode    </th></tr>\n",
       "</thead>\n",
       "<tbody>\n",
       "<tr><td>type   </td><td>real                </td><td>int               </td><td>int               </td><td>real              </td><td>int               </td><td>int               </td><td>real                 </td><td>real               </td><td>real              </td><td>real                  </td><td>real                </td><td>real                </td><td>real                   </td><td>real               </td><td>real                 </td><td>real               </td><td>real              </td><td>real                  </td><td>real              </td><td>real              </td><td>int               </td><td>real               </td><td>int               </td><td>int              </td><td>real              </td><td>real              </td><td>int               </td><td>int               </td><td>int               </td><td>real                 </td><td>real               </td><td>real                </td><td>real                  </td><td>real                     </td><td>real              </td><td>int               </td><td>int              </td><td>real              </td><td>real                  </td><td>real                 </td><td>real                  </td><td>int               </td><td>real                 </td><td>real                 </td><td>int               </td><td>real                </td><td>real               </td><td>real               </td><td>real             </td><td>real              </td><td>int               </td><td>real              </td><td>real              </td><td>int               </td><td>real                </td><td>int               </td><td>real                </td><td>int              </td><td>int               </td><td>real                </td><td>int              </td><td>real                </td><td>int               </td><td>real                </td><td>int               </td><td>int              </td><td>real                 </td><td>real                </td><td>int               </td><td>real               </td><td>real                  </td><td>real                </td><td>int               </td><td>int               </td><td>int              </td><td>int               </td><td>real             </td><td>real                </td><td>int               </td><td>real                 </td><td>real              </td></tr>\n",
       "<tr><td>mins   </td><td>131576.52450980392  </td><td>1461.0            </td><td>3.0               </td><td>78579.02450980392 </td><td>0.0               </td><td>0.0               </td><td>105130.89950980392   </td><td>91042.14950980392  </td><td>134607.54723707662</td><td>107897.15367647057    </td><td>84954.02450980392   </td><td>127029.02450980392  </td><td>143816.52450980392     </td><td>79514.02450980392  </td><td>163075.56297134238   </td><td>100679.02450980392 </td><td>107897.15367647057</td><td>112866.7168174962     </td><td>163981.4191419142 </td><td>133419.96200980392</td><td>0.0               </td><td>91754.02450980392  </td><td>0.0               </td><td>0.0              </td><td>77729.02450980392 </td><td>162484.5985098039 </td><td>0.0               </td><td>0.0               </td><td>407.0             </td><td>69356.52450980392    </td><td>175531.83179723503 </td><td>110363.31736694675  </td><td>107897.15367647057    </td><td>139136.05102495544       </td><td>178187.36899563318</td><td>407.0             </td><td>0.0              </td><td>107734.02450980392</td><td>108352.20632798571    </td><td>96429.02450980392    </td><td>120621.97532947603    </td><td>0.0               </td><td>106204.02450980392   </td><td>73479.02450980392    </td><td>0.0               </td><td>122402.59593837534  </td><td>178193.4967320261  </td><td>165751.57330498463 </td><td>95579.02450980392</td><td>118217.35784313723</td><td>0.0               </td><td>128987.56617647059</td><td>175904.02450980392</td><td>0.0               </td><td>114840.96895424835  </td><td>0.0               </td><td>108352.20632798571  </td><td>0.0              </td><td>0.0               </td><td>108352.20632798571  </td><td>1470.0           </td><td>150223.0311764706   </td><td>0.0               </td><td>95012.35784313723   </td><td>0.0               </td><td>0.0              </td><td>133191.52450980392   </td><td>111601.52450980392  </td><td>0.0               </td><td>139864.02450980392 </td><td>107897.15367647057    </td><td>100143.52450980392  </td><td>0.0               </td><td>0.0               </td><td>0.0              </td><td>0.0               </td><td>21.0             </td><td>108352.20632798571  </td><td>0.0               </td><td>78579.02450980392    </td><td>169627.25564187934</td></tr>\n",
       "<tr><td>mean   </td><td>178146.24432411807  </td><td>2190.0            </td><td>6.3851953392734755</td><td>177115.4641081019 </td><td>1.7443454420836189</td><td>1046.1179698216752</td><td>179340.39624644505   </td><td>177673.68837649445 </td><td>178550.03252320114</td><td>177234.88905514343    </td><td>178383.03720943822  </td><td>178369.39980873468  </td><td>176492.09637795304     </td><td>178184.3114298014  </td><td>179174.2263375262    </td><td>182227.81273899996 </td><td>178942.1349335839 </td><td>179660.9318538107     </td><td>176844.08363718318</td><td>179260.15082329372</td><td>0.4344543582704184</td><td>178138.292477274   </td><td>1871.9897189856056</td><td>3.543522960932145</td><td>179140.34833949347</td><td>178570.99134392996</td><td>17.064427690198773</td><td>0.0652024708304736</td><td>1156.5346127484572</td><td>181143.66379652923   </td><td>177395.21920765375 </td><td>181006.29018575946  </td><td>180068.38187120648    </td><td>170002.81029859162       </td><td>178187.38159550258</td><td>1486.0459218642889</td><td>48.31391363947919</td><td>175933.1071534588 </td><td>177253.37457383898    </td><td>179810.686881209     </td><td>176730.68322763144    </td><td>0.5812200137080195</td><td>180995.2353182519    </td><td>178536.70969509304   </td><td>2.8540095956134333</td><td>176296.0327526845   </td><td>178193.4967320261  </td><td>178278.00897433673 </td><td>178065.0926703297</td><td>179232.0904301915 </td><td>438.9026730637427 </td><td>178370.3696551594 </td><td>176751.7532061534 </td><td>325.9677861549004 </td><td>177090.1544055946   </td><td>1.570938999314599 </td><td>180887.13312920654  </td><td>93.17477724468819</td><td>1.7649074708704602</td><td>178833.85891178728  </td><td>9819.161069225516</td><td>179939.77372747503  </td><td>99.67374914324867 </td><td>177704.83404990312  </td><td>1.0424948594928027</td><td>58.16792323509254</td><td>174678.31798555847   </td><td>179789.60281035848  </td><td>1.794379712131597 </td><td>177370.70371664243 </td><td>178665.96855634326    </td><td>180126.11931528134  </td><td>24.243317340644285</td><td>472.4448252227548 </td><td>553.9150102810141</td><td>52.583276216586704</td><td>68.9551062371488 </td><td>182701.64309087777  </td><td>0.3776559287183003</td><td>181638.3138716565    </td><td>178138.41592993547</td></tr>\n",
       "<tr><td>maxs   </td><td>243111.468058191    </td><td>2919.0            </td><td>15.0              </td><td>204324.73418722322</td><td>800.0             </td><td>5095.0            </td><td>307728.63562091504   </td><td>311103.9129713424  </td><td>180974.4445098039 </td><td>252970.21398348815    </td><td>181312.14950980392  </td><td>302979.0245098039   </td><td>255001.6042717087      </td><td>331964.0245098039  </td><td>252389.9995098039    </td><td>211491.75330396474 </td><td>287410.74022408965</td><td>288359.0245098039     </td><td>257372.27450980392</td><td>184450.31335149863</td><td>3.0               </td><td>197862.35784313726 </td><td>2207.0            </td><td>1064.0           </td><td>179414.41573033712</td><td>200082.05082559335</td><td>576.0             </td><td>2.0               </td><td>5095.0            </td><td>369297.8945098039    </td><td>219485.84269162212 </td><td>222366.88205128204  </td><td>224699.7863950498     </td><td>199424.48842732972       </td><td>178193.4967320261 </td><td>5095.0            </td><td>742.0            </td><td>255001.6042717087 </td><td>223156.8495098039     </td><td>230256.21200980392   </td><td>273645.3828431372     </td><td>4.0               </td><td>237481.8022875817    </td><td>188229.02450980392   </td><td>6.0               </td><td>203633.455628685    </td><td>178193.4967320261  </td><td>221371.6687405731  </td><td>178405.7096069869</td><td>219311.6970098039 </td><td>4010.0            </td><td>183943.1995098039 </td><td>296434.0245098039 </td><td>1862.0            </td><td>184063.06872037915  </td><td>4.0               </td><td>187300.52567237162  </td><td>1424.0           </td><td>5.0               </td><td>194951.10784313726  </td><td>56600.0          </td><td>311479.0245098039   </td><td>1290.0            </td><td>224956.37657165958  </td><td>2.0               </td><td>17000.0          </td><td>345181.5245098039    </td><td>184861.0283687943   </td><td>360.0             </td><td>205162.1274859944  </td><td>194068.52450980392    </td><td>184788.65617433414  </td><td>1012.0            </td><td>1488.0            </td><td>2140.0           </td><td>1526.0            </td><td>200.0            </td><td>243247.17284313726  </td><td>2.0               </td><td>236726.2467320261    </td><td>186970.48567051822</td></tr>\n",
       "<tr><td>sigma  </td><td>28384.824139871405  </td><td>421.32133421732476</td><td>1.5088945751925396</td><td>18416.204155714877</td><td>30.491646305342066</td><td>442.89862416784206</td><td>50064.36965926008    </td><td>48363.33170083524  </td><td>9868.109461036458 </td><td>31365.106075644642    </td><td>7764.753398575101   </td><td>6115.230699170744   </td><td>24614.448808109875     </td><td>46552.401284272695 </td><td>16731.149524355016   </td><td>30689.890057024273 </td><td>48552.82922823181 </td><td>48658.8290868911      </td><td>19890.637189969897</td><td>11743.043122261108</td><td>0.5306475357080623</td><td>13372.261749177289 </td><td>445.78611753041713</td><td>44.04325086437556</td><td>4120.712522628474 </td><td>8523.644517243943 </td><td>56.609762906910575</td><td>0.2524682621647407</td><td>398.16581959237874</td><td>57004.8706645638     </td><td>8806.02800442614   </td><td>38032.67490944731   </td><td>31074.332692622134    </td><td>19244.744163326824       </td><td>0.2776738495325187</td><td>485.5660986532532 </td><td>68.88336411315396</td><td>24826.258639866202</td><td>37599.99853102868     </td><td>27215.585184717413   </td><td>38062.468024576185    </td><td>0.6474204530720105</td><td>25951.286853243673   </td><td>4782.455327633695    </td><td>0.8297883627354514</td><td>20533.377591439952  </td><td>0.0                </td><td>11456.730191238732 </td><td>5302.397777524543</td><td>23489.406573197444</td><td>455.25711858126164</td><td>11421.92229037309 </td><td>3137.235960973218 </td><td>420.61022646910345</td><td>20263.25653257761   </td><td>0.5551898880356613</td><td>20818.988716246073  </td><td>127.744881519076 </td><td>0.7770557771054145</td><td>20266.41566502196   </td><td>4955.517326926451</td><td>15269.946772589565  </td><td>177.00179159577831</td><td>32301.2058169479    </td><td>0.2084716721132495</td><td>630.806977589708 </td><td>41931.78957638678    </td><td>18602.363953739627  </td><td>20.207841751496495</td><td>13409.55977987675  </td><td>14021.1874493847      </td><td>15963.223969023644  </td><td>67.22776541956965 </td><td>217.32690210578195</td><td>437.3513241096486</td><td>176.6986705850261 </td><td>20.99909053910434</td><td>34696.99414034791   </td><td>0.5030166769415861</td><td>29339.674195109288   </td><td>6672.392547342386 </td></tr>\n",
       "<tr><td>zeros  </td><td>0                   </td><td>0                 </td><td>0                 </td><td>0                 </td><td>1453              </td><td>41                </td><td>0                    </td><td>0                  </td><td>0                 </td><td>0                     </td><td>0                   </td><td>0                   </td><td>0                      </td><td>0                  </td><td>0                    </td><td>0                  </td><td>0                 </td><td>0                     </td><td>0                 </td><td>0                 </td><td>849               </td><td>0                  </td><td>78                </td><td>1445             </td><td>0                 </td><td>0                 </td><td>1319              </td><td>1364              </td><td>0                 </td><td>0                    </td><td>0                  </td><td>0                   </td><td>0                     </td><td>0                        </td><td>0                 </td><td>0                 </td><td>642              </td><td>0                 </td><td>0                     </td><td>0                    </td><td>0                     </td><td>730               </td><td>0                    </td><td>0                    </td><td>2                 </td><td>0                   </td><td>0                  </td><td>0                  </td><td>0                </td><td>0                 </td><td>463               </td><td>0                 </td><td>0                 </td><td>839               </td><td>0                   </td><td>3                 </td><td>0                   </td><td>762              </td><td>77                </td><td>0                   </td><td>0                </td><td>0                   </td><td>892               </td><td>0                   </td><td>2                 </td><td>1408             </td><td>0                    </td><td>0                   </td><td>1446              </td><td>0                  </td><td>0                     </td><td>0                   </td><td>1208              </td><td>77                </td><td>124              </td><td>1279              </td><td>0                </td><td>0                   </td><td>921               </td><td>0                    </td><td>0                 </td></tr>\n",
       "<tr><td>missing</td><td>0                   </td><td>0                 </td><td>0                 </td><td>0                 </td><td>0                 </td><td>1                 </td><td>0                    </td><td>0                  </td><td>0                 </td><td>0                     </td><td>0                   </td><td>0                   </td><td>0                      </td><td>0                  </td><td>0                    </td><td>0                  </td><td>0                 </td><td>0                     </td><td>0                 </td><td>0                 </td><td>2                 </td><td>0                  </td><td>0                 </td><td>0                </td><td>0                 </td><td>0                 </td><td>0                 </td><td>2                 </td><td>0                 </td><td>0                    </td><td>0                  </td><td>0                   </td><td>0                     </td><td>0                        </td><td>0                 </td><td>0                 </td><td>0                </td><td>0                 </td><td>0                     </td><td>0                    </td><td>0                     </td><td>0                 </td><td>0                    </td><td>0                    </td><td>0                 </td><td>0                   </td><td>0                  </td><td>0                  </td><td>0                </td><td>0                 </td><td>0                 </td><td>0                 </td><td>0                 </td><td>0                 </td><td>0                   </td><td>0                 </td><td>0                   </td><td>0                </td><td>0                 </td><td>0                   </td><td>0                </td><td>0                   </td><td>0                 </td><td>0                   </td><td>0                 </td><td>0                </td><td>0                    </td><td>0                   </td><td>0                 </td><td>0                  </td><td>0                     </td><td>0                   </td><td>0                 </td><td>0                 </td><td>0                </td><td>0                 </td><td>0                </td><td>0                   </td><td>0                 </td><td>0                    </td><td>0                 </td></tr>\n",
       "<tr><td>0      </td><td>157753.39249146762  </td><td>1461.0            </td><td>5.0               </td><td>181115.23         </td><td>0.0               </td><td>882.0             </td><td>140285.62820512822   </td><td>143747.87889273354 </td><td>180758.81264637003</td><td>161376.63366336632    </td><td>179857.76346604215  </td><td>178218.27472527474  </td><td>171302.3622047244      </td><td>136209.02450980392 </td><td>175715.7828162291    </td><td>149413.2797336845  </td><td>138313.57142857142</td><td>152080.32258672698    </td><td>163981.4191419142 </td><td>151206.9049445865 </td><td>0.0               </td><td>180398.05693069307 </td><td>1961.0            </td><td>0.0              </td><td>179414.41573033712</td><td>180372.69763480392</td><td>120.0             </td><td>0.0               </td><td>896.0             </td><td>141364.58360071303   </td><td>175531.83179723503 </td><td>148549.72906403942  </td><td>156012.9060887513     </td><td>158794.07093837534       </td><td>178187.36899563318</td><td>896.0             </td><td>0.0              </td><td>170822.7626262626 </td><td>143948.79679144386    </td><td>206602.9363057325    </td><td>135104.02450980392    </td><td>0.0               </td><td>209302.39072847684   </td><td>179157.6651480638    </td><td>2.0               </td><td>170914.57205240175  </td><td>178193.4967320261  </td><td>177919.81360946747 </td><td>178405.7096069869</td><td>134962.35784313726</td><td>468.0             </td><td>181805.66321243523</td><td>176671.8111111111 </td><td>0.0               </td><td>184063.06872037915  </td><td>1.0               </td><td>187300.52567237162  </td><td>140.0            </td><td>1.0               </td><td>185601.24938271602  </td><td>11622.0          </td><td>150223.0311764706   </td><td>0.0               </td><td>179984.77108433735  </td><td>1.0               </td><td>0.0              </td><td>138671.58035714287   </td><td>184861.0283687943   </td><td>0.0               </td><td>171401.71038251367 </td><td>168862.10143288082    </td><td>184788.65617433414  </td><td>0.0               </td><td>730.0             </td><td>270.0            </td><td>144.0             </td><td>80.0             </td><td>201051.3968871595   </td><td>0.0               </td><td>154426.8646332607    </td><td>169627.25564187934</td></tr>\n",
       "<tr><td>1      </td><td>203114.2504640024   </td><td>1462.0            </td><td>6.0               </td><td>181115.23         </td><td>0.0               </td><td>1329.0            </td><td>211880.81318681315   </td><td>143747.87889273354 </td><td>180758.81264637003</td><td>161376.63366336632    </td><td>179857.76346604215  </td><td>178218.27472527474  </td><td>171302.3622047244      </td><td>140204.02450980392 </td><td>175715.7828162291    </td><td>149413.2797336845  </td><td>138313.57142857142</td><td>152080.32258672698    </td><td>194850.58566088302</td><td>184450.31335149863</td><td>0.0               </td><td>180398.05693069307 </td><td>1958.0            </td><td>0.0              </td><td>179414.41573033712</td><td>180372.69763480392</td><td>0.0               </td><td>0.0               </td><td>1329.0            </td><td>163241.9355717508    </td><td>175531.83179723503 </td><td>148549.72906403942  </td><td>169309.44117647054    </td><td>139136.05102495544       </td><td>178187.36899563318</td><td>1329.0            </td><td>36.0             </td><td>170822.7626262626 </td><td>143948.79679144386    </td><td>154595.81798806478   </td><td>127029.02450980392    </td><td>0.0               </td><td>163767.73719637108   </td><td>188229.02450980392   </td><td>3.0               </td><td>170914.57205240175  </td><td>178193.4967320261  </td><td>165751.57330498463 </td><td>178405.7096069869</td><td>187920.61064425771</td><td>923.0             </td><td>181805.66321243523</td><td>176671.8111111111 </td><td>0.0               </td><td>184063.06872037915  </td><td>1.0               </td><td>187300.52567237162  </td><td>393.0            </td><td>1.0               </td><td>185601.24938271602  </td><td>14267.0          </td><td>181573.27604166663  </td><td>108.0             </td><td>179984.77108433735  </td><td>1.0               </td><td>12500.0          </td><td>138671.58035714287   </td><td>184861.0283687943   </td><td>0.0               </td><td>205162.1274859944  </td><td>182592.86046511628    </td><td>184788.65617433414  </td><td>0.0               </td><td>312.0             </td><td>406.0            </td><td>0.0               </td><td>81.0             </td><td>201051.3968871595   </td><td>1.0               </td><td>154426.8646332607    </td><td>169627.25564187934</td></tr>\n",
       "<tr><td>2      </td><td>157753.39249146762  </td><td>1463.0            </td><td>6.0               </td><td>181115.23         </td><td>0.0               </td><td>928.0             </td><td>140285.62820512822   </td><td>143747.87889273354 </td><td>180758.81264637003</td><td>161376.63366336632    </td><td>179857.76346604215  </td><td>178218.27472527474  </td><td>171302.3622047244      </td><td>229709.02450980392 </td><td>175715.7828162291    </td><td>158961.70308123247 </td><td>206633.03141361254</td><td>191808.05969498912    </td><td>194850.58566088302</td><td>151206.9049445865 </td><td>0.0               </td><td>180398.05693069307 </td><td>1997.0            </td><td>0.0              </td><td>179414.41573033712</td><td>176369.09256535946</td><td>0.0               </td><td>0.0               </td><td>928.0             </td><td>141364.58360071303   </td><td>175531.83179723503 </td><td>222366.88205128204  </td><td>224699.7863950498     </td><td>199424.48842732972       </td><td>178187.36899563318</td><td>1629.0            </td><td>34.0             </td><td>170822.7626262626 </td><td>223156.8495098039     </td><td>206602.9363057325    </td><td>214984.4091251885     </td><td>1.0               </td><td>209302.39072847684   </td><td>179157.6651480638    </td><td>3.0               </td><td>203633.455628685    </td><td>178193.4967320261  </td><td>177919.81360946747 </td><td>178405.7096069869</td><td>187920.61064425771</td><td>791.0             </td><td>181805.66321243523</td><td>176671.8111111111 </td><td>701.0             </td><td>184063.06872037915  </td><td>2.0               </td><td>187300.52567237162  </td><td>212.0            </td><td>2.0               </td><td>185601.24938271602  </td><td>13830.0          </td><td>181573.27604166663  </td><td>0.0               </td><td>224956.37657165958  </td><td>1.0               </td><td>0.0              </td><td>205118.42900418595   </td><td>184861.0283687943   </td><td>0.0               </td><td>171401.71038251367 </td><td>182592.86046511628    </td><td>184788.65617433414  </td><td>0.0               </td><td>482.0             </td><td>137.0            </td><td>0.0               </td><td>74.0             </td><td>201051.3968871595   </td><td>1.0               </td><td>204262.16064257032   </td><td>169627.25564187934</td></tr>\n",
       "<tr><td>3      </td><td>203114.2504640024   </td><td>1464.0            </td><td>7.0               </td><td>181115.23         </td><td>0.0               </td><td>926.0             </td><td>211880.81318681315   </td><td>143747.87889273354 </td><td>180758.81264637003</td><td>161376.63366336632    </td><td>179857.76346604215  </td><td>178218.27472527474  </td><td>171302.3622047244      </td><td>225483.31022408963 </td><td>175715.7828162291    </td><td>211491.75330396474 </td><td>138313.57142857142</td><td>191808.05969498912    </td><td>194850.58566088302</td><td>184450.31335149863</td><td>0.0               </td><td>180398.05693069307 </td><td>1998.0            </td><td>0.0              </td><td>179414.41573033712</td><td>180372.69763480392</td><td>0.0               </td><td>0.0               </td><td>926.0             </td><td>163241.9355717508    </td><td>175531.83179723503 </td><td>222366.88205128204  </td><td>224699.7863950498     </td><td>199424.48842732972       </td><td>178187.36899563318</td><td>1604.0            </td><td>36.0             </td><td>170822.7626262626 </td><td>223156.8495098039     </td><td>206602.9363057325    </td><td>214984.4091251885     </td><td>1.0               </td><td>209302.39072847684   </td><td>179157.6651480638    </td><td>3.0               </td><td>203633.455628685    </td><td>178193.4967320261  </td><td>177919.81360946747 </td><td>178405.7096069869</td><td>187920.61064425771</td><td>602.0             </td><td>181805.66321243523</td><td>176671.8111111111 </td><td>678.0             </td><td>184063.06872037915  </td><td>2.0               </td><td>187300.52567237162  </td><td>360.0            </td><td>2.0               </td><td>185601.24938271602  </td><td>9978.0           </td><td>181573.27604166663  </td><td>20.0              </td><td>224956.37657165958  </td><td>1.0               </td><td>0.0              </td><td>219907.18575980392   </td><td>184861.0283687943   </td><td>0.0               </td><td>171401.71038251367 </td><td>182592.86046511628    </td><td>184788.65617433414  </td><td>0.0               </td><td>470.0             </td><td>324.0            </td><td>0.0               </td><td>78.0             </td><td>201051.3968871595   </td><td>1.0               </td><td>154426.8646332607    </td><td>169627.25564187934</td></tr>\n",
       "<tr><td>4      </td><td>157753.39249146762  </td><td>1465.0            </td><td>5.0               </td><td>181115.23         </td><td>0.0               </td><td>1280.0            </td><td>211880.81318681315   </td><td>228065.58659034083 </td><td>180758.81264637003</td><td>161376.63366336632    </td><td>179857.76346604215  </td><td>178218.27472527474  </td><td>171302.3622047244      </td><td>220383.31022408963 </td><td>252389.9995098039    </td><td>211491.75330396474 </td><td>206633.03141361254</td><td>288359.0245098039     </td><td>194850.58566088302</td><td>184450.31335149863</td><td>0.0               </td><td>180398.05693069307 </td><td>1992.0            </td><td>0.0              </td><td>179414.41573033712</td><td>162484.5985098039 </td><td>144.0             </td><td>0.0               </td><td>1280.0            </td><td>270500.82275541796   </td><td>175531.83179723503 </td><td>222366.88205128204  </td><td>169309.44117647054    </td><td>199424.48842732972       </td><td>178187.36899563318</td><td>1280.0            </td><td>82.0             </td><td>170822.7626262626 </td><td>201271.56721053383    </td><td>167128.41844919784   </td><td>173815.45308123247    </td><td>0.0               </td><td>169568.25527903467   </td><td>179157.6651480638    </td><td>2.0               </td><td>170914.57205240175  </td><td>178193.4967320261  </td><td>177919.81360946747 </td><td>178405.7096069869</td><td>187920.61064425771</td><td>263.0             </td><td>183943.1995098039 </td><td>176671.8111111111 </td><td>0.0               </td><td>184063.06872037915  </td><td>2.0               </td><td>187300.52567237162  </td><td>0.0              </td><td>2.0               </td><td>185601.24938271602  </td><td>5005.0           </td><td>181573.27604166663  </td><td>0.0               </td><td>203696.34858387802  </td><td>1.0               </td><td>0.0              </td><td>138671.58035714287   </td><td>184861.0283687943   </td><td>0.0               </td><td>171401.71038251367 </td><td>182592.86046511628    </td><td>184788.65617433414  </td><td>0.0               </td><td>506.0             </td><td>1017.0           </td><td>0.0               </td><td>43.0             </td><td>201051.3968871595   </td><td>0.0               </td><td>204262.16064257032   </td><td>169627.25564187934</td></tr>\n",
       "<tr><td>5      </td><td>157753.39249146762  </td><td>1466.0            </td><td>7.0               </td><td>181115.23         </td><td>0.0               </td><td>763.0             </td><td>140285.62820512822   </td><td>143747.87889273354 </td><td>180758.81264637003</td><td>161376.63366336632    </td><td>179857.76346604215  </td><td>178218.27472527474  </td><td>171302.3622047244      </td><td>190835.69117647054 </td><td>175715.7828162291    </td><td>158961.70308123247 </td><td>206633.03141361254</td><td>191808.05969498912    </td><td>194850.58566088302</td><td>184450.31335149863</td><td>0.0               </td><td>180398.05693069307 </td><td>1993.0            </td><td>0.0              </td><td>179414.41573033712</td><td>175953.87961184472</td><td>0.0               </td><td>0.0               </td><td>763.0             </td><td>163241.9355717508    </td><td>175531.83179723503 </td><td>222366.88205128204  </td><td>168970.1659826721     </td><td>199424.48842732972       </td><td>178187.36899563318</td><td>1655.0            </td><td>84.0             </td><td>170822.7626262626 </td><td>223156.8495098039     </td><td>167128.41844919784   </td><td>191575.89950980392    </td><td>1.0               </td><td>169568.25527903467   </td><td>179157.6651480638    </td><td>3.0               </td><td>203633.455628685    </td><td>178193.4967320261  </td><td>165751.57330498463 </td><td>178405.7096069869</td><td>187920.61064425771</td><td>0.0               </td><td>181805.66321243523</td><td>176671.8111111111 </td><td>892.0             </td><td>184063.06872037915  </td><td>2.0               </td><td>187300.52567237162  </td><td>157.0            </td><td>2.0               </td><td>185601.24938271602  </td><td>10000.0          </td><td>181573.27604166663  </td><td>0.0               </td><td>224956.37657165958  </td><td>1.0               </td><td>0.0              </td><td>205118.42900418595   </td><td>184861.0283687943   </td><td>0.0               </td><td>171401.71038251367 </td><td>182592.86046511628    </td><td>184788.65617433414  </td><td>0.0               </td><td>440.0             </td><td>763.0            </td><td>0.0               </td><td>75.0             </td><td>201051.3968871595   </td><td>1.0               </td><td>204262.16064257032   </td><td>169627.25564187934</td></tr>\n",
       "<tr><td>6      </td><td>157753.39249146762  </td><td>1467.0            </td><td>6.0               </td><td>181115.23         </td><td>0.0               </td><td>1168.0            </td><td>140285.62820512822   </td><td>143747.87889273354 </td><td>180758.81264637003</td><td>161376.63366336632    </td><td>179857.76346604215  </td><td>178218.27472527474  </td><td>171302.3622047244      </td><td>220383.31022408963 </td><td>175715.7828162291    </td><td>211491.75330396474 </td><td>206633.03141361254</td><td>191808.05969498912    </td><td>194850.58566088302</td><td>181956.919246646  </td><td>1.0               </td><td>179370.36597321855 </td><td>1992.0            </td><td>0.0              </td><td>179414.41573033712</td><td>176369.09256535946</td><td>0.0               </td><td>0.0               </td><td>1187.0            </td><td>163241.9355717508    </td><td>175531.83179723503 </td><td>222366.88205128204  </td><td>169309.44117647054    </td><td>199424.48842732972       </td><td>178187.36899563318</td><td>1187.0            </td><td>21.0             </td><td>170822.7626262626 </td><td>223156.8495098039     </td><td>167128.41844919784   </td><td>212804.46062091502    </td><td>0.0               </td><td>169568.25527903467   </td><td>163465.69117647054   </td><td>3.0               </td><td>170914.57205240175  </td><td>178193.4967320261  </td><td>177919.81360946747 </td><td>178405.7096069869</td><td>187920.61064425771</td><td>935.0             </td><td>181805.66321243523</td><td>176671.8111111111 </td><td>0.0               </td><td>184063.06872037915  </td><td>2.0               </td><td>187300.52567237162  </td><td>483.0            </td><td>2.0               </td><td>185601.24938271602  </td><td>7980.0           </td><td>181573.27604166663  </td><td>0.0               </td><td>179984.77108433735  </td><td>1.0               </td><td>500.0            </td><td>138671.58035714287   </td><td>184861.0283687943   </td><td>0.0               </td><td>171401.71038251367 </td><td>182592.86046511628    </td><td>184788.65617433414  </td><td>0.0               </td><td>420.0             </td><td>233.0            </td><td>0.0               </td><td>63.0             </td><td>201051.3968871595   </td><td>0.0               </td><td>152433.73154105392   </td><td>169627.25564187934</td></tr>\n",
       "<tr><td>7      </td><td>157753.39249146762  </td><td>1468.0            </td><td>7.0               </td><td>181115.23         </td><td>0.0               </td><td>789.0             </td><td>140285.62820512822   </td><td>143747.87889273354 </td><td>180758.81264637003</td><td>161376.63366336632    </td><td>179857.76346604215  </td><td>178218.27472527474  </td><td>171302.3622047244      </td><td>225483.31022408963 </td><td>175715.7828162291    </td><td>158961.70308123247 </td><td>206633.03141361254</td><td>191808.05969498912    </td><td>194850.58566088302</td><td>184450.31335149863</td><td>0.0               </td><td>180398.05693069307 </td><td>1998.0            </td><td>0.0              </td><td>179414.41573033712</td><td>166467.420736219  </td><td>0.0               </td><td>0.0               </td><td>789.0             </td><td>163241.9355717508    </td><td>175531.83179723503 </td><td>222366.88205128204  </td><td>168970.1659826721     </td><td>199424.48842732972       </td><td>178187.36899563318</td><td>1465.0            </td><td>75.0             </td><td>170822.7626262626 </td><td>223156.8495098039     </td><td>206602.9363057325    </td><td>214984.4091251885     </td><td>1.0               </td><td>209302.39072847684   </td><td>179157.6651480638    </td><td>3.0               </td><td>203633.455628685    </td><td>178193.4967320261  </td><td>177919.81360946747 </td><td>178405.7096069869</td><td>187920.61064425771</td><td>0.0               </td><td>181805.66321243523</td><td>176671.8111111111 </td><td>676.0             </td><td>184063.06872037915  </td><td>2.0               </td><td>187300.52567237162  </td><td>0.0              </td><td>2.0               </td><td>185601.24938271602  </td><td>8402.0           </td><td>181573.27604166663  </td><td>0.0               </td><td>224956.37657165958  </td><td>1.0               </td><td>0.0              </td><td>219907.18575980392   </td><td>184861.0283687943   </td><td>0.0               </td><td>171401.71038251367 </td><td>182592.86046511628    </td><td>184788.65617433414  </td><td>0.0               </td><td>393.0             </td><td>789.0            </td><td>0.0               </td><td>63.0             </td><td>201051.3968871595   </td><td>1.0               </td><td>204262.16064257032   </td><td>169627.25564187934</td></tr>\n",
       "<tr><td>8      </td><td>157753.39249146762  </td><td>1469.0            </td><td>5.0               </td><td>181115.23         </td><td>0.0               </td><td>1300.0            </td><td>211880.81318681315   </td><td>143747.87889273354 </td><td>180758.81264637003</td><td>252970.21398348815    </td><td>179857.76346604215  </td><td>178218.27472527474  </td><td>171302.3622047244      </td><td>179729.02450980392 </td><td>175715.7828162291    </td><td>158961.70308123247 </td><td>206633.03141361254</td><td>191808.05969498912    </td><td>163981.4191419142 </td><td>184450.31335149863</td><td>1.0               </td><td>180398.05693069307 </td><td>1990.0            </td><td>0.0              </td><td>179414.41573033712</td><td>186396.24236694674</td><td>0.0               </td><td>0.0               </td><td>1341.0            </td><td>204327.95765587135   </td><td>175531.83179723503 </td><td>222366.88205128204  </td><td>224699.7863950498     </td><td>199424.48842732972       </td><td>178187.36899563318</td><td>1341.0            </td><td>0.0              </td><td>170822.7626262626 </td><td>143948.79679144386    </td><td>167128.41844919784   </td><td>204591.52450980392    </td><td>1.0               </td><td>169568.25527903467   </td><td>179157.6651480638    </td><td>2.0               </td><td>170914.57205240175  </td><td>178193.4967320261  </td><td>177919.81360946747 </td><td>178405.7096069869</td><td>187920.61064425771</td><td>637.0             </td><td>181805.66321243523</td><td>176671.8111111111 </td><td>0.0               </td><td>184063.06872037915  </td><td>1.0               </td><td>187300.52567237162  </td><td>192.0            </td><td>2.0               </td><td>185601.24938271602  </td><td>10176.0          </td><td>181573.27604166663  </td><td>0.0               </td><td>179984.77108433735  </td><td>1.0               </td><td>0.0              </td><td>133191.52450980392   </td><td>184861.0283687943   </td><td>0.0               </td><td>171401.71038251367 </td><td>182592.86046511628    </td><td>184788.65617433414  </td><td>0.0               </td><td>506.0             </td><td>663.0            </td><td>0.0               </td><td>85.0             </td><td>201051.3968871595   </td><td>1.0               </td><td>204262.16064257032   </td><td>169627.25564187934</td></tr>\n",
       "<tr><td>9      </td><td>157753.39249146762  </td><td>1470.0            </td><td>4.0               </td><td>181115.23         </td><td>0.0               </td><td>882.0             </td><td>140285.62820512822   </td><td>143747.87889273354 </td><td>180758.81264637003</td><td>161376.63366336632    </td><td>179857.76346604215  </td><td>178218.27472527474  </td><td>171302.3622047244      </td><td>151307.14950980392 </td><td>175715.7828162291    </td><td>149413.2797336845  </td><td>138313.57142857142</td><td>152080.32258672698    </td><td>163981.4191419142 </td><td>151206.9049445865 </td><td>1.0               </td><td>180398.05693069307 </td><td>1970.0            </td><td>0.0              </td><td>179414.41573033712</td><td>175953.87961184472</td><td>0.0               </td><td>0.0               </td><td>882.0             </td><td>117968.89687822496   </td><td>175531.83179723503 </td><td>148549.72906403942  </td><td>169309.44117647054    </td><td>158794.07093837534       </td><td>178187.36899563318</td><td>882.0             </td><td>0.0              </td><td>170822.7626262626 </td><td>223156.8495098039     </td><td>173812.54638480392   </td><td>155036.52450980392    </td><td>0.0               </td><td>163573.83733031675   </td><td>179157.6651480638    </td><td>2.0               </td><td>170914.57205240175  </td><td>178193.4967320261  </td><td>165751.57330498463 </td><td>178405.7096069869</td><td>187920.61064425771</td><td>804.0             </td><td>181805.66321243523</td><td>176671.8111111111 </td><td>0.0               </td><td>184063.06872037915  </td><td>1.0               </td><td>187300.52567237162  </td><td>240.0            </td><td>2.0               </td><td>185601.24938271602  </td><td>8400.0           </td><td>181573.27604166663  </td><td>0.0               </td><td>179984.77108433735  </td><td>1.0               </td><td>0.0              </td><td>138671.58035714287   </td><td>184861.0283687943   </td><td>0.0               </td><td>171401.71038251367 </td><td>167901.0383986928     </td><td>184788.65617433414  </td><td>0.0               </td><td>525.0             </td><td>0.0              </td><td>78.0              </td><td>70.0             </td><td>201051.3968871595   </td><td>0.0               </td><td>204262.16064257032   </td><td>169627.25564187934</td></tr>\n",
       "</tbody>\n",
       "</table>"
      ]
     },
     "metadata": {},
     "output_type": "display_data"
    }
   ],
   "source": [
    "print('Imputed and encoded numeric training data:')\n",
    "train[encoded_nums].describe() #79 numeric columns w/ no missing\n",
    "print('--------------------------------------------------------------------------------')\n",
    "print('Imputed and encoded numeric validation data:')\n",
    "valid[encoded_nums].describe() #79 numeric columns w/ no missing\n",
    "print('--------------------------------------------------------------------------------')\n",
    "print('Imputed and encoded numeric test data:')\n",
    "test[encoded_nums].describe() #79 numeric columns w/ no missing"
   ]
  },
  {
   "cell_type": "code",
   "execution_count": 47,
   "metadata": {
    "collapsed": false
   },
   "outputs": [
    {
     "data": {
      "text/html": [
       "<table>\n",
       "<thead>\n",
       "<tr><th>Neighborhood  </th><th style=\"text-align: right;\">  Neighborhood_Tencode</th></tr>\n",
       "</thead>\n",
       "<tbody>\n",
       "<tr><td>NAmes         </td><td style=\"text-align: right;\">                152080</td></tr>\n",
       "<tr><td>NAmes         </td><td style=\"text-align: right;\">                152080</td></tr>\n",
       "<tr><td>Gilbert       </td><td style=\"text-align: right;\">                191808</td></tr>\n",
       "<tr><td>Gilbert       </td><td style=\"text-align: right;\">                191808</td></tr>\n",
       "<tr><td>StoneBr       </td><td style=\"text-align: right;\">                288359</td></tr>\n",
       "</tbody>\n",
       "</table>"
      ]
     },
     "metadata": {},
     "output_type": "display_data"
    },
    {
     "name": "stdout",
     "output_type": "stream",
     "text": [
      "\n",
      "{nan: 178193.49673202613, 'NridgHt': 284073.1545098039, 'StoneBr': 288359.0245098039, 'OldTown': 139863.03613771088, 'NPkVill': 147641.52450980392, 'BrDale': 116064.02450980392, 'ClearCr': 207949.02450980392, 'NWAmes': 184610.14950980392, 'Blmngtn': 210845.6545098039, 'Mitchel': 169316.52450980392, 'Veenker': 243734.02450980392, 'Gilbert': 191808.0596949891, 'CollgCr': 190019.77971813726, 'SWISU': 156269.02450980392, 'NAmes': 152080.32258672698, 'Edwards': 126241.13989441929, 'NoRidge': 273948.2552790347, 'Crawfor': 216008.84593837534, 'Sawyer': 143162.40700980392, 'SawyerW': 189097.7776348039, 'IDOTRR': 112866.71681749621, 'Somerst': 227656.9671023965, 'MeadowV': 113131.52450980392, 'BrkSide': 129965.77450980392, 'Timber': 260109.74673202613}\n"
     ]
    }
   ],
   "source": [
    "# Check Neighborhood_Tencode\n",
    "\n",
    "print(test[0:5, ['Neighborhood', 'Neighborhood_Tencode']])\n",
    "_, _ = target_encoder(valid, test, 'Neighborhood', 'SalePrice', test=True)\n",
    "del _\n",
    "\n",
    "# NAmes   152080\n",
    "# NAmes   152080\n",
    "# Gilbert 191808\n",
    "# Gilbert 191808\n",
    "# StoneBr 288359"
   ]
  },
  {
   "cell_type": "code",
   "execution_count": 48,
   "metadata": {
    "collapsed": true
   },
   "outputs": [],
   "source": [
    "def feature_combiner(training_frame, test_frame, nums):\n",
    "    \n",
    "    \"\"\" Combines numeric features using simple arithmatic operations.\n",
    "    \n",
    "    :param training_frame: Training frame from which to generate features and onto which generated \n",
    "                           feeatures will be cbound.\n",
    "    :param test_frame: Test frame from which to generate features and onto which generated \n",
    "                       feeatures will be cbound.\n",
    "    :param nums: List of original numeric features from which to generate combined features.\n",
    "    \n",
    "    \"\"\"\n",
    "\n",
    "    total = len(nums)\n",
    "    \n",
    "    # convert to pandas\n",
    "    train_df = training_frame.as_data_frame()\n",
    "    test_df = test_frame.as_data_frame()\n",
    "    \n",
    "    for i, col_i in enumerate(nums):\n",
    "        \n",
    "        print('Combining: ' + col_i + ' (' + str(i+1) + '/' + str(total) + ') ...')        \n",
    "        \n",
    "        for j, col_j in enumerate(nums):\n",
    "            \n",
    "            # don't repeat (i*j = j*i)\n",
    "            if i < j:\n",
    "                \n",
    "                # convert to pandas\n",
    "                col_i_train_df = train_df[col_i]\n",
    "                col_j_train_df = train_df[col_j]\n",
    "                col_i_test_df = test_df[col_i]\n",
    "                col_j_test_df = test_df[col_j] \n",
    "\n",
    "                # multiply, convert back to h2o\n",
    "                train_df[str(col_i + '|' + col_j)] = col_i_train_df.values*col_j_train_df.values\n",
    "                test_df[str(col_i + '|' + col_j)] = col_i_test_df.values*col_j_test_df.values\n",
    "                \n",
    "    print('Done.')\n",
    "    \n",
    "    # convert back to h2o\n",
    "    \n",
    "    print('Converting to H2OFrame ...')\n",
    "    \n",
    "    training_frame = h2o.H2OFrame(train_df)\n",
    "    training_frame.columns = list(train_df)\n",
    "    test_frame = h2o.H2OFrame(test_df)\n",
    "    test_frame.columns = list(test_df)\n",
    "    \n",
    "    print('Done.')\n",
    "    print()\n",
    "    \n",
    "    # conserve memory \n",
    "    del train_df\n",
    "    del test_df \n",
    "    \n",
    "    return training_frame, test_frame\n"
   ]
  },
  {
   "cell_type": "code",
   "execution_count": 49,
   "metadata": {
    "collapsed": false
   },
   "outputs": [
    {
     "data": {
      "text/plain": [
       "81"
      ]
     },
     "execution_count": 49,
     "metadata": {},
     "output_type": "execute_result"
    }
   ],
   "source": [
    "len(encoded_nums)"
   ]
  },
  {
   "cell_type": "code",
   "execution_count": 52,
   "metadata": {
    "collapsed": false
   },
   "outputs": [
    {
     "data": {
      "text/plain": [
       "(1001, 133)"
      ]
     },
     "execution_count": 52,
     "metadata": {},
     "output_type": "execute_result"
    }
   ],
   "source": [
    "train.shape"
   ]
  },
  {
   "cell_type": "code",
   "execution_count": 56,
   "metadata": {
    "collapsed": false,
    "scrolled": true
   },
   "outputs": [
    {
     "name": "stdout",
     "output_type": "stream",
     "text": [
      "Combining: MasVnrType_Tencode (1/81) ...\n",
      "Combining: Id (2/81) ...\n",
      "Combining: TotRmsAbvGrd (3/81) ...\n",
      "Combining: BsmtCond_Tencode (4/81) ...\n",
      "Combining: PoolArea (5/81) ...\n",
      "Combining: TotalBsmtSF (6/81) ...\n",
      "Combining: KitchenQual_Tencode (7/81) ...\n",
      "Combining: ExterQual_Tencode (8/81) ...\n",
      "Combining: Alley_Tencode (9/81) ...\n",
      "Combining: BsmtExposure_Tencode (10/81) ...\n",
      "Combining: Functional_Tencode (11/81) ...\n",
      "Combining: Condition2_Tencode (12/81) ...\n",
      "Combining: SaleCondition_Tencode (13/81) ...\n",
      "Combining: YearBuilt_Tencode (14/81) ...\n",
      "Combining: LandContour_Tencode (15/81) ...\n",
      "Combining: HeatingQC_Tencode (16/81) ...\n",
      "Combining: BsmtQual_Tencode (17/81) ...\n",
      "Combining: Neighborhood_Tencode (18/81) ...\n",
      "Combining: LotShape_Tencode (19/81) ...\n",
      "Combining: Fence_Tencode (20/81) ...\n",
      "Combining: BsmtFullBath (21/81) ...\n",
      "Combining: ExterCond_Tencode (22/81) ...\n",
      "Combining: GarageYrBlt (23/81) ...\n",
      "Combining: LowQualFinSF (24/81) ...\n",
      "Combining: Heating_Tencode (25/81) ...\n",
      "Combining: MoSold_Tencode (26/81) ...\n",
      "Combining: ScreenPorch (27/81) ...\n",
      "Combining: BsmtHalfBath (28/81) ...\n",
      "Combining: 1stFlrSF (29/81) ...\n",
      "Combining: OverallQual_Tencode (30/81) ...\n",
      "Combining: LandSlope_Tencode (31/81) ...\n",
      "Combining: Foundation_Tencode (32/81) ...\n",
      "Combining: BsmtFinType1_Tencode (33/81) ...\n",
      "Combining: GarageYrBltBins_Tencode (34/81) ...\n",
      "Combining: PoolQC_Tencode (35/81) ...\n",
      "Combining: GrLivArea (36/81) ...\n",
      "Combining: OpenPorchSF (37/81) ...\n",
      "Combining: SaleType_Tencode (38/81) ...\n",
      "Combining: GarageFinish_Tencode (39/81) ...\n",
      "Combining: Exterior1st_Tencode (40/81) ...\n",
      "Combining: YearRemodAdd_Tencode (41/81) ...\n",
      "Combining: Fireplaces (42/81) ...\n",
      "Combining: Exterior2nd_Tencode (43/81) ...\n",
      "Combining: MiscFeature_Tencode (44/81) ...\n",
      "Combining: BedroomAbvGr (45/81) ...\n",
      "Combining: HouseStyle_Tencode (46/81) ...\n",
      "Combining: Utilities_Tencode (47/81) ...\n",
      "Combining: LotConfig_Tencode (48/81) ...\n",
      "Combining: Street_Tencode (49/81) ...\n",
      "Combining: MSZoning_Tencode (50/81) ...\n",
      "Combining: BsmtFinSF1 (51/81) ...\n",
      "Combining: BldgType_Tencode (52/81) ...\n",
      "Combining: RoofMatl_Tencode (53/81) ...\n",
      "Combining: 2ndFlrSF (54/81) ...\n",
      "Combining: PavedDrive_Tencode (55/81) ...\n",
      "Combining: FullBath (56/81) ...\n",
      "Combining: GarageCond_Tencode (57/81) ...\n",
      "Combining: WoodDeckSF (58/81) ...\n",
      "Combining: GarageCars (59/81) ...\n",
      "Combining: GarageQual_Tencode (60/81) ...\n",
      "Combining: LotArea (61/81) ...\n",
      "Combining: Condition1_Tencode (62/81) ...\n",
      "Combining: MasVnrArea (63/81) ...\n",
      "Combining: MSSubClass_Tencode (64/81) ...\n",
      "Combining: KitchenAbvGr (65/81) ...\n",
      "Combining: MiscVal (66/81) ...\n",
      "Combining: FireplaceQu_Tencode (67/81) ...\n",
      "Combining: CentralAir_Tencode (68/81) ...\n",
      "Combining: 3SsnPorch (69/81) ...\n",
      "Combining: RoofStyle_Tencode (70/81) ...\n",
      "Combining: BsmtFinType2_Tencode (71/81) ...\n",
      "Combining: Electrical_Tencode (72/81) ...\n",
      "Combining: EnclosedPorch (73/81) ...\n",
      "Combining: GarageArea (74/81) ...\n",
      "Combining: BsmtUnfSF (75/81) ...\n",
      "Combining: BsmtFinSF2 (76/81) ...\n",
      "Combining: LotFrontage (77/81) ...\n",
      "Combining: GarageType_Tencode (78/81) ...\n",
      "Combining: HalfBath (79/81) ...\n",
      "Combining: OverallCond_Tencode (80/81) ...\n",
      "Combining: YrSold_Tencode (81/81) ...\n",
      "Done.\n",
      "Converting to H2OFrame ...\n",
      "Done.\n",
      "\n",
      "Combining: MasVnrType_Tencode (1/81) ...\n",
      "Combining: Id (2/81) ...\n",
      "Combining: TotRmsAbvGrd (3/81) ...\n",
      "Combining: BsmtCond_Tencode (4/81) ...\n",
      "Combining: PoolArea (5/81) ...\n",
      "Combining: TotalBsmtSF (6/81) ...\n",
      "Combining: KitchenQual_Tencode (7/81) ...\n",
      "Combining: ExterQual_Tencode (8/81) ...\n",
      "Combining: Alley_Tencode (9/81) ...\n",
      "Combining: BsmtExposure_Tencode (10/81) ...\n",
      "Combining: Functional_Tencode (11/81) ...\n",
      "Combining: Condition2_Tencode (12/81) ...\n",
      "Combining: SaleCondition_Tencode (13/81) ...\n",
      "Combining: YearBuilt_Tencode (14/81) ...\n",
      "Combining: LandContour_Tencode (15/81) ...\n",
      "Combining: HeatingQC_Tencode (16/81) ...\n",
      "Combining: BsmtQual_Tencode (17/81) ...\n",
      "Combining: Neighborhood_Tencode (18/81) ...\n",
      "Combining: LotShape_Tencode (19/81) ...\n",
      "Combining: Fence_Tencode (20/81) ...\n",
      "Combining: BsmtFullBath (21/81) ...\n",
      "Combining: ExterCond_Tencode (22/81) ...\n",
      "Combining: GarageYrBlt (23/81) ...\n",
      "Combining: LowQualFinSF (24/81) ...\n",
      "Combining: Heating_Tencode (25/81) ...\n",
      "Combining: MoSold_Tencode (26/81) ...\n",
      "Combining: ScreenPorch (27/81) ...\n",
      "Combining: BsmtHalfBath (28/81) ...\n",
      "Combining: 1stFlrSF (29/81) ...\n",
      "Combining: OverallQual_Tencode (30/81) ...\n",
      "Combining: LandSlope_Tencode (31/81) ...\n",
      "Combining: Foundation_Tencode (32/81) ...\n",
      "Combining: BsmtFinType1_Tencode (33/81) ...\n",
      "Combining: GarageYrBltBins_Tencode (34/81) ...\n",
      "Combining: PoolQC_Tencode (35/81) ...\n",
      "Combining: GrLivArea (36/81) ...\n",
      "Combining: OpenPorchSF (37/81) ...\n",
      "Combining: SaleType_Tencode (38/81) ...\n",
      "Combining: GarageFinish_Tencode (39/81) ...\n",
      "Combining: Exterior1st_Tencode (40/81) ...\n",
      "Combining: YearRemodAdd_Tencode (41/81) ...\n",
      "Combining: Fireplaces (42/81) ...\n",
      "Combining: Exterior2nd_Tencode (43/81) ...\n",
      "Combining: MiscFeature_Tencode (44/81) ...\n",
      "Combining: BedroomAbvGr (45/81) ...\n",
      "Combining: HouseStyle_Tencode (46/81) ...\n",
      "Combining: Utilities_Tencode (47/81) ...\n",
      "Combining: LotConfig_Tencode (48/81) ...\n",
      "Combining: Street_Tencode (49/81) ...\n",
      "Combining: MSZoning_Tencode (50/81) ...\n",
      "Combining: BsmtFinSF1 (51/81) ...\n",
      "Combining: BldgType_Tencode (52/81) ...\n",
      "Combining: RoofMatl_Tencode (53/81) ...\n",
      "Combining: 2ndFlrSF (54/81) ...\n",
      "Combining: PavedDrive_Tencode (55/81) ...\n",
      "Combining: FullBath (56/81) ...\n",
      "Combining: GarageCond_Tencode (57/81) ...\n",
      "Combining: WoodDeckSF (58/81) ...\n",
      "Combining: GarageCars (59/81) ...\n",
      "Combining: GarageQual_Tencode (60/81) ...\n",
      "Combining: LotArea (61/81) ...\n",
      "Combining: Condition1_Tencode (62/81) ...\n",
      "Combining: MasVnrArea (63/81) ...\n",
      "Combining: MSSubClass_Tencode (64/81) ...\n",
      "Combining: KitchenAbvGr (65/81) ...\n",
      "Combining: MiscVal (66/81) ...\n",
      "Combining: FireplaceQu_Tencode (67/81) ...\n",
      "Combining: CentralAir_Tencode (68/81) ...\n",
      "Combining: 3SsnPorch (69/81) ...\n",
      "Combining: RoofStyle_Tencode (70/81) ...\n",
      "Combining: BsmtFinType2_Tencode (71/81) ...\n",
      "Combining: Electrical_Tencode (72/81) ...\n",
      "Combining: EnclosedPorch (73/81) ...\n",
      "Combining: GarageArea (74/81) ...\n",
      "Combining: BsmtUnfSF (75/81) ...\n",
      "Combining: BsmtFinSF2 (76/81) ...\n",
      "Combining: LotFrontage (77/81) ...\n",
      "Combining: GarageType_Tencode (78/81) ...\n",
      "Combining: HalfBath (79/81) ...\n",
      "Combining: OverallCond_Tencode (80/81) ...\n",
      "Combining: YrSold_Tencode (81/81) ...\n",
      "Done.\n",
      "Converting to H2OFrame ...\n",
      "Done.\n",
      "\n"
     ]
    }
   ],
   "source": [
    "train2, _ = feature_combiner(train, test, encoded_nums)\n",
    "valid2, test2 = feature_combiner(valid, test, encoded_nums)"
   ]
  },
  {
   "cell_type": "code",
   "execution_count": 57,
   "metadata": {
    "collapsed": false
   },
   "outputs": [
    {
     "name": "stdout",
     "output_type": "stream",
     "text": [
      "Numeric = ['LotShape_Tencode|BsmtHalfBath', 'BsmtFullBath|PoolQC_Tencode', 'PoolArea|LotShape_Tencode', 'BedroomAbvGr|BsmtFinSF2', 'KitchenQual_Tencode|OpenPorchSF', 'Id|SaleCondition_Tencode', 'KitchenQual_Tencode|BsmtFinSF2', 'BsmtExposure_Tencode|ExterCond_Tencode', 'BsmtFinSF1|CentralAir_Tencode', 'Id', 'TotRmsAbvGrd', 'BsmtFullBath|Exterior1st_Tencode', 'BsmtCond_Tencode', 'MiscFeature_Tencode|FireplaceQu_Tencode', 'SaleCondition_Tencode|RoofStyle_Tencode', 'Fence_Tencode|BldgType_Tencode', 'BsmtCond_Tencode|PavedDrive_Tencode', 'MoSold_Tencode|HouseStyle_Tencode', 'BsmtHalfBath|EnclosedPorch', 'YearRemodAdd_Tencode|LotArea', 'SaleCondition_Tencode|BsmtHalfBath', 'OverallQual_Tencode|BsmtFinType2_Tencode', 'Fence_Tencode|BedroomAbvGr', 'BsmtCond_Tencode|LotArea', 'Id|HalfBath', 'ExterQual_Tencode|MiscFeature_Tencode', 'RoofMatl_Tencode|Electrical_Tencode', 'TotRmsAbvGrd|BsmtCond_Tencode', 'KitchenQual_Tencode', 'GarageArea|BsmtFinSF2', 'FireplaceQu_Tencode|BsmtUnfSF', 'OverallQual_Tencode|GarageYrBltBins_Tencode', 'YearRemodAdd_Tencode|OverallCond_Tencode', 'BsmtCond_Tencode|1stFlrSF', 'Alley_Tencode', 'LandSlope_Tencode|BldgType_Tencode', 'LowQualFinSF|EnclosedPorch', 'GarageFinish_Tencode|GarageCond_Tencode', 'GarageYrBlt|Utilities_Tencode', 'Heating_Tencode|3SsnPorch', 'BedroomAbvGr|2ndFlrSF', 'BsmtQual_Tencode|Exterior1st_Tencode', 'BsmtExposure_Tencode|3SsnPorch', 'RoofStyle_Tencode|Electrical_Tencode', 'TotRmsAbvGrd|GarageArea', 'Neighborhood_Tencode|GarageQual_Tencode', 'MSSubClass_Tencode|GarageArea', '2ndFlrSF|3SsnPorch', 'TotRmsAbvGrd|Alley_Tencode', 'PoolArea|HeatingQC_Tencode', 'Foundation_Tencode|BsmtFinType1_Tencode', 'BsmtHalfBath|BsmtFinType1_Tencode', 'LowQualFinSF|YrSold_Tencode', 'MoSold_Tencode|BsmtFinType1_Tencode', 'PoolQC_Tencode|GarageArea', 'GarageQual_Tencode|MSSubClass_Tencode', 'HeatingQC_Tencode|GarageYrBlt', 'BsmtHalfBath|PoolQC_Tencode', 'MSZoning_Tencode|OverallCond_Tencode', 'BsmtExposure_Tencode|YrSold_Tencode', '2ndFlrSF|EnclosedPorch', 'Exterior1st_Tencode|GarageQual_Tencode', 'Id|BsmtFullBath', 'LandContour_Tencode', 'BsmtCond_Tencode|KitchenAbvGr', 'OverallQual_Tencode|LotArea', 'Condition2_Tencode|LotArea', 'BsmtFinType1_Tencode|Condition1_Tencode', 'BsmtExposure_Tencode|EnclosedPorch', 'KitchenQual_Tencode|OverallQual_Tencode', 'YearRemodAdd_Tencode|BsmtFinSF2', 'Exterior2nd_Tencode|WoodDeckSF', 'BsmtQual_Tencode|GarageArea', 'Condition1_Tencode|BsmtFinSF2', 'Street_Tencode|WoodDeckSF', 'Fireplaces|GarageQual_Tencode', 'Fence_Tencode|MSZoning_Tencode', 'Fence_Tencode', 'ScreenPorch|WoodDeckSF', '1stFlrSF|Exterior2nd_Tencode', 'LowQualFinSF|Electrical_Tencode', 'GarageYrBlt', 'GarageYrBlt|2ndFlrSF', 'Id|GarageCond_Tencode', 'HeatingQC_Tencode|RoofStyle_Tencode', 'MSZoning_Tencode|Electrical_Tencode', 'BsmtQual_Tencode|MiscVal', 'GarageCond_Tencode|WoodDeckSF', 'Exterior2nd_Tencode|GarageQual_Tencode', 'TotRmsAbvGrd|HeatingQC_Tencode', 'OverallQual_Tencode|GarageCond_Tencode', 'YearRemodAdd_Tencode|LotFrontage', 'LowQualFinSF|ScreenPorch', 'Alley_Tencode|1stFlrSF', 'ExterCond_Tencode|FireplaceQu_Tencode', 'SaleCondition_Tencode|Heating_Tencode', 'BldgType_Tencode|MSSubClass_Tencode', 'ScreenPorch|Fireplaces', 'HouseStyle_Tencode|OverallCond_Tencode', 'OpenPorchSF|FireplaceQu_Tencode', 'SaleType_Tencode|Street_Tencode', 'ScreenPorch|GarageCars', '1stFlrSF|LotFrontage', 'LotShape_Tencode|Street_Tencode', 'Foundation_Tencode', 'Foundation_Tencode|BldgType_Tencode', 'RoofStyle_Tencode|HalfBath', 'Neighborhood_Tencode|MasVnrArea', 'GarageFinish_Tencode|LotConfig_Tencode', 'KitchenQual_Tencode|SaleCondition_Tencode', 'GarageCars|LotArea', 'BsmtFullBath|GarageType_Tencode', 'ExterCond_Tencode|BldgType_Tencode', 'YearBuilt_Tencode|LandContour_Tencode', 'MasVnrType_Tencode|MasVnrArea', 'Neighborhood_Tencode|GarageCars', 'BsmtExposure_Tencode|BsmtQual_Tencode', 'GarageQual_Tencode|GarageType_Tencode', 'LotShape_Tencode|GrLivArea', 'Fence_Tencode|LowQualFinSF', 'Alley_Tencode|OverallCond_Tencode', 'MasVnrType_Tencode|MiscVal', 'BsmtHalfBath|GarageYrBltBins_Tencode', 'RoofStyle_Tencode|YrSold_Tencode', 'SaleCondition_Tencode|2ndFlrSF', 'BedroomAbvGr|GarageQual_Tencode', 'YearRemodAdd_Tencode|MiscFeature_Tencode', 'OverallQual_Tencode|Condition1_Tencode', 'MSZoning_Tencode|MasVnrArea', 'KitchenQual_Tencode|WoodDeckSF', 'GarageYrBltBins_Tencode|FullBath', 'OverallQual_Tencode|MSZoning_Tencode', 'Neighborhood_Tencode|Fence_Tencode', 'Exterior1st_Tencode|MSSubClass_Tencode', 'Exterior1st_Tencode|PavedDrive_Tencode', 'GrLivArea|RoofMatl_Tencode', 'LotArea|CentralAir_Tencode', 'LotConfig_Tencode|LotFrontage', 'SaleType_Tencode|LotConfig_Tencode', 'BsmtExposure_Tencode|SaleCondition_Tencode', 'LotArea|RoofStyle_Tencode', 'TotRmsAbvGrd|2ndFlrSF', 'TotRmsAbvGrd|GarageCars', 'MasVnrType_Tencode|GarageCars', 'YearRemodAdd_Tencode|PavedDrive_Tencode', 'ExterCond_Tencode|Exterior2nd_Tencode', 'FullBath|GarageCond_Tencode', 'LotArea|BsmtFinType2_Tencode', 'MasVnrType_Tencode|PoolArea', 'LandContour_Tencode|GarageYrBlt', 'BsmtQual_Tencode|MSSubClass_Tencode', 'ExterCond_Tencode|BsmtFinSF1', 'BsmtExposure_Tencode|1stFlrSF', 'LotConfig_Tencode', 'Condition2_Tencode|FullBath', 'CentralAir_Tencode|YrSold_Tencode', 'ExterCond_Tencode|WoodDeckSF', 'BsmtExposure_Tencode|Fireplaces', 'SaleType_Tencode|BedroomAbvGr', 'BsmtQual_Tencode|Heating_Tencode', 'Foundation_Tencode|PoolQC_Tencode', 'BsmtExposure_Tencode|MasVnrArea', 'LotShape_Tencode|GarageType_Tencode', 'Condition2_Tencode|RoofMatl_Tencode', '1stFlrSF|OpenPorchSF', 'KitchenQual_Tencode|Condition2_Tencode', 'Id|TotRmsAbvGrd', 'Functional_Tencode|LotFrontage', 'TotalBsmtSF|HouseStyle_Tencode', 'Functional_Tencode|Utilities_Tencode', 'MoSold_Tencode|BedroomAbvGr', 'YearRemodAdd', 'GarageYrBltBins_Tencode|Condition1_Tencode', 'YearRemodAdd_Tencode|BedroomAbvGr', 'HouseStyle_Tencode|CentralAir_Tencode', 'HeatingQC_Tencode|Exterior1st_Tencode', 'Fence_Tencode|LandSlope_Tencode', 'GarageQual_Tencode|BsmtUnfSF', 'SaleType_Tencode|Utilities_Tencode', 'Fence_Tencode|3SsnPorch', 'LandSlope_Tencode|GarageYrBltBins_Tencode', 'BsmtFullBath|3SsnPorch', 'BsmtCond_Tencode|Foundation_Tencode', 'Id|OpenPorchSF', 'MiscFeature_Tencode|BldgType_Tencode', 'YearRemodAdd_Tencode|GarageArea', 'MoSold_Tencode|LotConfig_Tencode', 'BsmtExposure_Tencode|ScreenPorch', 'MoSold_Tencode|PavedDrive_Tencode', 'FullBath|GarageQual_Tencode', 'LotArea|MiscVal', 'Heating_Tencode|LotArea', 'Condition2_Tencode|MSZoning_Tencode', 'TotRmsAbvGrd|FireplaceQu_Tencode', 'BsmtUnfSF|GarageType_Tencode', 'ExterCond_Tencode|1stFlrSF', 'BsmtFinType1_Tencode|LotConfig_Tencode', 'Neighborhood_Tencode|LotShape_Tencode', 'LowQualFinSF|LandSlope_Tencode', 'TotalBsmtSF|Exterior2nd_Tencode', 'TotRmsAbvGrd|OpenPorchSF', 'Alley_Tencode|MSSubClass_Tencode', 'Neighborhood_Tencode|GarageArea', 'WoodDeckSF|EnclosedPorch', 'Heating_Tencode|WoodDeckSF', 'OverallQual_Tencode|GarageType_Tencode', 'ExterCond_Tencode|BsmtFinType1_Tencode', 'TotRmsAbvGrd|ExterCond_Tencode', 'OpenPorchSF|BsmtFinSF2', 'Id|ExterCond_Tencode', 'HeatingQC_Tencode|OverallCond_Tencode', 'KitchenQual_Tencode|GarageYrBltBins_Tencode', 'LotFrontage', 'PoolArea|MiscVal', 'BsmtHalfBath|BldgType_Tencode', 'LotShape_Tencode|OverallCond_Tencode', 'Exterior2nd_Tencode|MSSubClass_Tencode', 'ExterQual_Tencode|Exterior1st_Tencode', 'BsmtExposure_Tencode|WoodDeckSF', 'BsmtHalfBath|GarageQual_Tencode', 'BsmtHalfBath|GarageCars', 'SaleCondition_Tencode|OpenPorchSF', 'MSZoning_Tencode|WoodDeckSF', 'LandSlope_Tencode|HalfBath', 'OverallQual_Tencode|SaleType_Tencode', 'KitchenQual_Tencode|GarageCond_Tencode', 'Id|Alley_Tencode', 'Neighborhood_Tencode|LowQualFinSF', 'Functional_Tencode|GarageCond_Tencode', 'MoSold_Tencode|2ndFlrSF', 'YearRemodAdd_Tencode|KitchenAbvGr', 'Alley_Tencode|HeatingQC_Tencode', '3SsnPorch|HalfBath', 'BsmtQual_Tencode|LotConfig_Tencode', 'LandSlope_Tencode|Condition1_Tencode', 'MoSold_Tencode|GarageCars', 'ScreenPorch|Exterior1st_Tencode', 'MiscFeature_Tencode|3SsnPorch', 'Condition2_Tencode|YrSold_Tencode', 'HouseStyle_Tencode|GarageCond_Tencode', 'PavedDrive_Tencode|BsmtFinSF2', 'WoodDeckSF|KitchenAbvGr', 'BsmtQual_Tencode|GarageCars', 'Condition2_Tencode|BsmtFinType2_Tencode', 'MasVnrType_Tencode|GarageArea', 'BsmtQual_Tencode|ExterCond_Tencode', 'BldgType_Tencode|GarageArea', '3SsnPorch|GarageType_Tencode', 'BsmtFinType1_Tencode|CentralAir_Tencode', 'MiscVal|BsmtFinSF2', 'BsmtFinType1_Tencode|BsmtUnfSF', 'Fireplaces|FireplaceQu_Tencode', 'TotalBsmtSF|MiscFeature_Tencode', 'MiscFeature_Tencode|MiscVal', 'Exterior1st_Tencode|Utilities_Tencode', 'ScreenPorch|EnclosedPorch', 'GarageFinish_Tencode|BsmtUnfSF', 'GrLivArea|WoodDeckSF', 'BsmtQual_Tencode|HalfBath', 'MasVnrType_Tencode|Neighborhood_Tencode', 'LowQualFinSF|GarageCars', '1stFlrSF|CentralAir_Tencode', 'Functional_Tencode|CentralAir_Tencode', 'SaleCondition_Tencode|3SsnPorch', 'GarageYrBlt|SaleType_Tencode', 'LotShape_Tencode|GarageArea', 'Neighborhood_Tencode|OverallQual_Tencode', 'LowQualFinSF|OpenPorchSF', '1stFlrSF|EnclosedPorch', 'ExterQual_Tencode|LowQualFinSF', 'MiscVal|OverallCond_Tencode', 'LandContour_Tencode|YearRemodAdd_Tencode', 'Alley_Tencode|ExterCond_Tencode', 'HeatingQC_Tencode|MSZoning_Tencode', 'MoSold_Tencode|3SsnPorch', '1stFlrSF|MiscFeature_Tencode', 'ScreenPorch|GarageQual_Tencode', 'KitchenQual_Tencode|RoofStyle_Tencode', 'YearBuilt_Tencode|EnclosedPorch', 'GarageType_Tencode|YrSold_Tencode', 'LandContour_Tencode|MoSold_Tencode', 'BsmtFinSF1|RoofMatl_Tencode', 'ExterQual_Tencode|Neighborhood_Tencode', 'Condition2_Tencode|GarageYrBlt', 'PavedDrive_Tencode|FullBath', 'GarageFinish_Tencode|3SsnPorch', 'Exterior1st_Tencode|MasVnrArea', 'Condition1_Tencode|3SsnPorch', 'YearBuilt_Tencode|BldgType_Tencode', 'Neighborhood_Tencode|LotConfig_Tencode', 'BsmtCond_Tencode|Alley_Tencode', 'LotArea|GarageArea', 'Alley_Tencode|CentralAir_Tencode', 'TotalBsmtSF|2ndFlrSF', 'HeatingQC_Tencode|MoSold_Tencode', 'BsmtHalfBath|LandSlope_Tencode', 'BsmtQual_Tencode|Street_Tencode', 'LandSlope_Tencode|GarageCond_Tencode', 'PoolQC_Tencode|Utilities_Tencode', 'BsmtQual_Tencode|GarageType_Tencode', 'MSZoning_Tencode|LotFrontage', 'GrLivArea|BsmtFinSF2', 'LandSlope_Tencode|PoolQC_Tencode', 'Id|LandContour_Tencode', 'SaleCondition_Tencode|LotConfig_Tencode', 'GarageYrBltBins_Tencode|GarageCars', 'LotArea|MSSubClass_Tencode', 'Alley_Tencode|BsmtFinType1_Tencode', 'PavedDrive_Tencode|LotArea', 'YearBuilt_Tencode|BsmtFinType2_Tencode', 'GarageYrBlt|GarageYrBltBins_Tencode', 'LandSlope_Tencode', 'Street_Tencode|BsmtFinType2_Tencode', 'TotRmsAbvGrd|Heating_Tencode', 'Exterior1st_Tencode|CentralAir_Tencode', 'Fence_Tencode|ScreenPorch', 'YrSold', 'Alley_Tencode|GrLivArea', 'HouseStyle_Tencode|RoofStyle_Tencode', 'BsmtUnfSF|LotFrontage', 'BsmtQual_Tencode|RoofMatl_Tencode', 'BsmtHalfBath|MSZoning_Tencode', 'GarageYrBlt|OverallQual_Tencode', 'ExterQual_Tencode|EnclosedPorch', 'GrLivArea|LotFrontage', 'OpenPorchSF', 'GarageYrBltBins_Tencode|GarageCond_Tencode', 'TotalBsmtSF|OverallQual_Tencode', 'Exterior1st_Tencode|BedroomAbvGr', 'BsmtQual_Tencode|PoolQC_Tencode', 'SaleType_Tencode|RoofStyle_Tencode', 'LotConfig_Tencode|GarageArea', 'BsmtExposure_Tencode|GarageFinish_Tencode', 'Foundation_Tencode|MiscVal', 'Functional_Tencode|PoolQC_Tencode', 'LandContour_Tencode|Exterior2nd_Tencode', 'BsmtFinType1_Tencode|YearRemodAdd_Tencode', 'OpenPorchSF|BsmtFinSF1', 'Utilities_Tencode|YrSold_Tencode', 'MSSubClass_Tencode|BsmtFinType2_Tencode', 'OverallQual_Tencode|LandSlope_Tencode', 'GarageCond_Tencode|Condition1_Tencode', 'BsmtFinSF1|LotArea', 'SaleCondition_Tencode|BedroomAbvGr', 'Fence_Tencode|BsmtFinSF1', 'MSSubClass_Tencode', 'PoolArea|3SsnPorch', 'Functional_Tencode|Foundation_Tencode', 'MoSold_Tencode|MSSubClass_Tencode', 'LotShape_Tencode|MoSold_Tencode', 'BsmtFullBath|Utilities_Tencode', 'TotalBsmtSF|GarageArea', 'BsmtQual_Tencode|MSZoning_Tencode', 'Alley_Tencode|BsmtFullBath', 'PoolArea|LandContour_Tencode', 'MasVnrType_Tencode|BsmtFullBath', 'TotRmsAbvGrd|BsmtHalfBath', 'GarageYrBlt|RoofMatl_Tencode', 'Fence_Tencode|GarageQual_Tencode', 'Fence_Tencode|BsmtFinType1_Tencode', 'BsmtHalfBath|2ndFlrSF', '2ndFlrSF|KitchenAbvGr', 'Utilities_Tencode|Condition1_Tencode', 'MasVnrType_Tencode|BsmtExposure_Tencode', 'MasVnrType_Tencode|YrSold_Tencode', 'ExterQual_Tencode|LotFrontage', 'MasVnrArea|BsmtUnfSF', 'TotalBsmtSF|MasVnrArea', '1stFlrSF|OverallCond_Tencode', '1stFlrSF|LotArea', 'TotRmsAbvGrd|RoofMatl_Tencode', 'MiscFeature_Tencode|BedroomAbvGr', 'Fence_Tencode|2ndFlrSF', '1stFlrSF|GarageYrBltBins_Tencode', 'PoolQC_Tencode|LotFrontage', 'ScreenPorch|BsmtFinType1_Tencode', 'BsmtFullBath|SaleType_Tencode', 'ScreenPorch|2ndFlrSF', 'Exterior2nd_Tencode|LotConfig_Tencode', 'Fence_Tencode|YearRemodAdd_Tencode', 'Alley_Tencode|PoolQC_Tencode', 'BsmtQual_Tencode|PavedDrive_Tencode', 'YearBuilt_Tencode|GarageFinish_Tencode', 'TotalBsmtSF|FireplaceQu_Tencode', 'TotalBsmtSF|YrSold_Tencode', 'GarageType_Tencode|HalfBath', 'PoolQC_Tencode|RoofStyle_Tencode', 'YearBuilt_Tencode|GarageCond_Tencode', 'Foundation_Tencode|LotFrontage', 'ExterQual_Tencode|HeatingQC_Tencode', 'Neighborhood_Tencode|MoSold_Tencode', 'SaleCondition_Tencode|LotFrontage', 'GarageCond_Tencode|BsmtFinType2_Tencode', 'Utilities_Tencode|BsmtFinSF2', 'Functional_Tencode|BsmtUnfSF', 'ScreenPorch|RoofMatl_Tencode', 'LandContour_Tencode|Electrical_Tencode', 'BedroomAbvGr|MSSubClass_Tencode', 'TotalBsmtSF|ExterCond_Tencode', 'SaleType_Tencode|BldgType_Tencode', 'TotRmsAbvGrd|PavedDrive_Tencode', 'Heating_Tencode|RoofStyle_Tencode', 'MoSold_Tencode|Utilities_Tencode', 'GarageCars|Electrical_Tencode', 'Utilities_Tencode|BsmtUnfSF', '3SsnPorch|EnclosedPorch', '1stFlrSF|PoolQC_Tencode', 'LowQualFinSF|MSSubClass_Tencode', 'ScreenPorch|OverallCond_Tencode', 'MiscVal|3SsnPorch', 'GrLivArea|LotArea', 'BsmtFinType1_Tencode|KitchenAbvGr', 'LotShape_Tencode|RoofStyle_Tencode', 'MasVnrType_Tencode|GrLivArea', 'SaleCondition_Tencode|MasVnrArea', 'ExterQual_Tencode|3SsnPorch', 'Id|GarageQual_Tencode', 'KitchenQual_Tencode|BedroomAbvGr', 'OverallQual_Tencode|HalfBath', 'TotRmsAbvGrd|BsmtFinType1_Tencode', 'BsmtFullBath|FullBath', 'ExterCond_Tencode|3SsnPorch', 'Neighborhood_Tencode|FullBath', 'MasVnrType_Tencode', 'Exterior1st_Tencode|MiscFeature_Tencode', 'BsmtFinSF1|GarageArea', 'Street_Tencode|BldgType_Tencode', 'CentralAir_Tencode|BsmtFinSF2', 'BsmtExposure_Tencode|OverallQual_Tencode', 'Neighborhood_Tencode|1stFlrSF', 'BsmtFinType1_Tencode|LotArea', 'BsmtHalfBath|BsmtUnfSF', 'FireplaceQu_Tencode|HalfBath', 'LandContour_Tencode|MiscFeature_Tencode', 'Fence_Tencode|OpenPorchSF', 'Functional_Tencode|Exterior1st_Tencode', 'BsmtExposure_Tencode|Fence_Tencode', 'GarageCond_Tencode|LotFrontage', 'HeatingQC_Tencode|GarageCond_Tencode', 'MasVnrType_Tencode|2ndFlrSF', 'TotalBsmtSF|LandSlope_Tencode', 'BsmtQual_Tencode|YearRemodAdd_Tencode', 'KitchenQual_Tencode|Street_Tencode', 'PoolArea|LandSlope_Tencode', 'FullBath|LotFrontage', 'BsmtHalfBath|OpenPorchSF', 'TotRmsAbvGrd|TotalBsmtSF', 'Exterior1st_Tencode|BsmtFinType2_Tencode', 'MSSubClass_Tencode|EnclosedPorch', 'GarageCars|GarageArea', 'LandContour_Tencode|ScreenPorch', 'Condition2_Tencode|LotConfig_Tencode', 'LotShape_Tencode|HalfBath', 'OverallQual_Tencode|MiscVal', 'BsmtCond_Tencode|Utilities_Tencode', 'Foundation_Tencode|Utilities_Tencode', 'MoSold_Tencode|Street_Tencode', 'Neighborhood_Tencode|RoofMatl_Tencode', 'YearBuilt_Tencode|OverallQual_Tencode', 'Neighborhood_Tencode|LotArea', 'ExterQual_Tencode|BsmtHalfBath', 'BsmtCond_Tencode|BsmtFullBath', 'SaleCondition_Tencode|GarageArea', 'YearBuilt_Tencode|MiscFeature_Tencode', 'BsmtFinSF1|MasVnrArea', 'Fence_Tencode|SaleType_Tencode', 'GarageYrBltBins_Tencode|MSSubClass_Tencode', 'SaleCondition_Tencode|Neighborhood_Tencode', 'LotShape_Tencode|BsmtFinSF2', 'Electrical_Tencode|YrSold_Tencode', 'LandContour_Tencode|2ndFlrSF', 'HeatingQC_Tencode|CentralAir_Tencode', 'MiscFeature_Tencode|WoodDeckSF', 'GrLivArea|Fireplaces', 'SaleType_Tencode|RoofMatl_Tencode', 'BsmtFinType1_Tencode|HouseStyle_Tencode', 'BsmtCond_Tencode|MiscFeature_Tencode', 'YearBuilt_Tencode|BedroomAbvGr', 'RoofMatl_Tencode|GarageQual_Tencode', 'KitchenQual_Tencode|CentralAir_Tencode', 'Neighborhood_Tencode', 'GarageYrBltBins_Tencode|BsmtFinSF1', 'BsmtFullBath|HouseStyle_Tencode', 'LandContour_Tencode|MSSubClass_Tencode', 'Functional_Tencode|BsmtFinType2_Tencode', 'KitchenQual_Tencode|ScreenPorch', 'HeatingQC_Tencode|WoodDeckSF', 'Neighborhood_Tencode|Condition1_Tencode', 'MoSold_Tencode|CentralAir_Tencode', 'ScreenPorch|GarageFinish_Tencode', 'ExterQual_Tencode|Street_Tencode', 'GarageYrBltBins_Tencode|PoolQC_Tencode', 'YearBuilt_Tencode|CentralAir_Tencode', 'SaleCondition_Tencode|1stFlrSF', 'GrLivArea|EnclosedPorch', 'PoolArea|RoofMatl_Tencode', 'BsmtHalfBath|GrLivArea', 'BsmtExposure_Tencode|LandSlope_Tencode', 'Fence_Tencode|BsmtFinType2_Tencode', 'Functional_Tencode|ExterCond_Tencode', 'RoofMatl_Tencode|FullBath', 'MasVnrArea|FireplaceQu_Tencode', 'BsmtCond_Tencode|BsmtFinType2_Tencode', 'LandContour_Tencode|Heating_Tencode', 'LotShape_Tencode|MSSubClass_Tencode', 'YearRemodAdd_Tencode|CentralAir_Tencode', 'HeatingQC_Tencode|GarageArea', 'Street_Tencode|GarageCond_Tencode', 'CentralAir_Tencode|HalfBath', 'SaleCondition_Tencode|OverallCond_Tencode', 'Heating_Tencode|Foundation_Tencode', 'BsmtQual_Tencode|LotArea', 'SaleCondition_Tencode|KitchenAbvGr', 'PoolArea|GarageType_Tencode', 'MSSubClass_Tencode|HalfBath', 'PoolArea|FireplaceQu_Tencode', 'Alley_Tencode|SaleType_Tencode', 'SaleCondition_Tencode|FullBath', 'GarageYrBlt|ScreenPorch', 'ScreenPorch', 'Neighborhood_Tencode|Electrical_Tencode', 'Foundation_Tencode|OverallCond_Tencode', 'OpenPorchSF|HalfBath', 'HeatingQC_Tencode|SaleType_Tencode', 'OpenPorchSF|GarageType_Tencode', 'HouseStyle_Tencode|GarageCars', 'MiscFeature_Tencode|GarageType_Tencode', 'BsmtCond_Tencode|MiscVal', 'BsmtExposure_Tencode|BedroomAbvGr', 'MasVnrType_Tencode|Electrical_Tencode', 'PoolArea|GarageCond_Tencode', 'LandContour_Tencode|OverallCond_Tencode', 'ExterQual_Tencode|LandSlope_Tencode', 'ExterCond_Tencode|CentralAir_Tencode', '1stFlrSF|GarageQual_Tencode', 'BsmtCond_Tencode|BsmtUnfSF', 'Condition2_Tencode|RoofStyle_Tencode', 'Functional_Tencode|GarageCars', 'LandContour_Tencode|GrLivArea', 'Exterior1st_Tencode|KitchenAbvGr', 'Heating_Tencode|OpenPorchSF', 'HeatingQC_Tencode|FireplaceQu_Tencode', 'GrLivArea|CentralAir_Tencode', 'YearBuilt_Tencode|OpenPorchSF', 'Exterior2nd_Tencode|GarageCond_Tencode', 'Exterior1st_Tencode|Street_Tencode', 'PoolQC_Tencode|LotArea', 'TotalBsmtSF|OpenPorchSF', 'GarageQual_Tencode|BsmtFinType2_Tencode', 'Foundation_Tencode|Fireplaces', 'LandContour_Tencode|GarageYrBltBins_Tencode', 'SaleType_Tencode|GarageArea', 'MoSold_Tencode|GarageQual_Tencode', 'MiscFeature_Tencode|YrSold_Tencode', 'LowQualFinSF|Condition1_Tencode', 'Heating_Tencode|2ndFlrSF', 'Alley_Tencode|MSZoning_Tencode', 'OverallQual_Tencode|HouseStyle_Tencode', '1stFlrSF|MSZoning_Tencode', 'OverallQual_Tencode|MSSubClass_Tencode', 'Street_Tencode|KitchenAbvGr', 'GarageFinish_Tencode|FullBath', 'ExterQual_Tencode|BsmtExposure_Tencode', 'MasVnrType_Tencode|PoolQC_Tencode', 'BsmtExposure_Tencode|LotShape_Tencode', 'LowQualFinSF|RoofStyle_Tencode', 'Id|BsmtHalfBath', 'Functional_Tencode|1stFlrSF', 'BsmtFullBath|Electrical_Tencode', 'CentralAir_Tencode|OverallCond_Tencode', 'Fence_Tencode|LotFrontage', 'ExterCond_Tencode|GarageArea', 'Condition2_Tencode|BsmtFinSF2', 'LotShape_Tencode|BsmtUnfSF', 'LandContour_Tencode|GarageQual_Tencode', 'Id|HouseStyle_Tencode', 'Neighborhood_Tencode|FireplaceQu_Tencode', 'ScreenPorch|LotFrontage', 'Id|MasVnrArea', 'FullBath|BsmtUnfSF', 'BsmtFinSF1', 'BsmtExposure_Tencode|MiscFeature_Tencode', 'HouseStyle_Tencode|EnclosedPorch', 'GarageArea', 'PoolArea|Neighborhood_Tencode', 'ExterQual_Tencode|Functional_Tencode', 'Utilities_Tencode|RoofStyle_Tencode', 'Id|YearBuilt_Tencode', 'PoolArea|2ndFlrSF', 'YearBuilt_Tencode|3SsnPorch', 'Foundation_Tencode|BsmtUnfSF', 'Condition2_Tencode|LandContour_Tencode', 'YearRemodAdd_Tencode|MiscVal', 'BsmtFinType1_Tencode|GarageYrBltBins_Tencode', 'Exterior2nd_Tencode|2ndFlrSF', 'Neighborhood_Tencode|BedroomAbvGr', 'RoofStyle_Tencode|GarageArea', 'PoolQC_Tencode|LotConfig_Tencode', 'Fence_Tencode|MiscFeature_Tencode', 'MoSold_Tencode|KitchenAbvGr', 'WoodDeckSF', 'BsmtFinType1_Tencode|3SsnPorch', 'GarageYrBltBins_Tencode|GarageArea', 'Fireplaces|2ndFlrSF', '2ndFlrSF|GarageType_Tencode', 'GarageYrBltBins_Tencode|BedroomAbvGr', 'BsmtFullBath|RoofMatl_Tencode', 'GarageFinish_Tencode|FireplaceQu_Tencode', 'BsmtFinType1_Tencode|EnclosedPorch', 'Utilities_Tencode|MSZoning_Tencode', 'Neighborhood_Tencode|Heating_Tencode', 'RoofMatl_Tencode|BsmtUnfSF', 'YearBuilt_Tencode|MiscVal', 'RoofMatl_Tencode|BsmtFinType2_Tencode', 'MasVnrType_Tencode|SaleCondition_Tencode', 'MSZoning_Tencode|FireplaceQu_Tencode', 'KitchenQual_Tencode|GarageFinish_Tencode', 'PoolQC_Tencode|BsmtFinSF2', 'HeatingQC_Tencode|Neighborhood_Tencode', 'BsmtFullBath|BedroomAbvGr', 'Functional_Tencode|2ndFlrSF', 'SaleCondition_Tencode|GarageYrBlt', 'Street_Tencode|GarageQual_Tencode', 'GarageYrBlt|LotFrontage', 'WoodDeckSF|GarageType_Tencode', 'BedroomAbvGr|LotConfig_Tencode', 'Electrical_Tencode', 'Neighborhood_Tencode|Exterior2nd_Tencode', 'LotShape_Tencode|Heating_Tencode', 'BedroomAbvGr|3SsnPorch', 'BsmtQual_Tencode|FireplaceQu_Tencode', 'BsmtCond_Tencode|BsmtHalfBath', 'GrLivArea|MiscFeature_Tencode', 'BedroomAbvGr|MiscVal', 'Utilities_Tencode|LotConfig_Tencode', 'OverallCond_Tencode', 'ScreenPorch|1stFlrSF', 'BsmtExposure_Tencode|YearRemodAdd_Tencode', 'Utilities_Tencode|FireplaceQu_Tencode', 'Alley_Tencode|Fireplaces', 'TotalBsmtSF|Heating_Tencode', 'LotShape_Tencode|LotArea', 'Alley_Tencode|Functional_Tencode', 'BsmtHalfBath|GarageArea', 'TotRmsAbvGrd|ExterQual_Tencode', 'LotConfig_Tencode|MSZoning_Tencode', 'LandSlope_Tencode|GarageArea', 'HeatingQC_Tencode|OpenPorchSF', 'HeatingQC_Tencode|Heating_Tencode', 'Exterior1st_Tencode|EnclosedPorch', 'HouseStyle_Tencode|BsmtFinType2_Tencode', 'SaleCondition_Tencode|EnclosedPorch', '1stFlrSF|YrSold_Tencode', 'OpenPorchSF|RoofMatl_Tencode', 'OpenPorchSF|HouseStyle_Tencode', 'Condition2_Tencode|PoolQC_Tencode', 'Fence_Tencode|Fireplaces', 'GarageFinish_Tencode|Utilities_Tencode', 'ScreenPorch|BsmtFinSF2', 'PoolArea|HalfBath', 'ExterQual_Tencode', 'MoSold_Tencode|PoolQC_Tencode', 'Heating_Tencode|LandSlope_Tencode', 'Exterior2nd_Tencode|YrSold_Tencode', 'BsmtFullBath|OpenPorchSF', 'BedroomAbvGr|WoodDeckSF', 'BsmtFullBath|GarageCond_Tencode', 'LotArea|MasVnrArea', 'BsmtFinSF2|OverallCond_Tencode', 'MasVnrType_Tencode|Heating_Tencode', 'BsmtHalfBath|Condition1_Tencode', 'Neighborhood_Tencode|2ndFlrSF', 'Utilities_Tencode|GarageType_Tencode', 'Neighborhood_Tencode|ExterCond_Tencode', 'Fence_Tencode|PavedDrive_Tencode', 'HeatingQC_Tencode|HouseStyle_Tencode', 'BsmtFinSF1|BsmtFinSF2', 'HalfBath|OverallCond_Tencode', 'Heating_Tencode|BldgType_Tencode', '2ndFlrSF|GarageArea', 'Exterior1st_Tencode|MiscVal', 'LandContour_Tencode|PavedDrive_Tencode', 'HeatingQC_Tencode|BsmtFinSF2', 'LandContour_Tencode|LotArea', 'GarageCond_Tencode|GarageQual_Tencode', 'BsmtExposure_Tencode|Exterior1st_Tencode', 'BsmtCond_Tencode|BedroomAbvGr', 'GarageFinish_Tencode|OverallCond_Tencode', 'Fence_Tencode|EnclosedPorch', 'Street_Tencode|FireplaceQu_Tencode', 'LowQualFinSF|MiscVal', 'Neighborhood_Tencode|BsmtFinSF2', 'CentralAir_Tencode|BsmtUnfSF', 'Fireplaces|BsmtFinSF1', 'LotShape_Tencode|BsmtFinSF1', 'SaleCondition_Tencode|HouseStyle_Tencode', 'TotRmsAbvGrd|CentralAir_Tencode', 'MSZoning_Tencode|EnclosedPorch', 'ExterCond_Tencode|LowQualFinSF', 'LotConfig_Tencode|KitchenAbvGr', 'HeatingQC_Tencode|LotConfig_Tencode', 'PoolArea|Heating_Tencode', 'Neighborhood_Tencode|3SsnPorch', 'LotShape_Tencode|GarageYrBltBins_Tencode', 'Heating_Tencode|FireplaceQu_Tencode', 'MasVnrType_Tencode|ScreenPorch', 'GarageYrBlt|Foundation_Tencode', 'Fireplaces|LotArea', 'YearBuilt_Tencode|Electrical_Tencode', 'LowQualFinSF|BldgType_Tencode', 'KitchenAbvGr|FireplaceQu_Tencode', 'GrLivArea|GarageCars', 'BedroomAbvGr|MasVnrArea', 'KitchenAbvGr|HalfBath', 'BsmtFinType1_Tencode|Fireplaces', 'LandContour_Tencode|BsmtFinSF1', 'OverallQual_Tencode|OverallCond_Tencode', 'PoolArea|HouseStyle_Tencode', 'YearRemodAdd_Tencode|RoofMatl_Tencode', 'BsmtCond_Tencode|ScreenPorch', 'SaleCondition_Tencode|YearBuilt_Tencode', 'TotalBsmtSF|Electrical_Tencode', 'Fireplaces|GarageArea', 'KitchenQual_Tencode|BsmtHalfBath', '3SsnPorch|BsmtFinSF2', 'Id|LotConfig_Tencode', '1stFlrSF|Electrical_Tencode', 'Exterior2nd_Tencode|BsmtFinSF1', 'LandSlope_Tencode|MiscVal', 'LandContour_Tencode|GarageCars', 'PoolArea|GarageYrBlt', 'Exterior1st_Tencode|GarageArea', 'RoofMatl_Tencode|MSSubClass_Tencode', 'SaleCondition_Tencode|YearRemodAdd_Tencode', 'YearRemodAdd_Tencode|LotConfig_Tencode', 'PoolArea|Alley_Tencode', 'BsmtQual_Tencode|FullBath', 'GarageFinish_Tencode|LotFrontage', 'GarageQual_Tencode', 'BsmtExposure_Tencode|2ndFlrSF', 'TotRmsAbvGrd|LandContour_Tencode', 'Condition2_Tencode|LandSlope_Tencode', 'TotalBsmtSF|ScreenPorch', 'LotConfig_Tencode|RoofStyle_Tencode', 'BsmtExposure_Tencode|Exterior2nd_Tencode', 'BsmtFinType1_Tencode', 'BsmtQual_Tencode|GarageYrBlt', 'BsmtExposure_Tencode|CentralAir_Tencode', 'GarageYrBlt|Exterior1st_Tencode', 'BldgType_Tencode|MasVnrArea', 'Street_Tencode|GarageCars', 'GarageYrBlt|GrLivArea', 'FullBath|WoodDeckSF', 'SaleType_Tencode|HouseStyle_Tencode', 'PavedDrive_Tencode|RoofStyle_Tencode', 'Street_Tencode|CentralAir_Tencode', 'Alley_Tencode|RoofStyle_Tencode', 'PoolQC_Tencode|PavedDrive_Tencode', 'PoolQC_Tencode|GarageFinish_Tencode', 'GarageYrBlt|PavedDrive_Tencode', 'KitchenQual_Tencode|ExterQual_Tencode', 'OverallQual_Tencode|OpenPorchSF', 'ScreenPorch|BsmtFinSF1', 'BedroomAbvGr|Electrical_Tencode', 'Functional_Tencode|GarageFinish_Tencode', 'HeatingQC_Tencode|LowQualFinSF', 'BedroomAbvGr|GarageType_Tencode', 'LandContour_Tencode|LotShape_Tencode', 'MasVnrType_Tencode|GarageYrBltBins_Tencode', 'ExterQual_Tencode|MoSold_Tencode', 'GarageArea|BsmtUnfSF', 'ScreenPorch|CentralAir_Tencode', 'GarageYrBltBins_Tencode|Exterior1st_Tencode', 'LowQualFinSF|SaleType_Tencode', 'MSZoning_Tencode|MSSubClass_Tencode', 'Heating_Tencode|YearRemodAdd_Tencode', 'MasVnrType_Tencode|KitchenAbvGr', 'BsmtCond_Tencode|LotConfig_Tencode', 'Functional_Tencode|MasVnrArea', 'ExterCond_Tencode|KitchenAbvGr', 'BsmtUnfSF|YrSold_Tencode', 'MasVnrType_Tencode|BsmtHalfBath', '2ndFlrSF|GarageQual_Tencode', 'Foundation_Tencode|GrLivArea', 'Id|MSSubClass_Tencode', 'WoodDeckSF|YrSold_Tencode', 'Neighborhood_Tencode|YearRemodAdd_Tencode', 'BsmtQual_Tencode|2ndFlrSF', 'BsmtFinType1_Tencode|GarageCars', 'EnclosedPorch|BsmtFinSF2', 'LandContour_Tencode|BsmtFinType2_Tencode', 'GarageCond_Tencode|MasVnrArea', 'BldgType_Tencode|PavedDrive_Tencode', 'PoolArea|GarageCars', 'Street_Tencode|LotFrontage', 'HeatingQC_Tencode|GarageType_Tencode', 'SaleCondition_Tencode|LowQualFinSF', 'SaleCondition_Tencode|LotShape_Tencode', 'PavedDrive_Tencode|MSSubClass_Tencode', 'GrLivArea|FullBath', 'ExterCond_Tencode|MiscVal', 'Fence_Tencode|OverallCond_Tencode', 'Condition2_Tencode|SaleCondition_Tencode', 'MoSold_Tencode|SaleType_Tencode', 'LandContour_Tencode|BsmtFinType1_Tencode', 'OpenPorchSF|3SsnPorch', 'SaleType_Tencode|CentralAir_Tencode', 'TotalBsmtSF|BsmtHalfBath', 'PavedDrive_Tencode|MiscVal', 'SaleCondition_Tencode|PoolQC_Tencode', 'LotArea|Condition1_Tencode', 'Exterior1st_Tencode|MSZoning_Tencode', 'SaleCondition_Tencode|LandContour_Tencode', 'Functional_Tencode|LowQualFinSF', 'MSZoning_Tencode|YrSold_Tencode', 'Foundation_Tencode|OpenPorchSF', 'TotalBsmtSF|BsmtExposure_Tencode', 'BsmtQual_Tencode|YrSold_Tencode', 'LandContour_Tencode|MiscVal', 'FireplaceQu_Tencode|OverallCond_Tencode', 'LotShape_Tencode|BsmtFullBath', 'Functional_Tencode|RoofMatl_Tencode', 'SaleCondition_Tencode|GrLivArea', 'MasVnrType_Tencode|YearRemodAdd_Tencode', 'BsmtCond_Tencode|KitchenQual_Tencode', 'PoolArea|Condition2_Tencode', 'BsmtFullBath|2ndFlrSF', 'Exterior1st_Tencode|Electrical_Tencode', 'BsmtFinType2_Tencode|GarageType_Tencode', 'PoolArea|FullBath', 'Utilities_Tencode|PavedDrive_Tencode', 'Exterior2nd_Tencode|PavedDrive_Tencode', 'GarageQual_Tencode|RoofStyle_Tencode', 'PoolQC_Tencode|HouseStyle_Tencode', 'Functional_Tencode|BldgType_Tencode', 'KitchenQual_Tencode|Exterior1st_Tencode', 'LandSlope_Tencode|LotArea', 'Exterior1st_Tencode|3SsnPorch', 'LotArea|LotFrontage', 'SaleType_Tencode|GarageCond_Tencode', 'Neighborhood_Tencode|HouseStyle_Tencode', 'PoolQC_Tencode|Electrical_Tencode', 'Condition1_Tencode|KitchenAbvGr', 'ExterCond_Tencode|LotArea', 'OpenPorchSF|Fireplaces', 'LotShape_Tencode|BedroomAbvGr', 'GarageYrBlt|YrSold_Tencode', 'TotRmsAbvGrd|BsmtFinSF2', 'BsmtExposure_Tencode|BsmtUnfSF', 'LandSlope_Tencode|MSSubClass_Tencode', 'LotConfig_Tencode|GarageType_Tencode', 'Exterior2nd_Tencode|RoofMatl_Tencode', 'YearRemodAdd_Tencode|MSZoning_Tencode', 'TotRmsAbvGrd|PoolQC_Tencode', 'LandContour_Tencode|LowQualFinSF', 'PoolArea|Fireplaces', 'LotShape_Tencode|MasVnrArea', 'Exterior2nd_Tencode|RoofStyle_Tencode', 'MoSold_Tencode|YearRemodAdd_Tencode', 'BsmtQual_Tencode|BsmtFinType2_Tencode', 'Fireplaces|BsmtFinType2_Tencode', 'Exterior2nd_Tencode|BsmtUnfSF', 'Electrical_Tencode|BsmtFinSF2', 'YearBuilt_Tencode|PoolQC_Tencode', 'GarageQual_Tencode|CentralAir_Tencode', 'Neighborhood_Tencode|PavedDrive_Tencode', 'LotShape_Tencode|ExterCond_Tencode', 'Id|MiscVal', 'Heating_Tencode|MiscFeature_Tencode', 'Street_Tencode|RoofMatl_Tencode', 'Fireplaces|OverallCond_Tencode', 'Id|WoodDeckSF', 'HouseStyle_Tencode|KitchenAbvGr', 'YearBuilt_Tencode|GarageQual_Tencode', 'MasVnrType_Tencode|Id', 'Condition2_Tencode|GarageYrBltBins_Tencode', 'Fireplaces|Street_Tencode', 'FullBath|Electrical_Tencode', 'Functional_Tencode|LotShape_Tencode', 'GarageYrBlt|MSZoning_Tencode', 'YearBuilt_Tencode|BsmtFinSF2', 'BsmtFinType2_Tencode|GarageArea', 'Functional_Tencode|YearRemodAdd_Tencode', 'ScreenPorch|MasVnrArea', 'LowQualFinSF', 'FullBath|KitchenAbvGr', 'MasVnrType_Tencode|Foundation_Tencode', 'GarageYrBltBins_Tencode|SaleType_Tencode', 'Functional_Tencode|Neighborhood_Tencode', 'Id|RoofMatl_Tencode', 'MSSubClass', 'Fence_Tencode|GarageCond_Tencode', 'GarageYrBlt|LotArea', 'GarageArea|HalfBath', 'MasVnrType_Tencode|PavedDrive_Tencode', 'OverallQual_Tencode|GarageArea', 'BsmtQual_Tencode', 'BsmtCond_Tencode|BsmtQual_Tencode', 'LotShape_Tencode|PoolQC_Tencode', 'Electrical_Tencode|EnclosedPorch', 'BsmtCond_Tencode|MSSubClass_Tencode', 'SaleType_Tencode|YrSold_Tencode', 'TotRmsAbvGrd|LotArea', 'MasVnrType_Tencode|Condition2_Tencode', 'BsmtFinSF1|BsmtUnfSF', 'Fence_Tencode|Electrical_Tencode', 'YearBuilt_Tencode|LotFrontage', 'BsmtExposure_Tencode|Heating_Tencode', 'PoolQC_Tencode|SaleType_Tencode', 'Alley_Tencode|2ndFlrSF', 'ExterQual_Tencode|LotConfig_Tencode', 'TotRmsAbvGrd|Functional_Tencode', 'BsmtFinType1_Tencode|GarageArea', 'HeatingQC_Tencode|GrLivArea', 'Heating_Tencode|YrSold_Tencode', 'KitchenQual_Tencode|HouseStyle_Tencode', 'MasVnrType_Tencode|CentralAir_Tencode', 'ExterQual_Tencode|Exterior2nd_Tencode', 'Alley_Tencode|3SsnPorch', 'YearBuilt_Tencode|MSZoning_Tencode', 'Exterior2nd_Tencode|EnclosedPorch', 'OverallQual_Tencode|LotConfig_Tencode', 'BsmtCond_Tencode|YrSold_Tencode', 'Street_Tencode|3SsnPorch', 'LandContour_Tencode|HalfBath', 'LowQualFinSF|FullBath', 'BsmtHalfBath|3SsnPorch', 'OpenPorchSF|Condition1_Tencode', 'KitchenQual_Tencode|GarageArea', 'PoolQC_Tencode|GarageQual_Tencode', 'LotShape_Tencode|LandSlope_Tencode', 'SaleCondition_Tencode|Exterior2nd_Tencode', 'SaleCondition_Tencode|BsmtQual_Tencode', 'Heating_Tencode|MSZoning_Tencode', 'Functional_Tencode|HouseStyle_Tencode', 'GarageYrBlt|WoodDeckSF', 'MiscFeature_Tencode|GarageCond_Tencode', 'KitchenAbvGr|MiscVal', 'EnclosedPorch', 'LandContour_Tencode|BsmtHalfBath', 'TotRmsAbvGrd|Condition1_Tencode', 'GrLivArea|OverallCond_Tencode', 'OverallQual_Tencode|Fireplaces', 'KitchenQual_Tencode|SaleType_Tencode', 'HeatingQC_Tencode|Exterior2nd_Tencode', 'PoolQC_Tencode|KitchenAbvGr', 'Condition2_Tencode|Heating_Tencode', 'BsmtQual_Tencode|CentralAir_Tencode', 'Foundation_Tencode|GarageCars', 'GarageYrBltBins_Tencode|YrSold_Tencode', 'Id|Electrical_Tencode', 'HouseStyle_Tencode', 'GarageFinish_Tencode|Street_Tencode', 'Id|PavedDrive_Tencode', 'ScreenPorch|Exterior2nd_Tencode', 'ScreenPorch|LotConfig_Tencode', 'Id|Street_Tencode', 'Foundation_Tencode|PavedDrive_Tencode', 'LandSlope_Tencode|FireplaceQu_Tencode', 'MasVnrType_Tencode|LotFrontage', 'KitchenQual_Tencode|FireplaceQu_Tencode', 'GrLivArea|GarageArea', 'LowQualFinSF|GarageType_Tencode', 'BsmtCond_Tencode|Functional_Tencode', 'GarageFinish_Tencode|RoofStyle_Tencode', 'MSSubClass_Tencode|KitchenAbvGr', 'BsmtFullBath|Condition1_Tencode', 'HeatingQC_Tencode|Street_Tencode', 'MoSold_Tencode|LotFrontage', 'BsmtCond_Tencode|HeatingQC_Tencode', 'PoolArea|Utilities_Tencode', 'BsmtHalfBath|CentralAir_Tencode', 'SaleCondition_Tencode|Fireplaces', 'FullBath|Condition1_Tencode', 'TotRmsAbvGrd|GarageQual_Tencode', 'OverallQual_Tencode|BsmtFinSF2', 'YearBuilt_Tencode|GrLivArea', 'KitchenQual_Tencode|MiscVal', 'PoolQC_Tencode|CentralAir_Tencode', 'LotArea|GarageType_Tencode', 'Fireplaces|YrSold_Tencode', '1stFlrSF|MSSubClass_Tencode', 'BsmtCond_Tencode|RoofStyle_Tencode', 'PoolQC_Tencode|BsmtUnfSF', 'BsmtFullBath|MoSold_Tencode', 'BldgType_Tencode|KitchenAbvGr', 'GrLivArea|MasVnrArea', 'TotalBsmtSF|SaleCondition_Tencode', 'MSZoning_Tencode|3SsnPorch', 'BsmtUnfSF', 'TotRmsAbvGrd|YearBuilt_Tencode', 'HeatingQC_Tencode|GarageFinish_Tencode', 'Exterior1st_Tencode|YrSold_Tencode', 'TotalBsmtSF|Fence_Tencode', 'PavedDrive_Tencode|3SsnPorch', 'LandContour_Tencode|BedroomAbvGr', 'FireplaceQu_Tencode|Electrical_Tencode', '2ndFlrSF|WoodDeckSF', 'Alley_Tencode|Utilities_Tencode', 'BedroomAbvGr|FireplaceQu_Tencode', 'Neighborhood_Tencode|ScreenPorch', 'LowQualFinSF|HouseStyle_Tencode', 'GrLivArea|Condition1_Tencode', 'Heating_Tencode|GarageQual_Tencode', 'Functional_Tencode|Exterior2nd_Tencode', 'ExterQual_Tencode|OpenPorchSF', 'OpenPorchSF|BedroomAbvGr', 'BsmtFinSF1|3SsnPorch', 'BsmtFullBath|BsmtFinType2_Tencode', 'KitchenAbvGr|CentralAir_Tencode', 'Foundation_Tencode|BsmtFinType2_Tencode', 'KitchenQual_Tencode|BsmtFinType2_Tencode', 'ExterCond_Tencode|OverallCond_Tencode', 'Id|Condition1_Tencode', 'MSZoning_Tencode|2ndFlrSF', 'Heating_Tencode|PoolQC_Tencode', 'MoSold_Tencode|GarageType_Tencode', 'Neighborhood_Tencode|GarageCond_Tencode', 'LotShape_Tencode|MiscVal', 'BsmtHalfBath|SaleType_Tencode', 'BsmtQual_Tencode|GarageQual_Tencode', 'PoolQC_Tencode|Condition1_Tencode', 'WoodDeckSF|BsmtFinSF2', 'YearRemodAdd_Tencode|Fireplaces', 'Functional_Tencode|GarageQual_Tencode', 'Exterior1st_Tencode|HouseStyle_Tencode', 'GrLivArea|KitchenAbvGr', 'BsmtHalfBath|KitchenAbvGr', 'KitchenQual_Tencode|LotArea', 'BsmtQual_Tencode|LotFrontage', 'GarageQual_Tencode|KitchenAbvGr', 'SaleCondition_Tencode|WoodDeckSF', 'Neighborhood_Tencode|BsmtFinType1_Tencode', 'MiscVal|FireplaceQu_Tencode', 'GrLivArea|HalfBath', 'PoolArea|BsmtFinSF1', 'BsmtCond_Tencode|GarageYrBlt', 'Id|EnclosedPorch', 'GrLivArea|GarageCond_Tencode', 'Fireplaces|Exterior2nd_Tencode', 'LowQualFinSF|2ndFlrSF', 'Condition2_Tencode|GarageFinish_Tencode', 'Neighborhood_Tencode|HalfBath', 'Condition1_Tencode|BsmtUnfSF', 'YearBuilt_Tencode|HouseStyle_Tencode', 'MasVnrType_Tencode|BsmtUnfSF', 'TotRmsAbvGrd|GarageYrBltBins_Tencode', 'SaleType_Tencode|MSSubClass_Tencode', 'BsmtFullBath|BsmtUnfSF', 'YearBuilt_Tencode|Fireplaces', 'BsmtFullBath|OverallCond_Tencode', 'GrLivArea|GarageType_Tencode', 'GarageYrBltBins_Tencode|CentralAir_Tencode', 'SaleCondition_Tencode|PavedDrive_Tencode', 'HeatingQC_Tencode|Electrical_Tencode', 'SaleType_Tencode|BsmtFinType2_Tencode', 'BsmtHalfBath|LotConfig_Tencode', 'MoSold', 'Condition2_Tencode|MSSubClass_Tencode', '2ndFlrSF|LotFrontage', 'MoSold_Tencode|Exterior2nd_Tencode', 'MiscFeature_Tencode|RoofMatl_Tencode', 'OverallQual_Tencode|Foundation_Tencode', 'Condition2_Tencode|BedroomAbvGr', 'WoodDeckSF|RoofStyle_Tencode', 'LotShape_Tencode|EnclosedPorch', 'BsmtExposure_Tencode|HeatingQC_Tencode', 'BsmtCond_Tencode|OverallQual_Tencode', 'RoofMatl_Tencode|EnclosedPorch', 'BsmtHalfBath|MSSubClass_Tencode', 'KitchenQual_Tencode|Heating_Tencode', 'TotalBsmtSF|Exterior1st_Tencode', 'Functional_Tencode|MSZoning_Tencode', 'BsmtExposure_Tencode|KitchenAbvGr', 'GarageCond_Tencode|CentralAir_Tencode', 'LotConfig_Tencode|BsmtFinSF1', 'BsmtHalfBath|HouseStyle_Tencode', 'GarageYrBlt|GarageQual_Tencode', 'Condition2_Tencode|HouseStyle_Tencode', 'TotalBsmtSF|YearBuilt_Tencode', 'PoolQC_Tencode|3SsnPorch', 'TotalBsmtSF|Alley_Tencode', 'GrLivArea|Exterior2nd_Tencode', 'SaleCondition_Tencode|MSSubClass_Tencode', 'LandContour_Tencode|1stFlrSF', 'Functional_Tencode|YrSold_Tencode', 'GarageYrBlt|RoofStyle_Tencode', 'MasVnrType_Tencode|WoodDeckSF', 'SaleCondition_Tencode|GarageCond_Tencode', 'HeatingQC_Tencode|GarageQual_Tencode', 'BsmtCond_Tencode|ExterCond_Tencode', 'WoodDeckSF|MSSubClass_Tencode', 'PavedDrive_Tencode|EnclosedPorch', 'MoSold_Tencode|BsmtFinSF2', 'Heating_Tencode|BedroomAbvGr', 'Foundation_Tencode|EnclosedPorch', 'KitchenQual_Tencode|EnclosedPorch', 'Functional_Tencode|OverallCond_Tencode', 'Neighborhood_Tencode|GrLivArea', 'GarageFinish_Tencode|MSZoning_Tencode', 'Heating_Tencode|GarageCond_Tencode', 'ExterQual_Tencode|MiscVal', 'GrLivArea|LotConfig_Tencode', '2ndFlrSF|LotArea', 'BedroomAbvGr', 'LandContour_Tencode|KitchenAbvGr', 'Street_Tencode|MasVnrArea', 'PoolQC_Tencode|YrSold_Tencode', 'YearRemodAdd_Tencode|BsmtFinSF1', 'ScreenPorch|Street_Tencode', 'YearBuilt_Tencode|Heating_Tencode', 'SaleType_Tencode|HalfBath', 'Electrical_Tencode|BsmtUnfSF', 'LandSlope_Tencode|GarageQual_Tencode', 'BsmtFullBath|BsmtFinType1_Tencode', 'MSSubClass_Tencode|OverallCond_Tencode', 'GarageFinish_Tencode|GarageArea', 'Fence_Tencode|Condition1_Tencode', 'MiscFeature_Tencode|PavedDrive_Tencode', 'TotRmsAbvGrd|SaleCondition_Tencode', 'Foundation_Tencode|YearRemodAdd_Tencode', 'MasVnrType_Tencode|Alley_Tencode', 'Heating_Tencode|OverallQual_Tencode', 'TotalBsmtSF|BsmtQual_Tencode', 'Alley_Tencode|GarageQual_Tencode', 'LowQualFinSF|BedroomAbvGr', 'BedroomAbvGr|Utilities_Tencode', 'PoolArea|YrSold_Tencode', 'BsmtHalfBath|RoofMatl_Tencode', 'BsmtFullBath|LowQualFinSF', 'MasVnrArea|BsmtFinType2_Tencode', 'Functional_Tencode|YearBuilt_Tencode', 'MasVnrType_Tencode|MoSold_Tencode', '1stFlrSF|Fireplaces', 'RoofStyle_Tencode|LotFrontage', 'FullBath|YrSold_Tencode', '1stFlrSF|OverallQual_Tencode', 'PavedDrive_Tencode|GarageArea', 'TotRmsAbvGrd|KitchenAbvGr', 'BsmtCond_Tencode|Exterior1st_Tencode', 'BsmtQual_Tencode|3SsnPorch', 'MoSold_Tencode|GarageCond_Tencode', 'Neighborhood_Tencode|MiscVal', 'LandSlope_Tencode|GarageType_Tencode', 'MasVnrType_Tencode|HeatingQC_Tencode', 'BsmtFinType1_Tencode|BsmtFinSF1', 'Foundation_Tencode|YrSold_Tencode', 'Utilities_Tencode|MiscVal', 'BsmtHalfBath|Electrical_Tencode', 'EnclosedPorch|HalfBath', 'Fence_Tencode|MSSubClass_Tencode', 'KitchenQual_Tencode|Foundation_Tencode', 'Condition2_Tencode|ScreenPorch', 'Neighborhood_Tencode|MSZoning_Tencode', 'SaleCondition_Tencode|GarageType_Tencode', 'GarageQual_Tencode|MasVnrArea', 'Alley_Tencode|Condition2_Tencode', 'GarageCars|RoofStyle_Tencode', 'LowQualFinSF|WoodDeckSF', 'BldgType_Tencode|GarageCond_Tencode', 'Heating_Tencode|BsmtFinType1_Tencode', 'Foundation_Tencode|LotConfig_Tencode', 'SaleCondition_Tencode|FireplaceQu_Tencode', 'GarageCond_Tencode|YrSold_Tencode', 'SaleType_Tencode|MasVnrArea', 'RoofStyle_Tencode|OverallCond_Tencode', 'LandSlope_Tencode|PavedDrive_Tencode', 'TotalBsmtSF|PoolQC_Tencode', 'Heating_Tencode|KitchenAbvGr', 'LotShape_Tencode|3SsnPorch', 'GarageYrBltBins_Tencode|Street_Tencode', 'PoolArea|MSSubClass_Tencode', 'MiscFeature_Tencode|HouseStyle_Tencode', 'MasVnrArea|LotFrontage', 'Condition2_Tencode|OverallQual_Tencode', 'Neighborhood_Tencode|BldgType_Tencode', 'KitchenQual_Tencode|HalfBath', 'Alley_Tencode|Heating_Tencode', 'Fence_Tencode|LotConfig_Tencode', 'CentralAir_Tencode', 'LotConfig_Tencode|3SsnPorch', 'LotArea', 'BsmtFinType1_Tencode|YrSold_Tencode', 'Condition1_Tencode', 'Foundation_Tencode|Exterior1st_Tencode', 'BsmtCond_Tencode|GarageCars', 'TotalBsmtSF|BsmtFinType2_Tencode', 'KitchenQual_Tencode|GarageQual_Tencode', 'TotalBsmtSF|RoofStyle_Tencode', 'BsmtExposure_Tencode|BsmtFinType2_Tencode', 'Exterior2nd_Tencode|Utilities_Tencode', 'OverallQual_Tencode', 'HouseStyle_Tencode|PavedDrive_Tencode', 'Alley_Tencode|LotShape_Tencode', 'FullBath|MasVnrArea', 'PoolQC_Tencode|GarageCond_Tencode', 'BsmtQual_Tencode|GarageYrBltBins_Tencode', 'GarageYrBlt|EnclosedPorch', 'Alley_Tencode|HouseStyle_Tencode', 'KitchenQual_Tencode|BsmtFullBath', 'SaleCondition_Tencode|GarageYrBltBins_Tencode', 'HouseStyle_Tencode|FireplaceQu_Tencode', 'SaleCondition_Tencode|BldgType_Tencode', 'LotArea|OverallCond_Tencode', 'LandSlope_Tencode|GarageFinish_Tencode', 'TotRmsAbvGrd|GarageCond_Tencode', 'YearBuilt_Tencode|OverallCond_Tencode', 'Id|GarageType_Tencode', 'CentralAir_Tencode|Electrical_Tencode', 'Exterior2nd_Tencode|FireplaceQu_Tencode', 'ExterCond_Tencode|Foundation_Tencode', 'ExterQual_Tencode|ExterCond_Tencode', 'ExterCond_Tencode|MoSold_Tencode', 'LandSlope_Tencode|BsmtUnfSF', 'LandSlope_Tencode|RoofMatl_Tencode', '1stFlrSF|BsmtFinType2_Tencode', 'GarageYrBltBins_Tencode|MiscVal', 'BsmtQual_Tencode|SaleType_Tencode', 'GarageYrBltBins_Tencode|EnclosedPorch', 'Id|LotFrontage', 'Functional_Tencode|MiscVal', 'BsmtHalfBath|PavedDrive_Tencode', '3SsnPorch|Electrical_Tencode', 'KitchenQual_Tencode|YearRemodAdd_Tencode', 'GrLivArea|BldgType_Tencode', 'ExterCond_Tencode|PoolQC_Tencode', 'CentralAir_Tencode|GarageType_Tencode', 'Alley_Tencode|BldgType_Tencode', 'BedroomAbvGr|BsmtUnfSF', 'TotRmsAbvGrd|LotConfig_Tencode', 'Alley_Tencode|HalfBath', 'GrLivArea|GarageQual_Tencode', 'GarageYrBlt|Electrical_Tencode', 'GarageYrBlt|BsmtFinType1_Tencode', 'Fireplaces|Electrical_Tencode', 'SaleType_Tencode|WoodDeckSF', 'BsmtFinType1_Tencode|2ndFlrSF', 'ScreenPorch|YearRemodAdd_Tencode', 'Exterior2nd_Tencode|MSZoning_Tencode', 'ExterQual_Tencode|HalfBath', 'Id|BsmtCond_Tencode', 'KitchenQual_Tencode|Fence_Tencode', 'Heating_Tencode|CentralAir_Tencode', 'LotShape_Tencode|LotConfig_Tencode', 'BsmtCond_Tencode|YearRemodAdd_Tencode', 'GarageCond_Tencode|HalfBath', 'GarageQual_Tencode|LotFrontage', 'BsmtQual_Tencode|KitchenAbvGr', 'KitchenQual_Tencode|1stFlrSF', 'Fence_Tencode|Exterior2nd_Tencode', 'SaleType_Tencode|MSZoning_Tencode', 'BsmtCond_Tencode|GarageYrBltBins_Tencode', 'TotalBsmtSF|WoodDeckSF', 'Heating_Tencode|HouseStyle_Tencode', 'PoolArea|GarageQual_Tencode', 'Condition2_Tencode|PavedDrive_Tencode', 'TotRmsAbvGrd|ScreenPorch', 'YearBuilt_Tencode|GarageArea', 'Exterior2nd_Tencode|MiscVal', 'LotShape_Tencode|FullBath', 'SaleCondition_Tencode|LotArea', 'SaleCondition_Tencode|BsmtFinType1_Tencode', 'MSSubClass_Tencode|Electrical_Tencode', 'BsmtHalfBath|Foundation_Tencode', 'BsmtHalfBath|Exterior2nd_Tencode', 'Heating_Tencode|Electrical_Tencode', 'Alley_Tencode|PavedDrive_Tencode', 'KitchenQual_Tencode|Neighborhood_Tencode', 'SaleType_Tencode|BsmtFinSF1', 'LotArea|EnclosedPorch', 'BsmtCond_Tencode|Condition2_Tencode', 'HeatingQC_Tencode|BsmtQual_Tencode', 'LandContour_Tencode|WoodDeckSF', 'BsmtCond_Tencode|CentralAir_Tencode', 'MiscVal|RoofStyle_Tencode', 'Functional_Tencode|HalfBath', 'ExterQual_Tencode|FireplaceQu_Tencode', 'YearBuilt', 'YearBuilt_Tencode|Utilities_Tencode', 'TotRmsAbvGrd|Fence_Tencode', 'LowQualFinSF|BsmtFinSF2', 'GarageCars|BsmtFinSF2', 'ExterCond_Tencode|GarageCond_Tencode', 'Heating_Tencode|OverallCond_Tencode', 'PavedDrive_Tencode|CentralAir_Tencode', 'YearRemodAdd_Tencode|Electrical_Tencode', 'YearBuilt_Tencode|KitchenAbvGr', 'BsmtCond_Tencode|WoodDeckSF', 'GarageYrBltBins_Tencode|GarageFinish_Tencode', 'SaleCondition_Tencode|LandSlope_Tencode', 'PoolQC_Tencode|BsmtFinSF1', 'Alley_Tencode|GarageYrBlt', 'TotRmsAbvGrd|BedroomAbvGr', 'Id|FullBath', 'PoolQC_Tencode|WoodDeckSF', 'Alley_Tencode|OverallQual_Tencode', 'BsmtCond_Tencode|OpenPorchSF', 'BsmtFinType1_Tencode|BsmtFinSF2', 'TotalBsmtSF|HalfBath', 'GarageQual_Tencode|MiscVal', 'YearBuilt_Tencode|RoofMatl_Tencode', 'MasVnrType_Tencode|BsmtFinType1_Tencode', 'SaleCondition_Tencode|MSZoning_Tencode', 'MiscVal|YrSold_Tencode', 'MasVnrType_Tencode|KitchenQual_Tencode', 'BsmtQual_Tencode|BsmtFinSF1', 'KitchenQual_Tencode|MSZoning_Tencode', 'BsmtCond_Tencode|YearBuilt_Tencode', 'Alley_Tencode|MiscFeature_Tencode', 'Id|MiscFeature_Tencode', 'Alley_Tencode|Electrical_Tencode', 'Utilities_Tencode|BsmtFinType2_Tencode', 'LandSlope_Tencode|Exterior2nd_Tencode', 'PoolArea|GrLivArea', 'MoSold_Tencode|Foundation_Tencode', 'YearRemodAdd_Tencode|HouseStyle_Tencode', 'BsmtQual_Tencode|GarageFinish_Tencode', 'OverallQual_Tencode|YearRemodAdd_Tencode', 'BsmtHalfBath|MiscFeature_Tencode', 'YearBuilt_Tencode|GarageType_Tencode', 'GrLivArea|FireplaceQu_Tencode', 'SaleType_Tencode|Condition1_Tencode', 'PoolArea|Foundation_Tencode', 'BsmtFullBath|MiscFeature_Tencode', 'SaleType_Tencode|Exterior1st_Tencode', 'Functional_Tencode|GrLivArea', 'BldgType_Tencode|FireplaceQu_Tencode', 'GarageYrBlt|LowQualFinSF', 'BsmtFinType1_Tencode|MasVnrArea', 'GarageYrBlt|BsmtFinType2_Tencode', 'OpenPorchSF|EnclosedPorch', 'TotRmsAbvGrd|YrSold_Tencode', 'LotConfig_Tencode|MasVnrArea', 'MasVnrType_Tencode|EnclosedPorch', 'YearBuilt_Tencode|FullBath', 'GarageCars|Condition1_Tencode', 'Alley_Tencode|LandContour_Tencode', 'TotRmsAbvGrd|Electrical_Tencode', 'KitchenQual_Tencode|LotConfig_Tencode', 'MiscVal|Electrical_Tencode', 'MasVnrType_Tencode|SaleType_Tencode', 'KitchenQual_Tencode|GarageCars', 'Exterior1st_Tencode|WoodDeckSF', 'LandContour_Tencode|BldgType_Tencode', 'SaleCondition_Tencode|Fence_Tencode', 'Exterior1st_Tencode|OverallCond_Tencode', 'Neighborhood_Tencode|PoolQC_Tencode', 'MasVnrType_Tencode|OpenPorchSF', 'Neighborhood_Tencode|RoofStyle_Tencode', 'Fireplaces|GarageCond_Tencode', 'ExterCond_Tencode|OpenPorchSF', 'HeatingQC_Tencode|MasVnrArea', 'ExterQual_Tencode|YrSold_Tencode', 'MSZoning_Tencode', 'BedroomAbvGr|YrSold_Tencode', 'BedroomAbvGr|RoofMatl_Tencode', 'Condition2_Tencode|1stFlrSF', 'FullBath|GarageCars', 'BldgType_Tencode', 'ExterCond_Tencode|2ndFlrSF', '2ndFlrSF', 'GarageCond_Tencode|GarageCars', 'FireplaceQu_Tencode|3SsnPorch', 'Foundation_Tencode|GarageCond_Tencode', 'Fireplaces|MSZoning_Tencode', 'ScreenPorch|Foundation_Tencode', 'Fireplaces', 'MasVnrType_Tencode|ExterQual_Tencode', 'MiscFeature_Tencode|MasVnrArea', 'YearBuilt_Tencode|1stFlrSF', 'Exterior1st_Tencode|2ndFlrSF', 'MoSold_Tencode|GarageFinish_Tencode', 'SaleCondition_Tencode|RoofMatl_Tencode', 'LowQualFinSF|YearRemodAdd_Tencode', 'Functional_Tencode|OpenPorchSF', 'Fireplaces|BsmtUnfSF', 'BsmtFullBath|BsmtHalfBath', 'Fence_Tencode|HalfBath', 'GarageYrBlt|MiscVal', 'Foundation_Tencode|RoofMatl_Tencode', 'Id|PoolQC_Tencode', 'GarageFinish_Tencode|WoodDeckSF', 'HeatingQC_Tencode|BsmtFinType2_Tencode', 'Exterior2nd_Tencode|OverallCond_Tencode', 'SaleCondition_Tencode|Condition1_Tencode', 'LotShape_Tencode|KitchenAbvGr', 'BsmtExposure_Tencode|HalfBath', 'BsmtQual_Tencode|BsmtFinSF2', 'GarageYrBlt|OverallCond_Tencode', 'HeatingQC_Tencode|HalfBath', 'TotalBsmtSF|MoSold_Tencode', 'KitchenQual_Tencode|BsmtFinType1_Tencode', 'Alley_Tencode|EnclosedPorch', 'OpenPorchSF|GarageCars', '1stFlrSF|RoofMatl_Tencode', 'SaleType_Tencode|GarageQual_Tencode', 'ScreenPorch|YrSold_Tencode', 'RoofStyle_Tencode', 'PoolQC_Tencode|OverallCond_Tencode', 'YearRemodAdd_Tencode|Utilities_Tencode', 'LandContour_Tencode|Exterior1st_Tencode', 'Id|LandSlope_Tencode', 'Street_Tencode|MSZoning_Tencode', 'LotShape_Tencode|2ndFlrSF', 'LandContour_Tencode|HouseStyle_Tencode', 'YearBuilt_Tencode|BsmtFinSF1', 'BldgType_Tencode|2ndFlrSF', 'TotRmsAbvGrd|Utilities_Tencode', 'ExterQual_Tencode|Foundation_Tencode', 'HeatingQC_Tencode|3SsnPorch', 'KitchenQual_Tencode|GarageType_Tencode', 'BsmtQual_Tencode|LandSlope_Tencode', 'YearRemodAdd_Tencode|MSSubClass_Tencode', 'BsmtHalfBath|OverallCond_Tencode', 'Neighborhood_Tencode|BsmtFullBath', 'LotArea|BsmtUnfSF', 'TotalBsmtSF|Neighborhood_Tencode', 'TotRmsAbvGrd|OverallQual_Tencode', 'YearBuilt_Tencode|Neighborhood_Tencode', 'BsmtFullBath|YearRemodAdd_Tencode', 'KitchenQual_Tencode|GrLivArea', 'ExterCond_Tencode|MSSubClass_Tencode', 'ExterQual_Tencode|Condition2_Tencode', 'Heating_Tencode|BsmtHalfBath', 'PoolQC_Tencode|Exterior1st_Tencode', 'LotConfig_Tencode|GarageQual_Tencode', 'Heating_Tencode|BsmtFinType2_Tencode', 'LotConfig_Tencode|MSSubClass_Tencode', 'PoolArea|BsmtFinSF2', 'YearBuilt_Tencode|MoSold_Tencode', 'BsmtFinSF1|Electrical_Tencode', 'SaleType_Tencode|FireplaceQu_Tencode', 'MiscFeature_Tencode|Electrical_Tencode', 'Id|Fireplaces', 'LandContour_Tencode|MasVnrArea', 'BsmtExposure_Tencode|Electrical_Tencode', 'Id|ScreenPorch', 'YearRemodAdd_Tencode|GarageCond_Tencode', 'TotalBsmtSF', 'Utilities_Tencode|Electrical_Tencode', 'GrLivArea|PavedDrive_Tencode', 'Exterior2nd_Tencode|HalfBath', 'Heating_Tencode|FullBath', 'WoodDeckSF|3SsnPorch', 'GarageCond_Tencode|BsmtFinSF2', 'ExterQual_Tencode|MSSubClass_Tencode', 'PavedDrive_Tencode|YrSold_Tencode', 'Id|CentralAir_Tencode', 'BsmtFullBath|Foundation_Tencode', '1stFlrSF|BsmtFinSF1', 'Exterior2nd_Tencode|BedroomAbvGr', 'KitchenQual_Tencode|LotFrontage', 'Exterior1st_Tencode|RoofStyle_Tencode', 'LowQualFinSF|Fireplaces', 'MiscFeature_Tencode|GarageCars', 'BsmtHalfBath|Utilities_Tencode', 'LotShape_Tencode|LowQualFinSF', 'Functional_Tencode|SaleCondition_Tencode', 'GarageYrBlt|GarageType_Tencode', 'GarageYrBltBins_Tencode|HalfBath', 'GarageCond_Tencode|BsmtUnfSF', 'ExterCond_Tencode|Street_Tencode', 'MasVnrType_Tencode|YearBuilt_Tencode', 'GarageYrBltBins_Tencode|BsmtFinType2_Tencode', 'Condition2_Tencode|CentralAir_Tencode', 'ExterQual_Tencode|PavedDrive_Tencode', 'Id|TotalBsmtSF', '1stFlrSF|2ndFlrSF', 'YearBuilt_Tencode|2ndFlrSF', 'LotConfig_Tencode|BsmtUnfSF', 'MiscFeature_Tencode|RoofStyle_Tencode', 'Functional_Tencode|Electrical_Tencode', 'LandContour_Tencode|BsmtFullBath', 'PavedDrive_Tencode|KitchenAbvGr', 'HeatingQC_Tencode|LotArea', 'HouseStyle_Tencode|YrSold_Tencode', 'BsmtExposure_Tencode|MSZoning_Tencode', 'GrLivArea|MSZoning_Tencode', '2ndFlrSF|BsmtFinSF2', '1stFlrSF|3SsnPorch', 'OpenPorchSF|PavedDrive_Tencode', 'LowQualFinSF|Street_Tencode', 'Neighborhood_Tencode|EnclosedPorch', '2ndFlrSF|Condition1_Tencode', 'ExterCond_Tencode|Utilities_Tencode', 'KitchenQual_Tencode|2ndFlrSF', 'LandContour_Tencode|YrSold_Tencode', 'TotRmsAbvGrd|MSSubClass_Tencode', 'BsmtCond_Tencode|GarageArea', 'LotConfig_Tencode|PavedDrive_Tencode', 'TotalBsmtSF|BsmtFinType1_Tencode', 'Alley_Tencode|Foundation_Tencode', 'GarageYrBlt|FireplaceQu_Tencode', 'HeatingQC_Tencode|ScreenPorch', 'Id|GarageCars', 'LowQualFinSF|Utilities_Tencode', 'Id|LowQualFinSF', 'TotRmsAbvGrd|GarageYrBlt', 'GarageCond_Tencode|GarageArea', 'Foundation_Tencode|BsmtFinSF2', 'OverallQual_Tencode|Electrical_Tencode', 'KitchenQual_Tencode|Alley_Tencode', 'HeatingQC_Tencode|BsmtFullBath', 'ExterQual_Tencode|GarageYrBltBins_Tencode', 'KitchenQual_Tencode|OverallCond_Tencode', 'GarageCond_Tencode|GarageType_Tencode', 'LandSlope_Tencode|MasVnrArea', 'GarageYrBlt|OpenPorchSF', 'Fence_Tencode|GarageYrBlt', 'MoSold_Tencode|BldgType_Tencode', 'Utilities_Tencode|Street_Tencode', 'MasVnrType_Tencode|MSSubClass_Tencode', 'GrLivArea|GarageFinish_Tencode', 'BsmtCond_Tencode|SaleCondition_Tencode', 'PoolArea|GarageYrBltBins_Tencode', 'Id|BldgType_Tencode', 'YearBuilt_Tencode|BsmtUnfSF', 'LotShape_Tencode|Fence_Tencode', 'TotalBsmtSF|BldgType_Tencode', 'MiscFeature_Tencode|KitchenAbvGr', 'BsmtCond_Tencode|Street_Tencode', 'GarageFinish_Tencode|Electrical_Tencode', 'BsmtHalfBath|GarageCond_Tencode', 'Alley_Tencode|OpenPorchSF', 'Electrical_Tencode|LotFrontage', 'RoofMatl_Tencode|GarageCars', 'MiscVal|BsmtFinType2_Tencode', 'BsmtHalfBath|Fireplaces', 'GarageFinish_Tencode|LotArea', 'BsmtFullBath|ScreenPorch', 'PoolArea|OpenPorchSF', 'ScreenPorch|Utilities_Tencode', 'TotalBsmtSF|Condition1_Tencode', 'SaleCondition_Tencode|HeatingQC_Tencode', 'ExterQual_Tencode|KitchenAbvGr', 'KitchenAbvGr|RoofStyle_Tencode', 'Alley_Tencode|YrSold_Tencode', '1stFlrSF|HouseStyle_Tencode', 'BsmtFinType1_Tencode|GrLivArea', 'EnclosedPorch|LotFrontage', 'SaleType_Tencode|MiscVal', 'Fireplaces|RoofMatl_Tencode', 'GarageYrBltBins_Tencode|3SsnPorch', 'BsmtCond_Tencode|Heating_Tencode', 'SaleType_Tencode|Electrical_Tencode', 'ExterQual_Tencode|GarageCars', 'ExterQual_Tencode|OverallQual_Tencode', 'BldgType_Tencode|CentralAir_Tencode', 'YearRemodAdd_Tencode|GarageType_Tencode', '1stFlrSF|Utilities_Tencode', 'BsmtFullBath|Heating_Tencode', 'Id|RoofStyle_Tencode', 'BsmtExposure_Tencode|PoolQC_Tencode', 'SaleType_Tencode|BsmtUnfSF', 'FireplaceQu_Tencode|GarageArea', 'HeatingQC_Tencode|YrSold_Tencode', 'FullBath|OverallCond_Tencode', 'Utilities_Tencode|EnclosedPorch', 'GarageYrBltBins_Tencode|HouseStyle_Tencode', 'LandSlope_Tencode|GarageCars', 'LotShape_Tencode|Utilities_Tencode', 'HouseStyle_Tencode|MiscVal', 'BsmtFullBath|1stFlrSF', 'Heating_Tencode|Condition1_Tencode', 'GarageFinish_Tencode|RoofMatl_Tencode', 'TotRmsAbvGrd|Exterior2nd_Tencode', 'PoolArea|KitchenQual_Tencode', 'BsmtFinSF1|EnclosedPorch', 'Neighborhood_Tencode|Street_Tencode', 'KitchenQual_Tencode|HeatingQC_Tencode', 'HouseStyle_Tencode|Condition1_Tencode', '1stFlrSF|FullBath', 'Fence_Tencode|MiscVal', 'Exterior1st_Tencode|LotConfig_Tencode', 'BsmtFullBath|GarageYrBltBins_Tencode', 'BsmtFullBath|BsmtFinSF2', 'ExterCond_Tencode|SaleType_Tencode', 'GarageCars|HalfBath', 'BsmtExposure_Tencode|BsmtFinType1_Tencode', 'TotRmsAbvGrd|RoofStyle_Tencode', 'Utilities_Tencode|WoodDeckSF', 'BsmtHalfBath|WoodDeckSF', '1stFlrSF|GrLivArea', '1stFlrSF|PavedDrive_Tencode', 'Id|GrLivArea', 'BsmtHalfBath|HalfBath', '2ndFlrSF|FullBath', 'MoSold_Tencode|MasVnrArea', 'HalfBath', 'LowQualFinSF|GarageCond_Tencode', 'PoolArea|RoofStyle_Tencode', 'GarageFinish_Tencode|GarageType_Tencode', 'OverallCond_Tencode|YrSold_Tencode', 'HeatingQC_Tencode|BsmtFinSF1', 'Foundation_Tencode|HalfBath', 'LotShape_Tencode|BldgType_Tencode', 'BsmtCond_Tencode|HalfBath', 'Exterior2nd_Tencode|MasVnrArea', 'TotalBsmtSF|MSSubClass_Tencode', 'SaleType_Tencode|LotFrontage', 'Heating_Tencode|GarageYrBltBins_Tencode', 'Functional_Tencode|SaleType_Tencode', 'MiscVal|GarageArea', 'Alley_Tencode|Neighborhood_Tencode', 'GrLivArea|3SsnPorch', 'PoolArea|ExterCond_Tencode', 'LotFrontage|OverallCond_Tencode', 'GarageFinish_Tencode|CentralAir_Tencode', 'BsmtFullBath|KitchenAbvGr', 'YearBuilt_Tencode|Street_Tencode', 'PoolArea|BldgType_Tencode', 'LandSlope_Tencode|RoofStyle_Tencode', 'BsmtHalfBath|Street_Tencode', 'Street_Tencode|RoofStyle_Tencode', 'Exterior1st_Tencode|Fireplaces', 'Fence_Tencode|BsmtHalfBath', 'TotalBsmtSF|EnclosedPorch', 'ExterQual_Tencode|BsmtFullBath', 'Fence_Tencode|GarageCars', 'BsmtFullBath|GarageFinish_Tencode', 'TotalBsmtSF|OverallCond_Tencode', 'Condition2_Tencode|LowQualFinSF', 'BsmtFullBath|MSSubClass_Tencode', 'LandContour_Tencode|Fireplaces', 'Condition1_Tencode|GarageType_Tencode', 'FullBath|FireplaceQu_Tencode', 'OpenPorchSF|RoofStyle_Tencode', 'Functional_Tencode|BsmtQual_Tencode', 'LandContour_Tencode|Neighborhood_Tencode', '1stFlrSF|BedroomAbvGr', 'Fireplaces|FullBath', 'BsmtFullBath|LotArea', 'OpenPorchSF|BsmtUnfSF', 'MoSold_Tencode|YrSold_Tencode', 'PoolQC_Tencode|GarageCars', 'YearRemodAdd_Tencode|BsmtFinType2_Tencode', 'Condition2_Tencode|BsmtQual_Tencode', 'ExterQual_Tencode|Heating_Tencode', 'BsmtFullBath|MSZoning_Tencode', 'MSZoning_Tencode|CentralAir_Tencode', 'LandContour_Tencode|BsmtQual_Tencode', 'FullBath|GarageArea', 'MasVnrType_Tencode|ExterCond_Tencode', 'PoolQC_Tencode|MSSubClass_Tencode', 'PoolQC_Tencode|MiscVal', 'MasVnrType_Tencode|1stFlrSF', 'BsmtCond_Tencode|SaleType_Tencode', 'LotShape_Tencode|YrSold_Tencode', '1stFlrSF|RoofStyle_Tencode', 'GarageYrBltBins_Tencode|GarageQual_Tencode', 'Functional_Tencode|BsmtFinSF1', 'Fireplaces|GarageCars', 'Condition2_Tencode|SaleType_Tencode', 'HouseStyle_Tencode|FullBath', 'ExterQual_Tencode|GarageArea', 'ScreenPorch|HouseStyle_Tencode', 'ExterQual_Tencode|GrLivArea', '3SsnPorch|OverallCond_Tencode', 'KitchenQual_Tencode|Condition1_Tencode', 'Utilities_Tencode|GarageCond_Tencode', 'PoolArea|MiscFeature_Tencode', 'KitchenQual_Tencode|LandSlope_Tencode', 'Exterior2nd_Tencode|Street_Tencode', 'MasVnrType_Tencode|Exterior1st_Tencode', 'LotShape_Tencode|FireplaceQu_Tencode', 'ExterCond_Tencode|LandSlope_Tencode', 'GarageYrBltBins_Tencode|GrLivArea', 'BsmtFinType1_Tencode|FullBath', 'ExterQual_Tencode|GarageYrBlt', 'LandSlope_Tencode|OpenPorchSF', 'Id|BsmtFinSF2', 'Fence_Tencode|RoofStyle_Tencode', 'TotalBsmtSF|Condition2_Tencode', 'HeatingQC_Tencode|FullBath', 'YearRemodAdd_Tencode|EnclosedPorch', 'BsmtFinSF2|LotFrontage', 'MasVnrArea|YrSold_Tencode', 'Fireplaces|WoodDeckSF', 'MasVnrType_Tencode|Condition1_Tencode', 'KitchenQual_Tencode|Functional_Tencode', 'GarageFinish_Tencode|Condition1_Tencode', 'LandSlope_Tencode|Electrical_Tencode', 'YearBuilt_Tencode|YearRemodAdd_Tencode', 'GarageCond_Tencode|MSSubClass_Tencode', 'Id|LotShape_Tencode', 'BsmtCond_Tencode|Fence_Tencode', 'MoSold_Tencode|ScreenPorch', 'Exterior1st_Tencode|GarageCars', 'Alley_Tencode|GarageCars', 'ExterQual_Tencode|RoofStyle_Tencode', 'ExterCond_Tencode|FullBath', 'GarageYrBlt|CentralAir_Tencode', 'RoofStyle_Tencode|BsmtFinSF2', 'Street_Tencode|EnclosedPorch', 'HeatingQC_Tencode|BedroomAbvGr', 'WoodDeckSF|GarageCars', 'LotShape_Tencode|Foundation_Tencode', 'LotShape_Tencode|GarageFinish_Tencode', 'SaleType_Tencode|KitchenAbvGr', 'OverallQual_Tencode|FireplaceQu_Tencode', 'SaleCondition_Tencode', 'GarageFinish_Tencode|Exterior2nd_Tencode', 'LandContour_Tencode|RoofStyle_Tencode', 'LandContour_Tencode|PoolQC_Tencode', 'BedroomAbvGr|GarageCond_Tencode', 'Fireplaces|BsmtFinSF2', 'OverallQual_Tencode|RoofMatl_Tencode', 'GarageArea|GarageType_Tencode', 'BsmtFinSF1|YrSold_Tencode', 'Foundation_Tencode|GarageArea', 'TotalBsmtSF|GarageFinish_Tencode', 'MasVnrType_Tencode|GarageYrBlt', '1stFlrSF|LotConfig_Tencode', 'SaleType_Tencode|YearRemodAdd_Tencode', 'Foundation_Tencode|Electrical_Tencode', 'OpenPorchSF|LotArea', 'Exterior1st_Tencode|BsmtFinSF2', 'BsmtFinType1_Tencode|BsmtFinType2_Tencode', 'KitchenQual_Tencode|Electrical_Tencode', 'Condition2_Tencode|2ndFlrSF', 'PoolQC_Tencode|OpenPorchSF', '1stFlrSF', 'Neighborhood_Tencode|KitchenAbvGr', 'OpenPorchSF|WoodDeckSF', 'ExterQual_Tencode|GarageType_Tencode', 'BsmtFinType1_Tencode|WoodDeckSF', 'Exterior2nd_Tencode|Electrical_Tencode', 'OpenPorchSF|GarageFinish_Tencode', 'BsmtCond_Tencode|RoofMatl_Tencode', 'BsmtQual_Tencode|RoofStyle_Tencode', 'BsmtFullBath|PavedDrive_Tencode', 'MasVnrArea|EnclosedPorch', 'Fence_Tencode|OverallQual_Tencode', 'MSZoning_Tencode|MiscVal', 'Condition1_Tencode|BsmtFinType2_Tencode', 'MiscFeature_Tencode|BsmtUnfSF', 'LandContour_Tencode|OpenPorchSF', 'Utilities_Tencode|LotArea', 'GarageYrBlt|Condition1_Tencode', 'Condition1_Tencode|MiscVal', 'ExterQual_Tencode|Utilities_Tencode', 'LandContour_Tencode|BsmtUnfSF', 'Condition1_Tencode|MasVnrArea', 'LotShape_Tencode|PavedDrive_Tencode', 'LandSlope_Tencode|BedroomAbvGr', 'YearRemodAdd_Tencode', 'HouseStyle_Tencode|MSZoning_Tencode', 'Functional_Tencode|Condition1_Tencode', 'Fence_Tencode|Heating_Tencode', 'BldgType_Tencode|YrSold_Tencode', 'BsmtExposure_Tencode|FireplaceQu_Tencode', 'Neighborhood_Tencode|BsmtUnfSF', 'ExterQual_Tencode|GarageFinish_Tencode', 'KitchenQual_Tencode|MiscFeature_Tencode', 'GarageCars|EnclosedPorch', 'BsmtExposure_Tencode|GarageArea', 'YearBuilt_Tencode|HeatingQC_Tencode', 'Heating_Tencode|LotFrontage', 'OverallCond', 'Id|KitchenQual_Tencode', 'GarageYrBlt|HalfBath', 'BsmtFinSF1|FullBath', 'ScreenPorch|PoolQC_Tencode', 'BsmtFinType1_Tencode|MSSubClass_Tencode', 'Condition2_Tencode|3SsnPorch', 'SaleCondition_Tencode|Street_Tencode', 'Fence_Tencode|WoodDeckSF', 'HouseStyle_Tencode|GarageType_Tencode', 'KitchenQual_Tencode|LandContour_Tencode', 'Fireplaces|MiscVal', 'YearBuilt_Tencode|GarageYrBltBins_Tencode', 'KitchenQual_Tencode|Fireplaces', 'LandSlope_Tencode|Street_Tencode', 'TotalBsmtSF|BsmtFinSF2', 'Condition2_Tencode|YearRemodAdd_Tencode', 'KitchenQual_Tencode|BsmtExposure_Tencode', 'RoofStyle_Tencode|BsmtFinType2_Tencode', 'BsmtFinSF1|GarageCond_Tencode', 'BsmtHalfBath|FullBath', 'CentralAir_Tencode|RoofStyle_Tencode', 'Street_Tencode|2ndFlrSF', 'MasVnrArea|GarageType_Tencode', 'Condition2_Tencode|BsmtUnfSF', 'HouseStyle_Tencode|GarageArea', 'Id|BsmtFinSF1', 'Functional_Tencode|FullBath', 'GarageYrBlt|GarageCond_Tencode', 'MoSold_Tencode|GarageYrBltBins_Tencode', 'BedroomAbvGr|HalfBath', 'ScreenPorch|MSSubClass_Tencode', 'BsmtQual_Tencode|WoodDeckSF', 'MasVnrType_Tencode|GarageCond_Tencode', 'TotRmsAbvGrd|OverallCond_Tencode', 'ExterCond_Tencode|GarageQual_Tencode', 'BsmtQual_Tencode|BedroomAbvGr', 'Id|Utilities_Tencode', 'Utilities_Tencode|BldgType_Tencode', 'GarageFinish_Tencode|MasVnrArea', 'MasVnrType_Tencode|Fence_Tencode', 'BsmtHalfBath|GarageType_Tencode', 'FireplaceQu_Tencode|BsmtFinSF2', 'MoSold_Tencode|BsmtHalfBath', 'GarageCond_Tencode|MiscVal', 'FireplaceQu_Tencode|RoofStyle_Tencode', 'BsmtCond_Tencode|Neighborhood_Tencode', 'MasVnrType_Tencode|BldgType_Tencode', 'ExterQual_Tencode|BldgType_Tencode', 'CentralAir_Tencode|EnclosedPorch', 'MoSold_Tencode|FullBath', 'MiscFeature_Tencode|HalfBath', 'GrLivArea|OpenPorchSF', 'BsmtFinType2_Tencode|HalfBath', 'MasVnrType_Tencode|BsmtCond_Tencode', 'TotalBsmtSF|LotArea', 'Foundation_Tencode|KitchenAbvGr', 'Exterior1st_Tencode|FireplaceQu_Tencode', 'TotRmsAbvGrd|Condition2_Tencode', 'LandSlope_Tencode|LotConfig_Tencode', 'ExterCond_Tencode|BedroomAbvGr', 'SaleCondition_Tencode|MoSold_Tencode', 'BsmtExposure_Tencode|LotConfig_Tencode', 'SaleCondition_Tencode|GarageFinish_Tencode', 'LandContour_Tencode|RoofMatl_Tencode', 'Neighborhood_Tencode|SaleType_Tencode', 'MiscVal|GarageType_Tencode', 'SaleCondition_Tencode|BsmtFullBath', 'GarageCars|BsmtUnfSF', 'ExterQual_Tencode|1stFlrSF', 'BsmtCond_Tencode|LotShape_Tencode', 'HeatingQC_Tencode|GarageCars', 'BsmtFullBath|YrSold_Tencode', 'EnclosedPorch|GarageArea', 'Fence_Tencode|GarageFinish_Tencode', 'MasVnrArea|3SsnPorch', 'RoofMatl_Tencode|3SsnPorch', 'Neighborhood_Tencode|GarageYrBlt', 'Heating_Tencode|Fireplaces', 'ScreenPorch|GarageCond_Tencode', 'BsmtExposure_Tencode|LowQualFinSF', 'BedroomAbvGr|GarageArea', 'RoofMatl_Tencode|FireplaceQu_Tencode', 'ScreenPorch|GarageArea', 'HeatingQC_Tencode|MSSubClass_Tencode', 'PoolArea|PoolQC_Tencode', 'RoofMatl_Tencode|PavedDrive_Tencode', 'PoolQC_Tencode|2ndFlrSF', 'MasVnrType_Tencode|LotShape_Tencode', 'Fence_Tencode|PoolQC_Tencode', 'ExterQual_Tencode|BsmtFinSF1', 'Foundation_Tencode|Exterior2nd_Tencode', 'YearBuilt_Tencode|MSSubClass_Tencode', '2ndFlrSF|MiscVal', 'CentralAir_Tencode|LotFrontage', 'PoolQC_Tencode|MiscFeature_Tencode', 'Condition2_Tencode|Utilities_Tencode', 'LotShape_Tencode|GarageYrBlt', 'LandSlope_Tencode|LotFrontage', 'PoolArea|Condition1_Tencode', 'BsmtExposure_Tencode|PavedDrive_Tencode', 'BsmtFullBath|BldgType_Tencode', 'MasVnrArea', 'Fireplaces|MiscFeature_Tencode', 'BsmtExposure_Tencode|GarageYrBlt', 'OverallQual_Tencode|WoodDeckSF', 'BsmtExposure_Tencode', 'TotRmsAbvGrd|Fireplaces', 'OpenPorchSF|MiscFeature_Tencode', 'Exterior1st_Tencode|Condition1_Tencode', 'OverallQual_Tencode|BsmtFinType1_Tencode', 'Id|ExterQual_Tencode', 'TotalBsmtSF|FullBath', 'KitchenAbvGr|BsmtFinType2_Tencode', 'WoodDeckSF|OverallCond_Tencode', 'Heating_Tencode|PavedDrive_Tencode', 'LowQualFinSF|GarageQual_Tencode', 'LowQualFinSF|GarageFinish_Tencode', '1stFlrSF|Foundation_Tencode', 'TotRmsAbvGrd|LotShape_Tencode', 'BsmtCond_Tencode|MSZoning_Tencode', 'Exterior2nd_Tencode|GarageArea', 'Neighborhood_Tencode|Fireplaces', 'ScreenPorch|Condition1_Tencode', 'Functional_Tencode|Fence_Tencode', 'MoSold_Tencode|RoofMatl_Tencode', 'BsmtHalfBath|YrSold_Tencode', 'SaleType_Tencode|Fireplaces', 'ExterCond_Tencode|BsmtFinType2_Tencode', 'OpenPorchSF|YearRemodAdd_Tencode', 'YearRemodAdd_Tencode|Exterior2nd_Tencode', 'Exterior1st_Tencode|RoofMatl_Tencode', 'TotalBsmtSF|KitchenAbvGr', 'TotalBsmtSF|Foundation_Tencode', 'SaleType_Tencode|EnclosedPorch', 'ScreenPorch|OverallQual_Tencode', 'PoolArea|BsmtFinType2_Tencode', 'OpenPorchSF|Street_Tencode', 'OverallQual_Tencode|MiscFeature_Tencode', 'YearBuilt_Tencode|BsmtQual_Tencode', 'Functional_Tencode|LotArea', 'MiscFeature_Tencode|Condition1_Tencode', 'MSZoning_Tencode|HalfBath', 'ExterCond_Tencode|BsmtUnfSF', 'KitchenQual_Tencode|Exterior2nd_Tencode', 'GarageFinish_Tencode|BedroomAbvGr', 'ExterCond_Tencode|Exterior1st_Tencode', 'MasVnrType_Tencode|3SsnPorch', 'MoSold_Tencode|MiscVal', 'Utilities_Tencode|GarageArea', 'ExterCond_Tencode|Condition1_Tencode', 'YearBuilt_Tencode|BsmtHalfBath', 'PoolQC_Tencode|FullBath', 'MSZoning_Tencode|GarageType_Tencode', 'MoSold_Tencode|MSZoning_Tencode', 'PoolQC_Tencode|BedroomAbvGr', 'MasVnrType_Tencode|Exterior2nd_Tencode', 'HouseStyle_Tencode|LotArea', 'ExterCond_Tencode|GarageFinish_Tencode', 'KitchenQual_Tencode|KitchenAbvGr', 'Functional_Tencode|BsmtFullBath', 'Condition1_Tencode|RoofStyle_Tencode', 'ExterCond_Tencode|LotFrontage', 'Exterior2nd_Tencode|Condition1_Tencode', 'GarageFinish_Tencode|GarageCars', 'FireplaceQu_Tencode|YrSold_Tencode', 'Foundation_Tencode|FireplaceQu_Tencode', 'FullBath|3SsnPorch', 'KitchenQual_Tencode|MoSold_Tencode', 'Functional_Tencode|BsmtHalfBath', 'Functional_Tencode|BsmtFinSF2', 'GarageYrBlt|LotConfig_Tencode', 'Fence_Tencode|Street_Tencode', 'ScreenPorch|BsmtHalfBath', 'LotConfig_Tencode|Street_Tencode', 'BsmtHalfBath', 'Neighborhood_Tencode|LotFrontage', 'Fireplaces|LotFrontage', 'BsmtExposure_Tencode|RoofMatl_Tencode', 'BsmtFinType2_Tencode|YrSold_Tencode', 'GarageCars|YrSold_Tencode', 'TotalBsmtSF|MiscVal', 'LowQualFinSF|PoolQC_Tencode', 'RoofMatl_Tencode|KitchenAbvGr', 'LandContour_Tencode|Utilities_Tencode', 'SaleType_Tencode|2ndFlrSF', 'MoSold_Tencode|LandSlope_Tencode', 'ExterCond_Tencode|YearRemodAdd_Tencode', 'Id|Functional_Tencode', 'Condition2_Tencode|GarageArea', 'PavedDrive_Tencode|OverallCond_Tencode', 'BsmtCond_Tencode|Condition1_Tencode', 'LotShape_Tencode|MiscFeature_Tencode', 'OpenPorchSF|MSZoning_Tencode', 'BsmtExposure_Tencode|Foundation_Tencode', 'Id|1stFlrSF', 'TotRmsAbvGrd|Neighborhood_Tencode', 'Functional_Tencode|PavedDrive_Tencode', 'Neighborhood_Tencode|YrSold_Tencode', 'Alley_Tencode|Exterior2nd_Tencode', 'LotConfig_Tencode|FullBath', 'BsmtFinSF2|GarageType_Tencode', 'KitchenQual_Tencode|MSSubClass_Tencode', 'Fence_Tencode|GarageArea', 'MasVnrType_Tencode|RoofMatl_Tencode', 'BsmtCond_Tencode|TotalBsmtSF', 'MasVnrArea|MiscVal', 'ScreenPorch|OpenPorchSF', 'BsmtHalfBath|Exterior1st_Tencode', 'Utilities_Tencode|HalfBath', 'ExterQual_Tencode|BsmtUnfSF', 'BldgType_Tencode|WoodDeckSF', 'BsmtExposure_Tencode|Street_Tencode', 'GarageCars|OverallCond_Tencode', 'Alley_Tencode|LandSlope_Tencode', 'LotConfig_Tencode|BldgType_Tencode', 'PoolQC_Tencode|Fireplaces', 'ExterQual_Tencode|Alley_Tencode', 'KitchenQual_Tencode|LowQualFinSF', 'Foundation_Tencode|GarageYrBltBins_Tencode', 'LowQualFinSF|1stFlrSF', 'BsmtCond_Tencode|MasVnrArea', 'BsmtHalfBath|GarageFinish_Tencode', 'Exterior1st_Tencode|Exterior2nd_Tencode', 'HeatingQC_Tencode|Foundation_Tencode', 'TotRmsAbvGrd|MiscFeature_Tencode', 'Alley_Tencode|LowQualFinSF', 'GarageYrBlt|YearRemodAdd_Tencode', 'BldgType_Tencode|GarageQual_Tencode', 'LandContour_Tencode|HeatingQC_Tencode', 'Exterior1st_Tencode', 'ExterCond_Tencode|RoofMatl_Tencode', 'Condition2_Tencode|KitchenAbvGr', 'Electrical_Tencode|GarageType_Tencode', 'BedroomAbvGr|HouseStyle_Tencode', 'Foundation_Tencode|CentralAir_Tencode', 'MiscFeature_Tencode|2ndFlrSF', 'MiscFeature_Tencode|MSZoning_Tencode', 'Condition2_Tencode|WoodDeckSF', 'Condition1_Tencode|Electrical_Tencode', 'WoodDeckSF|FireplaceQu_Tencode', 'YearBuilt_Tencode|LotArea', 'Condition2_Tencode|Neighborhood_Tencode', 'OpenPorchSF|BsmtFinType2_Tencode', 'BsmtExposure_Tencode|SaleType_Tencode', 'LotConfig_Tencode|BsmtFinSF2', '1stFlrSF|BsmtUnfSF', 'BsmtExposure_Tencode|GarageCond_Tencode', 'PoolArea|PavedDrive_Tencode', 'GrLivArea|HouseStyle_Tencode', 'Neighborhood_Tencode|BsmtHalfBath', 'KitchenQual_Tencode|LotShape_Tencode', 'MiscFeature_Tencode|EnclosedPorch', 'LowQualFinSF|MoSold_Tencode', '1stFlrSF|Exterior1st_Tencode', 'TotRmsAbvGrd|LowQualFinSF', 'LowQualFinSF|GarageYrBltBins_Tencode', 'BldgType_Tencode|LotFrontage', 'MoSold_Tencode|MiscFeature_Tencode', 'GrLivArea|YrSold_Tencode', 'GarageFinish_Tencode|BsmtFinType2_Tencode', 'MoSold_Tencode|EnclosedPorch', 'BsmtQual_Tencode|OpenPorchSF', 'BsmtFinType2_Tencode', 'Functional_Tencode|FireplaceQu_Tencode', 'GarageYrBlt|HouseStyle_Tencode', 'BsmtFinType1_Tencode|GarageType_Tencode', 'MasVnrType_Tencode|LowQualFinSF', 'Fence_Tencode|GarageYrBltBins_Tencode', 'Fence_Tencode|HouseStyle_Tencode', 'Id|BsmtExposure_Tencode', 'LandContour_Tencode|FullBath', 'BsmtFinSF1|FireplaceQu_Tencode', 'YearBuilt_Tencode|MasVnrArea', 'TotRmsAbvGrd|HalfBath', 'Electrical_Tencode|OverallCond_Tencode', 'Fireplaces|3SsnPorch', 'ScreenPorch|LotArea', 'SaleCondition_Tencode|MiscFeature_Tencode', 'Condition2_Tencode|HeatingQC_Tencode', 'LandSlope_Tencode|Fireplaces', 'GarageFinish_Tencode|MSSubClass_Tencode', 'Id|BsmtQual_Tencode', 'LowQualFinSF|MiscFeature_Tencode', 'KitchenQual_Tencode|3SsnPorch', 'GarageQual_Tencode|OverallCond_Tencode', 'TotRmsAbvGrd|SaleType_Tencode', 'PoolQC_Tencode|MasVnrArea', 'Fireplaces|EnclosedPorch', 'Alley_Tencode|FullBath', 'BsmtExposure_Tencode|BsmtFinSF2', 'PoolArea|SaleType_Tencode', 'GarageFinish_Tencode|YearRemodAdd_Tencode', 'Utilities_Tencode|OverallCond_Tencode', 'BsmtCond_Tencode|BsmtExposure_Tencode', 'OpenPorchSF|LotConfig_Tencode', 'WoodDeckSF|BsmtFinType2_Tencode', 'BsmtCond_Tencode|2ndFlrSF', 'BsmtHalfBath|BsmtFinSF2', 'ExterQual_Tencode|LotArea', 'ScreenPorch|GrLivArea', 'BsmtFinType1_Tencode|Street_Tencode', 'RoofMatl_Tencode|YrSold_Tencode', 'PoolQC_Tencode|MSZoning_Tencode', 'MoSold_Tencode|LotArea', 'PoolArea|MoSold_Tencode', 'Neighborhood_Tencode|OpenPorchSF', 'Condition2_Tencode|LotShape_Tencode', 'Alley_Tencode|Street_Tencode', 'Fence_Tencode|FullBath', 'ExterQual_Tencode|BsmtFinSF2', 'TotalBsmtSF|PavedDrive_Tencode', 'LandContour_Tencode|3SsnPorch', 'PoolArea|Functional_Tencode', 'FireplaceQu_Tencode|GarageType_Tencode', 'Functional_Tencode|LotConfig_Tencode', 'MSSubClass_Tencode|LotFrontage', 'OpenPorchSF|LotFrontage', 'GrLivArea|BedroomAbvGr', 'OverallQual_Tencode|FullBath', 'Street_Tencode|MSSubClass_Tencode', 'BsmtCond_Tencode|LandSlope_Tencode', 'OverallQual_Tencode|Exterior2nd_Tencode', 'ExterCond_Tencode|RoofStyle_Tencode', 'Alley_Tencode|BsmtUnfSF', 'MSSubClass_Tencode|FireplaceQu_Tencode', 'Condition2_Tencode|LotFrontage', 'Functional_Tencode|ScreenPorch', 'MasVnrType_Tencode|MiscFeature_Tencode', 'BedroomAbvGr|GarageCars', 'RoofMatl_Tencode|RoofStyle_Tencode', 'YearBuilt_Tencode|BsmtFinType1_Tencode', 'Fireplaces|BedroomAbvGr', 'BsmtFinType1_Tencode|Utilities_Tencode', 'BsmtQual_Tencode|MasVnrArea', 'Condition2_Tencode|Fireplaces', 'Fireplaces|HalfBath', 'WoodDeckSF|LotArea', 'HouseStyle_Tencode|BldgType_Tencode', 'MSZoning_Tencode|FullBath', 'LotShape_Tencode', 'PavedDrive_Tencode|MasVnrArea', 'BedroomAbvGr|CentralAir_Tencode', 'HeatingQC_Tencode|GarageYrBltBins_Tencode', 'PavedDrive_Tencode|Condition1_Tencode', 'Utilities_Tencode|KitchenAbvGr', 'GarageYrBlt|BldgType_Tencode', 'GarageFinish_Tencode|2ndFlrSF', 'LotShape_Tencode|OpenPorchSF', 'Exterior1st_Tencode|YearRemodAdd_Tencode', 'Alley_Tencode|MasVnrArea', 'TotRmsAbvGrd|LotFrontage', 'LandSlope_Tencode|Exterior1st_Tencode', 'GarageCars|CentralAir_Tencode', 'SaleCondition_Tencode|GarageCars', 'Condition2_Tencode|BsmtFullBath', 'OpenPorchSF|Exterior2nd_Tencode', 'LandContour_Tencode|EnclosedPorch', 'BsmtQual_Tencode|Condition1_Tencode', 'OverallQual_Tencode|KitchenAbvGr', 'PoolQC_Tencode|Street_Tencode', 'BsmtFullBath|Exterior2nd_Tencode', 'GarageCond_Tencode|OverallCond_Tencode', 'OpenPorchSF|OverallCond_Tencode', 'LotShape_Tencode|LotFrontage', 'PoolArea|ExterQual_Tencode', 'BsmtCond_Tencode|LotFrontage', 'Heating_Tencode|MoSold_Tencode', 'KitchenQual_Tencode|PavedDrive_Tencode', 'Functional_Tencode|WoodDeckSF', 'LandContour_Tencode|FireplaceQu_Tencode', 'Neighborhood_Tencode|OverallCond_Tencode', 'PoolArea|Exterior2nd_Tencode', 'SaleCondition_Tencode|SaleType_Tencode', 'Condition2_Tencode|BsmtFinType1_Tencode', 'MasVnrType_Tencode|OverallCond_Tencode', 'Utilities_Tencode|FullBath', 'Exterior2nd_Tencode|LotFrontage', 'BsmtFinType1_Tencode|OverallCond_Tencode', 'RoofStyle_Tencode|BsmtUnfSF', 'BsmtFullBath|Street_Tencode', 'LotArea|3SsnPorch', 'BsmtFullBath|LotConfig_Tencode', 'GarageYrBlt|Exterior2nd_Tencode', 'RoofMatl_Tencode|LotArea', 'Alley_Tencode|BsmtQual_Tencode', 'Street_Tencode|BsmtFinSF2', 'LandSlope_Tencode|KitchenAbvGr', 'Condition2_Tencode|Condition1_Tencode', 'GarageFinish_Tencode|MiscVal', 'PoolQC_Tencode|RoofMatl_Tencode', 'ExterQual_Tencode|BedroomAbvGr', 'ExterCond_Tencode|MSZoning_Tencode', 'BsmtFinSF1|LotFrontage', 'GarageYrBltBins_Tencode|OpenPorchSF', 'PoolArea|SaleCondition_Tencode', 'LandContour_Tencode|GarageFinish_Tencode', 'MasVnrType_Tencode|BsmtFinSF1', 'GrLivArea', 'BsmtFinType1_Tencode|HalfBath', 'SaleCondition_Tencode|Exterior1st_Tencode', 'MiscFeature_Tencode|MSSubClass_Tencode', 'Exterior1st_Tencode|BsmtFinSF1', 'RoofMatl_Tencode|HalfBath', 'Id|BsmtUnfSF', 'GrLivArea|BsmtFinSF1', 'LandContour_Tencode|GarageCond_Tencode', 'HeatingQC_Tencode|2ndFlrSF', 'GarageYrBlt|MoSold_Tencode', 'BsmtQual_Tencode|LotShape_Tencode', 'Functional_Tencode|MoSold_Tencode', 'OpenPorchSF|MasVnrArea', 'YearRemodAdd_Tencode|GarageQual_Tencode', 'FullBath|RoofStyle_Tencode', 'OverallQual_Tencode|CentralAir_Tencode', 'TotRmsAbvGrd|3SsnPorch', 'Id|HeatingQC_Tencode', 'ExterQual_Tencode|Electrical_Tencode', 'KitchenQual_Tencode|FullBath', 'Utilities_Tencode|MasVnrArea', 'BsmtQual_Tencode|Utilities_Tencode', 'SaleType_Tencode|GarageCars', 'Heating_Tencode|MasVnrArea', 'Electrical_Tencode|HalfBath', 'YearRemodAdd_Tencode|BldgType_Tencode', 'Neighborhood_Tencode|GarageYrBltBins_Tencode', 'Condition2_Tencode|Fence_Tencode', 'ScreenPorch|FullBath', 'Heating_Tencode|GarageArea', 'RoofMatl_Tencode|GarageArea', 'Fence_Tencode|MasVnrArea', 'BsmtFinSF1|WoodDeckSF', 'PavedDrive_Tencode|GarageCond_Tencode', 'LandContour_Tencode|Foundation_Tencode', '1stFlrSF|WoodDeckSF', 'Heating_Tencode|EnclosedPorch', 'LandSlope_Tencode|2ndFlrSF', 'Alley_Tencode|GarageCond_Tencode', 'OpenPorchSF|2ndFlrSF', 'Fireplaces|HouseStyle_Tencode', 'KitchenQual_Tencode|ExterCond_Tencode', 'Functional_Tencode|Condition2_Tencode', 'ScreenPorch|RoofStyle_Tencode', 'ExterQual_Tencode|PoolQC_Tencode', 'RoofMatl_Tencode', 'FullBath|MiscVal', 'CentralAir_Tencode|3SsnPorch', 'Alley_Tencode|BedroomAbvGr', 'Foundation_Tencode|GarageQual_Tencode', 'LandSlope_Tencode|BsmtFinSF1', 'BsmtExposure_Tencode|YearBuilt_Tencode', 'TotalBsmtSF|BsmtFinSF1', 'MiscFeature_Tencode|BsmtFinSF2', 'TotRmsAbvGrd|Foundation_Tencode', 'ScreenPorch|MiscFeature_Tencode', 'Exterior1st_Tencode|LotArea', 'GarageCond_Tencode', 'SaleType_Tencode|3SsnPorch', 'YearBuilt_Tencode|HalfBath', 'GrLivArea|BsmtFinType2_Tencode', 'GarageCars', 'BldgType_Tencode|Condition1_Tencode', 'BsmtFinSF1|MSSubClass_Tencode', 'TotRmsAbvGrd|FullBath', 'OpenPorchSF|BldgType_Tencode', 'BsmtQual_Tencode|LowQualFinSF', 'PoolQC_Tencode|BsmtFinType2_Tencode', 'ExterQual_Tencode|MasVnrArea', 'ExterCond_Tencode|BsmtHalfBath', 'KitchenAbvGr', 'YearBuilt_Tencode|LandSlope_Tencode', 'LandSlope_Tencode|FullBath', 'OverallQual_Tencode|LotFrontage', 'Street_Tencode|OverallCond_Tencode', 'MasVnrType_Tencode|BsmtFinSF2', 'ExterQual_Tencode|SaleType_Tencode', 'BsmtFinSF1|MiscVal', 'LowQualFinSF|GrLivArea', 'MiscFeature_Tencode|Street_Tencode', 'YearRemodAdd_Tencode|2ndFlrSF', 'BsmtFinSF1|HalfBath', 'MSZoning_Tencode|BsmtFinSF2', 'BsmtFinType1_Tencode|BldgType_Tencode', 'TotalBsmtSF|Functional_Tencode', 'HalfBath|YrSold_Tencode', 'BsmtQual_Tencode|GrLivArea', 'BsmtFullBath|GarageYrBlt', 'GarageCars|KitchenAbvGr', 'ScreenPorch|SaleType_Tencode', 'PoolArea|WoodDeckSF', 'Functional_Tencode|GarageYrBlt', 'FireplaceQu_Tencode|CentralAir_Tencode', 'YearBuilt_Tencode|WoodDeckSF', 'Fence_Tencode|ExterCond_Tencode', 'MSZoning_Tencode|GarageCars', 'BldgType_Tencode|BsmtFinType2_Tencode', 'Fireplaces|GarageType_Tencode', 'MasVnrType_Tencode|RoofStyle_Tencode', 'Heating_Tencode|MiscVal', 'PoolQC_Tencode|FireplaceQu_Tencode', 'HeatingQC_Tencode|1stFlrSF', 'SaleCondition_Tencode|MiscVal', 'LandContour_Tencode|LandSlope_Tencode', 'BsmtFullBath|EnclosedPorch', 'TotalBsmtSF|LotConfig_Tencode', 'Heating_Tencode|BsmtFinSF1', 'GrLivArea|MSSubClass_Tencode', 'GrLivArea|2ndFlrSF', 'HeatingQC_Tencode|RoofMatl_Tencode', 'BedroomAbvGr|RoofStyle_Tencode', '1stFlrSF|KitchenAbvGr', 'HeatingQC_Tencode|PavedDrive_Tencode', 'BsmtExposure_Tencode|Neighborhood_Tencode', 'BsmtFullBath|WoodDeckSF', 'MasVnrType_Tencode|LandContour_Tencode', 'OpenPorchSF|GarageQual_Tencode', 'Condition2_Tencode|EnclosedPorch', 'BsmtCond_Tencode|Fireplaces', 'PoolArea', 'LowQualFinSF|GarageArea', 'MSSubClass_Tencode|GarageType_Tencode', 'BsmtExposure_Tencode|LotFrontage', 'HouseStyle_Tencode|WoodDeckSF', 'OpenPorchSF|GarageCond_Tencode', 'Alley_Tencode|MiscVal', 'Functional_Tencode|MSSubClass_Tencode', 'LandContour_Tencode|GarageType_Tencode', 'GarageYrBlt|1stFlrSF', 'BsmtQual_Tencode|BsmtFullBath', 'CentralAir_Tencode|GarageArea', 'Heating_Tencode|ScreenPorch', 'KitchenQual_Tencode|PoolQC_Tencode', 'BsmtExposure_Tencode|OpenPorchSF', 'Alley_Tencode|WoodDeckSF', 'HeatingQC_Tencode|Utilities_Tencode', 'ExterQual_Tencode|GarageQual_Tencode', 'ScreenPorch|KitchenAbvGr', 'GarageYrBltBins_Tencode|FireplaceQu_Tencode', 'MiscVal|CentralAir_Tencode', 'LotConfig_Tencode|2ndFlrSF', 'GarageYrBlt|MSSubClass_Tencode', 'Functional_Tencode', 'Exterior1st_Tencode|BsmtUnfSF', 'Condition2_Tencode|MiscVal', 'GarageYrBltBins_Tencode|Fireplaces', 'MSZoning_Tencode|BsmtFinType2_Tencode', 'YearBuilt_Tencode|FireplaceQu_Tencode', 'BsmtFinSF1|PavedDrive_Tencode', 'BsmtHalfBath|YearRemodAdd_Tencode', 'LotShape_Tencode|RoofMatl_Tencode', 'ScreenPorch|HalfBath', 'TotalBsmtSF|Street_Tencode', 'BldgType_Tencode|GarageCars', 'MoSold_Tencode|RoofStyle_Tencode', 'BsmtExposure_Tencode|Utilities_Tencode', 'BsmtCond_Tencode|3SsnPorch', 'Condition2_Tencode|OverallCond_Tencode', 'YearRemodAdd_Tencode|Condition1_Tencode', 'BsmtExposure_Tencode|BsmtHalfBath', 'Condition1_Tencode|YrSold_Tencode', 'MoSold_Tencode|BsmtUnfSF', 'GarageQual_Tencode|3SsnPorch', 'LowQualFinSF|LotFrontage', 'Functional_Tencode|MiscFeature_Tencode', 'LandContour_Tencode|LotConfig_Tencode', 'LandSlope_Tencode|SaleType_Tencode', 'LandSlope_Tencode|YrSold_Tencode', 'Condition1_Tencode|EnclosedPorch', 'LotFrontage|HalfBath', 'BedroomAbvGr|BsmtFinSF1', 'YearBuilt_Tencode|YrSold_Tencode', 'YearBuilt_Tencode|GarageCars', 'BsmtFinType1_Tencode|MiscVal', 'Exterior2nd_Tencode|GarageType_Tencode', 'Id|Condition2_Tencode', 'LotShape_Tencode|GarageCars', 'MasVnrArea|MSSubClass_Tencode', 'Functional_Tencode|GarageYrBltBins_Tencode', 'OverallQual_Tencode|PoolQC_Tencode', 'PavedDrive_Tencode|GarageCars', 'BsmtQual_Tencode|OverallCond_Tencode', 'BedroomAbvGr|BldgType_Tencode', 'Condition1_Tencode|MSSubClass_Tencode', 'TotRmsAbvGrd|BsmtExposure_Tencode', 'Exterior2nd_Tencode|BldgType_Tencode', 'HouseStyle_Tencode|Street_Tencode', 'Neighborhood_Tencode|GarageFinish_Tencode', 'BsmtCond_Tencode|BldgType_Tencode', 'ExterCond_Tencode|Heating_Tencode', 'SaleCondition_Tencode|BsmtFinSF1', 'MSSubClass_Tencode|MiscVal', 'Fence_Tencode|GrLivArea', 'MasVnrType_Tencode|GarageFinish_Tencode', 'MiscFeature_Tencode|CentralAir_Tencode', '1stFlrSF|YearRemodAdd_Tencode', 'SaleType_Tencode', 'SaleCondition_Tencode|ScreenPorch', 'LotConfig_Tencode|RoofMatl_Tencode', 'Functional_Tencode|LandContour_Tencode', 'PavedDrive_Tencode|Electrical_Tencode', 'Condition2_Tencode|BldgType_Tencode', 'BsmtExposure_Tencode|BsmtFinSF1', 'Heating_Tencode|HalfBath', 'KitchenQual_Tencode|GarageYrBlt', 'BsmtFullBath|RoofStyle_Tencode', 'BsmtCond_Tencode|BsmtFinType1_Tencode', 'YearBuilt_Tencode|ScreenPorch', 'Utilities_Tencode|GarageCars', 'Id|Neighborhood_Tencode', 'Fireplaces|Utilities_Tencode', 'LotShape_Tencode|CentralAir_Tencode', 'Fence_Tencode|RoofMatl_Tencode', 'LotConfig_Tencode|GarageCars', 'Functional_Tencode|Heating_Tencode', 'BsmtCond_Tencode|FireplaceQu_Tencode', 'BsmtFullBath|MiscVal', 'BsmtQual_Tencode|Fence_Tencode', 'YearBuilt_Tencode|LotConfig_Tencode', 'PoolQC_Tencode|EnclosedPorch', '3SsnPorch', 'MasVnrType_Tencode|GarageQual_Tencode', 'GarageYrBltBins_Tencode|BldgType_Tencode', 'Utilities_Tencode|LotFrontage', 'HeatingQC_Tencode|LotFrontage', 'LotShape_Tencode|SaleType_Tencode', 'Id|Heating_Tencode', 'TotalBsmtSF|GarageQual_Tencode', 'GarageCars|3SsnPorch', 'BedroomAbvGr|EnclosedPorch', 'WoodDeckSF|CentralAir_Tencode', '1stFlrSF|BsmtFinType1_Tencode', 'LandContour_Tencode|SaleType_Tencode', 'LandSlope_Tencode|GrLivArea', 'GarageYrBltBins_Tencode|GarageType_Tencode', 'OverallQual_Tencode|GarageQual_Tencode', 'PoolArea|CentralAir_Tencode', 'RoofMatl_Tencode|MiscVal', 'TotalBsmtSF|HeatingQC_Tencode', 'ExterQual_Tencode|BsmtFinType2_Tencode', 'ScreenPorch|BedroomAbvGr', 'Utilities_Tencode|RoofMatl_Tencode', 'ExterQual_Tencode|LotShape_Tencode', 'GarageQual_Tencode|GarageArea', 'LotArea|FireplaceQu_Tencode', 'SaleCondition_Tencode|Electrical_Tencode', 'Fireplaces|MSSubClass_Tencode', 'SaleCondition_Tencode|ExterCond_Tencode', 'BsmtCond_Tencode|BsmtFinSF1', 'Exterior2nd_Tencode|HouseStyle_Tencode', 'MSSubClass_Tencode|3SsnPorch', 'GarageQual_Tencode|EnclosedPorch', 'HouseStyle_Tencode|LotFrontage', 'GrLivArea|Electrical_Tencode', 'SaleType_Tencode|OverallCond_Tencode', 'BldgType_Tencode|EnclosedPorch', 'Id|SaleType_Tencode', 'ExterQual_Tencode|BsmtQual_Tencode', 'PavedDrive_Tencode', 'Condition1_Tencode|HalfBath', 'Heating_Tencode|GarageType_Tencode', 'MSSubClass_Tencode|BsmtFinSF2', 'BsmtUnfSF|OverallCond_Tencode', 'KitchenAbvGr|3SsnPorch', 'BedroomAbvGr|LotArea', 'HouseStyle_Tencode|RoofMatl_Tencode', 'HouseStyle_Tencode|3SsnPorch', 'PoolArea|LotConfig_Tencode', 'Fence_Tencode|FireplaceQu_Tencode', 'PoolArea|BsmtFullBath', 'MiscFeature_Tencode|BsmtFinType2_Tencode', 'TotRmsAbvGrd|BsmtFullBath', 'LandSlope_Tencode|WoodDeckSF', 'PoolArea|LowQualFinSF', 'Heating_Tencode|SaleType_Tencode', 'Id|MSZoning_Tencode', '2ndFlrSF|RoofStyle_Tencode', 'BsmtExposure_Tencode|LotArea', 'BsmtFinType2_Tencode|Electrical_Tencode', 'PoolArea|GarageFinish_Tencode', 'YearBuilt_Tencode|ExterCond_Tencode', 'PavedDrive_Tencode|BsmtFinType2_Tencode', 'MasVnrArea|CentralAir_Tencode', 'BedroomAbvGr|Street_Tencode', 'GrLivArea|Utilities_Tencode', 'Id|PoolArea', 'RoofStyle_Tencode|GarageType_Tencode', 'BedroomAbvGr|PavedDrive_Tencode', 'PavedDrive_Tencode|HalfBath', 'YearBuilt_Tencode|SaleType_Tencode', 'MiscFeature_Tencode', 'GarageYrBltBins_Tencode|MiscFeature_Tencode', 'LotShape_Tencode|MSZoning_Tencode', '1stFlrSF|GarageCond_Tencode', 'PoolQC_Tencode|HalfBath', 'GrLivArea|BsmtUnfSF', 'BsmtFinSF2', 'ExterCond_Tencode|YrSold_Tencode', 'TotRmsAbvGrd|MiscVal', 'LowQualFinSF|PavedDrive_Tencode', 'TotalBsmtSF|CentralAir_Tencode', 'BsmtHalfBath|1stFlrSF', 'GarageYrBlt|GarageFinish_Tencode', 'BsmtHalfBath|RoofStyle_Tencode', 'HeatingQC_Tencode|MiscVal', 'TotalBsmtSF|LotFrontage', 'BedroomAbvGr|BsmtFinType2_Tencode', 'Foundation_Tencode|MiscFeature_Tencode', 'GrLivArea|RoofStyle_Tencode', 'Id|3SsnPorch', '2ndFlrSF|FireplaceQu_Tencode', 'Fireplaces|RoofStyle_Tencode', 'TotRmsAbvGrd|Street_Tencode', 'GarageYrBltBins_Tencode|Electrical_Tencode', 'BsmtFullBath|OverallQual_Tencode', 'GarageYrBlt|BsmtHalfBath', 'GarageArea|YrSold_Tencode', 'Heating_Tencode|Street_Tencode', 'SaleCondition_Tencode|OverallQual_Tencode', 'BsmtCond_Tencode|BsmtFinSF2', 'BsmtExposure_Tencode|BsmtFullBath', 'TotRmsAbvGrd|Exterior1st_Tencode', 'HeatingQC_Tencode|MiscFeature_Tencode', 'SaleCondition_Tencode|CentralAir_Tencode', 'GarageYrBltBins_Tencode|KitchenAbvGr', 'MasVnrType_Tencode|TotRmsAbvGrd', 'GarageCars|FireplaceQu_Tencode', 'MasVnrType_Tencode|MSZoning_Tencode', 'GarageFinish_Tencode|BsmtFinSF1', 'GarageFinish_Tencode|HalfBath', 'KitchenQual_Tencode|BsmtUnfSF', 'Street_Tencode|FullBath', 'YearRemodAdd_Tencode|HalfBath', 'HeatingQC_Tencode|EnclosedPorch', 'PavedDrive_Tencode|WoodDeckSF', 'HouseStyle_Tencode|GarageQual_Tencode', 'Alley_Tencode|Exterior1st_Tencode', 'BsmtFullBath|GarageCars', 'Alley_Tencode|GarageArea', 'MiscFeature_Tencode|FullBath', 'Foundation_Tencode|Street_Tencode', 'LotShape_Tencode|BsmtFinType1_Tencode', 'Neighborhood_Tencode|LandSlope_Tencode', '1stFlrSF|MiscVal', '2ndFlrSF|MSSubClass_Tencode', 'KitchenAbvGr|YrSold_Tencode', 'OpenPorchSF|MiscVal', 'Id|BedroomAbvGr', 'BsmtExposure_Tencode|FullBath', 'Foundation_Tencode|HouseStyle_Tencode', 'ScreenPorch|GarageType_Tencode', 'GarageCars|GarageType_Tencode', 'Alley_Tencode|RoofMatl_Tencode', 'KitchenAbvGr|EnclosedPorch', 'EnclosedPorch|YrSold_Tencode', 'BsmtCond_Tencode|ExterQual_Tencode', 'Foundation_Tencode|WoodDeckSF', 'LotFrontage|GarageType_Tencode', 'BsmtFullBath|LotFrontage', 'Condition1_Tencode|LotFrontage', 'HeatingQC_Tencode', 'TotalBsmtSF|Fireplaces', 'WoodDeckSF|Condition1_Tencode', 'Fireplaces|PavedDrive_Tencode', 'Functional_Tencode|GarageType_Tencode', '3SsnPorch|GarageArea', 'SaleType_Tencode|GarageFinish_Tencode', 'BldgType_Tencode|BsmtUnfSF', 'TotalBsmtSF|BsmtFullBath', 'Street_Tencode|Electrical_Tencode', 'OverallQual_Tencode|2ndFlrSF', 'Street_Tencode|GarageArea', 'PoolArea|Exterior1st_Tencode', 'MiscVal|BsmtUnfSF', 'Functional_Tencode|LandSlope_Tencode', 'GarageYrBlt|3SsnPorch', 'BsmtFinType1_Tencode|SaleType_Tencode', 'MSSubClass_Tencode|RoofStyle_Tencode', 'ExterCond_Tencode|EnclosedPorch', 'Heating_Tencode', 'Condition2_Tencode|OpenPorchSF', 'Id|2ndFlrSF', 'OverallQual_Tencode|GarageCars', 'BldgType_Tencode|MiscVal', 'GarageYrBltBins_Tencode|OverallCond_Tencode', 'HouseStyle_Tencode|HalfBath', 'LotArea|Electrical_Tencode', 'Condition2_Tencode|BsmtHalfBath', 'ExterCond_Tencode|GarageCars', 'BsmtCond_Tencode|FullBath', 'Alley_Tencode|GarageFinish_Tencode', '2ndFlrSF|BsmtFinType2_Tencode', 'MasVnrType_Tencode|Street_Tencode', 'MasVnrType_Tencode|LotConfig_Tencode', 'ScreenPorch|PavedDrive_Tencode', 'GarageYrBlt|GarageCars', 'SaleCondition_Tencode|Utilities_Tencode', 'Neighborhood_Tencode|CentralAir_Tencode', 'BsmtExposure_Tencode|OverallCond_Tencode', 'Condition2_Tencode|GarageCars', 'LotConfig_Tencode|OverallCond_Tencode', 'BsmtQual_Tencode|BsmtHalfBath', 'LotArea|HalfBath', 'MiscFeature_Tencode|OverallCond_Tencode', 'BsmtExposure_Tencode|GarageType_Tencode', 'ExterCond_Tencode|GarageYrBlt', 'GarageYrBltBins_Tencode', 'ExterQual_Tencode|RoofMatl_Tencode', 'BsmtFinType1_Tencode|MSZoning_Tencode', 'RoofMatl_Tencode|BsmtFinSF2', 'Alley_Tencode|YearBuilt_Tencode', 'LandSlope_Tencode|EnclosedPorch', 'LowQualFinSF|BsmtFinType2_Tencode', 'BldgType_Tencode|3SsnPorch', 'BsmtFinType1_Tencode|MiscFeature_Tencode', 'BldgType_Tencode|BsmtFinSF2', 'KitchenQual_Tencode|BsmtQual_Tencode', 'RoofMatl_Tencode|2ndFlrSF', 'BsmtFullBath|FireplaceQu_Tencode', 'Alley_Tencode|Fence_Tencode', 'Functional_Tencode|KitchenAbvGr', 'OverallQual_Tencode|Utilities_Tencode', 'Street_Tencode|LotArea', 'PoolArea|Fence_Tencode', 'Id|GarageYrBltBins_Tencode', 'Alley_Tencode|LotFrontage', 'YearBuilt_Tencode|Exterior1st_Tencode', '1stFlrSF|GarageFinish_Tencode', 'TotRmsAbvGrd|1stFlrSF', 'PavedDrive_Tencode|GarageType_Tencode', 'LotConfig_Tencode|BsmtFinType2_Tencode', 'BsmtFinSF1|KitchenAbvGr', 'BsmtExposure_Tencode|GarageYrBltBins_Tencode', 'Exterior1st_Tencode|HalfBath', 'GarageFinish_Tencode|KitchenAbvGr', 'BedroomAbvGr|MSZoning_Tencode', 'Condition2_Tencode|Foundation_Tencode', 'BedroomAbvGr|KitchenAbvGr', 'MiscFeature_Tencode|LotArea', 'BsmtFullBath|ExterCond_Tencode', '2ndFlrSF|YrSold_Tencode', 'EnclosedPorch|GarageType_Tencode', 'MasVnrType_Tencode|BsmtQual_Tencode', 'Foundation_Tencode|BedroomAbvGr', 'MoSold_Tencode|1stFlrSF', 'ExterQual_Tencode|FullBath', 'TotalBsmtSF|SaleType_Tencode', 'Alley_Tencode|YearRemodAdd_Tencode', 'BsmtCond_Tencode|GarageCond_Tencode', 'GarageCars|GarageQual_Tencode', '3SsnPorch|YrSold_Tencode', 'GarageQual_Tencode|BsmtFinSF2', 'PoolQC_Tencode|BldgType_Tencode', 'BsmtQual_Tencode|Fireplaces', 'BsmtFinSF1|BldgType_Tencode', 'Condition2_Tencode|GarageQual_Tencode', 'BsmtQual_Tencode|BsmtFinType1_Tencode', 'BsmtCond_Tencode|Exterior2nd_Tencode', 'BsmtHalfBath|BedroomAbvGr', 'BsmtUnfSF|BsmtFinSF2', 'Street_Tencode|MiscVal', 'LowQualFinSF|Exterior1st_Tencode', 'TotalBsmtSF|Utilities_Tencode', 'Condition2_Tencode|GrLivArea', 'LotArea|YrSold_Tencode', '2ndFlrSF|BsmtUnfSF', 'GarageQual_Tencode|FireplaceQu_Tencode', 'BldgType_Tencode|RoofStyle_Tencode', 'MSZoning_Tencode|GarageArea', 'Foundation_Tencode|LotArea', 'OverallQual_Tencode|3SsnPorch', 'TotRmsAbvGrd|GarageType_Tencode', 'LotShape_Tencode|BsmtFinType2_Tencode', 'GrLivArea|SaleType_Tencode', 'FireplaceQu_Tencode|LotFrontage', 'BedroomAbvGr|FullBath', 'TotRmsAbvGrd|BsmtQual_Tencode', 'MoSold_Tencode|BsmtFinType2_Tencode', 'TotRmsAbvGrd|MasVnrArea', 'ExterCond_Tencode|GarageYrBltBins_Tencode', 'LotShape_Tencode|YearRemodAdd_Tencode', 'PoolArea|Street_Tencode', 'OverallQual_Tencode|Exterior1st_Tencode', 'BsmtCond_Tencode|MoSold_Tencode', 'KitchenQual_Tencode|MasVnrArea', 'TotalBsmtSF|RoofMatl_Tencode', 'Alley_Tencode|SaleCondition_Tencode', 'MoSold_Tencode|Condition1_Tencode', 'BsmtExposure_Tencode|MiscVal', 'YearBuilt_Tencode|PavedDrive_Tencode', 'Neighborhood_Tencode|BsmtFinSF1', 'Condition1_Tencode|FireplaceQu_Tencode', 'BsmtHalfBath|BsmtFinType2_Tencode', 'PoolArea|BsmtQual_Tencode', 'RoofMatl_Tencode|GarageCond_Tencode', 'Id|BsmtFinType1_Tencode', 'Alley_Tencode|BsmtExposure_Tencode', 'GarageYrBlt|LandSlope_Tencode', 'OverallQual_Tencode|BsmtFinSF1', 'BsmtQual_Tencode|Neighborhood_Tencode', 'Fence_Tencode|YrSold_Tencode', 'KitchenQual_Tencode|BldgType_Tencode', 'RoofMatl_Tencode|Condition1_Tencode', 'GarageArea|LotFrontage', 'TotRmsAbvGrd|YearRemodAdd_Tencode', 'LowQualFinSF|Heating_Tencode', 'Condition2_Tencode|ExterCond_Tencode', 'LandSlope_Tencode|Foundation_Tencode', 'Condition2_Tencode|FireplaceQu_Tencode', 'GarageYrBltBins_Tencode|LotArea', 'BsmtExposure_Tencode|RoofStyle_Tencode', 'MasVnrType_Tencode|Fireplaces', 'PoolArea|YearRemodAdd_Tencode', 'TotalBsmtSF|GrLivArea', 'GrLivArea|MiscVal', 'YearRemodAdd_Tencode|3SsnPorch', 'BsmtFinType1_Tencode|RoofMatl_Tencode', 'Neighborhood_Tencode|Foundation_Tencode', 'MoSold_Tencode|OpenPorchSF', 'Condition2_Tencode|BsmtFinSF1', 'HeatingQC_Tencode|ExterCond_Tencode', 'ExterQual_Tencode|OverallCond_Tencode', 'PoolArea|KitchenAbvGr', 'ExterQual_Tencode|Condition1_Tencode', 'GarageYrBlt|FullBath', 'PoolArea|OverallQual_Tencode', '1stFlrSF|Street_Tencode', 'OpenPorchSF|Utilities_Tencode', 'YearBuilt_Tencode|LowQualFinSF', 'MasVnrType_Tencode|Utilities_Tencode', 'Foundation_Tencode|SaleType_Tencode', 'Condition1_Tencode|OverallCond_Tencode', 'LotShape_Tencode|1stFlrSF', 'GarageFinish_Tencode|YrSold_Tencode', '2ndFlrSF|Electrical_Tencode', 'MasVnrType_Tencode|LandSlope_Tencode', 'LotShape_Tencode|OverallQual_Tencode', 'LowQualFinSF|HalfBath', 'BsmtHalfBath|MasVnrArea', 'LandSlope_Tencode|CentralAir_Tencode', 'HouseStyle_Tencode|BsmtFinSF2', 'YearRemodAdd_Tencode|BsmtUnfSF', 'BsmtCond_Tencode|GarageQual_Tencode', 'MiscFeature_Tencode|LotFrontage', '2ndFlrSF|GarageCond_Tencode', 'Neighborhood_Tencode|MSSubClass_Tencode', 'BsmtFullBath|Fireplaces', 'LandContour_Tencode|GarageArea', 'MasVnrType_Tencode|OverallQual_Tencode', 'FullBath|CentralAir_Tencode', 'Electrical_Tencode|GarageArea', 'LotConfig_Tencode|HalfBath', 'Alley_Tencode|Condition1_Tencode', 'MSZoning_Tencode|BsmtUnfSF', 'WoodDeckSF|BsmtUnfSF', 'PoolArea|BsmtUnfSF', 'MasVnrType_Tencode|GarageType_Tencode', 'GarageType_Tencode|OverallCond_Tencode', 'ExterCond_Tencode|BsmtFinSF2', 'LowQualFinSF|BsmtHalfBath', 'PavedDrive_Tencode|FireplaceQu_Tencode', 'Exterior1st_Tencode|LotFrontage', 'Exterior1st_Tencode|FullBath', 'RoofMatl_Tencode|OverallCond_Tencode', 'Foundation_Tencode|FullBath', 'GarageYrBlt|BedroomAbvGr', 'ExterCond_Tencode|LotConfig_Tencode', 'Condition2_Tencode', 'GarageFinish_Tencode|Fireplaces', '1stFlrSF|HalfBath', 'KitchenAbvGr|GarageType_Tencode', 'BsmtFinSF1|RoofStyle_Tencode', 'MoSold_Tencode|Fireplaces', 'MiscFeature_Tencode|GarageArea', 'MasVnrType_Tencode|FireplaceQu_Tencode', 'PoolArea|ScreenPorch', 'SaleCondition_Tencode|YrSold_Tencode', 'PoolArea|1stFlrSF', 'MoSold_Tencode|Electrical_Tencode', 'TotRmsAbvGrd|WoodDeckSF', 'RoofMatl_Tencode|WoodDeckSF', 'SaleType_Tencode|BsmtFinSF2', 'HeatingQC_Tencode|YearRemodAdd_Tencode', 'BsmtExposure_Tencode|MSSubClass_Tencode', 'Heating_Tencode|MSSubClass_Tencode', 'MasVnrType_Tencode|LotArea', 'LotFrontage|YrSold_Tencode', 'HouseStyle_Tencode|MasVnrArea', 'SaleCondition_Tencode|HalfBath', 'Exterior1st_Tencode|GarageCond_Tencode', 'BsmtFinType1_Tencode|Electrical_Tencode', 'Neighborhood_Tencode|MiscFeature_Tencode', 'Id|KitchenAbvGr', 'ExterQual_Tencode|BsmtFinType1_Tencode', 'ExterCond_Tencode', 'ExterQual_Tencode|YearRemodAdd_Tencode', 'GarageYrBltBins_Tencode|Exterior2nd_Tencode', 'Fence_Tencode|Foundation_Tencode', 'FullBath|LotArea', 'LowQualFinSF|OverallCond_Tencode', 'OpenPorchSF|GarageArea', 'Heating_Tencode|LotConfig_Tencode', 'Fireplaces|CentralAir_Tencode', 'LandSlope_Tencode|BsmtFinSF2', 'Foundation_Tencode|Condition1_Tencode', 'BsmtExposure_Tencode|GarageQual_Tencode', '1stFlrSF|SaleType_Tencode', 'TotalBsmtSF|ExterQual_Tencode', 'Heating_Tencode|BsmtUnfSF', 'Heating_Tencode|GrLivArea', 'LowQualFinSF|LotArea', 'BsmtCond_Tencode|Electrical_Tencode', 'GrLivArea|Exterior1st_Tencode', 'LowQualFinSF|MSZoning_Tencode', 'KitchenAbvGr|OverallCond_Tencode', '2ndFlrSF|PavedDrive_Tencode', 'SaleCondition_Tencode|BsmtFinSF2', 'Alley_Tencode|BsmtFinType2_Tencode', 'RoofMatl_Tencode|LotFrontage', 'Functional_Tencode|BedroomAbvGr', 'Utilities_Tencode|2ndFlrSF', 'OverallQual_Tencode|GarageFinish_Tencode', 'TotalBsmtSF|GarageYrBlt', 'GarageCars|MiscVal', 'MSZoning_Tencode|GarageCond_Tencode', 'Functional_Tencode|OverallQual_Tencode', 'ScreenPorch|3SsnPorch', 'MasVnrArea|KitchenAbvGr', 'Id|Exterior1st_Tencode', 'PoolQC_Tencode', 'ExterCond_Tencode|Electrical_Tencode', 'FireplaceQu_Tencode', 'Utilities_Tencode|GarageQual_Tencode', 'Alley_Tencode|LotConfig_Tencode', 'Fireplaces|Condition1_Tencode', 'BldgType_Tencode|OverallCond_Tencode', 'Fence_Tencode|Exterior1st_Tencode', 'GarageCond_Tencode|RoofStyle_Tencode', 'Id|FireplaceQu_Tencode', 'PoolQC_Tencode|GarageType_Tencode', 'LotConfig_Tencode|YrSold_Tencode', 'Alley_Tencode|BsmtHalfBath', 'LowQualFinSF|3SsnPorch', 'BsmtFinSF1|GarageType_Tencode', 'BsmtQual_Tencode|EnclosedPorch', 'Condition2_Tencode|Exterior2nd_Tencode', 'ScreenPorch|Electrical_Tencode', 'MSSubClass_Tencode|CentralAir_Tencode', 'GarageQual_Tencode|HalfBath', 'Condition2_Tencode|Exterior1st_Tencode', 'Street_Tencode|GarageType_Tencode', 'Alley_Tencode|KitchenAbvGr', 'BsmtCond_Tencode|PoolArea', 'PoolArea|LotArea', 'GarageCars|MSSubClass_Tencode', 'LandContour_Tencode|BsmtFinSF2', 'BsmtUnfSF|HalfBath', 'BsmtFinType1_Tencode|Exterior2nd_Tencode', 'HeatingQC_Tencode|BsmtUnfSF', 'Fence_Tencode|BsmtFinSF2', 'BsmtQual_Tencode|Foundation_Tencode', 'YearBuilt_Tencode|BsmtFullBath', 'MasVnrType_Tencode|HalfBath', 'LotConfig_Tencode|WoodDeckSF', 'Heating_Tencode|1stFlrSF', 'GarageQual_Tencode|YrSold_Tencode', 'MiscVal|LotFrontage', 'LotConfig_Tencode|MiscVal', 'BldgType_Tencode|GarageType_Tencode', 'MasVnrType_Tencode|FullBath', 'BsmtHalfBath|LotFrontage', 'LandSlope_Tencode|HouseStyle_Tencode', 'Foundation_Tencode|BsmtFinSF1', 'HeatingQC_Tencode|BsmtHalfBath', 'LotConfig_Tencode|Electrical_Tencode', 'Condition2_Tencode|MiscFeature_Tencode', 'GrLivArea|YearRemodAdd_Tencode', 'LowQualFinSF|BsmtUnfSF', 'TotalBsmtSF|3SsnPorch', 'Condition1_Tencode|CentralAir_Tencode', 'LowQualFinSF|Exterior2nd_Tencode', 'TotRmsAbvGrd|BsmtUnfSF', 'Utilities_Tencode', 'Exterior2nd_Tencode', 'MSZoning_Tencode|RoofMatl_Tencode', 'GarageCond_Tencode|FireplaceQu_Tencode', 'BsmtQual_Tencode|BsmtUnfSF', 'BsmtCond_Tencode|GrLivArea', 'GarageFinish_Tencode|Exterior1st_Tencode', 'Functional_Tencode|Street_Tencode', 'BsmtFinType2_Tencode|EnclosedPorch', 'YearRemodAdd_Tencode|FireplaceQu_Tencode', 'BsmtFinSF1|BsmtFinType2_Tencode', 'ScreenPorch|BsmtUnfSF', 'BsmtExposure_Tencode|MoSold_Tencode', 'BsmtFinType1_Tencode|GarageQual_Tencode', 'YearRemodAdd_Tencode|MasVnrArea', 'Id|Exterior2nd_Tencode', 'MiscVal', 'MasVnrType_Tencode|BedroomAbvGr', 'GarageFinish_Tencode|BldgType_Tencode', 'MSZoning_Tencode|RoofStyle_Tencode', 'ScreenPorch|GarageYrBltBins_Tencode', 'LandSlope_Tencode|BsmtFinType1_Tencode', 'BldgType_Tencode|LotArea', 'MiscFeature_Tencode|Utilities_Tencode', 'PoolArea|Electrical_Tencode', 'GarageYrBltBins_Tencode|RoofStyle_Tencode', 'HeatingQC_Tencode|Fireplaces', 'LowQualFinSF|CentralAir_Tencode', 'LotShape_Tencode|WoodDeckSF', 'BsmtExposure_Tencode|GarageCars', 'BsmtExposure_Tencode|HouseStyle_Tencode', 'LandContour_Tencode|CentralAir_Tencode', 'GarageYrBltBins_Tencode|PavedDrive_Tencode', 'Foundation_Tencode|GarageFinish_Tencode', 'BsmtFinType1_Tencode|GarageCond_Tencode', 'LotShape_Tencode|HouseStyle_Tencode', 'BsmtFinType1_Tencode|FireplaceQu_Tencode', 'MasVnrArea|HalfBath', 'MiscFeature_Tencode|LotConfig_Tencode', 'Foundation_Tencode|3SsnPorch', 'Heating_Tencode|Exterior1st_Tencode', 'GrLivArea|Street_Tencode', 'GarageYrBltBins_Tencode|WoodDeckSF', 'Alley_Tencode|GarageYrBltBins_Tencode', 'BsmtCond_Tencode|OverallCond_Tencode', 'MSZoning_Tencode|PavedDrive_Tencode', 'KitchenAbvGr|LotFrontage', 'OverallQual_Tencode|RoofStyle_Tencode', 'LandSlope_Tencode|3SsnPorch', 'ExterQual_Tencode|HouseStyle_Tencode', 'OpenPorchSF|KitchenAbvGr', 'ExterCond_Tencode|MiscFeature_Tencode', 'Functional_Tencode|BsmtFinType1_Tencode', 'Functional_Tencode|EnclosedPorch', 'BsmtFinType2_Tencode|LotFrontage', 'YearRemodAdd_Tencode|Street_Tencode', 'Heating_Tencode|Utilities_Tencode', 'LandContour_Tencode|Street_Tencode', 'OpenPorchSF|Exterior1st_Tencode', 'BsmtFinSF1|Condition1_Tencode', 'Neighborhood_Tencode|Utilities_Tencode', 'TotalBsmtSF|GarageYrBltBins_Tencode', 'Exterior2nd_Tencode|KitchenAbvGr', 'Functional_Tencode|RoofStyle_Tencode', 'BsmtQual_Tencode|HouseStyle_Tencode', 'BsmtFinType1_Tencode|OpenPorchSF', 'LandContour_Tencode|Fence_Tencode', 'MasVnrArea|RoofStyle_Tencode', 'BsmtFinType1_Tencode|PavedDrive_Tencode', 'BsmtFinType1_Tencode|Exterior1st_Tencode', 'GarageYrBlt|BsmtFinSF2', 'OverallQual_Tencode|BldgType_Tencode', 'PoolArea|BsmtExposure_Tencode', 'TotalBsmtSF|LowQualFinSF', 'GarageYrBlt|BsmtFinSF1', 'TotalBsmtSF|YearRemodAdd_Tencode', 'MasVnrArea|BsmtFinSF2', 'PoolArea|LotFrontage', 'Fence_Tencode|MoSold_Tencode', 'Fireplaces|BldgType_Tencode', 'LotShape_Tencode|GarageCond_Tencode', 'LandContour_Tencode|LotFrontage', 'LandSlope_Tencode|MiscFeature_Tencode', 'Heating_Tencode|Exterior2nd_Tencode', 'GarageYrBltBins_Tencode|BsmtFinSF2', 'BldgType_Tencode|RoofMatl_Tencode', 'LotConfig_Tencode|Condition1_Tencode', 'Heating_Tencode|GarageCars', 'OpenPorchSF|MSSubClass_Tencode', 'MSZoning_Tencode|Condition1_Tencode', 'GarageFinish_Tencode|PavedDrive_Tencode', 'ExterQual_Tencode|WoodDeckSF', 'ScreenPorch|BsmtFinType2_Tencode', 'ExterCond_Tencode|GrLivArea', 'PavedDrive_Tencode|GarageQual_Tencode', 'OverallQual_Tencode|GrLivArea', 'Exterior1st_Tencode|BldgType_Tencode', 'GarageQual_Tencode|LotArea', 'LandContour_Tencode|OverallQual_Tencode', 'Id|Fence_Tencode', 'BedroomAbvGr|Condition1_Tencode', 'OverallQual_Tencode|BsmtUnfSF', 'Functional_Tencode|HeatingQC_Tencode', 'GarageCond_Tencode|Electrical_Tencode', 'BsmtQual_Tencode|GarageCond_Tencode', 'GarageYrBltBins_Tencode|2ndFlrSF', 'CentralAir_Tencode|BsmtFinType2_Tencode', 'MiscVal|HalfBath', '1stFlrSF|GarageCars', 'LandSlope_Tencode|MSZoning_Tencode', 'BsmtCond_Tencode|LandContour_Tencode', 'Street_Tencode|Condition1_Tencode', 'BsmtFinSF2|HalfBath', 'MoSold_Tencode|HalfBath', 'Condition2_Tencode|MasVnrArea', 'ExterCond_Tencode|OverallQual_Tencode', 'GarageFinish_Tencode|BsmtFinSF2', 'ExterQual_Tencode|Fireplaces', 'MasVnrArea|Electrical_Tencode', 'SaleCondition_Tencode|BsmtUnfSF', 'Condition2_Tencode|Street_Tencode', 'BsmtFullBath', 'TotRmsAbvGrd|BsmtFinSF1', 'RoofMatl_Tencode|MasVnrArea', 'LotShape_Tencode|Electrical_Tencode', 'SaleType_Tencode|LotArea', 'TotalBsmtSF|GarageType_Tencode', 'LowQualFinSF|MasVnrArea', 'ExterQual_Tencode|SaleCondition_Tencode', 'Id|YearRemodAdd_Tencode', 'KitchenQual_Tencode|BsmtFinSF1', 'GarageFinish_Tencode|EnclosedPorch', 'KitchenQual_Tencode|YearBuilt_Tencode', 'HouseStyle_Tencode|BsmtFinSF1', 'LotShape_Tencode|Condition1_Tencode', 'LowQualFinSF|LotConfig_Tencode', 'Exterior2nd_Tencode|3SsnPorch', 'GarageFinish_Tencode|GarageQual_Tencode', 'YearBuilt_Tencode|Fence_Tencode', 'BsmtQual_Tencode|ScreenPorch', 'Heating_Tencode|RoofMatl_Tencode', 'LotShape_Tencode|Exterior1st_Tencode', 'ExterCond_Tencode|Fireplaces', 'LandSlope_Tencode|BsmtFinType2_Tencode', '1stFlrSF|MasVnrArea', 'TotRmsAbvGrd|EnclosedPorch', '1stFlrSF|BsmtFinSF2', 'Fence_Tencode|BsmtFullBath', 'Condition2_Tencode|GarageType_Tencode', 'BldgType_Tencode|HalfBath', 'Alley_Tencode|GarageType_Tencode', 'BsmtQual_Tencode|OverallQual_Tencode', 'BsmtFullBath|GarageQual_Tencode', '1stFlrSF|LandSlope_Tencode', 'Exterior2nd_Tencode|CentralAir_Tencode', 'Street_Tencode|BsmtFinSF1', 'Street_Tencode|BsmtUnfSF', 'MiscFeature_Tencode|BsmtFinSF1', 'TotRmsAbvGrd|KitchenQual_Tencode', 'TotalBsmtSF|MSZoning_Tencode', 'GarageYrBlt|Street_Tencode', 'RoofMatl_Tencode|GarageType_Tencode', 'YearBuilt_Tencode|Exterior2nd_Tencode', 'BsmtExposure_Tencode|Functional_Tencode', 'LotConfig_Tencode|LotArea', 'SaleCondition_Tencode|BsmtFinType2_Tencode', 'FireplaceQu_Tencode|EnclosedPorch', 'PoolQC_Tencode|Exterior2nd_Tencode', 'FullBath|MSSubClass_Tencode', 'MoSold_Tencode|WoodDeckSF', 'KitchenQual_Tencode|RoofMatl_Tencode', 'BsmtQual_Tencode|MoSold_Tencode', 'PavedDrive_Tencode|LotFrontage', 'HeatingQC_Tencode|PoolQC_Tencode', 'HouseStyle_Tencode|Electrical_Tencode', 'BsmtHalfBath|BsmtFinSF1', '1stFlrSF|GarageArea', 'WoodDeckSF|LotFrontage', 'OverallQual_Tencode|PavedDrive_Tencode', 'BsmtFullBath|BsmtFinSF1', 'ExterCond_Tencode|ScreenPorch', 'ScreenPorch|FireplaceQu_Tencode', 'Functional_Tencode|GarageArea', 'LotShape_Tencode|ScreenPorch', 'SaleType_Tencode|GarageType_Tencode', 'MSZoning_Tencode|BsmtFinSF1', 'OverallQual_Tencode|YrSold_Tencode', 'LowQualFinSF|BsmtFinSF1', 'LotConfig_Tencode|EnclosedPorch', 'OverallQual_Tencode|MasVnrArea', '3SsnPorch|RoofStyle_Tencode', 'HeatingQC_Tencode|Condition1_Tencode', '3SsnPorch|BsmtFinType2_Tencode', '2ndFlrSF|MasVnrArea', 'PoolArea|TotalBsmtSF', 'GarageCond_Tencode|EnclosedPorch', 'TotRmsAbvGrd|BsmtFinType2_Tencode', 'OpenPorchSF|SaleType_Tencode', 'Id|OverallCond_Tencode', '1stFlrSF|Condition1_Tencode', 'Functional_Tencode|Fireplaces', 'PoolArea|EnclosedPorch', 'FullBath', 'PoolArea|YearBuilt_Tencode', 'ExterQual_Tencode|Fence_Tencode', 'Fireplaces|LotConfig_Tencode', 'YearRemodAdd_Tencode|YrSold_Tencode', 'PoolArea|BsmtFinType1_Tencode', 'LowQualFinSF|FireplaceQu_Tencode', 'Neighborhood_Tencode|Exterior1st_Tencode', 'LandSlope_Tencode|YearRemodAdd_Tencode', 'BsmtFullBath|MasVnrArea', 'LotArea|KitchenAbvGr', 'TotRmsAbvGrd|MoSold_Tencode', 'PoolArea|BedroomAbvGr', 'Street_Tencode|PavedDrive_Tencode', 'KitchenQual_Tencode|Utilities_Tencode', 'LowQualFinSF|RoofMatl_Tencode', 'Fence_Tencode|LotArea', 'Utilities_Tencode|CentralAir_Tencode', 'YearBuilt_Tencode|Condition1_Tencode', '2ndFlrSF|GarageCars', 'HouseStyle_Tencode|LotConfig_Tencode', 'FullBath|GarageType_Tencode', 'Condition1_Tencode|GarageArea', 'TotRmsAbvGrd|LandSlope_Tencode', 'BsmtCond_Tencode|PoolQC_Tencode', 'MasVnrType_Tencode|TotalBsmtSF', 'HouseStyle_Tencode|MSSubClass_Tencode', 'BsmtFinSF2|YrSold_Tencode', 'MoSold_Tencode', 'BsmtCond_Tencode|EnclosedPorch', 'FullBath|HalfBath', 'PoolArea|BsmtHalfBath', 'LandContour_Tencode|Condition1_Tencode', 'Alley_Tencode|MoSold_Tencode', 'MasVnrType_Tencode|HouseStyle_Tencode', 'BsmtExposure_Tencode|LandContour_Tencode', 'SaleType_Tencode|FullBath', 'Utilities_Tencode|MSSubClass_Tencode', 'Fence_Tencode|BsmtUnfSF', 'BsmtFinType1_Tencode|BedroomAbvGr', '1stFlrSF|BldgType_Tencode', 'SaleCondition_Tencode|GarageQual_Tencode', '3SsnPorch|LotFrontage', 'Id|GarageYrBlt', 'TotalBsmtSF|KitchenQual_Tencode', 'BsmtExposure_Tencode|GrLivArea', 'BsmtQual_Tencode|BldgType_Tencode', 'LowQualFinSF|KitchenAbvGr', 'GarageType_Tencode', 'TotRmsAbvGrd|PoolArea', 'OverallQual_Tencode|EnclosedPorch', 'YrSold_Tencode', 'MSZoning_Tencode|BldgType_Tencode', 'OverallQual', 'HouseStyle_Tencode|2ndFlrSF', 'MiscFeature_Tencode|GarageQual_Tencode', 'GarageYrBltBins_Tencode|MasVnrArea', 'BsmtFinType1_Tencode|LotFrontage', 'Utilities_Tencode|BsmtFinSF1', 'SaleType_Tencode|MiscFeature_Tencode', 'WoodDeckSF|HalfBath', 'BsmtFinType1_Tencode|GarageFinish_Tencode', 'Alley_Tencode|BsmtFinSF1', 'YearBuilt_Tencode|LotShape_Tencode', 'KitchenAbvGr|BsmtFinSF2', 'MSZoning_Tencode|KitchenAbvGr', 'Fireplaces|MasVnrArea', 'Id|BsmtFinType2_Tencode', 'TotRmsAbvGrd|HouseStyle_Tencode', 'Exterior2nd_Tencode|GarageCars', 'LowQualFinSF|OverallQual_Tencode', 'Exterior2nd_Tencode|LotArea', 'GarageYrBltBins_Tencode|MSZoning_Tencode', 'RoofStyle_Tencode|EnclosedPorch', 'Neighborhood_Tencode|GarageType_Tencode', 'BsmtHalfBath|FireplaceQu_Tencode', 'Id|YrSold_Tencode', 'TotalBsmtSF|BsmtUnfSF', 'KitchenAbvGr|BsmtUnfSF', 'Alley_Tencode|BsmtFinSF2', 'ExterCond_Tencode|PavedDrive_Tencode', 'SaleType_Tencode|Exterior2nd_Tencode', 'Fence_Tencode|CentralAir_Tencode', 'LotArea|BsmtFinSF2', 'BsmtExposure_Tencode|Condition2_Tencode', 'GarageYrBlt|GarageArea', 'BsmtFullBath|GrLivArea', 'Condition2_Tencode|YearBuilt_Tencode', 'GarageYrBlt|KitchenAbvGr', 'YearRemodAdd_Tencode|WoodDeckSF', 'PoolArea|MSZoning_Tencode', 'LowQualFinSF|Foundation_Tencode', 'KitchenQual_Tencode|YrSold_Tencode', 'HeatingQC_Tencode|BsmtFinType1_Tencode', 'GarageYrBltBins_Tencode|LotConfig_Tencode', 'Heating_Tencode|BsmtFinSF2', 'ExterQual_Tencode|ScreenPorch', 'SaleType_Tencode|PavedDrive_Tencode', 'BldgType_Tencode|Electrical_Tencode', 'Id|LotArea', 'GarageYrBltBins_Tencode|LotFrontage', 'ScreenPorch|BldgType_Tencode', 'HouseStyle_Tencode|Utilities_Tencode', 'OverallQual_Tencode|BedroomAbvGr', 'YearBuilt_Tencode', 'Alley_Tencode|LotArea', 'BsmtCond_Tencode|HouseStyle_Tencode', 'HouseStyle_Tencode|BsmtUnfSF', 'BldgType_Tencode|FullBath', 'Neighborhood_Tencode|BsmtFinType2_Tencode', 'WoodDeckSF|MasVnrArea', 'BsmtQual_Tencode|Electrical_Tencode', 'MiscVal|EnclosedPorch', 'MoSold_Tencode|FireplaceQu_Tencode', 'BsmtQual_Tencode|Exterior2nd_Tencode', 'PoolArea|GarageArea', 'MSSubClass_Tencode|BsmtUnfSF', 'TotalBsmtSF|BedroomAbvGr', 'Exterior2nd_Tencode|BsmtFinType2_Tencode', 'GarageCond_Tencode|KitchenAbvGr', 'Fence_Tencode|GarageType_Tencode', 'YearBuilt_Tencode|GarageYrBlt', 'TotalBsmtSF|GarageCars', 'TotalBsmtSF|1stFlrSF', 'OpenPorchSF|CentralAir_Tencode', 'GarageYrBltBins_Tencode|RoofMatl_Tencode', 'Id|Foundation_Tencode', 'Foundation_Tencode|MSSubClass_Tencode', 'LotShape_Tencode|GarageQual_Tencode', 'YearRemodAdd_Tencode|RoofStyle_Tencode', 'ExterQual_Tencode|CentralAir_Tencode', 'LandSlope_Tencode|Utilities_Tencode', 'GarageYrBltBins_Tencode|BsmtUnfSF', 'Neighborhood_Tencode|WoodDeckSF', 'KitchenAbvGr|GarageArea', 'Alley_Tencode|FireplaceQu_Tencode', 'ExterQual_Tencode|MSZoning_Tencode', 'PoolArea|MasVnrArea', 'BsmtCond_Tencode|LowQualFinSF', 'GarageArea|OverallCond_Tencode', 'WoodDeckSF|GarageArea', 'GarageYrBlt|BsmtUnfSF', 'PoolQC_Tencode|GrLivArea', 'FireplaceQu_Tencode|BsmtFinType2_Tencode', 'Condition2_Tencode|HalfBath', 'BedroomAbvGr|LotFrontage', 'Functional_Tencode|3SsnPorch', 'HeatingQC_Tencode|OverallQual_Tencode', 'GarageCond_Tencode|3SsnPorch', 'HeatingQC_Tencode|LandSlope_Tencode', 'YearRemodAdd_Tencode|GarageCars', 'MoSold_Tencode|OverallQual_Tencode', 'TotRmsAbvGrd|GarageFinish_Tencode', 'Alley_Tencode|ScreenPorch', 'WoodDeckSF|Electrical_Tencode', 'ExterCond_Tencode|HalfBath', 'Foundation_Tencode|MasVnrArea', 'Fence_Tencode|Utilities_Tencode', '1stFlrSF|FireplaceQu_Tencode', 'BsmtFinSF1|OverallCond_Tencode', 'GarageCars|MasVnrArea', 'BsmtFinType2_Tencode|OverallCond_Tencode', 'ScreenPorch|MSZoning_Tencode', 'HeatingQC_Tencode|Fence_Tencode', 'HeatingQC_Tencode|KitchenAbvGr', 'BsmtQual_Tencode|1stFlrSF', 'Exterior1st_Tencode|GarageType_Tencode', 'LotConfig_Tencode|GarageCond_Tencode', 'YearBuilt_Tencode|RoofStyle_Tencode', 'MoSold_Tencode|BsmtFinSF1', 'GarageYrBlt|PoolQC_Tencode', 'KitchenAbvGr|Electrical_Tencode', 'YearBuilt_Tencode|Foundation_Tencode', 'ExterCond_Tencode|MasVnrArea', 'BsmtCond_Tencode|GarageType_Tencode', 'GarageFinish_Tencode|MiscFeature_Tencode', 'FullBath|BsmtFinSF2', 'ScreenPorch|MiscVal', 'Exterior2nd_Tencode|FullBath', 'WoodDeckSF|MiscVal', 'BsmtHalfBath|MiscVal', 'HeatingQC_Tencode|LotShape_Tencode', 'GarageFinish_Tencode', 'FullBath|BsmtFinType2_Tencode', 'TotalBsmtSF|GarageCond_Tencode', 'BsmtFinType2_Tencode|BsmtUnfSF', 'LotConfig_Tencode|FireplaceQu_Tencode', 'BsmtFinType1_Tencode|RoofStyle_Tencode', 'Street_Tencode|HalfBath', 'BsmtFullBath|CentralAir_Tencode', 'MoSold_Tencode|OverallCond_Tencode', 'GarageYrBlt|MiscFeature_Tencode', 'Condition2_Tencode|Electrical_Tencode', 'MSZoning_Tencode|LotArea', '3SsnPorch|BsmtUnfSF', 'RoofMatl_Tencode|CentralAir_Tencode', 'ExterCond_Tencode|GarageType_Tencode', 'Condition2_Tencode|MoSold_Tencode', 'PoolArea|OverallCond_Tencode', 'GarageFinish_Tencode|HouseStyle_Tencode', 'MoSold_Tencode|GarageArea', '1stFlrSF|GarageType_Tencode', 'ScreenPorch|LandSlope_Tencode', 'Id|GarageFinish_Tencode', 'OpenPorchSF|Electrical_Tencode', 'LotConfig_Tencode|CentralAir_Tencode', 'BsmtExposure_Tencode|BldgType_Tencode', 'Fence_Tencode|KitchenAbvGr', 'Street_Tencode', 'PavedDrive_Tencode|BsmtUnfSF', 'Foundation_Tencode|MSZoning_Tencode', '2ndFlrSF|CentralAir_Tencode', 'Condition2_Tencode|GarageCond_Tencode', 'MSZoning_Tencode|GarageQual_Tencode', 'TotRmsAbvGrd|MSZoning_Tencode', 'BsmtCond_Tencode|GarageFinish_Tencode', 'YearRemodAdd_Tencode|FullBath', 'OverallQual_Tencode|Street_Tencode', 'GarageYrBltBins_Tencode|YearRemodAdd_Tencode', 'WoodDeckSF|GarageQual_Tencode', 'Utilities_Tencode|3SsnPorch', 'LotShape_Tencode|Fireplaces', 'Foundation_Tencode|2ndFlrSF', 'BsmtFinSF1|2ndFlrSF', 'HeatingQC_Tencode|BldgType_Tencode', 'MasVnrType_Tencode|BsmtFinType2_Tencode', 'BsmtHalfBath|LotArea', 'OpenPorchSF|YrSold_Tencode', 'BsmtQual_Tencode|MiscFeature_Tencode', 'BsmtFinSF1|GarageCars', 'LandContour_Tencode|MSZoning_Tencode', 'BedroomAbvGr|OverallCond_Tencode', 'TotRmsAbvGrd|GrLivArea', 'BsmtFullBath|HalfBath', '2ndFlrSF|HalfBath', 'TotRmsAbvGrd|BldgType_Tencode', 'BsmtFullBath|GarageArea', 'Foundation_Tencode|RoofStyle_Tencode', 'Exterior2nd_Tencode|BsmtFinSF2', 'LowQualFinSF|BsmtFinType1_Tencode', 'SaleCondition_Tencode|Foundation_Tencode', 'BsmtFullBath|LandSlope_Tencode', 'MasVnrArea|OverallCond_Tencode', 'GarageYrBlt|Heating_Tencode', 'BsmtFinType1_Tencode|PoolQC_Tencode', 'ExterQual_Tencode|2ndFlrSF', 'MoSold_Tencode|Exterior1st_Tencode', 'TotalBsmtSF|LandContour_Tencode', 'MasVnrType_Tencode|Functional_Tencode', 'Fence_Tencode|1stFlrSF', 'PoolQC_Tencode|YearRemodAdd_Tencode', 'BsmtFinSF1|GarageQual_Tencode', 'ExterQual_Tencode|GarageCond_Tencode', 'ExterCond_Tencode|HouseStyle_Tencode', 'FullBath|EnclosedPorch', 'Exterior2nd_Tencode|MiscFeature_Tencode', 'Street_Tencode|YrSold_Tencode', 'MasVnrArea|GarageArea', 'Id|MoSold_Tencode', 'GarageCars|BsmtFinType2_Tencode', 'LandContour_Tencode|ExterCond_Tencode', 'BsmtExposure_Tencode|Condition1_Tencode', 'GarageQual_Tencode|Electrical_Tencode', 'GarageYrBlt|MasVnrArea', 'Id|GarageArea', '2ndFlrSF|OverallCond_Tencode', 'OpenPorchSF|FullBath', 'GarageQual_Tencode|Condition1_Tencode', 'ExterQual_Tencode|LandContour_Tencode', 'GarageCars|LotFrontage', 'ExterQual_Tencode|YearBuilt_Tencode', 'Heating_Tencode|GarageFinish_Tencode', 'GarageCond_Tencode|LotArea', 'GarageYrBltBins_Tencode|Utilities_Tencode', 'MoSold_Tencode|GrLivArea', 'LotShape_Tencode|Exterior2nd_Tencode', 'Id|OverallQual_Tencode', 'BsmtHalfBath|OverallQual_Tencode', 'Fireplaces|KitchenAbvGr', 'EnclosedPorch|BsmtUnfSF', 'LandSlope_Tencode|OverallCond_Tencode', 'MSSubClass_Tencode|YrSold_Tencode', 'GarageYrBlt|Fireplaces', 'Foundation_Tencode|GarageType_Tencode', 'EnclosedPorch|OverallCond_Tencode', 'TotalBsmtSF|LotShape_Tencode', 'BsmtFinType2_Tencode|BsmtFinSF2']\n",
      "\n",
      "Categorical = ['GarageCond', 'BsmtCond', 'MiscFeature', 'HeatingQC', 'HouseStyle', 'PoolQC', 'LotShape', 'MSZoning', 'CentralAir', 'GarageType', 'BsmtFinType2', 'BsmtFinType1', 'MasVnrType', 'Condition2', 'GarageFinish', 'Heating', 'LandSlope', 'LandContour', 'SaleCondition', 'Condition1', 'ExterCond', 'Foundation', 'GarageQual', 'Alley', 'BsmtExposure', 'ExterQual', 'PavedDrive', 'Neighborhood', 'RoofStyle', 'BldgType', 'Functional', 'SaleType', 'FireplaceQu', 'KitchenQual', 'Fence', 'Exterior1st', 'GarageYrBltBins', 'Electrical', 'RoofMatl', 'Utilities', 'LotConfig', 'Street', 'Exterior2nd', 'BsmtQual']\n"
     ]
    }
   ],
   "source": [
    "encoded_combined_nums, cats = get_type_lists(frame=train2)"
   ]
  },
  {
   "cell_type": "code",
   "execution_count": 58,
   "metadata": {
    "collapsed": false
   },
   "outputs": [
    {
     "data": {
      "text/plain": [
       "(1001, 3373)"
      ]
     },
     "execution_count": 58,
     "metadata": {},
     "output_type": "execute_result"
    }
   ],
   "source": [
    "train2.shape"
   ]
  },
  {
   "cell_type": "code",
   "execution_count": 59,
   "metadata": {
    "collapsed": false
   },
   "outputs": [
    {
     "name": "stdout",
     "output_type": "stream",
     "text": [
      "False\n",
      "(1001, 133)\n",
      "False\n",
      "(1459, 133)\n"
     ]
    }
   ],
   "source": [
    "# check number of created variables is correct\n",
    "# 1 id column, 290)) combined variables\n",
    "print(train.shape == (1001, sum(range(1, 290), (290 + 43 + 1 + 1))))\n",
    "print(train.shape)\n",
    "print(test.shape == (1459, sum(range(1, 290), (290 + 43 + 1 + 1))))\n",
    "print(test.shape)"
   ]
  }
 ],
 "metadata": {
  "kernelspec": {
   "display_name": "Python [conda root]",
   "language": "python",
   "name": "conda-root-py"
  },
  "language_info": {
   "codemirror_mode": {
    "name": "ipython",
    "version": 3
   },
   "file_extension": ".py",
   "mimetype": "text/x-python",
   "name": "python",
   "nbconvert_exporter": "python",
   "pygments_lexer": "ipython3",
   "version": "3.5.2"
  }
 },
 "nbformat": 4,
 "nbformat_minor": 1
}
