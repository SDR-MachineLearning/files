{
 "cells": [
  {
   "cell_type": "markdown",
   "metadata": {},
   "source": [
    "A. Import Modules"
   ]
  },
  {
   "cell_type": "code",
   "execution_count": 2,
   "metadata": {
    "collapsed": false
   },
   "outputs": [
    {
     "name": "stdout",
     "output_type": "stream",
     "text": [
      "Checking whether there is an H2O instance running at http://localhost:54321. connected.\n"
     ]
    },
    {
     "data": {
      "text/html": [
       "<div style=\"overflow:auto\"><table style=\"width:50%\"><tr><td>H2O cluster uptime:</td>\n",
       "<td>1 day 5 hours 55 mins</td></tr>\n",
       "<tr><td>H2O cluster version:</td>\n",
       "<td>3.10.5.2</td></tr>\n",
       "<tr><td>H2O cluster version age:</td>\n",
       "<td>6 days </td></tr>\n",
       "<tr><td>H2O cluster name:</td>\n",
       "<td>H2O_from_python_Soomin_xyvaej</td></tr>\n",
       "<tr><td>H2O cluster total nodes:</td>\n",
       "<td>1</td></tr>\n",
       "<tr><td>H2O cluster free memory:</td>\n",
       "<td>737 Mb</td></tr>\n",
       "<tr><td>H2O cluster total cores:</td>\n",
       "<td>8</td></tr>\n",
       "<tr><td>H2O cluster allowed cores:</td>\n",
       "<td>8</td></tr>\n",
       "<tr><td>H2O cluster status:</td>\n",
       "<td>locked, healthy</td></tr>\n",
       "<tr><td>H2O connection url:</td>\n",
       "<td>http://localhost:54321</td></tr>\n",
       "<tr><td>H2O connection proxy:</td>\n",
       "<td>None</td></tr>\n",
       "<tr><td>H2O internal security:</td>\n",
       "<td>False</td></tr>\n",
       "<tr><td>Python version:</td>\n",
       "<td>3.5.2 final</td></tr></table></div>"
      ],
      "text/plain": [
       "--------------------------  -----------------------------\n",
       "H2O cluster uptime:         1 day 5 hours 55 mins\n",
       "H2O cluster version:        3.10.5.2\n",
       "H2O cluster version age:    6 days\n",
       "H2O cluster name:           H2O_from_python_Soomin_xyvaej\n",
       "H2O cluster total nodes:    1\n",
       "H2O cluster free memory:    737 Mb\n",
       "H2O cluster total cores:    8\n",
       "H2O cluster allowed cores:  8\n",
       "H2O cluster status:         locked, healthy\n",
       "H2O connection url:         http://localhost:54321\n",
       "H2O connection proxy:\n",
       "H2O internal security:      False\n",
       "Python version:             3.5.2 final\n",
       "--------------------------  -----------------------------"
      ]
     },
     "metadata": {},
     "output_type": "display_data"
    }
   ],
   "source": [
    "import h2o\n",
    "from h2o.estimators.glrm import H2OGeneralizedLowRankEstimator\n",
    "from h2o.estimators.gbm import H2OGradientBoostingEstimator \n",
    "from h2o.estimators.random_forest import H2ORandomForestEstimator\n",
    "from h2o.grid.grid_search import H2OGridSearch \n",
    "from h2o.estimators.xgboost import H2OXGBoostEstimator\n",
    "from h2o.estimators.stackedensemble import H2OStackedEnsembleEstimator\n",
    "#import xgboost as xgb\n",
    "h2o.init() # give h2o as much memory as possible\n",
    "h2o.no_progress() # turn off h2o progress bars\n",
    "\n",
    "import numpy as np\n",
    "import pandas as pd\n",
    "import matplotlib.pyplot as plt"
   ]
  },
  {
   "cell_type": "markdown",
   "metadata": {
    "collapsed": true
   },
   "source": [
    "B. Import Data & Create Sales Price Dummy Column in Test Dataset"
   ]
  },
  {
   "cell_type": "code",
   "execution_count": 7,
   "metadata": {
    "collapsed": false
   },
   "outputs": [
    {
     "name": "stdout",
     "output_type": "stream",
     "text": [
      "(1460, 81)\n",
      "(1459, 81)\n"
     ]
    }
   ],
   "source": [
    "train = h2o.import_file('train.csv')\n",
    "test = h2o.import_file('test.csv')\n",
    "\n",
    "dummy_col = np.random.rand(test.shape[0])\n",
    "test = test.cbind(h2o.H2OFrame(dummy_col))\n",
    "cols = test.columns\n",
    "cols[-1] = 'SalePrice'\n",
    "test.columns = cols\n",
    "print(train.shape)\n",
    "print(test.shape)"
   ]
  },
  {
   "cell_type": "markdown",
   "metadata": {
    "collapsed": true
   },
   "source": [
    "C. Determine Data Types"
   ]
  },
  {
   "cell_type": "code",
   "execution_count": 8,
   "metadata": {
    "collapsed": true
   },
   "outputs": [],
   "source": [
    "def get_type_lists(frame=train, rejects=['Id', 'SalePrice']):\n",
    "\n",
    "    \"\"\"Creates lists of numeric and categorical variables.\n",
    "    :param frame: The frame from which to determine types.\n",
    "    :param rejects: Variable names not to be included in returned lists.\n",
    "    :return: Tuple of lists for numeric and categorical variables in the frame.\n",
    "    \"\"\"\n",
    "    \n",
    "    nums, cats = [], []\n",
    "    for key, val in frame.types.items():\n",
    "        if key not in rejects:\n",
    "            if val == 'enum':\n",
    "                cats.append(key)\n",
    "            else: \n",
    "                nums.append(key)\n",
    "                \n",
    "    print('Numeric =', nums)                \n",
    "    print()\n",
    "    print('Categorical =', cats)\n",
    "    \n",
    "    return nums, cats"
   ]
  },
  {
   "cell_type": "code",
   "execution_count": 9,
   "metadata": {
    "collapsed": false,
    "scrolled": true
   },
   "outputs": [
    {
     "name": "stdout",
     "output_type": "stream",
     "text": [
      "Numeric = ['LowQualFinSF', 'BedroomAbvGr', 'OverallCond', 'ScreenPorch', 'YearBuilt', 'EnclosedPorch', 'BsmtFinSF1', 'KitchenAbvGr', 'MoSold', 'BsmtHalfBath', 'OverallQual', 'OpenPorchSF', 'BsmtFinSF2', 'GrLivArea', 'FullBath', '2ndFlrSF', 'GarageCars', 'BsmtUnfSF', 'LotFrontage', 'TotalBsmtSF', 'YrSold', 'MSSubClass', 'PoolArea', 'WoodDeckSF', 'TotRmsAbvGrd', 'HalfBath', '1stFlrSF', 'GarageArea', 'MiscVal', 'Fireplaces', 'LotArea', 'BsmtFullBath', 'GarageYrBlt', 'YearRemodAdd', 'MasVnrArea', '3SsnPorch']\n",
      "\n",
      "Categorical = ['GarageQual', 'GarageFinish', 'HouseStyle', 'Utilities', 'Exterior2nd', 'Fence', 'Alley', 'ExterCond', 'BsmtExposure', 'LotShape', 'GarageCond', 'CentralAir', 'LandSlope', 'SaleCondition', 'BsmtFinType2', 'PavedDrive', 'LotConfig', 'FireplaceQu', 'Street', 'Functional', 'BsmtCond', 'PoolQC', 'Neighborhood', 'BldgType', 'ExterQual', 'Exterior1st', 'BsmtQual', 'MSZoning', 'Condition1', 'RoofStyle', 'BsmtFinType1', 'RoofMatl', 'GarageType', 'MiscFeature', 'Foundation', 'LandContour', 'SaleType', 'Condition2', 'Electrical', 'KitchenQual', 'HeatingQC', 'Heating', 'MasVnrType']\n"
     ]
    }
   ],
   "source": [
    "original_nums, original_cats = get_type_lists()"
   ]
  },
  {
   "cell_type": "code",
   "execution_count": 10,
   "metadata": {
    "collapsed": false
   },
   "outputs": [
    {
     "name": "stdout",
     "output_type": "stream",
     "text": [
      "(1001, 81)\n",
      "(459, 81)\n"
     ]
    }
   ],
   "source": [
    "train, valid = train.split_frame([0.7], seed=12345)\n",
    "print(train.shape)\n",
    "print(valid.shape)"
   ]
  },
  {
   "cell_type": "markdown",
   "metadata": {},
   "source": [
    "D. Impute Missing Values and Feature Engineer Categorical Variables"
   ]
  },
  {
   "cell_type": "code",
   "execution_count": 11,
   "metadata": {
    "collapsed": false
   },
   "outputs": [
    {
     "data": {
      "text/plain": [
       "Id               False\n",
       "MSSubClass       False\n",
       "MSZoning         False\n",
       "LotFrontage       True\n",
       "LotArea          False\n",
       "Street           False\n",
       "Alley             True\n",
       "LotShape         False\n",
       "LandContour      False\n",
       "Utilities        False\n",
       "LotConfig        False\n",
       "LandSlope        False\n",
       "Neighborhood     False\n",
       "Condition1       False\n",
       "Condition2       False\n",
       "BldgType         False\n",
       "HouseStyle       False\n",
       "OverallQual      False\n",
       "OverallCond      False\n",
       "YearBuilt        False\n",
       "YearRemodAdd     False\n",
       "RoofStyle        False\n",
       "RoofMatl         False\n",
       "Exterior1st      False\n",
       "Exterior2nd      False\n",
       "MasVnrType        True\n",
       "MasVnrArea        True\n",
       "ExterQual        False\n",
       "ExterCond        False\n",
       "Foundation       False\n",
       "                 ...  \n",
       "BedroomAbvGr     False\n",
       "KitchenAbvGr     False\n",
       "KitchenQual      False\n",
       "TotRmsAbvGrd     False\n",
       "Functional       False\n",
       "Fireplaces       False\n",
       "FireplaceQu       True\n",
       "GarageType        True\n",
       "GarageYrBlt       True\n",
       "GarageFinish      True\n",
       "GarageCars       False\n",
       "GarageArea       False\n",
       "GarageQual        True\n",
       "GarageCond        True\n",
       "PavedDrive       False\n",
       "WoodDeckSF       False\n",
       "OpenPorchSF      False\n",
       "EnclosedPorch    False\n",
       "3SsnPorch        False\n",
       "ScreenPorch      False\n",
       "PoolArea         False\n",
       "PoolQC            True\n",
       "Fence             True\n",
       "MiscFeature       True\n",
       "MiscVal          False\n",
       "MoSold           False\n",
       "YrSold           False\n",
       "SaleType         False\n",
       "SaleCondition    False\n",
       "SalePrice        False\n",
       "dtype: bool"
      ]
     },
     "execution_count": 11,
     "metadata": {},
     "output_type": "execute_result"
    }
   ],
   "source": [
    "pandas_train = train.as_data_frame(use_pandas=True) #Convert to Pandas frame\n",
    "pandas_train.isnull().any() #Check for missing values (TRUE = missing)"
   ]
  },
  {
   "cell_type": "code",
   "execution_count": 14,
   "metadata": {
    "collapsed": false
   },
   "outputs": [
    {
     "data": {
      "text/plain": [
       "0        NaN\n",
       "1        NaN\n",
       "2        NaN\n",
       "3        NaN\n",
       "4        NaN\n",
       "5        NaN\n",
       "6        NaN\n",
       "7        NaN\n",
       "8        NaN\n",
       "9        NaN\n",
       "10       NaN\n",
       "11       NaN\n",
       "12       NaN\n",
       "13       NaN\n",
       "14       NaN\n",
       "15       NaN\n",
       "16       NaN\n",
       "17       NaN\n",
       "18       NaN\n",
       "19       NaN\n",
       "20       NaN\n",
       "21       NaN\n",
       "22      Pave\n",
       "23       NaN\n",
       "24       NaN\n",
       "25       NaN\n",
       "26       NaN\n",
       "27       NaN\n",
       "28       NaN\n",
       "29       NaN\n",
       "        ... \n",
       "971      NaN\n",
       "972      NaN\n",
       "973      NaN\n",
       "974      NaN\n",
       "975      NaN\n",
       "976      NaN\n",
       "977     Grvl\n",
       "978      NaN\n",
       "979      NaN\n",
       "980      NaN\n",
       "981      NaN\n",
       "982     Grvl\n",
       "983      NaN\n",
       "984      NaN\n",
       "985      NaN\n",
       "986      NaN\n",
       "987      NaN\n",
       "988      NaN\n",
       "989      NaN\n",
       "990      NaN\n",
       "991      NaN\n",
       "992      NaN\n",
       "993      NaN\n",
       "994      NaN\n",
       "995      NaN\n",
       "996      NaN\n",
       "997      NaN\n",
       "998      NaN\n",
       "999      NaN\n",
       "1000     NaN\n",
       "Name: Alley, dtype: object"
      ]
     },
     "execution_count": 14,
     "metadata": {},
     "output_type": "execute_result"
    }
   ],
   "source": [
    "pandas_train[\"Alley\"]"
   ]
  },
  {
   "cell_type": "code",
   "execution_count": 10,
   "metadata": {
    "collapsed": true
   },
   "outputs": [],
   "source": [
    "train_df= pd.DataFrame()\n",
    "\n",
    "quality_dict = {None: 0, \"Grvl\": 1, \"Pave\": 2}\n",
    "\n",
    "train_df[\"Alley\"] = pandas_train[\"Alley\"].map(quality_dict).astype(int)"
   ]
  },
  {
   "cell_type": "code",
   "execution_count": 11,
   "metadata": {
    "collapsed": true
   },
   "outputs": [],
   "source": [
    "quality_dict = {None: 0, \"Fa\": 1, \"Gd\": 2, \"Ex\": 3}\n",
    "\n",
    "train_df[\"PoolQC\"] = pandas_train[\"PoolQC\"].map(quality_dict).astype(int)"
   ]
  },
  {
   "cell_type": "code",
   "execution_count": 12,
   "metadata": {
    "collapsed": true
   },
   "outputs": [],
   "source": [
    "quality_dict = {None: 0, \"Po\": 1, \"Fa\": 2, \"TA\": 3, \"Gd\": 4, \"Ex\": 5}\n",
    "\n",
    "train_df[\"ExterQual\"] = pandas_train[\"ExterQual\"].map(quality_dict).astype(int)\n",
    "train_df[\"ExterCond\"] = pandas_train[\"ExterCond\"].map(quality_dict).astype(int)\n",
    "train_df[\"BsmtQual\"] = pandas_train[\"BsmtQual\"].map(quality_dict).astype(int)\n",
    "train_df[\"BsmtCond\"] = pandas_train[\"BsmtCond\"].map(quality_dict).astype(int)\n",
    "train_df[\"HeatingQC\"] = pandas_train[\"HeatingQC\"].map(quality_dict).astype(int)\n",
    "train_df[\"KitchenQual\"] = pandas_train[\"KitchenQual\"].map(quality_dict).astype(int)\n",
    "train_df[\"FireplaceQu\"] = pandas_train[\"FireplaceQu\"].map(quality_dict).astype(int)\n",
    "train_df[\"GarageQual\"] = pandas_train[\"GarageQual\"].map(quality_dict).astype(int)\n",
    "train_df[\"GarageCond\"] = pandas_train[\"GarageCond\"].map(quality_dict).astype(int)"
   ]
  },
  {
   "cell_type": "code",
   "execution_count": 20,
   "metadata": {
    "collapsed": true
   },
   "outputs": [],
   "source": [
    "train_df[\"LotFrontage\"] = pandas_train[\"LotFrontage\"].fillna(0, inplace=True)\n",
    "train_df[\"Alley\"] = pandas_train[\"Alley\"].fillna(0, inplace=True)\n",
    "train_df[\"FireplaceQu\"] = pandas_train[\"FireplaceQu\"].fillna(0, inplace=True)\n",
    "train_df[\"BsmtExposure\"] = pandas_train[\"BsmtExposure\"].fillna(0, inplace=True)\n",
    "train_df[\"BsmtFinType1\"] = pandas_train[\"BsmtFinType1\"].fillna(0, inplace=True)\n",
    "train_df[\"BsmtFinType2\"] = pandas_train[\"BsmtFinType2\"].fillna(0, inplace=True)\n",
    "train_df[\"Electrical\"] = pandas_train[\"Electrical\"].fillna(0, inplace=True)\n",
    "train_df[\"Fence\"] = pandas_train[\"Fence\"].fillna(0, inplace=True)\n",
    "train_df[\"GarageQual\"] = pandas_train[\"GarageQual\"].fillna(0, inplace=True)\n",
    "train_df[\"GarageCond\"] = pandas_train[\"GarageCond\"].fillna(0, inplace=True)\n",
    "train_df[\"GarageType\"] = pandas_train[\"GarageType\"].fillna(0, inplace=True)\n",
    "train_df[\"GarageFinish\"] = pandas_train[\"GarageFinish\"].fillna(0, inplace=True)\n",
    "train_df[\"GarageYrBlt\"] = pandas_train[\"GarageYrBlt\"].fillna(0, inplace=True)\n",
    "train_df[\"MasVnrType\"] = pandas_train[\"MasVnrType\"].fillna(0, inplace=True)\n",
    "train_df[\"MasVnrArea\"] = pandas_train[\"MasVnrArea\"].fillna(0, inplace=True)\n",
    "train_df[\"MiscFeature\"] = pandas_train[\"MiscFeature\"].fillna(0, inplace=True)\n",
    "train_df[\"PoolQC\"] = pandas_train[\"PoolQC\"].fillna(0, inplace=True)"
   ]
  },
  {
   "cell_type": "code",
   "execution_count": 14,
   "metadata": {
    "collapsed": true
   },
   "outputs": [],
   "source": [
    "train_df[\"CentralAir\"] = (pandas_train[\"CentralAir\"] == \"Y\") * 1.0"
   ]
  },
  {
   "cell_type": "code",
   "execution_count": 21,
   "metadata": {
    "collapsed": false
   },
   "outputs": [
    {
     "data": {
      "text/plain": [
       "Id               False\n",
       "MSSubClass       False\n",
       "MSZoning         False\n",
       "LotFrontage      False\n",
       "LotArea          False\n",
       "Street           False\n",
       "Alley            False\n",
       "LotShape         False\n",
       "LandContour      False\n",
       "Utilities        False\n",
       "LotConfig        False\n",
       "LandSlope        False\n",
       "Neighborhood     False\n",
       "Condition1       False\n",
       "Condition2       False\n",
       "BldgType         False\n",
       "HouseStyle       False\n",
       "OverallQual      False\n",
       "OverallCond      False\n",
       "YearBuilt        False\n",
       "YearRemodAdd     False\n",
       "RoofStyle        False\n",
       "RoofMatl         False\n",
       "Exterior1st      False\n",
       "Exterior2nd      False\n",
       "MasVnrType       False\n",
       "MasVnrArea       False\n",
       "ExterQual        False\n",
       "ExterCond        False\n",
       "Foundation       False\n",
       "                 ...  \n",
       "BedroomAbvGr     False\n",
       "KitchenAbvGr     False\n",
       "KitchenQual      False\n",
       "TotRmsAbvGrd     False\n",
       "Functional       False\n",
       "Fireplaces       False\n",
       "FireplaceQu      False\n",
       "GarageType       False\n",
       "GarageYrBlt      False\n",
       "GarageFinish     False\n",
       "GarageCars       False\n",
       "GarageArea       False\n",
       "GarageQual       False\n",
       "GarageCond       False\n",
       "PavedDrive       False\n",
       "WoodDeckSF       False\n",
       "OpenPorchSF      False\n",
       "EnclosedPorch    False\n",
       "3SsnPorch        False\n",
       "ScreenPorch      False\n",
       "PoolArea         False\n",
       "PoolQC           False\n",
       "Fence            False\n",
       "MiscFeature      False\n",
       "MiscVal          False\n",
       "MoSold           False\n",
       "YrSold           False\n",
       "SaleType         False\n",
       "SaleCondition    False\n",
       "SalePrice        False\n",
       "Length: 81, dtype: bool"
      ]
     },
     "execution_count": 21,
     "metadata": {},
     "output_type": "execute_result"
    }
   ],
   "source": [
    "pandas_train.isnull().any() #Check for missing value"
   ]
  },
  {
   "cell_type": "code",
   "execution_count": 32,
   "metadata": {
    "collapsed": true
   },
   "outputs": [],
   "source": [
    "train_new = h2o.H2OFrame(pandas_train)"
   ]
  },
  {
   "cell_type": "markdown",
   "metadata": {},
   "source": [
    "E. Impute Missing Values for Numeric Variables via Generalized Low Rank Model"
   ]
  },
  {
   "cell_type": "code",
   "execution_count": 35,
   "metadata": {
    "collapsed": true
   },
   "outputs": [],
   "source": [
    "def glrm_num_impute(role, frame):\n",
    "\n",
    "    \"\"\" Helper function for imputing numeric variables using GLRM.\n",
    "    \n",
    "    :param role: Role of frame to be imputed.\n",
    "    :param frame: H2OFrame to be imputed.\n",
    "    :return: H2OFrame of imputed numeric features.\n",
    "    \n",
    "    \"\"\"\n",
    "    \n",
    "    # count missing values in training data numeric columns\n",
    "    print(role + ' missing:\\n', [cnt for cnt in frame.nacnt() if cnt != 0.0])\n",
    "\n",
    "    # initialize GLRM\n",
    "    matrix_complete_glrm = H2OGeneralizedLowRankEstimator(\n",
    "        k=10,                    # create 10 features \n",
    "        transform='STANDARDIZE', # <- seems very important\n",
    "        gamma_x=0.001,           # regularization on values in X\n",
    "        gamma_y=0.05)            # regularization on values in Y\n",
    "\n",
    "    # train GLRM\n",
    "    matrix_complete_glrm.train(training_frame=frame, x=original_nums)\n",
    "\n",
    "    # plot iteration history to ensure convergence\n",
    "    matrix_complete_glrm.score_history().plot(x='iteration', y='objective', title='GLRM Score History')\n",
    "\n",
    "    # impute numeric inputs by multiply the calculated xi and yj for the missing values in train\n",
    "    num_impute = matrix_complete_glrm.predict(frame)\n",
    "\n",
    "    # count missing values in imputed set\n",
    "    print('imputed ' + role + ' missing:\\n', [cnt for cnt in num_impute.nacnt() if cnt != 0.0])\n",
    "    \n",
    "    return num_impute"
   ]
  },
  {
   "cell_type": "code",
   "execution_count": 36,
   "metadata": {
    "collapsed": false
   },
   "outputs": [
    {
     "name": "stdout",
     "output_type": "stream",
     "text": [
      "train_new missing:\n",
      " [942.0, 7.0, 26.0, 25.0, 26.0, 1.0, 466.0, 48.0, 48.0, 48.0, 48.0, 995.0, 812.0, 967.0]\n",
      "imputed train_new missing:\n",
      " []\n"
     ]
    }
   ],
   "source": [
    "train_new_nums = glrm_num_impute('train_new', train_new)"
   ]
  },
  {
   "cell_type": "code",
   "execution_count": 9,
   "metadata": {
    "collapsed": false
   },
   "outputs": [
    {
     "name": "stdout",
     "output_type": "stream",
     "text": [
      "validation missing:\n",
      " [80.0, 1.0, 33.0]\n",
      "imputed validation missing:\n",
      " []\n"
     ]
    }
   ],
   "source": [
    "#valid_nums_new = glrm_num_impute('validation', valid)"
   ]
  },
  {
   "cell_type": "code",
   "execution_count": 10,
   "metadata": {
    "collapsed": false
   },
   "outputs": [
    {
     "name": "stdout",
     "output_type": "stream",
     "text": [
      "test missing:\n",
      " [227.0, 15.0, 1.0, 1.0, 1.0, 1.0, 2.0, 2.0, 78.0, 1.0, 1.0]\n",
      "imputed test missing:\n",
      " []\n"
     ]
    }
   ],
   "source": [
    "#test_nums_new = glrm_num_impute('test', test)"
   ]
  },
  {
   "cell_type": "code",
   "execution_count": 37,
   "metadata": {
    "collapsed": false
   },
   "outputs": [
    {
     "name": "stdout",
     "output_type": "stream",
     "text": [
      "(1001, 36)\n"
     ]
    }
   ],
   "source": [
    "print(train_new_nums.shape)\n",
    "#print(valid_nums_new.shape)\n",
    "#print(test_nums_new.shape)"
   ]
  },
  {
   "cell_type": "code",
   "execution_count": 29,
   "metadata": {
    "collapsed": false
   },
   "outputs": [
    {
     "data": {
      "text/plain": [
       "reconstr_MSSubClass       False\n",
       "reconstr_LotFrontage      False\n",
       "reconstr_LotArea          False\n",
       "reconstr_OverallQual      False\n",
       "reconstr_OverallCond      False\n",
       "reconstr_YearBuilt        False\n",
       "reconstr_YearRemodAdd     False\n",
       "reconstr_MasVnrArea       False\n",
       "reconstr_BsmtFinSF1       False\n",
       "reconstr_BsmtFinSF2       False\n",
       "reconstr_BsmtUnfSF        False\n",
       "reconstr_TotalBsmtSF      False\n",
       "reconstr_1stFlrSF         False\n",
       "reconstr_2ndFlrSF         False\n",
       "reconstr_LowQualFinSF     False\n",
       "reconstr_GrLivArea        False\n",
       "reconstr_BsmtFullBath     False\n",
       "reconstr_BsmtHalfBath     False\n",
       "reconstr_FullBath         False\n",
       "reconstr_HalfBath         False\n",
       "reconstr_BedroomAbvGr     False\n",
       "reconstr_KitchenAbvGr     False\n",
       "reconstr_TotRmsAbvGrd     False\n",
       "reconstr_Fireplaces       False\n",
       "reconstr_GarageYrBlt      False\n",
       "reconstr_GarageCars       False\n",
       "reconstr_GarageArea       False\n",
       "reconstr_WoodDeckSF       False\n",
       "reconstr_OpenPorchSF      False\n",
       "reconstr_EnclosedPorch    False\n",
       "reconstr_3SsnPorch        False\n",
       "reconstr_ScreenPorch      False\n",
       "reconstr_PoolArea         False\n",
       "reconstr_MiscVal          False\n",
       "reconstr_MoSold           False\n",
       "reconstr_YrSold           False\n",
       "dtype: bool"
      ]
     },
     "execution_count": 29,
     "metadata": {},
     "output_type": "execute_result"
    }
   ],
   "source": [
    "pandas_train_new_nums = train_new_nums.as_data_frame(use_pandas=True)\n",
    "pandas_train_new_nums.isnull().any()"
   ]
  },
  {
   "cell_type": "code",
   "execution_count": 11,
   "metadata": {
    "collapsed": true
   },
   "outputs": [],
   "source": [
    "# def glrm_cat_embed(frame):\n",
    "    \n",
    "    \"\"\" Helper function for embedding caetgorical variables using GLRM.\n",
    "    \n",
    "    :param frame: H2OFrame to be embedded.\n",
    "    :return: H2OFrame of embedded categorical features.\n",
    "    \n",
    "    \"\"\"\n",
    "    \n",
    "    # initialize GLRM\n",
    "    #cat_embed_glrm = H2OGeneralizedLowRankEstimator(\n",
    "        #k=50,\n",
    "        #transform='STANDARDIZE',\n",
    "        #loss='Quadratic',\n",
    "        #regularization_x='Quadratic',\n",
    "        #regularization_y='L1',\n",
    "        #gamma_x=0.25,\n",
    "        #gamma_y=0.5)\n",
    "\n",
    "    # train GLRM\n",
    "    #cat_embed_glrm.train(training_frame=frame, x=cats)\n",
    "\n",
    "    # plot iteration history to ensure convergence\n",
    "    #cat_embed_glrm.score_history().plot(x='iteration', y='objective', title='GLRM Score History')\n",
    "\n",
    "    # extracted embedded features\n",
    "    #cat_embed = h2o.get_frame(cat_embed_glrm._model_json['output']['representation_name'])\n",
    "    \n",
    "    #return cat_embed"
   ]
  },
  {
   "cell_type": "code",
   "execution_count": 12,
   "metadata": {
    "collapsed": true
   },
   "outputs": [],
   "source": [
    "#train_cat_embed = glrm_cat_embed(train)"
   ]
  },
  {
   "cell_type": "code",
   "execution_count": 13,
   "metadata": {
    "collapsed": true
   },
   "outputs": [],
   "source": [
    "#valid_cat_embed = glrm_cat_embed(valid)"
   ]
  },
  {
   "cell_type": "code",
   "execution_count": 14,
   "metadata": {
    "collapsed": true
   },
   "outputs": [],
   "source": [
    "#test_cat_embed = glrm_cat_embed(test)"
   ]
  },
  {
   "cell_type": "markdown",
   "metadata": {},
   "source": [
    "F. Combine Feature-Engineered Categorical Variables and Imputed Numeric Variables"
   ]
  },
  {
   "cell_type": "code",
   "execution_count": 38,
   "metadata": {
    "collapsed": true
   },
   "outputs": [],
   "source": [
    "#def get_type_lists(frame=train_new, rejects=['Id', 'SalePrice']):\n",
    "\n",
    "    \"\"\"Creates lists of numeric and categorical variables.\n",
    "    :param frame: The frame from which to determine types.\n",
    "    :param rejects: Variable names not to be included in returned lists.\n",
    "    :return: Tuple of lists for numeric and categorical variables in the frame.\n",
    "    \"\"\"\n",
    "    \n",
    "    #nums, cats = [], []\n",
    "    #for key, val in frame.types.items():\n",
    "        #if key not in rejects:\n",
    "            #if val == 'enum':\n",
    "                #cats.append(key)\n",
    "            #else: \n",
    "                #nums.append(key)\n",
    "                \n",
    "    #print('Numeric =', nums)                \n",
    "    #print()\n",
    "    #print('Categorical =', cats)\n",
    "    \n",
    "    #return nums, cats"
   ]
  },
  {
   "cell_type": "code",
   "execution_count": 44,
   "metadata": {
    "collapsed": true
   },
   "outputs": [],
   "source": [
    "train_newer = train[['Id', 'SalePrice']].cbind(train_new)\n",
    "#imputed_embedded_valid = valid[['Id', 'SalePrice']].cbind(valid_num_impute).cbind(valid_cat_embed)\n",
    "#imputed_embedded_test = test[['Id', 'SalePrice']].cbind(test_num_impute).cbind(test_cat_embed)"
   ]
  },
  {
   "cell_type": "code",
   "execution_count": 45,
   "metadata": {
    "collapsed": false
   },
   "outputs": [
    {
     "name": "stdout",
     "output_type": "stream",
     "text": [
      "(1001, 81)\n"
     ]
    }
   ],
   "source": [
    "print(train_new.shape)\n",
    "#print(imputed_embedded_valid.shape)\n",
    "#print(imputed_embedded_test.shape)"
   ]
  },
  {
   "cell_type": "code",
   "execution_count": 17,
   "metadata": {
    "collapsed": true
   },
   "outputs": [],
   "source": [
    "#def target_encoder(training_frame, test_frame, x, y, lambda_=0.15, threshold=150, test=False):\n",
    "\n",
    "    \"\"\" Applies simple target encoding to categorical variables.\n",
    "\n",
    "    :param training_frame: Training frame which to create target means and to be encoded.\n",
    "    :param test_frame: Test frame to be encoded using information from training frame.\n",
    "    :param x: Name of input variable to be encoded.\n",
    "    :param y: Name of target variable to use for encoding.\n",
    "    :param lambda_: Balance between level mean and overall mean for small groups.\n",
    "    :param threshold: Number below which a level is considered small enough to be shrunken.\n",
    "    :param test: Whether or not to print the row_val_dict for testing purposes.\n",
    "    :return: Tuple of encoded variable from train and test set as H2OFrames.\n",
    "\n",
    "    \"\"\"\n",
    "\n",
    "    # convert to pandas\n",
    "    #trdf = training_frame.as_data_frame().loc[:, [x,y]] # df\n",
    "    #tss = test_frame.as_data_frame().loc[:, x]          # series\n",
    "\n",
    "\n",
    "    # create dictionary of level:encode val\n",
    "\n",
    "    #encode_name = x + '_Tencode'\n",
    "    #overall_mean = trdf[y].mean()\n",
    "    #row_val_dict = {}\n",
    "\n",
    "    #for level in trdf[x].unique():\n",
    "        #level_df = trdf[trdf[x] == level][y]\n",
    "        #level_n = level_df.shape[0]\n",
    "        #level_mean = level_df.mean()\n",
    "        #if level_n >= threshold:\n",
    "            #row_val_dict[level] = level_mean\n",
    "        #else:\n",
    "            #row_val_dict[level] = ((1 - lambda_) * level_mean) +\\\n",
    "                                  #(lambda_ * overall_mean)\n",
    "\n",
    "    #row_val_dict[np.nan] = overall_mean # handle missing values\n",
    "\n",
    "    #if test:\n",
    "        #print(row_val_dict)\n",
    "\n",
    "    # apply the transform to training data\n",
    "    #trdf[encode_name] = trdf[x].apply(lambda i: row_val_dict[i])\n",
    "\n",
    "    # apply the transform to test data\n",
    "    #tsdf = pd.DataFrame(columns=[x, encode_name])\n",
    "    #tsdf[x] = tss\n",
    "    #tsdf.loc[:, encode_name] = overall_mean # handle previously unseen values\n",
    "    # handle values that are seen in tsdf but not row_val_dict\n",
    "    #for i, col_i in enumerate(tsdf[x]):\n",
    "        #try:\n",
    "            #row_val_dict[col_i]\n",
    "        #except:\n",
    "            # a value that appeared in tsdf isn't in the row_val_dict so just\n",
    "            # make it the overall_mean\n",
    "            #row_val_dict[col_i] = overall_mean\n",
    "    #tsdf[encode_name] = tsdf[x].apply(lambda i: row_val_dict[i])\n",
    "\n",
    "\n",
    "    # convert back to H2O\n",
    "\n",
    "    #trdf = h2o.H2OFrame(trdf[encode_name].as_matrix())\n",
    "    #trdf.columns = [encode_name]\n",
    "\n",
    "    #tsdf = h2o.H2OFrame(tsdf[encode_name].as_matrix())\n",
    "    #tsdf.columns = [encode_name]\n",
    "\n",
    "    #return (trdf, tsdf)"
   ]
  },
  {
   "cell_type": "code",
   "execution_count": 18,
   "metadata": {
    "collapsed": false
   },
   "outputs": [
    {
     "name": "stdout",
     "output_type": "stream",
     "text": [
      "Encoding: MSZoning (1/43) ...\n",
      "Encoding: Street (2/43) ...\n",
      "Encoding: Alley (3/43) ...\n",
      "Encoding: LotShape (4/43) ...\n",
      "Encoding: LandContour (5/43) ...\n",
      "Encoding: Utilities (6/43) ...\n",
      "Encoding: LotConfig (7/43) ...\n",
      "Encoding: LandSlope (8/43) ...\n",
      "Encoding: Neighborhood (9/43) ...\n",
      "Encoding: Condition1 (10/43) ...\n",
      "Encoding: Condition2 (11/43) ...\n",
      "Encoding: BldgType (12/43) ...\n",
      "Encoding: HouseStyle (13/43) ...\n",
      "Encoding: RoofStyle (14/43) ...\n",
      "Encoding: RoofMatl (15/43) ...\n",
      "Encoding: Exterior1st (16/43) ...\n",
      "Encoding: Exterior2nd (17/43) ...\n",
      "Encoding: MasVnrType (18/43) ...\n",
      "Encoding: ExterQual (19/43) ...\n",
      "Encoding: ExterCond (20/43) ...\n",
      "Encoding: Foundation (21/43) ...\n",
      "Encoding: BsmtQual (22/43) ...\n",
      "Encoding: BsmtCond (23/43) ...\n",
      "Encoding: BsmtExposure (24/43) ...\n",
      "Encoding: BsmtFinType1 (25/43) ...\n",
      "Encoding: BsmtFinType2 (26/43) ...\n",
      "Encoding: Heating (27/43) ...\n",
      "Encoding: HeatingQC (28/43) ...\n",
      "Encoding: CentralAir (29/43) ...\n",
      "Encoding: Electrical (30/43) ...\n",
      "Encoding: KitchenQual (31/43) ...\n",
      "Encoding: Functional (32/43) ...\n",
      "Encoding: FireplaceQu (33/43) ...\n",
      "Encoding: GarageType (34/43) ...\n",
      "Encoding: GarageFinish (35/43) ...\n",
      "Encoding: GarageQual (36/43) ...\n",
      "Encoding: GarageCond (37/43) ...\n",
      "Encoding: PavedDrive (38/43) ...\n",
      "Encoding: PoolQC (39/43) ...\n",
      "Encoding: Fence (40/43) ...\n",
      "Encoding: MiscFeature (41/43) ...\n",
      "Encoding: SaleType (42/43) ...\n",
      "Encoding: SaleCondition (43/43) ...\n",
      "Done.\n"
     ]
    }
   ],
   "source": [
    "#total = len(cats)\n",
    "#for i, var in enumerate(cats):\n",
    "    \n",
    "    #tr_enc, _ = target_encoder(train, test, var, 'SalePrice')\n",
    "    #v_enc, ts_enc = target_encoder(valid, test, var, 'SalePrice')\n",
    "    \n",
    "    #print('Encoding: ' + var + ' (' + str(i+1) + '/' + str(total) + ') ...')\n",
    "\n",
    "    #train = train.cbind(tr_enc)\n",
    "    #valid = valid.cbind(v_enc)\n",
    "    #test = test.cbind(ts_enc)    \n",
    "    \n",
    "#print('Done.')"
   ]
  },
  {
   "cell_type": "code",
   "execution_count": 19,
   "metadata": {
    "collapsed": false
   },
   "outputs": [
    {
     "name": "stdout",
     "output_type": "stream",
     "text": [
      "Numeric = ['MSSubClass', 'LotFrontage', 'LotArea', 'OverallQual', 'OverallCond', 'YearBuilt', 'YearRemodAdd', 'MasVnrArea', 'BsmtFinSF1', 'BsmtFinSF2', 'BsmtUnfSF', 'TotalBsmtSF', '1stFlrSF', '2ndFlrSF', 'LowQualFinSF', 'GrLivArea', 'BsmtFullBath', 'BsmtHalfBath', 'FullBath', 'HalfBath', 'BedroomAbvGr', 'KitchenAbvGr', 'TotRmsAbvGrd', 'Fireplaces', 'GarageYrBlt', 'GarageCars', 'GarageArea', 'WoodDeckSF', 'OpenPorchSF', 'EnclosedPorch', '3SsnPorch', 'ScreenPorch', 'PoolArea', 'MiscVal', 'MoSold', 'YrSold', 'MSZoning_Tencode', 'Street_Tencode', 'Alley_Tencode', 'LotShape_Tencode', 'LandContour_Tencode', 'Utilities_Tencode', 'LotConfig_Tencode', 'LandSlope_Tencode', 'Neighborhood_Tencode', 'Condition1_Tencode', 'Condition2_Tencode', 'BldgType_Tencode', 'HouseStyle_Tencode', 'RoofStyle_Tencode', 'RoofMatl_Tencode', 'Exterior1st_Tencode', 'Exterior2nd_Tencode', 'MasVnrType_Tencode', 'ExterQual_Tencode', 'ExterCond_Tencode', 'Foundation_Tencode', 'BsmtQual_Tencode', 'BsmtCond_Tencode', 'BsmtExposure_Tencode', 'BsmtFinType1_Tencode', 'BsmtFinType2_Tencode', 'Heating_Tencode', 'HeatingQC_Tencode', 'CentralAir_Tencode', 'Electrical_Tencode', 'KitchenQual_Tencode', 'Functional_Tencode', 'FireplaceQu_Tencode', 'GarageType_Tencode', 'GarageFinish_Tencode', 'GarageQual_Tencode', 'GarageCond_Tencode', 'PavedDrive_Tencode', 'PoolQC_Tencode', 'Fence_Tencode', 'MiscFeature_Tencode', 'SaleType_Tencode', 'SaleCondition_Tencode']\n",
      "\n",
      "Categorical = ['MSZoning', 'Street', 'Alley', 'LotShape', 'LandContour', 'Utilities', 'LotConfig', 'LandSlope', 'Neighborhood', 'Condition1', 'Condition2', 'BldgType', 'HouseStyle', 'RoofStyle', 'RoofMatl', 'Exterior1st', 'Exterior2nd', 'MasVnrType', 'ExterQual', 'ExterCond', 'Foundation', 'BsmtQual', 'BsmtCond', 'BsmtExposure', 'BsmtFinType1', 'BsmtFinType2', 'Heating', 'HeatingQC', 'CentralAir', 'Electrical', 'KitchenQual', 'Functional', 'FireplaceQu', 'GarageType', 'GarageFinish', 'GarageQual', 'GarageCond', 'PavedDrive', 'PoolQC', 'Fence', 'MiscFeature', 'SaleType', 'SaleCondition']\n"
     ]
    }
   ],
   "source": [
    "#encoded_nums, cats = get_type_lists(frame=train)"
   ]
  },
  {
   "cell_type": "code",
   "execution_count": 20,
   "metadata": {
    "collapsed": false
   },
   "outputs": [
    {
     "name": "stdout",
     "output_type": "stream",
     "text": [
      "Imputed and encoded numeric training data:\n",
      "Rows:1001\n",
      "Cols:79\n",
      "\n",
      "\n"
     ]
    },
    {
     "data": {
      "text/html": [
       "<table>\n",
       "<thead>\n",
       "<tr><th>       </th><th>MSSubClass       </th><th>LotFrontage       </th><th>LotArea           </th><th>OverallQual       </th><th>OverallCond       </th><th>YearBuilt         </th><th>YearRemodAdd      </th><th>MasVnrArea        </th><th>BsmtFinSF1       </th><th>BsmtFinSF2        </th><th>BsmtUnfSF         </th><th>TotalBsmtSF       </th><th>1stFlrSF          </th><th>2ndFlrSF          </th><th>LowQualFinSF      </th><th>GrLivArea         </th><th>BsmtFullBath      </th><th>BsmtHalfBath        </th><th>FullBath          </th><th>HalfBath           </th><th>BedroomAbvGr      </th><th>KitchenAbvGr      </th><th>TotRmsAbvGrd     </th><th>Fireplaces        </th><th>GarageYrBlt       </th><th>GarageCars        </th><th>GarageArea        </th><th>WoodDeckSF        </th><th>OpenPorchSF      </th><th>EnclosedPorch     </th><th>3SsnPorch         </th><th>ScreenPorch       </th><th>PoolArea          </th><th>MiscVal           </th><th>MoSold            </th><th>YrSold            </th><th>MSZoning_Tencode  </th><th>Street_Tencode    </th><th>Alley_Tencode     </th><th>LotShape_Tencode  </th><th>LandContour_Tencode  </th><th>Utilities_Tencode  </th><th>LotConfig_Tencode  </th><th>LandSlope_Tencode  </th><th>Neighborhood_Tencode  </th><th>Condition1_Tencode  </th><th>Condition2_Tencode  </th><th>BldgType_Tencode  </th><th>HouseStyle_Tencode  </th><th>RoofStyle_Tencode  </th><th>RoofMatl_Tencode  </th><th>Exterior1st_Tencode  </th><th>Exterior2nd_Tencode  </th><th>MasVnrType_Tencode  </th><th>ExterQual_Tencode  </th><th>ExterCond_Tencode  </th><th>Foundation_Tencode  </th><th>BsmtQual_Tencode  </th><th>BsmtCond_Tencode  </th><th>BsmtExposure_Tencode  </th><th>BsmtFinType1_Tencode  </th><th>BsmtFinType2_Tencode  </th><th>Heating_Tencode   </th><th>HeatingQC_Tencode  </th><th>CentralAir_Tencode  </th><th>Electrical_Tencode  </th><th>KitchenQual_Tencode  </th><th>Functional_Tencode  </th><th>FireplaceQu_Tencode  </th><th>GarageType_Tencode  </th><th>GarageFinish_Tencode  </th><th>GarageQual_Tencode  </th><th>GarageCond_Tencode  </th><th>PavedDrive_Tencode  </th><th>PoolQC_Tencode    </th><th>Fence_Tencode     </th><th>MiscFeature_Tencode  </th><th>SaleType_Tencode  </th><th>SaleCondition_Tencode  </th></tr>\n",
       "</thead>\n",
       "<tbody>\n",
       "<tr><td>type   </td><td>int              </td><td>int               </td><td>int               </td><td>int               </td><td>int               </td><td>int               </td><td>int               </td><td>int               </td><td>int              </td><td>int               </td><td>int               </td><td>int               </td><td>int               </td><td>int               </td><td>int               </td><td>int               </td><td>int               </td><td>int                 </td><td>int               </td><td>int                </td><td>int               </td><td>int               </td><td>int              </td><td>int               </td><td>int               </td><td>int               </td><td>int               </td><td>int               </td><td>int              </td><td>int               </td><td>int               </td><td>int               </td><td>int               </td><td>int               </td><td>int               </td><td>int               </td><td>real              </td><td>real              </td><td>real              </td><td>real              </td><td>real                 </td><td>real               </td><td>real               </td><td>real               </td><td>real                  </td><td>real                </td><td>real                </td><td>real              </td><td>real                </td><td>real               </td><td>real              </td><td>real                 </td><td>real                 </td><td>real                </td><td>real               </td><td>real               </td><td>real                </td><td>real              </td><td>real              </td><td>real                  </td><td>real                  </td><td>real                  </td><td>real              </td><td>real               </td><td>real                </td><td>real                </td><td>real                 </td><td>real                </td><td>real                 </td><td>real                </td><td>real                  </td><td>real                </td><td>real                </td><td>real                </td><td>real              </td><td>real              </td><td>real                 </td><td>real              </td><td>real                   </td></tr>\n",
       "<tr><td>mins   </td><td>20.0             </td><td>21.0              </td><td>1300.0            </td><td>2.0               </td><td>2.0               </td><td>1875.0            </td><td>1950.0            </td><td>0.0               </td><td>0.0              </td><td>0.0               </td><td>0.0               </td><td>0.0               </td><td>480.0             </td><td>0.0               </td><td>0.0               </td><td>480.0             </td><td>0.0               </td><td>0.0                 </td><td>0.0               </td><td>0.0                </td><td>0.0               </td><td>0.0               </td><td>3.0              </td><td>0.0               </td><td>1908.0            </td><td>0.0               </td><td>0.0               </td><td>0.0               </td><td>0.0              </td><td>0.0               </td><td>0.0               </td><td>0.0               </td><td>0.0               </td><td>0.0               </td><td>1.0               </td><td>2006.0            </td><td>78614.79385614385 </td><td>146350.10385614386</td><td>128075.200999001  </td><td>163944.59385614382</td><td>145140.16285614387   </td><td>144200.79385614386 </td><td>176473.2899159664  </td><td>181486.5182747485  </td><td>109690.79385614385    </td><td>134468.29385614386  </td><td>108075.79385614385  </td><td>138273.46052281052</td><td>118907.22242757239  </td><td>161577.2224275724  </td><td>143775.79385614386</td><td>78325.79385614385    </td><td>129978.23968947721   </td><td>155578.6188811189   </td><td>116078.96885614384 </td><td>122047.14941169939 </td><td>121726.89385614387  </td><td>121216.12093947716</td><td>84275.79385614385 </td><td>167645.4123076923     </td><td>150410.4464877228     </td><td>154536.9355228105     </td><td>93469.96052281052 </td><td>135668.69902855766 </td><td>119608.23368665231  </td><td>84275.79385614385   </td><td>124936.94820396995   </td><td>110059.12718947718  </td><td>141462.34885614386   </td><td>125174.9605228105   </td><td>141354.57177033494    </td><td>96813.29385614385   </td><td>112070.79385614385  </td><td>129253.89464979463  </td><td>182171.95904095902</td><td>141306.73814185814</td><td>140375.79385614386   </td><td>125968.29385614385</td><td>115832.04385614385     </td></tr>\n",
       "<tr><td>mean   </td><td>57.08791208791207</td><td>70.59975669099755 </td><td>10628.262737262741</td><td>6.144855144855144 </td><td>5.583416583416583 </td><td>1972.2987012987012</td><td>1985.1388611388606</td><td>106.91146881287727</td><td>445.5994005994006</td><td>41.64935064935065 </td><td>575.99000999001   </td><td>1063.2387612387622</td><td>1172.0889110889111</td><td>341.7872127872128 </td><td>5.9250749250749255</td><td>1519.8011988011988</td><td>0.4265734265734267</td><td>0.059940059940059943</td><td>1.5744255744255748</td><td>0.38161838161838163</td><td>2.871128871128871 </td><td>1.0469530469530466</td><td>6.512487512487513</td><td>0.6203796203796205</td><td>1978.7345225603356</td><td>1.7932067932067928</td><td>477.4685314685315 </td><td>91.07392607392606 </td><td>44.92407592407592</td><td>21.257742257742255</td><td>3.4565434565434567</td><td>14.763236763236764</td><td>3.3766233766233764</td><td>39.684315684315685</td><td>6.362637362637364 </td><td>2007.8281718281721</td><td>183387.92640181998</td><td>182203.53498429657</td><td>180171.38546862724</td><td>181993.92786324568</td><td>182186.7329973224    </td><td>182178.65314071544 </td><td>181772.161181426   </td><td>182145.0556687069  </td><td>182171.95904095905    </td><td>182645.11776425372  </td><td>182224.4420403772   </td><td>182849.79797600006</td><td>183188.25635258848  </td><td>182159.00869385363 </td><td>182033.940055499  </td><td>183565.7137941479    </td><td>183994.52609268858   </td><td>180574.40004970055  </td><td>181095.69602749895 </td><td>182637.2350592465  </td><td>183119.90242260235  </td><td>182245.41278741238</td><td>184043.11900766572</td><td>182844.62529074325    </td><td>185645.7951523501     </td><td>184056.75787594027    </td><td>182323.57985955104</td><td>182409.7085632649  </td><td>182822.70708043198  </td><td>182952.64128239398  </td><td>180810.97023994982   </td><td>182576.245336881    </td><td>200266.80114860163   </td><td>185255.62265751231  </td><td>185712.8721618042     </td><td>186018.3297154892   </td><td>186002.74671607107  </td><td>182908.18055950044  </td><td>182802.8256832079 </td><td>177450.87030976015</td><td>181198.19224147475   </td><td>181180.3311701286 </td><td>181541.32494458588     </td></tr>\n",
       "<tr><td>maxs   </td><td>190.0            </td><td>313.0             </td><td>164660.0          </td><td>10.0              </td><td>9.0               </td><td>2010.0            </td><td>2010.0            </td><td>1378.0            </td><td>5644.0           </td><td>1127.0            </td><td>2153.0            </td><td>6110.0            </td><td>4692.0            </td><td>2065.0            </td><td>528.0             </td><td>5642.0            </td><td>3.0               </td><td>2.0                 </td><td>3.0               </td><td>2.0                </td><td>8.0               </td><td>3.0               </td><td>14.0             </td><td>3.0               </td><td>2010.0            </td><td>4.0               </td><td>1418.0            </td><td>736.0             </td><td>523.0            </td><td>552.0             </td><td>508.0             </td><td>440.0             </td><td>738.0             </td><td>15500.0           </td><td>12.0              </td><td>2010.0            </td><td>204495.20385614387</td><td>182383.5220883534 </td><td>182171.95904095902</td><td>220137.0973044197 </td><td>215016.8662245649    </td><td>182216.631         </td><td>215932.78135614385 </td><td>200379.84385614382 </td><td>329868.3581418581     </td><td>219155.3393106893   </td><td>269469.54385614384  </td><td>187595.7541966427 </td><td>210965.119205298    </td><td>248325.79385614384 </td><td>669075.7938561438 </td><td>250025.79385614384   </td><td>298475.79385614384   </td><td>256064.37787676242  </td><td>348876.58744588745 </td><td>185708.33940774488 </td><td>226465.8274336283   </td><td>312352.66653056245</td><td>212500.14385614384</td><td>243510.2073978105     </td><td>236446.98648648648    </td><td>218122.46052281052    </td><td>185483.95814185814</td><td>216426.0           </td><td>186782.0            </td><td>187738.31270358307  </td><td>305958.08769176033   </td><td>185063.63879957132  </td><td>306119.08332982805   </td><td>243875.54558028182  </td><td>243708.832            </td><td>222252.04385614384  </td><td>188146.7502726281   </td><td>187523.8671023965   </td><td>443825.79385614384</td><td>182171.95904095902</td><td>239825.79385614384   </td><td>263880.6876061438 </td><td>260380.61674771016     </td></tr>\n",
       "<tr><td>sigma  </td><td>42.22127738162671</td><td>25.107498963533228</td><td>9442.373107111374 </td><td>1.3535124690951335</td><td>1.0887078190610717</td><td>29.873026099002573</td><td>20.60683620310741 </td><td>180.07251031753833</td><td>467.1732658871227</td><td>148.91838678308974</td><td>444.45750741786316</td><td>450.46835397846087</td><td>392.4739572085174 </td><td>432.90859505942325</td><td>49.51948485817861 </td><td>520.2774292995628 </td><td>0.5204355357324735</td><td>0.24577143121932707 </td><td>0.553809800116696 </td><td>0.500221729058003  </td><td>0.8052177496650359</td><td>0.2253734828971829</td><td>1.587480364002625</td><td>0.6416730131026672</td><td>24.675240078007675</td><td>0.7349787794173422</td><td>209.92257920181257</td><td>120.05044160464604</td><td>63.01874506660878</td><td>61.04442237008637 </td><td>29.83605804459362 </td><td>54.16981527671003 </td><td>43.98791894358055 </td><td>516.2493547150991 </td><td>2.6768195003329303</td><td>1.3169835057606325</td><td>22616.41995033149 </td><td>2541.5759666990516</td><td>9252.695490054048 </td><td>21926.25817117466 </td><td>11064.930655592709   </td><td>1201.5656926005151 </td><td>10669.0402255879   </td><td>1835.4154172265185 </td><td>51529.93244080358     </td><td>13080.75973520576   </td><td>6389.719881512636   </td><td>13615.684128255081</td><td>21247.331540214993  </td><td>20695.377655471337 </td><td>15980.206375764046</td><td>29589.150408848316   </td><td>30224.673393447134   </td><td>32873.17832435438   </td><td>52277.89924581869  </td><td>9945.861000354022  </td><td>39735.240377141236  </td><td>49068.18360107548 </td><td>10415.5288163924  </td><td>24443.645488332317    </td><td>33760.02487150487     </td><td>7125.754339386591     </td><td>8588.039549532366 </td><td>35398.540443061385 </td><td>15828.294334486287  </td><td>16469.485082849515  </td><td>49556.815992526295   </td><td>9673.472750816683   </td><td>24220.26519043972    </td><td>34065.80911242865   </td><td>41548.007813036085    </td><td>11950.130371967634  </td><td>10671.429849329992  </td><td>15415.629575665143  </td><td>11861.80122991298 </td><td>11076.460716121792</td><td>5900.12706884176     </td><td>25459.930478733866</td><td>24904.825355766643     </td></tr>\n",
       "<tr><td>zeros  </td><td>0                </td><td>0                 </td><td>0                 </td><td>0                 </td><td>0                 </td><td>0                 </td><td>0                 </td><td>570               </td><td>326              </td><td>894               </td><td>78                </td><td>25                </td><td>0                 </td><td>572               </td><td>984               </td><td>0                 </td><td>586               </td><td>943                 </td><td>6                 </td><td>626                </td><td>4                 </td><td>1                 </td><td>0                </td><td>466               </td><td>0                 </td><td>48                </td><td>48                </td><td>523               </td><td>460              </td><td>867               </td><td>985               </td><td>921               </td><td>995               </td><td>969               </td><td>0                 </td><td>0                 </td><td>0                 </td><td>0                 </td><td>0                 </td><td>0                 </td><td>0                    </td><td>0                  </td><td>0                  </td><td>0                  </td><td>0                     </td><td>0                   </td><td>0                   </td><td>0                 </td><td>0                   </td><td>0                  </td><td>0                 </td><td>0                    </td><td>0                    </td><td>0                   </td><td>0                  </td><td>0                  </td><td>0                   </td><td>0                 </td><td>0                 </td><td>0                     </td><td>0                     </td><td>0                     </td><td>0                 </td><td>0                  </td><td>0                   </td><td>0                   </td><td>0                    </td><td>0                   </td><td>0                    </td><td>0                   </td><td>0                     </td><td>0                   </td><td>0                   </td><td>0                   </td><td>0                 </td><td>0                 </td><td>0                    </td><td>0                 </td><td>0                      </td></tr>\n",
       "<tr><td>missing</td><td>0                </td><td>179               </td><td>0                 </td><td>0                 </td><td>0                 </td><td>0                 </td><td>0                 </td><td>7                 </td><td>0                </td><td>0                 </td><td>0                 </td><td>0                 </td><td>0                 </td><td>0                 </td><td>0                 </td><td>0                 </td><td>0                 </td><td>0                   </td><td>0                 </td><td>0                  </td><td>0                 </td><td>0                 </td><td>0                </td><td>0                 </td><td>48                </td><td>0                 </td><td>0                 </td><td>0                 </td><td>0                </td><td>0                 </td><td>0                 </td><td>0                 </td><td>0                 </td><td>0                 </td><td>0                 </td><td>0                 </td><td>0                 </td><td>0                 </td><td>0                 </td><td>0                 </td><td>0                    </td><td>0                  </td><td>0                  </td><td>0                  </td><td>0                     </td><td>0                   </td><td>0                   </td><td>0                 </td><td>0                   </td><td>0                  </td><td>0                 </td><td>0                    </td><td>0                    </td><td>0                   </td><td>0                  </td><td>0                  </td><td>0                   </td><td>0                 </td><td>0                 </td><td>0                     </td><td>0                     </td><td>0                     </td><td>0                 </td><td>0                  </td><td>0                   </td><td>0                   </td><td>0                    </td><td>0                   </td><td>0                    </td><td>0                   </td><td>0                     </td><td>0                   </td><td>0                   </td><td>0                   </td><td>0                 </td><td>0                 </td><td>0                    </td><td>0                 </td><td>0                      </td></tr>\n",
       "<tr><td>0      </td><td>60.0             </td><td>65.0              </td><td>8450.0            </td><td>7.0               </td><td>5.0               </td><td>2003.0            </td><td>2003.0            </td><td>196.0             </td><td>706.0            </td><td>0.0               </td><td>150.0             </td><td>856.0             </td><td>856.0             </td><td>854.0             </td><td>0.0               </td><td>1710.0            </td><td>1.0               </td><td>0.0                 </td><td>2.0               </td><td>1.0                </td><td>3.0               </td><td>1.0               </td><td>8.0              </td><td>0.0               </td><td>2003.0            </td><td>2.0               </td><td>548.0             </td><td>0.0               </td><td>61.0             </td><td>0.0               </td><td>0.0               </td><td>0.0               </td><td>0.0               </td><td>0.0               </td><td>2.0               </td><td>2008.0            </td><td>192391.8022670025 </td><td>182383.5220883534 </td><td>182171.95904095902</td><td>165131.57073954982</td><td>182282.48766816143   </td><td>182216.631         </td><td>176473.2899159664  </td><td>181982.57594936708 </td><td>197940.3021894772     </td><td>185776.46347031964  </td><td>182525.73333333334  </td><td>187595.7541966427 </td><td>210965.119205298    </td><td>171522.79741935484 </td><td>181235.93597560975</td><td>216859.7290502793    </td><td>216626.9093484419    </td><td>203515.30891719743  </td><td>229333.4454277286  </td><td>185708.33940774488 </td><td>226465.8274336283   </td><td>200924.0538641686 </td><td>184737.95170142702</td><td>167645.4123076923     </td><td>236446.98648648648    </td><td>185630.71806674334    </td><td>183201.27365208542</td><td>216426.0           </td><td>186782.0            </td><td>187738.31270358307  </td><td>212221.98514851482   </td><td>185063.63879957132  </td><td>182171.95904095902   </td><td>203664.60358890702  </td><td>200494.42807017543    </td><td>188334.07174392935  </td><td>188146.7502726281   </td><td>187523.8671023965   </td><td>182171.95904095902</td><td>182171.95904095902</td><td>182171.95904095902   </td><td>174574.41216991964</td><td>177020.8800489596      </td></tr>\n",
       "<tr><td>1      </td><td>20.0             </td><td>80.0              </td><td>9600.0            </td><td>6.0               </td><td>8.0               </td><td>1976.0            </td><td>1976.0            </td><td>0.0               </td><td>978.0            </td><td>0.0               </td><td>284.0             </td><td>1262.0            </td><td>1262.0            </td><td>0.0               </td><td>0.0               </td><td>1262.0            </td><td>0.0               </td><td>1.0                 </td><td>2.0               </td><td>0.0                </td><td>3.0               </td><td>1.0               </td><td>6.0              </td><td>1.0               </td><td>1976.0            </td><td>2.0               </td><td>460.0             </td><td>298.0             </td><td>0.0              </td><td>0.0               </td><td>0.0               </td><td>0.0               </td><td>0.0               </td><td>0.0               </td><td>5.0               </td><td>2007.0            </td><td>192391.8022670025 </td><td>182383.5220883534 </td><td>182171.95904095902</td><td>165131.57073954982</td><td>182282.48766816143   </td><td>182216.631         </td><td>178818.25814185815 </td><td>181982.57594936708 </td><td>218575.79385614384    </td><td>147024.1605228105   </td><td>182525.73333333334  </td><td>187595.7541966427 </td><td>178321.97183098592  </td><td>171522.79741935484 </td><td>181235.93597560975</td><td>155330.24861804862   </td><td>155721.17213200592   </td><td>155578.6188811189   </td><td>144619.2755267423  </td><td>185708.33940774488 </td><td>150397.2807424594   </td><td>200924.0538641686 </td><td>184737.95170142702</td><td>243510.2073978105     </td><td>161782.77448994666    </td><td>185630.71806674334    </td><td>183201.27365208542</td><td>216426.0           </td><td>186782.0            </td><td>187738.31270358307  </td><td>139811.59481037923   </td><td>185063.63879957132  </td><td>204076.0357142857    </td><td>203664.60358890702  </td><td>200494.42807017543    </td><td>188334.07174392935  </td><td>188146.7502726281   </td><td>187523.8671023965   </td><td>182171.95904095902</td><td>182171.95904095902</td><td>182171.95904095902   </td><td>174574.41216991964</td><td>177020.8800489596      </td></tr>\n",
       "<tr><td>2      </td><td>60.0             </td><td>68.0              </td><td>11250.0           </td><td>7.0               </td><td>5.0               </td><td>2001.0            </td><td>2002.0            </td><td>162.0             </td><td>486.0            </td><td>0.0               </td><td>434.0             </td><td>920.0             </td><td>920.0             </td><td>866.0             </td><td>0.0               </td><td>1786.0            </td><td>1.0               </td><td>0.0                 </td><td>2.0               </td><td>1.0                </td><td>3.0               </td><td>1.0               </td><td>6.0              </td><td>1.0               </td><td>2001.0            </td><td>2.0               </td><td>608.0             </td><td>0.0               </td><td>42.0             </td><td>0.0               </td><td>0.0               </td><td>0.0               </td><td>0.0               </td><td>0.0               </td><td>9.0               </td><td>2008.0            </td><td>192391.8022670025 </td><td>182383.5220883534 </td><td>182171.95904095902</td><td>209450.39420289855</td><td>182282.48766816143   </td><td>182216.631         </td><td>176473.2899159664  </td><td>181982.57594936708 </td><td>197940.3021894772     </td><td>185776.46347031964  </td><td>182525.73333333334  </td><td>187595.7541966427 </td><td>210965.119205298    </td><td>171522.79741935484 </td><td>181235.93597560975</td><td>216859.7290502793    </td><td>216626.9093484419    </td><td>203515.30891719743  </td><td>229333.4454277286  </td><td>185708.33940774488 </td><td>226465.8274336283   </td><td>200924.0538641686 </td><td>184737.95170142702</td><td>187129.2701381951     </td><td>236446.98648648648    </td><td>185630.71806674334    </td><td>183201.27365208542</td><td>216426.0           </td><td>186782.0            </td><td>187738.31270358307  </td><td>212221.98514851482   </td><td>185063.63879957132  </td><td>204076.0357142857    </td><td>203664.60358890702  </td><td>200494.42807017543    </td><td>188334.07174392935  </td><td>188146.7502726281   </td><td>187523.8671023965   </td><td>182171.95904095902</td><td>182171.95904095902</td><td>182171.95904095902   </td><td>174574.41216991964</td><td>177020.8800489596      </td></tr>\n",
       "<tr><td>3      </td><td>60.0             </td><td>84.0              </td><td>14260.0           </td><td>8.0               </td><td>5.0               </td><td>2000.0            </td><td>2000.0            </td><td>350.0             </td><td>655.0            </td><td>0.0               </td><td>490.0             </td><td>1145.0            </td><td>1145.0            </td><td>1053.0            </td><td>0.0               </td><td>2198.0            </td><td>1.0               </td><td>0.0                 </td><td>2.0               </td><td>1.0                </td><td>4.0               </td><td>1.0               </td><td>9.0              </td><td>1.0               </td><td>2000.0            </td><td>3.0               </td><td>836.0             </td><td>192.0             </td><td>84.0             </td><td>0.0               </td><td>0.0               </td><td>0.0               </td><td>0.0               </td><td>0.0               </td><td>12.0              </td><td>2008.0            </td><td>192391.8022670025 </td><td>182383.5220883534 </td><td>182171.95904095902</td><td>209450.39420289855</td><td>182282.48766816143   </td><td>182216.631         </td><td>178818.25814185815 </td><td>181982.57594936708 </td><td>329868.3581418581     </td><td>185776.46347031964  </td><td>182525.73333333334  </td><td>187595.7541966427 </td><td>210965.119205298    </td><td>171522.79741935484 </td><td>181235.93597560975</td><td>216859.7290502793    </td><td>216626.9093484419    </td><td>203515.30891719743  </td><td>229333.4454277286  </td><td>185708.33940774488 </td><td>226465.8274336283   </td><td>200924.0538641686 </td><td>184737.95170142702</td><td>207605.41721854304    </td><td>236446.98648648648    </td><td>185630.71806674334    </td><td>183201.27365208542</td><td>216426.0           </td><td>186782.0            </td><td>187738.31270358307  </td><td>212221.98514851482   </td><td>185063.63879957132  </td><td>204076.0357142857    </td><td>203664.60358890702  </td><td>200494.42807017543    </td><td>188334.07174392935  </td><td>188146.7502726281   </td><td>187523.8671023965   </td><td>182171.95904095902</td><td>182171.95904095902</td><td>182171.95904095902   </td><td>174574.41216991964</td><td>177020.8800489596      </td></tr>\n",
       "<tr><td>4      </td><td>50.0             </td><td>85.0              </td><td>14115.0           </td><td>5.0               </td><td>5.0               </td><td>1993.0            </td><td>1995.0            </td><td>0.0               </td><td>732.0            </td><td>0.0               </td><td>64.0              </td><td>796.0             </td><td>796.0             </td><td>566.0             </td><td>0.0               </td><td>1362.0            </td><td>1.0               </td><td>0.0                 </td><td>1.0               </td><td>1.0                </td><td>1.0               </td><td>1.0               </td><td>5.0              </td><td>0.0               </td><td>1993.0            </td><td>2.0               </td><td>480.0             </td><td>40.0              </td><td>30.0             </td><td>0.0               </td><td>320.0             </td><td>0.0               </td><td>0.0               </td><td>700.0             </td><td>10.0              </td><td>2009.0            </td><td>192391.8022670025 </td><td>182383.5220883534 </td><td>182171.95904095902</td><td>209450.39420289855</td><td>182282.48766816143   </td><td>182216.631         </td><td>176473.2899159664  </td><td>181982.57594936708 </td><td>157653.3733433233     </td><td>185776.46347031964  </td><td>182525.73333333334  </td><td>187595.7541966427 </td><td>149995.43881027232  </td><td>171522.79741935484 </td><td>181235.93597560975</td><td>216859.7290502793    </td><td>216626.9093484419    </td><td>155578.6188811189   </td><td>144619.2755267423  </td><td>185708.33940774488 </td><td>185142.46052281052  </td><td>200924.0538641686 </td><td>184737.95170142702</td><td>167645.4123076923     </td><td>236446.98648648648    </td><td>185630.71806674334    </td><td>183201.27365208542</td><td>216426.0           </td><td>186782.0            </td><td>187738.31270358307  </td><td>139811.59481037923   </td><td>185063.63879957132  </td><td>182171.95904095902   </td><td>203664.60358890702  </td><td>141354.57177033494    </td><td>188334.07174392935  </td><td>188146.7502726281   </td><td>187523.8671023965   </td><td>182171.95904095902</td><td>154576.6979101979 </td><td>151058.18256582128   </td><td>174574.41216991964</td><td>177020.8800489596      </td></tr>\n",
       "<tr><td>5      </td><td>20.0             </td><td>75.0              </td><td>10084.0           </td><td>8.0               </td><td>5.0               </td><td>2004.0            </td><td>2005.0            </td><td>186.0             </td><td>1369.0           </td><td>0.0               </td><td>317.0             </td><td>1686.0            </td><td>1694.0            </td><td>0.0               </td><td>0.0               </td><td>1694.0            </td><td>1.0               </td><td>0.0                 </td><td>2.0               </td><td>0.0                </td><td>3.0               </td><td>1.0               </td><td>7.0              </td><td>1.0               </td><td>2004.0            </td><td>2.0               </td><td>636.0             </td><td>255.0             </td><td>57.0             </td><td>0.0               </td><td>0.0               </td><td>0.0               </td><td>0.0               </td><td>0.0               </td><td>8.0               </td><td>2007.0            </td><td>192391.8022670025 </td><td>182383.5220883534 </td><td>182171.95904095902</td><td>165131.57073954982</td><td>182282.48766816143   </td><td>182216.631         </td><td>176473.2899159664  </td><td>181982.57594936708 </td><td>214617.5167374998     </td><td>185776.46347031964  </td><td>182525.73333333334  </td><td>187595.7541966427 </td><td>178321.97183098592  </td><td>171522.79741935484 </td><td>181235.93597560975</td><td>216859.7290502793    </td><td>216626.9093484419    </td><td>256064.37787676242  </td><td>229333.4454277286  </td><td>185708.33940774488 </td><td>226465.8274336283   </td><td>312352.66653056245</td><td>184737.95170142702</td><td>207605.41721854304    </td><td>236446.98648648648    </td><td>185630.71806674334    </td><td>183201.27365208542</td><td>216426.0           </td><td>186782.0            </td><td>187738.31270358307  </td><td>212221.98514851482   </td><td>185063.63879957132  </td><td>225928.18076923073   </td><td>203664.60358890702  </td><td>200494.42807017543    </td><td>188334.07174392935  </td><td>188146.7502726281   </td><td>187523.8671023965   </td><td>182171.95904095902</td><td>182171.95904095902</td><td>182171.95904095902   </td><td>174574.41216991964</td><td>177020.8800489596      </td></tr>\n",
       "<tr><td>6      </td><td>50.0             </td><td>51.0              </td><td>6120.0            </td><td>7.0               </td><td>5.0               </td><td>1931.0            </td><td>1950.0            </td><td>0.0               </td><td>0.0              </td><td>0.0               </td><td>952.0             </td><td>952.0             </td><td>1022.0            </td><td>752.0             </td><td>0.0               </td><td>1774.0            </td><td>0.0               </td><td>0.0                 </td><td>2.0               </td><td>0.0                </td><td>2.0               </td><td>2.0               </td><td>8.0              </td><td>2.0               </td><td>1931.0            </td><td>2.0               </td><td>468.0             </td><td>90.0              </td><td>0.0              </td><td>205.0             </td><td>0.0               </td><td>0.0               </td><td>0.0               </td><td>0.0               </td><td>4.0               </td><td>2008.0            </td><td>135492.29843360864</td><td>182383.5220883534 </td><td>182171.95904095902</td><td>165131.57073954982</td><td>182282.48766816143   </td><td>182216.631         </td><td>176473.2899159664  </td><td>181982.57594936708 </td><td>133772.61742757243    </td><td>134468.29385614386  </td><td>182525.73333333334  </td><td>187595.7541966427 </td><td>149995.43881027232  </td><td>171522.79741935484 </td><td>181235.93597560975</td><td>174764.54385614384   </td><td>153754.05472570908   </td><td>155578.6188811189   </td><td>144619.2755267423  </td><td>185708.33940774488 </td><td>136922.75385614386  </td><td>141930.00455580864</td><td>184737.95170142702</td><td>167645.4123076923     </td><td>172096.88704318934    </td><td>185630.71806674334    </td><td>183201.27365208542</td><td>157465.01829268291 </td><td>186782.0            </td><td>129502.64385614383  </td><td>139811.59481037923   </td><td>153787.09385614382  </td><td>204076.0357142857    </td><td>133017.2480620155   </td><td>141354.57177033494    </td><td>131334.20218947722  </td><td>188146.7502726281   </td><td>187523.8671023965   </td><td>182171.95904095902</td><td>182171.95904095902</td><td>182171.95904095902   </td><td>174574.41216991964</td><td>153108.76116383614     </td></tr>\n",
       "<tr><td>7      </td><td>20.0             </td><td>70.0              </td><td>11200.0           </td><td>5.0               </td><td>5.0               </td><td>1965.0            </td><td>1965.0            </td><td>0.0               </td><td>906.0            </td><td>0.0               </td><td>134.0             </td><td>1040.0            </td><td>1040.0            </td><td>0.0               </td><td>0.0               </td><td>1040.0            </td><td>1.0               </td><td>0.0                 </td><td>1.0               </td><td>0.0                </td><td>3.0               </td><td>1.0               </td><td>5.0              </td><td>0.0               </td><td>1965.0            </td><td>1.0               </td><td>384.0             </td><td>0.0               </td><td>0.0              </td><td>0.0               </td><td>0.0               </td><td>0.0               </td><td>0.0               </td><td>0.0               </td><td>2.0               </td><td>2008.0            </td><td>192391.8022670025 </td><td>182383.5220883534 </td><td>182171.95904095902</td><td>165131.57073954982</td><td>182282.48766816143   </td><td>182216.631         </td><td>176473.2899159664  </td><td>181982.57594936708 </td><td>143540.98922651424    </td><td>185776.46347031964  </td><td>182525.73333333334  </td><td>187595.7541966427 </td><td>178321.97183098592  </td><td>222601.05940594056 </td><td>181235.93597560975</td><td>162189.7051282051    </td><td>169688.48681389034   </td><td>155578.6188811189   </td><td>144619.2755267423  </td><td>185708.33940774488 </td><td>150397.2807424594   </td><td>141930.00455580864</td><td>184737.95170142702</td><td>167645.4123076923     </td><td>150410.4464877228     </td><td>185630.71806674334    </td><td>183201.27365208542</td><td>216426.0           </td><td>186782.0            </td><td>187738.31270358307  </td><td>139811.59481037923   </td><td>185063.63879957132  </td><td>182171.95904095902   </td><td>133017.2480620155   </td><td>141354.57177033494    </td><td>188334.07174392935  </td><td>188146.7502726281   </td><td>187523.8671023965   </td><td>182171.95904095902</td><td>182171.95904095902</td><td>182171.95904095902   </td><td>174574.41216991964</td><td>177020.8800489596      </td></tr>\n",
       "<tr><td>8      </td><td>60.0             </td><td>85.0              </td><td>11924.0           </td><td>9.0               </td><td>5.0               </td><td>2005.0            </td><td>2006.0            </td><td>286.0             </td><td>998.0            </td><td>0.0               </td><td>177.0             </td><td>1175.0            </td><td>1182.0            </td><td>1142.0            </td><td>0.0               </td><td>2324.0            </td><td>1.0               </td><td>0.0                 </td><td>3.0               </td><td>0.0                </td><td>4.0               </td><td>1.0               </td><td>11.0             </td><td>2.0               </td><td>2005.0            </td><td>3.0               </td><td>736.0             </td><td>147.0             </td><td>21.0             </td><td>0.0               </td><td>0.0               </td><td>0.0               </td><td>0.0               </td><td>0.0               </td><td>7.0               </td><td>2006.0            </td><td>192391.8022670025 </td><td>182383.5220883534 </td><td>182171.95904095902</td><td>209450.39420289855</td><td>182282.48766816143   </td><td>182216.631         </td><td>176473.2899159664  </td><td>181982.57594936708 </td><td>301677.8909715284     </td><td>185776.46347031964  </td><td>182525.73333333334  </td><td>187595.7541966427 </td><td>210965.119205298    </td><td>222601.05940594056 </td><td>181235.93597560975</td><td>155487.09385614382   </td><td>153754.05472570908   </td><td>256064.37787676242  </td><td>348876.58744588745 </td><td>185708.33940774488 </td><td>226465.8274336283   </td><td>312352.66653056245</td><td>184737.95170142702</td><td>167645.4123076923     </td><td>236446.98648648648    </td><td>185630.71806674334    </td><td>183201.27365208542</td><td>216426.0           </td><td>186782.0            </td><td>187738.31270358307  </td><td>305958.08769176033   </td><td>185063.63879957132  </td><td>225928.18076923073   </td><td>243875.54558028182  </td><td>243708.832            </td><td>188334.07174392935  </td><td>188146.7502726281   </td><td>187523.8671023965   </td><td>182171.95904095902</td><td>182171.95904095902</td><td>182171.95904095902   </td><td>263880.6876061438 </td><td>260380.61674771016     </td></tr>\n",
       "<tr><td>9      </td><td>20.0             </td><td>nan               </td><td>12968.0           </td><td>5.0               </td><td>6.0               </td><td>1962.0            </td><td>1962.0            </td><td>0.0               </td><td>737.0            </td><td>0.0               </td><td>175.0             </td><td>912.0             </td><td>912.0             </td><td>0.0               </td><td>0.0               </td><td>912.0             </td><td>1.0               </td><td>0.0                 </td><td>1.0               </td><td>0.0                </td><td>2.0               </td><td>1.0               </td><td>4.0              </td><td>0.0               </td><td>1962.0            </td><td>1.0               </td><td>352.0             </td><td>140.0             </td><td>0.0              </td><td>0.0               </td><td>0.0               </td><td>176.0             </td><td>0.0               </td><td>0.0               </td><td>9.0               </td><td>2008.0            </td><td>192391.8022670025 </td><td>182383.5220883534 </td><td>182171.95904095902</td><td>220137.0973044197 </td><td>182282.48766816143   </td><td>182216.631         </td><td>176473.2899159664  </td><td>181982.57594936708 </td><td>143540.98922651424    </td><td>185776.46347031964  </td><td>182525.73333333334  </td><td>187595.7541966427 </td><td>178321.97183098592  </td><td>222601.05940594056 </td><td>181235.93597560975</td><td>162189.7051282051    </td><td>172512.37104060987   </td><td>155578.6188811189   </td><td>144619.2755267423  </td><td>185708.33940774488 </td><td>150397.2807424594   </td><td>141930.00455580864</td><td>184737.95170142702</td><td>167645.4123076923     </td><td>161782.77448994666    </td><td>185630.71806674334    </td><td>183201.27365208542</td><td>141464.28231292518 </td><td>186782.0            </td><td>187738.31270358307  </td><td>139811.59481037923   </td><td>185063.63879957132  </td><td>182171.95904095902   </td><td>133017.2480620155   </td><td>141354.57177033494    </td><td>188334.07174392935  </td><td>188146.7502726281   </td><td>187523.8671023965   </td><td>182171.95904095902</td><td>182171.95904095902</td><td>182171.95904095902   </td><td>174574.41216991964</td><td>177020.8800489596      </td></tr>\n",
       "</tbody>\n",
       "</table>"
      ]
     },
     "metadata": {},
     "output_type": "display_data"
    },
    {
     "name": "stdout",
     "output_type": "stream",
     "text": [
      "--------------------------------------------------------------------------------\n",
      "Imputed and encoded numeric validation data:\n",
      "Rows:459\n",
      "Cols:79\n",
      "\n",
      "\n"
     ]
    },
    {
     "data": {
      "text/html": [
       "<table>\n",
       "<thead>\n",
       "<tr><th>       </th><th>MSSubClass       </th><th>LotFrontage       </th><th>LotArea           </th><th>OverallQual       </th><th>OverallCond      </th><th>YearBuilt         </th><th>YearRemodAdd      </th><th>MasVnrArea        </th><th>BsmtFinSF1        </th><th>BsmtFinSF2        </th><th>BsmtUnfSF        </th><th>TotalBsmtSF       </th><th>1stFlrSF          </th><th>2ndFlrSF         </th><th>LowQualFinSF     </th><th>GrLivArea         </th><th>BsmtFullBath      </th><th>BsmtHalfBath       </th><th>FullBath          </th><th>HalfBath           </th><th>BedroomAbvGr      </th><th>KitchenAbvGr       </th><th>TotRmsAbvGrd      </th><th>Fireplaces        </th><th>GarageYrBlt       </th><th>GarageCars        </th><th>GarageArea       </th><th>WoodDeckSF        </th><th>OpenPorchSF      </th><th>EnclosedPorch    </th><th>3SsnPorch         </th><th>ScreenPorch       </th><th>PoolArea          </th><th>MiscVal           </th><th>MoSold           </th><th>YrSold            </th><th>MSZoning_Tencode  </th><th>Street_Tencode    </th><th>Alley_Tencode     </th><th>LotShape_Tencode  </th><th>LandContour_Tencode  </th><th>Utilities_Tencode     </th><th>LotConfig_Tencode  </th><th>LandSlope_Tencode  </th><th>Neighborhood_Tencode  </th><th>Condition1_Tencode  </th><th>Condition2_Tencode  </th><th>BldgType_Tencode  </th><th>HouseStyle_Tencode  </th><th>RoofStyle_Tencode  </th><th>RoofMatl_Tencode  </th><th>Exterior1st_Tencode  </th><th>Exterior2nd_Tencode  </th><th>MasVnrType_Tencode  </th><th>ExterQual_Tencode  </th><th>ExterCond_Tencode  </th><th>Foundation_Tencode  </th><th>BsmtQual_Tencode  </th><th>BsmtCond_Tencode  </th><th>BsmtExposure_Tencode  </th><th>BsmtFinType1_Tencode  </th><th>BsmtFinType2_Tencode  </th><th>Heating_Tencode   </th><th>HeatingQC_Tencode  </th><th>CentralAir_Tencode  </th><th>Electrical_Tencode  </th><th>KitchenQual_Tencode  </th><th>Functional_Tencode  </th><th>FireplaceQu_Tencode  </th><th>GarageType_Tencode  </th><th>GarageFinish_Tencode  </th><th>GarageQual_Tencode  </th><th>GarageCond_Tencode  </th><th>PavedDrive_Tencode  </th><th>PoolQC_Tencode    </th><th>Fence_Tencode     </th><th>MiscFeature_Tencode  </th><th>SaleType_Tencode  </th><th>SaleCondition_Tencode  </th></tr>\n",
       "</thead>\n",
       "<tbody>\n",
       "<tr><td>type   </td><td>int              </td><td>int               </td><td>int               </td><td>int               </td><td>int              </td><td>int               </td><td>int               </td><td>int               </td><td>int               </td><td>int               </td><td>int              </td><td>int               </td><td>int               </td><td>int              </td><td>int              </td><td>int               </td><td>int               </td><td>int                </td><td>int               </td><td>int                </td><td>int               </td><td>int                </td><td>int               </td><td>int               </td><td>int               </td><td>int               </td><td>int              </td><td>int               </td><td>int              </td><td>int              </td><td>int               </td><td>int               </td><td>int               </td><td>int               </td><td>int              </td><td>int               </td><td>real              </td><td>real              </td><td>real              </td><td>real              </td><td>real                 </td><td>real                  </td><td>real               </td><td>real               </td><td>real                  </td><td>real                </td><td>real                </td><td>real              </td><td>real                </td><td>real               </td><td>real              </td><td>real                 </td><td>real                 </td><td>real                </td><td>real               </td><td>real               </td><td>real                </td><td>real              </td><td>real              </td><td>real                  </td><td>real                  </td><td>real                  </td><td>real              </td><td>real               </td><td>real                </td><td>real                </td><td>real                 </td><td>real                </td><td>real                 </td><td>real                </td><td>real                  </td><td>real                </td><td>real                </td><td>real                </td><td>real              </td><td>real              </td><td>real                 </td><td>real              </td><td>real                   </td></tr>\n",
       "<tr><td>mins   </td><td>20.0             </td><td>21.0              </td><td>1491.0            </td><td>1.0               </td><td>1.0              </td><td>1872.0            </td><td>1950.0            </td><td>0.0               </td><td>0.0               </td><td>0.0               </td><td>0.0              </td><td>0.0               </td><td>334.0             </td><td>0.0              </td><td>0.0              </td><td>334.0             </td><td>0.0               </td><td>0.0                </td><td>0.0               </td><td>0.0                </td><td>0.0               </td><td>1.0                </td><td>2.0               </td><td>0.0               </td><td>1900.0            </td><td>0.0               </td><td>0.0              </td><td>0.0               </td><td>0.0              </td><td>0.0              </td><td>0.0               </td><td>0.0               </td><td>0.0               </td><td>0.0               </td><td>1.0              </td><td>2006.0            </td><td>118217.35784313723</td><td>95579.02450980392 </td><td>134607.54723707662</td><td>163981.4191419142 </td><td>163075.56297134238   </td><td>178193.4967320261     </td><td>165751.57330498463 </td><td>175531.83179723503 </td><td>112866.7168174962     </td><td>150223.0311764706   </td><td>84954.02450980392   </td><td>128987.56617647059</td><td>122402.59593837534  </td><td>139864.02450980392 </td><td>175904.02450980392</td><td>96429.02450980392    </td><td>106204.02450980392   </td><td>131576.52450980392  </td><td>91042.14950980392  </td><td>91754.02450980392  </td><td>110363.31736694675  </td><td>134771.7517825312 </td><td>78579.02450980392 </td><td>161376.63366336632    </td><td>146338.19117647054    </td><td>145091.52450980392    </td><td>77729.02450980392 </td><td>100679.02450980392 </td><td>111601.52450980392  </td><td>100143.52450980392  </td><td>105130.89950980392   </td><td>84954.02450980392   </td><td>133191.52450980392   </td><td>111434.07450980392  </td><td>143948.79679144386    </td><td>134853.20367647058  </td><td>118776.94117647059  </td><td>114840.96895424835  </td><td>178193.4967320261 </td><td>133419.96200980392</td><td>73479.02450980392    </td><td>107734.02450980392</td><td>143816.52450980392     </td></tr>\n",
       "<tr><td>mean   </td><td>56.48148148148149</td><td>68.85751978891821 </td><td>10273.808278867104</td><td>6.0               </td><td>5.557734204793029</td><td>1969.0196078431372</td><td>1984.2701525054467</td><td>96.68340611353712 </td><td>439.36601307189545</td><td>57.23529411764707 </td><td>548.1590413943355</td><td>1044.7603485838783</td><td>1141.9912854030501</td><td>358.3442265795207</td><td>5.668845315904139</td><td>1506.0043572984753</td><td>0.4226579520697168</td><td>0.05228758169934641</td><td>1.5446623093681917</td><td>0.38562091503267976</td><td>2.8562091503267975</td><td>1.0457516339869284 </td><td>6.529411764705884 </td><td>0.5969498910675382</td><td>1977.9953051643195</td><td>1.710239651416122 </td><td>463.1917211328976</td><td>101.15904139433553</td><td>50.44662309368194</td><td>23.47276688453159</td><td>3.30718954248366  </td><td>15.710239651416122</td><td>1.411764705882353 </td><td>51.78649237472766 </td><td>6.233115468409586</td><td>2007.7886710239645</td><td>179328.32668845312</td><td>178225.25931265752</td><td>176164.9969256838 </td><td>176786.222382417  </td><td>177854.22806185653   </td><td>178193.49673202608    </td><td>178163.26637404418 </td><td>177815.9926203597  </td><td>178193.49673202622    </td><td>178617.62590029472  </td><td>178197.18104147975  </td><td>178649.1491050451 </td><td>177648.76674783204  </td><td>177381.14581571188 </td><td>177969.71943483272</td><td>179651.10523303004   </td><td>179728.6088213935    </td><td>176108.20460862629  </td><td>174940.2994916485  </td><td>178484.556313811   </td><td>179041.90369302404  </td><td>179069.59942970655</td><td>180413.2355397497 </td><td>178366.11043615706    </td><td>180031.30962236744    </td><td>180587.6997415524     </td><td>178371.04867785895</td><td>180663.6615169379  </td><td>179115.18492887355  </td><td>179083.62772865137  </td><td>177298.2844312017    </td><td>178425.73264556364  </td><td>194587.77315419997   </td><td>185134.53079371178  </td><td>181122.0343137255     </td><td>184195.20382758768  </td><td>184432.01265538894  </td><td>179002.96058140037  </td><td>178198.69396030012</td><td>173941.1787702735 </td><td>177409.6635197288    </td><td>177239.6370242215 </td><td>177335.48292323464     </td></tr>\n",
       "<tr><td>maxs   </td><td>190.0            </td><td>182.0             </td><td>215245.0          </td><td>10.0              </td><td>9.0              </td><td>2009.0            </td><td>2009.0            </td><td>1600.0            </td><td>1880.0            </td><td>1474.0            </td><td>2336.0           </td><td>3200.0            </td><td>3228.0            </td><td>1611.0           </td><td>572.0            </td><td>3608.0            </td><td>2.0               </td><td>1.0                </td><td>3.0               </td><td>2.0                </td><td>6.0               </td><td>2.0                </td><td>12.0              </td><td>3.0               </td><td>2009.0            </td><td>4.0               </td><td>1248.0           </td><td>857.0             </td><td>547.0            </td><td>301.0            </td><td>407.0             </td><td>480.0             </td><td>648.0             </td><td>8300.0            </td><td>12.0             </td><td>2010.0            </td><td>219311.6970098039 </td><td>178405.7096069869 </td><td>180974.4445098039 </td><td>257372.27450980392</td><td>252389.9995098039    </td><td>178193.4967320261     </td><td>221371.6687405731  </td><td>219485.84269162212 </td><td>288359.0245098039     </td><td>311479.0245098039   </td><td>302979.0245098039   </td><td>183943.1995098039 </td><td>221634.02450980392  </td><td>205162.1274859944  </td><td>296434.0245098039 </td><td>230256.21200980392   </td><td>237481.8022875817    </td><td>243111.468058191    </td><td>311103.9129713424  </td><td>197862.35784313726 </td><td>222366.88205128204  </td><td>287410.74022408965</td><td>204324.73418722322</td><td>252970.21398348815    </td><td>224699.7863950498     </td><td>194068.52450980392    </td><td>179414.41573033712</td><td>211491.75330396474 </td><td>184861.0283687943   </td><td>184788.65617433414  </td><td>307728.63562091504   </td><td>181312.14950980392  </td><td>345181.5245098039    </td><td>243247.17284313726  </td><td>223156.8495098039     </td><td>282791.5245098039   </td><td>187300.52567237162  </td><td>184063.06872037915  </td><td>180579.02450980392</td><td>181956.919246646  </td><td>188229.02450980392   </td><td>255001.6042717087 </td><td>255001.6042717087      </td></tr>\n",
       "<tr><td>sigma  </td><td>42.51618219006454</td><td>22.382220012059978</td><td>11072.988785723224</td><td>1.4417359744722111</td><td>1.164635411186286</td><td>30.82351593092024 </td><td>20.739310451691118</td><td>183.20670903674738</td><td>431.4241433973325 </td><td>185.24001065203294</td><td>436.0358278966987</td><td>412.08118513284444</td><td>373.0166882400161 </td><td>444.5856999141146</td><td>46.66085163497713</td><td>537.1049436609105 </td><td>0.5161250426046552</td><td>0.2228492452574714 </td><td>0.5445931590280559</td><td>0.5091844194507409 </td><td>0.8391483048651235</td><td>0.20917396118996429</td><td>1.7068785455857545</td><td>0.6515613257699316</td><td>24.74348354429214 </td><td>0.7712943151662266</td><td>221.9549854463704</td><td>136.0428056028113 </td><td>72.74780631554772</td><td>61.32101817353126</td><td>28.184579011387555</td><td>59.127913702103534</td><td>30.246049815005012</td><td>449.54109321577573</td><td>2.762054423699208</td><td>1.3530662972075558</td><td>22954.507567875302</td><td>3866.0185855881623</td><td>9343.377742370943 </td><td>21170.42264902132 </td><td>12704.546441754977   </td><td>1.4566928583274597e-11</td><td>11574.4525615196   </td><td>9612.485004032442  </td><td>47446.35307377432     </td><td>12058.531723299979  </td><td>7675.716724689658   </td><td>11313.686291071555</td><td>21371.858060255643  </td><td>13516.296484902436 </td><td>12445.87241289975 </td><td>27697.042657464834   </td><td>26639.054892573466   </td><td>27404.304553567163  </td><td>46704.676972640176 </td><td>12461.39043678306  </td><td>37636.63649998418   </td><td>44973.30052212845 </td><td>13346.550640278581</td><td>27626.169564810094    </td><td>27951.82176724417     </td><td>6894.848900014338     </td><td>7482.963820995203 </td><td>31183.876623648637 </td><td>19717.249202290554  </td><td>17731.970597652486  </td><td>48579.93227209305    </td><td>8139.874204543358   </td><td>26261.653007678      </td><td>30435.66812388826   </td><td>32859.95876853635     </td><td>10759.770112055128  </td><td>11807.813469454744  </td><td>17370.73133050444   </td><td>111.34690123726485</td><td>10548.08650865389 </td><td>5663.060039991692    </td><td>25705.64861904969 </td><td>25636.556448480504     </td></tr>\n",
       "<tr><td>zeros  </td><td>0                </td><td>0                 </td><td>0                 </td><td>0                 </td><td>0                </td><td>0                 </td><td>0                 </td><td>291               </td><td>141               </td><td>399               </td><td>40               </td><td>12                </td><td>0                 </td><td>257              </td><td>450              </td><td>0                 </td><td>270               </td><td>435                </td><td>3                 </td><td>287                </td><td>2                 </td><td>0                  </td><td>0                 </td><td>224               </td><td>0                 </td><td>33                </td><td>33               </td><td>238               </td><td>196              </td><td>385              </td><td>451               </td><td>423               </td><td>458               </td><td>439               </td><td>0                </td><td>0                 </td><td>0                 </td><td>0                 </td><td>0                 </td><td>0                 </td><td>0                    </td><td>0                     </td><td>0                  </td><td>0                  </td><td>0                     </td><td>0                   </td><td>0                   </td><td>0                 </td><td>0                   </td><td>0                  </td><td>0                 </td><td>0                    </td><td>0                    </td><td>0                   </td><td>0                  </td><td>0                  </td><td>0                   </td><td>0                 </td><td>0                 </td><td>0                     </td><td>0                     </td><td>0                     </td><td>0                 </td><td>0                  </td><td>0                   </td><td>0                   </td><td>0                    </td><td>0                   </td><td>0                    </td><td>0                   </td><td>0                     </td><td>0                   </td><td>0                   </td><td>0                   </td><td>0                 </td><td>0                 </td><td>0                    </td><td>0                 </td><td>0                      </td></tr>\n",
       "<tr><td>missing</td><td>0                </td><td>80                </td><td>0                 </td><td>0                 </td><td>0                </td><td>0                 </td><td>0                 </td><td>1                 </td><td>0                 </td><td>0                 </td><td>0                </td><td>0                 </td><td>0                 </td><td>0                </td><td>0                </td><td>0                 </td><td>0                 </td><td>0                  </td><td>0                 </td><td>0                  </td><td>0                 </td><td>0                  </td><td>0                 </td><td>0                 </td><td>33                </td><td>0                 </td><td>0                </td><td>0                 </td><td>0                </td><td>0                </td><td>0                 </td><td>0                 </td><td>0                 </td><td>0                 </td><td>0                </td><td>0                 </td><td>0                 </td><td>0                 </td><td>0                 </td><td>0                 </td><td>0                    </td><td>0                     </td><td>0                  </td><td>0                  </td><td>0                     </td><td>0                   </td><td>0                   </td><td>0                 </td><td>0                   </td><td>0                  </td><td>0                 </td><td>0                    </td><td>0                    </td><td>0                   </td><td>0                  </td><td>0                  </td><td>0                   </td><td>0                 </td><td>0                 </td><td>0                     </td><td>0                     </td><td>0                     </td><td>0                 </td><td>0                  </td><td>0                   </td><td>0                   </td><td>0                    </td><td>0                   </td><td>0                    </td><td>0                   </td><td>0                     </td><td>0                   </td><td>0                   </td><td>0                   </td><td>0                 </td><td>0                 </td><td>0                    </td><td>0                 </td><td>0                      </td></tr>\n",
       "<tr><td>0      </td><td>70.0             </td><td>60.0              </td><td>9550.0            </td><td>7.0               </td><td>5.0              </td><td>1915.0            </td><td>1970.0            </td><td>0.0               </td><td>216.0             </td><td>0.0               </td><td>540.0            </td><td>756.0             </td><td>961.0             </td><td>756.0            </td><td>0.0              </td><td>1717.0            </td><td>1.0               </td><td>0.0                </td><td>1.0               </td><td>0.0                </td><td>3.0               </td><td>1.0                </td><td>7.0               </td><td>1.0               </td><td>1998.0            </td><td>3.0               </td><td>642.0            </td><td>0.0               </td><td>35.0             </td><td>272.0            </td><td>0.0               </td><td>0.0               </td><td>0.0               </td><td>0.0               </td><td>2.0              </td><td>2006.0            </td><td>187920.61064425771</td><td>178405.7096069869 </td><td>178193.4967320261 </td><td>194850.58566088302</td><td>175715.7828162291    </td><td>178193.4967320261     </td><td>165751.57330498463 </td><td>175531.83179723503 </td><td>216008.84593837534    </td><td>181573.27604166663  </td><td>178218.27472527474  </td><td>181805.66321243523</td><td>203633.455628685    </td><td>171401.71038251367 </td><td>176671.8111111111 </td><td>154595.81798806478   </td><td>180267.35784313726   </td><td>157482.0            </td><td>143747.87889273354 </td><td>180398.05693069307 </td><td>144486.10784313726  </td><td>138313.57142857142</td><td>204324.73418722322</td><td>161376.63366336632    </td><td>169309.44117647054    </td><td>182592.86046511628    </td><td>179414.41573033712</td><td>158961.70308123247 </td><td>184861.0283687943   </td><td>184788.65617433414  </td><td>211880.81318681315   </td><td>179857.76346604215  </td><td>219907.18575980392   </td><td>142532.16792065662  </td><td>143948.79679144386    </td><td>185601.24938271602  </td><td>187300.52567237162  </td><td>184063.06872037915  </td><td>178193.4967320261 </td><td>178193.4967320261 </td><td>178193.4967320261    </td><td>170822.7626262626 </td><td>147087.25059676042     </td></tr>\n",
       "<tr><td>1      </td><td>60.0             </td><td>nan               </td><td>10382.0           </td><td>7.0               </td><td>6.0              </td><td>1973.0            </td><td>1973.0            </td><td>240.0             </td><td>859.0             </td><td>32.0              </td><td>216.0            </td><td>1107.0            </td><td>1107.0            </td><td>983.0            </td><td>0.0              </td><td>2090.0            </td><td>1.0               </td><td>0.0                </td><td>2.0               </td><td>1.0                </td><td>3.0               </td><td>1.0                </td><td>7.0               </td><td>2.0               </td><td>1973.0            </td><td>2.0               </td><td>484.0            </td><td>235.0             </td><td>204.0            </td><td>228.0            </td><td>0.0               </td><td>0.0               </td><td>0.0               </td><td>350.0             </td><td>11.0             </td><td>2009.0            </td><td>187920.61064425771</td><td>178405.7096069869 </td><td>178193.4967320261 </td><td>194850.58566088302</td><td>175715.7828162291    </td><td>178193.4967320261     </td><td>165751.57330498463 </td><td>175531.83179723503 </td><td>184610.14950980392    </td><td>197366.52450980392  </td><td>178218.27472527474  </td><td>181805.66321243523</td><td>203633.455628685    </td><td>171401.71038251367 </td><td>176671.8111111111 </td><td>167128.41844919784   </td><td>169568.25527903467   </td><td>243111.468058191    </td><td>143747.87889273354 </td><td>180398.05693069307 </td><td>148549.72906403942  </td><td>206633.03141361254</td><td>181115.23         </td><td>199413.65506535943    </td><td>169309.44117647054    </td><td>156634.52450980392    </td><td>179414.41573033712</td><td>211491.75330396474 </td><td>184861.0283687943   </td><td>184788.65617433414  </td><td>140285.62820512822   </td><td>179857.76346604215  </td><td>205118.42900418595   </td><td>201051.3968871595   </td><td>201271.56721053383    </td><td>185601.24938271602  </td><td>187300.52567237162  </td><td>184063.06872037915  </td><td>178193.4967320261 </td><td>178193.4967320261 </td><td>163465.69117647054   </td><td>170822.7626262626 </td><td>171302.3622047244      </td></tr>\n",
       "<tr><td>2      </td><td>190.0            </td><td>50.0              </td><td>7420.0            </td><td>5.0               </td><td>6.0              </td><td>1939.0            </td><td>1950.0            </td><td>0.0               </td><td>851.0             </td><td>0.0               </td><td>140.0            </td><td>991.0             </td><td>1077.0            </td><td>0.0              </td><td>0.0              </td><td>1077.0            </td><td>1.0               </td><td>0.0                </td><td>1.0               </td><td>0.0                </td><td>2.0               </td><td>2.0                </td><td>5.0               </td><td>2.0               </td><td>1939.0            </td><td>1.0               </td><td>205.0            </td><td>0.0               </td><td>4.0              </td><td>0.0              </td><td>0.0               </td><td>0.0               </td><td>0.0               </td><td>0.0               </td><td>1.0              </td><td>2008.0            </td><td>187920.61064425771</td><td>178405.7096069869 </td><td>178193.4967320261 </td><td>163981.4191419142 </td><td>175715.7828162291    </td><td>178193.4967320261     </td><td>165751.57330498463 </td><td>175531.83179723503 </td><td>129965.77450980392    </td><td>152316.52450980392  </td><td>127029.02450980392  </td><td>128987.56617647059</td><td>122402.59593837534  </td><td>171401.71038251367 </td><td>176671.8111111111 </td><td>151733.02861939298   </td><td>151828.55059676044   </td><td>157482.0            </td><td>143747.87889273354 </td><td>180398.05693069307 </td><td>144486.10784313726  </td><td>138313.57142857142</td><td>181115.23         </td><td>161376.63366336632    </td><td>224699.7863950498     </td><td>182592.86046511628    </td><td>179414.41573033712</td><td>211491.75330396474 </td><td>184861.0283687943   </td><td>184788.65617433414  </td><td>140285.62820512822   </td><td>179857.76346604215  </td><td>205118.42900418595   </td><td>201051.3968871595   </td><td>201271.56721053383    </td><td>194951.10784313726  </td><td>187300.52567237162  </td><td>184063.06872037915  </td><td>178193.4967320261 </td><td>178193.4967320261 </td><td>178193.4967320261    </td><td>170822.7626262626 </td><td>171302.3622047244      </td></tr>\n",
       "<tr><td>3      </td><td>45.0             </td><td>51.0              </td><td>6120.0            </td><td>7.0               </td><td>8.0              </td><td>1929.0            </td><td>2001.0            </td><td>0.0               </td><td>0.0               </td><td>0.0               </td><td>832.0            </td><td>832.0             </td><td>854.0             </td><td>0.0              </td><td>0.0              </td><td>854.0             </td><td>0.0               </td><td>0.0                </td><td>1.0               </td><td>0.0                </td><td>2.0               </td><td>1.0                </td><td>5.0               </td><td>0.0               </td><td>1991.0            </td><td>2.0               </td><td>576.0            </td><td>48.0              </td><td>112.0            </td><td>0.0              </td><td>0.0               </td><td>0.0               </td><td>0.0               </td><td>0.0               </td><td>7.0              </td><td>2007.0            </td><td>132608.82714138282</td><td>178405.7096069869 </td><td>178193.4967320261 </td><td>163981.4191419142 </td><td>175715.7828162291    </td><td>178193.4967320261     </td><td>165751.57330498463 </td><td>175531.83179723503 </td><td>129965.77450980392    </td><td>181573.27604166663  </td><td>178218.27472527474  </td><td>181805.66321243523</td><td>122402.59593837534  </td><td>171401.71038251367 </td><td>176671.8111111111 </td><td>154595.81798806478   </td><td>163767.73719637108   </td><td>157482.0            </td><td>143747.87889273354 </td><td>180398.05693069307 </td><td>144486.10784313726  </td><td>138313.57142857142</td><td>181115.23         </td><td>161376.63366336632    </td><td>168970.1659826721     </td><td>182592.86046511628    </td><td>179414.41573033712</td><td>211491.75330396474 </td><td>184861.0283687943   </td><td>135344.4530812325   </td><td>140285.62820512822   </td><td>179857.76346604215  </td><td>178193.4967320261    </td><td>142532.16792065662  </td><td>143948.79679144386    </td><td>185601.24938271602  </td><td>187300.52567237162  </td><td>184063.06872037915  </td><td>178193.4967320261 </td><td>181956.919246646  </td><td>178193.4967320261    </td><td>170822.7626262626 </td><td>171302.3622047244      </td></tr>\n",
       "<tr><td>4      </td><td>20.0             </td><td>nan               </td><td>11241.0           </td><td>6.0               </td><td>7.0              </td><td>1970.0            </td><td>1970.0            </td><td>180.0             </td><td>578.0             </td><td>0.0               </td><td>426.0            </td><td>1004.0            </td><td>1004.0            </td><td>0.0              </td><td>0.0              </td><td>1004.0            </td><td>1.0               </td><td>0.0                </td><td>1.0               </td><td>0.0                </td><td>2.0               </td><td>1.0                </td><td>5.0               </td><td>1.0               </td><td>1970.0            </td><td>2.0               </td><td>480.0            </td><td>0.0               </td><td>0.0              </td><td>0.0              </td><td>0.0               </td><td>0.0               </td><td>0.0               </td><td>700.0             </td><td>3.0              </td><td>2010.0            </td><td>187920.61064425771</td><td>178405.7096069869 </td><td>178193.4967320261 </td><td>194850.58566088302</td><td>175715.7828162291    </td><td>178193.4967320261     </td><td>221371.6687405731  </td><td>175531.83179723503 </td><td>152080.32258672698    </td><td>181573.27604166663  </td><td>178218.27472527474  </td><td>181805.66321243523</td><td>170914.57205240175  </td><td>171401.71038251367 </td><td>176671.8111111111 </td><td>154595.81798806478   </td><td>163767.73719637108   </td><td>203114.2504640024   </td><td>143747.87889273354 </td><td>180398.05693069307 </td><td>148549.72906403942  </td><td>138313.57142857142</td><td>181115.23         </td><td>161376.63366336632    </td><td>169309.44117647054    </td><td>182592.86046511628    </td><td>179414.41573033712</td><td>211491.75330396474 </td><td>184861.0283687943   </td><td>184788.65617433414  </td><td>140285.62820512822   </td><td>179857.76346604215  </td><td>205118.42900418595   </td><td>201051.3968871595   </td><td>223156.8495098039     </td><td>185601.24938271602  </td><td>187300.52567237162  </td><td>184063.06872037915  </td><td>178193.4967320261 </td><td>178193.4967320261 </td><td>163465.69117647054   </td><td>170822.7626262626 </td><td>171302.3622047244      </td></tr>\n",
       "<tr><td>5      </td><td>20.0             </td><td>66.0              </td><td>13695.0           </td><td>5.0               </td><td>5.0              </td><td>2004.0            </td><td>2004.0            </td><td>0.0               </td><td>646.0             </td><td>0.0               </td><td>468.0            </td><td>1114.0            </td><td>1114.0            </td><td>0.0              </td><td>0.0              </td><td>1114.0            </td><td>1.0               </td><td>0.0                </td><td>1.0               </td><td>1.0                </td><td>3.0               </td><td>1.0                </td><td>6.0               </td><td>0.0               </td><td>2004.0            </td><td>2.0               </td><td>576.0            </td><td>0.0               </td><td>102.0            </td><td>0.0              </td><td>0.0               </td><td>0.0               </td><td>0.0               </td><td>0.0               </td><td>6.0              </td><td>2008.0            </td><td>187920.61064425771</td><td>178405.7096069869 </td><td>178193.4967320261 </td><td>163981.4191419142 </td><td>175715.7828162291    </td><td>178193.4967320261     </td><td>177919.81360946747 </td><td>175531.83179723503 </td><td>189097.7776348039     </td><td>150829.02450980392  </td><td>178218.27472527474  </td><td>181805.66321243523</td><td>170914.57205240175  </td><td>171401.71038251367 </td><td>176671.8111111111 </td><td>206602.9363057325    </td><td>209302.39072847684   </td><td>157482.0            </td><td>143747.87889273354 </td><td>180398.05693069307 </td><td>222366.88205128204  </td><td>138313.57142857142</td><td>181115.23         </td><td>161376.63366336632    </td><td>224699.7863950498     </td><td>182592.86046511628    </td><td>179414.41573033712</td><td>211491.75330396474 </td><td>184861.0283687943   </td><td>184788.65617433414  </td><td>211880.81318681315   </td><td>179857.76346604215  </td><td>178193.4967320261    </td><td>142532.16792065662  </td><td>143948.79679144386    </td><td>185601.24938271602  </td><td>187300.52567237162  </td><td>184063.06872037915  </td><td>178193.4967320261 </td><td>178193.4967320261 </td><td>178193.4967320261    </td><td>170822.7626262626 </td><td>171302.3622047244      </td></tr>\n",
       "<tr><td>6      </td><td>45.0             </td><td>57.0              </td><td>7449.0            </td><td>7.0               </td><td>7.0              </td><td>1930.0            </td><td>1950.0            </td><td>0.0               </td><td>0.0               </td><td>0.0               </td><td>637.0            </td><td>637.0             </td><td>1108.0            </td><td>0.0              </td><td>0.0              </td><td>1108.0            </td><td>0.0               </td><td>0.0                </td><td>1.0               </td><td>0.0                </td><td>3.0               </td><td>1.0                </td><td>6.0               </td><td>1.0               </td><td>1930.0            </td><td>1.0               </td><td>280.0            </td><td>0.0               </td><td>0.0              </td><td>205.0            </td><td>0.0               </td><td>0.0               </td><td>0.0               </td><td>0.0               </td><td>6.0              </td><td>2007.0            </td><td>132608.82714138282</td><td>178405.7096069869 </td><td>134607.54723707662</td><td>163981.4191419142 </td><td>163075.56297134238   </td><td>178193.4967320261     </td><td>177919.81360946747 </td><td>175531.83179723503 </td><td>112866.7168174962     </td><td>181573.27604166663  </td><td>178218.27472527474  </td><td>181805.66321243523</td><td>122402.59593837534  </td><td>171401.71038251367 </td><td>176671.8111111111 </td><td>154595.81798806478   </td><td>163767.73719637108   </td><td>157482.0            </td><td>143747.87889273354 </td><td>180398.05693069307 </td><td>222366.88205128204  </td><td>138313.57142857142</td><td>181115.23         </td><td>161376.63366336632    </td><td>168970.1659826721     </td><td>182592.86046511628    </td><td>179414.41573033712</td><td>211491.75330396474 </td><td>184861.0283687943   </td><td>100143.52450980392  </td><td>211880.81318681315   </td><td>179857.76346604215  </td><td>219907.18575980392   </td><td>201051.3968871595   </td><td>143948.79679144386    </td><td>185601.24938271602  </td><td>187300.52567237162  </td><td>114840.96895424835  </td><td>178193.4967320261 </td><td>181956.919246646  </td><td>178193.4967320261    </td><td>170822.7626262626 </td><td>171302.3622047244      </td></tr>\n",
       "<tr><td>7      </td><td>30.0             </td><td>60.0              </td><td>6324.0            </td><td>4.0               </td><td>6.0              </td><td>1927.0            </td><td>1950.0            </td><td>0.0               </td><td>0.0               </td><td>0.0               </td><td>520.0            </td><td>520.0             </td><td>520.0             </td><td>0.0              </td><td>0.0              </td><td>520.0             </td><td>0.0               </td><td>0.0                </td><td>1.0               </td><td>0.0                </td><td>1.0               </td><td>1.0                </td><td>4.0               </td><td>0.0               </td><td>1920.0            </td><td>1.0               </td><td>240.0            </td><td>49.0              </td><td>0.0              </td><td>87.0             </td><td>0.0               </td><td>0.0               </td><td>0.0               </td><td>0.0               </td><td>5.0              </td><td>2008.0            </td><td>132608.82714138282</td><td>178405.7096069869 </td><td>178193.4967320261 </td><td>194850.58566088302</td><td>175715.7828162291    </td><td>178193.4967320261     </td><td>177919.81360946747 </td><td>175531.83179723503 </td><td>129965.77450980392    </td><td>150223.0311764706   </td><td>84954.02450980392   </td><td>181805.66321243523</td><td>170914.57205240175  </td><td>171401.71038251367 </td><td>176671.8111111111 </td><td>151733.02861939298   </td><td>151828.55059676044   </td><td>157482.0            </td><td>143747.87889273354 </td><td>180398.05693069307 </td><td>144486.10784313726  </td><td>138313.57142857142</td><td>181115.23         </td><td>161376.63366336632    </td><td>168970.1659826721     </td><td>182592.86046511628    </td><td>179414.41573033712</td><td>127694.14950980392 </td><td>111601.52450980392  </td><td>184788.65617433414  </td><td>105130.89950980392   </td><td>179857.76346604215  </td><td>178193.4967320261    </td><td>142532.16792065662  </td><td>143948.79679144386    </td><td>134853.20367647058  </td><td>187300.52567237162  </td><td>184063.06872037915  </td><td>178193.4967320261 </td><td>178193.4967320261 </td><td>178193.4967320261    </td><td>170822.7626262626 </td><td>171302.3622047244      </td></tr>\n",
       "<tr><td>8      </td><td>20.0             </td><td>nan               </td><td>8544.0            </td><td>5.0               </td><td>6.0              </td><td>1966.0            </td><td>2006.0            </td><td>0.0               </td><td>0.0               </td><td>0.0               </td><td>1228.0           </td><td>1228.0            </td><td>1228.0            </td><td>0.0              </td><td>0.0              </td><td>1228.0            </td><td>0.0               </td><td>0.0                </td><td>1.0               </td><td>1.0                </td><td>3.0               </td><td>1.0                </td><td>6.0               </td><td>0.0               </td><td>1966.0            </td><td>1.0               </td><td>271.0            </td><td>0.0               </td><td>65.0             </td><td>0.0              </td><td>0.0               </td><td>0.0               </td><td>0.0               </td><td>0.0               </td><td>6.0              </td><td>2008.0            </td><td>187920.61064425771</td><td>178405.7096069869 </td><td>178193.4967320261 </td><td>194850.58566088302</td><td>175715.7828162291    </td><td>178193.4967320261     </td><td>221371.6687405731  </td><td>175531.83179723503 </td><td>143162.40700980392    </td><td>181573.27604166663  </td><td>178218.27472527474  </td><td>181805.66321243523</td><td>170914.57205240175  </td><td>171401.71038251367 </td><td>176671.8111111111 </td><td>167128.41844919784   </td><td>169568.25527903467   </td><td>157482.0            </td><td>143747.87889273354 </td><td>180398.05693069307 </td><td>148549.72906403942  </td><td>138313.57142857142</td><td>181115.23         </td><td>161376.63366336632    </td><td>168970.1659826721     </td><td>182592.86046511628    </td><td>179414.41573033712</td><td>158961.70308123247 </td><td>184861.0283687943   </td><td>184788.65617433414  </td><td>211880.81318681315   </td><td>179857.76346604215  </td><td>178193.4967320261    </td><td>201051.3968871595   </td><td>143948.79679144386    </td><td>185601.24938271602  </td><td>187300.52567237162  </td><td>184063.06872037915  </td><td>178193.4967320261 </td><td>151206.9049445865 </td><td>178193.4967320261    </td><td>170822.7626262626 </td><td>171302.3622047244      </td></tr>\n",
       "<tr><td>9      </td><td>20.0             </td><td>112.0             </td><td>10859.0           </td><td>5.0               </td><td>5.0              </td><td>1994.0            </td><td>1995.0            </td><td>0.0               </td><td>0.0               </td><td>0.0               </td><td>1097.0           </td><td>1097.0            </td><td>1097.0            </td><td>0.0              </td><td>0.0              </td><td>1097.0            </td><td>0.0               </td><td>0.0                </td><td>1.0               </td><td>1.0                </td><td>3.0               </td><td>1.0                </td><td>6.0               </td><td>0.0               </td><td>1995.0            </td><td>2.0               </td><td>672.0            </td><td>392.0             </td><td>64.0             </td><td>0.0              </td><td>0.0               </td><td>0.0               </td><td>0.0               </td><td>0.0               </td><td>6.0              </td><td>2009.0            </td><td>187920.61064425771</td><td>178405.7096069869 </td><td>178193.4967320261 </td><td>163981.4191419142 </td><td>175715.7828162291    </td><td>178193.4967320261     </td><td>165751.57330498463 </td><td>175531.83179723503 </td><td>190019.77971813726    </td><td>181573.27604166663  </td><td>178218.27472527474  </td><td>181805.66321243523</td><td>170914.57205240175  </td><td>171401.71038251367 </td><td>176671.8111111111 </td><td>206602.9363057325    </td><td>209302.39072847684   </td><td>157482.0            </td><td>143747.87889273354 </td><td>180398.05693069307 </td><td>222366.88205128204  </td><td>206633.03141361254</td><td>181115.23         </td><td>161376.63366336632    </td><td>168970.1659826721     </td><td>182592.86046511628    </td><td>179414.41573033712</td><td>211491.75330396474 </td><td>184861.0283687943   </td><td>184788.65617433414  </td><td>140285.62820512822   </td><td>179857.76346604215  </td><td>178193.4967320261    </td><td>201051.3968871595   </td><td>143948.79679144386    </td><td>185601.24938271602  </td><td>187300.52567237162  </td><td>184063.06872037915  </td><td>178193.4967320261 </td><td>178193.4967320261 </td><td>178193.4967320261    </td><td>170822.7626262626 </td><td>171302.3622047244      </td></tr>\n",
       "</tbody>\n",
       "</table>"
      ]
     },
     "metadata": {},
     "output_type": "display_data"
    },
    {
     "name": "stdout",
     "output_type": "stream",
     "text": [
      "--------------------------------------------------------------------------------\n",
      "Imputed and encoded numeric test data:\n",
      "Rows:1459\n",
      "Cols:79\n",
      "\n",
      "\n"
     ]
    },
    {
     "data": {
      "text/html": [
       "<table>\n",
       "<thead>\n",
       "<tr><th>       </th><th>MSSubClass        </th><th>LotFrontage       </th><th>LotArea          </th><th>OverallQual       </th><th>OverallCond       </th><th>YearBuilt         </th><th>YearRemodAdd      </th><th>MasVnrArea        </th><th>BsmtFinSF1       </th><th>BsmtFinSF2       </th><th>BsmtUnfSF        </th><th>TotalBsmtSF       </th><th>1stFlrSF          </th><th>2ndFlrSF          </th><th>LowQualFinSF      </th><th>GrLivArea         </th><th>BsmtFullBath      </th><th>BsmtHalfBath       </th><th>FullBath          </th><th>HalfBath           </th><th>BedroomAbvGr      </th><th>KitchenAbvGr       </th><th>TotRmsAbvGrd      </th><th>Fireplaces        </th><th>GarageYrBlt       </th><th>GarageCars        </th><th>GarageArea        </th><th>WoodDeckSF        </th><th>OpenPorchSF      </th><th>EnclosedPorch     </th><th>3SsnPorch        </th><th>ScreenPorch       </th><th>PoolArea          </th><th>MiscVal          </th><th>MoSold            </th><th>YrSold            </th><th>MSZoning_Tencode  </th><th>Street_Tencode    </th><th>Alley_Tencode     </th><th>LotShape_Tencode  </th><th>LandContour_Tencode  </th><th>Utilities_Tencode  </th><th>LotConfig_Tencode  </th><th>LandSlope_Tencode  </th><th>Neighborhood_Tencode  </th><th>Condition1_Tencode  </th><th>Condition2_Tencode  </th><th>BldgType_Tencode  </th><th>HouseStyle_Tencode  </th><th>RoofStyle_Tencode  </th><th>RoofMatl_Tencode  </th><th>Exterior1st_Tencode  </th><th>Exterior2nd_Tencode  </th><th>MasVnrType_Tencode  </th><th>ExterQual_Tencode  </th><th>ExterCond_Tencode  </th><th>Foundation_Tencode  </th><th>BsmtQual_Tencode  </th><th>BsmtCond_Tencode  </th><th>BsmtExposure_Tencode  </th><th>BsmtFinType1_Tencode  </th><th>BsmtFinType2_Tencode  </th><th>Heating_Tencode   </th><th>HeatingQC_Tencode  </th><th>CentralAir_Tencode  </th><th>Electrical_Tencode  </th><th>KitchenQual_Tencode  </th><th>Functional_Tencode  </th><th>FireplaceQu_Tencode  </th><th>GarageType_Tencode  </th><th>GarageFinish_Tencode  </th><th>GarageQual_Tencode  </th><th>GarageCond_Tencode  </th><th>PavedDrive_Tencode  </th><th>PoolQC_Tencode   </th><th>Fence_Tencode     </th><th>MiscFeature_Tencode  </th><th>SaleType_Tencode  </th><th>SaleCondition_Tencode  </th></tr>\n",
       "</thead>\n",
       "<tbody>\n",
       "<tr><td>type   </td><td>int               </td><td>int               </td><td>int              </td><td>int               </td><td>int               </td><td>int               </td><td>int               </td><td>int               </td><td>int              </td><td>int              </td><td>int              </td><td>int               </td><td>int               </td><td>int               </td><td>int               </td><td>int               </td><td>int               </td><td>int                </td><td>int               </td><td>int                </td><td>int               </td><td>int                </td><td>int               </td><td>int               </td><td>int               </td><td>int               </td><td>int               </td><td>int               </td><td>int              </td><td>int               </td><td>int              </td><td>int               </td><td>int               </td><td>int              </td><td>int               </td><td>int               </td><td>real              </td><td>real              </td><td>real              </td><td>real              </td><td>real                 </td><td>real               </td><td>real               </td><td>real               </td><td>real                  </td><td>real                </td><td>real                </td><td>real              </td><td>real                </td><td>real               </td><td>real              </td><td>real                 </td><td>real                 </td><td>real                </td><td>real               </td><td>real               </td><td>real                </td><td>real              </td><td>real              </td><td>real                  </td><td>real                  </td><td>real                  </td><td>real              </td><td>real               </td><td>real                </td><td>real                </td><td>real                 </td><td>real                </td><td>real                 </td><td>real                </td><td>real                  </td><td>real                </td><td>real                </td><td>real                </td><td>real             </td><td>real              </td><td>real                 </td><td>real              </td><td>real                   </td></tr>\n",
       "<tr><td>mins   </td><td>20.0              </td><td>21.0              </td><td>1470.0           </td><td>1.0               </td><td>1.0               </td><td>1879.0            </td><td>1950.0            </td><td>0.0               </td><td>0.0              </td><td>0.0              </td><td>0.0              </td><td>0.0               </td><td>407.0             </td><td>0.0               </td><td>0.0               </td><td>407.0             </td><td>0.0               </td><td>0.0                </td><td>0.0               </td><td>0.0                </td><td>0.0               </td><td>0.0                </td><td>3.0               </td><td>0.0               </td><td>1895.0            </td><td>0.0               </td><td>0.0               </td><td>0.0               </td><td>0.0              </td><td>0.0               </td><td>0.0              </td><td>0.0               </td><td>0.0               </td><td>0.0              </td><td>1.0               </td><td>2006.0            </td><td>118217.35784313723</td><td>95579.02450980392 </td><td>134607.54723707662</td><td>163981.4191419142 </td><td>163075.56297134238   </td><td>178193.4967320261  </td><td>165751.57330498463 </td><td>175531.83179723503 </td><td>112866.7168174962     </td><td>150223.0311764706   </td><td>127029.02450980392  </td><td>128987.56617647059</td><td>122402.59593837534  </td><td>139864.02450980392 </td><td>175904.02450980392</td><td>96429.02450980392    </td><td>106204.02450980392   </td><td>131576.52450980392  </td><td>91042.14950980392  </td><td>91754.02450980392  </td><td>110363.31736694675  </td><td>134771.7517825312 </td><td>78579.02450980392 </td><td>161376.63366336632    </td><td>146338.19117647054    </td><td>145091.52450980392    </td><td>77729.02450980392 </td><td>100679.02450980392 </td><td>111601.52450980392  </td><td>100143.52450980392  </td><td>105130.89950980392   </td><td>84954.02450980392   </td><td>133191.52450980392   </td><td>111434.07450980392  </td><td>143948.79679144386    </td><td>134853.20367647058  </td><td>118776.94117647059  </td><td>114840.96895424835  </td><td>178193.4967320261</td><td>133419.96200980392</td><td>73479.02450980392    </td><td>107734.02450980392</td><td>143816.52450980392     </td></tr>\n",
       "<tr><td>mean   </td><td>57.37834132967788 </td><td>68.58035714285712 </td><td>9819.161069225493</td><td>6.078821110349555 </td><td>5.553803975325566 </td><td>1971.3577793008913</td><td>1983.6627827278958</td><td>100.70914127423826</td><td>439.2037037037038</td><td>52.61934156378603</td><td>554.2949245541837</td><td>1046.1179698216738</td><td>1156.5346127484581</td><td>325.96778615490064</td><td>3.5435229609321452</td><td>1486.0459218642907</td><td>0.4344543582704187</td><td>0.06520247083047358</td><td>1.570938999314599 </td><td>0.37765592871830034</td><td>2.8540095956134337</td><td>1.042494859492803  </td><td>6.385195339273475 </td><td>0.5812200137080192</td><td>1977.7212165097756</td><td>1.7661179698216742</td><td>472.7688614540465 </td><td>93.17477724468819 </td><td>48.3139136394791 </td><td>24.243317340644268</td><td>1.794379712131597</td><td>17.064427690198766</td><td>1.7443454420836189</td><td>58.16792323509253</td><td>6.104180945853324 </td><td>2007.7697052775877</td><td>179232.0904301917 </td><td>178065.09267032953</td><td>176172.85149770897</td><td>176844.0836371834 </td><td>179174.22633752605   </td><td>178193.4967320261  </td><td>178278.00897433652 </td><td>177395.21920765386 </td><td>179660.93185381076    </td><td>179939.77372747517  </td><td>178369.39980873468  </td><td>178370.36965515942</td><td>176296.0327526844   </td><td>177370.70371664222 </td><td>176751.75320615343</td><td>179810.68688120894   </td><td>180995.2353182515    </td><td>178207.0798692451   </td><td>177673.68837649442 </td><td>178138.29247727426 </td><td>181006.29018575928  </td><td>181062.10689687656</td><td>179283.61725237893</td><td>179354.86101843632    </td><td>182091.99147253155    </td><td>180689.57815766838    </td><td>179140.34833949365</td><td>182227.81273899964 </td><td>179789.60281035834  </td><td>180126.11931528104  </td><td>179340.3962464452    </td><td>178383.03720943845  </td><td>194452.82035270391   </td><td>186339.7089378328   </td><td>180987.1789957136     </td><td>182567.66333366183  </td><td>184620.93755108098  </td><td>177090.15440559448  </td><td>178193.4967320261</td><td>174246.97835710915</td><td>177606.24421888925   </td><td>175933.10715345867</td><td>176492.09637795313     </td></tr>\n",
       "<tr><td>maxs   </td><td>190.0             </td><td>200.0             </td><td>56600.0          </td><td>10.0              </td><td>9.0               </td><td>2010.0            </td><td>2010.0            </td><td>1290.0            </td><td>4010.0           </td><td>1526.0           </td><td>2140.0           </td><td>5095.0            </td><td>5095.0            </td><td>1862.0            </td><td>1064.0            </td><td>5095.0            </td><td>3.0               </td><td>2.0                </td><td>4.0               </td><td>2.0                </td><td>6.0               </td><td>2.0                </td><td>15.0              </td><td>4.0               </td><td>2207.0            </td><td>5.0               </td><td>1488.0            </td><td>1424.0            </td><td>742.0            </td><td>1012.0            </td><td>360.0            </td><td>576.0             </td><td>800.0             </td><td>17000.0          </td><td>12.0              </td><td>2010.0            </td><td>219311.6970098039 </td><td>178405.7096069869 </td><td>180974.4445098039 </td><td>257372.27450980392</td><td>252389.9995098039    </td><td>178193.4967320261  </td><td>221371.6687405731  </td><td>219485.84269162212 </td><td>288359.0245098039     </td><td>311479.0245098039   </td><td>302979.0245098039   </td><td>183943.1995098039 </td><td>203633.455628685    </td><td>205162.1274859944  </td><td>296434.0245098039 </td><td>230256.21200980392   </td><td>237481.8022875817    </td><td>243111.468058191    </td><td>311103.9129713424  </td><td>197862.35784313726 </td><td>222366.88205128204  </td><td>287410.74022408965</td><td>204324.73418722322</td><td>252970.21398348815    </td><td>224699.7863950498     </td><td>194068.52450980392    </td><td>179414.41573033712</td><td>211491.75330396474 </td><td>184861.0283687943   </td><td>184788.65617433414  </td><td>307728.63562091504   </td><td>181312.14950980392  </td><td>345181.5245098039    </td><td>243247.17284313726  </td><td>223156.8495098039     </td><td>194951.10784313726  </td><td>187300.52567237162  </td><td>184063.06872037915  </td><td>178193.4967320261</td><td>181956.919246646  </td><td>188229.02450980392   </td><td>255001.6042717087 </td><td>255001.6042717087      </td></tr>\n",
       "<tr><td>sigma  </td><td>42.746879618718225</td><td>22.376841280775118</td><td>4955.517326926449</td><td>1.4368116404730182</td><td>1.1137396032892084</td><td>30.39007083720537 </td><td>21.13046690817055 </td><td>177.62590010361572</td><td>455.2680419797156</td><td>176.7539261267296</td><td>437.2604858112794</td><td>442.8986241678417 </td><td>398.16581959237897</td><td>420.6102264691034 </td><td>44.043250864375565</td><td>485.5660986532532 </td><td>0.5306475357080621</td><td>0.2524682621647406 </td><td>0.5551898880356614</td><td>0.5030166769415859 </td><td>0.8297883627354511</td><td>0.20847167211324957</td><td>1.5088945751925407</td><td>0.6474204530720101</td><td>26.431174889801383</td><td>0.7759450711253341</td><td>217.04861112784332</td><td>127.74488151907605</td><td>68.88336411315396</td><td>67.22776541956969 </td><td>20.2078417514965 </td><td>56.609762906910554</td><td>30.491646305342062</td><td>630.806977589708 </td><td>2.7224319012508054</td><td>1.3017401493799416</td><td>23489.406573197462</td><td>5302.397777524545 </td><td>9344.44106426922  </td><td>19890.63718996989 </td><td>16731.149524355016   </td><td>0.0                </td><td>11456.730191238736 </td><td>8806.028004426134  </td><td>48658.82908689112     </td><td>15269.946772589554  </td><td>6115.230699170752   </td><td>11421.922290373093</td><td>20533.37759143995   </td><td>13409.559779876743 </td><td>3137.2359609732157</td><td>27215.58518471739    </td><td>25951.286853243662   </td><td>28422.54135345876   </td><td>48363.331700835224 </td><td>13372.261749177289 </td><td>38032.674909447305  </td><td>46910.286847951735</td><td>13660.621364478931</td><td>28882.71553690542     </td><td>28488.122976770384    </td><td>6944.959535831841     </td><td>4120.712522628475 </td><td>30689.890057024273 </td><td>18602.363953739645  </td><td>15963.223969023635  </td><td>50064.369659260024   </td><td>7764.753398575106   </td><td>26907.81955497986    </td><td>30059.124281346794  </td><td>33850.8749625697      </td><td>11447.223084004694  </td><td>11764.269564905073  </td><td>20263.25653257762   </td><td>0.0              </td><td>9594.992921526904 </td><td>4663.358457904921    </td><td>24826.258639866202</td><td>24614.44880810992      </td></tr>\n",
       "<tr><td>zeros  </td><td>0                 </td><td>0                 </td><td>0                </td><td>0                 </td><td>0                 </td><td>0                 </td><td>0                 </td><td>877               </td><td>462              </td><td>1278             </td><td>123              </td><td>41                </td><td>0                 </td><td>839               </td><td>1445              </td><td>0                 </td><td>849               </td><td>1364               </td><td>3                 </td><td>921                </td><td>2                 </td><td>2                  </td><td>0                 </td><td>730               </td><td>0                 </td><td>76                </td><td>76                </td><td>762               </td><td>642              </td><td>1208              </td><td>1446             </td><td>1319              </td><td>1453              </td><td>1408             </td><td>0                 </td><td>0                 </td><td>0                 </td><td>0                 </td><td>0                 </td><td>0                 </td><td>0                    </td><td>0                  </td><td>0                  </td><td>0                  </td><td>0                     </td><td>0                   </td><td>0                   </td><td>0                 </td><td>0                   </td><td>0                  </td><td>0                 </td><td>0                    </td><td>0                    </td><td>0                   </td><td>0                  </td><td>0                  </td><td>0                   </td><td>0                 </td><td>0                 </td><td>0                     </td><td>0                     </td><td>0                     </td><td>0                 </td><td>0                  </td><td>0                   </td><td>0                   </td><td>0                    </td><td>0                   </td><td>0                    </td><td>0                   </td><td>0                     </td><td>0                   </td><td>0                   </td><td>0                   </td><td>0                </td><td>0                 </td><td>0                    </td><td>0                 </td><td>0                      </td></tr>\n",
       "<tr><td>missing</td><td>0                 </td><td>227               </td><td>0                </td><td>0                 </td><td>0                 </td><td>0                 </td><td>0                 </td><td>15                </td><td>1                </td><td>1                </td><td>1                </td><td>1                 </td><td>0                 </td><td>0                 </td><td>0                 </td><td>0                 </td><td>2                 </td><td>2                  </td><td>0                 </td><td>0                  </td><td>0                 </td><td>0                  </td><td>0                 </td><td>0                 </td><td>78                </td><td>1                 </td><td>1                 </td><td>0                 </td><td>0                </td><td>0                 </td><td>0                </td><td>0                 </td><td>0                 </td><td>0                </td><td>0                 </td><td>0                 </td><td>0                 </td><td>0                 </td><td>0                 </td><td>0                 </td><td>0                    </td><td>0                  </td><td>0                  </td><td>0                  </td><td>0                     </td><td>0                   </td><td>0                   </td><td>0                 </td><td>0                   </td><td>0                  </td><td>0                 </td><td>0                    </td><td>0                    </td><td>0                   </td><td>0                  </td><td>0                  </td><td>0                   </td><td>0                 </td><td>0                 </td><td>0                     </td><td>0                     </td><td>0                     </td><td>0                 </td><td>0                  </td><td>0                   </td><td>0                   </td><td>0                    </td><td>0                   </td><td>0                    </td><td>0                   </td><td>0                     </td><td>0                   </td><td>0                   </td><td>0                   </td><td>0                </td><td>0                 </td><td>0                    </td><td>0                 </td><td>0                      </td></tr>\n",
       "<tr><td>0      </td><td>20.0              </td><td>80.0              </td><td>11622.0          </td><td>5.0               </td><td>6.0               </td><td>1961.0            </td><td>1961.0            </td><td>0.0               </td><td>468.0            </td><td>144.0            </td><td>270.0            </td><td>882.0             </td><td>896.0             </td><td>0.0               </td><td>0.0               </td><td>896.0             </td><td>0.0               </td><td>0.0                </td><td>1.0               </td><td>0.0                </td><td>2.0               </td><td>1.0                </td><td>5.0               </td><td>0.0               </td><td>1961.0            </td><td>1.0               </td><td>730.0             </td><td>140.0             </td><td>0.0              </td><td>0.0               </td><td>0.0              </td><td>120.0             </td><td>0.0               </td><td>0.0              </td><td>6.0               </td><td>2010.0            </td><td>134962.35784313726</td><td>178405.7096069869 </td><td>178193.4967320261 </td><td>163981.4191419142 </td><td>175715.7828162291    </td><td>178193.4967320261  </td><td>177919.81360946747 </td><td>175531.83179723503 </td><td>152080.32258672698    </td><td>150223.0311764706   </td><td>178218.27472527474  </td><td>181805.66321243523</td><td>170914.57205240175  </td><td>171401.71038251367 </td><td>176671.8111111111 </td><td>206602.9363057325    </td><td>209302.39072847684   </td><td>157482.0            </td><td>143747.87889273354 </td><td>180398.05693069307 </td><td>148549.72906403942  </td><td>138313.57142857142</td><td>181115.23         </td><td>161376.63366336632    </td><td>156012.9060887513     </td><td>168862.10143288082    </td><td>179414.41573033712</td><td>149413.2797336845  </td><td>184861.0283687943   </td><td>184788.65617433414  </td><td>140285.62820512822   </td><td>179857.76346604215  </td><td>178193.4967320261    </td><td>201051.3968871595   </td><td>143948.79679144386    </td><td>185601.24938271602  </td><td>187300.52567237162  </td><td>184063.06872037915  </td><td>178193.4967320261</td><td>151206.9049445865 </td><td>178193.4967320261    </td><td>170822.7626262626 </td><td>171302.3622047244      </td></tr>\n",
       "<tr><td>1      </td><td>20.0              </td><td>81.0              </td><td>14267.0          </td><td>6.0               </td><td>6.0               </td><td>1958.0            </td><td>1958.0            </td><td>108.0             </td><td>923.0            </td><td>0.0              </td><td>406.0            </td><td>1329.0            </td><td>1329.0            </td><td>0.0               </td><td>0.0               </td><td>1329.0            </td><td>0.0               </td><td>0.0                </td><td>1.0               </td><td>1.0                </td><td>3.0               </td><td>1.0                </td><td>6.0               </td><td>0.0               </td><td>1958.0            </td><td>1.0               </td><td>312.0             </td><td>393.0             </td><td>36.0             </td><td>0.0               </td><td>0.0              </td><td>0.0               </td><td>0.0               </td><td>12500.0          </td><td>6.0               </td><td>2010.0            </td><td>187920.61064425771</td><td>178405.7096069869 </td><td>178193.4967320261 </td><td>194850.58566088302</td><td>175715.7828162291    </td><td>178193.4967320261  </td><td>165751.57330498463 </td><td>175531.83179723503 </td><td>152080.32258672698    </td><td>181573.27604166663  </td><td>178218.27472527474  </td><td>181805.66321243523</td><td>170914.57205240175  </td><td>205162.1274859944  </td><td>176671.8111111111 </td><td>154595.81798806478   </td><td>163767.73719637108   </td><td>203114.2504640024   </td><td>143747.87889273354 </td><td>180398.05693069307 </td><td>148549.72906403942  </td><td>138313.57142857142</td><td>181115.23         </td><td>161376.63366336632    </td><td>169309.44117647054    </td><td>182592.86046511628    </td><td>179414.41573033712</td><td>149413.2797336845  </td><td>184861.0283687943   </td><td>184788.65617433414  </td><td>211880.81318681315   </td><td>179857.76346604215  </td><td>178193.4967320261    </td><td>201051.3968871595   </td><td>143948.79679144386    </td><td>185601.24938271602  </td><td>187300.52567237162  </td><td>184063.06872037915  </td><td>178193.4967320261</td><td>178193.4967320261 </td><td>188229.02450980392   </td><td>170822.7626262626 </td><td>171302.3622047244      </td></tr>\n",
       "<tr><td>2      </td><td>60.0              </td><td>74.0              </td><td>13830.0          </td><td>5.0               </td><td>5.0               </td><td>1997.0            </td><td>1998.0            </td><td>0.0               </td><td>791.0            </td><td>0.0              </td><td>137.0            </td><td>928.0             </td><td>928.0             </td><td>701.0             </td><td>0.0               </td><td>1629.0            </td><td>0.0               </td><td>0.0                </td><td>2.0               </td><td>1.0                </td><td>3.0               </td><td>1.0                </td><td>6.0               </td><td>1.0               </td><td>1997.0            </td><td>2.0               </td><td>482.0             </td><td>212.0             </td><td>34.0             </td><td>0.0               </td><td>0.0              </td><td>0.0               </td><td>0.0               </td><td>0.0              </td><td>3.0               </td><td>2010.0            </td><td>187920.61064425771</td><td>178405.7096069869 </td><td>178193.4967320261 </td><td>194850.58566088302</td><td>175715.7828162291    </td><td>178193.4967320261  </td><td>177919.81360946747 </td><td>175531.83179723503 </td><td>191808.05969498912    </td><td>181573.27604166663  </td><td>178218.27472527474  </td><td>181805.66321243523</td><td>203633.455628685    </td><td>171401.71038251367 </td><td>176671.8111111111 </td><td>206602.9363057325    </td><td>209302.39072847684   </td><td>157482.0            </td><td>143747.87889273354 </td><td>180398.05693069307 </td><td>222366.88205128204  </td><td>206633.03141361254</td><td>181115.23         </td><td>161376.63366336632    </td><td>224699.7863950498     </td><td>182592.86046511628    </td><td>179414.41573033712</td><td>158961.70308123247 </td><td>184861.0283687943   </td><td>184788.65617433414  </td><td>140285.62820512822   </td><td>179857.76346604215  </td><td>205118.42900418595   </td><td>201051.3968871595   </td><td>223156.8495098039     </td><td>185601.24938271602  </td><td>187300.52567237162  </td><td>184063.06872037915  </td><td>178193.4967320261</td><td>151206.9049445865 </td><td>178193.4967320261    </td><td>170822.7626262626 </td><td>171302.3622047244      </td></tr>\n",
       "<tr><td>3      </td><td>60.0              </td><td>78.0              </td><td>9978.0           </td><td>6.0               </td><td>6.0               </td><td>1998.0            </td><td>1998.0            </td><td>20.0              </td><td>602.0            </td><td>0.0              </td><td>324.0            </td><td>926.0             </td><td>926.0             </td><td>678.0             </td><td>0.0               </td><td>1604.0            </td><td>0.0               </td><td>0.0                </td><td>2.0               </td><td>1.0                </td><td>3.0               </td><td>1.0                </td><td>7.0               </td><td>1.0               </td><td>1998.0            </td><td>2.0               </td><td>470.0             </td><td>360.0             </td><td>36.0             </td><td>0.0               </td><td>0.0              </td><td>0.0               </td><td>0.0               </td><td>0.0              </td><td>6.0               </td><td>2010.0            </td><td>187920.61064425771</td><td>178405.7096069869 </td><td>178193.4967320261 </td><td>194850.58566088302</td><td>175715.7828162291    </td><td>178193.4967320261  </td><td>177919.81360946747 </td><td>175531.83179723503 </td><td>191808.05969498912    </td><td>181573.27604166663  </td><td>178218.27472527474  </td><td>181805.66321243523</td><td>203633.455628685    </td><td>171401.71038251367 </td><td>176671.8111111111 </td><td>206602.9363057325    </td><td>209302.39072847684   </td><td>203114.2504640024   </td><td>143747.87889273354 </td><td>180398.05693069307 </td><td>222366.88205128204  </td><td>138313.57142857142</td><td>181115.23         </td><td>161376.63366336632    </td><td>224699.7863950498     </td><td>182592.86046511628    </td><td>179414.41573033712</td><td>211491.75330396474 </td><td>184861.0283687943   </td><td>184788.65617433414  </td><td>211880.81318681315   </td><td>179857.76346604215  </td><td>219907.18575980392   </td><td>201051.3968871595   </td><td>223156.8495098039     </td><td>185601.24938271602  </td><td>187300.52567237162  </td><td>184063.06872037915  </td><td>178193.4967320261</td><td>178193.4967320261 </td><td>178193.4967320261    </td><td>170822.7626262626 </td><td>171302.3622047244      </td></tr>\n",
       "<tr><td>4      </td><td>120.0             </td><td>43.0              </td><td>5005.0           </td><td>8.0               </td><td>5.0               </td><td>1992.0            </td><td>1992.0            </td><td>0.0               </td><td>263.0            </td><td>0.0              </td><td>1017.0           </td><td>1280.0            </td><td>1280.0            </td><td>0.0               </td><td>0.0               </td><td>1280.0            </td><td>0.0               </td><td>0.0                </td><td>2.0               </td><td>0.0                </td><td>2.0               </td><td>1.0                </td><td>5.0               </td><td>0.0               </td><td>1992.0            </td><td>2.0               </td><td>506.0             </td><td>0.0               </td><td>82.0             </td><td>0.0               </td><td>0.0              </td><td>144.0             </td><td>0.0               </td><td>0.0              </td><td>1.0               </td><td>2010.0            </td><td>187920.61064425771</td><td>178405.7096069869 </td><td>178193.4967320261 </td><td>194850.58566088302</td><td>252389.9995098039    </td><td>178193.4967320261  </td><td>177919.81360946747 </td><td>175531.83179723503 </td><td>288359.0245098039     </td><td>181573.27604166663  </td><td>178218.27472527474  </td><td>183943.1995098039 </td><td>170914.57205240175  </td><td>171401.71038251367 </td><td>176671.8111111111 </td><td>167128.41844919784   </td><td>169568.25527903467   </td><td>157482.0            </td><td>228065.58659034083 </td><td>180398.05693069307 </td><td>222366.88205128204  </td><td>206633.03141361254</td><td>181115.23         </td><td>161376.63366336632    </td><td>169309.44117647054    </td><td>182592.86046511628    </td><td>179414.41573033712</td><td>211491.75330396474 </td><td>184861.0283687943   </td><td>184788.65617433414  </td><td>211880.81318681315   </td><td>179857.76346604215  </td><td>178193.4967320261    </td><td>201051.3968871595   </td><td>201271.56721053383    </td><td>185601.24938271602  </td><td>187300.52567237162  </td><td>184063.06872037915  </td><td>178193.4967320261</td><td>178193.4967320261 </td><td>178193.4967320261    </td><td>170822.7626262626 </td><td>171302.3622047244      </td></tr>\n",
       "<tr><td>5      </td><td>60.0              </td><td>75.0              </td><td>10000.0          </td><td>6.0               </td><td>5.0               </td><td>1993.0            </td><td>1994.0            </td><td>0.0               </td><td>0.0              </td><td>0.0              </td><td>763.0            </td><td>763.0             </td><td>763.0             </td><td>892.0             </td><td>0.0               </td><td>1655.0            </td><td>0.0               </td><td>0.0                </td><td>2.0               </td><td>1.0                </td><td>3.0               </td><td>1.0                </td><td>7.0               </td><td>1.0               </td><td>1993.0            </td><td>2.0               </td><td>440.0             </td><td>157.0             </td><td>84.0             </td><td>0.0               </td><td>0.0              </td><td>0.0               </td><td>0.0               </td><td>0.0              </td><td>4.0               </td><td>2010.0            </td><td>187920.61064425771</td><td>178405.7096069869 </td><td>178193.4967320261 </td><td>194850.58566088302</td><td>175715.7828162291    </td><td>178193.4967320261  </td><td>165751.57330498463 </td><td>175531.83179723503 </td><td>191808.05969498912    </td><td>181573.27604166663  </td><td>178218.27472527474  </td><td>181805.66321243523</td><td>203633.455628685    </td><td>171401.71038251367 </td><td>176671.8111111111 </td><td>167128.41844919784   </td><td>169568.25527903467   </td><td>157482.0            </td><td>143747.87889273354 </td><td>180398.05693069307 </td><td>222366.88205128204  </td><td>206633.03141361254</td><td>181115.23         </td><td>161376.63366336632    </td><td>168970.1659826721     </td><td>182592.86046511628    </td><td>179414.41573033712</td><td>158961.70308123247 </td><td>184861.0283687943   </td><td>184788.65617433414  </td><td>140285.62820512822   </td><td>179857.76346604215  </td><td>205118.42900418595   </td><td>201051.3968871595   </td><td>223156.8495098039     </td><td>185601.24938271602  </td><td>187300.52567237162  </td><td>184063.06872037915  </td><td>178193.4967320261</td><td>178193.4967320261 </td><td>178193.4967320261    </td><td>170822.7626262626 </td><td>171302.3622047244      </td></tr>\n",
       "<tr><td>6      </td><td>20.0              </td><td>nan               </td><td>7980.0           </td><td>6.0               </td><td>7.0               </td><td>1992.0            </td><td>2007.0            </td><td>0.0               </td><td>935.0            </td><td>0.0              </td><td>233.0            </td><td>1168.0            </td><td>1187.0            </td><td>0.0               </td><td>0.0               </td><td>1187.0            </td><td>1.0               </td><td>0.0                </td><td>2.0               </td><td>0.0                </td><td>3.0               </td><td>1.0                </td><td>6.0               </td><td>0.0               </td><td>1992.0            </td><td>2.0               </td><td>420.0             </td><td>483.0             </td><td>21.0             </td><td>0.0               </td><td>0.0              </td><td>0.0               </td><td>0.0               </td><td>500.0            </td><td>3.0               </td><td>2010.0            </td><td>187920.61064425771</td><td>178405.7096069869 </td><td>178193.4967320261 </td><td>194850.58566088302</td><td>175715.7828162291    </td><td>178193.4967320261  </td><td>177919.81360946747 </td><td>175531.83179723503 </td><td>191808.05969498912    </td><td>181573.27604166663  </td><td>178218.27472527474  </td><td>181805.66321243523</td><td>170914.57205240175  </td><td>171401.71038251367 </td><td>176671.8111111111 </td><td>167128.41844919784   </td><td>169568.25527903467   </td><td>157482.0            </td><td>143747.87889273354 </td><td>179370.36597321855 </td><td>222366.88205128204  </td><td>206633.03141361254</td><td>181115.23         </td><td>161376.63366336632    </td><td>169309.44117647054    </td><td>182592.86046511628    </td><td>179414.41573033712</td><td>211491.75330396474 </td><td>184861.0283687943   </td><td>184788.65617433414  </td><td>140285.62820512822   </td><td>179857.76346604215  </td><td>178193.4967320261    </td><td>201051.3968871595   </td><td>223156.8495098039     </td><td>185601.24938271602  </td><td>187300.52567237162  </td><td>184063.06872037915  </td><td>178193.4967320261</td><td>181956.919246646  </td><td>163465.69117647054   </td><td>170822.7626262626 </td><td>171302.3622047244      </td></tr>\n",
       "<tr><td>7      </td><td>60.0              </td><td>63.0              </td><td>8402.0           </td><td>6.0               </td><td>5.0               </td><td>1998.0            </td><td>1998.0            </td><td>0.0               </td><td>0.0              </td><td>0.0              </td><td>789.0            </td><td>789.0             </td><td>789.0             </td><td>676.0             </td><td>0.0               </td><td>1465.0            </td><td>0.0               </td><td>0.0                </td><td>2.0               </td><td>1.0                </td><td>3.0               </td><td>1.0                </td><td>7.0               </td><td>1.0               </td><td>1998.0            </td><td>2.0               </td><td>393.0             </td><td>0.0               </td><td>75.0             </td><td>0.0               </td><td>0.0              </td><td>0.0               </td><td>0.0               </td><td>0.0              </td><td>5.0               </td><td>2010.0            </td><td>187920.61064425771</td><td>178405.7096069869 </td><td>178193.4967320261 </td><td>194850.58566088302</td><td>175715.7828162291    </td><td>178193.4967320261  </td><td>177919.81360946747 </td><td>175531.83179723503 </td><td>191808.05969498912    </td><td>181573.27604166663  </td><td>178218.27472527474  </td><td>181805.66321243523</td><td>203633.455628685    </td><td>171401.71038251367 </td><td>176671.8111111111 </td><td>206602.9363057325    </td><td>209302.39072847684   </td><td>157482.0            </td><td>143747.87889273354 </td><td>180398.05693069307 </td><td>222366.88205128204  </td><td>206633.03141361254</td><td>181115.23         </td><td>161376.63366336632    </td><td>168970.1659826721     </td><td>182592.86046511628    </td><td>179414.41573033712</td><td>158961.70308123247 </td><td>184861.0283687943   </td><td>184788.65617433414  </td><td>140285.62820512822   </td><td>179857.76346604215  </td><td>219907.18575980392   </td><td>201051.3968871595   </td><td>223156.8495098039     </td><td>185601.24938271602  </td><td>187300.52567237162  </td><td>184063.06872037915  </td><td>178193.4967320261</td><td>178193.4967320261 </td><td>178193.4967320261    </td><td>170822.7626262626 </td><td>171302.3622047244      </td></tr>\n",
       "<tr><td>8      </td><td>20.0              </td><td>85.0              </td><td>10176.0          </td><td>7.0               </td><td>5.0               </td><td>1990.0            </td><td>1990.0            </td><td>0.0               </td><td>637.0            </td><td>0.0              </td><td>663.0            </td><td>1300.0            </td><td>1341.0            </td><td>0.0               </td><td>0.0               </td><td>1341.0            </td><td>1.0               </td><td>0.0                </td><td>1.0               </td><td>1.0                </td><td>2.0               </td><td>1.0                </td><td>5.0               </td><td>1.0               </td><td>1990.0            </td><td>2.0               </td><td>506.0             </td><td>192.0             </td><td>0.0              </td><td>0.0               </td><td>0.0              </td><td>0.0               </td><td>0.0               </td><td>0.0              </td><td>2.0               </td><td>2010.0            </td><td>187920.61064425771</td><td>178405.7096069869 </td><td>178193.4967320261 </td><td>163981.4191419142 </td><td>175715.7828162291    </td><td>178193.4967320261  </td><td>177919.81360946747 </td><td>175531.83179723503 </td><td>191808.05969498912    </td><td>181573.27604166663  </td><td>178218.27472527474  </td><td>181805.66321243523</td><td>170914.57205240175  </td><td>171401.71038251367 </td><td>176671.8111111111 </td><td>167128.41844919784   </td><td>169568.25527903467   </td><td>157482.0            </td><td>143747.87889273354 </td><td>180398.05693069307 </td><td>222366.88205128204  </td><td>206633.03141361254</td><td>181115.23         </td><td>252970.21398348815    </td><td>224699.7863950498     </td><td>182592.86046511628    </td><td>179414.41573033712</td><td>158961.70308123247 </td><td>184861.0283687943   </td><td>184788.65617433414  </td><td>211880.81318681315   </td><td>179857.76346604215  </td><td>133191.52450980392   </td><td>201051.3968871595   </td><td>143948.79679144386    </td><td>185601.24938271602  </td><td>187300.52567237162  </td><td>184063.06872037915  </td><td>178193.4967320261</td><td>178193.4967320261 </td><td>178193.4967320261    </td><td>170822.7626262626 </td><td>171302.3622047244      </td></tr>\n",
       "<tr><td>9      </td><td>20.0              </td><td>70.0              </td><td>8400.0           </td><td>4.0               </td><td>5.0               </td><td>1970.0            </td><td>1970.0            </td><td>0.0               </td><td>804.0            </td><td>78.0             </td><td>0.0              </td><td>882.0             </td><td>882.0             </td><td>0.0               </td><td>0.0               </td><td>882.0             </td><td>1.0               </td><td>0.0                </td><td>1.0               </td><td>0.0                </td><td>2.0               </td><td>1.0                </td><td>4.0               </td><td>0.0               </td><td>1970.0            </td><td>2.0               </td><td>525.0             </td><td>240.0             </td><td>0.0              </td><td>0.0               </td><td>0.0              </td><td>0.0               </td><td>0.0               </td><td>0.0              </td><td>4.0               </td><td>2010.0            </td><td>187920.61064425771</td><td>178405.7096069869 </td><td>178193.4967320261 </td><td>163981.4191419142 </td><td>175715.7828162291    </td><td>178193.4967320261  </td><td>165751.57330498463 </td><td>175531.83179723503 </td><td>152080.32258672698    </td><td>181573.27604166663  </td><td>178218.27472527474  </td><td>181805.66321243523</td><td>170914.57205240175  </td><td>171401.71038251367 </td><td>176671.8111111111 </td><td>173812.54638480392   </td><td>163573.83733031675   </td><td>157482.0            </td><td>143747.87889273354 </td><td>180398.05693069307 </td><td>148549.72906403942  </td><td>138313.57142857142</td><td>181115.23         </td><td>161376.63366336632    </td><td>169309.44117647054    </td><td>167901.0383986928     </td><td>179414.41573033712</td><td>149413.2797336845  </td><td>184861.0283687943   </td><td>184788.65617433414  </td><td>140285.62820512822   </td><td>179857.76346604215  </td><td>178193.4967320261    </td><td>201051.3968871595   </td><td>223156.8495098039     </td><td>185601.24938271602  </td><td>187300.52567237162  </td><td>184063.06872037915  </td><td>178193.4967320261</td><td>151206.9049445865 </td><td>178193.4967320261    </td><td>170822.7626262626 </td><td>171302.3622047244      </td></tr>\n",
       "</tbody>\n",
       "</table>"
      ]
     },
     "metadata": {},
     "output_type": "display_data"
    }
   ],
   "source": [
    "#print('Imputed and encoded numeric training data:')\n",
    "#train[encoded_nums].describe() #79 numeric columns w/ no missing\n",
    "#print('--------------------------------------------------------------------------------')\n",
    "#print('Imputed and encoded numeric validation data:')\n",
    "#valid[encoded_nums].describe() #79 numeric columns w/ no missing\n",
    "#print('--------------------------------------------------------------------------------')\n",
    "#print('Imputed and encoded numeric test data:')\n",
    "#test[encoded_nums].describe() #79 numeric columns w/ no missing"
   ]
  },
  {
   "cell_type": "markdown",
   "metadata": {
    "collapsed": true
   },
   "source": [
    "G. Create Combination Features and Validate Newly-Created Variables"
   ]
  },
  {
   "cell_type": "code",
   "execution_count": 46,
   "metadata": {
    "collapsed": true
   },
   "outputs": [],
   "source": [
    "def feature_combiner(training_frame, test_frame, nums):\n",
    "    \n",
    "    \"\"\" Combines numeric features using simple arithmatic operations.\n",
    "    \n",
    "    :param training_frame: Training frame from which to generate features and onto which generated \n",
    "                           feeatures will be cbound.\n",
    "    :param test_frame: Test frame from which to generate features and onto which generated \n",
    "                       feeatures will be cbound.\n",
    "    :param nums: List of original numeric features from which to generate combined features.\n",
    "    \n",
    "    \"\"\"\n",
    "\n",
    "    total = len(nums)\n",
    "    \n",
    "    # convert to pandas\n",
    "    train_df = training_frame.as_data_frame()\n",
    "    test_df = test_frame.as_data_frame()\n",
    "    \n",
    "    for i, col_i in enumerate(nums):\n",
    "        \n",
    "        print('Combining: ' + col_i + ' (' + str(i+1) + '/' + str(total) + ') ...')        \n",
    "        \n",
    "        for j, col_j in enumerate(nums):\n",
    "            \n",
    "            # don't repeat (i*j = j*i)\n",
    "            if i < j:\n",
    "                \n",
    "                # convert to pandas\n",
    "                col_i_train_df = train_df[col_i]\n",
    "                col_j_train_df = train_df[col_j]\n",
    "                col_i_test_df = test_df[col_i]\n",
    "                col_j_test_df = test_df[col_j] \n",
    "\n",
    "                # multiply, convert back to h2o\n",
    "                train_df[str(col_i + '|' + col_j)] = col_i_train_df.values*col_j_train_df.values\n",
    "                test_df[str(col_i + '|' + col_j)] = col_i_test_df.values*col_j_test_df.values\n",
    "                \n",
    "    print('Done.')\n",
    "    \n",
    "    # convert back to h2o\n",
    "    \n",
    "    print('Converting to H2OFrame ...')\n",
    "    \n",
    "    training_frame = h2o.H2OFrame(train_df)\n",
    "    training_frame.columns = list(train_df)\n",
    "    test_frame = h2o.H2OFrame(test_df)\n",
    "    test_frame.columns = list(test_df)\n",
    "    \n",
    "    print('Done.')\n",
    "    print()\n",
    "    \n",
    "    # conserve memory \n",
    "    del train_df\n",
    "    del test_df \n",
    "    \n",
    "    return training_frame, test_frame"
   ]
  },
  {
   "cell_type": "code",
   "execution_count": 47,
   "metadata": {
    "collapsed": false
   },
   "outputs": [
    {
     "data": {
      "text/html": [
       "<table>\n",
       "<thead>\n",
       "<tr><th style=\"text-align: right;\">  Id</th></tr>\n",
       "</thead>\n",
       "<tbody>\n",
       "<tr><td style=\"text-align: right;\">   3</td></tr>\n",
       "<tr><td style=\"text-align: right;\">   3</td></tr>\n",
       "<tr><td style=\"text-align: right;\">   3</td></tr>\n",
       "<tr><td style=\"text-align: right;\">   3</td></tr>\n",
       "<tr><td style=\"text-align: right;\">   3</td></tr>\n",
       "<tr><td style=\"text-align: right;\">   3</td></tr>\n",
       "<tr><td style=\"text-align: right;\">   3</td></tr>\n",
       "<tr><td style=\"text-align: right;\">   3</td></tr>\n",
       "<tr><td style=\"text-align: right;\">   3</td></tr>\n",
       "<tr><td style=\"text-align: right;\">   3</td></tr>\n",
       "</tbody>\n",
       "</table>"
      ]
     },
     "metadata": {},
     "output_type": "display_data"
    },
    {
     "name": "stdout",
     "output_type": "stream",
     "text": [
      "\n"
     ]
    },
    {
     "ename": "TypeError",
     "evalue": "unhashable type: 'H2OFrame'",
     "output_type": "error",
     "traceback": [
      "\u001b[0;31m---------------------------------------------------------------------------\u001b[0m",
      "\u001b[0;31mTypeError\u001b[0m                                 Traceback (most recent call last)",
      "\u001b[0;32m<ipython-input-47-a4f27b6a9290>\u001b[0m in \u001b[0;36m<module>\u001b[0;34m()\u001b[0m\n\u001b[0;32m----> 1\u001b[0;31m \u001b[0mtrain\u001b[0m\u001b[0;34m,\u001b[0m \u001b[0m_\u001b[0m \u001b[0;34m=\u001b[0m \u001b[0mfeature_combiner\u001b[0m\u001b[0;34m(\u001b[0m\u001b[0mtrain\u001b[0m\u001b[0;34m,\u001b[0m \u001b[0mtest\u001b[0m\u001b[0;34m,\u001b[0m \u001b[0mtrain_new\u001b[0m\u001b[0;34m)\u001b[0m\u001b[0;34m\u001b[0m\u001b[0m\n\u001b[0m\u001b[1;32m      2\u001b[0m \u001b[0mvalid\u001b[0m\u001b[0;34m,\u001b[0m \u001b[0mtest\u001b[0m \u001b[0;34m=\u001b[0m \u001b[0mfeature_combiner\u001b[0m\u001b[0;34m(\u001b[0m\u001b[0mvalid\u001b[0m\u001b[0;34m,\u001b[0m \u001b[0mtest\u001b[0m\u001b[0;34m,\u001b[0m \u001b[0mtrain_new\u001b[0m\u001b[0;34m)\u001b[0m\u001b[0;34m\u001b[0m\u001b[0m\n",
      "\u001b[0;32m<ipython-input-46-654cc5d63b3b>\u001b[0m in \u001b[0;36mfeature_combiner\u001b[0;34m(training_frame, test_frame, nums)\u001b[0m\n\u001b[1;32m     27\u001b[0m \u001b[0;34m\u001b[0m\u001b[0m\n\u001b[1;32m     28\u001b[0m                 \u001b[0;31m# convert to pandas\u001b[0m\u001b[0;34m\u001b[0m\u001b[0;34m\u001b[0m\u001b[0m\n\u001b[0;32m---> 29\u001b[0;31m                 \u001b[0mcol_i_train_df\u001b[0m \u001b[0;34m=\u001b[0m \u001b[0mtrain_df\u001b[0m\u001b[0;34m[\u001b[0m\u001b[0mcol_i\u001b[0m\u001b[0;34m]\u001b[0m\u001b[0;34m\u001b[0m\u001b[0m\n\u001b[0m\u001b[1;32m     30\u001b[0m                 \u001b[0mcol_j_train_df\u001b[0m \u001b[0;34m=\u001b[0m \u001b[0mtrain_df\u001b[0m\u001b[0;34m[\u001b[0m\u001b[0mcol_j\u001b[0m\u001b[0;34m]\u001b[0m\u001b[0;34m\u001b[0m\u001b[0m\n\u001b[1;32m     31\u001b[0m                 \u001b[0mcol_i_test_df\u001b[0m \u001b[0;34m=\u001b[0m \u001b[0mtest_df\u001b[0m\u001b[0;34m[\u001b[0m\u001b[0mcol_i\u001b[0m\u001b[0;34m]\u001b[0m\u001b[0;34m\u001b[0m\u001b[0m\n",
      "\u001b[0;32m/home/choen51/anaconda3/lib/python3.6/site-packages/pandas/core/frame.py\u001b[0m in \u001b[0;36m__getitem__\u001b[0;34m(self, key)\u001b[0m\n\u001b[1;32m   2060\u001b[0m             \u001b[0;32mreturn\u001b[0m \u001b[0mself\u001b[0m\u001b[0;34m.\u001b[0m\u001b[0m_getitem_multilevel\u001b[0m\u001b[0;34m(\u001b[0m\u001b[0mkey\u001b[0m\u001b[0;34m)\u001b[0m\u001b[0;34m\u001b[0m\u001b[0m\n\u001b[1;32m   2061\u001b[0m         \u001b[0;32melse\u001b[0m\u001b[0;34m:\u001b[0m\u001b[0;34m\u001b[0m\u001b[0m\n\u001b[0;32m-> 2062\u001b[0;31m             \u001b[0;32mreturn\u001b[0m \u001b[0mself\u001b[0m\u001b[0;34m.\u001b[0m\u001b[0m_getitem_column\u001b[0m\u001b[0;34m(\u001b[0m\u001b[0mkey\u001b[0m\u001b[0;34m)\u001b[0m\u001b[0;34m\u001b[0m\u001b[0m\n\u001b[0m\u001b[1;32m   2063\u001b[0m \u001b[0;34m\u001b[0m\u001b[0m\n\u001b[1;32m   2064\u001b[0m     \u001b[0;32mdef\u001b[0m \u001b[0m_getitem_column\u001b[0m\u001b[0;34m(\u001b[0m\u001b[0mself\u001b[0m\u001b[0;34m,\u001b[0m \u001b[0mkey\u001b[0m\u001b[0;34m)\u001b[0m\u001b[0;34m:\u001b[0m\u001b[0;34m\u001b[0m\u001b[0m\n",
      "\u001b[0;32m/home/choen51/anaconda3/lib/python3.6/site-packages/pandas/core/frame.py\u001b[0m in \u001b[0;36m_getitem_column\u001b[0;34m(self, key)\u001b[0m\n\u001b[1;32m   2067\u001b[0m         \u001b[0;31m# get column\u001b[0m\u001b[0;34m\u001b[0m\u001b[0;34m\u001b[0m\u001b[0m\n\u001b[1;32m   2068\u001b[0m         \u001b[0;32mif\u001b[0m \u001b[0mself\u001b[0m\u001b[0;34m.\u001b[0m\u001b[0mcolumns\u001b[0m\u001b[0;34m.\u001b[0m\u001b[0mis_unique\u001b[0m\u001b[0;34m:\u001b[0m\u001b[0;34m\u001b[0m\u001b[0m\n\u001b[0;32m-> 2069\u001b[0;31m             \u001b[0;32mreturn\u001b[0m \u001b[0mself\u001b[0m\u001b[0;34m.\u001b[0m\u001b[0m_get_item_cache\u001b[0m\u001b[0;34m(\u001b[0m\u001b[0mkey\u001b[0m\u001b[0;34m)\u001b[0m\u001b[0;34m\u001b[0m\u001b[0m\n\u001b[0m\u001b[1;32m   2070\u001b[0m \u001b[0;34m\u001b[0m\u001b[0m\n\u001b[1;32m   2071\u001b[0m         \u001b[0;31m# duplicate columns & possible reduce dimensionality\u001b[0m\u001b[0;34m\u001b[0m\u001b[0;34m\u001b[0m\u001b[0m\n",
      "\u001b[0;32m/home/choen51/anaconda3/lib/python3.6/site-packages/pandas/core/generic.py\u001b[0m in \u001b[0;36m_get_item_cache\u001b[0;34m(self, item)\u001b[0m\n\u001b[1;32m   1530\u001b[0m         \u001b[0;34m\"\"\"Return the cached item, item represents a label indexer.\"\"\"\u001b[0m\u001b[0;34m\u001b[0m\u001b[0m\n\u001b[1;32m   1531\u001b[0m         \u001b[0mcache\u001b[0m \u001b[0;34m=\u001b[0m \u001b[0mself\u001b[0m\u001b[0;34m.\u001b[0m\u001b[0m_item_cache\u001b[0m\u001b[0;34m\u001b[0m\u001b[0m\n\u001b[0;32m-> 1532\u001b[0;31m         \u001b[0mres\u001b[0m \u001b[0;34m=\u001b[0m \u001b[0mcache\u001b[0m\u001b[0;34m.\u001b[0m\u001b[0mget\u001b[0m\u001b[0;34m(\u001b[0m\u001b[0mitem\u001b[0m\u001b[0;34m)\u001b[0m\u001b[0;34m\u001b[0m\u001b[0m\n\u001b[0m\u001b[1;32m   1533\u001b[0m         \u001b[0;32mif\u001b[0m \u001b[0mres\u001b[0m \u001b[0;32mis\u001b[0m \u001b[0;32mNone\u001b[0m\u001b[0;34m:\u001b[0m\u001b[0;34m\u001b[0m\u001b[0m\n\u001b[1;32m   1534\u001b[0m             \u001b[0mvalues\u001b[0m \u001b[0;34m=\u001b[0m \u001b[0mself\u001b[0m\u001b[0;34m.\u001b[0m\u001b[0m_data\u001b[0m\u001b[0;34m.\u001b[0m\u001b[0mget\u001b[0m\u001b[0;34m(\u001b[0m\u001b[0mitem\u001b[0m\u001b[0;34m)\u001b[0m\u001b[0;34m\u001b[0m\u001b[0m\n",
      "\u001b[0;31mTypeError\u001b[0m: unhashable type: 'H2OFrame'"
     ]
    }
   ],
   "source": [
    "train, _ = feature_combiner(train, test, train_new)\n",
    "valid, test = feature_combiner(valid, test, train_new)"
   ]
  },
  {
   "cell_type": "code",
   "execution_count": 23,
   "metadata": {
    "collapsed": false
   },
   "outputs": [
    {
     "name": "stdout",
     "output_type": "stream",
     "text": [
      "Numeric = ['MSSubClass', 'LotFrontage', 'LotArea', 'OverallQual', 'OverallCond', 'YearBuilt', 'YearRemodAdd', 'MasVnrArea', 'BsmtFinSF1', 'BsmtFinSF2', 'BsmtUnfSF', 'TotalBsmtSF', '1stFlrSF', '2ndFlrSF', 'LowQualFinSF', 'GrLivArea', 'BsmtFullBath', 'BsmtHalfBath', 'FullBath', 'HalfBath', 'BedroomAbvGr', 'KitchenAbvGr', 'TotRmsAbvGrd', 'Fireplaces', 'GarageYrBlt', 'GarageCars', 'GarageArea', 'WoodDeckSF', 'OpenPorchSF', 'EnclosedPorch', '3SsnPorch', 'ScreenPorch', 'PoolArea', 'MiscVal', 'MoSold', 'YrSold', 'MSZoning_Tencode', 'Street_Tencode', 'Alley_Tencode', 'LotShape_Tencode', 'LandContour_Tencode', 'Utilities_Tencode', 'LotConfig_Tencode', 'LandSlope_Tencode', 'Neighborhood_Tencode', 'Condition1_Tencode', 'Condition2_Tencode', 'BldgType_Tencode', 'HouseStyle_Tencode', 'RoofStyle_Tencode', 'RoofMatl_Tencode', 'Exterior1st_Tencode', 'Exterior2nd_Tencode', 'MasVnrType_Tencode', 'ExterQual_Tencode', 'ExterCond_Tencode', 'Foundation_Tencode', 'BsmtQual_Tencode', 'BsmtCond_Tencode', 'BsmtExposure_Tencode', 'BsmtFinType1_Tencode', 'BsmtFinType2_Tencode', 'Heating_Tencode', 'HeatingQC_Tencode', 'CentralAir_Tencode', 'Electrical_Tencode', 'KitchenQual_Tencode', 'Functional_Tencode', 'FireplaceQu_Tencode', 'GarageType_Tencode', 'GarageFinish_Tencode', 'GarageQual_Tencode', 'GarageCond_Tencode', 'PavedDrive_Tencode', 'PoolQC_Tencode', 'Fence_Tencode', 'MiscFeature_Tencode', 'SaleType_Tencode', 'SaleCondition_Tencode', 'MSSubClass|LotFrontage', 'MSSubClass|LotArea', 'MSSubClass|OverallQual', 'MSSubClass|OverallCond', 'MSSubClass|YearBuilt', 'MSSubClass|YearRemodAdd', 'MSSubClass|MasVnrArea', 'MSSubClass|BsmtFinSF1', 'MSSubClass|BsmtFinSF2', 'MSSubClass|BsmtUnfSF', 'MSSubClass|TotalBsmtSF', 'MSSubClass|1stFlrSF', 'MSSubClass|2ndFlrSF', 'MSSubClass|LowQualFinSF', 'MSSubClass|GrLivArea', 'MSSubClass|BsmtFullBath', 'MSSubClass|BsmtHalfBath', 'MSSubClass|FullBath', 'MSSubClass|HalfBath', 'MSSubClass|BedroomAbvGr', 'MSSubClass|KitchenAbvGr', 'MSSubClass|TotRmsAbvGrd', 'MSSubClass|Fireplaces', 'MSSubClass|GarageYrBlt', 'MSSubClass|GarageCars', 'MSSubClass|GarageArea', 'MSSubClass|WoodDeckSF', 'MSSubClass|OpenPorchSF', 'MSSubClass|EnclosedPorch', 'MSSubClass|3SsnPorch', 'MSSubClass|ScreenPorch', 'MSSubClass|PoolArea', 'MSSubClass|MiscVal', 'MSSubClass|MoSold', 'MSSubClass|YrSold', 'MSSubClass|MSZoning_Tencode', 'MSSubClass|Street_Tencode', 'MSSubClass|Alley_Tencode', 'MSSubClass|LotShape_Tencode', 'MSSubClass|LandContour_Tencode', 'MSSubClass|Utilities_Tencode', 'MSSubClass|LotConfig_Tencode', 'MSSubClass|LandSlope_Tencode', 'MSSubClass|Neighborhood_Tencode', 'MSSubClass|Condition1_Tencode', 'MSSubClass|Condition2_Tencode', 'MSSubClass|BldgType_Tencode', 'MSSubClass|HouseStyle_Tencode', 'MSSubClass|RoofStyle_Tencode', 'MSSubClass|RoofMatl_Tencode', 'MSSubClass|Exterior1st_Tencode', 'MSSubClass|Exterior2nd_Tencode', 'MSSubClass|MasVnrType_Tencode', 'MSSubClass|ExterQual_Tencode', 'MSSubClass|ExterCond_Tencode', 'MSSubClass|Foundation_Tencode', 'MSSubClass|BsmtQual_Tencode', 'MSSubClass|BsmtCond_Tencode', 'MSSubClass|BsmtExposure_Tencode', 'MSSubClass|BsmtFinType1_Tencode', 'MSSubClass|BsmtFinType2_Tencode', 'MSSubClass|Heating_Tencode', 'MSSubClass|HeatingQC_Tencode', 'MSSubClass|CentralAir_Tencode', 'MSSubClass|Electrical_Tencode', 'MSSubClass|KitchenQual_Tencode', 'MSSubClass|Functional_Tencode', 'MSSubClass|FireplaceQu_Tencode', 'MSSubClass|GarageType_Tencode', 'MSSubClass|GarageFinish_Tencode', 'MSSubClass|GarageQual_Tencode', 'MSSubClass|GarageCond_Tencode', 'MSSubClass|PavedDrive_Tencode', 'MSSubClass|PoolQC_Tencode', 'MSSubClass|Fence_Tencode', 'MSSubClass|MiscFeature_Tencode', 'MSSubClass|SaleType_Tencode', 'MSSubClass|SaleCondition_Tencode', 'LotFrontage|LotArea', 'LotFrontage|OverallQual', 'LotFrontage|OverallCond', 'LotFrontage|YearBuilt', 'LotFrontage|YearRemodAdd', 'LotFrontage|MasVnrArea', 'LotFrontage|BsmtFinSF1', 'LotFrontage|BsmtFinSF2', 'LotFrontage|BsmtUnfSF', 'LotFrontage|TotalBsmtSF', 'LotFrontage|1stFlrSF', 'LotFrontage|2ndFlrSF', 'LotFrontage|LowQualFinSF', 'LotFrontage|GrLivArea', 'LotFrontage|BsmtFullBath', 'LotFrontage|BsmtHalfBath', 'LotFrontage|FullBath', 'LotFrontage|HalfBath', 'LotFrontage|BedroomAbvGr', 'LotFrontage|KitchenAbvGr', 'LotFrontage|TotRmsAbvGrd', 'LotFrontage|Fireplaces', 'LotFrontage|GarageYrBlt', 'LotFrontage|GarageCars', 'LotFrontage|GarageArea', 'LotFrontage|WoodDeckSF', 'LotFrontage|OpenPorchSF', 'LotFrontage|EnclosedPorch', 'LotFrontage|3SsnPorch', 'LotFrontage|ScreenPorch', 'LotFrontage|PoolArea', 'LotFrontage|MiscVal', 'LotFrontage|MoSold', 'LotFrontage|YrSold', 'LotFrontage|MSZoning_Tencode', 'LotFrontage|Street_Tencode', 'LotFrontage|Alley_Tencode', 'LotFrontage|LotShape_Tencode', 'LotFrontage|LandContour_Tencode', 'LotFrontage|Utilities_Tencode', 'LotFrontage|LotConfig_Tencode', 'LotFrontage|LandSlope_Tencode', 'LotFrontage|Neighborhood_Tencode', 'LotFrontage|Condition1_Tencode', 'LotFrontage|Condition2_Tencode', 'LotFrontage|BldgType_Tencode', 'LotFrontage|HouseStyle_Tencode', 'LotFrontage|RoofStyle_Tencode', 'LotFrontage|RoofMatl_Tencode', 'LotFrontage|Exterior1st_Tencode', 'LotFrontage|Exterior2nd_Tencode', 'LotFrontage|MasVnrType_Tencode', 'LotFrontage|ExterQual_Tencode', 'LotFrontage|ExterCond_Tencode', 'LotFrontage|Foundation_Tencode', 'LotFrontage|BsmtQual_Tencode', 'LotFrontage|BsmtCond_Tencode', 'LotFrontage|BsmtExposure_Tencode', 'LotFrontage|BsmtFinType1_Tencode', 'LotFrontage|BsmtFinType2_Tencode', 'LotFrontage|Heating_Tencode', 'LotFrontage|HeatingQC_Tencode', 'LotFrontage|CentralAir_Tencode', 'LotFrontage|Electrical_Tencode', 'LotFrontage|KitchenQual_Tencode', 'LotFrontage|Functional_Tencode', 'LotFrontage|FireplaceQu_Tencode', 'LotFrontage|GarageType_Tencode', 'LotFrontage|GarageFinish_Tencode', 'LotFrontage|GarageQual_Tencode', 'LotFrontage|GarageCond_Tencode', 'LotFrontage|PavedDrive_Tencode', 'LotFrontage|PoolQC_Tencode', 'LotFrontage|Fence_Tencode', 'LotFrontage|MiscFeature_Tencode', 'LotFrontage|SaleType_Tencode', 'LotFrontage|SaleCondition_Tencode', 'LotArea|OverallQual', 'LotArea|OverallCond', 'LotArea|YearBuilt', 'LotArea|YearRemodAdd', 'LotArea|MasVnrArea', 'LotArea|BsmtFinSF1', 'LotArea|BsmtFinSF2', 'LotArea|BsmtUnfSF', 'LotArea|TotalBsmtSF', 'LotArea|1stFlrSF', 'LotArea|2ndFlrSF', 'LotArea|LowQualFinSF', 'LotArea|GrLivArea', 'LotArea|BsmtFullBath', 'LotArea|BsmtHalfBath', 'LotArea|FullBath', 'LotArea|HalfBath', 'LotArea|BedroomAbvGr', 'LotArea|KitchenAbvGr', 'LotArea|TotRmsAbvGrd', 'LotArea|Fireplaces', 'LotArea|GarageYrBlt', 'LotArea|GarageCars', 'LotArea|GarageArea', 'LotArea|WoodDeckSF', 'LotArea|OpenPorchSF', 'LotArea|EnclosedPorch', 'LotArea|3SsnPorch', 'LotArea|ScreenPorch', 'LotArea|PoolArea', 'LotArea|MiscVal', 'LotArea|MoSold', 'LotArea|YrSold', 'LotArea|MSZoning_Tencode', 'LotArea|Street_Tencode', 'LotArea|Alley_Tencode', 'LotArea|LotShape_Tencode', 'LotArea|LandContour_Tencode', 'LotArea|Utilities_Tencode', 'LotArea|LotConfig_Tencode', 'LotArea|LandSlope_Tencode', 'LotArea|Neighborhood_Tencode', 'LotArea|Condition1_Tencode', 'LotArea|Condition2_Tencode', 'LotArea|BldgType_Tencode', 'LotArea|HouseStyle_Tencode', 'LotArea|RoofStyle_Tencode', 'LotArea|RoofMatl_Tencode', 'LotArea|Exterior1st_Tencode', 'LotArea|Exterior2nd_Tencode', 'LotArea|MasVnrType_Tencode', 'LotArea|ExterQual_Tencode', 'LotArea|ExterCond_Tencode', 'LotArea|Foundation_Tencode', 'LotArea|BsmtQual_Tencode', 'LotArea|BsmtCond_Tencode', 'LotArea|BsmtExposure_Tencode', 'LotArea|BsmtFinType1_Tencode', 'LotArea|BsmtFinType2_Tencode', 'LotArea|Heating_Tencode', 'LotArea|HeatingQC_Tencode', 'LotArea|CentralAir_Tencode', 'LotArea|Electrical_Tencode', 'LotArea|KitchenQual_Tencode', 'LotArea|Functional_Tencode', 'LotArea|FireplaceQu_Tencode', 'LotArea|GarageType_Tencode', 'LotArea|GarageFinish_Tencode', 'LotArea|GarageQual_Tencode', 'LotArea|GarageCond_Tencode', 'LotArea|PavedDrive_Tencode', 'LotArea|PoolQC_Tencode', 'LotArea|Fence_Tencode', 'LotArea|MiscFeature_Tencode', 'LotArea|SaleType_Tencode', 'LotArea|SaleCondition_Tencode', 'OverallQual|OverallCond', 'OverallQual|YearBuilt', 'OverallQual|YearRemodAdd', 'OverallQual|MasVnrArea', 'OverallQual|BsmtFinSF1', 'OverallQual|BsmtFinSF2', 'OverallQual|BsmtUnfSF', 'OverallQual|TotalBsmtSF', 'OverallQual|1stFlrSF', 'OverallQual|2ndFlrSF', 'OverallQual|LowQualFinSF', 'OverallQual|GrLivArea', 'OverallQual|BsmtFullBath', 'OverallQual|BsmtHalfBath', 'OverallQual|FullBath', 'OverallQual|HalfBath', 'OverallQual|BedroomAbvGr', 'OverallQual|KitchenAbvGr', 'OverallQual|TotRmsAbvGrd', 'OverallQual|Fireplaces', 'OverallQual|GarageYrBlt', 'OverallQual|GarageCars', 'OverallQual|GarageArea', 'OverallQual|WoodDeckSF', 'OverallQual|OpenPorchSF', 'OverallQual|EnclosedPorch', 'OverallQual|3SsnPorch', 'OverallQual|ScreenPorch', 'OverallQual|PoolArea', 'OverallQual|MiscVal', 'OverallQual|MoSold', 'OverallQual|YrSold', 'OverallQual|MSZoning_Tencode', 'OverallQual|Street_Tencode', 'OverallQual|Alley_Tencode', 'OverallQual|LotShape_Tencode', 'OverallQual|LandContour_Tencode', 'OverallQual|Utilities_Tencode', 'OverallQual|LotConfig_Tencode', 'OverallQual|LandSlope_Tencode', 'OverallQual|Neighborhood_Tencode', 'OverallQual|Condition1_Tencode', 'OverallQual|Condition2_Tencode', 'OverallQual|BldgType_Tencode', 'OverallQual|HouseStyle_Tencode', 'OverallQual|RoofStyle_Tencode', 'OverallQual|RoofMatl_Tencode', 'OverallQual|Exterior1st_Tencode', 'OverallQual|Exterior2nd_Tencode', 'OverallQual|MasVnrType_Tencode', 'OverallQual|ExterQual_Tencode', 'OverallQual|ExterCond_Tencode', 'OverallQual|Foundation_Tencode', 'OverallQual|BsmtQual_Tencode', 'OverallQual|BsmtCond_Tencode', 'OverallQual|BsmtExposure_Tencode', 'OverallQual|BsmtFinType1_Tencode', 'OverallQual|BsmtFinType2_Tencode', 'OverallQual|Heating_Tencode', 'OverallQual|HeatingQC_Tencode', 'OverallQual|CentralAir_Tencode', 'OverallQual|Electrical_Tencode', 'OverallQual|KitchenQual_Tencode', 'OverallQual|Functional_Tencode', 'OverallQual|FireplaceQu_Tencode', 'OverallQual|GarageType_Tencode', 'OverallQual|GarageFinish_Tencode', 'OverallQual|GarageQual_Tencode', 'OverallQual|GarageCond_Tencode', 'OverallQual|PavedDrive_Tencode', 'OverallQual|PoolQC_Tencode', 'OverallQual|Fence_Tencode', 'OverallQual|MiscFeature_Tencode', 'OverallQual|SaleType_Tencode', 'OverallQual|SaleCondition_Tencode', 'OverallCond|YearBuilt', 'OverallCond|YearRemodAdd', 'OverallCond|MasVnrArea', 'OverallCond|BsmtFinSF1', 'OverallCond|BsmtFinSF2', 'OverallCond|BsmtUnfSF', 'OverallCond|TotalBsmtSF', 'OverallCond|1stFlrSF', 'OverallCond|2ndFlrSF', 'OverallCond|LowQualFinSF', 'OverallCond|GrLivArea', 'OverallCond|BsmtFullBath', 'OverallCond|BsmtHalfBath', 'OverallCond|FullBath', 'OverallCond|HalfBath', 'OverallCond|BedroomAbvGr', 'OverallCond|KitchenAbvGr', 'OverallCond|TotRmsAbvGrd', 'OverallCond|Fireplaces', 'OverallCond|GarageYrBlt', 'OverallCond|GarageCars', 'OverallCond|GarageArea', 'OverallCond|WoodDeckSF', 'OverallCond|OpenPorchSF', 'OverallCond|EnclosedPorch', 'OverallCond|3SsnPorch', 'OverallCond|ScreenPorch', 'OverallCond|PoolArea', 'OverallCond|MiscVal', 'OverallCond|MoSold', 'OverallCond|YrSold', 'OverallCond|MSZoning_Tencode', 'OverallCond|Street_Tencode', 'OverallCond|Alley_Tencode', 'OverallCond|LotShape_Tencode', 'OverallCond|LandContour_Tencode', 'OverallCond|Utilities_Tencode', 'OverallCond|LotConfig_Tencode', 'OverallCond|LandSlope_Tencode', 'OverallCond|Neighborhood_Tencode', 'OverallCond|Condition1_Tencode', 'OverallCond|Condition2_Tencode', 'OverallCond|BldgType_Tencode', 'OverallCond|HouseStyle_Tencode', 'OverallCond|RoofStyle_Tencode', 'OverallCond|RoofMatl_Tencode', 'OverallCond|Exterior1st_Tencode', 'OverallCond|Exterior2nd_Tencode', 'OverallCond|MasVnrType_Tencode', 'OverallCond|ExterQual_Tencode', 'OverallCond|ExterCond_Tencode', 'OverallCond|Foundation_Tencode', 'OverallCond|BsmtQual_Tencode', 'OverallCond|BsmtCond_Tencode', 'OverallCond|BsmtExposure_Tencode', 'OverallCond|BsmtFinType1_Tencode', 'OverallCond|BsmtFinType2_Tencode', 'OverallCond|Heating_Tencode', 'OverallCond|HeatingQC_Tencode', 'OverallCond|CentralAir_Tencode', 'OverallCond|Electrical_Tencode', 'OverallCond|KitchenQual_Tencode', 'OverallCond|Functional_Tencode', 'OverallCond|FireplaceQu_Tencode', 'OverallCond|GarageType_Tencode', 'OverallCond|GarageFinish_Tencode', 'OverallCond|GarageQual_Tencode', 'OverallCond|GarageCond_Tencode', 'OverallCond|PavedDrive_Tencode', 'OverallCond|PoolQC_Tencode', 'OverallCond|Fence_Tencode', 'OverallCond|MiscFeature_Tencode', 'OverallCond|SaleType_Tencode', 'OverallCond|SaleCondition_Tencode', 'YearBuilt|YearRemodAdd', 'YearBuilt|MasVnrArea', 'YearBuilt|BsmtFinSF1', 'YearBuilt|BsmtFinSF2', 'YearBuilt|BsmtUnfSF', 'YearBuilt|TotalBsmtSF', 'YearBuilt|1stFlrSF', 'YearBuilt|2ndFlrSF', 'YearBuilt|LowQualFinSF', 'YearBuilt|GrLivArea', 'YearBuilt|BsmtFullBath', 'YearBuilt|BsmtHalfBath', 'YearBuilt|FullBath', 'YearBuilt|HalfBath', 'YearBuilt|BedroomAbvGr', 'YearBuilt|KitchenAbvGr', 'YearBuilt|TotRmsAbvGrd', 'YearBuilt|Fireplaces', 'YearBuilt|GarageYrBlt', 'YearBuilt|GarageCars', 'YearBuilt|GarageArea', 'YearBuilt|WoodDeckSF', 'YearBuilt|OpenPorchSF', 'YearBuilt|EnclosedPorch', 'YearBuilt|3SsnPorch', 'YearBuilt|ScreenPorch', 'YearBuilt|PoolArea', 'YearBuilt|MiscVal', 'YearBuilt|MoSold', 'YearBuilt|YrSold', 'YearBuilt|MSZoning_Tencode', 'YearBuilt|Street_Tencode', 'YearBuilt|Alley_Tencode', 'YearBuilt|LotShape_Tencode', 'YearBuilt|LandContour_Tencode', 'YearBuilt|Utilities_Tencode', 'YearBuilt|LotConfig_Tencode', 'YearBuilt|LandSlope_Tencode', 'YearBuilt|Neighborhood_Tencode', 'YearBuilt|Condition1_Tencode', 'YearBuilt|Condition2_Tencode', 'YearBuilt|BldgType_Tencode', 'YearBuilt|HouseStyle_Tencode', 'YearBuilt|RoofStyle_Tencode', 'YearBuilt|RoofMatl_Tencode', 'YearBuilt|Exterior1st_Tencode', 'YearBuilt|Exterior2nd_Tencode', 'YearBuilt|MasVnrType_Tencode', 'YearBuilt|ExterQual_Tencode', 'YearBuilt|ExterCond_Tencode', 'YearBuilt|Foundation_Tencode', 'YearBuilt|BsmtQual_Tencode', 'YearBuilt|BsmtCond_Tencode', 'YearBuilt|BsmtExposure_Tencode', 'YearBuilt|BsmtFinType1_Tencode', 'YearBuilt|BsmtFinType2_Tencode', 'YearBuilt|Heating_Tencode', 'YearBuilt|HeatingQC_Tencode', 'YearBuilt|CentralAir_Tencode', 'YearBuilt|Electrical_Tencode', 'YearBuilt|KitchenQual_Tencode', 'YearBuilt|Functional_Tencode', 'YearBuilt|FireplaceQu_Tencode', 'YearBuilt|GarageType_Tencode', 'YearBuilt|GarageFinish_Tencode', 'YearBuilt|GarageQual_Tencode', 'YearBuilt|GarageCond_Tencode', 'YearBuilt|PavedDrive_Tencode', 'YearBuilt|PoolQC_Tencode', 'YearBuilt|Fence_Tencode', 'YearBuilt|MiscFeature_Tencode', 'YearBuilt|SaleType_Tencode', 'YearBuilt|SaleCondition_Tencode', 'YearRemodAdd|MasVnrArea', 'YearRemodAdd|BsmtFinSF1', 'YearRemodAdd|BsmtFinSF2', 'YearRemodAdd|BsmtUnfSF', 'YearRemodAdd|TotalBsmtSF', 'YearRemodAdd|1stFlrSF', 'YearRemodAdd|2ndFlrSF', 'YearRemodAdd|LowQualFinSF', 'YearRemodAdd|GrLivArea', 'YearRemodAdd|BsmtFullBath', 'YearRemodAdd|BsmtHalfBath', 'YearRemodAdd|FullBath', 'YearRemodAdd|HalfBath', 'YearRemodAdd|BedroomAbvGr', 'YearRemodAdd|KitchenAbvGr', 'YearRemodAdd|TotRmsAbvGrd', 'YearRemodAdd|Fireplaces', 'YearRemodAdd|GarageYrBlt', 'YearRemodAdd|GarageCars', 'YearRemodAdd|GarageArea', 'YearRemodAdd|WoodDeckSF', 'YearRemodAdd|OpenPorchSF', 'YearRemodAdd|EnclosedPorch', 'YearRemodAdd|3SsnPorch', 'YearRemodAdd|ScreenPorch', 'YearRemodAdd|PoolArea', 'YearRemodAdd|MiscVal', 'YearRemodAdd|MoSold', 'YearRemodAdd|YrSold', 'YearRemodAdd|MSZoning_Tencode', 'YearRemodAdd|Street_Tencode', 'YearRemodAdd|Alley_Tencode', 'YearRemodAdd|LotShape_Tencode', 'YearRemodAdd|LandContour_Tencode', 'YearRemodAdd|Utilities_Tencode', 'YearRemodAdd|LotConfig_Tencode', 'YearRemodAdd|LandSlope_Tencode', 'YearRemodAdd|Neighborhood_Tencode', 'YearRemodAdd|Condition1_Tencode', 'YearRemodAdd|Condition2_Tencode', 'YearRemodAdd|BldgType_Tencode', 'YearRemodAdd|HouseStyle_Tencode', 'YearRemodAdd|RoofStyle_Tencode', 'YearRemodAdd|RoofMatl_Tencode', 'YearRemodAdd|Exterior1st_Tencode', 'YearRemodAdd|Exterior2nd_Tencode', 'YearRemodAdd|MasVnrType_Tencode', 'YearRemodAdd|ExterQual_Tencode', 'YearRemodAdd|ExterCond_Tencode', 'YearRemodAdd|Foundation_Tencode', 'YearRemodAdd|BsmtQual_Tencode', 'YearRemodAdd|BsmtCond_Tencode', 'YearRemodAdd|BsmtExposure_Tencode', 'YearRemodAdd|BsmtFinType1_Tencode', 'YearRemodAdd|BsmtFinType2_Tencode', 'YearRemodAdd|Heating_Tencode', 'YearRemodAdd|HeatingQC_Tencode', 'YearRemodAdd|CentralAir_Tencode', 'YearRemodAdd|Electrical_Tencode', 'YearRemodAdd|KitchenQual_Tencode', 'YearRemodAdd|Functional_Tencode', 'YearRemodAdd|FireplaceQu_Tencode', 'YearRemodAdd|GarageType_Tencode', 'YearRemodAdd|GarageFinish_Tencode', 'YearRemodAdd|GarageQual_Tencode', 'YearRemodAdd|GarageCond_Tencode', 'YearRemodAdd|PavedDrive_Tencode', 'YearRemodAdd|PoolQC_Tencode', 'YearRemodAdd|Fence_Tencode', 'YearRemodAdd|MiscFeature_Tencode', 'YearRemodAdd|SaleType_Tencode', 'YearRemodAdd|SaleCondition_Tencode', 'MasVnrArea|BsmtFinSF1', 'MasVnrArea|BsmtFinSF2', 'MasVnrArea|BsmtUnfSF', 'MasVnrArea|TotalBsmtSF', 'MasVnrArea|1stFlrSF', 'MasVnrArea|2ndFlrSF', 'MasVnrArea|LowQualFinSF', 'MasVnrArea|GrLivArea', 'MasVnrArea|BsmtFullBath', 'MasVnrArea|BsmtHalfBath', 'MasVnrArea|FullBath', 'MasVnrArea|HalfBath', 'MasVnrArea|BedroomAbvGr', 'MasVnrArea|KitchenAbvGr', 'MasVnrArea|TotRmsAbvGrd', 'MasVnrArea|Fireplaces', 'MasVnrArea|GarageYrBlt', 'MasVnrArea|GarageCars', 'MasVnrArea|GarageArea', 'MasVnrArea|WoodDeckSF', 'MasVnrArea|OpenPorchSF', 'MasVnrArea|EnclosedPorch', 'MasVnrArea|3SsnPorch', 'MasVnrArea|ScreenPorch', 'MasVnrArea|PoolArea', 'MasVnrArea|MiscVal', 'MasVnrArea|MoSold', 'MasVnrArea|YrSold', 'MasVnrArea|MSZoning_Tencode', 'MasVnrArea|Street_Tencode', 'MasVnrArea|Alley_Tencode', 'MasVnrArea|LotShape_Tencode', 'MasVnrArea|LandContour_Tencode', 'MasVnrArea|Utilities_Tencode', 'MasVnrArea|LotConfig_Tencode', 'MasVnrArea|LandSlope_Tencode', 'MasVnrArea|Neighborhood_Tencode', 'MasVnrArea|Condition1_Tencode', 'MasVnrArea|Condition2_Tencode', 'MasVnrArea|BldgType_Tencode', 'MasVnrArea|HouseStyle_Tencode', 'MasVnrArea|RoofStyle_Tencode', 'MasVnrArea|RoofMatl_Tencode', 'MasVnrArea|Exterior1st_Tencode', 'MasVnrArea|Exterior2nd_Tencode', 'MasVnrArea|MasVnrType_Tencode', 'MasVnrArea|ExterQual_Tencode', 'MasVnrArea|ExterCond_Tencode', 'MasVnrArea|Foundation_Tencode', 'MasVnrArea|BsmtQual_Tencode', 'MasVnrArea|BsmtCond_Tencode', 'MasVnrArea|BsmtExposure_Tencode', 'MasVnrArea|BsmtFinType1_Tencode', 'MasVnrArea|BsmtFinType2_Tencode', 'MasVnrArea|Heating_Tencode', 'MasVnrArea|HeatingQC_Tencode', 'MasVnrArea|CentralAir_Tencode', 'MasVnrArea|Electrical_Tencode', 'MasVnrArea|KitchenQual_Tencode', 'MasVnrArea|Functional_Tencode', 'MasVnrArea|FireplaceQu_Tencode', 'MasVnrArea|GarageType_Tencode', 'MasVnrArea|GarageFinish_Tencode', 'MasVnrArea|GarageQual_Tencode', 'MasVnrArea|GarageCond_Tencode', 'MasVnrArea|PavedDrive_Tencode', 'MasVnrArea|PoolQC_Tencode', 'MasVnrArea|Fence_Tencode', 'MasVnrArea|MiscFeature_Tencode', 'MasVnrArea|SaleType_Tencode', 'MasVnrArea|SaleCondition_Tencode', 'BsmtFinSF1|BsmtFinSF2', 'BsmtFinSF1|BsmtUnfSF', 'BsmtFinSF1|TotalBsmtSF', 'BsmtFinSF1|1stFlrSF', 'BsmtFinSF1|2ndFlrSF', 'BsmtFinSF1|LowQualFinSF', 'BsmtFinSF1|GrLivArea', 'BsmtFinSF1|BsmtFullBath', 'BsmtFinSF1|BsmtHalfBath', 'BsmtFinSF1|FullBath', 'BsmtFinSF1|HalfBath', 'BsmtFinSF1|BedroomAbvGr', 'BsmtFinSF1|KitchenAbvGr', 'BsmtFinSF1|TotRmsAbvGrd', 'BsmtFinSF1|Fireplaces', 'BsmtFinSF1|GarageYrBlt', 'BsmtFinSF1|GarageCars', 'BsmtFinSF1|GarageArea', 'BsmtFinSF1|WoodDeckSF', 'BsmtFinSF1|OpenPorchSF', 'BsmtFinSF1|EnclosedPorch', 'BsmtFinSF1|3SsnPorch', 'BsmtFinSF1|ScreenPorch', 'BsmtFinSF1|PoolArea', 'BsmtFinSF1|MiscVal', 'BsmtFinSF1|MoSold', 'BsmtFinSF1|YrSold', 'BsmtFinSF1|MSZoning_Tencode', 'BsmtFinSF1|Street_Tencode', 'BsmtFinSF1|Alley_Tencode', 'BsmtFinSF1|LotShape_Tencode', 'BsmtFinSF1|LandContour_Tencode', 'BsmtFinSF1|Utilities_Tencode', 'BsmtFinSF1|LotConfig_Tencode', 'BsmtFinSF1|LandSlope_Tencode', 'BsmtFinSF1|Neighborhood_Tencode', 'BsmtFinSF1|Condition1_Tencode', 'BsmtFinSF1|Condition2_Tencode', 'BsmtFinSF1|BldgType_Tencode', 'BsmtFinSF1|HouseStyle_Tencode', 'BsmtFinSF1|RoofStyle_Tencode', 'BsmtFinSF1|RoofMatl_Tencode', 'BsmtFinSF1|Exterior1st_Tencode', 'BsmtFinSF1|Exterior2nd_Tencode', 'BsmtFinSF1|MasVnrType_Tencode', 'BsmtFinSF1|ExterQual_Tencode', 'BsmtFinSF1|ExterCond_Tencode', 'BsmtFinSF1|Foundation_Tencode', 'BsmtFinSF1|BsmtQual_Tencode', 'BsmtFinSF1|BsmtCond_Tencode', 'BsmtFinSF1|BsmtExposure_Tencode', 'BsmtFinSF1|BsmtFinType1_Tencode', 'BsmtFinSF1|BsmtFinType2_Tencode', 'BsmtFinSF1|Heating_Tencode', 'BsmtFinSF1|HeatingQC_Tencode', 'BsmtFinSF1|CentralAir_Tencode', 'BsmtFinSF1|Electrical_Tencode', 'BsmtFinSF1|KitchenQual_Tencode', 'BsmtFinSF1|Functional_Tencode', 'BsmtFinSF1|FireplaceQu_Tencode', 'BsmtFinSF1|GarageType_Tencode', 'BsmtFinSF1|GarageFinish_Tencode', 'BsmtFinSF1|GarageQual_Tencode', 'BsmtFinSF1|GarageCond_Tencode', 'BsmtFinSF1|PavedDrive_Tencode', 'BsmtFinSF1|PoolQC_Tencode', 'BsmtFinSF1|Fence_Tencode', 'BsmtFinSF1|MiscFeature_Tencode', 'BsmtFinSF1|SaleType_Tencode', 'BsmtFinSF1|SaleCondition_Tencode', 'BsmtFinSF2|BsmtUnfSF', 'BsmtFinSF2|TotalBsmtSF', 'BsmtFinSF2|1stFlrSF', 'BsmtFinSF2|2ndFlrSF', 'BsmtFinSF2|LowQualFinSF', 'BsmtFinSF2|GrLivArea', 'BsmtFinSF2|BsmtFullBath', 'BsmtFinSF2|BsmtHalfBath', 'BsmtFinSF2|FullBath', 'BsmtFinSF2|HalfBath', 'BsmtFinSF2|BedroomAbvGr', 'BsmtFinSF2|KitchenAbvGr', 'BsmtFinSF2|TotRmsAbvGrd', 'BsmtFinSF2|Fireplaces', 'BsmtFinSF2|GarageYrBlt', 'BsmtFinSF2|GarageCars', 'BsmtFinSF2|GarageArea', 'BsmtFinSF2|WoodDeckSF', 'BsmtFinSF2|OpenPorchSF', 'BsmtFinSF2|EnclosedPorch', 'BsmtFinSF2|3SsnPorch', 'BsmtFinSF2|ScreenPorch', 'BsmtFinSF2|PoolArea', 'BsmtFinSF2|MiscVal', 'BsmtFinSF2|MoSold', 'BsmtFinSF2|YrSold', 'BsmtFinSF2|MSZoning_Tencode', 'BsmtFinSF2|Street_Tencode', 'BsmtFinSF2|Alley_Tencode', 'BsmtFinSF2|LotShape_Tencode', 'BsmtFinSF2|LandContour_Tencode', 'BsmtFinSF2|Utilities_Tencode', 'BsmtFinSF2|LotConfig_Tencode', 'BsmtFinSF2|LandSlope_Tencode', 'BsmtFinSF2|Neighborhood_Tencode', 'BsmtFinSF2|Condition1_Tencode', 'BsmtFinSF2|Condition2_Tencode', 'BsmtFinSF2|BldgType_Tencode', 'BsmtFinSF2|HouseStyle_Tencode', 'BsmtFinSF2|RoofStyle_Tencode', 'BsmtFinSF2|RoofMatl_Tencode', 'BsmtFinSF2|Exterior1st_Tencode', 'BsmtFinSF2|Exterior2nd_Tencode', 'BsmtFinSF2|MasVnrType_Tencode', 'BsmtFinSF2|ExterQual_Tencode', 'BsmtFinSF2|ExterCond_Tencode', 'BsmtFinSF2|Foundation_Tencode', 'BsmtFinSF2|BsmtQual_Tencode', 'BsmtFinSF2|BsmtCond_Tencode', 'BsmtFinSF2|BsmtExposure_Tencode', 'BsmtFinSF2|BsmtFinType1_Tencode', 'BsmtFinSF2|BsmtFinType2_Tencode', 'BsmtFinSF2|Heating_Tencode', 'BsmtFinSF2|HeatingQC_Tencode', 'BsmtFinSF2|CentralAir_Tencode', 'BsmtFinSF2|Electrical_Tencode', 'BsmtFinSF2|KitchenQual_Tencode', 'BsmtFinSF2|Functional_Tencode', 'BsmtFinSF2|FireplaceQu_Tencode', 'BsmtFinSF2|GarageType_Tencode', 'BsmtFinSF2|GarageFinish_Tencode', 'BsmtFinSF2|GarageQual_Tencode', 'BsmtFinSF2|GarageCond_Tencode', 'BsmtFinSF2|PavedDrive_Tencode', 'BsmtFinSF2|PoolQC_Tencode', 'BsmtFinSF2|Fence_Tencode', 'BsmtFinSF2|MiscFeature_Tencode', 'BsmtFinSF2|SaleType_Tencode', 'BsmtFinSF2|SaleCondition_Tencode', 'BsmtUnfSF|TotalBsmtSF', 'BsmtUnfSF|1stFlrSF', 'BsmtUnfSF|2ndFlrSF', 'BsmtUnfSF|LowQualFinSF', 'BsmtUnfSF|GrLivArea', 'BsmtUnfSF|BsmtFullBath', 'BsmtUnfSF|BsmtHalfBath', 'BsmtUnfSF|FullBath', 'BsmtUnfSF|HalfBath', 'BsmtUnfSF|BedroomAbvGr', 'BsmtUnfSF|KitchenAbvGr', 'BsmtUnfSF|TotRmsAbvGrd', 'BsmtUnfSF|Fireplaces', 'BsmtUnfSF|GarageYrBlt', 'BsmtUnfSF|GarageCars', 'BsmtUnfSF|GarageArea', 'BsmtUnfSF|WoodDeckSF', 'BsmtUnfSF|OpenPorchSF', 'BsmtUnfSF|EnclosedPorch', 'BsmtUnfSF|3SsnPorch', 'BsmtUnfSF|ScreenPorch', 'BsmtUnfSF|PoolArea', 'BsmtUnfSF|MiscVal', 'BsmtUnfSF|MoSold', 'BsmtUnfSF|YrSold', 'BsmtUnfSF|MSZoning_Tencode', 'BsmtUnfSF|Street_Tencode', 'BsmtUnfSF|Alley_Tencode', 'BsmtUnfSF|LotShape_Tencode', 'BsmtUnfSF|LandContour_Tencode', 'BsmtUnfSF|Utilities_Tencode', 'BsmtUnfSF|LotConfig_Tencode', 'BsmtUnfSF|LandSlope_Tencode', 'BsmtUnfSF|Neighborhood_Tencode', 'BsmtUnfSF|Condition1_Tencode', 'BsmtUnfSF|Condition2_Tencode', 'BsmtUnfSF|BldgType_Tencode', 'BsmtUnfSF|HouseStyle_Tencode', 'BsmtUnfSF|RoofStyle_Tencode', 'BsmtUnfSF|RoofMatl_Tencode', 'BsmtUnfSF|Exterior1st_Tencode', 'BsmtUnfSF|Exterior2nd_Tencode', 'BsmtUnfSF|MasVnrType_Tencode', 'BsmtUnfSF|ExterQual_Tencode', 'BsmtUnfSF|ExterCond_Tencode', 'BsmtUnfSF|Foundation_Tencode', 'BsmtUnfSF|BsmtQual_Tencode', 'BsmtUnfSF|BsmtCond_Tencode', 'BsmtUnfSF|BsmtExposure_Tencode', 'BsmtUnfSF|BsmtFinType1_Tencode', 'BsmtUnfSF|BsmtFinType2_Tencode', 'BsmtUnfSF|Heating_Tencode', 'BsmtUnfSF|HeatingQC_Tencode', 'BsmtUnfSF|CentralAir_Tencode', 'BsmtUnfSF|Electrical_Tencode', 'BsmtUnfSF|KitchenQual_Tencode', 'BsmtUnfSF|Functional_Tencode', 'BsmtUnfSF|FireplaceQu_Tencode', 'BsmtUnfSF|GarageType_Tencode', 'BsmtUnfSF|GarageFinish_Tencode', 'BsmtUnfSF|GarageQual_Tencode', 'BsmtUnfSF|GarageCond_Tencode', 'BsmtUnfSF|PavedDrive_Tencode', 'BsmtUnfSF|PoolQC_Tencode', 'BsmtUnfSF|Fence_Tencode', 'BsmtUnfSF|MiscFeature_Tencode', 'BsmtUnfSF|SaleType_Tencode', 'BsmtUnfSF|SaleCondition_Tencode', 'TotalBsmtSF|1stFlrSF', 'TotalBsmtSF|2ndFlrSF', 'TotalBsmtSF|LowQualFinSF', 'TotalBsmtSF|GrLivArea', 'TotalBsmtSF|BsmtFullBath', 'TotalBsmtSF|BsmtHalfBath', 'TotalBsmtSF|FullBath', 'TotalBsmtSF|HalfBath', 'TotalBsmtSF|BedroomAbvGr', 'TotalBsmtSF|KitchenAbvGr', 'TotalBsmtSF|TotRmsAbvGrd', 'TotalBsmtSF|Fireplaces', 'TotalBsmtSF|GarageYrBlt', 'TotalBsmtSF|GarageCars', 'TotalBsmtSF|GarageArea', 'TotalBsmtSF|WoodDeckSF', 'TotalBsmtSF|OpenPorchSF', 'TotalBsmtSF|EnclosedPorch', 'TotalBsmtSF|3SsnPorch', 'TotalBsmtSF|ScreenPorch', 'TotalBsmtSF|PoolArea', 'TotalBsmtSF|MiscVal', 'TotalBsmtSF|MoSold', 'TotalBsmtSF|YrSold', 'TotalBsmtSF|MSZoning_Tencode', 'TotalBsmtSF|Street_Tencode', 'TotalBsmtSF|Alley_Tencode', 'TotalBsmtSF|LotShape_Tencode', 'TotalBsmtSF|LandContour_Tencode', 'TotalBsmtSF|Utilities_Tencode', 'TotalBsmtSF|LotConfig_Tencode', 'TotalBsmtSF|LandSlope_Tencode', 'TotalBsmtSF|Neighborhood_Tencode', 'TotalBsmtSF|Condition1_Tencode', 'TotalBsmtSF|Condition2_Tencode', 'TotalBsmtSF|BldgType_Tencode', 'TotalBsmtSF|HouseStyle_Tencode', 'TotalBsmtSF|RoofStyle_Tencode', 'TotalBsmtSF|RoofMatl_Tencode', 'TotalBsmtSF|Exterior1st_Tencode', 'TotalBsmtSF|Exterior2nd_Tencode', 'TotalBsmtSF|MasVnrType_Tencode', 'TotalBsmtSF|ExterQual_Tencode', 'TotalBsmtSF|ExterCond_Tencode', 'TotalBsmtSF|Foundation_Tencode', 'TotalBsmtSF|BsmtQual_Tencode', 'TotalBsmtSF|BsmtCond_Tencode', 'TotalBsmtSF|BsmtExposure_Tencode', 'TotalBsmtSF|BsmtFinType1_Tencode', 'TotalBsmtSF|BsmtFinType2_Tencode', 'TotalBsmtSF|Heating_Tencode', 'TotalBsmtSF|HeatingQC_Tencode', 'TotalBsmtSF|CentralAir_Tencode', 'TotalBsmtSF|Electrical_Tencode', 'TotalBsmtSF|KitchenQual_Tencode', 'TotalBsmtSF|Functional_Tencode', 'TotalBsmtSF|FireplaceQu_Tencode', 'TotalBsmtSF|GarageType_Tencode', 'TotalBsmtSF|GarageFinish_Tencode', 'TotalBsmtSF|GarageQual_Tencode', 'TotalBsmtSF|GarageCond_Tencode', 'TotalBsmtSF|PavedDrive_Tencode', 'TotalBsmtSF|PoolQC_Tencode', 'TotalBsmtSF|Fence_Tencode', 'TotalBsmtSF|MiscFeature_Tencode', 'TotalBsmtSF|SaleType_Tencode', 'TotalBsmtSF|SaleCondition_Tencode', '1stFlrSF|2ndFlrSF', '1stFlrSF|LowQualFinSF', '1stFlrSF|GrLivArea', '1stFlrSF|BsmtFullBath', '1stFlrSF|BsmtHalfBath', '1stFlrSF|FullBath', '1stFlrSF|HalfBath', '1stFlrSF|BedroomAbvGr', '1stFlrSF|KitchenAbvGr', '1stFlrSF|TotRmsAbvGrd', '1stFlrSF|Fireplaces', '1stFlrSF|GarageYrBlt', '1stFlrSF|GarageCars', '1stFlrSF|GarageArea', '1stFlrSF|WoodDeckSF', '1stFlrSF|OpenPorchSF', '1stFlrSF|EnclosedPorch', '1stFlrSF|3SsnPorch', '1stFlrSF|ScreenPorch', '1stFlrSF|PoolArea', '1stFlrSF|MiscVal', '1stFlrSF|MoSold', '1stFlrSF|YrSold', '1stFlrSF|MSZoning_Tencode', '1stFlrSF|Street_Tencode', '1stFlrSF|Alley_Tencode', '1stFlrSF|LotShape_Tencode', '1stFlrSF|LandContour_Tencode', '1stFlrSF|Utilities_Tencode', '1stFlrSF|LotConfig_Tencode', '1stFlrSF|LandSlope_Tencode', '1stFlrSF|Neighborhood_Tencode', '1stFlrSF|Condition1_Tencode', '1stFlrSF|Condition2_Tencode', '1stFlrSF|BldgType_Tencode', '1stFlrSF|HouseStyle_Tencode', '1stFlrSF|RoofStyle_Tencode', '1stFlrSF|RoofMatl_Tencode', '1stFlrSF|Exterior1st_Tencode', '1stFlrSF|Exterior2nd_Tencode', '1stFlrSF|MasVnrType_Tencode', '1stFlrSF|ExterQual_Tencode', '1stFlrSF|ExterCond_Tencode', '1stFlrSF|Foundation_Tencode', '1stFlrSF|BsmtQual_Tencode', '1stFlrSF|BsmtCond_Tencode', '1stFlrSF|BsmtExposure_Tencode', '1stFlrSF|BsmtFinType1_Tencode', '1stFlrSF|BsmtFinType2_Tencode', '1stFlrSF|Heating_Tencode', '1stFlrSF|HeatingQC_Tencode', '1stFlrSF|CentralAir_Tencode', '1stFlrSF|Electrical_Tencode', '1stFlrSF|KitchenQual_Tencode', '1stFlrSF|Functional_Tencode', '1stFlrSF|FireplaceQu_Tencode', '1stFlrSF|GarageType_Tencode', '1stFlrSF|GarageFinish_Tencode', '1stFlrSF|GarageQual_Tencode', '1stFlrSF|GarageCond_Tencode', '1stFlrSF|PavedDrive_Tencode', '1stFlrSF|PoolQC_Tencode', '1stFlrSF|Fence_Tencode', '1stFlrSF|MiscFeature_Tencode', '1stFlrSF|SaleType_Tencode', '1stFlrSF|SaleCondition_Tencode', '2ndFlrSF|LowQualFinSF', '2ndFlrSF|GrLivArea', '2ndFlrSF|BsmtFullBath', '2ndFlrSF|BsmtHalfBath', '2ndFlrSF|FullBath', '2ndFlrSF|HalfBath', '2ndFlrSF|BedroomAbvGr', '2ndFlrSF|KitchenAbvGr', '2ndFlrSF|TotRmsAbvGrd', '2ndFlrSF|Fireplaces', '2ndFlrSF|GarageYrBlt', '2ndFlrSF|GarageCars', '2ndFlrSF|GarageArea', '2ndFlrSF|WoodDeckSF', '2ndFlrSF|OpenPorchSF', '2ndFlrSF|EnclosedPorch', '2ndFlrSF|3SsnPorch', '2ndFlrSF|ScreenPorch', '2ndFlrSF|PoolArea', '2ndFlrSF|MiscVal', '2ndFlrSF|MoSold', '2ndFlrSF|YrSold', '2ndFlrSF|MSZoning_Tencode', '2ndFlrSF|Street_Tencode', '2ndFlrSF|Alley_Tencode', '2ndFlrSF|LotShape_Tencode', '2ndFlrSF|LandContour_Tencode', '2ndFlrSF|Utilities_Tencode', '2ndFlrSF|LotConfig_Tencode', '2ndFlrSF|LandSlope_Tencode', '2ndFlrSF|Neighborhood_Tencode', '2ndFlrSF|Condition1_Tencode', '2ndFlrSF|Condition2_Tencode', '2ndFlrSF|BldgType_Tencode', '2ndFlrSF|HouseStyle_Tencode', '2ndFlrSF|RoofStyle_Tencode', '2ndFlrSF|RoofMatl_Tencode', '2ndFlrSF|Exterior1st_Tencode', '2ndFlrSF|Exterior2nd_Tencode', '2ndFlrSF|MasVnrType_Tencode', '2ndFlrSF|ExterQual_Tencode', '2ndFlrSF|ExterCond_Tencode', '2ndFlrSF|Foundation_Tencode', '2ndFlrSF|BsmtQual_Tencode', '2ndFlrSF|BsmtCond_Tencode', '2ndFlrSF|BsmtExposure_Tencode', '2ndFlrSF|BsmtFinType1_Tencode', '2ndFlrSF|BsmtFinType2_Tencode', '2ndFlrSF|Heating_Tencode', '2ndFlrSF|HeatingQC_Tencode', '2ndFlrSF|CentralAir_Tencode', '2ndFlrSF|Electrical_Tencode', '2ndFlrSF|KitchenQual_Tencode', '2ndFlrSF|Functional_Tencode', '2ndFlrSF|FireplaceQu_Tencode', '2ndFlrSF|GarageType_Tencode', '2ndFlrSF|GarageFinish_Tencode', '2ndFlrSF|GarageQual_Tencode', '2ndFlrSF|GarageCond_Tencode', '2ndFlrSF|PavedDrive_Tencode', '2ndFlrSF|PoolQC_Tencode', '2ndFlrSF|Fence_Tencode', '2ndFlrSF|MiscFeature_Tencode', '2ndFlrSF|SaleType_Tencode', '2ndFlrSF|SaleCondition_Tencode', 'LowQualFinSF|GrLivArea', 'LowQualFinSF|BsmtFullBath', 'LowQualFinSF|BsmtHalfBath', 'LowQualFinSF|FullBath', 'LowQualFinSF|HalfBath', 'LowQualFinSF|BedroomAbvGr', 'LowQualFinSF|KitchenAbvGr', 'LowQualFinSF|TotRmsAbvGrd', 'LowQualFinSF|Fireplaces', 'LowQualFinSF|GarageYrBlt', 'LowQualFinSF|GarageCars', 'LowQualFinSF|GarageArea', 'LowQualFinSF|WoodDeckSF', 'LowQualFinSF|OpenPorchSF', 'LowQualFinSF|EnclosedPorch', 'LowQualFinSF|3SsnPorch', 'LowQualFinSF|ScreenPorch', 'LowQualFinSF|PoolArea', 'LowQualFinSF|MiscVal', 'LowQualFinSF|MoSold', 'LowQualFinSF|YrSold', 'LowQualFinSF|MSZoning_Tencode', 'LowQualFinSF|Street_Tencode', 'LowQualFinSF|Alley_Tencode', 'LowQualFinSF|LotShape_Tencode', 'LowQualFinSF|LandContour_Tencode', 'LowQualFinSF|Utilities_Tencode', 'LowQualFinSF|LotConfig_Tencode', 'LowQualFinSF|LandSlope_Tencode', 'LowQualFinSF|Neighborhood_Tencode', 'LowQualFinSF|Condition1_Tencode', 'LowQualFinSF|Condition2_Tencode', 'LowQualFinSF|BldgType_Tencode', 'LowQualFinSF|HouseStyle_Tencode', 'LowQualFinSF|RoofStyle_Tencode', 'LowQualFinSF|RoofMatl_Tencode', 'LowQualFinSF|Exterior1st_Tencode', 'LowQualFinSF|Exterior2nd_Tencode', 'LowQualFinSF|MasVnrType_Tencode', 'LowQualFinSF|ExterQual_Tencode', 'LowQualFinSF|ExterCond_Tencode', 'LowQualFinSF|Foundation_Tencode', 'LowQualFinSF|BsmtQual_Tencode', 'LowQualFinSF|BsmtCond_Tencode', 'LowQualFinSF|BsmtExposure_Tencode', 'LowQualFinSF|BsmtFinType1_Tencode', 'LowQualFinSF|BsmtFinType2_Tencode', 'LowQualFinSF|Heating_Tencode', 'LowQualFinSF|HeatingQC_Tencode', 'LowQualFinSF|CentralAir_Tencode', 'LowQualFinSF|Electrical_Tencode', 'LowQualFinSF|KitchenQual_Tencode', 'LowQualFinSF|Functional_Tencode', 'LowQualFinSF|FireplaceQu_Tencode', 'LowQualFinSF|GarageType_Tencode', 'LowQualFinSF|GarageFinish_Tencode', 'LowQualFinSF|GarageQual_Tencode', 'LowQualFinSF|GarageCond_Tencode', 'LowQualFinSF|PavedDrive_Tencode', 'LowQualFinSF|PoolQC_Tencode', 'LowQualFinSF|Fence_Tencode', 'LowQualFinSF|MiscFeature_Tencode', 'LowQualFinSF|SaleType_Tencode', 'LowQualFinSF|SaleCondition_Tencode', 'GrLivArea|BsmtFullBath', 'GrLivArea|BsmtHalfBath', 'GrLivArea|FullBath', 'GrLivArea|HalfBath', 'GrLivArea|BedroomAbvGr', 'GrLivArea|KitchenAbvGr', 'GrLivArea|TotRmsAbvGrd', 'GrLivArea|Fireplaces', 'GrLivArea|GarageYrBlt', 'GrLivArea|GarageCars', 'GrLivArea|GarageArea', 'GrLivArea|WoodDeckSF', 'GrLivArea|OpenPorchSF', 'GrLivArea|EnclosedPorch', 'GrLivArea|3SsnPorch', 'GrLivArea|ScreenPorch', 'GrLivArea|PoolArea', 'GrLivArea|MiscVal', 'GrLivArea|MoSold', 'GrLivArea|YrSold', 'GrLivArea|MSZoning_Tencode', 'GrLivArea|Street_Tencode', 'GrLivArea|Alley_Tencode', 'GrLivArea|LotShape_Tencode', 'GrLivArea|LandContour_Tencode', 'GrLivArea|Utilities_Tencode', 'GrLivArea|LotConfig_Tencode', 'GrLivArea|LandSlope_Tencode', 'GrLivArea|Neighborhood_Tencode', 'GrLivArea|Condition1_Tencode', 'GrLivArea|Condition2_Tencode', 'GrLivArea|BldgType_Tencode', 'GrLivArea|HouseStyle_Tencode', 'GrLivArea|RoofStyle_Tencode', 'GrLivArea|RoofMatl_Tencode', 'GrLivArea|Exterior1st_Tencode', 'GrLivArea|Exterior2nd_Tencode', 'GrLivArea|MasVnrType_Tencode', 'GrLivArea|ExterQual_Tencode', 'GrLivArea|ExterCond_Tencode', 'GrLivArea|Foundation_Tencode', 'GrLivArea|BsmtQual_Tencode', 'GrLivArea|BsmtCond_Tencode', 'GrLivArea|BsmtExposure_Tencode', 'GrLivArea|BsmtFinType1_Tencode', 'GrLivArea|BsmtFinType2_Tencode', 'GrLivArea|Heating_Tencode', 'GrLivArea|HeatingQC_Tencode', 'GrLivArea|CentralAir_Tencode', 'GrLivArea|Electrical_Tencode', 'GrLivArea|KitchenQual_Tencode', 'GrLivArea|Functional_Tencode', 'GrLivArea|FireplaceQu_Tencode', 'GrLivArea|GarageType_Tencode', 'GrLivArea|GarageFinish_Tencode', 'GrLivArea|GarageQual_Tencode', 'GrLivArea|GarageCond_Tencode', 'GrLivArea|PavedDrive_Tencode', 'GrLivArea|PoolQC_Tencode', 'GrLivArea|Fence_Tencode', 'GrLivArea|MiscFeature_Tencode', 'GrLivArea|SaleType_Tencode', 'GrLivArea|SaleCondition_Tencode', 'BsmtFullBath|BsmtHalfBath', 'BsmtFullBath|FullBath', 'BsmtFullBath|HalfBath', 'BsmtFullBath|BedroomAbvGr', 'BsmtFullBath|KitchenAbvGr', 'BsmtFullBath|TotRmsAbvGrd', 'BsmtFullBath|Fireplaces', 'BsmtFullBath|GarageYrBlt', 'BsmtFullBath|GarageCars', 'BsmtFullBath|GarageArea', 'BsmtFullBath|WoodDeckSF', 'BsmtFullBath|OpenPorchSF', 'BsmtFullBath|EnclosedPorch', 'BsmtFullBath|3SsnPorch', 'BsmtFullBath|ScreenPorch', 'BsmtFullBath|PoolArea', 'BsmtFullBath|MiscVal', 'BsmtFullBath|MoSold', 'BsmtFullBath|YrSold', 'BsmtFullBath|MSZoning_Tencode', 'BsmtFullBath|Street_Tencode', 'BsmtFullBath|Alley_Tencode', 'BsmtFullBath|LotShape_Tencode', 'BsmtFullBath|LandContour_Tencode', 'BsmtFullBath|Utilities_Tencode', 'BsmtFullBath|LotConfig_Tencode', 'BsmtFullBath|LandSlope_Tencode', 'BsmtFullBath|Neighborhood_Tencode', 'BsmtFullBath|Condition1_Tencode', 'BsmtFullBath|Condition2_Tencode', 'BsmtFullBath|BldgType_Tencode', 'BsmtFullBath|HouseStyle_Tencode', 'BsmtFullBath|RoofStyle_Tencode', 'BsmtFullBath|RoofMatl_Tencode', 'BsmtFullBath|Exterior1st_Tencode', 'BsmtFullBath|Exterior2nd_Tencode', 'BsmtFullBath|MasVnrType_Tencode', 'BsmtFullBath|ExterQual_Tencode', 'BsmtFullBath|ExterCond_Tencode', 'BsmtFullBath|Foundation_Tencode', 'BsmtFullBath|BsmtQual_Tencode', 'BsmtFullBath|BsmtCond_Tencode', 'BsmtFullBath|BsmtExposure_Tencode', 'BsmtFullBath|BsmtFinType1_Tencode', 'BsmtFullBath|BsmtFinType2_Tencode', 'BsmtFullBath|Heating_Tencode', 'BsmtFullBath|HeatingQC_Tencode', 'BsmtFullBath|CentralAir_Tencode', 'BsmtFullBath|Electrical_Tencode', 'BsmtFullBath|KitchenQual_Tencode', 'BsmtFullBath|Functional_Tencode', 'BsmtFullBath|FireplaceQu_Tencode', 'BsmtFullBath|GarageType_Tencode', 'BsmtFullBath|GarageFinish_Tencode', 'BsmtFullBath|GarageQual_Tencode', 'BsmtFullBath|GarageCond_Tencode', 'BsmtFullBath|PavedDrive_Tencode', 'BsmtFullBath|PoolQC_Tencode', 'BsmtFullBath|Fence_Tencode', 'BsmtFullBath|MiscFeature_Tencode', 'BsmtFullBath|SaleType_Tencode', 'BsmtFullBath|SaleCondition_Tencode', 'BsmtHalfBath|FullBath', 'BsmtHalfBath|HalfBath', 'BsmtHalfBath|BedroomAbvGr', 'BsmtHalfBath|KitchenAbvGr', 'BsmtHalfBath|TotRmsAbvGrd', 'BsmtHalfBath|Fireplaces', 'BsmtHalfBath|GarageYrBlt', 'BsmtHalfBath|GarageCars', 'BsmtHalfBath|GarageArea', 'BsmtHalfBath|WoodDeckSF', 'BsmtHalfBath|OpenPorchSF', 'BsmtHalfBath|EnclosedPorch', 'BsmtHalfBath|3SsnPorch', 'BsmtHalfBath|ScreenPorch', 'BsmtHalfBath|PoolArea', 'BsmtHalfBath|MiscVal', 'BsmtHalfBath|MoSold', 'BsmtHalfBath|YrSold', 'BsmtHalfBath|MSZoning_Tencode', 'BsmtHalfBath|Street_Tencode', 'BsmtHalfBath|Alley_Tencode', 'BsmtHalfBath|LotShape_Tencode', 'BsmtHalfBath|LandContour_Tencode', 'BsmtHalfBath|Utilities_Tencode', 'BsmtHalfBath|LotConfig_Tencode', 'BsmtHalfBath|LandSlope_Tencode', 'BsmtHalfBath|Neighborhood_Tencode', 'BsmtHalfBath|Condition1_Tencode', 'BsmtHalfBath|Condition2_Tencode', 'BsmtHalfBath|BldgType_Tencode', 'BsmtHalfBath|HouseStyle_Tencode', 'BsmtHalfBath|RoofStyle_Tencode', 'BsmtHalfBath|RoofMatl_Tencode', 'BsmtHalfBath|Exterior1st_Tencode', 'BsmtHalfBath|Exterior2nd_Tencode', 'BsmtHalfBath|MasVnrType_Tencode', 'BsmtHalfBath|ExterQual_Tencode', 'BsmtHalfBath|ExterCond_Tencode', 'BsmtHalfBath|Foundation_Tencode', 'BsmtHalfBath|BsmtQual_Tencode', 'BsmtHalfBath|BsmtCond_Tencode', 'BsmtHalfBath|BsmtExposure_Tencode', 'BsmtHalfBath|BsmtFinType1_Tencode', 'BsmtHalfBath|BsmtFinType2_Tencode', 'BsmtHalfBath|Heating_Tencode', 'BsmtHalfBath|HeatingQC_Tencode', 'BsmtHalfBath|CentralAir_Tencode', 'BsmtHalfBath|Electrical_Tencode', 'BsmtHalfBath|KitchenQual_Tencode', 'BsmtHalfBath|Functional_Tencode', 'BsmtHalfBath|FireplaceQu_Tencode', 'BsmtHalfBath|GarageType_Tencode', 'BsmtHalfBath|GarageFinish_Tencode', 'BsmtHalfBath|GarageQual_Tencode', 'BsmtHalfBath|GarageCond_Tencode', 'BsmtHalfBath|PavedDrive_Tencode', 'BsmtHalfBath|PoolQC_Tencode', 'BsmtHalfBath|Fence_Tencode', 'BsmtHalfBath|MiscFeature_Tencode', 'BsmtHalfBath|SaleType_Tencode', 'BsmtHalfBath|SaleCondition_Tencode', 'FullBath|HalfBath', 'FullBath|BedroomAbvGr', 'FullBath|KitchenAbvGr', 'FullBath|TotRmsAbvGrd', 'FullBath|Fireplaces', 'FullBath|GarageYrBlt', 'FullBath|GarageCars', 'FullBath|GarageArea', 'FullBath|WoodDeckSF', 'FullBath|OpenPorchSF', 'FullBath|EnclosedPorch', 'FullBath|3SsnPorch', 'FullBath|ScreenPorch', 'FullBath|PoolArea', 'FullBath|MiscVal', 'FullBath|MoSold', 'FullBath|YrSold', 'FullBath|MSZoning_Tencode', 'FullBath|Street_Tencode', 'FullBath|Alley_Tencode', 'FullBath|LotShape_Tencode', 'FullBath|LandContour_Tencode', 'FullBath|Utilities_Tencode', 'FullBath|LotConfig_Tencode', 'FullBath|LandSlope_Tencode', 'FullBath|Neighborhood_Tencode', 'FullBath|Condition1_Tencode', 'FullBath|Condition2_Tencode', 'FullBath|BldgType_Tencode', 'FullBath|HouseStyle_Tencode', 'FullBath|RoofStyle_Tencode', 'FullBath|RoofMatl_Tencode', 'FullBath|Exterior1st_Tencode', 'FullBath|Exterior2nd_Tencode', 'FullBath|MasVnrType_Tencode', 'FullBath|ExterQual_Tencode', 'FullBath|ExterCond_Tencode', 'FullBath|Foundation_Tencode', 'FullBath|BsmtQual_Tencode', 'FullBath|BsmtCond_Tencode', 'FullBath|BsmtExposure_Tencode', 'FullBath|BsmtFinType1_Tencode', 'FullBath|BsmtFinType2_Tencode', 'FullBath|Heating_Tencode', 'FullBath|HeatingQC_Tencode', 'FullBath|CentralAir_Tencode', 'FullBath|Electrical_Tencode', 'FullBath|KitchenQual_Tencode', 'FullBath|Functional_Tencode', 'FullBath|FireplaceQu_Tencode', 'FullBath|GarageType_Tencode', 'FullBath|GarageFinish_Tencode', 'FullBath|GarageQual_Tencode', 'FullBath|GarageCond_Tencode', 'FullBath|PavedDrive_Tencode', 'FullBath|PoolQC_Tencode', 'FullBath|Fence_Tencode', 'FullBath|MiscFeature_Tencode', 'FullBath|SaleType_Tencode', 'FullBath|SaleCondition_Tencode', 'HalfBath|BedroomAbvGr', 'HalfBath|KitchenAbvGr', 'HalfBath|TotRmsAbvGrd', 'HalfBath|Fireplaces', 'HalfBath|GarageYrBlt', 'HalfBath|GarageCars', 'HalfBath|GarageArea', 'HalfBath|WoodDeckSF', 'HalfBath|OpenPorchSF', 'HalfBath|EnclosedPorch', 'HalfBath|3SsnPorch', 'HalfBath|ScreenPorch', 'HalfBath|PoolArea', 'HalfBath|MiscVal', 'HalfBath|MoSold', 'HalfBath|YrSold', 'HalfBath|MSZoning_Tencode', 'HalfBath|Street_Tencode', 'HalfBath|Alley_Tencode', 'HalfBath|LotShape_Tencode', 'HalfBath|LandContour_Tencode', 'HalfBath|Utilities_Tencode', 'HalfBath|LotConfig_Tencode', 'HalfBath|LandSlope_Tencode', 'HalfBath|Neighborhood_Tencode', 'HalfBath|Condition1_Tencode', 'HalfBath|Condition2_Tencode', 'HalfBath|BldgType_Tencode', 'HalfBath|HouseStyle_Tencode', 'HalfBath|RoofStyle_Tencode', 'HalfBath|RoofMatl_Tencode', 'HalfBath|Exterior1st_Tencode', 'HalfBath|Exterior2nd_Tencode', 'HalfBath|MasVnrType_Tencode', 'HalfBath|ExterQual_Tencode', 'HalfBath|ExterCond_Tencode', 'HalfBath|Foundation_Tencode', 'HalfBath|BsmtQual_Tencode', 'HalfBath|BsmtCond_Tencode', 'HalfBath|BsmtExposure_Tencode', 'HalfBath|BsmtFinType1_Tencode', 'HalfBath|BsmtFinType2_Tencode', 'HalfBath|Heating_Tencode', 'HalfBath|HeatingQC_Tencode', 'HalfBath|CentralAir_Tencode', 'HalfBath|Electrical_Tencode', 'HalfBath|KitchenQual_Tencode', 'HalfBath|Functional_Tencode', 'HalfBath|FireplaceQu_Tencode', 'HalfBath|GarageType_Tencode', 'HalfBath|GarageFinish_Tencode', 'HalfBath|GarageQual_Tencode', 'HalfBath|GarageCond_Tencode', 'HalfBath|PavedDrive_Tencode', 'HalfBath|PoolQC_Tencode', 'HalfBath|Fence_Tencode', 'HalfBath|MiscFeature_Tencode', 'HalfBath|SaleType_Tencode', 'HalfBath|SaleCondition_Tencode', 'BedroomAbvGr|KitchenAbvGr', 'BedroomAbvGr|TotRmsAbvGrd', 'BedroomAbvGr|Fireplaces', 'BedroomAbvGr|GarageYrBlt', 'BedroomAbvGr|GarageCars', 'BedroomAbvGr|GarageArea', 'BedroomAbvGr|WoodDeckSF', 'BedroomAbvGr|OpenPorchSF', 'BedroomAbvGr|EnclosedPorch', 'BedroomAbvGr|3SsnPorch', 'BedroomAbvGr|ScreenPorch', 'BedroomAbvGr|PoolArea', 'BedroomAbvGr|MiscVal', 'BedroomAbvGr|MoSold', 'BedroomAbvGr|YrSold', 'BedroomAbvGr|MSZoning_Tencode', 'BedroomAbvGr|Street_Tencode', 'BedroomAbvGr|Alley_Tencode', 'BedroomAbvGr|LotShape_Tencode', 'BedroomAbvGr|LandContour_Tencode', 'BedroomAbvGr|Utilities_Tencode', 'BedroomAbvGr|LotConfig_Tencode', 'BedroomAbvGr|LandSlope_Tencode', 'BedroomAbvGr|Neighborhood_Tencode', 'BedroomAbvGr|Condition1_Tencode', 'BedroomAbvGr|Condition2_Tencode', 'BedroomAbvGr|BldgType_Tencode', 'BedroomAbvGr|HouseStyle_Tencode', 'BedroomAbvGr|RoofStyle_Tencode', 'BedroomAbvGr|RoofMatl_Tencode', 'BedroomAbvGr|Exterior1st_Tencode', 'BedroomAbvGr|Exterior2nd_Tencode', 'BedroomAbvGr|MasVnrType_Tencode', 'BedroomAbvGr|ExterQual_Tencode', 'BedroomAbvGr|ExterCond_Tencode', 'BedroomAbvGr|Foundation_Tencode', 'BedroomAbvGr|BsmtQual_Tencode', 'BedroomAbvGr|BsmtCond_Tencode', 'BedroomAbvGr|BsmtExposure_Tencode', 'BedroomAbvGr|BsmtFinType1_Tencode', 'BedroomAbvGr|BsmtFinType2_Tencode', 'BedroomAbvGr|Heating_Tencode', 'BedroomAbvGr|HeatingQC_Tencode', 'BedroomAbvGr|CentralAir_Tencode', 'BedroomAbvGr|Electrical_Tencode', 'BedroomAbvGr|KitchenQual_Tencode', 'BedroomAbvGr|Functional_Tencode', 'BedroomAbvGr|FireplaceQu_Tencode', 'BedroomAbvGr|GarageType_Tencode', 'BedroomAbvGr|GarageFinish_Tencode', 'BedroomAbvGr|GarageQual_Tencode', 'BedroomAbvGr|GarageCond_Tencode', 'BedroomAbvGr|PavedDrive_Tencode', 'BedroomAbvGr|PoolQC_Tencode', 'BedroomAbvGr|Fence_Tencode', 'BedroomAbvGr|MiscFeature_Tencode', 'BedroomAbvGr|SaleType_Tencode', 'BedroomAbvGr|SaleCondition_Tencode', 'KitchenAbvGr|TotRmsAbvGrd', 'KitchenAbvGr|Fireplaces', 'KitchenAbvGr|GarageYrBlt', 'KitchenAbvGr|GarageCars', 'KitchenAbvGr|GarageArea', 'KitchenAbvGr|WoodDeckSF', 'KitchenAbvGr|OpenPorchSF', 'KitchenAbvGr|EnclosedPorch', 'KitchenAbvGr|3SsnPorch', 'KitchenAbvGr|ScreenPorch', 'KitchenAbvGr|PoolArea', 'KitchenAbvGr|MiscVal', 'KitchenAbvGr|MoSold', 'KitchenAbvGr|YrSold', 'KitchenAbvGr|MSZoning_Tencode', 'KitchenAbvGr|Street_Tencode', 'KitchenAbvGr|Alley_Tencode', 'KitchenAbvGr|LotShape_Tencode', 'KitchenAbvGr|LandContour_Tencode', 'KitchenAbvGr|Utilities_Tencode', 'KitchenAbvGr|LotConfig_Tencode', 'KitchenAbvGr|LandSlope_Tencode', 'KitchenAbvGr|Neighborhood_Tencode', 'KitchenAbvGr|Condition1_Tencode', 'KitchenAbvGr|Condition2_Tencode', 'KitchenAbvGr|BldgType_Tencode', 'KitchenAbvGr|HouseStyle_Tencode', 'KitchenAbvGr|RoofStyle_Tencode', 'KitchenAbvGr|RoofMatl_Tencode', 'KitchenAbvGr|Exterior1st_Tencode', 'KitchenAbvGr|Exterior2nd_Tencode', 'KitchenAbvGr|MasVnrType_Tencode', 'KitchenAbvGr|ExterQual_Tencode', 'KitchenAbvGr|ExterCond_Tencode', 'KitchenAbvGr|Foundation_Tencode', 'KitchenAbvGr|BsmtQual_Tencode', 'KitchenAbvGr|BsmtCond_Tencode', 'KitchenAbvGr|BsmtExposure_Tencode', 'KitchenAbvGr|BsmtFinType1_Tencode', 'KitchenAbvGr|BsmtFinType2_Tencode', 'KitchenAbvGr|Heating_Tencode', 'KitchenAbvGr|HeatingQC_Tencode', 'KitchenAbvGr|CentralAir_Tencode', 'KitchenAbvGr|Electrical_Tencode', 'KitchenAbvGr|KitchenQual_Tencode', 'KitchenAbvGr|Functional_Tencode', 'KitchenAbvGr|FireplaceQu_Tencode', 'KitchenAbvGr|GarageType_Tencode', 'KitchenAbvGr|GarageFinish_Tencode', 'KitchenAbvGr|GarageQual_Tencode', 'KitchenAbvGr|GarageCond_Tencode', 'KitchenAbvGr|PavedDrive_Tencode', 'KitchenAbvGr|PoolQC_Tencode', 'KitchenAbvGr|Fence_Tencode', 'KitchenAbvGr|MiscFeature_Tencode', 'KitchenAbvGr|SaleType_Tencode', 'KitchenAbvGr|SaleCondition_Tencode', 'TotRmsAbvGrd|Fireplaces', 'TotRmsAbvGrd|GarageYrBlt', 'TotRmsAbvGrd|GarageCars', 'TotRmsAbvGrd|GarageArea', 'TotRmsAbvGrd|WoodDeckSF', 'TotRmsAbvGrd|OpenPorchSF', 'TotRmsAbvGrd|EnclosedPorch', 'TotRmsAbvGrd|3SsnPorch', 'TotRmsAbvGrd|ScreenPorch', 'TotRmsAbvGrd|PoolArea', 'TotRmsAbvGrd|MiscVal', 'TotRmsAbvGrd|MoSold', 'TotRmsAbvGrd|YrSold', 'TotRmsAbvGrd|MSZoning_Tencode', 'TotRmsAbvGrd|Street_Tencode', 'TotRmsAbvGrd|Alley_Tencode', 'TotRmsAbvGrd|LotShape_Tencode', 'TotRmsAbvGrd|LandContour_Tencode', 'TotRmsAbvGrd|Utilities_Tencode', 'TotRmsAbvGrd|LotConfig_Tencode', 'TotRmsAbvGrd|LandSlope_Tencode', 'TotRmsAbvGrd|Neighborhood_Tencode', 'TotRmsAbvGrd|Condition1_Tencode', 'TotRmsAbvGrd|Condition2_Tencode', 'TotRmsAbvGrd|BldgType_Tencode', 'TotRmsAbvGrd|HouseStyle_Tencode', 'TotRmsAbvGrd|RoofStyle_Tencode', 'TotRmsAbvGrd|RoofMatl_Tencode', 'TotRmsAbvGrd|Exterior1st_Tencode', 'TotRmsAbvGrd|Exterior2nd_Tencode', 'TotRmsAbvGrd|MasVnrType_Tencode', 'TotRmsAbvGrd|ExterQual_Tencode', 'TotRmsAbvGrd|ExterCond_Tencode', 'TotRmsAbvGrd|Foundation_Tencode', 'TotRmsAbvGrd|BsmtQual_Tencode', 'TotRmsAbvGrd|BsmtCond_Tencode', 'TotRmsAbvGrd|BsmtExposure_Tencode', 'TotRmsAbvGrd|BsmtFinType1_Tencode', 'TotRmsAbvGrd|BsmtFinType2_Tencode', 'TotRmsAbvGrd|Heating_Tencode', 'TotRmsAbvGrd|HeatingQC_Tencode', 'TotRmsAbvGrd|CentralAir_Tencode', 'TotRmsAbvGrd|Electrical_Tencode', 'TotRmsAbvGrd|KitchenQual_Tencode', 'TotRmsAbvGrd|Functional_Tencode', 'TotRmsAbvGrd|FireplaceQu_Tencode', 'TotRmsAbvGrd|GarageType_Tencode', 'TotRmsAbvGrd|GarageFinish_Tencode', 'TotRmsAbvGrd|GarageQual_Tencode', 'TotRmsAbvGrd|GarageCond_Tencode', 'TotRmsAbvGrd|PavedDrive_Tencode', 'TotRmsAbvGrd|PoolQC_Tencode', 'TotRmsAbvGrd|Fence_Tencode', 'TotRmsAbvGrd|MiscFeature_Tencode', 'TotRmsAbvGrd|SaleType_Tencode', 'TotRmsAbvGrd|SaleCondition_Tencode', 'Fireplaces|GarageYrBlt', 'Fireplaces|GarageCars', 'Fireplaces|GarageArea', 'Fireplaces|WoodDeckSF', 'Fireplaces|OpenPorchSF', 'Fireplaces|EnclosedPorch', 'Fireplaces|3SsnPorch', 'Fireplaces|ScreenPorch', 'Fireplaces|PoolArea', 'Fireplaces|MiscVal', 'Fireplaces|MoSold', 'Fireplaces|YrSold', 'Fireplaces|MSZoning_Tencode', 'Fireplaces|Street_Tencode', 'Fireplaces|Alley_Tencode', 'Fireplaces|LotShape_Tencode', 'Fireplaces|LandContour_Tencode', 'Fireplaces|Utilities_Tencode', 'Fireplaces|LotConfig_Tencode', 'Fireplaces|LandSlope_Tencode', 'Fireplaces|Neighborhood_Tencode', 'Fireplaces|Condition1_Tencode', 'Fireplaces|Condition2_Tencode', 'Fireplaces|BldgType_Tencode', 'Fireplaces|HouseStyle_Tencode', 'Fireplaces|RoofStyle_Tencode', 'Fireplaces|RoofMatl_Tencode', 'Fireplaces|Exterior1st_Tencode', 'Fireplaces|Exterior2nd_Tencode', 'Fireplaces|MasVnrType_Tencode', 'Fireplaces|ExterQual_Tencode', 'Fireplaces|ExterCond_Tencode', 'Fireplaces|Foundation_Tencode', 'Fireplaces|BsmtQual_Tencode', 'Fireplaces|BsmtCond_Tencode', 'Fireplaces|BsmtExposure_Tencode', 'Fireplaces|BsmtFinType1_Tencode', 'Fireplaces|BsmtFinType2_Tencode', 'Fireplaces|Heating_Tencode', 'Fireplaces|HeatingQC_Tencode', 'Fireplaces|CentralAir_Tencode', 'Fireplaces|Electrical_Tencode', 'Fireplaces|KitchenQual_Tencode', 'Fireplaces|Functional_Tencode', 'Fireplaces|FireplaceQu_Tencode', 'Fireplaces|GarageType_Tencode', 'Fireplaces|GarageFinish_Tencode', 'Fireplaces|GarageQual_Tencode', 'Fireplaces|GarageCond_Tencode', 'Fireplaces|PavedDrive_Tencode', 'Fireplaces|PoolQC_Tencode', 'Fireplaces|Fence_Tencode', 'Fireplaces|MiscFeature_Tencode', 'Fireplaces|SaleType_Tencode', 'Fireplaces|SaleCondition_Tencode', 'GarageYrBlt|GarageCars', 'GarageYrBlt|GarageArea', 'GarageYrBlt|WoodDeckSF', 'GarageYrBlt|OpenPorchSF', 'GarageYrBlt|EnclosedPorch', 'GarageYrBlt|3SsnPorch', 'GarageYrBlt|ScreenPorch', 'GarageYrBlt|PoolArea', 'GarageYrBlt|MiscVal', 'GarageYrBlt|MoSold', 'GarageYrBlt|YrSold', 'GarageYrBlt|MSZoning_Tencode', 'GarageYrBlt|Street_Tencode', 'GarageYrBlt|Alley_Tencode', 'GarageYrBlt|LotShape_Tencode', 'GarageYrBlt|LandContour_Tencode', 'GarageYrBlt|Utilities_Tencode', 'GarageYrBlt|LotConfig_Tencode', 'GarageYrBlt|LandSlope_Tencode', 'GarageYrBlt|Neighborhood_Tencode', 'GarageYrBlt|Condition1_Tencode', 'GarageYrBlt|Condition2_Tencode', 'GarageYrBlt|BldgType_Tencode', 'GarageYrBlt|HouseStyle_Tencode', 'GarageYrBlt|RoofStyle_Tencode', 'GarageYrBlt|RoofMatl_Tencode', 'GarageYrBlt|Exterior1st_Tencode', 'GarageYrBlt|Exterior2nd_Tencode', 'GarageYrBlt|MasVnrType_Tencode', 'GarageYrBlt|ExterQual_Tencode', 'GarageYrBlt|ExterCond_Tencode', 'GarageYrBlt|Foundation_Tencode', 'GarageYrBlt|BsmtQual_Tencode', 'GarageYrBlt|BsmtCond_Tencode', 'GarageYrBlt|BsmtExposure_Tencode', 'GarageYrBlt|BsmtFinType1_Tencode', 'GarageYrBlt|BsmtFinType2_Tencode', 'GarageYrBlt|Heating_Tencode', 'GarageYrBlt|HeatingQC_Tencode', 'GarageYrBlt|CentralAir_Tencode', 'GarageYrBlt|Electrical_Tencode', 'GarageYrBlt|KitchenQual_Tencode', 'GarageYrBlt|Functional_Tencode', 'GarageYrBlt|FireplaceQu_Tencode', 'GarageYrBlt|GarageType_Tencode', 'GarageYrBlt|GarageFinish_Tencode', 'GarageYrBlt|GarageQual_Tencode', 'GarageYrBlt|GarageCond_Tencode', 'GarageYrBlt|PavedDrive_Tencode', 'GarageYrBlt|PoolQC_Tencode', 'GarageYrBlt|Fence_Tencode', 'GarageYrBlt|MiscFeature_Tencode', 'GarageYrBlt|SaleType_Tencode', 'GarageYrBlt|SaleCondition_Tencode', 'GarageCars|GarageArea', 'GarageCars|WoodDeckSF', 'GarageCars|OpenPorchSF', 'GarageCars|EnclosedPorch', 'GarageCars|3SsnPorch', 'GarageCars|ScreenPorch', 'GarageCars|PoolArea', 'GarageCars|MiscVal', 'GarageCars|MoSold', 'GarageCars|YrSold', 'GarageCars|MSZoning_Tencode', 'GarageCars|Street_Tencode', 'GarageCars|Alley_Tencode', 'GarageCars|LotShape_Tencode', 'GarageCars|LandContour_Tencode', 'GarageCars|Utilities_Tencode', 'GarageCars|LotConfig_Tencode', 'GarageCars|LandSlope_Tencode', 'GarageCars|Neighborhood_Tencode', 'GarageCars|Condition1_Tencode', 'GarageCars|Condition2_Tencode', 'GarageCars|BldgType_Tencode', 'GarageCars|HouseStyle_Tencode', 'GarageCars|RoofStyle_Tencode', 'GarageCars|RoofMatl_Tencode', 'GarageCars|Exterior1st_Tencode', 'GarageCars|Exterior2nd_Tencode', 'GarageCars|MasVnrType_Tencode', 'GarageCars|ExterQual_Tencode', 'GarageCars|ExterCond_Tencode', 'GarageCars|Foundation_Tencode', 'GarageCars|BsmtQual_Tencode', 'GarageCars|BsmtCond_Tencode', 'GarageCars|BsmtExposure_Tencode', 'GarageCars|BsmtFinType1_Tencode', 'GarageCars|BsmtFinType2_Tencode', 'GarageCars|Heating_Tencode', 'GarageCars|HeatingQC_Tencode', 'GarageCars|CentralAir_Tencode', 'GarageCars|Electrical_Tencode', 'GarageCars|KitchenQual_Tencode', 'GarageCars|Functional_Tencode', 'GarageCars|FireplaceQu_Tencode', 'GarageCars|GarageType_Tencode', 'GarageCars|GarageFinish_Tencode', 'GarageCars|GarageQual_Tencode', 'GarageCars|GarageCond_Tencode', 'GarageCars|PavedDrive_Tencode', 'GarageCars|PoolQC_Tencode', 'GarageCars|Fence_Tencode', 'GarageCars|MiscFeature_Tencode', 'GarageCars|SaleType_Tencode', 'GarageCars|SaleCondition_Tencode', 'GarageArea|WoodDeckSF', 'GarageArea|OpenPorchSF', 'GarageArea|EnclosedPorch', 'GarageArea|3SsnPorch', 'GarageArea|ScreenPorch', 'GarageArea|PoolArea', 'GarageArea|MiscVal', 'GarageArea|MoSold', 'GarageArea|YrSold', 'GarageArea|MSZoning_Tencode', 'GarageArea|Street_Tencode', 'GarageArea|Alley_Tencode', 'GarageArea|LotShape_Tencode', 'GarageArea|LandContour_Tencode', 'GarageArea|Utilities_Tencode', 'GarageArea|LotConfig_Tencode', 'GarageArea|LandSlope_Tencode', 'GarageArea|Neighborhood_Tencode', 'GarageArea|Condition1_Tencode', 'GarageArea|Condition2_Tencode', 'GarageArea|BldgType_Tencode', 'GarageArea|HouseStyle_Tencode', 'GarageArea|RoofStyle_Tencode', 'GarageArea|RoofMatl_Tencode', 'GarageArea|Exterior1st_Tencode', 'GarageArea|Exterior2nd_Tencode', 'GarageArea|MasVnrType_Tencode', 'GarageArea|ExterQual_Tencode', 'GarageArea|ExterCond_Tencode', 'GarageArea|Foundation_Tencode', 'GarageArea|BsmtQual_Tencode', 'GarageArea|BsmtCond_Tencode', 'GarageArea|BsmtExposure_Tencode', 'GarageArea|BsmtFinType1_Tencode', 'GarageArea|BsmtFinType2_Tencode', 'GarageArea|Heating_Tencode', 'GarageArea|HeatingQC_Tencode', 'GarageArea|CentralAir_Tencode', 'GarageArea|Electrical_Tencode', 'GarageArea|KitchenQual_Tencode', 'GarageArea|Functional_Tencode', 'GarageArea|FireplaceQu_Tencode', 'GarageArea|GarageType_Tencode', 'GarageArea|GarageFinish_Tencode', 'GarageArea|GarageQual_Tencode', 'GarageArea|GarageCond_Tencode', 'GarageArea|PavedDrive_Tencode', 'GarageArea|PoolQC_Tencode', 'GarageArea|Fence_Tencode', 'GarageArea|MiscFeature_Tencode', 'GarageArea|SaleType_Tencode', 'GarageArea|SaleCondition_Tencode', 'WoodDeckSF|OpenPorchSF', 'WoodDeckSF|EnclosedPorch', 'WoodDeckSF|3SsnPorch', 'WoodDeckSF|ScreenPorch', 'WoodDeckSF|PoolArea', 'WoodDeckSF|MiscVal', 'WoodDeckSF|MoSold', 'WoodDeckSF|YrSold', 'WoodDeckSF|MSZoning_Tencode', 'WoodDeckSF|Street_Tencode', 'WoodDeckSF|Alley_Tencode', 'WoodDeckSF|LotShape_Tencode', 'WoodDeckSF|LandContour_Tencode', 'WoodDeckSF|Utilities_Tencode', 'WoodDeckSF|LotConfig_Tencode', 'WoodDeckSF|LandSlope_Tencode', 'WoodDeckSF|Neighborhood_Tencode', 'WoodDeckSF|Condition1_Tencode', 'WoodDeckSF|Condition2_Tencode', 'WoodDeckSF|BldgType_Tencode', 'WoodDeckSF|HouseStyle_Tencode', 'WoodDeckSF|RoofStyle_Tencode', 'WoodDeckSF|RoofMatl_Tencode', 'WoodDeckSF|Exterior1st_Tencode', 'WoodDeckSF|Exterior2nd_Tencode', 'WoodDeckSF|MasVnrType_Tencode', 'WoodDeckSF|ExterQual_Tencode', 'WoodDeckSF|ExterCond_Tencode', 'WoodDeckSF|Foundation_Tencode', 'WoodDeckSF|BsmtQual_Tencode', 'WoodDeckSF|BsmtCond_Tencode', 'WoodDeckSF|BsmtExposure_Tencode', 'WoodDeckSF|BsmtFinType1_Tencode', 'WoodDeckSF|BsmtFinType2_Tencode', 'WoodDeckSF|Heating_Tencode', 'WoodDeckSF|HeatingQC_Tencode', 'WoodDeckSF|CentralAir_Tencode', 'WoodDeckSF|Electrical_Tencode', 'WoodDeckSF|KitchenQual_Tencode', 'WoodDeckSF|Functional_Tencode', 'WoodDeckSF|FireplaceQu_Tencode', 'WoodDeckSF|GarageType_Tencode', 'WoodDeckSF|GarageFinish_Tencode', 'WoodDeckSF|GarageQual_Tencode', 'WoodDeckSF|GarageCond_Tencode', 'WoodDeckSF|PavedDrive_Tencode', 'WoodDeckSF|PoolQC_Tencode', 'WoodDeckSF|Fence_Tencode', 'WoodDeckSF|MiscFeature_Tencode', 'WoodDeckSF|SaleType_Tencode', 'WoodDeckSF|SaleCondition_Tencode', 'OpenPorchSF|EnclosedPorch', 'OpenPorchSF|3SsnPorch', 'OpenPorchSF|ScreenPorch', 'OpenPorchSF|PoolArea', 'OpenPorchSF|MiscVal', 'OpenPorchSF|MoSold', 'OpenPorchSF|YrSold', 'OpenPorchSF|MSZoning_Tencode', 'OpenPorchSF|Street_Tencode', 'OpenPorchSF|Alley_Tencode', 'OpenPorchSF|LotShape_Tencode', 'OpenPorchSF|LandContour_Tencode', 'OpenPorchSF|Utilities_Tencode', 'OpenPorchSF|LotConfig_Tencode', 'OpenPorchSF|LandSlope_Tencode', 'OpenPorchSF|Neighborhood_Tencode', 'OpenPorchSF|Condition1_Tencode', 'OpenPorchSF|Condition2_Tencode', 'OpenPorchSF|BldgType_Tencode', 'OpenPorchSF|HouseStyle_Tencode', 'OpenPorchSF|RoofStyle_Tencode', 'OpenPorchSF|RoofMatl_Tencode', 'OpenPorchSF|Exterior1st_Tencode', 'OpenPorchSF|Exterior2nd_Tencode', 'OpenPorchSF|MasVnrType_Tencode', 'OpenPorchSF|ExterQual_Tencode', 'OpenPorchSF|ExterCond_Tencode', 'OpenPorchSF|Foundation_Tencode', 'OpenPorchSF|BsmtQual_Tencode', 'OpenPorchSF|BsmtCond_Tencode', 'OpenPorchSF|BsmtExposure_Tencode', 'OpenPorchSF|BsmtFinType1_Tencode', 'OpenPorchSF|BsmtFinType2_Tencode', 'OpenPorchSF|Heating_Tencode', 'OpenPorchSF|HeatingQC_Tencode', 'OpenPorchSF|CentralAir_Tencode', 'OpenPorchSF|Electrical_Tencode', 'OpenPorchSF|KitchenQual_Tencode', 'OpenPorchSF|Functional_Tencode', 'OpenPorchSF|FireplaceQu_Tencode', 'OpenPorchSF|GarageType_Tencode', 'OpenPorchSF|GarageFinish_Tencode', 'OpenPorchSF|GarageQual_Tencode', 'OpenPorchSF|GarageCond_Tencode', 'OpenPorchSF|PavedDrive_Tencode', 'OpenPorchSF|PoolQC_Tencode', 'OpenPorchSF|Fence_Tencode', 'OpenPorchSF|MiscFeature_Tencode', 'OpenPorchSF|SaleType_Tencode', 'OpenPorchSF|SaleCondition_Tencode', 'EnclosedPorch|3SsnPorch', 'EnclosedPorch|ScreenPorch', 'EnclosedPorch|PoolArea', 'EnclosedPorch|MiscVal', 'EnclosedPorch|MoSold', 'EnclosedPorch|YrSold', 'EnclosedPorch|MSZoning_Tencode', 'EnclosedPorch|Street_Tencode', 'EnclosedPorch|Alley_Tencode', 'EnclosedPorch|LotShape_Tencode', 'EnclosedPorch|LandContour_Tencode', 'EnclosedPorch|Utilities_Tencode', 'EnclosedPorch|LotConfig_Tencode', 'EnclosedPorch|LandSlope_Tencode', 'EnclosedPorch|Neighborhood_Tencode', 'EnclosedPorch|Condition1_Tencode', 'EnclosedPorch|Condition2_Tencode', 'EnclosedPorch|BldgType_Tencode', 'EnclosedPorch|HouseStyle_Tencode', 'EnclosedPorch|RoofStyle_Tencode', 'EnclosedPorch|RoofMatl_Tencode', 'EnclosedPorch|Exterior1st_Tencode', 'EnclosedPorch|Exterior2nd_Tencode', 'EnclosedPorch|MasVnrType_Tencode', 'EnclosedPorch|ExterQual_Tencode', 'EnclosedPorch|ExterCond_Tencode', 'EnclosedPorch|Foundation_Tencode', 'EnclosedPorch|BsmtQual_Tencode', 'EnclosedPorch|BsmtCond_Tencode', 'EnclosedPorch|BsmtExposure_Tencode', 'EnclosedPorch|BsmtFinType1_Tencode', 'EnclosedPorch|BsmtFinType2_Tencode', 'EnclosedPorch|Heating_Tencode', 'EnclosedPorch|HeatingQC_Tencode', 'EnclosedPorch|CentralAir_Tencode', 'EnclosedPorch|Electrical_Tencode', 'EnclosedPorch|KitchenQual_Tencode', 'EnclosedPorch|Functional_Tencode', 'EnclosedPorch|FireplaceQu_Tencode', 'EnclosedPorch|GarageType_Tencode', 'EnclosedPorch|GarageFinish_Tencode', 'EnclosedPorch|GarageQual_Tencode', 'EnclosedPorch|GarageCond_Tencode', 'EnclosedPorch|PavedDrive_Tencode', 'EnclosedPorch|PoolQC_Tencode', 'EnclosedPorch|Fence_Tencode', 'EnclosedPorch|MiscFeature_Tencode', 'EnclosedPorch|SaleType_Tencode', 'EnclosedPorch|SaleCondition_Tencode', '3SsnPorch|ScreenPorch', '3SsnPorch|PoolArea', '3SsnPorch|MiscVal', '3SsnPorch|MoSold', '3SsnPorch|YrSold', '3SsnPorch|MSZoning_Tencode', '3SsnPorch|Street_Tencode', '3SsnPorch|Alley_Tencode', '3SsnPorch|LotShape_Tencode', '3SsnPorch|LandContour_Tencode', '3SsnPorch|Utilities_Tencode', '3SsnPorch|LotConfig_Tencode', '3SsnPorch|LandSlope_Tencode', '3SsnPorch|Neighborhood_Tencode', '3SsnPorch|Condition1_Tencode', '3SsnPorch|Condition2_Tencode', '3SsnPorch|BldgType_Tencode', '3SsnPorch|HouseStyle_Tencode', '3SsnPorch|RoofStyle_Tencode', '3SsnPorch|RoofMatl_Tencode', '3SsnPorch|Exterior1st_Tencode', '3SsnPorch|Exterior2nd_Tencode', '3SsnPorch|MasVnrType_Tencode', '3SsnPorch|ExterQual_Tencode', '3SsnPorch|ExterCond_Tencode', '3SsnPorch|Foundation_Tencode', '3SsnPorch|BsmtQual_Tencode', '3SsnPorch|BsmtCond_Tencode', '3SsnPorch|BsmtExposure_Tencode', '3SsnPorch|BsmtFinType1_Tencode', '3SsnPorch|BsmtFinType2_Tencode', '3SsnPorch|Heating_Tencode', '3SsnPorch|HeatingQC_Tencode', '3SsnPorch|CentralAir_Tencode', '3SsnPorch|Electrical_Tencode', '3SsnPorch|KitchenQual_Tencode', '3SsnPorch|Functional_Tencode', '3SsnPorch|FireplaceQu_Tencode', '3SsnPorch|GarageType_Tencode', '3SsnPorch|GarageFinish_Tencode', '3SsnPorch|GarageQual_Tencode', '3SsnPorch|GarageCond_Tencode', '3SsnPorch|PavedDrive_Tencode', '3SsnPorch|PoolQC_Tencode', '3SsnPorch|Fence_Tencode', '3SsnPorch|MiscFeature_Tencode', '3SsnPorch|SaleType_Tencode', '3SsnPorch|SaleCondition_Tencode', 'ScreenPorch|PoolArea', 'ScreenPorch|MiscVal', 'ScreenPorch|MoSold', 'ScreenPorch|YrSold', 'ScreenPorch|MSZoning_Tencode', 'ScreenPorch|Street_Tencode', 'ScreenPorch|Alley_Tencode', 'ScreenPorch|LotShape_Tencode', 'ScreenPorch|LandContour_Tencode', 'ScreenPorch|Utilities_Tencode', 'ScreenPorch|LotConfig_Tencode', 'ScreenPorch|LandSlope_Tencode', 'ScreenPorch|Neighborhood_Tencode', 'ScreenPorch|Condition1_Tencode', 'ScreenPorch|Condition2_Tencode', 'ScreenPorch|BldgType_Tencode', 'ScreenPorch|HouseStyle_Tencode', 'ScreenPorch|RoofStyle_Tencode', 'ScreenPorch|RoofMatl_Tencode', 'ScreenPorch|Exterior1st_Tencode', 'ScreenPorch|Exterior2nd_Tencode', 'ScreenPorch|MasVnrType_Tencode', 'ScreenPorch|ExterQual_Tencode', 'ScreenPorch|ExterCond_Tencode', 'ScreenPorch|Foundation_Tencode', 'ScreenPorch|BsmtQual_Tencode', 'ScreenPorch|BsmtCond_Tencode', 'ScreenPorch|BsmtExposure_Tencode', 'ScreenPorch|BsmtFinType1_Tencode', 'ScreenPorch|BsmtFinType2_Tencode', 'ScreenPorch|Heating_Tencode', 'ScreenPorch|HeatingQC_Tencode', 'ScreenPorch|CentralAir_Tencode', 'ScreenPorch|Electrical_Tencode', 'ScreenPorch|KitchenQual_Tencode', 'ScreenPorch|Functional_Tencode', 'ScreenPorch|FireplaceQu_Tencode', 'ScreenPorch|GarageType_Tencode', 'ScreenPorch|GarageFinish_Tencode', 'ScreenPorch|GarageQual_Tencode', 'ScreenPorch|GarageCond_Tencode', 'ScreenPorch|PavedDrive_Tencode', 'ScreenPorch|PoolQC_Tencode', 'ScreenPorch|Fence_Tencode', 'ScreenPorch|MiscFeature_Tencode', 'ScreenPorch|SaleType_Tencode', 'ScreenPorch|SaleCondition_Tencode', 'PoolArea|MiscVal', 'PoolArea|MoSold', 'PoolArea|YrSold', 'PoolArea|MSZoning_Tencode', 'PoolArea|Street_Tencode', 'PoolArea|Alley_Tencode', 'PoolArea|LotShape_Tencode', 'PoolArea|LandContour_Tencode', 'PoolArea|Utilities_Tencode', 'PoolArea|LotConfig_Tencode', 'PoolArea|LandSlope_Tencode', 'PoolArea|Neighborhood_Tencode', 'PoolArea|Condition1_Tencode', 'PoolArea|Condition2_Tencode', 'PoolArea|BldgType_Tencode', 'PoolArea|HouseStyle_Tencode', 'PoolArea|RoofStyle_Tencode', 'PoolArea|RoofMatl_Tencode', 'PoolArea|Exterior1st_Tencode', 'PoolArea|Exterior2nd_Tencode', 'PoolArea|MasVnrType_Tencode', 'PoolArea|ExterQual_Tencode', 'PoolArea|ExterCond_Tencode', 'PoolArea|Foundation_Tencode', 'PoolArea|BsmtQual_Tencode', 'PoolArea|BsmtCond_Tencode', 'PoolArea|BsmtExposure_Tencode', 'PoolArea|BsmtFinType1_Tencode', 'PoolArea|BsmtFinType2_Tencode', 'PoolArea|Heating_Tencode', 'PoolArea|HeatingQC_Tencode', 'PoolArea|CentralAir_Tencode', 'PoolArea|Electrical_Tencode', 'PoolArea|KitchenQual_Tencode', 'PoolArea|Functional_Tencode', 'PoolArea|FireplaceQu_Tencode', 'PoolArea|GarageType_Tencode', 'PoolArea|GarageFinish_Tencode', 'PoolArea|GarageQual_Tencode', 'PoolArea|GarageCond_Tencode', 'PoolArea|PavedDrive_Tencode', 'PoolArea|PoolQC_Tencode', 'PoolArea|Fence_Tencode', 'PoolArea|MiscFeature_Tencode', 'PoolArea|SaleType_Tencode', 'PoolArea|SaleCondition_Tencode', 'MiscVal|MoSold', 'MiscVal|YrSold', 'MiscVal|MSZoning_Tencode', 'MiscVal|Street_Tencode', 'MiscVal|Alley_Tencode', 'MiscVal|LotShape_Tencode', 'MiscVal|LandContour_Tencode', 'MiscVal|Utilities_Tencode', 'MiscVal|LotConfig_Tencode', 'MiscVal|LandSlope_Tencode', 'MiscVal|Neighborhood_Tencode', 'MiscVal|Condition1_Tencode', 'MiscVal|Condition2_Tencode', 'MiscVal|BldgType_Tencode', 'MiscVal|HouseStyle_Tencode', 'MiscVal|RoofStyle_Tencode', 'MiscVal|RoofMatl_Tencode', 'MiscVal|Exterior1st_Tencode', 'MiscVal|Exterior2nd_Tencode', 'MiscVal|MasVnrType_Tencode', 'MiscVal|ExterQual_Tencode', 'MiscVal|ExterCond_Tencode', 'MiscVal|Foundation_Tencode', 'MiscVal|BsmtQual_Tencode', 'MiscVal|BsmtCond_Tencode', 'MiscVal|BsmtExposure_Tencode', 'MiscVal|BsmtFinType1_Tencode', 'MiscVal|BsmtFinType2_Tencode', 'MiscVal|Heating_Tencode', 'MiscVal|HeatingQC_Tencode', 'MiscVal|CentralAir_Tencode', 'MiscVal|Electrical_Tencode', 'MiscVal|KitchenQual_Tencode', 'MiscVal|Functional_Tencode', 'MiscVal|FireplaceQu_Tencode', 'MiscVal|GarageType_Tencode', 'MiscVal|GarageFinish_Tencode', 'MiscVal|GarageQual_Tencode', 'MiscVal|GarageCond_Tencode', 'MiscVal|PavedDrive_Tencode', 'MiscVal|PoolQC_Tencode', 'MiscVal|Fence_Tencode', 'MiscVal|MiscFeature_Tencode', 'MiscVal|SaleType_Tencode', 'MiscVal|SaleCondition_Tencode', 'MoSold|YrSold', 'MoSold|MSZoning_Tencode', 'MoSold|Street_Tencode', 'MoSold|Alley_Tencode', 'MoSold|LotShape_Tencode', 'MoSold|LandContour_Tencode', 'MoSold|Utilities_Tencode', 'MoSold|LotConfig_Tencode', 'MoSold|LandSlope_Tencode', 'MoSold|Neighborhood_Tencode', 'MoSold|Condition1_Tencode', 'MoSold|Condition2_Tencode', 'MoSold|BldgType_Tencode', 'MoSold|HouseStyle_Tencode', 'MoSold|RoofStyle_Tencode', 'MoSold|RoofMatl_Tencode', 'MoSold|Exterior1st_Tencode', 'MoSold|Exterior2nd_Tencode', 'MoSold|MasVnrType_Tencode', 'MoSold|ExterQual_Tencode', 'MoSold|ExterCond_Tencode', 'MoSold|Foundation_Tencode', 'MoSold|BsmtQual_Tencode', 'MoSold|BsmtCond_Tencode', 'MoSold|BsmtExposure_Tencode', 'MoSold|BsmtFinType1_Tencode', 'MoSold|BsmtFinType2_Tencode', 'MoSold|Heating_Tencode', 'MoSold|HeatingQC_Tencode', 'MoSold|CentralAir_Tencode', 'MoSold|Electrical_Tencode', 'MoSold|KitchenQual_Tencode', 'MoSold|Functional_Tencode', 'MoSold|FireplaceQu_Tencode', 'MoSold|GarageType_Tencode', 'MoSold|GarageFinish_Tencode', 'MoSold|GarageQual_Tencode', 'MoSold|GarageCond_Tencode', 'MoSold|PavedDrive_Tencode', 'MoSold|PoolQC_Tencode', 'MoSold|Fence_Tencode', 'MoSold|MiscFeature_Tencode', 'MoSold|SaleType_Tencode', 'MoSold|SaleCondition_Tencode', 'YrSold|MSZoning_Tencode', 'YrSold|Street_Tencode', 'YrSold|Alley_Tencode', 'YrSold|LotShape_Tencode', 'YrSold|LandContour_Tencode', 'YrSold|Utilities_Tencode', 'YrSold|LotConfig_Tencode', 'YrSold|LandSlope_Tencode', 'YrSold|Neighborhood_Tencode', 'YrSold|Condition1_Tencode', 'YrSold|Condition2_Tencode', 'YrSold|BldgType_Tencode', 'YrSold|HouseStyle_Tencode', 'YrSold|RoofStyle_Tencode', 'YrSold|RoofMatl_Tencode', 'YrSold|Exterior1st_Tencode', 'YrSold|Exterior2nd_Tencode', 'YrSold|MasVnrType_Tencode', 'YrSold|ExterQual_Tencode', 'YrSold|ExterCond_Tencode', 'YrSold|Foundation_Tencode', 'YrSold|BsmtQual_Tencode', 'YrSold|BsmtCond_Tencode', 'YrSold|BsmtExposure_Tencode', 'YrSold|BsmtFinType1_Tencode', 'YrSold|BsmtFinType2_Tencode', 'YrSold|Heating_Tencode', 'YrSold|HeatingQC_Tencode', 'YrSold|CentralAir_Tencode', 'YrSold|Electrical_Tencode', 'YrSold|KitchenQual_Tencode', 'YrSold|Functional_Tencode', 'YrSold|FireplaceQu_Tencode', 'YrSold|GarageType_Tencode', 'YrSold|GarageFinish_Tencode', 'YrSold|GarageQual_Tencode', 'YrSold|GarageCond_Tencode', 'YrSold|PavedDrive_Tencode', 'YrSold|PoolQC_Tencode', 'YrSold|Fence_Tencode', 'YrSold|MiscFeature_Tencode', 'YrSold|SaleType_Tencode', 'YrSold|SaleCondition_Tencode', 'MSZoning_Tencode|Street_Tencode', 'MSZoning_Tencode|Alley_Tencode', 'MSZoning_Tencode|LotShape_Tencode', 'MSZoning_Tencode|LandContour_Tencode', 'MSZoning_Tencode|Utilities_Tencode', 'MSZoning_Tencode|LotConfig_Tencode', 'MSZoning_Tencode|LandSlope_Tencode', 'MSZoning_Tencode|Neighborhood_Tencode', 'MSZoning_Tencode|Condition1_Tencode', 'MSZoning_Tencode|Condition2_Tencode', 'MSZoning_Tencode|BldgType_Tencode', 'MSZoning_Tencode|HouseStyle_Tencode', 'MSZoning_Tencode|RoofStyle_Tencode', 'MSZoning_Tencode|RoofMatl_Tencode', 'MSZoning_Tencode|Exterior1st_Tencode', 'MSZoning_Tencode|Exterior2nd_Tencode', 'MSZoning_Tencode|MasVnrType_Tencode', 'MSZoning_Tencode|ExterQual_Tencode', 'MSZoning_Tencode|ExterCond_Tencode', 'MSZoning_Tencode|Foundation_Tencode', 'MSZoning_Tencode|BsmtQual_Tencode', 'MSZoning_Tencode|BsmtCond_Tencode', 'MSZoning_Tencode|BsmtExposure_Tencode', 'MSZoning_Tencode|BsmtFinType1_Tencode', 'MSZoning_Tencode|BsmtFinType2_Tencode', 'MSZoning_Tencode|Heating_Tencode', 'MSZoning_Tencode|HeatingQC_Tencode', 'MSZoning_Tencode|CentralAir_Tencode', 'MSZoning_Tencode|Electrical_Tencode', 'MSZoning_Tencode|KitchenQual_Tencode', 'MSZoning_Tencode|Functional_Tencode', 'MSZoning_Tencode|FireplaceQu_Tencode', 'MSZoning_Tencode|GarageType_Tencode', 'MSZoning_Tencode|GarageFinish_Tencode', 'MSZoning_Tencode|GarageQual_Tencode', 'MSZoning_Tencode|GarageCond_Tencode', 'MSZoning_Tencode|PavedDrive_Tencode', 'MSZoning_Tencode|PoolQC_Tencode', 'MSZoning_Tencode|Fence_Tencode', 'MSZoning_Tencode|MiscFeature_Tencode', 'MSZoning_Tencode|SaleType_Tencode', 'MSZoning_Tencode|SaleCondition_Tencode', 'Street_Tencode|Alley_Tencode', 'Street_Tencode|LotShape_Tencode', 'Street_Tencode|LandContour_Tencode', 'Street_Tencode|Utilities_Tencode', 'Street_Tencode|LotConfig_Tencode', 'Street_Tencode|LandSlope_Tencode', 'Street_Tencode|Neighborhood_Tencode', 'Street_Tencode|Condition1_Tencode', 'Street_Tencode|Condition2_Tencode', 'Street_Tencode|BldgType_Tencode', 'Street_Tencode|HouseStyle_Tencode', 'Street_Tencode|RoofStyle_Tencode', 'Street_Tencode|RoofMatl_Tencode', 'Street_Tencode|Exterior1st_Tencode', 'Street_Tencode|Exterior2nd_Tencode', 'Street_Tencode|MasVnrType_Tencode', 'Street_Tencode|ExterQual_Tencode', 'Street_Tencode|ExterCond_Tencode', 'Street_Tencode|Foundation_Tencode', 'Street_Tencode|BsmtQual_Tencode', 'Street_Tencode|BsmtCond_Tencode', 'Street_Tencode|BsmtExposure_Tencode', 'Street_Tencode|BsmtFinType1_Tencode', 'Street_Tencode|BsmtFinType2_Tencode', 'Street_Tencode|Heating_Tencode', 'Street_Tencode|HeatingQC_Tencode', 'Street_Tencode|CentralAir_Tencode', 'Street_Tencode|Electrical_Tencode', 'Street_Tencode|KitchenQual_Tencode', 'Street_Tencode|Functional_Tencode', 'Street_Tencode|FireplaceQu_Tencode', 'Street_Tencode|GarageType_Tencode', 'Street_Tencode|GarageFinish_Tencode', 'Street_Tencode|GarageQual_Tencode', 'Street_Tencode|GarageCond_Tencode', 'Street_Tencode|PavedDrive_Tencode', 'Street_Tencode|PoolQC_Tencode', 'Street_Tencode|Fence_Tencode', 'Street_Tencode|MiscFeature_Tencode', 'Street_Tencode|SaleType_Tencode', 'Street_Tencode|SaleCondition_Tencode', 'Alley_Tencode|LotShape_Tencode', 'Alley_Tencode|LandContour_Tencode', 'Alley_Tencode|Utilities_Tencode', 'Alley_Tencode|LotConfig_Tencode', 'Alley_Tencode|LandSlope_Tencode', 'Alley_Tencode|Neighborhood_Tencode', 'Alley_Tencode|Condition1_Tencode', 'Alley_Tencode|Condition2_Tencode', 'Alley_Tencode|BldgType_Tencode', 'Alley_Tencode|HouseStyle_Tencode', 'Alley_Tencode|RoofStyle_Tencode', 'Alley_Tencode|RoofMatl_Tencode', 'Alley_Tencode|Exterior1st_Tencode', 'Alley_Tencode|Exterior2nd_Tencode', 'Alley_Tencode|MasVnrType_Tencode', 'Alley_Tencode|ExterQual_Tencode', 'Alley_Tencode|ExterCond_Tencode', 'Alley_Tencode|Foundation_Tencode', 'Alley_Tencode|BsmtQual_Tencode', 'Alley_Tencode|BsmtCond_Tencode', 'Alley_Tencode|BsmtExposure_Tencode', 'Alley_Tencode|BsmtFinType1_Tencode', 'Alley_Tencode|BsmtFinType2_Tencode', 'Alley_Tencode|Heating_Tencode', 'Alley_Tencode|HeatingQC_Tencode', 'Alley_Tencode|CentralAir_Tencode', 'Alley_Tencode|Electrical_Tencode', 'Alley_Tencode|KitchenQual_Tencode', 'Alley_Tencode|Functional_Tencode', 'Alley_Tencode|FireplaceQu_Tencode', 'Alley_Tencode|GarageType_Tencode', 'Alley_Tencode|GarageFinish_Tencode', 'Alley_Tencode|GarageQual_Tencode', 'Alley_Tencode|GarageCond_Tencode', 'Alley_Tencode|PavedDrive_Tencode', 'Alley_Tencode|PoolQC_Tencode', 'Alley_Tencode|Fence_Tencode', 'Alley_Tencode|MiscFeature_Tencode', 'Alley_Tencode|SaleType_Tencode', 'Alley_Tencode|SaleCondition_Tencode', 'LotShape_Tencode|LandContour_Tencode', 'LotShape_Tencode|Utilities_Tencode', 'LotShape_Tencode|LotConfig_Tencode', 'LotShape_Tencode|LandSlope_Tencode', 'LotShape_Tencode|Neighborhood_Tencode', 'LotShape_Tencode|Condition1_Tencode', 'LotShape_Tencode|Condition2_Tencode', 'LotShape_Tencode|BldgType_Tencode', 'LotShape_Tencode|HouseStyle_Tencode', 'LotShape_Tencode|RoofStyle_Tencode', 'LotShape_Tencode|RoofMatl_Tencode', 'LotShape_Tencode|Exterior1st_Tencode', 'LotShape_Tencode|Exterior2nd_Tencode', 'LotShape_Tencode|MasVnrType_Tencode', 'LotShape_Tencode|ExterQual_Tencode', 'LotShape_Tencode|ExterCond_Tencode', 'LotShape_Tencode|Foundation_Tencode', 'LotShape_Tencode|BsmtQual_Tencode', 'LotShape_Tencode|BsmtCond_Tencode', 'LotShape_Tencode|BsmtExposure_Tencode', 'LotShape_Tencode|BsmtFinType1_Tencode', 'LotShape_Tencode|BsmtFinType2_Tencode', 'LotShape_Tencode|Heating_Tencode', 'LotShape_Tencode|HeatingQC_Tencode', 'LotShape_Tencode|CentralAir_Tencode', 'LotShape_Tencode|Electrical_Tencode', 'LotShape_Tencode|KitchenQual_Tencode', 'LotShape_Tencode|Functional_Tencode', 'LotShape_Tencode|FireplaceQu_Tencode', 'LotShape_Tencode|GarageType_Tencode', 'LotShape_Tencode|GarageFinish_Tencode', 'LotShape_Tencode|GarageQual_Tencode', 'LotShape_Tencode|GarageCond_Tencode', 'LotShape_Tencode|PavedDrive_Tencode', 'LotShape_Tencode|PoolQC_Tencode', 'LotShape_Tencode|Fence_Tencode', 'LotShape_Tencode|MiscFeature_Tencode', 'LotShape_Tencode|SaleType_Tencode', 'LotShape_Tencode|SaleCondition_Tencode', 'LandContour_Tencode|Utilities_Tencode', 'LandContour_Tencode|LotConfig_Tencode', 'LandContour_Tencode|LandSlope_Tencode', 'LandContour_Tencode|Neighborhood_Tencode', 'LandContour_Tencode|Condition1_Tencode', 'LandContour_Tencode|Condition2_Tencode', 'LandContour_Tencode|BldgType_Tencode', 'LandContour_Tencode|HouseStyle_Tencode', 'LandContour_Tencode|RoofStyle_Tencode', 'LandContour_Tencode|RoofMatl_Tencode', 'LandContour_Tencode|Exterior1st_Tencode', 'LandContour_Tencode|Exterior2nd_Tencode', 'LandContour_Tencode|MasVnrType_Tencode', 'LandContour_Tencode|ExterQual_Tencode', 'LandContour_Tencode|ExterCond_Tencode', 'LandContour_Tencode|Foundation_Tencode', 'LandContour_Tencode|BsmtQual_Tencode', 'LandContour_Tencode|BsmtCond_Tencode', 'LandContour_Tencode|BsmtExposure_Tencode', 'LandContour_Tencode|BsmtFinType1_Tencode', 'LandContour_Tencode|BsmtFinType2_Tencode', 'LandContour_Tencode|Heating_Tencode', 'LandContour_Tencode|HeatingQC_Tencode', 'LandContour_Tencode|CentralAir_Tencode', 'LandContour_Tencode|Electrical_Tencode', 'LandContour_Tencode|KitchenQual_Tencode', 'LandContour_Tencode|Functional_Tencode', 'LandContour_Tencode|FireplaceQu_Tencode', 'LandContour_Tencode|GarageType_Tencode', 'LandContour_Tencode|GarageFinish_Tencode', 'LandContour_Tencode|GarageQual_Tencode', 'LandContour_Tencode|GarageCond_Tencode', 'LandContour_Tencode|PavedDrive_Tencode', 'LandContour_Tencode|PoolQC_Tencode', 'LandContour_Tencode|Fence_Tencode', 'LandContour_Tencode|MiscFeature_Tencode', 'LandContour_Tencode|SaleType_Tencode', 'LandContour_Tencode|SaleCondition_Tencode', 'Utilities_Tencode|LotConfig_Tencode', 'Utilities_Tencode|LandSlope_Tencode', 'Utilities_Tencode|Neighborhood_Tencode', 'Utilities_Tencode|Condition1_Tencode', 'Utilities_Tencode|Condition2_Tencode', 'Utilities_Tencode|BldgType_Tencode', 'Utilities_Tencode|HouseStyle_Tencode', 'Utilities_Tencode|RoofStyle_Tencode', 'Utilities_Tencode|RoofMatl_Tencode', 'Utilities_Tencode|Exterior1st_Tencode', 'Utilities_Tencode|Exterior2nd_Tencode', 'Utilities_Tencode|MasVnrType_Tencode', 'Utilities_Tencode|ExterQual_Tencode', 'Utilities_Tencode|ExterCond_Tencode', 'Utilities_Tencode|Foundation_Tencode', 'Utilities_Tencode|BsmtQual_Tencode', 'Utilities_Tencode|BsmtCond_Tencode', 'Utilities_Tencode|BsmtExposure_Tencode', 'Utilities_Tencode|BsmtFinType1_Tencode', 'Utilities_Tencode|BsmtFinType2_Tencode', 'Utilities_Tencode|Heating_Tencode', 'Utilities_Tencode|HeatingQC_Tencode', 'Utilities_Tencode|CentralAir_Tencode', 'Utilities_Tencode|Electrical_Tencode', 'Utilities_Tencode|KitchenQual_Tencode', 'Utilities_Tencode|Functional_Tencode', 'Utilities_Tencode|FireplaceQu_Tencode', 'Utilities_Tencode|GarageType_Tencode', 'Utilities_Tencode|GarageFinish_Tencode', 'Utilities_Tencode|GarageQual_Tencode', 'Utilities_Tencode|GarageCond_Tencode', 'Utilities_Tencode|PavedDrive_Tencode', 'Utilities_Tencode|PoolQC_Tencode', 'Utilities_Tencode|Fence_Tencode', 'Utilities_Tencode|MiscFeature_Tencode', 'Utilities_Tencode|SaleType_Tencode', 'Utilities_Tencode|SaleCondition_Tencode', 'LotConfig_Tencode|LandSlope_Tencode', 'LotConfig_Tencode|Neighborhood_Tencode', 'LotConfig_Tencode|Condition1_Tencode', 'LotConfig_Tencode|Condition2_Tencode', 'LotConfig_Tencode|BldgType_Tencode', 'LotConfig_Tencode|HouseStyle_Tencode', 'LotConfig_Tencode|RoofStyle_Tencode', 'LotConfig_Tencode|RoofMatl_Tencode', 'LotConfig_Tencode|Exterior1st_Tencode', 'LotConfig_Tencode|Exterior2nd_Tencode', 'LotConfig_Tencode|MasVnrType_Tencode', 'LotConfig_Tencode|ExterQual_Tencode', 'LotConfig_Tencode|ExterCond_Tencode', 'LotConfig_Tencode|Foundation_Tencode', 'LotConfig_Tencode|BsmtQual_Tencode', 'LotConfig_Tencode|BsmtCond_Tencode', 'LotConfig_Tencode|BsmtExposure_Tencode', 'LotConfig_Tencode|BsmtFinType1_Tencode', 'LotConfig_Tencode|BsmtFinType2_Tencode', 'LotConfig_Tencode|Heating_Tencode', 'LotConfig_Tencode|HeatingQC_Tencode', 'LotConfig_Tencode|CentralAir_Tencode', 'LotConfig_Tencode|Electrical_Tencode', 'LotConfig_Tencode|KitchenQual_Tencode', 'LotConfig_Tencode|Functional_Tencode', 'LotConfig_Tencode|FireplaceQu_Tencode', 'LotConfig_Tencode|GarageType_Tencode', 'LotConfig_Tencode|GarageFinish_Tencode', 'LotConfig_Tencode|GarageQual_Tencode', 'LotConfig_Tencode|GarageCond_Tencode', 'LotConfig_Tencode|PavedDrive_Tencode', 'LotConfig_Tencode|PoolQC_Tencode', 'LotConfig_Tencode|Fence_Tencode', 'LotConfig_Tencode|MiscFeature_Tencode', 'LotConfig_Tencode|SaleType_Tencode', 'LotConfig_Tencode|SaleCondition_Tencode', 'LandSlope_Tencode|Neighborhood_Tencode', 'LandSlope_Tencode|Condition1_Tencode', 'LandSlope_Tencode|Condition2_Tencode', 'LandSlope_Tencode|BldgType_Tencode', 'LandSlope_Tencode|HouseStyle_Tencode', 'LandSlope_Tencode|RoofStyle_Tencode', 'LandSlope_Tencode|RoofMatl_Tencode', 'LandSlope_Tencode|Exterior1st_Tencode', 'LandSlope_Tencode|Exterior2nd_Tencode', 'LandSlope_Tencode|MasVnrType_Tencode', 'LandSlope_Tencode|ExterQual_Tencode', 'LandSlope_Tencode|ExterCond_Tencode', 'LandSlope_Tencode|Foundation_Tencode', 'LandSlope_Tencode|BsmtQual_Tencode', 'LandSlope_Tencode|BsmtCond_Tencode', 'LandSlope_Tencode|BsmtExposure_Tencode', 'LandSlope_Tencode|BsmtFinType1_Tencode', 'LandSlope_Tencode|BsmtFinType2_Tencode', 'LandSlope_Tencode|Heating_Tencode', 'LandSlope_Tencode|HeatingQC_Tencode', 'LandSlope_Tencode|CentralAir_Tencode', 'LandSlope_Tencode|Electrical_Tencode', 'LandSlope_Tencode|KitchenQual_Tencode', 'LandSlope_Tencode|Functional_Tencode', 'LandSlope_Tencode|FireplaceQu_Tencode', 'LandSlope_Tencode|GarageType_Tencode', 'LandSlope_Tencode|GarageFinish_Tencode', 'LandSlope_Tencode|GarageQual_Tencode', 'LandSlope_Tencode|GarageCond_Tencode', 'LandSlope_Tencode|PavedDrive_Tencode', 'LandSlope_Tencode|PoolQC_Tencode', 'LandSlope_Tencode|Fence_Tencode', 'LandSlope_Tencode|MiscFeature_Tencode', 'LandSlope_Tencode|SaleType_Tencode', 'LandSlope_Tencode|SaleCondition_Tencode', 'Neighborhood_Tencode|Condition1_Tencode', 'Neighborhood_Tencode|Condition2_Tencode', 'Neighborhood_Tencode|BldgType_Tencode', 'Neighborhood_Tencode|HouseStyle_Tencode', 'Neighborhood_Tencode|RoofStyle_Tencode', 'Neighborhood_Tencode|RoofMatl_Tencode', 'Neighborhood_Tencode|Exterior1st_Tencode', 'Neighborhood_Tencode|Exterior2nd_Tencode', 'Neighborhood_Tencode|MasVnrType_Tencode', 'Neighborhood_Tencode|ExterQual_Tencode', 'Neighborhood_Tencode|ExterCond_Tencode', 'Neighborhood_Tencode|Foundation_Tencode', 'Neighborhood_Tencode|BsmtQual_Tencode', 'Neighborhood_Tencode|BsmtCond_Tencode', 'Neighborhood_Tencode|BsmtExposure_Tencode', 'Neighborhood_Tencode|BsmtFinType1_Tencode', 'Neighborhood_Tencode|BsmtFinType2_Tencode', 'Neighborhood_Tencode|Heating_Tencode', 'Neighborhood_Tencode|HeatingQC_Tencode', 'Neighborhood_Tencode|CentralAir_Tencode', 'Neighborhood_Tencode|Electrical_Tencode', 'Neighborhood_Tencode|KitchenQual_Tencode', 'Neighborhood_Tencode|Functional_Tencode', 'Neighborhood_Tencode|FireplaceQu_Tencode', 'Neighborhood_Tencode|GarageType_Tencode', 'Neighborhood_Tencode|GarageFinish_Tencode', 'Neighborhood_Tencode|GarageQual_Tencode', 'Neighborhood_Tencode|GarageCond_Tencode', 'Neighborhood_Tencode|PavedDrive_Tencode', 'Neighborhood_Tencode|PoolQC_Tencode', 'Neighborhood_Tencode|Fence_Tencode', 'Neighborhood_Tencode|MiscFeature_Tencode', 'Neighborhood_Tencode|SaleType_Tencode', 'Neighborhood_Tencode|SaleCondition_Tencode', 'Condition1_Tencode|Condition2_Tencode', 'Condition1_Tencode|BldgType_Tencode', 'Condition1_Tencode|HouseStyle_Tencode', 'Condition1_Tencode|RoofStyle_Tencode', 'Condition1_Tencode|RoofMatl_Tencode', 'Condition1_Tencode|Exterior1st_Tencode', 'Condition1_Tencode|Exterior2nd_Tencode', 'Condition1_Tencode|MasVnrType_Tencode', 'Condition1_Tencode|ExterQual_Tencode', 'Condition1_Tencode|ExterCond_Tencode', 'Condition1_Tencode|Foundation_Tencode', 'Condition1_Tencode|BsmtQual_Tencode', 'Condition1_Tencode|BsmtCond_Tencode', 'Condition1_Tencode|BsmtExposure_Tencode', 'Condition1_Tencode|BsmtFinType1_Tencode', 'Condition1_Tencode|BsmtFinType2_Tencode', 'Condition1_Tencode|Heating_Tencode', 'Condition1_Tencode|HeatingQC_Tencode', 'Condition1_Tencode|CentralAir_Tencode', 'Condition1_Tencode|Electrical_Tencode', 'Condition1_Tencode|KitchenQual_Tencode', 'Condition1_Tencode|Functional_Tencode', 'Condition1_Tencode|FireplaceQu_Tencode', 'Condition1_Tencode|GarageType_Tencode', 'Condition1_Tencode|GarageFinish_Tencode', 'Condition1_Tencode|GarageQual_Tencode', 'Condition1_Tencode|GarageCond_Tencode', 'Condition1_Tencode|PavedDrive_Tencode', 'Condition1_Tencode|PoolQC_Tencode', 'Condition1_Tencode|Fence_Tencode', 'Condition1_Tencode|MiscFeature_Tencode', 'Condition1_Tencode|SaleType_Tencode', 'Condition1_Tencode|SaleCondition_Tencode', 'Condition2_Tencode|BldgType_Tencode', 'Condition2_Tencode|HouseStyle_Tencode', 'Condition2_Tencode|RoofStyle_Tencode', 'Condition2_Tencode|RoofMatl_Tencode', 'Condition2_Tencode|Exterior1st_Tencode', 'Condition2_Tencode|Exterior2nd_Tencode', 'Condition2_Tencode|MasVnrType_Tencode', 'Condition2_Tencode|ExterQual_Tencode', 'Condition2_Tencode|ExterCond_Tencode', 'Condition2_Tencode|Foundation_Tencode', 'Condition2_Tencode|BsmtQual_Tencode', 'Condition2_Tencode|BsmtCond_Tencode', 'Condition2_Tencode|BsmtExposure_Tencode', 'Condition2_Tencode|BsmtFinType1_Tencode', 'Condition2_Tencode|BsmtFinType2_Tencode', 'Condition2_Tencode|Heating_Tencode', 'Condition2_Tencode|HeatingQC_Tencode', 'Condition2_Tencode|CentralAir_Tencode', 'Condition2_Tencode|Electrical_Tencode', 'Condition2_Tencode|KitchenQual_Tencode', 'Condition2_Tencode|Functional_Tencode', 'Condition2_Tencode|FireplaceQu_Tencode', 'Condition2_Tencode|GarageType_Tencode', 'Condition2_Tencode|GarageFinish_Tencode', 'Condition2_Tencode|GarageQual_Tencode', 'Condition2_Tencode|GarageCond_Tencode', 'Condition2_Tencode|PavedDrive_Tencode', 'Condition2_Tencode|PoolQC_Tencode', 'Condition2_Tencode|Fence_Tencode', 'Condition2_Tencode|MiscFeature_Tencode', 'Condition2_Tencode|SaleType_Tencode', 'Condition2_Tencode|SaleCondition_Tencode', 'BldgType_Tencode|HouseStyle_Tencode', 'BldgType_Tencode|RoofStyle_Tencode', 'BldgType_Tencode|RoofMatl_Tencode', 'BldgType_Tencode|Exterior1st_Tencode', 'BldgType_Tencode|Exterior2nd_Tencode', 'BldgType_Tencode|MasVnrType_Tencode', 'BldgType_Tencode|ExterQual_Tencode', 'BldgType_Tencode|ExterCond_Tencode', 'BldgType_Tencode|Foundation_Tencode', 'BldgType_Tencode|BsmtQual_Tencode', 'BldgType_Tencode|BsmtCond_Tencode', 'BldgType_Tencode|BsmtExposure_Tencode', 'BldgType_Tencode|BsmtFinType1_Tencode', 'BldgType_Tencode|BsmtFinType2_Tencode', 'BldgType_Tencode|Heating_Tencode', 'BldgType_Tencode|HeatingQC_Tencode', 'BldgType_Tencode|CentralAir_Tencode', 'BldgType_Tencode|Electrical_Tencode', 'BldgType_Tencode|KitchenQual_Tencode', 'BldgType_Tencode|Functional_Tencode', 'BldgType_Tencode|FireplaceQu_Tencode', 'BldgType_Tencode|GarageType_Tencode', 'BldgType_Tencode|GarageFinish_Tencode', 'BldgType_Tencode|GarageQual_Tencode', 'BldgType_Tencode|GarageCond_Tencode', 'BldgType_Tencode|PavedDrive_Tencode', 'BldgType_Tencode|PoolQC_Tencode', 'BldgType_Tencode|Fence_Tencode', 'BldgType_Tencode|MiscFeature_Tencode', 'BldgType_Tencode|SaleType_Tencode', 'BldgType_Tencode|SaleCondition_Tencode', 'HouseStyle_Tencode|RoofStyle_Tencode', 'HouseStyle_Tencode|RoofMatl_Tencode', 'HouseStyle_Tencode|Exterior1st_Tencode', 'HouseStyle_Tencode|Exterior2nd_Tencode', 'HouseStyle_Tencode|MasVnrType_Tencode', 'HouseStyle_Tencode|ExterQual_Tencode', 'HouseStyle_Tencode|ExterCond_Tencode', 'HouseStyle_Tencode|Foundation_Tencode', 'HouseStyle_Tencode|BsmtQual_Tencode', 'HouseStyle_Tencode|BsmtCond_Tencode', 'HouseStyle_Tencode|BsmtExposure_Tencode', 'HouseStyle_Tencode|BsmtFinType1_Tencode', 'HouseStyle_Tencode|BsmtFinType2_Tencode', 'HouseStyle_Tencode|Heating_Tencode', 'HouseStyle_Tencode|HeatingQC_Tencode', 'HouseStyle_Tencode|CentralAir_Tencode', 'HouseStyle_Tencode|Electrical_Tencode', 'HouseStyle_Tencode|KitchenQual_Tencode', 'HouseStyle_Tencode|Functional_Tencode', 'HouseStyle_Tencode|FireplaceQu_Tencode', 'HouseStyle_Tencode|GarageType_Tencode', 'HouseStyle_Tencode|GarageFinish_Tencode', 'HouseStyle_Tencode|GarageQual_Tencode', 'HouseStyle_Tencode|GarageCond_Tencode', 'HouseStyle_Tencode|PavedDrive_Tencode', 'HouseStyle_Tencode|PoolQC_Tencode', 'HouseStyle_Tencode|Fence_Tencode', 'HouseStyle_Tencode|MiscFeature_Tencode', 'HouseStyle_Tencode|SaleType_Tencode', 'HouseStyle_Tencode|SaleCondition_Tencode', 'RoofStyle_Tencode|RoofMatl_Tencode', 'RoofStyle_Tencode|Exterior1st_Tencode', 'RoofStyle_Tencode|Exterior2nd_Tencode', 'RoofStyle_Tencode|MasVnrType_Tencode', 'RoofStyle_Tencode|ExterQual_Tencode', 'RoofStyle_Tencode|ExterCond_Tencode', 'RoofStyle_Tencode|Foundation_Tencode', 'RoofStyle_Tencode|BsmtQual_Tencode', 'RoofStyle_Tencode|BsmtCond_Tencode', 'RoofStyle_Tencode|BsmtExposure_Tencode', 'RoofStyle_Tencode|BsmtFinType1_Tencode', 'RoofStyle_Tencode|BsmtFinType2_Tencode', 'RoofStyle_Tencode|Heating_Tencode', 'RoofStyle_Tencode|HeatingQC_Tencode', 'RoofStyle_Tencode|CentralAir_Tencode', 'RoofStyle_Tencode|Electrical_Tencode', 'RoofStyle_Tencode|KitchenQual_Tencode', 'RoofStyle_Tencode|Functional_Tencode', 'RoofStyle_Tencode|FireplaceQu_Tencode', 'RoofStyle_Tencode|GarageType_Tencode', 'RoofStyle_Tencode|GarageFinish_Tencode', 'RoofStyle_Tencode|GarageQual_Tencode', 'RoofStyle_Tencode|GarageCond_Tencode', 'RoofStyle_Tencode|PavedDrive_Tencode', 'RoofStyle_Tencode|PoolQC_Tencode', 'RoofStyle_Tencode|Fence_Tencode', 'RoofStyle_Tencode|MiscFeature_Tencode', 'RoofStyle_Tencode|SaleType_Tencode', 'RoofStyle_Tencode|SaleCondition_Tencode', 'RoofMatl_Tencode|Exterior1st_Tencode', 'RoofMatl_Tencode|Exterior2nd_Tencode', 'RoofMatl_Tencode|MasVnrType_Tencode', 'RoofMatl_Tencode|ExterQual_Tencode', 'RoofMatl_Tencode|ExterCond_Tencode', 'RoofMatl_Tencode|Foundation_Tencode', 'RoofMatl_Tencode|BsmtQual_Tencode', 'RoofMatl_Tencode|BsmtCond_Tencode', 'RoofMatl_Tencode|BsmtExposure_Tencode', 'RoofMatl_Tencode|BsmtFinType1_Tencode', 'RoofMatl_Tencode|BsmtFinType2_Tencode', 'RoofMatl_Tencode|Heating_Tencode', 'RoofMatl_Tencode|HeatingQC_Tencode', 'RoofMatl_Tencode|CentralAir_Tencode', 'RoofMatl_Tencode|Electrical_Tencode', 'RoofMatl_Tencode|KitchenQual_Tencode', 'RoofMatl_Tencode|Functional_Tencode', 'RoofMatl_Tencode|FireplaceQu_Tencode', 'RoofMatl_Tencode|GarageType_Tencode', 'RoofMatl_Tencode|GarageFinish_Tencode', 'RoofMatl_Tencode|GarageQual_Tencode', 'RoofMatl_Tencode|GarageCond_Tencode', 'RoofMatl_Tencode|PavedDrive_Tencode', 'RoofMatl_Tencode|PoolQC_Tencode', 'RoofMatl_Tencode|Fence_Tencode', 'RoofMatl_Tencode|MiscFeature_Tencode', 'RoofMatl_Tencode|SaleType_Tencode', 'RoofMatl_Tencode|SaleCondition_Tencode', 'Exterior1st_Tencode|Exterior2nd_Tencode', 'Exterior1st_Tencode|MasVnrType_Tencode', 'Exterior1st_Tencode|ExterQual_Tencode', 'Exterior1st_Tencode|ExterCond_Tencode', 'Exterior1st_Tencode|Foundation_Tencode', 'Exterior1st_Tencode|BsmtQual_Tencode', 'Exterior1st_Tencode|BsmtCond_Tencode', 'Exterior1st_Tencode|BsmtExposure_Tencode', 'Exterior1st_Tencode|BsmtFinType1_Tencode', 'Exterior1st_Tencode|BsmtFinType2_Tencode', 'Exterior1st_Tencode|Heating_Tencode', 'Exterior1st_Tencode|HeatingQC_Tencode', 'Exterior1st_Tencode|CentralAir_Tencode', 'Exterior1st_Tencode|Electrical_Tencode', 'Exterior1st_Tencode|KitchenQual_Tencode', 'Exterior1st_Tencode|Functional_Tencode', 'Exterior1st_Tencode|FireplaceQu_Tencode', 'Exterior1st_Tencode|GarageType_Tencode', 'Exterior1st_Tencode|GarageFinish_Tencode', 'Exterior1st_Tencode|GarageQual_Tencode', 'Exterior1st_Tencode|GarageCond_Tencode', 'Exterior1st_Tencode|PavedDrive_Tencode', 'Exterior1st_Tencode|PoolQC_Tencode', 'Exterior1st_Tencode|Fence_Tencode', 'Exterior1st_Tencode|MiscFeature_Tencode', 'Exterior1st_Tencode|SaleType_Tencode', 'Exterior1st_Tencode|SaleCondition_Tencode', 'Exterior2nd_Tencode|MasVnrType_Tencode', 'Exterior2nd_Tencode|ExterQual_Tencode', 'Exterior2nd_Tencode|ExterCond_Tencode', 'Exterior2nd_Tencode|Foundation_Tencode', 'Exterior2nd_Tencode|BsmtQual_Tencode', 'Exterior2nd_Tencode|BsmtCond_Tencode', 'Exterior2nd_Tencode|BsmtExposure_Tencode', 'Exterior2nd_Tencode|BsmtFinType1_Tencode', 'Exterior2nd_Tencode|BsmtFinType2_Tencode', 'Exterior2nd_Tencode|Heating_Tencode', 'Exterior2nd_Tencode|HeatingQC_Tencode', 'Exterior2nd_Tencode|CentralAir_Tencode', 'Exterior2nd_Tencode|Electrical_Tencode', 'Exterior2nd_Tencode|KitchenQual_Tencode', 'Exterior2nd_Tencode|Functional_Tencode', 'Exterior2nd_Tencode|FireplaceQu_Tencode', 'Exterior2nd_Tencode|GarageType_Tencode', 'Exterior2nd_Tencode|GarageFinish_Tencode', 'Exterior2nd_Tencode|GarageQual_Tencode', 'Exterior2nd_Tencode|GarageCond_Tencode', 'Exterior2nd_Tencode|PavedDrive_Tencode', 'Exterior2nd_Tencode|PoolQC_Tencode', 'Exterior2nd_Tencode|Fence_Tencode', 'Exterior2nd_Tencode|MiscFeature_Tencode', 'Exterior2nd_Tencode|SaleType_Tencode', 'Exterior2nd_Tencode|SaleCondition_Tencode', 'MasVnrType_Tencode|ExterQual_Tencode', 'MasVnrType_Tencode|ExterCond_Tencode', 'MasVnrType_Tencode|Foundation_Tencode', 'MasVnrType_Tencode|BsmtQual_Tencode', 'MasVnrType_Tencode|BsmtCond_Tencode', 'MasVnrType_Tencode|BsmtExposure_Tencode', 'MasVnrType_Tencode|BsmtFinType1_Tencode', 'MasVnrType_Tencode|BsmtFinType2_Tencode', 'MasVnrType_Tencode|Heating_Tencode', 'MasVnrType_Tencode|HeatingQC_Tencode', 'MasVnrType_Tencode|CentralAir_Tencode', 'MasVnrType_Tencode|Electrical_Tencode', 'MasVnrType_Tencode|KitchenQual_Tencode', 'MasVnrType_Tencode|Functional_Tencode', 'MasVnrType_Tencode|FireplaceQu_Tencode', 'MasVnrType_Tencode|GarageType_Tencode', 'MasVnrType_Tencode|GarageFinish_Tencode', 'MasVnrType_Tencode|GarageQual_Tencode', 'MasVnrType_Tencode|GarageCond_Tencode', 'MasVnrType_Tencode|PavedDrive_Tencode', 'MasVnrType_Tencode|PoolQC_Tencode', 'MasVnrType_Tencode|Fence_Tencode', 'MasVnrType_Tencode|MiscFeature_Tencode', 'MasVnrType_Tencode|SaleType_Tencode', 'MasVnrType_Tencode|SaleCondition_Tencode', 'ExterQual_Tencode|ExterCond_Tencode', 'ExterQual_Tencode|Foundation_Tencode', 'ExterQual_Tencode|BsmtQual_Tencode', 'ExterQual_Tencode|BsmtCond_Tencode', 'ExterQual_Tencode|BsmtExposure_Tencode', 'ExterQual_Tencode|BsmtFinType1_Tencode', 'ExterQual_Tencode|BsmtFinType2_Tencode', 'ExterQual_Tencode|Heating_Tencode', 'ExterQual_Tencode|HeatingQC_Tencode', 'ExterQual_Tencode|CentralAir_Tencode', 'ExterQual_Tencode|Electrical_Tencode', 'ExterQual_Tencode|KitchenQual_Tencode', 'ExterQual_Tencode|Functional_Tencode', 'ExterQual_Tencode|FireplaceQu_Tencode', 'ExterQual_Tencode|GarageType_Tencode', 'ExterQual_Tencode|GarageFinish_Tencode', 'ExterQual_Tencode|GarageQual_Tencode', 'ExterQual_Tencode|GarageCond_Tencode', 'ExterQual_Tencode|PavedDrive_Tencode', 'ExterQual_Tencode|PoolQC_Tencode', 'ExterQual_Tencode|Fence_Tencode', 'ExterQual_Tencode|MiscFeature_Tencode', 'ExterQual_Tencode|SaleType_Tencode', 'ExterQual_Tencode|SaleCondition_Tencode', 'ExterCond_Tencode|Foundation_Tencode', 'ExterCond_Tencode|BsmtQual_Tencode', 'ExterCond_Tencode|BsmtCond_Tencode', 'ExterCond_Tencode|BsmtExposure_Tencode', 'ExterCond_Tencode|BsmtFinType1_Tencode', 'ExterCond_Tencode|BsmtFinType2_Tencode', 'ExterCond_Tencode|Heating_Tencode', 'ExterCond_Tencode|HeatingQC_Tencode', 'ExterCond_Tencode|CentralAir_Tencode', 'ExterCond_Tencode|Electrical_Tencode', 'ExterCond_Tencode|KitchenQual_Tencode', 'ExterCond_Tencode|Functional_Tencode', 'ExterCond_Tencode|FireplaceQu_Tencode', 'ExterCond_Tencode|GarageType_Tencode', 'ExterCond_Tencode|GarageFinish_Tencode', 'ExterCond_Tencode|GarageQual_Tencode', 'ExterCond_Tencode|GarageCond_Tencode', 'ExterCond_Tencode|PavedDrive_Tencode', 'ExterCond_Tencode|PoolQC_Tencode', 'ExterCond_Tencode|Fence_Tencode', 'ExterCond_Tencode|MiscFeature_Tencode', 'ExterCond_Tencode|SaleType_Tencode', 'ExterCond_Tencode|SaleCondition_Tencode', 'Foundation_Tencode|BsmtQual_Tencode', 'Foundation_Tencode|BsmtCond_Tencode', 'Foundation_Tencode|BsmtExposure_Tencode', 'Foundation_Tencode|BsmtFinType1_Tencode', 'Foundation_Tencode|BsmtFinType2_Tencode', 'Foundation_Tencode|Heating_Tencode', 'Foundation_Tencode|HeatingQC_Tencode', 'Foundation_Tencode|CentralAir_Tencode', 'Foundation_Tencode|Electrical_Tencode', 'Foundation_Tencode|KitchenQual_Tencode', 'Foundation_Tencode|Functional_Tencode', 'Foundation_Tencode|FireplaceQu_Tencode', 'Foundation_Tencode|GarageType_Tencode', 'Foundation_Tencode|GarageFinish_Tencode', 'Foundation_Tencode|GarageQual_Tencode', 'Foundation_Tencode|GarageCond_Tencode', 'Foundation_Tencode|PavedDrive_Tencode', 'Foundation_Tencode|PoolQC_Tencode', 'Foundation_Tencode|Fence_Tencode', 'Foundation_Tencode|MiscFeature_Tencode', 'Foundation_Tencode|SaleType_Tencode', 'Foundation_Tencode|SaleCondition_Tencode', 'BsmtQual_Tencode|BsmtCond_Tencode', 'BsmtQual_Tencode|BsmtExposure_Tencode', 'BsmtQual_Tencode|BsmtFinType1_Tencode', 'BsmtQual_Tencode|BsmtFinType2_Tencode', 'BsmtQual_Tencode|Heating_Tencode', 'BsmtQual_Tencode|HeatingQC_Tencode', 'BsmtQual_Tencode|CentralAir_Tencode', 'BsmtQual_Tencode|Electrical_Tencode', 'BsmtQual_Tencode|KitchenQual_Tencode', 'BsmtQual_Tencode|Functional_Tencode', 'BsmtQual_Tencode|FireplaceQu_Tencode', 'BsmtQual_Tencode|GarageType_Tencode', 'BsmtQual_Tencode|GarageFinish_Tencode', 'BsmtQual_Tencode|GarageQual_Tencode', 'BsmtQual_Tencode|GarageCond_Tencode', 'BsmtQual_Tencode|PavedDrive_Tencode', 'BsmtQual_Tencode|PoolQC_Tencode', 'BsmtQual_Tencode|Fence_Tencode', 'BsmtQual_Tencode|MiscFeature_Tencode', 'BsmtQual_Tencode|SaleType_Tencode', 'BsmtQual_Tencode|SaleCondition_Tencode', 'BsmtCond_Tencode|BsmtExposure_Tencode', 'BsmtCond_Tencode|BsmtFinType1_Tencode', 'BsmtCond_Tencode|BsmtFinType2_Tencode', 'BsmtCond_Tencode|Heating_Tencode', 'BsmtCond_Tencode|HeatingQC_Tencode', 'BsmtCond_Tencode|CentralAir_Tencode', 'BsmtCond_Tencode|Electrical_Tencode', 'BsmtCond_Tencode|KitchenQual_Tencode', 'BsmtCond_Tencode|Functional_Tencode', 'BsmtCond_Tencode|FireplaceQu_Tencode', 'BsmtCond_Tencode|GarageType_Tencode', 'BsmtCond_Tencode|GarageFinish_Tencode', 'BsmtCond_Tencode|GarageQual_Tencode', 'BsmtCond_Tencode|GarageCond_Tencode', 'BsmtCond_Tencode|PavedDrive_Tencode', 'BsmtCond_Tencode|PoolQC_Tencode', 'BsmtCond_Tencode|Fence_Tencode', 'BsmtCond_Tencode|MiscFeature_Tencode', 'BsmtCond_Tencode|SaleType_Tencode', 'BsmtCond_Tencode|SaleCondition_Tencode', 'BsmtExposure_Tencode|BsmtFinType1_Tencode', 'BsmtExposure_Tencode|BsmtFinType2_Tencode', 'BsmtExposure_Tencode|Heating_Tencode', 'BsmtExposure_Tencode|HeatingQC_Tencode', 'BsmtExposure_Tencode|CentralAir_Tencode', 'BsmtExposure_Tencode|Electrical_Tencode', 'BsmtExposure_Tencode|KitchenQual_Tencode', 'BsmtExposure_Tencode|Functional_Tencode', 'BsmtExposure_Tencode|FireplaceQu_Tencode', 'BsmtExposure_Tencode|GarageType_Tencode', 'BsmtExposure_Tencode|GarageFinish_Tencode', 'BsmtExposure_Tencode|GarageQual_Tencode', 'BsmtExposure_Tencode|GarageCond_Tencode', 'BsmtExposure_Tencode|PavedDrive_Tencode', 'BsmtExposure_Tencode|PoolQC_Tencode', 'BsmtExposure_Tencode|Fence_Tencode', 'BsmtExposure_Tencode|MiscFeature_Tencode', 'BsmtExposure_Tencode|SaleType_Tencode', 'BsmtExposure_Tencode|SaleCondition_Tencode', 'BsmtFinType1_Tencode|BsmtFinType2_Tencode', 'BsmtFinType1_Tencode|Heating_Tencode', 'BsmtFinType1_Tencode|HeatingQC_Tencode', 'BsmtFinType1_Tencode|CentralAir_Tencode', 'BsmtFinType1_Tencode|Electrical_Tencode', 'BsmtFinType1_Tencode|KitchenQual_Tencode', 'BsmtFinType1_Tencode|Functional_Tencode', 'BsmtFinType1_Tencode|FireplaceQu_Tencode', 'BsmtFinType1_Tencode|GarageType_Tencode', 'BsmtFinType1_Tencode|GarageFinish_Tencode', 'BsmtFinType1_Tencode|GarageQual_Tencode', 'BsmtFinType1_Tencode|GarageCond_Tencode', 'BsmtFinType1_Tencode|PavedDrive_Tencode', 'BsmtFinType1_Tencode|PoolQC_Tencode', 'BsmtFinType1_Tencode|Fence_Tencode', 'BsmtFinType1_Tencode|MiscFeature_Tencode', 'BsmtFinType1_Tencode|SaleType_Tencode', 'BsmtFinType1_Tencode|SaleCondition_Tencode', 'BsmtFinType2_Tencode|Heating_Tencode', 'BsmtFinType2_Tencode|HeatingQC_Tencode', 'BsmtFinType2_Tencode|CentralAir_Tencode', 'BsmtFinType2_Tencode|Electrical_Tencode', 'BsmtFinType2_Tencode|KitchenQual_Tencode', 'BsmtFinType2_Tencode|Functional_Tencode', 'BsmtFinType2_Tencode|FireplaceQu_Tencode', 'BsmtFinType2_Tencode|GarageType_Tencode', 'BsmtFinType2_Tencode|GarageFinish_Tencode', 'BsmtFinType2_Tencode|GarageQual_Tencode', 'BsmtFinType2_Tencode|GarageCond_Tencode', 'BsmtFinType2_Tencode|PavedDrive_Tencode', 'BsmtFinType2_Tencode|PoolQC_Tencode', 'BsmtFinType2_Tencode|Fence_Tencode', 'BsmtFinType2_Tencode|MiscFeature_Tencode', 'BsmtFinType2_Tencode|SaleType_Tencode', 'BsmtFinType2_Tencode|SaleCondition_Tencode', 'Heating_Tencode|HeatingQC_Tencode', 'Heating_Tencode|CentralAir_Tencode', 'Heating_Tencode|Electrical_Tencode', 'Heating_Tencode|KitchenQual_Tencode', 'Heating_Tencode|Functional_Tencode', 'Heating_Tencode|FireplaceQu_Tencode', 'Heating_Tencode|GarageType_Tencode', 'Heating_Tencode|GarageFinish_Tencode', 'Heating_Tencode|GarageQual_Tencode', 'Heating_Tencode|GarageCond_Tencode', 'Heating_Tencode|PavedDrive_Tencode', 'Heating_Tencode|PoolQC_Tencode', 'Heating_Tencode|Fence_Tencode', 'Heating_Tencode|MiscFeature_Tencode', 'Heating_Tencode|SaleType_Tencode', 'Heating_Tencode|SaleCondition_Tencode', 'HeatingQC_Tencode|CentralAir_Tencode', 'HeatingQC_Tencode|Electrical_Tencode', 'HeatingQC_Tencode|KitchenQual_Tencode', 'HeatingQC_Tencode|Functional_Tencode', 'HeatingQC_Tencode|FireplaceQu_Tencode', 'HeatingQC_Tencode|GarageType_Tencode', 'HeatingQC_Tencode|GarageFinish_Tencode', 'HeatingQC_Tencode|GarageQual_Tencode', 'HeatingQC_Tencode|GarageCond_Tencode', 'HeatingQC_Tencode|PavedDrive_Tencode', 'HeatingQC_Tencode|PoolQC_Tencode', 'HeatingQC_Tencode|Fence_Tencode', 'HeatingQC_Tencode|MiscFeature_Tencode', 'HeatingQC_Tencode|SaleType_Tencode', 'HeatingQC_Tencode|SaleCondition_Tencode', 'CentralAir_Tencode|Electrical_Tencode', 'CentralAir_Tencode|KitchenQual_Tencode', 'CentralAir_Tencode|Functional_Tencode', 'CentralAir_Tencode|FireplaceQu_Tencode', 'CentralAir_Tencode|GarageType_Tencode', 'CentralAir_Tencode|GarageFinish_Tencode', 'CentralAir_Tencode|GarageQual_Tencode', 'CentralAir_Tencode|GarageCond_Tencode', 'CentralAir_Tencode|PavedDrive_Tencode', 'CentralAir_Tencode|PoolQC_Tencode', 'CentralAir_Tencode|Fence_Tencode', 'CentralAir_Tencode|MiscFeature_Tencode', 'CentralAir_Tencode|SaleType_Tencode', 'CentralAir_Tencode|SaleCondition_Tencode', 'Electrical_Tencode|KitchenQual_Tencode', 'Electrical_Tencode|Functional_Tencode', 'Electrical_Tencode|FireplaceQu_Tencode', 'Electrical_Tencode|GarageType_Tencode', 'Electrical_Tencode|GarageFinish_Tencode', 'Electrical_Tencode|GarageQual_Tencode', 'Electrical_Tencode|GarageCond_Tencode', 'Electrical_Tencode|PavedDrive_Tencode', 'Electrical_Tencode|PoolQC_Tencode', 'Electrical_Tencode|Fence_Tencode', 'Electrical_Tencode|MiscFeature_Tencode', 'Electrical_Tencode|SaleType_Tencode', 'Electrical_Tencode|SaleCondition_Tencode', 'KitchenQual_Tencode|Functional_Tencode', 'KitchenQual_Tencode|FireplaceQu_Tencode', 'KitchenQual_Tencode|GarageType_Tencode', 'KitchenQual_Tencode|GarageFinish_Tencode', 'KitchenQual_Tencode|GarageQual_Tencode', 'KitchenQual_Tencode|GarageCond_Tencode', 'KitchenQual_Tencode|PavedDrive_Tencode', 'KitchenQual_Tencode|PoolQC_Tencode', 'KitchenQual_Tencode|Fence_Tencode', 'KitchenQual_Tencode|MiscFeature_Tencode', 'KitchenQual_Tencode|SaleType_Tencode', 'KitchenQual_Tencode|SaleCondition_Tencode', 'Functional_Tencode|FireplaceQu_Tencode', 'Functional_Tencode|GarageType_Tencode', 'Functional_Tencode|GarageFinish_Tencode', 'Functional_Tencode|GarageQual_Tencode', 'Functional_Tencode|GarageCond_Tencode', 'Functional_Tencode|PavedDrive_Tencode', 'Functional_Tencode|PoolQC_Tencode', 'Functional_Tencode|Fence_Tencode', 'Functional_Tencode|MiscFeature_Tencode', 'Functional_Tencode|SaleType_Tencode', 'Functional_Tencode|SaleCondition_Tencode', 'FireplaceQu_Tencode|GarageType_Tencode', 'FireplaceQu_Tencode|GarageFinish_Tencode', 'FireplaceQu_Tencode|GarageQual_Tencode', 'FireplaceQu_Tencode|GarageCond_Tencode', 'FireplaceQu_Tencode|PavedDrive_Tencode', 'FireplaceQu_Tencode|PoolQC_Tencode', 'FireplaceQu_Tencode|Fence_Tencode', 'FireplaceQu_Tencode|MiscFeature_Tencode', 'FireplaceQu_Tencode|SaleType_Tencode', 'FireplaceQu_Tencode|SaleCondition_Tencode', 'GarageType_Tencode|GarageFinish_Tencode', 'GarageType_Tencode|GarageQual_Tencode', 'GarageType_Tencode|GarageCond_Tencode', 'GarageType_Tencode|PavedDrive_Tencode', 'GarageType_Tencode|PoolQC_Tencode', 'GarageType_Tencode|Fence_Tencode', 'GarageType_Tencode|MiscFeature_Tencode', 'GarageType_Tencode|SaleType_Tencode', 'GarageType_Tencode|SaleCondition_Tencode', 'GarageFinish_Tencode|GarageQual_Tencode', 'GarageFinish_Tencode|GarageCond_Tencode', 'GarageFinish_Tencode|PavedDrive_Tencode', 'GarageFinish_Tencode|PoolQC_Tencode', 'GarageFinish_Tencode|Fence_Tencode', 'GarageFinish_Tencode|MiscFeature_Tencode', 'GarageFinish_Tencode|SaleType_Tencode', 'GarageFinish_Tencode|SaleCondition_Tencode', 'GarageQual_Tencode|GarageCond_Tencode', 'GarageQual_Tencode|PavedDrive_Tencode', 'GarageQual_Tencode|PoolQC_Tencode', 'GarageQual_Tencode|Fence_Tencode', 'GarageQual_Tencode|MiscFeature_Tencode', 'GarageQual_Tencode|SaleType_Tencode', 'GarageQual_Tencode|SaleCondition_Tencode', 'GarageCond_Tencode|PavedDrive_Tencode', 'GarageCond_Tencode|PoolQC_Tencode', 'GarageCond_Tencode|Fence_Tencode', 'GarageCond_Tencode|MiscFeature_Tencode', 'GarageCond_Tencode|SaleType_Tencode', 'GarageCond_Tencode|SaleCondition_Tencode', 'PavedDrive_Tencode|PoolQC_Tencode', 'PavedDrive_Tencode|Fence_Tencode', 'PavedDrive_Tencode|MiscFeature_Tencode', 'PavedDrive_Tencode|SaleType_Tencode', 'PavedDrive_Tencode|SaleCondition_Tencode', 'PoolQC_Tencode|Fence_Tencode', 'PoolQC_Tencode|MiscFeature_Tencode', 'PoolQC_Tencode|SaleType_Tencode', 'PoolQC_Tencode|SaleCondition_Tencode', 'Fence_Tencode|MiscFeature_Tencode', 'Fence_Tencode|SaleType_Tencode', 'Fence_Tencode|SaleCondition_Tencode', 'MiscFeature_Tencode|SaleType_Tencode', 'MiscFeature_Tencode|SaleCondition_Tencode', 'SaleType_Tencode|SaleCondition_Tencode']\n",
      "\n",
      "Categorical = ['MSZoning', 'Street', 'Alley', 'LotShape', 'LandContour', 'Utilities', 'LotConfig', 'LandSlope', 'Neighborhood', 'Condition1', 'Condition2', 'BldgType', 'HouseStyle', 'RoofStyle', 'RoofMatl', 'Exterior1st', 'Exterior2nd', 'MasVnrType', 'ExterQual', 'ExterCond', 'Foundation', 'BsmtQual', 'BsmtCond', 'BsmtExposure', 'BsmtFinType1', 'BsmtFinType2', 'Heating', 'HeatingQC', 'CentralAir', 'Electrical', 'KitchenQual', 'Functional', 'FireplaceQu', 'GarageType', 'GarageFinish', 'GarageQual', 'GarageCond', 'PavedDrive', 'PoolQC', 'Fence', 'MiscFeature', 'SaleType', 'SaleCondition']\n"
     ]
    }
   ],
   "source": [
    "encoded_combined_nums, cats = get_type_lists(frame=train)"
   ]
  },
  {
   "cell_type": "code",
   "execution_count": 24,
   "metadata": {
    "collapsed": false
   },
   "outputs": [
    {
     "name": "stdout",
     "output_type": "stream",
     "text": [
      "True\n",
      "True\n"
     ]
    }
   ],
   "source": [
    "# check number of created variables is correct\n",
    "# 1 id column, 1 target column, 79 original + encoded numeric columns, 43 original categorical variables\n",
    "# sum(range(1, 79)) combined variables\n",
    "print(train.shape == (1001, sum(range(1, 79), (79 + 43 + 1 + 1))))\n",
    "print(test.shape == (1459, sum(range(1, 79), (79 + 43 + 1 + 1))))"
   ]
  },
  {
   "cell_type": "code",
   "execution_count": 25,
   "metadata": {
    "collapsed": false
   },
   "outputs": [
    {
     "data": {
      "text/html": [
       "<table>\n",
       "<thead>\n",
       "<tr><th style=\"text-align: right;\">  MiscVal</th><th style=\"text-align: right;\">  GarageFinish_Tencode</th><th style=\"text-align: right;\">  MiscVal|GarageFinish_Tencode</th></tr>\n",
       "</thead>\n",
       "<tbody>\n",
       "<tr><td style=\"text-align: right;\">        0</td><td style=\"text-align: right;\">                141355</td><td style=\"text-align: right;\">                             0</td></tr>\n",
       "</tbody>\n",
       "</table>"
      ]
     },
     "metadata": {},
     "output_type": "display_data"
    },
    {
     "name": "stdout",
     "output_type": "stream",
     "text": [
      "\n"
     ]
    },
    {
     "data": {
      "text/html": [
       "<table>\n",
       "<thead>\n",
       "<tr><th style=\"text-align: right;\">  MiscVal</th><th style=\"text-align: right;\">  GarageFinish_Tencode</th><th style=\"text-align: right;\">  MiscVal|GarageFinish_Tencode</th></tr>\n",
       "</thead>\n",
       "<tbody>\n",
       "<tr><td style=\"text-align: right;\">        0</td><td style=\"text-align: right;\">                143949</td><td style=\"text-align: right;\">                             0</td></tr>\n",
       "</tbody>\n",
       "</table>"
      ]
     },
     "metadata": {},
     "output_type": "display_data"
    },
    {
     "name": "stdout",
     "output_type": "stream",
     "text": [
      "\n",
      "0.0\n",
      "0.0\n"
     ]
    }
   ],
   "source": [
    "# check multiplication for a random column\n",
    "ridx = np.random.choice(sum(range(1, 79)))\n",
    "combined_only = [name for name in encoded_combined_nums if name not in encoded_nums]\n",
    "combined_check_vars = combined_only[ridx].split('|')\n",
    "combined_check_vars.append(combined_only[ridx])\n",
    "\n",
    "print(train[736, combined_check_vars])\n",
    "print(test[637, combined_check_vars])\n",
    "\n",
    "print(train[736, combined_check_vars[0]]*train[736, combined_check_vars[1]])\n",
    "print(test[637, combined_check_vars[0]]*test[637, combined_check_vars[1]])"
   ]
  },
  {
   "cell_type": "markdown",
   "metadata": {},
   "source": [
    "H. Log-transform Sales Price"
   ]
  },
  {
   "cell_type": "code",
   "execution_count": 26,
   "metadata": {
    "collapsed": true
   },
   "outputs": [],
   "source": [
    "h2o.show_progress() # turn on progress bars"
   ]
  },
  {
   "cell_type": "code",
   "execution_count": 27,
   "metadata": {
    "collapsed": false
   },
   "outputs": [
    {
     "data": {
      "text/html": [
       "<table>\n",
       "<thead>\n",
       "<tr><th style=\"text-align: right;\">  SalePrice</th></tr>\n",
       "</thead>\n",
       "<tbody>\n",
       "<tr><td style=\"text-align: right;\">    12.2477</td></tr>\n",
       "<tr><td style=\"text-align: right;\">    12.109 </td></tr>\n",
       "<tr><td style=\"text-align: right;\">    12.3172</td></tr>\n",
       "</tbody>\n",
       "</table>"
      ]
     },
     "metadata": {},
     "output_type": "display_data"
    },
    {
     "name": "stdout",
     "output_type": "stream",
     "text": [
      "\n"
     ]
    },
    {
     "data": {
      "image/png": "[encoded data removed]",
      "text/plain": [
       "<matplotlib.figure.Figure at 0x7f4877f815c0>"
      ]
     },
     "metadata": {},
     "output_type": "display_data"
    }
   ],
   "source": [
    "# Check log transform - looks good\n",
    "%matplotlib inline\n",
    "train['SalePrice'].log().as_data_frame().hist()\n",
    "\n",
    "# Execute log transform\n",
    "train['SalePrice'] = train['SalePrice'].log()\n",
    "valid['SalePrice'] = valid['SalePrice'].log()\n",
    "print(train[0:3, 'SalePrice'])"
   ]
  },
  {
   "cell_type": "markdown",
   "metadata": {},
   "source": [
    "I. Define Ranked Predictions Plot Function"
   ]
  },
  {
   "cell_type": "code",
   "execution_count": 28,
   "metadata": {
    "collapsed": true
   },
   "outputs": [],
   "source": [
    "def ranked_preds_plot(y, valid, preds):\n",
    "    \n",
    "    \"\"\" Generates ranked prediction plot.\n",
    "    \n",
    "    :param y: Name of target variable.\n",
    "    :param valid: Name of validation H2OFrame.\n",
    "    :param preds: Column vector of predictions to plot.\n",
    "\n",
    "    \"\"\"\n",
    "    \n",
    "    # plot top frame values\n",
    "    preds.columns = ['predict']\n",
    "    yhat_frame = valid.cbind(preds)\n",
    "    print(yhat_frame[0:10, [y, 'predict']])\n",
    "\n",
    "    # plot sorted predictions\n",
    "    yhat_frame_df = yhat_frame[[y, 'predict']].as_data_frame()\n",
    "    yhat_frame_df.sort_values(by='predict', inplace=True)\n",
    "    yhat_frame_df.reset_index(inplace=True, drop=True)\n",
    "    _ = yhat_frame_df.plot(title='Ranked Predictions Plot')"
   ]
  },
  {
   "cell_type": "markdown",
   "metadata": {},
   "source": [
    "J. Define Function to Generate Submission File"
   ]
  },
  {
   "cell_type": "code",
   "execution_count": 31,
   "metadata": {
    "collapsed": true
   },
   "outputs": [],
   "source": [
    "import re\n",
    "import time\n",
    "\n",
    "def gen_submission(preds, test=test):\n",
    "\n",
    "    \"\"\" Generates submission file for Kaggle House Prices contest.\n",
    "    \n",
    "    :param preds: Column vector of predictions.\n",
    "    :param test: Test data.\n",
    "    \n",
    "    \"\"\"\n",
    "    \n",
    "    # create time stamp\n",
    "    time_stamp = re.sub('[: ]', '_', time.asctime())\n",
    "\n",
    "    # create predictions column\n",
    "    sub = test['Id'].cbind(preds.exp())\n",
    "    sub.columns = ['Id', 'SalePrice']\n",
    "    \n",
    "    # save file for submission\n",
    "    sub_fname = '../data/submission_' + str(time_stamp) + '.csv'\n",
    "    h2o.download_csv(sub, sub_fname)"
   ]
  },
  {
   "cell_type": "markdown",
   "metadata": {},
   "source": [
    "K. Define Prediction Blending Function"
   ]
  },
  {
   "cell_type": "code",
   "execution_count": 32,
   "metadata": {
    "collapsed": true
   },
   "outputs": [],
   "source": [
    "import os\n",
    "\n",
    "def pred_blender(dir_, files):\n",
    "    \n",
    "    \"\"\" Performs simple blending of prediction files. \n",
    "    \n",
    "    :param dir_: Directory in which files to be read are stored.\n",
    "    :param files: List of prediction files to be blended.\n",
    "    \n",
    "    \"\"\"\n",
    "    \n",
    "    # read predictions in files list and cbind\n",
    "    for i, file in enumerate(files):\n",
    "        if i == 0:\n",
    "            df = pd.read_csv(dir_ + os.sep + file).drop('SalePrice', axis=1)\n",
    "        col = pd.read_csv(dir_ + os.sep + file).drop('Id', axis=1)\n",
    "        col.columns = ['SalePrice' + str(i)]\n",
    "        df = pd.concat([df, col], axis=1)\n",
    "        \n",
    "    # create mean prediction    \n",
    "    df['mean'] = df.iloc[:, 1:].mean(axis=1)\n",
    "    print(df.head())\n",
    "        \n",
    "    # create time stamp\n",
    "    time_stamp = re.sub('[: ]', '_', time.asctime())        \n",
    "        \n",
    "    # write new submission file    \n",
    "    df = df[['Id', 'mean']]\n",
    "    df.columns = ['Id', 'SalePrice']\n",
    "    \n",
    "    # save file for submission\n",
    "    sub_fname = '../data/submission_' + str(time_stamp) + '.csv'\n",
    "    df.to_csv(sub_fname, index=False)"
   ]
  },
  {
   "cell_type": "markdown",
   "metadata": {},
   "source": [
    "N. H2O XGBoost"
   ]
  },
  {
   "cell_type": "code",
   "execution_count": 34,
   "metadata": {
    "collapsed": false
   },
   "outputs": [
    {
     "name": "stdout",
     "output_type": "stream",
     "text": [
      "xgboost Model Build progress: |███████████████████████████████████████████| 100%\n",
      "Model Details\n",
      "=============\n",
      "H2OXGBoostEstimator :  XGBoost\n",
      "Model Key:  XGBoost_model_python_1498259532111_14\n",
      "\n",
      "\n",
      "ModelMetricsRegression: xgboost\n",
      "** Reported on train data. **\n",
      "\n",
      "MSE: 0.006249147902781442\n",
      "RMSE: 0.07905155218451718\n",
      "MAE: 0.04452643742213597\n",
      "RMSLE: 0.0061526671615094964\n",
      "Mean Residual Deviance: 0.006249147902781442\n",
      "\n",
      "ModelMetricsRegression: xgboost\n",
      "** Reported on validation data. **\n",
      "\n",
      "MSE: 0.018461613204758646\n",
      "RMSE: 0.13587351914467605\n",
      "MAE: 0.1051642847996132\n",
      "RMSLE: 0.010560618933547249\n",
      "Mean Residual Deviance: 0.018461613204758646\n",
      "\n",
      "ModelMetricsRegression: xgboost\n",
      "** Reported on cross-validation data. **\n",
      "\n",
      "MSE: 0.017153125537798124\n",
      "RMSE: 0.13096994135219778\n",
      "MAE: 0.08812153232204807\n",
      "RMSLE: 0.010136969402534158\n",
      "Mean Residual Deviance: 0.017153125537798124\n",
      "Cross-Validation Metrics Summary: \n"
     ]
    },
    {
     "data": {
      "text/html": [
       "<div style=\"overflow:auto\"><table style=\"width:50%\"><tr><td><b></b></td>\n",
       "<td><b>mean</b></td>\n",
       "<td><b>sd</b></td>\n",
       "<td><b>cv_1_valid</b></td>\n",
       "<td><b>cv_2_valid</b></td>\n",
       "<td><b>cv_3_valid</b></td></tr>\n",
       "<tr><td>mae</td>\n",
       "<td>0.0880800</td>\n",
       "<td>0.0016962</td>\n",
       "<td>0.0847976</td>\n",
       "<td>0.0889790</td>\n",
       "<td>0.0904633</td></tr>\n",
       "<tr><td>mean_residual_deviance</td>\n",
       "<td>0.0171012</td>\n",
       "<td>0.0014760</td>\n",
       "<td>0.0179675</td>\n",
       "<td>0.0191120</td>\n",
       "<td>0.0142241</td></tr>\n",
       "<tr><td>mse</td>\n",
       "<td>0.0171012</td>\n",
       "<td>0.0014760</td>\n",
       "<td>0.0179675</td>\n",
       "<td>0.0191120</td>\n",
       "<td>0.0142241</td></tr>\n",
       "<tr><td>r2</td>\n",
       "<td>0.8891434</td>\n",
       "<td>0.0016516</td>\n",
       "<td>0.8862064</td>\n",
       "<td>0.8919211</td>\n",
       "<td>0.8893027</td></tr>\n",
       "<tr><td>residual_deviance</td>\n",
       "<td>0.0171012</td>\n",
       "<td>0.0014760</td>\n",
       "<td>0.0179675</td>\n",
       "<td>0.0191120</td>\n",
       "<td>0.0142241</td></tr>\n",
       "<tr><td>rmse</td>\n",
       "<td>0.1305180</td>\n",
       "<td>0.0057559</td>\n",
       "<td>0.1340429</td>\n",
       "<td>0.1382462</td>\n",
       "<td>0.1192648</td></tr>\n",
       "<tr><td>rmsle</td>\n",
       "<td>0.0100965</td>\n",
       "<td>0.0004909</td>\n",
       "<td>0.0104083</td>\n",
       "<td>0.0107469</td>\n",
       "<td>0.0091344</td></tr></table></div>"
      ],
      "text/plain": [
       "                        mean       sd           cv_1_valid    cv_2_valid    cv_3_valid\n",
       "----------------------  ---------  -----------  ------------  ------------  ------------\n",
       "mae                     0.08808    0.00169618   0.0847976     0.088979      0.0904633\n",
       "mean_residual_deviance  0.0171012  0.00147601   0.0179675     0.019112      0.0142241\n",
       "mse                     0.0171012  0.00147601   0.0179675     0.019112      0.0142241\n",
       "r2                      0.889143   0.00165163   0.886206      0.891921      0.889303\n",
       "residual_deviance       0.0171012  0.00147601   0.0179675     0.019112      0.0142241\n",
       "rmse                    0.130518   0.00575593   0.134043      0.138246      0.119265\n",
       "rmsle                   0.0100965  0.000490879  0.0104083     0.0107469     0.00913444"
      ]
     },
     "metadata": {},
     "output_type": "display_data"
    },
    {
     "name": "stdout",
     "output_type": "stream",
     "text": [
      "Scoring History: \n"
     ]
    },
    {
     "data": {
      "text/html": [
       "<div style=\"overflow:auto\"><table style=\"width:50%\"><tr><td><b></b></td>\n",
       "<td><b>timestamp</b></td>\n",
       "<td><b>duration</b></td>\n",
       "<td><b>number_of_trees</b></td>\n",
       "<td><b>training_rmse</b></td>\n",
       "<td><b>training_mae</b></td>\n",
       "<td><b>training_deviance</b></td>\n",
       "<td><b>validation_rmse</b></td>\n",
       "<td><b>validation_mae</b></td>\n",
       "<td><b>validation_deviance</b></td></tr>\n",
       "<tr><td></td>\n",
       "<td>2017-06-23 17:30:05</td>\n",
       "<td>12 min 34.902 sec</td>\n",
       "<td>0.0</td>\n",
       "<td>11.5392208</td>\n",
       "<td>11.5324996</td>\n",
       "<td>133.1536163</td>\n",
       "<td>11.5129466</td>\n",
       "<td>11.5056257</td>\n",
       "<td>132.5479390</td></tr>\n",
       "<tr><td></td>\n",
       "<td>2017-06-23 17:30:06</td>\n",
       "<td>12 min 36.540 sec</td>\n",
       "<td>1.0</td>\n",
       "<td>11.4819725</td>\n",
       "<td>11.4752177</td>\n",
       "<td>131.8356917</td>\n",
       "<td>11.4557013</td>\n",
       "<td>11.4483439</td>\n",
       "<td>131.2330931</td></tr>\n",
       "<tr><td></td>\n",
       "<td>2017-06-23 17:30:06</td>\n",
       "<td>12 min 36.560 sec</td>\n",
       "<td>2.0</td>\n",
       "<td>11.4252392</td>\n",
       "<td>11.4184509</td>\n",
       "<td>130.5360912</td>\n",
       "<td>11.3989712</td>\n",
       "<td>11.3915771</td>\n",
       "<td>129.9365437</td></tr>\n",
       "<tr><td></td>\n",
       "<td>2017-06-23 17:30:06</td>\n",
       "<td>12 min 36.580 sec</td>\n",
       "<td>3.0</td>\n",
       "<td>11.3686105</td>\n",
       "<td>11.3617884</td>\n",
       "<td>129.2453045</td>\n",
       "<td>11.3423455</td>\n",
       "<td>11.3349145</td>\n",
       "<td>128.6488025</td></tr>\n",
       "<tr><td></td>\n",
       "<td>2017-06-23 17:30:06</td>\n",
       "<td>12 min 36.600 sec</td>\n",
       "<td>4.0</td>\n",
       "<td>11.3123222</td>\n",
       "<td>11.3054661</td>\n",
       "<td>127.9686331</td>\n",
       "<td>11.2860604</td>\n",
       "<td>11.2785922</td>\n",
       "<td>127.3751584</td></tr>\n",
       "<tr><td>---</td>\n",
       "<td>---</td>\n",
       "<td>---</td>\n",
       "<td>---</td>\n",
       "<td>---</td>\n",
       "<td>---</td>\n",
       "<td>---</td>\n",
       "<td>---</td>\n",
       "<td>---</td>\n",
       "<td>---</td></tr>\n",
       "<tr><td></td>\n",
       "<td>2017-06-23 17:34:44</td>\n",
       "<td>17 min 14.447 sec</td>\n",
       "<td>4879.0</td>\n",
       "<td>0.0806099</td>\n",
       "<td>0.0456638</td>\n",
       "<td>0.0064980</td>\n",
       "<td>0.1341500</td>\n",
       "<td>0.1035046</td>\n",
       "<td>0.0179962</td></tr>\n",
       "<tr><td></td>\n",
       "<td>2017-06-23 17:34:48</td>\n",
       "<td>17 min 18.497 sec</td>\n",
       "<td>4944.0</td>\n",
       "<td>0.0802204</td>\n",
       "<td>0.0454222</td>\n",
       "<td>0.0064353</td>\n",
       "<td>0.1346284</td>\n",
       "<td>0.1041173</td>\n",
       "<td>0.0181248</td></tr>\n",
       "<tr><td></td>\n",
       "<td>2017-06-23 17:34:52</td>\n",
       "<td>17 min 22.541 sec</td>\n",
       "<td>5006.0</td>\n",
       "<td>0.0798129</td>\n",
       "<td>0.0451062</td>\n",
       "<td>0.0063701</td>\n",
       "<td>0.1352055</td>\n",
       "<td>0.1047045</td>\n",
       "<td>0.0182805</td></tr>\n",
       "<tr><td></td>\n",
       "<td>2017-06-23 17:34:56</td>\n",
       "<td>17 min 26.542 sec</td>\n",
       "<td>5067.0</td>\n",
       "<td>0.0794222</td>\n",
       "<td>0.0448352</td>\n",
       "<td>0.0063079</td>\n",
       "<td>0.1361481</td>\n",
       "<td>0.1055130</td>\n",
       "<td>0.0185363</td></tr>\n",
       "<tr><td></td>\n",
       "<td>2017-06-23 17:35:00</td>\n",
       "<td>17 min 30.583 sec</td>\n",
       "<td>5132.0</td>\n",
       "<td>0.0790516</td>\n",
       "<td>0.0445264</td>\n",
       "<td>0.0062491</td>\n",
       "<td>0.1358735</td>\n",
       "<td>0.1051643</td>\n",
       "<td>0.0184616</td></tr></table></div>"
      ],
      "text/plain": [
       "     timestamp            duration           number_of_trees    training_rmse        training_mae         training_deviance      validation_rmse      validation_mae       validation_deviance\n",
       "---  -------------------  -----------------  -----------------  -------------------  -------------------  ---------------------  -------------------  -------------------  ---------------------\n",
       "     2017-06-23 17:30:05  12 min 34.902 sec  0.0                11.53922078459229    11.532499576305652   133.1536163155667      11.512946582875738   11.505625745569699   132.54793902015015\n",
       "     2017-06-23 17:30:06  12 min 36.540 sec  1.0                11.481972463980574   11.475217724537158   131.83569166360815     11.455701337489975   11.448343893801205   131.23309313376961\n",
       "     2017-06-23 17:30:06  12 min 36.560 sec  2.0                11.425239217219547   11.418450916504169   130.53609117069152     11.398971169541305   11.391577085768215   129.93654372403387\n",
       "     2017-06-23 17:30:06  12 min 36.580 sec  3.0                11.368610491490207   11.361788356994891   129.24530450722122     11.342345548458232   11.334914526258938   128.64880254063027\n",
       "     2017-06-23 17:30:06  12 min 36.600 sec  4.0                11.312322181285818   11.305466080402637   127.96863313321113     11.286060355911435   11.278592249666684   127.37515835727572\n",
       "---  ---                  ---                ---                ---                  ---                  ---                    ---                  ---                  ---\n",
       "     2017-06-23 17:34:44  17 min 14.447 sec  4879.0             0.08060987213003584  0.04566383075999928  0.006497951484820729   0.13414997604795173  0.10350460268573304  0.01799621607366602\n",
       "     2017-06-23 17:34:48  17 min 18.497 sec  4944.0             0.0802204304737271   0.0454222386652654   0.0064353174653900835  0.13462841344638726  0.10411728752983941  0.018124809707091384\n",
       "     2017-06-23 17:34:52  17 min 22.541 sec  5006.0             0.07981294664032382  0.04510621614865847  0.006370106451411177   0.13520550690897493  0.10470451404845793  0.018280529098512868\n",
       "     2017-06-23 17:34:56  17 min 26.542 sec  5067.0             0.07942222752470048  0.04483516494949143  0.006307890224985289   0.13614812775349902  0.10551296392037718  0.01853631269078309\n",
       "     2017-06-23 17:35:00  17 min 30.583 sec  5132.0             0.07905155218451718  0.04452643742213597  0.006249147902781442   0.13587351914467605  0.1051642847996132   0.018461613204758646"
      ]
     },
     "metadata": {},
     "output_type": "display_data"
    },
    {
     "name": "stdout",
     "output_type": "stream",
     "text": [
      "\n",
      "See the whole table with table.as_data_frame()\n",
      "Variable Importances: \n"
     ]
    },
    {
     "data": {
      "text/html": [
       "<div style=\"overflow:auto\"><table style=\"width:50%\"><tr><td><b>variable</b></td>\n",
       "<td><b>relative_importance</b></td>\n",
       "<td><b>scaled_importance</b></td>\n",
       "<td><b>percentage</b></td></tr>\n",
       "<tr><td>LotFrontage|MoSold</td>\n",
       "<td>129.0</td>\n",
       "<td>1.0</td>\n",
       "<td>0.0047675</td></tr>\n",
       "<tr><td>MSSubClass|LotFrontage</td>\n",
       "<td>109.0</td>\n",
       "<td>0.8449612</td>\n",
       "<td>0.0040284</td></tr>\n",
       "<tr><td>MSSubClass|BsmtUnfSF</td>\n",
       "<td>104.0</td>\n",
       "<td>0.8062016</td>\n",
       "<td>0.0038436</td></tr>\n",
       "<tr><td>LotFrontage|BsmtUnfSF</td>\n",
       "<td>94.0</td>\n",
       "<td>0.7286822</td>\n",
       "<td>0.0034740</td></tr>\n",
       "<tr><td>TotalBsmtSF|MoSold</td>\n",
       "<td>92.0</td>\n",
       "<td>0.7131783</td>\n",
       "<td>0.0034001</td></tr>\n",
       "<tr><td>---</td>\n",
       "<td>---</td>\n",
       "<td>---</td>\n",
       "<td>---</td></tr>\n",
       "<tr><td>BldgType_Tencode|Heating_Tencode</td>\n",
       "<td>1.0</td>\n",
       "<td>0.0077519</td>\n",
       "<td>0.0000370</td></tr>\n",
       "<tr><td>Exterior2nd_Tencode|Electrical_Tencode</td>\n",
       "<td>1.0</td>\n",
       "<td>0.0077519</td>\n",
       "<td>0.0000370</td></tr>\n",
       "<tr><td>BsmtFinSF2|TotalBsmtSF</td>\n",
       "<td>1.0</td>\n",
       "<td>0.0077519</td>\n",
       "<td>0.0000370</td></tr>\n",
       "<tr><td>MSSubClass|GarageQual_Tencode</td>\n",
       "<td>1.0</td>\n",
       "<td>0.0077519</td>\n",
       "<td>0.0000370</td></tr>\n",
       "<tr><td>KitchenQual_Tencode|GarageCond_Tencode</td>\n",
       "<td>1.0</td>\n",
       "<td>0.0077519</td>\n",
       "<td>0.0000370</td></tr></table></div>"
      ],
      "text/plain": [
       "variable                                relative_importance    scaled_importance     percentage\n",
       "--------------------------------------  ---------------------  --------------------  ---------------------\n",
       "LotFrontage|MoSold                      129.0                  1.0                   0.004767536403281839\n",
       "MSSubClass|LotFrontage                  109.0                  0.8449612403100775    0.0040283834725404685\n",
       "MSSubClass|BsmtUnfSF                    104.0                  0.8062015503875969    0.003843595239855126\n",
       "LotFrontage|BsmtUnfSF                   94.0                   0.7286821705426356    0.0034740187744844407\n",
       "TotalBsmtSF|MoSold                      92.0                   0.7131782945736435    0.003400103481410304\n",
       "---                                     ---                    ---                   ---\n",
       "BldgType_Tencode|Heating_Tencode        1.0                    0.007751937984496124  3.695764653706852e-05\n",
       "Exterior2nd_Tencode|Electrical_Tencode  1.0                    0.007751937984496124  3.695764653706852e-05\n",
       "BsmtFinSF2|TotalBsmtSF                  1.0                    0.007751937984496124  3.695764653706852e-05\n",
       "MSSubClass|GarageQual_Tencode           1.0                    0.007751937984496124  3.695764653706852e-05\n",
       "KitchenQual_Tencode|GarageCond_Tencode  1.0                    0.007751937984496124  3.695764653706852e-05"
      ]
     },
     "metadata": {},
     "output_type": "display_data"
    },
    {
     "name": "stdout",
     "output_type": "stream",
     "text": [
      "\n",
      "See the whole table with table.as_data_frame()\n",
      "\n",
      "xgboost prediction progress: |████████████████████████████████████████████| 100%\n"
     ]
    },
    {
     "data": {
      "text/html": [
       "<table>\n",
       "<thead>\n",
       "<tr><th style=\"text-align: right;\">  SalePrice</th><th style=\"text-align: right;\">  predict</th></tr>\n",
       "</thead>\n",
       "<tbody>\n",
       "<tr><td style=\"text-align: right;\">    11.8494</td><td style=\"text-align: right;\">  12.034 </td></tr>\n",
       "<tr><td style=\"text-align: right;\">    12.2061</td><td style=\"text-align: right;\">  12.2803</td></tr>\n",
       "<tr><td style=\"text-align: right;\">    11.6784</td><td style=\"text-align: right;\">  11.5962</td></tr>\n",
       "<tr><td style=\"text-align: right;\">    11.7906</td><td style=\"text-align: right;\">  11.5897</td></tr>\n",
       "<tr><td style=\"text-align: right;\">    11.9117</td><td style=\"text-align: right;\">  11.8548</td></tr>\n",
       "<tr><td style=\"text-align: right;\">    11.9767</td><td style=\"text-align: right;\">  11.9089</td></tr>\n",
       "<tr><td style=\"text-align: right;\">    11.8451</td><td style=\"text-align: right;\">  11.587 </td></tr>\n",
       "<tr><td style=\"text-align: right;\">    11.1346</td><td style=\"text-align: right;\">  11.0992</td></tr>\n",
       "<tr><td style=\"text-align: right;\">    11.914 </td><td style=\"text-align: right;\">  11.8051</td></tr>\n",
       "<tr><td style=\"text-align: right;\">    11.8845</td><td style=\"text-align: right;\">  11.8596</td></tr>\n",
       "</tbody>\n",
       "</table>"
      ]
     },
     "metadata": {},
     "output_type": "display_data"
    },
    {
     "name": "stdout",
     "output_type": "stream",
     "text": [
      "\n",
      "xgboost prediction progress: |████████████████████████████████████████████| 100%\n"
     ]
    },
    {
     "ename": "FileNotFoundError",
     "evalue": "[Errno 2] No such file or directory: '../data/submission_Fri_Jun_23_17_35_05_2017.csv'",
     "output_type": "error",
     "traceback": [
      "\u001b[0;31m---------------------------------------------------------------------------\u001b[0m",
      "\u001b[0;31mFileNotFoundError\u001b[0m                         Traceback (most recent call last)",
      "\u001b[0;32m<ipython-input-34-ccb817cf81e1>\u001b[0m in \u001b[0;36m<module>\u001b[0;34m()\u001b[0m\n\u001b[1;32m     22\u001b[0m \u001b[0mranked_preds_plot\u001b[0m\u001b[0;34m(\u001b[0m\u001b[0;34m'SalePrice'\u001b[0m\u001b[0;34m,\u001b[0m \u001b[0mvalid\u001b[0m\u001b[0;34m,\u001b[0m \u001b[0mh2o_xgb_preds1_val\u001b[0m\u001b[0;34m)\u001b[0m\u001b[0;34m\u001b[0m\u001b[0m\n\u001b[1;32m     23\u001b[0m \u001b[0mh2o_xgb_preds1_test\u001b[0m \u001b[0;34m=\u001b[0m \u001b[0mh2o_xgb_model\u001b[0m\u001b[0;34m.\u001b[0m\u001b[0mpredict\u001b[0m\u001b[0;34m(\u001b[0m\u001b[0mtest\u001b[0m\u001b[0;34m)\u001b[0m\u001b[0;34m\u001b[0m\u001b[0m\n\u001b[0;32m---> 24\u001b[0;31m \u001b[0mgen_submission\u001b[0m\u001b[0;34m(\u001b[0m\u001b[0mh2o_xgb_preds1_test\u001b[0m\u001b[0;34m)\u001b[0m \u001b[0;31m# 0.16494 on public leaderboard\u001b[0m\u001b[0;34m\u001b[0m\u001b[0m\n\u001b[0m",
      "\u001b[0;32m<ipython-input-31-d4d7817e1181>\u001b[0m in \u001b[0;36mgen_submission\u001b[0;34m(preds, test)\u001b[0m\n\u001b[1;32m     20\u001b[0m     \u001b[0;31m# save file for submission\u001b[0m\u001b[0;34m\u001b[0m\u001b[0;34m\u001b[0m\u001b[0m\n\u001b[1;32m     21\u001b[0m     \u001b[0msub_fname\u001b[0m \u001b[0;34m=\u001b[0m \u001b[0;34m'../data/submission_'\u001b[0m \u001b[0;34m+\u001b[0m \u001b[0mstr\u001b[0m\u001b[0;34m(\u001b[0m\u001b[0mtime_stamp\u001b[0m\u001b[0;34m)\u001b[0m \u001b[0;34m+\u001b[0m \u001b[0;34m'.csv'\u001b[0m\u001b[0;34m\u001b[0m\u001b[0m\n\u001b[0;32m---> 22\u001b[0;31m     \u001b[0mh2o\u001b[0m\u001b[0;34m.\u001b[0m\u001b[0mdownload_csv\u001b[0m\u001b[0;34m(\u001b[0m\u001b[0msub\u001b[0m\u001b[0;34m,\u001b[0m \u001b[0msub_fname\u001b[0m\u001b[0;34m)\u001b[0m\u001b[0;34m\u001b[0m\u001b[0m\n\u001b[0m",
      "\u001b[0;32m/home/choen51/anaconda3/lib/python3.6/site-packages/h2o/h2o.py\u001b[0m in \u001b[0;36mdownload_csv\u001b[0;34m(data, filename)\u001b[0m\n\u001b[1;32m    896\u001b[0m     \u001b[0massert_is_type\u001b[0m\u001b[0;34m(\u001b[0m\u001b[0mfilename\u001b[0m\u001b[0;34m,\u001b[0m \u001b[0mstr\u001b[0m\u001b[0;34m)\u001b[0m\u001b[0;34m\u001b[0m\u001b[0m\n\u001b[1;32m    897\u001b[0m     \u001b[0murl\u001b[0m \u001b[0;34m=\u001b[0m \u001b[0mh2oconn\u001b[0m\u001b[0;34m.\u001b[0m\u001b[0mmake_url\u001b[0m\u001b[0;34m(\u001b[0m\u001b[0;34m\"DownloadDataset\"\u001b[0m\u001b[0;34m,\u001b[0m \u001b[0;36m3\u001b[0m\u001b[0;34m)\u001b[0m \u001b[0;34m+\u001b[0m \u001b[0;34m\"?frame_id={}&hex_string=false\"\u001b[0m\u001b[0;34m.\u001b[0m\u001b[0mformat\u001b[0m\u001b[0;34m(\u001b[0m\u001b[0mdata\u001b[0m\u001b[0;34m.\u001b[0m\u001b[0mframe_id\u001b[0m\u001b[0;34m)\u001b[0m\u001b[0;34m\u001b[0m\u001b[0m\n\u001b[0;32m--> 898\u001b[0;31m     \u001b[0;32mwith\u001b[0m \u001b[0mopen\u001b[0m\u001b[0;34m(\u001b[0m\u001b[0mfilename\u001b[0m\u001b[0;34m,\u001b[0m \u001b[0;34m\"wb\"\u001b[0m\u001b[0;34m)\u001b[0m \u001b[0;32mas\u001b[0m \u001b[0mf\u001b[0m\u001b[0;34m:\u001b[0m\u001b[0;34m\u001b[0m\u001b[0m\n\u001b[0m\u001b[1;32m    899\u001b[0m         \u001b[0mf\u001b[0m\u001b[0;34m.\u001b[0m\u001b[0mwrite\u001b[0m\u001b[0;34m(\u001b[0m\u001b[0murlopen\u001b[0m\u001b[0;34m(\u001b[0m\u001b[0;34m)\u001b[0m\u001b[0;34m(\u001b[0m\u001b[0murl\u001b[0m\u001b[0;34m)\u001b[0m\u001b[0;34m.\u001b[0m\u001b[0mread\u001b[0m\u001b[0;34m(\u001b[0m\u001b[0;34m)\u001b[0m\u001b[0;34m)\u001b[0m\u001b[0;34m\u001b[0m\u001b[0m\n\u001b[1;32m    900\u001b[0m \u001b[0;34m\u001b[0m\u001b[0m\n",
      "\u001b[0;31mFileNotFoundError\u001b[0m: [Errno 2] No such file or directory: '../data/submission_Fri_Jun_23_17_35_05_2017.csv'"
     ]
    },
    {
     "data": {
      "image/png": "[encoded data removed]",
      "text/plain": [
       "<matplotlib.figure.Figure at 0x7f4877cd7198>"
      ]
     },
     "metadata": {},
     "output_type": "display_data"
    }
   ],
   "source": [
    "# initialize XGB GBM\n",
    "h2o_xgb_model = H2OXGBoostEstimator(\n",
    "    ntrees = 10000,\n",
    "    learn_rate = 0.005,\n",
    "    sample_rate = 0.1, \n",
    "    col_sample_rate = 0.8,\n",
    "    max_depth = 5,\n",
    "    nfolds = 3,\n",
    "    keep_cross_validation_predictions=True,\n",
    "    stopping_rounds = 10,\n",
    "    seed = 12345)\n",
    "\n",
    "# execute training \n",
    "h2o_xgb_model.train(x=encoded_combined_nums,\n",
    "                    y='SalePrice',\n",
    "                    training_frame=train,\n",
    "                    validation_frame=valid)\n",
    "\n",
    "# print model information/create submission\n",
    "print(h2o_xgb_model)\n",
    "h2o_xgb_preds1_val = h2o_xgb_model.predict(valid)\n",
    "ranked_preds_plot('SalePrice', valid, h2o_xgb_preds1_val) \n",
    "h2o_xgb_preds1_test = h2o_xgb_model.predict(test)\n",
    "gen_submission(h2o_xgb_preds1_test) # 0.16494 on public leaderboard"
   ]
  },
  {
   "cell_type": "code",
   "execution_count": null,
   "metadata": {
    "collapsed": true
   },
   "outputs": [],
   "source": []
  }
 ],
 "metadata": {
  "kernelspec": {
   "display_name": "Python [default]",
   "language": "python",
   "name": "python3"
  },
  "language_info": {
   "codemirror_mode": {
    "name": "ipython",
    "version": 3
   },
   "file_extension": ".py",
   "mimetype": "text/x-python",
   "name": "python",
   "nbconvert_exporter": "python",
   "pygments_lexer": "ipython3",
   "version": "3.5.2"
  }
 },
 "nbformat": 4,
 "nbformat_minor": 2
}
